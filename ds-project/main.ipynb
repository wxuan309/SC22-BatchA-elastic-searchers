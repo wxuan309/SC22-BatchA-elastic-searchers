{
 "cells": [
  {
   "cell_type": "markdown",
   "metadata": {
    "collapsed": false
   },
   "source": [
    "### Import Packages\n",
    "\n"
   ]
  },
  {
   "cell_type": "code",
   "execution_count": 7,
   "metadata": {
    "collapsed": false
   },
   "outputs": [
   ],
   "source": [
    "import pandas as pd\n",
    "import plotly.express as px"
   ]
  },
  {
   "cell_type": "code",
   "execution_count": 26,
   "metadata": {
    "collapsed": false
   },
   "outputs": [
   ],
   "source": [
    "diabetes = pd.read_csv(\"./Data/diabetes_dataset__2019.csv\")\n"
   ]
  },
  {
   "cell_type": "markdown",
   "metadata": {
    "collapsed": false
   },
   "source": [
    "### Load Dataset\n",
    "\n"
   ]
  },
  {
   "cell_type": "code",
   "execution_count": 22,
   "metadata": {
    "collapsed": false,
    "scrolled": true
   },
   "outputs": [
    {
     "data": {
      "text/html": [
       "<div>\n",
       "<style scoped>\n",
       "    .dataframe tbody tr th:only-of-type {\n",
       "        vertical-align: middle;\n",
       "    }\n",
       "\n",
       "    .dataframe tbody tr th {\n",
       "        vertical-align: top;\n",
       "    }\n",
       "\n",
       "    .dataframe thead th {\n",
       "        text-align: right;\n",
       "    }\n",
       "</style>\n",
       "<table border=\"1\" class=\"dataframe\">\n",
       "  <thead>\n",
       "    <tr style=\"text-align: right;\">\n",
       "      <th></th>\n",
       "      <th>Age</th>\n",
       "      <th>Gender</th>\n",
       "      <th>Family_Diabetes</th>\n",
       "      <th>highBP</th>\n",
       "      <th>PhysicallyActive</th>\n",
       "      <th>BMI</th>\n",
       "      <th>Smoking</th>\n",
       "      <th>Alcohol</th>\n",
       "      <th>Sleep</th>\n",
       "      <th>SoundSleep</th>\n",
       "      <th>RegularMedicine</th>\n",
       "      <th>JunkFood</th>\n",
       "      <th>Stress</th>\n",
       "      <th>BPLevel</th>\n",
       "      <th>Pregancies</th>\n",
       "      <th>Pdiabetes</th>\n",
       "      <th>UriationFreq</th>\n",
       "      <th>Diabetic</th>\n",
       "    </tr>\n",
       "  </thead>\n",
       "  <tbody>\n",
       "    <tr>\n",
       "      <th>0</th>\n",
       "      <td>50-59</td>\n",
       "      <td>Male</td>\n",
       "      <td>no</td>\n",
       "      <td>yes</td>\n",
       "      <td>one hr or more</td>\n",
       "      <td>39.0</td>\n",
       "      <td>no</td>\n",
       "      <td>no</td>\n",
       "      <td>8</td>\n",
       "      <td>6</td>\n",
       "      <td>no</td>\n",
       "      <td>occasionally</td>\n",
       "      <td>sometimes</td>\n",
       "      <td>high</td>\n",
       "      <td>0.0</td>\n",
       "      <td>0</td>\n",
       "      <td>not much</td>\n",
       "      <td>no</td>\n",
       "    </tr>\n",
       "    <tr>\n",
       "      <th>1</th>\n",
       "      <td>50-59</td>\n",
       "      <td>Male</td>\n",
       "      <td>no</td>\n",
       "      <td>yes</td>\n",
       "      <td>less than half an hr</td>\n",
       "      <td>28.0</td>\n",
       "      <td>no</td>\n",
       "      <td>no</td>\n",
       "      <td>8</td>\n",
       "      <td>6</td>\n",
       "      <td>yes</td>\n",
       "      <td>very often</td>\n",
       "      <td>sometimes</td>\n",
       "      <td>normal</td>\n",
       "      <td>0.0</td>\n",
       "      <td>0</td>\n",
       "      <td>not much</td>\n",
       "      <td>no</td>\n",
       "    </tr>\n",
       "    <tr>\n",
       "      <th>2</th>\n",
       "      <td>40-49</td>\n",
       "      <td>Male</td>\n",
       "      <td>no</td>\n",
       "      <td>no</td>\n",
       "      <td>one hr or more</td>\n",
       "      <td>24.0</td>\n",
       "      <td>no</td>\n",
       "      <td>no</td>\n",
       "      <td>6</td>\n",
       "      <td>6</td>\n",
       "      <td>no</td>\n",
       "      <td>occasionally</td>\n",
       "      <td>sometimes</td>\n",
       "      <td>normal</td>\n",
       "      <td>0.0</td>\n",
       "      <td>0</td>\n",
       "      <td>not much</td>\n",
       "      <td>no</td>\n",
       "    </tr>\n",
       "    <tr>\n",
       "      <th>3</th>\n",
       "      <td>50-59</td>\n",
       "      <td>Male</td>\n",
       "      <td>no</td>\n",
       "      <td>no</td>\n",
       "      <td>one hr or more</td>\n",
       "      <td>23.0</td>\n",
       "      <td>no</td>\n",
       "      <td>no</td>\n",
       "      <td>8</td>\n",
       "      <td>6</td>\n",
       "      <td>no</td>\n",
       "      <td>occasionally</td>\n",
       "      <td>sometimes</td>\n",
       "      <td>normal</td>\n",
       "      <td>0.0</td>\n",
       "      <td>0</td>\n",
       "      <td>not much</td>\n",
       "      <td>no</td>\n",
       "    </tr>\n",
       "    <tr>\n",
       "      <th>4</th>\n",
       "      <td>40-49</td>\n",
       "      <td>Male</td>\n",
       "      <td>no</td>\n",
       "      <td>no</td>\n",
       "      <td>less than half an hr</td>\n",
       "      <td>27.0</td>\n",
       "      <td>no</td>\n",
       "      <td>no</td>\n",
       "      <td>8</td>\n",
       "      <td>8</td>\n",
       "      <td>no</td>\n",
       "      <td>occasionally</td>\n",
       "      <td>sometimes</td>\n",
       "      <td>normal</td>\n",
       "      <td>0.0</td>\n",
       "      <td>0</td>\n",
       "      <td>not much</td>\n",
       "      <td>no</td>\n",
       "    </tr>\n",
       "  </tbody>\n",
       "</table>\n",
       "</div>"
      ],
      "text/plain": [
       "     Age Gender Family_Diabetes highBP      PhysicallyActive   BMI Smoking  \\\n",
       "0  50-59   Male              no    yes        one hr or more  39.0      no   \n",
       "1  50-59   Male              no    yes  less than half an hr  28.0      no   \n",
       "2  40-49   Male              no     no        one hr or more  24.0      no   \n",
       "3  50-59   Male              no     no        one hr or more  23.0      no   \n",
       "4  40-49   Male              no     no  less than half an hr  27.0      no   \n",
       "\n",
       "  Alcohol  Sleep  SoundSleep RegularMedicine      JunkFood     Stress BPLevel  \\\n",
       "0      no      8           6              no  occasionally  sometimes    high   \n",
       "1      no      8           6             yes    very often  sometimes  normal   \n",
       "2      no      6           6              no  occasionally  sometimes  normal   \n",
       "3      no      8           6              no  occasionally  sometimes  normal   \n",
       "4      no      8           8              no  occasionally  sometimes  normal   \n",
       "\n",
       "   Pregancies Pdiabetes UriationFreq Diabetic  \n",
       "0         0.0         0     not much       no  \n",
       "1         0.0         0     not much       no  \n",
       "2         0.0         0     not much       no  \n",
       "3         0.0         0     not much       no  \n",
       "4         0.0         0     not much       no  "
      ]
     },
     "execution_count": 22,
     "metadata": {
     },
     "output_type": "execute_result"
    }
   ],
   "source": [
    "diabetes.head()"
   ]
  },
  {
   "cell_type": "code",
   "execution_count": 15,
   "metadata": {
    "collapsed": false,
    "scrolled": true
   },
   "outputs": [
    {
     "data": {
      "text/html": [
       "<div>\n",
       "<style scoped>\n",
       "    .dataframe tbody tr th:only-of-type {\n",
       "        vertical-align: middle;\n",
       "    }\n",
       "\n",
       "    .dataframe tbody tr th {\n",
       "        vertical-align: top;\n",
       "    }\n",
       "\n",
       "    .dataframe thead th {\n",
       "        text-align: right;\n",
       "    }\n",
       "</style>\n",
       "<table border=\"1\" class=\"dataframe\">\n",
       "  <thead>\n",
       "    <tr style=\"text-align: right;\">\n",
       "      <th></th>\n",
       "      <th>Age</th>\n",
       "      <th>Gender</th>\n",
       "      <th>Family_Diabetes</th>\n",
       "      <th>highBP</th>\n",
       "      <th>PhysicallyActive</th>\n",
       "      <th>BMI</th>\n",
       "      <th>Smoking</th>\n",
       "      <th>Alcohol</th>\n",
       "      <th>Sleep</th>\n",
       "      <th>SoundSleep</th>\n",
       "      <th>RegularMedicine</th>\n",
       "      <th>JunkFood</th>\n",
       "      <th>Stress</th>\n",
       "      <th>BPLevel</th>\n",
       "      <th>Pregancies</th>\n",
       "      <th>Pdiabetes</th>\n",
       "      <th>UriationFreq</th>\n",
       "      <th>Diabetic</th>\n",
       "    </tr>\n",
       "  </thead>\n",
       "  <tbody>\n",
       "    <tr>\n",
       "      <th>947</th>\n",
       "      <td>less than 40</td>\n",
       "      <td>Male</td>\n",
       "      <td>yes</td>\n",
       "      <td>no</td>\n",
       "      <td>more than half an hr</td>\n",
       "      <td>25.0</td>\n",
       "      <td>no</td>\n",
       "      <td>no</td>\n",
       "      <td>8</td>\n",
       "      <td>6</td>\n",
       "      <td>no</td>\n",
       "      <td>often</td>\n",
       "      <td>sometimes</td>\n",
       "      <td>normal</td>\n",
       "      <td>0.0</td>\n",
       "      <td>0</td>\n",
       "      <td>not much</td>\n",
       "      <td>yes</td>\n",
       "    </tr>\n",
       "    <tr>\n",
       "      <th>948</th>\n",
       "      <td>60 or older</td>\n",
       "      <td>Male</td>\n",
       "      <td>yes</td>\n",
       "      <td>yes</td>\n",
       "      <td>more than half an hr</td>\n",
       "      <td>27.0</td>\n",
       "      <td>no</td>\n",
       "      <td>no</td>\n",
       "      <td>6</td>\n",
       "      <td>5</td>\n",
       "      <td>yes</td>\n",
       "      <td>occasionally</td>\n",
       "      <td>sometimes</td>\n",
       "      <td>high</td>\n",
       "      <td>0.0</td>\n",
       "      <td>0</td>\n",
       "      <td>quite often</td>\n",
       "      <td>yes</td>\n",
       "    </tr>\n",
       "    <tr>\n",
       "      <th>949</th>\n",
       "      <td>60 or older</td>\n",
       "      <td>Male</td>\n",
       "      <td>no</td>\n",
       "      <td>yes</td>\n",
       "      <td>none</td>\n",
       "      <td>23.0</td>\n",
       "      <td>no</td>\n",
       "      <td>no</td>\n",
       "      <td>6</td>\n",
       "      <td>5</td>\n",
       "      <td>yes</td>\n",
       "      <td>occasionally</td>\n",
       "      <td>sometimes</td>\n",
       "      <td>high</td>\n",
       "      <td>0.0</td>\n",
       "      <td>0</td>\n",
       "      <td>not much</td>\n",
       "      <td>no</td>\n",
       "    </tr>\n",
       "    <tr>\n",
       "      <th>950</th>\n",
       "      <td>60 or older</td>\n",
       "      <td>Male</td>\n",
       "      <td>no</td>\n",
       "      <td>yes</td>\n",
       "      <td>less than half an hr</td>\n",
       "      <td>27.0</td>\n",
       "      <td>no</td>\n",
       "      <td>yes</td>\n",
       "      <td>6</td>\n",
       "      <td>5</td>\n",
       "      <td>yes</td>\n",
       "      <td>occasionally</td>\n",
       "      <td>very often</td>\n",
       "      <td>high</td>\n",
       "      <td>0.0</td>\n",
       "      <td>0</td>\n",
       "      <td>not much</td>\n",
       "      <td>no</td>\n",
       "    </tr>\n",
       "    <tr>\n",
       "      <th>951</th>\n",
       "      <td>60 or older</td>\n",
       "      <td>Female</td>\n",
       "      <td>yes</td>\n",
       "      <td>yes</td>\n",
       "      <td>one hr or more</td>\n",
       "      <td>30.0</td>\n",
       "      <td>no</td>\n",
       "      <td>no</td>\n",
       "      <td>7</td>\n",
       "      <td>4</td>\n",
       "      <td>yes</td>\n",
       "      <td>occasionally</td>\n",
       "      <td>sometimes</td>\n",
       "      <td>high</td>\n",
       "      <td>2.0</td>\n",
       "      <td>0</td>\n",
       "      <td>quite often</td>\n",
       "      <td>yes</td>\n",
       "    </tr>\n",
       "  </tbody>\n",
       "</table>\n",
       "</div>"
      ],
      "text/plain": [
       "              Age  Gender Family_Diabetes highBP      PhysicallyActive   BMI  \\\n",
       "947  less than 40    Male             yes     no  more than half an hr  25.0   \n",
       "948   60 or older    Male             yes    yes  more than half an hr  27.0   \n",
       "949   60 or older    Male              no    yes                  none  23.0   \n",
       "950   60 or older    Male              no    yes  less than half an hr  27.0   \n",
       "951   60 or older  Female             yes    yes        one hr or more  30.0   \n",
       "\n",
       "    Smoking Alcohol  Sleep  SoundSleep RegularMedicine      JunkFood  \\\n",
       "947      no      no      8           6              no         often   \n",
       "948      no      no      6           5             yes  occasionally   \n",
       "949      no      no      6           5             yes  occasionally   \n",
       "950      no     yes      6           5             yes  occasionally   \n",
       "951      no      no      7           4             yes  occasionally   \n",
       "\n",
       "         Stress BPLevel  Pregancies Pdiabetes UriationFreq Diabetic  \n",
       "947   sometimes  normal         0.0         0     not much      yes  \n",
       "948   sometimes    high         0.0         0  quite often      yes  \n",
       "949   sometimes    high         0.0         0     not much       no  \n",
       "950  very often    high         0.0         0     not much       no  \n",
       "951   sometimes    high         2.0         0  quite often      yes  "
      ]
     },
     "execution_count": 15,
     "metadata": {
     },
     "output_type": "execute_result"
    }
   ],
   "source": [
    "diabetes.tail()"
   ]
  },
  {
   "cell_type": "code",
   "execution_count": 17,
   "metadata": {
    "collapsed": false
   },
   "outputs": [
    {
     "name": "stdout",
     "output_type": "stream",
     "text": [
      "Index(['Age', 'Gender', 'Family_Diabetes', 'highBP', 'PhysicallyActive', 'BMI',\n",
      "       'Smoking', 'Alcohol', 'Sleep', 'SoundSleep', 'RegularMedicine',\n",
      "       'JunkFood', 'Stress', 'BPLevel', 'Pregancies', 'Pdiabetes',\n",
      "       'UriationFreq', 'Diabetic'],\n",
      "      dtype='object')\n",
      "\n",
      "(952, 18)\n"
     ]
    }
   ],
   "source": [
    "print(diabetes.columns)\n",
    "print(\"\")\n",
    "print(diabetes.shape)"
   ]
  },
  {
   "cell_type": "code",
   "execution_count": 18,
   "metadata": {
    "collapsed": false
   },
   "outputs": [
    {
     "name": "stdout",
     "output_type": "stream",
     "text": [
      "<class 'pandas.core.frame.DataFrame'>\n",
      "RangeIndex: 952 entries, 0 to 951\n",
      "Data columns (total 18 columns):\n",
      " #   Column            Non-Null Count  Dtype  \n",
      "---  ------            --------------  -----  \n",
      " 0   Age               952 non-null    object \n",
      " 1   Gender            952 non-null    object \n",
      " 2   Family_Diabetes   952 non-null    object \n",
      " 3   highBP            952 non-null    object \n",
      " 4   PhysicallyActive  952 non-null    object \n",
      " 5   BMI               948 non-null    float64\n",
      " 6   Smoking           952 non-null    object \n",
      " 7   Alcohol           952 non-null    object \n",
      " 8   Sleep             952 non-null    int64  \n",
      " 9   SoundSleep        952 non-null    int64  \n",
      " 10  RegularMedicine   952 non-null    object \n",
      " 11  JunkFood          952 non-null    object \n",
      " 12  Stress            952 non-null    object \n",
      " 13  BPLevel           952 non-null    object \n",
      " 14  Pregancies        910 non-null    float64\n",
      " 15  Pdiabetes         951 non-null    object \n",
      " 16  UriationFreq      952 non-null    object \n",
      " 17  Diabetic          951 non-null    object \n",
      "dtypes: float64(2), int64(2), object(14)\n",
      "memory usage: 134.0+ KB\n"
     ]
    }
   ],
   "source": [
    "diabetes.info()"
   ]
  },
  {
   "cell_type": "code",
   "execution_count": 31,
   "metadata": {
    "collapsed": false
   },
   "outputs": [
    {
     "data": {
      "text/html": [
       "<div>\n",
       "<style scoped>\n",
       "    .dataframe tbody tr th:only-of-type {\n",
       "        vertical-align: middle;\n",
       "    }\n",
       "\n",
       "    .dataframe tbody tr th {\n",
       "        vertical-align: top;\n",
       "    }\n",
       "\n",
       "    .dataframe thead th {\n",
       "        text-align: right;\n",
       "    }\n",
       "</style>\n",
       "<table border=\"1\" class=\"dataframe\">\n",
       "  <thead>\n",
       "    <tr style=\"text-align: right;\">\n",
       "      <th></th>\n",
       "      <th>Age</th>\n",
       "      <th>Gender</th>\n",
       "      <th>Family_Diabetes</th>\n",
       "      <th>highBP</th>\n",
       "      <th>PhysicallyActive</th>\n",
       "      <th>BMI</th>\n",
       "      <th>Smoking</th>\n",
       "      <th>Alcohol</th>\n",
       "      <th>Sleep</th>\n",
       "      <th>SoundSleep</th>\n",
       "      <th>RegularMedicine</th>\n",
       "      <th>JunkFood</th>\n",
       "      <th>Stress</th>\n",
       "      <th>BPLevel</th>\n",
       "      <th>Pregancies</th>\n",
       "      <th>Pdiabetes</th>\n",
       "      <th>UriationFreq</th>\n",
       "      <th>Diabetic</th>\n",
       "    </tr>\n",
       "  </thead>\n",
       "  <tbody>\n",
       "  </tbody>\n",
       "</table>\n",
       "</div>"
      ],
      "text/plain": [
       "Empty DataFrame\n",
       "Columns: [Age, Gender, Family_Diabetes, highBP, PhysicallyActive, BMI, Smoking, Alcohol, Sleep, SoundSleep, RegularMedicine, JunkFood, Stress, BPLevel, Pregancies, Pdiabetes, UriationFreq, Diabetic]\n",
       "Index: []"
      ]
     },
     "execution_count": 31,
     "metadata": {
     },
     "output_type": "execute_result"
    }
   ],
   "source": [
    "diabetes[diabetes['Age'].isnull()]"
   ]
  },
  {
   "cell_type": "code",
   "execution_count": 32,
   "metadata": {
    "collapsed": false
   },
   "outputs": [
    {
     "data": {
      "text/plain": [
       "0      False\n",
       "1      False\n",
       "2      False\n",
       "3      False\n",
       "4      False\n",
       "       ...  \n",
       "947    False\n",
       "948    False\n",
       "949    False\n",
       "950    False\n",
       "951    False\n",
       "Name: Age, Length: 952, dtype: bool"
      ]
     },
     "execution_count": 32,
     "metadata": {
     },
     "output_type": "execute_result"
    }
   ],
   "source": [
    "diabetes['Age'].isnull()"
   ]
  },
  {
   "cell_type": "markdown",
   "metadata": {
    "collapsed": false
   },
   "source": [
    "### Exploratory Data Analysis\n",
    "\n"
   ]
  },
  {
   "cell_type": "code",
   "execution_count": 64,
   "metadata": {
    "collapsed": false
   },
   "outputs": [
    {
     "data": {
      "text/html": "<html>\n<head><meta charset=\"utf-8\" /></head>\n<body>\n    <div>            <script src=\"https://cdnjs.cloudflare.com/ajax/libs/mathjax/2.7.5/MathJax.js?config=TeX-AMS-MML_SVG\"></script><script type=\"text/javascript\">if (window.MathJax && window.MathJax.Hub && && window.MathJax.Hub.Config) {window.MathJax.Hub.Config({SVG: {font: \"STIX-Web\"}});}</script>                <script type=\"text/javascript\">window.PlotlyConfig = {MathJaxConfig: 'local'};</script>\n        <script src=\"https://cdn.plot.ly/plotly-2.12.1.min.js\"></script>                <div id=\"6b8bbea4-b104-4a28-9f3c-03e5f28b80a3\" class=\"plotly-graph-div\" style=\"height:400px; width:100%;\"></div>            <script type=\"text/javascript\">                                    window.PLOTLYENV=window.PLOTLYENV || {};                                    if (document.getElementById(\"6b8bbea4-b104-4a28-9f3c-03e5f28b80a3\")) {                    Plotly.newPlot(                        \"6b8bbea4-b104-4a28-9f3c-03e5f28b80a3\",                        [{\"alignmentgroup\":\"True\",\"bingroup\":\"x\",\"histfunc\":\"sum\",\"hovertemplate\":\"Diabetic=%{x}<br>sum of BMI=%{y}<extra></extra>\",\"legendgroup\":\"\",\"marker\":{\"color\":\"#636efa\",\"pattern\":{\"shape\":\"\"}},\"name\":\"\",\"offsetgroup\":\"\",\"orientation\":\"v\",\"showlegend\":false,\"x\":[\"no\",\"no\",\"no\",\"no\",\"no\",\"yes\",\"no\",\"no\",\"no\",\"no\",\"no\",\"no\",\"no\",\"no\",\"no\",\"no\",\"no\",\" no\",\"no\",\"no\",\"no\",\"yes\",\"yes\",\"no\",\"no\",\"no\",\"no\",\"no\",\"no\",\"yes\",\"no\",\"no\",\"yes\",\"no\",\"no\",\"yes\",\"yes\",\"yes\",\"yes\",\"yes\",\"no\",\"no\",\"no\",\"no\",\"no\",\"no\",\"yes\",\"yes\",\"yes\",\"yes\",\"no\",\"no\",\"no\",\"no\",\"no\",\"yes\",\"no\",\"no\",\"no\",\"yes\",\"no\",\"no\",\"no\",\"no\",\"no\",\"yes\",\"yes\",\"yes\",\"yes\",\"yes\",\"yes\",\"yes\",\"no\",\"yes\",\"yes\",\"no\",\"yes\",\"yes\",\"no\",\"no\",\"no\",\"yes\",\"no\",\"no\",\"no\",\"no\",\"no\",\"no\",\"no\",\"no\",\"no\",\"no\",\"no\",\"no\",\"no\",\"no\",\"no\",\"no\",\"no\",\"no\",\"no\",\"no\",\"no\",\"yes\",\"no\",\"yes\",\"yes\",\"yes\",\"yes\",\"no\",\"yes\",\"no\",\"yes\",null,\"no\",\"no\",\"no\",\"no\",\"no\",\"no\",\"yes\",\"yes\",\"no\",\"no\",\"no\",\"no\",\"no\",\"no\",\"no\",\"no\",\"yes\",\"no\",\"yes\",\"no\",\"no\",\"no\",\"no\",\"no\",\"no\",\"no\",\"no\",\"no\",\"no\",\"no\",\"no\",\"no\",\"no\",\"no\",\"no\",\"no\",\"no\",\"no\",\"no\",\"no\",\"no\",\"no\",\"no\",\"no\",\"no\",\"no\",\"no\",\"no\",\"no\",\"no\",\"no\",\"no\",\"no\",\"no\",\"no\",\"no\",\"no\",\"no\",\"yes\",\"yes\",\"no\",\"no\",\"no\",\"no\",\"no\",\"yes\",\"yes\",\"yes\",\"yes\",\"no\",\"no\",\"no\",\"yes\",\"no\",\"no\",\"no\",\"no\",\"no\",\"no\",\"no\",\"no\",\"no\",\"no\",\"no\",\"no\",\"no\",\"no\",\"no\",\"no\",\"no\",\"no\",\"no\",\"no\",\"no\",\"no\",\"no\",\"no\",\"no\",\"no\",\"no\",\"no\",\"no\",\"no\",\"no\",\"no\",\"no\",\"no\",\"no\",\"yes\",\"yes\",\"yes\",\"yes\",\"yes\",\"yes\",\"yes\",\"no\",\"yes\",\"yes\",\"yes\",\"yes\",\"yes\",\"no\",\"no\",\"yes\",\"no\",\"yes\",\"no\",\"no\",\"yes\",\"yes\",\"no\",\"no\",\"yes\",\"no\",\"no\",\"no\",\"no\",\"no\",\"no\",\"no\",\"yes\",\"no\",\"no\",\"no\",\"no\",\"yes\",\"yes\",\"no\",\"no\",\"no\",\"no\",\"yes\",\"no\",\"yes\",\"no\",\"no\",\"yes\",\"yes\",\"yes\",\"yes\",\"yes\",\"yes\",\"yes\",\"yes\",\"no\",\"yes\",\"no\",\"no\",\"no\",\"no\",\"yes\",\"yes\",\"yes\",\"yes\",\"no\",\"no\",\"yes\",\"no\",\"no\",\"yes\",\"no\",\"no\",\"yes\",\"yes\",\"no\",\"no\",\"no\",\"no\",\"no\",\"yes\",\"yes\",\"yes\",\"yes\",\"yes\",\"yes\",\"yes\",\"no\",\"yes\",\"yes\",\"no\",\"yes\",\"yes\",\"yes\",\"yes\",\"no\",\"yes\",\"no\",\"no\",\"no\",\"no\",\"no\",\"no\",\"no\",\"no\",\"no\",\"no\",\"no\",\"no\",\"no\",\"no\",\"yes\",\"no\",\"no\",\"no\",\"no\",\"no\",\"no\",\"yes\",\"no\",\"yes\",\"yes\",\"yes\",\"yes\",\"no\",\"yes\",\"no\",\"yes\",\"no\",\"no\",\"no\",\"no\",\"no\",\"no\",\"no\",\"yes\",\"yes\",\"no\",\"no\",\"no\",\"no\",\"no\",\"no\",\"no\",\"no\",\"yes\",\"no\",\"yes\",\"no\",\"no\",\"no\",\"no\",\"no\",\"no\",\"no\",\"no\",\"no\",\"no\",\"yes\",\"no\",\"no\",\"no\",\"no\",\"no\",\"no\",\"no\",\"no\",\"no\",\"no\",\"no\",\"no\",\"no\",\"no\",\"no\",\"no\",\"no\",\"no\",\"no\",\"yes\",\"no\",\"no\",\"no\",\"no\",\"no\",\"no\",\"no\",\"no\",\"yes\",\"yes\",\"no\",\"no\",\"no\",\"no\",\"no\",\"yes\",\"yes\",\"yes\",\"yes\",\"no\",\"no\",\"no\",\"yes\",\"no\",\"no\",\"no\",\"no\",\"no\",\"no\",\"no\",\"no\",\"no\",\"no\",\"no\",\"no\",\"no\",\"no\",\"no\",\"no\",\"no\",\"no\",\"no\",\"no\",\"no\",\"no\",\"no\",\"no\",\"no\",\"no\",\"no\",\"no\",\"no\",\"no\",\"no\",\"no\",\"no\",\"no\",\"no\",\"yes\",\"yes\",\"yes\",\"yes\",\"yes\",\"yes\",\"yes\",\"no\",\"yes\",\"yes\",\"yes\",\"yes\",\"yes\",\"yes\",\"yes\",\"yes\",\"no\",\"no\",\"no\",\"yes\",\"no\",\"yes\",\"no\",\"no\",\"no\",\"no\",\"no\",\"no\",\"no\",\"no\",\"no\",\"no\",\"no\",\"no\",\"no\",\"no\",\"no\",\"yes\",\"yes\",\"no\",\"no\",\"no\",\"no\",\"no\",\"no\",\"yes\",\"no\",\"no\",\"yes\",\"yes\",\"no\",\"yes\",\"yes\",\"yes\",\"yes\",\"yes\",\"no\",\"yes\",\"no\",\"no\",\"no\",\"no\",\"yes\",\"yes\",\"yes\",\"yes\",\"no\",\"no\",\"no\",\"no\",\"no\",\"yes\",\"no\",\"no\",\"no\",\"yes\",\"no\",\"yes\",\"no\",\"no\",\"no\",\"yes\",\"yes\",\"yes\",\"yes\",\"yes\",\"yes\",\"yes\",\"no\",\"yes\",\"yes\",\"no\",\"yes\",\"yes\",\"no\",\"no\",\"no\",\"yes\",\"no\",\"no\",\"no\",\"no\",\"no\",\"no\",\"no\",\"no\",\"no\",\"no\",\"no\",\"no\",\"no\",\"no\",\"no\",\"no\",\"no\",\"no\",\"no\",\"no\",\"no\",\"yes\",\"no\",\"yes\",\"yes\",\"yes\",\"yes\",\"no\",\"yes\",\"no\",\"yes\",\"no\",\"no\",\"no\",\"no\",\"no\",\"no\",\"yes\",\"yes\",\"yes\",\"no\",\"no\",\"no\",\"no\",\"no\",\"no\",\"no\",\"no\",\"yes\",\"no\",\"yes\",\"no\",\"no\",\"no\",\"no\",\"no\",\"no\",\"no\",\"no\",\"no\",\"no\",\"no\",\"no\",\"no\",\"no\",\"no\",\"no\",\"no\",\"no\",\"no\",\"no\",\"no\",\"yes\",\"no\",\"no\",\"no\",\"no\",\"no\",\"no\",\"no\",\"no\",\"no\",\"no\",\"no\",\"no\",\"no\",\"no\",\"no\",\"no\",\"no\",\"yes\",\"yes\",\"no\",\"no\",\"no\",\"no\",\"no\",\"yes\",\"yes\",\"yes\",\"yes\",\"no\",\"no\",\"no\",\"yes\",\"no\",\"no\",\"no\",\"no\",\"no\",\"no\",\"no\",\"no\",\"no\",\"no\",\"no\",\"no\",\"no\",\"no\",\"no\",\"no\",\"no\",\"no\",\"no\",\"no\",\"no\",\"no\",\"no\",\"no\",\"no\",\"no\",\"no\",\"no\",\"no\",\"no\",\"no\",\"no\",\"no\",\"no\",\"no\",\"yes\",\"yes\",\"yes\",\"yes\",\"yes\",\"yes\",\"yes\",\"no\",\"yes\",\"yes\",\"yes\",\"yes\",\"yes\",\"no\",\"yes\",\"yes\",\"no\",\"no\",\"no\",\"no\",\"no\",\"yes\",\"no\",\"no\",\"no\",\"no\",\"no\",\"no\",\"no\",\"no\",\"no\",\"no\",\"no\",\"no\",\"no\",\"no\",\"no\",\"yes\",\"yes\",\"no\",\"no\",\"no\",\"no\",\"yes\",\"no\",\"yes\",\"no\",\"no\",\"yes\",\"yes\",\"yes\",\"yes\",\"yes\",\"yes\",\"yes\",\"yes\",\"no\",\"yes\",\"no\",\"no\",\"no\",\"no\",\"yes\",\"yes\",\"yes\",\"yes\",\"no\",\"no\",\"yes\",\"no\",\"no\",\"yes\",\"no\",\"no\",\"no\",\"yes\",\"no\",\"no\",\"no\",\"no\",\"no\",\"yes\",\"yes\",\"yes\",\"yes\",\"yes\",\"yes\",\"yes\",\"no\",\"yes\",\"yes\",\"no\",\"yes\",\"yes\",\"no\",\"no\",\"no\",\"yes\",\"no\",\"no\",\"no\",\"no\",\"no\",\"no\",\"no\",\"no\",\"no\",\"no\",\"no\",\"no\",\"no\",\"no\",\"no\",\"no\",\"no\",\"no\",\"no\",\"no\",\"no\",\"yes\",\"no\",\"yes\",\"yes\",\"yes\",\"yes\",\"no\",\"yes\",\"no\",\"yes\",\"no\",\"no\",\"no\",\"no\",\"no\",\"no\",\"no\",\"yes\",\"yes\",\"no\",\"no\",\"no\",\"no\",\"no\",\"no\",\"no\",\"no\",\"yes\",\"no\",\"yes\",\"no\",\"no\",\"no\",\"no\",\"no\",\"no\",\"no\",\"no\",\"no\",\"no\",\"no\",\"no\",\"no\",\"yes\",\"no\",\"no\",\"no\",\"no\",\"no\",\"no\",\"no\",\"no\",\"no\",\"no\",\"no\",\"no\",\"no\",\"no\",\"no\",\"no\",\"no\",\"no\",\"no\",\"no\",\"no\",\"no\",\"no\",\"no\",\"no\",\"yes\",\"yes\",\"no\",\"no\",\"no\",\"no\",\"no\",\"yes\",\"yes\",\"yes\",\"yes\",\"no\",\"no\",\"no\",\"yes\",\"no\",\"no\",\"no\",\"no\",\"no\",\"no\",\"no\",\"no\",\"no\",\"no\",\"no\",\"no\",\"no\",\"no\",\"no\",\"no\",\"no\",\"no\",\"no\",\"no\",\"no\",\"no\",\"no\",\"no\",\"no\",\"no\",\"no\",\"no\",\"no\",\"no\",\"no\",\"no\",\"no\",\"no\",\"no\",\"yes\",\"yes\",\"yes\",\"yes\",\"yes\",\"yes\",\"yes\",\"no\",\"yes\",\"yes\",\"yes\",\"yes\",\"yes\",\"no\",\"no\",\"yes\"],\"xaxis\":\"x\",\"y\":[39.0,28.0,24.0,23.0,27.0,21.0,24.0,20.0,23.0,20.0,20.0,26.0,21.0,22.0,15.0,34.0,22.0,24.0,24.0,22.0,30.0,24.0,24.0,20.0,24.0,21.0,20.0,27.0,29.0,18.0,32.0,21.0,26.0,31.0,26.0,21.0,28.0,24.0,27.0,21.0,27.0,24.0,36.0,21.0,22.0,21.0,38.0,40.0,35.0,24.0,18.0,23.0,19.0,26.0,30.0,27.0,18.0,29.0,19.0,21.0,24.0,31.0,22.0,19.0,27.0,26.0,21.0,26.0,23.0,26.0,18.0,19.0,24.0,33.0,31.0,23.0,23.0,20.0,28.0,26.0,24.0,24.0,17.0,28.0,23.0,24.0,19.0,15.0,22.0,23.0,18.0,21.0,21.0,21.0,22.0,25.0,20.0,24.0,21.0,26.0,27.0,26.0,24.0,21.0,22.0,23.0,28.0,32.0,33.0,24.0,28.0,30.0,30.0,null,27.0,22.0,null,18.0,22.0,21.0,26.0,null,null,31.0,33.0,30.0,23.0,29.0,17.0,24.0,26.0,27.0,21.0,26.0,20.0,22.0,21.0,26.0,21.0,21.0,24.0,24.0,26.0,32.0,34.0,30.0,42.0,33.0,23.0,27.0,25.0,28.0,28.0,33.0,33.0,28.0,28.0,36.0,33.0,28.0,28.0,33.0,38.0,33.0,38.0,36.0,33.0,33.0,38.0,36.0,33.0,38.0,38.0,33.0,33.0,38.0,32.0,33.0,22.0,24.0,23.0,27.0,24.0,18.0,20.0,19.0,28.0,19.0,25.0,25.0,24.0,27.0,19.0,25.0,28.0,25.0,24.0,21.0,23.0,28.0,20.0,18.0,25.0,28.0,27.0,20.0,20.0,17.0,26.0,21.0,29.0,29.0,24.0,23.0,23.0,29.0,19.0,23.0,17.0,23.0,24.0,25.0,35.0,33.0,34.0,36.0,30.0,28.0,35.0,24.0,22.0,30.0,22.0,22.0,27.0,23.0,27.0,29.0,39.0,28.0,24.0,23.0,27.0,21.0,24.0,20.0,23.0,20.0,20.0,26.0,21.0,22.0,15.0,34.0,22.0,24.0,24.0,22.0,30.0,24.0,24.0,20.0,24.0,21.0,20.0,27.0,29.0,18.0,32.0,21.0,26.0,31.0,26.0,21.0,28.0,24.0,27.0,21.0,27.0,24.0,36.0,21.0,22.0,21.0,38.0,40.0,35.0,24.0,18.0,23.0,19.0,26.0,30.0,27.0,18.0,29.0,19.0,21.0,24.0,31.0,22.0,19.0,27.0,26.0,21.0,26.0,23.0,26.0,18.0,19.0,24.0,33.0,31.0,23.0,23.0,20.0,28.0,26.0,24.0,24.0,17.0,28.0,23.0,24.0,19.0,15.0,22.0,23.0,18.0,21.0,21.0,21.0,22.0,25.0,20.0,24.0,21.0,26.0,27.0,26.0,24.0,21.0,22.0,23.0,28.0,32.0,33.0,24.0,28.0,30.0,30.0,27.0,27.0,22.0,23.0,18.0,22.0,21.0,26.0,28.0,26.0,31.0,33.0,30.0,23.0,29.0,17.0,24.0,26.0,27.0,21.0,26.0,20.0,22.0,21.0,26.0,21.0,21.0,24.0,24.0,26.0,32.0,34.0,30.0,42.0,33.0,23.0,27.0,25.0,28.0,28.0,33.0,33.0,28.0,28.0,36.0,33.0,28.0,28.0,33.0,38.0,33.0,38.0,36.0,33.0,33.0,38.0,36.0,33.0,38.0,38.0,33.0,33.0,38.0,32.0,33.0,22.0,24.0,23.0,27.0,24.0,18.0,20.0,19.0,28.0,19.0,25.0,25.0,24.0,27.0,19.0,25.0,28.0,25.0,24.0,21.0,23.0,28.0,20.0,18.0,25.0,28.0,27.0,20.0,20.0,17.0,26.0,21.0,29.0,29.0,24.0,23.0,23.0,29.0,19.0,23.0,17.0,23.0,24.0,25.0,35.0,33.0,34.0,36.0,30.0,28.0,35.0,24.0,22.0,30.0,22.0,22.0,27.0,23.0,27.0,29.0,39.0,28.0,24.0,23.0,27.0,21.0,24.0,20.0,23.0,20.0,20.0,26.0,21.0,22.0,15.0,34.0,22.0,24.0,24.0,22.0,30.0,24.0,24.0,20.0,24.0,21.0,20.0,27.0,29.0,18.0,32.0,21.0,26.0,31.0,26.0,21.0,28.0,24.0,27.0,21.0,27.0,24.0,36.0,21.0,22.0,21.0,38.0,40.0,35.0,24.0,18.0,23.0,19.0,26.0,30.0,27.0,18.0,29.0,19.0,21.0,24.0,31.0,22.0,19.0,27.0,26.0,21.0,26.0,23.0,26.0,18.0,19.0,24.0,33.0,31.0,23.0,23.0,20.0,28.0,26.0,24.0,24.0,17.0,28.0,23.0,24.0,19.0,15.0,22.0,23.0,18.0,21.0,21.0,21.0,22.0,25.0,20.0,24.0,21.0,26.0,27.0,26.0,24.0,21.0,22.0,23.0,28.0,32.0,33.0,24.0,28.0,30.0,30.0,27.0,27.0,22.0,23.0,18.0,22.0,21.0,26.0,28.0,26.0,31.0,33.0,30.0,23.0,29.0,17.0,24.0,26.0,27.0,21.0,26.0,20.0,22.0,21.0,26.0,21.0,21.0,24.0,24.0,26.0,32.0,34.0,30.0,42.0,33.0,23.0,27.0,25.0,28.0,28.0,33.0,33.0,28.0,28.0,36.0,33.0,28.0,28.0,33.0,38.0,33.0,38.0,36.0,33.0,33.0,38.0,36.0,33.0,38.0,38.0,33.0,33.0,38.0,32.0,33.0,22.0,24.0,23.0,27.0,24.0,18.0,20.0,19.0,28.0,19.0,25.0,25.0,24.0,27.0,19.0,25.0,28.0,25.0,24.0,21.0,23.0,28.0,20.0,18.0,25.0,28.0,27.0,20.0,20.0,17.0,26.0,21.0,29.0,29.0,24.0,23.0,23.0,29.0,19.0,23.0,17.0,23.0,24.0,25.0,35.0,33.0,34.0,36.0,30.0,28.0,35.0,24.0,22.0,30.0,22.0,22.0,27.0,23.0,27.0,29.0,39.0,28.0,24.0,23.0,27.0,21.0,24.0,20.0,23.0,20.0,20.0,26.0,21.0,22.0,15.0,34.0,22.0,24.0,24.0,22.0,30.0,24.0,24.0,20.0,24.0,21.0,20.0,27.0,29.0,18.0,32.0,21.0,26.0,31.0,26.0,21.0,28.0,24.0,27.0,21.0,27.0,24.0,36.0,21.0,22.0,21.0,38.0,40.0,35.0,24.0,18.0,23.0,19.0,26.0,30.0,27.0,18.0,29.0,19.0,21.0,24.0,31.0,22.0,19.0,27.0,26.0,21.0,26.0,23.0,26.0,18.0,19.0,24.0,33.0,31.0,23.0,23.0,20.0,28.0,26.0,24.0,24.0,17.0,28.0,23.0,24.0,19.0,15.0,22.0,23.0,18.0,21.0,21.0,21.0,22.0,25.0,20.0,24.0,21.0,26.0,27.0,26.0,24.0,21.0,22.0,23.0,28.0,32.0,33.0,24.0,28.0,30.0,30.0,27.0,27.0,22.0,23.0,18.0,22.0,21.0,26.0,28.0,26.0,31.0,33.0,30.0,23.0,29.0,17.0,24.0,26.0,27.0,21.0,26.0,20.0,23.0,21.0,26.0,21.0,21.0,24.0,24.0,26.0,32.0,34.0,30.0,45.0,33.0,23.0,27.0,25.0,28.0,28.0,33.0,33.0,28.0,28.0,36.0,33.0,28.0,28.0,33.0,38.0,33.0,38.0,36.0,33.0,33.0,38.0,36.0,33.0,38.0,38.0,33.0,33.0,38.0,32.0,33.0,22.0,25.0,23.0,27.0,24.0,18.0,20.0,19.0,28.0,19.0,25.0,25.0,24.0,27.0,19.0,25.0,28.0,25.0,24.0,21.0,23.0,28.0,20.0,18.0,25.0,28.0,27.0,20.0,20.0,17.0,29.0,21.0,29.0,29.0,24.0,23.0,23.0,29.0,19.0,23.0,17.0,23.0,24.0,25.0,35.0,33.0,34.0,36.0,30.0,28.0,35.0,24.0,22.0,30.0,22.0,25.0,27.0,23.0,27.0,30.0],\"yaxis\":\"y\",\"type\":\"histogram\"}],                        {\"template\":{\"data\":{\"histogram2dcontour\":[{\"type\":\"histogram2dcontour\",\"colorbar\":{\"outlinewidth\":0,\"ticks\":\"\"},\"colorscale\":[[0.0,\"#0d0887\"],[0.1111111111111111,\"#46039f\"],[0.2222222222222222,\"#7201a8\"],[0.3333333333333333,\"#9c179e\"],[0.4444444444444444,\"#bd3786\"],[0.5555555555555556,\"#d8576b\"],[0.6666666666666666,\"#ed7953\"],[0.7777777777777778,\"#fb9f3a\"],[0.8888888888888888,\"#fdca26\"],[1.0,\"#f0f921\"]]}],\"choropleth\":[{\"type\":\"choropleth\",\"colorbar\":{\"outlinewidth\":0,\"ticks\":\"\"}}],\"histogram2d\":[{\"type\":\"histogram2d\",\"colorbar\":{\"outlinewidth\":0,\"ticks\":\"\"},\"colorscale\":[[0.0,\"#0d0887\"],[0.1111111111111111,\"#46039f\"],[0.2222222222222222,\"#7201a8\"],[0.3333333333333333,\"#9c179e\"],[0.4444444444444444,\"#bd3786\"],[0.5555555555555556,\"#d8576b\"],[0.6666666666666666,\"#ed7953\"],[0.7777777777777778,\"#fb9f3a\"],[0.8888888888888888,\"#fdca26\"],[1.0,\"#f0f921\"]]}],\"heatmap\":[{\"type\":\"heatmap\",\"colorbar\":{\"outlinewidth\":0,\"ticks\":\"\"},\"colorscale\":[[0.0,\"#0d0887\"],[0.1111111111111111,\"#46039f\"],[0.2222222222222222,\"#7201a8\"],[0.3333333333333333,\"#9c179e\"],[0.4444444444444444,\"#bd3786\"],[0.5555555555555556,\"#d8576b\"],[0.6666666666666666,\"#ed7953\"],[0.7777777777777778,\"#fb9f3a\"],[0.8888888888888888,\"#fdca26\"],[1.0,\"#f0f921\"]]}],\"heatmapgl\":[{\"type\":\"heatmapgl\",\"colorbar\":{\"outlinewidth\":0,\"ticks\":\"\"},\"colorscale\":[[0.0,\"#0d0887\"],[0.1111111111111111,\"#46039f\"],[0.2222222222222222,\"#7201a8\"],[0.3333333333333333,\"#9c179e\"],[0.4444444444444444,\"#bd3786\"],[0.5555555555555556,\"#d8576b\"],[0.6666666666666666,\"#ed7953\"],[0.7777777777777778,\"#fb9f3a\"],[0.8888888888888888,\"#fdca26\"],[1.0,\"#f0f921\"]]}],\"contourcarpet\":[{\"type\":\"contourcarpet\",\"colorbar\":{\"outlinewidth\":0,\"ticks\":\"\"}}],\"contour\":[{\"type\":\"contour\",\"colorbar\":{\"outlinewidth\":0,\"ticks\":\"\"},\"colorscale\":[[0.0,\"#0d0887\"],[0.1111111111111111,\"#46039f\"],[0.2222222222222222,\"#7201a8\"],[0.3333333333333333,\"#9c179e\"],[0.4444444444444444,\"#bd3786\"],[0.5555555555555556,\"#d8576b\"],[0.6666666666666666,\"#ed7953\"],[0.7777777777777778,\"#fb9f3a\"],[0.8888888888888888,\"#fdca26\"],[1.0,\"#f0f921\"]]}],\"surface\":[{\"type\":\"surface\",\"colorbar\":{\"outlinewidth\":0,\"ticks\":\"\"},\"colorscale\":[[0.0,\"#0d0887\"],[0.1111111111111111,\"#46039f\"],[0.2222222222222222,\"#7201a8\"],[0.3333333333333333,\"#9c179e\"],[0.4444444444444444,\"#bd3786\"],[0.5555555555555556,\"#d8576b\"],[0.6666666666666666,\"#ed7953\"],[0.7777777777777778,\"#fb9f3a\"],[0.8888888888888888,\"#fdca26\"],[1.0,\"#f0f921\"]]}],\"mesh3d\":[{\"type\":\"mesh3d\",\"colorbar\":{\"outlinewidth\":0,\"ticks\":\"\"}}],\"scatter\":[{\"fillpattern\":{\"fillmode\":\"overlay\",\"size\":10,\"solidity\":0.2},\"type\":\"scatter\"}],\"parcoords\":[{\"type\":\"parcoords\",\"line\":{\"colorbar\":{\"outlinewidth\":0,\"ticks\":\"\"}}}],\"scatterpolargl\":[{\"type\":\"scatterpolargl\",\"marker\":{\"colorbar\":{\"outlinewidth\":0,\"ticks\":\"\"}}}],\"bar\":[{\"error_x\":{\"color\":\"#2a3f5f\"},\"error_y\":{\"color\":\"#2a3f5f\"},\"marker\":{\"line\":{\"color\":\"#E5ECF6\",\"width\":0.5},\"pattern\":{\"fillmode\":\"overlay\",\"size\":10,\"solidity\":0.2}},\"type\":\"bar\"}],\"scattergeo\":[{\"type\":\"scattergeo\",\"marker\":{\"colorbar\":{\"outlinewidth\":0,\"ticks\":\"\"}}}],\"scatterpolar\":[{\"type\":\"scatterpolar\",\"marker\":{\"colorbar\":{\"outlinewidth\":0,\"ticks\":\"\"}}}],\"histogram\":[{\"marker\":{\"pattern\":{\"fillmode\":\"overlay\",\"size\":10,\"solidity\":0.2}},\"type\":\"histogram\"}],\"scattergl\":[{\"type\":\"scattergl\",\"marker\":{\"colorbar\":{\"outlinewidth\":0,\"ticks\":\"\"}}}],\"scatter3d\":[{\"type\":\"scatter3d\",\"line\":{\"colorbar\":{\"outlinewidth\":0,\"ticks\":\"\"}},\"marker\":{\"colorbar\":{\"outlinewidth\":0,\"ticks\":\"\"}}}],\"scattermapbox\":[{\"type\":\"scattermapbox\",\"marker\":{\"colorbar\":{\"outlinewidth\":0,\"ticks\":\"\"}}}],\"scatterternary\":[{\"type\":\"scatterternary\",\"marker\":{\"colorbar\":{\"outlinewidth\":0,\"ticks\":\"\"}}}],\"scattercarpet\":[{\"type\":\"scattercarpet\",\"marker\":{\"colorbar\":{\"outlinewidth\":0,\"ticks\":\"\"}}}],\"carpet\":[{\"aaxis\":{\"endlinecolor\":\"#2a3f5f\",\"gridcolor\":\"white\",\"linecolor\":\"white\",\"minorgridcolor\":\"white\",\"startlinecolor\":\"#2a3f5f\"},\"baxis\":{\"endlinecolor\":\"#2a3f5f\",\"gridcolor\":\"white\",\"linecolor\":\"white\",\"minorgridcolor\":\"white\",\"startlinecolor\":\"#2a3f5f\"},\"type\":\"carpet\"}],\"table\":[{\"cells\":{\"fill\":{\"color\":\"#EBF0F8\"},\"line\":{\"color\":\"white\"}},\"header\":{\"fill\":{\"color\":\"#C8D4E3\"},\"line\":{\"color\":\"white\"}},\"type\":\"table\"}],\"barpolar\":[{\"marker\":{\"line\":{\"color\":\"#E5ECF6\",\"width\":0.5},\"pattern\":{\"fillmode\":\"overlay\",\"size\":10,\"solidity\":0.2}},\"type\":\"barpolar\"}],\"pie\":[{\"automargin\":true,\"type\":\"pie\"}]},\"layout\":{\"autotypenumbers\":\"strict\",\"colorway\":[\"#636efa\",\"#EF553B\",\"#00cc96\",\"#ab63fa\",\"#FFA15A\",\"#19d3f3\",\"#FF6692\",\"#B6E880\",\"#FF97FF\",\"#FECB52\"],\"font\":{\"color\":\"#2a3f5f\"},\"hovermode\":\"closest\",\"hoverlabel\":{\"align\":\"left\"},\"paper_bgcolor\":\"white\",\"plot_bgcolor\":\"#E5ECF6\",\"polar\":{\"bgcolor\":\"#E5ECF6\",\"angularaxis\":{\"gridcolor\":\"white\",\"linecolor\":\"white\",\"ticks\":\"\"},\"radialaxis\":{\"gridcolor\":\"white\",\"linecolor\":\"white\",\"ticks\":\"\"}},\"ternary\":{\"bgcolor\":\"#E5ECF6\",\"aaxis\":{\"gridcolor\":\"white\",\"linecolor\":\"white\",\"ticks\":\"\"},\"baxis\":{\"gridcolor\":\"white\",\"linecolor\":\"white\",\"ticks\":\"\"},\"caxis\":{\"gridcolor\":\"white\",\"linecolor\":\"white\",\"ticks\":\"\"}},\"coloraxis\":{\"colorbar\":{\"outlinewidth\":0,\"ticks\":\"\"}},\"colorscale\":{\"sequential\":[[0.0,\"#0d0887\"],[0.1111111111111111,\"#46039f\"],[0.2222222222222222,\"#7201a8\"],[0.3333333333333333,\"#9c179e\"],[0.4444444444444444,\"#bd3786\"],[0.5555555555555556,\"#d8576b\"],[0.6666666666666666,\"#ed7953\"],[0.7777777777777778,\"#fb9f3a\"],[0.8888888888888888,\"#fdca26\"],[1.0,\"#f0f921\"]],\"sequentialminus\":[[0.0,\"#0d0887\"],[0.1111111111111111,\"#46039f\"],[0.2222222222222222,\"#7201a8\"],[0.3333333333333333,\"#9c179e\"],[0.4444444444444444,\"#bd3786\"],[0.5555555555555556,\"#d8576b\"],[0.6666666666666666,\"#ed7953\"],[0.7777777777777778,\"#fb9f3a\"],[0.8888888888888888,\"#fdca26\"],[1.0,\"#f0f921\"]],\"diverging\":[[0,\"#8e0152\"],[0.1,\"#c51b7d\"],[0.2,\"#de77ae\"],[0.3,\"#f1b6da\"],[0.4,\"#fde0ef\"],[0.5,\"#f7f7f7\"],[0.6,\"#e6f5d0\"],[0.7,\"#b8e186\"],[0.8,\"#7fbc41\"],[0.9,\"#4d9221\"],[1,\"#276419\"]]},\"xaxis\":{\"gridcolor\":\"white\",\"linecolor\":\"white\",\"ticks\":\"\",\"title\":{\"standoff\":15},\"zerolinecolor\":\"white\",\"automargin\":true,\"zerolinewidth\":2},\"yaxis\":{\"gridcolor\":\"white\",\"linecolor\":\"white\",\"ticks\":\"\",\"title\":{\"standoff\":15},\"zerolinecolor\":\"white\",\"automargin\":true,\"zerolinewidth\":2},\"scene\":{\"xaxis\":{\"backgroundcolor\":\"#E5ECF6\",\"gridcolor\":\"white\",\"linecolor\":\"white\",\"showbackground\":true,\"ticks\":\"\",\"zerolinecolor\":\"white\",\"gridwidth\":2},\"yaxis\":{\"backgroundcolor\":\"#E5ECF6\",\"gridcolor\":\"white\",\"linecolor\":\"white\",\"showbackground\":true,\"ticks\":\"\",\"zerolinecolor\":\"white\",\"gridwidth\":2},\"zaxis\":{\"backgroundcolor\":\"#E5ECF6\",\"gridcolor\":\"white\",\"linecolor\":\"white\",\"showbackground\":true,\"ticks\":\"\",\"zerolinecolor\":\"white\",\"gridwidth\":2}},\"shapedefaults\":{\"line\":{\"color\":\"#2a3f5f\"}},\"annotationdefaults\":{\"arrowcolor\":\"#2a3f5f\",\"arrowhead\":0,\"arrowwidth\":1},\"geo\":{\"bgcolor\":\"white\",\"landcolor\":\"#E5ECF6\",\"subunitcolor\":\"white\",\"showland\":true,\"showlakes\":true,\"lakecolor\":\"white\"},\"title\":{\"x\":0.05},\"mapbox\":{\"style\":\"light\"}}},\"xaxis\":{\"anchor\":\"y\",\"domain\":[0.0,1.0],\"title\":{\"text\":\"Diabetic\"}},\"yaxis\":{\"anchor\":\"x\",\"domain\":[0.0,1.0],\"title\":{\"text\":\"sum of BMI\"}},\"legend\":{\"tracegroupgap\":0},\"margin\":{\"t\":60},\"barmode\":\"group\",\"height\":400},                        {\"responsive\": true}                    ).then(function(){\n                            \nvar gd = document.getElementById('6b8bbea4-b104-4a28-9f3c-03e5f28b80a3');\nvar x = new MutationObserver(function (mutations, observer) {{\n        var display = window.getComputedStyle(gd).display;\n        if (!display || display === 'none') {{\n            console.log([gd, 'removed!']);\n            Plotly.purge(gd);\n            observer.disconnect();\n        }}\n}});\n\n// Listen for the removal of the full notebook cells\nvar notebookContainer = gd.closest('#notebook-container');\nif (notebookContainer) {{\n    x.observe(notebookContainer, {childList: true});\n}}\n\n// Listen for the clearing of the current output cell\nvar outputEl = gd.closest('.output');\nif (outputEl) {{\n    x.observe(outputEl, {childList: true});\n}}\n\n                        })                };                            </script>        </div>\n</body>\n</html>"
     },
     "execution_count": 64,
     "metadata": {
     },
     "output_type": "execute_result"
    }
   ],
   "source": [
    "df = diabetes\n",
    "fig = px.histogram(df, x=\"Diabetic\", y=\"BMI\", barmode='group', height=400)\n",
    "fig.show()"
   ]
  },
  {
   "cell_type": "code",
   "execution_count": 0,
   "metadata": {
    "collapsed": false
   },
   "outputs": [
   ],
   "source": [
   ]
  },
  {
   "cell_type": "code",
   "execution_count": 46,
   "metadata": {
    "collapsed": false
   },
   "outputs": [
    {
     "data": {
      "text/html": "<html>\n<head><meta charset=\"utf-8\" /></head>\n<body>\n    <div>            <script src=\"https://cdnjs.cloudflare.com/ajax/libs/mathjax/2.7.5/MathJax.js?config=TeX-AMS-MML_SVG\"></script><script type=\"text/javascript\">if (window.MathJax && window.MathJax.Hub && && window.MathJax.Hub.Config) {window.MathJax.Hub.Config({SVG: {font: \"STIX-Web\"}});}</script>                <script type=\"text/javascript\">window.PlotlyConfig = {MathJaxConfig: 'local'};</script>\n        <script src=\"https://cdn.plot.ly/plotly-2.12.1.min.js\"></script>                <div id=\"6f4869c0-ae31-42d2-8ddc-6b7fa0a0cabc\" class=\"plotly-graph-div\" style=\"height:525px; width:100%;\"></div>            <script type=\"text/javascript\">                                    window.PLOTLYENV=window.PLOTLYENV || {};                                    if (document.getElementById(\"6f4869c0-ae31-42d2-8ddc-6b7fa0a0cabc\")) {                    Plotly.newPlot(                        \"6f4869c0-ae31-42d2-8ddc-6b7fa0a0cabc\",                        [{\"hovertemplate\":\"Gender=%{x}<br>Age=%{y}<br>BMI=%{marker.color}<extra></extra>\",\"legendgroup\":\"\",\"marker\":{\"color\":[39.0,28.0,24.0,23.0,27.0,21.0,24.0,20.0,23.0,20.0,20.0,26.0,21.0,22.0,15.0,34.0,22.0,24.0,24.0,22.0,30.0,24.0,24.0,20.0,24.0,21.0,20.0,27.0,29.0,18.0,32.0,21.0,26.0,31.0,26.0,21.0,28.0,24.0,27.0,21.0,27.0,24.0,36.0,21.0,22.0,21.0,38.0,40.0,35.0,24.0,18.0,23.0,19.0,26.0,30.0,27.0,18.0,29.0,19.0,21.0,24.0,31.0,22.0,19.0,27.0,26.0,21.0,26.0,23.0,26.0,18.0,19.0,24.0,33.0,31.0,23.0,23.0,20.0,28.0,26.0,24.0,24.0,17.0,28.0,23.0,24.0,19.0,15.0,22.0,23.0,18.0,21.0,21.0,21.0,22.0,25.0,20.0,24.0,21.0,26.0,27.0,26.0,24.0,21.0,22.0,23.0,28.0,32.0,33.0,24.0,28.0,30.0,30.0,null,27.0,22.0,null,18.0,22.0,21.0,26.0,null,null,31.0,33.0,30.0,23.0,29.0,17.0,24.0,26.0,27.0,21.0,26.0,20.0,22.0,21.0,26.0,21.0,21.0,24.0,24.0,26.0,32.0,34.0,30.0,42.0,33.0,23.0,27.0,25.0,28.0,28.0,33.0,33.0,28.0,28.0,36.0,33.0,28.0,28.0,33.0,38.0,33.0,38.0,36.0,33.0,33.0,38.0,36.0,33.0,38.0,38.0,33.0,33.0,38.0,32.0,33.0,22.0,24.0,23.0,27.0,24.0,18.0,20.0,19.0,28.0,19.0,25.0,25.0,24.0,27.0,19.0,25.0,28.0,25.0,24.0,21.0,23.0,28.0,20.0,18.0,25.0,28.0,27.0,20.0,20.0,17.0,26.0,21.0,29.0,29.0,24.0,23.0,23.0,29.0,19.0,23.0,17.0,23.0,24.0,25.0,35.0,33.0,34.0,36.0,30.0,28.0,35.0,24.0,22.0,30.0,22.0,22.0,27.0,23.0,27.0,29.0,39.0,28.0,24.0,23.0,27.0,21.0,24.0,20.0,23.0,20.0,20.0,26.0,21.0,22.0,15.0,34.0,22.0,24.0,24.0,22.0,30.0,24.0,24.0,20.0,24.0,21.0,20.0,27.0,29.0,18.0,32.0,21.0,26.0,31.0,26.0,21.0,28.0,24.0,27.0,21.0,27.0,24.0,36.0,21.0,22.0,21.0,38.0,40.0,35.0,24.0,18.0,23.0,19.0,26.0,30.0,27.0,18.0,29.0,19.0,21.0,24.0,31.0,22.0,19.0,27.0,26.0,21.0,26.0,23.0,26.0,18.0,19.0,24.0,33.0,31.0,23.0,23.0,20.0,28.0,26.0,24.0,24.0,17.0,28.0,23.0,24.0,19.0,15.0,22.0,23.0,18.0,21.0,21.0,21.0,22.0,25.0,20.0,24.0,21.0,26.0,27.0,26.0,24.0,21.0,22.0,23.0,28.0,32.0,33.0,24.0,28.0,30.0,30.0,27.0,27.0,22.0,23.0,18.0,22.0,21.0,26.0,28.0,26.0,31.0,33.0,30.0,23.0,29.0,17.0,24.0,26.0,27.0,21.0,26.0,20.0,22.0,21.0,26.0,21.0,21.0,24.0,24.0,26.0,32.0,34.0,30.0,42.0,33.0,23.0,27.0,25.0,28.0,28.0,33.0,33.0,28.0,28.0,36.0,33.0,28.0,28.0,33.0,38.0,33.0,38.0,36.0,33.0,33.0,38.0,36.0,33.0,38.0,38.0,33.0,33.0,38.0,32.0,33.0,22.0,24.0,23.0,27.0,24.0,18.0,20.0,19.0,28.0,19.0,25.0,25.0,24.0,27.0,19.0,25.0,28.0,25.0,24.0,21.0,23.0,28.0,20.0,18.0,25.0,28.0,27.0,20.0,20.0,17.0,26.0,21.0,29.0,29.0,24.0,23.0,23.0,29.0,19.0,23.0,17.0,23.0,24.0,25.0,35.0,33.0,34.0,36.0,30.0,28.0,35.0,24.0,22.0,30.0,22.0,22.0,27.0,23.0,27.0,29.0,39.0,28.0,24.0,23.0,27.0,21.0,24.0,20.0,23.0,20.0,20.0,26.0,21.0,22.0,15.0,34.0,22.0,24.0,24.0,22.0,30.0,24.0,24.0,20.0,24.0,21.0,20.0,27.0,29.0,18.0,32.0,21.0,26.0,31.0,26.0,21.0,28.0,24.0,27.0,21.0,27.0,24.0,36.0,21.0,22.0,21.0,38.0,40.0,35.0,24.0,18.0,23.0,19.0,26.0,30.0,27.0,18.0,29.0,19.0,21.0,24.0,31.0,22.0,19.0,27.0,26.0,21.0,26.0,23.0,26.0,18.0,19.0,24.0,33.0,31.0,23.0,23.0,20.0,28.0,26.0,24.0,24.0,17.0,28.0,23.0,24.0,19.0,15.0,22.0,23.0,18.0,21.0,21.0,21.0,22.0,25.0,20.0,24.0,21.0,26.0,27.0,26.0,24.0,21.0,22.0,23.0,28.0,32.0,33.0,24.0,28.0,30.0,30.0,27.0,27.0,22.0,23.0,18.0,22.0,21.0,26.0,28.0,26.0,31.0,33.0,30.0,23.0,29.0,17.0,24.0,26.0,27.0,21.0,26.0,20.0,22.0,21.0,26.0,21.0,21.0,24.0,24.0,26.0,32.0,34.0,30.0,42.0,33.0,23.0,27.0,25.0,28.0,28.0,33.0,33.0,28.0,28.0,36.0,33.0,28.0,28.0,33.0,38.0,33.0,38.0,36.0,33.0,33.0,38.0,36.0,33.0,38.0,38.0,33.0,33.0,38.0,32.0,33.0,22.0,24.0,23.0,27.0,24.0,18.0,20.0,19.0,28.0,19.0,25.0,25.0,24.0,27.0,19.0,25.0,28.0,25.0,24.0,21.0,23.0,28.0,20.0,18.0,25.0,28.0,27.0,20.0,20.0,17.0,26.0,21.0,29.0,29.0,24.0,23.0,23.0,29.0,19.0,23.0,17.0,23.0,24.0,25.0,35.0,33.0,34.0,36.0,30.0,28.0,35.0,24.0,22.0,30.0,22.0,22.0,27.0,23.0,27.0,29.0,39.0,28.0,24.0,23.0,27.0,21.0,24.0,20.0,23.0,20.0,20.0,26.0,21.0,22.0,15.0,34.0,22.0,24.0,24.0,22.0,30.0,24.0,24.0,20.0,24.0,21.0,20.0,27.0,29.0,18.0,32.0,21.0,26.0,31.0,26.0,21.0,28.0,24.0,27.0,21.0,27.0,24.0,36.0,21.0,22.0,21.0,38.0,40.0,35.0,24.0,18.0,23.0,19.0,26.0,30.0,27.0,18.0,29.0,19.0,21.0,24.0,31.0,22.0,19.0,27.0,26.0,21.0,26.0,23.0,26.0,18.0,19.0,24.0,33.0,31.0,23.0,23.0,20.0,28.0,26.0,24.0,24.0,17.0,28.0,23.0,24.0,19.0,15.0,22.0,23.0,18.0,21.0,21.0,21.0,22.0,25.0,20.0,24.0,21.0,26.0,27.0,26.0,24.0,21.0,22.0,23.0,28.0,32.0,33.0,24.0,28.0,30.0,30.0,27.0,27.0,22.0,23.0,18.0,22.0,21.0,26.0,28.0,26.0,31.0,33.0,30.0,23.0,29.0,17.0,24.0,26.0,27.0,21.0,26.0,20.0,23.0,21.0,26.0,21.0,21.0,24.0,24.0,26.0,32.0,34.0,30.0,45.0,33.0,23.0,27.0,25.0,28.0,28.0,33.0,33.0,28.0,28.0,36.0,33.0,28.0,28.0,33.0,38.0,33.0,38.0,36.0,33.0,33.0,38.0,36.0,33.0,38.0,38.0,33.0,33.0,38.0,32.0,33.0,22.0,25.0,23.0,27.0,24.0,18.0,20.0,19.0,28.0,19.0,25.0,25.0,24.0,27.0,19.0,25.0,28.0,25.0,24.0,21.0,23.0,28.0,20.0,18.0,25.0,28.0,27.0,20.0,20.0,17.0,29.0,21.0,29.0,29.0,24.0,23.0,23.0,29.0,19.0,23.0,17.0,23.0,24.0,25.0,35.0,33.0,34.0,36.0,30.0,28.0,35.0,24.0,22.0,30.0,22.0,25.0,27.0,23.0,27.0,30.0],\"coloraxis\":\"coloraxis\",\"symbol\":\"circle\"},\"mode\":\"markers\",\"name\":\"\",\"orientation\":\"v\",\"showlegend\":false,\"x\":[\"Male\",\"Male\",\"Male\",\"Male\",\"Male\",\"Male\",\"Male\",\"Male\",\"Male\",\"Male\",\"Male\",\"Male\",\"Female\",\"Female\",\"Male\",\"Female\",\"Male\",\"Female\",\"Male\",\"Male\",\"Male\",\"Female\",\"Female\",\"Female\",\"Male\",\"Female\",\"Female\",\"Male\",\"Male\",\"Female\",\"Female\",\"Female\",\"Male\",\"Female\",\"Female\",\"Male\",\"Female\",\"Male\",\"Male\",\"Male\",\"Male\",\"Male\",\"Male\",\"Male\",\"Male\",\"Male\",\"Male\",\"Female\",\"Male\",\"Female\",\"Male\",\"Male\",\"Male\",\"Male\",\"Male\",\"Female\",\"Male\",\"Male\",\"Male\",\"Female\",\"Male\",\"Male\",\"Male\",\"Male\",\"Male\",\"Male\",\"Female\",\"Male\",\"Male\",\"Male\",\"Female\",\"Female\",\"Male\",\"Female\",\"Male\",\"Female\",\"Male\",\"Female\",\"Male\",\"Male\",\"Male\",\"Male\",\"Female\",\"Male\",\"Male\",\"Male\",\"Female\",\"Male\",\"Male\",\"Male\",\"Male\",\"Male\",\"Male\",\"Male\",\"Male\",\"Male\",\"Male\",\"Male\",\"Female\",\"Male\",\"Female\",\"Female\",\"Male\",\"Female\",\"Female\",\"Male\",\"Male\",\"Male\",\"Female\",\"Female\",\"Female\",\"Male\",\"Male\",\"Female\",\"Female\",\"Male\",\"Female\",\"Female\",\"Male\",\"Male\",\"Female\",\"Female\",\"Male\",\"Female\",\"Male\",\"Female\",\"Female\",\"Female\",\"Female\",\"Female\",\"Male\",\"Female\",\"Male\",\"Female\",\"Male\",\"Male\",\"Male\",\"Female\",\"Female\",\"Female\",\"Female\",\"Male\",\"Male\",\"Male\",\"Male\",\"Male\",\"Female\",\"Male\",\"Male\",\"Male\",\"Female\",\"Female\",\"Female\",\"Female\",\"Female\",\"Female\",\"Female\",\"Female\",\"Female\",\"Female\",\"Male\",\"Male\",\"Female\",\"Female\",\"Male\",\"Female\",\"Female\",\"Female\",\"Female\",\"Female\",\"Female\",\"Male\",\"Female\",\"Male\",\"Female\",\"Female\",\"Male\",\"Male\",\"Female\",\"Male\",\"Female\",\"Female\",\"Male\",\"Female\",\"Female\",\"Female\",\"Male\",\"Female\",\"Male\",\"Male\",\"Male\",\"Male\",\"Male\",\"Male\",\"Male\",\"Male\",\"Male\",\"Female\",\"Female\",\"Male\",\"Male\",\"Male\",\"Male\",\"Male\",\"Male\",\"Male\",\"Male\",\"Male\",\"Male\",\"Male\",\"Male\",\"Male\",\"Male\",\"Male\",\"Male\",\"Female\",\"Female\",\"Male\",\"Male\",\"Female\",\"Male\",\"Female\",\"Female\",\"Female\",\"Female\",\"Male\",\"Male\",\"Male\",\"Male\",\"Male\",\"Female\",\"Male\",\"Male\",\"Male\",\"Male\",\"Male\",\"Male\",\"Female\",\"Male\",\"Male\",\"Male\",\"Male\",\"Male\",\"Male\",\"Male\",\"Male\",\"Male\",\"Male\",\"Male\",\"Male\",\"Female\",\"Female\",\"Male\",\"Female\",\"Male\",\"Female\",\"Male\",\"Male\",\"Male\",\"Female\",\"Female\",\"Female\",\"Male\",\"Female\",\"Female\",\"Male\",\"Male\",\"Female\",\"Female\",\"Female\",\"Male\",\"Female\",\"Female\",\"Male\",\"Female\",\"Male\",\"Male\",\"Male\",\"Male\",\"Male\",\"Male\",\"Male\",\"Male\",\"Male\",\"Male\",\"Female\",\"Male\",\"Female\",\"Male\",\"Male\",\"Male\",\"Male\",\"Male\",\"Female\",\"Male\",\"Male\",\"Male\",\"Female\",\"Male\",\"Male\",\"Male\",\"Male\",\"Male\",\"Male\",\"Female\",\"Male\",\"Male\",\"Male\",\"Female\",\"Female\",\"Male\",\"Female\",\"Male\",\"Female\",\"Male\",\"Female\",\"Male\",\"Male\",\"Male\",\"Male\",\"Female\",\"Male\",\"Male\",\"Male\",\"Female\",\"Male\",\"Male\",\"Male\",\"Male\",\"Male\",\"Male\",\"Male\",\"Male\",\"Male\",\"Male\",\"Male\",\"Female\",\"Male\",\"Female\",\"Female\",\"Male\",\"Female\",\"Female\",\"Male\",\"Male\",\"Male\",\"Female\",\"Female\",\"Female\",\"Male\",\"Male\",\"Female\",\"Female\",\"Male\",\"Female\",\"Female\",\"Male\",\"Male\",\"Female\",\"Female\",\"Male\",\"Female\",\"Male\",\"Female\",\"Female\",\"Female\",\"Female\",\"Female\",\"Male\",\"Female\",\"Male\",\"Female\",\"Male\",\"Male\",\"Male\",\"Female\",\"Female\",\"Female\",\"Female\",\"Male\",\"Male\",\"Male\",\"Male\",\"Male\",\"Female\",\"Male\",\"Male\",\"Male\",\"Female\",\"Female\",\"Female\",\"Female\",\"Female\",\"Female\",\"Female\",\"Female\",\"Female\",\"Female\",\"Male\",\"Male\",\"Female\",\"Female\",\"Male\",\"Female\",\"Female\",\"Female\",\"Female\",\"Female\",\"Female\",\"Male\",\"Female\",\"Male\",\"Female\",\"Female\",\"Male\",\"Male\",\"Female\",\"Male\",\"Female\",\"Female\",\"Male\",\"Female\",\"Female\",\"Female\",\"Male\",\"Female\",\"Male\",\"Male\",\"Male\",\"Male\",\"Male\",\"Male\",\"Male\",\"Male\",\"Male\",\"Female\",\"Female\",\"Male\",\"Male\",\"Male\",\"Male\",\"Male\",\"Male\",\"Male\",\"Male\",\"Male\",\"Male\",\"Male\",\"Male\",\"Male\",\"Male\",\"Male\",\"Male\",\"Female\",\"Female\",\"Male\",\"Male\",\"Female\",\"Male\",\"Female\",\"Female\",\"Female\",\"Female\",\"Male\",\"Male\",\"Male\",\"Male\",\"Male\",\"Female\",\"Male\",\"Male\",\"Male\",\"Male\",\"Male\",\"Male\",\"Female\",\"Male\",\"Male\",\"Male\",\"Male\",\"Male\",\"Male\",\"Male\",\"Male\",\"Male\",\"Male\",\"Male\",\"Male\",\"Female\",\"Female\",\"Male\",\"Female\",\"Male\",\"Female\",\"Male\",\"Male\",\"Male\",\"Female\",\"Female\",\"Female\",\"Male\",\"Female\",\"Female\",\"Male\",\"Male\",\"Female\",\"Female\",\"Female\",\"Male\",\"Female\",\"Female\",\"Male\",\"Female\",\"Male\",\"Male\",\"Male\",\"Male\",\"Male\",\"Male\",\"Male\",\"Male\",\"Male\",\"Male\",\"Female\",\"Male\",\"Female\",\"Male\",\"Male\",\"Male\",\"Male\",\"Male\",\"Female\",\"Male\",\"Male\",\"Male\",\"Female\",\"Male\",\"Male\",\"Male\",\"Male\",\"Male\",\"Male\",\"Female\",\"Male\",\"Male\",\"Male\",\"Female\",\"Female\",\"Male\",\"Female\",\"Male\",\"Female\",\"Male\",\"Female\",\"Male\",\"Male\",\"Male\",\"Male\",\"Female\",\"Male\",\"Male\",\"Male\",\"Female\",\"Male\",\"Male\",\"Male\",\"Male\",\"Male\",\"Male\",\"Male\",\"Male\",\"Male\",\"Male\",\"Male\",\"Female\",\"Male\",\"Female\",\"Female\",\"Male\",\"Female\",\"Female\",\"Male\",\"Male\",\"Male\",\"Female\",\"Female\",\"Female\",\"Male\",\"Male\",\"Female\",\"Female\",\"Male\",\"Female\",\"Female\",\"Male\",\"Male\",\"Female\",\"Female\",\"Male\",\"Female\",\"Male\",\"Female\",\"Female\",\"Female\",\"Female\",\"Female\",\"Male\",\"Female\",\"Male\",\"Female\",\"Male\",\"Male\",\"Male\",\"Female\",\"Female\",\"Female\",\"Female\",\"Male\",\"Male\",\"Male\",\"Male\",\"Male\",\"Female\",\"Male\",\"Male\",\"Male\",\"Female\",\"Female\",\"Female\",\"Female\",\"Female\",\"Female\",\"Female\",\"Female\",\"Female\",\"Female\",\"Male\",\"Male\",\"Female\",\"Female\",\"Male\",\"Female\",\"Female\",\"Female\",\"Female\",\"Female\",\"Female\",\"Male\",\"Female\",\"Male\",\"Female\",\"Female\",\"Male\",\"Male\",\"Female\",\"Male\",\"Female\",\"Female\",\"Male\",\"Female\",\"Female\",\"Female\",\"Male\",\"Female\",\"Male\",\"Male\",\"Male\",\"Male\",\"Male\",\"Male\",\"Male\",\"Male\",\"Male\",\"Female\",\"Female\",\"Male\",\"Male\",\"Male\",\"Male\",\"Male\",\"Male\",\"Male\",\"Male\",\"Male\",\"Male\",\"Male\",\"Male\",\"Male\",\"Male\",\"Male\",\"Male\",\"Female\",\"Female\",\"Male\",\"Male\",\"Female\",\"Male\",\"Female\",\"Female\",\"Female\",\"Female\",\"Male\",\"Male\",\"Male\",\"Male\",\"Male\",\"Female\",\"Male\",\"Male\",\"Male\",\"Male\",\"Male\",\"Male\",\"Female\",\"Male\",\"Male\",\"Male\",\"Male\",\"Male\",\"Male\",\"Male\",\"Male\",\"Male\",\"Male\",\"Male\",\"Male\",\"Female\",\"Female\",\"Male\",\"Female\",\"Male\",\"Female\",\"Male\",\"Male\",\"Male\",\"Female\",\"Female\",\"Female\",\"Male\",\"Female\",\"Female\",\"Male\",\"Male\",\"Female\",\"Female\",\"Female\",\"Male\",\"Female\",\"Female\",\"Male\",\"Female\",\"Male\",\"Male\",\"Male\",\"Male\",\"Male\",\"Male\",\"Male\",\"Male\",\"Male\",\"Male\",\"Female\",\"Male\",\"Female\",\"Male\",\"Male\",\"Male\",\"Male\",\"Male\",\"Female\",\"Male\",\"Male\",\"Male\",\"Female\",\"Male\",\"Male\",\"Male\",\"Male\",\"Male\",\"Male\",\"Female\",\"Male\",\"Male\",\"Male\",\"Female\",\"Female\",\"Male\",\"Female\",\"Male\",\"Female\",\"Male\",\"Female\",\"Male\",\"Male\",\"Male\",\"Male\",\"Female\",\"Male\",\"Male\",\"Male\",\"Female\",\"Male\",\"Male\",\"Male\",\"Male\",\"Male\",\"Male\",\"Male\",\"Male\",\"Male\",\"Male\",\"Male\",\"Female\",\"Male\",\"Female\",\"Female\",\"Male\",\"Female\",\"Female\",\"Male\",\"Male\",\"Male\",\"Female\",\"Female\",\"Female\",\"Male\",\"Male\",\"Female\",\"Female\",\"Male\",\"Female\",\"Female\",\"Male\",\"Male\",\"Female\",\"Female\",\"Male\",\"Female\",\"Male\",\"Female\",\"Female\",\"Female\",\"Female\",\"Female\",\"Male\",\"Female\",\"Male\",\"Female\",\"Male\",\"Male\",\"Male\",\"Female\",\"Female\",\"Female\",\"Female\",\"Male\",\"Male\",\"Male\",\"Male\",\"Male\",\"Female\",\"Male\",\"Male\",\"Male\",\"Female\",\"Female\",\"Female\",\"Female\",\"Female\",\"Female\",\"Female\",\"Female\",\"Female\",\"Female\",\"Male\",\"Male\",\"Female\",\"Female\",\"Male\",\"Female\",\"Female\",\"Female\",\"Female\",\"Female\",\"Female\",\"Male\",\"Female\",\"Male\",\"Female\",\"Female\",\"Male\",\"Male\",\"Female\",\"Male\",\"Female\",\"Female\",\"Male\",\"Female\",\"Female\",\"Female\",\"Male\",\"Female\",\"Male\",\"Male\",\"Male\",\"Male\",\"Male\",\"Male\",\"Male\",\"Male\",\"Male\",\"Female\",\"Female\",\"Male\",\"Male\",\"Male\",\"Male\",\"Male\",\"Male\",\"Male\",\"Male\",\"Male\",\"Male\",\"Male\",\"Male\",\"Male\",\"Male\",\"Male\",\"Male\",\"Female\",\"Female\",\"Male\",\"Male\",\"Female\",\"Male\",\"Female\",\"Female\",\"Female\",\"Female\",\"Male\",\"Male\",\"Male\",\"Male\",\"Male\",\"Female\",\"Male\",\"Male\",\"Male\",\"Male\",\"Male\",\"Male\",\"Female\"],\"xaxis\":\"x\",\"y\":[\"50-59\",\"50-59\",\"40-49\",\"50-59\",\"40-49\",\"40-49\",\"less than 40\",\"less than 40\",\"40-49\",\"less than 40\",\"less than 40\",\"40-49\",\"less than 40\",\"less than 40\",\"less than 40\",\"40-49\",\"50-59\",\"less than 40\",\"40-49\",\"less than 40\",\"less than 40\",\"less than 40\",\"less than 40\",\"less than 40\",\"less than 40\",\"less than 40\",\"less than 40\",\"50-59\",\"40-49\",\"60 or older\",\"less than 40\",\"40-49\",\"60 or older\",\"60 or older\",\"60 or older\",\"60 or older\",\"40-49\",\"50-59\",\"40-49\",\"40-49\",\"60 or older\",\"60 or older\",\"less than 40\",\"less than 40\",\"40-49\",\"40-49\",\"50-59\",\"50-59\",\"60 or older\",\"60 or older\",\"60 or older\",\"40-49\",\"60 or older\",\"less than 40\",\"less than 40\",\"60 or older\",\"less than 40\",\"less than 40\",\"50-59\",\"50-59\",\"less than 40\",\"60 or older\",\"less than 40\",\"less than 40\",\"50-59\",\"40-49\",\"50-59\",\"60 or older\",\"50-59\",\"less than 40\",\"60 or older\",\"60 or older\",\"50-59\",\"60 or older\",\"50-59\",\"40-49\",\"50-59\",\"50-59\",\"50-59\",\"60 or older\",\"less than 40\",\"60 or older\",\"less than 40\",\"less than 40\",\"less than 40\",\"less than 40\",\"less than 40\",\"60 or older\",\"less than 40\",\"less than 40\",\"less than 40\",\"less than 40\",\"less than 40\",\"less than 40\",\"less than 40\",\"less than 40\",\"50-59\",\"less than 40\",\"less than 40\",\"50-59\",\"50-59\",\"less than 40\",\"less than 40\",\"less than 40\",\"40-49\",\"60 or older\",\"60 or older\",\"60 or older\",\"40-49\",\"less than 40\",\"50-59\",\"50-59\",\"50-59\",\"less than 40\",\"less than 40\",\"less than 40\",\"less than 40\",\"less than 40\",\"less than 40\",\"60 or older\",\"60 or older\",\"50-59\",\"less than 40\",\"50-59\",\"50-59\",\"less than 40\",\"less than 40\",\"less than 40\",\"40-49\",\"50-59\",\"60 or older\",\"less than 40\",\"40-49\",\"40-49\",\"less than 40\",\"less than 40\",\"less than 40\",\"less than 40\",\"less than 40\",\"less than 40\",\"less than 40\",\"less than 40\",\"less than 40\",\"50-59\",\"40-49\",\"less than 40\",\"50-59\",\"less than 40\",\"less than 40\",\"50-59\",\"40-49\",\"less than 40\",\"40-49\",\"40-49\",\"50-59\",\"50-59\",\"less than 40\",\"40-49\",\"less than 40\",\"less than 40\",\"40-49\",\"less than 40\",\"40-49\",\"50-59\",\"40-49\",\"40-49\",\"less than 40\",\"less than 40\",\"40-49\",\"40-49\",\"less than 40\",\"50-59\",\"60 or older\",\"60 or older\",\"less than 40\",\"less than 40\",\"less than 40\",\"less than 40\",\"40-49\",\"40-49\",\"60 or older\",\"60 or older\",\"60 or older\",\"less than 40\",\"less than 40\",\"less than 40\",\"less than 40\",\"less than 40\",\"less than 40\",\"less than 40\",\"less than 40\",\"less than 40\",\"less than 40\",\"less than 40\",\"less than 40\",\"less than 40\",\"less than 40\",\"less than 40\",\"less than 40\",\"less than 40\",\"less than 40\",\"less than 40\",\"less than 40\",\"less than 40\",\"less than 40\",\"less than 40\",\"less than 40\",\"less than 40\",\"less than 40\",\"less than 40\",\"less than 40\",\"less than 40\",\"less than 40\",\"less than 40\",\"less than 40\",\"less than 40\",\"less than 40\",\"less than 40\",\"less than 40\",\"50-59\",\"40-49\",\"less than 40\",\"50-59\",\"40-49\",\"40-49\",\"50-59\",\"60 or older\",\"less than 40\",\"40-49\",\"40-49\",\"50-59\",\"less than 40\",\"40-49\",\"less than 40\",\"60 or older\",\"60 or older\",\"60 or older\",\"60 or older\",\"50-59\",\"50-59\",\"40-49\",\"50-59\",\"40-49\",\"40-49\",\"less than 40\",\"less than 40\",\"40-49\",\"less than 40\",\"less than 40\",\"40-49\",\"less than 40\",\"less than 40\",\"less than 40\",\"40-49\",\"50-59\",\"less than 40\",\"40-49\",\"less than 40\",\"less than 40\",\"less than 40\",\"less than 40\",\"less than 40\",\"less than 40\",\"less than 40\",\"less than 40\",\"50-59\",\"40-49\",\"60 or older\",\"less than 40\",\"40-49\",\"60 or older\",\"60 or older\",\"60 or older\",\"60 or older\",\"40-49\",\"50-59\",\"40-49\",\"40-49\",\"60 or older\",\"60 or older\",\"less than 40\",\"less than 40\",\"40-49\",\"40-49\",\"50-59\",\"50-59\",\"60 or older\",\"60 or older\",\"60 or older\",\"40-49\",\"60 or older\",\"less than 40\",\"less than 40\",\"60 or older\",\"less than 40\",\"less than 40\",\"50-59\",\"50-59\",\"less than 40\",\"60 or older\",\"less than 40\",\"less than 40\",\"50-59\",\"40-49\",\"50-59\",\"60 or older\",\"50-59\",\"less than 40\",\"60 or older\",\"60 or older\",\"50-59\",\"60 or older\",\"50-59\",\"40-49\",\"50-59\",\"50-59\",\"50-59\",\"60 or older\",\"less than 40\",\"60 or older\",\"less than 40\",\"less than 40\",\"less than 40\",\"less than 40\",\"less than 40\",\"60 or older\",\"less than 40\",\"less than 40\",\"less than 40\",\"less than 40\",\"less than 40\",\"less than 40\",\"less than 40\",\"less than 40\",\"50-59\",\"less than 40\",\"less than 40\",\"50-59\",\"50-59\",\"less than 40\",\"less than 40\",\"less than 40\",\"40-49\",\"60 or older\",\"60 or older\",\"60 or older\",\"40-49\",\"less than 40\",\"50-59\",\"50-59\",\"50-59\",\"less than 40\",\"less than 40\",\"less than 40\",\"less than 40\",\"less than 40\",\"less than 40\",\"60 or older\",\"60 or older\",\"50-59\",\"less than 40\",\"50-59\",\"50-59\",\"less than 40\",\"less than 40\",\"less than 40\",\"40-49\",\"50-59\",\"60 or older\",\"less than 40\",\"40-49\",\"40-49\",\"less than 40\",\"less than 40\",\"less than 40\",\"less than 40\",\"less than 40\",\"less than 40\",\"less than 40\",\"less than 40\",\"less than 40\",\"50-59\",\"40-49\",\"less than 40\",\"50-59\",\"less than 40\",\"less than 40\",\"50-59\",\"40-49\",\"less than 40\",\"40-49\",\"40-49\",\"50-59\",\"50-59\",\"less than 40\",\"40-49\",\"less than 40\",\"less than 40\",\"40-49\",\"less than 40\",\"40-49\",\"50-59\",\"40-49\",\"40-49\",\"less than 40\",\"less than 40\",\"40-49\",\"40-49\",\"less than 40\",\"50-59\",\"60 or older\",\"60 or older\",\"less than 40\",\"less than 40\",\"less than 40\",\"less than 40\",\"40-49\",\"40-49\",\"60 or older\",\"60 or older\",\"60 or older\",\"less than 40\",\"less than 40\",\"less than 40\",\"less than 40\",\"less than 40\",\"less than 40\",\"less than 40\",\"less than 40\",\"less than 40\",\"less than 40\",\"less than 40\",\"less than 40\",\"less than 40\",\"less than 40\",\"less than 40\",\"less than 40\",\"less than 40\",\"less than 40\",\"less than 40\",\"less than 40\",\"less than 40\",\"less than 40\",\"less than 40\",\"less than 40\",\"less than 40\",\"less than 40\",\"less than 40\",\"less than 40\",\"less than 40\",\"less than 40\",\"less than 40\",\"less than 40\",\"less than 40\",\"less than 40\",\"less than 40\",\"less than 40\",\"50-59\",\"40-49\",\"less than 40\",\"50-59\",\"40-49\",\"40-49\",\"50-59\",\"60 or older\",\"less than 40\",\"40-49\",\"40-49\",\"50-59\",\"less than 40\",\"40-49\",\"less than 40\",\"60 or older\",\"60 or older\",\"60 or older\",\"60 or older\",\"50-59\",\"50-59\",\"40-49\",\"50-59\",\"40-49\",\"40-49\",\"less than 40\",\"less than 40\",\"40-49\",\"less than 40\",\"less than 40\",\"40-49\",\"less than 40\",\"less than 40\",\"less than 40\",\"40-49\",\"50-59\",\"less than 40\",\"40-49\",\"less than 40\",\"less than 40\",\"less than 40\",\"less than 40\",\"less than 40\",\"less than 40\",\"less than 40\",\"less than 40\",\"50-59\",\"40-49\",\"60 or older\",\"less than 40\",\"40-49\",\"60 or older\",\"60 or older\",\"60 or older\",\"60 or older\",\"40-49\",\"50-59\",\"40-49\",\"40-49\",\"60 or older\",\"60 or older\",\"less than 40\",\"less than 40\",\"40-49\",\"40-49\",\"50-59\",\"50-59\",\"60 or older\",\"60 or older\",\"60 or older\",\"40-49\",\"60 or older\",\"less than 40\",\"less than 40\",\"60 or older\",\"less than 40\",\"less than 40\",\"50-59\",\"50-59\",\"less than 40\",\"60 or older\",\"less than 40\",\"less than 40\",\"50-59\",\"40-49\",\"50-59\",\"60 or older\",\"50-59\",\"less than 40\",\"60 or older\",\"60 or older\",\"50-59\",\"60 or older\",\"50-59\",\"40-49\",\"50-59\",\"50-59\",\"50-59\",\"60 or older\",\"less than 40\",\"60 or older\",\"less than 40\",\"less than 40\",\"less than 40\",\"less than 40\",\"less than 40\",\"60 or older\",\"less than 40\",\"less than 40\",\"less than 40\",\"less than 40\",\"less than 40\",\"less than 40\",\"less than 40\",\"less than 40\",\"50-59\",\"less than 40\",\"less than 40\",\"50-59\",\"50-59\",\"less than 40\",\"less than 40\",\"less than 40\",\"40-49\",\"60 or older\",\"60 or older\",\"60 or older\",\"40-49\",\"less than 40\",\"50-59\",\"50-59\",\"50-59\",\"less than 40\",\"less than 40\",\"less than 40\",\"less than 40\",\"less than 40\",\"less than 40\",\"60 or older\",\"60 or older\",\"50-59\",\"less than 40\",\"50-59\",\"50-59\",\"less than 40\",\"less than 40\",\"less than 40\",\"40-49\",\"50-59\",\"60 or older\",\"less than 40\",\"40-49\",\"40-49\",\"less than 40\",\"less than 40\",\"less than 40\",\"less than 40\",\"less than 40\",\"less than 40\",\"less than 40\",\"less than 40\",\"less than 40\",\"50-59\",\"40-49\",\"less than 40\",\"50-59\",\"less than 40\",\"less than 40\",\"50-59\",\"40-49\",\"less than 40\",\"40-49\",\"40-49\",\"50-59\",\"50-59\",\"less than 40\",\"40-49\",\"less than 40\",\"less than 40\",\"40-49\",\"less than 40\",\"40-49\",\"50-59\",\"40-49\",\"40-49\",\"less than 40\",\"less than 40\",\"40-49\",\"40-49\",\"less than 40\",\"50-59\",\"60 or older\",\"60 or older\",\"less than 40\",\"less than 40\",\"less than 40\",\"less than 40\",\"40-49\",\"40-49\",\"60 or older\",\"60 or older\",\"60 or older\",\"less than 40\",\"less than 40\",\"less than 40\",\"less than 40\",\"less than 40\",\"less than 40\",\"less than 40\",\"less than 40\",\"less than 40\",\"less than 40\",\"less than 40\",\"less than 40\",\"less than 40\",\"less than 40\",\"less than 40\",\"less than 40\",\"less than 40\",\"less than 40\",\"less than 40\",\"less than 40\",\"less than 40\",\"less than 40\",\"less than 40\",\"less than 40\",\"less than 40\",\"less than 40\",\"less than 40\",\"less than 40\",\"less than 40\",\"less than 40\",\"less than 40\",\"less than 40\",\"less than 40\",\"less than 40\",\"less than 40\",\"less than 40\",\"50-59\",\"40-49\",\"less than 40\",\"50-59\",\"40-49\",\"40-49\",\"50-59\",\"60 or older\",\"less than 40\",\"40-49\",\"40-49\",\"50-59\",\"less than 40\",\"40-49\",\"less than 40\",\"60 or older\",\"60 or older\",\"60 or older\",\"60 or older\",\"50-59\",\"50-59\",\"40-49\",\"50-59\",\"40-49\",\"40-49\",\"less than 40\",\"less than 40\",\"40-49\",\"less than 40\",\"less than 40\",\"40-49\",\"less than 40\",\"less than 40\",\"less than 40\",\"40-49\",\"50-59\",\"less than 40\",\"40-49\",\"less than 40\",\"less than 40\",\"less than 40\",\"less than 40\",\"less than 40\",\"less than 40\",\"less than 40\",\"less than 40\",\"50-59\",\"40-49\",\"60 or older\",\"less than 40\",\"40-49\",\"60 or older\",\"60 or older\",\"60 or older\",\"60 or older\",\"40-49\",\"50-59\",\"40-49\",\"40-49\",\"60 or older\",\"60 or older\",\"less than 40\",\"less than 40\",\"40-49\",\"40-49\",\"50-59\",\"50-59\",\"60 or older\",\"60 or older\",\"60 or older\",\"40-49\",\"60 or older\",\"less than 40\",\"less than 40\",\"60 or older\",\"less than 40\",\"less than 40\",\"50-59\",\"50-59\",\"less than 40\",\"60 or older\",\"less than 40\",\"less than 40\",\"50-59\",\"40-49\",\"50-59\",\"60 or older\",\"50-59\",\"less than 40\",\"60 or older\",\"60 or older\",\"50-59\",\"60 or older\",\"50-59\",\"40-49\",\"50-59\",\"50-59\",\"50-59\",\"60 or older\",\"less than 40\",\"60 or older\",\"less than 40\",\"less than 40\",\"less than 40\",\"less than 40\",\"less than 40\",\"60 or older\",\"less than 40\",\"less than 40\",\"less than 40\",\"less than 40\",\"less than 40\",\"less than 40\",\"less than 40\",\"less than 40\",\"50-59\",\"less than 40\",\"less than 40\",\"50-59\",\"50-59\",\"less than 40\",\"less than 40\",\"less than 40\",\"40-49\",\"60 or older\",\"60 or older\",\"60 or older\",\"40-49\",\"less than 40\",\"50-59\",\"50-59\",\"50-59\",\"less than 40\",\"less than 40\",\"less than 40\",\"less than 40\",\"less than 40\",\"less than 40\",\"60 or older\",\"60 or older\",\"50-59\",\"less than 40\",\"50-59\",\"50-59\",\"less than 40\",\"less than 40\",\"less than 40\",\"40-49\",\"50-59\",\"60 or older\",\"less than 40\",\"40-49\",\"40-49\",\"less than 40\",\"less than 40\",\"less than 40\",\"less than 40\",\"less than 40\",\"less than 40\",\"less than 40\",\"less than 40\",\"less than 40\",\"50-59\",\"40-49\",\"less than 40\",\"50-59\",\"less than 40\",\"less than 40\",\"50-59\",\"40-49\",\"less than 40\",\"40-49\",\"40-49\",\"50-59\",\"50-59\",\"less than 40\",\"40-49\",\"less than 40\",\"less than 40\",\"40-49\",\"less than 40\",\"40-49\",\"50-59\",\"40-49\",\"40-49\",\"less than 40\",\"less than 40\",\"40-49\",\"40-49\",\"less than 40\",\"50-59\",\"60 or older\",\"60 or older\",\"less than 40\",\"less than 40\",\"less than 40\",\"less than 40\",\"40-49\",\"40-49\",\"60 or older\",\"60 or older\",\"60 or older\",\"less than 40\",\"less than 40\",\"less than 40\",\"less than 40\",\"less than 40\",\"less than 40\",\"less than 40\",\"less than 40\",\"less than 40\",\"less than 40\",\"less than 40\",\"less than 40\",\"less than 40\",\"less than 40\",\"less than 40\",\"less than 40\",\"less than 40\",\"less than 40\",\"less than 40\",\"less than 40\",\"less than 40\",\"less than 40\",\"less than 40\",\"less than 40\",\"less than 40\",\"less than 40\",\"less than 40\",\"less than 40\",\"less than 40\",\"less than 40\",\"less than 40\",\"less than 40\",\"less than 40\",\"less than 40\",\"less than 40\",\"less than 40\",\"50-59\",\"40-49\",\"less than 40\",\"50-59\",\"40-49\",\"40-49\",\"50-59\",\"60 or older\",\"less than 40\",\"40-49\",\"40-49\",\"50-59\",\"less than 40\",\"40-49\",\"less than 40\",\"60 or older\",\"60 or older\",\"60 or older\",\"60 or older\"],\"yaxis\":\"y\",\"type\":\"scatter\"}],                        {\"template\":{\"data\":{\"histogram2dcontour\":[{\"type\":\"histogram2dcontour\",\"colorbar\":{\"outlinewidth\":0,\"ticks\":\"\"},\"colorscale\":[[0.0,\"#0d0887\"],[0.1111111111111111,\"#46039f\"],[0.2222222222222222,\"#7201a8\"],[0.3333333333333333,\"#9c179e\"],[0.4444444444444444,\"#bd3786\"],[0.5555555555555556,\"#d8576b\"],[0.6666666666666666,\"#ed7953\"],[0.7777777777777778,\"#fb9f3a\"],[0.8888888888888888,\"#fdca26\"],[1.0,\"#f0f921\"]]}],\"choropleth\":[{\"type\":\"choropleth\",\"colorbar\":{\"outlinewidth\":0,\"ticks\":\"\"}}],\"histogram2d\":[{\"type\":\"histogram2d\",\"colorbar\":{\"outlinewidth\":0,\"ticks\":\"\"},\"colorscale\":[[0.0,\"#0d0887\"],[0.1111111111111111,\"#46039f\"],[0.2222222222222222,\"#7201a8\"],[0.3333333333333333,\"#9c179e\"],[0.4444444444444444,\"#bd3786\"],[0.5555555555555556,\"#d8576b\"],[0.6666666666666666,\"#ed7953\"],[0.7777777777777778,\"#fb9f3a\"],[0.8888888888888888,\"#fdca26\"],[1.0,\"#f0f921\"]]}],\"heatmap\":[{\"type\":\"heatmap\",\"colorbar\":{\"outlinewidth\":0,\"ticks\":\"\"},\"colorscale\":[[0.0,\"#0d0887\"],[0.1111111111111111,\"#46039f\"],[0.2222222222222222,\"#7201a8\"],[0.3333333333333333,\"#9c179e\"],[0.4444444444444444,\"#bd3786\"],[0.5555555555555556,\"#d8576b\"],[0.6666666666666666,\"#ed7953\"],[0.7777777777777778,\"#fb9f3a\"],[0.8888888888888888,\"#fdca26\"],[1.0,\"#f0f921\"]]}],\"heatmapgl\":[{\"type\":\"heatmapgl\",\"colorbar\":{\"outlinewidth\":0,\"ticks\":\"\"},\"colorscale\":[[0.0,\"#0d0887\"],[0.1111111111111111,\"#46039f\"],[0.2222222222222222,\"#7201a8\"],[0.3333333333333333,\"#9c179e\"],[0.4444444444444444,\"#bd3786\"],[0.5555555555555556,\"#d8576b\"],[0.6666666666666666,\"#ed7953\"],[0.7777777777777778,\"#fb9f3a\"],[0.8888888888888888,\"#fdca26\"],[1.0,\"#f0f921\"]]}],\"contourcarpet\":[{\"type\":\"contourcarpet\",\"colorbar\":{\"outlinewidth\":0,\"ticks\":\"\"}}],\"contour\":[{\"type\":\"contour\",\"colorbar\":{\"outlinewidth\":0,\"ticks\":\"\"},\"colorscale\":[[0.0,\"#0d0887\"],[0.1111111111111111,\"#46039f\"],[0.2222222222222222,\"#7201a8\"],[0.3333333333333333,\"#9c179e\"],[0.4444444444444444,\"#bd3786\"],[0.5555555555555556,\"#d8576b\"],[0.6666666666666666,\"#ed7953\"],[0.7777777777777778,\"#fb9f3a\"],[0.8888888888888888,\"#fdca26\"],[1.0,\"#f0f921\"]]}],\"surface\":[{\"type\":\"surface\",\"colorbar\":{\"outlinewidth\":0,\"ticks\":\"\"},\"colorscale\":[[0.0,\"#0d0887\"],[0.1111111111111111,\"#46039f\"],[0.2222222222222222,\"#7201a8\"],[0.3333333333333333,\"#9c179e\"],[0.4444444444444444,\"#bd3786\"],[0.5555555555555556,\"#d8576b\"],[0.6666666666666666,\"#ed7953\"],[0.7777777777777778,\"#fb9f3a\"],[0.8888888888888888,\"#fdca26\"],[1.0,\"#f0f921\"]]}],\"mesh3d\":[{\"type\":\"mesh3d\",\"colorbar\":{\"outlinewidth\":0,\"ticks\":\"\"}}],\"scatter\":[{\"fillpattern\":{\"fillmode\":\"overlay\",\"size\":10,\"solidity\":0.2},\"type\":\"scatter\"}],\"parcoords\":[{\"type\":\"parcoords\",\"line\":{\"colorbar\":{\"outlinewidth\":0,\"ticks\":\"\"}}}],\"scatterpolargl\":[{\"type\":\"scatterpolargl\",\"marker\":{\"colorbar\":{\"outlinewidth\":0,\"ticks\":\"\"}}}],\"bar\":[{\"error_x\":{\"color\":\"#2a3f5f\"},\"error_y\":{\"color\":\"#2a3f5f\"},\"marker\":{\"line\":{\"color\":\"#E5ECF6\",\"width\":0.5},\"pattern\":{\"fillmode\":\"overlay\",\"size\":10,\"solidity\":0.2}},\"type\":\"bar\"}],\"scattergeo\":[{\"type\":\"scattergeo\",\"marker\":{\"colorbar\":{\"outlinewidth\":0,\"ticks\":\"\"}}}],\"scatterpolar\":[{\"type\":\"scatterpolar\",\"marker\":{\"colorbar\":{\"outlinewidth\":0,\"ticks\":\"\"}}}],\"histogram\":[{\"marker\":{\"pattern\":{\"fillmode\":\"overlay\",\"size\":10,\"solidity\":0.2}},\"type\":\"histogram\"}],\"scattergl\":[{\"type\":\"scattergl\",\"marker\":{\"colorbar\":{\"outlinewidth\":0,\"ticks\":\"\"}}}],\"scatter3d\":[{\"type\":\"scatter3d\",\"line\":{\"colorbar\":{\"outlinewidth\":0,\"ticks\":\"\"}},\"marker\":{\"colorbar\":{\"outlinewidth\":0,\"ticks\":\"\"}}}],\"scattermapbox\":[{\"type\":\"scattermapbox\",\"marker\":{\"colorbar\":{\"outlinewidth\":0,\"ticks\":\"\"}}}],\"scatterternary\":[{\"type\":\"scatterternary\",\"marker\":{\"colorbar\":{\"outlinewidth\":0,\"ticks\":\"\"}}}],\"scattercarpet\":[{\"type\":\"scattercarpet\",\"marker\":{\"colorbar\":{\"outlinewidth\":0,\"ticks\":\"\"}}}],\"carpet\":[{\"aaxis\":{\"endlinecolor\":\"#2a3f5f\",\"gridcolor\":\"white\",\"linecolor\":\"white\",\"minorgridcolor\":\"white\",\"startlinecolor\":\"#2a3f5f\"},\"baxis\":{\"endlinecolor\":\"#2a3f5f\",\"gridcolor\":\"white\",\"linecolor\":\"white\",\"minorgridcolor\":\"white\",\"startlinecolor\":\"#2a3f5f\"},\"type\":\"carpet\"}],\"table\":[{\"cells\":{\"fill\":{\"color\":\"#EBF0F8\"},\"line\":{\"color\":\"white\"}},\"header\":{\"fill\":{\"color\":\"#C8D4E3\"},\"line\":{\"color\":\"white\"}},\"type\":\"table\"}],\"barpolar\":[{\"marker\":{\"line\":{\"color\":\"#E5ECF6\",\"width\":0.5},\"pattern\":{\"fillmode\":\"overlay\",\"size\":10,\"solidity\":0.2}},\"type\":\"barpolar\"}],\"pie\":[{\"automargin\":true,\"type\":\"pie\"}]},\"layout\":{\"autotypenumbers\":\"strict\",\"colorway\":[\"#636efa\",\"#EF553B\",\"#00cc96\",\"#ab63fa\",\"#FFA15A\",\"#19d3f3\",\"#FF6692\",\"#B6E880\",\"#FF97FF\",\"#FECB52\"],\"font\":{\"color\":\"#2a3f5f\"},\"hovermode\":\"closest\",\"hoverlabel\":{\"align\":\"left\"},\"paper_bgcolor\":\"white\",\"plot_bgcolor\":\"#E5ECF6\",\"polar\":{\"bgcolor\":\"#E5ECF6\",\"angularaxis\":{\"gridcolor\":\"white\",\"linecolor\":\"white\",\"ticks\":\"\"},\"radialaxis\":{\"gridcolor\":\"white\",\"linecolor\":\"white\",\"ticks\":\"\"}},\"ternary\":{\"bgcolor\":\"#E5ECF6\",\"aaxis\":{\"gridcolor\":\"white\",\"linecolor\":\"white\",\"ticks\":\"\"},\"baxis\":{\"gridcolor\":\"white\",\"linecolor\":\"white\",\"ticks\":\"\"},\"caxis\":{\"gridcolor\":\"white\",\"linecolor\":\"white\",\"ticks\":\"\"}},\"coloraxis\":{\"colorbar\":{\"outlinewidth\":0,\"ticks\":\"\"}},\"colorscale\":{\"sequential\":[[0.0,\"#0d0887\"],[0.1111111111111111,\"#46039f\"],[0.2222222222222222,\"#7201a8\"],[0.3333333333333333,\"#9c179e\"],[0.4444444444444444,\"#bd3786\"],[0.5555555555555556,\"#d8576b\"],[0.6666666666666666,\"#ed7953\"],[0.7777777777777778,\"#fb9f3a\"],[0.8888888888888888,\"#fdca26\"],[1.0,\"#f0f921\"]],\"sequentialminus\":[[0.0,\"#0d0887\"],[0.1111111111111111,\"#46039f\"],[0.2222222222222222,\"#7201a8\"],[0.3333333333333333,\"#9c179e\"],[0.4444444444444444,\"#bd3786\"],[0.5555555555555556,\"#d8576b\"],[0.6666666666666666,\"#ed7953\"],[0.7777777777777778,\"#fb9f3a\"],[0.8888888888888888,\"#fdca26\"],[1.0,\"#f0f921\"]],\"diverging\":[[0,\"#8e0152\"],[0.1,\"#c51b7d\"],[0.2,\"#de77ae\"],[0.3,\"#f1b6da\"],[0.4,\"#fde0ef\"],[0.5,\"#f7f7f7\"],[0.6,\"#e6f5d0\"],[0.7,\"#b8e186\"],[0.8,\"#7fbc41\"],[0.9,\"#4d9221\"],[1,\"#276419\"]]},\"xaxis\":{\"gridcolor\":\"white\",\"linecolor\":\"white\",\"ticks\":\"\",\"title\":{\"standoff\":15},\"zerolinecolor\":\"white\",\"automargin\":true,\"zerolinewidth\":2},\"yaxis\":{\"gridcolor\":\"white\",\"linecolor\":\"white\",\"ticks\":\"\",\"title\":{\"standoff\":15},\"zerolinecolor\":\"white\",\"automargin\":true,\"zerolinewidth\":2},\"scene\":{\"xaxis\":{\"backgroundcolor\":\"#E5ECF6\",\"gridcolor\":\"white\",\"linecolor\":\"white\",\"showbackground\":true,\"ticks\":\"\",\"zerolinecolor\":\"white\",\"gridwidth\":2},\"yaxis\":{\"backgroundcolor\":\"#E5ECF6\",\"gridcolor\":\"white\",\"linecolor\":\"white\",\"showbackground\":true,\"ticks\":\"\",\"zerolinecolor\":\"white\",\"gridwidth\":2},\"zaxis\":{\"backgroundcolor\":\"#E5ECF6\",\"gridcolor\":\"white\",\"linecolor\":\"white\",\"showbackground\":true,\"ticks\":\"\",\"zerolinecolor\":\"white\",\"gridwidth\":2}},\"shapedefaults\":{\"line\":{\"color\":\"#2a3f5f\"}},\"annotationdefaults\":{\"arrowcolor\":\"#2a3f5f\",\"arrowhead\":0,\"arrowwidth\":1},\"geo\":{\"bgcolor\":\"white\",\"landcolor\":\"#E5ECF6\",\"subunitcolor\":\"white\",\"showland\":true,\"showlakes\":true,\"lakecolor\":\"white\"},\"title\":{\"x\":0.05},\"mapbox\":{\"style\":\"light\"}}},\"xaxis\":{\"anchor\":\"y\",\"domain\":[0.0,1.0],\"title\":{\"text\":\"Gender\"}},\"yaxis\":{\"anchor\":\"x\",\"domain\":[0.0,1.0],\"title\":{\"text\":\"Age\"}},\"coloraxis\":{\"colorbar\":{\"title\":{\"text\":\"BMI\"}},\"colorscale\":[[0.0,\"#0d0887\"],[0.1111111111111111,\"#46039f\"],[0.2222222222222222,\"#7201a8\"],[0.3333333333333333,\"#9c179e\"],[0.4444444444444444,\"#bd3786\"],[0.5555555555555556,\"#d8576b\"],[0.6666666666666666,\"#ed7953\"],[0.7777777777777778,\"#fb9f3a\"],[0.8888888888888888,\"#fdca26\"],[1.0,\"#f0f921\"]]},\"legend\":{\"tracegroupgap\":0},\"title\":{\"text\":\" Age, Gender and Body Mass Index of Diabetic Patitents\"}},                        {\"responsive\": true}                    ).then(function(){\n                            \nvar gd = document.getElementById('6f4869c0-ae31-42d2-8ddc-6b7fa0a0cabc');\nvar x = new MutationObserver(function (mutations, observer) {{\n        var display = window.getComputedStyle(gd).display;\n        if (!display || display === 'none') {{\n            console.log([gd, 'removed!']);\n            Plotly.purge(gd);\n            observer.disconnect();\n        }}\n}});\n\n// Listen for the removal of the full notebook cells\nvar notebookContainer = gd.closest('#notebook-container');\nif (notebookContainer) {{\n    x.observe(notebookContainer, {childList: true});\n}}\n\n// Listen for the clearing of the current output cell\nvar outputEl = gd.closest('.output');\nif (outputEl) {{\n    x.observe(outputEl, {childList: true});\n}}\n\n                        })                };                            </script>        </div>\n</body>\n</html>"
     },
     "execution_count": 46,
     "metadata": {
     },
     "output_type": "execute_result"
    }
   ],
   "source": [
    "#the relationship between pregnancies and glucose levels\n",
    "import plotly.express as px\n",
    "fig = px.scatter(diabetes, x=\"Gender\", y=\"Age\",color=\"BMI\",\n",
    "            title=\" Age, Gender and Body Mass Index of Diabetic Patitents\")\n",
    "fig.show()"
   ]
  },
  {
   "cell_type": "code",
   "execution_count": 67,
   "metadata": {
    "collapsed": false
   },
   "outputs": [
    {
     "ename": "TypeError",
     "evalue": "pie() got an unexpected keyword argument 'x'",
     "output_type": "error",
     "traceback": [
      "\u001b[0;31m---------------------------------------------------------------------------\u001b[0m",
      "\u001b[0;31mTypeError\u001b[0m                                 Traceback (most recent call last)",
      "Input \u001b[0;32mIn [67]\u001b[0m, in \u001b[0;36m<cell line: 3>\u001b[0;34m()\u001b[0m\n\u001b[1;32m      1\u001b[0m \u001b[38;5;28;01mimport\u001b[39;00m \u001b[38;5;21;01mplotly\u001b[39;00m\u001b[38;5;21;01m.\u001b[39;00m\u001b[38;5;21;01mexpress\u001b[39;00m \u001b[38;5;28;01mas\u001b[39;00m \u001b[38;5;21;01mpx\u001b[39;00m\n\u001b[0;32m----> 3\u001b[0m fig \u001b[38;5;241m=\u001b[39m \u001b[43mpx\u001b[49m\u001b[38;5;241;43m.\u001b[39;49m\u001b[43mpie\u001b[49m\u001b[43m(\u001b[49m\u001b[43mdiabetes\u001b[49m\u001b[43m,\u001b[49m\u001b[43mx\u001b[49m\u001b[38;5;241;43m=\u001b[39;49m\u001b[38;5;124;43m'\u001b[39;49m\u001b[38;5;124;43mSmoking\u001b[39;49m\u001b[38;5;124;43m'\u001b[39;49m\u001b[43m,\u001b[49m\u001b[43m \u001b[49m\u001b[43my\u001b[49m\u001b[38;5;241;43m=\u001b[39;49m\u001b[38;5;124;43m'\u001b[39;49m\u001b[38;5;124;43mJunkfood\u001b[39;49m\u001b[38;5;124;43m'\u001b[39;49m\u001b[43m)\u001b[49m\n\u001b[1;32m      4\u001b[0m fig\u001b[38;5;241m.\u001b[39mshow()\n",
      "\u001b[0;31mTypeError\u001b[0m: pie() got an unexpected keyword argument 'x'"
     ]
    }
   ],
   "source": [
    "import plotly.express as px\n",
    "df = px.data.gapminder().query(\"year == 2007\").query(\"continent == 'Europe'\")\n",
    "df.loc[df['pop'] < 2.e6, 'country'] = 'Other countries' # Represent only large countries\n",
    "fig = px.pie(df, values='pop', names='country', title='Population of European continent')\n",
    "fig.show()"
   ]
  },
  {
   "cell_type": "code",
   "execution_count": 21,
   "metadata": {
    "collapsed": false
   },
   "outputs": [
    {
     "data": {
      "text/html": "<html>\n<head><meta charset=\"utf-8\" /></head>\n<body>\n    <div>            <script src=\"https://cdnjs.cloudflare.com/ajax/libs/mathjax/2.7.5/MathJax.js?config=TeX-AMS-MML_SVG\"></script><script type=\"text/javascript\">if (window.MathJax && window.MathJax.Hub && && window.MathJax.Hub.Config) {window.MathJax.Hub.Config({SVG: {font: \"STIX-Web\"}});}</script>                <script type=\"text/javascript\">window.PlotlyConfig = {MathJaxConfig: 'local'};</script>\n        <script src=\"https://cdn.plot.ly/plotly-2.12.1.min.js\"></script>                <div id=\"26cb9f08-7961-43ea-8afa-b8053acb04db\" class=\"plotly-graph-div\" style=\"height:525px; width:100%;\"></div>            <script type=\"text/javascript\">                                    window.PLOTLYENV=window.PLOTLYENV || {};                                    if (document.getElementById(\"26cb9f08-7961-43ea-8afa-b8053acb04db\")) {                    Plotly.newPlot(                        \"26cb9f08-7961-43ea-8afa-b8053acb04db\",                        [{\"hovertemplate\":\"Age=%{x}<br>BloodPressure=%{y}<br>Outcome=%{marker.color}<extra></extra>\",\"legendgroup\":\"\",\"marker\":{\"color\":[1,0,1,0,1,0,1,0,1,1,0,1,0,1,1,1,1,1,0,1,0,0,1,1,1,1,1,0,0,0,0,1,0,0,0,0,0,1,1,1,0,0,0,1,0,1,0,0,1,0,0,0,0,1,0,0,1,0,0,0,0,1,0,0,1,0,1,0,0,0,1,0,1,0,0,0,0,0,1,0,0,0,0,0,1,0,0,0,1,0,0,0,0,1,0,0,0,0,0,1,1,0,0,0,0,0,0,0,0,1,1,1,0,0,1,1,1,0,0,0,1,0,0,0,1,1,0,0,1,1,1,1,1,0,0,0,0,0,0,0,0,0,0,1,0,0,0,0,0,0,0,0,1,0,1,1,0,0,0,1,0,0,0,0,1,1,0,0,0,0,1,1,0,0,0,1,0,1,0,1,0,0,0,0,0,1,1,1,1,1,0,0,1,1,0,1,0,1,1,1,0,0,0,0,0,0,1,1,0,1,0,0,0,1,1,1,1,0,1,1,1,1,0,0,0,0,0,1,0,0,1,1,0,0,0,1,1,1,1,0,0,0,1,1,0,1,0,0,0,0,0,0,0,0,1,1,0,0,0,1,0,1,0,0,1,0,1,0,0,1,1,0,0,0,0,0,1,0,0,0,1,0,0,1,1,0,0,1,0,0,0,1,1,1,0,0,1,0,1,0,1,1,0,1,0,0,1,0,1,1,0,0,1,0,1,0,0,1,0,1,0,1,1,1,0,0,1,0,1,0,0,0,1,0,0,0,0,1,1,1,0,0,0,0,0,0,0,0,0,1,0,0,0,0,0,1,1,1,0,1,1,0,0,1,0,0,1,0,0,1,1,0,0,0,0,1,0,0,1,0,0,0,0,0,0,0,1,1,1,0,0,1,0,0,1,0,0,1,0,1,1,0,1,0,1,0,1,0,1,1,0,0,0,0,1,1,0,1,0,1,0,0,0,0,1,1,0,1,0,1,0,0,0,0,0,1,0,0,0,0,1,0,0,1,1,1,0,0,1,0,0,1,0,0,0,1,0,0,1,0,0,0,0,0,0,0,0,0,1,0,0,0,0,0,0,0,1,0,0,0,1,0,0,0,1,1,0,0,0,0,0,0,0,1,0,0,0,0,1,0,0,0,1,0,0,0,1,0,0,0,1,0,0,0,0,1,1,0,0,0,0,0,0,1,0,0,0,0,0,0,0,0,0,0,0,1,0,0,0,1,1,1,1,0,0,1,1,0,0,0,0,0,0,0,0,0,0,0,0,0,1,1,0,0,0,0,0,0,0,1,0,0,0,0,0,0,0,1,0,1,1,0,0,0,1,0,1,0,1,0,1,0,1,0,0,1,0,0,1,0,0,0,0,1,1,0,1,0,0,0,0,1,1,0,1,0,0,0,1,1,0,0,0,0,0,0,0,0,0,0,1,0,0,0,0,1,0,0,1,0,0,0,1,0,0,0,1,1,1,0,0,0,0,0,0,1,0,0,0,1,0,1,1,1,1,0,1,1,0,0,0,0,0,0,0,1,1,0,1,0,0,1,0,1,0,0,0,0,0,1,0,1,0,1,0,1,1,0,0,0,0,1,1,0,0,0,1,0,1,1,0,0,1,0,0,1,1,0,0,1,0,0,1,0,0,0,0,0,0,0,1,1,1,0,0,0,0,0,0,1,1,0,0,1,0,0,1,0,1,1,1,0,0,1,1,1,0,1,0,1,0,1,0,0,0,0,1,0],\"coloraxis\":\"coloraxis\",\"symbol\":\"circle\"},\"mode\":\"markers\",\"name\":\"\",\"orientation\":\"v\",\"showlegend\":false,\"x\":[50,31,32,21,33,30,26,29,53,54,30,34,57,59,51,32,31,31,33,32,27,50,41,29,51,41,43,22,57,38,60,28,22,28,45,33,35,46,27,56,26,37,48,54,40,25,29,22,31,24,22,26,30,58,42,21,41,31,44,22,21,39,36,24,42,32,38,54,25,27,28,26,42,23,22,22,41,27,26,24,22,22,36,22,37,27,45,26,43,24,21,34,42,60,21,40,24,22,23,31,33,22,21,24,27,21,27,37,25,24,24,46,23,25,39,61,38,25,22,21,25,24,23,69,23,26,30,23,40,62,33,33,30,39,26,31,21,22,29,28,55,38,22,42,23,21,41,34,65,22,24,37,42,23,43,36,21,23,22,47,36,45,27,21,32,41,22,34,29,29,36,29,25,23,33,36,42,26,47,37,32,23,21,27,40,41,60,33,31,25,21,40,36,40,42,29,21,23,26,29,21,28,32,27,55,27,57,52,21,41,25,24,60,24,36,38,25,32,32,41,21,66,37,61,26,22,26,24,31,24,22,46,22,29,23,26,51,23,32,27,21,22,22,33,29,49,41,23,34,23,42,27,24,25,44,21,30,25,24,51,34,27,24,63,35,43,25,24,21,28,38,21,40,21,52,25,29,23,57,22,28,39,37,47,52,51,34,29,26,33,21,25,31,24,65,28,29,24,46,58,30,25,35,28,37,29,47,21,25,30,41,22,27,25,43,26,30,29,28,59,31,25,36,43,21,24,30,37,23,37,46,25,41,44,22,26,44,44,33,41,22,36,22,33,57,49,22,23,26,37,29,30,46,24,21,49,28,44,48,29,29,63,65,67,30,30,29,21,22,45,25,21,21,25,28,58,22,22,32,35,24,22,21,25,25,24,35,45,58,28,42,27,21,37,31,25,39,22,25,25,31,55,35,38,41,26,46,25,39,28,28,25,22,21,21,22,22,37,27,28,26,21,21,21,36,31,25,38,26,43,23,38,22,29,36,29,41,28,21,31,41,22,24,33,30,25,28,26,22,26,23,23,25,72,24,38,62,24,51,81,48,26,39,37,34,21,22,25,38,27,28,22,22,50,24,59,29,31,39,63,35,29,28,23,31,24,21,58,28,67,24,42,33,45,22,66,30,25,55,39,21,28,41,41,40,38,35,21,21,64,46,21,58,22,24,28,53,51,41,60,25,26,26,45,24,21,21,24,22,31,22,24,29,31,24,23,46,67,23,32,43,27,56,25,29,37,53,28,50,37,21,25,66,23,28,37,30,58,42,35,54,28,24,32,27,22,21,46,37,33,39,21,22,22,23,25,35,21,36,62,21,27,62,42,52,22,41,29,52,25,45,24,44,25,34,22,46,21,38,26,24,28,30,54,36,21,22,25,27,23,24,36,40,26,50,27,30,23,50,24,28,28,45,21,21,29,21,21,45,21,34,24,23,22,31,38,48,23,32,28,27,24,50,31,27,30,33,22,42,23,23,27,28,27,22,25,22,41,51,27,54,22,43,40,40,24,70,40,43,45,49,21,47,22,68,31,53,25,25,23,22,26,22,27,69,25,22,29,23,46,34,44,23,43,25,43,31,22,28,26,26,49,52,41,27,28,30,22,45,23,24,40,38,21,32,34,31,56,24,52,34,21,42,42,45,38,25,22,22,22,34,22,24,22,53,28,21,42,21,42,48,26,22,45,39,46,27,32,36,50,22,28,25,26,45,37,39,52,26,66,22,43,33,63,27,30,47,23],\"xaxis\":\"x\",\"y\":[72,66,64,66,40,74,50,0,70,96,92,74,80,60,72,0,84,74,30,70,88,84,90,80,94,70,76,66,82,92,75,76,58,92,78,60,76,76,68,72,64,84,92,110,64,66,56,70,66,0,80,50,66,90,66,50,68,88,82,64,0,72,62,58,66,74,88,92,66,85,66,64,90,86,75,48,78,72,0,66,44,0,78,65,108,74,72,68,70,68,55,80,78,72,82,72,62,48,50,90,72,60,96,72,65,56,122,58,58,85,72,62,76,62,54,92,74,48,60,76,76,64,74,80,76,30,70,58,88,84,70,56,64,74,68,60,70,60,80,72,78,82,52,66,62,75,80,64,78,70,74,65,86,82,78,88,52,56,74,72,90,74,80,64,88,74,66,68,66,90,82,70,0,60,64,72,78,110,78,82,80,64,74,60,74,68,68,98,76,80,62,70,66,0,55,84,58,62,64,60,80,82,68,70,72,72,76,104,64,84,60,85,95,65,82,70,62,68,74,66,60,90,0,60,66,78,76,52,70,80,86,80,80,68,68,72,84,90,84,76,64,70,54,50,76,85,68,90,70,86,52,84,80,68,62,64,56,68,50,76,68,0,70,80,62,74,0,64,52,0,86,62,78,78,70,70,60,64,74,62,70,76,88,86,80,74,84,86,56,72,88,62,78,48,50,62,70,84,78,72,0,58,82,98,76,76,68,68,68,68,66,70,74,50,80,68,80,74,66,78,60,74,70,90,75,72,64,70,86,70,72,58,0,80,60,76,0,76,78,84,70,74,68,86,72,88,46,0,62,80,80,84,82,62,78,88,50,0,74,76,64,70,108,78,74,54,72,64,86,102,82,64,64,58,52,82,82,60,75,100,72,68,60,62,70,54,74,100,82,68,66,76,64,72,78,58,56,66,70,70,64,61,84,78,64,48,72,62,74,68,90,72,84,74,60,84,68,82,68,64,88,68,64,64,78,78,0,64,94,82,0,74,74,75,68,0,85,75,70,88,104,66,64,70,62,78,72,80,64,74,64,70,68,0,54,62,54,68,84,74,72,62,70,78,98,56,52,64,0,78,82,70,66,90,64,84,80,76,74,86,70,88,58,82,0,68,62,78,72,80,65,90,68,70,0,74,68,72,70,74,90,72,68,64,78,82,90,60,50,78,72,62,68,62,54,70,88,86,60,90,70,80,0,70,58,60,64,74,66,65,60,76,66,0,56,0,90,60,80,92,74,72,85,90,78,90,76,68,82,110,70,68,88,62,64,70,70,76,68,74,76,66,68,60,80,54,72,62,72,66,70,96,58,60,86,44,44,80,68,70,90,60,78,76,76,56,66,66,86,0,84,78,80,52,72,82,76,24,74,38,88,0,74,78,0,60,78,62,82,62,54,58,88,80,74,72,96,62,82,0,86,76,94,70,64,88,68,78,80,65,64,78,60,82,62,72,74,76,76,74,86,70,80,0,72,74,74,50,84,60,54,60,74,54,70,52,58,80,106,82,84,76,106,80,60,80,82,70,58,78,68,58,106,100,82,70,86,60,52,58,56,76,64,80,82,74,64,50,74,82,80,114,70,68,60,90,74,0,88,70,76,78,88,0,76,80,0,46,78,64,64,78,62,58,74,50,78,72,60,76,86,66,68,86,94,78,78,84,88,52,78,86,88,56,75,60,86,72,60,74,80,44,58,94,88,84,94,74,70,62,70,78,62,88,78,88,90,72,76,92,58,74,62,76,70,72,60,70],\"yaxis\":\"y\",\"type\":\"scatter\"}],                        {\"template\":{\"data\":{\"histogram2dcontour\":[{\"type\":\"histogram2dcontour\",\"colorbar\":{\"outlinewidth\":0,\"ticks\":\"\"},\"colorscale\":[[0.0,\"#0d0887\"],[0.1111111111111111,\"#46039f\"],[0.2222222222222222,\"#7201a8\"],[0.3333333333333333,\"#9c179e\"],[0.4444444444444444,\"#bd3786\"],[0.5555555555555556,\"#d8576b\"],[0.6666666666666666,\"#ed7953\"],[0.7777777777777778,\"#fb9f3a\"],[0.8888888888888888,\"#fdca26\"],[1.0,\"#f0f921\"]]}],\"choropleth\":[{\"type\":\"choropleth\",\"colorbar\":{\"outlinewidth\":0,\"ticks\":\"\"}}],\"histogram2d\":[{\"type\":\"histogram2d\",\"colorbar\":{\"outlinewidth\":0,\"ticks\":\"\"},\"colorscale\":[[0.0,\"#0d0887\"],[0.1111111111111111,\"#46039f\"],[0.2222222222222222,\"#7201a8\"],[0.3333333333333333,\"#9c179e\"],[0.4444444444444444,\"#bd3786\"],[0.5555555555555556,\"#d8576b\"],[0.6666666666666666,\"#ed7953\"],[0.7777777777777778,\"#fb9f3a\"],[0.8888888888888888,\"#fdca26\"],[1.0,\"#f0f921\"]]}],\"heatmap\":[{\"type\":\"heatmap\",\"colorbar\":{\"outlinewidth\":0,\"ticks\":\"\"},\"colorscale\":[[0.0,\"#0d0887\"],[0.1111111111111111,\"#46039f\"],[0.2222222222222222,\"#7201a8\"],[0.3333333333333333,\"#9c179e\"],[0.4444444444444444,\"#bd3786\"],[0.5555555555555556,\"#d8576b\"],[0.6666666666666666,\"#ed7953\"],[0.7777777777777778,\"#fb9f3a\"],[0.8888888888888888,\"#fdca26\"],[1.0,\"#f0f921\"]]}],\"heatmapgl\":[{\"type\":\"heatmapgl\",\"colorbar\":{\"outlinewidth\":0,\"ticks\":\"\"},\"colorscale\":[[0.0,\"#0d0887\"],[0.1111111111111111,\"#46039f\"],[0.2222222222222222,\"#7201a8\"],[0.3333333333333333,\"#9c179e\"],[0.4444444444444444,\"#bd3786\"],[0.5555555555555556,\"#d8576b\"],[0.6666666666666666,\"#ed7953\"],[0.7777777777777778,\"#fb9f3a\"],[0.8888888888888888,\"#fdca26\"],[1.0,\"#f0f921\"]]}],\"contourcarpet\":[{\"type\":\"contourcarpet\",\"colorbar\":{\"outlinewidth\":0,\"ticks\":\"\"}}],\"contour\":[{\"type\":\"contour\",\"colorbar\":{\"outlinewidth\":0,\"ticks\":\"\"},\"colorscale\":[[0.0,\"#0d0887\"],[0.1111111111111111,\"#46039f\"],[0.2222222222222222,\"#7201a8\"],[0.3333333333333333,\"#9c179e\"],[0.4444444444444444,\"#bd3786\"],[0.5555555555555556,\"#d8576b\"],[0.6666666666666666,\"#ed7953\"],[0.7777777777777778,\"#fb9f3a\"],[0.8888888888888888,\"#fdca26\"],[1.0,\"#f0f921\"]]}],\"surface\":[{\"type\":\"surface\",\"colorbar\":{\"outlinewidth\":0,\"ticks\":\"\"},\"colorscale\":[[0.0,\"#0d0887\"],[0.1111111111111111,\"#46039f\"],[0.2222222222222222,\"#7201a8\"],[0.3333333333333333,\"#9c179e\"],[0.4444444444444444,\"#bd3786\"],[0.5555555555555556,\"#d8576b\"],[0.6666666666666666,\"#ed7953\"],[0.7777777777777778,\"#fb9f3a\"],[0.8888888888888888,\"#fdca26\"],[1.0,\"#f0f921\"]]}],\"mesh3d\":[{\"type\":\"mesh3d\",\"colorbar\":{\"outlinewidth\":0,\"ticks\":\"\"}}],\"scatter\":[{\"fillpattern\":{\"fillmode\":\"overlay\",\"size\":10,\"solidity\":0.2},\"type\":\"scatter\"}],\"parcoords\":[{\"type\":\"parcoords\",\"line\":{\"colorbar\":{\"outlinewidth\":0,\"ticks\":\"\"}}}],\"scatterpolargl\":[{\"type\":\"scatterpolargl\",\"marker\":{\"colorbar\":{\"outlinewidth\":0,\"ticks\":\"\"}}}],\"bar\":[{\"error_x\":{\"color\":\"#2a3f5f\"},\"error_y\":{\"color\":\"#2a3f5f\"},\"marker\":{\"line\":{\"color\":\"#E5ECF6\",\"width\":0.5},\"pattern\":{\"fillmode\":\"overlay\",\"size\":10,\"solidity\":0.2}},\"type\":\"bar\"}],\"scattergeo\":[{\"type\":\"scattergeo\",\"marker\":{\"colorbar\":{\"outlinewidth\":0,\"ticks\":\"\"}}}],\"scatterpolar\":[{\"type\":\"scatterpolar\",\"marker\":{\"colorbar\":{\"outlinewidth\":0,\"ticks\":\"\"}}}],\"histogram\":[{\"marker\":{\"pattern\":{\"fillmode\":\"overlay\",\"size\":10,\"solidity\":0.2}},\"type\":\"histogram\"}],\"scattergl\":[{\"type\":\"scattergl\",\"marker\":{\"colorbar\":{\"outlinewidth\":0,\"ticks\":\"\"}}}],\"scatter3d\":[{\"type\":\"scatter3d\",\"line\":{\"colorbar\":{\"outlinewidth\":0,\"ticks\":\"\"}},\"marker\":{\"colorbar\":{\"outlinewidth\":0,\"ticks\":\"\"}}}],\"scattermapbox\":[{\"type\":\"scattermapbox\",\"marker\":{\"colorbar\":{\"outlinewidth\":0,\"ticks\":\"\"}}}],\"scatterternary\":[{\"type\":\"scatterternary\",\"marker\":{\"colorbar\":{\"outlinewidth\":0,\"ticks\":\"\"}}}],\"scattercarpet\":[{\"type\":\"scattercarpet\",\"marker\":{\"colorbar\":{\"outlinewidth\":0,\"ticks\":\"\"}}}],\"carpet\":[{\"aaxis\":{\"endlinecolor\":\"#2a3f5f\",\"gridcolor\":\"white\",\"linecolor\":\"white\",\"minorgridcolor\":\"white\",\"startlinecolor\":\"#2a3f5f\"},\"baxis\":{\"endlinecolor\":\"#2a3f5f\",\"gridcolor\":\"white\",\"linecolor\":\"white\",\"minorgridcolor\":\"white\",\"startlinecolor\":\"#2a3f5f\"},\"type\":\"carpet\"}],\"table\":[{\"cells\":{\"fill\":{\"color\":\"#EBF0F8\"},\"line\":{\"color\":\"white\"}},\"header\":{\"fill\":{\"color\":\"#C8D4E3\"},\"line\":{\"color\":\"white\"}},\"type\":\"table\"}],\"barpolar\":[{\"marker\":{\"line\":{\"color\":\"#E5ECF6\",\"width\":0.5},\"pattern\":{\"fillmode\":\"overlay\",\"size\":10,\"solidity\":0.2}},\"type\":\"barpolar\"}],\"pie\":[{\"automargin\":true,\"type\":\"pie\"}]},\"layout\":{\"autotypenumbers\":\"strict\",\"colorway\":[\"#636efa\",\"#EF553B\",\"#00cc96\",\"#ab63fa\",\"#FFA15A\",\"#19d3f3\",\"#FF6692\",\"#B6E880\",\"#FF97FF\",\"#FECB52\"],\"font\":{\"color\":\"#2a3f5f\"},\"hovermode\":\"closest\",\"hoverlabel\":{\"align\":\"left\"},\"paper_bgcolor\":\"white\",\"plot_bgcolor\":\"#E5ECF6\",\"polar\":{\"bgcolor\":\"#E5ECF6\",\"angularaxis\":{\"gridcolor\":\"white\",\"linecolor\":\"white\",\"ticks\":\"\"},\"radialaxis\":{\"gridcolor\":\"white\",\"linecolor\":\"white\",\"ticks\":\"\"}},\"ternary\":{\"bgcolor\":\"#E5ECF6\",\"aaxis\":{\"gridcolor\":\"white\",\"linecolor\":\"white\",\"ticks\":\"\"},\"baxis\":{\"gridcolor\":\"white\",\"linecolor\":\"white\",\"ticks\":\"\"},\"caxis\":{\"gridcolor\":\"white\",\"linecolor\":\"white\",\"ticks\":\"\"}},\"coloraxis\":{\"colorbar\":{\"outlinewidth\":0,\"ticks\":\"\"}},\"colorscale\":{\"sequential\":[[0.0,\"#0d0887\"],[0.1111111111111111,\"#46039f\"],[0.2222222222222222,\"#7201a8\"],[0.3333333333333333,\"#9c179e\"],[0.4444444444444444,\"#bd3786\"],[0.5555555555555556,\"#d8576b\"],[0.6666666666666666,\"#ed7953\"],[0.7777777777777778,\"#fb9f3a\"],[0.8888888888888888,\"#fdca26\"],[1.0,\"#f0f921\"]],\"sequentialminus\":[[0.0,\"#0d0887\"],[0.1111111111111111,\"#46039f\"],[0.2222222222222222,\"#7201a8\"],[0.3333333333333333,\"#9c179e\"],[0.4444444444444444,\"#bd3786\"],[0.5555555555555556,\"#d8576b\"],[0.6666666666666666,\"#ed7953\"],[0.7777777777777778,\"#fb9f3a\"],[0.8888888888888888,\"#fdca26\"],[1.0,\"#f0f921\"]],\"diverging\":[[0,\"#8e0152\"],[0.1,\"#c51b7d\"],[0.2,\"#de77ae\"],[0.3,\"#f1b6da\"],[0.4,\"#fde0ef\"],[0.5,\"#f7f7f7\"],[0.6,\"#e6f5d0\"],[0.7,\"#b8e186\"],[0.8,\"#7fbc41\"],[0.9,\"#4d9221\"],[1,\"#276419\"]]},\"xaxis\":{\"gridcolor\":\"white\",\"linecolor\":\"white\",\"ticks\":\"\",\"title\":{\"standoff\":15},\"zerolinecolor\":\"white\",\"automargin\":true,\"zerolinewidth\":2},\"yaxis\":{\"gridcolor\":\"white\",\"linecolor\":\"white\",\"ticks\":\"\",\"title\":{\"standoff\":15},\"zerolinecolor\":\"white\",\"automargin\":true,\"zerolinewidth\":2},\"scene\":{\"xaxis\":{\"backgroundcolor\":\"#E5ECF6\",\"gridcolor\":\"white\",\"linecolor\":\"white\",\"showbackground\":true,\"ticks\":\"\",\"zerolinecolor\":\"white\",\"gridwidth\":2},\"yaxis\":{\"backgroundcolor\":\"#E5ECF6\",\"gridcolor\":\"white\",\"linecolor\":\"white\",\"showbackground\":true,\"ticks\":\"\",\"zerolinecolor\":\"white\",\"gridwidth\":2},\"zaxis\":{\"backgroundcolor\":\"#E5ECF6\",\"gridcolor\":\"white\",\"linecolor\":\"white\",\"showbackground\":true,\"ticks\":\"\",\"zerolinecolor\":\"white\",\"gridwidth\":2}},\"shapedefaults\":{\"line\":{\"color\":\"#2a3f5f\"}},\"annotationdefaults\":{\"arrowcolor\":\"#2a3f5f\",\"arrowhead\":0,\"arrowwidth\":1},\"geo\":{\"bgcolor\":\"white\",\"landcolor\":\"#E5ECF6\",\"subunitcolor\":\"white\",\"showland\":true,\"showlakes\":true,\"lakecolor\":\"white\"},\"title\":{\"x\":0.05},\"mapbox\":{\"style\":\"light\"}}},\"xaxis\":{\"anchor\":\"y\",\"domain\":[0.0,1.0],\"title\":{\"text\":\"Age\"}},\"yaxis\":{\"anchor\":\"x\",\"domain\":[0.0,1.0],\"title\":{\"text\":\"BloodPressure\"}},\"coloraxis\":{\"colorbar\":{\"title\":{\"text\":\"Outcome\"}},\"colorscale\":[[0.0,\"#0d0887\"],[0.1111111111111111,\"#46039f\"],[0.2222222222222222,\"#7201a8\"],[0.3333333333333333,\"#9c179e\"],[0.4444444444444444,\"#bd3786\"],[0.5555555555555556,\"#d8576b\"],[0.6666666666666666,\"#ed7953\"],[0.7777777777777778,\"#fb9f3a\"],[0.8888888888888888,\"#fdca26\"],[1.0,\"#f0f921\"]]},\"legend\":{\"tracegroupgap\":0},\"title\":{\"text\":\"Blood Pressure in Measures of Age\"}},                        {\"responsive\": true}                    ).then(function(){\n                            \nvar gd = document.getElementById('26cb9f08-7961-43ea-8afa-b8053acb04db');\nvar x = new MutationObserver(function (mutations, observer) {{\n        var display = window.getComputedStyle(gd).display;\n        if (!display || display === 'none') {{\n            console.log([gd, 'removed!']);\n            Plotly.purge(gd);\n            observer.disconnect();\n        }}\n}});\n\n// Listen for the removal of the full notebook cells\nvar notebookContainer = gd.closest('#notebook-container');\nif (notebookContainer) {{\n    x.observe(notebookContainer, {childList: true});\n}}\n\n// Listen for the clearing of the current output cell\nvar outputEl = gd.closest('.output');\nif (outputEl) {{\n    x.observe(outputEl, {childList: true});\n}}\n\n                        })                };                            </script>        </div>\n</body>\n</html>"
     },
     "execution_count": 21,
     "metadata": {
     },
     "output_type": "execute_result"
    }
   ],
   "source": [
    "df = diabetes\n",
    "fig = px.scatter(df, x=\"Age\", y=\"BloodPressure\", color=\"Outcome\", title = \"Blood Pressure in Measures of Age\")\n",
    "fig.show()"
   ]
  },
  {
   "cell_type": "code",
   "execution_count": 56,
   "metadata": {
    "collapsed": false
   },
   "outputs": [
    {
     "ename": "KeyError",
     "evalue": "(nan, '', '', '', '')",
     "output_type": "error",
     "traceback": [
      "\u001b[0;31m---------------------------------------------------------------------------\u001b[0m",
      "\u001b[0;31mKeyError\u001b[0m                                  Traceback (most recent call last)",
      "Input \u001b[0;32mIn [56]\u001b[0m, in \u001b[0;36m<cell line: 3>\u001b[0;34m()\u001b[0m\n\u001b[1;32m      1\u001b[0m diabetesdata \u001b[38;5;241m=\u001b[39m pd\u001b[38;5;241m.\u001b[39mread_csv(\u001b[38;5;124m\"\u001b[39m\u001b[38;5;124m./Data/diabetes_dataset__2019.csv\u001b[39m\u001b[38;5;124m\"\u001b[39m)\n\u001b[1;32m      2\u001b[0m df \u001b[38;5;241m=\u001b[39m diabetesdata\n\u001b[0;32m----> 3\u001b[0m fig \u001b[38;5;241m=\u001b[39m \u001b[43mpx\u001b[49m\u001b[38;5;241;43m.\u001b[39;49m\u001b[43mscatter\u001b[49m\u001b[43m(\u001b[49m\u001b[43mdf\u001b[49m\u001b[43m,\u001b[49m\u001b[43m \u001b[49m\u001b[43mx\u001b[49m\u001b[38;5;241;43m=\u001b[39;49m\u001b[38;5;124;43m\"\u001b[39;49m\u001b[38;5;124;43mSleep\u001b[39;49m\u001b[38;5;124;43m\"\u001b[39;49m\u001b[43m,\u001b[49m\u001b[43m \u001b[49m\u001b[43my\u001b[49m\u001b[38;5;241;43m=\u001b[39;49m\u001b[38;5;124;43m\"\u001b[39;49m\u001b[38;5;124;43mStress\u001b[39;49m\u001b[38;5;124;43m\"\u001b[39;49m\u001b[43m,\u001b[49m\u001b[43m \u001b[49m\u001b[43mcolor\u001b[49m\u001b[38;5;241;43m=\u001b[39;49m\u001b[38;5;124;43m\"\u001b[39;49m\u001b[38;5;124;43mhighBP\u001b[39;49m\u001b[38;5;124;43m\"\u001b[39;49m\u001b[43m)\u001b[49m\n\u001b[1;32m      4\u001b[0m fig\u001b[38;5;241m.\u001b[39mshow()\n",
      "File \u001b[0;32m~/miniconda3/lib/python3.9/site-packages/plotly/express/_chart_types.py:66\u001b[0m, in \u001b[0;36mscatter\u001b[0;34m(data_frame, x, y, color, symbol, size, hover_name, hover_data, custom_data, text, facet_row, facet_col, facet_col_wrap, facet_row_spacing, facet_col_spacing, error_x, error_x_minus, error_y, error_y_minus, animation_frame, animation_group, category_orders, labels, orientation, color_discrete_sequence, color_discrete_map, color_continuous_scale, range_color, color_continuous_midpoint, symbol_sequence, symbol_map, opacity, size_max, marginal_x, marginal_y, trendline, trendline_options, trendline_color_override, trendline_scope, log_x, log_y, range_x, range_y, render_mode, title, template, width, height)\u001b[0m\n\u001b[1;32m     12\u001b[0m \u001b[38;5;28;01mdef\u001b[39;00m \u001b[38;5;21mscatter\u001b[39m(\n\u001b[1;32m     13\u001b[0m     data_frame\u001b[38;5;241m=\u001b[39m\u001b[38;5;28;01mNone\u001b[39;00m,\n\u001b[1;32m     14\u001b[0m     x\u001b[38;5;241m=\u001b[39m\u001b[38;5;28;01mNone\u001b[39;00m,\n\u001b[0;32m   (...)\u001b[0m\n\u001b[1;32m     60\u001b[0m     height\u001b[38;5;241m=\u001b[39m\u001b[38;5;28;01mNone\u001b[39;00m,\n\u001b[1;32m     61\u001b[0m ) \u001b[38;5;241m-\u001b[39m\u001b[38;5;241m>\u001b[39m go\u001b[38;5;241m.\u001b[39mFigure:\n\u001b[1;32m     62\u001b[0m     \u001b[38;5;124;03m\"\"\"\u001b[39;00m\n\u001b[1;32m     63\u001b[0m \u001b[38;5;124;03m    In a scatter plot, each row of `data_frame` is represented by a symbol\u001b[39;00m\n\u001b[1;32m     64\u001b[0m \u001b[38;5;124;03m    mark in 2D space.\u001b[39;00m\n\u001b[1;32m     65\u001b[0m \u001b[38;5;124;03m    \"\"\"\u001b[39;00m\n\u001b[0;32m---> 66\u001b[0m     \u001b[38;5;28;01mreturn\u001b[39;00m \u001b[43mmake_figure\u001b[49m\u001b[43m(\u001b[49m\u001b[43margs\u001b[49m\u001b[38;5;241;43m=\u001b[39;49m\u001b[38;5;28;43mlocals\u001b[39;49m\u001b[43m(\u001b[49m\u001b[43m)\u001b[49m\u001b[43m,\u001b[49m\u001b[43m \u001b[49m\u001b[43mconstructor\u001b[49m\u001b[38;5;241;43m=\u001b[39;49m\u001b[43mgo\u001b[49m\u001b[38;5;241;43m.\u001b[39;49m\u001b[43mScatter\u001b[49m\u001b[43m)\u001b[49m\n",
      "File \u001b[0;32m~/miniconda3/lib/python3.9/site-packages/plotly/express/_core.py:1991\u001b[0m, in \u001b[0;36mmake_figure\u001b[0;34m(args, constructor, trace_patch, layout_patch)\u001b[0m\n\u001b[1;32m   1989\u001b[0m facet_col_wrap \u001b[38;5;241m=\u001b[39m args\u001b[38;5;241m.\u001b[39mget(\u001b[38;5;124m\"\u001b[39m\u001b[38;5;124mfacet_col_wrap\u001b[39m\u001b[38;5;124m\"\u001b[39m, \u001b[38;5;241m0\u001b[39m)\n\u001b[1;32m   1990\u001b[0m \u001b[38;5;28;01mfor\u001b[39;00m group_name \u001b[38;5;129;01min\u001b[39;00m sorted_group_names:\n\u001b[0;32m-> 1991\u001b[0m     group \u001b[38;5;241m=\u001b[39m \u001b[43mgrouped\u001b[49m\u001b[38;5;241;43m.\u001b[39;49m\u001b[43mget_group\u001b[49m\u001b[43m(\u001b[49m\u001b[43mgroup_name\u001b[49m\u001b[43m \u001b[49m\u001b[38;5;28;43;01mif\u001b[39;49;00m\u001b[43m \u001b[49m\u001b[38;5;28;43mlen\u001b[39;49m\u001b[43m(\u001b[49m\u001b[43mgroup_name\u001b[49m\u001b[43m)\u001b[49m\u001b[43m \u001b[49m\u001b[38;5;241;43m>\u001b[39;49m\u001b[43m \u001b[49m\u001b[38;5;241;43m1\u001b[39;49m\u001b[43m \u001b[49m\u001b[38;5;28;43;01melse\u001b[39;49;00m\u001b[43m \u001b[49m\u001b[43mgroup_name\u001b[49m\u001b[43m[\u001b[49m\u001b[38;5;241;43m0\u001b[39;49m\u001b[43m]\u001b[49m\u001b[43m)\u001b[49m\n\u001b[1;32m   1992\u001b[0m     mapping_labels \u001b[38;5;241m=\u001b[39m OrderedDict()\n\u001b[1;32m   1993\u001b[0m     trace_name_labels \u001b[38;5;241m=\u001b[39m OrderedDict()\n",
      "File \u001b[0;32m~/miniconda3/lib/python3.9/site-packages/pandas/core/groupby/groupby.py:747\u001b[0m, in \u001b[0;36mBaseGroupBy.get_group\u001b[0;34m(self, name, obj)\u001b[0m\n\u001b[1;32m    745\u001b[0m inds \u001b[38;5;241m=\u001b[39m \u001b[38;5;28mself\u001b[39m\u001b[38;5;241m.\u001b[39m_get_index(name)\n\u001b[1;32m    746\u001b[0m \u001b[38;5;28;01mif\u001b[39;00m \u001b[38;5;129;01mnot\u001b[39;00m \u001b[38;5;28mlen\u001b[39m(inds):\n\u001b[0;32m--> 747\u001b[0m     \u001b[38;5;28;01mraise\u001b[39;00m \u001b[38;5;167;01mKeyError\u001b[39;00m(name)\n\u001b[1;32m    749\u001b[0m \u001b[38;5;28;01mreturn\u001b[39;00m obj\u001b[38;5;241m.\u001b[39m_take_with_is_copy(inds, axis\u001b[38;5;241m=\u001b[39m\u001b[38;5;28mself\u001b[39m\u001b[38;5;241m.\u001b[39maxis)\n",
      "\u001b[0;31mKeyError\u001b[0m: (nan, '', '', '', '')"
     ]
    }
   ],
   "source": [
    "diabetesdata = pd.read_csv(\"./Data/diabetes_dataset__2019.csv\")\n",
    "df = diabetesdata\n",
    "fig = px.scatter(df, x=\"Sleep\", y=\"Stress\", color=\"highBP\")\n",
    "fig.show()"
   ]
  },
  {
   "cell_type": "code",
   "execution_count": 51,
   "metadata": {
    "collapsed": false
   },
   "outputs": [
    {
     "data": {
      "text/html": "<html>\n<head><meta charset=\"utf-8\" /></head>\n<body>\n    <div>            <script src=\"https://cdnjs.cloudflare.com/ajax/libs/mathjax/2.7.5/MathJax.js?config=TeX-AMS-MML_SVG\"></script><script type=\"text/javascript\">if (window.MathJax && window.MathJax.Hub && && window.MathJax.Hub.Config) {window.MathJax.Hub.Config({SVG: {font: \"STIX-Web\"}});}</script>                <script type=\"text/javascript\">window.PlotlyConfig = {MathJaxConfig: 'local'};</script>\n        <script src=\"https://cdn.plot.ly/plotly-2.12.1.min.js\"></script>                <div id=\"8dc5221c-2ed0-42ad-b7b3-2967bf3b4049\" class=\"plotly-graph-div\" style=\"height:525px; width:100%;\"></div>            <script type=\"text/javascript\">                                    window.PLOTLYENV=window.PLOTLYENV || {};                                    if (document.getElementById(\"8dc5221c-2ed0-42ad-b7b3-2967bf3b4049\")) {                    Plotly.newPlot(                        \"8dc5221c-2ed0-42ad-b7b3-2967bf3b4049\",                        [{\"hovertemplate\":\"highBP=yes<br>BMI=%{x}<br>Age=%{y}<extra></extra>\",\"legendgroup\":\"yes\",\"marker\":{\"color\":\"#636efa\",\"symbol\":\"circle\"},\"mode\":\"markers\",\"name\":\"yes\",\"orientation\":\"h\",\"showlegend\":true,\"x\":[39.0,28.0,21.0,26.0,24.0,27.0,40.0,24.0,19.0,27.0,19.0,26.0,26.0,18.0,19.0,33.0,31.0,20.0,26.0,15.0,20.0,24.0,32.0,30.0,21.0,26.0,null,null,31.0,33.0,30.0,21.0,26.0,42.0,27.0,36.0,33.0,33.0,38.0,23.0,27.0,24.0,27.0,28.0,28.0,17.0,26.0,29.0,33.0,36.0,35.0,22.0,22.0,27.0,23.0,27.0,29.0,39.0,28.0,21.0,26.0,24.0,27.0,40.0,24.0,19.0,27.0,19.0,26.0,26.0,18.0,19.0,33.0,31.0,20.0,26.0,15.0,20.0,24.0,32.0,30.0,21.0,26.0,28.0,26.0,31.0,33.0,30.0,21.0,26.0,42.0,27.0,36.0,33.0,33.0,38.0,23.0,27.0,24.0,27.0,28.0,28.0,17.0,26.0,29.0,33.0,36.0,35.0,22.0,22.0,27.0,23.0,27.0,29.0,39.0,28.0,21.0,26.0,24.0,27.0,40.0,24.0,19.0,27.0,19.0,26.0,26.0,18.0,19.0,33.0,31.0,20.0,26.0,15.0,20.0,24.0,32.0,30.0,21.0,26.0,28.0,26.0,31.0,33.0,30.0,21.0,26.0,42.0,27.0,36.0,33.0,33.0,38.0,23.0,27.0,24.0,27.0,28.0,28.0,17.0,26.0,29.0,33.0,36.0,35.0,22.0,22.0,27.0,23.0,27.0,29.0,39.0,28.0,21.0,26.0,24.0,27.0,40.0,24.0,19.0,27.0,19.0,26.0,26.0,18.0,19.0,33.0,31.0,20.0,26.0,15.0,20.0,24.0,32.0,30.0,21.0,26.0,28.0,26.0,31.0,33.0,30.0,21.0,26.0,45.0,27.0,36.0,33.0,33.0,38.0,23.0,27.0,24.0,27.0,28.0,28.0,17.0,29.0,29.0,33.0,36.0,35.0,22.0,22.0,27.0,23.0,27.0,30.0],\"xaxis\":\"x\",\"y\":[\"50-59\",\"50-59\",\"40-49\",\"60 or older\",\"50-59\",\"40-49\",\"50-59\",\"60 or older\",\"60 or older\",\"60 or older\",\"50-59\",\"40-49\",\"less than 40\",\"60 or older\",\"60 or older\",\"60 or older\",\"50-59\",\"50-59\",\"60 or older\",\"60 or older\",\"50-59\",\"less than 40\",\"60 or older\",\"50-59\",\"60 or older\",\"60 or older\",\"50-59\",\"less than 40\",\"50-59\",\"50-59\",\"less than 40\",\"40-49\",\"40-49\",\"50-59\",\"50-59\",\"40-49\",\"50-59\",\"60 or older\",\"less than 40\",\"60 or older\",\"60 or older\",\"60 or older\",\"less than 40\",\"less than 40\",\"less than 40\",\"less than 40\",\"less than 40\",\"less than 40\",\"40-49\",\"50-59\",\"40-49\",\"50-59\",\"40-49\",\"60 or older\",\"60 or older\",\"60 or older\",\"60 or older\",\"50-59\",\"50-59\",\"40-49\",\"60 or older\",\"50-59\",\"40-49\",\"50-59\",\"60 or older\",\"60 or older\",\"60 or older\",\"50-59\",\"40-49\",\"less than 40\",\"60 or older\",\"60 or older\",\"60 or older\",\"50-59\",\"50-59\",\"60 or older\",\"60 or older\",\"50-59\",\"less than 40\",\"60 or older\",\"50-59\",\"60 or older\",\"60 or older\",\"50-59\",\"less than 40\",\"50-59\",\"50-59\",\"less than 40\",\"40-49\",\"40-49\",\"50-59\",\"50-59\",\"40-49\",\"50-59\",\"60 or older\",\"less than 40\",\"60 or older\",\"60 or older\",\"60 or older\",\"less than 40\",\"less than 40\",\"less than 40\",\"less than 40\",\"less than 40\",\"less than 40\",\"40-49\",\"50-59\",\"40-49\",\"50-59\",\"40-49\",\"60 or older\",\"60 or older\",\"60 or older\",\"60 or older\",\"50-59\",\"50-59\",\"40-49\",\"60 or older\",\"50-59\",\"40-49\",\"50-59\",\"60 or older\",\"60 or older\",\"60 or older\",\"50-59\",\"40-49\",\"less than 40\",\"60 or older\",\"60 or older\",\"60 or older\",\"50-59\",\"50-59\",\"60 or older\",\"60 or older\",\"50-59\",\"less than 40\",\"60 or older\",\"50-59\",\"60 or older\",\"60 or older\",\"50-59\",\"less than 40\",\"50-59\",\"50-59\",\"less than 40\",\"40-49\",\"40-49\",\"50-59\",\"50-59\",\"40-49\",\"50-59\",\"60 or older\",\"less than 40\",\"60 or older\",\"60 or older\",\"60 or older\",\"less than 40\",\"less than 40\",\"less than 40\",\"less than 40\",\"less than 40\",\"less than 40\",\"40-49\",\"50-59\",\"40-49\",\"50-59\",\"40-49\",\"60 or older\",\"60 or older\",\"60 or older\",\"60 or older\",\"50-59\",\"50-59\",\"40-49\",\"60 or older\",\"50-59\",\"40-49\",\"50-59\",\"60 or older\",\"60 or older\",\"60 or older\",\"50-59\",\"40-49\",\"less than 40\",\"60 or older\",\"60 or older\",\"60 or older\",\"50-59\",\"50-59\",\"60 or older\",\"60 or older\",\"50-59\",\"less than 40\",\"60 or older\",\"50-59\",\"60 or older\",\"60 or older\",\"50-59\",\"less than 40\",\"50-59\",\"50-59\",\"less than 40\",\"40-49\",\"40-49\",\"50-59\",\"50-59\",\"40-49\",\"50-59\",\"60 or older\",\"less than 40\",\"60 or older\",\"60 or older\",\"60 or older\",\"less than 40\",\"less than 40\",\"less than 40\",\"less than 40\",\"less than 40\",\"less than 40\",\"40-49\",\"50-59\",\"40-49\",\"50-59\",\"40-49\",\"60 or older\",\"60 or older\",\"60 or older\",\"60 or older\"],\"yaxis\":\"y\",\"type\":\"scatter\"},{\"hovertemplate\":\"highBP=no<br>BMI=%{x}<br>Age=%{y}<extra></extra>\",\"legendgroup\":\"no\",\"marker\":{\"color\":\"#EF553B\",\"symbol\":\"circle\"},\"mode\":\"markers\",\"name\":\"no\",\"orientation\":\"h\",\"showlegend\":true,\"x\":[24.0,23.0,27.0,24.0,20.0,23.0,20.0,20.0,26.0,21.0,22.0,15.0,34.0,22.0,24.0,24.0,22.0,30.0,24.0,24.0,20.0,24.0,21.0,20.0,27.0,29.0,18.0,32.0,21.0,31.0,26.0,21.0,28.0,21.0,27.0,24.0,36.0,21.0,22.0,21.0,38.0,35.0,18.0,23.0,26.0,30.0,18.0,29.0,21.0,24.0,31.0,22.0,19.0,27.0,21.0,26.0,23.0,24.0,23.0,23.0,28.0,24.0,24.0,17.0,28.0,23.0,24.0,19.0,22.0,23.0,18.0,21.0,21.0,21.0,22.0,25.0,24.0,21.0,26.0,27.0,26.0,21.0,22.0,23.0,28.0,33.0,24.0,28.0,30.0,null,27.0,22.0,null,18.0,22.0,23.0,29.0,17.0,24.0,26.0,27.0,20.0,22.0,21.0,26.0,21.0,21.0,24.0,24.0,26.0,32.0,34.0,30.0,33.0,23.0,25.0,28.0,28.0,33.0,33.0,28.0,28.0,33.0,28.0,28.0,33.0,38.0,38.0,36.0,33.0,33.0,38.0,36.0,33.0,38.0,38.0,33.0,32.0,33.0,22.0,24.0,18.0,20.0,19.0,28.0,19.0,25.0,25.0,24.0,19.0,25.0,28.0,25.0,24.0,21.0,23.0,20.0,18.0,25.0,27.0,20.0,20.0,21.0,29.0,24.0,23.0,23.0,29.0,19.0,23.0,17.0,23.0,24.0,25.0,35.0,34.0,30.0,28.0,24.0,30.0,22.0,24.0,23.0,27.0,24.0,20.0,23.0,20.0,20.0,26.0,21.0,22.0,15.0,34.0,22.0,24.0,24.0,22.0,30.0,24.0,24.0,20.0,24.0,21.0,20.0,27.0,29.0,18.0,32.0,21.0,31.0,26.0,21.0,28.0,21.0,27.0,24.0,36.0,21.0,22.0,21.0,38.0,35.0,18.0,23.0,26.0,30.0,18.0,29.0,21.0,24.0,31.0,22.0,19.0,27.0,21.0,26.0,23.0,24.0,23.0,23.0,28.0,24.0,24.0,17.0,28.0,23.0,24.0,19.0,22.0,23.0,18.0,21.0,21.0,21.0,22.0,25.0,24.0,21.0,26.0,27.0,26.0,21.0,22.0,23.0,28.0,33.0,24.0,28.0,30.0,27.0,27.0,22.0,23.0,18.0,22.0,23.0,29.0,17.0,24.0,26.0,27.0,20.0,22.0,21.0,26.0,21.0,21.0,24.0,24.0,26.0,32.0,34.0,30.0,33.0,23.0,25.0,28.0,28.0,33.0,33.0,28.0,28.0,33.0,28.0,28.0,33.0,38.0,38.0,36.0,33.0,33.0,38.0,36.0,33.0,38.0,38.0,33.0,32.0,33.0,22.0,24.0,18.0,20.0,19.0,28.0,19.0,25.0,25.0,24.0,19.0,25.0,28.0,25.0,24.0,21.0,23.0,20.0,18.0,25.0,27.0,20.0,20.0,21.0,29.0,24.0,23.0,23.0,29.0,19.0,23.0,17.0,23.0,24.0,25.0,35.0,34.0,30.0,28.0,24.0,30.0,22.0,24.0,23.0,27.0,24.0,20.0,23.0,20.0,20.0,26.0,21.0,22.0,15.0,34.0,22.0,24.0,24.0,22.0,30.0,24.0,24.0,20.0,24.0,21.0,20.0,27.0,29.0,18.0,32.0,21.0,31.0,26.0,21.0,28.0,21.0,27.0,24.0,36.0,21.0,22.0,21.0,38.0,35.0,18.0,23.0,26.0,30.0,18.0,29.0,21.0,24.0,31.0,22.0,19.0,27.0,21.0,26.0,23.0,24.0,23.0,23.0,28.0,24.0,24.0,17.0,28.0,23.0,24.0,19.0,22.0,23.0,18.0,21.0,21.0,21.0,22.0,25.0,24.0,21.0,26.0,27.0,26.0,21.0,22.0,23.0,28.0,33.0,24.0,28.0,30.0,27.0,27.0,22.0,23.0,18.0,22.0,23.0,29.0,17.0,24.0,26.0,27.0,20.0,22.0,21.0,26.0,21.0,21.0,24.0,24.0,26.0,32.0,34.0,30.0,33.0,23.0,25.0,28.0,28.0,33.0,33.0,28.0,28.0,33.0,28.0,28.0,33.0,38.0,38.0,36.0,33.0,33.0,38.0,36.0,33.0,38.0,38.0,33.0,32.0,33.0,22.0,24.0,18.0,20.0,19.0,28.0,19.0,25.0,25.0,24.0,19.0,25.0,28.0,25.0,24.0,21.0,23.0,20.0,18.0,25.0,27.0,20.0,20.0,21.0,29.0,24.0,23.0,23.0,29.0,19.0,23.0,17.0,23.0,24.0,25.0,35.0,34.0,30.0,28.0,24.0,30.0,22.0,24.0,23.0,27.0,24.0,20.0,23.0,20.0,20.0,26.0,21.0,22.0,15.0,34.0,22.0,24.0,24.0,22.0,30.0,24.0,24.0,20.0,24.0,21.0,20.0,27.0,29.0,18.0,32.0,21.0,31.0,26.0,21.0,28.0,21.0,27.0,24.0,36.0,21.0,22.0,21.0,38.0,35.0,18.0,23.0,26.0,30.0,18.0,29.0,21.0,24.0,31.0,22.0,19.0,27.0,21.0,26.0,23.0,24.0,23.0,23.0,28.0,24.0,24.0,17.0,28.0,23.0,24.0,19.0,22.0,23.0,18.0,21.0,21.0,21.0,22.0,25.0,24.0,21.0,26.0,27.0,26.0,21.0,22.0,23.0,28.0,33.0,24.0,28.0,30.0,27.0,27.0,22.0,23.0,18.0,22.0,23.0,29.0,17.0,24.0,26.0,27.0,20.0,23.0,21.0,26.0,21.0,21.0,24.0,24.0,26.0,32.0,34.0,30.0,33.0,23.0,25.0,28.0,28.0,33.0,33.0,28.0,28.0,33.0,28.0,28.0,33.0,38.0,38.0,36.0,33.0,33.0,38.0,36.0,33.0,38.0,38.0,33.0,32.0,33.0,22.0,25.0,18.0,20.0,19.0,28.0,19.0,25.0,25.0,24.0,19.0,25.0,28.0,25.0,24.0,21.0,23.0,20.0,18.0,25.0,27.0,20.0,20.0,21.0,29.0,24.0,23.0,23.0,29.0,19.0,23.0,17.0,23.0,24.0,25.0,35.0,34.0,30.0,28.0,24.0,30.0,25.0],\"xaxis\":\"x\",\"y\":[\"40-49\",\"50-59\",\"40-49\",\"less than 40\",\"less than 40\",\"40-49\",\"less than 40\",\"less than 40\",\"40-49\",\"less than 40\",\"less than 40\",\"less than 40\",\"40-49\",\"50-59\",\"less than 40\",\"40-49\",\"less than 40\",\"less than 40\",\"less than 40\",\"less than 40\",\"less than 40\",\"less than 40\",\"less than 40\",\"less than 40\",\"50-59\",\"40-49\",\"60 or older\",\"less than 40\",\"40-49\",\"60 or older\",\"60 or older\",\"60 or older\",\"40-49\",\"40-49\",\"60 or older\",\"60 or older\",\"less than 40\",\"less than 40\",\"40-49\",\"40-49\",\"50-59\",\"60 or older\",\"60 or older\",\"40-49\",\"less than 40\",\"less than 40\",\"less than 40\",\"less than 40\",\"50-59\",\"less than 40\",\"60 or older\",\"less than 40\",\"less than 40\",\"50-59\",\"50-59\",\"60 or older\",\"50-59\",\"50-59\",\"40-49\",\"50-59\",\"50-59\",\"less than 40\",\"60 or older\",\"less than 40\",\"less than 40\",\"less than 40\",\"less than 40\",\"less than 40\",\"less than 40\",\"less than 40\",\"less than 40\",\"less than 40\",\"less than 40\",\"less than 40\",\"less than 40\",\"less than 40\",\"less than 40\",\"less than 40\",\"50-59\",\"50-59\",\"less than 40\",\"less than 40\",\"40-49\",\"60 or older\",\"60 or older\",\"40-49\",\"less than 40\",\"50-59\",\"50-59\",\"less than 40\",\"less than 40\",\"less than 40\",\"less than 40\",\"less than 40\",\"less than 40\",\"less than 40\",\"less than 40\",\"40-49\",\"50-59\",\"60 or older\",\"less than 40\",\"less than 40\",\"less than 40\",\"less than 40\",\"less than 40\",\"less than 40\",\"less than 40\",\"less than 40\",\"less than 40\",\"less than 40\",\"50-59\",\"40-49\",\"less than 40\",\"less than 40\",\"less than 40\",\"40-49\",\"less than 40\",\"40-49\",\"40-49\",\"50-59\",\"50-59\",\"less than 40\",\"less than 40\",\"less than 40\",\"40-49\",\"less than 40\",\"40-49\",\"40-49\",\"40-49\",\"less than 40\",\"less than 40\",\"40-49\",\"40-49\",\"less than 40\",\"50-59\",\"60 or older\",\"less than 40\",\"less than 40\",\"less than 40\",\"40-49\",\"40-49\",\"less than 40\",\"less than 40\",\"less than 40\",\"less than 40\",\"less than 40\",\"less than 40\",\"less than 40\",\"less than 40\",\"less than 40\",\"less than 40\",\"less than 40\",\"less than 40\",\"less than 40\",\"less than 40\",\"less than 40\",\"less than 40\",\"less than 40\",\"less than 40\",\"less than 40\",\"less than 40\",\"less than 40\",\"less than 40\",\"less than 40\",\"less than 40\",\"less than 40\",\"less than 40\",\"less than 40\",\"less than 40\",\"less than 40\",\"less than 40\",\"50-59\",\"40-49\",\"less than 40\",\"50-59\",\"40-49\",\"60 or older\",\"less than 40\",\"40-49\",\"less than 40\",\"less than 40\",\"40-49\",\"50-59\",\"40-49\",\"less than 40\",\"less than 40\",\"40-49\",\"less than 40\",\"less than 40\",\"40-49\",\"less than 40\",\"less than 40\",\"less than 40\",\"40-49\",\"50-59\",\"less than 40\",\"40-49\",\"less than 40\",\"less than 40\",\"less than 40\",\"less than 40\",\"less than 40\",\"less than 40\",\"less than 40\",\"less than 40\",\"50-59\",\"40-49\",\"60 or older\",\"less than 40\",\"40-49\",\"60 or older\",\"60 or older\",\"60 or older\",\"40-49\",\"40-49\",\"60 or older\",\"60 or older\",\"less than 40\",\"less than 40\",\"40-49\",\"40-49\",\"50-59\",\"60 or older\",\"60 or older\",\"40-49\",\"less than 40\",\"less than 40\",\"less than 40\",\"less than 40\",\"50-59\",\"less than 40\",\"60 or older\",\"less than 40\",\"less than 40\",\"50-59\",\"50-59\",\"60 or older\",\"50-59\",\"50-59\",\"40-49\",\"50-59\",\"50-59\",\"less than 40\",\"60 or older\",\"less than 40\",\"less than 40\",\"less than 40\",\"less than 40\",\"less than 40\",\"less than 40\",\"less than 40\",\"less than 40\",\"less than 40\",\"less than 40\",\"less than 40\",\"less than 40\",\"less than 40\",\"less than 40\",\"less than 40\",\"50-59\",\"50-59\",\"less than 40\",\"less than 40\",\"40-49\",\"60 or older\",\"60 or older\",\"40-49\",\"less than 40\",\"50-59\",\"50-59\",\"less than 40\",\"less than 40\",\"less than 40\",\"less than 40\",\"less than 40\",\"less than 40\",\"less than 40\",\"less than 40\",\"40-49\",\"50-59\",\"60 or older\",\"less than 40\",\"less than 40\",\"less than 40\",\"less than 40\",\"less than 40\",\"less than 40\",\"less than 40\",\"less than 40\",\"less than 40\",\"less than 40\",\"50-59\",\"40-49\",\"less than 40\",\"less than 40\",\"less than 40\",\"40-49\",\"less than 40\",\"40-49\",\"40-49\",\"50-59\",\"50-59\",\"less than 40\",\"less than 40\",\"less than 40\",\"40-49\",\"less than 40\",\"40-49\",\"40-49\",\"40-49\",\"less than 40\",\"less than 40\",\"40-49\",\"40-49\",\"less than 40\",\"50-59\",\"60 or older\",\"less than 40\",\"less than 40\",\"less than 40\",\"40-49\",\"40-49\",\"less than 40\",\"less than 40\",\"less than 40\",\"less than 40\",\"less than 40\",\"less than 40\",\"less than 40\",\"less than 40\",\"less than 40\",\"less than 40\",\"less than 40\",\"less than 40\",\"less than 40\",\"less than 40\",\"less than 40\",\"less than 40\",\"less than 40\",\"less than 40\",\"less than 40\",\"less than 40\",\"less than 40\",\"less than 40\",\"less than 40\",\"less than 40\",\"less than 40\",\"less than 40\",\"less than 40\",\"less than 40\",\"less than 40\",\"less than 40\",\"50-59\",\"40-49\",\"less than 40\",\"50-59\",\"40-49\",\"60 or older\",\"less than 40\",\"40-49\",\"less than 40\",\"less than 40\",\"40-49\",\"50-59\",\"40-49\",\"less than 40\",\"less than 40\",\"40-49\",\"less than 40\",\"less than 40\",\"40-49\",\"less than 40\",\"less than 40\",\"less than 40\",\"40-49\",\"50-59\",\"less than 40\",\"40-49\",\"less than 40\",\"less than 40\",\"less than 40\",\"less than 40\",\"less than 40\",\"less than 40\",\"less than 40\",\"less than 40\",\"50-59\",\"40-49\",\"60 or older\",\"less than 40\",\"40-49\",\"60 or older\",\"60 or older\",\"60 or older\",\"40-49\",\"40-49\",\"60 or older\",\"60 or older\",\"less than 40\",\"less than 40\",\"40-49\",\"40-49\",\"50-59\",\"60 or older\",\"60 or older\",\"40-49\",\"less than 40\",\"less than 40\",\"less than 40\",\"less than 40\",\"50-59\",\"less than 40\",\"60 or older\",\"less than 40\",\"less than 40\",\"50-59\",\"50-59\",\"60 or older\",\"50-59\",\"50-59\",\"40-49\",\"50-59\",\"50-59\",\"less than 40\",\"60 or older\",\"less than 40\",\"less than 40\",\"less than 40\",\"less than 40\",\"less than 40\",\"less than 40\",\"less than 40\",\"less than 40\",\"less than 40\",\"less than 40\",\"less than 40\",\"less than 40\",\"less than 40\",\"less than 40\",\"less than 40\",\"50-59\",\"50-59\",\"less than 40\",\"less than 40\",\"40-49\",\"60 or older\",\"60 or older\",\"40-49\",\"less than 40\",\"50-59\",\"50-59\",\"less than 40\",\"less than 40\",\"less than 40\",\"less than 40\",\"less than 40\",\"less than 40\",\"less than 40\",\"less than 40\",\"40-49\",\"50-59\",\"60 or older\",\"less than 40\",\"less than 40\",\"less than 40\",\"less than 40\",\"less than 40\",\"less than 40\",\"less than 40\",\"less than 40\",\"less than 40\",\"less than 40\",\"50-59\",\"40-49\",\"less than 40\",\"less than 40\",\"less than 40\",\"40-49\",\"less than 40\",\"40-49\",\"40-49\",\"50-59\",\"50-59\",\"less than 40\",\"less than 40\",\"less than 40\",\"40-49\",\"less than 40\",\"40-49\",\"40-49\",\"40-49\",\"less than 40\",\"less than 40\",\"40-49\",\"40-49\",\"less than 40\",\"50-59\",\"60 or older\",\"less than 40\",\"less than 40\",\"less than 40\",\"40-49\",\"40-49\",\"less than 40\",\"less than 40\",\"less than 40\",\"less than 40\",\"less than 40\",\"less than 40\",\"less than 40\",\"less than 40\",\"less than 40\",\"less than 40\",\"less than 40\",\"less than 40\",\"less than 40\",\"less than 40\",\"less than 40\",\"less than 40\",\"less than 40\",\"less than 40\",\"less than 40\",\"less than 40\",\"less than 40\",\"less than 40\",\"less than 40\",\"less than 40\",\"less than 40\",\"less than 40\",\"less than 40\",\"less than 40\",\"less than 40\",\"less than 40\",\"50-59\",\"40-49\",\"less than 40\",\"50-59\",\"40-49\",\"60 or older\",\"less than 40\",\"40-49\",\"less than 40\",\"less than 40\",\"40-49\",\"50-59\",\"40-49\",\"less than 40\",\"less than 40\",\"40-49\",\"less than 40\",\"less than 40\",\"40-49\",\"less than 40\",\"less than 40\",\"less than 40\",\"40-49\",\"50-59\",\"less than 40\",\"40-49\",\"less than 40\",\"less than 40\",\"less than 40\",\"less than 40\",\"less than 40\",\"less than 40\",\"less than 40\",\"less than 40\",\"50-59\",\"40-49\",\"60 or older\",\"less than 40\",\"40-49\",\"60 or older\",\"60 or older\",\"60 or older\",\"40-49\",\"40-49\",\"60 or older\",\"60 or older\",\"less than 40\",\"less than 40\",\"40-49\",\"40-49\",\"50-59\",\"60 or older\",\"60 or older\",\"40-49\",\"less than 40\",\"less than 40\",\"less than 40\",\"less than 40\",\"50-59\",\"less than 40\",\"60 or older\",\"less than 40\",\"less than 40\",\"50-59\",\"50-59\",\"60 or older\",\"50-59\",\"50-59\",\"40-49\",\"50-59\",\"50-59\",\"less than 40\",\"60 or older\",\"less than 40\",\"less than 40\",\"less than 40\",\"less than 40\",\"less than 40\",\"less than 40\",\"less than 40\",\"less than 40\",\"less than 40\",\"less than 40\",\"less than 40\",\"less than 40\",\"less than 40\",\"less than 40\",\"less than 40\",\"50-59\",\"50-59\",\"less than 40\",\"less than 40\",\"40-49\",\"60 or older\",\"60 or older\",\"40-49\",\"less than 40\",\"50-59\",\"50-59\",\"less than 40\",\"less than 40\",\"less than 40\",\"less than 40\",\"less than 40\",\"less than 40\",\"less than 40\",\"less than 40\",\"40-49\",\"50-59\",\"60 or older\",\"less than 40\",\"less than 40\",\"less than 40\",\"less than 40\",\"less than 40\",\"less than 40\",\"less than 40\",\"less than 40\",\"less than 40\",\"less than 40\",\"50-59\",\"40-49\",\"less than 40\",\"less than 40\",\"less than 40\",\"40-49\",\"less than 40\",\"40-49\",\"40-49\",\"50-59\",\"50-59\",\"less than 40\",\"less than 40\",\"less than 40\",\"40-49\",\"less than 40\",\"40-49\",\"40-49\",\"40-49\",\"less than 40\",\"less than 40\",\"40-49\",\"40-49\",\"less than 40\",\"50-59\",\"60 or older\",\"less than 40\",\"less than 40\",\"less than 40\",\"40-49\",\"40-49\",\"less than 40\",\"less than 40\",\"less than 40\",\"less than 40\",\"less than 40\",\"less than 40\",\"less than 40\",\"less than 40\",\"less than 40\",\"less than 40\",\"less than 40\",\"less than 40\",\"less than 40\",\"less than 40\",\"less than 40\",\"less than 40\",\"less than 40\",\"less than 40\",\"less than 40\",\"less than 40\",\"less than 40\",\"less than 40\",\"less than 40\",\"less than 40\",\"less than 40\",\"less than 40\",\"less than 40\",\"less than 40\",\"less than 40\",\"less than 40\",\"50-59\",\"40-49\",\"less than 40\",\"50-59\",\"40-49\",\"60 or older\",\"less than 40\",\"40-49\",\"less than 40\",\"less than 40\"],\"yaxis\":\"y\",\"type\":\"scatter\"}],                        {\"template\":{\"data\":{\"histogram2dcontour\":[{\"type\":\"histogram2dcontour\",\"colorbar\":{\"outlinewidth\":0,\"ticks\":\"\"},\"colorscale\":[[0.0,\"#0d0887\"],[0.1111111111111111,\"#46039f\"],[0.2222222222222222,\"#7201a8\"],[0.3333333333333333,\"#9c179e\"],[0.4444444444444444,\"#bd3786\"],[0.5555555555555556,\"#d8576b\"],[0.6666666666666666,\"#ed7953\"],[0.7777777777777778,\"#fb9f3a\"],[0.8888888888888888,\"#fdca26\"],[1.0,\"#f0f921\"]]}],\"choropleth\":[{\"type\":\"choropleth\",\"colorbar\":{\"outlinewidth\":0,\"ticks\":\"\"}}],\"histogram2d\":[{\"type\":\"histogram2d\",\"colorbar\":{\"outlinewidth\":0,\"ticks\":\"\"},\"colorscale\":[[0.0,\"#0d0887\"],[0.1111111111111111,\"#46039f\"],[0.2222222222222222,\"#7201a8\"],[0.3333333333333333,\"#9c179e\"],[0.4444444444444444,\"#bd3786\"],[0.5555555555555556,\"#d8576b\"],[0.6666666666666666,\"#ed7953\"],[0.7777777777777778,\"#fb9f3a\"],[0.8888888888888888,\"#fdca26\"],[1.0,\"#f0f921\"]]}],\"heatmap\":[{\"type\":\"heatmap\",\"colorbar\":{\"outlinewidth\":0,\"ticks\":\"\"},\"colorscale\":[[0.0,\"#0d0887\"],[0.1111111111111111,\"#46039f\"],[0.2222222222222222,\"#7201a8\"],[0.3333333333333333,\"#9c179e\"],[0.4444444444444444,\"#bd3786\"],[0.5555555555555556,\"#d8576b\"],[0.6666666666666666,\"#ed7953\"],[0.7777777777777778,\"#fb9f3a\"],[0.8888888888888888,\"#fdca26\"],[1.0,\"#f0f921\"]]}],\"heatmapgl\":[{\"type\":\"heatmapgl\",\"colorbar\":{\"outlinewidth\":0,\"ticks\":\"\"},\"colorscale\":[[0.0,\"#0d0887\"],[0.1111111111111111,\"#46039f\"],[0.2222222222222222,\"#7201a8\"],[0.3333333333333333,\"#9c179e\"],[0.4444444444444444,\"#bd3786\"],[0.5555555555555556,\"#d8576b\"],[0.6666666666666666,\"#ed7953\"],[0.7777777777777778,\"#fb9f3a\"],[0.8888888888888888,\"#fdca26\"],[1.0,\"#f0f921\"]]}],\"contourcarpet\":[{\"type\":\"contourcarpet\",\"colorbar\":{\"outlinewidth\":0,\"ticks\":\"\"}}],\"contour\":[{\"type\":\"contour\",\"colorbar\":{\"outlinewidth\":0,\"ticks\":\"\"},\"colorscale\":[[0.0,\"#0d0887\"],[0.1111111111111111,\"#46039f\"],[0.2222222222222222,\"#7201a8\"],[0.3333333333333333,\"#9c179e\"],[0.4444444444444444,\"#bd3786\"],[0.5555555555555556,\"#d8576b\"],[0.6666666666666666,\"#ed7953\"],[0.7777777777777778,\"#fb9f3a\"],[0.8888888888888888,\"#fdca26\"],[1.0,\"#f0f921\"]]}],\"surface\":[{\"type\":\"surface\",\"colorbar\":{\"outlinewidth\":0,\"ticks\":\"\"},\"colorscale\":[[0.0,\"#0d0887\"],[0.1111111111111111,\"#46039f\"],[0.2222222222222222,\"#7201a8\"],[0.3333333333333333,\"#9c179e\"],[0.4444444444444444,\"#bd3786\"],[0.5555555555555556,\"#d8576b\"],[0.6666666666666666,\"#ed7953\"],[0.7777777777777778,\"#fb9f3a\"],[0.8888888888888888,\"#fdca26\"],[1.0,\"#f0f921\"]]}],\"mesh3d\":[{\"type\":\"mesh3d\",\"colorbar\":{\"outlinewidth\":0,\"ticks\":\"\"}}],\"scatter\":[{\"fillpattern\":{\"fillmode\":\"overlay\",\"size\":10,\"solidity\":0.2},\"type\":\"scatter\"}],\"parcoords\":[{\"type\":\"parcoords\",\"line\":{\"colorbar\":{\"outlinewidth\":0,\"ticks\":\"\"}}}],\"scatterpolargl\":[{\"type\":\"scatterpolargl\",\"marker\":{\"colorbar\":{\"outlinewidth\":0,\"ticks\":\"\"}}}],\"bar\":[{\"error_x\":{\"color\":\"#2a3f5f\"},\"error_y\":{\"color\":\"#2a3f5f\"},\"marker\":{\"line\":{\"color\":\"#E5ECF6\",\"width\":0.5},\"pattern\":{\"fillmode\":\"overlay\",\"size\":10,\"solidity\":0.2}},\"type\":\"bar\"}],\"scattergeo\":[{\"type\":\"scattergeo\",\"marker\":{\"colorbar\":{\"outlinewidth\":0,\"ticks\":\"\"}}}],\"scatterpolar\":[{\"type\":\"scatterpolar\",\"marker\":{\"colorbar\":{\"outlinewidth\":0,\"ticks\":\"\"}}}],\"histogram\":[{\"marker\":{\"pattern\":{\"fillmode\":\"overlay\",\"size\":10,\"solidity\":0.2}},\"type\":\"histogram\"}],\"scattergl\":[{\"type\":\"scattergl\",\"marker\":{\"colorbar\":{\"outlinewidth\":0,\"ticks\":\"\"}}}],\"scatter3d\":[{\"type\":\"scatter3d\",\"line\":{\"colorbar\":{\"outlinewidth\":0,\"ticks\":\"\"}},\"marker\":{\"colorbar\":{\"outlinewidth\":0,\"ticks\":\"\"}}}],\"scattermapbox\":[{\"type\":\"scattermapbox\",\"marker\":{\"colorbar\":{\"outlinewidth\":0,\"ticks\":\"\"}}}],\"scatterternary\":[{\"type\":\"scatterternary\",\"marker\":{\"colorbar\":{\"outlinewidth\":0,\"ticks\":\"\"}}}],\"scattercarpet\":[{\"type\":\"scattercarpet\",\"marker\":{\"colorbar\":{\"outlinewidth\":0,\"ticks\":\"\"}}}],\"carpet\":[{\"aaxis\":{\"endlinecolor\":\"#2a3f5f\",\"gridcolor\":\"white\",\"linecolor\":\"white\",\"minorgridcolor\":\"white\",\"startlinecolor\":\"#2a3f5f\"},\"baxis\":{\"endlinecolor\":\"#2a3f5f\",\"gridcolor\":\"white\",\"linecolor\":\"white\",\"minorgridcolor\":\"white\",\"startlinecolor\":\"#2a3f5f\"},\"type\":\"carpet\"}],\"table\":[{\"cells\":{\"fill\":{\"color\":\"#EBF0F8\"},\"line\":{\"color\":\"white\"}},\"header\":{\"fill\":{\"color\":\"#C8D4E3\"},\"line\":{\"color\":\"white\"}},\"type\":\"table\"}],\"barpolar\":[{\"marker\":{\"line\":{\"color\":\"#E5ECF6\",\"width\":0.5},\"pattern\":{\"fillmode\":\"overlay\",\"size\":10,\"solidity\":0.2}},\"type\":\"barpolar\"}],\"pie\":[{\"automargin\":true,\"type\":\"pie\"}]},\"layout\":{\"autotypenumbers\":\"strict\",\"colorway\":[\"#636efa\",\"#EF553B\",\"#00cc96\",\"#ab63fa\",\"#FFA15A\",\"#19d3f3\",\"#FF6692\",\"#B6E880\",\"#FF97FF\",\"#FECB52\"],\"font\":{\"color\":\"#2a3f5f\"},\"hovermode\":\"closest\",\"hoverlabel\":{\"align\":\"left\"},\"paper_bgcolor\":\"white\",\"plot_bgcolor\":\"#E5ECF6\",\"polar\":{\"bgcolor\":\"#E5ECF6\",\"angularaxis\":{\"gridcolor\":\"white\",\"linecolor\":\"white\",\"ticks\":\"\"},\"radialaxis\":{\"gridcolor\":\"white\",\"linecolor\":\"white\",\"ticks\":\"\"}},\"ternary\":{\"bgcolor\":\"#E5ECF6\",\"aaxis\":{\"gridcolor\":\"white\",\"linecolor\":\"white\",\"ticks\":\"\"},\"baxis\":{\"gridcolor\":\"white\",\"linecolor\":\"white\",\"ticks\":\"\"},\"caxis\":{\"gridcolor\":\"white\",\"linecolor\":\"white\",\"ticks\":\"\"}},\"coloraxis\":{\"colorbar\":{\"outlinewidth\":0,\"ticks\":\"\"}},\"colorscale\":{\"sequential\":[[0.0,\"#0d0887\"],[0.1111111111111111,\"#46039f\"],[0.2222222222222222,\"#7201a8\"],[0.3333333333333333,\"#9c179e\"],[0.4444444444444444,\"#bd3786\"],[0.5555555555555556,\"#d8576b\"],[0.6666666666666666,\"#ed7953\"],[0.7777777777777778,\"#fb9f3a\"],[0.8888888888888888,\"#fdca26\"],[1.0,\"#f0f921\"]],\"sequentialminus\":[[0.0,\"#0d0887\"],[0.1111111111111111,\"#46039f\"],[0.2222222222222222,\"#7201a8\"],[0.3333333333333333,\"#9c179e\"],[0.4444444444444444,\"#bd3786\"],[0.5555555555555556,\"#d8576b\"],[0.6666666666666666,\"#ed7953\"],[0.7777777777777778,\"#fb9f3a\"],[0.8888888888888888,\"#fdca26\"],[1.0,\"#f0f921\"]],\"diverging\":[[0,\"#8e0152\"],[0.1,\"#c51b7d\"],[0.2,\"#de77ae\"],[0.3,\"#f1b6da\"],[0.4,\"#fde0ef\"],[0.5,\"#f7f7f7\"],[0.6,\"#e6f5d0\"],[0.7,\"#b8e186\"],[0.8,\"#7fbc41\"],[0.9,\"#4d9221\"],[1,\"#276419\"]]},\"xaxis\":{\"gridcolor\":\"white\",\"linecolor\":\"white\",\"ticks\":\"\",\"title\":{\"standoff\":15},\"zerolinecolor\":\"white\",\"automargin\":true,\"zerolinewidth\":2},\"yaxis\":{\"gridcolor\":\"white\",\"linecolor\":\"white\",\"ticks\":\"\",\"title\":{\"standoff\":15},\"zerolinecolor\":\"white\",\"automargin\":true,\"zerolinewidth\":2},\"scene\":{\"xaxis\":{\"backgroundcolor\":\"#E5ECF6\",\"gridcolor\":\"white\",\"linecolor\":\"white\",\"showbackground\":true,\"ticks\":\"\",\"zerolinecolor\":\"white\",\"gridwidth\":2},\"yaxis\":{\"backgroundcolor\":\"#E5ECF6\",\"gridcolor\":\"white\",\"linecolor\":\"white\",\"showbackground\":true,\"ticks\":\"\",\"zerolinecolor\":\"white\",\"gridwidth\":2},\"zaxis\":{\"backgroundcolor\":\"#E5ECF6\",\"gridcolor\":\"white\",\"linecolor\":\"white\",\"showbackground\":true,\"ticks\":\"\",\"zerolinecolor\":\"white\",\"gridwidth\":2}},\"shapedefaults\":{\"line\":{\"color\":\"#2a3f5f\"}},\"annotationdefaults\":{\"arrowcolor\":\"#2a3f5f\",\"arrowhead\":0,\"arrowwidth\":1},\"geo\":{\"bgcolor\":\"white\",\"landcolor\":\"#E5ECF6\",\"subunitcolor\":\"white\",\"showland\":true,\"showlakes\":true,\"lakecolor\":\"white\"},\"title\":{\"x\":0.05},\"mapbox\":{\"style\":\"light\"}}},\"xaxis\":{\"anchor\":\"y\",\"domain\":[0.0,1.0],\"title\":{\"text\":\"BMI\"}},\"yaxis\":{\"anchor\":\"x\",\"domain\":[0.0,1.0],\"title\":{\"text\":\"Age\"}},\"legend\":{\"title\":{\"text\":\"highBP\"},\"tracegroupgap\":0},\"margin\":{\"t\":60},\"title\":{\"text\":\"\"}},                        {\"responsive\": true}                    ).then(function(){\n                            \nvar gd = document.getElementById('8dc5221c-2ed0-42ad-b7b3-2967bf3b4049');\nvar x = new MutationObserver(function (mutations, observer) {{\n        var display = window.getComputedStyle(gd).display;\n        if (!display || display === 'none') {{\n            console.log([gd, 'removed!']);\n            Plotly.purge(gd);\n            observer.disconnect();\n        }}\n}});\n\n// Listen for the removal of the full notebook cells\nvar notebookContainer = gd.closest('#notebook-container');\nif (notebookContainer) {{\n    x.observe(notebookContainer, {childList: true});\n}}\n\n// Listen for the clearing of the current output cell\nvar outputEl = gd.closest('.output');\nif (outputEl) {{\n    x.observe(outputEl, {childList: true});\n}}\n\n                        })                };                            </script>        </div>\n</body>\n</html>"
     },
     "execution_count": 51,
     "metadata": {
     },
     "output_type": "execute_result"
    }
   ],
   "source": [
    "# BMI and Age\n",
    "df= diabetes\n",
    "fig = px.scatter(df, x=\"BMI\", y=\"Age\", color=\"highBP\")\n",
    "\n",
    "fig.update_layout(\n",
    "    title=\"\",)\n",
    "\n",
    "fig.show()"
   ]
  },
  {
   "cell_type": "code",
   "execution_count": 0,
   "metadata": {
    "collapsed": false
   },
   "outputs": [
   ],
   "source": [
   ]
  }
 ],
 "metadata": {
  "kernelspec": {
   "display_name": "Python (elastic-searchers)",
   "language": "python",
   "metadata": {
    "debugger": true
   },
   "name": "elastic-searchers",
   "resource_dir": "/projects/f911260f-4df0-415f-8018-6d00b52060b5/.local/share/jupyter/kernels/elastic-searchers"
  },
  "language_info": {
   "codemirror_mode": {
    "name": "ipython",
    "version": 3
   },
   "file_extension": ".py",
   "mimetype": "text/x-python",
   "name": "python",
   "nbconvert_exporter": "python",
   "pygments_lexer": "ipython3",
   "version": "3.9.12"
  }
 },
 "nbformat": 4,
 "nbformat_minor": 4
}