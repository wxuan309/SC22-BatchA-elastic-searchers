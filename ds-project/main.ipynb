{
 "cells": [
  {
   "cell_type": "markdown",
   "metadata": {
    "collapsed": false
   },
   "source": [
    "### Import Packages\n",
    "\n"
   ]
  },
  {
   "cell_type": "code",
   "execution_count": 2,
   "metadata": {
    "collapsed": false
   },
   "outputs": [
   ],
   "source": [
    "import pandas as pd\n",
    "import plotly.express as px"
   ]
  },
  {
   "cell_type": "code",
   "execution_count": 3,
   "metadata": {
    "collapsed": false
   },
   "outputs": [
   ],
   "source": [
    "diabetes = pd.read_csv(\"./Data/diabetes_dataset__2019.csv\")\n"
   ]
  },
  {
   "cell_type": "markdown",
   "metadata": {
    "collapsed": false
   },
   "source": [
    "### Load Dataset\n",
    "\n"
   ]
  },
  {
   "cell_type": "code",
   "execution_count": 22,
   "metadata": {
    "collapsed": false,
    "scrolled": true
   },
   "outputs": [
    {
     "data": {
      "text/html": [
       "<div>\n",
       "<style scoped>\n",
       "    .dataframe tbody tr th:only-of-type {\n",
       "        vertical-align: middle;\n",
       "    }\n",
       "\n",
       "    .dataframe tbody tr th {\n",
       "        vertical-align: top;\n",
       "    }\n",
       "\n",
       "    .dataframe thead th {\n",
       "        text-align: right;\n",
       "    }\n",
       "</style>\n",
       "<table border=\"1\" class=\"dataframe\">\n",
       "  <thead>\n",
       "    <tr style=\"text-align: right;\">\n",
       "      <th></th>\n",
       "      <th>Age</th>\n",
       "      <th>Gender</th>\n",
       "      <th>Family_Diabetes</th>\n",
       "      <th>highBP</th>\n",
       "      <th>PhysicallyActive</th>\n",
       "      <th>BMI</th>\n",
       "      <th>Smoking</th>\n",
       "      <th>Alcohol</th>\n",
       "      <th>Sleep</th>\n",
       "      <th>SoundSleep</th>\n",
       "      <th>RegularMedicine</th>\n",
       "      <th>JunkFood</th>\n",
       "      <th>Stress</th>\n",
       "      <th>BPLevel</th>\n",
       "      <th>Pregancies</th>\n",
       "      <th>Pdiabetes</th>\n",
       "      <th>UriationFreq</th>\n",
       "      <th>Diabetic</th>\n",
       "    </tr>\n",
       "  </thead>\n",
       "  <tbody>\n",
       "    <tr>\n",
       "      <th>0</th>\n",
       "      <td>50-59</td>\n",
       "      <td>Male</td>\n",
       "      <td>no</td>\n",
       "      <td>yes</td>\n",
       "      <td>one hr or more</td>\n",
       "      <td>39.0</td>\n",
       "      <td>no</td>\n",
       "      <td>no</td>\n",
       "      <td>8</td>\n",
       "      <td>6</td>\n",
       "      <td>no</td>\n",
       "      <td>occasionally</td>\n",
       "      <td>sometimes</td>\n",
       "      <td>high</td>\n",
       "      <td>0.0</td>\n",
       "      <td>0</td>\n",
       "      <td>not much</td>\n",
       "      <td>no</td>\n",
       "    </tr>\n",
       "    <tr>\n",
       "      <th>1</th>\n",
       "      <td>50-59</td>\n",
       "      <td>Male</td>\n",
       "      <td>no</td>\n",
       "      <td>yes</td>\n",
       "      <td>less than half an hr</td>\n",
       "      <td>28.0</td>\n",
       "      <td>no</td>\n",
       "      <td>no</td>\n",
       "      <td>8</td>\n",
       "      <td>6</td>\n",
       "      <td>yes</td>\n",
       "      <td>very often</td>\n",
       "      <td>sometimes</td>\n",
       "      <td>normal</td>\n",
       "      <td>0.0</td>\n",
       "      <td>0</td>\n",
       "      <td>not much</td>\n",
       "      <td>no</td>\n",
       "    </tr>\n",
       "    <tr>\n",
       "      <th>2</th>\n",
       "      <td>40-49</td>\n",
       "      <td>Male</td>\n",
       "      <td>no</td>\n",
       "      <td>no</td>\n",
       "      <td>one hr or more</td>\n",
       "      <td>24.0</td>\n",
       "      <td>no</td>\n",
       "      <td>no</td>\n",
       "      <td>6</td>\n",
       "      <td>6</td>\n",
       "      <td>no</td>\n",
       "      <td>occasionally</td>\n",
       "      <td>sometimes</td>\n",
       "      <td>normal</td>\n",
       "      <td>0.0</td>\n",
       "      <td>0</td>\n",
       "      <td>not much</td>\n",
       "      <td>no</td>\n",
       "    </tr>\n",
       "    <tr>\n",
       "      <th>3</th>\n",
       "      <td>50-59</td>\n",
       "      <td>Male</td>\n",
       "      <td>no</td>\n",
       "      <td>no</td>\n",
       "      <td>one hr or more</td>\n",
       "      <td>23.0</td>\n",
       "      <td>no</td>\n",
       "      <td>no</td>\n",
       "      <td>8</td>\n",
       "      <td>6</td>\n",
       "      <td>no</td>\n",
       "      <td>occasionally</td>\n",
       "      <td>sometimes</td>\n",
       "      <td>normal</td>\n",
       "      <td>0.0</td>\n",
       "      <td>0</td>\n",
       "      <td>not much</td>\n",
       "      <td>no</td>\n",
       "    </tr>\n",
       "    <tr>\n",
       "      <th>4</th>\n",
       "      <td>40-49</td>\n",
       "      <td>Male</td>\n",
       "      <td>no</td>\n",
       "      <td>no</td>\n",
       "      <td>less than half an hr</td>\n",
       "      <td>27.0</td>\n",
       "      <td>no</td>\n",
       "      <td>no</td>\n",
       "      <td>8</td>\n",
       "      <td>8</td>\n",
       "      <td>no</td>\n",
       "      <td>occasionally</td>\n",
       "      <td>sometimes</td>\n",
       "      <td>normal</td>\n",
       "      <td>0.0</td>\n",
       "      <td>0</td>\n",
       "      <td>not much</td>\n",
       "      <td>no</td>\n",
       "    </tr>\n",
       "  </tbody>\n",
       "</table>\n",
       "</div>"
      ],
      "text/plain": [
       "     Age Gender Family_Diabetes highBP      PhysicallyActive   BMI Smoking  \\\n",
       "0  50-59   Male              no    yes        one hr or more  39.0      no   \n",
       "1  50-59   Male              no    yes  less than half an hr  28.0      no   \n",
       "2  40-49   Male              no     no        one hr or more  24.0      no   \n",
       "3  50-59   Male              no     no        one hr or more  23.0      no   \n",
       "4  40-49   Male              no     no  less than half an hr  27.0      no   \n",
       "\n",
       "  Alcohol  Sleep  SoundSleep RegularMedicine      JunkFood     Stress BPLevel  \\\n",
       "0      no      8           6              no  occasionally  sometimes    high   \n",
       "1      no      8           6             yes    very often  sometimes  normal   \n",
       "2      no      6           6              no  occasionally  sometimes  normal   \n",
       "3      no      8           6              no  occasionally  sometimes  normal   \n",
       "4      no      8           8              no  occasionally  sometimes  normal   \n",
       "\n",
       "   Pregancies Pdiabetes UriationFreq Diabetic  \n",
       "0         0.0         0     not much       no  \n",
       "1         0.0         0     not much       no  \n",
       "2         0.0         0     not much       no  \n",
       "3         0.0         0     not much       no  \n",
       "4         0.0         0     not much       no  "
      ]
     },
     "execution_count": 22,
     "metadata": {
     },
     "output_type": "execute_result"
    }
   ],
   "source": [
    "diabetes.head()"
   ]
  },
  {
   "cell_type": "code",
   "execution_count": 15,
   "metadata": {
    "collapsed": false,
    "scrolled": true
   },
   "outputs": [
    {
     "data": {
      "text/html": [
       "<div>\n",
       "<style scoped>\n",
       "    .dataframe tbody tr th:only-of-type {\n",
       "        vertical-align: middle;\n",
       "    }\n",
       "\n",
       "    .dataframe tbody tr th {\n",
       "        vertical-align: top;\n",
       "    }\n",
       "\n",
       "    .dataframe thead th {\n",
       "        text-align: right;\n",
       "    }\n",
       "</style>\n",
       "<table border=\"1\" class=\"dataframe\">\n",
       "  <thead>\n",
       "    <tr style=\"text-align: right;\">\n",
       "      <th></th>\n",
       "      <th>Age</th>\n",
       "      <th>Gender</th>\n",
       "      <th>Family_Diabetes</th>\n",
       "      <th>highBP</th>\n",
       "      <th>PhysicallyActive</th>\n",
       "      <th>BMI</th>\n",
       "      <th>Smoking</th>\n",
       "      <th>Alcohol</th>\n",
       "      <th>Sleep</th>\n",
       "      <th>SoundSleep</th>\n",
       "      <th>RegularMedicine</th>\n",
       "      <th>JunkFood</th>\n",
       "      <th>Stress</th>\n",
       "      <th>BPLevel</th>\n",
       "      <th>Pregancies</th>\n",
       "      <th>Pdiabetes</th>\n",
       "      <th>UriationFreq</th>\n",
       "      <th>Diabetic</th>\n",
       "    </tr>\n",
       "  </thead>\n",
       "  <tbody>\n",
       "    <tr>\n",
       "      <th>947</th>\n",
       "      <td>less than 40</td>\n",
       "      <td>Male</td>\n",
       "      <td>yes</td>\n",
       "      <td>no</td>\n",
       "      <td>more than half an hr</td>\n",
       "      <td>25.0</td>\n",
       "      <td>no</td>\n",
       "      <td>no</td>\n",
       "      <td>8</td>\n",
       "      <td>6</td>\n",
       "      <td>no</td>\n",
       "      <td>often</td>\n",
       "      <td>sometimes</td>\n",
       "      <td>normal</td>\n",
       "      <td>0.0</td>\n",
       "      <td>0</td>\n",
       "      <td>not much</td>\n",
       "      <td>yes</td>\n",
       "    </tr>\n",
       "    <tr>\n",
       "      <th>948</th>\n",
       "      <td>60 or older</td>\n",
       "      <td>Male</td>\n",
       "      <td>yes</td>\n",
       "      <td>yes</td>\n",
       "      <td>more than half an hr</td>\n",
       "      <td>27.0</td>\n",
       "      <td>no</td>\n",
       "      <td>no</td>\n",
       "      <td>6</td>\n",
       "      <td>5</td>\n",
       "      <td>yes</td>\n",
       "      <td>occasionally</td>\n",
       "      <td>sometimes</td>\n",
       "      <td>high</td>\n",
       "      <td>0.0</td>\n",
       "      <td>0</td>\n",
       "      <td>quite often</td>\n",
       "      <td>yes</td>\n",
       "    </tr>\n",
       "    <tr>\n",
       "      <th>949</th>\n",
       "      <td>60 or older</td>\n",
       "      <td>Male</td>\n",
       "      <td>no</td>\n",
       "      <td>yes</td>\n",
       "      <td>none</td>\n",
       "      <td>23.0</td>\n",
       "      <td>no</td>\n",
       "      <td>no</td>\n",
       "      <td>6</td>\n",
       "      <td>5</td>\n",
       "      <td>yes</td>\n",
       "      <td>occasionally</td>\n",
       "      <td>sometimes</td>\n",
       "      <td>high</td>\n",
       "      <td>0.0</td>\n",
       "      <td>0</td>\n",
       "      <td>not much</td>\n",
       "      <td>no</td>\n",
       "    </tr>\n",
       "    <tr>\n",
       "      <th>950</th>\n",
       "      <td>60 or older</td>\n",
       "      <td>Male</td>\n",
       "      <td>no</td>\n",
       "      <td>yes</td>\n",
       "      <td>less than half an hr</td>\n",
       "      <td>27.0</td>\n",
       "      <td>no</td>\n",
       "      <td>yes</td>\n",
       "      <td>6</td>\n",
       "      <td>5</td>\n",
       "      <td>yes</td>\n",
       "      <td>occasionally</td>\n",
       "      <td>very often</td>\n",
       "      <td>high</td>\n",
       "      <td>0.0</td>\n",
       "      <td>0</td>\n",
       "      <td>not much</td>\n",
       "      <td>no</td>\n",
       "    </tr>\n",
       "    <tr>\n",
       "      <th>951</th>\n",
       "      <td>60 or older</td>\n",
       "      <td>Female</td>\n",
       "      <td>yes</td>\n",
       "      <td>yes</td>\n",
       "      <td>one hr or more</td>\n",
       "      <td>30.0</td>\n",
       "      <td>no</td>\n",
       "      <td>no</td>\n",
       "      <td>7</td>\n",
       "      <td>4</td>\n",
       "      <td>yes</td>\n",
       "      <td>occasionally</td>\n",
       "      <td>sometimes</td>\n",
       "      <td>high</td>\n",
       "      <td>2.0</td>\n",
       "      <td>0</td>\n",
       "      <td>quite often</td>\n",
       "      <td>yes</td>\n",
       "    </tr>\n",
       "  </tbody>\n",
       "</table>\n",
       "</div>"
      ],
      "text/plain": [
       "              Age  Gender Family_Diabetes highBP      PhysicallyActive   BMI  \\\n",
       "947  less than 40    Male             yes     no  more than half an hr  25.0   \n",
       "948   60 or older    Male             yes    yes  more than half an hr  27.0   \n",
       "949   60 or older    Male              no    yes                  none  23.0   \n",
       "950   60 or older    Male              no    yes  less than half an hr  27.0   \n",
       "951   60 or older  Female             yes    yes        one hr or more  30.0   \n",
       "\n",
       "    Smoking Alcohol  Sleep  SoundSleep RegularMedicine      JunkFood  \\\n",
       "947      no      no      8           6              no         often   \n",
       "948      no      no      6           5             yes  occasionally   \n",
       "949      no      no      6           5             yes  occasionally   \n",
       "950      no     yes      6           5             yes  occasionally   \n",
       "951      no      no      7           4             yes  occasionally   \n",
       "\n",
       "         Stress BPLevel  Pregancies Pdiabetes UriationFreq Diabetic  \n",
       "947   sometimes  normal         0.0         0     not much      yes  \n",
       "948   sometimes    high         0.0         0  quite often      yes  \n",
       "949   sometimes    high         0.0         0     not much       no  \n",
       "950  very often    high         0.0         0     not much       no  \n",
       "951   sometimes    high         2.0         0  quite often      yes  "
      ]
     },
     "execution_count": 15,
     "metadata": {
     },
     "output_type": "execute_result"
    }
   ],
   "source": [
    "diabetes.tail()"
   ]
  },
  {
   "cell_type": "code",
   "execution_count": 17,
   "metadata": {
    "collapsed": false
   },
   "outputs": [
    {
     "name": "stdout",
     "output_type": "stream",
     "text": [
      "Index(['Age', 'Gender', 'Family_Diabetes', 'highBP', 'PhysicallyActive', 'BMI',\n",
      "       'Smoking', 'Alcohol', 'Sleep', 'SoundSleep', 'RegularMedicine',\n",
      "       'JunkFood', 'Stress', 'BPLevel', 'Pregancies', 'Pdiabetes',\n",
      "       'UriationFreq', 'Diabetic'],\n",
      "      dtype='object')\n",
      "\n",
      "(952, 18)\n"
     ]
    }
   ],
   "source": [
    "print(diabetes.columns)\n",
    "print(\"\")\n",
    "print(diabetes.shape)"
   ]
  },
  {
   "cell_type": "code",
   "execution_count": 18,
   "metadata": {
    "collapsed": false
   },
   "outputs": [
    {
     "name": "stdout",
     "output_type": "stream",
     "text": [
      "<class 'pandas.core.frame.DataFrame'>\n",
      "RangeIndex: 952 entries, 0 to 951\n",
      "Data columns (total 18 columns):\n",
      " #   Column            Non-Null Count  Dtype  \n",
      "---  ------            --------------  -----  \n",
      " 0   Age               952 non-null    object \n",
      " 1   Gender            952 non-null    object \n",
      " 2   Family_Diabetes   952 non-null    object \n",
      " 3   highBP            952 non-null    object \n",
      " 4   PhysicallyActive  952 non-null    object \n",
      " 5   BMI               948 non-null    float64\n",
      " 6   Smoking           952 non-null    object \n",
      " 7   Alcohol           952 non-null    object \n",
      " 8   Sleep             952 non-null    int64  \n",
      " 9   SoundSleep        952 non-null    int64  \n",
      " 10  RegularMedicine   952 non-null    object \n",
      " 11  JunkFood          952 non-null    object \n",
      " 12  Stress            952 non-null    object \n",
      " 13  BPLevel           952 non-null    object \n",
      " 14  Pregancies        910 non-null    float64\n",
      " 15  Pdiabetes         951 non-null    object \n",
      " 16  UriationFreq      952 non-null    object \n",
      " 17  Diabetic          951 non-null    object \n",
      "dtypes: float64(2), int64(2), object(14)\n",
      "memory usage: 134.0+ KB\n"
     ]
    }
   ],
   "source": [
    "diabetes.info()"
   ]
  },
  {
   "cell_type": "code",
   "execution_count": 31,
   "metadata": {
    "collapsed": false
   },
   "outputs": [
    {
     "data": {
      "text/html": [
       "<div>\n",
       "<style scoped>\n",
       "    .dataframe tbody tr th:only-of-type {\n",
       "        vertical-align: middle;\n",
       "    }\n",
       "\n",
       "    .dataframe tbody tr th {\n",
       "        vertical-align: top;\n",
       "    }\n",
       "\n",
       "    .dataframe thead th {\n",
       "        text-align: right;\n",
       "    }\n",
       "</style>\n",
       "<table border=\"1\" class=\"dataframe\">\n",
       "  <thead>\n",
       "    <tr style=\"text-align: right;\">\n",
       "      <th></th>\n",
       "      <th>Age</th>\n",
       "      <th>Gender</th>\n",
       "      <th>Family_Diabetes</th>\n",
       "      <th>highBP</th>\n",
       "      <th>PhysicallyActive</th>\n",
       "      <th>BMI</th>\n",
       "      <th>Smoking</th>\n",
       "      <th>Alcohol</th>\n",
       "      <th>Sleep</th>\n",
       "      <th>SoundSleep</th>\n",
       "      <th>RegularMedicine</th>\n",
       "      <th>JunkFood</th>\n",
       "      <th>Stress</th>\n",
       "      <th>BPLevel</th>\n",
       "      <th>Pregancies</th>\n",
       "      <th>Pdiabetes</th>\n",
       "      <th>UriationFreq</th>\n",
       "      <th>Diabetic</th>\n",
       "    </tr>\n",
       "  </thead>\n",
       "  <tbody>\n",
       "  </tbody>\n",
       "</table>\n",
       "</div>"
      ],
      "text/plain": [
       "Empty DataFrame\n",
       "Columns: [Age, Gender, Family_Diabetes, highBP, PhysicallyActive, BMI, Smoking, Alcohol, Sleep, SoundSleep, RegularMedicine, JunkFood, Stress, BPLevel, Pregancies, Pdiabetes, UriationFreq, Diabetic]\n",
       "Index: []"
      ]
     },
     "execution_count": 31,
     "metadata": {
     },
     "output_type": "execute_result"
    }
   ],
   "source": [
    "diabetes[diabetes['Age'].isnull()]"
   ]
  },
  {
   "cell_type": "code",
   "execution_count": 32,
   "metadata": {
    "collapsed": false
   },
   "outputs": [
    {
     "data": {
      "text/plain": [
       "0      False\n",
       "1      False\n",
       "2      False\n",
       "3      False\n",
       "4      False\n",
       "       ...  \n",
       "947    False\n",
       "948    False\n",
       "949    False\n",
       "950    False\n",
       "951    False\n",
       "Name: Age, Length: 952, dtype: bool"
      ]
     },
     "execution_count": 32,
     "metadata": {
     },
     "output_type": "execute_result"
    }
   ],
   "source": [
    "diabetes['Age'].isnull()"
   ]
  },
  {
   "cell_type": "markdown",
   "metadata": {
    "collapsed": false
   },
   "source": [
    "### Exploratory Data Analysis\n",
    "\n"
   ]
  },
  {
   "cell_type": "code",
   "execution_count": 64,
   "metadata": {
    "collapsed": false
   },
   "outputs": [
    {
     "data": {
      "text/html": "<html>\n<head><meta charset=\"utf-8\" /></head>\n<body>\n    <div>            <script src=\"https://cdnjs.cloudflare.com/ajax/libs/mathjax/2.7.5/MathJax.js?config=TeX-AMS-MML_SVG\"></script><script type=\"text/javascript\">if (window.MathJax && window.MathJax.Hub && && window.MathJax.Hub.Config) {window.MathJax.Hub.Config({SVG: {font: \"STIX-Web\"}});}</script>                <script type=\"text/javascript\">window.PlotlyConfig = {MathJaxConfig: 'local'};</script>\n        <script src=\"https://cdn.plot.ly/plotly-2.12.1.min.js\"></script>                <div id=\"6b8bbea4-b104-4a28-9f3c-03e5f28b80a3\" class=\"plotly-graph-div\" style=\"height:400px; width:100%;\"></div>            <script type=\"text/javascript\">                                    window.PLOTLYENV=window.PLOTLYENV || {};                                    if (document.getElementById(\"6b8bbea4-b104-4a28-9f3c-03e5f28b80a3\")) {                    Plotly.newPlot(                        \"6b8bbea4-b104-4a28-9f3c-03e5f28b80a3\",                        [{\"alignmentgroup\":\"True\",\"bingroup\":\"x\",\"histfunc\":\"sum\",\"hovertemplate\":\"Diabetic=%{x}<br>sum of BMI=%{y}<extra></extra>\",\"legendgroup\":\"\",\"marker\":{\"color\":\"#636efa\",\"pattern\":{\"shape\":\"\"}},\"name\":\"\",\"offsetgroup\":\"\",\"orientation\":\"v\",\"showlegend\":false,\"x\":[\"no\",\"no\",\"no\",\"no\",\"no\",\"yes\",\"no\",\"no\",\"no\",\"no\",\"no\",\"no\",\"no\",\"no\",\"no\",\"no\",\"no\",\" no\",\"no\",\"no\",\"no\",\"yes\",\"yes\",\"no\",\"no\",\"no\",\"no\",\"no\",\"no\",\"yes\",\"no\",\"no\",\"yes\",\"no\",\"no\",\"yes\",\"yes\",\"yes\",\"yes\",\"yes\",\"no\",\"no\",\"no\",\"no\",\"no\",\"no\",\"yes\",\"yes\",\"yes\",\"yes\",\"no\",\"no\",\"no\",\"no\",\"no\",\"yes\",\"no\",\"no\",\"no\",\"yes\",\"no\",\"no\",\"no\",\"no\",\"no\",\"yes\",\"yes\",\"yes\",\"yes\",\"yes\",\"yes\",\"yes\",\"no\",\"yes\",\"yes\",\"no\",\"yes\",\"yes\",\"no\",\"no\",\"no\",\"yes\",\"no\",\"no\",\"no\",\"no\",\"no\",\"no\",\"no\",\"no\",\"no\",\"no\",\"no\",\"no\",\"no\",\"no\",\"no\",\"no\",\"no\",\"no\",\"no\",\"no\",\"no\",\"yes\",\"no\",\"yes\",\"yes\",\"yes\",\"yes\",\"no\",\"yes\",\"no\",\"yes\",null,\"no\",\"no\",\"no\",\"no\",\"no\",\"no\",\"yes\",\"yes\",\"no\",\"no\",\"no\",\"no\",\"no\",\"no\",\"no\",\"no\",\"yes\",\"no\",\"yes\",\"no\",\"no\",\"no\",\"no\",\"no\",\"no\",\"no\",\"no\",\"no\",\"no\",\"no\",\"no\",\"no\",\"no\",\"no\",\"no\",\"no\",\"no\",\"no\",\"no\",\"no\",\"no\",\"no\",\"no\",\"no\",\"no\",\"no\",\"no\",\"no\",\"no\",\"no\",\"no\",\"no\",\"no\",\"no\",\"no\",\"no\",\"no\",\"no\",\"yes\",\"yes\",\"no\",\"no\",\"no\",\"no\",\"no\",\"yes\",\"yes\",\"yes\",\"yes\",\"no\",\"no\",\"no\",\"yes\",\"no\",\"no\",\"no\",\"no\",\"no\",\"no\",\"no\",\"no\",\"no\",\"no\",\"no\",\"no\",\"no\",\"no\",\"no\",\"no\",\"no\",\"no\",\"no\",\"no\",\"no\",\"no\",\"no\",\"no\",\"no\",\"no\",\"no\",\"no\",\"no\",\"no\",\"no\",\"no\",\"no\",\"no\",\"no\",\"yes\",\"yes\",\"yes\",\"yes\",\"yes\",\"yes\",\"yes\",\"no\",\"yes\",\"yes\",\"yes\",\"yes\",\"yes\",\"no\",\"no\",\"yes\",\"no\",\"yes\",\"no\",\"no\",\"yes\",\"yes\",\"no\",\"no\",\"yes\",\"no\",\"no\",\"no\",\"no\",\"no\",\"no\",\"no\",\"yes\",\"no\",\"no\",\"no\",\"no\",\"yes\",\"yes\",\"no\",\"no\",\"no\",\"no\",\"yes\",\"no\",\"yes\",\"no\",\"no\",\"yes\",\"yes\",\"yes\",\"yes\",\"yes\",\"yes\",\"yes\",\"yes\",\"no\",\"yes\",\"no\",\"no\",\"no\",\"no\",\"yes\",\"yes\",\"yes\",\"yes\",\"no\",\"no\",\"yes\",\"no\",\"no\",\"yes\",\"no\",\"no\",\"yes\",\"yes\",\"no\",\"no\",\"no\",\"no\",\"no\",\"yes\",\"yes\",\"yes\",\"yes\",\"yes\",\"yes\",\"yes\",\"no\",\"yes\",\"yes\",\"no\",\"yes\",\"yes\",\"yes\",\"yes\",\"no\",\"yes\",\"no\",\"no\",\"no\",\"no\",\"no\",\"no\",\"no\",\"no\",\"no\",\"no\",\"no\",\"no\",\"no\",\"no\",\"yes\",\"no\",\"no\",\"no\",\"no\",\"no\",\"no\",\"yes\",\"no\",\"yes\",\"yes\",\"yes\",\"yes\",\"no\",\"yes\",\"no\",\"yes\",\"no\",\"no\",\"no\",\"no\",\"no\",\"no\",\"no\",\"yes\",\"yes\",\"no\",\"no\",\"no\",\"no\",\"no\",\"no\",\"no\",\"no\",\"yes\",\"no\",\"yes\",\"no\",\"no\",\"no\",\"no\",\"no\",\"no\",\"no\",\"no\",\"no\",\"no\",\"yes\",\"no\",\"no\",\"no\",\"no\",\"no\",\"no\",\"no\",\"no\",\"no\",\"no\",\"no\",\"no\",\"no\",\"no\",\"no\",\"no\",\"no\",\"no\",\"no\",\"yes\",\"no\",\"no\",\"no\",\"no\",\"no\",\"no\",\"no\",\"no\",\"yes\",\"yes\",\"no\",\"no\",\"no\",\"no\",\"no\",\"yes\",\"yes\",\"yes\",\"yes\",\"no\",\"no\",\"no\",\"yes\",\"no\",\"no\",\"no\",\"no\",\"no\",\"no\",\"no\",\"no\",\"no\",\"no\",\"no\",\"no\",\"no\",\"no\",\"no\",\"no\",\"no\",\"no\",\"no\",\"no\",\"no\",\"no\",\"no\",\"no\",\"no\",\"no\",\"no\",\"no\",\"no\",\"no\",\"no\",\"no\",\"no\",\"no\",\"no\",\"yes\",\"yes\",\"yes\",\"yes\",\"yes\",\"yes\",\"yes\",\"no\",\"yes\",\"yes\",\"yes\",\"yes\",\"yes\",\"yes\",\"yes\",\"yes\",\"no\",\"no\",\"no\",\"yes\",\"no\",\"yes\",\"no\",\"no\",\"no\",\"no\",\"no\",\"no\",\"no\",\"no\",\"no\",\"no\",\"no\",\"no\",\"no\",\"no\",\"no\",\"yes\",\"yes\",\"no\",\"no\",\"no\",\"no\",\"no\",\"no\",\"yes\",\"no\",\"no\",\"yes\",\"yes\",\"no\",\"yes\",\"yes\",\"yes\",\"yes\",\"yes\",\"no\",\"yes\",\"no\",\"no\",\"no\",\"no\",\"yes\",\"yes\",\"yes\",\"yes\",\"no\",\"no\",\"no\",\"no\",\"no\",\"yes\",\"no\",\"no\",\"no\",\"yes\",\"no\",\"yes\",\"no\",\"no\",\"no\",\"yes\",\"yes\",\"yes\",\"yes\",\"yes\",\"yes\",\"yes\",\"no\",\"yes\",\"yes\",\"no\",\"yes\",\"yes\",\"no\",\"no\",\"no\",\"yes\",\"no\",\"no\",\"no\",\"no\",\"no\",\"no\",\"no\",\"no\",\"no\",\"no\",\"no\",\"no\",\"no\",\"no\",\"no\",\"no\",\"no\",\"no\",\"no\",\"no\",\"no\",\"yes\",\"no\",\"yes\",\"yes\",\"yes\",\"yes\",\"no\",\"yes\",\"no\",\"yes\",\"no\",\"no\",\"no\",\"no\",\"no\",\"no\",\"yes\",\"yes\",\"yes\",\"no\",\"no\",\"no\",\"no\",\"no\",\"no\",\"no\",\"no\",\"yes\",\"no\",\"yes\",\"no\",\"no\",\"no\",\"no\",\"no\",\"no\",\"no\",\"no\",\"no\",\"no\",\"no\",\"no\",\"no\",\"no\",\"no\",\"no\",\"no\",\"no\",\"no\",\"no\",\"no\",\"yes\",\"no\",\"no\",\"no\",\"no\",\"no\",\"no\",\"no\",\"no\",\"no\",\"no\",\"no\",\"no\",\"no\",\"no\",\"no\",\"no\",\"no\",\"yes\",\"yes\",\"no\",\"no\",\"no\",\"no\",\"no\",\"yes\",\"yes\",\"yes\",\"yes\",\"no\",\"no\",\"no\",\"yes\",\"no\",\"no\",\"no\",\"no\",\"no\",\"no\",\"no\",\"no\",\"no\",\"no\",\"no\",\"no\",\"no\",\"no\",\"no\",\"no\",\"no\",\"no\",\"no\",\"no\",\"no\",\"no\",\"no\",\"no\",\"no\",\"no\",\"no\",\"no\",\"no\",\"no\",\"no\",\"no\",\"no\",\"no\",\"no\",\"yes\",\"yes\",\"yes\",\"yes\",\"yes\",\"yes\",\"yes\",\"no\",\"yes\",\"yes\",\"yes\",\"yes\",\"yes\",\"no\",\"yes\",\"yes\",\"no\",\"no\",\"no\",\"no\",\"no\",\"yes\",\"no\",\"no\",\"no\",\"no\",\"no\",\"no\",\"no\",\"no\",\"no\",\"no\",\"no\",\"no\",\"no\",\"no\",\"no\",\"yes\",\"yes\",\"no\",\"no\",\"no\",\"no\",\"yes\",\"no\",\"yes\",\"no\",\"no\",\"yes\",\"yes\",\"yes\",\"yes\",\"yes\",\"yes\",\"yes\",\"yes\",\"no\",\"yes\",\"no\",\"no\",\"no\",\"no\",\"yes\",\"yes\",\"yes\",\"yes\",\"no\",\"no\",\"yes\",\"no\",\"no\",\"yes\",\"no\",\"no\",\"no\",\"yes\",\"no\",\"no\",\"no\",\"no\",\"no\",\"yes\",\"yes\",\"yes\",\"yes\",\"yes\",\"yes\",\"yes\",\"no\",\"yes\",\"yes\",\"no\",\"yes\",\"yes\",\"no\",\"no\",\"no\",\"yes\",\"no\",\"no\",\"no\",\"no\",\"no\",\"no\",\"no\",\"no\",\"no\",\"no\",\"no\",\"no\",\"no\",\"no\",\"no\",\"no\",\"no\",\"no\",\"no\",\"no\",\"no\",\"yes\",\"no\",\"yes\",\"yes\",\"yes\",\"yes\",\"no\",\"yes\",\"no\",\"yes\",\"no\",\"no\",\"no\",\"no\",\"no\",\"no\",\"no\",\"yes\",\"yes\",\"no\",\"no\",\"no\",\"no\",\"no\",\"no\",\"no\",\"no\",\"yes\",\"no\",\"yes\",\"no\",\"no\",\"no\",\"no\",\"no\",\"no\",\"no\",\"no\",\"no\",\"no\",\"no\",\"no\",\"no\",\"yes\",\"no\",\"no\",\"no\",\"no\",\"no\",\"no\",\"no\",\"no\",\"no\",\"no\",\"no\",\"no\",\"no\",\"no\",\"no\",\"no\",\"no\",\"no\",\"no\",\"no\",\"no\",\"no\",\"no\",\"no\",\"no\",\"yes\",\"yes\",\"no\",\"no\",\"no\",\"no\",\"no\",\"yes\",\"yes\",\"yes\",\"yes\",\"no\",\"no\",\"no\",\"yes\",\"no\",\"no\",\"no\",\"no\",\"no\",\"no\",\"no\",\"no\",\"no\",\"no\",\"no\",\"no\",\"no\",\"no\",\"no\",\"no\",\"no\",\"no\",\"no\",\"no\",\"no\",\"no\",\"no\",\"no\",\"no\",\"no\",\"no\",\"no\",\"no\",\"no\",\"no\",\"no\",\"no\",\"no\",\"no\",\"yes\",\"yes\",\"yes\",\"yes\",\"yes\",\"yes\",\"yes\",\"no\",\"yes\",\"yes\",\"yes\",\"yes\",\"yes\",\"no\",\"no\",\"yes\"],\"xaxis\":\"x\",\"y\":[39.0,28.0,24.0,23.0,27.0,21.0,24.0,20.0,23.0,20.0,20.0,26.0,21.0,22.0,15.0,34.0,22.0,24.0,24.0,22.0,30.0,24.0,24.0,20.0,24.0,21.0,20.0,27.0,29.0,18.0,32.0,21.0,26.0,31.0,26.0,21.0,28.0,24.0,27.0,21.0,27.0,24.0,36.0,21.0,22.0,21.0,38.0,40.0,35.0,24.0,18.0,23.0,19.0,26.0,30.0,27.0,18.0,29.0,19.0,21.0,24.0,31.0,22.0,19.0,27.0,26.0,21.0,26.0,23.0,26.0,18.0,19.0,24.0,33.0,31.0,23.0,23.0,20.0,28.0,26.0,24.0,24.0,17.0,28.0,23.0,24.0,19.0,15.0,22.0,23.0,18.0,21.0,21.0,21.0,22.0,25.0,20.0,24.0,21.0,26.0,27.0,26.0,24.0,21.0,22.0,23.0,28.0,32.0,33.0,24.0,28.0,30.0,30.0,null,27.0,22.0,null,18.0,22.0,21.0,26.0,null,null,31.0,33.0,30.0,23.0,29.0,17.0,24.0,26.0,27.0,21.0,26.0,20.0,22.0,21.0,26.0,21.0,21.0,24.0,24.0,26.0,32.0,34.0,30.0,42.0,33.0,23.0,27.0,25.0,28.0,28.0,33.0,33.0,28.0,28.0,36.0,33.0,28.0,28.0,33.0,38.0,33.0,38.0,36.0,33.0,33.0,38.0,36.0,33.0,38.0,38.0,33.0,33.0,38.0,32.0,33.0,22.0,24.0,23.0,27.0,24.0,18.0,20.0,19.0,28.0,19.0,25.0,25.0,24.0,27.0,19.0,25.0,28.0,25.0,24.0,21.0,23.0,28.0,20.0,18.0,25.0,28.0,27.0,20.0,20.0,17.0,26.0,21.0,29.0,29.0,24.0,23.0,23.0,29.0,19.0,23.0,17.0,23.0,24.0,25.0,35.0,33.0,34.0,36.0,30.0,28.0,35.0,24.0,22.0,30.0,22.0,22.0,27.0,23.0,27.0,29.0,39.0,28.0,24.0,23.0,27.0,21.0,24.0,20.0,23.0,20.0,20.0,26.0,21.0,22.0,15.0,34.0,22.0,24.0,24.0,22.0,30.0,24.0,24.0,20.0,24.0,21.0,20.0,27.0,29.0,18.0,32.0,21.0,26.0,31.0,26.0,21.0,28.0,24.0,27.0,21.0,27.0,24.0,36.0,21.0,22.0,21.0,38.0,40.0,35.0,24.0,18.0,23.0,19.0,26.0,30.0,27.0,18.0,29.0,19.0,21.0,24.0,31.0,22.0,19.0,27.0,26.0,21.0,26.0,23.0,26.0,18.0,19.0,24.0,33.0,31.0,23.0,23.0,20.0,28.0,26.0,24.0,24.0,17.0,28.0,23.0,24.0,19.0,15.0,22.0,23.0,18.0,21.0,21.0,21.0,22.0,25.0,20.0,24.0,21.0,26.0,27.0,26.0,24.0,21.0,22.0,23.0,28.0,32.0,33.0,24.0,28.0,30.0,30.0,27.0,27.0,22.0,23.0,18.0,22.0,21.0,26.0,28.0,26.0,31.0,33.0,30.0,23.0,29.0,17.0,24.0,26.0,27.0,21.0,26.0,20.0,22.0,21.0,26.0,21.0,21.0,24.0,24.0,26.0,32.0,34.0,30.0,42.0,33.0,23.0,27.0,25.0,28.0,28.0,33.0,33.0,28.0,28.0,36.0,33.0,28.0,28.0,33.0,38.0,33.0,38.0,36.0,33.0,33.0,38.0,36.0,33.0,38.0,38.0,33.0,33.0,38.0,32.0,33.0,22.0,24.0,23.0,27.0,24.0,18.0,20.0,19.0,28.0,19.0,25.0,25.0,24.0,27.0,19.0,25.0,28.0,25.0,24.0,21.0,23.0,28.0,20.0,18.0,25.0,28.0,27.0,20.0,20.0,17.0,26.0,21.0,29.0,29.0,24.0,23.0,23.0,29.0,19.0,23.0,17.0,23.0,24.0,25.0,35.0,33.0,34.0,36.0,30.0,28.0,35.0,24.0,22.0,30.0,22.0,22.0,27.0,23.0,27.0,29.0,39.0,28.0,24.0,23.0,27.0,21.0,24.0,20.0,23.0,20.0,20.0,26.0,21.0,22.0,15.0,34.0,22.0,24.0,24.0,22.0,30.0,24.0,24.0,20.0,24.0,21.0,20.0,27.0,29.0,18.0,32.0,21.0,26.0,31.0,26.0,21.0,28.0,24.0,27.0,21.0,27.0,24.0,36.0,21.0,22.0,21.0,38.0,40.0,35.0,24.0,18.0,23.0,19.0,26.0,30.0,27.0,18.0,29.0,19.0,21.0,24.0,31.0,22.0,19.0,27.0,26.0,21.0,26.0,23.0,26.0,18.0,19.0,24.0,33.0,31.0,23.0,23.0,20.0,28.0,26.0,24.0,24.0,17.0,28.0,23.0,24.0,19.0,15.0,22.0,23.0,18.0,21.0,21.0,21.0,22.0,25.0,20.0,24.0,21.0,26.0,27.0,26.0,24.0,21.0,22.0,23.0,28.0,32.0,33.0,24.0,28.0,30.0,30.0,27.0,27.0,22.0,23.0,18.0,22.0,21.0,26.0,28.0,26.0,31.0,33.0,30.0,23.0,29.0,17.0,24.0,26.0,27.0,21.0,26.0,20.0,22.0,21.0,26.0,21.0,21.0,24.0,24.0,26.0,32.0,34.0,30.0,42.0,33.0,23.0,27.0,25.0,28.0,28.0,33.0,33.0,28.0,28.0,36.0,33.0,28.0,28.0,33.0,38.0,33.0,38.0,36.0,33.0,33.0,38.0,36.0,33.0,38.0,38.0,33.0,33.0,38.0,32.0,33.0,22.0,24.0,23.0,27.0,24.0,18.0,20.0,19.0,28.0,19.0,25.0,25.0,24.0,27.0,19.0,25.0,28.0,25.0,24.0,21.0,23.0,28.0,20.0,18.0,25.0,28.0,27.0,20.0,20.0,17.0,26.0,21.0,29.0,29.0,24.0,23.0,23.0,29.0,19.0,23.0,17.0,23.0,24.0,25.0,35.0,33.0,34.0,36.0,30.0,28.0,35.0,24.0,22.0,30.0,22.0,22.0,27.0,23.0,27.0,29.0,39.0,28.0,24.0,23.0,27.0,21.0,24.0,20.0,23.0,20.0,20.0,26.0,21.0,22.0,15.0,34.0,22.0,24.0,24.0,22.0,30.0,24.0,24.0,20.0,24.0,21.0,20.0,27.0,29.0,18.0,32.0,21.0,26.0,31.0,26.0,21.0,28.0,24.0,27.0,21.0,27.0,24.0,36.0,21.0,22.0,21.0,38.0,40.0,35.0,24.0,18.0,23.0,19.0,26.0,30.0,27.0,18.0,29.0,19.0,21.0,24.0,31.0,22.0,19.0,27.0,26.0,21.0,26.0,23.0,26.0,18.0,19.0,24.0,33.0,31.0,23.0,23.0,20.0,28.0,26.0,24.0,24.0,17.0,28.0,23.0,24.0,19.0,15.0,22.0,23.0,18.0,21.0,21.0,21.0,22.0,25.0,20.0,24.0,21.0,26.0,27.0,26.0,24.0,21.0,22.0,23.0,28.0,32.0,33.0,24.0,28.0,30.0,30.0,27.0,27.0,22.0,23.0,18.0,22.0,21.0,26.0,28.0,26.0,31.0,33.0,30.0,23.0,29.0,17.0,24.0,26.0,27.0,21.0,26.0,20.0,23.0,21.0,26.0,21.0,21.0,24.0,24.0,26.0,32.0,34.0,30.0,45.0,33.0,23.0,27.0,25.0,28.0,28.0,33.0,33.0,28.0,28.0,36.0,33.0,28.0,28.0,33.0,38.0,33.0,38.0,36.0,33.0,33.0,38.0,36.0,33.0,38.0,38.0,33.0,33.0,38.0,32.0,33.0,22.0,25.0,23.0,27.0,24.0,18.0,20.0,19.0,28.0,19.0,25.0,25.0,24.0,27.0,19.0,25.0,28.0,25.0,24.0,21.0,23.0,28.0,20.0,18.0,25.0,28.0,27.0,20.0,20.0,17.0,29.0,21.0,29.0,29.0,24.0,23.0,23.0,29.0,19.0,23.0,17.0,23.0,24.0,25.0,35.0,33.0,34.0,36.0,30.0,28.0,35.0,24.0,22.0,30.0,22.0,25.0,27.0,23.0,27.0,30.0],\"yaxis\":\"y\",\"type\":\"histogram\"}],                        {\"template\":{\"data\":{\"histogram2dcontour\":[{\"type\":\"histogram2dcontour\",\"colorbar\":{\"outlinewidth\":0,\"ticks\":\"\"},\"colorscale\":[[0.0,\"#0d0887\"],[0.1111111111111111,\"#46039f\"],[0.2222222222222222,\"#7201a8\"],[0.3333333333333333,\"#9c179e\"],[0.4444444444444444,\"#bd3786\"],[0.5555555555555556,\"#d8576b\"],[0.6666666666666666,\"#ed7953\"],[0.7777777777777778,\"#fb9f3a\"],[0.8888888888888888,\"#fdca26\"],[1.0,\"#f0f921\"]]}],\"choropleth\":[{\"type\":\"choropleth\",\"colorbar\":{\"outlinewidth\":0,\"ticks\":\"\"}}],\"histogram2d\":[{\"type\":\"histogram2d\",\"colorbar\":{\"outlinewidth\":0,\"ticks\":\"\"},\"colorscale\":[[0.0,\"#0d0887\"],[0.1111111111111111,\"#46039f\"],[0.2222222222222222,\"#7201a8\"],[0.3333333333333333,\"#9c179e\"],[0.4444444444444444,\"#bd3786\"],[0.5555555555555556,\"#d8576b\"],[0.6666666666666666,\"#ed7953\"],[0.7777777777777778,\"#fb9f3a\"],[0.8888888888888888,\"#fdca26\"],[1.0,\"#f0f921\"]]}],\"heatmap\":[{\"type\":\"heatmap\",\"colorbar\":{\"outlinewidth\":0,\"ticks\":\"\"},\"colorscale\":[[0.0,\"#0d0887\"],[0.1111111111111111,\"#46039f\"],[0.2222222222222222,\"#7201a8\"],[0.3333333333333333,\"#9c179e\"],[0.4444444444444444,\"#bd3786\"],[0.5555555555555556,\"#d8576b\"],[0.6666666666666666,\"#ed7953\"],[0.7777777777777778,\"#fb9f3a\"],[0.8888888888888888,\"#fdca26\"],[1.0,\"#f0f921\"]]}],\"heatmapgl\":[{\"type\":\"heatmapgl\",\"colorbar\":{\"outlinewidth\":0,\"ticks\":\"\"},\"colorscale\":[[0.0,\"#0d0887\"],[0.1111111111111111,\"#46039f\"],[0.2222222222222222,\"#7201a8\"],[0.3333333333333333,\"#9c179e\"],[0.4444444444444444,\"#bd3786\"],[0.5555555555555556,\"#d8576b\"],[0.6666666666666666,\"#ed7953\"],[0.7777777777777778,\"#fb9f3a\"],[0.8888888888888888,\"#fdca26\"],[1.0,\"#f0f921\"]]}],\"contourcarpet\":[{\"type\":\"contourcarpet\",\"colorbar\":{\"outlinewidth\":0,\"ticks\":\"\"}}],\"contour\":[{\"type\":\"contour\",\"colorbar\":{\"outlinewidth\":0,\"ticks\":\"\"},\"colorscale\":[[0.0,\"#0d0887\"],[0.1111111111111111,\"#46039f\"],[0.2222222222222222,\"#7201a8\"],[0.3333333333333333,\"#9c179e\"],[0.4444444444444444,\"#bd3786\"],[0.5555555555555556,\"#d8576b\"],[0.6666666666666666,\"#ed7953\"],[0.7777777777777778,\"#fb9f3a\"],[0.8888888888888888,\"#fdca26\"],[1.0,\"#f0f921\"]]}],\"surface\":[{\"type\":\"surface\",\"colorbar\":{\"outlinewidth\":0,\"ticks\":\"\"},\"colorscale\":[[0.0,\"#0d0887\"],[0.1111111111111111,\"#46039f\"],[0.2222222222222222,\"#7201a8\"],[0.3333333333333333,\"#9c179e\"],[0.4444444444444444,\"#bd3786\"],[0.5555555555555556,\"#d8576b\"],[0.6666666666666666,\"#ed7953\"],[0.7777777777777778,\"#fb9f3a\"],[0.8888888888888888,\"#fdca26\"],[1.0,\"#f0f921\"]]}],\"mesh3d\":[{\"type\":\"mesh3d\",\"colorbar\":{\"outlinewidth\":0,\"ticks\":\"\"}}],\"scatter\":[{\"fillpattern\":{\"fillmode\":\"overlay\",\"size\":10,\"solidity\":0.2},\"type\":\"scatter\"}],\"parcoords\":[{\"type\":\"parcoords\",\"line\":{\"colorbar\":{\"outlinewidth\":0,\"ticks\":\"\"}}}],\"scatterpolargl\":[{\"type\":\"scatterpolargl\",\"marker\":{\"colorbar\":{\"outlinewidth\":0,\"ticks\":\"\"}}}],\"bar\":[{\"error_x\":{\"color\":\"#2a3f5f\"},\"error_y\":{\"color\":\"#2a3f5f\"},\"marker\":{\"line\":{\"color\":\"#E5ECF6\",\"width\":0.5},\"pattern\":{\"fillmode\":\"overlay\",\"size\":10,\"solidity\":0.2}},\"type\":\"bar\"}],\"scattergeo\":[{\"type\":\"scattergeo\",\"marker\":{\"colorbar\":{\"outlinewidth\":0,\"ticks\":\"\"}}}],\"scatterpolar\":[{\"type\":\"scatterpolar\",\"marker\":{\"colorbar\":{\"outlinewidth\":0,\"ticks\":\"\"}}}],\"histogram\":[{\"marker\":{\"pattern\":{\"fillmode\":\"overlay\",\"size\":10,\"solidity\":0.2}},\"type\":\"histogram\"}],\"scattergl\":[{\"type\":\"scattergl\",\"marker\":{\"colorbar\":{\"outlinewidth\":0,\"ticks\":\"\"}}}],\"scatter3d\":[{\"type\":\"scatter3d\",\"line\":{\"colorbar\":{\"outlinewidth\":0,\"ticks\":\"\"}},\"marker\":{\"colorbar\":{\"outlinewidth\":0,\"ticks\":\"\"}}}],\"scattermapbox\":[{\"type\":\"scattermapbox\",\"marker\":{\"colorbar\":{\"outlinewidth\":0,\"ticks\":\"\"}}}],\"scatterternary\":[{\"type\":\"scatterternary\",\"marker\":{\"colorbar\":{\"outlinewidth\":0,\"ticks\":\"\"}}}],\"scattercarpet\":[{\"type\":\"scattercarpet\",\"marker\":{\"colorbar\":{\"outlinewidth\":0,\"ticks\":\"\"}}}],\"carpet\":[{\"aaxis\":{\"endlinecolor\":\"#2a3f5f\",\"gridcolor\":\"white\",\"linecolor\":\"white\",\"minorgridcolor\":\"white\",\"startlinecolor\":\"#2a3f5f\"},\"baxis\":{\"endlinecolor\":\"#2a3f5f\",\"gridcolor\":\"white\",\"linecolor\":\"white\",\"minorgridcolor\":\"white\",\"startlinecolor\":\"#2a3f5f\"},\"type\":\"carpet\"}],\"table\":[{\"cells\":{\"fill\":{\"color\":\"#EBF0F8\"},\"line\":{\"color\":\"white\"}},\"header\":{\"fill\":{\"color\":\"#C8D4E3\"},\"line\":{\"color\":\"white\"}},\"type\":\"table\"}],\"barpolar\":[{\"marker\":{\"line\":{\"color\":\"#E5ECF6\",\"width\":0.5},\"pattern\":{\"fillmode\":\"overlay\",\"size\":10,\"solidity\":0.2}},\"type\":\"barpolar\"}],\"pie\":[{\"automargin\":true,\"type\":\"pie\"}]},\"layout\":{\"autotypenumbers\":\"strict\",\"colorway\":[\"#636efa\",\"#EF553B\",\"#00cc96\",\"#ab63fa\",\"#FFA15A\",\"#19d3f3\",\"#FF6692\",\"#B6E880\",\"#FF97FF\",\"#FECB52\"],\"font\":{\"color\":\"#2a3f5f\"},\"hovermode\":\"closest\",\"hoverlabel\":{\"align\":\"left\"},\"paper_bgcolor\":\"white\",\"plot_bgcolor\":\"#E5ECF6\",\"polar\":{\"bgcolor\":\"#E5ECF6\",\"angularaxis\":{\"gridcolor\":\"white\",\"linecolor\":\"white\",\"ticks\":\"\"},\"radialaxis\":{\"gridcolor\":\"white\",\"linecolor\":\"white\",\"ticks\":\"\"}},\"ternary\":{\"bgcolor\":\"#E5ECF6\",\"aaxis\":{\"gridcolor\":\"white\",\"linecolor\":\"white\",\"ticks\":\"\"},\"baxis\":{\"gridcolor\":\"white\",\"linecolor\":\"white\",\"ticks\":\"\"},\"caxis\":{\"gridcolor\":\"white\",\"linecolor\":\"white\",\"ticks\":\"\"}},\"coloraxis\":{\"colorbar\":{\"outlinewidth\":0,\"ticks\":\"\"}},\"colorscale\":{\"sequential\":[[0.0,\"#0d0887\"],[0.1111111111111111,\"#46039f\"],[0.2222222222222222,\"#7201a8\"],[0.3333333333333333,\"#9c179e\"],[0.4444444444444444,\"#bd3786\"],[0.5555555555555556,\"#d8576b\"],[0.6666666666666666,\"#ed7953\"],[0.7777777777777778,\"#fb9f3a\"],[0.8888888888888888,\"#fdca26\"],[1.0,\"#f0f921\"]],\"sequentialminus\":[[0.0,\"#0d0887\"],[0.1111111111111111,\"#46039f\"],[0.2222222222222222,\"#7201a8\"],[0.3333333333333333,\"#9c179e\"],[0.4444444444444444,\"#bd3786\"],[0.5555555555555556,\"#d8576b\"],[0.6666666666666666,\"#ed7953\"],[0.7777777777777778,\"#fb9f3a\"],[0.8888888888888888,\"#fdca26\"],[1.0,\"#f0f921\"]],\"diverging\":[[0,\"#8e0152\"],[0.1,\"#c51b7d\"],[0.2,\"#de77ae\"],[0.3,\"#f1b6da\"],[0.4,\"#fde0ef\"],[0.5,\"#f7f7f7\"],[0.6,\"#e6f5d0\"],[0.7,\"#b8e186\"],[0.8,\"#7fbc41\"],[0.9,\"#4d9221\"],[1,\"#276419\"]]},\"xaxis\":{\"gridcolor\":\"white\",\"linecolor\":\"white\",\"ticks\":\"\",\"title\":{\"standoff\":15},\"zerolinecolor\":\"white\",\"automargin\":true,\"zerolinewidth\":2},\"yaxis\":{\"gridcolor\":\"white\",\"linecolor\":\"white\",\"ticks\":\"\",\"title\":{\"standoff\":15},\"zerolinecolor\":\"white\",\"automargin\":true,\"zerolinewidth\":2},\"scene\":{\"xaxis\":{\"backgroundcolor\":\"#E5ECF6\",\"gridcolor\":\"white\",\"linecolor\":\"white\",\"showbackground\":true,\"ticks\":\"\",\"zerolinecolor\":\"white\",\"gridwidth\":2},\"yaxis\":{\"backgroundcolor\":\"#E5ECF6\",\"gridcolor\":\"white\",\"linecolor\":\"white\",\"showbackground\":true,\"ticks\":\"\",\"zerolinecolor\":\"white\",\"gridwidth\":2},\"zaxis\":{\"backgroundcolor\":\"#E5ECF6\",\"gridcolor\":\"white\",\"linecolor\":\"white\",\"showbackground\":true,\"ticks\":\"\",\"zerolinecolor\":\"white\",\"gridwidth\":2}},\"shapedefaults\":{\"line\":{\"color\":\"#2a3f5f\"}},\"annotationdefaults\":{\"arrowcolor\":\"#2a3f5f\",\"arrowhead\":0,\"arrowwidth\":1},\"geo\":{\"bgcolor\":\"white\",\"landcolor\":\"#E5ECF6\",\"subunitcolor\":\"white\",\"showland\":true,\"showlakes\":true,\"lakecolor\":\"white\"},\"title\":{\"x\":0.05},\"mapbox\":{\"style\":\"light\"}}},\"xaxis\":{\"anchor\":\"y\",\"domain\":[0.0,1.0],\"title\":{\"text\":\"Diabetic\"}},\"yaxis\":{\"anchor\":\"x\",\"domain\":[0.0,1.0],\"title\":{\"text\":\"sum of BMI\"}},\"legend\":{\"tracegroupgap\":0},\"margin\":{\"t\":60},\"barmode\":\"group\",\"height\":400},                        {\"responsive\": true}                    ).then(function(){\n                            \nvar gd = document.getElementById('6b8bbea4-b104-4a28-9f3c-03e5f28b80a3');\nvar x = new MutationObserver(function (mutations, observer) {{\n        var display = window.getComputedStyle(gd).display;\n        if (!display || display === 'none') {{\n            console.log([gd, 'removed!']);\n            Plotly.purge(gd);\n            observer.disconnect();\n        }}\n}});\n\n// Listen for the removal of the full notebook cells\nvar notebookContainer = gd.closest('#notebook-container');\nif (notebookContainer) {{\n    x.observe(notebookContainer, {childList: true});\n}}\n\n// Listen for the clearing of the current output cell\nvar outputEl = gd.closest('.output');\nif (outputEl) {{\n    x.observe(outputEl, {childList: true});\n}}\n\n                        })                };                            </script>        </div>\n</body>\n</html>"
     },
     "execution_count": 64,
     "metadata": {
     },
     "output_type": "execute_result"
    }
   ],
   "source": [
    "df = diabetes\n",
    "fig = px.histogram(df, x=\"Diabetic\", y=\"BMI\", barmode='group', height=400)\n",
    "fig.show()"
   ]
  },
  {
   "cell_type": "code",
   "execution_count": 0,
   "metadata": {
    "collapsed": false
   },
   "outputs": [
   ],
   "source": [
   ]
  },
  {
   "cell_type": "code",
   "execution_count": 46,
   "metadata": {
    "collapsed": false
   },
   "outputs": [
    {
     "data": {
      "text/html": "<html>\n<head><meta charset=\"utf-8\" /></head>\n<body>\n    <div>            <script src=\"https://cdnjs.cloudflare.com/ajax/libs/mathjax/2.7.5/MathJax.js?config=TeX-AMS-MML_SVG\"></script><script type=\"text/javascript\">if (window.MathJax && window.MathJax.Hub && && window.MathJax.Hub.Config) {window.MathJax.Hub.Config({SVG: {font: \"STIX-Web\"}});}</script>                <script type=\"text/javascript\">window.PlotlyConfig = {MathJaxConfig: 'local'};</script>\n        <script src=\"https://cdn.plot.ly/plotly-2.12.1.min.js\"></script>                <div id=\"6f4869c0-ae31-42d2-8ddc-6b7fa0a0cabc\" class=\"plotly-graph-div\" style=\"height:525px; width:100%;\"></div>            <script type=\"text/javascript\">                                    window.PLOTLYENV=window.PLOTLYENV || {};                                    if (document.getElementById(\"6f4869c0-ae31-42d2-8ddc-6b7fa0a0cabc\")) {                    Plotly.newPlot(                        \"6f4869c0-ae31-42d2-8ddc-6b7fa0a0cabc\",                        [{\"hovertemplate\":\"Gender=%{x}<br>Age=%{y}<br>BMI=%{marker.color}<extra></extra>\",\"legendgroup\":\"\",\"marker\":{\"color\":[39.0,28.0,24.0,23.0,27.0,21.0,24.0,20.0,23.0,20.0,20.0,26.0,21.0,22.0,15.0,34.0,22.0,24.0,24.0,22.0,30.0,24.0,24.0,20.0,24.0,21.0,20.0,27.0,29.0,18.0,32.0,21.0,26.0,31.0,26.0,21.0,28.0,24.0,27.0,21.0,27.0,24.0,36.0,21.0,22.0,21.0,38.0,40.0,35.0,24.0,18.0,23.0,19.0,26.0,30.0,27.0,18.0,29.0,19.0,21.0,24.0,31.0,22.0,19.0,27.0,26.0,21.0,26.0,23.0,26.0,18.0,19.0,24.0,33.0,31.0,23.0,23.0,20.0,28.0,26.0,24.0,24.0,17.0,28.0,23.0,24.0,19.0,15.0,22.0,23.0,18.0,21.0,21.0,21.0,22.0,25.0,20.0,24.0,21.0,26.0,27.0,26.0,24.0,21.0,22.0,23.0,28.0,32.0,33.0,24.0,28.0,30.0,30.0,null,27.0,22.0,null,18.0,22.0,21.0,26.0,null,null,31.0,33.0,30.0,23.0,29.0,17.0,24.0,26.0,27.0,21.0,26.0,20.0,22.0,21.0,26.0,21.0,21.0,24.0,24.0,26.0,32.0,34.0,30.0,42.0,33.0,23.0,27.0,25.0,28.0,28.0,33.0,33.0,28.0,28.0,36.0,33.0,28.0,28.0,33.0,38.0,33.0,38.0,36.0,33.0,33.0,38.0,36.0,33.0,38.0,38.0,33.0,33.0,38.0,32.0,33.0,22.0,24.0,23.0,27.0,24.0,18.0,20.0,19.0,28.0,19.0,25.0,25.0,24.0,27.0,19.0,25.0,28.0,25.0,24.0,21.0,23.0,28.0,20.0,18.0,25.0,28.0,27.0,20.0,20.0,17.0,26.0,21.0,29.0,29.0,24.0,23.0,23.0,29.0,19.0,23.0,17.0,23.0,24.0,25.0,35.0,33.0,34.0,36.0,30.0,28.0,35.0,24.0,22.0,30.0,22.0,22.0,27.0,23.0,27.0,29.0,39.0,28.0,24.0,23.0,27.0,21.0,24.0,20.0,23.0,20.0,20.0,26.0,21.0,22.0,15.0,34.0,22.0,24.0,24.0,22.0,30.0,24.0,24.0,20.0,24.0,21.0,20.0,27.0,29.0,18.0,32.0,21.0,26.0,31.0,26.0,21.0,28.0,24.0,27.0,21.0,27.0,24.0,36.0,21.0,22.0,21.0,38.0,40.0,35.0,24.0,18.0,23.0,19.0,26.0,30.0,27.0,18.0,29.0,19.0,21.0,24.0,31.0,22.0,19.0,27.0,26.0,21.0,26.0,23.0,26.0,18.0,19.0,24.0,33.0,31.0,23.0,23.0,20.0,28.0,26.0,24.0,24.0,17.0,28.0,23.0,24.0,19.0,15.0,22.0,23.0,18.0,21.0,21.0,21.0,22.0,25.0,20.0,24.0,21.0,26.0,27.0,26.0,24.0,21.0,22.0,23.0,28.0,32.0,33.0,24.0,28.0,30.0,30.0,27.0,27.0,22.0,23.0,18.0,22.0,21.0,26.0,28.0,26.0,31.0,33.0,30.0,23.0,29.0,17.0,24.0,26.0,27.0,21.0,26.0,20.0,22.0,21.0,26.0,21.0,21.0,24.0,24.0,26.0,32.0,34.0,30.0,42.0,33.0,23.0,27.0,25.0,28.0,28.0,33.0,33.0,28.0,28.0,36.0,33.0,28.0,28.0,33.0,38.0,33.0,38.0,36.0,33.0,33.0,38.0,36.0,33.0,38.0,38.0,33.0,33.0,38.0,32.0,33.0,22.0,24.0,23.0,27.0,24.0,18.0,20.0,19.0,28.0,19.0,25.0,25.0,24.0,27.0,19.0,25.0,28.0,25.0,24.0,21.0,23.0,28.0,20.0,18.0,25.0,28.0,27.0,20.0,20.0,17.0,26.0,21.0,29.0,29.0,24.0,23.0,23.0,29.0,19.0,23.0,17.0,23.0,24.0,25.0,35.0,33.0,34.0,36.0,30.0,28.0,35.0,24.0,22.0,30.0,22.0,22.0,27.0,23.0,27.0,29.0,39.0,28.0,24.0,23.0,27.0,21.0,24.0,20.0,23.0,20.0,20.0,26.0,21.0,22.0,15.0,34.0,22.0,24.0,24.0,22.0,30.0,24.0,24.0,20.0,24.0,21.0,20.0,27.0,29.0,18.0,32.0,21.0,26.0,31.0,26.0,21.0,28.0,24.0,27.0,21.0,27.0,24.0,36.0,21.0,22.0,21.0,38.0,40.0,35.0,24.0,18.0,23.0,19.0,26.0,30.0,27.0,18.0,29.0,19.0,21.0,24.0,31.0,22.0,19.0,27.0,26.0,21.0,26.0,23.0,26.0,18.0,19.0,24.0,33.0,31.0,23.0,23.0,20.0,28.0,26.0,24.0,24.0,17.0,28.0,23.0,24.0,19.0,15.0,22.0,23.0,18.0,21.0,21.0,21.0,22.0,25.0,20.0,24.0,21.0,26.0,27.0,26.0,24.0,21.0,22.0,23.0,28.0,32.0,33.0,24.0,28.0,30.0,30.0,27.0,27.0,22.0,23.0,18.0,22.0,21.0,26.0,28.0,26.0,31.0,33.0,30.0,23.0,29.0,17.0,24.0,26.0,27.0,21.0,26.0,20.0,22.0,21.0,26.0,21.0,21.0,24.0,24.0,26.0,32.0,34.0,30.0,42.0,33.0,23.0,27.0,25.0,28.0,28.0,33.0,33.0,28.0,28.0,36.0,33.0,28.0,28.0,33.0,38.0,33.0,38.0,36.0,33.0,33.0,38.0,36.0,33.0,38.0,38.0,33.0,33.0,38.0,32.0,33.0,22.0,24.0,23.0,27.0,24.0,18.0,20.0,19.0,28.0,19.0,25.0,25.0,24.0,27.0,19.0,25.0,28.0,25.0,24.0,21.0,23.0,28.0,20.0,18.0,25.0,28.0,27.0,20.0,20.0,17.0,26.0,21.0,29.0,29.0,24.0,23.0,23.0,29.0,19.0,23.0,17.0,23.0,24.0,25.0,35.0,33.0,34.0,36.0,30.0,28.0,35.0,24.0,22.0,30.0,22.0,22.0,27.0,23.0,27.0,29.0,39.0,28.0,24.0,23.0,27.0,21.0,24.0,20.0,23.0,20.0,20.0,26.0,21.0,22.0,15.0,34.0,22.0,24.0,24.0,22.0,30.0,24.0,24.0,20.0,24.0,21.0,20.0,27.0,29.0,18.0,32.0,21.0,26.0,31.0,26.0,21.0,28.0,24.0,27.0,21.0,27.0,24.0,36.0,21.0,22.0,21.0,38.0,40.0,35.0,24.0,18.0,23.0,19.0,26.0,30.0,27.0,18.0,29.0,19.0,21.0,24.0,31.0,22.0,19.0,27.0,26.0,21.0,26.0,23.0,26.0,18.0,19.0,24.0,33.0,31.0,23.0,23.0,20.0,28.0,26.0,24.0,24.0,17.0,28.0,23.0,24.0,19.0,15.0,22.0,23.0,18.0,21.0,21.0,21.0,22.0,25.0,20.0,24.0,21.0,26.0,27.0,26.0,24.0,21.0,22.0,23.0,28.0,32.0,33.0,24.0,28.0,30.0,30.0,27.0,27.0,22.0,23.0,18.0,22.0,21.0,26.0,28.0,26.0,31.0,33.0,30.0,23.0,29.0,17.0,24.0,26.0,27.0,21.0,26.0,20.0,23.0,21.0,26.0,21.0,21.0,24.0,24.0,26.0,32.0,34.0,30.0,45.0,33.0,23.0,27.0,25.0,28.0,28.0,33.0,33.0,28.0,28.0,36.0,33.0,28.0,28.0,33.0,38.0,33.0,38.0,36.0,33.0,33.0,38.0,36.0,33.0,38.0,38.0,33.0,33.0,38.0,32.0,33.0,22.0,25.0,23.0,27.0,24.0,18.0,20.0,19.0,28.0,19.0,25.0,25.0,24.0,27.0,19.0,25.0,28.0,25.0,24.0,21.0,23.0,28.0,20.0,18.0,25.0,28.0,27.0,20.0,20.0,17.0,29.0,21.0,29.0,29.0,24.0,23.0,23.0,29.0,19.0,23.0,17.0,23.0,24.0,25.0,35.0,33.0,34.0,36.0,30.0,28.0,35.0,24.0,22.0,30.0,22.0,25.0,27.0,23.0,27.0,30.0],\"coloraxis\":\"coloraxis\",\"symbol\":\"circle\"},\"mode\":\"markers\",\"name\":\"\",\"orientation\":\"v\",\"showlegend\":false,\"x\":[\"Male\",\"Male\",\"Male\",\"Male\",\"Male\",\"Male\",\"Male\",\"Male\",\"Male\",\"Male\",\"Male\",\"Male\",\"Female\",\"Female\",\"Male\",\"Female\",\"Male\",\"Female\",\"Male\",\"Male\",\"Male\",\"Female\",\"Female\",\"Female\",\"Male\",\"Female\",\"Female\",\"Male\",\"Male\",\"Female\",\"Female\",\"Female\",\"Male\",\"Female\",\"Female\",\"Male\",\"Female\",\"Male\",\"Male\",\"Male\",\"Male\",\"Male\",\"Male\",\"Male\",\"Male\",\"Male\",\"Male\",\"Female\",\"Male\",\"Female\",\"Male\",\"Male\",\"Male\",\"Male\",\"Male\",\"Female\",\"Male\",\"Male\",\"Male\",\"Female\",\"Male\",\"Male\",\"Male\",\"Male\",\"Male\",\"Male\",\"Female\",\"Male\",\"Male\",\"Male\",\"Female\",\"Female\",\"Male\",\"Female\",\"Male\",\"Female\",\"Male\",\"Female\",\"Male\",\"Male\",\"Male\",\"Male\",\"Female\",\"Male\",\"Male\",\"Male\",\"Female\",\"Male\",\"Male\",\"Male\",\"Male\",\"Male\",\"Male\",\"Male\",\"Male\",\"Male\",\"Male\",\"Male\",\"Female\",\"Male\",\"Female\",\"Female\",\"Male\",\"Female\",\"Female\",\"Male\",\"Male\",\"Male\",\"Female\",\"Female\",\"Female\",\"Male\",\"Male\",\"Female\",\"Female\",\"Male\",\"Female\",\"Female\",\"Male\",\"Male\",\"Female\",\"Female\",\"Male\",\"Female\",\"Male\",\"Female\",\"Female\",\"Female\",\"Female\",\"Female\",\"Male\",\"Female\",\"Male\",\"Female\",\"Male\",\"Male\",\"Male\",\"Female\",\"Female\",\"Female\",\"Female\",\"Male\",\"Male\",\"Male\",\"Male\",\"Male\",\"Female\",\"Male\",\"Male\",\"Male\",\"Female\",\"Female\",\"Female\",\"Female\",\"Female\",\"Female\",\"Female\",\"Female\",\"Female\",\"Female\",\"Male\",\"Male\",\"Female\",\"Female\",\"Male\",\"Female\",\"Female\",\"Female\",\"Female\",\"Female\",\"Female\",\"Male\",\"Female\",\"Male\",\"Female\",\"Female\",\"Male\",\"Male\",\"Female\",\"Male\",\"Female\",\"Female\",\"Male\",\"Female\",\"Female\",\"Female\",\"Male\",\"Female\",\"Male\",\"Male\",\"Male\",\"Male\",\"Male\",\"Male\",\"Male\",\"Male\",\"Male\",\"Female\",\"Female\",\"Male\",\"Male\",\"Male\",\"Male\",\"Male\",\"Male\",\"Male\",\"Male\",\"Male\",\"Male\",\"Male\",\"Male\",\"Male\",\"Male\",\"Male\",\"Male\",\"Female\",\"Female\",\"Male\",\"Male\",\"Female\",\"Male\",\"Female\",\"Female\",\"Female\",\"Female\",\"Male\",\"Male\",\"Male\",\"Male\",\"Male\",\"Female\",\"Male\",\"Male\",\"Male\",\"Male\",\"Male\",\"Male\",\"Female\",\"Male\",\"Male\",\"Male\",\"Male\",\"Male\",\"Male\",\"Male\",\"Male\",\"Male\",\"Male\",\"Male\",\"Male\",\"Female\",\"Female\",\"Male\",\"Female\",\"Male\",\"Female\",\"Male\",\"Male\",\"Male\",\"Female\",\"Female\",\"Female\",\"Male\",\"Female\",\"Female\",\"Male\",\"Male\",\"Female\",\"Female\",\"Female\",\"Male\",\"Female\",\"Female\",\"Male\",\"Female\",\"Male\",\"Male\",\"Male\",\"Male\",\"Male\",\"Male\",\"Male\",\"Male\",\"Male\",\"Male\",\"Female\",\"Male\",\"Female\",\"Male\",\"Male\",\"Male\",\"Male\",\"Male\",\"Female\",\"Male\",\"Male\",\"Male\",\"Female\",\"Male\",\"Male\",\"Male\",\"Male\",\"Male\",\"Male\",\"Female\",\"Male\",\"Male\",\"Male\",\"Female\",\"Female\",\"Male\",\"Female\",\"Male\",\"Female\",\"Male\",\"Female\",\"Male\",\"Male\",\"Male\",\"Male\",\"Female\",\"Male\",\"Male\",\"Male\",\"Female\",\"Male\",\"Male\",\"Male\",\"Male\",\"Male\",\"Male\",\"Male\",\"Male\",\"Male\",\"Male\",\"Male\",\"Female\",\"Male\",\"Female\",\"Female\",\"Male\",\"Female\",\"Female\",\"Male\",\"Male\",\"Male\",\"Female\",\"Female\",\"Female\",\"Male\",\"Male\",\"Female\",\"Female\",\"Male\",\"Female\",\"Female\",\"Male\",\"Male\",\"Female\",\"Female\",\"Male\",\"Female\",\"Male\",\"Female\",\"Female\",\"Female\",\"Female\",\"Female\",\"Male\",\"Female\",\"Male\",\"Female\",\"Male\",\"Male\",\"Male\",\"Female\",\"Female\",\"Female\",\"Female\",\"Male\",\"Male\",\"Male\",\"Male\",\"Male\",\"Female\",\"Male\",\"Male\",\"Male\",\"Female\",\"Female\",\"Female\",\"Female\",\"Female\",\"Female\",\"Female\",\"Female\",\"Female\",\"Female\",\"Male\",\"Male\",\"Female\",\"Female\",\"Male\",\"Female\",\"Female\",\"Female\",\"Female\",\"Female\",\"Female\",\"Male\",\"Female\",\"Male\",\"Female\",\"Female\",\"Male\",\"Male\",\"Female\",\"Male\",\"Female\",\"Female\",\"Male\",\"Female\",\"Female\",\"Female\",\"Male\",\"Female\",\"Male\",\"Male\",\"Male\",\"Male\",\"Male\",\"Male\",\"Male\",\"Male\",\"Male\",\"Female\",\"Female\",\"Male\",\"Male\",\"Male\",\"Male\",\"Male\",\"Male\",\"Male\",\"Male\",\"Male\",\"Male\",\"Male\",\"Male\",\"Male\",\"Male\",\"Male\",\"Male\",\"Female\",\"Female\",\"Male\",\"Male\",\"Female\",\"Male\",\"Female\",\"Female\",\"Female\",\"Female\",\"Male\",\"Male\",\"Male\",\"Male\",\"Male\",\"Female\",\"Male\",\"Male\",\"Male\",\"Male\",\"Male\",\"Male\",\"Female\",\"Male\",\"Male\",\"Male\",\"Male\",\"Male\",\"Male\",\"Male\",\"Male\",\"Male\",\"Male\",\"Male\",\"Male\",\"Female\",\"Female\",\"Male\",\"Female\",\"Male\",\"Female\",\"Male\",\"Male\",\"Male\",\"Female\",\"Female\",\"Female\",\"Male\",\"Female\",\"Female\",\"Male\",\"Male\",\"Female\",\"Female\",\"Female\",\"Male\",\"Female\",\"Female\",\"Male\",\"Female\",\"Male\",\"Male\",\"Male\",\"Male\",\"Male\",\"Male\",\"Male\",\"Male\",\"Male\",\"Male\",\"Female\",\"Male\",\"Female\",\"Male\",\"Male\",\"Male\",\"Male\",\"Male\",\"Female\",\"Male\",\"Male\",\"Male\",\"Female\",\"Male\",\"Male\",\"Male\",\"Male\",\"Male\",\"Male\",\"Female\",\"Male\",\"Male\",\"Male\",\"Female\",\"Female\",\"Male\",\"Female\",\"Male\",\"Female\",\"Male\",\"Female\",\"Male\",\"Male\",\"Male\",\"Male\",\"Female\",\"Male\",\"Male\",\"Male\",\"Female\",\"Male\",\"Male\",\"Male\",\"Male\",\"Male\",\"Male\",\"Male\",\"Male\",\"Male\",\"Male\",\"Male\",\"Female\",\"Male\",\"Female\",\"Female\",\"Male\",\"Female\",\"Female\",\"Male\",\"Male\",\"Male\",\"Female\",\"Female\",\"Female\",\"Male\",\"Male\",\"Female\",\"Female\",\"Male\",\"Female\",\"Female\",\"Male\",\"Male\",\"Female\",\"Female\",\"Male\",\"Female\",\"Male\",\"Female\",\"Female\",\"Female\",\"Female\",\"Female\",\"Male\",\"Female\",\"Male\",\"Female\",\"Male\",\"Male\",\"Male\",\"Female\",\"Female\",\"Female\",\"Female\",\"Male\",\"Male\",\"Male\",\"Male\",\"Male\",\"Female\",\"Male\",\"Male\",\"Male\",\"Female\",\"Female\",\"Female\",\"Female\",\"Female\",\"Female\",\"Female\",\"Female\",\"Female\",\"Female\",\"Male\",\"Male\",\"Female\",\"Female\",\"Male\",\"Female\",\"Female\",\"Female\",\"Female\",\"Female\",\"Female\",\"Male\",\"Female\",\"Male\",\"Female\",\"Female\",\"Male\",\"Male\",\"Female\",\"Male\",\"Female\",\"Female\",\"Male\",\"Female\",\"Female\",\"Female\",\"Male\",\"Female\",\"Male\",\"Male\",\"Male\",\"Male\",\"Male\",\"Male\",\"Male\",\"Male\",\"Male\",\"Female\",\"Female\",\"Male\",\"Male\",\"Male\",\"Male\",\"Male\",\"Male\",\"Male\",\"Male\",\"Male\",\"Male\",\"Male\",\"Male\",\"Male\",\"Male\",\"Male\",\"Male\",\"Female\",\"Female\",\"Male\",\"Male\",\"Female\",\"Male\",\"Female\",\"Female\",\"Female\",\"Female\",\"Male\",\"Male\",\"Male\",\"Male\",\"Male\",\"Female\",\"Male\",\"Male\",\"Male\",\"Male\",\"Male\",\"Male\",\"Female\",\"Male\",\"Male\",\"Male\",\"Male\",\"Male\",\"Male\",\"Male\",\"Male\",\"Male\",\"Male\",\"Male\",\"Male\",\"Female\",\"Female\",\"Male\",\"Female\",\"Male\",\"Female\",\"Male\",\"Male\",\"Male\",\"Female\",\"Female\",\"Female\",\"Male\",\"Female\",\"Female\",\"Male\",\"Male\",\"Female\",\"Female\",\"Female\",\"Male\",\"Female\",\"Female\",\"Male\",\"Female\",\"Male\",\"Male\",\"Male\",\"Male\",\"Male\",\"Male\",\"Male\",\"Male\",\"Male\",\"Male\",\"Female\",\"Male\",\"Female\",\"Male\",\"Male\",\"Male\",\"Male\",\"Male\",\"Female\",\"Male\",\"Male\",\"Male\",\"Female\",\"Male\",\"Male\",\"Male\",\"Male\",\"Male\",\"Male\",\"Female\",\"Male\",\"Male\",\"Male\",\"Female\",\"Female\",\"Male\",\"Female\",\"Male\",\"Female\",\"Male\",\"Female\",\"Male\",\"Male\",\"Male\",\"Male\",\"Female\",\"Male\",\"Male\",\"Male\",\"Female\",\"Male\",\"Male\",\"Male\",\"Male\",\"Male\",\"Male\",\"Male\",\"Male\",\"Male\",\"Male\",\"Male\",\"Female\",\"Male\",\"Female\",\"Female\",\"Male\",\"Female\",\"Female\",\"Male\",\"Male\",\"Male\",\"Female\",\"Female\",\"Female\",\"Male\",\"Male\",\"Female\",\"Female\",\"Male\",\"Female\",\"Female\",\"Male\",\"Male\",\"Female\",\"Female\",\"Male\",\"Female\",\"Male\",\"Female\",\"Female\",\"Female\",\"Female\",\"Female\",\"Male\",\"Female\",\"Male\",\"Female\",\"Male\",\"Male\",\"Male\",\"Female\",\"Female\",\"Female\",\"Female\",\"Male\",\"Male\",\"Male\",\"Male\",\"Male\",\"Female\",\"Male\",\"Male\",\"Male\",\"Female\",\"Female\",\"Female\",\"Female\",\"Female\",\"Female\",\"Female\",\"Female\",\"Female\",\"Female\",\"Male\",\"Male\",\"Female\",\"Female\",\"Male\",\"Female\",\"Female\",\"Female\",\"Female\",\"Female\",\"Female\",\"Male\",\"Female\",\"Male\",\"Female\",\"Female\",\"Male\",\"Male\",\"Female\",\"Male\",\"Female\",\"Female\",\"Male\",\"Female\",\"Female\",\"Female\",\"Male\",\"Female\",\"Male\",\"Male\",\"Male\",\"Male\",\"Male\",\"Male\",\"Male\",\"Male\",\"Male\",\"Female\",\"Female\",\"Male\",\"Male\",\"Male\",\"Male\",\"Male\",\"Male\",\"Male\",\"Male\",\"Male\",\"Male\",\"Male\",\"Male\",\"Male\",\"Male\",\"Male\",\"Male\",\"Female\",\"Female\",\"Male\",\"Male\",\"Female\",\"Male\",\"Female\",\"Female\",\"Female\",\"Female\",\"Male\",\"Male\",\"Male\",\"Male\",\"Male\",\"Female\",\"Male\",\"Male\",\"Male\",\"Male\",\"Male\",\"Male\",\"Female\"],\"xaxis\":\"x\",\"y\":[\"50-59\",\"50-59\",\"40-49\",\"50-59\",\"40-49\",\"40-49\",\"less than 40\",\"less than 40\",\"40-49\",\"less than 40\",\"less than 40\",\"40-49\",\"less than 40\",\"less than 40\",\"less than 40\",\"40-49\",\"50-59\",\"less than 40\",\"40-49\",\"less than 40\",\"less than 40\",\"less than 40\",\"less than 40\",\"less than 40\",\"less than 40\",\"less than 40\",\"less than 40\",\"50-59\",\"40-49\",\"60 or older\",\"less than 40\",\"40-49\",\"60 or older\",\"60 or older\",\"60 or older\",\"60 or older\",\"40-49\",\"50-59\",\"40-49\",\"40-49\",\"60 or older\",\"60 or older\",\"less than 40\",\"less than 40\",\"40-49\",\"40-49\",\"50-59\",\"50-59\",\"60 or older\",\"60 or older\",\"60 or older\",\"40-49\",\"60 or older\",\"less than 40\",\"less than 40\",\"60 or older\",\"less than 40\",\"less than 40\",\"50-59\",\"50-59\",\"less than 40\",\"60 or older\",\"less than 40\",\"less than 40\",\"50-59\",\"40-49\",\"50-59\",\"60 or older\",\"50-59\",\"less than 40\",\"60 or older\",\"60 or older\",\"50-59\",\"60 or older\",\"50-59\",\"40-49\",\"50-59\",\"50-59\",\"50-59\",\"60 or older\",\"less than 40\",\"60 or older\",\"less than 40\",\"less than 40\",\"less than 40\",\"less than 40\",\"less than 40\",\"60 or older\",\"less than 40\",\"less than 40\",\"less than 40\",\"less than 40\",\"less than 40\",\"less than 40\",\"less than 40\",\"less than 40\",\"50-59\",\"less than 40\",\"less than 40\",\"50-59\",\"50-59\",\"less than 40\",\"less than 40\",\"less than 40\",\"40-49\",\"60 or older\",\"60 or older\",\"60 or older\",\"40-49\",\"less than 40\",\"50-59\",\"50-59\",\"50-59\",\"less than 40\",\"less than 40\",\"less than 40\",\"less than 40\",\"less than 40\",\"less than 40\",\"60 or older\",\"60 or older\",\"50-59\",\"less than 40\",\"50-59\",\"50-59\",\"less than 40\",\"less than 40\",\"less than 40\",\"40-49\",\"50-59\",\"60 or older\",\"less than 40\",\"40-49\",\"40-49\",\"less than 40\",\"less than 40\",\"less than 40\",\"less than 40\",\"less than 40\",\"less than 40\",\"less than 40\",\"less than 40\",\"less than 40\",\"50-59\",\"40-49\",\"less than 40\",\"50-59\",\"less than 40\",\"less than 40\",\"50-59\",\"40-49\",\"less than 40\",\"40-49\",\"40-49\",\"50-59\",\"50-59\",\"less than 40\",\"40-49\",\"less than 40\",\"less than 40\",\"40-49\",\"less than 40\",\"40-49\",\"50-59\",\"40-49\",\"40-49\",\"less than 40\",\"less than 40\",\"40-49\",\"40-49\",\"less than 40\",\"50-59\",\"60 or older\",\"60 or older\",\"less than 40\",\"less than 40\",\"less than 40\",\"less than 40\",\"40-49\",\"40-49\",\"60 or older\",\"60 or older\",\"60 or older\",\"less than 40\",\"less than 40\",\"less than 40\",\"less than 40\",\"less than 40\",\"less than 40\",\"less than 40\",\"less than 40\",\"less than 40\",\"less than 40\",\"less than 40\",\"less than 40\",\"less than 40\",\"less than 40\",\"less than 40\",\"less than 40\",\"less than 40\",\"less than 40\",\"less than 40\",\"less than 40\",\"less than 40\",\"less than 40\",\"less than 40\",\"less than 40\",\"less than 40\",\"less than 40\",\"less than 40\",\"less than 40\",\"less than 40\",\"less than 40\",\"less than 40\",\"less than 40\",\"less than 40\",\"less than 40\",\"less than 40\",\"less than 40\",\"50-59\",\"40-49\",\"less than 40\",\"50-59\",\"40-49\",\"40-49\",\"50-59\",\"60 or older\",\"less than 40\",\"40-49\",\"40-49\",\"50-59\",\"less than 40\",\"40-49\",\"less than 40\",\"60 or older\",\"60 or older\",\"60 or older\",\"60 or older\",\"50-59\",\"50-59\",\"40-49\",\"50-59\",\"40-49\",\"40-49\",\"less than 40\",\"less than 40\",\"40-49\",\"less than 40\",\"less than 40\",\"40-49\",\"less than 40\",\"less than 40\",\"less than 40\",\"40-49\",\"50-59\",\"less than 40\",\"40-49\",\"less than 40\",\"less than 40\",\"less than 40\",\"less than 40\",\"less than 40\",\"less than 40\",\"less than 40\",\"less than 40\",\"50-59\",\"40-49\",\"60 or older\",\"less than 40\",\"40-49\",\"60 or older\",\"60 or older\",\"60 or older\",\"60 or older\",\"40-49\",\"50-59\",\"40-49\",\"40-49\",\"60 or older\",\"60 or older\",\"less than 40\",\"less than 40\",\"40-49\",\"40-49\",\"50-59\",\"50-59\",\"60 or older\",\"60 or older\",\"60 or older\",\"40-49\",\"60 or older\",\"less than 40\",\"less than 40\",\"60 or older\",\"less than 40\",\"less than 40\",\"50-59\",\"50-59\",\"less than 40\",\"60 or older\",\"less than 40\",\"less than 40\",\"50-59\",\"40-49\",\"50-59\",\"60 or older\",\"50-59\",\"less than 40\",\"60 or older\",\"60 or older\",\"50-59\",\"60 or older\",\"50-59\",\"40-49\",\"50-59\",\"50-59\",\"50-59\",\"60 or older\",\"less than 40\",\"60 or older\",\"less than 40\",\"less than 40\",\"less than 40\",\"less than 40\",\"less than 40\",\"60 or older\",\"less than 40\",\"less than 40\",\"less than 40\",\"less than 40\",\"less than 40\",\"less than 40\",\"less than 40\",\"less than 40\",\"50-59\",\"less than 40\",\"less than 40\",\"50-59\",\"50-59\",\"less than 40\",\"less than 40\",\"less than 40\",\"40-49\",\"60 or older\",\"60 or older\",\"60 or older\",\"40-49\",\"less than 40\",\"50-59\",\"50-59\",\"50-59\",\"less than 40\",\"less than 40\",\"less than 40\",\"less than 40\",\"less than 40\",\"less than 40\",\"60 or older\",\"60 or older\",\"50-59\",\"less than 40\",\"50-59\",\"50-59\",\"less than 40\",\"less than 40\",\"less than 40\",\"40-49\",\"50-59\",\"60 or older\",\"less than 40\",\"40-49\",\"40-49\",\"less than 40\",\"less than 40\",\"less than 40\",\"less than 40\",\"less than 40\",\"less than 40\",\"less than 40\",\"less than 40\",\"less than 40\",\"50-59\",\"40-49\",\"less than 40\",\"50-59\",\"less than 40\",\"less than 40\",\"50-59\",\"40-49\",\"less than 40\",\"40-49\",\"40-49\",\"50-59\",\"50-59\",\"less than 40\",\"40-49\",\"less than 40\",\"less than 40\",\"40-49\",\"less than 40\",\"40-49\",\"50-59\",\"40-49\",\"40-49\",\"less than 40\",\"less than 40\",\"40-49\",\"40-49\",\"less than 40\",\"50-59\",\"60 or older\",\"60 or older\",\"less than 40\",\"less than 40\",\"less than 40\",\"less than 40\",\"40-49\",\"40-49\",\"60 or older\",\"60 or older\",\"60 or older\",\"less than 40\",\"less than 40\",\"less than 40\",\"less than 40\",\"less than 40\",\"less than 40\",\"less than 40\",\"less than 40\",\"less than 40\",\"less than 40\",\"less than 40\",\"less than 40\",\"less than 40\",\"less than 40\",\"less than 40\",\"less than 40\",\"less than 40\",\"less than 40\",\"less than 40\",\"less than 40\",\"less than 40\",\"less than 40\",\"less than 40\",\"less than 40\",\"less than 40\",\"less than 40\",\"less than 40\",\"less than 40\",\"less than 40\",\"less than 40\",\"less than 40\",\"less than 40\",\"less than 40\",\"less than 40\",\"less than 40\",\"less than 40\",\"50-59\",\"40-49\",\"less than 40\",\"50-59\",\"40-49\",\"40-49\",\"50-59\",\"60 or older\",\"less than 40\",\"40-49\",\"40-49\",\"50-59\",\"less than 40\",\"40-49\",\"less than 40\",\"60 or older\",\"60 or older\",\"60 or older\",\"60 or older\",\"50-59\",\"50-59\",\"40-49\",\"50-59\",\"40-49\",\"40-49\",\"less than 40\",\"less than 40\",\"40-49\",\"less than 40\",\"less than 40\",\"40-49\",\"less than 40\",\"less than 40\",\"less than 40\",\"40-49\",\"50-59\",\"less than 40\",\"40-49\",\"less than 40\",\"less than 40\",\"less than 40\",\"less than 40\",\"less than 40\",\"less than 40\",\"less than 40\",\"less than 40\",\"50-59\",\"40-49\",\"60 or older\",\"less than 40\",\"40-49\",\"60 or older\",\"60 or older\",\"60 or older\",\"60 or older\",\"40-49\",\"50-59\",\"40-49\",\"40-49\",\"60 or older\",\"60 or older\",\"less than 40\",\"less than 40\",\"40-49\",\"40-49\",\"50-59\",\"50-59\",\"60 or older\",\"60 or older\",\"60 or older\",\"40-49\",\"60 or older\",\"less than 40\",\"less than 40\",\"60 or older\",\"less than 40\",\"less than 40\",\"50-59\",\"50-59\",\"less than 40\",\"60 or older\",\"less than 40\",\"less than 40\",\"50-59\",\"40-49\",\"50-59\",\"60 or older\",\"50-59\",\"less than 40\",\"60 or older\",\"60 or older\",\"50-59\",\"60 or older\",\"50-59\",\"40-49\",\"50-59\",\"50-59\",\"50-59\",\"60 or older\",\"less than 40\",\"60 or older\",\"less than 40\",\"less than 40\",\"less than 40\",\"less than 40\",\"less than 40\",\"60 or older\",\"less than 40\",\"less than 40\",\"less than 40\",\"less than 40\",\"less than 40\",\"less than 40\",\"less than 40\",\"less than 40\",\"50-59\",\"less than 40\",\"less than 40\",\"50-59\",\"50-59\",\"less than 40\",\"less than 40\",\"less than 40\",\"40-49\",\"60 or older\",\"60 or older\",\"60 or older\",\"40-49\",\"less than 40\",\"50-59\",\"50-59\",\"50-59\",\"less than 40\",\"less than 40\",\"less than 40\",\"less than 40\",\"less than 40\",\"less than 40\",\"60 or older\",\"60 or older\",\"50-59\",\"less than 40\",\"50-59\",\"50-59\",\"less than 40\",\"less than 40\",\"less than 40\",\"40-49\",\"50-59\",\"60 or older\",\"less than 40\",\"40-49\",\"40-49\",\"less than 40\",\"less than 40\",\"less than 40\",\"less than 40\",\"less than 40\",\"less than 40\",\"less than 40\",\"less than 40\",\"less than 40\",\"50-59\",\"40-49\",\"less than 40\",\"50-59\",\"less than 40\",\"less than 40\",\"50-59\",\"40-49\",\"less than 40\",\"40-49\",\"40-49\",\"50-59\",\"50-59\",\"less than 40\",\"40-49\",\"less than 40\",\"less than 40\",\"40-49\",\"less than 40\",\"40-49\",\"50-59\",\"40-49\",\"40-49\",\"less than 40\",\"less than 40\",\"40-49\",\"40-49\",\"less than 40\",\"50-59\",\"60 or older\",\"60 or older\",\"less than 40\",\"less than 40\",\"less than 40\",\"less than 40\",\"40-49\",\"40-49\",\"60 or older\",\"60 or older\",\"60 or older\",\"less than 40\",\"less than 40\",\"less than 40\",\"less than 40\",\"less than 40\",\"less than 40\",\"less than 40\",\"less than 40\",\"less than 40\",\"less than 40\",\"less than 40\",\"less than 40\",\"less than 40\",\"less than 40\",\"less than 40\",\"less than 40\",\"less than 40\",\"less than 40\",\"less than 40\",\"less than 40\",\"less than 40\",\"less than 40\",\"less than 40\",\"less than 40\",\"less than 40\",\"less than 40\",\"less than 40\",\"less than 40\",\"less than 40\",\"less than 40\",\"less than 40\",\"less than 40\",\"less than 40\",\"less than 40\",\"less than 40\",\"less than 40\",\"50-59\",\"40-49\",\"less than 40\",\"50-59\",\"40-49\",\"40-49\",\"50-59\",\"60 or older\",\"less than 40\",\"40-49\",\"40-49\",\"50-59\",\"less than 40\",\"40-49\",\"less than 40\",\"60 or older\",\"60 or older\",\"60 or older\",\"60 or older\",\"50-59\",\"50-59\",\"40-49\",\"50-59\",\"40-49\",\"40-49\",\"less than 40\",\"less than 40\",\"40-49\",\"less than 40\",\"less than 40\",\"40-49\",\"less than 40\",\"less than 40\",\"less than 40\",\"40-49\",\"50-59\",\"less than 40\",\"40-49\",\"less than 40\",\"less than 40\",\"less than 40\",\"less than 40\",\"less than 40\",\"less than 40\",\"less than 40\",\"less than 40\",\"50-59\",\"40-49\",\"60 or older\",\"less than 40\",\"40-49\",\"60 or older\",\"60 or older\",\"60 or older\",\"60 or older\",\"40-49\",\"50-59\",\"40-49\",\"40-49\",\"60 or older\",\"60 or older\",\"less than 40\",\"less than 40\",\"40-49\",\"40-49\",\"50-59\",\"50-59\",\"60 or older\",\"60 or older\",\"60 or older\",\"40-49\",\"60 or older\",\"less than 40\",\"less than 40\",\"60 or older\",\"less than 40\",\"less than 40\",\"50-59\",\"50-59\",\"less than 40\",\"60 or older\",\"less than 40\",\"less than 40\",\"50-59\",\"40-49\",\"50-59\",\"60 or older\",\"50-59\",\"less than 40\",\"60 or older\",\"60 or older\",\"50-59\",\"60 or older\",\"50-59\",\"40-49\",\"50-59\",\"50-59\",\"50-59\",\"60 or older\",\"less than 40\",\"60 or older\",\"less than 40\",\"less than 40\",\"less than 40\",\"less than 40\",\"less than 40\",\"60 or older\",\"less than 40\",\"less than 40\",\"less than 40\",\"less than 40\",\"less than 40\",\"less than 40\",\"less than 40\",\"less than 40\",\"50-59\",\"less than 40\",\"less than 40\",\"50-59\",\"50-59\",\"less than 40\",\"less than 40\",\"less than 40\",\"40-49\",\"60 or older\",\"60 or older\",\"60 or older\",\"40-49\",\"less than 40\",\"50-59\",\"50-59\",\"50-59\",\"less than 40\",\"less than 40\",\"less than 40\",\"less than 40\",\"less than 40\",\"less than 40\",\"60 or older\",\"60 or older\",\"50-59\",\"less than 40\",\"50-59\",\"50-59\",\"less than 40\",\"less than 40\",\"less than 40\",\"40-49\",\"50-59\",\"60 or older\",\"less than 40\",\"40-49\",\"40-49\",\"less than 40\",\"less than 40\",\"less than 40\",\"less than 40\",\"less than 40\",\"less than 40\",\"less than 40\",\"less than 40\",\"less than 40\",\"50-59\",\"40-49\",\"less than 40\",\"50-59\",\"less than 40\",\"less than 40\",\"50-59\",\"40-49\",\"less than 40\",\"40-49\",\"40-49\",\"50-59\",\"50-59\",\"less than 40\",\"40-49\",\"less than 40\",\"less than 40\",\"40-49\",\"less than 40\",\"40-49\",\"50-59\",\"40-49\",\"40-49\",\"less than 40\",\"less than 40\",\"40-49\",\"40-49\",\"less than 40\",\"50-59\",\"60 or older\",\"60 or older\",\"less than 40\",\"less than 40\",\"less than 40\",\"less than 40\",\"40-49\",\"40-49\",\"60 or older\",\"60 or older\",\"60 or older\",\"less than 40\",\"less than 40\",\"less than 40\",\"less than 40\",\"less than 40\",\"less than 40\",\"less than 40\",\"less than 40\",\"less than 40\",\"less than 40\",\"less than 40\",\"less than 40\",\"less than 40\",\"less than 40\",\"less than 40\",\"less than 40\",\"less than 40\",\"less than 40\",\"less than 40\",\"less than 40\",\"less than 40\",\"less than 40\",\"less than 40\",\"less than 40\",\"less than 40\",\"less than 40\",\"less than 40\",\"less than 40\",\"less than 40\",\"less than 40\",\"less than 40\",\"less than 40\",\"less than 40\",\"less than 40\",\"less than 40\",\"less than 40\",\"50-59\",\"40-49\",\"less than 40\",\"50-59\",\"40-49\",\"40-49\",\"50-59\",\"60 or older\",\"less than 40\",\"40-49\",\"40-49\",\"50-59\",\"less than 40\",\"40-49\",\"less than 40\",\"60 or older\",\"60 or older\",\"60 or older\",\"60 or older\"],\"yaxis\":\"y\",\"type\":\"scatter\"}],                        {\"template\":{\"data\":{\"histogram2dcontour\":[{\"type\":\"histogram2dcontour\",\"colorbar\":{\"outlinewidth\":0,\"ticks\":\"\"},\"colorscale\":[[0.0,\"#0d0887\"],[0.1111111111111111,\"#46039f\"],[0.2222222222222222,\"#7201a8\"],[0.3333333333333333,\"#9c179e\"],[0.4444444444444444,\"#bd3786\"],[0.5555555555555556,\"#d8576b\"],[0.6666666666666666,\"#ed7953\"],[0.7777777777777778,\"#fb9f3a\"],[0.8888888888888888,\"#fdca26\"],[1.0,\"#f0f921\"]]}],\"choropleth\":[{\"type\":\"choropleth\",\"colorbar\":{\"outlinewidth\":0,\"ticks\":\"\"}}],\"histogram2d\":[{\"type\":\"histogram2d\",\"colorbar\":{\"outlinewidth\":0,\"ticks\":\"\"},\"colorscale\":[[0.0,\"#0d0887\"],[0.1111111111111111,\"#46039f\"],[0.2222222222222222,\"#7201a8\"],[0.3333333333333333,\"#9c179e\"],[0.4444444444444444,\"#bd3786\"],[0.5555555555555556,\"#d8576b\"],[0.6666666666666666,\"#ed7953\"],[0.7777777777777778,\"#fb9f3a\"],[0.8888888888888888,\"#fdca26\"],[1.0,\"#f0f921\"]]}],\"heatmap\":[{\"type\":\"heatmap\",\"colorbar\":{\"outlinewidth\":0,\"ticks\":\"\"},\"colorscale\":[[0.0,\"#0d0887\"],[0.1111111111111111,\"#46039f\"],[0.2222222222222222,\"#7201a8\"],[0.3333333333333333,\"#9c179e\"],[0.4444444444444444,\"#bd3786\"],[0.5555555555555556,\"#d8576b\"],[0.6666666666666666,\"#ed7953\"],[0.7777777777777778,\"#fb9f3a\"],[0.8888888888888888,\"#fdca26\"],[1.0,\"#f0f921\"]]}],\"heatmapgl\":[{\"type\":\"heatmapgl\",\"colorbar\":{\"outlinewidth\":0,\"ticks\":\"\"},\"colorscale\":[[0.0,\"#0d0887\"],[0.1111111111111111,\"#46039f\"],[0.2222222222222222,\"#7201a8\"],[0.3333333333333333,\"#9c179e\"],[0.4444444444444444,\"#bd3786\"],[0.5555555555555556,\"#d8576b\"],[0.6666666666666666,\"#ed7953\"],[0.7777777777777778,\"#fb9f3a\"],[0.8888888888888888,\"#fdca26\"],[1.0,\"#f0f921\"]]}],\"contourcarpet\":[{\"type\":\"contourcarpet\",\"colorbar\":{\"outlinewidth\":0,\"ticks\":\"\"}}],\"contour\":[{\"type\":\"contour\",\"colorbar\":{\"outlinewidth\":0,\"ticks\":\"\"},\"colorscale\":[[0.0,\"#0d0887\"],[0.1111111111111111,\"#46039f\"],[0.2222222222222222,\"#7201a8\"],[0.3333333333333333,\"#9c179e\"],[0.4444444444444444,\"#bd3786\"],[0.5555555555555556,\"#d8576b\"],[0.6666666666666666,\"#ed7953\"],[0.7777777777777778,\"#fb9f3a\"],[0.8888888888888888,\"#fdca26\"],[1.0,\"#f0f921\"]]}],\"surface\":[{\"type\":\"surface\",\"colorbar\":{\"outlinewidth\":0,\"ticks\":\"\"},\"colorscale\":[[0.0,\"#0d0887\"],[0.1111111111111111,\"#46039f\"],[0.2222222222222222,\"#7201a8\"],[0.3333333333333333,\"#9c179e\"],[0.4444444444444444,\"#bd3786\"],[0.5555555555555556,\"#d8576b\"],[0.6666666666666666,\"#ed7953\"],[0.7777777777777778,\"#fb9f3a\"],[0.8888888888888888,\"#fdca26\"],[1.0,\"#f0f921\"]]}],\"mesh3d\":[{\"type\":\"mesh3d\",\"colorbar\":{\"outlinewidth\":0,\"ticks\":\"\"}}],\"scatter\":[{\"fillpattern\":{\"fillmode\":\"overlay\",\"size\":10,\"solidity\":0.2},\"type\":\"scatter\"}],\"parcoords\":[{\"type\":\"parcoords\",\"line\":{\"colorbar\":{\"outlinewidth\":0,\"ticks\":\"\"}}}],\"scatterpolargl\":[{\"type\":\"scatterpolargl\",\"marker\":{\"colorbar\":{\"outlinewidth\":0,\"ticks\":\"\"}}}],\"bar\":[{\"error_x\":{\"color\":\"#2a3f5f\"},\"error_y\":{\"color\":\"#2a3f5f\"},\"marker\":{\"line\":{\"color\":\"#E5ECF6\",\"width\":0.5},\"pattern\":{\"fillmode\":\"overlay\",\"size\":10,\"solidity\":0.2}},\"type\":\"bar\"}],\"scattergeo\":[{\"type\":\"scattergeo\",\"marker\":{\"colorbar\":{\"outlinewidth\":0,\"ticks\":\"\"}}}],\"scatterpolar\":[{\"type\":\"scatterpolar\",\"marker\":{\"colorbar\":{\"outlinewidth\":0,\"ticks\":\"\"}}}],\"histogram\":[{\"marker\":{\"pattern\":{\"fillmode\":\"overlay\",\"size\":10,\"solidity\":0.2}},\"type\":\"histogram\"}],\"scattergl\":[{\"type\":\"scattergl\",\"marker\":{\"colorbar\":{\"outlinewidth\":0,\"ticks\":\"\"}}}],\"scatter3d\":[{\"type\":\"scatter3d\",\"line\":{\"colorbar\":{\"outlinewidth\":0,\"ticks\":\"\"}},\"marker\":{\"colorbar\":{\"outlinewidth\":0,\"ticks\":\"\"}}}],\"scattermapbox\":[{\"type\":\"scattermapbox\",\"marker\":{\"colorbar\":{\"outlinewidth\":0,\"ticks\":\"\"}}}],\"scatterternary\":[{\"type\":\"scatterternary\",\"marker\":{\"colorbar\":{\"outlinewidth\":0,\"ticks\":\"\"}}}],\"scattercarpet\":[{\"type\":\"scattercarpet\",\"marker\":{\"colorbar\":{\"outlinewidth\":0,\"ticks\":\"\"}}}],\"carpet\":[{\"aaxis\":{\"endlinecolor\":\"#2a3f5f\",\"gridcolor\":\"white\",\"linecolor\":\"white\",\"minorgridcolor\":\"white\",\"startlinecolor\":\"#2a3f5f\"},\"baxis\":{\"endlinecolor\":\"#2a3f5f\",\"gridcolor\":\"white\",\"linecolor\":\"white\",\"minorgridcolor\":\"white\",\"startlinecolor\":\"#2a3f5f\"},\"type\":\"carpet\"}],\"table\":[{\"cells\":{\"fill\":{\"color\":\"#EBF0F8\"},\"line\":{\"color\":\"white\"}},\"header\":{\"fill\":{\"color\":\"#C8D4E3\"},\"line\":{\"color\":\"white\"}},\"type\":\"table\"}],\"barpolar\":[{\"marker\":{\"line\":{\"color\":\"#E5ECF6\",\"width\":0.5},\"pattern\":{\"fillmode\":\"overlay\",\"size\":10,\"solidity\":0.2}},\"type\":\"barpolar\"}],\"pie\":[{\"automargin\":true,\"type\":\"pie\"}]},\"layout\":{\"autotypenumbers\":\"strict\",\"colorway\":[\"#636efa\",\"#EF553B\",\"#00cc96\",\"#ab63fa\",\"#FFA15A\",\"#19d3f3\",\"#FF6692\",\"#B6E880\",\"#FF97FF\",\"#FECB52\"],\"font\":{\"color\":\"#2a3f5f\"},\"hovermode\":\"closest\",\"hoverlabel\":{\"align\":\"left\"},\"paper_bgcolor\":\"white\",\"plot_bgcolor\":\"#E5ECF6\",\"polar\":{\"bgcolor\":\"#E5ECF6\",\"angularaxis\":{\"gridcolor\":\"white\",\"linecolor\":\"white\",\"ticks\":\"\"},\"radialaxis\":{\"gridcolor\":\"white\",\"linecolor\":\"white\",\"ticks\":\"\"}},\"ternary\":{\"bgcolor\":\"#E5ECF6\",\"aaxis\":{\"gridcolor\":\"white\",\"linecolor\":\"white\",\"ticks\":\"\"},\"baxis\":{\"gridcolor\":\"white\",\"linecolor\":\"white\",\"ticks\":\"\"},\"caxis\":{\"gridcolor\":\"white\",\"linecolor\":\"white\",\"ticks\":\"\"}},\"coloraxis\":{\"colorbar\":{\"outlinewidth\":0,\"ticks\":\"\"}},\"colorscale\":{\"sequential\":[[0.0,\"#0d0887\"],[0.1111111111111111,\"#46039f\"],[0.2222222222222222,\"#7201a8\"],[0.3333333333333333,\"#9c179e\"],[0.4444444444444444,\"#bd3786\"],[0.5555555555555556,\"#d8576b\"],[0.6666666666666666,\"#ed7953\"],[0.7777777777777778,\"#fb9f3a\"],[0.8888888888888888,\"#fdca26\"],[1.0,\"#f0f921\"]],\"sequentialminus\":[[0.0,\"#0d0887\"],[0.1111111111111111,\"#46039f\"],[0.2222222222222222,\"#7201a8\"],[0.3333333333333333,\"#9c179e\"],[0.4444444444444444,\"#bd3786\"],[0.5555555555555556,\"#d8576b\"],[0.6666666666666666,\"#ed7953\"],[0.7777777777777778,\"#fb9f3a\"],[0.8888888888888888,\"#fdca26\"],[1.0,\"#f0f921\"]],\"diverging\":[[0,\"#8e0152\"],[0.1,\"#c51b7d\"],[0.2,\"#de77ae\"],[0.3,\"#f1b6da\"],[0.4,\"#fde0ef\"],[0.5,\"#f7f7f7\"],[0.6,\"#e6f5d0\"],[0.7,\"#b8e186\"],[0.8,\"#7fbc41\"],[0.9,\"#4d9221\"],[1,\"#276419\"]]},\"xaxis\":{\"gridcolor\":\"white\",\"linecolor\":\"white\",\"ticks\":\"\",\"title\":{\"standoff\":15},\"zerolinecolor\":\"white\",\"automargin\":true,\"zerolinewidth\":2},\"yaxis\":{\"gridcolor\":\"white\",\"linecolor\":\"white\",\"ticks\":\"\",\"title\":{\"standoff\":15},\"zerolinecolor\":\"white\",\"automargin\":true,\"zerolinewidth\":2},\"scene\":{\"xaxis\":{\"backgroundcolor\":\"#E5ECF6\",\"gridcolor\":\"white\",\"linecolor\":\"white\",\"showbackground\":true,\"ticks\":\"\",\"zerolinecolor\":\"white\",\"gridwidth\":2},\"yaxis\":{\"backgroundcolor\":\"#E5ECF6\",\"gridcolor\":\"white\",\"linecolor\":\"white\",\"showbackground\":true,\"ticks\":\"\",\"zerolinecolor\":\"white\",\"gridwidth\":2},\"zaxis\":{\"backgroundcolor\":\"#E5ECF6\",\"gridcolor\":\"white\",\"linecolor\":\"white\",\"showbackground\":true,\"ticks\":\"\",\"zerolinecolor\":\"white\",\"gridwidth\":2}},\"shapedefaults\":{\"line\":{\"color\":\"#2a3f5f\"}},\"annotationdefaults\":{\"arrowcolor\":\"#2a3f5f\",\"arrowhead\":0,\"arrowwidth\":1},\"geo\":{\"bgcolor\":\"white\",\"landcolor\":\"#E5ECF6\",\"subunitcolor\":\"white\",\"showland\":true,\"showlakes\":true,\"lakecolor\":\"white\"},\"title\":{\"x\":0.05},\"mapbox\":{\"style\":\"light\"}}},\"xaxis\":{\"anchor\":\"y\",\"domain\":[0.0,1.0],\"title\":{\"text\":\"Gender\"}},\"yaxis\":{\"anchor\":\"x\",\"domain\":[0.0,1.0],\"title\":{\"text\":\"Age\"}},\"coloraxis\":{\"colorbar\":{\"title\":{\"text\":\"BMI\"}},\"colorscale\":[[0.0,\"#0d0887\"],[0.1111111111111111,\"#46039f\"],[0.2222222222222222,\"#7201a8\"],[0.3333333333333333,\"#9c179e\"],[0.4444444444444444,\"#bd3786\"],[0.5555555555555556,\"#d8576b\"],[0.6666666666666666,\"#ed7953\"],[0.7777777777777778,\"#fb9f3a\"],[0.8888888888888888,\"#fdca26\"],[1.0,\"#f0f921\"]]},\"legend\":{\"tracegroupgap\":0},\"title\":{\"text\":\" Age, Gender and Body Mass Index of Diabetic Patitents\"}},                        {\"responsive\": true}                    ).then(function(){\n                            \nvar gd = document.getElementById('6f4869c0-ae31-42d2-8ddc-6b7fa0a0cabc');\nvar x = new MutationObserver(function (mutations, observer) {{\n        var display = window.getComputedStyle(gd).display;\n        if (!display || display === 'none') {{\n            console.log([gd, 'removed!']);\n            Plotly.purge(gd);\n            observer.disconnect();\n        }}\n}});\n\n// Listen for the removal of the full notebook cells\nvar notebookContainer = gd.closest('#notebook-container');\nif (notebookContainer) {{\n    x.observe(notebookContainer, {childList: true});\n}}\n\n// Listen for the clearing of the current output cell\nvar outputEl = gd.closest('.output');\nif (outputEl) {{\n    x.observe(outputEl, {childList: true});\n}}\n\n                        })                };                            </script>        </div>\n</body>\n</html>"
     },
     "execution_count": 46,
     "metadata": {
     },
     "output_type": "execute_result"
    }
   ],
   "source": [
    "#the relationship between pregnancies and glucose levels\n",
    "import plotly.express as px\n",
    "fig = px.scatter(diabetes, x=\"Gender\", y=\"Age\",color=\"BMI\",\n",
    "            title=\" Age, Gender and Body Mass Index of Diabetic Patitents\")\n",
    "fig.show()"
   ]
  },
  {
   "cell_type": "code",
   "execution_count": 4,
   "metadata": {
    "collapsed": false
   },
   "outputs": [
    {
     "data": {
      "text/html": "<html>\n<head><meta charset=\"utf-8\" /></head>\n<body>\n    <div>            <script src=\"https://cdnjs.cloudflare.com/ajax/libs/mathjax/2.7.5/MathJax.js?config=TeX-AMS-MML_SVG\"></script><script type=\"text/javascript\">if (window.MathJax && window.MathJax.Hub && && window.MathJax.Hub.Config) {window.MathJax.Hub.Config({SVG: {font: \"STIX-Web\"}});}</script>                <script type=\"text/javascript\">window.PlotlyConfig = {MathJaxConfig: 'local'};</script>\n        <script src=\"https://cdn.plot.ly/plotly-2.12.1.min.js\"></script>                <div id=\"64909029-9cf2-4f46-9f75-9a90cfbaeea4\" class=\"plotly-graph-div\" style=\"height:525px; width:100%;\"></div>            <script type=\"text/javascript\">                                    window.PLOTLYENV=window.PLOTLYENV || {};                                    if (document.getElementById(\"64909029-9cf2-4f46-9f75-9a90cfbaeea4\")) {                    Plotly.newPlot(                        \"64909029-9cf2-4f46-9f75-9a90cfbaeea4\",                        [{\"domain\":{\"x\":[0.0,1.0],\"y\":[0.0,1.0]},\"hovertemplate\":\"country=%{label}<br>pop=%{value}<extra></extra>\",\"labels\":[\"Albania\",\"Austria\",\"Belgium\",\"Bosnia and Herzegovina\",\"Bulgaria\",\"Croatia\",\"Czech Republic\",\"Denmark\",\"Finland\",\"France\",\"Germany\",\"Greece\",\"Hungary\",\"Other countries\",\"Ireland\",\"Italy\",\"Other countries\",\"Netherlands\",\"Norway\",\"Poland\",\"Portugal\",\"Romania\",\"Serbia\",\"Slovak Republic\",\"Slovenia\",\"Spain\",\"Sweden\",\"Switzerland\",\"Turkey\",\"United Kingdom\"],\"legendgroup\":\"\",\"name\":\"\",\"showlegend\":true,\"values\":[3600523,8199783,10392226,4552198,7322858,4493312,10228744,5468120,5238460,61083916,82400996,10706290,9956108,301931,4109086,58147733,684736,16570613,4627926,38518241,10642836,22276056,10150265,5447502,2009245,40448191,9031088,7554661,71158647,60776238],\"type\":\"pie\"}],                        {\"template\":{\"data\":{\"histogram2dcontour\":[{\"type\":\"histogram2dcontour\",\"colorbar\":{\"outlinewidth\":0,\"ticks\":\"\"},\"colorscale\":[[0.0,\"#0d0887\"],[0.1111111111111111,\"#46039f\"],[0.2222222222222222,\"#7201a8\"],[0.3333333333333333,\"#9c179e\"],[0.4444444444444444,\"#bd3786\"],[0.5555555555555556,\"#d8576b\"],[0.6666666666666666,\"#ed7953\"],[0.7777777777777778,\"#fb9f3a\"],[0.8888888888888888,\"#fdca26\"],[1.0,\"#f0f921\"]]}],\"choropleth\":[{\"type\":\"choropleth\",\"colorbar\":{\"outlinewidth\":0,\"ticks\":\"\"}}],\"histogram2d\":[{\"type\":\"histogram2d\",\"colorbar\":{\"outlinewidth\":0,\"ticks\":\"\"},\"colorscale\":[[0.0,\"#0d0887\"],[0.1111111111111111,\"#46039f\"],[0.2222222222222222,\"#7201a8\"],[0.3333333333333333,\"#9c179e\"],[0.4444444444444444,\"#bd3786\"],[0.5555555555555556,\"#d8576b\"],[0.6666666666666666,\"#ed7953\"],[0.7777777777777778,\"#fb9f3a\"],[0.8888888888888888,\"#fdca26\"],[1.0,\"#f0f921\"]]}],\"heatmap\":[{\"type\":\"heatmap\",\"colorbar\":{\"outlinewidth\":0,\"ticks\":\"\"},\"colorscale\":[[0.0,\"#0d0887\"],[0.1111111111111111,\"#46039f\"],[0.2222222222222222,\"#7201a8\"],[0.3333333333333333,\"#9c179e\"],[0.4444444444444444,\"#bd3786\"],[0.5555555555555556,\"#d8576b\"],[0.6666666666666666,\"#ed7953\"],[0.7777777777777778,\"#fb9f3a\"],[0.8888888888888888,\"#fdca26\"],[1.0,\"#f0f921\"]]}],\"heatmapgl\":[{\"type\":\"heatmapgl\",\"colorbar\":{\"outlinewidth\":0,\"ticks\":\"\"},\"colorscale\":[[0.0,\"#0d0887\"],[0.1111111111111111,\"#46039f\"],[0.2222222222222222,\"#7201a8\"],[0.3333333333333333,\"#9c179e\"],[0.4444444444444444,\"#bd3786\"],[0.5555555555555556,\"#d8576b\"],[0.6666666666666666,\"#ed7953\"],[0.7777777777777778,\"#fb9f3a\"],[0.8888888888888888,\"#fdca26\"],[1.0,\"#f0f921\"]]}],\"contourcarpet\":[{\"type\":\"contourcarpet\",\"colorbar\":{\"outlinewidth\":0,\"ticks\":\"\"}}],\"contour\":[{\"type\":\"contour\",\"colorbar\":{\"outlinewidth\":0,\"ticks\":\"\"},\"colorscale\":[[0.0,\"#0d0887\"],[0.1111111111111111,\"#46039f\"],[0.2222222222222222,\"#7201a8\"],[0.3333333333333333,\"#9c179e\"],[0.4444444444444444,\"#bd3786\"],[0.5555555555555556,\"#d8576b\"],[0.6666666666666666,\"#ed7953\"],[0.7777777777777778,\"#fb9f3a\"],[0.8888888888888888,\"#fdca26\"],[1.0,\"#f0f921\"]]}],\"surface\":[{\"type\":\"surface\",\"colorbar\":{\"outlinewidth\":0,\"ticks\":\"\"},\"colorscale\":[[0.0,\"#0d0887\"],[0.1111111111111111,\"#46039f\"],[0.2222222222222222,\"#7201a8\"],[0.3333333333333333,\"#9c179e\"],[0.4444444444444444,\"#bd3786\"],[0.5555555555555556,\"#d8576b\"],[0.6666666666666666,\"#ed7953\"],[0.7777777777777778,\"#fb9f3a\"],[0.8888888888888888,\"#fdca26\"],[1.0,\"#f0f921\"]]}],\"mesh3d\":[{\"type\":\"mesh3d\",\"colorbar\":{\"outlinewidth\":0,\"ticks\":\"\"}}],\"scatter\":[{\"fillpattern\":{\"fillmode\":\"overlay\",\"size\":10,\"solidity\":0.2},\"type\":\"scatter\"}],\"parcoords\":[{\"type\":\"parcoords\",\"line\":{\"colorbar\":{\"outlinewidth\":0,\"ticks\":\"\"}}}],\"scatterpolargl\":[{\"type\":\"scatterpolargl\",\"marker\":{\"colorbar\":{\"outlinewidth\":0,\"ticks\":\"\"}}}],\"bar\":[{\"error_x\":{\"color\":\"#2a3f5f\"},\"error_y\":{\"color\":\"#2a3f5f\"},\"marker\":{\"line\":{\"color\":\"#E5ECF6\",\"width\":0.5},\"pattern\":{\"fillmode\":\"overlay\",\"size\":10,\"solidity\":0.2}},\"type\":\"bar\"}],\"scattergeo\":[{\"type\":\"scattergeo\",\"marker\":{\"colorbar\":{\"outlinewidth\":0,\"ticks\":\"\"}}}],\"scatterpolar\":[{\"type\":\"scatterpolar\",\"marker\":{\"colorbar\":{\"outlinewidth\":0,\"ticks\":\"\"}}}],\"histogram\":[{\"marker\":{\"pattern\":{\"fillmode\":\"overlay\",\"size\":10,\"solidity\":0.2}},\"type\":\"histogram\"}],\"scattergl\":[{\"type\":\"scattergl\",\"marker\":{\"colorbar\":{\"outlinewidth\":0,\"ticks\":\"\"}}}],\"scatter3d\":[{\"type\":\"scatter3d\",\"line\":{\"colorbar\":{\"outlinewidth\":0,\"ticks\":\"\"}},\"marker\":{\"colorbar\":{\"outlinewidth\":0,\"ticks\":\"\"}}}],\"scattermapbox\":[{\"type\":\"scattermapbox\",\"marker\":{\"colorbar\":{\"outlinewidth\":0,\"ticks\":\"\"}}}],\"scatterternary\":[{\"type\":\"scatterternary\",\"marker\":{\"colorbar\":{\"outlinewidth\":0,\"ticks\":\"\"}}}],\"scattercarpet\":[{\"type\":\"scattercarpet\",\"marker\":{\"colorbar\":{\"outlinewidth\":0,\"ticks\":\"\"}}}],\"carpet\":[{\"aaxis\":{\"endlinecolor\":\"#2a3f5f\",\"gridcolor\":\"white\",\"linecolor\":\"white\",\"minorgridcolor\":\"white\",\"startlinecolor\":\"#2a3f5f\"},\"baxis\":{\"endlinecolor\":\"#2a3f5f\",\"gridcolor\":\"white\",\"linecolor\":\"white\",\"minorgridcolor\":\"white\",\"startlinecolor\":\"#2a3f5f\"},\"type\":\"carpet\"}],\"table\":[{\"cells\":{\"fill\":{\"color\":\"#EBF0F8\"},\"line\":{\"color\":\"white\"}},\"header\":{\"fill\":{\"color\":\"#C8D4E3\"},\"line\":{\"color\":\"white\"}},\"type\":\"table\"}],\"barpolar\":[{\"marker\":{\"line\":{\"color\":\"#E5ECF6\",\"width\":0.5},\"pattern\":{\"fillmode\":\"overlay\",\"size\":10,\"solidity\":0.2}},\"type\":\"barpolar\"}],\"pie\":[{\"automargin\":true,\"type\":\"pie\"}]},\"layout\":{\"autotypenumbers\":\"strict\",\"colorway\":[\"#636efa\",\"#EF553B\",\"#00cc96\",\"#ab63fa\",\"#FFA15A\",\"#19d3f3\",\"#FF6692\",\"#B6E880\",\"#FF97FF\",\"#FECB52\"],\"font\":{\"color\":\"#2a3f5f\"},\"hovermode\":\"closest\",\"hoverlabel\":{\"align\":\"left\"},\"paper_bgcolor\":\"white\",\"plot_bgcolor\":\"#E5ECF6\",\"polar\":{\"bgcolor\":\"#E5ECF6\",\"angularaxis\":{\"gridcolor\":\"white\",\"linecolor\":\"white\",\"ticks\":\"\"},\"radialaxis\":{\"gridcolor\":\"white\",\"linecolor\":\"white\",\"ticks\":\"\"}},\"ternary\":{\"bgcolor\":\"#E5ECF6\",\"aaxis\":{\"gridcolor\":\"white\",\"linecolor\":\"white\",\"ticks\":\"\"},\"baxis\":{\"gridcolor\":\"white\",\"linecolor\":\"white\",\"ticks\":\"\"},\"caxis\":{\"gridcolor\":\"white\",\"linecolor\":\"white\",\"ticks\":\"\"}},\"coloraxis\":{\"colorbar\":{\"outlinewidth\":0,\"ticks\":\"\"}},\"colorscale\":{\"sequential\":[[0.0,\"#0d0887\"],[0.1111111111111111,\"#46039f\"],[0.2222222222222222,\"#7201a8\"],[0.3333333333333333,\"#9c179e\"],[0.4444444444444444,\"#bd3786\"],[0.5555555555555556,\"#d8576b\"],[0.6666666666666666,\"#ed7953\"],[0.7777777777777778,\"#fb9f3a\"],[0.8888888888888888,\"#fdca26\"],[1.0,\"#f0f921\"]],\"sequentialminus\":[[0.0,\"#0d0887\"],[0.1111111111111111,\"#46039f\"],[0.2222222222222222,\"#7201a8\"],[0.3333333333333333,\"#9c179e\"],[0.4444444444444444,\"#bd3786\"],[0.5555555555555556,\"#d8576b\"],[0.6666666666666666,\"#ed7953\"],[0.7777777777777778,\"#fb9f3a\"],[0.8888888888888888,\"#fdca26\"],[1.0,\"#f0f921\"]],\"diverging\":[[0,\"#8e0152\"],[0.1,\"#c51b7d\"],[0.2,\"#de77ae\"],[0.3,\"#f1b6da\"],[0.4,\"#fde0ef\"],[0.5,\"#f7f7f7\"],[0.6,\"#e6f5d0\"],[0.7,\"#b8e186\"],[0.8,\"#7fbc41\"],[0.9,\"#4d9221\"],[1,\"#276419\"]]},\"xaxis\":{\"gridcolor\":\"white\",\"linecolor\":\"white\",\"ticks\":\"\",\"title\":{\"standoff\":15},\"zerolinecolor\":\"white\",\"automargin\":true,\"zerolinewidth\":2},\"yaxis\":{\"gridcolor\":\"white\",\"linecolor\":\"white\",\"ticks\":\"\",\"title\":{\"standoff\":15},\"zerolinecolor\":\"white\",\"automargin\":true,\"zerolinewidth\":2},\"scene\":{\"xaxis\":{\"backgroundcolor\":\"#E5ECF6\",\"gridcolor\":\"white\",\"linecolor\":\"white\",\"showbackground\":true,\"ticks\":\"\",\"zerolinecolor\":\"white\",\"gridwidth\":2},\"yaxis\":{\"backgroundcolor\":\"#E5ECF6\",\"gridcolor\":\"white\",\"linecolor\":\"white\",\"showbackground\":true,\"ticks\":\"\",\"zerolinecolor\":\"white\",\"gridwidth\":2},\"zaxis\":{\"backgroundcolor\":\"#E5ECF6\",\"gridcolor\":\"white\",\"linecolor\":\"white\",\"showbackground\":true,\"ticks\":\"\",\"zerolinecolor\":\"white\",\"gridwidth\":2}},\"shapedefaults\":{\"line\":{\"color\":\"#2a3f5f\"}},\"annotationdefaults\":{\"arrowcolor\":\"#2a3f5f\",\"arrowhead\":0,\"arrowwidth\":1},\"geo\":{\"bgcolor\":\"white\",\"landcolor\":\"#E5ECF6\",\"subunitcolor\":\"white\",\"showland\":true,\"showlakes\":true,\"lakecolor\":\"white\"},\"title\":{\"x\":0.05},\"mapbox\":{\"style\":\"light\"}}},\"legend\":{\"tracegroupgap\":0},\"title\":{\"text\":\"Population of European continent\"}},                        {\"responsive\": true}                    ).then(function(){\n                            \nvar gd = document.getElementById('64909029-9cf2-4f46-9f75-9a90cfbaeea4');\nvar x = new MutationObserver(function (mutations, observer) {{\n        var display = window.getComputedStyle(gd).display;\n        if (!display || display === 'none') {{\n            console.log([gd, 'removed!']);\n            Plotly.purge(gd);\n            observer.disconnect();\n        }}\n}});\n\n// Listen for the removal of the full notebook cells\nvar notebookContainer = gd.closest('#notebook-container');\nif (notebookContainer) {{\n    x.observe(notebookContainer, {childList: true});\n}}\n\n// Listen for the clearing of the current output cell\nvar outputEl = gd.closest('.output');\nif (outputEl) {{\n    x.observe(outputEl, {childList: true});\n}}\n\n                        })                };                            </script>        </div>\n</body>\n</html>"
     },
     "execution_count": 4,
     "metadata": {
     },
     "output_type": "execute_result"
    }
   ],
   "source": [
    "import plotly.express as px\n",
    "df= diabetes().query(\"year == 2007\").query(\"continent == 'Europe'\")\n",
    "df.loc[df['pop'] < 2.e6, 'country'] = 'Other countries' # Represent only large countries\n",
    "fig = px.pie(df, values='pop', names='country', title='Population of European continent')\n",
    "fig.show()"
   ]
  },
  {
   "cell_type": "code",
   "execution_count": 0,
   "metadata": {
    "collapsed": false
   },
   "outputs": [
   ],
   "source": [
   ]
  },
  {
   "cell_type": "code",
   "execution_count": 8,
   "metadata": {
    "collapsed": false
   },
   "outputs": [
    {
     "data": {
      "text/html": "<html>\n<head><meta charset=\"utf-8\" /></head>\n<body>\n    <div>            <script src=\"https://cdnjs.cloudflare.com/ajax/libs/mathjax/2.7.5/MathJax.js?config=TeX-AMS-MML_SVG\"></script><script type=\"text/javascript\">if (window.MathJax && window.MathJax.Hub && && window.MathJax.Hub.Config) {window.MathJax.Hub.Config({SVG: {font: \"STIX-Web\"}});}</script>                <script type=\"text/javascript\">window.PlotlyConfig = {MathJaxConfig: 'local'};</script>\n        <script src=\"https://cdn.plot.ly/plotly-2.12.1.min.js\"></script>                <div id=\"33269724-b99d-4f06-9e1c-38d51874a916\" class=\"plotly-graph-div\" style=\"height:525px; width:100%;\"></div>            <script type=\"text/javascript\">                                    window.PLOTLYENV=window.PLOTLYENV || {};                                    if (document.getElementById(\"33269724-b99d-4f06-9e1c-38d51874a916\")) {                    Plotly.newPlot(                        \"33269724-b99d-4f06-9e1c-38d51874a916\",                        [{\"alignmentgroup\":\"True\",\"hovertemplate\":\"Stress=%{x}<br>Sleep=%{y}<extra></extra>\",\"legendgroup\":\"\",\"marker\":{\"color\":\"#636efa\",\"pattern\":{\"shape\":\"\"}},\"name\":\"\",\"offsetgroup\":\"\",\"orientation\":\"v\",\"showlegend\":false,\"textposition\":\"auto\",\"x\":[\"sometimes\",\"sometimes\",\"sometimes\",\"sometimes\",\"sometimes\",\"sometimes\",\"sometimes\",\"sometimes\",\"sometimes\",\"sometimes\",\"not at all\",\"sometimes\",\"sometimes\",\"very often\",\"very often\",\"sometimes\",\"sometimes\",\"sometimes\",\"sometimes\",\"not at all\",\"sometimes\",\"always\",\"always\",\"sometimes\",\"sometimes\",\"not at all\",\"not at all\",\"not at all\",\"not at all\",\"sometimes\",\"sometimes\",\"sometimes\",\"not at all\",\"not at all\",\"sometimes\",\"not at all\",\"always\",\"sometimes\",\"not at all\",\"sometimes\",\"sometimes\",\"sometimes\",\"sometimes\",\"not at all\",\"sometimes\",\"sometimes\",\"very often\",\"sometimes\",\"sometimes\",\"always\",\"sometimes\",\"sometimes\",\"sometimes\",\"sometimes\",\"not at all\",\"always\",\"very often\",\"very often\",\"very often\",\"very often\",\"not at all\",\"very often\",\"very often\",\"sometimes\",\"very often\",\"very often\",\"sometimes\",\"not at all\",\"very often\",\"not at all\",\"sometimes\",\"always\",\"always\",\"sometimes\",\"always\",\"very often\",\"sometimes\",\"sometimes\",\"sometimes\",\"not at all\",\"sometimes\",\"sometimes\",\"sometimes\",\"very often\",\"very often\",\"not at all\",\"sometimes\",\"very often\",\"not at all\",\"sometimes\",\"sometimes\",\"sometimes\",\"very often\",\"sometimes\",\"sometimes\",\"sometimes\",\"very often\",\"not at all\",\"sometimes\",\"sometimes\",\"sometimes\",\"sometimes\",\"very often\",\"not at all\",\"not at all\",\"very often\",\"not at all\",\"very often\",\"very often\",\"sometimes\",\"very often\",\"always\",\"always\",\"not at all\",\"very often\",\"always\",\"very often\",\"very often\",\"very often\",\"sometimes\",\"sometimes\",\"always\",\"sometimes\",\"very often\",\"sometimes\",\"sometimes\",\"very often\",\"sometimes\",\"sometimes\",\"sometimes\",\"sometimes\",\"very often\",\"sometimes\",\"very often\",\"not at all\",\"sometimes\",\"very often\",\"sometimes\",\"sometimes\",\"sometimes\",\"sometimes\",\"sometimes\",\"very often\",\"sometimes\",\"sometimes\",\"sometimes\",\"always\",\"sometimes\",\"sometimes\",\"sometimes\",\"sometimes\",\"sometimes\",\"sometimes\",\"sometimes\",\"sometimes\",\"sometimes\",\"not at all\",\"sometimes\",\"sometimes\",\"sometimes\",\"sometimes\",\"sometimes\",\"not at all\",\"sometimes\",\"sometimes\",\"sometimes\",\"very often\",\"not at all\",\"sometimes\",\"sometimes\",\"sometimes\",\"sometimes\",\"very often\",\"very often\",\"sometimes\",\"sometimes\",\"sometimes\",\"sometimes\",\"always\",\"sometimes\",\"always\",\"sometimes\",\"always\",\"sometimes\",\"sometimes\",\"sometimes\",\"not at all\",\"sometimes\",\"sometimes\",\"sometimes\",\"always\",\"sometimes\",\"not at all\",\"very often\",\"sometimes\",\"sometimes\",\"sometimes\",\"sometimes\",\"sometimes\",\"always\",\"sometimes\",\"sometimes\",\"always\",\"not at all\",\"sometimes\",\"not at all\",\"sometimes\",\"not at all\",\"sometimes\",\"sometimes\",\"sometimes\",\"sometimes\",\"sometimes\",\"sometimes\",\"not at all\",\"sometimes\",\"sometimes\",\"sometimes\",\"sometimes\",\"sometimes\",\"sometimes\",\"sometimes\",\"very often\",\"sometimes\",\"very often\",\"very often\",\"always\",\"always\",\"sometimes\",\"not at all\",\"always\",\"sometimes\",\"sometimes\",\"sometimes\",\"sometimes\",\"sometimes\",\"very often\",\"sometimes\",\"sometimes\",\"sometimes\",\"sometimes\",\"sometimes\",\"sometimes\",\"sometimes\",\"sometimes\",\"sometimes\",\"sometimes\",\"sometimes\",\"not at all\",\"sometimes\",\"sometimes\",\"very often\",\"very often\",\"sometimes\",\"sometimes\",\"sometimes\",\"sometimes\",\"not at all\",\"sometimes\",\"always\",\"always\",\"sometimes\",\"sometimes\",\"not at all\",\"not at all\",\"not at all\",\"not at all\",\"sometimes\",\"sometimes\",\"sometimes\",\"not at all\",\"not at all\",\"sometimes\",\"not at all\",\"always\",\"sometimes\",\"not at all\",\"sometimes\",\"sometimes\",\"sometimes\",\"sometimes\",\"not at all\",\"sometimes\",\"sometimes\",\"very often\",\"sometimes\",\"sometimes\",\"always\",\"sometimes\",\"sometimes\",\"sometimes\",\"sometimes\",\"not at all\",\"always\",\"very often\",\"very often\",\"very often\",\"very often\",\"not at all\",\"very often\",\"very often\",\"sometimes\",\"very often\",\"very often\",\"sometimes\",\"not at all\",\"very often\",\"not at all\",\"sometimes\",\"always\",\"always\",\"sometimes\",\"always\",\"very often\",\"sometimes\",\"sometimes\",\"sometimes\",\"not at all\",\"sometimes\",\"sometimes\",\"sometimes\",\"very often\",\"very often\",\"not at all\",\"sometimes\",\"very often\",\"not at all\",\"sometimes\",\"sometimes\",\"sometimes\",\"very often\",\"sometimes\",\"sometimes\",\"sometimes\",\"very often\",\"not at all\",\"sometimes\",\"sometimes\",\"sometimes\",\"sometimes\",\"very often\",\"not at all\",\"not at all\",\"very often\",\"not at all\",\"very often\",\"very often\",\"sometimes\",\"very often\",\"always\",\"always\",\"not at all\",\"very often\",\"always\",\"very often\",\"very often\",\"very often\",\"sometimes\",\"sometimes\",\"always\",\"sometimes\",\"very often\",\"sometimes\",\"sometimes\",\"very often\",\"sometimes\",\"sometimes\",\"sometimes\",\"sometimes\",\"very often\",\"sometimes\",\"very often\",\"not at all\",\"sometimes\",\"very often\",\"sometimes\",\"sometimes\",\"sometimes\",\"sometimes\",\"sometimes\",\"very often\",\"sometimes\",\"sometimes\",\"sometimes\",\"always\",\"sometimes\",\"sometimes\",\"sometimes\",\"sometimes\",\"sometimes\",\"sometimes\",\"sometimes\",\"sometimes\",\"sometimes\",\"not at all\",\"sometimes\",\"sometimes\",\"sometimes\",\"sometimes\",\"sometimes\",\"not at all\",\"sometimes\",\"sometimes\",\"sometimes\",\"very often\",\"not at all\",\"sometimes\",\"sometimes\",\"sometimes\",\"sometimes\",\"very often\",\"very often\",\"sometimes\",\"sometimes\",\"sometimes\",\"sometimes\",\"always\",\"sometimes\",\"always\",\"sometimes\",\"always\",\"sometimes\",\"sometimes\",\"sometimes\",\"not at all\",\"sometimes\",\"sometimes\",\"sometimes\",\"always\",\"sometimes\",\"not at all\",\"very often\",\"sometimes\",\"sometimes\",\"sometimes\",\"sometimes\",\"sometimes\",\"always\",\"sometimes\",\"sometimes\",\"always\",\"not at all\",\"sometimes\",\"not at all\",\"sometimes\",\"not at all\",\"sometimes\",\"sometimes\",\"sometimes\",\"sometimes\",\"sometimes\",\"sometimes\",\"not at all\",\"sometimes\",\"sometimes\",\"sometimes\",\"sometimes\",\"sometimes\",\"sometimes\",\"sometimes\",\"very often\",\"sometimes\",\"very often\",\"very often\",\"always\",\"always\",\"sometimes\",\"not at all\",\"always\",\"sometimes\",\"sometimes\",\"sometimes\",\"sometimes\",\"sometimes\",\"very often\",\"sometimes\",\"sometimes\",\"sometimes\",\"sometimes\",\"sometimes\",\"sometimes\",\"sometimes\",\"sometimes\",\"sometimes\",\"sometimes\",\"sometimes\",\"not at all\",\"sometimes\",\"sometimes\",\"very often\",\"very often\",\"sometimes\",\"sometimes\",\"sometimes\",\"sometimes\",\"not at all\",\"sometimes\",\"always\",\"always\",\"sometimes\",\"sometimes\",\"not at all\",\"not at all\",\"not at all\",\"not at all\",\"sometimes\",\"sometimes\",\"sometimes\",\"not at all\",\"not at all\",\"sometimes\",\"not at all\",\"always\",\"sometimes\",\"not at all\",\"sometimes\",\"sometimes\",\"sometimes\",\"sometimes\",\"not at all\",\"sometimes\",\"sometimes\",\"very often\",\"sometimes\",\"sometimes\",\"always\",\"sometimes\",\"sometimes\",\"sometimes\",\"sometimes\",\"not at all\",\"always\",\"very often\",\"very often\",\"very often\",\"very often\",\"not at all\",\"very often\",\"very often\",\"sometimes\",\"very often\",\"very often\",\"sometimes\",\"not at all\",\"very often\",\"not at all\",\"sometimes\",\"always\",\"always\",\"sometimes\",\"always\",\"very often\",\"sometimes\",\"sometimes\",\"sometimes\",\"not at all\",\"sometimes\",\"sometimes\",\"sometimes\",\"very often\",\"very often\",\"not at all\",\"sometimes\",\"very often\",\"not at all\",\"sometimes\",\"sometimes\",\"sometimes\",\"very often\",\"sometimes\",\"sometimes\",\"sometimes\",\"very often\",\"not at all\",\"sometimes\",\"sometimes\",\"sometimes\",\"sometimes\",\"very often\",\"not at all\",\"not at all\",\"very often\",\"not at all\",\"very often\",\"very often\",\"sometimes\",\"very often\",\"always\",\"always\",\"not at all\",\"very often\",\"always\",\"very often\",\"very often\",\"very often\",\"sometimes\",\"sometimes\",\"always\",\"sometimes\",\"very often\",\"sometimes\",\"sometimes\",\"very often\",\"sometimes\",\"sometimes\",\"sometimes\",\"sometimes\",\"very often\",\"sometimes\",\"very often\",\"not at all\",\"sometimes\",\"very often\",\"sometimes\",\"sometimes\",\"sometimes\",\"sometimes\",\"sometimes\",\"very often\",\"sometimes\",\"sometimes\",\"sometimes\",\"always\",\"sometimes\",\"sometimes\",\"sometimes\",\"sometimes\",\"sometimes\",\"sometimes\",\"sometimes\",\"sometimes\",\"sometimes\",\"not at all\",\"sometimes\",\"sometimes\",\"sometimes\",\"sometimes\",\"sometimes\",\"not at all\",\"sometimes\",\"sometimes\",\"sometimes\",\"very often\",\"not at all\",\"sometimes\",\"sometimes\",\"sometimes\",\"sometimes\",\"very often\",\"very often\",\"sometimes\",\"sometimes\",\"sometimes\",\"sometimes\",\"always\",\"sometimes\",\"always\",\"sometimes\",\"always\",\"sometimes\",\"sometimes\",\"sometimes\",\"not at all\",\"sometimes\",\"sometimes\",\"sometimes\",\"always\",\"sometimes\",\"not at all\",\"very often\",\"sometimes\",\"sometimes\",\"sometimes\",\"sometimes\",\"sometimes\",\"always\",\"sometimes\",\"sometimes\",\"always\",\"not at all\",\"sometimes\",\"not at all\",\"sometimes\",\"not at all\",\"sometimes\",\"sometimes\",\"sometimes\",\"sometimes\",\"sometimes\",\"sometimes\",\"not at all\",\"sometimes\",\"sometimes\",\"sometimes\",\"sometimes\",\"sometimes\",\"sometimes\",\"sometimes\",\"very often\",\"sometimes\",\"very often\",\"very often\",\"always\",\"always\",\"sometimes\",\"not at all\",\"always\",\"sometimes\",\"sometimes\",\"sometimes\",\"sometimes\",\"sometimes\",\"very often\",\"sometimes\",\"sometimes\",\"sometimes\",\"sometimes\",\"sometimes\",\"sometimes\",\"sometimes\",\"sometimes\",\"sometimes\",\"sometimes\",\"sometimes\",\"not at all\",\"sometimes\",\"sometimes\",\"very often\",\"very often\",\"sometimes\",\"sometimes\",\"sometimes\",\"sometimes\",\"not at all\",\"sometimes\",\"always\",\"always\",\"sometimes\",\"sometimes\",\"not at all\",\"not at all\",\"not at all\",\"not at all\",\"sometimes\",\"sometimes\",\"sometimes\",\"not at all\",\"not at all\",\"sometimes\",\"not at all\",\"always\",\"sometimes\",\"not at all\",\"sometimes\",\"sometimes\",\"sometimes\",\"sometimes\",\"not at all\",\"sometimes\",\"sometimes\",\"very often\",\"sometimes\",\"sometimes\",\"always\",\"sometimes\",\"sometimes\",\"sometimes\",\"sometimes\",\"not at all\",\"always\",\"very often\",\"very often\",\"very often\",\"very often\",\"not at all\",\"very often\",\"very often\",\"sometimes\",\"very often\",\"very often\",\"sometimes\",\"not at all\",\"very often\",\"not at all\",\"sometimes\",\"always\",\"always\",\"sometimes\",\"always\",\"very often\",\"sometimes\",\"sometimes\",\"sometimes\",\"not at all\",\"sometimes\",\"sometimes\",\"sometimes\",\"very often\",\"very often\",\"not at all\",\"sometimes\",\"very often\",\"not at all\",\"sometimes\",\"sometimes\",\"sometimes\",\"very often\",\"sometimes\",\"sometimes\",\"sometimes\",\"very often\",\"not at all\",\"sometimes\",\"sometimes\",\"sometimes\",\"sometimes\",\"very often\",\"not at all\",\"not at all\",\"very often\",\"not at all\",\"very often\",\"very often\",\"sometimes\",\"very often\",\"always\",\"always\",\"not at all\",\"very often\",\"always\",\"very often\",\"very often\",\"very often\",\"sometimes\",\"sometimes\",\"always\",\"sometimes\",\"very often\",\"sometimes\",\"sometimes\",\"very often\",\"sometimes\",\"sometimes\",\"sometimes\",\"sometimes\",\"very often\",\"sometimes\",\"very often\",\"not at all\",\"sometimes\",\"very often\",\"sometimes\",\"sometimes\",\"sometimes\",\"sometimes\",\"sometimes\",\"very often\",\"sometimes\",\"sometimes\",\"sometimes\",\"always\",\"sometimes\",\"sometimes\",\"sometimes\",\"sometimes\",\"sometimes\",\"sometimes\",\"sometimes\",\"sometimes\",\"sometimes\",\"not at all\",\"sometimes\",\"sometimes\",\"sometimes\",\"sometimes\",\"sometimes\",\"not at all\",\"sometimes\",\"sometimes\",\"sometimes\",\"very often\",\"not at all\",\"sometimes\",\"sometimes\",\"sometimes\",\"sometimes\",\"very often\",\"very often\",\"sometimes\",\"sometimes\",\"sometimes\",\"sometimes\",\"always\",\"sometimes\",\"always\",\"sometimes\",\"always\",\"sometimes\",\"sometimes\",\"sometimes\",\"not at all\",\"sometimes\",\"sometimes\",\"sometimes\",\"always\",\"sometimes\",\"not at all\",\"very often\",\"sometimes\",\"sometimes\",\"sometimes\",\"sometimes\",\"sometimes\",\"always\",\"sometimes\",\"sometimes\",\"always\",\"not at all\",\"sometimes\",\"not at all\",\"sometimes\",\"not at all\",\"sometimes\",\"sometimes\",\"sometimes\",\"sometimes\",\"sometimes\",\"sometimes\",\"not at all\",\"sometimes\",\"sometimes\",\"sometimes\",\"sometimes\",\"sometimes\",\"sometimes\",\"sometimes\",\"very often\",\"sometimes\",\"very often\",\"very often\",\"always\",\"always\",\"sometimes\",\"not at all\",\"always\",\"sometimes\",\"sometimes\",\"sometimes\",\"sometimes\",\"sometimes\",\"very often\",\"sometimes\",null],\"xaxis\":\"x\",\"y\":[8.0,8.0,6.0,8.0,8.0,10.0,8.0,7.0,7.0,8.0,7.0,8.0,6.0,8.0,7.0,6.0,7.0,6.0,11.0,8.0,9.0,4.0,4.0,9.0,8.0,7.0,6.0,7.0,6.0,6.0,8.0,7.0,4.0,8.0,7.0,8.0,8.0,8.0,8.0,6.0,6.0,6.0,6.0,6.0,6.0,6.0,8.0,9.0,5.0,4.0,5.0,7.0,6.0,8.0,5.0,6.0,7.0,6.0,6.0,8.0,10.0,6.0,8.0,8.0,6.0,10.0,8.0,6.0,5.0,5.0,4.0,9.0,7.0,6.0,7.0,7.0,7.0,7.0,7.0,6.0,7.0,7.0,4.0,4.0,6.0,6.0,7.0,4.0,6.0,7.0,8.0,5.0,7.0,9.0,5.0,6.0,6.0,8.0,8.0,6.0,8.0,8.0,8.0,8.0,8.0,7.0,8.0,8.0,6.0,8.0,7.0,7.0,7.0,7.0,9.0,9.0,5.0,7.0,7.0,8.0,8.0,6.0,6.0,7.0,5.0,7.0,6.0,6.0,7.0,8.0,8.0,8.0,6.0,7.0,7.0,6.0,8.0,7.0,9.0,8.0,8.0,7.0,6.0,8.0,7.0,7.0,7.0,8.0,7.0,7.0,5.0,6.0,6.0,7.0,7.0,7.0,6.0,7.0,8.0,6.0,7.0,8.0,7.0,6.0,5.0,7.0,6.0,7.0,6.0,7.0,7.0,6.0,5.0,6.0,8.0,8.0,6.0,8.0,10.0,8.0,9.0,7.0,7.0,8.0,9.0,7.0,7.0,8.0,7.0,7.0,10.0,7.0,7.0,10.0,8.0,5.0,6.0,8.0,9.0,8.0,7.0,6.0,6.0,6.0,6.0,8.0,7.0,8.0,6.0,7.0,8.0,6.0,8.0,5.0,5.0,6.0,9.0,8.0,6.0,6.0,7.0,8.0,8.0,7.0,6.0,6.0,6.0,5.0,5.0,6.0,8.0,8.0,7.0,8.0,6.0,6.0,6.0,7.0,8.0,8.0,6.0,8.0,8.0,10.0,8.0,7.0,7.0,8.0,7.0,8.0,6.0,8.0,7.0,6.0,7.0,6.0,11.0,8.0,9.0,4.0,4.0,9.0,8.0,7.0,6.0,7.0,6.0,6.0,8.0,7.0,4.0,8.0,7.0,8.0,8.0,8.0,8.0,6.0,6.0,6.0,6.0,6.0,6.0,6.0,8.0,9.0,5.0,4.0,5.0,7.0,6.0,8.0,5.0,6.0,7.0,6.0,6.0,8.0,10.0,6.0,8.0,8.0,6.0,10.0,8.0,6.0,5.0,5.0,4.0,9.0,7.0,6.0,7.0,7.0,7.0,7.0,7.0,6.0,7.0,7.0,4.0,4.0,6.0,6.0,7.0,4.0,6.0,7.0,8.0,5.0,7.0,9.0,5.0,6.0,6.0,8.0,8.0,6.0,8.0,8.0,8.0,8.0,8.0,7.0,8.0,8.0,6.0,8.0,7.0,7.0,7.0,7.0,9.0,9.0,5.0,7.0,7.0,8.0,8.0,6.0,6.0,7.0,5.0,7.0,6.0,6.0,7.0,8.0,8.0,8.0,6.0,7.0,7.0,6.0,8.0,7.0,9.0,8.0,8.0,7.0,6.0,8.0,7.0,7.0,7.0,8.0,7.0,7.0,5.0,6.0,6.0,7.0,7.0,7.0,6.0,7.0,8.0,6.0,7.0,8.0,7.0,6.0,5.0,7.0,6.0,7.0,6.0,7.0,7.0,6.0,5.0,6.0,8.0,8.0,6.0,8.0,10.0,8.0,9.0,7.0,7.0,8.0,9.0,7.0,7.0,8.0,7.0,7.0,10.0,7.0,7.0,10.0,8.0,5.0,6.0,8.0,9.0,8.0,7.0,6.0,6.0,6.0,6.0,8.0,7.0,8.0,6.0,7.0,8.0,6.0,8.0,5.0,5.0,6.0,9.0,8.0,6.0,6.0,7.0,8.0,8.0,7.0,6.0,6.0,6.0,5.0,5.0,6.0,8.0,8.0,7.0,8.0,6.0,6.0,6.0,7.0,8.0,8.0,6.0,8.0,8.0,10.0,8.0,7.0,7.0,8.0,7.0,8.0,6.0,8.0,7.0,6.0,7.0,6.0,11.0,8.0,9.0,4.0,4.0,9.0,8.0,7.0,6.0,7.0,6.0,6.0,8.0,7.0,4.0,8.0,7.0,8.0,8.0,8.0,8.0,6.0,6.0,6.0,6.0,6.0,6.0,6.0,8.0,9.0,5.0,4.0,5.0,7.0,6.0,8.0,5.0,6.0,7.0,6.0,6.0,8.0,10.0,6.0,8.0,8.0,6.0,10.0,8.0,6.0,5.0,5.0,4.0,9.0,7.0,6.0,7.0,7.0,7.0,7.0,7.0,6.0,7.0,7.0,4.0,4.0,6.0,6.0,7.0,4.0,6.0,7.0,8.0,5.0,7.0,9.0,5.0,6.0,6.0,8.0,8.0,6.0,8.0,8.0,8.0,8.0,8.0,7.0,8.0,8.0,6.0,8.0,7.0,7.0,7.0,7.0,9.0,9.0,5.0,7.0,7.0,8.0,8.0,6.0,6.0,7.0,5.0,7.0,6.0,6.0,7.0,8.0,8.0,8.0,6.0,7.0,7.0,6.0,8.0,7.0,9.0,8.0,8.0,7.0,6.0,8.0,7.0,7.0,7.0,8.0,7.0,7.0,5.0,6.0,6.0,7.0,7.0,7.0,6.0,7.0,8.0,6.0,7.0,8.0,7.0,6.0,5.0,7.0,6.0,7.0,6.0,7.0,7.0,6.0,5.0,6.0,8.0,8.0,6.0,8.0,10.0,8.0,9.0,7.0,7.0,8.0,9.0,7.0,7.0,8.0,7.0,7.0,10.0,7.0,7.0,10.0,8.0,5.0,6.0,8.0,9.0,8.0,7.0,6.0,6.0,6.0,6.0,8.0,7.0,8.0,6.0,7.0,8.0,6.0,8.0,5.0,5.0,6.0,9.0,8.0,6.0,6.0,7.0,8.0,8.0,7.0,6.0,6.0,6.0,5.0,5.0,6.0,8.0,8.0,7.0,8.0,6.0,6.0,6.0,7.0,8.0,8.0,6.0,8.0,8.0,10.0,8.0,7.0,7.0,8.0,7.0,8.0,6.0,8.0,7.0,6.0,7.0,6.0,11.0,8.0,9.0,4.0,4.0,9.0,8.0,7.0,6.0,7.0,6.0,6.0,8.0,7.0,4.0,8.0,7.0,8.0,8.0,8.0,8.0,6.0,6.0,6.0,6.0,6.0,6.0,6.0,8.0,9.0,5.0,4.0,5.0,7.0,6.0,8.0,5.0,6.0,7.0,6.0,6.0,8.0,10.0,6.0,8.0,8.0,6.0,10.0,8.0,6.0,5.0,5.0,4.0,9.0,7.0,6.0,7.0,7.0,7.0,7.0,7.0,6.0,7.0,7.0,4.0,4.0,6.0,6.0,7.0,4.0,6.0,7.0,8.0,5.0,7.0,9.0,5.0,6.0,6.0,8.0,8.0,6.0,8.0,8.0,8.0,8.0,8.0,7.0,8.0,8.0,6.0,8.0,7.0,7.0,7.0,7.0,9.0,9.0,5.0,7.0,7.0,8.0,8.0,6.0,6.0,7.0,5.0,7.0,6.0,6.0,7.0,8.0,8.0,8.0,6.0,7.0,7.0,6.0,8.0,7.0,9.0,8.0,8.0,7.0,6.0,8.0,7.0,7.0,7.0,8.0,7.0,7.0,5.0,6.0,6.0,7.0,7.0,7.0,6.0,7.0,8.0,6.0,7.0,8.0,7.0,6.0,5.0,7.0,6.0,7.0,6.0,7.0,7.0,6.0,5.0,6.0,8.0,8.0,6.0,8.0,10.0,8.0,9.0,7.0,7.0,8.0,9.0,7.0,7.0,8.0,7.0,7.0,10.0,7.0,7.0,10.0,8.0,5.0,6.0,8.0,9.0,8.0,7.0,6.0,6.0,6.0,6.0,8.0,7.0,8.0,6.0,7.0,8.0,6.0,8.0,5.0,5.0,6.0,9.0,8.0,6.0,6.0,7.0,8.0,8.0,7.0,6.0,6.0,6.0,5.0,5.0,6.0,8.0,8.0,7.0,8.0,6.0,6.0,6.0,7.0,null],\"yaxis\":\"y\",\"type\":\"bar\"}],                        {\"template\":{\"data\":{\"histogram2dcontour\":[{\"type\":\"histogram2dcontour\",\"colorbar\":{\"outlinewidth\":0,\"ticks\":\"\"},\"colorscale\":[[0.0,\"#0d0887\"],[0.1111111111111111,\"#46039f\"],[0.2222222222222222,\"#7201a8\"],[0.3333333333333333,\"#9c179e\"],[0.4444444444444444,\"#bd3786\"],[0.5555555555555556,\"#d8576b\"],[0.6666666666666666,\"#ed7953\"],[0.7777777777777778,\"#fb9f3a\"],[0.8888888888888888,\"#fdca26\"],[1.0,\"#f0f921\"]]}],\"choropleth\":[{\"type\":\"choropleth\",\"colorbar\":{\"outlinewidth\":0,\"ticks\":\"\"}}],\"histogram2d\":[{\"type\":\"histogram2d\",\"colorbar\":{\"outlinewidth\":0,\"ticks\":\"\"},\"colorscale\":[[0.0,\"#0d0887\"],[0.1111111111111111,\"#46039f\"],[0.2222222222222222,\"#7201a8\"],[0.3333333333333333,\"#9c179e\"],[0.4444444444444444,\"#bd3786\"],[0.5555555555555556,\"#d8576b\"],[0.6666666666666666,\"#ed7953\"],[0.7777777777777778,\"#fb9f3a\"],[0.8888888888888888,\"#fdca26\"],[1.0,\"#f0f921\"]]}],\"heatmap\":[{\"type\":\"heatmap\",\"colorbar\":{\"outlinewidth\":0,\"ticks\":\"\"},\"colorscale\":[[0.0,\"#0d0887\"],[0.1111111111111111,\"#46039f\"],[0.2222222222222222,\"#7201a8\"],[0.3333333333333333,\"#9c179e\"],[0.4444444444444444,\"#bd3786\"],[0.5555555555555556,\"#d8576b\"],[0.6666666666666666,\"#ed7953\"],[0.7777777777777778,\"#fb9f3a\"],[0.8888888888888888,\"#fdca26\"],[1.0,\"#f0f921\"]]}],\"heatmapgl\":[{\"type\":\"heatmapgl\",\"colorbar\":{\"outlinewidth\":0,\"ticks\":\"\"},\"colorscale\":[[0.0,\"#0d0887\"],[0.1111111111111111,\"#46039f\"],[0.2222222222222222,\"#7201a8\"],[0.3333333333333333,\"#9c179e\"],[0.4444444444444444,\"#bd3786\"],[0.5555555555555556,\"#d8576b\"],[0.6666666666666666,\"#ed7953\"],[0.7777777777777778,\"#fb9f3a\"],[0.8888888888888888,\"#fdca26\"],[1.0,\"#f0f921\"]]}],\"contourcarpet\":[{\"type\":\"contourcarpet\",\"colorbar\":{\"outlinewidth\":0,\"ticks\":\"\"}}],\"contour\":[{\"type\":\"contour\",\"colorbar\":{\"outlinewidth\":0,\"ticks\":\"\"},\"colorscale\":[[0.0,\"#0d0887\"],[0.1111111111111111,\"#46039f\"],[0.2222222222222222,\"#7201a8\"],[0.3333333333333333,\"#9c179e\"],[0.4444444444444444,\"#bd3786\"],[0.5555555555555556,\"#d8576b\"],[0.6666666666666666,\"#ed7953\"],[0.7777777777777778,\"#fb9f3a\"],[0.8888888888888888,\"#fdca26\"],[1.0,\"#f0f921\"]]}],\"surface\":[{\"type\":\"surface\",\"colorbar\":{\"outlinewidth\":0,\"ticks\":\"\"},\"colorscale\":[[0.0,\"#0d0887\"],[0.1111111111111111,\"#46039f\"],[0.2222222222222222,\"#7201a8\"],[0.3333333333333333,\"#9c179e\"],[0.4444444444444444,\"#bd3786\"],[0.5555555555555556,\"#d8576b\"],[0.6666666666666666,\"#ed7953\"],[0.7777777777777778,\"#fb9f3a\"],[0.8888888888888888,\"#fdca26\"],[1.0,\"#f0f921\"]]}],\"mesh3d\":[{\"type\":\"mesh3d\",\"colorbar\":{\"outlinewidth\":0,\"ticks\":\"\"}}],\"scatter\":[{\"fillpattern\":{\"fillmode\":\"overlay\",\"size\":10,\"solidity\":0.2},\"type\":\"scatter\"}],\"parcoords\":[{\"type\":\"parcoords\",\"line\":{\"colorbar\":{\"outlinewidth\":0,\"ticks\":\"\"}}}],\"scatterpolargl\":[{\"type\":\"scatterpolargl\",\"marker\":{\"colorbar\":{\"outlinewidth\":0,\"ticks\":\"\"}}}],\"bar\":[{\"error_x\":{\"color\":\"#2a3f5f\"},\"error_y\":{\"color\":\"#2a3f5f\"},\"marker\":{\"line\":{\"color\":\"#E5ECF6\",\"width\":0.5},\"pattern\":{\"fillmode\":\"overlay\",\"size\":10,\"solidity\":0.2}},\"type\":\"bar\"}],\"scattergeo\":[{\"type\":\"scattergeo\",\"marker\":{\"colorbar\":{\"outlinewidth\":0,\"ticks\":\"\"}}}],\"scatterpolar\":[{\"type\":\"scatterpolar\",\"marker\":{\"colorbar\":{\"outlinewidth\":0,\"ticks\":\"\"}}}],\"histogram\":[{\"marker\":{\"pattern\":{\"fillmode\":\"overlay\",\"size\":10,\"solidity\":0.2}},\"type\":\"histogram\"}],\"scattergl\":[{\"type\":\"scattergl\",\"marker\":{\"colorbar\":{\"outlinewidth\":0,\"ticks\":\"\"}}}],\"scatter3d\":[{\"type\":\"scatter3d\",\"line\":{\"colorbar\":{\"outlinewidth\":0,\"ticks\":\"\"}},\"marker\":{\"colorbar\":{\"outlinewidth\":0,\"ticks\":\"\"}}}],\"scattermapbox\":[{\"type\":\"scattermapbox\",\"marker\":{\"colorbar\":{\"outlinewidth\":0,\"ticks\":\"\"}}}],\"scatterternary\":[{\"type\":\"scatterternary\",\"marker\":{\"colorbar\":{\"outlinewidth\":0,\"ticks\":\"\"}}}],\"scattercarpet\":[{\"type\":\"scattercarpet\",\"marker\":{\"colorbar\":{\"outlinewidth\":0,\"ticks\":\"\"}}}],\"carpet\":[{\"aaxis\":{\"endlinecolor\":\"#2a3f5f\",\"gridcolor\":\"white\",\"linecolor\":\"white\",\"minorgridcolor\":\"white\",\"startlinecolor\":\"#2a3f5f\"},\"baxis\":{\"endlinecolor\":\"#2a3f5f\",\"gridcolor\":\"white\",\"linecolor\":\"white\",\"minorgridcolor\":\"white\",\"startlinecolor\":\"#2a3f5f\"},\"type\":\"carpet\"}],\"table\":[{\"cells\":{\"fill\":{\"color\":\"#EBF0F8\"},\"line\":{\"color\":\"white\"}},\"header\":{\"fill\":{\"color\":\"#C8D4E3\"},\"line\":{\"color\":\"white\"}},\"type\":\"table\"}],\"barpolar\":[{\"marker\":{\"line\":{\"color\":\"#E5ECF6\",\"width\":0.5},\"pattern\":{\"fillmode\":\"overlay\",\"size\":10,\"solidity\":0.2}},\"type\":\"barpolar\"}],\"pie\":[{\"automargin\":true,\"type\":\"pie\"}]},\"layout\":{\"autotypenumbers\":\"strict\",\"colorway\":[\"#636efa\",\"#EF553B\",\"#00cc96\",\"#ab63fa\",\"#FFA15A\",\"#19d3f3\",\"#FF6692\",\"#B6E880\",\"#FF97FF\",\"#FECB52\"],\"font\":{\"color\":\"#2a3f5f\"},\"hovermode\":\"closest\",\"hoverlabel\":{\"align\":\"left\"},\"paper_bgcolor\":\"white\",\"plot_bgcolor\":\"#E5ECF6\",\"polar\":{\"bgcolor\":\"#E5ECF6\",\"angularaxis\":{\"gridcolor\":\"white\",\"linecolor\":\"white\",\"ticks\":\"\"},\"radialaxis\":{\"gridcolor\":\"white\",\"linecolor\":\"white\",\"ticks\":\"\"}},\"ternary\":{\"bgcolor\":\"#E5ECF6\",\"aaxis\":{\"gridcolor\":\"white\",\"linecolor\":\"white\",\"ticks\":\"\"},\"baxis\":{\"gridcolor\":\"white\",\"linecolor\":\"white\",\"ticks\":\"\"},\"caxis\":{\"gridcolor\":\"white\",\"linecolor\":\"white\",\"ticks\":\"\"}},\"coloraxis\":{\"colorbar\":{\"outlinewidth\":0,\"ticks\":\"\"}},\"colorscale\":{\"sequential\":[[0.0,\"#0d0887\"],[0.1111111111111111,\"#46039f\"],[0.2222222222222222,\"#7201a8\"],[0.3333333333333333,\"#9c179e\"],[0.4444444444444444,\"#bd3786\"],[0.5555555555555556,\"#d8576b\"],[0.6666666666666666,\"#ed7953\"],[0.7777777777777778,\"#fb9f3a\"],[0.8888888888888888,\"#fdca26\"],[1.0,\"#f0f921\"]],\"sequentialminus\":[[0.0,\"#0d0887\"],[0.1111111111111111,\"#46039f\"],[0.2222222222222222,\"#7201a8\"],[0.3333333333333333,\"#9c179e\"],[0.4444444444444444,\"#bd3786\"],[0.5555555555555556,\"#d8576b\"],[0.6666666666666666,\"#ed7953\"],[0.7777777777777778,\"#fb9f3a\"],[0.8888888888888888,\"#fdca26\"],[1.0,\"#f0f921\"]],\"diverging\":[[0,\"#8e0152\"],[0.1,\"#c51b7d\"],[0.2,\"#de77ae\"],[0.3,\"#f1b6da\"],[0.4,\"#fde0ef\"],[0.5,\"#f7f7f7\"],[0.6,\"#e6f5d0\"],[0.7,\"#b8e186\"],[0.8,\"#7fbc41\"],[0.9,\"#4d9221\"],[1,\"#276419\"]]},\"xaxis\":{\"gridcolor\":\"white\",\"linecolor\":\"white\",\"ticks\":\"\",\"title\":{\"standoff\":15},\"zerolinecolor\":\"white\",\"automargin\":true,\"zerolinewidth\":2},\"yaxis\":{\"gridcolor\":\"white\",\"linecolor\":\"white\",\"ticks\":\"\",\"title\":{\"standoff\":15},\"zerolinecolor\":\"white\",\"automargin\":true,\"zerolinewidth\":2},\"scene\":{\"xaxis\":{\"backgroundcolor\":\"#E5ECF6\",\"gridcolor\":\"white\",\"linecolor\":\"white\",\"showbackground\":true,\"ticks\":\"\",\"zerolinecolor\":\"white\",\"gridwidth\":2},\"yaxis\":{\"backgroundcolor\":\"#E5ECF6\",\"gridcolor\":\"white\",\"linecolor\":\"white\",\"showbackground\":true,\"ticks\":\"\",\"zerolinecolor\":\"white\",\"gridwidth\":2},\"zaxis\":{\"backgroundcolor\":\"#E5ECF6\",\"gridcolor\":\"white\",\"linecolor\":\"white\",\"showbackground\":true,\"ticks\":\"\",\"zerolinecolor\":\"white\",\"gridwidth\":2}},\"shapedefaults\":{\"line\":{\"color\":\"#2a3f5f\"}},\"annotationdefaults\":{\"arrowcolor\":\"#2a3f5f\",\"arrowhead\":0,\"arrowwidth\":1},\"geo\":{\"bgcolor\":\"white\",\"landcolor\":\"#E5ECF6\",\"subunitcolor\":\"white\",\"showland\":true,\"showlakes\":true,\"lakecolor\":\"white\"},\"title\":{\"x\":0.05},\"mapbox\":{\"style\":\"light\"}}},\"xaxis\":{\"anchor\":\"y\",\"domain\":[0.0,1.0],\"title\":{\"text\":\"Stress\"}},\"yaxis\":{\"anchor\":\"x\",\"domain\":[0.0,1.0],\"title\":{\"text\":\"Sleep\"}},\"legend\":{\"tracegroupgap\":0},\"title\":{\"text\":\"Quality sleep in relation to stress\"},\"barmode\":\"group\"},                        {\"responsive\": true}                    ).then(function(){\n                            \nvar gd = document.getElementById('33269724-b99d-4f06-9e1c-38d51874a916');\nvar x = new MutationObserver(function (mutations, observer) {{\n        var display = window.getComputedStyle(gd).display;\n        if (!display || display === 'none') {{\n            console.log([gd, 'removed!']);\n            Plotly.purge(gd);\n            observer.disconnect();\n        }}\n}});\n\n// Listen for the removal of the full notebook cells\nvar notebookContainer = gd.closest('#notebook-container');\nif (notebookContainer) {{\n    x.observe(notebookContainer, {childList: true});\n}}\n\n// Listen for the clearing of the current output cell\nvar outputEl = gd.closest('.output');\nif (outputEl) {{\n    x.observe(outputEl, {childList: true});\n}}\n\n                        })                };                            </script>        </div>\n</body>\n</html>"
     },
     "execution_count": 8,
     "metadata": {
     },
     "output_type": "execute_result"
    }
   ],
   "source": [
    "diabetesdata = pd.read_csv(\"./Data/diabetes_dataset__2019.csv\")\n",
    "df = diabetesdata\n",
    "fig = px.bar(df, x=\"Stress\", y=\"Sleep\", barmode=\"group\", title=\"Quality sleep in relation to stress\")\n",
    "fig.show()"
   ]
  },
  {
   "cell_type": "code",
   "execution_count": 51,
   "metadata": {
    "collapsed": false
   },
   "outputs": [
    {
     "data": {
      "text/html": "<html>\n<head><meta charset=\"utf-8\" /></head>\n<body>\n    <div>            <script src=\"https://cdnjs.cloudflare.com/ajax/libs/mathjax/2.7.5/MathJax.js?config=TeX-AMS-MML_SVG\"></script><script type=\"text/javascript\">if (window.MathJax && window.MathJax.Hub && && window.MathJax.Hub.Config) {window.MathJax.Hub.Config({SVG: {font: \"STIX-Web\"}});}</script>                <script type=\"text/javascript\">window.PlotlyConfig = {MathJaxConfig: 'local'};</script>\n        <script src=\"https://cdn.plot.ly/plotly-2.12.1.min.js\"></script>                <div id=\"8dc5221c-2ed0-42ad-b7b3-2967bf3b4049\" class=\"plotly-graph-div\" style=\"height:525px; width:100%;\"></div>            <script type=\"text/javascript\">                                    window.PLOTLYENV=window.PLOTLYENV || {};                                    if (document.getElementById(\"8dc5221c-2ed0-42ad-b7b3-2967bf3b4049\")) {                    Plotly.newPlot(                        \"8dc5221c-2ed0-42ad-b7b3-2967bf3b4049\",                        [{\"hovertemplate\":\"highBP=yes<br>BMI=%{x}<br>Age=%{y}<extra></extra>\",\"legendgroup\":\"yes\",\"marker\":{\"color\":\"#636efa\",\"symbol\":\"circle\"},\"mode\":\"markers\",\"name\":\"yes\",\"orientation\":\"h\",\"showlegend\":true,\"x\":[39.0,28.0,21.0,26.0,24.0,27.0,40.0,24.0,19.0,27.0,19.0,26.0,26.0,18.0,19.0,33.0,31.0,20.0,26.0,15.0,20.0,24.0,32.0,30.0,21.0,26.0,null,null,31.0,33.0,30.0,21.0,26.0,42.0,27.0,36.0,33.0,33.0,38.0,23.0,27.0,24.0,27.0,28.0,28.0,17.0,26.0,29.0,33.0,36.0,35.0,22.0,22.0,27.0,23.0,27.0,29.0,39.0,28.0,21.0,26.0,24.0,27.0,40.0,24.0,19.0,27.0,19.0,26.0,26.0,18.0,19.0,33.0,31.0,20.0,26.0,15.0,20.0,24.0,32.0,30.0,21.0,26.0,28.0,26.0,31.0,33.0,30.0,21.0,26.0,42.0,27.0,36.0,33.0,33.0,38.0,23.0,27.0,24.0,27.0,28.0,28.0,17.0,26.0,29.0,33.0,36.0,35.0,22.0,22.0,27.0,23.0,27.0,29.0,39.0,28.0,21.0,26.0,24.0,27.0,40.0,24.0,19.0,27.0,19.0,26.0,26.0,18.0,19.0,33.0,31.0,20.0,26.0,15.0,20.0,24.0,32.0,30.0,21.0,26.0,28.0,26.0,31.0,33.0,30.0,21.0,26.0,42.0,27.0,36.0,33.0,33.0,38.0,23.0,27.0,24.0,27.0,28.0,28.0,17.0,26.0,29.0,33.0,36.0,35.0,22.0,22.0,27.0,23.0,27.0,29.0,39.0,28.0,21.0,26.0,24.0,27.0,40.0,24.0,19.0,27.0,19.0,26.0,26.0,18.0,19.0,33.0,31.0,20.0,26.0,15.0,20.0,24.0,32.0,30.0,21.0,26.0,28.0,26.0,31.0,33.0,30.0,21.0,26.0,45.0,27.0,36.0,33.0,33.0,38.0,23.0,27.0,24.0,27.0,28.0,28.0,17.0,29.0,29.0,33.0,36.0,35.0,22.0,22.0,27.0,23.0,27.0,30.0],\"xaxis\":\"x\",\"y\":[\"50-59\",\"50-59\",\"40-49\",\"60 or older\",\"50-59\",\"40-49\",\"50-59\",\"60 or older\",\"60 or older\",\"60 or older\",\"50-59\",\"40-49\",\"less than 40\",\"60 or older\",\"60 or older\",\"60 or older\",\"50-59\",\"50-59\",\"60 or older\",\"60 or older\",\"50-59\",\"less than 40\",\"60 or older\",\"50-59\",\"60 or older\",\"60 or older\",\"50-59\",\"less than 40\",\"50-59\",\"50-59\",\"less than 40\",\"40-49\",\"40-49\",\"50-59\",\"50-59\",\"40-49\",\"50-59\",\"60 or older\",\"less than 40\",\"60 or older\",\"60 or older\",\"60 or older\",\"less than 40\",\"less than 40\",\"less than 40\",\"less than 40\",\"less than 40\",\"less than 40\",\"40-49\",\"50-59\",\"40-49\",\"50-59\",\"40-49\",\"60 or older\",\"60 or older\",\"60 or older\",\"60 or older\",\"50-59\",\"50-59\",\"40-49\",\"60 or older\",\"50-59\",\"40-49\",\"50-59\",\"60 or older\",\"60 or older\",\"60 or older\",\"50-59\",\"40-49\",\"less than 40\",\"60 or older\",\"60 or older\",\"60 or older\",\"50-59\",\"50-59\",\"60 or older\",\"60 or older\",\"50-59\",\"less than 40\",\"60 or older\",\"50-59\",\"60 or older\",\"60 or older\",\"50-59\",\"less than 40\",\"50-59\",\"50-59\",\"less than 40\",\"40-49\",\"40-49\",\"50-59\",\"50-59\",\"40-49\",\"50-59\",\"60 or older\",\"less than 40\",\"60 or older\",\"60 or older\",\"60 or older\",\"less than 40\",\"less than 40\",\"less than 40\",\"less than 40\",\"less than 40\",\"less than 40\",\"40-49\",\"50-59\",\"40-49\",\"50-59\",\"40-49\",\"60 or older\",\"60 or older\",\"60 or older\",\"60 or older\",\"50-59\",\"50-59\",\"40-49\",\"60 or older\",\"50-59\",\"40-49\",\"50-59\",\"60 or older\",\"60 or older\",\"60 or older\",\"50-59\",\"40-49\",\"less than 40\",\"60 or older\",\"60 or older\",\"60 or older\",\"50-59\",\"50-59\",\"60 or older\",\"60 or older\",\"50-59\",\"less than 40\",\"60 or older\",\"50-59\",\"60 or older\",\"60 or older\",\"50-59\",\"less than 40\",\"50-59\",\"50-59\",\"less than 40\",\"40-49\",\"40-49\",\"50-59\",\"50-59\",\"40-49\",\"50-59\",\"60 or older\",\"less than 40\",\"60 or older\",\"60 or older\",\"60 or older\",\"less than 40\",\"less than 40\",\"less than 40\",\"less than 40\",\"less than 40\",\"less than 40\",\"40-49\",\"50-59\",\"40-49\",\"50-59\",\"40-49\",\"60 or older\",\"60 or older\",\"60 or older\",\"60 or older\",\"50-59\",\"50-59\",\"40-49\",\"60 or older\",\"50-59\",\"40-49\",\"50-59\",\"60 or older\",\"60 or older\",\"60 or older\",\"50-59\",\"40-49\",\"less than 40\",\"60 or older\",\"60 or older\",\"60 or older\",\"50-59\",\"50-59\",\"60 or older\",\"60 or older\",\"50-59\",\"less than 40\",\"60 or older\",\"50-59\",\"60 or older\",\"60 or older\",\"50-59\",\"less than 40\",\"50-59\",\"50-59\",\"less than 40\",\"40-49\",\"40-49\",\"50-59\",\"50-59\",\"40-49\",\"50-59\",\"60 or older\",\"less than 40\",\"60 or older\",\"60 or older\",\"60 or older\",\"less than 40\",\"less than 40\",\"less than 40\",\"less than 40\",\"less than 40\",\"less than 40\",\"40-49\",\"50-59\",\"40-49\",\"50-59\",\"40-49\",\"60 or older\",\"60 or older\",\"60 or older\",\"60 or older\"],\"yaxis\":\"y\",\"type\":\"scatter\"},{\"hovertemplate\":\"highBP=no<br>BMI=%{x}<br>Age=%{y}<extra></extra>\",\"legendgroup\":\"no\",\"marker\":{\"color\":\"#EF553B\",\"symbol\":\"circle\"},\"mode\":\"markers\",\"name\":\"no\",\"orientation\":\"h\",\"showlegend\":true,\"x\":[24.0,23.0,27.0,24.0,20.0,23.0,20.0,20.0,26.0,21.0,22.0,15.0,34.0,22.0,24.0,24.0,22.0,30.0,24.0,24.0,20.0,24.0,21.0,20.0,27.0,29.0,18.0,32.0,21.0,31.0,26.0,21.0,28.0,21.0,27.0,24.0,36.0,21.0,22.0,21.0,38.0,35.0,18.0,23.0,26.0,30.0,18.0,29.0,21.0,24.0,31.0,22.0,19.0,27.0,21.0,26.0,23.0,24.0,23.0,23.0,28.0,24.0,24.0,17.0,28.0,23.0,24.0,19.0,22.0,23.0,18.0,21.0,21.0,21.0,22.0,25.0,24.0,21.0,26.0,27.0,26.0,21.0,22.0,23.0,28.0,33.0,24.0,28.0,30.0,null,27.0,22.0,null,18.0,22.0,23.0,29.0,17.0,24.0,26.0,27.0,20.0,22.0,21.0,26.0,21.0,21.0,24.0,24.0,26.0,32.0,34.0,30.0,33.0,23.0,25.0,28.0,28.0,33.0,33.0,28.0,28.0,33.0,28.0,28.0,33.0,38.0,38.0,36.0,33.0,33.0,38.0,36.0,33.0,38.0,38.0,33.0,32.0,33.0,22.0,24.0,18.0,20.0,19.0,28.0,19.0,25.0,25.0,24.0,19.0,25.0,28.0,25.0,24.0,21.0,23.0,20.0,18.0,25.0,27.0,20.0,20.0,21.0,29.0,24.0,23.0,23.0,29.0,19.0,23.0,17.0,23.0,24.0,25.0,35.0,34.0,30.0,28.0,24.0,30.0,22.0,24.0,23.0,27.0,24.0,20.0,23.0,20.0,20.0,26.0,21.0,22.0,15.0,34.0,22.0,24.0,24.0,22.0,30.0,24.0,24.0,20.0,24.0,21.0,20.0,27.0,29.0,18.0,32.0,21.0,31.0,26.0,21.0,28.0,21.0,27.0,24.0,36.0,21.0,22.0,21.0,38.0,35.0,18.0,23.0,26.0,30.0,18.0,29.0,21.0,24.0,31.0,22.0,19.0,27.0,21.0,26.0,23.0,24.0,23.0,23.0,28.0,24.0,24.0,17.0,28.0,23.0,24.0,19.0,22.0,23.0,18.0,21.0,21.0,21.0,22.0,25.0,24.0,21.0,26.0,27.0,26.0,21.0,22.0,23.0,28.0,33.0,24.0,28.0,30.0,27.0,27.0,22.0,23.0,18.0,22.0,23.0,29.0,17.0,24.0,26.0,27.0,20.0,22.0,21.0,26.0,21.0,21.0,24.0,24.0,26.0,32.0,34.0,30.0,33.0,23.0,25.0,28.0,28.0,33.0,33.0,28.0,28.0,33.0,28.0,28.0,33.0,38.0,38.0,36.0,33.0,33.0,38.0,36.0,33.0,38.0,38.0,33.0,32.0,33.0,22.0,24.0,18.0,20.0,19.0,28.0,19.0,25.0,25.0,24.0,19.0,25.0,28.0,25.0,24.0,21.0,23.0,20.0,18.0,25.0,27.0,20.0,20.0,21.0,29.0,24.0,23.0,23.0,29.0,19.0,23.0,17.0,23.0,24.0,25.0,35.0,34.0,30.0,28.0,24.0,30.0,22.0,24.0,23.0,27.0,24.0,20.0,23.0,20.0,20.0,26.0,21.0,22.0,15.0,34.0,22.0,24.0,24.0,22.0,30.0,24.0,24.0,20.0,24.0,21.0,20.0,27.0,29.0,18.0,32.0,21.0,31.0,26.0,21.0,28.0,21.0,27.0,24.0,36.0,21.0,22.0,21.0,38.0,35.0,18.0,23.0,26.0,30.0,18.0,29.0,21.0,24.0,31.0,22.0,19.0,27.0,21.0,26.0,23.0,24.0,23.0,23.0,28.0,24.0,24.0,17.0,28.0,23.0,24.0,19.0,22.0,23.0,18.0,21.0,21.0,21.0,22.0,25.0,24.0,21.0,26.0,27.0,26.0,21.0,22.0,23.0,28.0,33.0,24.0,28.0,30.0,27.0,27.0,22.0,23.0,18.0,22.0,23.0,29.0,17.0,24.0,26.0,27.0,20.0,22.0,21.0,26.0,21.0,21.0,24.0,24.0,26.0,32.0,34.0,30.0,33.0,23.0,25.0,28.0,28.0,33.0,33.0,28.0,28.0,33.0,28.0,28.0,33.0,38.0,38.0,36.0,33.0,33.0,38.0,36.0,33.0,38.0,38.0,33.0,32.0,33.0,22.0,24.0,18.0,20.0,19.0,28.0,19.0,25.0,25.0,24.0,19.0,25.0,28.0,25.0,24.0,21.0,23.0,20.0,18.0,25.0,27.0,20.0,20.0,21.0,29.0,24.0,23.0,23.0,29.0,19.0,23.0,17.0,23.0,24.0,25.0,35.0,34.0,30.0,28.0,24.0,30.0,22.0,24.0,23.0,27.0,24.0,20.0,23.0,20.0,20.0,26.0,21.0,22.0,15.0,34.0,22.0,24.0,24.0,22.0,30.0,24.0,24.0,20.0,24.0,21.0,20.0,27.0,29.0,18.0,32.0,21.0,31.0,26.0,21.0,28.0,21.0,27.0,24.0,36.0,21.0,22.0,21.0,38.0,35.0,18.0,23.0,26.0,30.0,18.0,29.0,21.0,24.0,31.0,22.0,19.0,27.0,21.0,26.0,23.0,24.0,23.0,23.0,28.0,24.0,24.0,17.0,28.0,23.0,24.0,19.0,22.0,23.0,18.0,21.0,21.0,21.0,22.0,25.0,24.0,21.0,26.0,27.0,26.0,21.0,22.0,23.0,28.0,33.0,24.0,28.0,30.0,27.0,27.0,22.0,23.0,18.0,22.0,23.0,29.0,17.0,24.0,26.0,27.0,20.0,23.0,21.0,26.0,21.0,21.0,24.0,24.0,26.0,32.0,34.0,30.0,33.0,23.0,25.0,28.0,28.0,33.0,33.0,28.0,28.0,33.0,28.0,28.0,33.0,38.0,38.0,36.0,33.0,33.0,38.0,36.0,33.0,38.0,38.0,33.0,32.0,33.0,22.0,25.0,18.0,20.0,19.0,28.0,19.0,25.0,25.0,24.0,19.0,25.0,28.0,25.0,24.0,21.0,23.0,20.0,18.0,25.0,27.0,20.0,20.0,21.0,29.0,24.0,23.0,23.0,29.0,19.0,23.0,17.0,23.0,24.0,25.0,35.0,34.0,30.0,28.0,24.0,30.0,25.0],\"xaxis\":\"x\",\"y\":[\"40-49\",\"50-59\",\"40-49\",\"less than 40\",\"less than 40\",\"40-49\",\"less than 40\",\"less than 40\",\"40-49\",\"less than 40\",\"less than 40\",\"less than 40\",\"40-49\",\"50-59\",\"less than 40\",\"40-49\",\"less than 40\",\"less than 40\",\"less than 40\",\"less than 40\",\"less than 40\",\"less than 40\",\"less than 40\",\"less than 40\",\"50-59\",\"40-49\",\"60 or older\",\"less than 40\",\"40-49\",\"60 or older\",\"60 or older\",\"60 or older\",\"40-49\",\"40-49\",\"60 or older\",\"60 or older\",\"less than 40\",\"less than 40\",\"40-49\",\"40-49\",\"50-59\",\"60 or older\",\"60 or older\",\"40-49\",\"less than 40\",\"less than 40\",\"less than 40\",\"less than 40\",\"50-59\",\"less than 40\",\"60 or older\",\"less than 40\",\"less than 40\",\"50-59\",\"50-59\",\"60 or older\",\"50-59\",\"50-59\",\"40-49\",\"50-59\",\"50-59\",\"less than 40\",\"60 or older\",\"less than 40\",\"less than 40\",\"less than 40\",\"less than 40\",\"less than 40\",\"less than 40\",\"less than 40\",\"less than 40\",\"less than 40\",\"less than 40\",\"less than 40\",\"less than 40\",\"less than 40\",\"less than 40\",\"less than 40\",\"50-59\",\"50-59\",\"less than 40\",\"less than 40\",\"40-49\",\"60 or older\",\"60 or older\",\"40-49\",\"less than 40\",\"50-59\",\"50-59\",\"less than 40\",\"less than 40\",\"less than 40\",\"less than 40\",\"less than 40\",\"less than 40\",\"less than 40\",\"less than 40\",\"40-49\",\"50-59\",\"60 or older\",\"less than 40\",\"less than 40\",\"less than 40\",\"less than 40\",\"less than 40\",\"less than 40\",\"less than 40\",\"less than 40\",\"less than 40\",\"less than 40\",\"50-59\",\"40-49\",\"less than 40\",\"less than 40\",\"less than 40\",\"40-49\",\"less than 40\",\"40-49\",\"40-49\",\"50-59\",\"50-59\",\"less than 40\",\"less than 40\",\"less than 40\",\"40-49\",\"less than 40\",\"40-49\",\"40-49\",\"40-49\",\"less than 40\",\"less than 40\",\"40-49\",\"40-49\",\"less than 40\",\"50-59\",\"60 or older\",\"less than 40\",\"less than 40\",\"less than 40\",\"40-49\",\"40-49\",\"less than 40\",\"less than 40\",\"less than 40\",\"less than 40\",\"less than 40\",\"less than 40\",\"less than 40\",\"less than 40\",\"less than 40\",\"less than 40\",\"less than 40\",\"less than 40\",\"less than 40\",\"less than 40\",\"less than 40\",\"less than 40\",\"less than 40\",\"less than 40\",\"less than 40\",\"less than 40\",\"less than 40\",\"less than 40\",\"less than 40\",\"less than 40\",\"less than 40\",\"less than 40\",\"less than 40\",\"less than 40\",\"less than 40\",\"less than 40\",\"50-59\",\"40-49\",\"less than 40\",\"50-59\",\"40-49\",\"60 or older\",\"less than 40\",\"40-49\",\"less than 40\",\"less than 40\",\"40-49\",\"50-59\",\"40-49\",\"less than 40\",\"less than 40\",\"40-49\",\"less than 40\",\"less than 40\",\"40-49\",\"less than 40\",\"less than 40\",\"less than 40\",\"40-49\",\"50-59\",\"less than 40\",\"40-49\",\"less than 40\",\"less than 40\",\"less than 40\",\"less than 40\",\"less than 40\",\"less than 40\",\"less than 40\",\"less than 40\",\"50-59\",\"40-49\",\"60 or older\",\"less than 40\",\"40-49\",\"60 or older\",\"60 or older\",\"60 or older\",\"40-49\",\"40-49\",\"60 or older\",\"60 or older\",\"less than 40\",\"less than 40\",\"40-49\",\"40-49\",\"50-59\",\"60 or older\",\"60 or older\",\"40-49\",\"less than 40\",\"less than 40\",\"less than 40\",\"less than 40\",\"50-59\",\"less than 40\",\"60 or older\",\"less than 40\",\"less than 40\",\"50-59\",\"50-59\",\"60 or older\",\"50-59\",\"50-59\",\"40-49\",\"50-59\",\"50-59\",\"less than 40\",\"60 or older\",\"less than 40\",\"less than 40\",\"less than 40\",\"less than 40\",\"less than 40\",\"less than 40\",\"less than 40\",\"less than 40\",\"less than 40\",\"less than 40\",\"less than 40\",\"less than 40\",\"less than 40\",\"less than 40\",\"less than 40\",\"50-59\",\"50-59\",\"less than 40\",\"less than 40\",\"40-49\",\"60 or older\",\"60 or older\",\"40-49\",\"less than 40\",\"50-59\",\"50-59\",\"less than 40\",\"less than 40\",\"less than 40\",\"less than 40\",\"less than 40\",\"less than 40\",\"less than 40\",\"less than 40\",\"40-49\",\"50-59\",\"60 or older\",\"less than 40\",\"less than 40\",\"less than 40\",\"less than 40\",\"less than 40\",\"less than 40\",\"less than 40\",\"less than 40\",\"less than 40\",\"less than 40\",\"50-59\",\"40-49\",\"less than 40\",\"less than 40\",\"less than 40\",\"40-49\",\"less than 40\",\"40-49\",\"40-49\",\"50-59\",\"50-59\",\"less than 40\",\"less than 40\",\"less than 40\",\"40-49\",\"less than 40\",\"40-49\",\"40-49\",\"40-49\",\"less than 40\",\"less than 40\",\"40-49\",\"40-49\",\"less than 40\",\"50-59\",\"60 or older\",\"less than 40\",\"less than 40\",\"less than 40\",\"40-49\",\"40-49\",\"less than 40\",\"less than 40\",\"less than 40\",\"less than 40\",\"less than 40\",\"less than 40\",\"less than 40\",\"less than 40\",\"less than 40\",\"less than 40\",\"less than 40\",\"less than 40\",\"less than 40\",\"less than 40\",\"less than 40\",\"less than 40\",\"less than 40\",\"less than 40\",\"less than 40\",\"less than 40\",\"less than 40\",\"less than 40\",\"less than 40\",\"less than 40\",\"less than 40\",\"less than 40\",\"less than 40\",\"less than 40\",\"less than 40\",\"less than 40\",\"50-59\",\"40-49\",\"less than 40\",\"50-59\",\"40-49\",\"60 or older\",\"less than 40\",\"40-49\",\"less than 40\",\"less than 40\",\"40-49\",\"50-59\",\"40-49\",\"less than 40\",\"less than 40\",\"40-49\",\"less than 40\",\"less than 40\",\"40-49\",\"less than 40\",\"less than 40\",\"less than 40\",\"40-49\",\"50-59\",\"less than 40\",\"40-49\",\"less than 40\",\"less than 40\",\"less than 40\",\"less than 40\",\"less than 40\",\"less than 40\",\"less than 40\",\"less than 40\",\"50-59\",\"40-49\",\"60 or older\",\"less than 40\",\"40-49\",\"60 or older\",\"60 or older\",\"60 or older\",\"40-49\",\"40-49\",\"60 or older\",\"60 or older\",\"less than 40\",\"less than 40\",\"40-49\",\"40-49\",\"50-59\",\"60 or older\",\"60 or older\",\"40-49\",\"less than 40\",\"less than 40\",\"less than 40\",\"less than 40\",\"50-59\",\"less than 40\",\"60 or older\",\"less than 40\",\"less than 40\",\"50-59\",\"50-59\",\"60 or older\",\"50-59\",\"50-59\",\"40-49\",\"50-59\",\"50-59\",\"less than 40\",\"60 or older\",\"less than 40\",\"less than 40\",\"less than 40\",\"less than 40\",\"less than 40\",\"less than 40\",\"less than 40\",\"less than 40\",\"less than 40\",\"less than 40\",\"less than 40\",\"less than 40\",\"less than 40\",\"less than 40\",\"less than 40\",\"50-59\",\"50-59\",\"less than 40\",\"less than 40\",\"40-49\",\"60 or older\",\"60 or older\",\"40-49\",\"less than 40\",\"50-59\",\"50-59\",\"less than 40\",\"less than 40\",\"less than 40\",\"less than 40\",\"less than 40\",\"less than 40\",\"less than 40\",\"less than 40\",\"40-49\",\"50-59\",\"60 or older\",\"less than 40\",\"less than 40\",\"less than 40\",\"less than 40\",\"less than 40\",\"less than 40\",\"less than 40\",\"less than 40\",\"less than 40\",\"less than 40\",\"50-59\",\"40-49\",\"less than 40\",\"less than 40\",\"less than 40\",\"40-49\",\"less than 40\",\"40-49\",\"40-49\",\"50-59\",\"50-59\",\"less than 40\",\"less than 40\",\"less than 40\",\"40-49\",\"less than 40\",\"40-49\",\"40-49\",\"40-49\",\"less than 40\",\"less than 40\",\"40-49\",\"40-49\",\"less than 40\",\"50-59\",\"60 or older\",\"less than 40\",\"less than 40\",\"less than 40\",\"40-49\",\"40-49\",\"less than 40\",\"less than 40\",\"less than 40\",\"less than 40\",\"less than 40\",\"less than 40\",\"less than 40\",\"less than 40\",\"less than 40\",\"less than 40\",\"less than 40\",\"less than 40\",\"less than 40\",\"less than 40\",\"less than 40\",\"less than 40\",\"less than 40\",\"less than 40\",\"less than 40\",\"less than 40\",\"less than 40\",\"less than 40\",\"less than 40\",\"less than 40\",\"less than 40\",\"less than 40\",\"less than 40\",\"less than 40\",\"less than 40\",\"less than 40\",\"50-59\",\"40-49\",\"less than 40\",\"50-59\",\"40-49\",\"60 or older\",\"less than 40\",\"40-49\",\"less than 40\",\"less than 40\",\"40-49\",\"50-59\",\"40-49\",\"less than 40\",\"less than 40\",\"40-49\",\"less than 40\",\"less than 40\",\"40-49\",\"less than 40\",\"less than 40\",\"less than 40\",\"40-49\",\"50-59\",\"less than 40\",\"40-49\",\"less than 40\",\"less than 40\",\"less than 40\",\"less than 40\",\"less than 40\",\"less than 40\",\"less than 40\",\"less than 40\",\"50-59\",\"40-49\",\"60 or older\",\"less than 40\",\"40-49\",\"60 or older\",\"60 or older\",\"60 or older\",\"40-49\",\"40-49\",\"60 or older\",\"60 or older\",\"less than 40\",\"less than 40\",\"40-49\",\"40-49\",\"50-59\",\"60 or older\",\"60 or older\",\"40-49\",\"less than 40\",\"less than 40\",\"less than 40\",\"less than 40\",\"50-59\",\"less than 40\",\"60 or older\",\"less than 40\",\"less than 40\",\"50-59\",\"50-59\",\"60 or older\",\"50-59\",\"50-59\",\"40-49\",\"50-59\",\"50-59\",\"less than 40\",\"60 or older\",\"less than 40\",\"less than 40\",\"less than 40\",\"less than 40\",\"less than 40\",\"less than 40\",\"less than 40\",\"less than 40\",\"less than 40\",\"less than 40\",\"less than 40\",\"less than 40\",\"less than 40\",\"less than 40\",\"less than 40\",\"50-59\",\"50-59\",\"less than 40\",\"less than 40\",\"40-49\",\"60 or older\",\"60 or older\",\"40-49\",\"less than 40\",\"50-59\",\"50-59\",\"less than 40\",\"less than 40\",\"less than 40\",\"less than 40\",\"less than 40\",\"less than 40\",\"less than 40\",\"less than 40\",\"40-49\",\"50-59\",\"60 or older\",\"less than 40\",\"less than 40\",\"less than 40\",\"less than 40\",\"less than 40\",\"less than 40\",\"less than 40\",\"less than 40\",\"less than 40\",\"less than 40\",\"50-59\",\"40-49\",\"less than 40\",\"less than 40\",\"less than 40\",\"40-49\",\"less than 40\",\"40-49\",\"40-49\",\"50-59\",\"50-59\",\"less than 40\",\"less than 40\",\"less than 40\",\"40-49\",\"less than 40\",\"40-49\",\"40-49\",\"40-49\",\"less than 40\",\"less than 40\",\"40-49\",\"40-49\",\"less than 40\",\"50-59\",\"60 or older\",\"less than 40\",\"less than 40\",\"less than 40\",\"40-49\",\"40-49\",\"less than 40\",\"less than 40\",\"less than 40\",\"less than 40\",\"less than 40\",\"less than 40\",\"less than 40\",\"less than 40\",\"less than 40\",\"less than 40\",\"less than 40\",\"less than 40\",\"less than 40\",\"less than 40\",\"less than 40\",\"less than 40\",\"less than 40\",\"less than 40\",\"less than 40\",\"less than 40\",\"less than 40\",\"less than 40\",\"less than 40\",\"less than 40\",\"less than 40\",\"less than 40\",\"less than 40\",\"less than 40\",\"less than 40\",\"less than 40\",\"50-59\",\"40-49\",\"less than 40\",\"50-59\",\"40-49\",\"60 or older\",\"less than 40\",\"40-49\",\"less than 40\",\"less than 40\"],\"yaxis\":\"y\",\"type\":\"scatter\"}],                        {\"template\":{\"data\":{\"histogram2dcontour\":[{\"type\":\"histogram2dcontour\",\"colorbar\":{\"outlinewidth\":0,\"ticks\":\"\"},\"colorscale\":[[0.0,\"#0d0887\"],[0.1111111111111111,\"#46039f\"],[0.2222222222222222,\"#7201a8\"],[0.3333333333333333,\"#9c179e\"],[0.4444444444444444,\"#bd3786\"],[0.5555555555555556,\"#d8576b\"],[0.6666666666666666,\"#ed7953\"],[0.7777777777777778,\"#fb9f3a\"],[0.8888888888888888,\"#fdca26\"],[1.0,\"#f0f921\"]]}],\"choropleth\":[{\"type\":\"choropleth\",\"colorbar\":{\"outlinewidth\":0,\"ticks\":\"\"}}],\"histogram2d\":[{\"type\":\"histogram2d\",\"colorbar\":{\"outlinewidth\":0,\"ticks\":\"\"},\"colorscale\":[[0.0,\"#0d0887\"],[0.1111111111111111,\"#46039f\"],[0.2222222222222222,\"#7201a8\"],[0.3333333333333333,\"#9c179e\"],[0.4444444444444444,\"#bd3786\"],[0.5555555555555556,\"#d8576b\"],[0.6666666666666666,\"#ed7953\"],[0.7777777777777778,\"#fb9f3a\"],[0.8888888888888888,\"#fdca26\"],[1.0,\"#f0f921\"]]}],\"heatmap\":[{\"type\":\"heatmap\",\"colorbar\":{\"outlinewidth\":0,\"ticks\":\"\"},\"colorscale\":[[0.0,\"#0d0887\"],[0.1111111111111111,\"#46039f\"],[0.2222222222222222,\"#7201a8\"],[0.3333333333333333,\"#9c179e\"],[0.4444444444444444,\"#bd3786\"],[0.5555555555555556,\"#d8576b\"],[0.6666666666666666,\"#ed7953\"],[0.7777777777777778,\"#fb9f3a\"],[0.8888888888888888,\"#fdca26\"],[1.0,\"#f0f921\"]]}],\"heatmapgl\":[{\"type\":\"heatmapgl\",\"colorbar\":{\"outlinewidth\":0,\"ticks\":\"\"},\"colorscale\":[[0.0,\"#0d0887\"],[0.1111111111111111,\"#46039f\"],[0.2222222222222222,\"#7201a8\"],[0.3333333333333333,\"#9c179e\"],[0.4444444444444444,\"#bd3786\"],[0.5555555555555556,\"#d8576b\"],[0.6666666666666666,\"#ed7953\"],[0.7777777777777778,\"#fb9f3a\"],[0.8888888888888888,\"#fdca26\"],[1.0,\"#f0f921\"]]}],\"contourcarpet\":[{\"type\":\"contourcarpet\",\"colorbar\":{\"outlinewidth\":0,\"ticks\":\"\"}}],\"contour\":[{\"type\":\"contour\",\"colorbar\":{\"outlinewidth\":0,\"ticks\":\"\"},\"colorscale\":[[0.0,\"#0d0887\"],[0.1111111111111111,\"#46039f\"],[0.2222222222222222,\"#7201a8\"],[0.3333333333333333,\"#9c179e\"],[0.4444444444444444,\"#bd3786\"],[0.5555555555555556,\"#d8576b\"],[0.6666666666666666,\"#ed7953\"],[0.7777777777777778,\"#fb9f3a\"],[0.8888888888888888,\"#fdca26\"],[1.0,\"#f0f921\"]]}],\"surface\":[{\"type\":\"surface\",\"colorbar\":{\"outlinewidth\":0,\"ticks\":\"\"},\"colorscale\":[[0.0,\"#0d0887\"],[0.1111111111111111,\"#46039f\"],[0.2222222222222222,\"#7201a8\"],[0.3333333333333333,\"#9c179e\"],[0.4444444444444444,\"#bd3786\"],[0.5555555555555556,\"#d8576b\"],[0.6666666666666666,\"#ed7953\"],[0.7777777777777778,\"#fb9f3a\"],[0.8888888888888888,\"#fdca26\"],[1.0,\"#f0f921\"]]}],\"mesh3d\":[{\"type\":\"mesh3d\",\"colorbar\":{\"outlinewidth\":0,\"ticks\":\"\"}}],\"scatter\":[{\"fillpattern\":{\"fillmode\":\"overlay\",\"size\":10,\"solidity\":0.2},\"type\":\"scatter\"}],\"parcoords\":[{\"type\":\"parcoords\",\"line\":{\"colorbar\":{\"outlinewidth\":0,\"ticks\":\"\"}}}],\"scatterpolargl\":[{\"type\":\"scatterpolargl\",\"marker\":{\"colorbar\":{\"outlinewidth\":0,\"ticks\":\"\"}}}],\"bar\":[{\"error_x\":{\"color\":\"#2a3f5f\"},\"error_y\":{\"color\":\"#2a3f5f\"},\"marker\":{\"line\":{\"color\":\"#E5ECF6\",\"width\":0.5},\"pattern\":{\"fillmode\":\"overlay\",\"size\":10,\"solidity\":0.2}},\"type\":\"bar\"}],\"scattergeo\":[{\"type\":\"scattergeo\",\"marker\":{\"colorbar\":{\"outlinewidth\":0,\"ticks\":\"\"}}}],\"scatterpolar\":[{\"type\":\"scatterpolar\",\"marker\":{\"colorbar\":{\"outlinewidth\":0,\"ticks\":\"\"}}}],\"histogram\":[{\"marker\":{\"pattern\":{\"fillmode\":\"overlay\",\"size\":10,\"solidity\":0.2}},\"type\":\"histogram\"}],\"scattergl\":[{\"type\":\"scattergl\",\"marker\":{\"colorbar\":{\"outlinewidth\":0,\"ticks\":\"\"}}}],\"scatter3d\":[{\"type\":\"scatter3d\",\"line\":{\"colorbar\":{\"outlinewidth\":0,\"ticks\":\"\"}},\"marker\":{\"colorbar\":{\"outlinewidth\":0,\"ticks\":\"\"}}}],\"scattermapbox\":[{\"type\":\"scattermapbox\",\"marker\":{\"colorbar\":{\"outlinewidth\":0,\"ticks\":\"\"}}}],\"scatterternary\":[{\"type\":\"scatterternary\",\"marker\":{\"colorbar\":{\"outlinewidth\":0,\"ticks\":\"\"}}}],\"scattercarpet\":[{\"type\":\"scattercarpet\",\"marker\":{\"colorbar\":{\"outlinewidth\":0,\"ticks\":\"\"}}}],\"carpet\":[{\"aaxis\":{\"endlinecolor\":\"#2a3f5f\",\"gridcolor\":\"white\",\"linecolor\":\"white\",\"minorgridcolor\":\"white\",\"startlinecolor\":\"#2a3f5f\"},\"baxis\":{\"endlinecolor\":\"#2a3f5f\",\"gridcolor\":\"white\",\"linecolor\":\"white\",\"minorgridcolor\":\"white\",\"startlinecolor\":\"#2a3f5f\"},\"type\":\"carpet\"}],\"table\":[{\"cells\":{\"fill\":{\"color\":\"#EBF0F8\"},\"line\":{\"color\":\"white\"}},\"header\":{\"fill\":{\"color\":\"#C8D4E3\"},\"line\":{\"color\":\"white\"}},\"type\":\"table\"}],\"barpolar\":[{\"marker\":{\"line\":{\"color\":\"#E5ECF6\",\"width\":0.5},\"pattern\":{\"fillmode\":\"overlay\",\"size\":10,\"solidity\":0.2}},\"type\":\"barpolar\"}],\"pie\":[{\"automargin\":true,\"type\":\"pie\"}]},\"layout\":{\"autotypenumbers\":\"strict\",\"colorway\":[\"#636efa\",\"#EF553B\",\"#00cc96\",\"#ab63fa\",\"#FFA15A\",\"#19d3f3\",\"#FF6692\",\"#B6E880\",\"#FF97FF\",\"#FECB52\"],\"font\":{\"color\":\"#2a3f5f\"},\"hovermode\":\"closest\",\"hoverlabel\":{\"align\":\"left\"},\"paper_bgcolor\":\"white\",\"plot_bgcolor\":\"#E5ECF6\",\"polar\":{\"bgcolor\":\"#E5ECF6\",\"angularaxis\":{\"gridcolor\":\"white\",\"linecolor\":\"white\",\"ticks\":\"\"},\"radialaxis\":{\"gridcolor\":\"white\",\"linecolor\":\"white\",\"ticks\":\"\"}},\"ternary\":{\"bgcolor\":\"#E5ECF6\",\"aaxis\":{\"gridcolor\":\"white\",\"linecolor\":\"white\",\"ticks\":\"\"},\"baxis\":{\"gridcolor\":\"white\",\"linecolor\":\"white\",\"ticks\":\"\"},\"caxis\":{\"gridcolor\":\"white\",\"linecolor\":\"white\",\"ticks\":\"\"}},\"coloraxis\":{\"colorbar\":{\"outlinewidth\":0,\"ticks\":\"\"}},\"colorscale\":{\"sequential\":[[0.0,\"#0d0887\"],[0.1111111111111111,\"#46039f\"],[0.2222222222222222,\"#7201a8\"],[0.3333333333333333,\"#9c179e\"],[0.4444444444444444,\"#bd3786\"],[0.5555555555555556,\"#d8576b\"],[0.6666666666666666,\"#ed7953\"],[0.7777777777777778,\"#fb9f3a\"],[0.8888888888888888,\"#fdca26\"],[1.0,\"#f0f921\"]],\"sequentialminus\":[[0.0,\"#0d0887\"],[0.1111111111111111,\"#46039f\"],[0.2222222222222222,\"#7201a8\"],[0.3333333333333333,\"#9c179e\"],[0.4444444444444444,\"#bd3786\"],[0.5555555555555556,\"#d8576b\"],[0.6666666666666666,\"#ed7953\"],[0.7777777777777778,\"#fb9f3a\"],[0.8888888888888888,\"#fdca26\"],[1.0,\"#f0f921\"]],\"diverging\":[[0,\"#8e0152\"],[0.1,\"#c51b7d\"],[0.2,\"#de77ae\"],[0.3,\"#f1b6da\"],[0.4,\"#fde0ef\"],[0.5,\"#f7f7f7\"],[0.6,\"#e6f5d0\"],[0.7,\"#b8e186\"],[0.8,\"#7fbc41\"],[0.9,\"#4d9221\"],[1,\"#276419\"]]},\"xaxis\":{\"gridcolor\":\"white\",\"linecolor\":\"white\",\"ticks\":\"\",\"title\":{\"standoff\":15},\"zerolinecolor\":\"white\",\"automargin\":true,\"zerolinewidth\":2},\"yaxis\":{\"gridcolor\":\"white\",\"linecolor\":\"white\",\"ticks\":\"\",\"title\":{\"standoff\":15},\"zerolinecolor\":\"white\",\"automargin\":true,\"zerolinewidth\":2},\"scene\":{\"xaxis\":{\"backgroundcolor\":\"#E5ECF6\",\"gridcolor\":\"white\",\"linecolor\":\"white\",\"showbackground\":true,\"ticks\":\"\",\"zerolinecolor\":\"white\",\"gridwidth\":2},\"yaxis\":{\"backgroundcolor\":\"#E5ECF6\",\"gridcolor\":\"white\",\"linecolor\":\"white\",\"showbackground\":true,\"ticks\":\"\",\"zerolinecolor\":\"white\",\"gridwidth\":2},\"zaxis\":{\"backgroundcolor\":\"#E5ECF6\",\"gridcolor\":\"white\",\"linecolor\":\"white\",\"showbackground\":true,\"ticks\":\"\",\"zerolinecolor\":\"white\",\"gridwidth\":2}},\"shapedefaults\":{\"line\":{\"color\":\"#2a3f5f\"}},\"annotationdefaults\":{\"arrowcolor\":\"#2a3f5f\",\"arrowhead\":0,\"arrowwidth\":1},\"geo\":{\"bgcolor\":\"white\",\"landcolor\":\"#E5ECF6\",\"subunitcolor\":\"white\",\"showland\":true,\"showlakes\":true,\"lakecolor\":\"white\"},\"title\":{\"x\":0.05},\"mapbox\":{\"style\":\"light\"}}},\"xaxis\":{\"anchor\":\"y\",\"domain\":[0.0,1.0],\"title\":{\"text\":\"BMI\"}},\"yaxis\":{\"anchor\":\"x\",\"domain\":[0.0,1.0],\"title\":{\"text\":\"Age\"}},\"legend\":{\"title\":{\"text\":\"highBP\"},\"tracegroupgap\":0},\"margin\":{\"t\":60},\"title\":{\"text\":\"\"}},                        {\"responsive\": true}                    ).then(function(){\n                            \nvar gd = document.getElementById('8dc5221c-2ed0-42ad-b7b3-2967bf3b4049');\nvar x = new MutationObserver(function (mutations, observer) {{\n        var display = window.getComputedStyle(gd).display;\n        if (!display || display === 'none') {{\n            console.log([gd, 'removed!']);\n            Plotly.purge(gd);\n            observer.disconnect();\n        }}\n}});\n\n// Listen for the removal of the full notebook cells\nvar notebookContainer = gd.closest('#notebook-container');\nif (notebookContainer) {{\n    x.observe(notebookContainer, {childList: true});\n}}\n\n// Listen for the clearing of the current output cell\nvar outputEl = gd.closest('.output');\nif (outputEl) {{\n    x.observe(outputEl, {childList: true});\n}}\n\n                        })                };                            </script>        </div>\n</body>\n</html>"
     },
     "execution_count": 51,
     "metadata": {
     },
     "output_type": "execute_result"
    }
   ],
   "source": [
    "# BMI and Age\n",
    "df= diabetes\n",
    "fig = px.scatter(df, x=\"BMI\", y=\"Age\", color=\"highBP\")\n",
    "\n",
    "fig.update_layout(\n",
    "    title=\"\",)\n",
    "\n",
    "fig.show()"
   ]
  },
  {
   "cell_type": "code",
   "execution_count": 0,
   "metadata": {
    "collapsed": false
   },
   "outputs": [
   ],
   "source": [
   ]
  }
 ],
 "metadata": {
  "kernelspec": {
   "display_name": "Python (elastic-searchers)",
   "language": "python",
   "metadata": {
    "debugger": true
   },
   "name": "elastic-searchers",
   "resource_dir": "/projects/f911260f-4df0-415f-8018-6d00b52060b5/.local/share/jupyter/kernels/elastic-searchers"
  },
  "language_info": {
   "codemirror_mode": {
    "name": "ipython",
    "version": 3
   },
   "file_extension": ".py",
   "mimetype": "text/x-python",
   "name": "python",
   "nbconvert_exporter": "python",
   "pygments_lexer": "ipython3",
   "version": "3.9.12"
  }
 },
 "nbformat": 4,
 "nbformat_minor": 4
}