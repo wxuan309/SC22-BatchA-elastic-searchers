{
 "cells": [
  {
   "cell_type": "markdown",
   "metadata": {
    "collapsed": false
   },
   "source": [
    "\n",
    "# Are There Associations With University Tuition & Professional Pay on a State-by-State Basis?\n",
    "\n",
    "### Also, How to Conduct Basic Exploratory Data Analysis\n",
    "Feel free to keep this notebook open, download your own dataset, and follow along with what may be applicable to YOU. <br> Keep in mind, you will almost certainly want to find other ways to manipulate your data. <br> Python has a TON of user created documentation on sites like Stack Overflow.<br> I would recommend searching \"[WhatINeedToDoWithMyDataframe], pandas\" on Google."
   ]
  },
  {
   "cell_type": "markdown",
   "metadata": {
    "collapsed": false
   },
   "source": [
    "## Table Of Contents:\n",
    "* [Import Packages and Define Functions](#Import)\n",
    "* [Loading Data](#Load)\n",
    "* [Exploring Data](#Explore)\n",
    "* [Cleaning Data](#Clean)\n",
    "* [Analyzing Data](#Analyze)\n",
    "* [Visualizing Data](#Visual)"
   ]
  },
  {
   "cell_type": "markdown",
   "metadata": {
    "collapsed": false
   },
   "source": [
    "### Import Packages and Define Functions <a class=\"anchor\" id=\"Import\"></a>\n",
    "\n",
    "##### You should have a section that imports necessary packages and defines any functions at the top of every notebook, anyone know why?\n",
    "\n"
   ]
  },
  {
   "cell_type": "markdown",
   "metadata": {
    "collapsed": false
   },
   "source": [
    "<details> If packages are not imported before they are used, you will receive errors. \n",
    "    <br> It is easiest to 'run all' cells which will go from top to bottom when coming back to your notebook after a break. </details>"
   ]
  },
  {
   "cell_type": "markdown",
   "metadata": {
    "collapsed": false
   },
   "source": [
    "##### This section will start almost empty, you will add to it as you import new packages and define function.\n",
    "\n",
    "- I always recommend starting with 'import pandas as pd' for dataframe management\n",
    "\n",
    "* Here is the pandas docs - https://pandas.pydata.org/docs/reference/index.html#api\n",
    "\n",
    "- Otherwise you can ignore these for now\n",
    "\n"
   ]
  },
  {
   "cell_type": "code",
   "execution_count": 1,
   "metadata": {
    "collapsed": false
   },
   "outputs": [
   ],
   "source": [
    "https://www.kaggle.com/datasets/mathchi/diabetes-data-set"
   ]
  },
  {
   "cell_type": "code",
   "execution_count": 2,
   "metadata": {
    "collapsed": false
   },
   "outputs": [
   ],
   "source": [
   ]
  },
  {
   "cell_type": "markdown",
   "metadata": {
    "collapsed": false
   },
   "source": [
    "## Loading Data <a class=\"anchor\" id=\"Load\"></a>\n",
    "\n",
    "- It is best practice keeping this section clean so you know every piece of data you are importing\n",
    "- You will run into errors if you try and reference data before you have loaded it\n",
    "- Keeping data in a 'Data' folder is best for organization too\n",
    "\n"
   ]
  },
  {
   "cell_type": "code",
   "execution_count": 5,
   "metadata": {
    "collapsed": false
   },
   "outputs": [
   ],
   "source": [
    "import pandas as pd"
   ]
  },
  {
   "cell_type": "code",
   "execution_count": 23,
   "metadata": {
    "collapsed": false
   },
   "outputs": [
   ],
   "source": [
    "lung = pd.read_csv(\"./Data/survey lung cancer.csv\")"
   ]
  },
  {
   "cell_type": "code",
   "execution_count": 11,
   "metadata": {
    "collapsed": false,
    "scrolled": true
   },
   "outputs": [
   ],
   "source": [
    "netflix = pd.read_csv(\"./Data/netflix_titles.csv\")"
   ]
  },
  {
   "cell_type": "markdown",
   "metadata": {
    "collapsed": false
   },
   "source": [
    "What does the './' ahead of our folder name do?\n",
    "<details> Pathing is more complex than you might think. The program does not know where to look for your file. \n",
    "    <br> Adding ./ tells the program to start looking from the location where this Notebook is located </details>"
   ]
  },
  {
   "cell_type": "code",
   "execution_count": 0,
   "metadata": {
    "collapsed": false
   },
   "outputs": [
   ],
   "source": [
   ]
  },
  {
   "cell_type": "markdown",
   "metadata": {
    "collapsed": false
   },
   "source": [
    "## Exploring Our Data <a class=\"anchor\" id=\"Explore\"></a>\n",
    "\n",
    "- Here is where we want to inform ourselves on the nitty gritty of what information our data actually holds\n",
    "- How much, what type, is there anything missing, what columns do I need & not need, etc. \n",
    "\n"
   ]
  },
  {
   "cell_type": "markdown",
   "metadata": {
    "collapsed": false
   },
   "source": [
    "##### Using .head() [first 5 rows] and .tail() [last 5 rows] is a great way to get a first look at our data"
   ]
  },
  {
   "cell_type": "code",
   "execution_count": 24,
   "metadata": {
    "collapsed": false
   },
   "outputs": [
    {
     "data": {
      "text/html": [
       "<div>\n",
       "<style scoped>\n",
       "    .dataframe tbody tr th:only-of-type {\n",
       "        vertical-align: middle;\n",
       "    }\n",
       "\n",
       "    .dataframe tbody tr th {\n",
       "        vertical-align: top;\n",
       "    }\n",
       "\n",
       "    .dataframe thead th {\n",
       "        text-align: right;\n",
       "    }\n",
       "</style>\n",
       "<table border=\"1\" class=\"dataframe\">\n",
       "  <thead>\n",
       "    <tr style=\"text-align: right;\">\n",
       "      <th></th>\n",
       "      <th>GENDER</th>\n",
       "      <th>AGE</th>\n",
       "      <th>SMOKING</th>\n",
       "      <th>YELLOW_FINGERS</th>\n",
       "      <th>ANXIETY</th>\n",
       "      <th>PEER_PRESSURE</th>\n",
       "      <th>CHRONIC DISEASE</th>\n",
       "      <th>FATIGUE</th>\n",
       "      <th>ALLERGY</th>\n",
       "      <th>WHEEZING</th>\n",
       "      <th>ALCOHOL CONSUMING</th>\n",
       "      <th>COUGHING</th>\n",
       "      <th>SHORTNESS OF BREATH</th>\n",
       "      <th>SWALLOWING DIFFICULTY</th>\n",
       "      <th>CHEST PAIN</th>\n",
       "      <th>LUNG_CANCER</th>\n",
       "    </tr>\n",
       "  </thead>\n",
       "  <tbody>\n",
       "    <tr>\n",
       "      <th>0</th>\n",
       "      <td>M</td>\n",
       "      <td>69</td>\n",
       "      <td>1</td>\n",
       "      <td>2</td>\n",
       "      <td>2</td>\n",
       "      <td>1</td>\n",
       "      <td>1</td>\n",
       "      <td>2</td>\n",
       "      <td>1</td>\n",
       "      <td>2</td>\n",
       "      <td>2</td>\n",
       "      <td>2</td>\n",
       "      <td>2</td>\n",
       "      <td>2</td>\n",
       "      <td>2</td>\n",
       "      <td>YES</td>\n",
       "    </tr>\n",
       "    <tr>\n",
       "      <th>1</th>\n",
       "      <td>M</td>\n",
       "      <td>74</td>\n",
       "      <td>2</td>\n",
       "      <td>1</td>\n",
       "      <td>1</td>\n",
       "      <td>1</td>\n",
       "      <td>2</td>\n",
       "      <td>2</td>\n",
       "      <td>2</td>\n",
       "      <td>1</td>\n",
       "      <td>1</td>\n",
       "      <td>1</td>\n",
       "      <td>2</td>\n",
       "      <td>2</td>\n",
       "      <td>2</td>\n",
       "      <td>YES</td>\n",
       "    </tr>\n",
       "    <tr>\n",
       "      <th>2</th>\n",
       "      <td>F</td>\n",
       "      <td>59</td>\n",
       "      <td>1</td>\n",
       "      <td>1</td>\n",
       "      <td>1</td>\n",
       "      <td>2</td>\n",
       "      <td>1</td>\n",
       "      <td>2</td>\n",
       "      <td>1</td>\n",
       "      <td>2</td>\n",
       "      <td>1</td>\n",
       "      <td>2</td>\n",
       "      <td>2</td>\n",
       "      <td>1</td>\n",
       "      <td>2</td>\n",
       "      <td>NO</td>\n",
       "    </tr>\n",
       "    <tr>\n",
       "      <th>3</th>\n",
       "      <td>M</td>\n",
       "      <td>63</td>\n",
       "      <td>2</td>\n",
       "      <td>2</td>\n",
       "      <td>2</td>\n",
       "      <td>1</td>\n",
       "      <td>1</td>\n",
       "      <td>1</td>\n",
       "      <td>1</td>\n",
       "      <td>1</td>\n",
       "      <td>2</td>\n",
       "      <td>1</td>\n",
       "      <td>1</td>\n",
       "      <td>2</td>\n",
       "      <td>2</td>\n",
       "      <td>NO</td>\n",
       "    </tr>\n",
       "    <tr>\n",
       "      <th>4</th>\n",
       "      <td>F</td>\n",
       "      <td>63</td>\n",
       "      <td>1</td>\n",
       "      <td>2</td>\n",
       "      <td>1</td>\n",
       "      <td>1</td>\n",
       "      <td>1</td>\n",
       "      <td>1</td>\n",
       "      <td>1</td>\n",
       "      <td>2</td>\n",
       "      <td>1</td>\n",
       "      <td>2</td>\n",
       "      <td>2</td>\n",
       "      <td>1</td>\n",
       "      <td>1</td>\n",
       "      <td>NO</td>\n",
       "    </tr>\n",
       "  </tbody>\n",
       "</table>\n",
       "</div>"
      ],
      "text/plain": [
       "  GENDER  AGE  SMOKING  YELLOW_FINGERS  ANXIETY  PEER_PRESSURE  \\\n",
       "0      M   69        1               2        2              1   \n",
       "1      M   74        2               1        1              1   \n",
       "2      F   59        1               1        1              2   \n",
       "3      M   63        2               2        2              1   \n",
       "4      F   63        1               2        1              1   \n",
       "\n",
       "   CHRONIC DISEASE  FATIGUE   ALLERGY   WHEEZING  ALCOHOL CONSUMING  COUGHING  \\\n",
       "0                1         2         1         2                  2         2   \n",
       "1                2         2         2         1                  1         1   \n",
       "2                1         2         1         2                  1         2   \n",
       "3                1         1         1         1                  2         1   \n",
       "4                1         1         1         2                  1         2   \n",
       "\n",
       "   SHORTNESS OF BREATH  SWALLOWING DIFFICULTY  CHEST PAIN LUNG_CANCER  \n",
       "0                    2                      2           2         YES  \n",
       "1                    2                      2           2         YES  \n",
       "2                    2                      1           2          NO  \n",
       "3                    1                      2           2          NO  \n",
       "4                    2                      1           1          NO  "
      ]
     },
     "execution_count": 24,
     "metadata": {
     },
     "output_type": "execute_result"
    }
   ],
   "source": [
    "lung.head()"
   ]
  },
  {
   "cell_type": "code",
   "execution_count": 25,
   "metadata": {
    "collapsed": false
   },
   "outputs": [
    {
     "data": {
      "text/html": [
       "<div>\n",
       "<style scoped>\n",
       "    .dataframe tbody tr th:only-of-type {\n",
       "        vertical-align: middle;\n",
       "    }\n",
       "\n",
       "    .dataframe tbody tr th {\n",
       "        vertical-align: top;\n",
       "    }\n",
       "\n",
       "    .dataframe thead th {\n",
       "        text-align: right;\n",
       "    }\n",
       "</style>\n",
       "<table border=\"1\" class=\"dataframe\">\n",
       "  <thead>\n",
       "    <tr style=\"text-align: right;\">\n",
       "      <th></th>\n",
       "      <th>GENDER</th>\n",
       "      <th>AGE</th>\n",
       "      <th>SMOKING</th>\n",
       "      <th>YELLOW_FINGERS</th>\n",
       "      <th>ANXIETY</th>\n",
       "      <th>PEER_PRESSURE</th>\n",
       "      <th>CHRONIC DISEASE</th>\n",
       "      <th>FATIGUE</th>\n",
       "      <th>ALLERGY</th>\n",
       "      <th>WHEEZING</th>\n",
       "      <th>ALCOHOL CONSUMING</th>\n",
       "      <th>COUGHING</th>\n",
       "      <th>SHORTNESS OF BREATH</th>\n",
       "      <th>SWALLOWING DIFFICULTY</th>\n",
       "      <th>CHEST PAIN</th>\n",
       "      <th>LUNG_CANCER</th>\n",
       "    </tr>\n",
       "  </thead>\n",
       "  <tbody>\n",
       "    <tr>\n",
       "      <th>304</th>\n",
       "      <td>F</td>\n",
       "      <td>56</td>\n",
       "      <td>1</td>\n",
       "      <td>1</td>\n",
       "      <td>1</td>\n",
       "      <td>2</td>\n",
       "      <td>2</td>\n",
       "      <td>2</td>\n",
       "      <td>1</td>\n",
       "      <td>1</td>\n",
       "      <td>2</td>\n",
       "      <td>2</td>\n",
       "      <td>2</td>\n",
       "      <td>2</td>\n",
       "      <td>1</td>\n",
       "      <td>YES</td>\n",
       "    </tr>\n",
       "    <tr>\n",
       "      <th>305</th>\n",
       "      <td>M</td>\n",
       "      <td>70</td>\n",
       "      <td>2</td>\n",
       "      <td>1</td>\n",
       "      <td>1</td>\n",
       "      <td>1</td>\n",
       "      <td>1</td>\n",
       "      <td>2</td>\n",
       "      <td>2</td>\n",
       "      <td>2</td>\n",
       "      <td>2</td>\n",
       "      <td>2</td>\n",
       "      <td>2</td>\n",
       "      <td>1</td>\n",
       "      <td>2</td>\n",
       "      <td>YES</td>\n",
       "    </tr>\n",
       "    <tr>\n",
       "      <th>306</th>\n",
       "      <td>M</td>\n",
       "      <td>58</td>\n",
       "      <td>2</td>\n",
       "      <td>1</td>\n",
       "      <td>1</td>\n",
       "      <td>1</td>\n",
       "      <td>1</td>\n",
       "      <td>1</td>\n",
       "      <td>2</td>\n",
       "      <td>2</td>\n",
       "      <td>2</td>\n",
       "      <td>2</td>\n",
       "      <td>1</td>\n",
       "      <td>1</td>\n",
       "      <td>2</td>\n",
       "      <td>YES</td>\n",
       "    </tr>\n",
       "    <tr>\n",
       "      <th>307</th>\n",
       "      <td>M</td>\n",
       "      <td>67</td>\n",
       "      <td>2</td>\n",
       "      <td>1</td>\n",
       "      <td>2</td>\n",
       "      <td>1</td>\n",
       "      <td>1</td>\n",
       "      <td>2</td>\n",
       "      <td>2</td>\n",
       "      <td>1</td>\n",
       "      <td>2</td>\n",
       "      <td>2</td>\n",
       "      <td>2</td>\n",
       "      <td>1</td>\n",
       "      <td>2</td>\n",
       "      <td>YES</td>\n",
       "    </tr>\n",
       "    <tr>\n",
       "      <th>308</th>\n",
       "      <td>M</td>\n",
       "      <td>62</td>\n",
       "      <td>1</td>\n",
       "      <td>1</td>\n",
       "      <td>1</td>\n",
       "      <td>2</td>\n",
       "      <td>1</td>\n",
       "      <td>2</td>\n",
       "      <td>2</td>\n",
       "      <td>2</td>\n",
       "      <td>2</td>\n",
       "      <td>1</td>\n",
       "      <td>1</td>\n",
       "      <td>2</td>\n",
       "      <td>1</td>\n",
       "      <td>YES</td>\n",
       "    </tr>\n",
       "  </tbody>\n",
       "</table>\n",
       "</div>"
      ],
      "text/plain": [
       "    GENDER  AGE  SMOKING  YELLOW_FINGERS  ANXIETY  PEER_PRESSURE  \\\n",
       "304      F   56        1               1        1              2   \n",
       "305      M   70        2               1        1              1   \n",
       "306      M   58        2               1        1              1   \n",
       "307      M   67        2               1        2              1   \n",
       "308      M   62        1               1        1              2   \n",
       "\n",
       "     CHRONIC DISEASE  FATIGUE   ALLERGY   WHEEZING  ALCOHOL CONSUMING  \\\n",
       "304                2         2         1         1                  2   \n",
       "305                1         2         2         2                  2   \n",
       "306                1         1         2         2                  2   \n",
       "307                1         2         2         1                  2   \n",
       "308                1         2         2         2                  2   \n",
       "\n",
       "     COUGHING  SHORTNESS OF BREATH  SWALLOWING DIFFICULTY  CHEST PAIN  \\\n",
       "304         2                    2                      2           1   \n",
       "305         2                    2                      1           2   \n",
       "306         2                    1                      1           2   \n",
       "307         2                    2                      1           2   \n",
       "308         1                    1                      2           1   \n",
       "\n",
       "    LUNG_CANCER  \n",
       "304         YES  \n",
       "305         YES  \n",
       "306         YES  \n",
       "307         YES  \n",
       "308         YES  "
      ]
     },
     "execution_count": 25,
     "metadata": {
     },
     "output_type": "execute_result"
    }
   ],
   "source": [
    "lung.tail()"
   ]
  },
  {
   "cell_type": "markdown",
   "metadata": {
    "collapsed": false
   },
   "source": [
    "Sometimes column names have extra spaces or we can't see all of them at first, lets print them and get the shape of each to see how much data we are dealing with. <br>(#Rows, #Columns)"
   ]
  },
  {
   "cell_type": "code",
   "execution_count": 15,
   "metadata": {
    "collapsed": false,
    "scrolled": true
   },
   "outputs": [
    {
     "name": "stdout",
     "output_type": "stream",
     "text": [
      "Index(['show_id', 'type', 'title', 'director', 'cast', 'country', 'date_added',\n",
      "       'release_year', 'rating', 'duration', 'listed_in', 'description'],\n",
      "      dtype='object')\n",
      "\n",
      "(8807, 12)\n"
     ]
    }
   ],
   "source": [
    "print(netflix.columns)\n",
    "print(\"\")\n",
    "print(netflix.shape)"
   ]
  },
  {
   "cell_type": "code",
   "execution_count": 27,
   "metadata": {
    "collapsed": false
   },
   "outputs": [
    {
     "name": "stdout",
     "output_type": "stream",
     "text": [
      "Index(['GENDER', 'AGE', 'SMOKING', 'YELLOW_FINGERS', 'ANXIETY',\n",
      "       'PEER_PRESSURE', 'CHRONIC DISEASE', 'FATIGUE ', 'ALLERGY ', 'WHEEZING',\n",
      "       'ALCOHOL CONSUMING', 'COUGHING', 'SHORTNESS OF BREATH',\n",
      "       'SWALLOWING DIFFICULTY', 'CHEST PAIN', 'LUNG_CANCER'],\n",
      "      dtype='object')\n",
      "\n",
      "(309, 16)\n"
     ]
    }
   ],
   "source": [
    "print(lung.columns)\n",
    "print(\"\")\n",
    "print(lung.shape)"
   ]
  },
  {
   "cell_type": "markdown",
   "metadata": {
    "collapsed": false
   },
   "source": [
    "We also want information on what data TYPE each of the columns are"
   ]
  },
  {
   "cell_type": "code",
   "execution_count": 26,
   "metadata": {
    "collapsed": false,
    "vscode": {
     "languageId": "plaintext"
    }
   },
   "outputs": [
    {
     "name": "stdout",
     "output_type": "stream",
     "text": [
      "<class 'pandas.core.frame.DataFrame'>\n",
      "RangeIndex: 309 entries, 0 to 308\n",
      "Data columns (total 16 columns):\n",
      " #   Column                 Non-Null Count  Dtype \n",
      "---  ------                 --------------  ----- \n",
      " 0   GENDER                 309 non-null    object\n",
      " 1   AGE                    309 non-null    int64 \n",
      " 2   SMOKING                309 non-null    int64 \n",
      " 3   YELLOW_FINGERS         309 non-null    int64 \n",
      " 4   ANXIETY                309 non-null    int64 \n",
      " 5   PEER_PRESSURE          309 non-null    int64 \n",
      " 6   CHRONIC DISEASE        309 non-null    int64 \n",
      " 7   FATIGUE                309 non-null    int64 \n",
      " 8   ALLERGY                309 non-null    int64 \n",
      " 9   WHEEZING               309 non-null    int64 \n",
      " 10  ALCOHOL CONSUMING      309 non-null    int64 \n",
      " 11  COUGHING               309 non-null    int64 \n",
      " 12  SHORTNESS OF BREATH    309 non-null    int64 \n",
      " 13  SWALLOWING DIFFICULTY  309 non-null    int64 \n",
      " 14  CHEST PAIN             309 non-null    int64 \n",
      " 15  LUNG_CANCER            309 non-null    object\n",
      "dtypes: int64(14), object(2)\n",
      "memory usage: 38.8+ KB\n"
     ]
    }
   ],
   "source": [
    "lung.info()"
   ]
  },
  {
   "cell_type": "markdown",
   "metadata": {
    "collapsed": false
   },
   "source": [
    "We notice that 'state' and 'room_and_board' are missing some data. State_code is not though."
   ]
  },
  {
   "cell_type": "code",
   "execution_count": 8,
   "metadata": {
    "collapsed": false
   },
   "outputs": [
    {
     "name": "stdout",
     "output_type": "stream",
     "text": [
      "<class 'pandas.core.frame.DataFrame'>\n",
      "RangeIndex: 768 entries, 0 to 767\n",
      "Data columns (total 9 columns):\n",
      " #   Column                    Non-Null Count  Dtype  \n",
      "---  ------                    --------------  -----  \n",
      " 0   Pregnancies               768 non-null    int64  \n",
      " 1   Glucose                   768 non-null    int64  \n",
      " 2   BloodPressure             768 non-null    int64  \n",
      " 3   SkinThickness             768 non-null    int64  \n",
      " 4   Insulin                   768 non-null    int64  \n",
      " 5   BMI                       768 non-null    float64\n",
      " 6   DiabetesPedigreeFunction  768 non-null    float64\n",
      " 7   Age                       768 non-null    int64  \n",
      " 8   Outcome                   768 non-null    int64  \n",
      "dtypes: float64(2), int64(7)\n",
      "memory usage: 54.1 KB\n"
     ]
    }
   ],
   "source": [
    "diabetes.info()"
   ]
  },
  {
   "cell_type": "markdown",
   "metadata": {
    "collapsed": false
   },
   "source": [
    "We notice that 'make_world_better_percent' is missing some data, missing data can mess with functions down the road."
   ]
  },
  {
   "cell_type": "markdown",
   "metadata": {
    "collapsed": false
   },
   "source": [
    "## Cleaning and Merging Our Data <a class=\"anchor\" id=\"Clean\"></a>\n",
    "- Lets get rid of redundant columns, either replace or drop missing values, and do any other cleaning we might want\n",
    "- Here we will also merge our different data sources into one cohesive one"
   ]
  },
  {
   "cell_type": "markdown",
   "metadata": {
    "collapsed": false
   },
   "source": [
    "First up, lets find the entries with no 'state' from tuition\n",
    "\n"
   ]
  },
  {
   "cell_type": "code",
   "execution_count": 10,
   "metadata": {
    "collapsed": false
   },
   "outputs": [
    {
     "ename": "SyntaxError",
     "evalue": "unmatched ']' (2837467411.py, line 1)",
     "output_type": "error",
     "traceback": [
      "\u001b[0;36m  Input \u001b[0;32mIn [10]\u001b[0;36m\u001b[0m\n\u001b[0;31m    diabetes[diabetes].isnull()]\u001b[0m\n\u001b[0m                               ^\u001b[0m\n\u001b[0;31mSyntaxError\u001b[0m\u001b[0;31m:\u001b[0m unmatched ']'\n"
     ]
    }
   ],
   "source": [
   ]
  },
  {
   "cell_type": "code",
   "execution_count": 10,
   "metadata": {
    "collapsed": false
   },
   "outputs": [
    {
     "data": {
      "text/plain": [
       "array(['AS', 'DC', 'PR', 'GU', 'VI'], dtype=object)"
      ]
     },
     "execution_count": 10,
     "metadata": {
     },
     "output_type": "execute_result"
    }
   ],
   "source": [
    "tuition[tuition['state'].isnull()].state_code.unique()"
   ]
  },
  {
   "cell_type": "markdown",
   "metadata": {
    "collapsed": false
   },
   "source": [
    "We can see that there are a few state_codes that don't have state names, we can manually add those.\n",
    "<br>We'll make a function for this and add it to the top."
   ]
  },
  {
   "cell_type": "code",
   "execution_count": 11,
   "metadata": {
    "collapsed": false
   },
   "outputs": [
   ],
   "source": [
    "def fill_state(row):\n",
    "    if row['state_code'] == 'AS':\n",
    "        return 'American Samoa'\n",
    "    elif row['state_code'] == 'DC':\n",
    "        return 'District of Columbia'\n",
    "    elif row['state_code'] == 'PR':\n",
    "        return 'Puerto Rico'\n",
    "    elif row['state_code'] == 'GU':\n",
    "        return 'Guam'\n",
    "    elif row['state_code'] == 'VI':\n",
    "        return 'Virgin Islands'\n",
    "    else:\n",
    "        return row['state']\n",
    "\n",
    "# axis = 1 means do it to the columns (0 is the rows)\n",
    "tuition['state'] = tuition.apply(lambda row : fill_state(row), axis=1) "
   ]
  },
  {
   "cell_type": "markdown",
   "metadata": {
    "collapsed": false
   },
   "source": [
    "Now we check and see there are no more null values!"
   ]
  },
  {
   "cell_type": "code",
   "execution_count": 12,
   "metadata": {
    "collapsed": false,
    "scrolled": true
   },
   "outputs": [
    {
     "data": {
      "text/html": [
       "<div>\n",
       "<style scoped>\n",
       "    .dataframe tbody tr th:only-of-type {\n",
       "        vertical-align: middle;\n",
       "    }\n",
       "\n",
       "    .dataframe tbody tr th {\n",
       "        vertical-align: top;\n",
       "    }\n",
       "\n",
       "    .dataframe thead th {\n",
       "        text-align: right;\n",
       "    }\n",
       "</style>\n",
       "<table border=\"1\" class=\"dataframe\">\n",
       "  <thead>\n",
       "    <tr style=\"text-align: right;\">\n",
       "      <th></th>\n",
       "      <th>name</th>\n",
       "      <th>state</th>\n",
       "      <th>state_code</th>\n",
       "      <th>type</th>\n",
       "      <th>degree_length</th>\n",
       "      <th>room_and_board</th>\n",
       "      <th>in_state_tuition</th>\n",
       "      <th>in_state_total</th>\n",
       "      <th>out_of_state_tuition</th>\n",
       "      <th>out_of_state_total</th>\n",
       "    </tr>\n",
       "  </thead>\n",
       "  <tbody>\n",
       "  </tbody>\n",
       "</table>\n",
       "</div>"
      ],
      "text/plain": [
       "Empty DataFrame\n",
       "Columns: [name, state, state_code, type, degree_length, room_and_board, in_state_tuition, in_state_total, out_of_state_tuition, out_of_state_total]\n",
       "Index: []"
      ]
     },
     "execution_count": 12,
     "metadata": {
     },
     "output_type": "execute_result"
    }
   ],
   "source": [
    "tuition[tuition['state'].isnull()]"
   ]
  },
  {
   "cell_type": "markdown",
   "metadata": {
    "collapsed": false
   },
   "source": [
    "We still have a lot of missing data in the column 'room_and_board' and some in the 'make_world_better_place'\n",
    "<br><br>\n",
    "Since we don't care too much about room_and_board, we'll just drop that column as a whole, but for the other, we will just drop the rows that are missing that data since it is only ~3% of our dataset."
   ]
  },
  {
   "cell_type": "code",
   "execution_count": 13,
   "metadata": {
    "collapsed": false
   },
   "outputs": [
   ],
   "source": [
    "# drop room and board (axis = 1 --> column)\n",
    "tuition = tuition.drop('room_and_board', axis=1)\n",
    "# drop rows with empty make world better place (axis = 0 --> row)\n",
    "salary_potential = salary_potential.dropna(subset=['make_world_better_percent'])"
   ]
  },
  {
   "cell_type": "code",
   "execution_count": 14,
   "metadata": {
    "collapsed": false
   },
   "outputs": [
    {
     "name": "stdout",
     "output_type": "stream",
     "text": [
      "0 0\n"
     ]
    }
   ],
   "source": [
    "# confirm there are no null values in either dataframe, rows or columns (.sum().sum() condences it into 1 value)\n",
    "print(tuition.isnull().sum().sum(), salary_potential.isnull().sum().sum())"
   ]
  },
  {
   "cell_type": "markdown",
   "metadata": {
    "collapsed": false
   },
   "source": [
    "##### Merging our Dataframe\n",
    "\n",
    "To merge our dataframes we need to identify which columns we want to merge on. There's many ways to combine data, you can dive deeper here: <br>https://realpython.com/pandas-merge-join-and-concat/<br> We will be focusing on a simple merge. <br><br> For a simple merge, we want to have two dataframes that have a column by the same name we want to merge on. <br>In our case we want to merge using the 'name' column. We will only have the data of schools that appear identically in both dataframes.<br> One thing to keep in mind, you must merge on a column with the same name so often will need to rename a column from one dataframe.\n",
    "\n"
   ]
  },
  {
   "cell_type": "code",
   "execution_count": 13,
   "metadata": {
    "collapsed": false
   },
   "outputs": [
    {
     "ename": "TypeError",
     "evalue": "merge() missing 1 required positional argument: 'right'",
     "output_type": "error",
     "traceback": [
      "\u001b[0;31m---------------------------------------------------------------------------\u001b[0m",
      "\u001b[0;31mTypeError\u001b[0m                                 Traceback (most recent call last)",
      "Input \u001b[0;32mIn [13]\u001b[0m, in \u001b[0;36m<cell line: 3>\u001b[0;34m()\u001b[0m\n\u001b[1;32m      1\u001b[0m \u001b[38;5;66;03m# check here to find how to rename - https://pandas.pydata.org/docs/reference/api/pandas.DataFrame.rename.html\u001b[39;00m\n\u001b[1;32m      2\u001b[0m \u001b[38;5;66;03m# we create a new dataframe called merged_df that is the combined one\u001b[39;00m\n\u001b[0;32m----> 3\u001b[0m merged_df \u001b[38;5;241m=\u001b[39m \u001b[43mpd\u001b[49m\u001b[38;5;241;43m.\u001b[39;49m\u001b[43mmerge\u001b[49m\u001b[43m(\u001b[49m\u001b[43mdiabetes\u001b[49m\u001b[43m)\u001b[49m\n",
      "\u001b[0;31mTypeError\u001b[0m: merge() missing 1 required positional argument: 'right'"
     ]
    }
   ],
   "source": [
    "# check here to find how to rename - https://pandas.pydata.org/docs/reference/api/pandas.DataFrame.rename.html\n",
    "# we create a new dataframe called merged_df that is the combined one\n",
    "merged_df = pd.merge(diabetes)"
   ]
  },
  {
   "cell_type": "code",
   "execution_count": 15,
   "metadata": {
    "collapsed": false
   },
   "outputs": [
    {
     "ename": "SyntaxError",
     "evalue": "invalid syntax (1726733134.py, line 1)",
     "output_type": "error",
     "traceback": [
      "\u001b[0;36m  Input \u001b[0;32mIn [15]\u001b[0;36m\u001b[0m\n\u001b[0;31m    insert merged_df\u001b[0m\n\u001b[0m           ^\u001b[0m\n\u001b[0;31mSyntaxError\u001b[0m\u001b[0;31m:\u001b[0m invalid syntax\n"
     ]
    }
   ],
   "source": [
    "merged_df.head(diabetes)"
   ]
  },
  {
   "cell_type": "markdown",
   "metadata": {
    "collapsed": false
   },
   "source": [
    "Now we have a 'state' and 'state_name' column that look duplicative, lets check."
   ]
  },
  {
   "cell_type": "code",
   "execution_count": 17,
   "metadata": {
    "collapsed": false
   },
   "outputs": [
    {
     "data": {
      "text/plain": [
       "False"
      ]
     },
     "execution_count": 17,
     "metadata": {
     },
     "output_type": "execute_result"
    }
   ],
   "source": [
    "merged_df['state'].equals(merged_df['state_name'])"
   ]
  },
  {
   "cell_type": "markdown",
   "metadata": {
    "collapsed": false
   },
   "source": [
    "Lets look at the differences, get all the unique 'state' and 'state_names' from all rows where they are not identical"
   ]
  },
  {
   "cell_type": "code",
   "execution_count": 18,
   "metadata": {
    "collapsed": false,
    "scrolled": true
   },
   "outputs": [
    {
     "data": {
      "text/plain": [
       "array(['New York', 'North Carolina', 'South Dakota', 'South Carolina',\n",
       "       'New Jersey', 'West Virginia', 'Rhode Island', 'New Hampshire',\n",
       "       'North Dakota', 'New Mexico', 'Illinois', 'Vermont'], dtype=object)"
      ]
     },
     "execution_count": 18,
     "metadata": {
     },
     "output_type": "execute_result"
    }
   ],
   "source": [
    "merged_df.loc[~(merged_df['state'] == merged_df['state_name'])]['state'].unique()"
   ]
  },
  {
   "cell_type": "code",
   "execution_count": 19,
   "metadata": {
    "collapsed": false
   },
   "outputs": [
    {
     "data": {
      "text/plain": [
       "array(['New-York', 'North-Carolina', 'South-Dakota', 'South-Carolina',\n",
       "       'New-Jersey', 'West-Virginia', 'Rhode-Island', 'New-Hampshire',\n",
       "       'North-Dakota', 'New-Mexico', 'Iowa', 'Kansas'], dtype=object)"
      ]
     },
     "execution_count": 19,
     "metadata": {
     },
     "output_type": "execute_result"
    }
   ],
   "source": [
    "merged_df.loc[~(merged_df['state'] == merged_df['state_name'])]['state_name'].unique()"
   ]
  },
  {
   "cell_type": "markdown",
   "metadata": {
    "collapsed": false
   },
   "source": [
    "Many are issues with hyphens, some are not, let's fix the hyphen problem and look at the rest."
   ]
  },
  {
   "cell_type": "code",
   "execution_count": 20,
   "metadata": {
    "collapsed": false
   },
   "outputs": [
    {
     "data": {
      "text/html": [
       "<div>\n",
       "<style scoped>\n",
       "    .dataframe tbody tr th:only-of-type {\n",
       "        vertical-align: middle;\n",
       "    }\n",
       "\n",
       "    .dataframe tbody tr th {\n",
       "        vertical-align: top;\n",
       "    }\n",
       "\n",
       "    .dataframe thead th {\n",
       "        text-align: right;\n",
       "    }\n",
       "</style>\n",
       "<table border=\"1\" class=\"dataframe\">\n",
       "  <thead>\n",
       "    <tr style=\"text-align: right;\">\n",
       "      <th></th>\n",
       "      <th>name</th>\n",
       "      <th>state</th>\n",
       "      <th>state_code</th>\n",
       "      <th>type</th>\n",
       "      <th>degree_length</th>\n",
       "      <th>in_state_tuition</th>\n",
       "      <th>in_state_total</th>\n",
       "      <th>out_of_state_tuition</th>\n",
       "      <th>out_of_state_total</th>\n",
       "      <th>rank</th>\n",
       "      <th>state_name</th>\n",
       "      <th>early_career_pay</th>\n",
       "      <th>mid_career_pay</th>\n",
       "      <th>make_world_better_percent</th>\n",
       "      <th>stem_percent</th>\n",
       "    </tr>\n",
       "  </thead>\n",
       "  <tbody>\n",
       "    <tr>\n",
       "      <th>365</th>\n",
       "      <td>Northwestern College</td>\n",
       "      <td>Illinois</td>\n",
       "      <td>IL</td>\n",
       "      <td>For Profit</td>\n",
       "      <td>2 Year</td>\n",
       "      <td>18485</td>\n",
       "      <td>30887</td>\n",
       "      <td>18485</td>\n",
       "      <td>30887</td>\n",
       "      <td>18</td>\n",
       "      <td>Iowa</td>\n",
       "      <td>44800</td>\n",
       "      <td>82400</td>\n",
       "      <td>42.0</td>\n",
       "      <td>11</td>\n",
       "    </tr>\n",
       "    <tr>\n",
       "      <th>481</th>\n",
       "      <td>Sterling College</td>\n",
       "      <td>Vermont</td>\n",
       "      <td>VT</td>\n",
       "      <td>Private</td>\n",
       "      <td>4 Year</td>\n",
       "      <td>38800</td>\n",
       "      <td>48700</td>\n",
       "      <td>38800</td>\n",
       "      <td>48700</td>\n",
       "      <td>17</td>\n",
       "      <td>Kansas</td>\n",
       "      <td>42700</td>\n",
       "      <td>79100</td>\n",
       "      <td>73.0</td>\n",
       "      <td>7</td>\n",
       "    </tr>\n",
       "  </tbody>\n",
       "</table>\n",
       "</div>"
      ],
      "text/plain": [
       "                     name     state state_code        type degree_length  \\\n",
       "365  Northwestern College  Illinois         IL  For Profit        2 Year   \n",
       "481      Sterling College   Vermont         VT     Private        4 Year   \n",
       "\n",
       "     in_state_tuition  in_state_total  out_of_state_tuition  \\\n",
       "365             18485           30887                 18485   \n",
       "481             38800           48700                 38800   \n",
       "\n",
       "     out_of_state_total  rank state_name  early_career_pay  mid_career_pay  \\\n",
       "365               30887    18       Iowa             44800           82400   \n",
       "481               48700    17     Kansas             42700           79100   \n",
       "\n",
       "     make_world_better_percent  stem_percent  \n",
       "365                       42.0            11  \n",
       "481                       73.0             7  "
      ]
     },
     "execution_count": 20,
     "metadata": {
     },
     "output_type": "execute_result"
    }
   ],
   "source": [
    "to_replace = ['New-York', 'North-Carolina', 'South-Dakota', 'South-Carolina',\n",
    "       'New-Jersey', 'West-Virginia', 'Rhode-Island', 'New-Hampshire',\n",
    "       'North-Dakota', 'New-Mexico']\n",
    "replace_with = ['New York', 'North Carolina', 'South Dakota', 'South Carolina',\n",
    "       'New Jersey', 'West Virginia', 'Rhode Island', 'New Hampshire',\n",
    "       'North Dakota', 'New Mexico']\n",
    "for i in range(len(to_replace)):\n",
    "    merged_df[\"state_name\"].replace({to_replace[i]: replace_with[i]}, inplace=True)\n",
    "merged_df.loc[~(merged_df['state'] == merged_df['state_name'])]"
   ]
  },
  {
   "cell_type": "markdown",
   "metadata": {
    "collapsed": false
   },
   "source": [
    "After searching Manually, Northwestern College is in Iowa & Sterling College is in Kansas. <br> This shows the importance of double checking your data. <br> I will drop the 'state column' as the 'state_name' column is the accurate one and state_code is unnecessary."
   ]
  },
  {
   "cell_type": "code",
   "execution_count": 21,
   "metadata": {
    "collapsed": false,
    "scrolled": true
   },
   "outputs": [
    {
     "data": {
      "text/html": [
       "<div>\n",
       "<style scoped>\n",
       "    .dataframe tbody tr th:only-of-type {\n",
       "        vertical-align: middle;\n",
       "    }\n",
       "\n",
       "    .dataframe tbody tr th {\n",
       "        vertical-align: top;\n",
       "    }\n",
       "\n",
       "    .dataframe thead th {\n",
       "        text-align: right;\n",
       "    }\n",
       "</style>\n",
       "<table border=\"1\" class=\"dataframe\">\n",
       "  <thead>\n",
       "    <tr style=\"text-align: right;\">\n",
       "      <th></th>\n",
       "      <th>name</th>\n",
       "      <th>type</th>\n",
       "      <th>degree_length</th>\n",
       "      <th>in_state_tuition</th>\n",
       "      <th>in_state_total</th>\n",
       "      <th>out_of_state_tuition</th>\n",
       "      <th>out_of_state_total</th>\n",
       "      <th>rank</th>\n",
       "      <th>state_name</th>\n",
       "      <th>early_career_pay</th>\n",
       "      <th>mid_career_pay</th>\n",
       "      <th>make_world_better_percent</th>\n",
       "      <th>stem_percent</th>\n",
       "    </tr>\n",
       "  </thead>\n",
       "  <tbody>\n",
       "    <tr>\n",
       "      <th>0</th>\n",
       "      <td>Adams State University</td>\n",
       "      <td>Public</td>\n",
       "      <td>4 Year</td>\n",
       "      <td>9440</td>\n",
       "      <td>18222</td>\n",
       "      <td>20456</td>\n",
       "      <td>29238</td>\n",
       "      <td>16</td>\n",
       "      <td>Colorado</td>\n",
       "      <td>44400</td>\n",
       "      <td>81400</td>\n",
       "      <td>56.0</td>\n",
       "      <td>3</td>\n",
       "    </tr>\n",
       "    <tr>\n",
       "      <th>1</th>\n",
       "      <td>Adventist University of Health Sciences</td>\n",
       "      <td>Private</td>\n",
       "      <td>4 Year</td>\n",
       "      <td>15150</td>\n",
       "      <td>19350</td>\n",
       "      <td>15150</td>\n",
       "      <td>19350</td>\n",
       "      <td>14</td>\n",
       "      <td>Florida</td>\n",
       "      <td>51600</td>\n",
       "      <td>89800</td>\n",
       "      <td>88.0</td>\n",
       "      <td>5</td>\n",
       "    </tr>\n",
       "    <tr>\n",
       "      <th>2</th>\n",
       "      <td>Agnes Scott College</td>\n",
       "      <td>Private</td>\n",
       "      <td>4 Year</td>\n",
       "      <td>41160</td>\n",
       "      <td>53490</td>\n",
       "      <td>41160</td>\n",
       "      <td>53490</td>\n",
       "      <td>14</td>\n",
       "      <td>Georgia</td>\n",
       "      <td>46000</td>\n",
       "      <td>83600</td>\n",
       "      <td>57.0</td>\n",
       "      <td>26</td>\n",
       "    </tr>\n",
       "    <tr>\n",
       "      <th>3</th>\n",
       "      <td>Alabama State University</td>\n",
       "      <td>Public</td>\n",
       "      <td>4 Year</td>\n",
       "      <td>11068</td>\n",
       "      <td>16490</td>\n",
       "      <td>19396</td>\n",
       "      <td>24818</td>\n",
       "      <td>20</td>\n",
       "      <td>Alabama</td>\n",
       "      <td>39800</td>\n",
       "      <td>71500</td>\n",
       "      <td>61.0</td>\n",
       "      <td>16</td>\n",
       "    </tr>\n",
       "    <tr>\n",
       "      <th>4</th>\n",
       "      <td>Alaska Pacific University</td>\n",
       "      <td>Private</td>\n",
       "      <td>4 Year</td>\n",
       "      <td>20830</td>\n",
       "      <td>28130</td>\n",
       "      <td>20830</td>\n",
       "      <td>28130</td>\n",
       "      <td>3</td>\n",
       "      <td>Alaska</td>\n",
       "      <td>50300</td>\n",
       "      <td>90000</td>\n",
       "      <td>67.0</td>\n",
       "      <td>6</td>\n",
       "    </tr>\n",
       "  </tbody>\n",
       "</table>\n",
       "</div>"
      ],
      "text/plain": [
       "                                      name     type degree_length  \\\n",
       "0                   Adams State University   Public        4 Year   \n",
       "1  Adventist University of Health Sciences  Private        4 Year   \n",
       "2                      Agnes Scott College  Private        4 Year   \n",
       "3                 Alabama State University   Public        4 Year   \n",
       "4                Alaska Pacific University  Private        4 Year   \n",
       "\n",
       "   in_state_tuition  in_state_total  out_of_state_tuition  out_of_state_total  \\\n",
       "0              9440           18222                 20456               29238   \n",
       "1             15150           19350                 15150               19350   \n",
       "2             41160           53490                 41160               53490   \n",
       "3             11068           16490                 19396               24818   \n",
       "4             20830           28130                 20830               28130   \n",
       "\n",
       "   rank state_name  early_career_pay  mid_career_pay  \\\n",
       "0    16   Colorado             44400           81400   \n",
       "1    14    Florida             51600           89800   \n",
       "2    14    Georgia             46000           83600   \n",
       "3    20    Alabama             39800           71500   \n",
       "4     3     Alaska             50300           90000   \n",
       "\n",
       "   make_world_better_percent  stem_percent  \n",
       "0                       56.0             3  \n",
       "1                       88.0             5  \n",
       "2                       57.0            26  \n",
       "3                       61.0            16  \n",
       "4                       67.0             6  "
      ]
     },
     "execution_count": 21,
     "metadata": {
     },
     "output_type": "execute_result"
    }
   ],
   "source": [
    "# inplace = True means that we want the rename to occur in existing dataframe, not return a new one\n",
    "merged_df.drop(['state','state_code'], axis=1, inplace=True)\n",
    "merged_df.head()"
   ]
  },
  {
   "cell_type": "code",
   "execution_count": 22,
   "metadata": {
    "collapsed": false
   },
   "outputs": [
    {
     "data": {
      "text/plain": [
       "(702, 13)"
      ]
     },
     "execution_count": 22,
     "metadata": {
     },
     "output_type": "execute_result"
    }
   ],
   "source": [
    "merged_df.shape"
   ]
  },
  {
   "cell_type": "markdown",
   "metadata": {
    "collapsed": false
   },
   "source": [
    "Now that we're done cleaning and merging our data, let's turn that into a function, and add it to the top as well to keep our notebook organized."
   ]
  },
  {
   "cell_type": "code",
   "execution_count": 23,
   "metadata": {
    "collapsed": false
   },
   "outputs": [
   ],
   "source": [
    "# this function cleans and merges our two dataframes, returns one merged_df\n",
    "def clean_and_merge_dfs(tuition, salary_potential):\n",
    "    # drop room and board (axis = 1 --> column)\n",
    "    tuition = tuition.drop('room_and_board', axis=1)\n",
    "    # drop rows with empty make world better place (axis = 0 --> row)\n",
    "    salary_potential = salary_potential.dropna(subset=['make_world_better_percent'])\n",
    "    # we create a new dataframe called merged_df that is the combined one\n",
    "    merged_df = pd.merge(tuition, salary_potential, on='name')\n",
    "    # replace mismatched rows\n",
    "    to_replace = ['New-York', 'North-Carolina', 'South-Dakota', 'South-Carolina',\n",
    "       'New-Jersey', 'West-Virginia', 'Rhode-Island', 'New-Hampshire',\n",
    "       'North-Dakota', 'New-Mexico']\n",
    "    replace_with = ['New York', 'North Carolina', 'South Dakota', 'South Carolina',\n",
    "           'New Jersey', 'West Virginia', 'Rhode Island', 'New Hampshire',\n",
    "           'North Dakota', 'New Mexico']\n",
    "    for i in range(len(to_replace)):\n",
    "        merged_df[\"state_name\"].replace({to_replace[i]: replace_with[i]}, inplace=True)\n",
    "    # drop the duplicative (and slightly incorrect) column 'state'\n",
    "    merged_df.drop(['state','state_code'], axis=1, inplace=True)\n",
    "    # return the merged dataframe\n",
    "    return merged_df"
   ]
  },
  {
   "cell_type": "markdown",
   "metadata": {
    "collapsed": false
   },
   "source": [
    "## Analyzing Our Data <a class=\"anchor\" id=\"Analyze\"></a>\n",
    "Here we want to start looking at our data in the context of our original goal. <br> \"Are There Associations With University Tuition & Professional Pay on a State-by-State Basis?\"<br> To do this I'm going to manually create a dataset, getting first the number of schools in that state, and then the average of statistics I am investigating."
   ]
  },
  {
   "cell_type": "code",
   "execution_count": 24,
   "metadata": {
    "collapsed": false
   },
   "outputs": [
    {
     "data": {
      "text/html": [
       "<div>\n",
       "<style scoped>\n",
       "    .dataframe tbody tr th:only-of-type {\n",
       "        vertical-align: middle;\n",
       "    }\n",
       "\n",
       "    .dataframe tbody tr th {\n",
       "        vertical-align: top;\n",
       "    }\n",
       "\n",
       "    .dataframe thead th {\n",
       "        text-align: right;\n",
       "    }\n",
       "</style>\n",
       "<table border=\"1\" class=\"dataframe\">\n",
       "  <thead>\n",
       "    <tr style=\"text-align: right;\">\n",
       "      <th></th>\n",
       "      <th>number of schools</th>\n",
       "      <th>average early_career_pay</th>\n",
       "      <th>average mid_career_pay</th>\n",
       "      <th>average make_world_better_percent</th>\n",
       "      <th>average stem_percent</th>\n",
       "      <th>average in_state_tuition</th>\n",
       "      <th>average out_of_state_tuition</th>\n",
       "    </tr>\n",
       "  </thead>\n",
       "  <tbody>\n",
       "    <tr>\n",
       "      <th>Alabama</th>\n",
       "      <td>21</td>\n",
       "      <td>44714.285714</td>\n",
       "      <td>81176.190476</td>\n",
       "      <td>60.047619</td>\n",
       "      <td>14.047619</td>\n",
       "      <td>16134.238095</td>\n",
       "      <td>22360.380952</td>\n",
       "    </tr>\n",
       "    <tr>\n",
       "      <th>Alaska</th>\n",
       "      <td>3</td>\n",
       "      <td>55133.333333</td>\n",
       "      <td>97600.0</td>\n",
       "      <td>59.333333</td>\n",
       "      <td>12.0</td>\n",
       "      <td>12201.666667</td>\n",
       "      <td>22981.666667</td>\n",
       "    </tr>\n",
       "    <tr>\n",
       "      <th>Arizona</th>\n",
       "      <td>3</td>\n",
       "      <td>48966.666667</td>\n",
       "      <td>88166.666667</td>\n",
       "      <td>58.666667</td>\n",
       "      <td>11.666667</td>\n",
       "      <td>18512.0</td>\n",
       "      <td>31233.0</td>\n",
       "    </tr>\n",
       "    <tr>\n",
       "      <th>Arkansas</th>\n",
       "      <td>14</td>\n",
       "      <td>45607.142857</td>\n",
       "      <td>81700.0</td>\n",
       "      <td>57.571429</td>\n",
       "      <td>14.071429</td>\n",
       "      <td>17196.357143</td>\n",
       "      <td>21704.142857</td>\n",
       "    </tr>\n",
       "    <tr>\n",
       "      <th>California</th>\n",
       "      <td>13</td>\n",
       "      <td>67800.0</td>\n",
       "      <td>124876.923077</td>\n",
       "      <td>49.769231</td>\n",
       "      <td>30.615385</td>\n",
       "      <td>47656.538462</td>\n",
       "      <td>48387.615385</td>\n",
       "    </tr>\n",
       "  </tbody>\n",
       "</table>\n",
       "</div>"
      ],
      "text/plain": [
       "           number of schools average early_career_pay average mid_career_pay  \\\n",
       "Alabama                   21             44714.285714           81176.190476   \n",
       "Alaska                     3             55133.333333                97600.0   \n",
       "Arizona                    3             48966.666667           88166.666667   \n",
       "Arkansas                  14             45607.142857                81700.0   \n",
       "California                13                  67800.0          124876.923077   \n",
       "\n",
       "           average make_world_better_percent average stem_percent  \\\n",
       "Alabama                            60.047619            14.047619   \n",
       "Alaska                             59.333333                 12.0   \n",
       "Arizona                            58.666667            11.666667   \n",
       "Arkansas                           57.571429            14.071429   \n",
       "California                         49.769231            30.615385   \n",
       "\n",
       "           average in_state_tuition average out_of_state_tuition  \n",
       "Alabama                16134.238095                 22360.380952  \n",
       "Alaska                 12201.666667                 22981.666667  \n",
       "Arizona                     18512.0                      31233.0  \n",
       "Arkansas               17196.357143                 21704.142857  \n",
       "California             47656.538462                 48387.615385  "
      ]
     },
     "execution_count": 24,
     "metadata": {
     },
     "output_type": "execute_result"
    }
   ],
   "source": [
    "def state_stats_df(merged_df):\n",
    "    # get a list of all state_name's\n",
    "    states = merged_df.state_name.unique()\n",
    "\n",
    "    # Create a column in a new dataframe for each stat I want\n",
    "    state_stats = pd.DataFrame(index=states, columns=['number of schools','average early_career_pay',\n",
    "                                                      'average mid_career_pay','average make_world_better_percent',\n",
    "                                                      'average stem_percent','average in_state_tuition','average out_of_state_tuition'])\n",
    "    # Fill in the columns for each state\n",
    "    for state in states:\n",
    "        state_stats.loc[state, 'number of schools'] = len(merged_df[merged_df.state_name == state])\n",
    "        state_stats.loc[state, 'average early_career_pay'] = merged_df[merged_df.state_name == state]['early_career_pay'].mean()\n",
    "        state_stats.loc[state, 'average mid_career_pay'] = merged_df[merged_df.state_name == state]['mid_career_pay'].mean()\n",
    "        state_stats.loc[state, 'average make_world_better_percent'] = merged_df[merged_df.state_name == state]['make_world_better_percent'].mean()\n",
    "        state_stats.loc[state, 'average stem_percent'] = merged_df[merged_df.state_name == state]['stem_percent'].mean()\n",
    "        state_stats.loc[state, 'average in_state_tuition'] = merged_df[merged_df.state_name == state]['in_state_tuition'].mean()\n",
    "        state_stats.loc[state, 'average out_of_state_tuition'] = merged_df[merged_df.state_name == state]['out_of_state_tuition'].mean()\n",
    "    # sort alphabetically by state\n",
    "    state_stats.sort_index(inplace = True)\n",
    "    return state_stats\n",
    "\n",
    "state_stats = state_stats_df(merged_df)\n",
    "state_stats.head()"
   ]
  },
  {
   "cell_type": "markdown",
   "metadata": {
    "collapsed": false
   },
   "source": [
    "We don't need to stay with just the data we have been given, we can combine columns or do additional calculations on them. <br> One example is say we want to get the average 4 year cost of tuition, we can create those columns as well (and a few others)"
   ]
  },
  {
   "cell_type": "code",
   "execution_count": 25,
   "metadata": {
    "collapsed": false
   },
   "outputs": [
   ],
   "source": [
    "def add_details(state_stats):\n",
    "    # convert all columns to numeric\n",
    "    state_stats = state_stats.apply(pd.to_numeric)\n",
    "    # make columns for four year average out of state and in state total\n",
    "    state_stats['four year average out of state tuition'] = state_stats['average out_of_state_tuition'] * 4\n",
    "    state_stats['four year average in state tuition'] = state_stats['average in_state_tuition'] * 4\n",
    "    # make column calculating how many years on average to repay four year average in and our of state based on average early career pay in index 0\n",
    "    state_stats['years to repay in state 4 year uni based on early career pay'] =  state_stats['four year average in state tuition'] / state_stats['average early_career_pay']\n",
    "    state_stats['years to repay out of state 4 year uni based on early career pay'] = state_stats['four year average out of state tuition'] / state_stats['average early_career_pay'] \n",
    "    # make column calculating how many years on average to repay four year average in and our of state based on average mid career pay in index 0\n",
    "    state_stats['years to repay in state 4 year uni based on mid career pay'] =  state_stats['four year average in state tuition'] / state_stats['average mid_career_pay']\n",
    "    state_stats['years to repay out of state 4 year uni based on mid career pay'] = state_stats['four year average out of state tuition'] / state_stats['average mid_career_pay'] \n",
    "    # move 'years to repay out of state 4 year uni based on early career pay' to the front of the dataframe\n",
    "    state_stats = state_stats.reindex(columns=['four year average in state tuition', 'four year average out of state tuition', 'years to repay in state 4 year uni based on early career pay', 'years to repay out of state 4 year uni based on early career pay',\n",
    "    'years to repay in state 4 year uni based on mid career pay', 'years to repay out of state 4 year uni based on mid career pay',\n",
    "    'number of schools', 'average early_career_pay', 'average mid_career_pay', 'average make_world_better_percent', 'average stem_percent',\n",
    "    'average in_state_tuition','average out_of_state_tuition'])\n",
    "    return state_stats"
   ]
  },
  {
   "cell_type": "code",
   "execution_count": 26,
   "metadata": {
    "collapsed": false
   },
   "outputs": [
    {
     "data": {
      "text/html": [
       "<div>\n",
       "<style scoped>\n",
       "    .dataframe tbody tr th:only-of-type {\n",
       "        vertical-align: middle;\n",
       "    }\n",
       "\n",
       "    .dataframe tbody tr th {\n",
       "        vertical-align: top;\n",
       "    }\n",
       "\n",
       "    .dataframe thead th {\n",
       "        text-align: right;\n",
       "    }\n",
       "</style>\n",
       "<table border=\"1\" class=\"dataframe\">\n",
       "  <thead>\n",
       "    <tr style=\"text-align: right;\">\n",
       "      <th></th>\n",
       "      <th>four year average in state tuition</th>\n",
       "      <th>four year average out of state tuition</th>\n",
       "      <th>years to repay in state 4 year uni based on early career pay</th>\n",
       "      <th>years to repay out of state 4 year uni based on early career pay</th>\n",
       "      <th>years to repay in state 4 year uni based on mid career pay</th>\n",
       "      <th>years to repay out of state 4 year uni based on mid career pay</th>\n",
       "      <th>number of schools</th>\n",
       "      <th>average early_career_pay</th>\n",
       "      <th>average mid_career_pay</th>\n",
       "      <th>average make_world_better_percent</th>\n",
       "      <th>average stem_percent</th>\n",
       "      <th>average in_state_tuition</th>\n",
       "      <th>average out_of_state_tuition</th>\n",
       "    </tr>\n",
       "  </thead>\n",
       "  <tbody>\n",
       "    <tr>\n",
       "      <th>Alabama</th>\n",
       "      <td>64536.952381</td>\n",
       "      <td>89441.523810</td>\n",
       "      <td>1.443318</td>\n",
       "      <td>2.000290</td>\n",
       "      <td>0.795023</td>\n",
       "      <td>1.101820</td>\n",
       "      <td>21</td>\n",
       "      <td>44714.285714</td>\n",
       "      <td>81176.190476</td>\n",
       "      <td>60.047619</td>\n",
       "      <td>14.047619</td>\n",
       "      <td>16134.238095</td>\n",
       "      <td>22360.380952</td>\n",
       "    </tr>\n",
       "    <tr>\n",
       "      <th>Alaska</th>\n",
       "      <td>48806.666667</td>\n",
       "      <td>91926.666667</td>\n",
       "      <td>0.885248</td>\n",
       "      <td>1.667352</td>\n",
       "      <td>0.500068</td>\n",
       "      <td>0.941872</td>\n",
       "      <td>3</td>\n",
       "      <td>55133.333333</td>\n",
       "      <td>97600.000000</td>\n",
       "      <td>59.333333</td>\n",
       "      <td>12.000000</td>\n",
       "      <td>12201.666667</td>\n",
       "      <td>22981.666667</td>\n",
       "    </tr>\n",
       "    <tr>\n",
       "      <th>Arizona</th>\n",
       "      <td>74048.000000</td>\n",
       "      <td>124932.000000</td>\n",
       "      <td>1.512212</td>\n",
       "      <td>2.551368</td>\n",
       "      <td>0.839864</td>\n",
       "      <td>1.416998</td>\n",
       "      <td>3</td>\n",
       "      <td>48966.666667</td>\n",
       "      <td>88166.666667</td>\n",
       "      <td>58.666667</td>\n",
       "      <td>11.666667</td>\n",
       "      <td>18512.000000</td>\n",
       "      <td>31233.000000</td>\n",
       "    </tr>\n",
       "    <tr>\n",
       "      <th>Arkansas</th>\n",
       "      <td>68785.428571</td>\n",
       "      <td>86816.571429</td>\n",
       "      <td>1.508216</td>\n",
       "      <td>1.903574</td>\n",
       "      <td>0.841927</td>\n",
       "      <td>1.062626</td>\n",
       "      <td>14</td>\n",
       "      <td>45607.142857</td>\n",
       "      <td>81700.000000</td>\n",
       "      <td>57.571429</td>\n",
       "      <td>14.071429</td>\n",
       "      <td>17196.357143</td>\n",
       "      <td>21704.142857</td>\n",
       "    </tr>\n",
       "    <tr>\n",
       "      <th>California</th>\n",
       "      <td>190626.153846</td>\n",
       "      <td>193550.461538</td>\n",
       "      <td>2.811595</td>\n",
       "      <td>2.854727</td>\n",
       "      <td>1.526512</td>\n",
       "      <td>1.549930</td>\n",
       "      <td>13</td>\n",
       "      <td>67800.000000</td>\n",
       "      <td>124876.923077</td>\n",
       "      <td>49.769231</td>\n",
       "      <td>30.615385</td>\n",
       "      <td>47656.538462</td>\n",
       "      <td>48387.615385</td>\n",
       "    </tr>\n",
       "  </tbody>\n",
       "</table>\n",
       "</div>"
      ],
      "text/plain": [
       "            four year average in state tuition  \\\n",
       "Alabama                           64536.952381   \n",
       "Alaska                            48806.666667   \n",
       "Arizona                           74048.000000   \n",
       "Arkansas                          68785.428571   \n",
       "California                       190626.153846   \n",
       "\n",
       "            four year average out of state tuition  \\\n",
       "Alabama                               89441.523810   \n",
       "Alaska                                91926.666667   \n",
       "Arizona                              124932.000000   \n",
       "Arkansas                              86816.571429   \n",
       "California                           193550.461538   \n",
       "\n",
       "            years to repay in state 4 year uni based on early career pay  \\\n",
       "Alabama                                              1.443318              \n",
       "Alaska                                               0.885248              \n",
       "Arizona                                              1.512212              \n",
       "Arkansas                                             1.508216              \n",
       "California                                           2.811595              \n",
       "\n",
       "            years to repay out of state 4 year uni based on early career pay  \\\n",
       "Alabama                                              2.000290                  \n",
       "Alaska                                               1.667352                  \n",
       "Arizona                                              2.551368                  \n",
       "Arkansas                                             1.903574                  \n",
       "California                                           2.854727                  \n",
       "\n",
       "            years to repay in state 4 year uni based on mid career pay  \\\n",
       "Alabama                                              0.795023            \n",
       "Alaska                                               0.500068            \n",
       "Arizona                                              0.839864            \n",
       "Arkansas                                             0.841927            \n",
       "California                                           1.526512            \n",
       "\n",
       "            years to repay out of state 4 year uni based on mid career pay  \\\n",
       "Alabama                                              1.101820                \n",
       "Alaska                                               0.941872                \n",
       "Arizona                                              1.416998                \n",
       "Arkansas                                             1.062626                \n",
       "California                                           1.549930                \n",
       "\n",
       "            number of schools  average early_career_pay  \\\n",
       "Alabama                    21              44714.285714   \n",
       "Alaska                      3              55133.333333   \n",
       "Arizona                     3              48966.666667   \n",
       "Arkansas                   14              45607.142857   \n",
       "California                 13              67800.000000   \n",
       "\n",
       "            average mid_career_pay  average make_world_better_percent  \\\n",
       "Alabama               81176.190476                          60.047619   \n",
       "Alaska                97600.000000                          59.333333   \n",
       "Arizona               88166.666667                          58.666667   \n",
       "Arkansas              81700.000000                          57.571429   \n",
       "California           124876.923077                          49.769231   \n",
       "\n",
       "            average stem_percent  average in_state_tuition  \\\n",
       "Alabama                14.047619              16134.238095   \n",
       "Alaska                 12.000000              12201.666667   \n",
       "Arizona                11.666667              18512.000000   \n",
       "Arkansas               14.071429              17196.357143   \n",
       "California             30.615385              47656.538462   \n",
       "\n",
       "            average out_of_state_tuition  \n",
       "Alabama                     22360.380952  \n",
       "Alaska                      22981.666667  \n",
       "Arizona                     31233.000000  \n",
       "Arkansas                    21704.142857  \n",
       "California                  48387.615385  "
      ]
     },
     "execution_count": 26,
     "metadata": {
     },
     "output_type": "execute_result"
    }
   ],
   "source": [
    "state_stats = add_details(state_stats)\n",
    "state_stats.head()"
   ]
  },
  {
   "cell_type": "markdown",
   "metadata": {
    "collapsed": false
   },
   "source": [
    "Notice: This assumes you divert your entire paycheck to student loans and there is no interest. While this gives a guidline, that does hurt the usefullness, as different areas may allow to divert different amounts. Look out for this type of error in your own work"
   ]
  },
  {
   "cell_type": "markdown",
   "metadata": {
    "collapsed": false
   },
   "source": [
    "One of my favorite ways to investigate a dataframe is by using highlighting. <br> Here is a quick example of how to highlight based on how the value compares to the average. <br>\n",
    "These functions are a bit confusing because they are meant to be used by the pandas Apply function. <br> Read more here: https://www.datacamp.com/community/tutorials/pandas-apply <br> It is a way to check each row and do 'something' based on some values."
   ]
  },
  {
   "cell_type": "markdown",
   "metadata": {
    "collapsed": false
   },
   "source": [
    "This uses python's \"list comprehension\", which you can find more on here - https://www.w3schools.com/python/python_lists_comprehension.asp"
   ]
  },
  {
   "cell_type": "code",
   "execution_count": 26,
   "metadata": {
    "collapsed": false
   },
   "outputs": [
    {
     "ename": "SyntaxError",
     "evalue": "invalid syntax (1594256051.py, line 1)",
     "output_type": "error",
     "traceback": [
      "\u001b[0;36m  Input \u001b[0;32mIn [26]\u001b[0;36m\u001b[0m\n\u001b[0;31m    def diabetes_stats(pregnancies)\u001b[0m\n\u001b[0m                                   ^\u001b[0m\n\u001b[0;31mSyntaxError\u001b[0m\u001b[0;31m:\u001b[0m invalid syntax\n"
     ]
    }
   ],
   "source": [
    "def diabetes_stats()\n",
    "def highlight_above_avg():\n",
    "    diabetes_TF = diabetes >= diabetes.quantile(.50)\n",
    "    return ['background: lightgreen' if diabetes else '' for diabetes in diabetes_TF]\n",
    "def highlight_top(s):   \n",
    "    diabetes_TF = s > s.quantile(0.90)\n",
    "    return ['color: blue' if diabetes else '' for diabetes in diabetes_TF]\n",
    "def return_highlighted_df(diabetes_stats):\n",
    "    return diabetes_stats.style.apply(highlight_above_avg).apply(highlight_top)"
   ]
  },
  {
   "cell_type": "code",
   "execution_count": 28,
   "metadata": {
    "collapsed": false,
    "scrolled": true
   },
   "outputs": [
    {
     "ename": "SyntaxError",
     "evalue": "invalid syntax (2466125896.py, line 1)",
     "output_type": "error",
     "traceback": [
      "\u001b[0;36m  Input \u001b[0;32mIn [28]\u001b[0;36m\u001b[0m\n\u001b[0;31m    def diabetes_stats:\u001b[0m\n\u001b[0m                      ^\u001b[0m\n\u001b[0;31mSyntaxError\u001b[0m\u001b[0;31m:\u001b[0m invalid syntax\n"
     ]
    }
   ],
   "source": [
    "def diabetes_stats:\n",
    "return_highlighted_df(diabetes_stats)"
   ]
  },
  {
   "cell_type": "markdown",
   "metadata": {
    "collapsed": false
   },
   "source": [
    "Add any other filters you can think of to the filters\n",
    "\n"
   ]
  },
  {
   "cell_type": "markdown",
   "metadata": {
    "collapsed": false
   },
   "source": [
    "Something to note aboout the below table, some green / blue values could be 'good' while others could be 'bad'. <br>\n",
    "E.g. Having a top 10% in 'average_early_career_pay' could be good, but having a top 10% 'years to repay out of state 4 year uni based on early career pay' would be less awesome.\n",
    "\n"
   ]
  },
  {
   "cell_type": "code",
   "execution_count": 20,
   "metadata": {
    "collapsed": false
   },
   "outputs": [
    {
     "ename": "NameError",
     "evalue": "name 'diabetes_stats' is not defined",
     "output_type": "error",
     "traceback": [
      "\u001b[0;31m---------------------------------------------------------------------------\u001b[0m",
      "\u001b[0;31mNameError\u001b[0m                                 Traceback (most recent call last)",
      "Input \u001b[0;32mIn [20]\u001b[0m, in \u001b[0;36m<cell line: 1>\u001b[0;34m()\u001b[0m\n\u001b[0;32m----> 1\u001b[0m return_highlighted_df(\u001b[43mdiabetes_stats\u001b[49m)\n",
      "\u001b[0;31mNameError\u001b[0m: name 'diabetes_stats' is not defined"
     ]
    }
   ],
   "source": [
    "return_highlighted_df(diabetes_stats)"
   ]
  },
  {
   "cell_type": "markdown",
   "metadata": {
    "collapsed": false
   },
   "source": [
    "## Visualizing Our Data <a class=\"anchor\" id=\"Visual\"></a>\n",
    "Last but not least we want to visualize our data, you can see different Python visualization libraries compared here:https://towardsdatascience.com/top-6-python-libraries-for-visualization-which-one-to-use-fe43381cd658 <br> We are using Plotly, as it is the most powerful and simple out of the box. <br> You can see some of the capabilities of Plotly in their documentation here: https://plotly.com/python/ <br> Note: if while running this you get an error 'PX IS NOT DEFINED' you did not import plotly.express (replace plotly with plotly.express in the import)."
   ]
  },
  {
   "cell_type": "markdown",
   "metadata": {
    "collapsed": false
   },
   "source": [
    "First things first, now that we have completed our calculations we will turn the index into a named column for ease of graphing and we need to include state code if we want to graph on a map.\n"
   ]
  },
  {
   "cell_type": "code",
   "execution_count": 29,
   "metadata": {
    "collapsed": false
   },
   "outputs": [
    {
     "data": {
      "text/html": [
       "<div>\n",
       "<style scoped>\n",
       "    .dataframe tbody tr th:only-of-type {\n",
       "        vertical-align: middle;\n",
       "    }\n",
       "\n",
       "    .dataframe tbody tr th {\n",
       "        vertical-align: top;\n",
       "    }\n",
       "\n",
       "    .dataframe thead th {\n",
       "        text-align: right;\n",
       "    }\n",
       "</style>\n",
       "<table border=\"1\" class=\"dataframe\">\n",
       "  <thead>\n",
       "    <tr style=\"text-align: right;\">\n",
       "      <th></th>\n",
       "      <th>state</th>\n",
       "      <th>four year average in state tuition</th>\n",
       "      <th>four year average out of state tuition</th>\n",
       "      <th>years to repay in state 4 year uni based on early career pay</th>\n",
       "      <th>years to repay out of state 4 year uni based on early career pay</th>\n",
       "      <th>years to repay in state 4 year uni based on mid career pay</th>\n",
       "      <th>years to repay out of state 4 year uni based on mid career pay</th>\n",
       "      <th>number of schools</th>\n",
       "      <th>average early_career_pay</th>\n",
       "      <th>average mid_career_pay</th>\n",
       "      <th>average make_world_better_percent</th>\n",
       "      <th>average stem_percent</th>\n",
       "      <th>average in_state_tuition</th>\n",
       "      <th>average out_of_state_tuition</th>\n",
       "      <th>state_code</th>\n",
       "    </tr>\n",
       "  </thead>\n",
       "  <tbody>\n",
       "    <tr>\n",
       "      <th>0</th>\n",
       "      <td>Alabama</td>\n",
       "      <td>64536.952381</td>\n",
       "      <td>89441.523810</td>\n",
       "      <td>1.443318</td>\n",
       "      <td>2.000290</td>\n",
       "      <td>0.795023</td>\n",
       "      <td>1.101820</td>\n",
       "      <td>21</td>\n",
       "      <td>44714.285714</td>\n",
       "      <td>81176.190476</td>\n",
       "      <td>60.047619</td>\n",
       "      <td>14.047619</td>\n",
       "      <td>16134.238095</td>\n",
       "      <td>22360.380952</td>\n",
       "      <td>AL</td>\n",
       "    </tr>\n",
       "    <tr>\n",
       "      <th>1</th>\n",
       "      <td>Alaska</td>\n",
       "      <td>48806.666667</td>\n",
       "      <td>91926.666667</td>\n",
       "      <td>0.885248</td>\n",
       "      <td>1.667352</td>\n",
       "      <td>0.500068</td>\n",
       "      <td>0.941872</td>\n",
       "      <td>3</td>\n",
       "      <td>55133.333333</td>\n",
       "      <td>97600.000000</td>\n",
       "      <td>59.333333</td>\n",
       "      <td>12.000000</td>\n",
       "      <td>12201.666667</td>\n",
       "      <td>22981.666667</td>\n",
       "      <td>AK</td>\n",
       "    </tr>\n",
       "    <tr>\n",
       "      <th>2</th>\n",
       "      <td>Arizona</td>\n",
       "      <td>74048.000000</td>\n",
       "      <td>124932.000000</td>\n",
       "      <td>1.512212</td>\n",
       "      <td>2.551368</td>\n",
       "      <td>0.839864</td>\n",
       "      <td>1.416998</td>\n",
       "      <td>3</td>\n",
       "      <td>48966.666667</td>\n",
       "      <td>88166.666667</td>\n",
       "      <td>58.666667</td>\n",
       "      <td>11.666667</td>\n",
       "      <td>18512.000000</td>\n",
       "      <td>31233.000000</td>\n",
       "      <td>AZ</td>\n",
       "    </tr>\n",
       "    <tr>\n",
       "      <th>3</th>\n",
       "      <td>Arkansas</td>\n",
       "      <td>68785.428571</td>\n",
       "      <td>86816.571429</td>\n",
       "      <td>1.508216</td>\n",
       "      <td>1.903574</td>\n",
       "      <td>0.841927</td>\n",
       "      <td>1.062626</td>\n",
       "      <td>14</td>\n",
       "      <td>45607.142857</td>\n",
       "      <td>81700.000000</td>\n",
       "      <td>57.571429</td>\n",
       "      <td>14.071429</td>\n",
       "      <td>17196.357143</td>\n",
       "      <td>21704.142857</td>\n",
       "      <td>AR</td>\n",
       "    </tr>\n",
       "    <tr>\n",
       "      <th>4</th>\n",
       "      <td>California</td>\n",
       "      <td>190626.153846</td>\n",
       "      <td>193550.461538</td>\n",
       "      <td>2.811595</td>\n",
       "      <td>2.854727</td>\n",
       "      <td>1.526512</td>\n",
       "      <td>1.549930</td>\n",
       "      <td>13</td>\n",
       "      <td>67800.000000</td>\n",
       "      <td>124876.923077</td>\n",
       "      <td>49.769231</td>\n",
       "      <td>30.615385</td>\n",
       "      <td>47656.538462</td>\n",
       "      <td>48387.615385</td>\n",
       "      <td>CA</td>\n",
       "    </tr>\n",
       "  </tbody>\n",
       "</table>\n",
       "</div>"
      ],
      "text/plain": [
       "        state  four year average in state tuition  \\\n",
       "0     Alabama                        64536.952381   \n",
       "1      Alaska                        48806.666667   \n",
       "2     Arizona                        74048.000000   \n",
       "3    Arkansas                        68785.428571   \n",
       "4  California                       190626.153846   \n",
       "\n",
       "   four year average out of state tuition  \\\n",
       "0                            89441.523810   \n",
       "1                            91926.666667   \n",
       "2                           124932.000000   \n",
       "3                            86816.571429   \n",
       "4                           193550.461538   \n",
       "\n",
       "   years to repay in state 4 year uni based on early career pay  \\\n",
       "0                                           1.443318              \n",
       "1                                           0.885248              \n",
       "2                                           1.512212              \n",
       "3                                           1.508216              \n",
       "4                                           2.811595              \n",
       "\n",
       "   years to repay out of state 4 year uni based on early career pay  \\\n",
       "0                                           2.000290                  \n",
       "1                                           1.667352                  \n",
       "2                                           2.551368                  \n",
       "3                                           1.903574                  \n",
       "4                                           2.854727                  \n",
       "\n",
       "   years to repay in state 4 year uni based on mid career pay  \\\n",
       "0                                           0.795023            \n",
       "1                                           0.500068            \n",
       "2                                           0.839864            \n",
       "3                                           0.841927            \n",
       "4                                           1.526512            \n",
       "\n",
       "   years to repay out of state 4 year uni based on mid career pay  \\\n",
       "0                                           1.101820                \n",
       "1                                           0.941872                \n",
       "2                                           1.416998                \n",
       "3                                           1.062626                \n",
       "4                                           1.549930                \n",
       "\n",
       "   number of schools  average early_career_pay  average mid_career_pay  \\\n",
       "0                 21              44714.285714            81176.190476   \n",
       "1                  3              55133.333333            97600.000000   \n",
       "2                  3              48966.666667            88166.666667   \n",
       "3                 14              45607.142857            81700.000000   \n",
       "4                 13              67800.000000           124876.923077   \n",
       "\n",
       "   average make_world_better_percent  average stem_percent  \\\n",
       "0                          60.047619             14.047619   \n",
       "1                          59.333333             12.000000   \n",
       "2                          58.666667             11.666667   \n",
       "3                          57.571429             14.071429   \n",
       "4                          49.769231             30.615385   \n",
       "\n",
       "   average in_state_tuition  average out_of_state_tuition state_code  \n",
       "0              16134.238095                  22360.380952         AL  \n",
       "1              12201.666667                  22981.666667         AK  \n",
       "2              18512.000000                  31233.000000         AZ  \n",
       "3              17196.357143                  21704.142857         AR  \n",
       "4              47656.538462                  48387.615385         CA  "
      ]
     },
     "execution_count": 29,
     "metadata": {
     },
     "output_type": "execute_result"
    }
   ],
   "source": [
    "# turn the index into a column\n",
    "state_stats_extras = state_stats.reset_index(level=0)\n",
    "# rename index to state\n",
    "state_stats_extras.rename({'index': 'state'}, axis=1, inplace=True)\n",
    "# finds each state and adds the code\n",
    "state_stats_extras = state_stats_extras.merge(tuition[['state','state_code']], on='state').drop_duplicates().reset_index(drop=True)\n",
    "state_stats_extras.head()"
   ]
  },
  {
   "cell_type": "code",
   "execution_count": 30,
   "metadata": {
    "collapsed": false
   },
   "outputs": [
   ],
   "source": [
    "# Define a function to add these last extras that need to be applied after our numerical calculations (highlighting for example)\n",
    "# Don't forget to pass in tuition as a parameter because you merge with it\n",
    "def add_extras(state_stats,tuition):\n",
    "    # turn the index into a column\n",
    "    state_stats_extras = state_stats.reset_index(level=0)\n",
    "    # rename index to state\n",
    "    state_stats_extras.rename({'index': 'state'}, axis=1, inplace=True)\n",
    "    # add the state_code column\n",
    "    state_stats_extras = state_stats_extras.merge(tuition[['state','state_code']], on='state').drop_duplicates().reset_index(drop=True)\n",
    "    return state_stats_extras"
   ]
  },
  {
   "cell_type": "code",
   "execution_count": 31,
   "metadata": {
    "collapsed": false
   },
   "outputs": [
    {
     "name": "stderr",
     "output_type": "stream",
     "text": [
      "WARNING: 1 intermediate output message was discarded.\n"
     ]
    },
    {
     "data": {
      "application/vnd.plotly.v1+json": {
       "config": {
        "plotlyServerURL": "https://plot.ly"
       },
       "data": [
        {
         "hovertemplate": "state=Alabama<br>four year average in state tuition=%{x}<br>average mid_career_pay=%{y}<br>average make_world_better_percent=%{marker.size}<extra></extra>",
         "legendgroup": "Alabama",
         "marker": {
          "color": "#636efa",
          "size": [
           60.04761904761905
          ],
          "sizemode": "area",
          "sizeref": 0.16583333333333333,
          "symbol": "circle"
         },
         "mode": "markers",
         "name": "Alabama",
         "orientation": "v",
         "showlegend": true,
         "type": "scatter",
         "x": [
          64536.95238095238
         ],
         "xaxis": "x",
         "y": [
          81176.19047619047
         ],
         "yaxis": "y"
        },
        {
         "hovertemplate": "state=Alaska<br>four year average in state tuition=%{x}<br>average mid_career_pay=%{y}<br>average make_world_better_percent=%{marker.size}<extra></extra>",
         "legendgroup": "Alaska",
         "marker": {
          "color": "#EF553B",
          "size": [
           59.333333333333336
          ],
          "sizemode": "area",
          "sizeref": 0.16583333333333333,
          "symbol": "circle"
         },
         "mode": "markers",
         "name": "Alaska",
         "orientation": "v",
         "showlegend": true,
         "type": "scatter",
         "x": [
          48806.666666666664
         ],
         "xaxis": "x",
         "y": [
          97600
         ],
         "yaxis": "y"
        },
        {
         "hovertemplate": "state=Arizona<br>four year average in state tuition=%{x}<br>average mid_career_pay=%{y}<br>average make_world_better_percent=%{marker.size}<extra></extra>",
         "legendgroup": "Arizona",
         "marker": {
          "color": "#00cc96",
          "size": [
           58.666666666666664
          ],
          "sizemode": "area",
          "sizeref": 0.16583333333333333,
          "symbol": "circle"
         },
         "mode": "markers",
         "name": "Arizona",
         "orientation": "v",
         "showlegend": true,
         "type": "scatter",
         "x": [
          74048
         ],
         "xaxis": "x",
         "y": [
          88166.66666666667
         ],
         "yaxis": "y"
        },
        {
         "hovertemplate": "state=Arkansas<br>four year average in state tuition=%{x}<br>average mid_career_pay=%{y}<br>average make_world_better_percent=%{marker.size}<extra></extra>",
         "legendgroup": "Arkansas",
         "marker": {
          "color": "#ab63fa",
          "size": [
           57.57142857142857
          ],
          "sizemode": "area",
          "sizeref": 0.16583333333333333,
          "symbol": "circle"
         },
         "mode": "markers",
         "name": "Arkansas",
         "orientation": "v",
         "showlegend": true,
         "type": "scatter",
         "x": [
          68785.42857142857
         ],
         "xaxis": "x",
         "y": [
          81700
         ],
         "yaxis": "y"
        },
        {
         "hovertemplate": "state=California<br>four year average in state tuition=%{x}<br>average mid_career_pay=%{y}<br>average make_world_better_percent=%{marker.size}<extra></extra>",
         "legendgroup": "California",
         "marker": {
          "color": "#FFA15A",
          "size": [
           49.76923076923077
          ],
          "sizemode": "area",
          "sizeref": 0.16583333333333333,
          "symbol": "circle"
         },
         "mode": "markers",
         "name": "California",
         "orientation": "v",
         "showlegend": true,
         "type": "scatter",
         "x": [
          190626.15384615384
         ],
         "xaxis": "x",
         "y": [
          124876.92307692308
         ],
         "yaxis": "y"
        },
        {
         "hovertemplate": "state=Colorado<br>four year average in state tuition=%{x}<br>average mid_career_pay=%{y}<br>average make_world_better_percent=%{marker.size}<extra></extra>",
         "legendgroup": "Colorado",
         "marker": {
          "color": "#19d3f3",
          "size": [
           53.92307692307692
          ],
          "sizemode": "area",
          "sizeref": 0.16583333333333333,
          "symbol": "circle"
         },
         "mode": "markers",
         "name": "Colorado",
         "orientation": "v",
         "showlegend": true,
         "type": "scatter",
         "x": [
          83676.61538461539
         ],
         "xaxis": "x",
         "y": [
          93815.38461538461
         ],
         "yaxis": "y"
        },
        {
         "hovertemplate": "state=Connecticut<br>four year average in state tuition=%{x}<br>average mid_career_pay=%{y}<br>average make_world_better_percent=%{marker.size}<extra></extra>",
         "legendgroup": "Connecticut",
         "marker": {
          "color": "#FF6692",
          "size": [
           51
          ],
          "sizemode": "area",
          "sizeref": 0.16583333333333333,
          "symbol": "circle"
         },
         "mode": "markers",
         "name": "Connecticut",
         "orientation": "v",
         "showlegend": true,
         "type": "scatter",
         "x": [
          135868.44444444444
         ],
         "xaxis": "x",
         "y": [
          99505.55555555556
         ],
         "yaxis": "y"
        },
        {
         "hovertemplate": "state=Delaware<br>four year average in state tuition=%{x}<br>average mid_career_pay=%{y}<br>average make_world_better_percent=%{marker.size}<extra></extra>",
         "legendgroup": "Delaware",
         "marker": {
          "color": "#B6E880",
          "size": [
           49.4
          ],
          "sizemode": "area",
          "sizeref": 0.16583333333333333,
          "symbol": "circle"
         },
         "mode": "markers",
         "name": "Delaware",
         "orientation": "v",
         "showlegend": true,
         "type": "scatter",
         "x": [
          66771.2
         ],
         "xaxis": "x",
         "y": [
          85620
         ],
         "yaxis": "y"
        },
        {
         "hovertemplate": "state=Florida<br>four year average in state tuition=%{x}<br>average mid_career_pay=%{y}<br>average make_world_better_percent=%{marker.size}<extra></extra>",
         "legendgroup": "Florida",
         "marker": {
          "color": "#FF97FF",
          "size": [
           54.5
          ],
          "sizemode": "area",
          "sizeref": 0.16583333333333333,
          "symbol": "circle"
         },
         "mode": "markers",
         "name": "Florida",
         "orientation": "v",
         "showlegend": true,
         "type": "scatter",
         "x": [
          96486.22222222222
         ],
         "xaxis": "x",
         "y": [
          90455.55555555556
         ],
         "yaxis": "y"
        },
        {
         "hovertemplate": "state=Georgia<br>four year average in state tuition=%{x}<br>average mid_career_pay=%{y}<br>average make_world_better_percent=%{marker.size}<extra></extra>",
         "legendgroup": "Georgia",
         "marker": {
          "color": "#FECB52",
          "size": [
           52.86363636363637
          ],
          "sizemode": "area",
          "sizeref": 0.16583333333333333,
          "symbol": "circle"
         },
         "mode": "markers",
         "name": "Georgia",
         "orientation": "v",
         "showlegend": true,
         "type": "scatter",
         "x": [
          84775.63636363637
         ],
         "xaxis": "x",
         "y": [
          86700
         ],
         "yaxis": "y"
        },
        {
         "hovertemplate": "state=Hawaii<br>four year average in state tuition=%{x}<br>average mid_career_pay=%{y}<br>average make_world_better_percent=%{marker.size}<extra></extra>",
         "legendgroup": "Hawaii",
         "marker": {
          "color": "#636efa",
          "size": [
           56.6
          ],
          "sizemode": "area",
          "sizeref": 0.16583333333333333,
          "symbol": "circle"
         },
         "mode": "markers",
         "name": "Hawaii",
         "orientation": "v",
         "showlegend": true,
         "type": "scatter",
         "x": [
          61283.2
         ],
         "xaxis": "x",
         "y": [
          88040
         ],
         "yaxis": "y"
        },
        {
         "hovertemplate": "state=Idaho<br>four year average in state tuition=%{x}<br>average mid_career_pay=%{y}<br>average make_world_better_percent=%{marker.size}<extra></extra>",
         "legendgroup": "Idaho",
         "marker": {
          "color": "#EF553B",
          "size": [
           60
          ],
          "sizemode": "area",
          "sizeref": 0.16583333333333333,
          "symbol": "circle"
         },
         "mode": "markers",
         "name": "Idaho",
         "orientation": "v",
         "showlegend": true,
         "type": "scatter",
         "x": [
          42009.333333333336
         ],
         "xaxis": "x",
         "y": [
          87933.33333333333
         ],
         "yaxis": "y"
        },
        {
         "hovertemplate": "state=Illinois<br>four year average in state tuition=%{x}<br>average mid_career_pay=%{y}<br>average make_world_better_percent=%{marker.size}<extra></extra>",
         "legendgroup": "Illinois",
         "marker": {
          "color": "#00cc96",
          "size": [
           51.26315789473684
          ],
          "sizemode": "area",
          "sizeref": 0.16583333333333333,
          "symbol": "circle"
         },
         "mode": "markers",
         "name": "Illinois",
         "orientation": "v",
         "showlegend": true,
         "type": "scatter",
         "x": [
          136982.31578947368
         ],
         "xaxis": "x",
         "y": [
          101368.42105263157
         ],
         "yaxis": "y"
        },
        {
         "hovertemplate": "state=Indiana<br>four year average in state tuition=%{x}<br>average mid_career_pay=%{y}<br>average make_world_better_percent=%{marker.size}<extra></extra>",
         "legendgroup": "Indiana",
         "marker": {
          "color": "#ab63fa",
          "size": [
           51.44444444444444
          ],
          "sizemode": "area",
          "sizeref": 0.16583333333333333,
          "symbol": "circle"
         },
         "mode": "markers",
         "name": "Indiana",
         "orientation": "v",
         "showlegend": true,
         "type": "scatter",
         "x": [
          143818.44444444444
         ],
         "xaxis": "x",
         "y": [
          96233.33333333333
         ],
         "yaxis": "y"
        },
        {
         "hovertemplate": "state=Iowa<br>four year average in state tuition=%{x}<br>average mid_career_pay=%{y}<br>average make_world_better_percent=%{marker.size}<extra></extra>",
         "legendgroup": "Iowa",
         "marker": {
          "color": "#FFA15A",
          "size": [
           50.04761904761905
          ],
          "sizemode": "area",
          "sizeref": 0.16583333333333333,
          "symbol": "circle"
         },
         "mode": "markers",
         "name": "Iowa",
         "orientation": "v",
         "showlegend": true,
         "type": "scatter",
         "x": [
          127574.47619047618
         ],
         "xaxis": "x",
         "y": [
          87285.71428571429
         ],
         "yaxis": "y"
        },
        {
         "hovertemplate": "state=Kansas<br>four year average in state tuition=%{x}<br>average mid_career_pay=%{y}<br>average make_world_better_percent=%{marker.size}<extra></extra>",
         "legendgroup": "Kansas",
         "marker": {
          "color": "#19d3f3",
          "size": [
           60.35294117647059
          ],
          "sizemode": "area",
          "sizeref": 0.16583333333333333,
          "symbol": "circle"
         },
         "mode": "markers",
         "name": "Kansas",
         "orientation": "v",
         "showlegend": true,
         "type": "scatter",
         "x": [
          84346.35294117648
         ],
         "xaxis": "x",
         "y": [
          83752.94117647059
         ],
         "yaxis": "y"
        },
        {
         "hovertemplate": "state=Kentucky<br>four year average in state tuition=%{x}<br>average mid_career_pay=%{y}<br>average make_world_better_percent=%{marker.size}<extra></extra>",
         "legendgroup": "Kentucky",
         "marker": {
          "color": "#FF6692",
          "size": [
           56.083333333333336
          ],
          "sizemode": "area",
          "sizeref": 0.16583333333333333,
          "symbol": "circle"
         },
         "mode": "markers",
         "name": "Kentucky",
         "orientation": "v",
         "showlegend": true,
         "type": "scatter",
         "x": [
          92465.5
         ],
         "xaxis": "x",
         "y": [
          79012.5
         ],
         "yaxis": "y"
        },
        {
         "hovertemplate": "state=Louisiana<br>four year average in state tuition=%{x}<br>average mid_career_pay=%{y}<br>average make_world_better_percent=%{marker.size}<extra></extra>",
         "legendgroup": "Louisiana",
         "marker": {
          "color": "#B6E880",
          "size": [
           58.666666666666664
          ],
          "sizemode": "area",
          "sizeref": 0.16583333333333333,
          "symbol": "circle"
         },
         "mode": "markers",
         "name": "Louisiana",
         "orientation": "v",
         "showlegend": true,
         "type": "scatter",
         "x": [
          61872
         ],
         "xaxis": "x",
         "y": [
          85926.66666666667
         ],
         "yaxis": "y"
        },
        {
         "hovertemplate": "state=Maine<br>four year average in state tuition=%{x}<br>average mid_career_pay=%{y}<br>average make_world_better_percent=%{marker.size}<extra></extra>",
         "legendgroup": "Maine",
         "marker": {
          "color": "#FF97FF",
          "size": [
           55.875
          ],
          "sizemode": "area",
          "sizeref": 0.16583333333333333,
          "symbol": "circle"
         },
         "mode": "markers",
         "name": "Maine",
         "orientation": "v",
         "showlegend": true,
         "type": "scatter",
         "x": [
          98022
         ],
         "xaxis": "x",
         "y": [
          86425
         ],
         "yaxis": "y"
        },
        {
         "hovertemplate": "state=Maryland<br>four year average in state tuition=%{x}<br>average mid_career_pay=%{y}<br>average make_world_better_percent=%{marker.size}<extra></extra>",
         "legendgroup": "Maryland",
         "marker": {
          "color": "#FECB52",
          "size": [
           52.294117647058826
          ],
          "sizemode": "area",
          "sizeref": 0.16583333333333333,
          "symbol": "circle"
         },
         "mode": "markers",
         "name": "Maryland",
         "orientation": "v",
         "showlegend": true,
         "type": "scatter",
         "x": [
          126087.5294117647
         ],
         "xaxis": "x",
         "y": [
          94688.23529411765
         ],
         "yaxis": "y"
        },
        {
         "hovertemplate": "state=Massachusetts<br>four year average in state tuition=%{x}<br>average mid_career_pay=%{y}<br>average make_world_better_percent=%{marker.size}<extra></extra>",
         "legendgroup": "Massachusetts",
         "marker": {
          "color": "#636efa",
          "size": [
           47.523809523809526
          ],
          "sizemode": "area",
          "sizeref": 0.16583333333333333,
          "symbol": "circle"
         },
         "mode": "markers",
         "name": "Massachusetts",
         "orientation": "v",
         "showlegend": true,
         "type": "scatter",
         "x": [
          188594.85714285713
         ],
         "xaxis": "x",
         "y": [
          116009.52380952382
         ],
         "yaxis": "y"
        },
        {
         "hovertemplate": "state=Michigan<br>four year average in state tuition=%{x}<br>average mid_career_pay=%{y}<br>average make_world_better_percent=%{marker.size}<extra></extra>",
         "legendgroup": "Michigan",
         "marker": {
          "color": "#EF553B",
          "size": [
           48.90909090909091
          ],
          "sizemode": "area",
          "sizeref": 0.16583333333333333,
          "symbol": "circle"
         },
         "mode": "markers",
         "name": "Michigan",
         "orientation": "v",
         "showlegend": true,
         "type": "scatter",
         "x": [
          99996.54545454546
         ],
         "xaxis": "x",
         "y": [
          93463.63636363637
         ],
         "yaxis": "y"
        },
        {
         "hovertemplate": "state=Minnesota<br>four year average in state tuition=%{x}<br>average mid_career_pay=%{y}<br>average make_world_better_percent=%{marker.size}<extra></extra>",
         "legendgroup": "Minnesota",
         "marker": {
          "color": "#00cc96",
          "size": [
           49.111111111111114
          ],
          "sizemode": "area",
          "sizeref": 0.16583333333333333,
          "symbol": "circle"
         },
         "mode": "markers",
         "name": "Minnesota",
         "orientation": "v",
         "showlegend": true,
         "type": "scatter",
         "x": [
          133345.33333333334
         ],
         "xaxis": "x",
         "y": [
          93055.55555555556
         ],
         "yaxis": "y"
        },
        {
         "hovertemplate": "state=Mississippi<br>four year average in state tuition=%{x}<br>average mid_career_pay=%{y}<br>average make_world_better_percent=%{marker.size}<extra></extra>",
         "legendgroup": "Mississippi",
         "marker": {
          "color": "#ab63fa",
          "size": [
           62.642857142857146
          ],
          "sizemode": "area",
          "sizeref": 0.16583333333333333,
          "symbol": "circle"
         },
         "mode": "markers",
         "name": "Mississippi",
         "orientation": "v",
         "showlegend": true,
         "type": "scatter",
         "x": [
          51116
         ],
         "xaxis": "x",
         "y": [
          75707.14285714286
         ],
         "yaxis": "y"
        },
        {
         "hovertemplate": "state=Missouri<br>four year average in state tuition=%{x}<br>average mid_career_pay=%{y}<br>average make_world_better_percent=%{marker.size}<extra></extra>",
         "legendgroup": "Missouri",
         "marker": {
          "color": "#FFA15A",
          "size": [
           53
          ],
          "sizemode": "area",
          "sizeref": 0.16583333333333333,
          "symbol": "circle"
         },
         "mode": "markers",
         "name": "Missouri",
         "orientation": "v",
         "showlegend": true,
         "type": "scatter",
         "x": [
          86910.35294117648
         ],
         "xaxis": "x",
         "y": [
          85794.11764705883
         ],
         "yaxis": "y"
        },
        {
         "hovertemplate": "state=Montana<br>four year average in state tuition=%{x}<br>average mid_career_pay=%{y}<br>average make_world_better_percent=%{marker.size}<extra></extra>",
         "legendgroup": "Montana",
         "marker": {
          "color": "#19d3f3",
          "size": [
           58
          ],
          "sizemode": "area",
          "sizeref": 0.16583333333333333,
          "symbol": "circle"
         },
         "mode": "markers",
         "name": "Montana",
         "orientation": "v",
         "showlegend": true,
         "type": "scatter",
         "x": [
          78830
         ],
         "xaxis": "x",
         "y": [
          95775
         ],
         "yaxis": "y"
        },
        {
         "hovertemplate": "state=Nebraska<br>four year average in state tuition=%{x}<br>average mid_career_pay=%{y}<br>average make_world_better_percent=%{marker.size}<extra></extra>",
         "legendgroup": "Nebraska",
         "marker": {
          "color": "#FF6692",
          "size": [
           59.63636363636363
          ],
          "sizemode": "area",
          "sizeref": 0.16583333333333333,
          "symbol": "circle"
         },
         "mode": "markers",
         "name": "Nebraska",
         "orientation": "v",
         "showlegend": true,
         "type": "scatter",
         "x": [
          78756.72727272728
         ],
         "xaxis": "x",
         "y": [
          83036.36363636363
         ],
         "yaxis": "y"
        },
        {
         "hovertemplate": "state=Nevada<br>four year average in state tuition=%{x}<br>average mid_career_pay=%{y}<br>average make_world_better_percent=%{marker.size}<extra></extra>",
         "legendgroup": "Nevada",
         "marker": {
          "color": "#B6E880",
          "size": [
           39
          ],
          "sizemode": "area",
          "sizeref": 0.16583333333333333,
          "symbol": "circle"
         },
         "mode": "markers",
         "name": "Nevada",
         "orientation": "v",
         "showlegend": true,
         "type": "scatter",
         "x": [
          136964
         ],
         "xaxis": "x",
         "y": [
          95500
         ],
         "yaxis": "y"
        },
        {
         "hovertemplate": "state=New Hampshire<br>four year average in state tuition=%{x}<br>average mid_career_pay=%{y}<br>average make_world_better_percent=%{marker.size}<extra></extra>",
         "legendgroup": "New Hampshire",
         "marker": {
          "color": "#FF97FF",
          "size": [
           51.27272727272727
          ],
          "sizemode": "area",
          "sizeref": 0.16583333333333333,
          "symbol": "circle"
         },
         "mode": "markers",
         "name": "New Hampshire",
         "orientation": "v",
         "showlegend": true,
         "type": "scatter",
         "x": [
          120004.36363636363
         ],
         "xaxis": "x",
         "y": [
          89909.09090909091
         ],
         "yaxis": "y"
        },
        {
         "hovertemplate": "state=New Jersey<br>four year average in state tuition=%{x}<br>average mid_career_pay=%{y}<br>average make_world_better_percent=%{marker.size}<extra></extra>",
         "legendgroup": "New Jersey",
         "marker": {
          "color": "#FECB52",
          "size": [
           46.473684210526315
          ],
          "sizemode": "area",
          "sizeref": 0.16583333333333333,
          "symbol": "circle"
         },
         "mode": "markers",
         "name": "New Jersey",
         "orientation": "v",
         "showlegend": true,
         "type": "scatter",
         "x": [
          104793.26315789473
         ],
         "xaxis": "x",
         "y": [
          100400
         ],
         "yaxis": "y"
        },
        {
         "hovertemplate": "state=New Mexico<br>four year average in state tuition=%{x}<br>average mid_career_pay=%{y}<br>average make_world_better_percent=%{marker.size}<extra></extra>",
         "legendgroup": "New Mexico",
         "marker": {
          "color": "#636efa",
          "size": [
           66.33333333333333
          ],
          "sizemode": "area",
          "sizeref": 0.16583333333333333,
          "symbol": "circle"
         },
         "mode": "markers",
         "name": "New Mexico",
         "orientation": "v",
         "showlegend": true,
         "type": "scatter",
         "x": [
          27658.666666666668
         ],
         "xaxis": "x",
         "y": [
          90300
         ],
         "yaxis": "y"
        },
        {
         "hovertemplate": "state=New York<br>four year average in state tuition=%{x}<br>average mid_career_pay=%{y}<br>average make_world_better_percent=%{marker.size}<extra></extra>",
         "legendgroup": "New York",
         "marker": {
          "color": "#EF553B",
          "size": [
           50.8125
          ],
          "sizemode": "area",
          "sizeref": 0.16583333333333333,
          "symbol": "circle"
         },
         "mode": "markers",
         "name": "New York",
         "orientation": "v",
         "showlegend": true,
         "type": "scatter",
         "x": [
          178446
         ],
         "xaxis": "x",
         "y": [
          122106.25
         ],
         "yaxis": "y"
        },
        {
         "hovertemplate": "state=North Carolina<br>four year average in state tuition=%{x}<br>average mid_career_pay=%{y}<br>average make_world_better_percent=%{marker.size}<extra></extra>",
         "legendgroup": "North Carolina",
         "marker": {
          "color": "#00cc96",
          "size": [
           51.85
          ],
          "sizemode": "area",
          "sizeref": 0.16583333333333333,
          "symbol": "circle"
         },
         "mode": "markers",
         "name": "North Carolina",
         "orientation": "v",
         "showlegend": true,
         "type": "scatter",
         "x": [
          110695.2
         ],
         "xaxis": "x",
         "y": [
          89245
         ],
         "yaxis": "y"
        },
        {
         "hovertemplate": "state=North Dakota<br>four year average in state tuition=%{x}<br>average mid_career_pay=%{y}<br>average make_world_better_percent=%{marker.size}<extra></extra>",
         "legendgroup": "North Dakota",
         "marker": {
          "color": "#ab63fa",
          "size": [
           56
          ],
          "sizemode": "area",
          "sizeref": 0.16583333333333333,
          "symbol": "circle"
         },
         "mode": "markers",
         "name": "North Dakota",
         "orientation": "v",
         "showlegend": true,
         "type": "scatter",
         "x": [
          44292.57142857143
         ],
         "xaxis": "x",
         "y": [
          80814.28571428571
         ],
         "yaxis": "y"
        },
        {
         "hovertemplate": "state=Ohio<br>four year average in state tuition=%{x}<br>average mid_career_pay=%{y}<br>average make_world_better_percent=%{marker.size}<extra></extra>",
         "legendgroup": "Ohio",
         "marker": {
          "color": "#FFA15A",
          "size": [
           50
          ],
          "sizemode": "area",
          "sizeref": 0.16583333333333333,
          "symbol": "circle"
         },
         "mode": "markers",
         "name": "Ohio",
         "orientation": "v",
         "showlegend": true,
         "type": "scatter",
         "x": [
          147707.46666666667
         ],
         "xaxis": "x",
         "y": [
          99440
         ],
         "yaxis": "y"
        },
        {
         "hovertemplate": "state=Oklahoma<br>four year average in state tuition=%{x}<br>average mid_career_pay=%{y}<br>average make_world_better_percent=%{marker.size}<extra></extra>",
         "legendgroup": "Oklahoma",
         "marker": {
          "color": "#19d3f3",
          "size": [
           57.63157894736842
          ],
          "sizemode": "area",
          "sizeref": 0.16583333333333333,
          "symbol": "circle"
         },
         "mode": "markers",
         "name": "Oklahoma",
         "orientation": "v",
         "showlegend": true,
         "type": "scatter",
         "x": [
          62780.42105263158
         ],
         "xaxis": "x",
         "y": [
          81221.05263157895
         ],
         "yaxis": "y"
        },
        {
         "hovertemplate": "state=Oregon<br>four year average in state tuition=%{x}<br>average mid_career_pay=%{y}<br>average make_world_better_percent=%{marker.size}<extra></extra>",
         "legendgroup": "Oregon",
         "marker": {
          "color": "#FF6692",
          "size": [
           57.22222222222222
          ],
          "sizemode": "area",
          "sizeref": 0.16583333333333333,
          "symbol": "circle"
         },
         "mode": "markers",
         "name": "Oregon",
         "orientation": "v",
         "showlegend": true,
         "type": "scatter",
         "x": [
          107244.44444444444
         ],
         "xaxis": "x",
         "y": [
          91083.33333333333
         ],
         "yaxis": "y"
        },
        {
         "hovertemplate": "state=Pennsylvania<br>four year average in state tuition=%{x}<br>average mid_career_pay=%{y}<br>average make_world_better_percent=%{marker.size}<extra></extra>",
         "legendgroup": "Pennsylvania",
         "marker": {
          "color": "#B6E880",
          "size": [
           45.36842105263158
          ],
          "sizemode": "area",
          "sizeref": 0.16583333333333333,
          "symbol": "circle"
         },
         "mode": "markers",
         "name": "Pennsylvania",
         "orientation": "v",
         "showlegend": true,
         "type": "scatter",
         "x": [
          191462.52631578947
         ],
         "xaxis": "x",
         "y": [
          113457.8947368421
         ],
         "yaxis": "y"
        },
        {
         "hovertemplate": "state=Rhode Island<br>four year average in state tuition=%{x}<br>average mid_career_pay=%{y}<br>average make_world_better_percent=%{marker.size}<extra></extra>",
         "legendgroup": "Rhode Island",
         "marker": {
          "color": "#FF97FF",
          "size": [
           45.44444444444444
          ],
          "sizemode": "area",
          "sizeref": 0.16583333333333333,
          "symbol": "circle"
         },
         "mode": "markers",
         "name": "Rhode Island",
         "orientation": "v",
         "showlegend": true,
         "type": "scatter",
         "x": [
          146248
         ],
         "xaxis": "x",
         "y": [
          100744.44444444444
         ],
         "yaxis": "y"
        },
        {
         "hovertemplate": "state=South Carolina<br>four year average in state tuition=%{x}<br>average mid_career_pay=%{y}<br>average make_world_better_percent=%{marker.size}<extra></extra>",
         "legendgroup": "South Carolina",
         "marker": {
          "color": "#FECB52",
          "size": [
           57.666666666666664
          ],
          "sizemode": "area",
          "sizeref": 0.16583333333333333,
          "symbol": "circle"
         },
         "mode": "markers",
         "name": "South Carolina",
         "orientation": "v",
         "showlegend": true,
         "type": "scatter",
         "x": [
          87783.33333333333
         ],
         "xaxis": "x",
         "y": [
          80477.77777777778
         ],
         "yaxis": "y"
        },
        {
         "hovertemplate": "state=South Dakota<br>four year average in state tuition=%{x}<br>average mid_career_pay=%{y}<br>average make_world_better_percent=%{marker.size}<extra></extra>",
         "legendgroup": "South Dakota",
         "marker": {
          "color": "#636efa",
          "size": [
           56.5
          ],
          "sizemode": "area",
          "sizeref": 0.16583333333333333,
          "symbol": "circle"
         },
         "mode": "markers",
         "name": "South Dakota",
         "orientation": "v",
         "showlegend": true,
         "type": "scatter",
         "x": [
          63994
         ],
         "xaxis": "x",
         "y": [
          85170
         ],
         "yaxis": "y"
        },
        {
         "hovertemplate": "state=Tennessee<br>four year average in state tuition=%{x}<br>average mid_career_pay=%{y}<br>average make_world_better_percent=%{marker.size}<extra></extra>",
         "legendgroup": "Tennessee",
         "marker": {
          "color": "#EF553B",
          "size": [
           57.7
          ],
          "sizemode": "area",
          "sizeref": 0.16583333333333333,
          "symbol": "circle"
         },
         "mode": "markers",
         "name": "Tennessee",
         "orientation": "v",
         "showlegend": true,
         "type": "scatter",
         "x": [
          98784.8
         ],
         "xaxis": "x",
         "y": [
          84660
         ],
         "yaxis": "y"
        },
        {
         "hovertemplate": "state=Texas<br>four year average in state tuition=%{x}<br>average mid_career_pay=%{y}<br>average make_world_better_percent=%{marker.size}<extra></extra>",
         "legendgroup": "Texas",
         "marker": {
          "color": "#00cc96",
          "size": [
           53.833333333333336
          ],
          "sizemode": "area",
          "sizeref": 0.16583333333333333,
          "symbol": "circle"
         },
         "mode": "markers",
         "name": "Texas",
         "orientation": "v",
         "showlegend": true,
         "type": "scatter",
         "x": [
          106221.55555555556
         ],
         "xaxis": "x",
         "y": [
          102516.66666666667
         ],
         "yaxis": "y"
        },
        {
         "hovertemplate": "state=Utah<br>four year average in state tuition=%{x}<br>average mid_career_pay=%{y}<br>average make_world_better_percent=%{marker.size}<extra></extra>",
         "legendgroup": "Utah",
         "marker": {
          "color": "#ab63fa",
          "size": [
           59.5
          ],
          "sizemode": "area",
          "sizeref": 0.16583333333333333,
          "symbol": "circle"
         },
         "mode": "markers",
         "name": "Utah",
         "orientation": "v",
         "showlegend": true,
         "type": "scatter",
         "x": [
          27761.333333333332
         ],
         "xaxis": "x",
         "y": [
          92833.33333333333
         ],
         "yaxis": "y"
        },
        {
         "hovertemplate": "state=Vermont<br>four year average in state tuition=%{x}<br>average mid_career_pay=%{y}<br>average make_world_better_percent=%{marker.size}<extra></extra>",
         "legendgroup": "Vermont",
         "marker": {
          "color": "#FFA15A",
          "size": [
           49.63636363636363
          ],
          "sizemode": "area",
          "sizeref": 0.16583333333333333,
          "symbol": "circle"
         },
         "mode": "markers",
         "name": "Vermont",
         "orientation": "v",
         "showlegend": true,
         "type": "scatter",
         "x": [
          129271.27272727272
         ],
         "xaxis": "x",
         "y": [
          89481.81818181818
         ],
         "yaxis": "y"
        },
        {
         "hovertemplate": "state=Virginia<br>four year average in state tuition=%{x}<br>average mid_career_pay=%{y}<br>average make_world_better_percent=%{marker.size}<extra></extra>",
         "legendgroup": "Virginia",
         "marker": {
          "color": "#19d3f3",
          "size": [
           53.13636363636363
          ],
          "sizemode": "area",
          "sizeref": 0.16583333333333333,
          "symbol": "circle"
         },
         "mode": "markers",
         "name": "Virginia",
         "orientation": "v",
         "showlegend": true,
         "type": "scatter",
         "x": [
          100446.36363636363
         ],
         "xaxis": "x",
         "y": [
          96559.09090909091
         ],
         "yaxis": "y"
        },
        {
         "hovertemplate": "state=Washington<br>four year average in state tuition=%{x}<br>average mid_career_pay=%{y}<br>average make_world_better_percent=%{marker.size}<extra></extra>",
         "legendgroup": "Washington",
         "marker": {
          "color": "#FF6692",
          "size": [
           51.1875
          ],
          "sizemode": "area",
          "sizeref": 0.16583333333333333,
          "symbol": "circle"
         },
         "mode": "markers",
         "name": "Washington",
         "orientation": "v",
         "showlegend": true,
         "type": "scatter",
         "x": [
          123986
         ],
         "xaxis": "x",
         "y": [
          97043.75
         ],
         "yaxis": "y"
        },
        {
         "hovertemplate": "state=West Virginia<br>four year average in state tuition=%{x}<br>average mid_career_pay=%{y}<br>average make_world_better_percent=%{marker.size}<extra></extra>",
         "legendgroup": "West Virginia",
         "marker": {
          "color": "#B6E880",
          "size": [
           55.86666666666667
          ],
          "sizemode": "area",
          "sizeref": 0.16583333333333333,
          "symbol": "circle"
         },
         "mode": "markers",
         "name": "West Virginia",
         "orientation": "v",
         "showlegend": true,
         "type": "scatter",
         "x": [
          53202.666666666664
         ],
         "xaxis": "x",
         "y": [
          80040
         ],
         "yaxis": "y"
        },
        {
         "hovertemplate": "state=Wisconsin<br>four year average in state tuition=%{x}<br>average mid_career_pay=%{y}<br>average make_world_better_percent=%{marker.size}<extra></extra>",
         "legendgroup": "Wisconsin",
         "marker": {
          "color": "#FF97FF",
          "size": [
           53.22727272727273
          ],
          "sizemode": "area",
          "sizeref": 0.16583333333333333,
          "symbol": "circle"
         },
         "mode": "markers",
         "name": "Wisconsin",
         "orientation": "v",
         "showlegend": true,
         "type": "scatter",
         "x": [
          95868.54545454546
         ],
         "xaxis": "x",
         "y": [
          91100
         ],
         "yaxis": "y"
        },
        {
         "hovertemplate": "state=Wyoming<br>four year average in state tuition=%{x}<br>average mid_career_pay=%{y}<br>average make_world_better_percent=%{marker.size}<extra></extra>",
         "legendgroup": "Wyoming",
         "marker": {
          "color": "#FECB52",
          "size": [
           58
          ],
          "sizemode": "area",
          "sizeref": 0.16583333333333333,
          "symbol": "circle"
         },
         "mode": "markers",
         "name": "Wyoming",
         "orientation": "v",
         "showlegend": true,
         "type": "scatter",
         "x": [
          21600
         ],
         "xaxis": "x",
         "y": [
          98800
         ],
         "yaxis": "y"
        },
        {
         "hovertemplate": "<b>OLS trendline</b><br>average mid_career_pay = 0.175898 * four year average in state tuition + 75105<br>R<sup>2</sup>=0.504633<br><br>four year average in state tuition=%{x}<br>average mid_career_pay=%{y} <b>(trend)</b><extra></extra>",
         "legendgroup": "Overall Trendline",
         "line": {
          "color": "#636efa"
         },
         "mode": "lines",
         "name": "Overall Trendline",
         "showlegend": true,
         "type": "scatter",
         "x": [
          21600,
          27658.666666666668,
          27761.333333333332,
          42009.333333333336,
          44292.57142857143,
          48806.666666666664,
          51116,
          53202.666666666664,
          61283.2,
          61872,
          62780.42105263158,
          63994,
          64536.95238095238,
          66771.2,
          68785.42857142857,
          74048,
          78756.72727272728,
          78830,
          83676.61538461539,
          84346.35294117648,
          84775.63636363637,
          86910.35294117648,
          87783.33333333333,
          92465.5,
          95868.54545454546,
          96486.22222222222,
          98022,
          98784.8,
          99996.54545454546,
          100446.36363636363,
          104793.26315789473,
          106221.55555555556,
          107244.44444444444,
          110695.2,
          120004.36363636363,
          123986,
          126087.5294117647,
          127574.47619047618,
          129271.27272727272,
          133345.33333333334,
          135868.44444444444,
          136964,
          136982.31578947368,
          143818.44444444444,
          146248,
          147707.46666666667,
          178446,
          188594.85714285713,
          190626.15384615384,
          191462.52631578947
         ],
         "xaxis": "x",
         "y": [
          78904.39341150041,
          79970.10341185667,
          79988.1623181127,
          82494.36325645054,
          82895.98126997765,
          83690.00356935023,
          84096.21169448603,
          84463.25310085874,
          85884.6062888339,
          85988.17528886852,
          86147.96513267193,
          86361.4317733683,
          86456.93624884666,
          86849.9369141566,
          87204.23657275719,
          88129.9146645845,
          88958.17243474776,
          88971.0609929907,
          89823.573066593,
          89941.37885636654,
          90016.88913964713,
          90392.38245026732,
          90545.93833726717,
          91369.52413832376,
          91968.11451671988,
          92076.7628950706,
          92346.90380661924,
          92481.07913478909,
          92694.22326696262,
          92773.34558232999,
          93537.95841639242,
          93789.19281751807,
          93969.11737486988,
          94576.09988548947,
          96213.56722410505,
          96913.93083939601,
          97283.58657940928,
          97545.13819451773,
          97843.60205419542,
          98560.22294932137,
          99004.03425155306,
          99196.74076203414,
          99199.96248078522,
          100402.42683014554,
          100829.78185633008,
          101086.4997626659,
          106493.35974884841,
          108278.52786328449,
          108635.82977961272,
          108782.94639023882
         ],
         "yaxis": "y"
        }
       ],
       "layout": {
        "legend": {
         "itemsizing": "constant",
         "title": {
          "text": "state"
         },
         "tracegroupgap": 0
        },
        "template": {
         "data": {
          "bar": [
           {
            "error_x": {
             "color": "#2a3f5f"
            },
            "error_y": {
             "color": "#2a3f5f"
            },
            "marker": {
             "line": {
              "color": "#E5ECF6",
              "width": 0.5
             },
             "pattern": {
              "fillmode": "overlay",
              "size": 10,
              "solidity": 0.2
             }
            },
            "type": "bar"
           }
          ],
          "barpolar": [
           {
            "marker": {
             "line": {
              "color": "#E5ECF6",
              "width": 0.5
             },
             "pattern": {
              "fillmode": "overlay",
              "size": 10,
              "solidity": 0.2
             }
            },
            "type": "barpolar"
           }
          ],
          "carpet": [
           {
            "aaxis": {
             "endlinecolor": "#2a3f5f",
             "gridcolor": "white",
             "linecolor": "white",
             "minorgridcolor": "white",
             "startlinecolor": "#2a3f5f"
            },
            "baxis": {
             "endlinecolor": "#2a3f5f",
             "gridcolor": "white",
             "linecolor": "white",
             "minorgridcolor": "white",
             "startlinecolor": "#2a3f5f"
            },
            "type": "carpet"
           }
          ],
          "choropleth": [
           {
            "colorbar": {
             "outlinewidth": 0,
             "ticks": ""
            },
            "type": "choropleth"
           }
          ],
          "contour": [
           {
            "colorbar": {
             "outlinewidth": 0,
             "ticks": ""
            },
            "colorscale": [
             [
              0,
              "#0d0887"
             ],
             [
              0.1111111111111111,
              "#46039f"
             ],
             [
              0.2222222222222222,
              "#7201a8"
             ],
             [
              0.3333333333333333,
              "#9c179e"
             ],
             [
              0.4444444444444444,
              "#bd3786"
             ],
             [
              0.5555555555555556,
              "#d8576b"
             ],
             [
              0.6666666666666666,
              "#ed7953"
             ],
             [
              0.7777777777777778,
              "#fb9f3a"
             ],
             [
              0.8888888888888888,
              "#fdca26"
             ],
             [
              1,
              "#f0f921"
             ]
            ],
            "type": "contour"
           }
          ],
          "contourcarpet": [
           {
            "colorbar": {
             "outlinewidth": 0,
             "ticks": ""
            },
            "type": "contourcarpet"
           }
          ],
          "heatmap": [
           {
            "colorbar": {
             "outlinewidth": 0,
             "ticks": ""
            },
            "colorscale": [
             [
              0,
              "#0d0887"
             ],
             [
              0.1111111111111111,
              "#46039f"
             ],
             [
              0.2222222222222222,
              "#7201a8"
             ],
             [
              0.3333333333333333,
              "#9c179e"
             ],
             [
              0.4444444444444444,
              "#bd3786"
             ],
             [
              0.5555555555555556,
              "#d8576b"
             ],
             [
              0.6666666666666666,
              "#ed7953"
             ],
             [
              0.7777777777777778,
              "#fb9f3a"
             ],
             [
              0.8888888888888888,
              "#fdca26"
             ],
             [
              1,
              "#f0f921"
             ]
            ],
            "type": "heatmap"
           }
          ],
          "heatmapgl": [
           {
            "colorbar": {
             "outlinewidth": 0,
             "ticks": ""
            },
            "colorscale": [
             [
              0,
              "#0d0887"
             ],
             [
              0.1111111111111111,
              "#46039f"
             ],
             [
              0.2222222222222222,
              "#7201a8"
             ],
             [
              0.3333333333333333,
              "#9c179e"
             ],
             [
              0.4444444444444444,
              "#bd3786"
             ],
             [
              0.5555555555555556,
              "#d8576b"
             ],
             [
              0.6666666666666666,
              "#ed7953"
             ],
             [
              0.7777777777777778,
              "#fb9f3a"
             ],
             [
              0.8888888888888888,
              "#fdca26"
             ],
             [
              1,
              "#f0f921"
             ]
            ],
            "type": "heatmapgl"
           }
          ],
          "histogram": [
           {
            "marker": {
             "pattern": {
              "fillmode": "overlay",
              "size": 10,
              "solidity": 0.2
             }
            },
            "type": "histogram"
           }
          ],
          "histogram2d": [
           {
            "colorbar": {
             "outlinewidth": 0,
             "ticks": ""
            },
            "colorscale": [
             [
              0,
              "#0d0887"
             ],
             [
              0.1111111111111111,
              "#46039f"
             ],
             [
              0.2222222222222222,
              "#7201a8"
             ],
             [
              0.3333333333333333,
              "#9c179e"
             ],
             [
              0.4444444444444444,
              "#bd3786"
             ],
             [
              0.5555555555555556,
              "#d8576b"
             ],
             [
              0.6666666666666666,
              "#ed7953"
             ],
             [
              0.7777777777777778,
              "#fb9f3a"
             ],
             [
              0.8888888888888888,
              "#fdca26"
             ],
             [
              1,
              "#f0f921"
             ]
            ],
            "type": "histogram2d"
           }
          ],
          "histogram2dcontour": [
           {
            "colorbar": {
             "outlinewidth": 0,
             "ticks": ""
            },
            "colorscale": [
             [
              0,
              "#0d0887"
             ],
             [
              0.1111111111111111,
              "#46039f"
             ],
             [
              0.2222222222222222,
              "#7201a8"
             ],
             [
              0.3333333333333333,
              "#9c179e"
             ],
             [
              0.4444444444444444,
              "#bd3786"
             ],
             [
              0.5555555555555556,
              "#d8576b"
             ],
             [
              0.6666666666666666,
              "#ed7953"
             ],
             [
              0.7777777777777778,
              "#fb9f3a"
             ],
             [
              0.8888888888888888,
              "#fdca26"
             ],
             [
              1,
              "#f0f921"
             ]
            ],
            "type": "histogram2dcontour"
           }
          ],
          "mesh3d": [
           {
            "colorbar": {
             "outlinewidth": 0,
             "ticks": ""
            },
            "type": "mesh3d"
           }
          ],
          "parcoords": [
           {
            "line": {
             "colorbar": {
              "outlinewidth": 0,
              "ticks": ""
             }
            },
            "type": "parcoords"
           }
          ],
          "pie": [
           {
            "automargin": true,
            "type": "pie"
           }
          ],
          "scatter": [
           {
            "marker": {
             "colorbar": {
              "outlinewidth": 0,
              "ticks": ""
             }
            },
            "type": "scatter"
           }
          ],
          "scatter3d": [
           {
            "line": {
             "colorbar": {
              "outlinewidth": 0,
              "ticks": ""
             }
            },
            "marker": {
             "colorbar": {
              "outlinewidth": 0,
              "ticks": ""
             }
            },
            "type": "scatter3d"
           }
          ],
          "scattercarpet": [
           {
            "marker": {
             "colorbar": {
              "outlinewidth": 0,
              "ticks": ""
             }
            },
            "type": "scattercarpet"
           }
          ],
          "scattergeo": [
           {
            "marker": {
             "colorbar": {
              "outlinewidth": 0,
              "ticks": ""
             }
            },
            "type": "scattergeo"
           }
          ],
          "scattergl": [
           {
            "marker": {
             "colorbar": {
              "outlinewidth": 0,
              "ticks": ""
             }
            },
            "type": "scattergl"
           }
          ],
          "scattermapbox": [
           {
            "marker": {
             "colorbar": {
              "outlinewidth": 0,
              "ticks": ""
             }
            },
            "type": "scattermapbox"
           }
          ],
          "scatterpolar": [
           {
            "marker": {
             "colorbar": {
              "outlinewidth": 0,
              "ticks": ""
             }
            },
            "type": "scatterpolar"
           }
          ],
          "scatterpolargl": [
           {
            "marker": {
             "colorbar": {
              "outlinewidth": 0,
              "ticks": ""
             }
            },
            "type": "scatterpolargl"
           }
          ],
          "scatterternary": [
           {
            "marker": {
             "colorbar": {
              "outlinewidth": 0,
              "ticks": ""
             }
            },
            "type": "scatterternary"
           }
          ],
          "surface": [
           {
            "colorbar": {
             "outlinewidth": 0,
             "ticks": ""
            },
            "colorscale": [
             [
              0,
              "#0d0887"
             ],
             [
              0.1111111111111111,
              "#46039f"
             ],
             [
              0.2222222222222222,
              "#7201a8"
             ],
             [
              0.3333333333333333,
              "#9c179e"
             ],
             [
              0.4444444444444444,
              "#bd3786"
             ],
             [
              0.5555555555555556,
              "#d8576b"
             ],
             [
              0.6666666666666666,
              "#ed7953"
             ],
             [
              0.7777777777777778,
              "#fb9f3a"
             ],
             [
              0.8888888888888888,
              "#fdca26"
             ],
             [
              1,
              "#f0f921"
             ]
            ],
            "type": "surface"
           }
          ],
          "table": [
           {
            "cells": {
             "fill": {
              "color": "#EBF0F8"
             },
             "line": {
              "color": "white"
             }
            },
            "header": {
             "fill": {
              "color": "#C8D4E3"
             },
             "line": {
              "color": "white"
             }
            },
            "type": "table"
           }
          ]
         },
         "layout": {
          "annotationdefaults": {
           "arrowcolor": "#2a3f5f",
           "arrowhead": 0,
           "arrowwidth": 1
          },
          "autotypenumbers": "strict",
          "coloraxis": {
           "colorbar": {
            "outlinewidth": 0,
            "ticks": ""
           }
          },
          "colorscale": {
           "diverging": [
            [
             0,
             "#8e0152"
            ],
            [
             0.1,
             "#c51b7d"
            ],
            [
             0.2,
             "#de77ae"
            ],
            [
             0.3,
             "#f1b6da"
            ],
            [
             0.4,
             "#fde0ef"
            ],
            [
             0.5,
             "#f7f7f7"
            ],
            [
             0.6,
             "#e6f5d0"
            ],
            [
             0.7,
             "#b8e186"
            ],
            [
             0.8,
             "#7fbc41"
            ],
            [
             0.9,
             "#4d9221"
            ],
            [
             1,
             "#276419"
            ]
           ],
           "sequential": [
            [
             0,
             "#0d0887"
            ],
            [
             0.1111111111111111,
             "#46039f"
            ],
            [
             0.2222222222222222,
             "#7201a8"
            ],
            [
             0.3333333333333333,
             "#9c179e"
            ],
            [
             0.4444444444444444,
             "#bd3786"
            ],
            [
             0.5555555555555556,
             "#d8576b"
            ],
            [
             0.6666666666666666,
             "#ed7953"
            ],
            [
             0.7777777777777778,
             "#fb9f3a"
            ],
            [
             0.8888888888888888,
             "#fdca26"
            ],
            [
             1,
             "#f0f921"
            ]
           ],
           "sequentialminus": [
            [
             0,
             "#0d0887"
            ],
            [
             0.1111111111111111,
             "#46039f"
            ],
            [
             0.2222222222222222,
             "#7201a8"
            ],
            [
             0.3333333333333333,
             "#9c179e"
            ],
            [
             0.4444444444444444,
             "#bd3786"
            ],
            [
             0.5555555555555556,
             "#d8576b"
            ],
            [
             0.6666666666666666,
             "#ed7953"
            ],
            [
             0.7777777777777778,
             "#fb9f3a"
            ],
            [
             0.8888888888888888,
             "#fdca26"
            ],
            [
             1,
             "#f0f921"
            ]
           ]
          },
          "colorway": [
           "#636efa",
           "#EF553B",
           "#00cc96",
           "#ab63fa",
           "#FFA15A",
           "#19d3f3",
           "#FF6692",
           "#B6E880",
           "#FF97FF",
           "#FECB52"
          ],
          "font": {
           "color": "#2a3f5f"
          },
          "geo": {
           "bgcolor": "white",
           "lakecolor": "white",
           "landcolor": "#E5ECF6",
           "showlakes": true,
           "showland": true,
           "subunitcolor": "white"
          },
          "hoverlabel": {
           "align": "left"
          },
          "hovermode": "closest",
          "mapbox": {
           "style": "light"
          },
          "paper_bgcolor": "white",
          "plot_bgcolor": "#E5ECF6",
          "polar": {
           "angularaxis": {
            "gridcolor": "white",
            "linecolor": "white",
            "ticks": ""
           },
           "bgcolor": "#E5ECF6",
           "radialaxis": {
            "gridcolor": "white",
            "linecolor": "white",
            "ticks": ""
           }
          },
          "scene": {
           "xaxis": {
            "backgroundcolor": "#E5ECF6",
            "gridcolor": "white",
            "gridwidth": 2,
            "linecolor": "white",
            "showbackground": true,
            "ticks": "",
            "zerolinecolor": "white"
           },
           "yaxis": {
            "backgroundcolor": "#E5ECF6",
            "gridcolor": "white",
            "gridwidth": 2,
            "linecolor": "white",
            "showbackground": true,
            "ticks": "",
            "zerolinecolor": "white"
           },
           "zaxis": {
            "backgroundcolor": "#E5ECF6",
            "gridcolor": "white",
            "gridwidth": 2,
            "linecolor": "white",
            "showbackground": true,
            "ticks": "",
            "zerolinecolor": "white"
           }
          },
          "shapedefaults": {
           "line": {
            "color": "#2a3f5f"
           }
          },
          "ternary": {
           "aaxis": {
            "gridcolor": "white",
            "linecolor": "white",
            "ticks": ""
           },
           "baxis": {
            "gridcolor": "white",
            "linecolor": "white",
            "ticks": ""
           },
           "bgcolor": "#E5ECF6",
           "caxis": {
            "gridcolor": "white",
            "linecolor": "white",
            "ticks": ""
           }
          },
          "title": {
           "x": 0.05
          },
          "xaxis": {
           "automargin": true,
           "gridcolor": "white",
           "linecolor": "white",
           "ticks": "",
           "title": {
            "standoff": 15
           },
           "zerolinecolor": "white",
           "zerolinewidth": 2
          },
          "yaxis": {
           "automargin": true,
           "gridcolor": "white",
           "linecolor": "white",
           "ticks": "",
           "title": {
            "standoff": 15
           },
           "zerolinecolor": "white",
           "zerolinewidth": 2
          }
         }
        },
        "title": {
         "text": "Average In State Tuition vs Average % of Students Graduating with STEM Degrees"
        },
        "xaxis": {
         "anchor": "y",
         "domain": [
          0,
          1
         ],
         "title": {
          "text": "four year average in state tuition"
         }
        },
        "yaxis": {
         "anchor": "x",
         "domain": [
          0,
          1
         ],
         "title": {
          "text": "average mid_career_pay"
         }
        }
       }
      },
      "text/html": [
       "<div>                            <div id=\"c26159d1-21a9-4225-b7ce-be869c125be5\" class=\"plotly-graph-div\" style=\"height:525px; width:100%;\"></div>            <script type=\"text/javascript\">                require([\"plotly\"], function(Plotly) {                    window.PLOTLYENV=window.PLOTLYENV || {};                                    if (document.getElementById(\"c26159d1-21a9-4225-b7ce-be869c125be5\")) {                    Plotly.newPlot(                        \"c26159d1-21a9-4225-b7ce-be869c125be5\",                        [{\"hovertemplate\":\"state=Alabama<br>four year average in state tuition=%{x}<br>average mid_career_pay=%{y}<br>average make_world_better_percent=%{marker.size}<extra></extra>\",\"legendgroup\":\"Alabama\",\"marker\":{\"color\":\"#636efa\",\"size\":[60.04761904761905],\"sizemode\":\"area\",\"sizeref\":0.16583333333333333,\"symbol\":\"circle\"},\"mode\":\"markers\",\"name\":\"Alabama\",\"orientation\":\"v\",\"showlegend\":true,\"x\":[64536.95238095238],\"xaxis\":\"x\",\"y\":[81176.19047619047],\"yaxis\":\"y\",\"type\":\"scatter\"},{\"hovertemplate\":\"state=Alaska<br>four year average in state tuition=%{x}<br>average mid_career_pay=%{y}<br>average make_world_better_percent=%{marker.size}<extra></extra>\",\"legendgroup\":\"Alaska\",\"marker\":{\"color\":\"#EF553B\",\"size\":[59.333333333333336],\"sizemode\":\"area\",\"sizeref\":0.16583333333333333,\"symbol\":\"circle\"},\"mode\":\"markers\",\"name\":\"Alaska\",\"orientation\":\"v\",\"showlegend\":true,\"x\":[48806.666666666664],\"xaxis\":\"x\",\"y\":[97600.0],\"yaxis\":\"y\",\"type\":\"scatter\"},{\"hovertemplate\":\"state=Arizona<br>four year average in state tuition=%{x}<br>average mid_career_pay=%{y}<br>average make_world_better_percent=%{marker.size}<extra></extra>\",\"legendgroup\":\"Arizona\",\"marker\":{\"color\":\"#00cc96\",\"size\":[58.666666666666664],\"sizemode\":\"area\",\"sizeref\":0.16583333333333333,\"symbol\":\"circle\"},\"mode\":\"markers\",\"name\":\"Arizona\",\"orientation\":\"v\",\"showlegend\":true,\"x\":[74048.0],\"xaxis\":\"x\",\"y\":[88166.66666666667],\"yaxis\":\"y\",\"type\":\"scatter\"},{\"hovertemplate\":\"state=Arkansas<br>four year average in state tuition=%{x}<br>average mid_career_pay=%{y}<br>average make_world_better_percent=%{marker.size}<extra></extra>\",\"legendgroup\":\"Arkansas\",\"marker\":{\"color\":\"#ab63fa\",\"size\":[57.57142857142857],\"sizemode\":\"area\",\"sizeref\":0.16583333333333333,\"symbol\":\"circle\"},\"mode\":\"markers\",\"name\":\"Arkansas\",\"orientation\":\"v\",\"showlegend\":true,\"x\":[68785.42857142857],\"xaxis\":\"x\",\"y\":[81700.0],\"yaxis\":\"y\",\"type\":\"scatter\"},{\"hovertemplate\":\"state=California<br>four year average in state tuition=%{x}<br>average mid_career_pay=%{y}<br>average make_world_better_percent=%{marker.size}<extra></extra>\",\"legendgroup\":\"California\",\"marker\":{\"color\":\"#FFA15A\",\"size\":[49.76923076923077],\"sizemode\":\"area\",\"sizeref\":0.16583333333333333,\"symbol\":\"circle\"},\"mode\":\"markers\",\"name\":\"California\",\"orientation\":\"v\",\"showlegend\":true,\"x\":[190626.15384615384],\"xaxis\":\"x\",\"y\":[124876.92307692308],\"yaxis\":\"y\",\"type\":\"scatter\"},{\"hovertemplate\":\"state=Colorado<br>four year average in state tuition=%{x}<br>average mid_career_pay=%{y}<br>average make_world_better_percent=%{marker.size}<extra></extra>\",\"legendgroup\":\"Colorado\",\"marker\":{\"color\":\"#19d3f3\",\"size\":[53.92307692307692],\"sizemode\":\"area\",\"sizeref\":0.16583333333333333,\"symbol\":\"circle\"},\"mode\":\"markers\",\"name\":\"Colorado\",\"orientation\":\"v\",\"showlegend\":true,\"x\":[83676.61538461539],\"xaxis\":\"x\",\"y\":[93815.38461538461],\"yaxis\":\"y\",\"type\":\"scatter\"},{\"hovertemplate\":\"state=Connecticut<br>four year average in state tuition=%{x}<br>average mid_career_pay=%{y}<br>average make_world_better_percent=%{marker.size}<extra></extra>\",\"legendgroup\":\"Connecticut\",\"marker\":{\"color\":\"#FF6692\",\"size\":[51.0],\"sizemode\":\"area\",\"sizeref\":0.16583333333333333,\"symbol\":\"circle\"},\"mode\":\"markers\",\"name\":\"Connecticut\",\"orientation\":\"v\",\"showlegend\":true,\"x\":[135868.44444444444],\"xaxis\":\"x\",\"y\":[99505.55555555556],\"yaxis\":\"y\",\"type\":\"scatter\"},{\"hovertemplate\":\"state=Delaware<br>four year average in state tuition=%{x}<br>average mid_career_pay=%{y}<br>average make_world_better_percent=%{marker.size}<extra></extra>\",\"legendgroup\":\"Delaware\",\"marker\":{\"color\":\"#B6E880\",\"size\":[49.4],\"sizemode\":\"area\",\"sizeref\":0.16583333333333333,\"symbol\":\"circle\"},\"mode\":\"markers\",\"name\":\"Delaware\",\"orientation\":\"v\",\"showlegend\":true,\"x\":[66771.2],\"xaxis\":\"x\",\"y\":[85620.0],\"yaxis\":\"y\",\"type\":\"scatter\"},{\"hovertemplate\":\"state=Florida<br>four year average in state tuition=%{x}<br>average mid_career_pay=%{y}<br>average make_world_better_percent=%{marker.size}<extra></extra>\",\"legendgroup\":\"Florida\",\"marker\":{\"color\":\"#FF97FF\",\"size\":[54.5],\"sizemode\":\"area\",\"sizeref\":0.16583333333333333,\"symbol\":\"circle\"},\"mode\":\"markers\",\"name\":\"Florida\",\"orientation\":\"v\",\"showlegend\":true,\"x\":[96486.22222222222],\"xaxis\":\"x\",\"y\":[90455.55555555556],\"yaxis\":\"y\",\"type\":\"scatter\"},{\"hovertemplate\":\"state=Georgia<br>four year average in state tuition=%{x}<br>average mid_career_pay=%{y}<br>average make_world_better_percent=%{marker.size}<extra></extra>\",\"legendgroup\":\"Georgia\",\"marker\":{\"color\":\"#FECB52\",\"size\":[52.86363636363637],\"sizemode\":\"area\",\"sizeref\":0.16583333333333333,\"symbol\":\"circle\"},\"mode\":\"markers\",\"name\":\"Georgia\",\"orientation\":\"v\",\"showlegend\":true,\"x\":[84775.63636363637],\"xaxis\":\"x\",\"y\":[86700.0],\"yaxis\":\"y\",\"type\":\"scatter\"},{\"hovertemplate\":\"state=Hawaii<br>four year average in state tuition=%{x}<br>average mid_career_pay=%{y}<br>average make_world_better_percent=%{marker.size}<extra></extra>\",\"legendgroup\":\"Hawaii\",\"marker\":{\"color\":\"#636efa\",\"size\":[56.6],\"sizemode\":\"area\",\"sizeref\":0.16583333333333333,\"symbol\":\"circle\"},\"mode\":\"markers\",\"name\":\"Hawaii\",\"orientation\":\"v\",\"showlegend\":true,\"x\":[61283.2],\"xaxis\":\"x\",\"y\":[88040.0],\"yaxis\":\"y\",\"type\":\"scatter\"},{\"hovertemplate\":\"state=Idaho<br>four year average in state tuition=%{x}<br>average mid_career_pay=%{y}<br>average make_world_better_percent=%{marker.size}<extra></extra>\",\"legendgroup\":\"Idaho\",\"marker\":{\"color\":\"#EF553B\",\"size\":[60.0],\"sizemode\":\"area\",\"sizeref\":0.16583333333333333,\"symbol\":\"circle\"},\"mode\":\"markers\",\"name\":\"Idaho\",\"orientation\":\"v\",\"showlegend\":true,\"x\":[42009.333333333336],\"xaxis\":\"x\",\"y\":[87933.33333333333],\"yaxis\":\"y\",\"type\":\"scatter\"},{\"hovertemplate\":\"state=Illinois<br>four year average in state tuition=%{x}<br>average mid_career_pay=%{y}<br>average make_world_better_percent=%{marker.size}<extra></extra>\",\"legendgroup\":\"Illinois\",\"marker\":{\"color\":\"#00cc96\",\"size\":[51.26315789473684],\"sizemode\":\"area\",\"sizeref\":0.16583333333333333,\"symbol\":\"circle\"},\"mode\":\"markers\",\"name\":\"Illinois\",\"orientation\":\"v\",\"showlegend\":true,\"x\":[136982.31578947368],\"xaxis\":\"x\",\"y\":[101368.42105263157],\"yaxis\":\"y\",\"type\":\"scatter\"},{\"hovertemplate\":\"state=Indiana<br>four year average in state tuition=%{x}<br>average mid_career_pay=%{y}<br>average make_world_better_percent=%{marker.size}<extra></extra>\",\"legendgroup\":\"Indiana\",\"marker\":{\"color\":\"#ab63fa\",\"size\":[51.44444444444444],\"sizemode\":\"area\",\"sizeref\":0.16583333333333333,\"symbol\":\"circle\"},\"mode\":\"markers\",\"name\":\"Indiana\",\"orientation\":\"v\",\"showlegend\":true,\"x\":[143818.44444444444],\"xaxis\":\"x\",\"y\":[96233.33333333333],\"yaxis\":\"y\",\"type\":\"scatter\"},{\"hovertemplate\":\"state=Iowa<br>four year average in state tuition=%{x}<br>average mid_career_pay=%{y}<br>average make_world_better_percent=%{marker.size}<extra></extra>\",\"legendgroup\":\"Iowa\",\"marker\":{\"color\":\"#FFA15A\",\"size\":[50.04761904761905],\"sizemode\":\"area\",\"sizeref\":0.16583333333333333,\"symbol\":\"circle\"},\"mode\":\"markers\",\"name\":\"Iowa\",\"orientation\":\"v\",\"showlegend\":true,\"x\":[127574.47619047618],\"xaxis\":\"x\",\"y\":[87285.71428571429],\"yaxis\":\"y\",\"type\":\"scatter\"},{\"hovertemplate\":\"state=Kansas<br>four year average in state tuition=%{x}<br>average mid_career_pay=%{y}<br>average make_world_better_percent=%{marker.size}<extra></extra>\",\"legendgroup\":\"Kansas\",\"marker\":{\"color\":\"#19d3f3\",\"size\":[60.35294117647059],\"sizemode\":\"area\",\"sizeref\":0.16583333333333333,\"symbol\":\"circle\"},\"mode\":\"markers\",\"name\":\"Kansas\",\"orientation\":\"v\",\"showlegend\":true,\"x\":[84346.35294117648],\"xaxis\":\"x\",\"y\":[83752.94117647059],\"yaxis\":\"y\",\"type\":\"scatter\"},{\"hovertemplate\":\"state=Kentucky<br>four year average in state tuition=%{x}<br>average mid_career_pay=%{y}<br>average make_world_better_percent=%{marker.size}<extra></extra>\",\"legendgroup\":\"Kentucky\",\"marker\":{\"color\":\"#FF6692\",\"size\":[56.083333333333336],\"sizemode\":\"area\",\"sizeref\":0.16583333333333333,\"symbol\":\"circle\"},\"mode\":\"markers\",\"name\":\"Kentucky\",\"orientation\":\"v\",\"showlegend\":true,\"x\":[92465.5],\"xaxis\":\"x\",\"y\":[79012.5],\"yaxis\":\"y\",\"type\":\"scatter\"},{\"hovertemplate\":\"state=Louisiana<br>four year average in state tuition=%{x}<br>average mid_career_pay=%{y}<br>average make_world_better_percent=%{marker.size}<extra></extra>\",\"legendgroup\":\"Louisiana\",\"marker\":{\"color\":\"#B6E880\",\"size\":[58.666666666666664],\"sizemode\":\"area\",\"sizeref\":0.16583333333333333,\"symbol\":\"circle\"},\"mode\":\"markers\",\"name\":\"Louisiana\",\"orientation\":\"v\",\"showlegend\":true,\"x\":[61872.0],\"xaxis\":\"x\",\"y\":[85926.66666666667],\"yaxis\":\"y\",\"type\":\"scatter\"},{\"hovertemplate\":\"state=Maine<br>four year average in state tuition=%{x}<br>average mid_career_pay=%{y}<br>average make_world_better_percent=%{marker.size}<extra></extra>\",\"legendgroup\":\"Maine\",\"marker\":{\"color\":\"#FF97FF\",\"size\":[55.875],\"sizemode\":\"area\",\"sizeref\":0.16583333333333333,\"symbol\":\"circle\"},\"mode\":\"markers\",\"name\":\"Maine\",\"orientation\":\"v\",\"showlegend\":true,\"x\":[98022.0],\"xaxis\":\"x\",\"y\":[86425.0],\"yaxis\":\"y\",\"type\":\"scatter\"},{\"hovertemplate\":\"state=Maryland<br>four year average in state tuition=%{x}<br>average mid_career_pay=%{y}<br>average make_world_better_percent=%{marker.size}<extra></extra>\",\"legendgroup\":\"Maryland\",\"marker\":{\"color\":\"#FECB52\",\"size\":[52.294117647058826],\"sizemode\":\"area\",\"sizeref\":0.16583333333333333,\"symbol\":\"circle\"},\"mode\":\"markers\",\"name\":\"Maryland\",\"orientation\":\"v\",\"showlegend\":true,\"x\":[126087.5294117647],\"xaxis\":\"x\",\"y\":[94688.23529411765],\"yaxis\":\"y\",\"type\":\"scatter\"},{\"hovertemplate\":\"state=Massachusetts<br>four year average in state tuition=%{x}<br>average mid_career_pay=%{y}<br>average make_world_better_percent=%{marker.size}<extra></extra>\",\"legendgroup\":\"Massachusetts\",\"marker\":{\"color\":\"#636efa\",\"size\":[47.523809523809526],\"sizemode\":\"area\",\"sizeref\":0.16583333333333333,\"symbol\":\"circle\"},\"mode\":\"markers\",\"name\":\"Massachusetts\",\"orientation\":\"v\",\"showlegend\":true,\"x\":[188594.85714285713],\"xaxis\":\"x\",\"y\":[116009.52380952382],\"yaxis\":\"y\",\"type\":\"scatter\"},{\"hovertemplate\":\"state=Michigan<br>four year average in state tuition=%{x}<br>average mid_career_pay=%{y}<br>average make_world_better_percent=%{marker.size}<extra></extra>\",\"legendgroup\":\"Michigan\",\"marker\":{\"color\":\"#EF553B\",\"size\":[48.90909090909091],\"sizemode\":\"area\",\"sizeref\":0.16583333333333333,\"symbol\":\"circle\"},\"mode\":\"markers\",\"name\":\"Michigan\",\"orientation\":\"v\",\"showlegend\":true,\"x\":[99996.54545454546],\"xaxis\":\"x\",\"y\":[93463.63636363637],\"yaxis\":\"y\",\"type\":\"scatter\"},{\"hovertemplate\":\"state=Minnesota<br>four year average in state tuition=%{x}<br>average mid_career_pay=%{y}<br>average make_world_better_percent=%{marker.size}<extra></extra>\",\"legendgroup\":\"Minnesota\",\"marker\":{\"color\":\"#00cc96\",\"size\":[49.111111111111114],\"sizemode\":\"area\",\"sizeref\":0.16583333333333333,\"symbol\":\"circle\"},\"mode\":\"markers\",\"name\":\"Minnesota\",\"orientation\":\"v\",\"showlegend\":true,\"x\":[133345.33333333334],\"xaxis\":\"x\",\"y\":[93055.55555555556],\"yaxis\":\"y\",\"type\":\"scatter\"},{\"hovertemplate\":\"state=Mississippi<br>four year average in state tuition=%{x}<br>average mid_career_pay=%{y}<br>average make_world_better_percent=%{marker.size}<extra></extra>\",\"legendgroup\":\"Mississippi\",\"marker\":{\"color\":\"#ab63fa\",\"size\":[62.642857142857146],\"sizemode\":\"area\",\"sizeref\":0.16583333333333333,\"symbol\":\"circle\"},\"mode\":\"markers\",\"name\":\"Mississippi\",\"orientation\":\"v\",\"showlegend\":true,\"x\":[51116.0],\"xaxis\":\"x\",\"y\":[75707.14285714286],\"yaxis\":\"y\",\"type\":\"scatter\"},{\"hovertemplate\":\"state=Missouri<br>four year average in state tuition=%{x}<br>average mid_career_pay=%{y}<br>average make_world_better_percent=%{marker.size}<extra></extra>\",\"legendgroup\":\"Missouri\",\"marker\":{\"color\":\"#FFA15A\",\"size\":[53.0],\"sizemode\":\"area\",\"sizeref\":0.16583333333333333,\"symbol\":\"circle\"},\"mode\":\"markers\",\"name\":\"Missouri\",\"orientation\":\"v\",\"showlegend\":true,\"x\":[86910.35294117648],\"xaxis\":\"x\",\"y\":[85794.11764705883],\"yaxis\":\"y\",\"type\":\"scatter\"},{\"hovertemplate\":\"state=Montana<br>four year average in state tuition=%{x}<br>average mid_career_pay=%{y}<br>average make_world_better_percent=%{marker.size}<extra></extra>\",\"legendgroup\":\"Montana\",\"marker\":{\"color\":\"#19d3f3\",\"size\":[58.0],\"sizemode\":\"area\",\"sizeref\":0.16583333333333333,\"symbol\":\"circle\"},\"mode\":\"markers\",\"name\":\"Montana\",\"orientation\":\"v\",\"showlegend\":true,\"x\":[78830.0],\"xaxis\":\"x\",\"y\":[95775.0],\"yaxis\":\"y\",\"type\":\"scatter\"},{\"hovertemplate\":\"state=Nebraska<br>four year average in state tuition=%{x}<br>average mid_career_pay=%{y}<br>average make_world_better_percent=%{marker.size}<extra></extra>\",\"legendgroup\":\"Nebraska\",\"marker\":{\"color\":\"#FF6692\",\"size\":[59.63636363636363],\"sizemode\":\"area\",\"sizeref\":0.16583333333333333,\"symbol\":\"circle\"},\"mode\":\"markers\",\"name\":\"Nebraska\",\"orientation\":\"v\",\"showlegend\":true,\"x\":[78756.72727272728],\"xaxis\":\"x\",\"y\":[83036.36363636363],\"yaxis\":\"y\",\"type\":\"scatter\"},{\"hovertemplate\":\"state=Nevada<br>four year average in state tuition=%{x}<br>average mid_career_pay=%{y}<br>average make_world_better_percent=%{marker.size}<extra></extra>\",\"legendgroup\":\"Nevada\",\"marker\":{\"color\":\"#B6E880\",\"size\":[39.0],\"sizemode\":\"area\",\"sizeref\":0.16583333333333333,\"symbol\":\"circle\"},\"mode\":\"markers\",\"name\":\"Nevada\",\"orientation\":\"v\",\"showlegend\":true,\"x\":[136964.0],\"xaxis\":\"x\",\"y\":[95500.0],\"yaxis\":\"y\",\"type\":\"scatter\"},{\"hovertemplate\":\"state=New Hampshire<br>four year average in state tuition=%{x}<br>average mid_career_pay=%{y}<br>average make_world_better_percent=%{marker.size}<extra></extra>\",\"legendgroup\":\"New Hampshire\",\"marker\":{\"color\":\"#FF97FF\",\"size\":[51.27272727272727],\"sizemode\":\"area\",\"sizeref\":0.16583333333333333,\"symbol\":\"circle\"},\"mode\":\"markers\",\"name\":\"New Hampshire\",\"orientation\":\"v\",\"showlegend\":true,\"x\":[120004.36363636363],\"xaxis\":\"x\",\"y\":[89909.09090909091],\"yaxis\":\"y\",\"type\":\"scatter\"},{\"hovertemplate\":\"state=New Jersey<br>four year average in state tuition=%{x}<br>average mid_career_pay=%{y}<br>average make_world_better_percent=%{marker.size}<extra></extra>\",\"legendgroup\":\"New Jersey\",\"marker\":{\"color\":\"#FECB52\",\"size\":[46.473684210526315],\"sizemode\":\"area\",\"sizeref\":0.16583333333333333,\"symbol\":\"circle\"},\"mode\":\"markers\",\"name\":\"New Jersey\",\"orientation\":\"v\",\"showlegend\":true,\"x\":[104793.26315789473],\"xaxis\":\"x\",\"y\":[100400.0],\"yaxis\":\"y\",\"type\":\"scatter\"},{\"hovertemplate\":\"state=New Mexico<br>four year average in state tuition=%{x}<br>average mid_career_pay=%{y}<br>average make_world_better_percent=%{marker.size}<extra></extra>\",\"legendgroup\":\"New Mexico\",\"marker\":{\"color\":\"#636efa\",\"size\":[66.33333333333333],\"sizemode\":\"area\",\"sizeref\":0.16583333333333333,\"symbol\":\"circle\"},\"mode\":\"markers\",\"name\":\"New Mexico\",\"orientation\":\"v\",\"showlegend\":true,\"x\":[27658.666666666668],\"xaxis\":\"x\",\"y\":[90300.0],\"yaxis\":\"y\",\"type\":\"scatter\"},{\"hovertemplate\":\"state=New York<br>four year average in state tuition=%{x}<br>average mid_career_pay=%{y}<br>average make_world_better_percent=%{marker.size}<extra></extra>\",\"legendgroup\":\"New York\",\"marker\":{\"color\":\"#EF553B\",\"size\":[50.8125],\"sizemode\":\"area\",\"sizeref\":0.16583333333333333,\"symbol\":\"circle\"},\"mode\":\"markers\",\"name\":\"New York\",\"orientation\":\"v\",\"showlegend\":true,\"x\":[178446.0],\"xaxis\":\"x\",\"y\":[122106.25],\"yaxis\":\"y\",\"type\":\"scatter\"},{\"hovertemplate\":\"state=North Carolina<br>four year average in state tuition=%{x}<br>average mid_career_pay=%{y}<br>average make_world_better_percent=%{marker.size}<extra></extra>\",\"legendgroup\":\"North Carolina\",\"marker\":{\"color\":\"#00cc96\",\"size\":[51.85],\"sizemode\":\"area\",\"sizeref\":0.16583333333333333,\"symbol\":\"circle\"},\"mode\":\"markers\",\"name\":\"North Carolina\",\"orientation\":\"v\",\"showlegend\":true,\"x\":[110695.2],\"xaxis\":\"x\",\"y\":[89245.0],\"yaxis\":\"y\",\"type\":\"scatter\"},{\"hovertemplate\":\"state=North Dakota<br>four year average in state tuition=%{x}<br>average mid_career_pay=%{y}<br>average make_world_better_percent=%{marker.size}<extra></extra>\",\"legendgroup\":\"North Dakota\",\"marker\":{\"color\":\"#ab63fa\",\"size\":[56.0],\"sizemode\":\"area\",\"sizeref\":0.16583333333333333,\"symbol\":\"circle\"},\"mode\":\"markers\",\"name\":\"North Dakota\",\"orientation\":\"v\",\"showlegend\":true,\"x\":[44292.57142857143],\"xaxis\":\"x\",\"y\":[80814.28571428571],\"yaxis\":\"y\",\"type\":\"scatter\"},{\"hovertemplate\":\"state=Ohio<br>four year average in state tuition=%{x}<br>average mid_career_pay=%{y}<br>average make_world_better_percent=%{marker.size}<extra></extra>\",\"legendgroup\":\"Ohio\",\"marker\":{\"color\":\"#FFA15A\",\"size\":[50.0],\"sizemode\":\"area\",\"sizeref\":0.16583333333333333,\"symbol\":\"circle\"},\"mode\":\"markers\",\"name\":\"Ohio\",\"orientation\":\"v\",\"showlegend\":true,\"x\":[147707.46666666667],\"xaxis\":\"x\",\"y\":[99440.0],\"yaxis\":\"y\",\"type\":\"scatter\"},{\"hovertemplate\":\"state=Oklahoma<br>four year average in state tuition=%{x}<br>average mid_career_pay=%{y}<br>average make_world_better_percent=%{marker.size}<extra></extra>\",\"legendgroup\":\"Oklahoma\",\"marker\":{\"color\":\"#19d3f3\",\"size\":[57.63157894736842],\"sizemode\":\"area\",\"sizeref\":0.16583333333333333,\"symbol\":\"circle\"},\"mode\":\"markers\",\"name\":\"Oklahoma\",\"orientation\":\"v\",\"showlegend\":true,\"x\":[62780.42105263158],\"xaxis\":\"x\",\"y\":[81221.05263157895],\"yaxis\":\"y\",\"type\":\"scatter\"},{\"hovertemplate\":\"state=Oregon<br>four year average in state tuition=%{x}<br>average mid_career_pay=%{y}<br>average make_world_better_percent=%{marker.size}<extra></extra>\",\"legendgroup\":\"Oregon\",\"marker\":{\"color\":\"#FF6692\",\"size\":[57.22222222222222],\"sizemode\":\"area\",\"sizeref\":0.16583333333333333,\"symbol\":\"circle\"},\"mode\":\"markers\",\"name\":\"Oregon\",\"orientation\":\"v\",\"showlegend\":true,\"x\":[107244.44444444444],\"xaxis\":\"x\",\"y\":[91083.33333333333],\"yaxis\":\"y\",\"type\":\"scatter\"},{\"hovertemplate\":\"state=Pennsylvania<br>four year average in state tuition=%{x}<br>average mid_career_pay=%{y}<br>average make_world_better_percent=%{marker.size}<extra></extra>\",\"legendgroup\":\"Pennsylvania\",\"marker\":{\"color\":\"#B6E880\",\"size\":[45.36842105263158],\"sizemode\":\"area\",\"sizeref\":0.16583333333333333,\"symbol\":\"circle\"},\"mode\":\"markers\",\"name\":\"Pennsylvania\",\"orientation\":\"v\",\"showlegend\":true,\"x\":[191462.52631578947],\"xaxis\":\"x\",\"y\":[113457.8947368421],\"yaxis\":\"y\",\"type\":\"scatter\"},{\"hovertemplate\":\"state=Rhode Island<br>four year average in state tuition=%{x}<br>average mid_career_pay=%{y}<br>average make_world_better_percent=%{marker.size}<extra></extra>\",\"legendgroup\":\"Rhode Island\",\"marker\":{\"color\":\"#FF97FF\",\"size\":[45.44444444444444],\"sizemode\":\"area\",\"sizeref\":0.16583333333333333,\"symbol\":\"circle\"},\"mode\":\"markers\",\"name\":\"Rhode Island\",\"orientation\":\"v\",\"showlegend\":true,\"x\":[146248.0],\"xaxis\":\"x\",\"y\":[100744.44444444444],\"yaxis\":\"y\",\"type\":\"scatter\"},{\"hovertemplate\":\"state=South Carolina<br>four year average in state tuition=%{x}<br>average mid_career_pay=%{y}<br>average make_world_better_percent=%{marker.size}<extra></extra>\",\"legendgroup\":\"South Carolina\",\"marker\":{\"color\":\"#FECB52\",\"size\":[57.666666666666664],\"sizemode\":\"area\",\"sizeref\":0.16583333333333333,\"symbol\":\"circle\"},\"mode\":\"markers\",\"name\":\"South Carolina\",\"orientation\":\"v\",\"showlegend\":true,\"x\":[87783.33333333333],\"xaxis\":\"x\",\"y\":[80477.77777777778],\"yaxis\":\"y\",\"type\":\"scatter\"},{\"hovertemplate\":\"state=South Dakota<br>four year average in state tuition=%{x}<br>average mid_career_pay=%{y}<br>average make_world_better_percent=%{marker.size}<extra></extra>\",\"legendgroup\":\"South Dakota\",\"marker\":{\"color\":\"#636efa\",\"size\":[56.5],\"sizemode\":\"area\",\"sizeref\":0.16583333333333333,\"symbol\":\"circle\"},\"mode\":\"markers\",\"name\":\"South Dakota\",\"orientation\":\"v\",\"showlegend\":true,\"x\":[63994.0],\"xaxis\":\"x\",\"y\":[85170.0],\"yaxis\":\"y\",\"type\":\"scatter\"},{\"hovertemplate\":\"state=Tennessee<br>four year average in state tuition=%{x}<br>average mid_career_pay=%{y}<br>average make_world_better_percent=%{marker.size}<extra></extra>\",\"legendgroup\":\"Tennessee\",\"marker\":{\"color\":\"#EF553B\",\"size\":[57.7],\"sizemode\":\"area\",\"sizeref\":0.16583333333333333,\"symbol\":\"circle\"},\"mode\":\"markers\",\"name\":\"Tennessee\",\"orientation\":\"v\",\"showlegend\":true,\"x\":[98784.8],\"xaxis\":\"x\",\"y\":[84660.0],\"yaxis\":\"y\",\"type\":\"scatter\"},{\"hovertemplate\":\"state=Texas<br>four year average in state tuition=%{x}<br>average mid_career_pay=%{y}<br>average make_world_better_percent=%{marker.size}<extra></extra>\",\"legendgroup\":\"Texas\",\"marker\":{\"color\":\"#00cc96\",\"size\":[53.833333333333336],\"sizemode\":\"area\",\"sizeref\":0.16583333333333333,\"symbol\":\"circle\"},\"mode\":\"markers\",\"name\":\"Texas\",\"orientation\":\"v\",\"showlegend\":true,\"x\":[106221.55555555556],\"xaxis\":\"x\",\"y\":[102516.66666666667],\"yaxis\":\"y\",\"type\":\"scatter\"},{\"hovertemplate\":\"state=Utah<br>four year average in state tuition=%{x}<br>average mid_career_pay=%{y}<br>average make_world_better_percent=%{marker.size}<extra></extra>\",\"legendgroup\":\"Utah\",\"marker\":{\"color\":\"#ab63fa\",\"size\":[59.5],\"sizemode\":\"area\",\"sizeref\":0.16583333333333333,\"symbol\":\"circle\"},\"mode\":\"markers\",\"name\":\"Utah\",\"orientation\":\"v\",\"showlegend\":true,\"x\":[27761.333333333332],\"xaxis\":\"x\",\"y\":[92833.33333333333],\"yaxis\":\"y\",\"type\":\"scatter\"},{\"hovertemplate\":\"state=Vermont<br>four year average in state tuition=%{x}<br>average mid_career_pay=%{y}<br>average make_world_better_percent=%{marker.size}<extra></extra>\",\"legendgroup\":\"Vermont\",\"marker\":{\"color\":\"#FFA15A\",\"size\":[49.63636363636363],\"sizemode\":\"area\",\"sizeref\":0.16583333333333333,\"symbol\":\"circle\"},\"mode\":\"markers\",\"name\":\"Vermont\",\"orientation\":\"v\",\"showlegend\":true,\"x\":[129271.27272727272],\"xaxis\":\"x\",\"y\":[89481.81818181818],\"yaxis\":\"y\",\"type\":\"scatter\"},{\"hovertemplate\":\"state=Virginia<br>four year average in state tuition=%{x}<br>average mid_career_pay=%{y}<br>average make_world_better_percent=%{marker.size}<extra></extra>\",\"legendgroup\":\"Virginia\",\"marker\":{\"color\":\"#19d3f3\",\"size\":[53.13636363636363],\"sizemode\":\"area\",\"sizeref\":0.16583333333333333,\"symbol\":\"circle\"},\"mode\":\"markers\",\"name\":\"Virginia\",\"orientation\":\"v\",\"showlegend\":true,\"x\":[100446.36363636363],\"xaxis\":\"x\",\"y\":[96559.09090909091],\"yaxis\":\"y\",\"type\":\"scatter\"},{\"hovertemplate\":\"state=Washington<br>four year average in state tuition=%{x}<br>average mid_career_pay=%{y}<br>average make_world_better_percent=%{marker.size}<extra></extra>\",\"legendgroup\":\"Washington\",\"marker\":{\"color\":\"#FF6692\",\"size\":[51.1875],\"sizemode\":\"area\",\"sizeref\":0.16583333333333333,\"symbol\":\"circle\"},\"mode\":\"markers\",\"name\":\"Washington\",\"orientation\":\"v\",\"showlegend\":true,\"x\":[123986.0],\"xaxis\":\"x\",\"y\":[97043.75],\"yaxis\":\"y\",\"type\":\"scatter\"},{\"hovertemplate\":\"state=West Virginia<br>four year average in state tuition=%{x}<br>average mid_career_pay=%{y}<br>average make_world_better_percent=%{marker.size}<extra></extra>\",\"legendgroup\":\"West Virginia\",\"marker\":{\"color\":\"#B6E880\",\"size\":[55.86666666666667],\"sizemode\":\"area\",\"sizeref\":0.16583333333333333,\"symbol\":\"circle\"},\"mode\":\"markers\",\"name\":\"West Virginia\",\"orientation\":\"v\",\"showlegend\":true,\"x\":[53202.666666666664],\"xaxis\":\"x\",\"y\":[80040.0],\"yaxis\":\"y\",\"type\":\"scatter\"},{\"hovertemplate\":\"state=Wisconsin<br>four year average in state tuition=%{x}<br>average mid_career_pay=%{y}<br>average make_world_better_percent=%{marker.size}<extra></extra>\",\"legendgroup\":\"Wisconsin\",\"marker\":{\"color\":\"#FF97FF\",\"size\":[53.22727272727273],\"sizemode\":\"area\",\"sizeref\":0.16583333333333333,\"symbol\":\"circle\"},\"mode\":\"markers\",\"name\":\"Wisconsin\",\"orientation\":\"v\",\"showlegend\":true,\"x\":[95868.54545454546],\"xaxis\":\"x\",\"y\":[91100.0],\"yaxis\":\"y\",\"type\":\"scatter\"},{\"hovertemplate\":\"state=Wyoming<br>four year average in state tuition=%{x}<br>average mid_career_pay=%{y}<br>average make_world_better_percent=%{marker.size}<extra></extra>\",\"legendgroup\":\"Wyoming\",\"marker\":{\"color\":\"#FECB52\",\"size\":[58.0],\"sizemode\":\"area\",\"sizeref\":0.16583333333333333,\"symbol\":\"circle\"},\"mode\":\"markers\",\"name\":\"Wyoming\",\"orientation\":\"v\",\"showlegend\":true,\"x\":[21600.0],\"xaxis\":\"x\",\"y\":[98800.0],\"yaxis\":\"y\",\"type\":\"scatter\"},{\"hovertemplate\":\"<b>OLS trendline</b><br>average mid_career_pay = 0.175898 * four year average in state tuition + 75105<br>R<sup>2</sup>=0.504633<br><br>four year average in state tuition=%{x}<br>average mid_career_pay=%{y} <b>(trend)</b><extra></extra>\",\"legendgroup\":\"Overall Trendline\",\"line\":{\"color\":\"#636efa\"},\"mode\":\"lines\",\"name\":\"Overall Trendline\",\"showlegend\":true,\"x\":[21600.0,27658.666666666668,27761.333333333332,42009.333333333336,44292.57142857143,48806.666666666664,51116.0,53202.666666666664,61283.2,61872.0,62780.42105263158,63994.0,64536.95238095238,66771.2,68785.42857142857,74048.0,78756.72727272728,78830.0,83676.61538461539,84346.35294117648,84775.63636363637,86910.35294117648,87783.33333333333,92465.5,95868.54545454546,96486.22222222222,98022.0,98784.8,99996.54545454546,100446.36363636363,104793.26315789473,106221.55555555556,107244.44444444444,110695.2,120004.36363636363,123986.0,126087.5294117647,127574.47619047618,129271.27272727272,133345.33333333334,135868.44444444444,136964.0,136982.31578947368,143818.44444444444,146248.0,147707.46666666667,178446.0,188594.85714285713,190626.15384615384,191462.52631578947],\"y\":[78904.39341150041,79970.10341185667,79988.1623181127,82494.36325645054,82895.98126997765,83690.00356935023,84096.21169448603,84463.25310085874,85884.6062888339,85988.17528886852,86147.96513267193,86361.4317733683,86456.93624884666,86849.9369141566,87204.23657275719,88129.9146645845,88958.17243474776,88971.0609929907,89823.573066593,89941.37885636654,90016.88913964713,90392.38245026732,90545.93833726717,91369.52413832376,91968.11451671988,92076.7628950706,92346.90380661924,92481.07913478909,92694.22326696262,92773.34558232999,93537.95841639242,93789.19281751807,93969.11737486988,94576.09988548947,96213.56722410505,96913.93083939601,97283.58657940928,97545.13819451773,97843.60205419542,98560.22294932137,99004.03425155306,99196.74076203414,99199.96248078522,100402.42683014554,100829.78185633008,101086.4997626659,106493.35974884841,108278.52786328449,108635.82977961272,108782.94639023882],\"type\":\"scatter\",\"xaxis\":\"x\",\"yaxis\":\"y\"}],                        {\"template\":{\"data\":{\"bar\":[{\"error_x\":{\"color\":\"#2a3f5f\"},\"error_y\":{\"color\":\"#2a3f5f\"},\"marker\":{\"line\":{\"color\":\"#E5ECF6\",\"width\":0.5},\"pattern\":{\"fillmode\":\"overlay\",\"size\":10,\"solidity\":0.2}},\"type\":\"bar\"}],\"barpolar\":[{\"marker\":{\"line\":{\"color\":\"#E5ECF6\",\"width\":0.5},\"pattern\":{\"fillmode\":\"overlay\",\"size\":10,\"solidity\":0.2}},\"type\":\"barpolar\"}],\"carpet\":[{\"aaxis\":{\"endlinecolor\":\"#2a3f5f\",\"gridcolor\":\"white\",\"linecolor\":\"white\",\"minorgridcolor\":\"white\",\"startlinecolor\":\"#2a3f5f\"},\"baxis\":{\"endlinecolor\":\"#2a3f5f\",\"gridcolor\":\"white\",\"linecolor\":\"white\",\"minorgridcolor\":\"white\",\"startlinecolor\":\"#2a3f5f\"},\"type\":\"carpet\"}],\"choropleth\":[{\"colorbar\":{\"outlinewidth\":0,\"ticks\":\"\"},\"type\":\"choropleth\"}],\"contour\":[{\"colorbar\":{\"outlinewidth\":0,\"ticks\":\"\"},\"colorscale\":[[0.0,\"#0d0887\"],[0.1111111111111111,\"#46039f\"],[0.2222222222222222,\"#7201a8\"],[0.3333333333333333,\"#9c179e\"],[0.4444444444444444,\"#bd3786\"],[0.5555555555555556,\"#d8576b\"],[0.6666666666666666,\"#ed7953\"],[0.7777777777777778,\"#fb9f3a\"],[0.8888888888888888,\"#fdca26\"],[1.0,\"#f0f921\"]],\"type\":\"contour\"}],\"contourcarpet\":[{\"colorbar\":{\"outlinewidth\":0,\"ticks\":\"\"},\"type\":\"contourcarpet\"}],\"heatmap\":[{\"colorbar\":{\"outlinewidth\":0,\"ticks\":\"\"},\"colorscale\":[[0.0,\"#0d0887\"],[0.1111111111111111,\"#46039f\"],[0.2222222222222222,\"#7201a8\"],[0.3333333333333333,\"#9c179e\"],[0.4444444444444444,\"#bd3786\"],[0.5555555555555556,\"#d8576b\"],[0.6666666666666666,\"#ed7953\"],[0.7777777777777778,\"#fb9f3a\"],[0.8888888888888888,\"#fdca26\"],[1.0,\"#f0f921\"]],\"type\":\"heatmap\"}],\"heatmapgl\":[{\"colorbar\":{\"outlinewidth\":0,\"ticks\":\"\"},\"colorscale\":[[0.0,\"#0d0887\"],[0.1111111111111111,\"#46039f\"],[0.2222222222222222,\"#7201a8\"],[0.3333333333333333,\"#9c179e\"],[0.4444444444444444,\"#bd3786\"],[0.5555555555555556,\"#d8576b\"],[0.6666666666666666,\"#ed7953\"],[0.7777777777777778,\"#fb9f3a\"],[0.8888888888888888,\"#fdca26\"],[1.0,\"#f0f921\"]],\"type\":\"heatmapgl\"}],\"histogram\":[{\"marker\":{\"pattern\":{\"fillmode\":\"overlay\",\"size\":10,\"solidity\":0.2}},\"type\":\"histogram\"}],\"histogram2d\":[{\"colorbar\":{\"outlinewidth\":0,\"ticks\":\"\"},\"colorscale\":[[0.0,\"#0d0887\"],[0.1111111111111111,\"#46039f\"],[0.2222222222222222,\"#7201a8\"],[0.3333333333333333,\"#9c179e\"],[0.4444444444444444,\"#bd3786\"],[0.5555555555555556,\"#d8576b\"],[0.6666666666666666,\"#ed7953\"],[0.7777777777777778,\"#fb9f3a\"],[0.8888888888888888,\"#fdca26\"],[1.0,\"#f0f921\"]],\"type\":\"histogram2d\"}],\"histogram2dcontour\":[{\"colorbar\":{\"outlinewidth\":0,\"ticks\":\"\"},\"colorscale\":[[0.0,\"#0d0887\"],[0.1111111111111111,\"#46039f\"],[0.2222222222222222,\"#7201a8\"],[0.3333333333333333,\"#9c179e\"],[0.4444444444444444,\"#bd3786\"],[0.5555555555555556,\"#d8576b\"],[0.6666666666666666,\"#ed7953\"],[0.7777777777777778,\"#fb9f3a\"],[0.8888888888888888,\"#fdca26\"],[1.0,\"#f0f921\"]],\"type\":\"histogram2dcontour\"}],\"mesh3d\":[{\"colorbar\":{\"outlinewidth\":0,\"ticks\":\"\"},\"type\":\"mesh3d\"}],\"parcoords\":[{\"line\":{\"colorbar\":{\"outlinewidth\":0,\"ticks\":\"\"}},\"type\":\"parcoords\"}],\"pie\":[{\"automargin\":true,\"type\":\"pie\"}],\"scatter\":[{\"marker\":{\"colorbar\":{\"outlinewidth\":0,\"ticks\":\"\"}},\"type\":\"scatter\"}],\"scatter3d\":[{\"line\":{\"colorbar\":{\"outlinewidth\":0,\"ticks\":\"\"}},\"marker\":{\"colorbar\":{\"outlinewidth\":0,\"ticks\":\"\"}},\"type\":\"scatter3d\"}],\"scattercarpet\":[{\"marker\":{\"colorbar\":{\"outlinewidth\":0,\"ticks\":\"\"}},\"type\":\"scattercarpet\"}],\"scattergeo\":[{\"marker\":{\"colorbar\":{\"outlinewidth\":0,\"ticks\":\"\"}},\"type\":\"scattergeo\"}],\"scattergl\":[{\"marker\":{\"colorbar\":{\"outlinewidth\":0,\"ticks\":\"\"}},\"type\":\"scattergl\"}],\"scattermapbox\":[{\"marker\":{\"colorbar\":{\"outlinewidth\":0,\"ticks\":\"\"}},\"type\":\"scattermapbox\"}],\"scatterpolar\":[{\"marker\":{\"colorbar\":{\"outlinewidth\":0,\"ticks\":\"\"}},\"type\":\"scatterpolar\"}],\"scatterpolargl\":[{\"marker\":{\"colorbar\":{\"outlinewidth\":0,\"ticks\":\"\"}},\"type\":\"scatterpolargl\"}],\"scatterternary\":[{\"marker\":{\"colorbar\":{\"outlinewidth\":0,\"ticks\":\"\"}},\"type\":\"scatterternary\"}],\"surface\":[{\"colorbar\":{\"outlinewidth\":0,\"ticks\":\"\"},\"colorscale\":[[0.0,\"#0d0887\"],[0.1111111111111111,\"#46039f\"],[0.2222222222222222,\"#7201a8\"],[0.3333333333333333,\"#9c179e\"],[0.4444444444444444,\"#bd3786\"],[0.5555555555555556,\"#d8576b\"],[0.6666666666666666,\"#ed7953\"],[0.7777777777777778,\"#fb9f3a\"],[0.8888888888888888,\"#fdca26\"],[1.0,\"#f0f921\"]],\"type\":\"surface\"}],\"table\":[{\"cells\":{\"fill\":{\"color\":\"#EBF0F8\"},\"line\":{\"color\":\"white\"}},\"header\":{\"fill\":{\"color\":\"#C8D4E3\"},\"line\":{\"color\":\"white\"}},\"type\":\"table\"}]},\"layout\":{\"annotationdefaults\":{\"arrowcolor\":\"#2a3f5f\",\"arrowhead\":0,\"arrowwidth\":1},\"autotypenumbers\":\"strict\",\"coloraxis\":{\"colorbar\":{\"outlinewidth\":0,\"ticks\":\"\"}},\"colorscale\":{\"diverging\":[[0,\"#8e0152\"],[0.1,\"#c51b7d\"],[0.2,\"#de77ae\"],[0.3,\"#f1b6da\"],[0.4,\"#fde0ef\"],[0.5,\"#f7f7f7\"],[0.6,\"#e6f5d0\"],[0.7,\"#b8e186\"],[0.8,\"#7fbc41\"],[0.9,\"#4d9221\"],[1,\"#276419\"]],\"sequential\":[[0.0,\"#0d0887\"],[0.1111111111111111,\"#46039f\"],[0.2222222222222222,\"#7201a8\"],[0.3333333333333333,\"#9c179e\"],[0.4444444444444444,\"#bd3786\"],[0.5555555555555556,\"#d8576b\"],[0.6666666666666666,\"#ed7953\"],[0.7777777777777778,\"#fb9f3a\"],[0.8888888888888888,\"#fdca26\"],[1.0,\"#f0f921\"]],\"sequentialminus\":[[0.0,\"#0d0887\"],[0.1111111111111111,\"#46039f\"],[0.2222222222222222,\"#7201a8\"],[0.3333333333333333,\"#9c179e\"],[0.4444444444444444,\"#bd3786\"],[0.5555555555555556,\"#d8576b\"],[0.6666666666666666,\"#ed7953\"],[0.7777777777777778,\"#fb9f3a\"],[0.8888888888888888,\"#fdca26\"],[1.0,\"#f0f921\"]]},\"colorway\":[\"#636efa\",\"#EF553B\",\"#00cc96\",\"#ab63fa\",\"#FFA15A\",\"#19d3f3\",\"#FF6692\",\"#B6E880\",\"#FF97FF\",\"#FECB52\"],\"font\":{\"color\":\"#2a3f5f\"},\"geo\":{\"bgcolor\":\"white\",\"lakecolor\":\"white\",\"landcolor\":\"#E5ECF6\",\"showlakes\":true,\"showland\":true,\"subunitcolor\":\"white\"},\"hoverlabel\":{\"align\":\"left\"},\"hovermode\":\"closest\",\"mapbox\":{\"style\":\"light\"},\"paper_bgcolor\":\"white\",\"plot_bgcolor\":\"#E5ECF6\",\"polar\":{\"angularaxis\":{\"gridcolor\":\"white\",\"linecolor\":\"white\",\"ticks\":\"\"},\"bgcolor\":\"#E5ECF6\",\"radialaxis\":{\"gridcolor\":\"white\",\"linecolor\":\"white\",\"ticks\":\"\"}},\"scene\":{\"xaxis\":{\"backgroundcolor\":\"#E5ECF6\",\"gridcolor\":\"white\",\"gridwidth\":2,\"linecolor\":\"white\",\"showbackground\":true,\"ticks\":\"\",\"zerolinecolor\":\"white\"},\"yaxis\":{\"backgroundcolor\":\"#E5ECF6\",\"gridcolor\":\"white\",\"gridwidth\":2,\"linecolor\":\"white\",\"showbackground\":true,\"ticks\":\"\",\"zerolinecolor\":\"white\"},\"zaxis\":{\"backgroundcolor\":\"#E5ECF6\",\"gridcolor\":\"white\",\"gridwidth\":2,\"linecolor\":\"white\",\"showbackground\":true,\"ticks\":\"\",\"zerolinecolor\":\"white\"}},\"shapedefaults\":{\"line\":{\"color\":\"#2a3f5f\"}},\"ternary\":{\"aaxis\":{\"gridcolor\":\"white\",\"linecolor\":\"white\",\"ticks\":\"\"},\"baxis\":{\"gridcolor\":\"white\",\"linecolor\":\"white\",\"ticks\":\"\"},\"bgcolor\":\"#E5ECF6\",\"caxis\":{\"gridcolor\":\"white\",\"linecolor\":\"white\",\"ticks\":\"\"}},\"title\":{\"x\":0.05},\"xaxis\":{\"automargin\":true,\"gridcolor\":\"white\",\"linecolor\":\"white\",\"ticks\":\"\",\"title\":{\"standoff\":15},\"zerolinecolor\":\"white\",\"zerolinewidth\":2},\"yaxis\":{\"automargin\":true,\"gridcolor\":\"white\",\"linecolor\":\"white\",\"ticks\":\"\",\"title\":{\"standoff\":15},\"zerolinecolor\":\"white\",\"zerolinewidth\":2}}},\"xaxis\":{\"anchor\":\"y\",\"domain\":[0.0,1.0],\"title\":{\"text\":\"four year average in state tuition\"}},\"yaxis\":{\"anchor\":\"x\",\"domain\":[0.0,1.0],\"title\":{\"text\":\"average mid_career_pay\"}},\"legend\":{\"title\":{\"text\":\"state\"},\"tracegroupgap\":0,\"itemsizing\":\"constant\"},\"title\":{\"text\":\"Average In State Tuition vs Average % of Students Graduating with STEM Degrees\"}},                        {\"responsive\": true}                    ).then(function(){\n",
       "                            \n",
       "var gd = document.getElementById('c26159d1-21a9-4225-b7ce-be869c125be5');\n",
       "var x = new MutationObserver(function (mutations, observer) {{\n",
       "        var display = window.getComputedStyle(gd).display;\n",
       "        if (!display || display === 'none') {{\n",
       "            console.log([gd, 'removed!']);\n",
       "            Plotly.purge(gd);\n",
       "            observer.disconnect();\n",
       "        }}\n",
       "}});\n",
       "\n",
       "// Listen for the removal of the full notebook cells\n",
       "var notebookContainer = gd.closest('#notebook-container');\n",
       "if (notebookContainer) {{\n",
       "    x.observe(notebookContainer, {childList: true});\n",
       "}}\n",
       "\n",
       "// Listen for the clearing of the current output cell\n",
       "var outputEl = gd.closest('.output');\n",
       "if (outputEl) {{\n",
       "    x.observe(outputEl, {childList: true});\n",
       "}}\n",
       "\n",
       "                        })                };                });            </script>        </div>"
      ]
     },
     "execution_count": 31,
     "metadata": {
     },
     "output_type": "execute_result"
    },
    {
     "name": "stderr",
     "output_type": "stream",
     "text": [
      "WARNING: 1 intermediate output message was discarded.\n"
     ]
    }
   ],
   "source": [
    "fig = px.scatter(state_stats_extras, x='four year average in state tuition', y='average mid_career_pay',\n",
    "                 color='state',size='average make_world_better_percent',\n",
    "                 trendline=\"ols\", trendline_scope = 'overall',\n",
    "                 title= 'Average In State Tuition vs Average % of Students Graduating with STEM Degrees')\n",
    "\n",
    "fig.show()"
   ]
  },
  {
   "cell_type": "code",
   "execution_count": 32,
   "metadata": {
    "collapsed": false
   },
   "outputs": [
    {
     "data": {
      "application/vnd.plotly.v1+json": {
       "config": {
        "plotlyServerURL": "https://plot.ly"
       },
       "data": [
        {
         "hovertemplate": "state=Alabama<br>average stem_percent=%{x}<br>average early_career_pay=%{y}<extra></extra>",
         "legendgroup": "Alabama",
         "marker": {
          "color": "#636efa",
          "symbol": "circle"
         },
         "mode": "markers",
         "name": "Alabama",
         "orientation": "v",
         "showlegend": true,
         "type": "scatter",
         "x": [
          14.047619047619047
         ],
         "xaxis": "x",
         "y": [
          44714.28571428572
         ],
         "yaxis": "y"
        },
        {
         "hovertemplate": "state=Alaska<br>average stem_percent=%{x}<br>average early_career_pay=%{y}<extra></extra>",
         "legendgroup": "Alaska",
         "marker": {
          "color": "#EF553B",
          "symbol": "circle"
         },
         "mode": "markers",
         "name": "Alaska",
         "orientation": "v",
         "showlegend": true,
         "type": "scatter",
         "x": [
          12
         ],
         "xaxis": "x",
         "y": [
          55133.333333333336
         ],
         "yaxis": "y"
        },
        {
         "hovertemplate": "state=Arizona<br>average stem_percent=%{x}<br>average early_career_pay=%{y}<extra></extra>",
         "legendgroup": "Arizona",
         "marker": {
          "color": "#00cc96",
          "symbol": "circle"
         },
         "mode": "markers",
         "name": "Arizona",
         "orientation": "v",
         "showlegend": true,
         "type": "scatter",
         "x": [
          11.666666666666666
         ],
         "xaxis": "x",
         "y": [
          48966.666666666664
         ],
         "yaxis": "y"
        },
        {
         "hovertemplate": "state=Arkansas<br>average stem_percent=%{x}<br>average early_career_pay=%{y}<extra></extra>",
         "legendgroup": "Arkansas",
         "marker": {
          "color": "#ab63fa",
          "symbol": "circle"
         },
         "mode": "markers",
         "name": "Arkansas",
         "orientation": "v",
         "showlegend": true,
         "type": "scatter",
         "x": [
          14.071428571428571
         ],
         "xaxis": "x",
         "y": [
          45607.142857142855
         ],
         "yaxis": "y"
        },
        {
         "hovertemplate": "state=California<br>average stem_percent=%{x}<br>average early_career_pay=%{y}<extra></extra>",
         "legendgroup": "California",
         "marker": {
          "color": "#FFA15A",
          "symbol": "circle"
         },
         "mode": "markers",
         "name": "California",
         "orientation": "v",
         "showlegend": true,
         "type": "scatter",
         "x": [
          30.615384615384617
         ],
         "xaxis": "x",
         "y": [
          67800
         ],
         "yaxis": "y"
        },
        {
         "hovertemplate": "state=Colorado<br>average stem_percent=%{x}<br>average early_career_pay=%{y}<extra></extra>",
         "legendgroup": "Colorado",
         "marker": {
          "color": "#19d3f3",
          "symbol": "circle"
         },
         "mode": "markers",
         "name": "Colorado",
         "orientation": "v",
         "showlegend": true,
         "type": "scatter",
         "x": [
          20.692307692307693
         ],
         "xaxis": "x",
         "y": [
          52238.46153846154
         ],
         "yaxis": "y"
        },
        {
         "hovertemplate": "state=Connecticut<br>average stem_percent=%{x}<br>average early_career_pay=%{y}<extra></extra>",
         "legendgroup": "Connecticut",
         "marker": {
          "color": "#FF6692",
          "symbol": "circle"
         },
         "mode": "markers",
         "name": "Connecticut",
         "orientation": "v",
         "showlegend": true,
         "type": "scatter",
         "x": [
          15.88888888888889
         ],
         "xaxis": "x",
         "y": [
          55016.666666666664
         ],
         "yaxis": "y"
        },
        {
         "hovertemplate": "state=Delaware<br>average stem_percent=%{x}<br>average early_career_pay=%{y}<extra></extra>",
         "legendgroup": "Delaware",
         "marker": {
          "color": "#B6E880",
          "symbol": "circle"
         },
         "mode": "markers",
         "name": "Delaware",
         "orientation": "v",
         "showlegend": true,
         "type": "scatter",
         "x": [
          12.6
         ],
         "xaxis": "x",
         "y": [
          49040
         ],
         "yaxis": "y"
        },
        {
         "hovertemplate": "state=Florida<br>average stem_percent=%{x}<br>average early_career_pay=%{y}<extra></extra>",
         "legendgroup": "Florida",
         "marker": {
          "color": "#FF97FF",
          "symbol": "circle"
         },
         "mode": "markers",
         "name": "Florida",
         "orientation": "v",
         "showlegend": true,
         "type": "scatter",
         "x": [
          14.38888888888889
         ],
         "xaxis": "x",
         "y": [
          50250
         ],
         "yaxis": "y"
        },
        {
         "hovertemplate": "state=Georgia<br>average stem_percent=%{x}<br>average early_career_pay=%{y}<extra></extra>",
         "legendgroup": "Georgia",
         "marker": {
          "color": "#FECB52",
          "symbol": "circle"
         },
         "mode": "markers",
         "name": "Georgia",
         "orientation": "v",
         "showlegend": true,
         "type": "scatter",
         "x": [
          14.636363636363637
         ],
         "xaxis": "x",
         "y": [
          48527.27272727273
         ],
         "yaxis": "y"
        },
        {
         "hovertemplate": "state=Hawaii<br>average stem_percent=%{x}<br>average early_career_pay=%{y}<extra></extra>",
         "legendgroup": "Hawaii",
         "marker": {
          "color": "#636efa",
          "symbol": "circle"
         },
         "mode": "markers",
         "name": "Hawaii",
         "orientation": "v",
         "showlegend": true,
         "type": "scatter",
         "x": [
          12.4
         ],
         "xaxis": "x",
         "y": [
          48980
         ],
         "yaxis": "y"
        },
        {
         "hovertemplate": "state=Idaho<br>average stem_percent=%{x}<br>average early_career_pay=%{y}<extra></extra>",
         "legendgroup": "Idaho",
         "marker": {
          "color": "#EF553B",
          "symbol": "circle"
         },
         "mode": "markers",
         "name": "Idaho",
         "orientation": "v",
         "showlegend": true,
         "type": "scatter",
         "x": [
          12.333333333333334
         ],
         "xaxis": "x",
         "y": [
          49666.666666666664
         ],
         "yaxis": "y"
        },
        {
         "hovertemplate": "state=Illinois<br>average stem_percent=%{x}<br>average early_career_pay=%{y}<extra></extra>",
         "legendgroup": "Illinois",
         "marker": {
          "color": "#00cc96",
          "symbol": "circle"
         },
         "mode": "markers",
         "name": "Illinois",
         "orientation": "v",
         "showlegend": true,
         "type": "scatter",
         "x": [
          20.63157894736842
         ],
         "xaxis": "x",
         "y": [
          55763.15789473684
         ],
         "yaxis": "y"
        },
        {
         "hovertemplate": "state=Indiana<br>average stem_percent=%{x}<br>average early_career_pay=%{y}<extra></extra>",
         "legendgroup": "Indiana",
         "marker": {
          "color": "#ab63fa",
          "symbol": "circle"
         },
         "mode": "markers",
         "name": "Indiana",
         "orientation": "v",
         "showlegend": true,
         "type": "scatter",
         "x": [
          22.944444444444443
         ],
         "xaxis": "x",
         "y": [
          52938.88888888889
         ],
         "yaxis": "y"
        },
        {
         "hovertemplate": "state=Iowa<br>average stem_percent=%{x}<br>average early_career_pay=%{y}<extra></extra>",
         "legendgroup": "Iowa",
         "marker": {
          "color": "#FFA15A",
          "symbol": "circle"
         },
         "mode": "markers",
         "name": "Iowa",
         "orientation": "v",
         "showlegend": true,
         "type": "scatter",
         "x": [
          16.333333333333332
         ],
         "xaxis": "x",
         "y": [
          48314.28571428572
         ],
         "yaxis": "y"
        },
        {
         "hovertemplate": "state=Kansas<br>average stem_percent=%{x}<br>average early_career_pay=%{y}<extra></extra>",
         "legendgroup": "Kansas",
         "marker": {
          "color": "#19d3f3",
          "symbol": "circle"
         },
         "mode": "markers",
         "name": "Kansas",
         "orientation": "v",
         "showlegend": true,
         "type": "scatter",
         "x": [
          9.764705882352942
         ],
         "xaxis": "x",
         "y": [
          46482.35294117647
         ],
         "yaxis": "y"
        },
        {
         "hovertemplate": "state=Kentucky<br>average stem_percent=%{x}<br>average early_career_pay=%{y}<extra></extra>",
         "legendgroup": "Kentucky",
         "marker": {
          "color": "#FF6692",
          "symbol": "circle"
         },
         "mode": "markers",
         "name": "Kentucky",
         "orientation": "v",
         "showlegend": true,
         "type": "scatter",
         "x": [
          10.708333333333334
         ],
         "xaxis": "x",
         "y": [
          43754.166666666664
         ],
         "yaxis": "y"
        },
        {
         "hovertemplate": "state=Louisiana<br>average stem_percent=%{x}<br>average early_career_pay=%{y}<extra></extra>",
         "legendgroup": "Louisiana",
         "marker": {
          "color": "#B6E880",
          "symbol": "circle"
         },
         "mode": "markers",
         "name": "Louisiana",
         "orientation": "v",
         "showlegend": true,
         "type": "scatter",
         "x": [
          14.266666666666667
         ],
         "xaxis": "x",
         "y": [
          46920
         ],
         "yaxis": "y"
        },
        {
         "hovertemplate": "state=Maine<br>average stem_percent=%{x}<br>average early_career_pay=%{y}<extra></extra>",
         "legendgroup": "Maine",
         "marker": {
          "color": "#FF97FF",
          "symbol": "circle"
         },
         "mode": "markers",
         "name": "Maine",
         "orientation": "v",
         "showlegend": true,
         "type": "scatter",
         "x": [
          13.375
         ],
         "xaxis": "x",
         "y": [
          48181.25
         ],
         "yaxis": "y"
        },
        {
         "hovertemplate": "state=Maryland<br>average stem_percent=%{x}<br>average early_career_pay=%{y}<extra></extra>",
         "legendgroup": "Maryland",
         "marker": {
          "color": "#FECB52",
          "symbol": "circle"
         },
         "mode": "markers",
         "name": "Maryland",
         "orientation": "v",
         "showlegend": true,
         "type": "scatter",
         "x": [
          17.294117647058822
         ],
         "xaxis": "x",
         "y": [
          53041.17647058824
         ],
         "yaxis": "y"
        },
        {
         "hovertemplate": "state=Massachusetts<br>average stem_percent=%{x}<br>average early_career_pay=%{y}<extra></extra>",
         "legendgroup": "Massachusetts",
         "marker": {
          "color": "#636efa",
          "symbol": "circle"
         },
         "mode": "markers",
         "name": "Massachusetts",
         "orientation": "v",
         "showlegend": true,
         "type": "scatter",
         "x": [
          28.38095238095238
         ],
         "xaxis": "x",
         "y": [
          63519.04761904762
         ],
         "yaxis": "y"
        },
        {
         "hovertemplate": "state=Michigan<br>average stem_percent=%{x}<br>average early_career_pay=%{y}<extra></extra>",
         "legendgroup": "Michigan",
         "marker": {
          "color": "#EF553B",
          "symbol": "circle"
         },
         "mode": "markers",
         "name": "Michigan",
         "orientation": "v",
         "showlegend": true,
         "type": "scatter",
         "x": [
          21.772727272727273
         ],
         "xaxis": "x",
         "y": [
          51695.454545454544
         ],
         "yaxis": "y"
        },
        {
         "hovertemplate": "state=Minnesota<br>average stem_percent=%{x}<br>average early_career_pay=%{y}<extra></extra>",
         "legendgroup": "Minnesota",
         "marker": {
          "color": "#00cc96",
          "symbol": "circle"
         },
         "mode": "markers",
         "name": "Minnesota",
         "orientation": "v",
         "showlegend": true,
         "type": "scatter",
         "x": [
          16.666666666666668
         ],
         "xaxis": "x",
         "y": [
          51233.333333333336
         ],
         "yaxis": "y"
        },
        {
         "hovertemplate": "state=Mississippi<br>average stem_percent=%{x}<br>average early_career_pay=%{y}<extra></extra>",
         "legendgroup": "Mississippi",
         "marker": {
          "color": "#ab63fa",
          "symbol": "circle"
         },
         "mode": "markers",
         "name": "Mississippi",
         "orientation": "v",
         "showlegend": true,
         "type": "scatter",
         "x": [
          14.642857142857142
         ],
         "xaxis": "x",
         "y": [
          42042.857142857145
         ],
         "yaxis": "y"
        },
        {
         "hovertemplate": "state=Missouri<br>average stem_percent=%{x}<br>average early_career_pay=%{y}<extra></extra>",
         "legendgroup": "Missouri",
         "marker": {
          "color": "#FFA15A",
          "symbol": "circle"
         },
         "mode": "markers",
         "name": "Missouri",
         "orientation": "v",
         "showlegend": true,
         "type": "scatter",
         "x": [
          15.705882352941176
         ],
         "xaxis": "x",
         "y": [
          48023.529411764706
         ],
         "yaxis": "y"
        },
        {
         "hovertemplate": "state=Montana<br>average stem_percent=%{x}<br>average early_career_pay=%{y}<extra></extra>",
         "legendgroup": "Montana",
         "marker": {
          "color": "#19d3f3",
          "symbol": "circle"
         },
         "mode": "markers",
         "name": "Montana",
         "orientation": "v",
         "showlegend": true,
         "type": "scatter",
         "x": [
          32.25
         ],
         "xaxis": "x",
         "y": [
          52275
         ],
         "yaxis": "y"
        },
        {
         "hovertemplate": "state=Nebraska<br>average stem_percent=%{x}<br>average early_career_pay=%{y}<extra></extra>",
         "legendgroup": "Nebraska",
         "marker": {
          "color": "#FF6692",
          "symbol": "circle"
         },
         "mode": "markers",
         "name": "Nebraska",
         "orientation": "v",
         "showlegend": true,
         "type": "scatter",
         "x": [
          8.727272727272727
         ],
         "xaxis": "x",
         "y": [
          46790.90909090909
         ],
         "yaxis": "y"
        },
        {
         "hovertemplate": "state=Nevada<br>average stem_percent=%{x}<br>average early_career_pay=%{y}<extra></extra>",
         "legendgroup": "Nevada",
         "marker": {
          "color": "#B6E880",
          "symbol": "circle"
         },
         "mode": "markers",
         "name": "Nevada",
         "orientation": "v",
         "showlegend": true,
         "type": "scatter",
         "x": [
          2
         ],
         "xaxis": "x",
         "y": [
          54000
         ],
         "yaxis": "y"
        },
        {
         "hovertemplate": "state=New Hampshire<br>average stem_percent=%{x}<br>average early_career_pay=%{y}<extra></extra>",
         "legendgroup": "New Hampshire",
         "marker": {
          "color": "#FF97FF",
          "symbol": "circle"
         },
         "mode": "markers",
         "name": "New Hampshire",
         "orientation": "v",
         "showlegend": true,
         "type": "scatter",
         "x": [
          16.181818181818183
         ],
         "xaxis": "x",
         "y": [
          50545.454545454544
         ],
         "yaxis": "y"
        },
        {
         "hovertemplate": "state=New Jersey<br>average stem_percent=%{x}<br>average early_career_pay=%{y}<extra></extra>",
         "legendgroup": "New Jersey",
         "marker": {
          "color": "#FECB52",
          "symbol": "circle"
         },
         "mode": "markers",
         "name": "New Jersey",
         "orientation": "v",
         "showlegend": true,
         "type": "scatter",
         "x": [
          20.263157894736842
         ],
         "xaxis": "x",
         "y": [
          54847.36842105263
         ],
         "yaxis": "y"
        },
        {
         "hovertemplate": "state=New Mexico<br>average stem_percent=%{x}<br>average early_career_pay=%{y}<extra></extra>",
         "legendgroup": "New Mexico",
         "marker": {
          "color": "#636efa",
          "symbol": "circle"
         },
         "mode": "markers",
         "name": "New Mexico",
         "orientation": "v",
         "showlegend": true,
         "type": "scatter",
         "x": [
          33
         ],
         "xaxis": "x",
         "y": [
          48933.333333333336
         ],
         "yaxis": "y"
        },
        {
         "hovertemplate": "state=New York<br>average stem_percent=%{x}<br>average early_career_pay=%{y}<extra></extra>",
         "legendgroup": "New York",
         "marker": {
          "color": "#EF553B",
          "symbol": "circle"
         },
         "mode": "markers",
         "name": "New York",
         "orientation": "v",
         "showlegend": true,
         "type": "scatter",
         "x": [
          28.5625
         ],
         "xaxis": "x",
         "y": [
          65881.25
         ],
         "yaxis": "y"
        },
        {
         "hovertemplate": "state=North Carolina<br>average stem_percent=%{x}<br>average early_career_pay=%{y}<extra></extra>",
         "legendgroup": "North Carolina",
         "marker": {
          "color": "#00cc96",
          "symbol": "circle"
         },
         "mode": "markers",
         "name": "North Carolina",
         "orientation": "v",
         "showlegend": true,
         "type": "scatter",
         "x": [
          11.15
         ],
         "xaxis": "x",
         "y": [
          49695
         ],
         "yaxis": "y"
        },
        {
         "hovertemplate": "state=North Dakota<br>average stem_percent=%{x}<br>average early_career_pay=%{y}<extra></extra>",
         "legendgroup": "North Dakota",
         "marker": {
          "color": "#ab63fa",
          "symbol": "circle"
         },
         "mode": "markers",
         "name": "North Dakota",
         "orientation": "v",
         "showlegend": true,
         "type": "scatter",
         "x": [
          8.285714285714286
         ],
         "xaxis": "x",
         "y": [
          46042.857142857145
         ],
         "yaxis": "y"
        },
        {
         "hovertemplate": "state=Ohio<br>average stem_percent=%{x}<br>average early_career_pay=%{y}<extra></extra>",
         "legendgroup": "Ohio",
         "marker": {
          "color": "#FFA15A",
          "symbol": "circle"
         },
         "mode": "markers",
         "name": "Ohio",
         "orientation": "v",
         "showlegend": true,
         "type": "scatter",
         "x": [
          21.533333333333335
         ],
         "xaxis": "x",
         "y": [
          53613.333333333336
         ],
         "yaxis": "y"
        },
        {
         "hovertemplate": "state=Oklahoma<br>average stem_percent=%{x}<br>average early_career_pay=%{y}<extra></extra>",
         "legendgroup": "Oklahoma",
         "marker": {
          "color": "#19d3f3",
          "symbol": "circle"
         },
         "mode": "markers",
         "name": "Oklahoma",
         "orientation": "v",
         "showlegend": true,
         "type": "scatter",
         "x": [
          11.421052631578947
         ],
         "xaxis": "x",
         "y": [
          45105.26315789474
         ],
         "yaxis": "y"
        },
        {
         "hovertemplate": "state=Oregon<br>average stem_percent=%{x}<br>average early_career_pay=%{y}<extra></extra>",
         "legendgroup": "Oregon",
         "marker": {
          "color": "#FF6692",
          "symbol": "circle"
         },
         "mode": "markers",
         "name": "Oregon",
         "orientation": "v",
         "showlegend": true,
         "type": "scatter",
         "x": [
          12.11111111111111
         ],
         "xaxis": "x",
         "y": [
          50694.444444444445
         ],
         "yaxis": "y"
        },
        {
         "hovertemplate": "state=Pennsylvania<br>average stem_percent=%{x}<br>average early_career_pay=%{y}<extra></extra>",
         "legendgroup": "Pennsylvania",
         "marker": {
          "color": "#B6E880",
          "symbol": "circle"
         },
         "mode": "markers",
         "name": "Pennsylvania",
         "orientation": "v",
         "showlegend": true,
         "type": "scatter",
         "x": [
          28.63157894736842
         ],
         "xaxis": "x",
         "y": [
          61436.84210526316
         ],
         "yaxis": "y"
        },
        {
         "hovertemplate": "state=Rhode Island<br>average stem_percent=%{x}<br>average early_career_pay=%{y}<extra></extra>",
         "legendgroup": "Rhode Island",
         "marker": {
          "color": "#FF97FF",
          "symbol": "circle"
         },
         "mode": "markers",
         "name": "Rhode Island",
         "orientation": "v",
         "showlegend": true,
         "type": "scatter",
         "x": [
          13
         ],
         "xaxis": "x",
         "y": [
          55822.22222222222
         ],
         "yaxis": "y"
        },
        {
         "hovertemplate": "state=South Carolina<br>average stem_percent=%{x}<br>average early_career_pay=%{y}<extra></extra>",
         "legendgroup": "South Carolina",
         "marker": {
          "color": "#FECB52",
          "symbol": "circle"
         },
         "mode": "markers",
         "name": "South Carolina",
         "orientation": "v",
         "showlegend": true,
         "type": "scatter",
         "x": [
          14.777777777777779
         ],
         "xaxis": "x",
         "y": [
          44716.666666666664
         ],
         "yaxis": "y"
        },
        {
         "hovertemplate": "state=South Dakota<br>average stem_percent=%{x}<br>average early_career_pay=%{y}<extra></extra>",
         "legendgroup": "South Dakota",
         "marker": {
          "color": "#636efa",
          "symbol": "circle"
         },
         "mode": "markers",
         "name": "South Dakota",
         "orientation": "v",
         "showlegend": true,
         "type": "scatter",
         "x": [
          22.8
         ],
         "xaxis": "x",
         "y": [
          47110
         ],
         "yaxis": "y"
        },
        {
         "hovertemplate": "state=Tennessee<br>average stem_percent=%{x}<br>average early_career_pay=%{y}<extra></extra>",
         "legendgroup": "Tennessee",
         "marker": {
          "color": "#EF553B",
          "symbol": "circle"
         },
         "mode": "markers",
         "name": "Tennessee",
         "orientation": "v",
         "showlegend": true,
         "type": "scatter",
         "x": [
          12.75
         ],
         "xaxis": "x",
         "y": [
          47370
         ],
         "yaxis": "y"
        },
        {
         "hovertemplate": "state=Texas<br>average stem_percent=%{x}<br>average early_career_pay=%{y}<extra></extra>",
         "legendgroup": "Texas",
         "marker": {
          "color": "#00cc96",
          "symbol": "circle"
         },
         "mode": "markers",
         "name": "Texas",
         "orientation": "v",
         "showlegend": true,
         "type": "scatter",
         "x": [
          20.055555555555557
         ],
         "xaxis": "x",
         "y": [
          56500
         ],
         "yaxis": "y"
        },
        {
         "hovertemplate": "state=Utah<br>average stem_percent=%{x}<br>average early_career_pay=%{y}<extra></extra>",
         "legendgroup": "Utah",
         "marker": {
          "color": "#ab63fa",
          "symbol": "circle"
         },
         "mode": "markers",
         "name": "Utah",
         "orientation": "v",
         "showlegend": true,
         "type": "scatter",
         "x": [
          12
         ],
         "xaxis": "x",
         "y": [
          52183.333333333336
         ],
         "yaxis": "y"
        },
        {
         "hovertemplate": "state=Vermont<br>average stem_percent=%{x}<br>average early_career_pay=%{y}<extra></extra>",
         "legendgroup": "Vermont",
         "marker": {
          "color": "#FFA15A",
          "symbol": "circle"
         },
         "mode": "markers",
         "name": "Vermont",
         "orientation": "v",
         "showlegend": true,
         "type": "scatter",
         "x": [
          12.272727272727273
         ],
         "xaxis": "x",
         "y": [
          49445.454545454544
         ],
         "yaxis": "y"
        },
        {
         "hovertemplate": "state=Virginia<br>average stem_percent=%{x}<br>average early_career_pay=%{y}<extra></extra>",
         "legendgroup": "Virginia",
         "marker": {
          "color": "#19d3f3",
          "symbol": "circle"
         },
         "mode": "markers",
         "name": "Virginia",
         "orientation": "v",
         "showlegend": true,
         "type": "scatter",
         "x": [
          17.727272727272727
         ],
         "xaxis": "x",
         "y": [
          53718.181818181816
         ],
         "yaxis": "y"
        },
        {
         "hovertemplate": "state=Washington<br>average stem_percent=%{x}<br>average early_career_pay=%{y}<extra></extra>",
         "legendgroup": "Washington",
         "marker": {
          "color": "#FF6692",
          "symbol": "circle"
         },
         "mode": "markers",
         "name": "Washington",
         "orientation": "v",
         "showlegend": true,
         "type": "scatter",
         "x": [
          16.625
         ],
         "xaxis": "x",
         "y": [
          53450
         ],
         "yaxis": "y"
        },
        {
         "hovertemplate": "state=West Virginia<br>average stem_percent=%{x}<br>average early_career_pay=%{y}<extra></extra>",
         "legendgroup": "West Virginia",
         "marker": {
          "color": "#B6E880",
          "symbol": "circle"
         },
         "mode": "markers",
         "name": "West Virginia",
         "orientation": "v",
         "showlegend": true,
         "type": "scatter",
         "x": [
          10.4
         ],
         "xaxis": "x",
         "y": [
          44333.333333333336
         ],
         "yaxis": "y"
        },
        {
         "hovertemplate": "state=Wisconsin<br>average stem_percent=%{x}<br>average early_career_pay=%{y}<extra></extra>",
         "legendgroup": "Wisconsin",
         "marker": {
          "color": "#FF97FF",
          "symbol": "circle"
         },
         "mode": "markers",
         "name": "Wisconsin",
         "orientation": "v",
         "showlegend": true,
         "type": "scatter",
         "x": [
          18.363636363636363
         ],
         "xaxis": "x",
         "y": [
          50681.818181818184
         ],
         "yaxis": "y"
        },
        {
         "hovertemplate": "state=Wyoming<br>average stem_percent=%{x}<br>average early_career_pay=%{y}<extra></extra>",
         "legendgroup": "Wyoming",
         "marker": {
          "color": "#FECB52",
          "symbol": "circle"
         },
         "mode": "markers",
         "name": "Wyoming",
         "orientation": "v",
         "showlegend": true,
         "type": "scatter",
         "x": [
          25
         ],
         "xaxis": "x",
         "y": [
          52400
         ],
         "yaxis": "y"
        },
        {
         "hovertemplate": "<b>OLS trendline</b><br>average early_career_pay = 478.507 * average stem_percent + 43091.8<br>R<sup>2</sup>=0.347354<br><br>average stem_percent=%{x}<br>average early_career_pay=%{y} <b>(trend)</b><extra></extra>",
         "legendgroup": "Overall Trendline",
         "line": {
          "color": "#636efa"
         },
         "mode": "lines",
         "name": "Overall Trendline",
         "showlegend": true,
         "type": "scatter",
         "x": [
          2,
          8.285714285714286,
          8.727272727272727,
          9.764705882352942,
          10.4,
          10.708333333333334,
          11.15,
          11.421052631578947,
          11.666666666666666,
          12,
          12,
          12.11111111111111,
          12.272727272727273,
          12.333333333333334,
          12.4,
          12.6,
          12.75,
          13,
          13.375,
          14.047619047619047,
          14.071428571428571,
          14.266666666666667,
          14.38888888888889,
          14.636363636363637,
          14.642857142857142,
          14.777777777777779,
          15.705882352941176,
          15.88888888888889,
          16.181818181818183,
          16.333333333333332,
          16.625,
          16.666666666666668,
          17.294117647058822,
          17.727272727272727,
          18.363636363636363,
          20.055555555555557,
          20.263157894736842,
          20.63157894736842,
          20.692307692307693,
          21.533333333333335,
          21.772727272727273,
          22.8,
          22.944444444444443,
          25,
          28.38095238095238,
          28.5625,
          28.63157894736842,
          30.615384615384617,
          32.25,
          33
         ],
         "xaxis": "x",
         "y": [
          44048.785584220146,
          47056.541490488235,
          47267.83012853186,
          47764.24876255132,
          48068.24120441477,
          48215.780746029064,
          48427.12117050358,
          48556.82164947603,
          48674.34959158698,
          48833.85179873756,
          48833.85179873756,
          48887.01920112108,
          48964.35360458803,
          48993.35400588814,
          49025.25444731826,
          49120.955771608606,
          49192.73176482636,
          49312.358420189295,
          49491.798403233704,
          49813.65107123398,
          49825.04408603045,
          49918.4668073615,
          49976.95094998338,
          50095.36925529215,
          50098.47644114573,
          50163.03685832573,
          50607.14104294107,
          50694.710882160995,
          50834.87948844484,
          50907.380491695105,
          51046.94492295186,
          51066.882698845686,
          51367.122147599715,
          51574.38972159753,
          51878.893935248634,
          52688.48847154325,
          52787.82756547036,
          52964.1194786368,
          52993.178585202695,
          53395.61492324415,
          53510.166508379574,
          54001.72331041636,
          54070.84093351495,
          55054.43787761019,
          56672.24597870893,
          56759.11771653202,
          56792.17245025072,
          57741.436598069966,
          58523.61088313531,
          58882.490849224116
         ],
         "yaxis": "y"
        }
       ],
       "layout": {
        "legend": {
         "title": {
          "text": "state"
         },
         "tracegroupgap": 0
        },
        "template": {
         "data": {
          "bar": [
           {
            "error_x": {
             "color": "#2a3f5f"
            },
            "error_y": {
             "color": "#2a3f5f"
            },
            "marker": {
             "line": {
              "color": "#E5ECF6",
              "width": 0.5
             },
             "pattern": {
              "fillmode": "overlay",
              "size": 10,
              "solidity": 0.2
             }
            },
            "type": "bar"
           }
          ],
          "barpolar": [
           {
            "marker": {
             "line": {
              "color": "#E5ECF6",
              "width": 0.5
             },
             "pattern": {
              "fillmode": "overlay",
              "size": 10,
              "solidity": 0.2
             }
            },
            "type": "barpolar"
           }
          ],
          "carpet": [
           {
            "aaxis": {
             "endlinecolor": "#2a3f5f",
             "gridcolor": "white",
             "linecolor": "white",
             "minorgridcolor": "white",
             "startlinecolor": "#2a3f5f"
            },
            "baxis": {
             "endlinecolor": "#2a3f5f",
             "gridcolor": "white",
             "linecolor": "white",
             "minorgridcolor": "white",
             "startlinecolor": "#2a3f5f"
            },
            "type": "carpet"
           }
          ],
          "choropleth": [
           {
            "colorbar": {
             "outlinewidth": 0,
             "ticks": ""
            },
            "type": "choropleth"
           }
          ],
          "contour": [
           {
            "colorbar": {
             "outlinewidth": 0,
             "ticks": ""
            },
            "colorscale": [
             [
              0,
              "#0d0887"
             ],
             [
              0.1111111111111111,
              "#46039f"
             ],
             [
              0.2222222222222222,
              "#7201a8"
             ],
             [
              0.3333333333333333,
              "#9c179e"
             ],
             [
              0.4444444444444444,
              "#bd3786"
             ],
             [
              0.5555555555555556,
              "#d8576b"
             ],
             [
              0.6666666666666666,
              "#ed7953"
             ],
             [
              0.7777777777777778,
              "#fb9f3a"
             ],
             [
              0.8888888888888888,
              "#fdca26"
             ],
             [
              1,
              "#f0f921"
             ]
            ],
            "type": "contour"
           }
          ],
          "contourcarpet": [
           {
            "colorbar": {
             "outlinewidth": 0,
             "ticks": ""
            },
            "type": "contourcarpet"
           }
          ],
          "heatmap": [
           {
            "colorbar": {
             "outlinewidth": 0,
             "ticks": ""
            },
            "colorscale": [
             [
              0,
              "#0d0887"
             ],
             [
              0.1111111111111111,
              "#46039f"
             ],
             [
              0.2222222222222222,
              "#7201a8"
             ],
             [
              0.3333333333333333,
              "#9c179e"
             ],
             [
              0.4444444444444444,
              "#bd3786"
             ],
             [
              0.5555555555555556,
              "#d8576b"
             ],
             [
              0.6666666666666666,
              "#ed7953"
             ],
             [
              0.7777777777777778,
              "#fb9f3a"
             ],
             [
              0.8888888888888888,
              "#fdca26"
             ],
             [
              1,
              "#f0f921"
             ]
            ],
            "type": "heatmap"
           }
          ],
          "heatmapgl": [
           {
            "colorbar": {
             "outlinewidth": 0,
             "ticks": ""
            },
            "colorscale": [
             [
              0,
              "#0d0887"
             ],
             [
              0.1111111111111111,
              "#46039f"
             ],
             [
              0.2222222222222222,
              "#7201a8"
             ],
             [
              0.3333333333333333,
              "#9c179e"
             ],
             [
              0.4444444444444444,
              "#bd3786"
             ],
             [
              0.5555555555555556,
              "#d8576b"
             ],
             [
              0.6666666666666666,
              "#ed7953"
             ],
             [
              0.7777777777777778,
              "#fb9f3a"
             ],
             [
              0.8888888888888888,
              "#fdca26"
             ],
             [
              1,
              "#f0f921"
             ]
            ],
            "type": "heatmapgl"
           }
          ],
          "histogram": [
           {
            "marker": {
             "pattern": {
              "fillmode": "overlay",
              "size": 10,
              "solidity": 0.2
             }
            },
            "type": "histogram"
           }
          ],
          "histogram2d": [
           {
            "colorbar": {
             "outlinewidth": 0,
             "ticks": ""
            },
            "colorscale": [
             [
              0,
              "#0d0887"
             ],
             [
              0.1111111111111111,
              "#46039f"
             ],
             [
              0.2222222222222222,
              "#7201a8"
             ],
             [
              0.3333333333333333,
              "#9c179e"
             ],
             [
              0.4444444444444444,
              "#bd3786"
             ],
             [
              0.5555555555555556,
              "#d8576b"
             ],
             [
              0.6666666666666666,
              "#ed7953"
             ],
             [
              0.7777777777777778,
              "#fb9f3a"
             ],
             [
              0.8888888888888888,
              "#fdca26"
             ],
             [
              1,
              "#f0f921"
             ]
            ],
            "type": "histogram2d"
           }
          ],
          "histogram2dcontour": [
           {
            "colorbar": {
             "outlinewidth": 0,
             "ticks": ""
            },
            "colorscale": [
             [
              0,
              "#0d0887"
             ],
             [
              0.1111111111111111,
              "#46039f"
             ],
             [
              0.2222222222222222,
              "#7201a8"
             ],
             [
              0.3333333333333333,
              "#9c179e"
             ],
             [
              0.4444444444444444,
              "#bd3786"
             ],
             [
              0.5555555555555556,
              "#d8576b"
             ],
             [
              0.6666666666666666,
              "#ed7953"
             ],
             [
              0.7777777777777778,
              "#fb9f3a"
             ],
             [
              0.8888888888888888,
              "#fdca26"
             ],
             [
              1,
              "#f0f921"
             ]
            ],
            "type": "histogram2dcontour"
           }
          ],
          "mesh3d": [
           {
            "colorbar": {
             "outlinewidth": 0,
             "ticks": ""
            },
            "type": "mesh3d"
           }
          ],
          "parcoords": [
           {
            "line": {
             "colorbar": {
              "outlinewidth": 0,
              "ticks": ""
             }
            },
            "type": "parcoords"
           }
          ],
          "pie": [
           {
            "automargin": true,
            "type": "pie"
           }
          ],
          "scatter": [
           {
            "marker": {
             "colorbar": {
              "outlinewidth": 0,
              "ticks": ""
             }
            },
            "type": "scatter"
           }
          ],
          "scatter3d": [
           {
            "line": {
             "colorbar": {
              "outlinewidth": 0,
              "ticks": ""
             }
            },
            "marker": {
             "colorbar": {
              "outlinewidth": 0,
              "ticks": ""
             }
            },
            "type": "scatter3d"
           }
          ],
          "scattercarpet": [
           {
            "marker": {
             "colorbar": {
              "outlinewidth": 0,
              "ticks": ""
             }
            },
            "type": "scattercarpet"
           }
          ],
          "scattergeo": [
           {
            "marker": {
             "colorbar": {
              "outlinewidth": 0,
              "ticks": ""
             }
            },
            "type": "scattergeo"
           }
          ],
          "scattergl": [
           {
            "marker": {
             "colorbar": {
              "outlinewidth": 0,
              "ticks": ""
             }
            },
            "type": "scattergl"
           }
          ],
          "scattermapbox": [
           {
            "marker": {
             "colorbar": {
              "outlinewidth": 0,
              "ticks": ""
             }
            },
            "type": "scattermapbox"
           }
          ],
          "scatterpolar": [
           {
            "marker": {
             "colorbar": {
              "outlinewidth": 0,
              "ticks": ""
             }
            },
            "type": "scatterpolar"
           }
          ],
          "scatterpolargl": [
           {
            "marker": {
             "colorbar": {
              "outlinewidth": 0,
              "ticks": ""
             }
            },
            "type": "scatterpolargl"
           }
          ],
          "scatterternary": [
           {
            "marker": {
             "colorbar": {
              "outlinewidth": 0,
              "ticks": ""
             }
            },
            "type": "scatterternary"
           }
          ],
          "surface": [
           {
            "colorbar": {
             "outlinewidth": 0,
             "ticks": ""
            },
            "colorscale": [
             [
              0,
              "#0d0887"
             ],
             [
              0.1111111111111111,
              "#46039f"
             ],
             [
              0.2222222222222222,
              "#7201a8"
             ],
             [
              0.3333333333333333,
              "#9c179e"
             ],
             [
              0.4444444444444444,
              "#bd3786"
             ],
             [
              0.5555555555555556,
              "#d8576b"
             ],
             [
              0.6666666666666666,
              "#ed7953"
             ],
             [
              0.7777777777777778,
              "#fb9f3a"
             ],
             [
              0.8888888888888888,
              "#fdca26"
             ],
             [
              1,
              "#f0f921"
             ]
            ],
            "type": "surface"
           }
          ],
          "table": [
           {
            "cells": {
             "fill": {
              "color": "#EBF0F8"
             },
             "line": {
              "color": "white"
             }
            },
            "header": {
             "fill": {
              "color": "#C8D4E3"
             },
             "line": {
              "color": "white"
             }
            },
            "type": "table"
           }
          ]
         },
         "layout": {
          "annotationdefaults": {
           "arrowcolor": "#2a3f5f",
           "arrowhead": 0,
           "arrowwidth": 1
          },
          "autotypenumbers": "strict",
          "coloraxis": {
           "colorbar": {
            "outlinewidth": 0,
            "ticks": ""
           }
          },
          "colorscale": {
           "diverging": [
            [
             0,
             "#8e0152"
            ],
            [
             0.1,
             "#c51b7d"
            ],
            [
             0.2,
             "#de77ae"
            ],
            [
             0.3,
             "#f1b6da"
            ],
            [
             0.4,
             "#fde0ef"
            ],
            [
             0.5,
             "#f7f7f7"
            ],
            [
             0.6,
             "#e6f5d0"
            ],
            [
             0.7,
             "#b8e186"
            ],
            [
             0.8,
             "#7fbc41"
            ],
            [
             0.9,
             "#4d9221"
            ],
            [
             1,
             "#276419"
            ]
           ],
           "sequential": [
            [
             0,
             "#0d0887"
            ],
            [
             0.1111111111111111,
             "#46039f"
            ],
            [
             0.2222222222222222,
             "#7201a8"
            ],
            [
             0.3333333333333333,
             "#9c179e"
            ],
            [
             0.4444444444444444,
             "#bd3786"
            ],
            [
             0.5555555555555556,
             "#d8576b"
            ],
            [
             0.6666666666666666,
             "#ed7953"
            ],
            [
             0.7777777777777778,
             "#fb9f3a"
            ],
            [
             0.8888888888888888,
             "#fdca26"
            ],
            [
             1,
             "#f0f921"
            ]
           ],
           "sequentialminus": [
            [
             0,
             "#0d0887"
            ],
            [
             0.1111111111111111,
             "#46039f"
            ],
            [
             0.2222222222222222,
             "#7201a8"
            ],
            [
             0.3333333333333333,
             "#9c179e"
            ],
            [
             0.4444444444444444,
             "#bd3786"
            ],
            [
             0.5555555555555556,
             "#d8576b"
            ],
            [
             0.6666666666666666,
             "#ed7953"
            ],
            [
             0.7777777777777778,
             "#fb9f3a"
            ],
            [
             0.8888888888888888,
             "#fdca26"
            ],
            [
             1,
             "#f0f921"
            ]
           ]
          },
          "colorway": [
           "#636efa",
           "#EF553B",
           "#00cc96",
           "#ab63fa",
           "#FFA15A",
           "#19d3f3",
           "#FF6692",
           "#B6E880",
           "#FF97FF",
           "#FECB52"
          ],
          "font": {
           "color": "#2a3f5f"
          },
          "geo": {
           "bgcolor": "white",
           "lakecolor": "white",
           "landcolor": "#E5ECF6",
           "showlakes": true,
           "showland": true,
           "subunitcolor": "white"
          },
          "hoverlabel": {
           "align": "left"
          },
          "hovermode": "closest",
          "mapbox": {
           "style": "light"
          },
          "paper_bgcolor": "white",
          "plot_bgcolor": "#E5ECF6",
          "polar": {
           "angularaxis": {
            "gridcolor": "white",
            "linecolor": "white",
            "ticks": ""
           },
           "bgcolor": "#E5ECF6",
           "radialaxis": {
            "gridcolor": "white",
            "linecolor": "white",
            "ticks": ""
           }
          },
          "scene": {
           "xaxis": {
            "backgroundcolor": "#E5ECF6",
            "gridcolor": "white",
            "gridwidth": 2,
            "linecolor": "white",
            "showbackground": true,
            "ticks": "",
            "zerolinecolor": "white"
           },
           "yaxis": {
            "backgroundcolor": "#E5ECF6",
            "gridcolor": "white",
            "gridwidth": 2,
            "linecolor": "white",
            "showbackground": true,
            "ticks": "",
            "zerolinecolor": "white"
           },
           "zaxis": {
            "backgroundcolor": "#E5ECF6",
            "gridcolor": "white",
            "gridwidth": 2,
            "linecolor": "white",
            "showbackground": true,
            "ticks": "",
            "zerolinecolor": "white"
           }
          },
          "shapedefaults": {
           "line": {
            "color": "#2a3f5f"
           }
          },
          "ternary": {
           "aaxis": {
            "gridcolor": "white",
            "linecolor": "white",
            "ticks": ""
           },
           "baxis": {
            "gridcolor": "white",
            "linecolor": "white",
            "ticks": ""
           },
           "bgcolor": "#E5ECF6",
           "caxis": {
            "gridcolor": "white",
            "linecolor": "white",
            "ticks": ""
           }
          },
          "title": {
           "x": 0.05
          },
          "xaxis": {
           "automargin": true,
           "gridcolor": "white",
           "linecolor": "white",
           "ticks": "",
           "title": {
            "standoff": 15
           },
           "zerolinecolor": "white",
           "zerolinewidth": 2
          },
          "yaxis": {
           "automargin": true,
           "gridcolor": "white",
           "linecolor": "white",
           "ticks": "",
           "title": {
            "standoff": 15
           },
           "zerolinecolor": "white",
           "zerolinewidth": 2
          }
         }
        },
        "title": {
         "text": "Average In State Tuition vs Average % of Students Graduating with STEM Degrees"
        },
        "xaxis": {
         "anchor": "y",
         "domain": [
          0,
          1
         ],
         "title": {
          "text": "average stem_percent"
         }
        },
        "yaxis": {
         "anchor": "x",
         "domain": [
          0,
          1
         ],
         "title": {
          "text": "average early_career_pay"
         }
        }
       }
      },
      "text/html": [
       "<div>                            <div id=\"cf250939-581c-4579-bc9e-bbd126521b1c\" class=\"plotly-graph-div\" style=\"height:525px; width:100%;\"></div>            <script type=\"text/javascript\">                require([\"plotly\"], function(Plotly) {                    window.PLOTLYENV=window.PLOTLYENV || {};                                    if (document.getElementById(\"cf250939-581c-4579-bc9e-bbd126521b1c\")) {                    Plotly.newPlot(                        \"cf250939-581c-4579-bc9e-bbd126521b1c\",                        [{\"hovertemplate\":\"state=Alabama<br>average stem_percent=%{x}<br>average early_career_pay=%{y}<extra></extra>\",\"legendgroup\":\"Alabama\",\"marker\":{\"color\":\"#636efa\",\"symbol\":\"circle\"},\"mode\":\"markers\",\"name\":\"Alabama\",\"orientation\":\"v\",\"showlegend\":true,\"x\":[14.047619047619047],\"xaxis\":\"x\",\"y\":[44714.28571428572],\"yaxis\":\"y\",\"type\":\"scatter\"},{\"hovertemplate\":\"state=Alaska<br>average stem_percent=%{x}<br>average early_career_pay=%{y}<extra></extra>\",\"legendgroup\":\"Alaska\",\"marker\":{\"color\":\"#EF553B\",\"symbol\":\"circle\"},\"mode\":\"markers\",\"name\":\"Alaska\",\"orientation\":\"v\",\"showlegend\":true,\"x\":[12.0],\"xaxis\":\"x\",\"y\":[55133.333333333336],\"yaxis\":\"y\",\"type\":\"scatter\"},{\"hovertemplate\":\"state=Arizona<br>average stem_percent=%{x}<br>average early_career_pay=%{y}<extra></extra>\",\"legendgroup\":\"Arizona\",\"marker\":{\"color\":\"#00cc96\",\"symbol\":\"circle\"},\"mode\":\"markers\",\"name\":\"Arizona\",\"orientation\":\"v\",\"showlegend\":true,\"x\":[11.666666666666666],\"xaxis\":\"x\",\"y\":[48966.666666666664],\"yaxis\":\"y\",\"type\":\"scatter\"},{\"hovertemplate\":\"state=Arkansas<br>average stem_percent=%{x}<br>average early_career_pay=%{y}<extra></extra>\",\"legendgroup\":\"Arkansas\",\"marker\":{\"color\":\"#ab63fa\",\"symbol\":\"circle\"},\"mode\":\"markers\",\"name\":\"Arkansas\",\"orientation\":\"v\",\"showlegend\":true,\"x\":[14.071428571428571],\"xaxis\":\"x\",\"y\":[45607.142857142855],\"yaxis\":\"y\",\"type\":\"scatter\"},{\"hovertemplate\":\"state=California<br>average stem_percent=%{x}<br>average early_career_pay=%{y}<extra></extra>\",\"legendgroup\":\"California\",\"marker\":{\"color\":\"#FFA15A\",\"symbol\":\"circle\"},\"mode\":\"markers\",\"name\":\"California\",\"orientation\":\"v\",\"showlegend\":true,\"x\":[30.615384615384617],\"xaxis\":\"x\",\"y\":[67800.0],\"yaxis\":\"y\",\"type\":\"scatter\"},{\"hovertemplate\":\"state=Colorado<br>average stem_percent=%{x}<br>average early_career_pay=%{y}<extra></extra>\",\"legendgroup\":\"Colorado\",\"marker\":{\"color\":\"#19d3f3\",\"symbol\":\"circle\"},\"mode\":\"markers\",\"name\":\"Colorado\",\"orientation\":\"v\",\"showlegend\":true,\"x\":[20.692307692307693],\"xaxis\":\"x\",\"y\":[52238.46153846154],\"yaxis\":\"y\",\"type\":\"scatter\"},{\"hovertemplate\":\"state=Connecticut<br>average stem_percent=%{x}<br>average early_career_pay=%{y}<extra></extra>\",\"legendgroup\":\"Connecticut\",\"marker\":{\"color\":\"#FF6692\",\"symbol\":\"circle\"},\"mode\":\"markers\",\"name\":\"Connecticut\",\"orientation\":\"v\",\"showlegend\":true,\"x\":[15.88888888888889],\"xaxis\":\"x\",\"y\":[55016.666666666664],\"yaxis\":\"y\",\"type\":\"scatter\"},{\"hovertemplate\":\"state=Delaware<br>average stem_percent=%{x}<br>average early_career_pay=%{y}<extra></extra>\",\"legendgroup\":\"Delaware\",\"marker\":{\"color\":\"#B6E880\",\"symbol\":\"circle\"},\"mode\":\"markers\",\"name\":\"Delaware\",\"orientation\":\"v\",\"showlegend\":true,\"x\":[12.6],\"xaxis\":\"x\",\"y\":[49040.0],\"yaxis\":\"y\",\"type\":\"scatter\"},{\"hovertemplate\":\"state=Florida<br>average stem_percent=%{x}<br>average early_career_pay=%{y}<extra></extra>\",\"legendgroup\":\"Florida\",\"marker\":{\"color\":\"#FF97FF\",\"symbol\":\"circle\"},\"mode\":\"markers\",\"name\":\"Florida\",\"orientation\":\"v\",\"showlegend\":true,\"x\":[14.38888888888889],\"xaxis\":\"x\",\"y\":[50250.0],\"yaxis\":\"y\",\"type\":\"scatter\"},{\"hovertemplate\":\"state=Georgia<br>average stem_percent=%{x}<br>average early_career_pay=%{y}<extra></extra>\",\"legendgroup\":\"Georgia\",\"marker\":{\"color\":\"#FECB52\",\"symbol\":\"circle\"},\"mode\":\"markers\",\"name\":\"Georgia\",\"orientation\":\"v\",\"showlegend\":true,\"x\":[14.636363636363637],\"xaxis\":\"x\",\"y\":[48527.27272727273],\"yaxis\":\"y\",\"type\":\"scatter\"},{\"hovertemplate\":\"state=Hawaii<br>average stem_percent=%{x}<br>average early_career_pay=%{y}<extra></extra>\",\"legendgroup\":\"Hawaii\",\"marker\":{\"color\":\"#636efa\",\"symbol\":\"circle\"},\"mode\":\"markers\",\"name\":\"Hawaii\",\"orientation\":\"v\",\"showlegend\":true,\"x\":[12.4],\"xaxis\":\"x\",\"y\":[48980.0],\"yaxis\":\"y\",\"type\":\"scatter\"},{\"hovertemplate\":\"state=Idaho<br>average stem_percent=%{x}<br>average early_career_pay=%{y}<extra></extra>\",\"legendgroup\":\"Idaho\",\"marker\":{\"color\":\"#EF553B\",\"symbol\":\"circle\"},\"mode\":\"markers\",\"name\":\"Idaho\",\"orientation\":\"v\",\"showlegend\":true,\"x\":[12.333333333333334],\"xaxis\":\"x\",\"y\":[49666.666666666664],\"yaxis\":\"y\",\"type\":\"scatter\"},{\"hovertemplate\":\"state=Illinois<br>average stem_percent=%{x}<br>average early_career_pay=%{y}<extra></extra>\",\"legendgroup\":\"Illinois\",\"marker\":{\"color\":\"#00cc96\",\"symbol\":\"circle\"},\"mode\":\"markers\",\"name\":\"Illinois\",\"orientation\":\"v\",\"showlegend\":true,\"x\":[20.63157894736842],\"xaxis\":\"x\",\"y\":[55763.15789473684],\"yaxis\":\"y\",\"type\":\"scatter\"},{\"hovertemplate\":\"state=Indiana<br>average stem_percent=%{x}<br>average early_career_pay=%{y}<extra></extra>\",\"legendgroup\":\"Indiana\",\"marker\":{\"color\":\"#ab63fa\",\"symbol\":\"circle\"},\"mode\":\"markers\",\"name\":\"Indiana\",\"orientation\":\"v\",\"showlegend\":true,\"x\":[22.944444444444443],\"xaxis\":\"x\",\"y\":[52938.88888888889],\"yaxis\":\"y\",\"type\":\"scatter\"},{\"hovertemplate\":\"state=Iowa<br>average stem_percent=%{x}<br>average early_career_pay=%{y}<extra></extra>\",\"legendgroup\":\"Iowa\",\"marker\":{\"color\":\"#FFA15A\",\"symbol\":\"circle\"},\"mode\":\"markers\",\"name\":\"Iowa\",\"orientation\":\"v\",\"showlegend\":true,\"x\":[16.333333333333332],\"xaxis\":\"x\",\"y\":[48314.28571428572],\"yaxis\":\"y\",\"type\":\"scatter\"},{\"hovertemplate\":\"state=Kansas<br>average stem_percent=%{x}<br>average early_career_pay=%{y}<extra></extra>\",\"legendgroup\":\"Kansas\",\"marker\":{\"color\":\"#19d3f3\",\"symbol\":\"circle\"},\"mode\":\"markers\",\"name\":\"Kansas\",\"orientation\":\"v\",\"showlegend\":true,\"x\":[9.764705882352942],\"xaxis\":\"x\",\"y\":[46482.35294117647],\"yaxis\":\"y\",\"type\":\"scatter\"},{\"hovertemplate\":\"state=Kentucky<br>average stem_percent=%{x}<br>average early_career_pay=%{y}<extra></extra>\",\"legendgroup\":\"Kentucky\",\"marker\":{\"color\":\"#FF6692\",\"symbol\":\"circle\"},\"mode\":\"markers\",\"name\":\"Kentucky\",\"orientation\":\"v\",\"showlegend\":true,\"x\":[10.708333333333334],\"xaxis\":\"x\",\"y\":[43754.166666666664],\"yaxis\":\"y\",\"type\":\"scatter\"},{\"hovertemplate\":\"state=Louisiana<br>average stem_percent=%{x}<br>average early_career_pay=%{y}<extra></extra>\",\"legendgroup\":\"Louisiana\",\"marker\":{\"color\":\"#B6E880\",\"symbol\":\"circle\"},\"mode\":\"markers\",\"name\":\"Louisiana\",\"orientation\":\"v\",\"showlegend\":true,\"x\":[14.266666666666667],\"xaxis\":\"x\",\"y\":[46920.0],\"yaxis\":\"y\",\"type\":\"scatter\"},{\"hovertemplate\":\"state=Maine<br>average stem_percent=%{x}<br>average early_career_pay=%{y}<extra></extra>\",\"legendgroup\":\"Maine\",\"marker\":{\"color\":\"#FF97FF\",\"symbol\":\"circle\"},\"mode\":\"markers\",\"name\":\"Maine\",\"orientation\":\"v\",\"showlegend\":true,\"x\":[13.375],\"xaxis\":\"x\",\"y\":[48181.25],\"yaxis\":\"y\",\"type\":\"scatter\"},{\"hovertemplate\":\"state=Maryland<br>average stem_percent=%{x}<br>average early_career_pay=%{y}<extra></extra>\",\"legendgroup\":\"Maryland\",\"marker\":{\"color\":\"#FECB52\",\"symbol\":\"circle\"},\"mode\":\"markers\",\"name\":\"Maryland\",\"orientation\":\"v\",\"showlegend\":true,\"x\":[17.294117647058822],\"xaxis\":\"x\",\"y\":[53041.17647058824],\"yaxis\":\"y\",\"type\":\"scatter\"},{\"hovertemplate\":\"state=Massachusetts<br>average stem_percent=%{x}<br>average early_career_pay=%{y}<extra></extra>\",\"legendgroup\":\"Massachusetts\",\"marker\":{\"color\":\"#636efa\",\"symbol\":\"circle\"},\"mode\":\"markers\",\"name\":\"Massachusetts\",\"orientation\":\"v\",\"showlegend\":true,\"x\":[28.38095238095238],\"xaxis\":\"x\",\"y\":[63519.04761904762],\"yaxis\":\"y\",\"type\":\"scatter\"},{\"hovertemplate\":\"state=Michigan<br>average stem_percent=%{x}<br>average early_career_pay=%{y}<extra></extra>\",\"legendgroup\":\"Michigan\",\"marker\":{\"color\":\"#EF553B\",\"symbol\":\"circle\"},\"mode\":\"markers\",\"name\":\"Michigan\",\"orientation\":\"v\",\"showlegend\":true,\"x\":[21.772727272727273],\"xaxis\":\"x\",\"y\":[51695.454545454544],\"yaxis\":\"y\",\"type\":\"scatter\"},{\"hovertemplate\":\"state=Minnesota<br>average stem_percent=%{x}<br>average early_career_pay=%{y}<extra></extra>\",\"legendgroup\":\"Minnesota\",\"marker\":{\"color\":\"#00cc96\",\"symbol\":\"circle\"},\"mode\":\"markers\",\"name\":\"Minnesota\",\"orientation\":\"v\",\"showlegend\":true,\"x\":[16.666666666666668],\"xaxis\":\"x\",\"y\":[51233.333333333336],\"yaxis\":\"y\",\"type\":\"scatter\"},{\"hovertemplate\":\"state=Mississippi<br>average stem_percent=%{x}<br>average early_career_pay=%{y}<extra></extra>\",\"legendgroup\":\"Mississippi\",\"marker\":{\"color\":\"#ab63fa\",\"symbol\":\"circle\"},\"mode\":\"markers\",\"name\":\"Mississippi\",\"orientation\":\"v\",\"showlegend\":true,\"x\":[14.642857142857142],\"xaxis\":\"x\",\"y\":[42042.857142857145],\"yaxis\":\"y\",\"type\":\"scatter\"},{\"hovertemplate\":\"state=Missouri<br>average stem_percent=%{x}<br>average early_career_pay=%{y}<extra></extra>\",\"legendgroup\":\"Missouri\",\"marker\":{\"color\":\"#FFA15A\",\"symbol\":\"circle\"},\"mode\":\"markers\",\"name\":\"Missouri\",\"orientation\":\"v\",\"showlegend\":true,\"x\":[15.705882352941176],\"xaxis\":\"x\",\"y\":[48023.529411764706],\"yaxis\":\"y\",\"type\":\"scatter\"},{\"hovertemplate\":\"state=Montana<br>average stem_percent=%{x}<br>average early_career_pay=%{y}<extra></extra>\",\"legendgroup\":\"Montana\",\"marker\":{\"color\":\"#19d3f3\",\"symbol\":\"circle\"},\"mode\":\"markers\",\"name\":\"Montana\",\"orientation\":\"v\",\"showlegend\":true,\"x\":[32.25],\"xaxis\":\"x\",\"y\":[52275.0],\"yaxis\":\"y\",\"type\":\"scatter\"},{\"hovertemplate\":\"state=Nebraska<br>average stem_percent=%{x}<br>average early_career_pay=%{y}<extra></extra>\",\"legendgroup\":\"Nebraska\",\"marker\":{\"color\":\"#FF6692\",\"symbol\":\"circle\"},\"mode\":\"markers\",\"name\":\"Nebraska\",\"orientation\":\"v\",\"showlegend\":true,\"x\":[8.727272727272727],\"xaxis\":\"x\",\"y\":[46790.90909090909],\"yaxis\":\"y\",\"type\":\"scatter\"},{\"hovertemplate\":\"state=Nevada<br>average stem_percent=%{x}<br>average early_career_pay=%{y}<extra></extra>\",\"legendgroup\":\"Nevada\",\"marker\":{\"color\":\"#B6E880\",\"symbol\":\"circle\"},\"mode\":\"markers\",\"name\":\"Nevada\",\"orientation\":\"v\",\"showlegend\":true,\"x\":[2.0],\"xaxis\":\"x\",\"y\":[54000.0],\"yaxis\":\"y\",\"type\":\"scatter\"},{\"hovertemplate\":\"state=New Hampshire<br>average stem_percent=%{x}<br>average early_career_pay=%{y}<extra></extra>\",\"legendgroup\":\"New Hampshire\",\"marker\":{\"color\":\"#FF97FF\",\"symbol\":\"circle\"},\"mode\":\"markers\",\"name\":\"New Hampshire\",\"orientation\":\"v\",\"showlegend\":true,\"x\":[16.181818181818183],\"xaxis\":\"x\",\"y\":[50545.454545454544],\"yaxis\":\"y\",\"type\":\"scatter\"},{\"hovertemplate\":\"state=New Jersey<br>average stem_percent=%{x}<br>average early_career_pay=%{y}<extra></extra>\",\"legendgroup\":\"New Jersey\",\"marker\":{\"color\":\"#FECB52\",\"symbol\":\"circle\"},\"mode\":\"markers\",\"name\":\"New Jersey\",\"orientation\":\"v\",\"showlegend\":true,\"x\":[20.263157894736842],\"xaxis\":\"x\",\"y\":[54847.36842105263],\"yaxis\":\"y\",\"type\":\"scatter\"},{\"hovertemplate\":\"state=New Mexico<br>average stem_percent=%{x}<br>average early_career_pay=%{y}<extra></extra>\",\"legendgroup\":\"New Mexico\",\"marker\":{\"color\":\"#636efa\",\"symbol\":\"circle\"},\"mode\":\"markers\",\"name\":\"New Mexico\",\"orientation\":\"v\",\"showlegend\":true,\"x\":[33.0],\"xaxis\":\"x\",\"y\":[48933.333333333336],\"yaxis\":\"y\",\"type\":\"scatter\"},{\"hovertemplate\":\"state=New York<br>average stem_percent=%{x}<br>average early_career_pay=%{y}<extra></extra>\",\"legendgroup\":\"New York\",\"marker\":{\"color\":\"#EF553B\",\"symbol\":\"circle\"},\"mode\":\"markers\",\"name\":\"New York\",\"orientation\":\"v\",\"showlegend\":true,\"x\":[28.5625],\"xaxis\":\"x\",\"y\":[65881.25],\"yaxis\":\"y\",\"type\":\"scatter\"},{\"hovertemplate\":\"state=North Carolina<br>average stem_percent=%{x}<br>average early_career_pay=%{y}<extra></extra>\",\"legendgroup\":\"North Carolina\",\"marker\":{\"color\":\"#00cc96\",\"symbol\":\"circle\"},\"mode\":\"markers\",\"name\":\"North Carolina\",\"orientation\":\"v\",\"showlegend\":true,\"x\":[11.15],\"xaxis\":\"x\",\"y\":[49695.0],\"yaxis\":\"y\",\"type\":\"scatter\"},{\"hovertemplate\":\"state=North Dakota<br>average stem_percent=%{x}<br>average early_career_pay=%{y}<extra></extra>\",\"legendgroup\":\"North Dakota\",\"marker\":{\"color\":\"#ab63fa\",\"symbol\":\"circle\"},\"mode\":\"markers\",\"name\":\"North Dakota\",\"orientation\":\"v\",\"showlegend\":true,\"x\":[8.285714285714286],\"xaxis\":\"x\",\"y\":[46042.857142857145],\"yaxis\":\"y\",\"type\":\"scatter\"},{\"hovertemplate\":\"state=Ohio<br>average stem_percent=%{x}<br>average early_career_pay=%{y}<extra></extra>\",\"legendgroup\":\"Ohio\",\"marker\":{\"color\":\"#FFA15A\",\"symbol\":\"circle\"},\"mode\":\"markers\",\"name\":\"Ohio\",\"orientation\":\"v\",\"showlegend\":true,\"x\":[21.533333333333335],\"xaxis\":\"x\",\"y\":[53613.333333333336],\"yaxis\":\"y\",\"type\":\"scatter\"},{\"hovertemplate\":\"state=Oklahoma<br>average stem_percent=%{x}<br>average early_career_pay=%{y}<extra></extra>\",\"legendgroup\":\"Oklahoma\",\"marker\":{\"color\":\"#19d3f3\",\"symbol\":\"circle\"},\"mode\":\"markers\",\"name\":\"Oklahoma\",\"orientation\":\"v\",\"showlegend\":true,\"x\":[11.421052631578947],\"xaxis\":\"x\",\"y\":[45105.26315789474],\"yaxis\":\"y\",\"type\":\"scatter\"},{\"hovertemplate\":\"state=Oregon<br>average stem_percent=%{x}<br>average early_career_pay=%{y}<extra></extra>\",\"legendgroup\":\"Oregon\",\"marker\":{\"color\":\"#FF6692\",\"symbol\":\"circle\"},\"mode\":\"markers\",\"name\":\"Oregon\",\"orientation\":\"v\",\"showlegend\":true,\"x\":[12.11111111111111],\"xaxis\":\"x\",\"y\":[50694.444444444445],\"yaxis\":\"y\",\"type\":\"scatter\"},{\"hovertemplate\":\"state=Pennsylvania<br>average stem_percent=%{x}<br>average early_career_pay=%{y}<extra></extra>\",\"legendgroup\":\"Pennsylvania\",\"marker\":{\"color\":\"#B6E880\",\"symbol\":\"circle\"},\"mode\":\"markers\",\"name\":\"Pennsylvania\",\"orientation\":\"v\",\"showlegend\":true,\"x\":[28.63157894736842],\"xaxis\":\"x\",\"y\":[61436.84210526316],\"yaxis\":\"y\",\"type\":\"scatter\"},{\"hovertemplate\":\"state=Rhode Island<br>average stem_percent=%{x}<br>average early_career_pay=%{y}<extra></extra>\",\"legendgroup\":\"Rhode Island\",\"marker\":{\"color\":\"#FF97FF\",\"symbol\":\"circle\"},\"mode\":\"markers\",\"name\":\"Rhode Island\",\"orientation\":\"v\",\"showlegend\":true,\"x\":[13.0],\"xaxis\":\"x\",\"y\":[55822.22222222222],\"yaxis\":\"y\",\"type\":\"scatter\"},{\"hovertemplate\":\"state=South Carolina<br>average stem_percent=%{x}<br>average early_career_pay=%{y}<extra></extra>\",\"legendgroup\":\"South Carolina\",\"marker\":{\"color\":\"#FECB52\",\"symbol\":\"circle\"},\"mode\":\"markers\",\"name\":\"South Carolina\",\"orientation\":\"v\",\"showlegend\":true,\"x\":[14.777777777777779],\"xaxis\":\"x\",\"y\":[44716.666666666664],\"yaxis\":\"y\",\"type\":\"scatter\"},{\"hovertemplate\":\"state=South Dakota<br>average stem_percent=%{x}<br>average early_career_pay=%{y}<extra></extra>\",\"legendgroup\":\"South Dakota\",\"marker\":{\"color\":\"#636efa\",\"symbol\":\"circle\"},\"mode\":\"markers\",\"name\":\"South Dakota\",\"orientation\":\"v\",\"showlegend\":true,\"x\":[22.8],\"xaxis\":\"x\",\"y\":[47110.0],\"yaxis\":\"y\",\"type\":\"scatter\"},{\"hovertemplate\":\"state=Tennessee<br>average stem_percent=%{x}<br>average early_career_pay=%{y}<extra></extra>\",\"legendgroup\":\"Tennessee\",\"marker\":{\"color\":\"#EF553B\",\"symbol\":\"circle\"},\"mode\":\"markers\",\"name\":\"Tennessee\",\"orientation\":\"v\",\"showlegend\":true,\"x\":[12.75],\"xaxis\":\"x\",\"y\":[47370.0],\"yaxis\":\"y\",\"type\":\"scatter\"},{\"hovertemplate\":\"state=Texas<br>average stem_percent=%{x}<br>average early_career_pay=%{y}<extra></extra>\",\"legendgroup\":\"Texas\",\"marker\":{\"color\":\"#00cc96\",\"symbol\":\"circle\"},\"mode\":\"markers\",\"name\":\"Texas\",\"orientation\":\"v\",\"showlegend\":true,\"x\":[20.055555555555557],\"xaxis\":\"x\",\"y\":[56500.0],\"yaxis\":\"y\",\"type\":\"scatter\"},{\"hovertemplate\":\"state=Utah<br>average stem_percent=%{x}<br>average early_career_pay=%{y}<extra></extra>\",\"legendgroup\":\"Utah\",\"marker\":{\"color\":\"#ab63fa\",\"symbol\":\"circle\"},\"mode\":\"markers\",\"name\":\"Utah\",\"orientation\":\"v\",\"showlegend\":true,\"x\":[12.0],\"xaxis\":\"x\",\"y\":[52183.333333333336],\"yaxis\":\"y\",\"type\":\"scatter\"},{\"hovertemplate\":\"state=Vermont<br>average stem_percent=%{x}<br>average early_career_pay=%{y}<extra></extra>\",\"legendgroup\":\"Vermont\",\"marker\":{\"color\":\"#FFA15A\",\"symbol\":\"circle\"},\"mode\":\"markers\",\"name\":\"Vermont\",\"orientation\":\"v\",\"showlegend\":true,\"x\":[12.272727272727273],\"xaxis\":\"x\",\"y\":[49445.454545454544],\"yaxis\":\"y\",\"type\":\"scatter\"},{\"hovertemplate\":\"state=Virginia<br>average stem_percent=%{x}<br>average early_career_pay=%{y}<extra></extra>\",\"legendgroup\":\"Virginia\",\"marker\":{\"color\":\"#19d3f3\",\"symbol\":\"circle\"},\"mode\":\"markers\",\"name\":\"Virginia\",\"orientation\":\"v\",\"showlegend\":true,\"x\":[17.727272727272727],\"xaxis\":\"x\",\"y\":[53718.181818181816],\"yaxis\":\"y\",\"type\":\"scatter\"},{\"hovertemplate\":\"state=Washington<br>average stem_percent=%{x}<br>average early_career_pay=%{y}<extra></extra>\",\"legendgroup\":\"Washington\",\"marker\":{\"color\":\"#FF6692\",\"symbol\":\"circle\"},\"mode\":\"markers\",\"name\":\"Washington\",\"orientation\":\"v\",\"showlegend\":true,\"x\":[16.625],\"xaxis\":\"x\",\"y\":[53450.0],\"yaxis\":\"y\",\"type\":\"scatter\"},{\"hovertemplate\":\"state=West Virginia<br>average stem_percent=%{x}<br>average early_career_pay=%{y}<extra></extra>\",\"legendgroup\":\"West Virginia\",\"marker\":{\"color\":\"#B6E880\",\"symbol\":\"circle\"},\"mode\":\"markers\",\"name\":\"West Virginia\",\"orientation\":\"v\",\"showlegend\":true,\"x\":[10.4],\"xaxis\":\"x\",\"y\":[44333.333333333336],\"yaxis\":\"y\",\"type\":\"scatter\"},{\"hovertemplate\":\"state=Wisconsin<br>average stem_percent=%{x}<br>average early_career_pay=%{y}<extra></extra>\",\"legendgroup\":\"Wisconsin\",\"marker\":{\"color\":\"#FF97FF\",\"symbol\":\"circle\"},\"mode\":\"markers\",\"name\":\"Wisconsin\",\"orientation\":\"v\",\"showlegend\":true,\"x\":[18.363636363636363],\"xaxis\":\"x\",\"y\":[50681.818181818184],\"yaxis\":\"y\",\"type\":\"scatter\"},{\"hovertemplate\":\"state=Wyoming<br>average stem_percent=%{x}<br>average early_career_pay=%{y}<extra></extra>\",\"legendgroup\":\"Wyoming\",\"marker\":{\"color\":\"#FECB52\",\"symbol\":\"circle\"},\"mode\":\"markers\",\"name\":\"Wyoming\",\"orientation\":\"v\",\"showlegend\":true,\"x\":[25.0],\"xaxis\":\"x\",\"y\":[52400.0],\"yaxis\":\"y\",\"type\":\"scatter\"},{\"hovertemplate\":\"<b>OLS trendline</b><br>average early_career_pay = 478.507 * average stem_percent + 43091.8<br>R<sup>2</sup>=0.347354<br><br>average stem_percent=%{x}<br>average early_career_pay=%{y} <b>(trend)</b><extra></extra>\",\"legendgroup\":\"Overall Trendline\",\"line\":{\"color\":\"#636efa\"},\"mode\":\"lines\",\"name\":\"Overall Trendline\",\"showlegend\":true,\"x\":[2.0,8.285714285714286,8.727272727272727,9.764705882352942,10.4,10.708333333333334,11.15,11.421052631578947,11.666666666666666,12.0,12.0,12.11111111111111,12.272727272727273,12.333333333333334,12.4,12.6,12.75,13.0,13.375,14.047619047619047,14.071428571428571,14.266666666666667,14.38888888888889,14.636363636363637,14.642857142857142,14.777777777777779,15.705882352941176,15.88888888888889,16.181818181818183,16.333333333333332,16.625,16.666666666666668,17.294117647058822,17.727272727272727,18.363636363636363,20.055555555555557,20.263157894736842,20.63157894736842,20.692307692307693,21.533333333333335,21.772727272727273,22.8,22.944444444444443,25.0,28.38095238095238,28.5625,28.63157894736842,30.615384615384617,32.25,33.0],\"y\":[44048.785584220146,47056.541490488235,47267.83012853186,47764.24876255132,48068.24120441477,48215.780746029064,48427.12117050358,48556.82164947603,48674.34959158698,48833.85179873756,48833.85179873756,48887.01920112108,48964.35360458803,48993.35400588814,49025.25444731826,49120.955771608606,49192.73176482636,49312.358420189295,49491.798403233704,49813.65107123398,49825.04408603045,49918.4668073615,49976.95094998338,50095.36925529215,50098.47644114573,50163.03685832573,50607.14104294107,50694.710882160995,50834.87948844484,50907.380491695105,51046.94492295186,51066.882698845686,51367.122147599715,51574.38972159753,51878.893935248634,52688.48847154325,52787.82756547036,52964.1194786368,52993.178585202695,53395.61492324415,53510.166508379574,54001.72331041636,54070.84093351495,55054.43787761019,56672.24597870893,56759.11771653202,56792.17245025072,57741.436598069966,58523.61088313531,58882.490849224116],\"type\":\"scatter\",\"xaxis\":\"x\",\"yaxis\":\"y\"}],                        {\"template\":{\"data\":{\"bar\":[{\"error_x\":{\"color\":\"#2a3f5f\"},\"error_y\":{\"color\":\"#2a3f5f\"},\"marker\":{\"line\":{\"color\":\"#E5ECF6\",\"width\":0.5},\"pattern\":{\"fillmode\":\"overlay\",\"size\":10,\"solidity\":0.2}},\"type\":\"bar\"}],\"barpolar\":[{\"marker\":{\"line\":{\"color\":\"#E5ECF6\",\"width\":0.5},\"pattern\":{\"fillmode\":\"overlay\",\"size\":10,\"solidity\":0.2}},\"type\":\"barpolar\"}],\"carpet\":[{\"aaxis\":{\"endlinecolor\":\"#2a3f5f\",\"gridcolor\":\"white\",\"linecolor\":\"white\",\"minorgridcolor\":\"white\",\"startlinecolor\":\"#2a3f5f\"},\"baxis\":{\"endlinecolor\":\"#2a3f5f\",\"gridcolor\":\"white\",\"linecolor\":\"white\",\"minorgridcolor\":\"white\",\"startlinecolor\":\"#2a3f5f\"},\"type\":\"carpet\"}],\"choropleth\":[{\"colorbar\":{\"outlinewidth\":0,\"ticks\":\"\"},\"type\":\"choropleth\"}],\"contour\":[{\"colorbar\":{\"outlinewidth\":0,\"ticks\":\"\"},\"colorscale\":[[0.0,\"#0d0887\"],[0.1111111111111111,\"#46039f\"],[0.2222222222222222,\"#7201a8\"],[0.3333333333333333,\"#9c179e\"],[0.4444444444444444,\"#bd3786\"],[0.5555555555555556,\"#d8576b\"],[0.6666666666666666,\"#ed7953\"],[0.7777777777777778,\"#fb9f3a\"],[0.8888888888888888,\"#fdca26\"],[1.0,\"#f0f921\"]],\"type\":\"contour\"}],\"contourcarpet\":[{\"colorbar\":{\"outlinewidth\":0,\"ticks\":\"\"},\"type\":\"contourcarpet\"}],\"heatmap\":[{\"colorbar\":{\"outlinewidth\":0,\"ticks\":\"\"},\"colorscale\":[[0.0,\"#0d0887\"],[0.1111111111111111,\"#46039f\"],[0.2222222222222222,\"#7201a8\"],[0.3333333333333333,\"#9c179e\"],[0.4444444444444444,\"#bd3786\"],[0.5555555555555556,\"#d8576b\"],[0.6666666666666666,\"#ed7953\"],[0.7777777777777778,\"#fb9f3a\"],[0.8888888888888888,\"#fdca26\"],[1.0,\"#f0f921\"]],\"type\":\"heatmap\"}],\"heatmapgl\":[{\"colorbar\":{\"outlinewidth\":0,\"ticks\":\"\"},\"colorscale\":[[0.0,\"#0d0887\"],[0.1111111111111111,\"#46039f\"],[0.2222222222222222,\"#7201a8\"],[0.3333333333333333,\"#9c179e\"],[0.4444444444444444,\"#bd3786\"],[0.5555555555555556,\"#d8576b\"],[0.6666666666666666,\"#ed7953\"],[0.7777777777777778,\"#fb9f3a\"],[0.8888888888888888,\"#fdca26\"],[1.0,\"#f0f921\"]],\"type\":\"heatmapgl\"}],\"histogram\":[{\"marker\":{\"pattern\":{\"fillmode\":\"overlay\",\"size\":10,\"solidity\":0.2}},\"type\":\"histogram\"}],\"histogram2d\":[{\"colorbar\":{\"outlinewidth\":0,\"ticks\":\"\"},\"colorscale\":[[0.0,\"#0d0887\"],[0.1111111111111111,\"#46039f\"],[0.2222222222222222,\"#7201a8\"],[0.3333333333333333,\"#9c179e\"],[0.4444444444444444,\"#bd3786\"],[0.5555555555555556,\"#d8576b\"],[0.6666666666666666,\"#ed7953\"],[0.7777777777777778,\"#fb9f3a\"],[0.8888888888888888,\"#fdca26\"],[1.0,\"#f0f921\"]],\"type\":\"histogram2d\"}],\"histogram2dcontour\":[{\"colorbar\":{\"outlinewidth\":0,\"ticks\":\"\"},\"colorscale\":[[0.0,\"#0d0887\"],[0.1111111111111111,\"#46039f\"],[0.2222222222222222,\"#7201a8\"],[0.3333333333333333,\"#9c179e\"],[0.4444444444444444,\"#bd3786\"],[0.5555555555555556,\"#d8576b\"],[0.6666666666666666,\"#ed7953\"],[0.7777777777777778,\"#fb9f3a\"],[0.8888888888888888,\"#fdca26\"],[1.0,\"#f0f921\"]],\"type\":\"histogram2dcontour\"}],\"mesh3d\":[{\"colorbar\":{\"outlinewidth\":0,\"ticks\":\"\"},\"type\":\"mesh3d\"}],\"parcoords\":[{\"line\":{\"colorbar\":{\"outlinewidth\":0,\"ticks\":\"\"}},\"type\":\"parcoords\"}],\"pie\":[{\"automargin\":true,\"type\":\"pie\"}],\"scatter\":[{\"marker\":{\"colorbar\":{\"outlinewidth\":0,\"ticks\":\"\"}},\"type\":\"scatter\"}],\"scatter3d\":[{\"line\":{\"colorbar\":{\"outlinewidth\":0,\"ticks\":\"\"}},\"marker\":{\"colorbar\":{\"outlinewidth\":0,\"ticks\":\"\"}},\"type\":\"scatter3d\"}],\"scattercarpet\":[{\"marker\":{\"colorbar\":{\"outlinewidth\":0,\"ticks\":\"\"}},\"type\":\"scattercarpet\"}],\"scattergeo\":[{\"marker\":{\"colorbar\":{\"outlinewidth\":0,\"ticks\":\"\"}},\"type\":\"scattergeo\"}],\"scattergl\":[{\"marker\":{\"colorbar\":{\"outlinewidth\":0,\"ticks\":\"\"}},\"type\":\"scattergl\"}],\"scattermapbox\":[{\"marker\":{\"colorbar\":{\"outlinewidth\":0,\"ticks\":\"\"}},\"type\":\"scattermapbox\"}],\"scatterpolar\":[{\"marker\":{\"colorbar\":{\"outlinewidth\":0,\"ticks\":\"\"}},\"type\":\"scatterpolar\"}],\"scatterpolargl\":[{\"marker\":{\"colorbar\":{\"outlinewidth\":0,\"ticks\":\"\"}},\"type\":\"scatterpolargl\"}],\"scatterternary\":[{\"marker\":{\"colorbar\":{\"outlinewidth\":0,\"ticks\":\"\"}},\"type\":\"scatterternary\"}],\"surface\":[{\"colorbar\":{\"outlinewidth\":0,\"ticks\":\"\"},\"colorscale\":[[0.0,\"#0d0887\"],[0.1111111111111111,\"#46039f\"],[0.2222222222222222,\"#7201a8\"],[0.3333333333333333,\"#9c179e\"],[0.4444444444444444,\"#bd3786\"],[0.5555555555555556,\"#d8576b\"],[0.6666666666666666,\"#ed7953\"],[0.7777777777777778,\"#fb9f3a\"],[0.8888888888888888,\"#fdca26\"],[1.0,\"#f0f921\"]],\"type\":\"surface\"}],\"table\":[{\"cells\":{\"fill\":{\"color\":\"#EBF0F8\"},\"line\":{\"color\":\"white\"}},\"header\":{\"fill\":{\"color\":\"#C8D4E3\"},\"line\":{\"color\":\"white\"}},\"type\":\"table\"}]},\"layout\":{\"annotationdefaults\":{\"arrowcolor\":\"#2a3f5f\",\"arrowhead\":0,\"arrowwidth\":1},\"autotypenumbers\":\"strict\",\"coloraxis\":{\"colorbar\":{\"outlinewidth\":0,\"ticks\":\"\"}},\"colorscale\":{\"diverging\":[[0,\"#8e0152\"],[0.1,\"#c51b7d\"],[0.2,\"#de77ae\"],[0.3,\"#f1b6da\"],[0.4,\"#fde0ef\"],[0.5,\"#f7f7f7\"],[0.6,\"#e6f5d0\"],[0.7,\"#b8e186\"],[0.8,\"#7fbc41\"],[0.9,\"#4d9221\"],[1,\"#276419\"]],\"sequential\":[[0.0,\"#0d0887\"],[0.1111111111111111,\"#46039f\"],[0.2222222222222222,\"#7201a8\"],[0.3333333333333333,\"#9c179e\"],[0.4444444444444444,\"#bd3786\"],[0.5555555555555556,\"#d8576b\"],[0.6666666666666666,\"#ed7953\"],[0.7777777777777778,\"#fb9f3a\"],[0.8888888888888888,\"#fdca26\"],[1.0,\"#f0f921\"]],\"sequentialminus\":[[0.0,\"#0d0887\"],[0.1111111111111111,\"#46039f\"],[0.2222222222222222,\"#7201a8\"],[0.3333333333333333,\"#9c179e\"],[0.4444444444444444,\"#bd3786\"],[0.5555555555555556,\"#d8576b\"],[0.6666666666666666,\"#ed7953\"],[0.7777777777777778,\"#fb9f3a\"],[0.8888888888888888,\"#fdca26\"],[1.0,\"#f0f921\"]]},\"colorway\":[\"#636efa\",\"#EF553B\",\"#00cc96\",\"#ab63fa\",\"#FFA15A\",\"#19d3f3\",\"#FF6692\",\"#B6E880\",\"#FF97FF\",\"#FECB52\"],\"font\":{\"color\":\"#2a3f5f\"},\"geo\":{\"bgcolor\":\"white\",\"lakecolor\":\"white\",\"landcolor\":\"#E5ECF6\",\"showlakes\":true,\"showland\":true,\"subunitcolor\":\"white\"},\"hoverlabel\":{\"align\":\"left\"},\"hovermode\":\"closest\",\"mapbox\":{\"style\":\"light\"},\"paper_bgcolor\":\"white\",\"plot_bgcolor\":\"#E5ECF6\",\"polar\":{\"angularaxis\":{\"gridcolor\":\"white\",\"linecolor\":\"white\",\"ticks\":\"\"},\"bgcolor\":\"#E5ECF6\",\"radialaxis\":{\"gridcolor\":\"white\",\"linecolor\":\"white\",\"ticks\":\"\"}},\"scene\":{\"xaxis\":{\"backgroundcolor\":\"#E5ECF6\",\"gridcolor\":\"white\",\"gridwidth\":2,\"linecolor\":\"white\",\"showbackground\":true,\"ticks\":\"\",\"zerolinecolor\":\"white\"},\"yaxis\":{\"backgroundcolor\":\"#E5ECF6\",\"gridcolor\":\"white\",\"gridwidth\":2,\"linecolor\":\"white\",\"showbackground\":true,\"ticks\":\"\",\"zerolinecolor\":\"white\"},\"zaxis\":{\"backgroundcolor\":\"#E5ECF6\",\"gridcolor\":\"white\",\"gridwidth\":2,\"linecolor\":\"white\",\"showbackground\":true,\"ticks\":\"\",\"zerolinecolor\":\"white\"}},\"shapedefaults\":{\"line\":{\"color\":\"#2a3f5f\"}},\"ternary\":{\"aaxis\":{\"gridcolor\":\"white\",\"linecolor\":\"white\",\"ticks\":\"\"},\"baxis\":{\"gridcolor\":\"white\",\"linecolor\":\"white\",\"ticks\":\"\"},\"bgcolor\":\"#E5ECF6\",\"caxis\":{\"gridcolor\":\"white\",\"linecolor\":\"white\",\"ticks\":\"\"}},\"title\":{\"x\":0.05},\"xaxis\":{\"automargin\":true,\"gridcolor\":\"white\",\"linecolor\":\"white\",\"ticks\":\"\",\"title\":{\"standoff\":15},\"zerolinecolor\":\"white\",\"zerolinewidth\":2},\"yaxis\":{\"automargin\":true,\"gridcolor\":\"white\",\"linecolor\":\"white\",\"ticks\":\"\",\"title\":{\"standoff\":15},\"zerolinecolor\":\"white\",\"zerolinewidth\":2}}},\"xaxis\":{\"anchor\":\"y\",\"domain\":[0.0,1.0],\"title\":{\"text\":\"average stem_percent\"}},\"yaxis\":{\"anchor\":\"x\",\"domain\":[0.0,1.0],\"title\":{\"text\":\"average early_career_pay\"}},\"legend\":{\"title\":{\"text\":\"state\"},\"tracegroupgap\":0},\"title\":{\"text\":\"Average In State Tuition vs Average % of Students Graduating with STEM Degrees\"}},                        {\"responsive\": true}                    ).then(function(){\n",
       "                            \n",
       "var gd = document.getElementById('cf250939-581c-4579-bc9e-bbd126521b1c');\n",
       "var x = new MutationObserver(function (mutations, observer) {{\n",
       "        var display = window.getComputedStyle(gd).display;\n",
       "        if (!display || display === 'none') {{\n",
       "            console.log([gd, 'removed!']);\n",
       "            Plotly.purge(gd);\n",
       "            observer.disconnect();\n",
       "        }}\n",
       "}});\n",
       "\n",
       "// Listen for the removal of the full notebook cells\n",
       "var notebookContainer = gd.closest('#notebook-container');\n",
       "if (notebookContainer) {{\n",
       "    x.observe(notebookContainer, {childList: true});\n",
       "}}\n",
       "\n",
       "// Listen for the clearing of the current output cell\n",
       "var outputEl = gd.closest('.output');\n",
       "if (outputEl) {{\n",
       "    x.observe(outputEl, {childList: true});\n",
       "}}\n",
       "\n",
       "                        })                };                });            </script>        </div>"
      ]
     },
     "execution_count": 32,
     "metadata": {
     },
     "output_type": "execute_result"
    }
   ],
   "source": [
    "fig = px.scatter(state_stats_extras, x='average stem_percent', y='average early_career_pay',color='state',\n",
    "                 trendline=\"ols\", trendline_scope = 'overall',\n",
    "                 title= 'Average In State Tuition vs Average % of Students Graduating with STEM Degrees')\n",
    "\n",
    "fig.show()"
   ]
  },
  {
   "cell_type": "code",
   "execution_count": 33,
   "metadata": {
    "collapsed": false
   },
   "outputs": [
    {
     "data": {
      "application/vnd.plotly.v1+json": {
       "config": {
        "plotlyServerURL": "https://plot.ly"
       },
       "data": [
        {
         "coloraxis": "coloraxis",
         "geo": "geo",
         "hovertemplate": "state_code=%{location}<br>four year average in state tuition=%{z}<extra></extra>",
         "locationmode": "USA-states",
         "locations": [
          "AL",
          "AK",
          "AZ",
          "AR",
          "CA",
          "CO",
          "CT",
          "DE",
          "FL",
          "GA",
          "HI",
          "ID",
          "IL",
          "IN",
          "IA",
          "KS",
          "KY",
          "LA",
          "ME",
          "MD",
          "MA",
          "MI",
          "MN",
          "MS",
          "MO",
          "MT",
          "NE",
          "NV",
          "NH",
          "NJ",
          "NM",
          "NY",
          "NC",
          "ND",
          "OH",
          "OK",
          "OR",
          "PA",
          "RI",
          "SC",
          "SD",
          "TN",
          "TX",
          "UT",
          "VT",
          "VA",
          "WA",
          "WV",
          "WI",
          "WY"
         ],
         "name": "",
         "type": "choropleth",
         "z": [
          64536.95238095238,
          48806.666666666664,
          74048,
          68785.42857142857,
          190626.15384615384,
          83676.61538461539,
          135868.44444444444,
          66771.2,
          96486.22222222222,
          84775.63636363637,
          61283.2,
          42009.333333333336,
          136982.31578947368,
          143818.44444444444,
          127574.47619047618,
          84346.35294117648,
          92465.5,
          61872,
          98022,
          126087.5294117647,
          188594.85714285713,
          99996.54545454546,
          133345.33333333334,
          51116,
          86910.35294117648,
          78830,
          78756.72727272728,
          136964,
          120004.36363636363,
          104793.26315789473,
          27658.666666666668,
          178446,
          110695.2,
          44292.57142857143,
          147707.46666666667,
          62780.42105263158,
          107244.44444444444,
          191462.52631578947,
          146248,
          87783.33333333333,
          63994,
          98784.8,
          106221.55555555556,
          27761.333333333332,
          129271.27272727272,
          100446.36363636363,
          123986,
          53202.666666666664,
          95868.54545454546,
          21600
         ]
        }
       ],
       "layout": {
        "coloraxis": {
         "colorbar": {
          "title": {
           "text": "four year average in state tuition"
          }
         },
         "colorscale": [
          [
           0,
           "#0d0887"
          ],
          [
           0.1111111111111111,
           "#46039f"
          ],
          [
           0.2222222222222222,
           "#7201a8"
          ],
          [
           0.3333333333333333,
           "#9c179e"
          ],
          [
           0.4444444444444444,
           "#bd3786"
          ],
          [
           0.5555555555555556,
           "#d8576b"
          ],
          [
           0.6666666666666666,
           "#ed7953"
          ],
          [
           0.7777777777777778,
           "#fb9f3a"
          ],
          [
           0.8888888888888888,
           "#fdca26"
          ],
          [
           1,
           "#f0f921"
          ]
         ]
        },
        "geo": {
         "center": {
         },
         "domain": {
          "x": [
           0,
           1
          ],
          "y": [
           0,
           1
          ]
         },
         "scope": "usa"
        },
        "legend": {
         "tracegroupgap": 0
        },
        "margin": {
         "t": 60
        },
        "template": {
         "data": {
          "bar": [
           {
            "error_x": {
             "color": "#2a3f5f"
            },
            "error_y": {
             "color": "#2a3f5f"
            },
            "marker": {
             "line": {
              "color": "#E5ECF6",
              "width": 0.5
             },
             "pattern": {
              "fillmode": "overlay",
              "size": 10,
              "solidity": 0.2
             }
            },
            "type": "bar"
           }
          ],
          "barpolar": [
           {
            "marker": {
             "line": {
              "color": "#E5ECF6",
              "width": 0.5
             },
             "pattern": {
              "fillmode": "overlay",
              "size": 10,
              "solidity": 0.2
             }
            },
            "type": "barpolar"
           }
          ],
          "carpet": [
           {
            "aaxis": {
             "endlinecolor": "#2a3f5f",
             "gridcolor": "white",
             "linecolor": "white",
             "minorgridcolor": "white",
             "startlinecolor": "#2a3f5f"
            },
            "baxis": {
             "endlinecolor": "#2a3f5f",
             "gridcolor": "white",
             "linecolor": "white",
             "minorgridcolor": "white",
             "startlinecolor": "#2a3f5f"
            },
            "type": "carpet"
           }
          ],
          "choropleth": [
           {
            "colorbar": {
             "outlinewidth": 0,
             "ticks": ""
            },
            "type": "choropleth"
           }
          ],
          "contour": [
           {
            "colorbar": {
             "outlinewidth": 0,
             "ticks": ""
            },
            "colorscale": [
             [
              0,
              "#0d0887"
             ],
             [
              0.1111111111111111,
              "#46039f"
             ],
             [
              0.2222222222222222,
              "#7201a8"
             ],
             [
              0.3333333333333333,
              "#9c179e"
             ],
             [
              0.4444444444444444,
              "#bd3786"
             ],
             [
              0.5555555555555556,
              "#d8576b"
             ],
             [
              0.6666666666666666,
              "#ed7953"
             ],
             [
              0.7777777777777778,
              "#fb9f3a"
             ],
             [
              0.8888888888888888,
              "#fdca26"
             ],
             [
              1,
              "#f0f921"
             ]
            ],
            "type": "contour"
           }
          ],
          "contourcarpet": [
           {
            "colorbar": {
             "outlinewidth": 0,
             "ticks": ""
            },
            "type": "contourcarpet"
           }
          ],
          "heatmap": [
           {
            "colorbar": {
             "outlinewidth": 0,
             "ticks": ""
            },
            "colorscale": [
             [
              0,
              "#0d0887"
             ],
             [
              0.1111111111111111,
              "#46039f"
             ],
             [
              0.2222222222222222,
              "#7201a8"
             ],
             [
              0.3333333333333333,
              "#9c179e"
             ],
             [
              0.4444444444444444,
              "#bd3786"
             ],
             [
              0.5555555555555556,
              "#d8576b"
             ],
             [
              0.6666666666666666,
              "#ed7953"
             ],
             [
              0.7777777777777778,
              "#fb9f3a"
             ],
             [
              0.8888888888888888,
              "#fdca26"
             ],
             [
              1,
              "#f0f921"
             ]
            ],
            "type": "heatmap"
           }
          ],
          "heatmapgl": [
           {
            "colorbar": {
             "outlinewidth": 0,
             "ticks": ""
            },
            "colorscale": [
             [
              0,
              "#0d0887"
             ],
             [
              0.1111111111111111,
              "#46039f"
             ],
             [
              0.2222222222222222,
              "#7201a8"
             ],
             [
              0.3333333333333333,
              "#9c179e"
             ],
             [
              0.4444444444444444,
              "#bd3786"
             ],
             [
              0.5555555555555556,
              "#d8576b"
             ],
             [
              0.6666666666666666,
              "#ed7953"
             ],
             [
              0.7777777777777778,
              "#fb9f3a"
             ],
             [
              0.8888888888888888,
              "#fdca26"
             ],
             [
              1,
              "#f0f921"
             ]
            ],
            "type": "heatmapgl"
           }
          ],
          "histogram": [
           {
            "marker": {
             "pattern": {
              "fillmode": "overlay",
              "size": 10,
              "solidity": 0.2
             }
            },
            "type": "histogram"
           }
          ],
          "histogram2d": [
           {
            "colorbar": {
             "outlinewidth": 0,
             "ticks": ""
            },
            "colorscale": [
             [
              0,
              "#0d0887"
             ],
             [
              0.1111111111111111,
              "#46039f"
             ],
             [
              0.2222222222222222,
              "#7201a8"
             ],
             [
              0.3333333333333333,
              "#9c179e"
             ],
             [
              0.4444444444444444,
              "#bd3786"
             ],
             [
              0.5555555555555556,
              "#d8576b"
             ],
             [
              0.6666666666666666,
              "#ed7953"
             ],
             [
              0.7777777777777778,
              "#fb9f3a"
             ],
             [
              0.8888888888888888,
              "#fdca26"
             ],
             [
              1,
              "#f0f921"
             ]
            ],
            "type": "histogram2d"
           }
          ],
          "histogram2dcontour": [
           {
            "colorbar": {
             "outlinewidth": 0,
             "ticks": ""
            },
            "colorscale": [
             [
              0,
              "#0d0887"
             ],
             [
              0.1111111111111111,
              "#46039f"
             ],
             [
              0.2222222222222222,
              "#7201a8"
             ],
             [
              0.3333333333333333,
              "#9c179e"
             ],
             [
              0.4444444444444444,
              "#bd3786"
             ],
             [
              0.5555555555555556,
              "#d8576b"
             ],
             [
              0.6666666666666666,
              "#ed7953"
             ],
             [
              0.7777777777777778,
              "#fb9f3a"
             ],
             [
              0.8888888888888888,
              "#fdca26"
             ],
             [
              1,
              "#f0f921"
             ]
            ],
            "type": "histogram2dcontour"
           }
          ],
          "mesh3d": [
           {
            "colorbar": {
             "outlinewidth": 0,
             "ticks": ""
            },
            "type": "mesh3d"
           }
          ],
          "parcoords": [
           {
            "line": {
             "colorbar": {
              "outlinewidth": 0,
              "ticks": ""
             }
            },
            "type": "parcoords"
           }
          ],
          "pie": [
           {
            "automargin": true,
            "type": "pie"
           }
          ],
          "scatter": [
           {
            "marker": {
             "colorbar": {
              "outlinewidth": 0,
              "ticks": ""
             }
            },
            "type": "scatter"
           }
          ],
          "scatter3d": [
           {
            "line": {
             "colorbar": {
              "outlinewidth": 0,
              "ticks": ""
             }
            },
            "marker": {
             "colorbar": {
              "outlinewidth": 0,
              "ticks": ""
             }
            },
            "type": "scatter3d"
           }
          ],
          "scattercarpet": [
           {
            "marker": {
             "colorbar": {
              "outlinewidth": 0,
              "ticks": ""
             }
            },
            "type": "scattercarpet"
           }
          ],
          "scattergeo": [
           {
            "marker": {
             "colorbar": {
              "outlinewidth": 0,
              "ticks": ""
             }
            },
            "type": "scattergeo"
           }
          ],
          "scattergl": [
           {
            "marker": {
             "colorbar": {
              "outlinewidth": 0,
              "ticks": ""
             }
            },
            "type": "scattergl"
           }
          ],
          "scattermapbox": [
           {
            "marker": {
             "colorbar": {
              "outlinewidth": 0,
              "ticks": ""
             }
            },
            "type": "scattermapbox"
           }
          ],
          "scatterpolar": [
           {
            "marker": {
             "colorbar": {
              "outlinewidth": 0,
              "ticks": ""
             }
            },
            "type": "scatterpolar"
           }
          ],
          "scatterpolargl": [
           {
            "marker": {
             "colorbar": {
              "outlinewidth": 0,
              "ticks": ""
             }
            },
            "type": "scatterpolargl"
           }
          ],
          "scatterternary": [
           {
            "marker": {
             "colorbar": {
              "outlinewidth": 0,
              "ticks": ""
             }
            },
            "type": "scatterternary"
           }
          ],
          "surface": [
           {
            "colorbar": {
             "outlinewidth": 0,
             "ticks": ""
            },
            "colorscale": [
             [
              0,
              "#0d0887"
             ],
             [
              0.1111111111111111,
              "#46039f"
             ],
             [
              0.2222222222222222,
              "#7201a8"
             ],
             [
              0.3333333333333333,
              "#9c179e"
             ],
             [
              0.4444444444444444,
              "#bd3786"
             ],
             [
              0.5555555555555556,
              "#d8576b"
             ],
             [
              0.6666666666666666,
              "#ed7953"
             ],
             [
              0.7777777777777778,
              "#fb9f3a"
             ],
             [
              0.8888888888888888,
              "#fdca26"
             ],
             [
              1,
              "#f0f921"
             ]
            ],
            "type": "surface"
           }
          ],
          "table": [
           {
            "cells": {
             "fill": {
              "color": "#EBF0F8"
             },
             "line": {
              "color": "white"
             }
            },
            "header": {
             "fill": {
              "color": "#C8D4E3"
             },
             "line": {
              "color": "white"
             }
            },
            "type": "table"
           }
          ]
         },
         "layout": {
          "annotationdefaults": {
           "arrowcolor": "#2a3f5f",
           "arrowhead": 0,
           "arrowwidth": 1
          },
          "autotypenumbers": "strict",
          "coloraxis": {
           "colorbar": {
            "outlinewidth": 0,
            "ticks": ""
           }
          },
          "colorscale": {
           "diverging": [
            [
             0,
             "#8e0152"
            ],
            [
             0.1,
             "#c51b7d"
            ],
            [
             0.2,
             "#de77ae"
            ],
            [
             0.3,
             "#f1b6da"
            ],
            [
             0.4,
             "#fde0ef"
            ],
            [
             0.5,
             "#f7f7f7"
            ],
            [
             0.6,
             "#e6f5d0"
            ],
            [
             0.7,
             "#b8e186"
            ],
            [
             0.8,
             "#7fbc41"
            ],
            [
             0.9,
             "#4d9221"
            ],
            [
             1,
             "#276419"
            ]
           ],
           "sequential": [
            [
             0,
             "#0d0887"
            ],
            [
             0.1111111111111111,
             "#46039f"
            ],
            [
             0.2222222222222222,
             "#7201a8"
            ],
            [
             0.3333333333333333,
             "#9c179e"
            ],
            [
             0.4444444444444444,
             "#bd3786"
            ],
            [
             0.5555555555555556,
             "#d8576b"
            ],
            [
             0.6666666666666666,
             "#ed7953"
            ],
            [
             0.7777777777777778,
             "#fb9f3a"
            ],
            [
             0.8888888888888888,
             "#fdca26"
            ],
            [
             1,
             "#f0f921"
            ]
           ],
           "sequentialminus": [
            [
             0,
             "#0d0887"
            ],
            [
             0.1111111111111111,
             "#46039f"
            ],
            [
             0.2222222222222222,
             "#7201a8"
            ],
            [
             0.3333333333333333,
             "#9c179e"
            ],
            [
             0.4444444444444444,
             "#bd3786"
            ],
            [
             0.5555555555555556,
             "#d8576b"
            ],
            [
             0.6666666666666666,
             "#ed7953"
            ],
            [
             0.7777777777777778,
             "#fb9f3a"
            ],
            [
             0.8888888888888888,
             "#fdca26"
            ],
            [
             1,
             "#f0f921"
            ]
           ]
          },
          "colorway": [
           "#636efa",
           "#EF553B",
           "#00cc96",
           "#ab63fa",
           "#FFA15A",
           "#19d3f3",
           "#FF6692",
           "#B6E880",
           "#FF97FF",
           "#FECB52"
          ],
          "font": {
           "color": "#2a3f5f"
          },
          "geo": {
           "bgcolor": "white",
           "lakecolor": "white",
           "landcolor": "#E5ECF6",
           "showlakes": true,
           "showland": true,
           "subunitcolor": "white"
          },
          "hoverlabel": {
           "align": "left"
          },
          "hovermode": "closest",
          "mapbox": {
           "style": "light"
          },
          "paper_bgcolor": "white",
          "plot_bgcolor": "#E5ECF6",
          "polar": {
           "angularaxis": {
            "gridcolor": "white",
            "linecolor": "white",
            "ticks": ""
           },
           "bgcolor": "#E5ECF6",
           "radialaxis": {
            "gridcolor": "white",
            "linecolor": "white",
            "ticks": ""
           }
          },
          "scene": {
           "xaxis": {
            "backgroundcolor": "#E5ECF6",
            "gridcolor": "white",
            "gridwidth": 2,
            "linecolor": "white",
            "showbackground": true,
            "ticks": "",
            "zerolinecolor": "white"
           },
           "yaxis": {
            "backgroundcolor": "#E5ECF6",
            "gridcolor": "white",
            "gridwidth": 2,
            "linecolor": "white",
            "showbackground": true,
            "ticks": "",
            "zerolinecolor": "white"
           },
           "zaxis": {
            "backgroundcolor": "#E5ECF6",
            "gridcolor": "white",
            "gridwidth": 2,
            "linecolor": "white",
            "showbackground": true,
            "ticks": "",
            "zerolinecolor": "white"
           }
          },
          "shapedefaults": {
           "line": {
            "color": "#2a3f5f"
           }
          },
          "ternary": {
           "aaxis": {
            "gridcolor": "white",
            "linecolor": "white",
            "ticks": ""
           },
           "baxis": {
            "gridcolor": "white",
            "linecolor": "white",
            "ticks": ""
           },
           "bgcolor": "#E5ECF6",
           "caxis": {
            "gridcolor": "white",
            "linecolor": "white",
            "ticks": ""
           }
          },
          "title": {
           "x": 0.05
          },
          "xaxis": {
           "automargin": true,
           "gridcolor": "white",
           "linecolor": "white",
           "ticks": "",
           "title": {
            "standoff": 15
           },
           "zerolinecolor": "white",
           "zerolinewidth": 2
          },
          "yaxis": {
           "automargin": true,
           "gridcolor": "white",
           "linecolor": "white",
           "ticks": "",
           "title": {
            "standoff": 15
           },
           "zerolinecolor": "white",
           "zerolinewidth": 2
          }
         }
        }
       }
      },
      "text/html": [
       "<div>                            <div id=\"002a9196-2732-4069-891f-895fd04f939e\" class=\"plotly-graph-div\" style=\"height:525px; width:100%;\"></div>            <script type=\"text/javascript\">                require([\"plotly\"], function(Plotly) {                    window.PLOTLYENV=window.PLOTLYENV || {};                                    if (document.getElementById(\"002a9196-2732-4069-891f-895fd04f939e\")) {                    Plotly.newPlot(                        \"002a9196-2732-4069-891f-895fd04f939e\",                        [{\"coloraxis\":\"coloraxis\",\"geo\":\"geo\",\"hovertemplate\":\"state_code=%{location}<br>four year average in state tuition=%{z}<extra></extra>\",\"locationmode\":\"USA-states\",\"locations\":[\"AL\",\"AK\",\"AZ\",\"AR\",\"CA\",\"CO\",\"CT\",\"DE\",\"FL\",\"GA\",\"HI\",\"ID\",\"IL\",\"IN\",\"IA\",\"KS\",\"KY\",\"LA\",\"ME\",\"MD\",\"MA\",\"MI\",\"MN\",\"MS\",\"MO\",\"MT\",\"NE\",\"NV\",\"NH\",\"NJ\",\"NM\",\"NY\",\"NC\",\"ND\",\"OH\",\"OK\",\"OR\",\"PA\",\"RI\",\"SC\",\"SD\",\"TN\",\"TX\",\"UT\",\"VT\",\"VA\",\"WA\",\"WV\",\"WI\",\"WY\"],\"name\":\"\",\"z\":[64536.95238095238,48806.666666666664,74048.0,68785.42857142857,190626.15384615384,83676.61538461539,135868.44444444444,66771.2,96486.22222222222,84775.63636363637,61283.2,42009.333333333336,136982.31578947368,143818.44444444444,127574.47619047618,84346.35294117648,92465.5,61872.0,98022.0,126087.5294117647,188594.85714285713,99996.54545454546,133345.33333333334,51116.0,86910.35294117648,78830.0,78756.72727272728,136964.0,120004.36363636363,104793.26315789473,27658.666666666668,178446.0,110695.2,44292.57142857143,147707.46666666667,62780.42105263158,107244.44444444444,191462.52631578947,146248.0,87783.33333333333,63994.0,98784.8,106221.55555555556,27761.333333333332,129271.27272727272,100446.36363636363,123986.0,53202.666666666664,95868.54545454546,21600.0],\"type\":\"choropleth\"}],                        {\"template\":{\"data\":{\"bar\":[{\"error_x\":{\"color\":\"#2a3f5f\"},\"error_y\":{\"color\":\"#2a3f5f\"},\"marker\":{\"line\":{\"color\":\"#E5ECF6\",\"width\":0.5},\"pattern\":{\"fillmode\":\"overlay\",\"size\":10,\"solidity\":0.2}},\"type\":\"bar\"}],\"barpolar\":[{\"marker\":{\"line\":{\"color\":\"#E5ECF6\",\"width\":0.5},\"pattern\":{\"fillmode\":\"overlay\",\"size\":10,\"solidity\":0.2}},\"type\":\"barpolar\"}],\"carpet\":[{\"aaxis\":{\"endlinecolor\":\"#2a3f5f\",\"gridcolor\":\"white\",\"linecolor\":\"white\",\"minorgridcolor\":\"white\",\"startlinecolor\":\"#2a3f5f\"},\"baxis\":{\"endlinecolor\":\"#2a3f5f\",\"gridcolor\":\"white\",\"linecolor\":\"white\",\"minorgridcolor\":\"white\",\"startlinecolor\":\"#2a3f5f\"},\"type\":\"carpet\"}],\"choropleth\":[{\"colorbar\":{\"outlinewidth\":0,\"ticks\":\"\"},\"type\":\"choropleth\"}],\"contour\":[{\"colorbar\":{\"outlinewidth\":0,\"ticks\":\"\"},\"colorscale\":[[0.0,\"#0d0887\"],[0.1111111111111111,\"#46039f\"],[0.2222222222222222,\"#7201a8\"],[0.3333333333333333,\"#9c179e\"],[0.4444444444444444,\"#bd3786\"],[0.5555555555555556,\"#d8576b\"],[0.6666666666666666,\"#ed7953\"],[0.7777777777777778,\"#fb9f3a\"],[0.8888888888888888,\"#fdca26\"],[1.0,\"#f0f921\"]],\"type\":\"contour\"}],\"contourcarpet\":[{\"colorbar\":{\"outlinewidth\":0,\"ticks\":\"\"},\"type\":\"contourcarpet\"}],\"heatmap\":[{\"colorbar\":{\"outlinewidth\":0,\"ticks\":\"\"},\"colorscale\":[[0.0,\"#0d0887\"],[0.1111111111111111,\"#46039f\"],[0.2222222222222222,\"#7201a8\"],[0.3333333333333333,\"#9c179e\"],[0.4444444444444444,\"#bd3786\"],[0.5555555555555556,\"#d8576b\"],[0.6666666666666666,\"#ed7953\"],[0.7777777777777778,\"#fb9f3a\"],[0.8888888888888888,\"#fdca26\"],[1.0,\"#f0f921\"]],\"type\":\"heatmap\"}],\"heatmapgl\":[{\"colorbar\":{\"outlinewidth\":0,\"ticks\":\"\"},\"colorscale\":[[0.0,\"#0d0887\"],[0.1111111111111111,\"#46039f\"],[0.2222222222222222,\"#7201a8\"],[0.3333333333333333,\"#9c179e\"],[0.4444444444444444,\"#bd3786\"],[0.5555555555555556,\"#d8576b\"],[0.6666666666666666,\"#ed7953\"],[0.7777777777777778,\"#fb9f3a\"],[0.8888888888888888,\"#fdca26\"],[1.0,\"#f0f921\"]],\"type\":\"heatmapgl\"}],\"histogram\":[{\"marker\":{\"pattern\":{\"fillmode\":\"overlay\",\"size\":10,\"solidity\":0.2}},\"type\":\"histogram\"}],\"histogram2d\":[{\"colorbar\":{\"outlinewidth\":0,\"ticks\":\"\"},\"colorscale\":[[0.0,\"#0d0887\"],[0.1111111111111111,\"#46039f\"],[0.2222222222222222,\"#7201a8\"],[0.3333333333333333,\"#9c179e\"],[0.4444444444444444,\"#bd3786\"],[0.5555555555555556,\"#d8576b\"],[0.6666666666666666,\"#ed7953\"],[0.7777777777777778,\"#fb9f3a\"],[0.8888888888888888,\"#fdca26\"],[1.0,\"#f0f921\"]],\"type\":\"histogram2d\"}],\"histogram2dcontour\":[{\"colorbar\":{\"outlinewidth\":0,\"ticks\":\"\"},\"colorscale\":[[0.0,\"#0d0887\"],[0.1111111111111111,\"#46039f\"],[0.2222222222222222,\"#7201a8\"],[0.3333333333333333,\"#9c179e\"],[0.4444444444444444,\"#bd3786\"],[0.5555555555555556,\"#d8576b\"],[0.6666666666666666,\"#ed7953\"],[0.7777777777777778,\"#fb9f3a\"],[0.8888888888888888,\"#fdca26\"],[1.0,\"#f0f921\"]],\"type\":\"histogram2dcontour\"}],\"mesh3d\":[{\"colorbar\":{\"outlinewidth\":0,\"ticks\":\"\"},\"type\":\"mesh3d\"}],\"parcoords\":[{\"line\":{\"colorbar\":{\"outlinewidth\":0,\"ticks\":\"\"}},\"type\":\"parcoords\"}],\"pie\":[{\"automargin\":true,\"type\":\"pie\"}],\"scatter\":[{\"marker\":{\"colorbar\":{\"outlinewidth\":0,\"ticks\":\"\"}},\"type\":\"scatter\"}],\"scatter3d\":[{\"line\":{\"colorbar\":{\"outlinewidth\":0,\"ticks\":\"\"}},\"marker\":{\"colorbar\":{\"outlinewidth\":0,\"ticks\":\"\"}},\"type\":\"scatter3d\"}],\"scattercarpet\":[{\"marker\":{\"colorbar\":{\"outlinewidth\":0,\"ticks\":\"\"}},\"type\":\"scattercarpet\"}],\"scattergeo\":[{\"marker\":{\"colorbar\":{\"outlinewidth\":0,\"ticks\":\"\"}},\"type\":\"scattergeo\"}],\"scattergl\":[{\"marker\":{\"colorbar\":{\"outlinewidth\":0,\"ticks\":\"\"}},\"type\":\"scattergl\"}],\"scattermapbox\":[{\"marker\":{\"colorbar\":{\"outlinewidth\":0,\"ticks\":\"\"}},\"type\":\"scattermapbox\"}],\"scatterpolar\":[{\"marker\":{\"colorbar\":{\"outlinewidth\":0,\"ticks\":\"\"}},\"type\":\"scatterpolar\"}],\"scatterpolargl\":[{\"marker\":{\"colorbar\":{\"outlinewidth\":0,\"ticks\":\"\"}},\"type\":\"scatterpolargl\"}],\"scatterternary\":[{\"marker\":{\"colorbar\":{\"outlinewidth\":0,\"ticks\":\"\"}},\"type\":\"scatterternary\"}],\"surface\":[{\"colorbar\":{\"outlinewidth\":0,\"ticks\":\"\"},\"colorscale\":[[0.0,\"#0d0887\"],[0.1111111111111111,\"#46039f\"],[0.2222222222222222,\"#7201a8\"],[0.3333333333333333,\"#9c179e\"],[0.4444444444444444,\"#bd3786\"],[0.5555555555555556,\"#d8576b\"],[0.6666666666666666,\"#ed7953\"],[0.7777777777777778,\"#fb9f3a\"],[0.8888888888888888,\"#fdca26\"],[1.0,\"#f0f921\"]],\"type\":\"surface\"}],\"table\":[{\"cells\":{\"fill\":{\"color\":\"#EBF0F8\"},\"line\":{\"color\":\"white\"}},\"header\":{\"fill\":{\"color\":\"#C8D4E3\"},\"line\":{\"color\":\"white\"}},\"type\":\"table\"}]},\"layout\":{\"annotationdefaults\":{\"arrowcolor\":\"#2a3f5f\",\"arrowhead\":0,\"arrowwidth\":1},\"autotypenumbers\":\"strict\",\"coloraxis\":{\"colorbar\":{\"outlinewidth\":0,\"ticks\":\"\"}},\"colorscale\":{\"diverging\":[[0,\"#8e0152\"],[0.1,\"#c51b7d\"],[0.2,\"#de77ae\"],[0.3,\"#f1b6da\"],[0.4,\"#fde0ef\"],[0.5,\"#f7f7f7\"],[0.6,\"#e6f5d0\"],[0.7,\"#b8e186\"],[0.8,\"#7fbc41\"],[0.9,\"#4d9221\"],[1,\"#276419\"]],\"sequential\":[[0.0,\"#0d0887\"],[0.1111111111111111,\"#46039f\"],[0.2222222222222222,\"#7201a8\"],[0.3333333333333333,\"#9c179e\"],[0.4444444444444444,\"#bd3786\"],[0.5555555555555556,\"#d8576b\"],[0.6666666666666666,\"#ed7953\"],[0.7777777777777778,\"#fb9f3a\"],[0.8888888888888888,\"#fdca26\"],[1.0,\"#f0f921\"]],\"sequentialminus\":[[0.0,\"#0d0887\"],[0.1111111111111111,\"#46039f\"],[0.2222222222222222,\"#7201a8\"],[0.3333333333333333,\"#9c179e\"],[0.4444444444444444,\"#bd3786\"],[0.5555555555555556,\"#d8576b\"],[0.6666666666666666,\"#ed7953\"],[0.7777777777777778,\"#fb9f3a\"],[0.8888888888888888,\"#fdca26\"],[1.0,\"#f0f921\"]]},\"colorway\":[\"#636efa\",\"#EF553B\",\"#00cc96\",\"#ab63fa\",\"#FFA15A\",\"#19d3f3\",\"#FF6692\",\"#B6E880\",\"#FF97FF\",\"#FECB52\"],\"font\":{\"color\":\"#2a3f5f\"},\"geo\":{\"bgcolor\":\"white\",\"lakecolor\":\"white\",\"landcolor\":\"#E5ECF6\",\"showlakes\":true,\"showland\":true,\"subunitcolor\":\"white\"},\"hoverlabel\":{\"align\":\"left\"},\"hovermode\":\"closest\",\"mapbox\":{\"style\":\"light\"},\"paper_bgcolor\":\"white\",\"plot_bgcolor\":\"#E5ECF6\",\"polar\":{\"angularaxis\":{\"gridcolor\":\"white\",\"linecolor\":\"white\",\"ticks\":\"\"},\"bgcolor\":\"#E5ECF6\",\"radialaxis\":{\"gridcolor\":\"white\",\"linecolor\":\"white\",\"ticks\":\"\"}},\"scene\":{\"xaxis\":{\"backgroundcolor\":\"#E5ECF6\",\"gridcolor\":\"white\",\"gridwidth\":2,\"linecolor\":\"white\",\"showbackground\":true,\"ticks\":\"\",\"zerolinecolor\":\"white\"},\"yaxis\":{\"backgroundcolor\":\"#E5ECF6\",\"gridcolor\":\"white\",\"gridwidth\":2,\"linecolor\":\"white\",\"showbackground\":true,\"ticks\":\"\",\"zerolinecolor\":\"white\"},\"zaxis\":{\"backgroundcolor\":\"#E5ECF6\",\"gridcolor\":\"white\",\"gridwidth\":2,\"linecolor\":\"white\",\"showbackground\":true,\"ticks\":\"\",\"zerolinecolor\":\"white\"}},\"shapedefaults\":{\"line\":{\"color\":\"#2a3f5f\"}},\"ternary\":{\"aaxis\":{\"gridcolor\":\"white\",\"linecolor\":\"white\",\"ticks\":\"\"},\"baxis\":{\"gridcolor\":\"white\",\"linecolor\":\"white\",\"ticks\":\"\"},\"bgcolor\":\"#E5ECF6\",\"caxis\":{\"gridcolor\":\"white\",\"linecolor\":\"white\",\"ticks\":\"\"}},\"title\":{\"x\":0.05},\"xaxis\":{\"automargin\":true,\"gridcolor\":\"white\",\"linecolor\":\"white\",\"ticks\":\"\",\"title\":{\"standoff\":15},\"zerolinecolor\":\"white\",\"zerolinewidth\":2},\"yaxis\":{\"automargin\":true,\"gridcolor\":\"white\",\"linecolor\":\"white\",\"ticks\":\"\",\"title\":{\"standoff\":15},\"zerolinecolor\":\"white\",\"zerolinewidth\":2}}},\"geo\":{\"domain\":{\"x\":[0.0,1.0],\"y\":[0.0,1.0]},\"center\":{},\"scope\":\"usa\"},\"coloraxis\":{\"colorbar\":{\"title\":{\"text\":\"four year average in state tuition\"}},\"colorscale\":[[0.0,\"#0d0887\"],[0.1111111111111111,\"#46039f\"],[0.2222222222222222,\"#7201a8\"],[0.3333333333333333,\"#9c179e\"],[0.4444444444444444,\"#bd3786\"],[0.5555555555555556,\"#d8576b\"],[0.6666666666666666,\"#ed7953\"],[0.7777777777777778,\"#fb9f3a\"],[0.8888888888888888,\"#fdca26\"],[1.0,\"#f0f921\"]]},\"legend\":{\"tracegroupgap\":0},\"margin\":{\"t\":60}},                        {\"responsive\": true}                    ).then(function(){\n",
       "                            \n",
       "var gd = document.getElementById('002a9196-2732-4069-891f-895fd04f939e');\n",
       "var x = new MutationObserver(function (mutations, observer) {{\n",
       "        var display = window.getComputedStyle(gd).display;\n",
       "        if (!display || display === 'none') {{\n",
       "            console.log([gd, 'removed!']);\n",
       "            Plotly.purge(gd);\n",
       "            observer.disconnect();\n",
       "        }}\n",
       "}});\n",
       "\n",
       "// Listen for the removal of the full notebook cells\n",
       "var notebookContainer = gd.closest('#notebook-container');\n",
       "if (notebookContainer) {{\n",
       "    x.observe(notebookContainer, {childList: true});\n",
       "}}\n",
       "\n",
       "// Listen for the clearing of the current output cell\n",
       "var outputEl = gd.closest('.output');\n",
       "if (outputEl) {{\n",
       "    x.observe(outputEl, {childList: true});\n",
       "}}\n",
       "\n",
       "                        })                };                });            </script>        </div>"
      ]
     },
     "execution_count": 33,
     "metadata": {
     },
     "output_type": "execute_result"
    }
   ],
   "source": [
    "fig = px.choropleth(state_stats_extras, locations='state_code', locationmode=\"USA-states\", color=\"four year average in state tuition\", scope=\"usa\")\n",
    "fig.show()"
   ]
  },
  {
   "cell_type": "code",
   "execution_count": 34,
   "metadata": {
    "collapsed": false
   },
   "outputs": [
    {
     "data": {
      "application/vnd.plotly.v1+json": {
       "config": {
        "plotlyServerURL": "https://plot.ly"
       },
       "data": [
        {
         "coloraxis": "coloraxis",
         "geo": "geo",
         "hovertemplate": "state_code=%{location}<br>average early_career_pay=%{z}<extra></extra>",
         "locationmode": "USA-states",
         "locations": [
          "AL",
          "AK",
          "AZ",
          "AR",
          "CA",
          "CO",
          "CT",
          "DE",
          "FL",
          "GA",
          "HI",
          "ID",
          "IL",
          "IN",
          "IA",
          "KS",
          "KY",
          "LA",
          "ME",
          "MD",
          "MA",
          "MI",
          "MN",
          "MS",
          "MO",
          "MT",
          "NE",
          "NV",
          "NH",
          "NJ",
          "NM",
          "NY",
          "NC",
          "ND",
          "OH",
          "OK",
          "OR",
          "PA",
          "RI",
          "SC",
          "SD",
          "TN",
          "TX",
          "UT",
          "VT",
          "VA",
          "WA",
          "WV",
          "WI",
          "WY"
         ],
         "name": "",
         "type": "choropleth",
         "z": [
          44714.28571428572,
          55133.333333333336,
          48966.666666666664,
          45607.142857142855,
          67800,
          52238.46153846154,
          55016.666666666664,
          49040,
          50250,
          48527.27272727273,
          48980,
          49666.666666666664,
          55763.15789473684,
          52938.88888888889,
          48314.28571428572,
          46482.35294117647,
          43754.166666666664,
          46920,
          48181.25,
          53041.17647058824,
          63519.04761904762,
          51695.454545454544,
          51233.333333333336,
          42042.857142857145,
          48023.529411764706,
          52275,
          46790.90909090909,
          54000,
          50545.454545454544,
          54847.36842105263,
          48933.333333333336,
          65881.25,
          49695,
          46042.857142857145,
          53613.333333333336,
          45105.26315789474,
          50694.444444444445,
          61436.84210526316,
          55822.22222222222,
          44716.666666666664,
          47110,
          47370,
          56500,
          52183.333333333336,
          49445.454545454544,
          53718.181818181816,
          53450,
          44333.333333333336,
          50681.818181818184,
          52400
         ]
        }
       ],
       "layout": {
        "coloraxis": {
         "colorbar": {
          "title": {
           "text": "average early_career_pay"
          }
         },
         "colorscale": [
          [
           0,
           "#0d0887"
          ],
          [
           0.1111111111111111,
           "#46039f"
          ],
          [
           0.2222222222222222,
           "#7201a8"
          ],
          [
           0.3333333333333333,
           "#9c179e"
          ],
          [
           0.4444444444444444,
           "#bd3786"
          ],
          [
           0.5555555555555556,
           "#d8576b"
          ],
          [
           0.6666666666666666,
           "#ed7953"
          ],
          [
           0.7777777777777778,
           "#fb9f3a"
          ],
          [
           0.8888888888888888,
           "#fdca26"
          ],
          [
           1,
           "#f0f921"
          ]
         ]
        },
        "geo": {
         "center": {
         },
         "domain": {
          "x": [
           0,
           1
          ],
          "y": [
           0,
           1
          ]
         },
         "scope": "usa"
        },
        "legend": {
         "tracegroupgap": 0
        },
        "margin": {
         "t": 60
        },
        "template": {
         "data": {
          "bar": [
           {
            "error_x": {
             "color": "#2a3f5f"
            },
            "error_y": {
             "color": "#2a3f5f"
            },
            "marker": {
             "line": {
              "color": "#E5ECF6",
              "width": 0.5
             },
             "pattern": {
              "fillmode": "overlay",
              "size": 10,
              "solidity": 0.2
             }
            },
            "type": "bar"
           }
          ],
          "barpolar": [
           {
            "marker": {
             "line": {
              "color": "#E5ECF6",
              "width": 0.5
             },
             "pattern": {
              "fillmode": "overlay",
              "size": 10,
              "solidity": 0.2
             }
            },
            "type": "barpolar"
           }
          ],
          "carpet": [
           {
            "aaxis": {
             "endlinecolor": "#2a3f5f",
             "gridcolor": "white",
             "linecolor": "white",
             "minorgridcolor": "white",
             "startlinecolor": "#2a3f5f"
            },
            "baxis": {
             "endlinecolor": "#2a3f5f",
             "gridcolor": "white",
             "linecolor": "white",
             "minorgridcolor": "white",
             "startlinecolor": "#2a3f5f"
            },
            "type": "carpet"
           }
          ],
          "choropleth": [
           {
            "colorbar": {
             "outlinewidth": 0,
             "ticks": ""
            },
            "type": "choropleth"
           }
          ],
          "contour": [
           {
            "colorbar": {
             "outlinewidth": 0,
             "ticks": ""
            },
            "colorscale": [
             [
              0,
              "#0d0887"
             ],
             [
              0.1111111111111111,
              "#46039f"
             ],
             [
              0.2222222222222222,
              "#7201a8"
             ],
             [
              0.3333333333333333,
              "#9c179e"
             ],
             [
              0.4444444444444444,
              "#bd3786"
             ],
             [
              0.5555555555555556,
              "#d8576b"
             ],
             [
              0.6666666666666666,
              "#ed7953"
             ],
             [
              0.7777777777777778,
              "#fb9f3a"
             ],
             [
              0.8888888888888888,
              "#fdca26"
             ],
             [
              1,
              "#f0f921"
             ]
            ],
            "type": "contour"
           }
          ],
          "contourcarpet": [
           {
            "colorbar": {
             "outlinewidth": 0,
             "ticks": ""
            },
            "type": "contourcarpet"
           }
          ],
          "heatmap": [
           {
            "colorbar": {
             "outlinewidth": 0,
             "ticks": ""
            },
            "colorscale": [
             [
              0,
              "#0d0887"
             ],
             [
              0.1111111111111111,
              "#46039f"
             ],
             [
              0.2222222222222222,
              "#7201a8"
             ],
             [
              0.3333333333333333,
              "#9c179e"
             ],
             [
              0.4444444444444444,
              "#bd3786"
             ],
             [
              0.5555555555555556,
              "#d8576b"
             ],
             [
              0.6666666666666666,
              "#ed7953"
             ],
             [
              0.7777777777777778,
              "#fb9f3a"
             ],
             [
              0.8888888888888888,
              "#fdca26"
             ],
             [
              1,
              "#f0f921"
             ]
            ],
            "type": "heatmap"
           }
          ],
          "heatmapgl": [
           {
            "colorbar": {
             "outlinewidth": 0,
             "ticks": ""
            },
            "colorscale": [
             [
              0,
              "#0d0887"
             ],
             [
              0.1111111111111111,
              "#46039f"
             ],
             [
              0.2222222222222222,
              "#7201a8"
             ],
             [
              0.3333333333333333,
              "#9c179e"
             ],
             [
              0.4444444444444444,
              "#bd3786"
             ],
             [
              0.5555555555555556,
              "#d8576b"
             ],
             [
              0.6666666666666666,
              "#ed7953"
             ],
             [
              0.7777777777777778,
              "#fb9f3a"
             ],
             [
              0.8888888888888888,
              "#fdca26"
             ],
             [
              1,
              "#f0f921"
             ]
            ],
            "type": "heatmapgl"
           }
          ],
          "histogram": [
           {
            "marker": {
             "pattern": {
              "fillmode": "overlay",
              "size": 10,
              "solidity": 0.2
             }
            },
            "type": "histogram"
           }
          ],
          "histogram2d": [
           {
            "colorbar": {
             "outlinewidth": 0,
             "ticks": ""
            },
            "colorscale": [
             [
              0,
              "#0d0887"
             ],
             [
              0.1111111111111111,
              "#46039f"
             ],
             [
              0.2222222222222222,
              "#7201a8"
             ],
             [
              0.3333333333333333,
              "#9c179e"
             ],
             [
              0.4444444444444444,
              "#bd3786"
             ],
             [
              0.5555555555555556,
              "#d8576b"
             ],
             [
              0.6666666666666666,
              "#ed7953"
             ],
             [
              0.7777777777777778,
              "#fb9f3a"
             ],
             [
              0.8888888888888888,
              "#fdca26"
             ],
             [
              1,
              "#f0f921"
             ]
            ],
            "type": "histogram2d"
           }
          ],
          "histogram2dcontour": [
           {
            "colorbar": {
             "outlinewidth": 0,
             "ticks": ""
            },
            "colorscale": [
             [
              0,
              "#0d0887"
             ],
             [
              0.1111111111111111,
              "#46039f"
             ],
             [
              0.2222222222222222,
              "#7201a8"
             ],
             [
              0.3333333333333333,
              "#9c179e"
             ],
             [
              0.4444444444444444,
              "#bd3786"
             ],
             [
              0.5555555555555556,
              "#d8576b"
             ],
             [
              0.6666666666666666,
              "#ed7953"
             ],
             [
              0.7777777777777778,
              "#fb9f3a"
             ],
             [
              0.8888888888888888,
              "#fdca26"
             ],
             [
              1,
              "#f0f921"
             ]
            ],
            "type": "histogram2dcontour"
           }
          ],
          "mesh3d": [
           {
            "colorbar": {
             "outlinewidth": 0,
             "ticks": ""
            },
            "type": "mesh3d"
           }
          ],
          "parcoords": [
           {
            "line": {
             "colorbar": {
              "outlinewidth": 0,
              "ticks": ""
             }
            },
            "type": "parcoords"
           }
          ],
          "pie": [
           {
            "automargin": true,
            "type": "pie"
           }
          ],
          "scatter": [
           {
            "marker": {
             "colorbar": {
              "outlinewidth": 0,
              "ticks": ""
             }
            },
            "type": "scatter"
           }
          ],
          "scatter3d": [
           {
            "line": {
             "colorbar": {
              "outlinewidth": 0,
              "ticks": ""
             }
            },
            "marker": {
             "colorbar": {
              "outlinewidth": 0,
              "ticks": ""
             }
            },
            "type": "scatter3d"
           }
          ],
          "scattercarpet": [
           {
            "marker": {
             "colorbar": {
              "outlinewidth": 0,
              "ticks": ""
             }
            },
            "type": "scattercarpet"
           }
          ],
          "scattergeo": [
           {
            "marker": {
             "colorbar": {
              "outlinewidth": 0,
              "ticks": ""
             }
            },
            "type": "scattergeo"
           }
          ],
          "scattergl": [
           {
            "marker": {
             "colorbar": {
              "outlinewidth": 0,
              "ticks": ""
             }
            },
            "type": "scattergl"
           }
          ],
          "scattermapbox": [
           {
            "marker": {
             "colorbar": {
              "outlinewidth": 0,
              "ticks": ""
             }
            },
            "type": "scattermapbox"
           }
          ],
          "scatterpolar": [
           {
            "marker": {
             "colorbar": {
              "outlinewidth": 0,
              "ticks": ""
             }
            },
            "type": "scatterpolar"
           }
          ],
          "scatterpolargl": [
           {
            "marker": {
             "colorbar": {
              "outlinewidth": 0,
              "ticks": ""
             }
            },
            "type": "scatterpolargl"
           }
          ],
          "scatterternary": [
           {
            "marker": {
             "colorbar": {
              "outlinewidth": 0,
              "ticks": ""
             }
            },
            "type": "scatterternary"
           }
          ],
          "surface": [
           {
            "colorbar": {
             "outlinewidth": 0,
             "ticks": ""
            },
            "colorscale": [
             [
              0,
              "#0d0887"
             ],
             [
              0.1111111111111111,
              "#46039f"
             ],
             [
              0.2222222222222222,
              "#7201a8"
             ],
             [
              0.3333333333333333,
              "#9c179e"
             ],
             [
              0.4444444444444444,
              "#bd3786"
             ],
             [
              0.5555555555555556,
              "#d8576b"
             ],
             [
              0.6666666666666666,
              "#ed7953"
             ],
             [
              0.7777777777777778,
              "#fb9f3a"
             ],
             [
              0.8888888888888888,
              "#fdca26"
             ],
             [
              1,
              "#f0f921"
             ]
            ],
            "type": "surface"
           }
          ],
          "table": [
           {
            "cells": {
             "fill": {
              "color": "#EBF0F8"
             },
             "line": {
              "color": "white"
             }
            },
            "header": {
             "fill": {
              "color": "#C8D4E3"
             },
             "line": {
              "color": "white"
             }
            },
            "type": "table"
           }
          ]
         },
         "layout": {
          "annotationdefaults": {
           "arrowcolor": "#2a3f5f",
           "arrowhead": 0,
           "arrowwidth": 1
          },
          "autotypenumbers": "strict",
          "coloraxis": {
           "colorbar": {
            "outlinewidth": 0,
            "ticks": ""
           }
          },
          "colorscale": {
           "diverging": [
            [
             0,
             "#8e0152"
            ],
            [
             0.1,
             "#c51b7d"
            ],
            [
             0.2,
             "#de77ae"
            ],
            [
             0.3,
             "#f1b6da"
            ],
            [
             0.4,
             "#fde0ef"
            ],
            [
             0.5,
             "#f7f7f7"
            ],
            [
             0.6,
             "#e6f5d0"
            ],
            [
             0.7,
             "#b8e186"
            ],
            [
             0.8,
             "#7fbc41"
            ],
            [
             0.9,
             "#4d9221"
            ],
            [
             1,
             "#276419"
            ]
           ],
           "sequential": [
            [
             0,
             "#0d0887"
            ],
            [
             0.1111111111111111,
             "#46039f"
            ],
            [
             0.2222222222222222,
             "#7201a8"
            ],
            [
             0.3333333333333333,
             "#9c179e"
            ],
            [
             0.4444444444444444,
             "#bd3786"
            ],
            [
             0.5555555555555556,
             "#d8576b"
            ],
            [
             0.6666666666666666,
             "#ed7953"
            ],
            [
             0.7777777777777778,
             "#fb9f3a"
            ],
            [
             0.8888888888888888,
             "#fdca26"
            ],
            [
             1,
             "#f0f921"
            ]
           ],
           "sequentialminus": [
            [
             0,
             "#0d0887"
            ],
            [
             0.1111111111111111,
             "#46039f"
            ],
            [
             0.2222222222222222,
             "#7201a8"
            ],
            [
             0.3333333333333333,
             "#9c179e"
            ],
            [
             0.4444444444444444,
             "#bd3786"
            ],
            [
             0.5555555555555556,
             "#d8576b"
            ],
            [
             0.6666666666666666,
             "#ed7953"
            ],
            [
             0.7777777777777778,
             "#fb9f3a"
            ],
            [
             0.8888888888888888,
             "#fdca26"
            ],
            [
             1,
             "#f0f921"
            ]
           ]
          },
          "colorway": [
           "#636efa",
           "#EF553B",
           "#00cc96",
           "#ab63fa",
           "#FFA15A",
           "#19d3f3",
           "#FF6692",
           "#B6E880",
           "#FF97FF",
           "#FECB52"
          ],
          "font": {
           "color": "#2a3f5f"
          },
          "geo": {
           "bgcolor": "white",
           "lakecolor": "white",
           "landcolor": "#E5ECF6",
           "showlakes": true,
           "showland": true,
           "subunitcolor": "white"
          },
          "hoverlabel": {
           "align": "left"
          },
          "hovermode": "closest",
          "mapbox": {
           "style": "light"
          },
          "paper_bgcolor": "white",
          "plot_bgcolor": "#E5ECF6",
          "polar": {
           "angularaxis": {
            "gridcolor": "white",
            "linecolor": "white",
            "ticks": ""
           },
           "bgcolor": "#E5ECF6",
           "radialaxis": {
            "gridcolor": "white",
            "linecolor": "white",
            "ticks": ""
           }
          },
          "scene": {
           "xaxis": {
            "backgroundcolor": "#E5ECF6",
            "gridcolor": "white",
            "gridwidth": 2,
            "linecolor": "white",
            "showbackground": true,
            "ticks": "",
            "zerolinecolor": "white"
           },
           "yaxis": {
            "backgroundcolor": "#E5ECF6",
            "gridcolor": "white",
            "gridwidth": 2,
            "linecolor": "white",
            "showbackground": true,
            "ticks": "",
            "zerolinecolor": "white"
           },
           "zaxis": {
            "backgroundcolor": "#E5ECF6",
            "gridcolor": "white",
            "gridwidth": 2,
            "linecolor": "white",
            "showbackground": true,
            "ticks": "",
            "zerolinecolor": "white"
           }
          },
          "shapedefaults": {
           "line": {
            "color": "#2a3f5f"
           }
          },
          "ternary": {
           "aaxis": {
            "gridcolor": "white",
            "linecolor": "white",
            "ticks": ""
           },
           "baxis": {
            "gridcolor": "white",
            "linecolor": "white",
            "ticks": ""
           },
           "bgcolor": "#E5ECF6",
           "caxis": {
            "gridcolor": "white",
            "linecolor": "white",
            "ticks": ""
           }
          },
          "title": {
           "x": 0.05
          },
          "xaxis": {
           "automargin": true,
           "gridcolor": "white",
           "linecolor": "white",
           "ticks": "",
           "title": {
            "standoff": 15
           },
           "zerolinecolor": "white",
           "zerolinewidth": 2
          },
          "yaxis": {
           "automargin": true,
           "gridcolor": "white",
           "linecolor": "white",
           "ticks": "",
           "title": {
            "standoff": 15
           },
           "zerolinecolor": "white",
           "zerolinewidth": 2
          }
         }
        }
       }
      },
      "text/html": [
       "<div>                            <div id=\"0eff3a40-5ada-42b1-98e6-36fa75813f24\" class=\"plotly-graph-div\" style=\"height:525px; width:100%;\"></div>            <script type=\"text/javascript\">                require([\"plotly\"], function(Plotly) {                    window.PLOTLYENV=window.PLOTLYENV || {};                                    if (document.getElementById(\"0eff3a40-5ada-42b1-98e6-36fa75813f24\")) {                    Plotly.newPlot(                        \"0eff3a40-5ada-42b1-98e6-36fa75813f24\",                        [{\"coloraxis\":\"coloraxis\",\"geo\":\"geo\",\"hovertemplate\":\"state_code=%{location}<br>average early_career_pay=%{z}<extra></extra>\",\"locationmode\":\"USA-states\",\"locations\":[\"AL\",\"AK\",\"AZ\",\"AR\",\"CA\",\"CO\",\"CT\",\"DE\",\"FL\",\"GA\",\"HI\",\"ID\",\"IL\",\"IN\",\"IA\",\"KS\",\"KY\",\"LA\",\"ME\",\"MD\",\"MA\",\"MI\",\"MN\",\"MS\",\"MO\",\"MT\",\"NE\",\"NV\",\"NH\",\"NJ\",\"NM\",\"NY\",\"NC\",\"ND\",\"OH\",\"OK\",\"OR\",\"PA\",\"RI\",\"SC\",\"SD\",\"TN\",\"TX\",\"UT\",\"VT\",\"VA\",\"WA\",\"WV\",\"WI\",\"WY\"],\"name\":\"\",\"z\":[44714.28571428572,55133.333333333336,48966.666666666664,45607.142857142855,67800.0,52238.46153846154,55016.666666666664,49040.0,50250.0,48527.27272727273,48980.0,49666.666666666664,55763.15789473684,52938.88888888889,48314.28571428572,46482.35294117647,43754.166666666664,46920.0,48181.25,53041.17647058824,63519.04761904762,51695.454545454544,51233.333333333336,42042.857142857145,48023.529411764706,52275.0,46790.90909090909,54000.0,50545.454545454544,54847.36842105263,48933.333333333336,65881.25,49695.0,46042.857142857145,53613.333333333336,45105.26315789474,50694.444444444445,61436.84210526316,55822.22222222222,44716.666666666664,47110.0,47370.0,56500.0,52183.333333333336,49445.454545454544,53718.181818181816,53450.0,44333.333333333336,50681.818181818184,52400.0],\"type\":\"choropleth\"}],                        {\"template\":{\"data\":{\"bar\":[{\"error_x\":{\"color\":\"#2a3f5f\"},\"error_y\":{\"color\":\"#2a3f5f\"},\"marker\":{\"line\":{\"color\":\"#E5ECF6\",\"width\":0.5},\"pattern\":{\"fillmode\":\"overlay\",\"size\":10,\"solidity\":0.2}},\"type\":\"bar\"}],\"barpolar\":[{\"marker\":{\"line\":{\"color\":\"#E5ECF6\",\"width\":0.5},\"pattern\":{\"fillmode\":\"overlay\",\"size\":10,\"solidity\":0.2}},\"type\":\"barpolar\"}],\"carpet\":[{\"aaxis\":{\"endlinecolor\":\"#2a3f5f\",\"gridcolor\":\"white\",\"linecolor\":\"white\",\"minorgridcolor\":\"white\",\"startlinecolor\":\"#2a3f5f\"},\"baxis\":{\"endlinecolor\":\"#2a3f5f\",\"gridcolor\":\"white\",\"linecolor\":\"white\",\"minorgridcolor\":\"white\",\"startlinecolor\":\"#2a3f5f\"},\"type\":\"carpet\"}],\"choropleth\":[{\"colorbar\":{\"outlinewidth\":0,\"ticks\":\"\"},\"type\":\"choropleth\"}],\"contour\":[{\"colorbar\":{\"outlinewidth\":0,\"ticks\":\"\"},\"colorscale\":[[0.0,\"#0d0887\"],[0.1111111111111111,\"#46039f\"],[0.2222222222222222,\"#7201a8\"],[0.3333333333333333,\"#9c179e\"],[0.4444444444444444,\"#bd3786\"],[0.5555555555555556,\"#d8576b\"],[0.6666666666666666,\"#ed7953\"],[0.7777777777777778,\"#fb9f3a\"],[0.8888888888888888,\"#fdca26\"],[1.0,\"#f0f921\"]],\"type\":\"contour\"}],\"contourcarpet\":[{\"colorbar\":{\"outlinewidth\":0,\"ticks\":\"\"},\"type\":\"contourcarpet\"}],\"heatmap\":[{\"colorbar\":{\"outlinewidth\":0,\"ticks\":\"\"},\"colorscale\":[[0.0,\"#0d0887\"],[0.1111111111111111,\"#46039f\"],[0.2222222222222222,\"#7201a8\"],[0.3333333333333333,\"#9c179e\"],[0.4444444444444444,\"#bd3786\"],[0.5555555555555556,\"#d8576b\"],[0.6666666666666666,\"#ed7953\"],[0.7777777777777778,\"#fb9f3a\"],[0.8888888888888888,\"#fdca26\"],[1.0,\"#f0f921\"]],\"type\":\"heatmap\"}],\"heatmapgl\":[{\"colorbar\":{\"outlinewidth\":0,\"ticks\":\"\"},\"colorscale\":[[0.0,\"#0d0887\"],[0.1111111111111111,\"#46039f\"],[0.2222222222222222,\"#7201a8\"],[0.3333333333333333,\"#9c179e\"],[0.4444444444444444,\"#bd3786\"],[0.5555555555555556,\"#d8576b\"],[0.6666666666666666,\"#ed7953\"],[0.7777777777777778,\"#fb9f3a\"],[0.8888888888888888,\"#fdca26\"],[1.0,\"#f0f921\"]],\"type\":\"heatmapgl\"}],\"histogram\":[{\"marker\":{\"pattern\":{\"fillmode\":\"overlay\",\"size\":10,\"solidity\":0.2}},\"type\":\"histogram\"}],\"histogram2d\":[{\"colorbar\":{\"outlinewidth\":0,\"ticks\":\"\"},\"colorscale\":[[0.0,\"#0d0887\"],[0.1111111111111111,\"#46039f\"],[0.2222222222222222,\"#7201a8\"],[0.3333333333333333,\"#9c179e\"],[0.4444444444444444,\"#bd3786\"],[0.5555555555555556,\"#d8576b\"],[0.6666666666666666,\"#ed7953\"],[0.7777777777777778,\"#fb9f3a\"],[0.8888888888888888,\"#fdca26\"],[1.0,\"#f0f921\"]],\"type\":\"histogram2d\"}],\"histogram2dcontour\":[{\"colorbar\":{\"outlinewidth\":0,\"ticks\":\"\"},\"colorscale\":[[0.0,\"#0d0887\"],[0.1111111111111111,\"#46039f\"],[0.2222222222222222,\"#7201a8\"],[0.3333333333333333,\"#9c179e\"],[0.4444444444444444,\"#bd3786\"],[0.5555555555555556,\"#d8576b\"],[0.6666666666666666,\"#ed7953\"],[0.7777777777777778,\"#fb9f3a\"],[0.8888888888888888,\"#fdca26\"],[1.0,\"#f0f921\"]],\"type\":\"histogram2dcontour\"}],\"mesh3d\":[{\"colorbar\":{\"outlinewidth\":0,\"ticks\":\"\"},\"type\":\"mesh3d\"}],\"parcoords\":[{\"line\":{\"colorbar\":{\"outlinewidth\":0,\"ticks\":\"\"}},\"type\":\"parcoords\"}],\"pie\":[{\"automargin\":true,\"type\":\"pie\"}],\"scatter\":[{\"marker\":{\"colorbar\":{\"outlinewidth\":0,\"ticks\":\"\"}},\"type\":\"scatter\"}],\"scatter3d\":[{\"line\":{\"colorbar\":{\"outlinewidth\":0,\"ticks\":\"\"}},\"marker\":{\"colorbar\":{\"outlinewidth\":0,\"ticks\":\"\"}},\"type\":\"scatter3d\"}],\"scattercarpet\":[{\"marker\":{\"colorbar\":{\"outlinewidth\":0,\"ticks\":\"\"}},\"type\":\"scattercarpet\"}],\"scattergeo\":[{\"marker\":{\"colorbar\":{\"outlinewidth\":0,\"ticks\":\"\"}},\"type\":\"scattergeo\"}],\"scattergl\":[{\"marker\":{\"colorbar\":{\"outlinewidth\":0,\"ticks\":\"\"}},\"type\":\"scattergl\"}],\"scattermapbox\":[{\"marker\":{\"colorbar\":{\"outlinewidth\":0,\"ticks\":\"\"}},\"type\":\"scattermapbox\"}],\"scatterpolar\":[{\"marker\":{\"colorbar\":{\"outlinewidth\":0,\"ticks\":\"\"}},\"type\":\"scatterpolar\"}],\"scatterpolargl\":[{\"marker\":{\"colorbar\":{\"outlinewidth\":0,\"ticks\":\"\"}},\"type\":\"scatterpolargl\"}],\"scatterternary\":[{\"marker\":{\"colorbar\":{\"outlinewidth\":0,\"ticks\":\"\"}},\"type\":\"scatterternary\"}],\"surface\":[{\"colorbar\":{\"outlinewidth\":0,\"ticks\":\"\"},\"colorscale\":[[0.0,\"#0d0887\"],[0.1111111111111111,\"#46039f\"],[0.2222222222222222,\"#7201a8\"],[0.3333333333333333,\"#9c179e\"],[0.4444444444444444,\"#bd3786\"],[0.5555555555555556,\"#d8576b\"],[0.6666666666666666,\"#ed7953\"],[0.7777777777777778,\"#fb9f3a\"],[0.8888888888888888,\"#fdca26\"],[1.0,\"#f0f921\"]],\"type\":\"surface\"}],\"table\":[{\"cells\":{\"fill\":{\"color\":\"#EBF0F8\"},\"line\":{\"color\":\"white\"}},\"header\":{\"fill\":{\"color\":\"#C8D4E3\"},\"line\":{\"color\":\"white\"}},\"type\":\"table\"}]},\"layout\":{\"annotationdefaults\":{\"arrowcolor\":\"#2a3f5f\",\"arrowhead\":0,\"arrowwidth\":1},\"autotypenumbers\":\"strict\",\"coloraxis\":{\"colorbar\":{\"outlinewidth\":0,\"ticks\":\"\"}},\"colorscale\":{\"diverging\":[[0,\"#8e0152\"],[0.1,\"#c51b7d\"],[0.2,\"#de77ae\"],[0.3,\"#f1b6da\"],[0.4,\"#fde0ef\"],[0.5,\"#f7f7f7\"],[0.6,\"#e6f5d0\"],[0.7,\"#b8e186\"],[0.8,\"#7fbc41\"],[0.9,\"#4d9221\"],[1,\"#276419\"]],\"sequential\":[[0.0,\"#0d0887\"],[0.1111111111111111,\"#46039f\"],[0.2222222222222222,\"#7201a8\"],[0.3333333333333333,\"#9c179e\"],[0.4444444444444444,\"#bd3786\"],[0.5555555555555556,\"#d8576b\"],[0.6666666666666666,\"#ed7953\"],[0.7777777777777778,\"#fb9f3a\"],[0.8888888888888888,\"#fdca26\"],[1.0,\"#f0f921\"]],\"sequentialminus\":[[0.0,\"#0d0887\"],[0.1111111111111111,\"#46039f\"],[0.2222222222222222,\"#7201a8\"],[0.3333333333333333,\"#9c179e\"],[0.4444444444444444,\"#bd3786\"],[0.5555555555555556,\"#d8576b\"],[0.6666666666666666,\"#ed7953\"],[0.7777777777777778,\"#fb9f3a\"],[0.8888888888888888,\"#fdca26\"],[1.0,\"#f0f921\"]]},\"colorway\":[\"#636efa\",\"#EF553B\",\"#00cc96\",\"#ab63fa\",\"#FFA15A\",\"#19d3f3\",\"#FF6692\",\"#B6E880\",\"#FF97FF\",\"#FECB52\"],\"font\":{\"color\":\"#2a3f5f\"},\"geo\":{\"bgcolor\":\"white\",\"lakecolor\":\"white\",\"landcolor\":\"#E5ECF6\",\"showlakes\":true,\"showland\":true,\"subunitcolor\":\"white\"},\"hoverlabel\":{\"align\":\"left\"},\"hovermode\":\"closest\",\"mapbox\":{\"style\":\"light\"},\"paper_bgcolor\":\"white\",\"plot_bgcolor\":\"#E5ECF6\",\"polar\":{\"angularaxis\":{\"gridcolor\":\"white\",\"linecolor\":\"white\",\"ticks\":\"\"},\"bgcolor\":\"#E5ECF6\",\"radialaxis\":{\"gridcolor\":\"white\",\"linecolor\":\"white\",\"ticks\":\"\"}},\"scene\":{\"xaxis\":{\"backgroundcolor\":\"#E5ECF6\",\"gridcolor\":\"white\",\"gridwidth\":2,\"linecolor\":\"white\",\"showbackground\":true,\"ticks\":\"\",\"zerolinecolor\":\"white\"},\"yaxis\":{\"backgroundcolor\":\"#E5ECF6\",\"gridcolor\":\"white\",\"gridwidth\":2,\"linecolor\":\"white\",\"showbackground\":true,\"ticks\":\"\",\"zerolinecolor\":\"white\"},\"zaxis\":{\"backgroundcolor\":\"#E5ECF6\",\"gridcolor\":\"white\",\"gridwidth\":2,\"linecolor\":\"white\",\"showbackground\":true,\"ticks\":\"\",\"zerolinecolor\":\"white\"}},\"shapedefaults\":{\"line\":{\"color\":\"#2a3f5f\"}},\"ternary\":{\"aaxis\":{\"gridcolor\":\"white\",\"linecolor\":\"white\",\"ticks\":\"\"},\"baxis\":{\"gridcolor\":\"white\",\"linecolor\":\"white\",\"ticks\":\"\"},\"bgcolor\":\"#E5ECF6\",\"caxis\":{\"gridcolor\":\"white\",\"linecolor\":\"white\",\"ticks\":\"\"}},\"title\":{\"x\":0.05},\"xaxis\":{\"automargin\":true,\"gridcolor\":\"white\",\"linecolor\":\"white\",\"ticks\":\"\",\"title\":{\"standoff\":15},\"zerolinecolor\":\"white\",\"zerolinewidth\":2},\"yaxis\":{\"automargin\":true,\"gridcolor\":\"white\",\"linecolor\":\"white\",\"ticks\":\"\",\"title\":{\"standoff\":15},\"zerolinecolor\":\"white\",\"zerolinewidth\":2}}},\"geo\":{\"domain\":{\"x\":[0.0,1.0],\"y\":[0.0,1.0]},\"center\":{},\"scope\":\"usa\"},\"coloraxis\":{\"colorbar\":{\"title\":{\"text\":\"average early_career_pay\"}},\"colorscale\":[[0.0,\"#0d0887\"],[0.1111111111111111,\"#46039f\"],[0.2222222222222222,\"#7201a8\"],[0.3333333333333333,\"#9c179e\"],[0.4444444444444444,\"#bd3786\"],[0.5555555555555556,\"#d8576b\"],[0.6666666666666666,\"#ed7953\"],[0.7777777777777778,\"#fb9f3a\"],[0.8888888888888888,\"#fdca26\"],[1.0,\"#f0f921\"]]},\"legend\":{\"tracegroupgap\":0},\"margin\":{\"t\":60}},                        {\"responsive\": true}                    ).then(function(){\n",
       "                            \n",
       "var gd = document.getElementById('0eff3a40-5ada-42b1-98e6-36fa75813f24');\n",
       "var x = new MutationObserver(function (mutations, observer) {{\n",
       "        var display = window.getComputedStyle(gd).display;\n",
       "        if (!display || display === 'none') {{\n",
       "            console.log([gd, 'removed!']);\n",
       "            Plotly.purge(gd);\n",
       "            observer.disconnect();\n",
       "        }}\n",
       "}});\n",
       "\n",
       "// Listen for the removal of the full notebook cells\n",
       "var notebookContainer = gd.closest('#notebook-container');\n",
       "if (notebookContainer) {{\n",
       "    x.observe(notebookContainer, {childList: true});\n",
       "}}\n",
       "\n",
       "// Listen for the clearing of the current output cell\n",
       "var outputEl = gd.closest('.output');\n",
       "if (outputEl) {{\n",
       "    x.observe(outputEl, {childList: true});\n",
       "}}\n",
       "\n",
       "                        })                };                });            </script>        </div>"
      ]
     },
     "execution_count": 34,
     "metadata": {
     },
     "output_type": "execute_result"
    }
   ],
   "source": [
    "fig = px.choropleth(state_stats_extras, locations='state_code', locationmode=\"USA-states\", color=\"average early_career_pay\", scope=\"usa\")\n",
    "fig.show()"
   ]
  },
  {
   "cell_type": "markdown",
   "metadata": {
    "collapsed": false
   },
   "source": [
    "Add any more ideas you have here:\n",
    "\n"
   ]
  },
  {
   "cell_type": "code",
   "execution_count": 28,
   "metadata": {
    "collapsed": false
   },
   "outputs": [
    {
     "data": {
      "text/html": "<html>\n<head><meta charset=\"utf-8\" /></head>\n<body>\n    <div>            <script src=\"https://cdnjs.cloudflare.com/ajax/libs/mathjax/2.7.5/MathJax.js?config=TeX-AMS-MML_SVG\"></script><script type=\"text/javascript\">if (window.MathJax && window.MathJax.Hub && && window.MathJax.Hub.Config) {window.MathJax.Hub.Config({SVG: {font: \"STIX-Web\"}});}</script>                <script type=\"text/javascript\">window.PlotlyConfig = {MathJaxConfig: 'local'};</script>\n        <script src=\"https://cdn.plot.ly/plotly-2.12.1.min.js\"></script>                <div id=\"6ec4a3f0-b3bf-4ebf-9f97-a54c2521b3dc\" class=\"plotly-graph-div\" style=\"height:525px; width:100%;\"></div>            <script type=\"text/javascript\">                                    window.PLOTLYENV=window.PLOTLYENV || {};                                    if (document.getElementById(\"6ec4a3f0-b3bf-4ebf-9f97-a54c2521b3dc\")) {                    Plotly.newPlot(                        \"6ec4a3f0-b3bf-4ebf-9f97-a54c2521b3dc\",                        [{\"hovertemplate\":\"Age=%{x}<br>Pregnancies=%{y}<br>Outcome=%{marker.color}<extra></extra>\",\"legendgroup\":\"\",\"marker\":{\"color\":[1,0,1,0,1,0,1,0,1,1,0,1,0,1,1,1,1,1,0,1,0,0,1,1,1,1,1,0,0,0,0,1,0,0,0,0,0,1,1,1,0,0,0,1,0,1,0,0,1,0,0,0,0,1,0,0,1,0,0,0,0,1,0,0,1,0,1,0,0,0,1,0,1,0,0,0,0,0,1,0,0,0,0,0,1,0,0,0,1,0,0,0,0,1,0,0,0,0,0,1,1,0,0,0,0,0,0,0,0,1,1,1,0,0,1,1,1,0,0,0,1,0,0,0,1,1,0,0,1,1,1,1,1,0,0,0,0,0,0,0,0,0,0,1,0,0,0,0,0,0,0,0,1,0,1,1,0,0,0,1,0,0,0,0,1,1,0,0,0,0,1,1,0,0,0,1,0,1,0,1,0,0,0,0,0,1,1,1,1,1,0,0,1,1,0,1,0,1,1,1,0,0,0,0,0,0,1,1,0,1,0,0,0,1,1,1,1,0,1,1,1,1,0,0,0,0,0,1,0,0,1,1,0,0,0,1,1,1,1,0,0,0,1,1,0,1,0,0,0,0,0,0,0,0,1,1,0,0,0,1,0,1,0,0,1,0,1,0,0,1,1,0,0,0,0,0,1,0,0,0,1,0,0,1,1,0,0,1,0,0,0,1,1,1,0,0,1,0,1,0,1,1,0,1,0,0,1,0,1,1,0,0,1,0,1,0,0,1,0,1,0,1,1,1,0,0,1,0,1,0,0,0,1,0,0,0,0,1,1,1,0,0,0,0,0,0,0,0,0,1,0,0,0,0,0,1,1,1,0,1,1,0,0,1,0,0,1,0,0,1,1,0,0,0,0,1,0,0,1,0,0,0,0,0,0,0,1,1,1,0,0,1,0,0,1,0,0,1,0,1,1,0,1,0,1,0,1,0,1,1,0,0,0,0,1,1,0,1,0,1,0,0,0,0,1,1,0,1,0,1,0,0,0,0,0,1,0,0,0,0,1,0,0,1,1,1,0,0,1,0,0,1,0,0,0,1,0,0,1,0,0,0,0,0,0,0,0,0,1,0,0,0,0,0,0,0,1,0,0,0,1,0,0,0,1,1,0,0,0,0,0,0,0,1,0,0,0,0,1,0,0,0,1,0,0,0,1,0,0,0,1,0,0,0,0,1,1,0,0,0,0,0,0,1,0,0,0,0,0,0,0,0,0,0,0,1,0,0,0,1,1,1,1,0,0,1,1,0,0,0,0,0,0,0,0,0,0,0,0,0,1,1,0,0,0,0,0,0,0,1,0,0,0,0,0,0,0,1,0,1,1,0,0,0,1,0,1,0,1,0,1,0,1,0,0,1,0,0,1,0,0,0,0,1,1,0,1,0,0,0,0,1,1,0,1,0,0,0,1,1,0,0,0,0,0,0,0,0,0,0,1,0,0,0,0,1,0,0,1,0,0,0,1,0,0,0,1,1,1,0,0,0,0,0,0,1,0,0,0,1,0,1,1,1,1,0,1,1,0,0,0,0,0,0,0,1,1,0,1,0,0,1,0,1,0,0,0,0,0,1,0,1,0,1,0,1,1,0,0,0,0,1,1,0,0,0,1,0,1,1,0,0,1,0,0,1,1,0,0,1,0,0,1,0,0,0,0,0,0,0,1,1,1,0,0,0,0,0,0,1,1,0,0,1,0,0,1,0,1,1,1,0,0,1,1,1,0,1,0,1,0,1,0,0,0,0,1,0],\"coloraxis\":\"coloraxis\",\"symbol\":\"circle\"},\"mode\":\"markers\",\"name\":\"\",\"orientation\":\"v\",\"showlegend\":false,\"x\":[50,31,32,21,33,30,26,29,53,54,30,34,57,59,51,32,31,31,33,32,27,50,41,29,51,41,43,22,57,38,60,28,22,28,45,33,35,46,27,56,26,37,48,54,40,25,29,22,31,24,22,26,30,58,42,21,41,31,44,22,21,39,36,24,42,32,38,54,25,27,28,26,42,23,22,22,41,27,26,24,22,22,36,22,37,27,45,26,43,24,21,34,42,60,21,40,24,22,23,31,33,22,21,24,27,21,27,37,25,24,24,46,23,25,39,61,38,25,22,21,25,24,23,69,23,26,30,23,40,62,33,33,30,39,26,31,21,22,29,28,55,38,22,42,23,21,41,34,65,22,24,37,42,23,43,36,21,23,22,47,36,45,27,21,32,41,22,34,29,29,36,29,25,23,33,36,42,26,47,37,32,23,21,27,40,41,60,33,31,25,21,40,36,40,42,29,21,23,26,29,21,28,32,27,55,27,57,52,21,41,25,24,60,24,36,38,25,32,32,41,21,66,37,61,26,22,26,24,31,24,22,46,22,29,23,26,51,23,32,27,21,22,22,33,29,49,41,23,34,23,42,27,24,25,44,21,30,25,24,51,34,27,24,63,35,43,25,24,21,28,38,21,40,21,52,25,29,23,57,22,28,39,37,47,52,51,34,29,26,33,21,25,31,24,65,28,29,24,46,58,30,25,35,28,37,29,47,21,25,30,41,22,27,25,43,26,30,29,28,59,31,25,36,43,21,24,30,37,23,37,46,25,41,44,22,26,44,44,33,41,22,36,22,33,57,49,22,23,26,37,29,30,46,24,21,49,28,44,48,29,29,63,65,67,30,30,29,21,22,45,25,21,21,25,28,58,22,22,32,35,24,22,21,25,25,24,35,45,58,28,42,27,21,37,31,25,39,22,25,25,31,55,35,38,41,26,46,25,39,28,28,25,22,21,21,22,22,37,27,28,26,21,21,21,36,31,25,38,26,43,23,38,22,29,36,29,41,28,21,31,41,22,24,33,30,25,28,26,22,26,23,23,25,72,24,38,62,24,51,81,48,26,39,37,34,21,22,25,38,27,28,22,22,50,24,59,29,31,39,63,35,29,28,23,31,24,21,58,28,67,24,42,33,45,22,66,30,25,55,39,21,28,41,41,40,38,35,21,21,64,46,21,58,22,24,28,53,51,41,60,25,26,26,45,24,21,21,24,22,31,22,24,29,31,24,23,46,67,23,32,43,27,56,25,29,37,53,28,50,37,21,25,66,23,28,37,30,58,42,35,54,28,24,32,27,22,21,46,37,33,39,21,22,22,23,25,35,21,36,62,21,27,62,42,52,22,41,29,52,25,45,24,44,25,34,22,46,21,38,26,24,28,30,54,36,21,22,25,27,23,24,36,40,26,50,27,30,23,50,24,28,28,45,21,21,29,21,21,45,21,34,24,23,22,31,38,48,23,32,28,27,24,50,31,27,30,33,22,42,23,23,27,28,27,22,25,22,41,51,27,54,22,43,40,40,24,70,40,43,45,49,21,47,22,68,31,53,25,25,23,22,26,22,27,69,25,22,29,23,46,34,44,23,43,25,43,31,22,28,26,26,49,52,41,27,28,30,22,45,23,24,40,38,21,32,34,31,56,24,52,34,21,42,42,45,38,25,22,22,22,34,22,24,22,53,28,21,42,21,42,48,26,22,45,39,46,27,32,36,50,22,28,25,26,45,37,39,52,26,66,22,43,33,63,27,30,47,23],\"xaxis\":\"x\",\"y\":[6,1,8,1,0,5,3,10,2,8,4,10,10,1,5,7,0,7,1,1,3,8,7,9,11,10,7,1,13,5,5,3,3,6,10,4,11,9,2,4,3,7,7,9,7,0,1,2,7,7,1,1,5,8,7,1,7,0,0,0,2,8,5,2,7,5,0,2,1,4,2,5,13,4,1,1,7,5,0,2,3,2,7,0,5,2,13,2,15,1,1,4,7,4,2,6,2,1,6,1,1,1,0,1,2,1,1,4,3,0,3,8,1,4,7,4,5,5,4,4,0,6,2,5,0,1,3,1,1,0,4,9,3,8,2,2,0,0,0,5,3,5,2,10,4,0,9,2,5,2,1,4,9,1,8,7,2,1,2,17,4,7,0,2,0,6,3,4,4,3,6,6,2,1,2,8,6,0,5,5,6,0,1,5,4,7,8,1,8,5,3,9,7,11,8,5,1,3,4,4,0,1,0,2,6,5,8,5,1,7,2,0,7,0,9,12,5,6,5,5,0,2,7,7,1,1,0,3,4,0,4,6,1,4,3,4,7,0,9,0,1,4,3,6,2,9,10,0,9,1,9,2,2,0,12,1,3,2,1,11,3,3,4,3,4,5,0,2,0,2,10,2,3,1,13,2,7,0,5,2,0,10,7,7,2,7,5,1,4,5,0,0,2,1,0,6,2,0,14,8,0,2,5,5,3,2,10,0,0,2,6,0,2,3,7,2,3,3,3,6,4,3,0,13,2,1,1,10,2,6,8,2,1,12,1,0,0,5,9,7,1,1,1,5,8,8,1,3,3,5,4,4,3,1,3,9,1,13,12,1,5,5,5,4,4,5,6,0,3,1,3,0,0,2,2,12,0,1,4,0,1,0,1,1,1,1,5,8,5,3,1,5,1,4,4,2,3,0,3,3,4,6,5,9,5,2,4,0,8,1,6,1,1,1,0,3,1,4,1,3,1,2,0,2,8,4,0,1,0,1,2,3,1,2,1,0,12,5,1,6,0,2,4,8,4,0,1,0,0,0,1,2,0,2,2,14,1,5,10,9,9,1,8,5,10,0,0,0,8,6,1,0,0,7,4,0,2,7,8,4,3,0,4,0,0,0,1,0,4,8,2,2,4,4,3,6,5,2,7,6,2,3,6,7,3,10,0,1,2,8,12,0,9,2,3,3,9,7,13,6,2,3,6,9,3,3,1,3,0,0,2,0,1,6,1,4,0,0,0,3,8,3,10,4,1,8,5,4,1,4,1,3,6,1,1,7,1,8,11,11,6,0,1,6,0,2,1,6,4,0,3,2,3,2,1,1,6,2,10,2,0,6,12,8,8,1,8,6,3,0,11,2,3,2,6,0,0,1,1,1,1,6,1,7,4,1,1,1,0,1,3,3,7,6,11,3,6,2,9,0,2,2,6,0,2,4,0,0,5,4,7,0,2,1,10,13,5,2,7,1,0,4,6,4,3,2,1,0,11,0,1,1,5,2,1,2,2,1,11,3,10,1,8,9,6,1,4,10,6,9,6,1,10,3,8,6,9,0,3,2,2,0,0,4,5,2,3,1,1,1,8,13,2,7,2,7,3,0,4,4,2,6,1,2,4,6,10,2,9,2,3,5,10,0,3,7,3,10,1,5,4,1,1,5,1,4,1,0,2,2,3,8,2,2,2,4,0,8,2,1,11,3,1,9,13,12,1,1,3,6,4,1,3,0,8,1,7,0,1,6,2,9,9,10,2,5,1,1],\"yaxis\":\"y\",\"type\":\"scatter\"}],                        {\"template\":{\"data\":{\"histogram2dcontour\":[{\"type\":\"histogram2dcontour\",\"colorbar\":{\"outlinewidth\":0,\"ticks\":\"\"},\"colorscale\":[[0.0,\"#0d0887\"],[0.1111111111111111,\"#46039f\"],[0.2222222222222222,\"#7201a8\"],[0.3333333333333333,\"#9c179e\"],[0.4444444444444444,\"#bd3786\"],[0.5555555555555556,\"#d8576b\"],[0.6666666666666666,\"#ed7953\"],[0.7777777777777778,\"#fb9f3a\"],[0.8888888888888888,\"#fdca26\"],[1.0,\"#f0f921\"]]}],\"choropleth\":[{\"type\":\"choropleth\",\"colorbar\":{\"outlinewidth\":0,\"ticks\":\"\"}}],\"histogram2d\":[{\"type\":\"histogram2d\",\"colorbar\":{\"outlinewidth\":0,\"ticks\":\"\"},\"colorscale\":[[0.0,\"#0d0887\"],[0.1111111111111111,\"#46039f\"],[0.2222222222222222,\"#7201a8\"],[0.3333333333333333,\"#9c179e\"],[0.4444444444444444,\"#bd3786\"],[0.5555555555555556,\"#d8576b\"],[0.6666666666666666,\"#ed7953\"],[0.7777777777777778,\"#fb9f3a\"],[0.8888888888888888,\"#fdca26\"],[1.0,\"#f0f921\"]]}],\"heatmap\":[{\"type\":\"heatmap\",\"colorbar\":{\"outlinewidth\":0,\"ticks\":\"\"},\"colorscale\":[[0.0,\"#0d0887\"],[0.1111111111111111,\"#46039f\"],[0.2222222222222222,\"#7201a8\"],[0.3333333333333333,\"#9c179e\"],[0.4444444444444444,\"#bd3786\"],[0.5555555555555556,\"#d8576b\"],[0.6666666666666666,\"#ed7953\"],[0.7777777777777778,\"#fb9f3a\"],[0.8888888888888888,\"#fdca26\"],[1.0,\"#f0f921\"]]}],\"heatmapgl\":[{\"type\":\"heatmapgl\",\"colorbar\":{\"outlinewidth\":0,\"ticks\":\"\"},\"colorscale\":[[0.0,\"#0d0887\"],[0.1111111111111111,\"#46039f\"],[0.2222222222222222,\"#7201a8\"],[0.3333333333333333,\"#9c179e\"],[0.4444444444444444,\"#bd3786\"],[0.5555555555555556,\"#d8576b\"],[0.6666666666666666,\"#ed7953\"],[0.7777777777777778,\"#fb9f3a\"],[0.8888888888888888,\"#fdca26\"],[1.0,\"#f0f921\"]]}],\"contourcarpet\":[{\"type\":\"contourcarpet\",\"colorbar\":{\"outlinewidth\":0,\"ticks\":\"\"}}],\"contour\":[{\"type\":\"contour\",\"colorbar\":{\"outlinewidth\":0,\"ticks\":\"\"},\"colorscale\":[[0.0,\"#0d0887\"],[0.1111111111111111,\"#46039f\"],[0.2222222222222222,\"#7201a8\"],[0.3333333333333333,\"#9c179e\"],[0.4444444444444444,\"#bd3786\"],[0.5555555555555556,\"#d8576b\"],[0.6666666666666666,\"#ed7953\"],[0.7777777777777778,\"#fb9f3a\"],[0.8888888888888888,\"#fdca26\"],[1.0,\"#f0f921\"]]}],\"surface\":[{\"type\":\"surface\",\"colorbar\":{\"outlinewidth\":0,\"ticks\":\"\"},\"colorscale\":[[0.0,\"#0d0887\"],[0.1111111111111111,\"#46039f\"],[0.2222222222222222,\"#7201a8\"],[0.3333333333333333,\"#9c179e\"],[0.4444444444444444,\"#bd3786\"],[0.5555555555555556,\"#d8576b\"],[0.6666666666666666,\"#ed7953\"],[0.7777777777777778,\"#fb9f3a\"],[0.8888888888888888,\"#fdca26\"],[1.0,\"#f0f921\"]]}],\"mesh3d\":[{\"type\":\"mesh3d\",\"colorbar\":{\"outlinewidth\":0,\"ticks\":\"\"}}],\"scatter\":[{\"fillpattern\":{\"fillmode\":\"overlay\",\"size\":10,\"solidity\":0.2},\"type\":\"scatter\"}],\"parcoords\":[{\"type\":\"parcoords\",\"line\":{\"colorbar\":{\"outlinewidth\":0,\"ticks\":\"\"}}}],\"scatterpolargl\":[{\"type\":\"scatterpolargl\",\"marker\":{\"colorbar\":{\"outlinewidth\":0,\"ticks\":\"\"}}}],\"bar\":[{\"error_x\":{\"color\":\"#2a3f5f\"},\"error_y\":{\"color\":\"#2a3f5f\"},\"marker\":{\"line\":{\"color\":\"#E5ECF6\",\"width\":0.5},\"pattern\":{\"fillmode\":\"overlay\",\"size\":10,\"solidity\":0.2}},\"type\":\"bar\"}],\"scattergeo\":[{\"type\":\"scattergeo\",\"marker\":{\"colorbar\":{\"outlinewidth\":0,\"ticks\":\"\"}}}],\"scatterpolar\":[{\"type\":\"scatterpolar\",\"marker\":{\"colorbar\":{\"outlinewidth\":0,\"ticks\":\"\"}}}],\"histogram\":[{\"marker\":{\"pattern\":{\"fillmode\":\"overlay\",\"size\":10,\"solidity\":0.2}},\"type\":\"histogram\"}],\"scattergl\":[{\"type\":\"scattergl\",\"marker\":{\"colorbar\":{\"outlinewidth\":0,\"ticks\":\"\"}}}],\"scatter3d\":[{\"type\":\"scatter3d\",\"line\":{\"colorbar\":{\"outlinewidth\":0,\"ticks\":\"\"}},\"marker\":{\"colorbar\":{\"outlinewidth\":0,\"ticks\":\"\"}}}],\"scattermapbox\":[{\"type\":\"scattermapbox\",\"marker\":{\"colorbar\":{\"outlinewidth\":0,\"ticks\":\"\"}}}],\"scatterternary\":[{\"type\":\"scatterternary\",\"marker\":{\"colorbar\":{\"outlinewidth\":0,\"ticks\":\"\"}}}],\"scattercarpet\":[{\"type\":\"scattercarpet\",\"marker\":{\"colorbar\":{\"outlinewidth\":0,\"ticks\":\"\"}}}],\"carpet\":[{\"aaxis\":{\"endlinecolor\":\"#2a3f5f\",\"gridcolor\":\"white\",\"linecolor\":\"white\",\"minorgridcolor\":\"white\",\"startlinecolor\":\"#2a3f5f\"},\"baxis\":{\"endlinecolor\":\"#2a3f5f\",\"gridcolor\":\"white\",\"linecolor\":\"white\",\"minorgridcolor\":\"white\",\"startlinecolor\":\"#2a3f5f\"},\"type\":\"carpet\"}],\"table\":[{\"cells\":{\"fill\":{\"color\":\"#EBF0F8\"},\"line\":{\"color\":\"white\"}},\"header\":{\"fill\":{\"color\":\"#C8D4E3\"},\"line\":{\"color\":\"white\"}},\"type\":\"table\"}],\"barpolar\":[{\"marker\":{\"line\":{\"color\":\"#E5ECF6\",\"width\":0.5},\"pattern\":{\"fillmode\":\"overlay\",\"size\":10,\"solidity\":0.2}},\"type\":\"barpolar\"}],\"pie\":[{\"automargin\":true,\"type\":\"pie\"}]},\"layout\":{\"autotypenumbers\":\"strict\",\"colorway\":[\"#636efa\",\"#EF553B\",\"#00cc96\",\"#ab63fa\",\"#FFA15A\",\"#19d3f3\",\"#FF6692\",\"#B6E880\",\"#FF97FF\",\"#FECB52\"],\"font\":{\"color\":\"#2a3f5f\"},\"hovermode\":\"closest\",\"hoverlabel\":{\"align\":\"left\"},\"paper_bgcolor\":\"white\",\"plot_bgcolor\":\"#E5ECF6\",\"polar\":{\"bgcolor\":\"#E5ECF6\",\"angularaxis\":{\"gridcolor\":\"white\",\"linecolor\":\"white\",\"ticks\":\"\"},\"radialaxis\":{\"gridcolor\":\"white\",\"linecolor\":\"white\",\"ticks\":\"\"}},\"ternary\":{\"bgcolor\":\"#E5ECF6\",\"aaxis\":{\"gridcolor\":\"white\",\"linecolor\":\"white\",\"ticks\":\"\"},\"baxis\":{\"gridcolor\":\"white\",\"linecolor\":\"white\",\"ticks\":\"\"},\"caxis\":{\"gridcolor\":\"white\",\"linecolor\":\"white\",\"ticks\":\"\"}},\"coloraxis\":{\"colorbar\":{\"outlinewidth\":0,\"ticks\":\"\"}},\"colorscale\":{\"sequential\":[[0.0,\"#0d0887\"],[0.1111111111111111,\"#46039f\"],[0.2222222222222222,\"#7201a8\"],[0.3333333333333333,\"#9c179e\"],[0.4444444444444444,\"#bd3786\"],[0.5555555555555556,\"#d8576b\"],[0.6666666666666666,\"#ed7953\"],[0.7777777777777778,\"#fb9f3a\"],[0.8888888888888888,\"#fdca26\"],[1.0,\"#f0f921\"]],\"sequentialminus\":[[0.0,\"#0d0887\"],[0.1111111111111111,\"#46039f\"],[0.2222222222222222,\"#7201a8\"],[0.3333333333333333,\"#9c179e\"],[0.4444444444444444,\"#bd3786\"],[0.5555555555555556,\"#d8576b\"],[0.6666666666666666,\"#ed7953\"],[0.7777777777777778,\"#fb9f3a\"],[0.8888888888888888,\"#fdca26\"],[1.0,\"#f0f921\"]],\"diverging\":[[0,\"#8e0152\"],[0.1,\"#c51b7d\"],[0.2,\"#de77ae\"],[0.3,\"#f1b6da\"],[0.4,\"#fde0ef\"],[0.5,\"#f7f7f7\"],[0.6,\"#e6f5d0\"],[0.7,\"#b8e186\"],[0.8,\"#7fbc41\"],[0.9,\"#4d9221\"],[1,\"#276419\"]]},\"xaxis\":{\"gridcolor\":\"white\",\"linecolor\":\"white\",\"ticks\":\"\",\"title\":{\"standoff\":15},\"zerolinecolor\":\"white\",\"automargin\":true,\"zerolinewidth\":2},\"yaxis\":{\"gridcolor\":\"white\",\"linecolor\":\"white\",\"ticks\":\"\",\"title\":{\"standoff\":15},\"zerolinecolor\":\"white\",\"automargin\":true,\"zerolinewidth\":2},\"scene\":{\"xaxis\":{\"backgroundcolor\":\"#E5ECF6\",\"gridcolor\":\"white\",\"linecolor\":\"white\",\"showbackground\":true,\"ticks\":\"\",\"zerolinecolor\":\"white\",\"gridwidth\":2},\"yaxis\":{\"backgroundcolor\":\"#E5ECF6\",\"gridcolor\":\"white\",\"linecolor\":\"white\",\"showbackground\":true,\"ticks\":\"\",\"zerolinecolor\":\"white\",\"gridwidth\":2},\"zaxis\":{\"backgroundcolor\":\"#E5ECF6\",\"gridcolor\":\"white\",\"linecolor\":\"white\",\"showbackground\":true,\"ticks\":\"\",\"zerolinecolor\":\"white\",\"gridwidth\":2}},\"shapedefaults\":{\"line\":{\"color\":\"#2a3f5f\"}},\"annotationdefaults\":{\"arrowcolor\":\"#2a3f5f\",\"arrowhead\":0,\"arrowwidth\":1},\"geo\":{\"bgcolor\":\"white\",\"landcolor\":\"#E5ECF6\",\"subunitcolor\":\"white\",\"showland\":true,\"showlakes\":true,\"lakecolor\":\"white\"},\"title\":{\"x\":0.05},\"mapbox\":{\"style\":\"light\"}}},\"xaxis\":{\"anchor\":\"y\",\"domain\":[0.0,1.0],\"title\":{\"text\":\"Age\"}},\"yaxis\":{\"anchor\":\"x\",\"domain\":[0.0,1.0],\"title\":{\"text\":\"Pregnancies\"}},\"coloraxis\":{\"colorbar\":{\"title\":{\"text\":\"Outcome\"}},\"colorscale\":[[0.0,\"#0d0887\"],[0.1111111111111111,\"#46039f\"],[0.2222222222222222,\"#7201a8\"],[0.3333333333333333,\"#9c179e\"],[0.4444444444444444,\"#bd3786\"],[0.5555555555555556,\"#d8576b\"],[0.6666666666666666,\"#ed7953\"],[0.7777777777777778,\"#fb9f3a\"],[0.8888888888888888,\"#fdca26\"],[1.0,\"#f0f921\"]]},\"legend\":{\"tracegroupgap\":0},\"margin\":{\"t\":60}},                        {\"responsive\": true}                    ).then(function(){\n                            \nvar gd = document.getElementById('6ec4a3f0-b3bf-4ebf-9f97-a54c2521b3dc');\nvar x = new MutationObserver(function (mutations, observer) {{\n        var display = window.getComputedStyle(gd).display;\n        if (!display || display === 'none') {{\n            console.log([gd, 'removed!']);\n            Plotly.purge(gd);\n            observer.disconnect();\n        }}\n}});\n\n// Listen for the removal of the full notebook cells\nvar notebookContainer = gd.closest('#notebook-container');\nif (notebookContainer) {{\n    x.observe(notebookContainer, {childList: true});\n}}\n\n// Listen for the clearing of the current output cell\nvar outputEl = gd.closest('.output');\nif (outputEl) {{\n    x.observe(outputEl, {childList: true});\n}}\n\n                        })                };                            </script>        </div>\n</body>\n</html>"
     },
     "execution_count": 28,
     "metadata": {
     },
     "output_type": "execute_result"
    }
   ],
   "source": [
    "import plotly.express as px\n",
    "import pandas as pd\n",
    "\n",
    "diabetes_data = pd.read_csv(\"./Data/diabetes.csv\")\n",
    "\n",
    "import plotly.express as px\n",
    "df = diabetes_data\n",
    "fig = px.scatter(df, x=\"Age\", y=\"Pregnancies\", color=\"Outcome\")\n",
    "fig.show()"
   ]
  },
  {
   "cell_type": "code",
   "execution_count": 30,
   "metadata": {
    "collapsed": false
   },
   "outputs": [
    {
     "data": {
      "text/html": "<html>\n<head><meta charset=\"utf-8\" /></head>\n<body>\n    <div>            <script src=\"https://cdnjs.cloudflare.com/ajax/libs/mathjax/2.7.5/MathJax.js?config=TeX-AMS-MML_SVG\"></script><script type=\"text/javascript\">if (window.MathJax && window.MathJax.Hub && && window.MathJax.Hub.Config) {window.MathJax.Hub.Config({SVG: {font: \"STIX-Web\"}});}</script>                <script type=\"text/javascript\">window.PlotlyConfig = {MathJaxConfig: 'local'};</script>\n        <script src=\"https://cdn.plot.ly/plotly-2.12.1.min.js\"></script>                <div id=\"2c1d3351-beb7-4409-b7e9-a24cdbc62e6c\" class=\"plotly-graph-div\" style=\"height:525px; width:100%;\"></div>            <script type=\"text/javascript\">                                    window.PLOTLYENV=window.PLOTLYENV || {};                                    if (document.getElementById(\"2c1d3351-beb7-4409-b7e9-a24cdbc62e6c\")) {                    Plotly.newPlot(                        \"2c1d3351-beb7-4409-b7e9-a24cdbc62e6c\",                        [{\"hovertemplate\":\"Age=%{x}<br>BloodPressure=%{y}<br>Outcome=%{marker.color}<extra></extra>\",\"legendgroup\":\"\",\"marker\":{\"color\":[1,0,1,0,1,0,1,0,1,1,0,1,0,1,1,1,1,1,0,1,0,0,1,1,1,1,1,0,0,0,0,1,0,0,0,0,0,1,1,1,0,0,0,1,0,1,0,0,1,0,0,0,0,1,0,0,1,0,0,0,0,1,0,0,1,0,1,0,0,0,1,0,1,0,0,0,0,0,1,0,0,0,0,0,1,0,0,0,1,0,0,0,0,1,0,0,0,0,0,1,1,0,0,0,0,0,0,0,0,1,1,1,0,0,1,1,1,0,0,0,1,0,0,0,1,1,0,0,1,1,1,1,1,0,0,0,0,0,0,0,0,0,0,1,0,0,0,0,0,0,0,0,1,0,1,1,0,0,0,1,0,0,0,0,1,1,0,0,0,0,1,1,0,0,0,1,0,1,0,1,0,0,0,0,0,1,1,1,1,1,0,0,1,1,0,1,0,1,1,1,0,0,0,0,0,0,1,1,0,1,0,0,0,1,1,1,1,0,1,1,1,1,0,0,0,0,0,1,0,0,1,1,0,0,0,1,1,1,1,0,0,0,1,1,0,1,0,0,0,0,0,0,0,0,1,1,0,0,0,1,0,1,0,0,1,0,1,0,0,1,1,0,0,0,0,0,1,0,0,0,1,0,0,1,1,0,0,1,0,0,0,1,1,1,0,0,1,0,1,0,1,1,0,1,0,0,1,0,1,1,0,0,1,0,1,0,0,1,0,1,0,1,1,1,0,0,1,0,1,0,0,0,1,0,0,0,0,1,1,1,0,0,0,0,0,0,0,0,0,1,0,0,0,0,0,1,1,1,0,1,1,0,0,1,0,0,1,0,0,1,1,0,0,0,0,1,0,0,1,0,0,0,0,0,0,0,1,1,1,0,0,1,0,0,1,0,0,1,0,1,1,0,1,0,1,0,1,0,1,1,0,0,0,0,1,1,0,1,0,1,0,0,0,0,1,1,0,1,0,1,0,0,0,0,0,1,0,0,0,0,1,0,0,1,1,1,0,0,1,0,0,1,0,0,0,1,0,0,1,0,0,0,0,0,0,0,0,0,1,0,0,0,0,0,0,0,1,0,0,0,1,0,0,0,1,1,0,0,0,0,0,0,0,1,0,0,0,0,1,0,0,0,1,0,0,0,1,0,0,0,1,0,0,0,0,1,1,0,0,0,0,0,0,1,0,0,0,0,0,0,0,0,0,0,0,1,0,0,0,1,1,1,1,0,0,1,1,0,0,0,0,0,0,0,0,0,0,0,0,0,1,1,0,0,0,0,0,0,0,1,0,0,0,0,0,0,0,1,0,1,1,0,0,0,1,0,1,0,1,0,1,0,1,0,0,1,0,0,1,0,0,0,0,1,1,0,1,0,0,0,0,1,1,0,1,0,0,0,1,1,0,0,0,0,0,0,0,0,0,0,1,0,0,0,0,1,0,0,1,0,0,0,1,0,0,0,1,1,1,0,0,0,0,0,0,1,0,0,0,1,0,1,1,1,1,0,1,1,0,0,0,0,0,0,0,1,1,0,1,0,0,1,0,1,0,0,0,0,0,1,0,1,0,1,0,1,1,0,0,0,0,1,1,0,0,0,1,0,1,1,0,0,1,0,0,1,1,0,0,1,0,0,1,0,0,0,0,0,0,0,1,1,1,0,0,0,0,0,0,1,1,0,0,1,0,0,1,0,1,1,1,0,0,1,1,1,0,1,0,1,0,1,0,0,0,0,1,0],\"coloraxis\":\"coloraxis\",\"symbol\":\"circle\"},\"mode\":\"markers\",\"name\":\"\",\"orientation\":\"v\",\"showlegend\":false,\"x\":[50,31,32,21,33,30,26,29,53,54,30,34,57,59,51,32,31,31,33,32,27,50,41,29,51,41,43,22,57,38,60,28,22,28,45,33,35,46,27,56,26,37,48,54,40,25,29,22,31,24,22,26,30,58,42,21,41,31,44,22,21,39,36,24,42,32,38,54,25,27,28,26,42,23,22,22,41,27,26,24,22,22,36,22,37,27,45,26,43,24,21,34,42,60,21,40,24,22,23,31,33,22,21,24,27,21,27,37,25,24,24,46,23,25,39,61,38,25,22,21,25,24,23,69,23,26,30,23,40,62,33,33,30,39,26,31,21,22,29,28,55,38,22,42,23,21,41,34,65,22,24,37,42,23,43,36,21,23,22,47,36,45,27,21,32,41,22,34,29,29,36,29,25,23,33,36,42,26,47,37,32,23,21,27,40,41,60,33,31,25,21,40,36,40,42,29,21,23,26,29,21,28,32,27,55,27,57,52,21,41,25,24,60,24,36,38,25,32,32,41,21,66,37,61,26,22,26,24,31,24,22,46,22,29,23,26,51,23,32,27,21,22,22,33,29,49,41,23,34,23,42,27,24,25,44,21,30,25,24,51,34,27,24,63,35,43,25,24,21,28,38,21,40,21,52,25,29,23,57,22,28,39,37,47,52,51,34,29,26,33,21,25,31,24,65,28,29,24,46,58,30,25,35,28,37,29,47,21,25,30,41,22,27,25,43,26,30,29,28,59,31,25,36,43,21,24,30,37,23,37,46,25,41,44,22,26,44,44,33,41,22,36,22,33,57,49,22,23,26,37,29,30,46,24,21,49,28,44,48,29,29,63,65,67,30,30,29,21,22,45,25,21,21,25,28,58,22,22,32,35,24,22,21,25,25,24,35,45,58,28,42,27,21,37,31,25,39,22,25,25,31,55,35,38,41,26,46,25,39,28,28,25,22,21,21,22,22,37,27,28,26,21,21,21,36,31,25,38,26,43,23,38,22,29,36,29,41,28,21,31,41,22,24,33,30,25,28,26,22,26,23,23,25,72,24,38,62,24,51,81,48,26,39,37,34,21,22,25,38,27,28,22,22,50,24,59,29,31,39,63,35,29,28,23,31,24,21,58,28,67,24,42,33,45,22,66,30,25,55,39,21,28,41,41,40,38,35,21,21,64,46,21,58,22,24,28,53,51,41,60,25,26,26,45,24,21,21,24,22,31,22,24,29,31,24,23,46,67,23,32,43,27,56,25,29,37,53,28,50,37,21,25,66,23,28,37,30,58,42,35,54,28,24,32,27,22,21,46,37,33,39,21,22,22,23,25,35,21,36,62,21,27,62,42,52,22,41,29,52,25,45,24,44,25,34,22,46,21,38,26,24,28,30,54,36,21,22,25,27,23,24,36,40,26,50,27,30,23,50,24,28,28,45,21,21,29,21,21,45,21,34,24,23,22,31,38,48,23,32,28,27,24,50,31,27,30,33,22,42,23,23,27,28,27,22,25,22,41,51,27,54,22,43,40,40,24,70,40,43,45,49,21,47,22,68,31,53,25,25,23,22,26,22,27,69,25,22,29,23,46,34,44,23,43,25,43,31,22,28,26,26,49,52,41,27,28,30,22,45,23,24,40,38,21,32,34,31,56,24,52,34,21,42,42,45,38,25,22,22,22,34,22,24,22,53,28,21,42,21,42,48,26,22,45,39,46,27,32,36,50,22,28,25,26,45,37,39,52,26,66,22,43,33,63,27,30,47,23],\"xaxis\":\"x\",\"y\":[72,66,64,66,40,74,50,0,70,96,92,74,80,60,72,0,84,74,30,70,88,84,90,80,94,70,76,66,82,92,75,76,58,92,78,60,76,76,68,72,64,84,92,110,64,66,56,70,66,0,80,50,66,90,66,50,68,88,82,64,0,72,62,58,66,74,88,92,66,85,66,64,90,86,75,48,78,72,0,66,44,0,78,65,108,74,72,68,70,68,55,80,78,72,82,72,62,48,50,90,72,60,96,72,65,56,122,58,58,85,72,62,76,62,54,92,74,48,60,76,76,64,74,80,76,30,70,58,88,84,70,56,64,74,68,60,70,60,80,72,78,82,52,66,62,75,80,64,78,70,74,65,86,82,78,88,52,56,74,72,90,74,80,64,88,74,66,68,66,90,82,70,0,60,64,72,78,110,78,82,80,64,74,60,74,68,68,98,76,80,62,70,66,0,55,84,58,62,64,60,80,82,68,70,72,72,76,104,64,84,60,85,95,65,82,70,62,68,74,66,60,90,0,60,66,78,76,52,70,80,86,80,80,68,68,72,84,90,84,76,64,70,54,50,76,85,68,90,70,86,52,84,80,68,62,64,56,68,50,76,68,0,70,80,62,74,0,64,52,0,86,62,78,78,70,70,60,64,74,62,70,76,88,86,80,74,84,86,56,72,88,62,78,48,50,62,70,84,78,72,0,58,82,98,76,76,68,68,68,68,66,70,74,50,80,68,80,74,66,78,60,74,70,90,75,72,64,70,86,70,72,58,0,80,60,76,0,76,78,84,70,74,68,86,72,88,46,0,62,80,80,84,82,62,78,88,50,0,74,76,64,70,108,78,74,54,72,64,86,102,82,64,64,58,52,82,82,60,75,100,72,68,60,62,70,54,74,100,82,68,66,76,64,72,78,58,56,66,70,70,64,61,84,78,64,48,72,62,74,68,90,72,84,74,60,84,68,82,68,64,88,68,64,64,78,78,0,64,94,82,0,74,74,75,68,0,85,75,70,88,104,66,64,70,62,78,72,80,64,74,64,70,68,0,54,62,54,68,84,74,72,62,70,78,98,56,52,64,0,78,82,70,66,90,64,84,80,76,74,86,70,88,58,82,0,68,62,78,72,80,65,90,68,70,0,74,68,72,70,74,90,72,68,64,78,82,90,60,50,78,72,62,68,62,54,70,88,86,60,90,70,80,0,70,58,60,64,74,66,65,60,76,66,0,56,0,90,60,80,92,74,72,85,90,78,90,76,68,82,110,70,68,88,62,64,70,70,76,68,74,76,66,68,60,80,54,72,62,72,66,70,96,58,60,86,44,44,80,68,70,90,60,78,76,76,56,66,66,86,0,84,78,80,52,72,82,76,24,74,38,88,0,74,78,0,60,78,62,82,62,54,58,88,80,74,72,96,62,82,0,86,76,94,70,64,88,68,78,80,65,64,78,60,82,62,72,74,76,76,74,86,70,80,0,72,74,74,50,84,60,54,60,74,54,70,52,58,80,106,82,84,76,106,80,60,80,82,70,58,78,68,58,106,100,82,70,86,60,52,58,56,76,64,80,82,74,64,50,74,82,80,114,70,68,60,90,74,0,88,70,76,78,88,0,76,80,0,46,78,64,64,78,62,58,74,50,78,72,60,76,86,66,68,86,94,78,78,84,88,52,78,86,88,56,75,60,86,72,60,74,80,44,58,94,88,84,94,74,70,62,70,78,62,88,78,88,90,72,76,92,58,74,62,76,70,72,60,70],\"yaxis\":\"y\",\"type\":\"scatter\"}],                        {\"template\":{\"data\":{\"histogram2dcontour\":[{\"type\":\"histogram2dcontour\",\"colorbar\":{\"outlinewidth\":0,\"ticks\":\"\"},\"colorscale\":[[0.0,\"#0d0887\"],[0.1111111111111111,\"#46039f\"],[0.2222222222222222,\"#7201a8\"],[0.3333333333333333,\"#9c179e\"],[0.4444444444444444,\"#bd3786\"],[0.5555555555555556,\"#d8576b\"],[0.6666666666666666,\"#ed7953\"],[0.7777777777777778,\"#fb9f3a\"],[0.8888888888888888,\"#fdca26\"],[1.0,\"#f0f921\"]]}],\"choropleth\":[{\"type\":\"choropleth\",\"colorbar\":{\"outlinewidth\":0,\"ticks\":\"\"}}],\"histogram2d\":[{\"type\":\"histogram2d\",\"colorbar\":{\"outlinewidth\":0,\"ticks\":\"\"},\"colorscale\":[[0.0,\"#0d0887\"],[0.1111111111111111,\"#46039f\"],[0.2222222222222222,\"#7201a8\"],[0.3333333333333333,\"#9c179e\"],[0.4444444444444444,\"#bd3786\"],[0.5555555555555556,\"#d8576b\"],[0.6666666666666666,\"#ed7953\"],[0.7777777777777778,\"#fb9f3a\"],[0.8888888888888888,\"#fdca26\"],[1.0,\"#f0f921\"]]}],\"heatmap\":[{\"type\":\"heatmap\",\"colorbar\":{\"outlinewidth\":0,\"ticks\":\"\"},\"colorscale\":[[0.0,\"#0d0887\"],[0.1111111111111111,\"#46039f\"],[0.2222222222222222,\"#7201a8\"],[0.3333333333333333,\"#9c179e\"],[0.4444444444444444,\"#bd3786\"],[0.5555555555555556,\"#d8576b\"],[0.6666666666666666,\"#ed7953\"],[0.7777777777777778,\"#fb9f3a\"],[0.8888888888888888,\"#fdca26\"],[1.0,\"#f0f921\"]]}],\"heatmapgl\":[{\"type\":\"heatmapgl\",\"colorbar\":{\"outlinewidth\":0,\"ticks\":\"\"},\"colorscale\":[[0.0,\"#0d0887\"],[0.1111111111111111,\"#46039f\"],[0.2222222222222222,\"#7201a8\"],[0.3333333333333333,\"#9c179e\"],[0.4444444444444444,\"#bd3786\"],[0.5555555555555556,\"#d8576b\"],[0.6666666666666666,\"#ed7953\"],[0.7777777777777778,\"#fb9f3a\"],[0.8888888888888888,\"#fdca26\"],[1.0,\"#f0f921\"]]}],\"contourcarpet\":[{\"type\":\"contourcarpet\",\"colorbar\":{\"outlinewidth\":0,\"ticks\":\"\"}}],\"contour\":[{\"type\":\"contour\",\"colorbar\":{\"outlinewidth\":0,\"ticks\":\"\"},\"colorscale\":[[0.0,\"#0d0887\"],[0.1111111111111111,\"#46039f\"],[0.2222222222222222,\"#7201a8\"],[0.3333333333333333,\"#9c179e\"],[0.4444444444444444,\"#bd3786\"],[0.5555555555555556,\"#d8576b\"],[0.6666666666666666,\"#ed7953\"],[0.7777777777777778,\"#fb9f3a\"],[0.8888888888888888,\"#fdca26\"],[1.0,\"#f0f921\"]]}],\"surface\":[{\"type\":\"surface\",\"colorbar\":{\"outlinewidth\":0,\"ticks\":\"\"},\"colorscale\":[[0.0,\"#0d0887\"],[0.1111111111111111,\"#46039f\"],[0.2222222222222222,\"#7201a8\"],[0.3333333333333333,\"#9c179e\"],[0.4444444444444444,\"#bd3786\"],[0.5555555555555556,\"#d8576b\"],[0.6666666666666666,\"#ed7953\"],[0.7777777777777778,\"#fb9f3a\"],[0.8888888888888888,\"#fdca26\"],[1.0,\"#f0f921\"]]}],\"mesh3d\":[{\"type\":\"mesh3d\",\"colorbar\":{\"outlinewidth\":0,\"ticks\":\"\"}}],\"scatter\":[{\"fillpattern\":{\"fillmode\":\"overlay\",\"size\":10,\"solidity\":0.2},\"type\":\"scatter\"}],\"parcoords\":[{\"type\":\"parcoords\",\"line\":{\"colorbar\":{\"outlinewidth\":0,\"ticks\":\"\"}}}],\"scatterpolargl\":[{\"type\":\"scatterpolargl\",\"marker\":{\"colorbar\":{\"outlinewidth\":0,\"ticks\":\"\"}}}],\"bar\":[{\"error_x\":{\"color\":\"#2a3f5f\"},\"error_y\":{\"color\":\"#2a3f5f\"},\"marker\":{\"line\":{\"color\":\"#E5ECF6\",\"width\":0.5},\"pattern\":{\"fillmode\":\"overlay\",\"size\":10,\"solidity\":0.2}},\"type\":\"bar\"}],\"scattergeo\":[{\"type\":\"scattergeo\",\"marker\":{\"colorbar\":{\"outlinewidth\":0,\"ticks\":\"\"}}}],\"scatterpolar\":[{\"type\":\"scatterpolar\",\"marker\":{\"colorbar\":{\"outlinewidth\":0,\"ticks\":\"\"}}}],\"histogram\":[{\"marker\":{\"pattern\":{\"fillmode\":\"overlay\",\"size\":10,\"solidity\":0.2}},\"type\":\"histogram\"}],\"scattergl\":[{\"type\":\"scattergl\",\"marker\":{\"colorbar\":{\"outlinewidth\":0,\"ticks\":\"\"}}}],\"scatter3d\":[{\"type\":\"scatter3d\",\"line\":{\"colorbar\":{\"outlinewidth\":0,\"ticks\":\"\"}},\"marker\":{\"colorbar\":{\"outlinewidth\":0,\"ticks\":\"\"}}}],\"scattermapbox\":[{\"type\":\"scattermapbox\",\"marker\":{\"colorbar\":{\"outlinewidth\":0,\"ticks\":\"\"}}}],\"scatterternary\":[{\"type\":\"scatterternary\",\"marker\":{\"colorbar\":{\"outlinewidth\":0,\"ticks\":\"\"}}}],\"scattercarpet\":[{\"type\":\"scattercarpet\",\"marker\":{\"colorbar\":{\"outlinewidth\":0,\"ticks\":\"\"}}}],\"carpet\":[{\"aaxis\":{\"endlinecolor\":\"#2a3f5f\",\"gridcolor\":\"white\",\"linecolor\":\"white\",\"minorgridcolor\":\"white\",\"startlinecolor\":\"#2a3f5f\"},\"baxis\":{\"endlinecolor\":\"#2a3f5f\",\"gridcolor\":\"white\",\"linecolor\":\"white\",\"minorgridcolor\":\"white\",\"startlinecolor\":\"#2a3f5f\"},\"type\":\"carpet\"}],\"table\":[{\"cells\":{\"fill\":{\"color\":\"#EBF0F8\"},\"line\":{\"color\":\"white\"}},\"header\":{\"fill\":{\"color\":\"#C8D4E3\"},\"line\":{\"color\":\"white\"}},\"type\":\"table\"}],\"barpolar\":[{\"marker\":{\"line\":{\"color\":\"#E5ECF6\",\"width\":0.5},\"pattern\":{\"fillmode\":\"overlay\",\"size\":10,\"solidity\":0.2}},\"type\":\"barpolar\"}],\"pie\":[{\"automargin\":true,\"type\":\"pie\"}]},\"layout\":{\"autotypenumbers\":\"strict\",\"colorway\":[\"#636efa\",\"#EF553B\",\"#00cc96\",\"#ab63fa\",\"#FFA15A\",\"#19d3f3\",\"#FF6692\",\"#B6E880\",\"#FF97FF\",\"#FECB52\"],\"font\":{\"color\":\"#2a3f5f\"},\"hovermode\":\"closest\",\"hoverlabel\":{\"align\":\"left\"},\"paper_bgcolor\":\"white\",\"plot_bgcolor\":\"#E5ECF6\",\"polar\":{\"bgcolor\":\"#E5ECF6\",\"angularaxis\":{\"gridcolor\":\"white\",\"linecolor\":\"white\",\"ticks\":\"\"},\"radialaxis\":{\"gridcolor\":\"white\",\"linecolor\":\"white\",\"ticks\":\"\"}},\"ternary\":{\"bgcolor\":\"#E5ECF6\",\"aaxis\":{\"gridcolor\":\"white\",\"linecolor\":\"white\",\"ticks\":\"\"},\"baxis\":{\"gridcolor\":\"white\",\"linecolor\":\"white\",\"ticks\":\"\"},\"caxis\":{\"gridcolor\":\"white\",\"linecolor\":\"white\",\"ticks\":\"\"}},\"coloraxis\":{\"colorbar\":{\"outlinewidth\":0,\"ticks\":\"\"}},\"colorscale\":{\"sequential\":[[0.0,\"#0d0887\"],[0.1111111111111111,\"#46039f\"],[0.2222222222222222,\"#7201a8\"],[0.3333333333333333,\"#9c179e\"],[0.4444444444444444,\"#bd3786\"],[0.5555555555555556,\"#d8576b\"],[0.6666666666666666,\"#ed7953\"],[0.7777777777777778,\"#fb9f3a\"],[0.8888888888888888,\"#fdca26\"],[1.0,\"#f0f921\"]],\"sequentialminus\":[[0.0,\"#0d0887\"],[0.1111111111111111,\"#46039f\"],[0.2222222222222222,\"#7201a8\"],[0.3333333333333333,\"#9c179e\"],[0.4444444444444444,\"#bd3786\"],[0.5555555555555556,\"#d8576b\"],[0.6666666666666666,\"#ed7953\"],[0.7777777777777778,\"#fb9f3a\"],[0.8888888888888888,\"#fdca26\"],[1.0,\"#f0f921\"]],\"diverging\":[[0,\"#8e0152\"],[0.1,\"#c51b7d\"],[0.2,\"#de77ae\"],[0.3,\"#f1b6da\"],[0.4,\"#fde0ef\"],[0.5,\"#f7f7f7\"],[0.6,\"#e6f5d0\"],[0.7,\"#b8e186\"],[0.8,\"#7fbc41\"],[0.9,\"#4d9221\"],[1,\"#276419\"]]},\"xaxis\":{\"gridcolor\":\"white\",\"linecolor\":\"white\",\"ticks\":\"\",\"title\":{\"standoff\":15},\"zerolinecolor\":\"white\",\"automargin\":true,\"zerolinewidth\":2},\"yaxis\":{\"gridcolor\":\"white\",\"linecolor\":\"white\",\"ticks\":\"\",\"title\":{\"standoff\":15},\"zerolinecolor\":\"white\",\"automargin\":true,\"zerolinewidth\":2},\"scene\":{\"xaxis\":{\"backgroundcolor\":\"#E5ECF6\",\"gridcolor\":\"white\",\"linecolor\":\"white\",\"showbackground\":true,\"ticks\":\"\",\"zerolinecolor\":\"white\",\"gridwidth\":2},\"yaxis\":{\"backgroundcolor\":\"#E5ECF6\",\"gridcolor\":\"white\",\"linecolor\":\"white\",\"showbackground\":true,\"ticks\":\"\",\"zerolinecolor\":\"white\",\"gridwidth\":2},\"zaxis\":{\"backgroundcolor\":\"#E5ECF6\",\"gridcolor\":\"white\",\"linecolor\":\"white\",\"showbackground\":true,\"ticks\":\"\",\"zerolinecolor\":\"white\",\"gridwidth\":2}},\"shapedefaults\":{\"line\":{\"color\":\"#2a3f5f\"}},\"annotationdefaults\":{\"arrowcolor\":\"#2a3f5f\",\"arrowhead\":0,\"arrowwidth\":1},\"geo\":{\"bgcolor\":\"white\",\"landcolor\":\"#E5ECF6\",\"subunitcolor\":\"white\",\"showland\":true,\"showlakes\":true,\"lakecolor\":\"white\"},\"title\":{\"x\":0.05},\"mapbox\":{\"style\":\"light\"}}},\"xaxis\":{\"anchor\":\"y\",\"domain\":[0.0,1.0],\"title\":{\"text\":\"Age\"}},\"yaxis\":{\"anchor\":\"x\",\"domain\":[0.0,1.0],\"title\":{\"text\":\"BloodPressure\"}},\"coloraxis\":{\"colorbar\":{\"title\":{\"text\":\"Outcome\"}},\"colorscale\":[[0.0,\"#0d0887\"],[0.1111111111111111,\"#46039f\"],[0.2222222222222222,\"#7201a8\"],[0.3333333333333333,\"#9c179e\"],[0.4444444444444444,\"#bd3786\"],[0.5555555555555556,\"#d8576b\"],[0.6666666666666666,\"#ed7953\"],[0.7777777777777778,\"#fb9f3a\"],[0.8888888888888888,\"#fdca26\"],[1.0,\"#f0f921\"]]},\"legend\":{\"tracegroupgap\":0},\"margin\":{\"t\":60}},                        {\"responsive\": true}                    ).then(function(){\n                            \nvar gd = document.getElementById('2c1d3351-beb7-4409-b7e9-a24cdbc62e6c');\nvar x = new MutationObserver(function (mutations, observer) {{\n        var display = window.getComputedStyle(gd).display;\n        if (!display || display === 'none') {{\n            console.log([gd, 'removed!']);\n            Plotly.purge(gd);\n            observer.disconnect();\n        }}\n}});\n\n// Listen for the removal of the full notebook cells\nvar notebookContainer = gd.closest('#notebook-container');\nif (notebookContainer) {{\n    x.observe(notebookContainer, {childList: true});\n}}\n\n// Listen for the clearing of the current output cell\nvar outputEl = gd.closest('.output');\nif (outputEl) {{\n    x.observe(outputEl, {childList: true});\n}}\n\n                        })                };                            </script>        </div>\n</body>\n</html>"
     },
     "execution_count": 30,
     "metadata": {
     },
     "output_type": "execute_result"
    }
   ],
   "source": [
    "import plotly.express as px\n",
    "import pandas as pd\n",
    "\n",
    "diabetes_data = pd.read_csv(\"./Data/diabetes.csv\")\n",
    "\n",
    "import plotly.express as px\n",
    "df = diabetes_data\n",
    "fig = px.scatter(df, x=\"Age\", y=\"BloodPressure\", color=\"Outcome\")\n",
    "fig.show()"
   ]
  },
  {
   "cell_type": "code",
   "execution_count": 31,
   "metadata": {
    "collapsed": false
   },
   "outputs": [
    {
     "data": {
      "text/html": "<html>\n<head><meta charset=\"utf-8\" /></head>\n<body>\n    <div>            <script src=\"https://cdnjs.cloudflare.com/ajax/libs/mathjax/2.7.5/MathJax.js?config=TeX-AMS-MML_SVG\"></script><script type=\"text/javascript\">if (window.MathJax && window.MathJax.Hub && && window.MathJax.Hub.Config) {window.MathJax.Hub.Config({SVG: {font: \"STIX-Web\"}});}</script>                <script type=\"text/javascript\">window.PlotlyConfig = {MathJaxConfig: 'local'};</script>\n        <script src=\"https://cdn.plot.ly/plotly-2.12.1.min.js\"></script>                <div id=\"6915621d-6283-44dd-ad15-981ae6168332\" class=\"plotly-graph-div\" style=\"height:525px; width:100%;\"></div>            <script type=\"text/javascript\">                                    window.PLOTLYENV=window.PLOTLYENV || {};                                    if (document.getElementById(\"6915621d-6283-44dd-ad15-981ae6168332\")) {                    Plotly.newPlot(                        \"6915621d-6283-44dd-ad15-981ae6168332\",                        [{\"hovertemplate\":\"Insulin=%{x}<br>DiabetesPedigreeFunction=%{y}<br>Outcome=%{marker.color}<extra></extra>\",\"legendgroup\":\"\",\"marker\":{\"color\":[1,0,1,0,1,0,1,0,1,1,0,1,0,1,1,1,1,1,0,1,0,0,1,1,1,1,1,0,0,0,0,1,0,0,0,0,0,1,1,1,0,0,0,1,0,1,0,0,1,0,0,0,0,1,0,0,1,0,0,0,0,1,0,0,1,0,1,0,0,0,1,0,1,0,0,0,0,0,1,0,0,0,0,0,1,0,0,0,1,0,0,0,0,1,0,0,0,0,0,1,1,0,0,0,0,0,0,0,0,1,1,1,0,0,1,1,1,0,0,0,1,0,0,0,1,1,0,0,1,1,1,1,1,0,0,0,0,0,0,0,0,0,0,1,0,0,0,0,0,0,0,0,1,0,1,1,0,0,0,1,0,0,0,0,1,1,0,0,0,0,1,1,0,0,0,1,0,1,0,1,0,0,0,0,0,1,1,1,1,1,0,0,1,1,0,1,0,1,1,1,0,0,0,0,0,0,1,1,0,1,0,0,0,1,1,1,1,0,1,1,1,1,0,0,0,0,0,1,0,0,1,1,0,0,0,1,1,1,1,0,0,0,1,1,0,1,0,0,0,0,0,0,0,0,1,1,0,0,0,1,0,1,0,0,1,0,1,0,0,1,1,0,0,0,0,0,1,0,0,0,1,0,0,1,1,0,0,1,0,0,0,1,1,1,0,0,1,0,1,0,1,1,0,1,0,0,1,0,1,1,0,0,1,0,1,0,0,1,0,1,0,1,1,1,0,0,1,0,1,0,0,0,1,0,0,0,0,1,1,1,0,0,0,0,0,0,0,0,0,1,0,0,0,0,0,1,1,1,0,1,1,0,0,1,0,0,1,0,0,1,1,0,0,0,0,1,0,0,1,0,0,0,0,0,0,0,1,1,1,0,0,1,0,0,1,0,0,1,0,1,1,0,1,0,1,0,1,0,1,1,0,0,0,0,1,1,0,1,0,1,0,0,0,0,1,1,0,1,0,1,0,0,0,0,0,1,0,0,0,0,1,0,0,1,1,1,0,0,1,0,0,1,0,0,0,1,0,0,1,0,0,0,0,0,0,0,0,0,1,0,0,0,0,0,0,0,1,0,0,0,1,0,0,0,1,1,0,0,0,0,0,0,0,1,0,0,0,0,1,0,0,0,1,0,0,0,1,0,0,0,1,0,0,0,0,1,1,0,0,0,0,0,0,1,0,0,0,0,0,0,0,0,0,0,0,1,0,0,0,1,1,1,1,0,0,1,1,0,0,0,0,0,0,0,0,0,0,0,0,0,1,1,0,0,0,0,0,0,0,1,0,0,0,0,0,0,0,1,0,1,1,0,0,0,1,0,1,0,1,0,1,0,1,0,0,1,0,0,1,0,0,0,0,1,1,0,1,0,0,0,0,1,1,0,1,0,0,0,1,1,0,0,0,0,0,0,0,0,0,0,1,0,0,0,0,1,0,0,1,0,0,0,1,0,0,0,1,1,1,0,0,0,0,0,0,1,0,0,0,1,0,1,1,1,1,0,1,1,0,0,0,0,0,0,0,1,1,0,1,0,0,1,0,1,0,0,0,0,0,1,0,1,0,1,0,1,1,0,0,0,0,1,1,0,0,0,1,0,1,1,0,0,1,0,0,1,1,0,0,1,0,0,1,0,0,0,0,0,0,0,1,1,1,0,0,0,0,0,0,1,1,0,0,1,0,0,1,0,1,1,1,0,0,1,1,1,0,1,0,1,0,1,0,0,0,0,1,0],\"coloraxis\":\"coloraxis\",\"symbol\":\"circle\"},\"mode\":\"markers\",\"name\":\"\",\"orientation\":\"v\",\"showlegend\":false,\"x\":[0,0,0,94,168,0,88,0,543,0,0,0,0,846,175,0,230,0,83,96,235,0,0,0,146,115,0,140,110,0,0,245,54,0,0,192,0,0,0,207,70,0,0,240,0,0,0,0,0,0,82,36,23,300,342,0,304,110,0,142,0,0,0,128,0,0,0,0,38,100,90,140,0,270,0,0,0,0,0,0,0,0,71,0,0,125,0,71,110,0,0,176,48,0,64,228,0,76,64,220,0,0,0,40,0,152,0,140,18,36,135,495,37,0,175,0,0,0,0,51,100,0,100,0,0,99,135,94,145,0,168,0,225,0,49,140,50,92,0,325,0,0,63,0,284,0,0,119,0,0,204,0,155,485,0,0,94,135,53,114,0,105,285,0,0,156,0,0,0,78,0,130,0,48,55,130,0,130,0,0,0,92,23,0,0,0,495,58,114,160,0,94,0,0,0,210,0,48,99,318,0,0,0,44,190,0,280,0,87,0,0,0,0,130,175,271,129,120,0,0,478,0,0,190,56,32,0,0,744,53,0,370,37,0,45,0,192,0,0,0,0,88,0,176,194,0,0,680,402,0,0,0,55,0,258,0,0,0,375,150,130,0,0,0,0,67,0,0,0,0,0,56,0,45,0,57,0,116,0,278,0,122,155,0,0,135,545,220,49,75,40,74,182,194,0,120,360,215,184,0,0,135,42,0,0,105,132,148,180,205,0,148,96,85,0,94,64,0,140,0,231,0,0,29,0,168,156,0,120,68,0,52,0,0,58,255,0,0,171,0,105,73,0,0,0,108,83,0,74,0,0,0,0,43,0,0,167,0,54,249,325,0,0,0,293,83,0,0,66,140,465,89,66,94,158,325,84,75,0,72,82,0,182,59,110,50,0,0,285,81,196,0,415,87,0,275,115,0,0,0,0,0,88,0,0,165,0,0,0,579,0,176,310,61,167,474,0,0,0,115,170,76,78,0,210,277,0,180,145,180,0,85,60,0,0,0,0,0,0,0,0,50,120,0,0,14,70,92,64,63,95,0,210,0,105,0,0,71,237,60,56,0,49,0,0,105,36,100,0,140,0,0,0,0,0,0,191,110,75,0,328,0,49,125,0,250,480,265,0,0,66,0,0,122,0,0,0,76,145,193,71,0,0,79,0,0,90,170,76,0,0,210,0,0,86,105,165,0,0,326,66,130,0,0,0,0,82,105,188,0,106,0,65,0,56,0,0,0,210,155,215,190,0,56,76,225,207,166,67,0,0,106,0,44,115,215,0,0,0,0,0,274,77,54,0,88,18,126,126,165,0,0,44,120,330,63,130,0,0,0,0,0,0,0,600,0,0,0,156,0,0,140,0,115,230,185,0,25,0,120,0,0,0,126,0,0,293,41,272,182,158,194,321,0,144,0,0,15,0,0,160,0,0,115,0,54,0,0,0,0,0,90,0,183,0,0,0,66,91,46,105,0,0,0,152,440,144,159,130,0,100,106,77,0,135,540,90,200,0,70,0,0,231,130,0,132,0,0,190,100,168,0,49,240,0,0,0,0,0,265,45,0,105,0,0,205,0,0,180,180,0,0,95,125,0,480,125,0,155,0,200,0,0,0,100,0,0,335,0,160,387,22,0,291,0,392,185,0,178,0,0,200,127,105,0,0,180,0,0,0,79,0,120,165,0,0,120,0,160,0,150,94,116,0,140,105,0,57,200,0,0,74,0,510,0,110,0,0,0,0,16,0,0,180,0,112,0,0],\"xaxis\":\"x\",\"y\":[0.627,0.351,0.672,0.167,2.288,0.201,0.248,0.134,0.158,0.232,0.191,0.537,1.441,0.398,0.587,0.484,0.551,0.254,0.183,0.529,0.704,0.388,0.451,0.263,0.254,0.205,0.257,0.487,0.245,0.337,0.546,0.851,0.267,0.188,0.512,0.966,0.42,0.665,0.503,1.39,0.271,0.696,0.235,0.721,0.294,1.893,0.564,0.586,0.344,0.305,0.491,0.526,0.342,0.467,0.718,0.248,0.254,0.962,1.781,0.173,0.304,0.27,0.587,0.699,0.258,0.203,0.855,0.845,0.334,0.189,0.867,0.411,0.583,0.231,0.396,0.14,0.391,0.37,0.27,0.307,0.14,0.102,0.767,0.237,0.227,0.698,0.178,0.324,0.153,0.165,0.258,0.443,0.261,0.277,0.761,0.255,0.13,0.323,0.356,0.325,1.222,0.179,0.262,0.283,0.93,0.801,0.207,0.287,0.336,0.247,0.199,0.543,0.192,0.391,0.588,0.539,0.22,0.654,0.443,0.223,0.759,0.26,0.404,0.186,0.278,0.496,0.452,0.261,0.403,0.741,0.361,1.114,0.356,0.457,0.647,0.088,0.597,0.532,0.703,0.159,0.268,0.286,0.318,0.272,0.237,0.572,0.096,1.4,0.218,0.085,0.399,0.432,1.189,0.687,0.137,0.337,0.637,0.833,0.229,0.817,0.294,0.204,0.167,0.368,0.743,0.722,0.256,0.709,0.471,0.495,0.18,0.542,0.773,0.678,0.37,0.719,0.382,0.319,0.19,0.956,0.084,0.725,0.299,0.268,0.244,0.745,0.615,1.321,0.64,0.361,0.142,0.374,0.383,0.578,0.136,0.395,0.187,0.678,0.905,0.15,0.874,0.236,0.787,0.235,0.324,0.407,0.605,0.151,0.289,0.355,0.29,0.375,0.164,0.431,0.26,0.742,0.514,0.464,1.224,0.261,1.072,0.805,0.209,0.687,0.666,0.101,0.198,0.652,2.329,0.089,0.645,0.238,0.583,0.394,0.293,0.479,0.586,0.686,0.831,0.582,0.192,0.446,0.402,1.318,0.329,1.213,0.258,0.427,0.282,0.143,0.38,0.284,0.249,0.238,0.926,0.543,0.557,0.092,0.655,1.353,0.299,0.761,0.612,0.2,0.226,0.997,0.933,1.101,0.078,0.24,1.136,0.128,0.254,0.422,0.251,0.677,0.296,0.454,0.744,0.881,0.334,0.28,0.262,0.165,0.259,0.647,0.619,0.808,0.34,0.263,0.434,0.757,1.224,0.613,0.254,0.692,0.337,0.52,0.412,0.84,0.839,0.422,0.156,0.209,0.207,0.215,0.326,0.143,1.391,0.875,0.313,0.605,0.433,0.626,1.127,0.315,0.284,0.345,0.15,0.129,0.527,0.197,0.254,0.731,0.148,0.123,0.692,0.2,0.127,0.122,1.476,0.166,0.282,0.137,0.26,0.259,0.932,0.343,0.893,0.331,0.472,0.673,0.389,0.29,0.485,0.349,0.654,0.187,0.279,0.346,0.237,0.252,0.243,0.58,0.559,0.302,0.962,0.569,0.378,0.875,0.583,0.207,0.305,0.52,0.385,0.499,0.368,0.252,0.306,0.234,2.137,1.731,0.545,0.225,0.816,0.528,0.299,0.509,0.238,1.021,0.821,0.236,0.947,1.268,0.221,0.205,0.66,0.239,0.452,0.949,0.444,0.34,0.389,0.463,0.803,1.6,0.944,0.196,0.389,0.241,0.161,0.151,0.286,0.28,0.135,0.52,0.376,0.336,1.191,0.702,0.674,0.528,1.076,0.256,0.534,0.258,1.095,0.554,0.624,0.219,0.507,0.561,0.496,0.421,0.516,0.264,0.256,0.328,0.284,0.233,0.108,0.551,0.527,0.167,1.138,0.205,0.244,0.434,0.147,0.727,0.435,0.497,0.23,0.955,0.38,2.42,0.658,0.33,0.51,0.285,0.415,0.542,0.381,0.832,0.498,0.212,0.687,0.364,1.001,0.46,0.733,0.416,0.705,0.258,1.022,0.452,0.269,0.6,0.183,0.571,0.607,0.17,0.259,0.21,0.126,0.231,0.711,0.466,0.162,0.419,0.344,0.197,0.306,0.233,0.63,0.365,0.536,1.159,0.294,0.551,0.629,0.292,0.145,1.144,0.174,0.304,0.292,0.547,0.163,0.839,0.313,0.267,0.727,0.738,0.238,0.263,0.314,0.692,0.968,0.409,0.297,0.207,0.2,0.525,0.154,0.268,0.771,0.304,0.18,0.582,0.187,0.305,0.189,0.652,0.151,0.444,0.299,0.107,0.493,0.66,0.717,0.686,0.917,0.501,1.251,0.302,0.197,0.735,0.804,0.968,0.661,0.549,0.825,0.159,0.365,0.423,1.034,0.16,0.341,0.68,0.204,0.591,0.247,0.422,0.471,0.161,0.218,0.237,0.126,0.3,0.121,0.502,0.401,0.497,0.601,0.748,0.412,0.085,0.338,0.203,0.27,0.268,0.43,0.198,0.892,0.28,0.813,0.693,0.245,0.575,0.371,0.206,0.259,0.19,0.687,0.417,0.129,0.249,1.154,0.342,0.925,0.175,0.402,1.699,0.733,0.682,0.194,0.559,0.088,0.407,0.4,0.19,0.1,0.692,0.212,0.514,1.258,0.482,0.27,0.138,0.292,0.593,0.787,0.878,0.557,0.207,0.157,0.257,1.282,0.141,0.246,1.698,1.461,0.347,0.158,0.362,0.206,0.393,0.144,0.148,0.732,0.238,0.343,0.115,0.167,0.465,0.153,0.649,0.871,0.149,0.695,0.303,0.178,0.61,0.73,0.134,0.447,0.455,0.26,0.133,0.234,0.466,0.269,0.455,0.142,0.24,0.155,1.162,0.19,1.292,0.182,1.394,0.165,0.637,0.245,0.217,0.235,0.141,0.43,0.164,0.631,0.551,0.285,0.88,0.587,0.328,0.23,0.263,0.127,0.614,0.332,0.364,0.366,0.536,0.64,0.591,0.314,0.181,0.828,0.335,0.856,0.257,0.886,0.439,0.191,0.128,0.268,0.253,0.598,0.904,0.483,0.565,0.905,0.304,0.118,0.177,0.261,0.176,0.148,0.674,0.295,0.439,0.441,0.352,0.121,0.826,0.97,0.595,0.415,0.378,0.317,0.289,0.349,0.251,0.265,0.236,0.496,0.433,0.326,0.141,0.323,0.259,0.646,0.426,0.56,0.284,0.515,0.6,0.453,0.293,0.785,0.4,0.219,0.734,1.174,0.488,0.358,1.096,0.408,0.178,1.182,0.261,0.223,0.222,0.443,1.057,0.391,0.258,0.197,0.278,0.766,0.403,0.142,0.171,0.34,0.245,0.349,0.315],\"yaxis\":\"y\",\"type\":\"scatter\"}],                        {\"template\":{\"data\":{\"histogram2dcontour\":[{\"type\":\"histogram2dcontour\",\"colorbar\":{\"outlinewidth\":0,\"ticks\":\"\"},\"colorscale\":[[0.0,\"#0d0887\"],[0.1111111111111111,\"#46039f\"],[0.2222222222222222,\"#7201a8\"],[0.3333333333333333,\"#9c179e\"],[0.4444444444444444,\"#bd3786\"],[0.5555555555555556,\"#d8576b\"],[0.6666666666666666,\"#ed7953\"],[0.7777777777777778,\"#fb9f3a\"],[0.8888888888888888,\"#fdca26\"],[1.0,\"#f0f921\"]]}],\"choropleth\":[{\"type\":\"choropleth\",\"colorbar\":{\"outlinewidth\":0,\"ticks\":\"\"}}],\"histogram2d\":[{\"type\":\"histogram2d\",\"colorbar\":{\"outlinewidth\":0,\"ticks\":\"\"},\"colorscale\":[[0.0,\"#0d0887\"],[0.1111111111111111,\"#46039f\"],[0.2222222222222222,\"#7201a8\"],[0.3333333333333333,\"#9c179e\"],[0.4444444444444444,\"#bd3786\"],[0.5555555555555556,\"#d8576b\"],[0.6666666666666666,\"#ed7953\"],[0.7777777777777778,\"#fb9f3a\"],[0.8888888888888888,\"#fdca26\"],[1.0,\"#f0f921\"]]}],\"heatmap\":[{\"type\":\"heatmap\",\"colorbar\":{\"outlinewidth\":0,\"ticks\":\"\"},\"colorscale\":[[0.0,\"#0d0887\"],[0.1111111111111111,\"#46039f\"],[0.2222222222222222,\"#7201a8\"],[0.3333333333333333,\"#9c179e\"],[0.4444444444444444,\"#bd3786\"],[0.5555555555555556,\"#d8576b\"],[0.6666666666666666,\"#ed7953\"],[0.7777777777777778,\"#fb9f3a\"],[0.8888888888888888,\"#fdca26\"],[1.0,\"#f0f921\"]]}],\"heatmapgl\":[{\"type\":\"heatmapgl\",\"colorbar\":{\"outlinewidth\":0,\"ticks\":\"\"},\"colorscale\":[[0.0,\"#0d0887\"],[0.1111111111111111,\"#46039f\"],[0.2222222222222222,\"#7201a8\"],[0.3333333333333333,\"#9c179e\"],[0.4444444444444444,\"#bd3786\"],[0.5555555555555556,\"#d8576b\"],[0.6666666666666666,\"#ed7953\"],[0.7777777777777778,\"#fb9f3a\"],[0.8888888888888888,\"#fdca26\"],[1.0,\"#f0f921\"]]}],\"contourcarpet\":[{\"type\":\"contourcarpet\",\"colorbar\":{\"outlinewidth\":0,\"ticks\":\"\"}}],\"contour\":[{\"type\":\"contour\",\"colorbar\":{\"outlinewidth\":0,\"ticks\":\"\"},\"colorscale\":[[0.0,\"#0d0887\"],[0.1111111111111111,\"#46039f\"],[0.2222222222222222,\"#7201a8\"],[0.3333333333333333,\"#9c179e\"],[0.4444444444444444,\"#bd3786\"],[0.5555555555555556,\"#d8576b\"],[0.6666666666666666,\"#ed7953\"],[0.7777777777777778,\"#fb9f3a\"],[0.8888888888888888,\"#fdca26\"],[1.0,\"#f0f921\"]]}],\"surface\":[{\"type\":\"surface\",\"colorbar\":{\"outlinewidth\":0,\"ticks\":\"\"},\"colorscale\":[[0.0,\"#0d0887\"],[0.1111111111111111,\"#46039f\"],[0.2222222222222222,\"#7201a8\"],[0.3333333333333333,\"#9c179e\"],[0.4444444444444444,\"#bd3786\"],[0.5555555555555556,\"#d8576b\"],[0.6666666666666666,\"#ed7953\"],[0.7777777777777778,\"#fb9f3a\"],[0.8888888888888888,\"#fdca26\"],[1.0,\"#f0f921\"]]}],\"mesh3d\":[{\"type\":\"mesh3d\",\"colorbar\":{\"outlinewidth\":0,\"ticks\":\"\"}}],\"scatter\":[{\"fillpattern\":{\"fillmode\":\"overlay\",\"size\":10,\"solidity\":0.2},\"type\":\"scatter\"}],\"parcoords\":[{\"type\":\"parcoords\",\"line\":{\"colorbar\":{\"outlinewidth\":0,\"ticks\":\"\"}}}],\"scatterpolargl\":[{\"type\":\"scatterpolargl\",\"marker\":{\"colorbar\":{\"outlinewidth\":0,\"ticks\":\"\"}}}],\"bar\":[{\"error_x\":{\"color\":\"#2a3f5f\"},\"error_y\":{\"color\":\"#2a3f5f\"},\"marker\":{\"line\":{\"color\":\"#E5ECF6\",\"width\":0.5},\"pattern\":{\"fillmode\":\"overlay\",\"size\":10,\"solidity\":0.2}},\"type\":\"bar\"}],\"scattergeo\":[{\"type\":\"scattergeo\",\"marker\":{\"colorbar\":{\"outlinewidth\":0,\"ticks\":\"\"}}}],\"scatterpolar\":[{\"type\":\"scatterpolar\",\"marker\":{\"colorbar\":{\"outlinewidth\":0,\"ticks\":\"\"}}}],\"histogram\":[{\"marker\":{\"pattern\":{\"fillmode\":\"overlay\",\"size\":10,\"solidity\":0.2}},\"type\":\"histogram\"}],\"scattergl\":[{\"type\":\"scattergl\",\"marker\":{\"colorbar\":{\"outlinewidth\":0,\"ticks\":\"\"}}}],\"scatter3d\":[{\"type\":\"scatter3d\",\"line\":{\"colorbar\":{\"outlinewidth\":0,\"ticks\":\"\"}},\"marker\":{\"colorbar\":{\"outlinewidth\":0,\"ticks\":\"\"}}}],\"scattermapbox\":[{\"type\":\"scattermapbox\",\"marker\":{\"colorbar\":{\"outlinewidth\":0,\"ticks\":\"\"}}}],\"scatterternary\":[{\"type\":\"scatterternary\",\"marker\":{\"colorbar\":{\"outlinewidth\":0,\"ticks\":\"\"}}}],\"scattercarpet\":[{\"type\":\"scattercarpet\",\"marker\":{\"colorbar\":{\"outlinewidth\":0,\"ticks\":\"\"}}}],\"carpet\":[{\"aaxis\":{\"endlinecolor\":\"#2a3f5f\",\"gridcolor\":\"white\",\"linecolor\":\"white\",\"minorgridcolor\":\"white\",\"startlinecolor\":\"#2a3f5f\"},\"baxis\":{\"endlinecolor\":\"#2a3f5f\",\"gridcolor\":\"white\",\"linecolor\":\"white\",\"minorgridcolor\":\"white\",\"startlinecolor\":\"#2a3f5f\"},\"type\":\"carpet\"}],\"table\":[{\"cells\":{\"fill\":{\"color\":\"#EBF0F8\"},\"line\":{\"color\":\"white\"}},\"header\":{\"fill\":{\"color\":\"#C8D4E3\"},\"line\":{\"color\":\"white\"}},\"type\":\"table\"}],\"barpolar\":[{\"marker\":{\"line\":{\"color\":\"#E5ECF6\",\"width\":0.5},\"pattern\":{\"fillmode\":\"overlay\",\"size\":10,\"solidity\":0.2}},\"type\":\"barpolar\"}],\"pie\":[{\"automargin\":true,\"type\":\"pie\"}]},\"layout\":{\"autotypenumbers\":\"strict\",\"colorway\":[\"#636efa\",\"#EF553B\",\"#00cc96\",\"#ab63fa\",\"#FFA15A\",\"#19d3f3\",\"#FF6692\",\"#B6E880\",\"#FF97FF\",\"#FECB52\"],\"font\":{\"color\":\"#2a3f5f\"},\"hovermode\":\"closest\",\"hoverlabel\":{\"align\":\"left\"},\"paper_bgcolor\":\"white\",\"plot_bgcolor\":\"#E5ECF6\",\"polar\":{\"bgcolor\":\"#E5ECF6\",\"angularaxis\":{\"gridcolor\":\"white\",\"linecolor\":\"white\",\"ticks\":\"\"},\"radialaxis\":{\"gridcolor\":\"white\",\"linecolor\":\"white\",\"ticks\":\"\"}},\"ternary\":{\"bgcolor\":\"#E5ECF6\",\"aaxis\":{\"gridcolor\":\"white\",\"linecolor\":\"white\",\"ticks\":\"\"},\"baxis\":{\"gridcolor\":\"white\",\"linecolor\":\"white\",\"ticks\":\"\"},\"caxis\":{\"gridcolor\":\"white\",\"linecolor\":\"white\",\"ticks\":\"\"}},\"coloraxis\":{\"colorbar\":{\"outlinewidth\":0,\"ticks\":\"\"}},\"colorscale\":{\"sequential\":[[0.0,\"#0d0887\"],[0.1111111111111111,\"#46039f\"],[0.2222222222222222,\"#7201a8\"],[0.3333333333333333,\"#9c179e\"],[0.4444444444444444,\"#bd3786\"],[0.5555555555555556,\"#d8576b\"],[0.6666666666666666,\"#ed7953\"],[0.7777777777777778,\"#fb9f3a\"],[0.8888888888888888,\"#fdca26\"],[1.0,\"#f0f921\"]],\"sequentialminus\":[[0.0,\"#0d0887\"],[0.1111111111111111,\"#46039f\"],[0.2222222222222222,\"#7201a8\"],[0.3333333333333333,\"#9c179e\"],[0.4444444444444444,\"#bd3786\"],[0.5555555555555556,\"#d8576b\"],[0.6666666666666666,\"#ed7953\"],[0.7777777777777778,\"#fb9f3a\"],[0.8888888888888888,\"#fdca26\"],[1.0,\"#f0f921\"]],\"diverging\":[[0,\"#8e0152\"],[0.1,\"#c51b7d\"],[0.2,\"#de77ae\"],[0.3,\"#f1b6da\"],[0.4,\"#fde0ef\"],[0.5,\"#f7f7f7\"],[0.6,\"#e6f5d0\"],[0.7,\"#b8e186\"],[0.8,\"#7fbc41\"],[0.9,\"#4d9221\"],[1,\"#276419\"]]},\"xaxis\":{\"gridcolor\":\"white\",\"linecolor\":\"white\",\"ticks\":\"\",\"title\":{\"standoff\":15},\"zerolinecolor\":\"white\",\"automargin\":true,\"zerolinewidth\":2},\"yaxis\":{\"gridcolor\":\"white\",\"linecolor\":\"white\",\"ticks\":\"\",\"title\":{\"standoff\":15},\"zerolinecolor\":\"white\",\"automargin\":true,\"zerolinewidth\":2},\"scene\":{\"xaxis\":{\"backgroundcolor\":\"#E5ECF6\",\"gridcolor\":\"white\",\"linecolor\":\"white\",\"showbackground\":true,\"ticks\":\"\",\"zerolinecolor\":\"white\",\"gridwidth\":2},\"yaxis\":{\"backgroundcolor\":\"#E5ECF6\",\"gridcolor\":\"white\",\"linecolor\":\"white\",\"showbackground\":true,\"ticks\":\"\",\"zerolinecolor\":\"white\",\"gridwidth\":2},\"zaxis\":{\"backgroundcolor\":\"#E5ECF6\",\"gridcolor\":\"white\",\"linecolor\":\"white\",\"showbackground\":true,\"ticks\":\"\",\"zerolinecolor\":\"white\",\"gridwidth\":2}},\"shapedefaults\":{\"line\":{\"color\":\"#2a3f5f\"}},\"annotationdefaults\":{\"arrowcolor\":\"#2a3f5f\",\"arrowhead\":0,\"arrowwidth\":1},\"geo\":{\"bgcolor\":\"white\",\"landcolor\":\"#E5ECF6\",\"subunitcolor\":\"white\",\"showland\":true,\"showlakes\":true,\"lakecolor\":\"white\"},\"title\":{\"x\":0.05},\"mapbox\":{\"style\":\"light\"}}},\"xaxis\":{\"anchor\":\"y\",\"domain\":[0.0,1.0],\"title\":{\"text\":\"Insulin\"}},\"yaxis\":{\"anchor\":\"x\",\"domain\":[0.0,1.0],\"title\":{\"text\":\"DiabetesPedigreeFunction\"}},\"coloraxis\":{\"colorbar\":{\"title\":{\"text\":\"Outcome\"}},\"colorscale\":[[0.0,\"#0d0887\"],[0.1111111111111111,\"#46039f\"],[0.2222222222222222,\"#7201a8\"],[0.3333333333333333,\"#9c179e\"],[0.4444444444444444,\"#bd3786\"],[0.5555555555555556,\"#d8576b\"],[0.6666666666666666,\"#ed7953\"],[0.7777777777777778,\"#fb9f3a\"],[0.8888888888888888,\"#fdca26\"],[1.0,\"#f0f921\"]]},\"legend\":{\"tracegroupgap\":0},\"margin\":{\"t\":60}},                        {\"responsive\": true}                    ).then(function(){\n                            \nvar gd = document.getElementById('6915621d-6283-44dd-ad15-981ae6168332');\nvar x = new MutationObserver(function (mutations, observer) {{\n        var display = window.getComputedStyle(gd).display;\n        if (!display || display === 'none') {{\n            console.log([gd, 'removed!']);\n            Plotly.purge(gd);\n            observer.disconnect();\n        }}\n}});\n\n// Listen for the removal of the full notebook cells\nvar notebookContainer = gd.closest('#notebook-container');\nif (notebookContainer) {{\n    x.observe(notebookContainer, {childList: true});\n}}\n\n// Listen for the clearing of the current output cell\nvar outputEl = gd.closest('.output');\nif (outputEl) {{\n    x.observe(outputEl, {childList: true});\n}}\n\n                        })                };                            </script>        </div>\n</body>\n</html>"
     },
     "execution_count": 31,
     "metadata": {
     },
     "output_type": "execute_result"
    }
   ],
   "source": [
    "import plotly.express as px\n",
    "import pandas as pd\n",
    "\n",
    "diabetes_data = pd.read_csv(\"./Data/diabetes.csv\")\n",
    "\n",
    "import plotly.express as px\n",
    "df = diabetes_data\n",
    "fig = px.scatter(df, x=\"Insulin\", y=\"DiabetesPedigreeFunction\", color=\"Outcome\")\n",
    "fig.show()"
   ]
  },
  {
   "cell_type": "code",
   "execution_count": 32,
   "metadata": {
    "collapsed": false
   },
   "outputs": [
    {
     "data": {
      "text/html": "<html>\n<head><meta charset=\"utf-8\" /></head>\n<body>\n    <div>            <script src=\"https://cdnjs.cloudflare.com/ajax/libs/mathjax/2.7.5/MathJax.js?config=TeX-AMS-MML_SVG\"></script><script type=\"text/javascript\">if (window.MathJax && window.MathJax.Hub && && window.MathJax.Hub.Config) {window.MathJax.Hub.Config({SVG: {font: \"STIX-Web\"}});}</script>                <script type=\"text/javascript\">window.PlotlyConfig = {MathJaxConfig: 'local'};</script>\n        <script src=\"https://cdn.plot.ly/plotly-2.12.1.min.js\"></script>                <div id=\"ab5a905d-2fba-47cb-8e60-0e96b23d2c95\" class=\"plotly-graph-div\" style=\"height:525px; width:100%;\"></div>            <script type=\"text/javascript\">                                    window.PLOTLYENV=window.PLOTLYENV || {};                                    if (document.getElementById(\"ab5a905d-2fba-47cb-8e60-0e96b23d2c95\")) {                    Plotly.newPlot(                        \"ab5a905d-2fba-47cb-8e60-0e96b23d2c95\",                        [{\"alignmentgroup\":\"True\",\"box\":{\"visible\":false},\"hovertemplate\":\"Outcome=1<br>Glucose=%{x}<br>BloodPressure=%{y}<extra></extra>\",\"legendgroup\":\"1\",\"marker\":{\"color\":\"#636efa\"},\"name\":\"1\",\"offsetgroup\":\"1\",\"orientation\":\"v\",\"scalegroup\":\"True\",\"showlegend\":true,\"x\":[148,183,137,78,197,125,168,189,166,100,118,107,115,196,119,143,125,147,158,102,90,111,171,180,103,176,187,133,114,109,100,126,131,137,136,134,122,163,95,171,155,160,146,124,162,113,88,117,105,173,122,170,108,156,188,152,163,131,104,102,134,179,129,130,194,181,128,109,139,159,135,158,107,109,148,196,162,184,140,112,151,109,85,112,177,158,162,142,134,171,181,179,164,139,119,184,92,113,155,141,123,138,146,101,106,146,161,108,119,107,128,128,146,100,167,144,115,161,128,124,155,109,182,194,112,124,152,122,102,180,115,152,178,0,165,125,129,196,189,146,124,133,173,140,156,116,105,144,166,158,131,193,95,136,168,115,197,172,138,173,144,129,151,184,181,95,141,189,108,117,180,104,134,175,148,120,105,158,145,135,125,195,0,180,84,163,145,130,132,129,100,128,90,186,187,125,198,121,118,197,151,124,143,176,111,132,188,173,150,183,181,174,168,138,112,119,114,104,97,147,167,179,136,155,80,199,167,145,115,145,111,195,156,121,162,125,144,158,129,142,169,125,168,115,164,93,129,187,173,97,149,130,120,174,102,120,140,147,187,162,136,181,154,128,123,190,170,126],\"x0\":\" \",\"xaxis\":\"x\",\"y\":[72,64,40,50,70,96,74,60,72,0,84,74,70,90,80,94,70,76,76,76,68,72,110,66,66,90,68,72,66,88,66,90,0,108,70,72,90,72,85,72,62,54,92,74,76,76,30,88,84,70,56,64,66,86,78,88,72,88,74,82,70,72,110,82,68,68,98,76,80,66,0,84,62,64,60,76,104,84,65,82,70,62,74,66,60,90,52,86,80,72,84,90,84,54,50,85,62,64,76,0,62,0,0,86,60,70,86,80,86,62,78,48,70,78,0,58,98,68,68,68,74,80,74,78,74,70,90,64,86,0,76,78,84,80,88,50,0,76,64,78,72,102,82,82,75,74,100,82,76,78,66,70,64,84,64,72,74,68,60,84,82,64,78,78,64,82,0,104,70,62,78,64,70,62,84,0,80,70,0,68,70,70,68,90,72,70,88,70,0,92,74,72,85,90,76,76,66,66,80,70,90,76,66,86,84,80,82,74,78,0,78,58,88,74,82,0,64,72,76,80,74,50,84,52,82,76,106,80,60,82,70,70,86,52,76,80,82,114,68,90,74,78,88,0,78,64,62,50,78,76,68,78,86,88,74,80,94,94,70,62,70,88,78,88,72,92,74,60],\"y0\":\" \",\"yaxis\":\"y\",\"type\":\"violin\"},{\"alignmentgroup\":\"True\",\"box\":{\"visible\":false},\"hovertemplate\":\"Outcome=0<br>Glucose=%{x}<br>BloodPressure=%{y}<extra></extra>\",\"legendgroup\":\"0\",\"marker\":{\"color\":\"#EF553B\"},\"name\":\"0\",\"offsetgroup\":\"0\",\"orientation\":\"v\",\"scalegroup\":\"True\",\"showlegend\":true,\"x\":[85,89,116,115,110,139,103,126,99,97,145,117,109,88,92,122,103,138,180,133,106,159,146,71,105,103,101,88,150,73,100,146,105,84,44,141,99,109,95,146,139,129,79,0,62,95,112,113,74,83,101,110,106,100,107,80,123,81,142,144,92,71,93,151,125,81,85,126,96,144,83,89,76,78,97,99,111,107,132,120,118,84,96,125,100,93,129,105,128,106,108,154,102,57,106,147,90,136,114,153,99,109,88,151,102,114,100,148,120,110,111,87,79,75,85,143,87,119,0,73,141,111,123,85,105,113,138,108,99,103,111,96,81,147,179,125,119,142,100,87,101,197,117,79,122,74,104,91,91,146,122,165,124,111,106,129,90,86,111,114,193,191,95,142,96,128,102,108,122,71,106,100,104,114,108,129,133,136,155,96,108,78,161,151,126,112,77,150,120,137,80,106,113,112,99,115,129,112,157,179,105,118,87,106,95,165,117,130,95,0,122,95,126,139,116,99,92,137,61,90,90,88,158,103,147,99,101,81,118,84,105,122,98,87,93,107,105,109,90,125,119,100,100,131,116,127,96,82,137,72,123,101,102,112,143,143,97,83,119,94,102,115,94,135,99,89,80,139,90,140,147,97,107,83,117,100,95,120,82,91,119,100,135,86,134,120,71,74,88,115,124,74,97,154,144,137,119,136,114,137,114,126,132,123,85,84,139,173,99,194,83,89,99,80,166,110,81,154,117,84,94,96,75,130,84,120,139,91,91,99,125,76,129,68,124,114,125,87,97,116,117,111,122,107,86,91,77,105,57,127,84,88,131,164,189,116,84,114,88,84,124,97,110,103,85,87,99,91,95,99,92,154,78,130,111,98,143,119,108,133,109,121,100,93,103,73,112,82,123,67,89,109,108,96,124,124,92,152,111,106,105,106,117,68,112,92,183,94,108,90,125,132,128,94,102,111,128,92,104,94,100,102,128,90,103,157,107,91,117,123,120,106,101,120,127,162,112,98,154,165,99,68,123,91,93,101,56,95,136,129,130,107,140,107,121,90,99,127,118,122,129,110,80,127,158,126,134,102,94,108,83,114,117,111,112,116,141,175,92,106,105,95,126,65,99,102,109,153,100,81,121,108,137,106,88,89,101,122,121,93],\"x0\":\" \",\"xaxis\":\"x\",\"y\":[66,66,74,0,92,80,30,88,84,66,82,92,75,58,92,78,60,76,64,84,92,64,56,70,0,80,50,66,66,50,88,82,64,0,62,58,74,92,66,85,64,86,75,48,78,72,66,44,0,78,65,74,72,68,68,55,80,78,82,72,62,48,50,60,96,72,65,56,122,58,58,76,62,48,60,76,64,74,80,70,58,74,68,60,70,60,80,72,78,82,52,62,75,80,64,78,70,74,65,82,52,56,74,90,74,80,64,66,68,66,90,0,60,64,78,78,80,64,74,60,74,62,70,55,58,80,82,68,70,72,72,64,60,85,95,68,0,60,66,78,76,70,80,80,68,68,76,64,70,76,68,90,70,86,52,84,80,68,56,68,50,68,70,80,74,64,52,62,78,78,70,70,64,74,62,76,88,74,84,56,72,88,50,62,84,72,82,76,76,68,66,70,50,68,80,66,60,75,72,70,70,72,58,80,60,76,0,70,74,68,86,72,88,46,0,62,80,84,82,62,78,74,70,108,74,54,64,86,64,64,58,52,82,60,100,72,68,60,62,70,54,68,66,64,72,58,56,70,61,78,48,62,90,72,84,74,68,68,88,68,64,64,0,94,0,74,74,75,68,85,75,70,88,66,64,72,80,74,64,68,0,54,54,68,74,72,62,70,78,98,56,52,64,78,82,70,66,90,64,84,76,74,86,88,58,82,62,78,72,80,65,90,68,0,74,68,72,74,90,72,64,78,82,60,50,78,62,68,62,54,86,60,90,70,80,0,58,60,64,74,66,65,60,76,66,0,56,90,60,80,90,78,68,82,110,70,68,88,62,64,70,70,76,68,74,68,60,80,54,72,62,72,70,96,58,60,86,44,44,68,60,78,76,56,66,0,78,52,72,76,24,38,88,0,74,60,62,82,62,54,80,72,96,62,86,76,94,70,64,88,68,78,80,65,78,60,82,62,74,76,74,86,70,0,72,74,60,54,60,74,54,70,58,80,106,84,80,58,78,68,58,106,100,82,60,58,56,64,82,74,64,50,74,80,70,60,0,88,70,76,0,76,80,46,64,78,58,74,72,60,86,66,86,94,78,78,84,88,52,56,75,60,86,72,60,44,58,88,84,74,78,62,90,76,58,62,76,70,72,70],\"y0\":\" \",\"yaxis\":\"y\",\"type\":\"violin\"}],                        {\"template\":{\"data\":{\"histogram2dcontour\":[{\"type\":\"histogram2dcontour\",\"colorbar\":{\"outlinewidth\":0,\"ticks\":\"\"},\"colorscale\":[[0.0,\"#0d0887\"],[0.1111111111111111,\"#46039f\"],[0.2222222222222222,\"#7201a8\"],[0.3333333333333333,\"#9c179e\"],[0.4444444444444444,\"#bd3786\"],[0.5555555555555556,\"#d8576b\"],[0.6666666666666666,\"#ed7953\"],[0.7777777777777778,\"#fb9f3a\"],[0.8888888888888888,\"#fdca26\"],[1.0,\"#f0f921\"]]}],\"choropleth\":[{\"type\":\"choropleth\",\"colorbar\":{\"outlinewidth\":0,\"ticks\":\"\"}}],\"histogram2d\":[{\"type\":\"histogram2d\",\"colorbar\":{\"outlinewidth\":0,\"ticks\":\"\"},\"colorscale\":[[0.0,\"#0d0887\"],[0.1111111111111111,\"#46039f\"],[0.2222222222222222,\"#7201a8\"],[0.3333333333333333,\"#9c179e\"],[0.4444444444444444,\"#bd3786\"],[0.5555555555555556,\"#d8576b\"],[0.6666666666666666,\"#ed7953\"],[0.7777777777777778,\"#fb9f3a\"],[0.8888888888888888,\"#fdca26\"],[1.0,\"#f0f921\"]]}],\"heatmap\":[{\"type\":\"heatmap\",\"colorbar\":{\"outlinewidth\":0,\"ticks\":\"\"},\"colorscale\":[[0.0,\"#0d0887\"],[0.1111111111111111,\"#46039f\"],[0.2222222222222222,\"#7201a8\"],[0.3333333333333333,\"#9c179e\"],[0.4444444444444444,\"#bd3786\"],[0.5555555555555556,\"#d8576b\"],[0.6666666666666666,\"#ed7953\"],[0.7777777777777778,\"#fb9f3a\"],[0.8888888888888888,\"#fdca26\"],[1.0,\"#f0f921\"]]}],\"heatmapgl\":[{\"type\":\"heatmapgl\",\"colorbar\":{\"outlinewidth\":0,\"ticks\":\"\"},\"colorscale\":[[0.0,\"#0d0887\"],[0.1111111111111111,\"#46039f\"],[0.2222222222222222,\"#7201a8\"],[0.3333333333333333,\"#9c179e\"],[0.4444444444444444,\"#bd3786\"],[0.5555555555555556,\"#d8576b\"],[0.6666666666666666,\"#ed7953\"],[0.7777777777777778,\"#fb9f3a\"],[0.8888888888888888,\"#fdca26\"],[1.0,\"#f0f921\"]]}],\"contourcarpet\":[{\"type\":\"contourcarpet\",\"colorbar\":{\"outlinewidth\":0,\"ticks\":\"\"}}],\"contour\":[{\"type\":\"contour\",\"colorbar\":{\"outlinewidth\":0,\"ticks\":\"\"},\"colorscale\":[[0.0,\"#0d0887\"],[0.1111111111111111,\"#46039f\"],[0.2222222222222222,\"#7201a8\"],[0.3333333333333333,\"#9c179e\"],[0.4444444444444444,\"#bd3786\"],[0.5555555555555556,\"#d8576b\"],[0.6666666666666666,\"#ed7953\"],[0.7777777777777778,\"#fb9f3a\"],[0.8888888888888888,\"#fdca26\"],[1.0,\"#f0f921\"]]}],\"surface\":[{\"type\":\"surface\",\"colorbar\":{\"outlinewidth\":0,\"ticks\":\"\"},\"colorscale\":[[0.0,\"#0d0887\"],[0.1111111111111111,\"#46039f\"],[0.2222222222222222,\"#7201a8\"],[0.3333333333333333,\"#9c179e\"],[0.4444444444444444,\"#bd3786\"],[0.5555555555555556,\"#d8576b\"],[0.6666666666666666,\"#ed7953\"],[0.7777777777777778,\"#fb9f3a\"],[0.8888888888888888,\"#fdca26\"],[1.0,\"#f0f921\"]]}],\"mesh3d\":[{\"type\":\"mesh3d\",\"colorbar\":{\"outlinewidth\":0,\"ticks\":\"\"}}],\"scatter\":[{\"fillpattern\":{\"fillmode\":\"overlay\",\"size\":10,\"solidity\":0.2},\"type\":\"scatter\"}],\"parcoords\":[{\"type\":\"parcoords\",\"line\":{\"colorbar\":{\"outlinewidth\":0,\"ticks\":\"\"}}}],\"scatterpolargl\":[{\"type\":\"scatterpolargl\",\"marker\":{\"colorbar\":{\"outlinewidth\":0,\"ticks\":\"\"}}}],\"bar\":[{\"error_x\":{\"color\":\"#2a3f5f\"},\"error_y\":{\"color\":\"#2a3f5f\"},\"marker\":{\"line\":{\"color\":\"#E5ECF6\",\"width\":0.5},\"pattern\":{\"fillmode\":\"overlay\",\"size\":10,\"solidity\":0.2}},\"type\":\"bar\"}],\"scattergeo\":[{\"type\":\"scattergeo\",\"marker\":{\"colorbar\":{\"outlinewidth\":0,\"ticks\":\"\"}}}],\"scatterpolar\":[{\"type\":\"scatterpolar\",\"marker\":{\"colorbar\":{\"outlinewidth\":0,\"ticks\":\"\"}}}],\"histogram\":[{\"marker\":{\"pattern\":{\"fillmode\":\"overlay\",\"size\":10,\"solidity\":0.2}},\"type\":\"histogram\"}],\"scattergl\":[{\"type\":\"scattergl\",\"marker\":{\"colorbar\":{\"outlinewidth\":0,\"ticks\":\"\"}}}],\"scatter3d\":[{\"type\":\"scatter3d\",\"line\":{\"colorbar\":{\"outlinewidth\":0,\"ticks\":\"\"}},\"marker\":{\"colorbar\":{\"outlinewidth\":0,\"ticks\":\"\"}}}],\"scattermapbox\":[{\"type\":\"scattermapbox\",\"marker\":{\"colorbar\":{\"outlinewidth\":0,\"ticks\":\"\"}}}],\"scatterternary\":[{\"type\":\"scatterternary\",\"marker\":{\"colorbar\":{\"outlinewidth\":0,\"ticks\":\"\"}}}],\"scattercarpet\":[{\"type\":\"scattercarpet\",\"marker\":{\"colorbar\":{\"outlinewidth\":0,\"ticks\":\"\"}}}],\"carpet\":[{\"aaxis\":{\"endlinecolor\":\"#2a3f5f\",\"gridcolor\":\"white\",\"linecolor\":\"white\",\"minorgridcolor\":\"white\",\"startlinecolor\":\"#2a3f5f\"},\"baxis\":{\"endlinecolor\":\"#2a3f5f\",\"gridcolor\":\"white\",\"linecolor\":\"white\",\"minorgridcolor\":\"white\",\"startlinecolor\":\"#2a3f5f\"},\"type\":\"carpet\"}],\"table\":[{\"cells\":{\"fill\":{\"color\":\"#EBF0F8\"},\"line\":{\"color\":\"white\"}},\"header\":{\"fill\":{\"color\":\"#C8D4E3\"},\"line\":{\"color\":\"white\"}},\"type\":\"table\"}],\"barpolar\":[{\"marker\":{\"line\":{\"color\":\"#E5ECF6\",\"width\":0.5},\"pattern\":{\"fillmode\":\"overlay\",\"size\":10,\"solidity\":0.2}},\"type\":\"barpolar\"}],\"pie\":[{\"automargin\":true,\"type\":\"pie\"}]},\"layout\":{\"autotypenumbers\":\"strict\",\"colorway\":[\"#636efa\",\"#EF553B\",\"#00cc96\",\"#ab63fa\",\"#FFA15A\",\"#19d3f3\",\"#FF6692\",\"#B6E880\",\"#FF97FF\",\"#FECB52\"],\"font\":{\"color\":\"#2a3f5f\"},\"hovermode\":\"closest\",\"hoverlabel\":{\"align\":\"left\"},\"paper_bgcolor\":\"white\",\"plot_bgcolor\":\"#E5ECF6\",\"polar\":{\"bgcolor\":\"#E5ECF6\",\"angularaxis\":{\"gridcolor\":\"white\",\"linecolor\":\"white\",\"ticks\":\"\"},\"radialaxis\":{\"gridcolor\":\"white\",\"linecolor\":\"white\",\"ticks\":\"\"}},\"ternary\":{\"bgcolor\":\"#E5ECF6\",\"aaxis\":{\"gridcolor\":\"white\",\"linecolor\":\"white\",\"ticks\":\"\"},\"baxis\":{\"gridcolor\":\"white\",\"linecolor\":\"white\",\"ticks\":\"\"},\"caxis\":{\"gridcolor\":\"white\",\"linecolor\":\"white\",\"ticks\":\"\"}},\"coloraxis\":{\"colorbar\":{\"outlinewidth\":0,\"ticks\":\"\"}},\"colorscale\":{\"sequential\":[[0.0,\"#0d0887\"],[0.1111111111111111,\"#46039f\"],[0.2222222222222222,\"#7201a8\"],[0.3333333333333333,\"#9c179e\"],[0.4444444444444444,\"#bd3786\"],[0.5555555555555556,\"#d8576b\"],[0.6666666666666666,\"#ed7953\"],[0.7777777777777778,\"#fb9f3a\"],[0.8888888888888888,\"#fdca26\"],[1.0,\"#f0f921\"]],\"sequentialminus\":[[0.0,\"#0d0887\"],[0.1111111111111111,\"#46039f\"],[0.2222222222222222,\"#7201a8\"],[0.3333333333333333,\"#9c179e\"],[0.4444444444444444,\"#bd3786\"],[0.5555555555555556,\"#d8576b\"],[0.6666666666666666,\"#ed7953\"],[0.7777777777777778,\"#fb9f3a\"],[0.8888888888888888,\"#fdca26\"],[1.0,\"#f0f921\"]],\"diverging\":[[0,\"#8e0152\"],[0.1,\"#c51b7d\"],[0.2,\"#de77ae\"],[0.3,\"#f1b6da\"],[0.4,\"#fde0ef\"],[0.5,\"#f7f7f7\"],[0.6,\"#e6f5d0\"],[0.7,\"#b8e186\"],[0.8,\"#7fbc41\"],[0.9,\"#4d9221\"],[1,\"#276419\"]]},\"xaxis\":{\"gridcolor\":\"white\",\"linecolor\":\"white\",\"ticks\":\"\",\"title\":{\"standoff\":15},\"zerolinecolor\":\"white\",\"automargin\":true,\"zerolinewidth\":2},\"yaxis\":{\"gridcolor\":\"white\",\"linecolor\":\"white\",\"ticks\":\"\",\"title\":{\"standoff\":15},\"zerolinecolor\":\"white\",\"automargin\":true,\"zerolinewidth\":2},\"scene\":{\"xaxis\":{\"backgroundcolor\":\"#E5ECF6\",\"gridcolor\":\"white\",\"linecolor\":\"white\",\"showbackground\":true,\"ticks\":\"\",\"zerolinecolor\":\"white\",\"gridwidth\":2},\"yaxis\":{\"backgroundcolor\":\"#E5ECF6\",\"gridcolor\":\"white\",\"linecolor\":\"white\",\"showbackground\":true,\"ticks\":\"\",\"zerolinecolor\":\"white\",\"gridwidth\":2},\"zaxis\":{\"backgroundcolor\":\"#E5ECF6\",\"gridcolor\":\"white\",\"linecolor\":\"white\",\"showbackground\":true,\"ticks\":\"\",\"zerolinecolor\":\"white\",\"gridwidth\":2}},\"shapedefaults\":{\"line\":{\"color\":\"#2a3f5f\"}},\"annotationdefaults\":{\"arrowcolor\":\"#2a3f5f\",\"arrowhead\":0,\"arrowwidth\":1},\"geo\":{\"bgcolor\":\"white\",\"landcolor\":\"#E5ECF6\",\"subunitcolor\":\"white\",\"showland\":true,\"showlakes\":true,\"lakecolor\":\"white\"},\"title\":{\"x\":0.05},\"mapbox\":{\"style\":\"light\"}}},\"xaxis\":{\"anchor\":\"y\",\"domain\":[0.0,1.0],\"title\":{\"text\":\"Glucose\"}},\"yaxis\":{\"anchor\":\"x\",\"domain\":[0.0,1.0],\"title\":{\"text\":\"BloodPressure\"}},\"legend\":{\"title\":{\"text\":\"Outcome\"},\"tracegroupgap\":0},\"margin\":{\"t\":60},\"violinmode\":\"group\"},                        {\"responsive\": true}                    ).then(function(){\n                            \nvar gd = document.getElementById('ab5a905d-2fba-47cb-8e60-0e96b23d2c95');\nvar x = new MutationObserver(function (mutations, observer) {{\n        var display = window.getComputedStyle(gd).display;\n        if (!display || display === 'none') {{\n            console.log([gd, 'removed!']);\n            Plotly.purge(gd);\n            observer.disconnect();\n        }}\n}});\n\n// Listen for the removal of the full notebook cells\nvar notebookContainer = gd.closest('#notebook-container');\nif (notebookContainer) {{\n    x.observe(notebookContainer, {childList: true});\n}}\n\n// Listen for the clearing of the current output cell\nvar outputEl = gd.closest('.output');\nif (outputEl) {{\n    x.observe(outputEl, {childList: true});\n}}\n\n                        })                };                            </script>        </div>\n</body>\n</html>"
     },
     "execution_count": 32,
     "metadata": {
     },
     "output_type": "execute_result"
    }
   ],
   "source": [
    "import plotly.express as px\n",
    "import pandas as pd\n",
    "\n",
    "diabetes_data = pd.read_csv(\"./Data/diabetes.csv\")\n",
    "\n",
    "import plotly.express as px\n",
    "df = diabetes_data\n",
    "fig = px.violin(df, x=\"Glucose\", y=\"BloodPressure\", color=\"Outcome\")\n",
    "fig.show()"
   ]
  },
  {
   "cell_type": "code",
   "execution_count": 20,
   "metadata": {
    "collapsed": false
   },
   "outputs": [
    {
     "data": {
      "text/html": "<html>\n<head><meta charset=\"utf-8\" /></head>\n<body>\n    <div>            <script src=\"https://cdnjs.cloudflare.com/ajax/libs/mathjax/2.7.5/MathJax.js?config=TeX-AMS-MML_SVG\"></script><script type=\"text/javascript\">if (window.MathJax && window.MathJax.Hub && && window.MathJax.Hub.Config) {window.MathJax.Hub.Config({SVG: {font: \"STIX-Web\"}});}</script>                <script type=\"text/javascript\">window.PlotlyConfig = {MathJaxConfig: 'local'};</script>\n        <script src=\"https://cdn.plot.ly/plotly-2.12.1.min.js\"></script>                <div id=\"1bd241dd-3678-498a-b74e-eb2f65452ecc\" class=\"plotly-graph-div\" style=\"height:525px; width:100%;\"></div>            <script type=\"text/javascript\">                                    window.PLOTLYENV=window.PLOTLYENV || {};                                    if (document.getElementById(\"1bd241dd-3678-498a-b74e-eb2f65452ecc\")) {                    Plotly.newPlot(                        \"1bd241dd-3678-498a-b74e-eb2f65452ecc\",                        [{\"hovertemplate\":\"Outcome=1<br>BMI=%{x}<br>SkinThickness=%{y}<extra></extra>\",\"legendgroup\":\"1\",\"marker\":{\"color\":\"#636efa\"},\"name\":\"1\",\"orientation\":\"v\",\"showlegend\":true,\"x\":[33.6,23.3,43.1,31.0,30.5,0.0,38.0,30.1,25.8,30.0,45.8,29.6,34.6,39.8,29.0,36.6,31.1,39.4,31.6,32.9,38.2,37.1,45.4,42.0,39.1,33.7,37.7,32.9,32.8,32.5,32.9,43.4,43.2,48.8,37.1,23.8,49.7,39.0,37.4,33.3,34.0,30.5,31.2,34.0,53.2,33.3,55.0,34.5,27.9,29.7,33.3,34.5,32.4,34.3,47.9,50.0,40.9,31.6,29.9,30.8,35.4,32.7,67.1,39.1,35.9,30.1,32.0,27.9,31.6,30.4,52.3,39.4,22.9,34.8,30.9,37.5,37.7,35.5,42.6,34.2,41.8,35.8,29.0,37.8,34.6,31.6,37.2,44.0,46.2,43.6,35.9,44.1,30.8,25.6,27.1,30.0,27.6,33.6,33.3,30.0,32.0,36.3,27.5,45.6,26.5,37.9,30.4,27.0,45.6,36.6,43.3,40.5,28.0,36.6,32.3,31.6,52.9,25.5,30.5,32.9,26.6,35.9,30.5,23.5,31.6,27.4,26.8,35.1,45.5,43.3,31.2,34.2,39.9,41.0,30.4,33.3,39.9,36.5,31.2,38.5,27.6,32.8,38.4,39.2,48.3,32.3,43.3,32.0,45.7,32.9,34.3,34.9,32.0,35.0,32.9,28.9,25.9,42.4,34.6,35.7,38.5,26.4,42.9,37.0,34.1,35.0,42.4,34.3,30.5,29.7,59.4,33.6,28.9,33.6,37.6,30.0,33.7,35.5,44.2,42.3,28.9,25.1,39.0,36.5,29.7,31.6,30.3,34.2,32.9,36.4,39.4,32.4,34.9,34.5,43.6,33.8,41.3,34.3,42.9,34.7,42.1,28.7,34.9,33.3,46.8,34.4,32.0,36.8,35.2,28.4,40.0,32.9,38.2,36.1,28.2,32.4,27.4,31.2,40.9,29.5,23.4,37.8,28.3,38.7,34.2,42.9,37.6,37.9,33.7,32.5,27.5,30.9,24.8,36.0,49.6,32.3,46.1,42.3,38.5,30.4,29.9,27.6,35.0,0.0,32.8,38.0,41.2,33.9,33.8,35.6,29.3,28.4,28.4,44.5,39.5,42.3,32.7,49.3,36.4,24.3,31.2,43.3,32.4,36.5,36.3,35.5,44.0,30.1],\"xaxis\":\"x\",\"y\":[35,0,35,32,45,0,0,23,19,0,47,0,30,0,35,33,26,0,36,37,42,47,24,39,32,34,39,0,0,30,20,0,0,0,32,0,51,0,25,33,26,32,0,0,56,0,42,24,0,14,0,37,0,28,0,44,41,0,18,0,23,42,46,0,28,36,41,39,35,0,0,41,13,44,27,29,0,33,26,32,40,41,22,0,29,0,38,0,37,0,21,27,21,0,22,15,7,35,28,0,0,0,0,37,24,0,0,0,39,30,37,45,38,25,0,33,0,23,19,28,17,31,0,0,30,20,33,32,36,0,0,34,0,32,0,40,30,36,33,0,0,28,48,43,0,29,36,26,0,0,40,31,0,41,0,0,0,49,35,33,32,29,32,39,30,25,0,25,0,12,63,37,0,30,48,0,45,30,0,42,18,33,41,26,31,18,34,0,0,49,40,25,32,35,27,0,32,30,0,99,46,24,0,27,40,0,14,0,29,0,42,22,42,26,24,0,0,0,32,0,17,36,35,27,31,43,46,46,39,18,27,0,0,0,36,0,46,0,49,24,19,31,29,0,0,32,36,33,39,27,29,23,0,37,0,37,0,41,22,0,0,44,32,39,0,0,31,0],\"yaxis\":\"y\",\"type\":\"funnel\"},{\"hovertemplate\":\"Outcome=0<br>BMI=%{x}<br>SkinThickness=%{y}<extra></extra>\",\"legendgroup\":\"0\",\"marker\":{\"color\":\"#EF553B\"},\"name\":\"0\",\"orientation\":\"v\",\"showlegend\":true,\"x\":[26.6,28.1,25.6,35.3,37.6,27.1,43.3,39.3,35.4,23.2,22.2,34.1,36.0,24.8,19.9,27.6,24.0,33.2,34.0,40.2,22.7,27.4,29.7,28.0,0.0,19.4,24.2,24.4,34.7,23.0,46.8,40.5,41.5,0.0,25.0,25.4,29.0,42.7,19.6,28.9,28.6,35.1,32.0,24.7,32.6,37.7,25.0,22.4,0.0,29.3,24.6,32.4,36.6,38.5,26.5,19.1,32.0,46.7,24.7,33.9,31.6,20.4,28.7,26.1,22.5,26.6,39.6,28.7,22.4,29.5,34.3,31.2,34.0,33.7,28.2,23.2,34.2,33.6,26.8,42.9,33.3,38.3,21.1,33.8,30.8,28.7,31.2,36.9,21.1,39.5,32.5,32.8,0.0,32.8,30.5,33.7,27.3,37.4,21.9,40.6,24.6,25.2,29.0,29.7,37.2,44.2,29.7,32.5,29.6,31.9,28.4,28.9,43.5,29.7,31.2,45.0,23.2,34.9,27.7,26.8,27.6,22.6,33.1,24.4,24.3,31.0,40.1,27.3,20.4,37.7,23.9,33.2,27.7,42.8,34.2,30.0,25.2,28.8,23.6,34.6,35.7,36.7,45.2,25.4,35.0,29.7,18.4,29.2,33.1,38.2,31.2,52.3,35.4,30.1,31.2,28.0,24.4,35.8,30.1,28.7,25.9,30.9,32.1,32.4,33.6,40.0,25.1,25.2,23.0,33.2,34.2,40.5,27.8,24.9,25.3,35.9,32.4,26.0,38.7,20.8,36.1,36.9,21.9,35.5,30.7,23.6,35.8,21.0,39.7,24.8,26.2,39.4,29.5,34.1,19.3,38.1,27.5,35.7,25.6,35.1,30.8,23.1,32.7,23.6,23.9,47.9,33.8,25.9,25.9,32.0,34.7,36.8,38.5,28.7,23.5,21.8,42.2,31.2,34.4,27.2,42.7,35.3,29.8,39.2,34.9,34.0,21.0,27.5,0.0,35.8,34.9,36.2,25.2,37.2,43.4,30.8,20.0,25.4,25.1,24.3,22.3,31.6,32.0,23.7,22.1,27.7,24.7,21.1,24.2,31.6,42.1,21.9,35.7,34.4,42.4,26.2,27.2,18.2,45.3,26.0,40.6,30.8,0.0,40.6,22.2,30.4,30.0,25.6,24.5,37.4,29.9,18.2,36.8,32.2,33.2,25.3,36.5,30.5,21.2,39.9,19.6,37.8,26.7,30.2,25.9,20.8,21.8,35.3,27.6,24.0,21.8,27.8,36.8,46.1,41.3,33.2,38.8,29.9,28.9,27.3,23.8,25.9,28.0,35.2,27.8,38.2,40.7,46.5,25.6,26.1,36.8,33.5,32.8,0.0,26.6,26.0,30.1,29.3,25.2,37.2,33.3,37.3,33.3,28.6,30.4,25.0,22.1,24.2,27.3,25.6,37.6,32.8,19.6,25.0,33.2,0.0,31.6,21.8,18.2,26.3,30.8,24.6,29.8,45.3,41.3,29.8,33.3,29.6,21.7,36.3,39.5,32.0,33.1,32.8,28.5,27.4,31.9,27.8,29.9,36.9,25.5,38.1,27.8,46.2,30.1,37.6,26.9,32.4,26.1,38.6,32.0,31.3,32.5,22.6,29.5,34.7,30.1,35.5,24.0,27.0,25.0,26.5,38.7,22.5,24.3,21.1,39.4,28.5,33.6,45.3,27.8,23.1,27.1,23.7,27.8,35.8,19.5,41.5,24.0,30.9,32.5,25.8,28.7,20.1,38.4,24.2,40.8,43.5,30.8,37.7,24.7,32.4,34.6,24.7,34.5,26.2,27.5,25.9,28.8,31.6,19.5,29.3,34.3,28.0,27.6,39.4,26.4,25.2,33.8,34.1,26.8,34.2,21.8,38.9,39.0,27.7,34.8,34.0,30.9,33.6,25.4,35.5,57.3,35.6,35.3,24.2,24.2,44.6,0.0,33.2,23.1,28.3,24.1,24.6,39.1,23.5,25.0,34.5,44.5,35.9,38.5,28.4,39.8,34.4,31.2,29.6,26.4,29.5,23.1,35.5,29.3,38.1,39.1,32.8,39.4,36.1,32.4,22.9,30.1,29.0,23.3,35.4,27.4,32.0,36.6,30.8,28.5,40.6,30.0,46.3,39.0,26.0,32.0,37.5,28.4,22.5,32.9,36.8,26.2,30.4],\"xaxis\":\"x\",\"y\":[29,23,0,0,0,0,38,41,0,15,19,0,26,11,0,31,33,0,25,0,18,0,0,27,0,11,15,21,42,10,60,0,41,0,0,34,27,0,13,27,35,20,30,20,0,33,22,13,0,26,28,29,54,25,19,0,15,40,18,27,28,18,30,0,0,18,0,29,0,28,31,34,0,0,23,15,39,30,0,30,36,31,13,20,26,25,0,29,0,30,26,31,23,37,35,0,17,50,0,42,15,21,19,38,40,34,23,25,0,0,12,23,42,24,0,0,0,18,20,0,0,0,44,20,0,16,0,20,16,32,28,27,22,54,31,30,0,33,15,27,0,39,31,25,0,28,0,24,32,35,0,33,33,19,0,0,14,32,39,22,16,15,32,15,18,42,0,32,0,50,0,52,23,0,10,28,15,26,44,17,43,29,0,31,29,0,41,0,37,14,30,37,10,22,11,39,12,32,21,0,32,19,16,0,18,43,0,13,21,35,0,0,36,19,0,19,0,0,28,12,0,40,0,37,25,28,17,16,23,22,40,43,15,37,39,30,22,8,18,24,13,23,29,14,12,24,34,0,0,25,32,0,39,30,23,22,21,0,41,18,46,22,0,46,0,16,11,0,8,33,0,15,0,23,27,12,45,18,13,32,0,28,0,28,33,22,0,40,30,0,13,10,36,41,40,38,27,0,0,27,17,38,31,37,22,31,41,32,17,0,28,30,38,0,0,0,15,32,19,32,25,39,0,23,23,0,17,0,0,19,0,0,7,32,33,0,0,18,19,15,31,0,18,0,52,0,30,0,0,37,23,29,21,43,31,28,30,0,24,23,33,40,0,40,0,34,19,0,14,30,32,29,0,0,31,17,30,47,20,0,27,17,0,11,0,0,50,22,45,0,19,18,19,0,36,32,25,39,13,21,28,0,0,13,42,20,0,27,0,47,0,0,0,22,40,0,17,0,0,18,12,17,0,0,30,35,25,25,23,40,0,28,35,48,0,0,45,33,30,26,10,23,35,0,0,17,28,39,0,26,0,19,26,0,32,0,0,11,0,27,0,20,36,21,13,27,20,0,18,46,19,36,30,0,40,29,26,0,0,27,0,32,27,23,17,20,18,37,33,41,39,24,41,0,26,0,48,27,23,31],\"yaxis\":\"y\",\"type\":\"funnel\"}],                        {\"template\":{\"data\":{\"histogram2dcontour\":[{\"type\":\"histogram2dcontour\",\"colorbar\":{\"outlinewidth\":0,\"ticks\":\"\"},\"colorscale\":[[0.0,\"#0d0887\"],[0.1111111111111111,\"#46039f\"],[0.2222222222222222,\"#7201a8\"],[0.3333333333333333,\"#9c179e\"],[0.4444444444444444,\"#bd3786\"],[0.5555555555555556,\"#d8576b\"],[0.6666666666666666,\"#ed7953\"],[0.7777777777777778,\"#fb9f3a\"],[0.8888888888888888,\"#fdca26\"],[1.0,\"#f0f921\"]]}],\"choropleth\":[{\"type\":\"choropleth\",\"colorbar\":{\"outlinewidth\":0,\"ticks\":\"\"}}],\"histogram2d\":[{\"type\":\"histogram2d\",\"colorbar\":{\"outlinewidth\":0,\"ticks\":\"\"},\"colorscale\":[[0.0,\"#0d0887\"],[0.1111111111111111,\"#46039f\"],[0.2222222222222222,\"#7201a8\"],[0.3333333333333333,\"#9c179e\"],[0.4444444444444444,\"#bd3786\"],[0.5555555555555556,\"#d8576b\"],[0.6666666666666666,\"#ed7953\"],[0.7777777777777778,\"#fb9f3a\"],[0.8888888888888888,\"#fdca26\"],[1.0,\"#f0f921\"]]}],\"heatmap\":[{\"type\":\"heatmap\",\"colorbar\":{\"outlinewidth\":0,\"ticks\":\"\"},\"colorscale\":[[0.0,\"#0d0887\"],[0.1111111111111111,\"#46039f\"],[0.2222222222222222,\"#7201a8\"],[0.3333333333333333,\"#9c179e\"],[0.4444444444444444,\"#bd3786\"],[0.5555555555555556,\"#d8576b\"],[0.6666666666666666,\"#ed7953\"],[0.7777777777777778,\"#fb9f3a\"],[0.8888888888888888,\"#fdca26\"],[1.0,\"#f0f921\"]]}],\"heatmapgl\":[{\"type\":\"heatmapgl\",\"colorbar\":{\"outlinewidth\":0,\"ticks\":\"\"},\"colorscale\":[[0.0,\"#0d0887\"],[0.1111111111111111,\"#46039f\"],[0.2222222222222222,\"#7201a8\"],[0.3333333333333333,\"#9c179e\"],[0.4444444444444444,\"#bd3786\"],[0.5555555555555556,\"#d8576b\"],[0.6666666666666666,\"#ed7953\"],[0.7777777777777778,\"#fb9f3a\"],[0.8888888888888888,\"#fdca26\"],[1.0,\"#f0f921\"]]}],\"contourcarpet\":[{\"type\":\"contourcarpet\",\"colorbar\":{\"outlinewidth\":0,\"ticks\":\"\"}}],\"contour\":[{\"type\":\"contour\",\"colorbar\":{\"outlinewidth\":0,\"ticks\":\"\"},\"colorscale\":[[0.0,\"#0d0887\"],[0.1111111111111111,\"#46039f\"],[0.2222222222222222,\"#7201a8\"],[0.3333333333333333,\"#9c179e\"],[0.4444444444444444,\"#bd3786\"],[0.5555555555555556,\"#d8576b\"],[0.6666666666666666,\"#ed7953\"],[0.7777777777777778,\"#fb9f3a\"],[0.8888888888888888,\"#fdca26\"],[1.0,\"#f0f921\"]]}],\"surface\":[{\"type\":\"surface\",\"colorbar\":{\"outlinewidth\":0,\"ticks\":\"\"},\"colorscale\":[[0.0,\"#0d0887\"],[0.1111111111111111,\"#46039f\"],[0.2222222222222222,\"#7201a8\"],[0.3333333333333333,\"#9c179e\"],[0.4444444444444444,\"#bd3786\"],[0.5555555555555556,\"#d8576b\"],[0.6666666666666666,\"#ed7953\"],[0.7777777777777778,\"#fb9f3a\"],[0.8888888888888888,\"#fdca26\"],[1.0,\"#f0f921\"]]}],\"mesh3d\":[{\"type\":\"mesh3d\",\"colorbar\":{\"outlinewidth\":0,\"ticks\":\"\"}}],\"scatter\":[{\"fillpattern\":{\"fillmode\":\"overlay\",\"size\":10,\"solidity\":0.2},\"type\":\"scatter\"}],\"parcoords\":[{\"type\":\"parcoords\",\"line\":{\"colorbar\":{\"outlinewidth\":0,\"ticks\":\"\"}}}],\"scatterpolargl\":[{\"type\":\"scatterpolargl\",\"marker\":{\"colorbar\":{\"outlinewidth\":0,\"ticks\":\"\"}}}],\"bar\":[{\"error_x\":{\"color\":\"#2a3f5f\"},\"error_y\":{\"color\":\"#2a3f5f\"},\"marker\":{\"line\":{\"color\":\"#E5ECF6\",\"width\":0.5},\"pattern\":{\"fillmode\":\"overlay\",\"size\":10,\"solidity\":0.2}},\"type\":\"bar\"}],\"scattergeo\":[{\"type\":\"scattergeo\",\"marker\":{\"colorbar\":{\"outlinewidth\":0,\"ticks\":\"\"}}}],\"scatterpolar\":[{\"type\":\"scatterpolar\",\"marker\":{\"colorbar\":{\"outlinewidth\":0,\"ticks\":\"\"}}}],\"histogram\":[{\"marker\":{\"pattern\":{\"fillmode\":\"overlay\",\"size\":10,\"solidity\":0.2}},\"type\":\"histogram\"}],\"scattergl\":[{\"type\":\"scattergl\",\"marker\":{\"colorbar\":{\"outlinewidth\":0,\"ticks\":\"\"}}}],\"scatter3d\":[{\"type\":\"scatter3d\",\"line\":{\"colorbar\":{\"outlinewidth\":0,\"ticks\":\"\"}},\"marker\":{\"colorbar\":{\"outlinewidth\":0,\"ticks\":\"\"}}}],\"scattermapbox\":[{\"type\":\"scattermapbox\",\"marker\":{\"colorbar\":{\"outlinewidth\":0,\"ticks\":\"\"}}}],\"scatterternary\":[{\"type\":\"scatterternary\",\"marker\":{\"colorbar\":{\"outlinewidth\":0,\"ticks\":\"\"}}}],\"scattercarpet\":[{\"type\":\"scattercarpet\",\"marker\":{\"colorbar\":{\"outlinewidth\":0,\"ticks\":\"\"}}}],\"carpet\":[{\"aaxis\":{\"endlinecolor\":\"#2a3f5f\",\"gridcolor\":\"white\",\"linecolor\":\"white\",\"minorgridcolor\":\"white\",\"startlinecolor\":\"#2a3f5f\"},\"baxis\":{\"endlinecolor\":\"#2a3f5f\",\"gridcolor\":\"white\",\"linecolor\":\"white\",\"minorgridcolor\":\"white\",\"startlinecolor\":\"#2a3f5f\"},\"type\":\"carpet\"}],\"table\":[{\"cells\":{\"fill\":{\"color\":\"#EBF0F8\"},\"line\":{\"color\":\"white\"}},\"header\":{\"fill\":{\"color\":\"#C8D4E3\"},\"line\":{\"color\":\"white\"}},\"type\":\"table\"}],\"barpolar\":[{\"marker\":{\"line\":{\"color\":\"#E5ECF6\",\"width\":0.5},\"pattern\":{\"fillmode\":\"overlay\",\"size\":10,\"solidity\":0.2}},\"type\":\"barpolar\"}],\"pie\":[{\"automargin\":true,\"type\":\"pie\"}]},\"layout\":{\"autotypenumbers\":\"strict\",\"colorway\":[\"#636efa\",\"#EF553B\",\"#00cc96\",\"#ab63fa\",\"#FFA15A\",\"#19d3f3\",\"#FF6692\",\"#B6E880\",\"#FF97FF\",\"#FECB52\"],\"font\":{\"color\":\"#2a3f5f\"},\"hovermode\":\"closest\",\"hoverlabel\":{\"align\":\"left\"},\"paper_bgcolor\":\"white\",\"plot_bgcolor\":\"#E5ECF6\",\"polar\":{\"bgcolor\":\"#E5ECF6\",\"angularaxis\":{\"gridcolor\":\"white\",\"linecolor\":\"white\",\"ticks\":\"\"},\"radialaxis\":{\"gridcolor\":\"white\",\"linecolor\":\"white\",\"ticks\":\"\"}},\"ternary\":{\"bgcolor\":\"#E5ECF6\",\"aaxis\":{\"gridcolor\":\"white\",\"linecolor\":\"white\",\"ticks\":\"\"},\"baxis\":{\"gridcolor\":\"white\",\"linecolor\":\"white\",\"ticks\":\"\"},\"caxis\":{\"gridcolor\":\"white\",\"linecolor\":\"white\",\"ticks\":\"\"}},\"coloraxis\":{\"colorbar\":{\"outlinewidth\":0,\"ticks\":\"\"}},\"colorscale\":{\"sequential\":[[0.0,\"#0d0887\"],[0.1111111111111111,\"#46039f\"],[0.2222222222222222,\"#7201a8\"],[0.3333333333333333,\"#9c179e\"],[0.4444444444444444,\"#bd3786\"],[0.5555555555555556,\"#d8576b\"],[0.6666666666666666,\"#ed7953\"],[0.7777777777777778,\"#fb9f3a\"],[0.8888888888888888,\"#fdca26\"],[1.0,\"#f0f921\"]],\"sequentialminus\":[[0.0,\"#0d0887\"],[0.1111111111111111,\"#46039f\"],[0.2222222222222222,\"#7201a8\"],[0.3333333333333333,\"#9c179e\"],[0.4444444444444444,\"#bd3786\"],[0.5555555555555556,\"#d8576b\"],[0.6666666666666666,\"#ed7953\"],[0.7777777777777778,\"#fb9f3a\"],[0.8888888888888888,\"#fdca26\"],[1.0,\"#f0f921\"]],\"diverging\":[[0,\"#8e0152\"],[0.1,\"#c51b7d\"],[0.2,\"#de77ae\"],[0.3,\"#f1b6da\"],[0.4,\"#fde0ef\"],[0.5,\"#f7f7f7\"],[0.6,\"#e6f5d0\"],[0.7,\"#b8e186\"],[0.8,\"#7fbc41\"],[0.9,\"#4d9221\"],[1,\"#276419\"]]},\"xaxis\":{\"gridcolor\":\"white\",\"linecolor\":\"white\",\"ticks\":\"\",\"title\":{\"standoff\":15},\"zerolinecolor\":\"white\",\"automargin\":true,\"zerolinewidth\":2},\"yaxis\":{\"gridcolor\":\"white\",\"linecolor\":\"white\",\"ticks\":\"\",\"title\":{\"standoff\":15},\"zerolinecolor\":\"white\",\"automargin\":true,\"zerolinewidth\":2},\"scene\":{\"xaxis\":{\"backgroundcolor\":\"#E5ECF6\",\"gridcolor\":\"white\",\"linecolor\":\"white\",\"showbackground\":true,\"ticks\":\"\",\"zerolinecolor\":\"white\",\"gridwidth\":2},\"yaxis\":{\"backgroundcolor\":\"#E5ECF6\",\"gridcolor\":\"white\",\"linecolor\":\"white\",\"showbackground\":true,\"ticks\":\"\",\"zerolinecolor\":\"white\",\"gridwidth\":2},\"zaxis\":{\"backgroundcolor\":\"#E5ECF6\",\"gridcolor\":\"white\",\"linecolor\":\"white\",\"showbackground\":true,\"ticks\":\"\",\"zerolinecolor\":\"white\",\"gridwidth\":2}},\"shapedefaults\":{\"line\":{\"color\":\"#2a3f5f\"}},\"annotationdefaults\":{\"arrowcolor\":\"#2a3f5f\",\"arrowhead\":0,\"arrowwidth\":1},\"geo\":{\"bgcolor\":\"white\",\"landcolor\":\"#E5ECF6\",\"subunitcolor\":\"white\",\"showland\":true,\"showlakes\":true,\"lakecolor\":\"white\"},\"title\":{\"x\":0.05},\"mapbox\":{\"style\":\"light\"}}},\"xaxis\":{\"anchor\":\"y\",\"domain\":[0.0,1.0],\"title\":{\"text\":\"BMI\"}},\"yaxis\":{\"anchor\":\"x\",\"domain\":[0.0,1.0],\"title\":{\"text\":\"SkinThickness\"}},\"legend\":{\"title\":{\"text\":\"Outcome\"},\"tracegroupgap\":0},\"margin\":{\"t\":60}},                        {\"responsive\": true}                    ).then(function(){\n                            \nvar gd = document.getElementById('1bd241dd-3678-498a-b74e-eb2f65452ecc');\nvar x = new MutationObserver(function (mutations, observer) {{\n        var display = window.getComputedStyle(gd).display;\n        if (!display || display === 'none') {{\n            console.log([gd, 'removed!']);\n            Plotly.purge(gd);\n            observer.disconnect();\n        }}\n}});\n\n// Listen for the removal of the full notebook cells\nvar notebookContainer = gd.closest('#notebook-container');\nif (notebookContainer) {{\n    x.observe(notebookContainer, {childList: true});\n}}\n\n// Listen for the clearing of the current output cell\nvar outputEl = gd.closest('.output');\nif (outputEl) {{\n    x.observe(outputEl, {childList: true});\n}}\n\n                        })                };                            </script>        </div>\n</body>\n</html>"
     },
     "execution_count": 20,
     "metadata": {
     },
     "output_type": "execute_result"
    }
   ],
   "source": [
    "import plotly.express as px\n",
    "import pandas as pd\n",
    "\n",
    "diabetes_data = pd.read_csv(\"./Data/diabetes.csv\")\n",
    "\n",
    "import plotly.express as px\n",
    "df = diabetes_data\n",
    "fig = px.funnel(df, x=\"BMI\", y=\"SkinThickness\", color=\"Outcome\")\n",
    "fig.show()"
   ]
  },
  {
   "cell_type": "code",
   "execution_count": 22,
   "metadata": {
    "collapsed": false
   },
   "outputs": [
    {
     "data": {
      "text/html": "<html>\n<head><meta charset=\"utf-8\" /></head>\n<body>\n    <div>            <script src=\"https://cdnjs.cloudflare.com/ajax/libs/mathjax/2.7.5/MathJax.js?config=TeX-AMS-MML_SVG\"></script><script type=\"text/javascript\">if (window.MathJax && window.MathJax.Hub && && window.MathJax.Hub.Config) {window.MathJax.Hub.Config({SVG: {font: \"STIX-Web\"}});}</script>                <script type=\"text/javascript\">window.PlotlyConfig = {MathJaxConfig: 'local'};</script>\n        <script src=\"https://cdn.plot.ly/plotly-2.12.1.min.js\"></script>                <div id=\"e27e1687-1c67-4689-963c-aec11e15cbc8\" class=\"plotly-graph-div\" style=\"height:525px; width:100%;\"></div>            <script type=\"text/javascript\">                                    window.PLOTLYENV=window.PLOTLYENV || {};                                    if (document.getElementById(\"e27e1687-1c67-4689-963c-aec11e15cbc8\")) {                    Plotly.newPlot(                        \"e27e1687-1c67-4689-963c-aec11e15cbc8\",                        [{\"alignmentgroup\":\"True\",\"hovertemplate\":\"Outcome=1<br>BMI=%{x}<br>SkinThickness=%{y}<extra></extra>\",\"legendgroup\":\"1\",\"marker\":{\"color\":\"#636efa\"},\"name\":\"1\",\"notched\":false,\"offsetgroup\":\"1\",\"orientation\":\"v\",\"showlegend\":true,\"x\":[33.6,23.3,43.1,31.0,30.5,0.0,38.0,30.1,25.8,30.0,45.8,29.6,34.6,39.8,29.0,36.6,31.1,39.4,31.6,32.9,38.2,37.1,45.4,42.0,39.1,33.7,37.7,32.9,32.8,32.5,32.9,43.4,43.2,48.8,37.1,23.8,49.7,39.0,37.4,33.3,34.0,30.5,31.2,34.0,53.2,33.3,55.0,34.5,27.9,29.7,33.3,34.5,32.4,34.3,47.9,50.0,40.9,31.6,29.9,30.8,35.4,32.7,67.1,39.1,35.9,30.1,32.0,27.9,31.6,30.4,52.3,39.4,22.9,34.8,30.9,37.5,37.7,35.5,42.6,34.2,41.8,35.8,29.0,37.8,34.6,31.6,37.2,44.0,46.2,43.6,35.9,44.1,30.8,25.6,27.1,30.0,27.6,33.6,33.3,30.0,32.0,36.3,27.5,45.6,26.5,37.9,30.4,27.0,45.6,36.6,43.3,40.5,28.0,36.6,32.3,31.6,52.9,25.5,30.5,32.9,26.6,35.9,30.5,23.5,31.6,27.4,26.8,35.1,45.5,43.3,31.2,34.2,39.9,41.0,30.4,33.3,39.9,36.5,31.2,38.5,27.6,32.8,38.4,39.2,48.3,32.3,43.3,32.0,45.7,32.9,34.3,34.9,32.0,35.0,32.9,28.9,25.9,42.4,34.6,35.7,38.5,26.4,42.9,37.0,34.1,35.0,42.4,34.3,30.5,29.7,59.4,33.6,28.9,33.6,37.6,30.0,33.7,35.5,44.2,42.3,28.9,25.1,39.0,36.5,29.7,31.6,30.3,34.2,32.9,36.4,39.4,32.4,34.9,34.5,43.6,33.8,41.3,34.3,42.9,34.7,42.1,28.7,34.9,33.3,46.8,34.4,32.0,36.8,35.2,28.4,40.0,32.9,38.2,36.1,28.2,32.4,27.4,31.2,40.9,29.5,23.4,37.8,28.3,38.7,34.2,42.9,37.6,37.9,33.7,32.5,27.5,30.9,24.8,36.0,49.6,32.3,46.1,42.3,38.5,30.4,29.9,27.6,35.0,0.0,32.8,38.0,41.2,33.9,33.8,35.6,29.3,28.4,28.4,44.5,39.5,42.3,32.7,49.3,36.4,24.3,31.2,43.3,32.4,36.5,36.3,35.5,44.0,30.1],\"x0\":\" \",\"xaxis\":\"x\",\"y\":[35,0,35,32,45,0,0,23,19,0,47,0,30,0,35,33,26,0,36,37,42,47,24,39,32,34,39,0,0,30,20,0,0,0,32,0,51,0,25,33,26,32,0,0,56,0,42,24,0,14,0,37,0,28,0,44,41,0,18,0,23,42,46,0,28,36,41,39,35,0,0,41,13,44,27,29,0,33,26,32,40,41,22,0,29,0,38,0,37,0,21,27,21,0,22,15,7,35,28,0,0,0,0,37,24,0,0,0,39,30,37,45,38,25,0,33,0,23,19,28,17,31,0,0,30,20,33,32,36,0,0,34,0,32,0,40,30,36,33,0,0,28,48,43,0,29,36,26,0,0,40,31,0,41,0,0,0,49,35,33,32,29,32,39,30,25,0,25,0,12,63,37,0,30,48,0,45,30,0,42,18,33,41,26,31,18,34,0,0,49,40,25,32,35,27,0,32,30,0,99,46,24,0,27,40,0,14,0,29,0,42,22,42,26,24,0,0,0,32,0,17,36,35,27,31,43,46,46,39,18,27,0,0,0,36,0,46,0,49,24,19,31,29,0,0,32,36,33,39,27,29,23,0,37,0,37,0,41,22,0,0,44,32,39,0,0,31,0],\"y0\":\" \",\"yaxis\":\"y\",\"type\":\"box\"},{\"alignmentgroup\":\"True\",\"hovertemplate\":\"Outcome=0<br>BMI=%{x}<br>SkinThickness=%{y}<extra></extra>\",\"legendgroup\":\"0\",\"marker\":{\"color\":\"#EF553B\"},\"name\":\"0\",\"notched\":false,\"offsetgroup\":\"0\",\"orientation\":\"v\",\"showlegend\":true,\"x\":[26.6,28.1,25.6,35.3,37.6,27.1,43.3,39.3,35.4,23.2,22.2,34.1,36.0,24.8,19.9,27.6,24.0,33.2,34.0,40.2,22.7,27.4,29.7,28.0,0.0,19.4,24.2,24.4,34.7,23.0,46.8,40.5,41.5,0.0,25.0,25.4,29.0,42.7,19.6,28.9,28.6,35.1,32.0,24.7,32.6,37.7,25.0,22.4,0.0,29.3,24.6,32.4,36.6,38.5,26.5,19.1,32.0,46.7,24.7,33.9,31.6,20.4,28.7,26.1,22.5,26.6,39.6,28.7,22.4,29.5,34.3,31.2,34.0,33.7,28.2,23.2,34.2,33.6,26.8,42.9,33.3,38.3,21.1,33.8,30.8,28.7,31.2,36.9,21.1,39.5,32.5,32.8,0.0,32.8,30.5,33.7,27.3,37.4,21.9,40.6,24.6,25.2,29.0,29.7,37.2,44.2,29.7,32.5,29.6,31.9,28.4,28.9,43.5,29.7,31.2,45.0,23.2,34.9,27.7,26.8,27.6,22.6,33.1,24.4,24.3,31.0,40.1,27.3,20.4,37.7,23.9,33.2,27.7,42.8,34.2,30.0,25.2,28.8,23.6,34.6,35.7,36.7,45.2,25.4,35.0,29.7,18.4,29.2,33.1,38.2,31.2,52.3,35.4,30.1,31.2,28.0,24.4,35.8,30.1,28.7,25.9,30.9,32.1,32.4,33.6,40.0,25.1,25.2,23.0,33.2,34.2,40.5,27.8,24.9,25.3,35.9,32.4,26.0,38.7,20.8,36.1,36.9,21.9,35.5,30.7,23.6,35.8,21.0,39.7,24.8,26.2,39.4,29.5,34.1,19.3,38.1,27.5,35.7,25.6,35.1,30.8,23.1,32.7,23.6,23.9,47.9,33.8,25.9,25.9,32.0,34.7,36.8,38.5,28.7,23.5,21.8,42.2,31.2,34.4,27.2,42.7,35.3,29.8,39.2,34.9,34.0,21.0,27.5,0.0,35.8,34.9,36.2,25.2,37.2,43.4,30.8,20.0,25.4,25.1,24.3,22.3,31.6,32.0,23.7,22.1,27.7,24.7,21.1,24.2,31.6,42.1,21.9,35.7,34.4,42.4,26.2,27.2,18.2,45.3,26.0,40.6,30.8,0.0,40.6,22.2,30.4,30.0,25.6,24.5,37.4,29.9,18.2,36.8,32.2,33.2,25.3,36.5,30.5,21.2,39.9,19.6,37.8,26.7,30.2,25.9,20.8,21.8,35.3,27.6,24.0,21.8,27.8,36.8,46.1,41.3,33.2,38.8,29.9,28.9,27.3,23.8,25.9,28.0,35.2,27.8,38.2,40.7,46.5,25.6,26.1,36.8,33.5,32.8,0.0,26.6,26.0,30.1,29.3,25.2,37.2,33.3,37.3,33.3,28.6,30.4,25.0,22.1,24.2,27.3,25.6,37.6,32.8,19.6,25.0,33.2,0.0,31.6,21.8,18.2,26.3,30.8,24.6,29.8,45.3,41.3,29.8,33.3,29.6,21.7,36.3,39.5,32.0,33.1,32.8,28.5,27.4,31.9,27.8,29.9,36.9,25.5,38.1,27.8,46.2,30.1,37.6,26.9,32.4,26.1,38.6,32.0,31.3,32.5,22.6,29.5,34.7,30.1,35.5,24.0,27.0,25.0,26.5,38.7,22.5,24.3,21.1,39.4,28.5,33.6,45.3,27.8,23.1,27.1,23.7,27.8,35.8,19.5,41.5,24.0,30.9,32.5,25.8,28.7,20.1,38.4,24.2,40.8,43.5,30.8,37.7,24.7,32.4,34.6,24.7,34.5,26.2,27.5,25.9,28.8,31.6,19.5,29.3,34.3,28.0,27.6,39.4,26.4,25.2,33.8,34.1,26.8,34.2,21.8,38.9,39.0,27.7,34.8,34.0,30.9,33.6,25.4,35.5,57.3,35.6,35.3,24.2,24.2,44.6,0.0,33.2,23.1,28.3,24.1,24.6,39.1,23.5,25.0,34.5,44.5,35.9,38.5,28.4,39.8,34.4,31.2,29.6,26.4,29.5,23.1,35.5,29.3,38.1,39.1,32.8,39.4,36.1,32.4,22.9,30.1,29.0,23.3,35.4,27.4,32.0,36.6,30.8,28.5,40.6,30.0,46.3,39.0,26.0,32.0,37.5,28.4,22.5,32.9,36.8,26.2,30.4],\"x0\":\" \",\"xaxis\":\"x\",\"y\":[29,23,0,0,0,0,38,41,0,15,19,0,26,11,0,31,33,0,25,0,18,0,0,27,0,11,15,21,42,10,60,0,41,0,0,34,27,0,13,27,35,20,30,20,0,33,22,13,0,26,28,29,54,25,19,0,15,40,18,27,28,18,30,0,0,18,0,29,0,28,31,34,0,0,23,15,39,30,0,30,36,31,13,20,26,25,0,29,0,30,26,31,23,37,35,0,17,50,0,42,15,21,19,38,40,34,23,25,0,0,12,23,42,24,0,0,0,18,20,0,0,0,44,20,0,16,0,20,16,32,28,27,22,54,31,30,0,33,15,27,0,39,31,25,0,28,0,24,32,35,0,33,33,19,0,0,14,32,39,22,16,15,32,15,18,42,0,32,0,50,0,52,23,0,10,28,15,26,44,17,43,29,0,31,29,0,41,0,37,14,30,37,10,22,11,39,12,32,21,0,32,19,16,0,18,43,0,13,21,35,0,0,36,19,0,19,0,0,28,12,0,40,0,37,25,28,17,16,23,22,40,43,15,37,39,30,22,8,18,24,13,23,29,14,12,24,34,0,0,25,32,0,39,30,23,22,21,0,41,18,46,22,0,46,0,16,11,0,8,33,0,15,0,23,27,12,45,18,13,32,0,28,0,28,33,22,0,40,30,0,13,10,36,41,40,38,27,0,0,27,17,38,31,37,22,31,41,32,17,0,28,30,38,0,0,0,15,32,19,32,25,39,0,23,23,0,17,0,0,19,0,0,7,32,33,0,0,18,19,15,31,0,18,0,52,0,30,0,0,37,23,29,21,43,31,28,30,0,24,23,33,40,0,40,0,34,19,0,14,30,32,29,0,0,31,17,30,47,20,0,27,17,0,11,0,0,50,22,45,0,19,18,19,0,36,32,25,39,13,21,28,0,0,13,42,20,0,27,0,47,0,0,0,22,40,0,17,0,0,18,12,17,0,0,30,35,25,25,23,40,0,28,35,48,0,0,45,33,30,26,10,23,35,0,0,17,28,39,0,26,0,19,26,0,32,0,0,11,0,27,0,20,36,21,13,27,20,0,18,46,19,36,30,0,40,29,26,0,0,27,0,32,27,23,17,20,18,37,33,41,39,24,41,0,26,0,48,27,23,31],\"y0\":\" \",\"yaxis\":\"y\",\"type\":\"box\"}],                        {\"template\":{\"data\":{\"histogram2dcontour\":[{\"type\":\"histogram2dcontour\",\"colorbar\":{\"outlinewidth\":0,\"ticks\":\"\"},\"colorscale\":[[0.0,\"#0d0887\"],[0.1111111111111111,\"#46039f\"],[0.2222222222222222,\"#7201a8\"],[0.3333333333333333,\"#9c179e\"],[0.4444444444444444,\"#bd3786\"],[0.5555555555555556,\"#d8576b\"],[0.6666666666666666,\"#ed7953\"],[0.7777777777777778,\"#fb9f3a\"],[0.8888888888888888,\"#fdca26\"],[1.0,\"#f0f921\"]]}],\"choropleth\":[{\"type\":\"choropleth\",\"colorbar\":{\"outlinewidth\":0,\"ticks\":\"\"}}],\"histogram2d\":[{\"type\":\"histogram2d\",\"colorbar\":{\"outlinewidth\":0,\"ticks\":\"\"},\"colorscale\":[[0.0,\"#0d0887\"],[0.1111111111111111,\"#46039f\"],[0.2222222222222222,\"#7201a8\"],[0.3333333333333333,\"#9c179e\"],[0.4444444444444444,\"#bd3786\"],[0.5555555555555556,\"#d8576b\"],[0.6666666666666666,\"#ed7953\"],[0.7777777777777778,\"#fb9f3a\"],[0.8888888888888888,\"#fdca26\"],[1.0,\"#f0f921\"]]}],\"heatmap\":[{\"type\":\"heatmap\",\"colorbar\":{\"outlinewidth\":0,\"ticks\":\"\"},\"colorscale\":[[0.0,\"#0d0887\"],[0.1111111111111111,\"#46039f\"],[0.2222222222222222,\"#7201a8\"],[0.3333333333333333,\"#9c179e\"],[0.4444444444444444,\"#bd3786\"],[0.5555555555555556,\"#d8576b\"],[0.6666666666666666,\"#ed7953\"],[0.7777777777777778,\"#fb9f3a\"],[0.8888888888888888,\"#fdca26\"],[1.0,\"#f0f921\"]]}],\"heatmapgl\":[{\"type\":\"heatmapgl\",\"colorbar\":{\"outlinewidth\":0,\"ticks\":\"\"},\"colorscale\":[[0.0,\"#0d0887\"],[0.1111111111111111,\"#46039f\"],[0.2222222222222222,\"#7201a8\"],[0.3333333333333333,\"#9c179e\"],[0.4444444444444444,\"#bd3786\"],[0.5555555555555556,\"#d8576b\"],[0.6666666666666666,\"#ed7953\"],[0.7777777777777778,\"#fb9f3a\"],[0.8888888888888888,\"#fdca26\"],[1.0,\"#f0f921\"]]}],\"contourcarpet\":[{\"type\":\"contourcarpet\",\"colorbar\":{\"outlinewidth\":0,\"ticks\":\"\"}}],\"contour\":[{\"type\":\"contour\",\"colorbar\":{\"outlinewidth\":0,\"ticks\":\"\"},\"colorscale\":[[0.0,\"#0d0887\"],[0.1111111111111111,\"#46039f\"],[0.2222222222222222,\"#7201a8\"],[0.3333333333333333,\"#9c179e\"],[0.4444444444444444,\"#bd3786\"],[0.5555555555555556,\"#d8576b\"],[0.6666666666666666,\"#ed7953\"],[0.7777777777777778,\"#fb9f3a\"],[0.8888888888888888,\"#fdca26\"],[1.0,\"#f0f921\"]]}],\"surface\":[{\"type\":\"surface\",\"colorbar\":{\"outlinewidth\":0,\"ticks\":\"\"},\"colorscale\":[[0.0,\"#0d0887\"],[0.1111111111111111,\"#46039f\"],[0.2222222222222222,\"#7201a8\"],[0.3333333333333333,\"#9c179e\"],[0.4444444444444444,\"#bd3786\"],[0.5555555555555556,\"#d8576b\"],[0.6666666666666666,\"#ed7953\"],[0.7777777777777778,\"#fb9f3a\"],[0.8888888888888888,\"#fdca26\"],[1.0,\"#f0f921\"]]}],\"mesh3d\":[{\"type\":\"mesh3d\",\"colorbar\":{\"outlinewidth\":0,\"ticks\":\"\"}}],\"scatter\":[{\"fillpattern\":{\"fillmode\":\"overlay\",\"size\":10,\"solidity\":0.2},\"type\":\"scatter\"}],\"parcoords\":[{\"type\":\"parcoords\",\"line\":{\"colorbar\":{\"outlinewidth\":0,\"ticks\":\"\"}}}],\"scatterpolargl\":[{\"type\":\"scatterpolargl\",\"marker\":{\"colorbar\":{\"outlinewidth\":0,\"ticks\":\"\"}}}],\"bar\":[{\"error_x\":{\"color\":\"#2a3f5f\"},\"error_y\":{\"color\":\"#2a3f5f\"},\"marker\":{\"line\":{\"color\":\"#E5ECF6\",\"width\":0.5},\"pattern\":{\"fillmode\":\"overlay\",\"size\":10,\"solidity\":0.2}},\"type\":\"bar\"}],\"scattergeo\":[{\"type\":\"scattergeo\",\"marker\":{\"colorbar\":{\"outlinewidth\":0,\"ticks\":\"\"}}}],\"scatterpolar\":[{\"type\":\"scatterpolar\",\"marker\":{\"colorbar\":{\"outlinewidth\":0,\"ticks\":\"\"}}}],\"histogram\":[{\"marker\":{\"pattern\":{\"fillmode\":\"overlay\",\"size\":10,\"solidity\":0.2}},\"type\":\"histogram\"}],\"scattergl\":[{\"type\":\"scattergl\",\"marker\":{\"colorbar\":{\"outlinewidth\":0,\"ticks\":\"\"}}}],\"scatter3d\":[{\"type\":\"scatter3d\",\"line\":{\"colorbar\":{\"outlinewidth\":0,\"ticks\":\"\"}},\"marker\":{\"colorbar\":{\"outlinewidth\":0,\"ticks\":\"\"}}}],\"scattermapbox\":[{\"type\":\"scattermapbox\",\"marker\":{\"colorbar\":{\"outlinewidth\":0,\"ticks\":\"\"}}}],\"scatterternary\":[{\"type\":\"scatterternary\",\"marker\":{\"colorbar\":{\"outlinewidth\":0,\"ticks\":\"\"}}}],\"scattercarpet\":[{\"type\":\"scattercarpet\",\"marker\":{\"colorbar\":{\"outlinewidth\":0,\"ticks\":\"\"}}}],\"carpet\":[{\"aaxis\":{\"endlinecolor\":\"#2a3f5f\",\"gridcolor\":\"white\",\"linecolor\":\"white\",\"minorgridcolor\":\"white\",\"startlinecolor\":\"#2a3f5f\"},\"baxis\":{\"endlinecolor\":\"#2a3f5f\",\"gridcolor\":\"white\",\"linecolor\":\"white\",\"minorgridcolor\":\"white\",\"startlinecolor\":\"#2a3f5f\"},\"type\":\"carpet\"}],\"table\":[{\"cells\":{\"fill\":{\"color\":\"#EBF0F8\"},\"line\":{\"color\":\"white\"}},\"header\":{\"fill\":{\"color\":\"#C8D4E3\"},\"line\":{\"color\":\"white\"}},\"type\":\"table\"}],\"barpolar\":[{\"marker\":{\"line\":{\"color\":\"#E5ECF6\",\"width\":0.5},\"pattern\":{\"fillmode\":\"overlay\",\"size\":10,\"solidity\":0.2}},\"type\":\"barpolar\"}],\"pie\":[{\"automargin\":true,\"type\":\"pie\"}]},\"layout\":{\"autotypenumbers\":\"strict\",\"colorway\":[\"#636efa\",\"#EF553B\",\"#00cc96\",\"#ab63fa\",\"#FFA15A\",\"#19d3f3\",\"#FF6692\",\"#B6E880\",\"#FF97FF\",\"#FECB52\"],\"font\":{\"color\":\"#2a3f5f\"},\"hovermode\":\"closest\",\"hoverlabel\":{\"align\":\"left\"},\"paper_bgcolor\":\"white\",\"plot_bgcolor\":\"#E5ECF6\",\"polar\":{\"bgcolor\":\"#E5ECF6\",\"angularaxis\":{\"gridcolor\":\"white\",\"linecolor\":\"white\",\"ticks\":\"\"},\"radialaxis\":{\"gridcolor\":\"white\",\"linecolor\":\"white\",\"ticks\":\"\"}},\"ternary\":{\"bgcolor\":\"#E5ECF6\",\"aaxis\":{\"gridcolor\":\"white\",\"linecolor\":\"white\",\"ticks\":\"\"},\"baxis\":{\"gridcolor\":\"white\",\"linecolor\":\"white\",\"ticks\":\"\"},\"caxis\":{\"gridcolor\":\"white\",\"linecolor\":\"white\",\"ticks\":\"\"}},\"coloraxis\":{\"colorbar\":{\"outlinewidth\":0,\"ticks\":\"\"}},\"colorscale\":{\"sequential\":[[0.0,\"#0d0887\"],[0.1111111111111111,\"#46039f\"],[0.2222222222222222,\"#7201a8\"],[0.3333333333333333,\"#9c179e\"],[0.4444444444444444,\"#bd3786\"],[0.5555555555555556,\"#d8576b\"],[0.6666666666666666,\"#ed7953\"],[0.7777777777777778,\"#fb9f3a\"],[0.8888888888888888,\"#fdca26\"],[1.0,\"#f0f921\"]],\"sequentialminus\":[[0.0,\"#0d0887\"],[0.1111111111111111,\"#46039f\"],[0.2222222222222222,\"#7201a8\"],[0.3333333333333333,\"#9c179e\"],[0.4444444444444444,\"#bd3786\"],[0.5555555555555556,\"#d8576b\"],[0.6666666666666666,\"#ed7953\"],[0.7777777777777778,\"#fb9f3a\"],[0.8888888888888888,\"#fdca26\"],[1.0,\"#f0f921\"]],\"diverging\":[[0,\"#8e0152\"],[0.1,\"#c51b7d\"],[0.2,\"#de77ae\"],[0.3,\"#f1b6da\"],[0.4,\"#fde0ef\"],[0.5,\"#f7f7f7\"],[0.6,\"#e6f5d0\"],[0.7,\"#b8e186\"],[0.8,\"#7fbc41\"],[0.9,\"#4d9221\"],[1,\"#276419\"]]},\"xaxis\":{\"gridcolor\":\"white\",\"linecolor\":\"white\",\"ticks\":\"\",\"title\":{\"standoff\":15},\"zerolinecolor\":\"white\",\"automargin\":true,\"zerolinewidth\":2},\"yaxis\":{\"gridcolor\":\"white\",\"linecolor\":\"white\",\"ticks\":\"\",\"title\":{\"standoff\":15},\"zerolinecolor\":\"white\",\"automargin\":true,\"zerolinewidth\":2},\"scene\":{\"xaxis\":{\"backgroundcolor\":\"#E5ECF6\",\"gridcolor\":\"white\",\"linecolor\":\"white\",\"showbackground\":true,\"ticks\":\"\",\"zerolinecolor\":\"white\",\"gridwidth\":2},\"yaxis\":{\"backgroundcolor\":\"#E5ECF6\",\"gridcolor\":\"white\",\"linecolor\":\"white\",\"showbackground\":true,\"ticks\":\"\",\"zerolinecolor\":\"white\",\"gridwidth\":2},\"zaxis\":{\"backgroundcolor\":\"#E5ECF6\",\"gridcolor\":\"white\",\"linecolor\":\"white\",\"showbackground\":true,\"ticks\":\"\",\"zerolinecolor\":\"white\",\"gridwidth\":2}},\"shapedefaults\":{\"line\":{\"color\":\"#2a3f5f\"}},\"annotationdefaults\":{\"arrowcolor\":\"#2a3f5f\",\"arrowhead\":0,\"arrowwidth\":1},\"geo\":{\"bgcolor\":\"white\",\"landcolor\":\"#E5ECF6\",\"subunitcolor\":\"white\",\"showland\":true,\"showlakes\":true,\"lakecolor\":\"white\"},\"title\":{\"x\":0.05},\"mapbox\":{\"style\":\"light\"}}},\"xaxis\":{\"anchor\":\"y\",\"domain\":[0.0,1.0],\"title\":{\"text\":\"BMI\"}},\"yaxis\":{\"anchor\":\"x\",\"domain\":[0.0,1.0],\"title\":{\"text\":\"SkinThickness\"}},\"legend\":{\"title\":{\"text\":\"Outcome\"},\"tracegroupgap\":0},\"margin\":{\"t\":60},\"boxmode\":\"group\"},                        {\"responsive\": true}                    ).then(function(){\n                            \nvar gd = document.getElementById('e27e1687-1c67-4689-963c-aec11e15cbc8');\nvar x = new MutationObserver(function (mutations, observer) {{\n        var display = window.getComputedStyle(gd).display;\n        if (!display || display === 'none') {{\n            console.log([gd, 'removed!']);\n            Plotly.purge(gd);\n            observer.disconnect();\n        }}\n}});\n\n// Listen for the removal of the full notebook cells\nvar notebookContainer = gd.closest('#notebook-container');\nif (notebookContainer) {{\n    x.observe(notebookContainer, {childList: true});\n}}\n\n// Listen for the clearing of the current output cell\nvar outputEl = gd.closest('.output');\nif (outputEl) {{\n    x.observe(outputEl, {childList: true});\n}}\n\n                        })                };                            </script>        </div>\n</body>\n</html>"
     },
     "execution_count": 22,
     "metadata": {
     },
     "output_type": "execute_result"
    }
   ],
   "source": [
    "import plotly.express as px\n",
    "import pandas as pd\n",
    "\n",
    "diabetes_data = pd.read_csv(\"./Data/diabetes.csv\")\n",
    "\n",
    "import plotly.express as px\n",
    "df = diabetes_data\n",
    "fig = px.box(df, x=\"BMI\", y=\"SkinThickness\", color=\"Outcome\")\n",
    "fig.show()"
   ]
  },
  {
   "cell_type": "code",
   "execution_count": 22,
   "metadata": {
    "collapsed": false
   },
   "outputs": [
    {
     "ename": "KeyError",
     "evalue": "(nan, '', '', '', '')",
     "output_type": "error",
     "traceback": [
      "\u001b[0;31m---------------------------------------------------------------------------\u001b[0m",
      "\u001b[0;31mKeyError\u001b[0m                                  Traceback (most recent call last)",
      "Input \u001b[0;32mIn [22]\u001b[0m, in \u001b[0;36m<cell line: 8>\u001b[0;34m()\u001b[0m\n\u001b[1;32m      6\u001b[0m \u001b[38;5;28;01mimport\u001b[39;00m \u001b[38;5;21;01mplotly\u001b[39;00m\u001b[38;5;21;01m.\u001b[39;00m\u001b[38;5;21;01mexpress\u001b[39;00m \u001b[38;5;28;01mas\u001b[39;00m \u001b[38;5;21;01mpx\u001b[39;00m\n\u001b[1;32m      7\u001b[0m df \u001b[38;5;241m=\u001b[39m netflix_data\n\u001b[0;32m----> 8\u001b[0m fig \u001b[38;5;241m=\u001b[39m \u001b[43mpx\u001b[49m\u001b[38;5;241;43m.\u001b[39;49m\u001b[43mscatter\u001b[49m\u001b[43m(\u001b[49m\u001b[43mdf\u001b[49m\u001b[43m,\u001b[49m\u001b[43m \u001b[49m\u001b[43mx\u001b[49m\u001b[38;5;241;43m=\u001b[39;49m\u001b[38;5;124;43m\"\u001b[39;49m\u001b[38;5;124;43mrating\u001b[39;49m\u001b[38;5;124;43m\"\u001b[39;49m\u001b[43m,\u001b[49m\u001b[43m \u001b[49m\u001b[43my\u001b[49m\u001b[38;5;241;43m=\u001b[39;49m\u001b[38;5;124;43m\"\u001b[39;49m\u001b[38;5;124;43mtitle\u001b[39;49m\u001b[38;5;124;43m\"\u001b[39;49m\u001b[43m,\u001b[49m\u001b[43m \u001b[49m\u001b[43mcolor\u001b[49m\u001b[38;5;241;43m=\u001b[39;49m\u001b[38;5;124;43m\"\u001b[39;49m\u001b[38;5;124;43mduration\u001b[39;49m\u001b[38;5;124;43m\"\u001b[39;49m\u001b[43m)\u001b[49m\n\u001b[1;32m      9\u001b[0m fig\u001b[38;5;241m.\u001b[39mshow()\n",
      "File \u001b[0;32m~/miniconda3/lib/python3.9/site-packages/plotly/express/_chart_types.py:66\u001b[0m, in \u001b[0;36mscatter\u001b[0;34m(data_frame, x, y, color, symbol, size, hover_name, hover_data, custom_data, text, facet_row, facet_col, facet_col_wrap, facet_row_spacing, facet_col_spacing, error_x, error_x_minus, error_y, error_y_minus, animation_frame, animation_group, category_orders, labels, orientation, color_discrete_sequence, color_discrete_map, color_continuous_scale, range_color, color_continuous_midpoint, symbol_sequence, symbol_map, opacity, size_max, marginal_x, marginal_y, trendline, trendline_options, trendline_color_override, trendline_scope, log_x, log_y, range_x, range_y, render_mode, title, template, width, height)\u001b[0m\n\u001b[1;32m     12\u001b[0m \u001b[38;5;28;01mdef\u001b[39;00m \u001b[38;5;21mscatter\u001b[39m(\n\u001b[1;32m     13\u001b[0m     data_frame\u001b[38;5;241m=\u001b[39m\u001b[38;5;28;01mNone\u001b[39;00m,\n\u001b[1;32m     14\u001b[0m     x\u001b[38;5;241m=\u001b[39m\u001b[38;5;28;01mNone\u001b[39;00m,\n\u001b[0;32m   (...)\u001b[0m\n\u001b[1;32m     60\u001b[0m     height\u001b[38;5;241m=\u001b[39m\u001b[38;5;28;01mNone\u001b[39;00m,\n\u001b[1;32m     61\u001b[0m ) \u001b[38;5;241m-\u001b[39m\u001b[38;5;241m>\u001b[39m go\u001b[38;5;241m.\u001b[39mFigure:\n\u001b[1;32m     62\u001b[0m     \u001b[38;5;124;03m\"\"\"\u001b[39;00m\n\u001b[1;32m     63\u001b[0m \u001b[38;5;124;03m    In a scatter plot, each row of `data_frame` is represented by a symbol\u001b[39;00m\n\u001b[1;32m     64\u001b[0m \u001b[38;5;124;03m    mark in 2D space.\u001b[39;00m\n\u001b[1;32m     65\u001b[0m \u001b[38;5;124;03m    \"\"\"\u001b[39;00m\n\u001b[0;32m---> 66\u001b[0m     \u001b[38;5;28;01mreturn\u001b[39;00m \u001b[43mmake_figure\u001b[49m\u001b[43m(\u001b[49m\u001b[43margs\u001b[49m\u001b[38;5;241;43m=\u001b[39;49m\u001b[38;5;28;43mlocals\u001b[39;49m\u001b[43m(\u001b[49m\u001b[43m)\u001b[49m\u001b[43m,\u001b[49m\u001b[43m \u001b[49m\u001b[43mconstructor\u001b[49m\u001b[38;5;241;43m=\u001b[39;49m\u001b[43mgo\u001b[49m\u001b[38;5;241;43m.\u001b[39;49m\u001b[43mScatter\u001b[49m\u001b[43m)\u001b[49m\n",
      "File \u001b[0;32m~/miniconda3/lib/python3.9/site-packages/plotly/express/_core.py:1991\u001b[0m, in \u001b[0;36mmake_figure\u001b[0;34m(args, constructor, trace_patch, layout_patch)\u001b[0m\n\u001b[1;32m   1989\u001b[0m facet_col_wrap \u001b[38;5;241m=\u001b[39m args\u001b[38;5;241m.\u001b[39mget(\u001b[38;5;124m\"\u001b[39m\u001b[38;5;124mfacet_col_wrap\u001b[39m\u001b[38;5;124m\"\u001b[39m, \u001b[38;5;241m0\u001b[39m)\n\u001b[1;32m   1990\u001b[0m \u001b[38;5;28;01mfor\u001b[39;00m group_name \u001b[38;5;129;01min\u001b[39;00m sorted_group_names:\n\u001b[0;32m-> 1991\u001b[0m     group \u001b[38;5;241m=\u001b[39m \u001b[43mgrouped\u001b[49m\u001b[38;5;241;43m.\u001b[39;49m\u001b[43mget_group\u001b[49m\u001b[43m(\u001b[49m\u001b[43mgroup_name\u001b[49m\u001b[43m \u001b[49m\u001b[38;5;28;43;01mif\u001b[39;49;00m\u001b[43m \u001b[49m\u001b[38;5;28;43mlen\u001b[39;49m\u001b[43m(\u001b[49m\u001b[43mgroup_name\u001b[49m\u001b[43m)\u001b[49m\u001b[43m \u001b[49m\u001b[38;5;241;43m>\u001b[39;49m\u001b[43m \u001b[49m\u001b[38;5;241;43m1\u001b[39;49m\u001b[43m \u001b[49m\u001b[38;5;28;43;01melse\u001b[39;49;00m\u001b[43m \u001b[49m\u001b[43mgroup_name\u001b[49m\u001b[43m[\u001b[49m\u001b[38;5;241;43m0\u001b[39;49m\u001b[43m]\u001b[49m\u001b[43m)\u001b[49m\n\u001b[1;32m   1992\u001b[0m     mapping_labels \u001b[38;5;241m=\u001b[39m OrderedDict()\n\u001b[1;32m   1993\u001b[0m     trace_name_labels \u001b[38;5;241m=\u001b[39m OrderedDict()\n",
      "File \u001b[0;32m~/miniconda3/lib/python3.9/site-packages/pandas/core/groupby/groupby.py:747\u001b[0m, in \u001b[0;36mBaseGroupBy.get_group\u001b[0;34m(self, name, obj)\u001b[0m\n\u001b[1;32m    745\u001b[0m inds \u001b[38;5;241m=\u001b[39m \u001b[38;5;28mself\u001b[39m\u001b[38;5;241m.\u001b[39m_get_index(name)\n\u001b[1;32m    746\u001b[0m \u001b[38;5;28;01mif\u001b[39;00m \u001b[38;5;129;01mnot\u001b[39;00m \u001b[38;5;28mlen\u001b[39m(inds):\n\u001b[0;32m--> 747\u001b[0m     \u001b[38;5;28;01mraise\u001b[39;00m \u001b[38;5;167;01mKeyError\u001b[39;00m(name)\n\u001b[1;32m    749\u001b[0m \u001b[38;5;28;01mreturn\u001b[39;00m obj\u001b[38;5;241m.\u001b[39m_take_with_is_copy(inds, axis\u001b[38;5;241m=\u001b[39m\u001b[38;5;28mself\u001b[39m\u001b[38;5;241m.\u001b[39maxis)\n",
      "\u001b[0;31mKeyError\u001b[0m: (nan, '', '', '', '')"
     ]
    }
   ],
   "source": [
    "import plotly.express as px\n",
    "import pandas as pd\n",
    "\n",
    "netflix_data = pd.read_csv(\"./Data/netflix_titles.csv\")\n",
    "\n",
    "import plotly.express as px\n",
    "df = netflix_data\n",
    "fig = px.scatter(df, x=\"rating\", y=\"title\", color=\"duration\")\n",
    "fig.show()"
   ]
  },
  {
   "cell_type": "code",
   "execution_count": 0,
   "metadata": {
    "collapsed": false
   },
   "outputs": [
   ],
   "source": [
   ]
  }
 ],
 "metadata": {
  "kernelspec": {
   "display_name": "Python (elastic-searchers)",
   "language": "python",
   "metadata": {
    "debugger": true
   },
   "name": "elastic-searchers",
   "resource_dir": "/projects/05f9739e-2d87-475f-8959-182c2b9b5192/.local/share/jupyter/kernels/elastic-searchers"
  },
  "language_info": {
   "codemirror_mode": {
    "name": "ipython",
    "version": 3
   },
   "file_extension": ".py",
   "mimetype": "text/x-python",
   "name": "python",
   "nbconvert_exporter": "python",
   "pygments_lexer": "ipython3",
   "version": "3.9.12"
  }
 },
 "nbformat": 4,
 "nbformat_minor": 4
}