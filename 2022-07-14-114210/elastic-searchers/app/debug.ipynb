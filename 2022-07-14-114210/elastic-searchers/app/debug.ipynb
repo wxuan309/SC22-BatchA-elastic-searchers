{
 "cells": [
  {
   "cell_type": "code",
   "execution_count": 1,
   "metadata": {
    "collapsed": false
   },
   "outputs": [
   ],
   "source": [
    "import pandas as pd\n",
    "import pickle"
   ]
  },
  {
   "cell_type": "code",
   "execution_count": 33,
   "metadata": {
    "collapsed": false
   },
   "outputs": [
    {
     "name": "stdout",
     "output_type": "stream",
     "text": [
      "      0     1   2    3               4   5   6   7  8  9   10             11  \\\n",
      "0  40-49  Male  no  yes  one hr or more  39  no  no  8  6  no   occasionally   \n",
      "\n",
      "          12    13 14 15        16  \n",
      "0  sometimes  high  0  0  not much  \n"
     ]
    },
    {
     "data": {
      "text/html": [
       "<div>\n",
       "<style scoped>\n",
       "    .dataframe tbody tr th:only-of-type {\n",
       "        vertical-align: middle;\n",
       "    }\n",
       "\n",
       "    .dataframe tbody tr th {\n",
       "        vertical-align: top;\n",
       "    }\n",
       "\n",
       "    .dataframe thead th {\n",
       "        text-align: right;\n",
       "    }\n",
       "</style>\n",
       "<table border=\"1\" class=\"dataframe\">\n",
       "  <thead>\n",
       "    <tr style=\"text-align: right;\">\n",
       "      <th></th>\n",
       "      <th>Age</th>\n",
       "      <th>Gender</th>\n",
       "      <th>Family_Diabetes</th>\n",
       "      <th>highBP</th>\n",
       "      <th>PhysicallyActive</th>\n",
       "      <th>BMI</th>\n",
       "      <th>Smoking</th>\n",
       "      <th>Alcohol</th>\n",
       "      <th>Sleep</th>\n",
       "      <th>SoundSleep</th>\n",
       "      <th>RegularMedicine</th>\n",
       "      <th>JunkFood</th>\n",
       "      <th>Stress</th>\n",
       "      <th>BPLevel</th>\n",
       "      <th>Pregancies</th>\n",
       "      <th>Pdiabetes</th>\n",
       "      <th>UriationFreq</th>\n",
       "    </tr>\n",
       "  </thead>\n",
       "  <tbody>\n",
       "    <tr>\n",
       "      <th>0</th>\n",
       "      <td>40-49</td>\n",
       "      <td>Male</td>\n",
       "      <td>no</td>\n",
       "      <td>yes</td>\n",
       "      <td>one hr or more</td>\n",
       "      <td>39</td>\n",
       "      <td>no</td>\n",
       "      <td>no</td>\n",
       "      <td>8</td>\n",
       "      <td>6</td>\n",
       "      <td>no</td>\n",
       "      <td>occasionally</td>\n",
       "      <td>sometimes</td>\n",
       "      <td>high</td>\n",
       "      <td>0</td>\n",
       "      <td>0</td>\n",
       "      <td>not much</td>\n",
       "    </tr>\n",
       "  </tbody>\n",
       "</table>\n",
       "</div>"
      ],
      "text/plain": [
       "     Age Gender Family_Diabetes highBP PhysicallyActive BMI Smoking Alcohol  \\\n",
       "0  40-49   Male              no    yes   one hr or more  39      no      no   \n",
       "\n",
       "  Sleep SoundSleep RegularMedicine       JunkFood     Stress BPLevel  \\\n",
       "0     8          6              no   occasionally  sometimes    high   \n",
       "\n",
       "  Pregancies Pdiabetes UriationFreq  \n",
       "0          0         0     not much  "
      ]
     },
     "execution_count": 33,
     "metadata": {
     },
     "output_type": "execute_result"
    }
   ],
   "source": [
    "values = ['40-49', 'Male', 'no', 'yes', 'one hr or more', '39', 'no', 'no', '8', '6', 'no',' occasionally', 'sometimes', 'high', '0', '0', 'not much']\n",
    "df = pd.DataFrame(values).T\n",
    "print(df)\n",
    "df.columns = ['Age', 'Gender', 'Family_Diabetes', 'highBP', 'PhysicallyActive', 'BMI',\n",
    "       'Smoking', 'Alcohol', 'Sleep', 'SoundSleep', 'RegularMedicine',\n",
    "       'JunkFood', 'Stress', 'BPLevel', 'Pregancies', 'Pdiabetes',\n",
    "       'UriationFreq']\n",
    "df"
   ]
  },
  {
   "cell_type": "code",
   "execution_count": 31,
   "metadata": {
    "collapsed": false
   },
   "outputs": [
    {
     "data": {
      "text/html": [
       "<div>\n",
       "<style scoped>\n",
       "    .dataframe tbody tr th:only-of-type {\n",
       "        vertical-align: middle;\n",
       "    }\n",
       "\n",
       "    .dataframe tbody tr th {\n",
       "        vertical-align: top;\n",
       "    }\n",
       "\n",
       "    .dataframe thead th {\n",
       "        text-align: right;\n",
       "    }\n",
       "</style>\n",
       "<table border=\"1\" class=\"dataframe\">\n",
       "  <thead>\n",
       "    <tr style=\"text-align: right;\">\n",
       "      <th></th>\n",
       "      <th>BMI</th>\n",
       "      <th>Sleep</th>\n",
       "      <th>SoundSleep</th>\n",
       "      <th>Pregancies</th>\n",
       "      <th>Age_40-49</th>\n",
       "      <th>Gender_Male</th>\n",
       "      <th>Family_Diabetes_no</th>\n",
       "      <th>highBP_yes</th>\n",
       "      <th>PhysicallyActive_one hr or more</th>\n",
       "      <th>Smoking_no</th>\n",
       "      <th>...</th>\n",
       "      <th>JunkFood_very often</th>\n",
       "      <th>Stress_always</th>\n",
       "      <th>Stress_not at all</th>\n",
       "      <th>Stress_very often</th>\n",
       "      <th>BPLevel_High</th>\n",
       "      <th>BPLevel_Low</th>\n",
       "      <th>BPLevel_low</th>\n",
       "      <th>BPLevel_normal</th>\n",
       "      <th>Pdiabetes_yes</th>\n",
       "      <th>UriationFreq_quite often</th>\n",
       "    </tr>\n",
       "  </thead>\n",
       "  <tbody>\n",
       "    <tr>\n",
       "      <th>0</th>\n",
       "      <td>39</td>\n",
       "      <td>8</td>\n",
       "      <td>6</td>\n",
       "      <td>0</td>\n",
       "      <td>1</td>\n",
       "      <td>1</td>\n",
       "      <td>1</td>\n",
       "      <td>1</td>\n",
       "      <td>1</td>\n",
       "      <td>1</td>\n",
       "      <td>...</td>\n",
       "      <td>0</td>\n",
       "      <td>0</td>\n",
       "      <td>0</td>\n",
       "      <td>0</td>\n",
       "      <td>0</td>\n",
       "      <td>0</td>\n",
       "      <td>0</td>\n",
       "      <td>0</td>\n",
       "      <td>0</td>\n",
       "      <td>0</td>\n",
       "    </tr>\n",
       "  </tbody>\n",
       "</table>\n",
       "<p>1 rows × 43 columns</p>\n",
       "</div>"
      ],
      "text/plain": [
       "   BMI  Sleep  SoundSleep  Pregancies  Age_40-49  Gender_Male  \\\n",
       "0   39      8           6           0          1            1   \n",
       "\n",
       "   Family_Diabetes_no  highBP_yes  PhysicallyActive_one hr or more  \\\n",
       "0                   1           1                                1   \n",
       "\n",
       "   Smoking_no  ...  JunkFood_very often  Stress_always  Stress_not at all  \\\n",
       "0           1  ...                    0              0                  0   \n",
       "\n",
       "   Stress_very often  BPLevel_High  BPLevel_Low  BPLevel_low  BPLevel_normal  \\\n",
       "0                  0             0            0            0               0   \n",
       "\n",
       "   Pdiabetes_yes  UriationFreq_quite often  \n",
       "0              0                         0  \n",
       "\n",
       "[1 rows x 43 columns]"
      ]
     },
     "execution_count": 31,
     "metadata": {
     },
     "output_type": "execute_result"
    }
   ],
   "source": [
    "def encode(values):\n",
    "    df = pd.DataFrame(values).T\n",
    "    df.columns = ['Age', 'Gender', 'Family_Diabetes', 'highBP', 'PhysicallyActive', 'BMI',\n",
    "       'Smoking', 'Alcohol', 'Sleep', 'SoundSleep', 'RegularMedicine',\n",
    "       'JunkFood', 'Stress', 'BPLevel', 'Pregancies', 'Pdiabetes',\n",
    "       'UriationFreq']\n",
    "    df = df.astype({\"BMI\":\"int\",\"Sleep\":\"int\",\"SoundSleep\":\"int\",\"Pregancies\":\"int\",\"Pdiabetes\":\"int\"})\n",
    "    col_category = ['Age','Gender','Family_Diabetes','highBP','PhysicallyActive','Smoking','Alcohol','RegularMedicine',\n",
    "                'JunkFood','Stress','BPLevel','Pdiabetes','UriationFreq']\n",
    "    for col in col_category:\n",
    "        df = pd.concat([df.drop(col, axis=1), pd.get_dummies(df[col], prefix=col, prefix_sep='_')], axis=1)\n",
    "    all_cols = ['BMI','Sleep','SoundSleep','Pregancies','Age_40-49','Age_50-59','Age_60 or older','Age_less than 40','Gender_Female',\n",
    "                'Gender_Male','Family_Diabetes_no','Family_Diabetes_yes','highBP_no','highBP_yes',\n",
    "                'PhysicallyActive_less than half an hr','PhysicallyActive_more than half an hr','PhysicallyActive_none',\n",
    "                'PhysicallyActive_one hr or more','Smoking_no','Smoking_yes','Alcohol_no','Alcohol_yes','RegularMedicine_no','RegularMedicine_o',\n",
    "                'RegularMedicine_yes','JunkFood_always','JunkFood_occasionally','JunkFood_often','JunkFood_very often','Stress_always',\n",
    "                'Stress_not at all','Stress_sometimes','Stress_very often','BPLevel_High','BPLevel_Low','BPLevel_high','BPLevel_low','BPLevel_normal',\n",
    "                'BPLevel_normal ','Pdiabetes_0','Pdiabetes_yes','UriationFreq_not much','UriationFreq_quite often']\n",
    "    for i in all_cols:\n",
    "        if i not in df:\n",
    "            df[i] = 0\n",
    "    df = df[all_cols]\n",
    "    print(df)\n",
    "    return df\n",
    "\n",
    "predict = encode(values)\n",
    "rfc.predict(predict)"
   ]
  },
  {
   "cell_type": "code",
   "execution_count": 0,
   "metadata": {
    "collapsed": false
   },
   "outputs": [
   ],
   "source": [
   ]
  }
 ],
 "metadata": {
  "kernelspec": {
   "display_name": "Python (elastic-searchers)",
   "language": "python",
   "metadata": {
    "debugger": true
   },
   "name": "elastic-searchers",
   "resource_dir": "/projects/013ca607-9af4-4b8b-9eb4-c9fa83e65e2d/.local/share/jupyter/kernels/elastic-searchers"
  }
 },
 "nbformat": 4,
 "nbformat_minor": 4
}