{
 "cells": [
  {
   "cell_type": "markdown",
   "metadata": {
    "collapsed": false,
    "id": "K_X2fB9ta-rv"
   },
   "source": [
    "# Linear regression using NumPy"
   ]
  },
  {
   "cell_type": "code",
   "execution_count": 2,
   "metadata": {
    "collapsed": false,
    "executionInfo": {
     "elapsed": 31,
     "status": "ok",
     "timestamp": 1627498066861,
     "user": {
      "displayName": "Fernanda Murillo",
      "photoUrl": "",
      "userId": "17562885266255337733"
     },
     "user_tz": 600
    },
    "id": "IecuRdF1a-sG"
   },
   "outputs": [
   ],
   "source": [
    "# import libraries \n",
    "import numpy as np\n",
    "import matplotlib.pyplot as plt"
   ]
  },
  {
   "cell_type": "markdown",
   "metadata": {
    "collapsed": false,
    "id": "JlrQHpg8a-sI"
   },
   "source": [
    "## Data Generation\n",
    "\n"
   ]
  },
  {
   "cell_type": "code",
   "execution_count": 6,
   "metadata": {
    "collapsed": false
   },
   "outputs": [
    {
     "data": {
      "text/plain": [
       "4"
      ]
     },
     "execution_count": 6,
     "metadata": {
     },
     "output_type": "execute_result"
    }
   ],
   "source": [
    "my_list = [0,1,2,3]\n",
    "len(my_list)"
   ]
  },
  {
   "cell_type": "code",
   "execution_count": 12,
   "metadata": {
    "collapsed": false,
    "executionInfo": {
     "elapsed": 219,
     "status": "ok",
     "timestamp": 1627498568931,
     "user": {
      "displayName": "Fernanda Murillo",
      "photoUrl": "",
      "userId": "17562885266255337733"
     },
     "user_tz": 600
    },
    "id": "BYHvay0xa-sK"
   },
   "outputs": [
    {
     "data": {
      "text/plain": [
       "1000"
      ]
     },
     "execution_count": 12,
     "metadata": {
     },
     "output_type": "execute_result"
    }
   ],
   "source": [
    "# initialize your random seed to ensure reproducibility of your result\n",
    "np.random.seed(42) # Why 42 (It works well for computer science) - https://medium.com/@leticia.b/the-story-of-seed-42-874953452b94\n",
    "\n",
    "# randomly generate x which is a vector of 100 points \n",
    "x = np.random.rand(1000, 1)\n",
    "\n",
    "# define exact linear function y = 1 + 2x + epsilon where epsilon (0.1*random numbers)\n",
    "y = 1 + 2 * x + .1 * np.random.randn(1000, 1)\n",
    "len(y)"
   ]
  },
  {
   "cell_type": "markdown",
   "metadata": {
    "collapsed": false,
    "id": "irEOBQoca-sL"
   },
   "source": [
    "## split data into train and validation sets (80/20)"
   ]
  },
  {
   "cell_type": "code",
   "execution_count": 14,
   "metadata": {
    "collapsed": false,
    "executionInfo": {
     "elapsed": 235,
     "status": "ok",
     "timestamp": 1627498579768,
     "user": {
      "displayName": "Fernanda Murillo",
      "photoUrl": "",
      "userId": "17562885266255337733"
     },
     "user_tz": 600
    },
    "id": "_ntl2sX3a-sL"
   },
   "outputs": [
    {
     "data": {
      "text/plain": [
       "array([150, 900, 503, 191, 726,  91, 472, 260, 351, 130, 940, 446, 346,\n",
       "       720, 109,  20, 231, 709, 481, 502, 520, 793, 999, 339, 638, 842,\n",
       "       296, 373, 345,  41, 228, 830, 986, 344,  36,  70, 858, 452, 461,\n",
       "       297, 471, 845, 551, 423, 388, 972, 733, 803, 199, 252, 568, 185,\n",
       "        59, 958, 175, 766, 444, 141, 448, 105, 561, 697, 327, 738, 410,\n",
       "       530, 491, 151, 954, 120,  55, 962,  71, 794, 614,   1, 457, 784,\n",
       "       114, 862, 711, 769, 119, 238, 710, 978, 459, 651,  96,  79, 899,\n",
       "       337, 143, 514, 909, 129, 253, 915,  28, 189, 922, 517, 477, 401,\n",
       "       903, 762, 334, 905, 250, 866, 847, 593, 964,  17, 380, 144, 166,\n",
       "       554, 145, 823, 476, 352, 157, 800, 317, 917, 897, 579, 275, 424,\n",
       "       945, 742, 591, 422, 258, 385, 489, 959, 149, 907, 179, 242, 764,\n",
       "       616, 664, 989, 649, 376, 696, 891, 547,  50, 542, 421, 773, 779,\n",
       "       626, 854, 274, 365, 494, 706, 367, 269,   8, 505,  31, 941, 991,\n",
       "       838, 268, 669, 622, 490, 639, 533, 692, 676, 492, 935, 305, 249,\n",
       "       435, 206, 621, 892, 282, 953, 740, 211, 650,  37, 431, 417, 329,\n",
       "       178, 698, 525, 588,  84, 887, 248, 872, 167, 526, 210, 314, 371,\n",
       "       405, 308, 916, 370, 790, 219,  94, 849, 270, 584, 806, 635, 973,\n",
       "       592, 184, 947,  66, 480, 309, 630, 743, 403, 802, 188, 190, 877,\n",
       "       652,  23, 822, 467, 933, 808, 537, 644, 399, 347, 218, 237, 323,\n",
       "       968, 102, 318, 745, 111, 315, 135, 290, 939, 641, 623, 333, 469,\n",
       "       708,  39, 755, 438, 963, 837,  75, 990, 693, 883, 255, 196, 860,\n",
       "       220, 236, 924, 104, 946, 202, 265, 288, 613,  57, 721, 746, 791,\n",
       "       395, 577, 748, 672, 828, 834, 205, 316, 713, 910, 717, 432, 798,\n",
       "       466, 807, 930, 512, 128,  33, 313, 756, 767, 689, 789, 957, 840,\n",
       "       833, 884, 600, 918, 952, 497, 366, 754, 970, 521, 254, 544, 744,\n",
       "        35, 634, 597, 531, 819, 895, 414, 602, 409, 882, 988,  38, 425,\n",
       "        93, 341, 594, 688, 246, 335, 874, 298, 965, 878, 870, 609, 284,\n",
       "       381, 620, 607, 982, 716, 550,  88, 979, 843, 331, 902, 509, 729,\n",
       "       661, 751, 545, 569, 961, 271, 168,  69, 515, 555,  10,  49, 332,\n",
       "       881, 239, 995, 404, 107, 538,   7,  92,   5, 549, 659, 980, 301,\n",
       "       934,  77, 893,  85,  61, 605, 601,  45, 727, 871,  60, 500,  14,\n",
       "       463, 160, 540, 247, 360, 307,  83,   4, 715, 608, 281, 241, 173,\n",
       "       158,  46, 737, 518, 768, 781,  51, 818, 759, 648, 462, 350, 850,\n",
       "       943, 511, 797, 338, 300, 393, 705,  25, 361, 198, 723, 788, 783,\n",
       "       506, 851, 702, 287, 142, 914, 894, 606, 311, 132, 787, 392, 468,\n",
       "        89,   3, 770, 596, 867,  78, 777, 625, 225,  97, 599, 412, 950,\n",
       "       996, 131, 618, 813, 679, 654, 216, 587, 224, 765, 330, 997, 456,\n",
       "       306, 529, 772, 134, 460, 632, 372,  42, 207,  15, 615, 728, 580,\n",
       "       243, 929, 441,  54,  32, 152, 223, 852, 390, 133, 589, 570, 739,\n",
       "       221, 585, 186, 868, 180, 977, 691, 815, 949, 118, 229, 998, 377,\n",
       "       408, 170, 181,  16, 792, 993, 137, 397, 886, 536, 896,  43,  53,\n",
       "       938, 976, 642, 524, 653, 731, 251, 598, 355, 863, 966, 712, 571,\n",
       "       148, 325,  27,   2, 273, 262, 670, 172, 937, 458, 165, 749, 674,\n",
       "       640,  99, 396, 209, 582, 454, 235, 226, 495, 718, 683, 552, 539,\n",
       "       778, 501, 775, 292, 864, 856, 595, 522, 535, 100, 662, 984, 855,\n",
       "       174, 217, 617, 400, 927, 926, 197, 176, 994, 701, 451, 427, 136,\n",
       "       576, 156, 906, 389,  87, 841, 208, 969,  95, 153, 240, 440, 590,\n",
       "       560, 859, 839, 801,  11, 465, 470, 857, 204, 904, 956, 734, 971,\n",
       "       643, 411, 177,  13, 159, 563, 758, 455, 483,   9,  73, 445, 543,\n",
       "       944, 182, 776, 898, 280, 312,  52, 402, 831, 436, 232, 320, 564,\n",
       "       230, 629,  26, 566, 631, 214, 951, 294, 724, 507, 821, 809, 741,\n",
       "       473, 449, 321, 681, 774, 655, 987, 161, 960, 804,  65, 527, 685,\n",
       "       122,  82, 572,  44, 932, 699, 583, 354, 888, 357, 413, 259, 383,\n",
       "       264, 534, 814, 732, 722, 675, 256, 975, 861, 127, 955, 647, 140,\n",
       "       704,   0, 869,  24, 291,  64, 889, 646, 873, 326, 487, 112, 263,\n",
       "       369,  18, 752, 302,  56, 285, 695, 546, 811, 680, 193, 901, 967,\n",
       "       912, 319, 565, 682, 725, 348,  21, 479, 113, 719, 286, 700, 493,\n",
       "        12, 890, 322, 574, 780, 736, 336, 115, 328, 510,  47, 162, 844,\n",
       "       750, 686, 825,  81, 730, 690, 464, 753, 827, 981, 703, 714, 398,\n",
       "       406, 215, 416, 586, 101, 227, 810, 694, 782, 747, 619, 303, 885,\n",
       "       146, 528, 581, 523, 557,  19, 183, 908, 475, 486, 992, 757, 660,\n",
       "       245, 139, 923, 684, 266, 116,  90,  63, 658, 163, 612, 656, 516,\n",
       "       283, 519, 848, 921, 835, 663, 760, 213, 103, 763,  98, 272, 508,\n",
       "       434, 829, 110, 482, 636, 279, 603, 384, 498, 358, 138, 299, 532,\n",
       "       382, 340, 496, 761, 879, 853, 415, 353, 553, 342, 378, 820, 364,\n",
       "       673, 304, 488, 164,  68,  67, 277, 735, 108, 499, 637, 430,  58,\n",
       "        76, 796, 368, 200, 785, 707, 645,  86,  34, 123, 169, 548, 875,\n",
       "       121, 484, 541, 244, 124, 826, 261, 817, 562, 233, 447, 362, 429,\n",
       "       154, 665, 771, 556, 942, 578, 442, 343, 375, 836, 433, 876, 624,\n",
       "       387,  30, 925, 485, 203, 931, 627, 687, 391, 324, 575, 805, 880,\n",
       "       816, 394, 125, 474, 478, 426, 985, 913, 443, 201, 668, 786, 147,\n",
       "       558, 192, 983, 567, 420, 195,   6, 667, 439, 289, 678, 919, 928,\n",
       "       379, 611, 117, 824, 671, 559,  74, 359,  22,  62,  40, 846, 171,\n",
       "       155, 194, 450, 799, 865, 363, 187,  29, 633, 948,  72, 374, 428,\n",
       "       610, 419, 657, 106, 437, 276, 795, 293, 504, 407, 278, 920, 222,\n",
       "       126,  48, 573, 212, 356, 974, 812, 310, 832, 234, 418, 267, 936,\n",
       "        80, 257, 295, 349, 911, 386, 677, 604, 513, 628, 666, 453])"
      ]
     },
     "execution_count": 14,
     "metadata": {
     },
     "output_type": "execute_result"
    }
   ],
   "source": [
    "# Shuffles the indices\n",
    "idx = np.arange(1000)\n",
    "\n",
    "np.random.shuffle(idx)\n",
    "\n",
    "# Uses first 80 random indices for train\n",
    "train_idx = idx[:800]\n",
    "\n",
    "# Uses the remaining indices for validation\n",
    "val_idx = idx[800:]\n",
    "\n",
    "# Generates train and validation sets\n",
    "x_train, y_train = x[train_idx], y[train_idx]\n",
    "x_val, y_val = x[val_idx], y[val_idx]\n",
    "idx"
   ]
  },
  {
   "cell_type": "markdown",
   "metadata": {
    "collapsed": false,
    "id": "DCCwyhkya-sM"
   },
   "source": [
    "## plot the train and validation sets"
   ]
  },
  {
   "cell_type": "code",
   "execution_count": 15,
   "metadata": {
    "colab": {
     "base_uri": "https://localhost:8080/",
     "height": 359
    },
    "collapsed": false,
    "executionInfo": {
     "elapsed": 524,
     "status": "ok",
     "timestamp": 1627498583872,
     "user": {
      "displayName": "Fernanda Murillo",
      "photoUrl": "",
      "userId": "17562885266255337733"
     },
     "user_tz": 600
    },
    "id": "W1JhyZ_Na-sM",
    "outputId": "909f5fd9-c203-45cf-d41f-58b09bb727ef"
   },
   "outputs": [
    {
     "data": {
      "image/png": "[encoded data removed]",
      "text/plain": [
       "<Figure size 720x360 with 2 Axes>"
      ]
     },
     "execution_count": 15,
     "metadata": {
      "image/png": {
       "height": 342,
       "width": 619
      },
      "needs_background": "light"
     },
     "output_type": "execute_result"
    }
   ],
   "source": [
    "plt.figure(figsize=(10,5))\n",
    "\n",
    "# plot the train set \n",
    "plt.subplot(1,2,1)\n",
    "plt.scatter(x_train,y_train, c='orange')  \n",
    "plt.xlabel('x', fontsize = 20) \n",
    "plt.ylabel('y', fontsize = 20)\n",
    "plt.title('Generated Data - Train')\n",
    "plt.grid('on')\n",
    "\n",
    "# plot the validation set \n",
    "plt.subplot(1,2,2)\n",
    "plt.scatter(x_val,x_val)  \n",
    "plt.xlabel('x', fontsize = 20) \n",
    "plt.ylabel('y', fontsize = 20)\n",
    "plt.title('Generated Data - Test')\n",
    "plt.grid('on')\n",
    "\n",
    "plt.show()"
   ]
  },
  {
   "cell_type": "markdown",
   "metadata": {
    "collapsed": false,
    "id": "gi4pQP8Ia-sO"
   },
   "source": [
    "## linear regression using numpy "
   ]
  },
  {
   "cell_type": "code",
   "execution_count": 5,
   "metadata": {
    "colab": {
     "base_uri": "https://localhost:8080/"
    },
    "collapsed": false,
    "executionInfo": {
     "elapsed": 241,
     "status": "ok",
     "timestamp": 1627498594869,
     "user": {
      "displayName": "Fernanda Murillo",
      "photoUrl": "",
      "userId": "17562885266255337733"
     },
     "user_tz": 600
    },
    "id": "MjeQPrOKa-sP",
    "outputId": "fe881c09-932e-46f0-9f40-79b6b5c69617"
   },
   "outputs": [
    {
     "name": "stdout",
     "output_type": "stream",
     "text": [
      "[0.49671415] [-0.1382643]\n"
     ]
    }
   ],
   "source": [
    "# initialize your random seed to ensure reproducibility of your result\n",
    "np.random.seed(42)\n",
    "\n",
    "# Initializes parameters \"a\" and \"b\" randomly - they don't need to be good yet\n",
    "a = np.random.randn(1)\n",
    "b = np.random.randn(1)\n",
    "\n",
    "# print values of a and b \n",
    "print(a, b)\n"
   ]
  },
  {
   "cell_type": "code",
   "execution_count": 6,
   "metadata": {
    "collapsed": false,
    "executionInfo": {
     "elapsed": 240,
     "status": "ok",
     "timestamp": 1627498605594,
     "user": {
      "displayName": "Fernanda Murillo",
      "photoUrl": "",
      "userId": "17562885266255337733"
     },
     "user_tz": 600
    },
    "id": "xaIPfjB1a-sP"
   },
   "outputs": [
   ],
   "source": [
    "# Initialization of hyper-parameters (in our case, only learning rate and number of epochs)\n",
    "\n",
    "# Sets learning rate (how much the AI conforms to each set of feedbacks)\n",
    "lr = 1e-1\n",
    "# Defines number of epochs (how many times training is repeated)\n",
    "n_epochs = 1000"
   ]
  },
  {
   "cell_type": "markdown",
   "metadata": {
    "collapsed": false,
    "id": "Tmk5nl_Va-sQ"
   },
   "source": [
    "### For each epoch, there are 5 training steps:\n",
    "* Compute model’s predictions \n",
    "* Compute the error (the difference between the actual value and predicted value) \n",
    "* Compute the loss ( mean square error = the average of (error)^2)\n",
    "* Compute the gradients for every parameter (require calculus)\n",
    "* Update the parameters a and b"
   ]
  },
  {
   "cell_type": "code",
   "execution_count": 14,
   "metadata": {
    "colab": {
     "base_uri": "https://localhost:8080/"
    },
    "collapsed": false,
    "executionInfo": {
     "elapsed": 230,
     "status": "ok",
     "timestamp": 1627499222901,
     "user": {
      "displayName": "Fernanda Murillo",
      "photoUrl": "",
      "userId": "17562885266255337733"
     },
     "user_tz": 600
    },
    "id": "IEGhbnhoa-sQ",
    "outputId": "6df14990-801c-4030-bd27-e2c19b95c577"
   },
   "outputs": [
    {
     "name": "stdout",
     "output_type": "stream",
     "text": [
      "[1.02354075] [1.96896447]\n"
     ]
    }
   ],
   "source": [
    "for epoch in range(n_epochs):\n",
    "    # Computes our model's predicted output\n",
    "    yhat = a + b * x_train\n",
    "    \n",
    "    # How wrong is our model? That's the error! \n",
    "    error = (y_train - yhat)\n",
    "    \n",
    "    # It is a regression, so it computes mean squared error (MSE)\n",
    "    loss = (error ** 2).mean()\n",
    "    \n",
    "    # Computes gradients for both \"a\" and \"b\" parameters\n",
    "    a_grad = -2 * error.mean()\n",
    "    b_grad = -2 * (x_train * error).mean()\n",
    "    \n",
    "    # Updates parameters using gradients and the learning rate\n",
    "    a = a - lr * a_grad\n",
    "    b = b - lr * b_grad\n",
    "    \n",
    "print(a, b)"
   ]
  },
  {
   "cell_type": "code",
   "execution_count": 15,
   "metadata": {
    "colab": {
     "base_uri": "https://localhost:8080/",
     "height": 359
    },
    "collapsed": false,
    "executionInfo": {
     "elapsed": 229,
     "status": "ok",
     "timestamp": 1627499225902,
     "user": {
      "displayName": "Fernanda Murillo",
      "photoUrl": "",
      "userId": "17562885266255337733"
     },
     "user_tz": 600
    },
    "id": "V9wnGeT_eou8",
    "outputId": "1dc573e8-ebd4-4861-94e0-ff1a6d4229d3"
   },
   "outputs": [
    {
     "data": {
      "image/png": "[encoded data removed]",
      "text/plain": "<Figure size 720x360 with 1 Axes>"
     },
     "metadata": {
      "needs_background": "light",
      "tags": [
      ]
     },
     "output_type": "display_data"
    }
   ],
   "source": [
    "plt.figure(figsize=(10,5))\n",
    "y_vals = b + a * x_val\n",
    "plt.plot(x_val, y_vals, '--')\n",
    "\n",
    "plt.scatter(x_val,y_val, c='orange')  \n",
    "plt.xlabel('x', fontsize = 20) \n",
    "plt.ylabel('y', fontsize = 20)\n",
    "plt.title('Generated Data - Train')\n",
    "plt.grid('on')\n",
    "plt.show()"
   ]
  },
  {
   "cell_type": "markdown",
   "metadata": {
    "collapsed": false,
    "id": "cbeaQMpna-sR"
   },
   "source": [
    "## check our results use Scikit-learn's linear regression\n",
    "\n",
    "Just to make sure we haven’t done any mistakes in our code, we can use Scikit-Learn’s Linear Regression to fit the model and compare the coefficients.\n",
    "\n",
    "https://scikit-learn.org/stable/modules/generated/sklearn.linear_model.LinearRegression.html"
   ]
  },
  {
   "cell_type": "code",
   "execution_count": 8,
   "metadata": {
    "colab": {
     "base_uri": "https://localhost:8080/"
    },
    "collapsed": false,
    "executionInfo": {
     "elapsed": 885,
     "status": "ok",
     "timestamp": 1627498630865,
     "user": {
      "displayName": "Fernanda Murillo",
      "photoUrl": "",
      "userId": "17562885266255337733"
     },
     "user_tz": 600
    },
    "id": "jkPf0bt4a-sV",
    "outputId": "422ab4c2-fceb-490e-ca2d-b45f09b26cff"
   },
   "outputs": [
    {
     "name": "stdout",
     "output_type": "stream",
     "text": [
      "[1.02354075] [1.96896447]\n"
     ]
    }
   ],
   "source": [
    "from sklearn.linear_model import LinearRegression\n",
    "linr = LinearRegression()\n",
    "linr.fit(x_train, y_train)\n",
    "print(linr.intercept_, linr.coef_[0])"
   ]
  },
  {
   "cell_type": "markdown",
   "metadata": {
    "collapsed": false,
    "id": "yE4V3P9aa-sX"
   },
   "source": [
    "## The results!\n",
    "\n",
    "They match up to 6 decimal places — we have a fully working implementation of linear regression using Numpy."
   ]
  },
  {
   "cell_type": "code",
   "execution_count": 0,
   "metadata": {
    "collapsed": false,
    "id": "owTTVO4Ba-sY"
   },
   "outputs": [
   ],
   "source": [
   ]
  },
  {
   "cell_type": "code",
   "execution_count": 0,
   "metadata": {
    "collapsed": false,
    "id": "l5xP_R3ya-sZ"
   },
   "outputs": [
   ],
   "source": [
   ]
  },
  {
   "cell_type": "code",
   "execution_count": 0,
   "metadata": {
    "collapsed": false,
    "id": "8vkl-uJMa-sZ"
   },
   "outputs": [
   ],
   "source": [
   ]
  },
  {
   "cell_type": "code",
   "execution_count": 0,
   "metadata": {
    "collapsed": false,
    "id": "mdxlUKLka-sZ"
   },
   "outputs": [
   ],
   "source": [
   ]
  },
  {
   "cell_type": "code",
   "execution_count": 0,
   "metadata": {
    "collapsed": false,
    "id": "bUuZFIRxa-sZ"
   },
   "outputs": [
   ],
   "source": [
   ]
  },
  {
   "cell_type": "code",
   "execution_count": 0,
   "metadata": {
    "collapsed": false,
    "id": "7ubqNNVxa-sZ"
   },
   "outputs": [
   ],
   "source": [
   ]
  },
  {
   "cell_type": "code",
   "execution_count": 0,
   "metadata": {
    "collapsed": false,
    "id": "VPv4Rha8a-sa"
   },
   "outputs": [
   ],
   "source": [
   ]
  },
  {
   "cell_type": "code",
   "execution_count": 0,
   "metadata": {
    "collapsed": false,
    "id": "cvxyHdHha-sa"
   },
   "outputs": [
   ],
   "source": [
   ]
  },
  {
   "cell_type": "code",
   "execution_count": 0,
   "metadata": {
    "collapsed": false,
    "id": "ox6WlPb7a-sa"
   },
   "outputs": [
   ],
   "source": [
   ]
  }
 ],
 "metadata": {
  "colab": {
   "name": "linear_regression_numpy_tutorial.ipynb",
   "provenance": [
   ]
  },
  "kernelspec": {
   "display_name": "Python 3 (Ubuntu Linux)",
   "language": "python",
   "name": "python3-ubuntu",
   "resource_dir": "/usr/local/share/jupyter/kernels/python3-ubuntu"
  },
  "language_info": {
   "codemirror_mode": {
    "name": "ipython",
    "version": 3
   },
   "file_extension": ".py",
   "mimetype": "text/x-python",
   "name": "python",
   "nbconvert_exporter": "python",
   "pygments_lexer": "ipython3",
   "version": "3.8.10"
  }
 },
 "nbformat": 4,
 "nbformat_minor": 4
}