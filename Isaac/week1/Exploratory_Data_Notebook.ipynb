{
 "cells": [
  {
   "cell_type": "markdown",
   "metadata": {
    "collapsed": false
   },
   "source": [
    "\n",
    "# Are There Associations With University Tuition & Professional Pay on a State-by-State Basis?\n",
    "\n",
    "### Also, How to Conduct Basic Exploratory Data Analysis\n",
    "Feel free to keep this notebook open, download your own dataset, and follow along with what may be applicable to YOU. <br> Keep in mind, you will almost certainly want to find other ways to manipulate your data. <br> Python has a TON of user created documentation on sites like Stack Overflow.<br> I would recommend searching \"[WhatINeedToDoWithMyDataframe], pandas\" on Google."
   ]
  },
  {
   "cell_type": "markdown",
   "metadata": {
    "collapsed": false
   },
   "source": [
    "## Table Of Contents:\n",
    "* [Import Packages and Define Functions](#Import)\n",
    "* [Loading Data](#Load)\n",
    "* [Exploring Data](#Explore)\n",
    "* [Cleaning Data](#Clean)\n",
    "* [Analyzing Data](#Analyze)\n",
    "* [Visualizing Data](#Visual)"
   ]
  },
  {
   "cell_type": "markdown",
   "metadata": {
    "collapsed": false
   },
   "source": [
    "### Import Packages and Define Functions <a class=\"anchor\" id=\"Import\"></a>\n",
    "##### You should have a section that imports necessary packages and defines any functions at the top of every notebook, anyone know why?"
   ]
  },
  {
   "cell_type": "markdown",
   "metadata": {
    "collapsed": false
   },
   "source": [
    "<details> If packages are not imported before they are used, you will receive errors. \n",
    "    <br> It is easiest to 'run all' cells which will go from top to bottom when coming back to your notebook after a break. </details>"
   ]
  },
  {
   "cell_type": "markdown",
   "metadata": {
    "collapsed": false
   },
   "source": [
    "##### This section will start almost empty, you will add to it as you import new packages and define function.\n",
    "- I always recommend starting with 'import pandas as pd' for dataframe management\n",
    "* Here is the pandas docs - https://pandas.pydata.org/docs/reference/index.html#api\n",
    "- Otherwise you can ignore these for now"
   ]
  },
  {
   "cell_type": "code",
   "execution_count": 1,
   "metadata": {
    "collapsed": false
   },
   "outputs": [
   ],
   "source": [
   ]
  },
  {
   "cell_type": "code",
   "execution_count": 2,
   "metadata": {
    "collapsed": false
   },
   "outputs": [
   ],
   "source": [
   ]
  },
  {
   "cell_type": "markdown",
   "metadata": {
    "collapsed": false
   },
   "source": [
    "## Loading Data <a class=\"anchor\" id=\"Load\"></a>\n",
    "- It is best practice keeping this section clean so you know every piece of data you are importing\n",
    "- You will run into errors if you try and reference data before you have loaded it\n",
    "- Keeping data in a 'Data' folder is best for organization too"
   ]
  },
  {
   "cell_type": "code",
   "execution_count": 6,
   "metadata": {
    "collapsed": false
   },
   "outputs": [
    {
     "ename": "NameError",
     "evalue": "name 'pd' is not defined",
     "output_type": "error",
     "traceback": [
      "\u001b[0;31m---------------------------------------------------------------------------\u001b[0m",
      "\u001b[0;31mNameError\u001b[0m                                 Traceback (most recent call last)",
      "Input \u001b[0;32mIn [6]\u001b[0m, in \u001b[0;36m<cell line: 2>\u001b[0;34m()\u001b[0m\n\u001b[1;32m      1\u001b[0m \u001b[38;5;66;03m# make sure you have these files\u001b[39;00m\n\u001b[0;32m----> 2\u001b[0m heart \u001b[38;5;241m=\u001b[39m \u001b[43mpd\u001b[49m\u001b[38;5;241m.\u001b[39mread_csv(\u001b[38;5;124m\"\u001b[39m\u001b[38;5;124m./Data/heart(1).csv\u001b[39m\u001b[38;5;124m\"\u001b[39m)\n\u001b[1;32m      3\u001b[0m o2saturation \u001b[38;5;241m=\u001b[39m pd\u001b[38;5;241m.\u001b[39mread_csv(\u001b[38;5;124m\"\u001b[39m\u001b[38;5;124m./Data/o2Saturatio.csv\u001b[39m\u001b[38;5;124m\"\u001b[39m)\n",
      "\u001b[0;31mNameError\u001b[0m: name 'pd' is not defined"
     ]
    }
   ],
   "source": [
    "# make sure you have these files\n",
    "heart = pd.read_csv(\"./Data/heart(1).csv\")\n",
    "o2saturation = pd.read_csv(\"./Data/o2Saturatio.csv\")"
   ]
  },
  {
   "cell_type": "code",
   "execution_count": 2,
   "metadata": {
    "collapsed": false
   },
   "outputs": [
   ],
   "source": [
    "import pandas as pd\n",
    "netfix_titles = pd.read_csv(\"./Data/netflix_titles[1].csv\")"
   ]
  },
  {
   "cell_type": "code",
   "execution_count": 5,
   "metadata": {
    "collapsed": false
   },
   "outputs": [
    {
     "data": {
      "text/html": [
       "<div>\n",
       "<style scoped>\n",
       "    .dataframe tbody tr th:only-of-type {\n",
       "        vertical-align: middle;\n",
       "    }\n",
       "\n",
       "    .dataframe tbody tr th {\n",
       "        vertical-align: top;\n",
       "    }\n",
       "\n",
       "    .dataframe thead th {\n",
       "        text-align: right;\n",
       "    }\n",
       "</style>\n",
       "<table border=\"1\" class=\"dataframe\">\n",
       "  <thead>\n",
       "    <tr style=\"text-align: right;\">\n",
       "      <th></th>\n",
       "      <th>show_id</th>\n",
       "      <th>type</th>\n",
       "      <th>title</th>\n",
       "      <th>director</th>\n",
       "      <th>cast</th>\n",
       "      <th>country</th>\n",
       "      <th>date_added</th>\n",
       "      <th>release_year</th>\n",
       "      <th>rating</th>\n",
       "      <th>duration</th>\n",
       "      <th>listed_in</th>\n",
       "      <th>description</th>\n",
       "    </tr>\n",
       "  </thead>\n",
       "  <tbody>\n",
       "    <tr>\n",
       "      <th>0</th>\n",
       "      <td>s1</td>\n",
       "      <td>Movie</td>\n",
       "      <td>Dick Johnson Is Dead</td>\n",
       "      <td>Kirsten Johnson</td>\n",
       "      <td>NaN</td>\n",
       "      <td>United States</td>\n",
       "      <td>September 25, 2021</td>\n",
       "      <td>2020</td>\n",
       "      <td>PG-13</td>\n",
       "      <td>90 min</td>\n",
       "      <td>Documentaries</td>\n",
       "      <td>As her father nears the end of his life, filmm...</td>\n",
       "    </tr>\n",
       "    <tr>\n",
       "      <th>1</th>\n",
       "      <td>s2</td>\n",
       "      <td>TV Show</td>\n",
       "      <td>Blood &amp; Water</td>\n",
       "      <td>NaN</td>\n",
       "      <td>Ama Qamata, Khosi Ngema, Gail Mabalane, Thaban...</td>\n",
       "      <td>South Africa</td>\n",
       "      <td>September 24, 2021</td>\n",
       "      <td>2021</td>\n",
       "      <td>TV-MA</td>\n",
       "      <td>2 Seasons</td>\n",
       "      <td>International TV Shows, TV Dramas, TV Mysteries</td>\n",
       "      <td>After crossing paths at a party, a Cape Town t...</td>\n",
       "    </tr>\n",
       "    <tr>\n",
       "      <th>2</th>\n",
       "      <td>s3</td>\n",
       "      <td>TV Show</td>\n",
       "      <td>Ganglands</td>\n",
       "      <td>Julien Leclercq</td>\n",
       "      <td>Sami Bouajila, Tracy Gotoas, Samuel Jouy, Nabi...</td>\n",
       "      <td>NaN</td>\n",
       "      <td>September 24, 2021</td>\n",
       "      <td>2021</td>\n",
       "      <td>TV-MA</td>\n",
       "      <td>1 Season</td>\n",
       "      <td>Crime TV Shows, International TV Shows, TV Act...</td>\n",
       "      <td>To protect his family from a powerful drug lor...</td>\n",
       "    </tr>\n",
       "    <tr>\n",
       "      <th>3</th>\n",
       "      <td>s4</td>\n",
       "      <td>TV Show</td>\n",
       "      <td>Jailbirds New Orleans</td>\n",
       "      <td>NaN</td>\n",
       "      <td>NaN</td>\n",
       "      <td>NaN</td>\n",
       "      <td>September 24, 2021</td>\n",
       "      <td>2021</td>\n",
       "      <td>TV-MA</td>\n",
       "      <td>1 Season</td>\n",
       "      <td>Docuseries, Reality TV</td>\n",
       "      <td>Feuds, flirtations and toilet talk go down amo...</td>\n",
       "    </tr>\n",
       "    <tr>\n",
       "      <th>4</th>\n",
       "      <td>s5</td>\n",
       "      <td>TV Show</td>\n",
       "      <td>Kota Factory</td>\n",
       "      <td>NaN</td>\n",
       "      <td>Mayur More, Jitendra Kumar, Ranjan Raj, Alam K...</td>\n",
       "      <td>India</td>\n",
       "      <td>September 24, 2021</td>\n",
       "      <td>2021</td>\n",
       "      <td>TV-MA</td>\n",
       "      <td>2 Seasons</td>\n",
       "      <td>International TV Shows, Romantic TV Shows, TV ...</td>\n",
       "      <td>In a city of coaching centers known to train I...</td>\n",
       "    </tr>\n",
       "    <tr>\n",
       "      <th>5</th>\n",
       "      <td>s6</td>\n",
       "      <td>TV Show</td>\n",
       "      <td>Midnight Mass</td>\n",
       "      <td>Mike Flanagan</td>\n",
       "      <td>Kate Siegel, Zach Gilford, Hamish Linklater, H...</td>\n",
       "      <td>NaN</td>\n",
       "      <td>September 24, 2021</td>\n",
       "      <td>2021</td>\n",
       "      <td>TV-MA</td>\n",
       "      <td>1 Season</td>\n",
       "      <td>TV Dramas, TV Horror, TV Mysteries</td>\n",
       "      <td>The arrival of a charismatic young priest brin...</td>\n",
       "    </tr>\n",
       "    <tr>\n",
       "      <th>6</th>\n",
       "      <td>s7</td>\n",
       "      <td>Movie</td>\n",
       "      <td>My Little Pony: A New Generation</td>\n",
       "      <td>Robert Cullen, José Luis Ucha</td>\n",
       "      <td>Vanessa Hudgens, Kimiko Glenn, James Marsden, ...</td>\n",
       "      <td>NaN</td>\n",
       "      <td>September 24, 2021</td>\n",
       "      <td>2021</td>\n",
       "      <td>PG</td>\n",
       "      <td>91 min</td>\n",
       "      <td>Children &amp; Family Movies</td>\n",
       "      <td>Equestria's divided. But a bright-eyed hero be...</td>\n",
       "    </tr>\n",
       "    <tr>\n",
       "      <th>7</th>\n",
       "      <td>s8</td>\n",
       "      <td>Movie</td>\n",
       "      <td>Sankofa</td>\n",
       "      <td>Haile Gerima</td>\n",
       "      <td>Kofi Ghanaba, Oyafunmike Ogunlano, Alexandra D...</td>\n",
       "      <td>United States, Ghana, Burkina Faso, United Kin...</td>\n",
       "      <td>September 24, 2021</td>\n",
       "      <td>1993</td>\n",
       "      <td>TV-MA</td>\n",
       "      <td>125 min</td>\n",
       "      <td>Dramas, Independent Movies, International Movies</td>\n",
       "      <td>On a photo shoot in Ghana, an American model s...</td>\n",
       "    </tr>\n",
       "    <tr>\n",
       "      <th>8</th>\n",
       "      <td>s9</td>\n",
       "      <td>TV Show</td>\n",
       "      <td>The Great British Baking Show</td>\n",
       "      <td>Andy Devonshire</td>\n",
       "      <td>Mel Giedroyc, Sue Perkins, Mary Berry, Paul Ho...</td>\n",
       "      <td>United Kingdom</td>\n",
       "      <td>September 24, 2021</td>\n",
       "      <td>2021</td>\n",
       "      <td>TV-14</td>\n",
       "      <td>9 Seasons</td>\n",
       "      <td>British TV Shows, Reality TV</td>\n",
       "      <td>A talented batch of amateur bakers face off in...</td>\n",
       "    </tr>\n",
       "    <tr>\n",
       "      <th>9</th>\n",
       "      <td>s10</td>\n",
       "      <td>Movie</td>\n",
       "      <td>The Starling</td>\n",
       "      <td>Theodore Melfi</td>\n",
       "      <td>Melissa McCarthy, Chris O'Dowd, Kevin Kline, T...</td>\n",
       "      <td>United States</td>\n",
       "      <td>September 24, 2021</td>\n",
       "      <td>2021</td>\n",
       "      <td>PG-13</td>\n",
       "      <td>104 min</td>\n",
       "      <td>Comedies, Dramas</td>\n",
       "      <td>A woman adjusting to life after a loss contend...</td>\n",
       "    </tr>\n",
       "    <tr>\n",
       "      <th>10</th>\n",
       "      <td>s11</td>\n",
       "      <td>TV Show</td>\n",
       "      <td>Vendetta: Truth, Lies and The Mafia</td>\n",
       "      <td>NaN</td>\n",
       "      <td>NaN</td>\n",
       "      <td>NaN</td>\n",
       "      <td>September 24, 2021</td>\n",
       "      <td>2021</td>\n",
       "      <td>TV-MA</td>\n",
       "      <td>1 Season</td>\n",
       "      <td>Crime TV Shows, Docuseries, International TV S...</td>\n",
       "      <td>Sicily boasts a bold \"Anti-Mafia\" coalition. B...</td>\n",
       "    </tr>\n",
       "    <tr>\n",
       "      <th>11</th>\n",
       "      <td>s12</td>\n",
       "      <td>TV Show</td>\n",
       "      <td>Bangkok Breaking</td>\n",
       "      <td>Kongkiat Komesiri</td>\n",
       "      <td>Sukollawat Kanarot, Sushar Manaying, Pavarit M...</td>\n",
       "      <td>NaN</td>\n",
       "      <td>September 23, 2021</td>\n",
       "      <td>2021</td>\n",
       "      <td>TV-MA</td>\n",
       "      <td>1 Season</td>\n",
       "      <td>Crime TV Shows, International TV Shows, TV Act...</td>\n",
       "      <td>Struggling to earn a living in Bangkok, a man ...</td>\n",
       "    </tr>\n",
       "    <tr>\n",
       "      <th>12</th>\n",
       "      <td>s13</td>\n",
       "      <td>Movie</td>\n",
       "      <td>Je Suis Karl</td>\n",
       "      <td>Christian Schwochow</td>\n",
       "      <td>Luna Wedler, Jannis Niewöhner, Milan Peschel, ...</td>\n",
       "      <td>Germany, Czech Republic</td>\n",
       "      <td>September 23, 2021</td>\n",
       "      <td>2021</td>\n",
       "      <td>TV-MA</td>\n",
       "      <td>127 min</td>\n",
       "      <td>Dramas, International Movies</td>\n",
       "      <td>After most of her family is murdered in a terr...</td>\n",
       "    </tr>\n",
       "    <tr>\n",
       "      <th>13</th>\n",
       "      <td>s14</td>\n",
       "      <td>Movie</td>\n",
       "      <td>Confessions of an Invisible Girl</td>\n",
       "      <td>Bruno Garotti</td>\n",
       "      <td>Klara Castanho, Lucca Picon, Júlia Gomes, Marc...</td>\n",
       "      <td>NaN</td>\n",
       "      <td>September 22, 2021</td>\n",
       "      <td>2021</td>\n",
       "      <td>TV-PG</td>\n",
       "      <td>91 min</td>\n",
       "      <td>Children &amp; Family Movies, Comedies</td>\n",
       "      <td>When the clever but socially-awkward Tetê join...</td>\n",
       "    </tr>\n",
       "    <tr>\n",
       "      <th>14</th>\n",
       "      <td>s15</td>\n",
       "      <td>TV Show</td>\n",
       "      <td>Crime Stories: India Detectives</td>\n",
       "      <td>NaN</td>\n",
       "      <td>NaN</td>\n",
       "      <td>NaN</td>\n",
       "      <td>September 22, 2021</td>\n",
       "      <td>2021</td>\n",
       "      <td>TV-MA</td>\n",
       "      <td>1 Season</td>\n",
       "      <td>British TV Shows, Crime TV Shows, Docuseries</td>\n",
       "      <td>Cameras following Bengaluru police on the job ...</td>\n",
       "    </tr>\n",
       "    <tr>\n",
       "      <th>15</th>\n",
       "      <td>s16</td>\n",
       "      <td>TV Show</td>\n",
       "      <td>Dear White People</td>\n",
       "      <td>NaN</td>\n",
       "      <td>Logan Browning, Brandon P. Bell, DeRon Horton,...</td>\n",
       "      <td>United States</td>\n",
       "      <td>September 22, 2021</td>\n",
       "      <td>2021</td>\n",
       "      <td>TV-MA</td>\n",
       "      <td>4 Seasons</td>\n",
       "      <td>TV Comedies, TV Dramas</td>\n",
       "      <td>Students of color navigate the daily slights a...</td>\n",
       "    </tr>\n",
       "    <tr>\n",
       "      <th>16</th>\n",
       "      <td>s17</td>\n",
       "      <td>Movie</td>\n",
       "      <td>Europe's Most Dangerous Man: Otto Skorzeny in ...</td>\n",
       "      <td>Pedro de Echave García, Pablo Azorín Williams</td>\n",
       "      <td>NaN</td>\n",
       "      <td>NaN</td>\n",
       "      <td>September 22, 2021</td>\n",
       "      <td>2020</td>\n",
       "      <td>TV-MA</td>\n",
       "      <td>67 min</td>\n",
       "      <td>Documentaries, International Movies</td>\n",
       "      <td>Declassified documents reveal the post-WWII li...</td>\n",
       "    </tr>\n",
       "    <tr>\n",
       "      <th>17</th>\n",
       "      <td>s18</td>\n",
       "      <td>TV Show</td>\n",
       "      <td>Falsa identidad</td>\n",
       "      <td>NaN</td>\n",
       "      <td>Luis Ernesto Franco, Camila Sodi, Sergio Goyri...</td>\n",
       "      <td>Mexico</td>\n",
       "      <td>September 22, 2021</td>\n",
       "      <td>2020</td>\n",
       "      <td>TV-MA</td>\n",
       "      <td>2 Seasons</td>\n",
       "      <td>Crime TV Shows, Spanish-Language TV Shows, TV ...</td>\n",
       "      <td>Strangers Diego and Isabel flee their home in ...</td>\n",
       "    </tr>\n",
       "    <tr>\n",
       "      <th>18</th>\n",
       "      <td>s19</td>\n",
       "      <td>Movie</td>\n",
       "      <td>Intrusion</td>\n",
       "      <td>Adam Salky</td>\n",
       "      <td>Freida Pinto, Logan Marshall-Green, Robert Joh...</td>\n",
       "      <td>NaN</td>\n",
       "      <td>September 22, 2021</td>\n",
       "      <td>2021</td>\n",
       "      <td>TV-14</td>\n",
       "      <td>94 min</td>\n",
       "      <td>Thrillers</td>\n",
       "      <td>After a deadly home invasion at a couple’s new...</td>\n",
       "    </tr>\n",
       "    <tr>\n",
       "      <th>19</th>\n",
       "      <td>s20</td>\n",
       "      <td>TV Show</td>\n",
       "      <td>Jaguar</td>\n",
       "      <td>NaN</td>\n",
       "      <td>Blanca Suárez, Iván Marcos, Óscar Casas, Adriá...</td>\n",
       "      <td>NaN</td>\n",
       "      <td>September 22, 2021</td>\n",
       "      <td>2021</td>\n",
       "      <td>TV-MA</td>\n",
       "      <td>1 Season</td>\n",
       "      <td>International TV Shows, Spanish-Language TV Sh...</td>\n",
       "      <td>In the 1960s, a Holocaust survivor joins a gro...</td>\n",
       "    </tr>\n",
       "  </tbody>\n",
       "</table>\n",
       "</div>"
      ],
      "text/plain": [
       "   show_id     type                                              title  \\\n",
       "0       s1    Movie                               Dick Johnson Is Dead   \n",
       "1       s2  TV Show                                      Blood & Water   \n",
       "2       s3  TV Show                                          Ganglands   \n",
       "3       s4  TV Show                              Jailbirds New Orleans   \n",
       "4       s5  TV Show                                       Kota Factory   \n",
       "5       s6  TV Show                                      Midnight Mass   \n",
       "6       s7    Movie                   My Little Pony: A New Generation   \n",
       "7       s8    Movie                                            Sankofa   \n",
       "8       s9  TV Show                      The Great British Baking Show   \n",
       "9      s10    Movie                                       The Starling   \n",
       "10     s11  TV Show                Vendetta: Truth, Lies and The Mafia   \n",
       "11     s12  TV Show                                   Bangkok Breaking   \n",
       "12     s13    Movie                                       Je Suis Karl   \n",
       "13     s14    Movie                   Confessions of an Invisible Girl   \n",
       "14     s15  TV Show                    Crime Stories: India Detectives   \n",
       "15     s16  TV Show                                  Dear White People   \n",
       "16     s17    Movie  Europe's Most Dangerous Man: Otto Skorzeny in ...   \n",
       "17     s18  TV Show                                    Falsa identidad   \n",
       "18     s19    Movie                                          Intrusion   \n",
       "19     s20  TV Show                                             Jaguar   \n",
       "\n",
       "                                         director  \\\n",
       "0                                 Kirsten Johnson   \n",
       "1                                             NaN   \n",
       "2                                 Julien Leclercq   \n",
       "3                                             NaN   \n",
       "4                                             NaN   \n",
       "5                                   Mike Flanagan   \n",
       "6                   Robert Cullen, José Luis Ucha   \n",
       "7                                    Haile Gerima   \n",
       "8                                 Andy Devonshire   \n",
       "9                                  Theodore Melfi   \n",
       "10                                            NaN   \n",
       "11                              Kongkiat Komesiri   \n",
       "12                            Christian Schwochow   \n",
       "13                                  Bruno Garotti   \n",
       "14                                            NaN   \n",
       "15                                            NaN   \n",
       "16  Pedro de Echave García, Pablo Azorín Williams   \n",
       "17                                            NaN   \n",
       "18                                     Adam Salky   \n",
       "19                                            NaN   \n",
       "\n",
       "                                                 cast  \\\n",
       "0                                                 NaN   \n",
       "1   Ama Qamata, Khosi Ngema, Gail Mabalane, Thaban...   \n",
       "2   Sami Bouajila, Tracy Gotoas, Samuel Jouy, Nabi...   \n",
       "3                                                 NaN   \n",
       "4   Mayur More, Jitendra Kumar, Ranjan Raj, Alam K...   \n",
       "5   Kate Siegel, Zach Gilford, Hamish Linklater, H...   \n",
       "6   Vanessa Hudgens, Kimiko Glenn, James Marsden, ...   \n",
       "7   Kofi Ghanaba, Oyafunmike Ogunlano, Alexandra D...   \n",
       "8   Mel Giedroyc, Sue Perkins, Mary Berry, Paul Ho...   \n",
       "9   Melissa McCarthy, Chris O'Dowd, Kevin Kline, T...   \n",
       "10                                                NaN   \n",
       "11  Sukollawat Kanarot, Sushar Manaying, Pavarit M...   \n",
       "12  Luna Wedler, Jannis Niewöhner, Milan Peschel, ...   \n",
       "13  Klara Castanho, Lucca Picon, Júlia Gomes, Marc...   \n",
       "14                                                NaN   \n",
       "15  Logan Browning, Brandon P. Bell, DeRon Horton,...   \n",
       "16                                                NaN   \n",
       "17  Luis Ernesto Franco, Camila Sodi, Sergio Goyri...   \n",
       "18  Freida Pinto, Logan Marshall-Green, Robert Joh...   \n",
       "19  Blanca Suárez, Iván Marcos, Óscar Casas, Adriá...   \n",
       "\n",
       "                                              country          date_added  \\\n",
       "0                                       United States  September 25, 2021   \n",
       "1                                        South Africa  September 24, 2021   \n",
       "2                                                 NaN  September 24, 2021   \n",
       "3                                                 NaN  September 24, 2021   \n",
       "4                                               India  September 24, 2021   \n",
       "5                                                 NaN  September 24, 2021   \n",
       "6                                                 NaN  September 24, 2021   \n",
       "7   United States, Ghana, Burkina Faso, United Kin...  September 24, 2021   \n",
       "8                                      United Kingdom  September 24, 2021   \n",
       "9                                       United States  September 24, 2021   \n",
       "10                                                NaN  September 24, 2021   \n",
       "11                                                NaN  September 23, 2021   \n",
       "12                            Germany, Czech Republic  September 23, 2021   \n",
       "13                                                NaN  September 22, 2021   \n",
       "14                                                NaN  September 22, 2021   \n",
       "15                                      United States  September 22, 2021   \n",
       "16                                                NaN  September 22, 2021   \n",
       "17                                             Mexico  September 22, 2021   \n",
       "18                                                NaN  September 22, 2021   \n",
       "19                                                NaN  September 22, 2021   \n",
       "\n",
       "    release_year rating   duration  \\\n",
       "0           2020  PG-13     90 min   \n",
       "1           2021  TV-MA  2 Seasons   \n",
       "2           2021  TV-MA   1 Season   \n",
       "3           2021  TV-MA   1 Season   \n",
       "4           2021  TV-MA  2 Seasons   \n",
       "5           2021  TV-MA   1 Season   \n",
       "6           2021     PG     91 min   \n",
       "7           1993  TV-MA    125 min   \n",
       "8           2021  TV-14  9 Seasons   \n",
       "9           2021  PG-13    104 min   \n",
       "10          2021  TV-MA   1 Season   \n",
       "11          2021  TV-MA   1 Season   \n",
       "12          2021  TV-MA    127 min   \n",
       "13          2021  TV-PG     91 min   \n",
       "14          2021  TV-MA   1 Season   \n",
       "15          2021  TV-MA  4 Seasons   \n",
       "16          2020  TV-MA     67 min   \n",
       "17          2020  TV-MA  2 Seasons   \n",
       "18          2021  TV-14     94 min   \n",
       "19          2021  TV-MA   1 Season   \n",
       "\n",
       "                                            listed_in  \\\n",
       "0                                       Documentaries   \n",
       "1     International TV Shows, TV Dramas, TV Mysteries   \n",
       "2   Crime TV Shows, International TV Shows, TV Act...   \n",
       "3                              Docuseries, Reality TV   \n",
       "4   International TV Shows, Romantic TV Shows, TV ...   \n",
       "5                  TV Dramas, TV Horror, TV Mysteries   \n",
       "6                            Children & Family Movies   \n",
       "7    Dramas, Independent Movies, International Movies   \n",
       "8                        British TV Shows, Reality TV   \n",
       "9                                    Comedies, Dramas   \n",
       "10  Crime TV Shows, Docuseries, International TV S...   \n",
       "11  Crime TV Shows, International TV Shows, TV Act...   \n",
       "12                       Dramas, International Movies   \n",
       "13                 Children & Family Movies, Comedies   \n",
       "14       British TV Shows, Crime TV Shows, Docuseries   \n",
       "15                             TV Comedies, TV Dramas   \n",
       "16                Documentaries, International Movies   \n",
       "17  Crime TV Shows, Spanish-Language TV Shows, TV ...   \n",
       "18                                          Thrillers   \n",
       "19  International TV Shows, Spanish-Language TV Sh...   \n",
       "\n",
       "                                          description  \n",
       "0   As her father nears the end of his life, filmm...  \n",
       "1   After crossing paths at a party, a Cape Town t...  \n",
       "2   To protect his family from a powerful drug lor...  \n",
       "3   Feuds, flirtations and toilet talk go down amo...  \n",
       "4   In a city of coaching centers known to train I...  \n",
       "5   The arrival of a charismatic young priest brin...  \n",
       "6   Equestria's divided. But a bright-eyed hero be...  \n",
       "7   On a photo shoot in Ghana, an American model s...  \n",
       "8   A talented batch of amateur bakers face off in...  \n",
       "9   A woman adjusting to life after a loss contend...  \n",
       "10  Sicily boasts a bold \"Anti-Mafia\" coalition. B...  \n",
       "11  Struggling to earn a living in Bangkok, a man ...  \n",
       "12  After most of her family is murdered in a terr...  \n",
       "13  When the clever but socially-awkward Tetê join...  \n",
       "14  Cameras following Bengaluru police on the job ...  \n",
       "15  Students of color navigate the daily slights a...  \n",
       "16  Declassified documents reveal the post-WWII li...  \n",
       "17  Strangers Diego and Isabel flee their home in ...  \n",
       "18  After a deadly home invasion at a couple’s new...  \n",
       "19  In the 1960s, a Holocaust survivor joins a gro...  "
      ]
     },
     "execution_count": 5,
     "metadata": {
     },
     "output_type": "execute_result"
    }
   ],
   "source": [
    "\n",
    "import pandas as pd\n",
    "netflix_titles = pd.read_csv(\"./Data/netflix_titles[1].csv\")\n",
    "netflix_titles.head(20)"
   ]
  },
  {
   "cell_type": "code",
   "execution_count": 21,
   "metadata": {
    "collapsed": false
   },
   "outputs": [
    {
     "ename": "SyntaxError",
     "evalue": "cannot assign to operator (969871640.py, line 2)",
     "output_type": "error",
     "traceback": [
      "\u001b[0;36m  Input \u001b[0;32mIn [21]\u001b[0;36m\u001b[0m\n\u001b[0;31m    X + X = 'two'\u001b[0m\n\u001b[0m    ^\u001b[0m\n\u001b[0;31mSyntaxError\u001b[0m\u001b[0;31m:\u001b[0m cannot assign to operator\n"
     ]
    }
   ],
   "source": [
    "print(two)"
   ]
  },
  {
   "cell_type": "code",
   "execution_count": 18,
   "metadata": {
    "collapsed": false
   },
   "outputs": [
    {
     "data": {
      "text/html": [
       "<div>\n",
       "<style scoped>\n",
       "    .dataframe tbody tr th:only-of-type {\n",
       "        vertical-align: middle;\n",
       "    }\n",
       "\n",
       "    .dataframe tbody tr th {\n",
       "        vertical-align: top;\n",
       "    }\n",
       "\n",
       "    .dataframe thead th {\n",
       "        text-align: right;\n",
       "    }\n",
       "</style>\n",
       "<table border=\"1\" class=\"dataframe\">\n",
       "  <thead>\n",
       "    <tr style=\"text-align: right;\">\n",
       "      <th></th>\n",
       "      <th>Pregnancies</th>\n",
       "      <th>Glucose</th>\n",
       "      <th>BloodPressure</th>\n",
       "      <th>SkinThickness</th>\n",
       "      <th>Insulin</th>\n",
       "      <th>BMI</th>\n",
       "      <th>DiabetesPedigreeFunction</th>\n",
       "      <th>Age</th>\n",
       "      <th>Outcome</th>\n",
       "    </tr>\n",
       "  </thead>\n",
       "  <tbody>\n",
       "    <tr>\n",
       "      <th>0</th>\n",
       "      <td>6</td>\n",
       "      <td>148</td>\n",
       "      <td>72</td>\n",
       "      <td>35</td>\n",
       "      <td>0</td>\n",
       "      <td>33.6</td>\n",
       "      <td>0.627</td>\n",
       "      <td>50</td>\n",
       "      <td>1</td>\n",
       "    </tr>\n",
       "    <tr>\n",
       "      <th>1</th>\n",
       "      <td>1</td>\n",
       "      <td>85</td>\n",
       "      <td>66</td>\n",
       "      <td>29</td>\n",
       "      <td>0</td>\n",
       "      <td>26.6</td>\n",
       "      <td>0.351</td>\n",
       "      <td>31</td>\n",
       "      <td>0</td>\n",
       "    </tr>\n",
       "    <tr>\n",
       "      <th>2</th>\n",
       "      <td>8</td>\n",
       "      <td>183</td>\n",
       "      <td>64</td>\n",
       "      <td>0</td>\n",
       "      <td>0</td>\n",
       "      <td>23.3</td>\n",
       "      <td>0.672</td>\n",
       "      <td>32</td>\n",
       "      <td>1</td>\n",
       "    </tr>\n",
       "    <tr>\n",
       "      <th>3</th>\n",
       "      <td>1</td>\n",
       "      <td>89</td>\n",
       "      <td>66</td>\n",
       "      <td>23</td>\n",
       "      <td>94</td>\n",
       "      <td>28.1</td>\n",
       "      <td>0.167</td>\n",
       "      <td>21</td>\n",
       "      <td>0</td>\n",
       "    </tr>\n",
       "    <tr>\n",
       "      <th>4</th>\n",
       "      <td>0</td>\n",
       "      <td>137</td>\n",
       "      <td>40</td>\n",
       "      <td>35</td>\n",
       "      <td>168</td>\n",
       "      <td>43.1</td>\n",
       "      <td>2.288</td>\n",
       "      <td>33</td>\n",
       "      <td>1</td>\n",
       "    </tr>\n",
       "    <tr>\n",
       "      <th>5</th>\n",
       "      <td>5</td>\n",
       "      <td>116</td>\n",
       "      <td>74</td>\n",
       "      <td>0</td>\n",
       "      <td>0</td>\n",
       "      <td>25.6</td>\n",
       "      <td>0.201</td>\n",
       "      <td>30</td>\n",
       "      <td>0</td>\n",
       "    </tr>\n",
       "    <tr>\n",
       "      <th>6</th>\n",
       "      <td>3</td>\n",
       "      <td>78</td>\n",
       "      <td>50</td>\n",
       "      <td>32</td>\n",
       "      <td>88</td>\n",
       "      <td>31.0</td>\n",
       "      <td>0.248</td>\n",
       "      <td>26</td>\n",
       "      <td>1</td>\n",
       "    </tr>\n",
       "    <tr>\n",
       "      <th>7</th>\n",
       "      <td>10</td>\n",
       "      <td>115</td>\n",
       "      <td>0</td>\n",
       "      <td>0</td>\n",
       "      <td>0</td>\n",
       "      <td>35.3</td>\n",
       "      <td>0.134</td>\n",
       "      <td>29</td>\n",
       "      <td>0</td>\n",
       "    </tr>\n",
       "    <tr>\n",
       "      <th>8</th>\n",
       "      <td>2</td>\n",
       "      <td>197</td>\n",
       "      <td>70</td>\n",
       "      <td>45</td>\n",
       "      <td>543</td>\n",
       "      <td>30.5</td>\n",
       "      <td>0.158</td>\n",
       "      <td>53</td>\n",
       "      <td>1</td>\n",
       "    </tr>\n",
       "    <tr>\n",
       "      <th>9</th>\n",
       "      <td>8</td>\n",
       "      <td>125</td>\n",
       "      <td>96</td>\n",
       "      <td>0</td>\n",
       "      <td>0</td>\n",
       "      <td>0.0</td>\n",
       "      <td>0.232</td>\n",
       "      <td>54</td>\n",
       "      <td>1</td>\n",
       "    </tr>\n",
       "    <tr>\n",
       "      <th>10</th>\n",
       "      <td>4</td>\n",
       "      <td>110</td>\n",
       "      <td>92</td>\n",
       "      <td>0</td>\n",
       "      <td>0</td>\n",
       "      <td>37.6</td>\n",
       "      <td>0.191</td>\n",
       "      <td>30</td>\n",
       "      <td>0</td>\n",
       "    </tr>\n",
       "    <tr>\n",
       "      <th>11</th>\n",
       "      <td>10</td>\n",
       "      <td>168</td>\n",
       "      <td>74</td>\n",
       "      <td>0</td>\n",
       "      <td>0</td>\n",
       "      <td>38.0</td>\n",
       "      <td>0.537</td>\n",
       "      <td>34</td>\n",
       "      <td>1</td>\n",
       "    </tr>\n",
       "    <tr>\n",
       "      <th>12</th>\n",
       "      <td>10</td>\n",
       "      <td>139</td>\n",
       "      <td>80</td>\n",
       "      <td>0</td>\n",
       "      <td>0</td>\n",
       "      <td>27.1</td>\n",
       "      <td>1.441</td>\n",
       "      <td>57</td>\n",
       "      <td>0</td>\n",
       "    </tr>\n",
       "    <tr>\n",
       "      <th>13</th>\n",
       "      <td>1</td>\n",
       "      <td>189</td>\n",
       "      <td>60</td>\n",
       "      <td>23</td>\n",
       "      <td>846</td>\n",
       "      <td>30.1</td>\n",
       "      <td>0.398</td>\n",
       "      <td>59</td>\n",
       "      <td>1</td>\n",
       "    </tr>\n",
       "    <tr>\n",
       "      <th>14</th>\n",
       "      <td>5</td>\n",
       "      <td>166</td>\n",
       "      <td>72</td>\n",
       "      <td>19</td>\n",
       "      <td>175</td>\n",
       "      <td>25.8</td>\n",
       "      <td>0.587</td>\n",
       "      <td>51</td>\n",
       "      <td>1</td>\n",
       "    </tr>\n",
       "    <tr>\n",
       "      <th>15</th>\n",
       "      <td>7</td>\n",
       "      <td>100</td>\n",
       "      <td>0</td>\n",
       "      <td>0</td>\n",
       "      <td>0</td>\n",
       "      <td>30.0</td>\n",
       "      <td>0.484</td>\n",
       "      <td>32</td>\n",
       "      <td>1</td>\n",
       "    </tr>\n",
       "    <tr>\n",
       "      <th>16</th>\n",
       "      <td>0</td>\n",
       "      <td>118</td>\n",
       "      <td>84</td>\n",
       "      <td>47</td>\n",
       "      <td>230</td>\n",
       "      <td>45.8</td>\n",
       "      <td>0.551</td>\n",
       "      <td>31</td>\n",
       "      <td>1</td>\n",
       "    </tr>\n",
       "    <tr>\n",
       "      <th>17</th>\n",
       "      <td>7</td>\n",
       "      <td>107</td>\n",
       "      <td>74</td>\n",
       "      <td>0</td>\n",
       "      <td>0</td>\n",
       "      <td>29.6</td>\n",
       "      <td>0.254</td>\n",
       "      <td>31</td>\n",
       "      <td>1</td>\n",
       "    </tr>\n",
       "    <tr>\n",
       "      <th>18</th>\n",
       "      <td>1</td>\n",
       "      <td>103</td>\n",
       "      <td>30</td>\n",
       "      <td>38</td>\n",
       "      <td>83</td>\n",
       "      <td>43.3</td>\n",
       "      <td>0.183</td>\n",
       "      <td>33</td>\n",
       "      <td>0</td>\n",
       "    </tr>\n",
       "    <tr>\n",
       "      <th>19</th>\n",
       "      <td>1</td>\n",
       "      <td>115</td>\n",
       "      <td>70</td>\n",
       "      <td>30</td>\n",
       "      <td>96</td>\n",
       "      <td>34.6</td>\n",
       "      <td>0.529</td>\n",
       "      <td>32</td>\n",
       "      <td>1</td>\n",
       "    </tr>\n",
       "  </tbody>\n",
       "</table>\n",
       "</div>"
      ],
      "text/plain": [
       "    Pregnancies  Glucose  BloodPressure  SkinThickness  Insulin   BMI  \\\n",
       "0             6      148             72             35        0  33.6   \n",
       "1             1       85             66             29        0  26.6   \n",
       "2             8      183             64              0        0  23.3   \n",
       "3             1       89             66             23       94  28.1   \n",
       "4             0      137             40             35      168  43.1   \n",
       "5             5      116             74              0        0  25.6   \n",
       "6             3       78             50             32       88  31.0   \n",
       "7            10      115              0              0        0  35.3   \n",
       "8             2      197             70             45      543  30.5   \n",
       "9             8      125             96              0        0   0.0   \n",
       "10            4      110             92              0        0  37.6   \n",
       "11           10      168             74              0        0  38.0   \n",
       "12           10      139             80              0        0  27.1   \n",
       "13            1      189             60             23      846  30.1   \n",
       "14            5      166             72             19      175  25.8   \n",
       "15            7      100              0              0        0  30.0   \n",
       "16            0      118             84             47      230  45.8   \n",
       "17            7      107             74              0        0  29.6   \n",
       "18            1      103             30             38       83  43.3   \n",
       "19            1      115             70             30       96  34.6   \n",
       "\n",
       "    DiabetesPedigreeFunction  Age  Outcome  \n",
       "0                      0.627   50        1  \n",
       "1                      0.351   31        0  \n",
       "2                      0.672   32        1  \n",
       "3                      0.167   21        0  \n",
       "4                      2.288   33        1  \n",
       "5                      0.201   30        0  \n",
       "6                      0.248   26        1  \n",
       "7                      0.134   29        0  \n",
       "8                      0.158   53        1  \n",
       "9                      0.232   54        1  \n",
       "10                     0.191   30        0  \n",
       "11                     0.537   34        1  \n",
       "12                     1.441   57        0  \n",
       "13                     0.398   59        1  \n",
       "14                     0.587   51        1  \n",
       "15                     0.484   32        1  \n",
       "16                     0.551   31        1  \n",
       "17                     0.254   31        1  \n",
       "18                     0.183   33        0  \n",
       "19                     0.529   32        1  "
      ]
     },
     "execution_count": 18,
     "metadata": {
     },
     "output_type": "execute_result"
    }
   ],
   "source": [
    "import pandas as pd\n",
    "diabetes = pd.read_csv(\"./Data/diabetes.csv\")\n",
    "diabetes.head(20)\n"
   ]
  },
  {
   "cell_type": "markdown",
   "metadata": {
    "collapsed": false
   },
   "source": [
    "What does the './' ahead of our folder name do?\n",
    "<details> Pathing is more complex than you might think. The program does not know where to look for your file. \n",
    "    <br> Adding ./ tells the program to start looking from the location where this Notebook is located </details>"
   ]
  },
  {
   "cell_type": "markdown",
   "metadata": {
    "collapsed": false
   },
   "source": [
    "## Exploring Our Data <a class=\"anchor\" id=\"Explore\"></a>\n",
    "- Here is where we want to inform ourselves on the nitty gritty of what information our data actually holds\n",
    "- How much, what type, is there anything missing, what columns do I need & not need, etc. "
   ]
  },
  {
   "cell_type": "markdown",
   "metadata": {
    "collapsed": false
   },
   "source": [
    "##### Using .head() [first 5 rows] and .tail() [last 5 rows] is a great way to get a first look at our data"
   ]
  },
  {
   "cell_type": "code",
   "execution_count": 4,
   "metadata": {
    "collapsed": false
   },
   "outputs": [
    {
     "data": {
      "text/html": [
       "<div>\n",
       "<style scoped>\n",
       "    .dataframe tbody tr th:only-of-type {\n",
       "        vertical-align: middle;\n",
       "    }\n",
       "\n",
       "    .dataframe tbody tr th {\n",
       "        vertical-align: top;\n",
       "    }\n",
       "\n",
       "    .dataframe thead th {\n",
       "        text-align: right;\n",
       "    }\n",
       "</style>\n",
       "<table border=\"1\" class=\"dataframe\">\n",
       "  <thead>\n",
       "    <tr style=\"text-align: right;\">\n",
       "      <th></th>\n",
       "      <th>rank</th>\n",
       "      <th>name</th>\n",
       "      <th>state_name</th>\n",
       "      <th>early_career_pay</th>\n",
       "      <th>mid_career_pay</th>\n",
       "      <th>make_world_better_percent</th>\n",
       "      <th>stem_percent</th>\n",
       "    </tr>\n",
       "  </thead>\n",
       "  <tbody>\n",
       "    <tr>\n",
       "      <th>0</th>\n",
       "      <td>1</td>\n",
       "      <td>Auburn University</td>\n",
       "      <td>Alabama</td>\n",
       "      <td>54400</td>\n",
       "      <td>104500</td>\n",
       "      <td>51.0</td>\n",
       "      <td>31</td>\n",
       "    </tr>\n",
       "    <tr>\n",
       "      <th>1</th>\n",
       "      <td>2</td>\n",
       "      <td>University of Alabama in Huntsville</td>\n",
       "      <td>Alabama</td>\n",
       "      <td>57500</td>\n",
       "      <td>103900</td>\n",
       "      <td>59.0</td>\n",
       "      <td>45</td>\n",
       "    </tr>\n",
       "    <tr>\n",
       "      <th>2</th>\n",
       "      <td>3</td>\n",
       "      <td>The University of Alabama</td>\n",
       "      <td>Alabama</td>\n",
       "      <td>52300</td>\n",
       "      <td>97400</td>\n",
       "      <td>50.0</td>\n",
       "      <td>15</td>\n",
       "    </tr>\n",
       "    <tr>\n",
       "      <th>3</th>\n",
       "      <td>4</td>\n",
       "      <td>Tuskegee University</td>\n",
       "      <td>Alabama</td>\n",
       "      <td>54500</td>\n",
       "      <td>93500</td>\n",
       "      <td>61.0</td>\n",
       "      <td>30</td>\n",
       "    </tr>\n",
       "    <tr>\n",
       "      <th>4</th>\n",
       "      <td>5</td>\n",
       "      <td>Samford University</td>\n",
       "      <td>Alabama</td>\n",
       "      <td>48400</td>\n",
       "      <td>90500</td>\n",
       "      <td>52.0</td>\n",
       "      <td>3</td>\n",
       "    </tr>\n",
       "  </tbody>\n",
       "</table>\n",
       "</div>"
      ],
      "text/plain": [
       "   rank                                 name state_name  early_career_pay  \\\n",
       "0     1                    Auburn University    Alabama             54400   \n",
       "1     2  University of Alabama in Huntsville    Alabama             57500   \n",
       "2     3            The University of Alabama    Alabama             52300   \n",
       "3     4                  Tuskegee University    Alabama             54500   \n",
       "4     5                   Samford University    Alabama             48400   \n",
       "\n",
       "   mid_career_pay  make_world_better_percent  stem_percent  \n",
       "0          104500                       51.0            31  \n",
       "1          103900                       59.0            45  \n",
       "2           97400                       50.0            15  \n",
       "3           93500                       61.0            30  \n",
       "4           90500                       52.0             3  "
      ]
     },
     "execution_count": 4,
     "metadata": {
     },
     "output_type": "execute_result"
    }
   ],
   "source": [
    "heart.head(4)"
   ]
  },
  {
   "cell_type": "code",
   "execution_count": 5,
   "metadata": {
    "collapsed": false
   },
   "outputs": [
    {
     "data": {
      "text/html": [
       "<div>\n",
       "<style scoped>\n",
       "    .dataframe tbody tr th:only-of-type {\n",
       "        vertical-align: middle;\n",
       "    }\n",
       "\n",
       "    .dataframe tbody tr th {\n",
       "        vertical-align: top;\n",
       "    }\n",
       "\n",
       "    .dataframe thead th {\n",
       "        text-align: right;\n",
       "    }\n",
       "</style>\n",
       "<table border=\"1\" class=\"dataframe\">\n",
       "  <thead>\n",
       "    <tr style=\"text-align: right;\">\n",
       "      <th></th>\n",
       "      <th>name</th>\n",
       "      <th>state</th>\n",
       "      <th>state_code</th>\n",
       "      <th>type</th>\n",
       "      <th>degree_length</th>\n",
       "      <th>room_and_board</th>\n",
       "      <th>in_state_tuition</th>\n",
       "      <th>in_state_total</th>\n",
       "      <th>out_of_state_tuition</th>\n",
       "      <th>out_of_state_total</th>\n",
       "    </tr>\n",
       "  </thead>\n",
       "  <tbody>\n",
       "    <tr>\n",
       "      <th>2968</th>\n",
       "      <td>York Technical College</td>\n",
       "      <td>South Carolina</td>\n",
       "      <td>SC</td>\n",
       "      <td>Public</td>\n",
       "      <td>2 Year</td>\n",
       "      <td>NaN</td>\n",
       "      <td>5740</td>\n",
       "      <td>5740</td>\n",
       "      <td>12190</td>\n",
       "      <td>12190</td>\n",
       "    </tr>\n",
       "    <tr>\n",
       "      <th>2969</th>\n",
       "      <td>Young Harris College</td>\n",
       "      <td>Georgia</td>\n",
       "      <td>GA</td>\n",
       "      <td>Private</td>\n",
       "      <td>4 Year</td>\n",
       "      <td>12372.0</td>\n",
       "      <td>29117</td>\n",
       "      <td>41489</td>\n",
       "      <td>29117</td>\n",
       "      <td>41489</td>\n",
       "    </tr>\n",
       "    <tr>\n",
       "      <th>2970</th>\n",
       "      <td>Youngstown State University</td>\n",
       "      <td>Ohio</td>\n",
       "      <td>OH</td>\n",
       "      <td>Public</td>\n",
       "      <td>4 Year</td>\n",
       "      <td>9400.0</td>\n",
       "      <td>8950</td>\n",
       "      <td>18350</td>\n",
       "      <td>14950</td>\n",
       "      <td>24350</td>\n",
       "    </tr>\n",
       "    <tr>\n",
       "      <th>2971</th>\n",
       "      <td>Yuba College</td>\n",
       "      <td>California</td>\n",
       "      <td>CA</td>\n",
       "      <td>Public</td>\n",
       "      <td>2 Year</td>\n",
       "      <td>NaN</td>\n",
       "      <td>1400</td>\n",
       "      <td>1400</td>\n",
       "      <td>8420</td>\n",
       "      <td>8420</td>\n",
       "    </tr>\n",
       "    <tr>\n",
       "      <th>2972</th>\n",
       "      <td>Zane State College</td>\n",
       "      <td>Ohio</td>\n",
       "      <td>OH</td>\n",
       "      <td>Public</td>\n",
       "      <td>2 Year</td>\n",
       "      <td>NaN</td>\n",
       "      <td>5070</td>\n",
       "      <td>5070</td>\n",
       "      <td>9930</td>\n",
       "      <td>9930</td>\n",
       "    </tr>\n",
       "  </tbody>\n",
       "</table>\n",
       "</div>"
      ],
      "text/plain": [
       "                             name           state state_code     type  \\\n",
       "2968       York Technical College  South Carolina         SC   Public   \n",
       "2969         Young Harris College         Georgia         GA  Private   \n",
       "2970  Youngstown State University            Ohio         OH   Public   \n",
       "2971                 Yuba College      California         CA   Public   \n",
       "2972           Zane State College            Ohio         OH   Public   \n",
       "\n",
       "     degree_length  room_and_board  in_state_tuition  in_state_total  \\\n",
       "2968        2 Year             NaN              5740            5740   \n",
       "2969        4 Year         12372.0             29117           41489   \n",
       "2970        4 Year          9400.0              8950           18350   \n",
       "2971        2 Year             NaN              1400            1400   \n",
       "2972        2 Year             NaN              5070            5070   \n",
       "\n",
       "      out_of_state_tuition  out_of_state_total  \n",
       "2968                 12190               12190  \n",
       "2969                 29117               41489  \n",
       "2970                 14950               24350  \n",
       "2971                  8420                8420  \n",
       "2972                  9930                9930  "
      ]
     },
     "execution_count": 5,
     "metadata": {
     },
     "output_type": "execute_result"
    }
   ],
   "source": [
    "tuition.tail()"
   ]
  },
  {
   "cell_type": "markdown",
   "metadata": {
    "collapsed": false
   },
   "source": [
    "Sometimes column names have extra spaces or we can't see all of them at first, lets print them and get the shape of each to see how much data we are dealing with. <br>(#Rows, #Columns)"
   ]
  },
  {
   "cell_type": "code",
   "execution_count": 6,
   "metadata": {
    "collapsed": false
   },
   "outputs": [
    {
     "name": "stdout",
     "output_type": "stream",
     "text": [
      "Index(['rank', 'name', 'state_name', 'early_career_pay', 'mid_career_pay',\n",
      "       'make_world_better_percent', 'stem_percent'],\n",
      "      dtype='object')\n",
      "\n",
      "(935, 7)\n"
     ]
    }
   ],
   "source": [
    "print(salary_potential.columns)\n",
    "print(\"\")\n",
    "print(salary_potential.shape)"
   ]
  },
  {
   "cell_type": "code",
   "execution_count": 21,
   "metadata": {
    "collapsed": false
   },
   "outputs": [
    {
     "name": "stdout",
     "output_type": "stream",
     "text": [
      "Index(['age', 'sex', 'cp', 'trtbps', 'chol', 'fbs', 'restecg', 'thalachh',\n",
      "       'exng', 'oldpeak', 'slp', 'caa', 'thall', 'output'],\n",
      "      dtype='object')\n",
      "\n",
      "(303, 14)\n"
     ]
    }
   ],
   "source": [
    "print(heart.columns)\n",
    "print(\"\")\n",
    "print(heart.shape)"
   ]
  },
  {
   "cell_type": "code",
   "execution_count": 22,
   "metadata": {
    "collapsed": false
   },
   "outputs": [
    {
     "name": "stdout",
     "output_type": "stream",
     "text": [
      "Index(['98.6'], dtype='object')\n",
      "\n",
      "(3585, 1)\n"
     ]
    }
   ],
   "source": [
    "print(o2Saturation.columns)\n",
    "print(\"\")\n",
    "print(o2Saturation.shape)"
   ]
  },
  {
   "cell_type": "markdown",
   "metadata": {
    "collapsed": false
   },
   "source": [
    "We also want information on what data TYPE each of the columns are\n",
    "\n"
   ]
  },
  {
   "cell_type": "code",
   "execution_count": 0,
   "metadata": {
    "collapsed": false,
    "vscode": {
     "languageId": "plaintext"
    }
   },
   "outputs": [
   ],
   "source": [
    "tuition.info()"
   ]
  },
  {
   "cell_type": "markdown",
   "metadata": {
    "collapsed": false
   },
   "source": [
    "We notice that 'state' and 'room_and_board' are missing some data. State_code is not though."
   ]
  },
  {
   "cell_type": "code",
   "execution_count": 8,
   "metadata": {
    "collapsed": false
   },
   "outputs": [
    {
     "name": "stdout",
     "output_type": "stream",
     "text": [
      "<class 'pandas.core.frame.DataFrame'>\n",
      "RangeIndex: 935 entries, 0 to 934\n",
      "Data columns (total 7 columns):\n",
      " #   Column                     Non-Null Count  Dtype  \n",
      "---  ------                     --------------  -----  \n",
      " 0   rank                       935 non-null    int64  \n",
      " 1   name                       935 non-null    object \n",
      " 2   state_name                 935 non-null    object \n",
      " 3   early_career_pay           935 non-null    int64  \n",
      " 4   mid_career_pay             935 non-null    int64  \n",
      " 5   make_world_better_percent  902 non-null    float64\n",
      " 6   stem_percent               935 non-null    int64  \n",
      "dtypes: float64(1), int64(4), object(2)\n",
      "memory usage: 51.3+ KB\n"
     ]
    }
   ],
   "source": [
    "salary_potential.info()"
   ]
  },
  {
   "cell_type": "markdown",
   "metadata": {
    "collapsed": false
   },
   "source": [
    "We notice that 'make_world_better_percent' is missing some data, missing data can mess with functions down the road."
   ]
  },
  {
   "cell_type": "markdown",
   "metadata": {
    "collapsed": false
   },
   "source": [
    "## Cleaning and Merging Our Data <a class=\"anchor\" id=\"Clean\"></a>\n",
    "- Lets get rid of redundant columns, either replace or drop missing values, and do any other cleaning we might want\n",
    "- Here we will also merge our different data sources into one cohesive one"
   ]
  },
  {
   "cell_type": "markdown",
   "metadata": {
    "collapsed": false
   },
   "source": [
    "First up, lets find the entries with no 'state' from tuition"
   ]
  },
  {
   "cell_type": "code",
   "execution_count": 9,
   "metadata": {
    "collapsed": false
   },
   "outputs": [
    {
     "data": {
      "text/html": [
       "<div>\n",
       "<style scoped>\n",
       "    .dataframe tbody tr th:only-of-type {\n",
       "        vertical-align: middle;\n",
       "    }\n",
       "\n",
       "    .dataframe tbody tr th {\n",
       "        vertical-align: top;\n",
       "    }\n",
       "\n",
       "    .dataframe thead th {\n",
       "        text-align: right;\n",
       "    }\n",
       "</style>\n",
       "<table border=\"1\" class=\"dataframe\">\n",
       "  <thead>\n",
       "    <tr style=\"text-align: right;\">\n",
       "      <th></th>\n",
       "      <th>name</th>\n",
       "      <th>state</th>\n",
       "      <th>state_code</th>\n",
       "      <th>type</th>\n",
       "      <th>degree_length</th>\n",
       "      <th>room_and_board</th>\n",
       "      <th>in_state_tuition</th>\n",
       "      <th>in_state_total</th>\n",
       "      <th>out_of_state_tuition</th>\n",
       "      <th>out_of_state_total</th>\n",
       "    </tr>\n",
       "  </thead>\n",
       "  <tbody>\n",
       "    <tr>\n",
       "      <th>61</th>\n",
       "      <td>American Samoa Community College</td>\n",
       "      <td>NaN</td>\n",
       "      <td>AS</td>\n",
       "      <td>Public</td>\n",
       "      <td>2 Year</td>\n",
       "      <td>NaN</td>\n",
       "      <td>3700</td>\n",
       "      <td>3700</td>\n",
       "      <td>3700</td>\n",
       "      <td>3700</td>\n",
       "    </tr>\n",
       "    <tr>\n",
       "      <th>62</th>\n",
       "      <td>American University</td>\n",
       "      <td>NaN</td>\n",
       "      <td>DC</td>\n",
       "      <td>Private</td>\n",
       "      <td>4 Year</td>\n",
       "      <td>14880.0</td>\n",
       "      <td>48459</td>\n",
       "      <td>63339</td>\n",
       "      <td>48459</td>\n",
       "      <td>63339</td>\n",
       "    </tr>\n",
       "    <tr>\n",
       "      <th>63</th>\n",
       "      <td>American University of Puerto Rico</td>\n",
       "      <td>NaN</td>\n",
       "      <td>PR</td>\n",
       "      <td>Private</td>\n",
       "      <td>4 Year</td>\n",
       "      <td>NaN</td>\n",
       "      <td>6946</td>\n",
       "      <td>6946</td>\n",
       "      <td>6946</td>\n",
       "      <td>6946</td>\n",
       "    </tr>\n",
       "    <tr>\n",
       "      <th>124</th>\n",
       "      <td>Atlantic University College</td>\n",
       "      <td>NaN</td>\n",
       "      <td>PR</td>\n",
       "      <td>Private</td>\n",
       "      <td>4 Year</td>\n",
       "      <td>NaN</td>\n",
       "      <td>4525</td>\n",
       "      <td>4525</td>\n",
       "      <td>4525</td>\n",
       "      <td>4525</td>\n",
       "    </tr>\n",
       "    <tr>\n",
       "      <th>169</th>\n",
       "      <td>Bayamon Central University</td>\n",
       "      <td>NaN</td>\n",
       "      <td>PR</td>\n",
       "      <td>Private</td>\n",
       "      <td>4 Year</td>\n",
       "      <td>NaN</td>\n",
       "      <td>5775</td>\n",
       "      <td>5775</td>\n",
       "      <td>5775</td>\n",
       "      <td>5775</td>\n",
       "    </tr>\n",
       "    <tr>\n",
       "      <th>349</th>\n",
       "      <td>Caribbean University</td>\n",
       "      <td>NaN</td>\n",
       "      <td>PR</td>\n",
       "      <td>Private</td>\n",
       "      <td>4 Year</td>\n",
       "      <td>NaN</td>\n",
       "      <td>6570</td>\n",
       "      <td>6570</td>\n",
       "      <td>6570</td>\n",
       "      <td>6570</td>\n",
       "    </tr>\n",
       "    <tr>\n",
       "      <th>354</th>\n",
       "      <td>Carlos Albizu University: San Juan</td>\n",
       "      <td>NaN</td>\n",
       "      <td>PR</td>\n",
       "      <td>Private</td>\n",
       "      <td>4 Year</td>\n",
       "      <td>NaN</td>\n",
       "      <td>5912</td>\n",
       "      <td>5912</td>\n",
       "      <td>5912</td>\n",
       "      <td>5912</td>\n",
       "    </tr>\n",
       "    <tr>\n",
       "      <th>372</th>\n",
       "      <td>Catholic University of America</td>\n",
       "      <td>NaN</td>\n",
       "      <td>DC</td>\n",
       "      <td>Private</td>\n",
       "      <td>4 Year</td>\n",
       "      <td>14650.0</td>\n",
       "      <td>45804</td>\n",
       "      <td>60454</td>\n",
       "      <td>45804</td>\n",
       "      <td>60454</td>\n",
       "    </tr>\n",
       "    <tr>\n",
       "      <th>576</th>\n",
       "      <td>Columbia Central University: Yauco</td>\n",
       "      <td>NaN</td>\n",
       "      <td>PR</td>\n",
       "      <td>For Profit</td>\n",
       "      <td>2 Year</td>\n",
       "      <td>NaN</td>\n",
       "      <td>6420</td>\n",
       "      <td>6420</td>\n",
       "      <td>6420</td>\n",
       "      <td>6420</td>\n",
       "    </tr>\n",
       "    <tr>\n",
       "      <th>618</th>\n",
       "      <td>Conservatory of Music of Puerto Rico</td>\n",
       "      <td>NaN</td>\n",
       "      <td>PR</td>\n",
       "      <td>Public</td>\n",
       "      <td>4 Year</td>\n",
       "      <td>NaN</td>\n",
       "      <td>4000</td>\n",
       "      <td>4000</td>\n",
       "      <td>4000</td>\n",
       "      <td>4000</td>\n",
       "    </tr>\n",
       "    <tr>\n",
       "      <th>764</th>\n",
       "      <td>EDIC College</td>\n",
       "      <td>NaN</td>\n",
       "      <td>PR</td>\n",
       "      <td>For Profit</td>\n",
       "      <td>2 Year</td>\n",
       "      <td>NaN</td>\n",
       "      <td>7065</td>\n",
       "      <td>7065</td>\n",
       "      <td>7065</td>\n",
       "      <td>7065</td>\n",
       "    </tr>\n",
       "    <tr>\n",
       "      <th>768</th>\n",
       "      <td>EDP University of Puerto Rico: San Sebastian</td>\n",
       "      <td>NaN</td>\n",
       "      <td>PR</td>\n",
       "      <td>For Profit</td>\n",
       "      <td>4 Year</td>\n",
       "      <td>NaN</td>\n",
       "      <td>5940</td>\n",
       "      <td>5940</td>\n",
       "      <td>5940</td>\n",
       "      <td>5940</td>\n",
       "    </tr>\n",
       "    <tr>\n",
       "      <th>799</th>\n",
       "      <td>Escuela de Artes Plasticas de Puerto Rico</td>\n",
       "      <td>NaN</td>\n",
       "      <td>PR</td>\n",
       "      <td>Public</td>\n",
       "      <td>4 Year</td>\n",
       "      <td>NaN</td>\n",
       "      <td>4002</td>\n",
       "      <td>4002</td>\n",
       "      <td>6702</td>\n",
       "      <td>6702</td>\n",
       "    </tr>\n",
       "    <tr>\n",
       "      <th>882</th>\n",
       "      <td>Gallaudet University</td>\n",
       "      <td>NaN</td>\n",
       "      <td>DC</td>\n",
       "      <td>Private</td>\n",
       "      <td>4 Year</td>\n",
       "      <td>14100.0</td>\n",
       "      <td>17038</td>\n",
       "      <td>31138</td>\n",
       "      <td>17038</td>\n",
       "      <td>31138</td>\n",
       "    </tr>\n",
       "    <tr>\n",
       "      <th>900</th>\n",
       "      <td>George Washington University</td>\n",
       "      <td>NaN</td>\n",
       "      <td>DC</td>\n",
       "      <td>Private</td>\n",
       "      <td>4 Year</td>\n",
       "      <td>13850.0</td>\n",
       "      <td>55230</td>\n",
       "      <td>69080</td>\n",
       "      <td>55230</td>\n",
       "      <td>69080</td>\n",
       "    </tr>\n",
       "    <tr>\n",
       "      <th>902</th>\n",
       "      <td>Georgetown University</td>\n",
       "      <td>NaN</td>\n",
       "      <td>DC</td>\n",
       "      <td>Private</td>\n",
       "      <td>4 Year</td>\n",
       "      <td>16509.0</td>\n",
       "      <td>54104</td>\n",
       "      <td>70613</td>\n",
       "      <td>54104</td>\n",
       "      <td>70613</td>\n",
       "    </tr>\n",
       "    <tr>\n",
       "      <th>964</th>\n",
       "      <td>Guam Community College</td>\n",
       "      <td>NaN</td>\n",
       "      <td>GU</td>\n",
       "      <td>Public</td>\n",
       "      <td>2 Year</td>\n",
       "      <td>NaN</td>\n",
       "      <td>4194</td>\n",
       "      <td>4194</td>\n",
       "      <td>4944</td>\n",
       "      <td>4944</td>\n",
       "    </tr>\n",
       "    <tr>\n",
       "      <th>1056</th>\n",
       "      <td>Howard University</td>\n",
       "      <td>NaN</td>\n",
       "      <td>DC</td>\n",
       "      <td>Private</td>\n",
       "      <td>4 Year</td>\n",
       "      <td>13895.0</td>\n",
       "      <td>27056</td>\n",
       "      <td>40951</td>\n",
       "      <td>27056</td>\n",
       "      <td>40951</td>\n",
       "    </tr>\n",
       "    <tr>\n",
       "      <th>1059</th>\n",
       "      <td>Huertas College</td>\n",
       "      <td>NaN</td>\n",
       "      <td>PR</td>\n",
       "      <td>For Profit</td>\n",
       "      <td>2 Year</td>\n",
       "      <td>NaN</td>\n",
       "      <td>6635</td>\n",
       "      <td>6635</td>\n",
       "      <td>6635</td>\n",
       "      <td>6635</td>\n",
       "    </tr>\n",
       "    <tr>\n",
       "      <th>1061</th>\n",
       "      <td>Humacao Community College</td>\n",
       "      <td>NaN</td>\n",
       "      <td>PR</td>\n",
       "      <td>Private</td>\n",
       "      <td>2 Year</td>\n",
       "      <td>3000.0</td>\n",
       "      <td>5382</td>\n",
       "      <td>8382</td>\n",
       "      <td>5382</td>\n",
       "      <td>8382</td>\n",
       "    </tr>\n",
       "    <tr>\n",
       "      <th>1073</th>\n",
       "      <td>ICPR Junior College</td>\n",
       "      <td>NaN</td>\n",
       "      <td>PR</td>\n",
       "      <td>For Profit</td>\n",
       "      <td>2 Year</td>\n",
       "      <td>4000.0</td>\n",
       "      <td>7010</td>\n",
       "      <td>11010</td>\n",
       "      <td>7010</td>\n",
       "      <td>11010</td>\n",
       "    </tr>\n",
       "    <tr>\n",
       "      <th>1103</th>\n",
       "      <td>Inter American University of Puerto Rico: Agua...</td>\n",
       "      <td>NaN</td>\n",
       "      <td>PR</td>\n",
       "      <td>Private</td>\n",
       "      <td>4 Year</td>\n",
       "      <td>NaN</td>\n",
       "      <td>6262</td>\n",
       "      <td>6262</td>\n",
       "      <td>6262</td>\n",
       "      <td>6262</td>\n",
       "    </tr>\n",
       "    <tr>\n",
       "      <th>1104</th>\n",
       "      <td>Inter American University of Puerto Rico: Arec...</td>\n",
       "      <td>NaN</td>\n",
       "      <td>PR</td>\n",
       "      <td>Private</td>\n",
       "      <td>4 Year</td>\n",
       "      <td>NaN</td>\n",
       "      <td>6452</td>\n",
       "      <td>6452</td>\n",
       "      <td>6452</td>\n",
       "      <td>6452</td>\n",
       "    </tr>\n",
       "    <tr>\n",
       "      <th>1105</th>\n",
       "      <td>Inter American University of Puerto Rico: Barr...</td>\n",
       "      <td>NaN</td>\n",
       "      <td>PR</td>\n",
       "      <td>Private</td>\n",
       "      <td>4 Year</td>\n",
       "      <td>NaN</td>\n",
       "      <td>6262</td>\n",
       "      <td>6262</td>\n",
       "      <td>6262</td>\n",
       "      <td>6262</td>\n",
       "    </tr>\n",
       "    <tr>\n",
       "      <th>1106</th>\n",
       "      <td>Inter American University of Puerto Rico: Baya...</td>\n",
       "      <td>NaN</td>\n",
       "      <td>PR</td>\n",
       "      <td>Private</td>\n",
       "      <td>4 Year</td>\n",
       "      <td>7993.0</td>\n",
       "      <td>5898</td>\n",
       "      <td>13891</td>\n",
       "      <td>5898</td>\n",
       "      <td>13891</td>\n",
       "    </tr>\n",
       "    <tr>\n",
       "      <th>1107</th>\n",
       "      <td>Inter American University of Puerto Rico: Faja...</td>\n",
       "      <td>NaN</td>\n",
       "      <td>PR</td>\n",
       "      <td>Private</td>\n",
       "      <td>4 Year</td>\n",
       "      <td>NaN</td>\n",
       "      <td>5898</td>\n",
       "      <td>5898</td>\n",
       "      <td>5898</td>\n",
       "      <td>5898</td>\n",
       "    </tr>\n",
       "    <tr>\n",
       "      <th>1108</th>\n",
       "      <td>Inter American University of Puerto Rico: Guay...</td>\n",
       "      <td>NaN</td>\n",
       "      <td>PR</td>\n",
       "      <td>Private</td>\n",
       "      <td>4 Year</td>\n",
       "      <td>NaN</td>\n",
       "      <td>6452</td>\n",
       "      <td>6452</td>\n",
       "      <td>6452</td>\n",
       "      <td>6452</td>\n",
       "    </tr>\n",
       "    <tr>\n",
       "      <th>1109</th>\n",
       "      <td>Inter American University of Puerto Rico: Metr...</td>\n",
       "      <td>NaN</td>\n",
       "      <td>PR</td>\n",
       "      <td>Private</td>\n",
       "      <td>4 Year</td>\n",
       "      <td>NaN</td>\n",
       "      <td>7476</td>\n",
       "      <td>7476</td>\n",
       "      <td>7476</td>\n",
       "      <td>7476</td>\n",
       "    </tr>\n",
       "    <tr>\n",
       "      <th>1110</th>\n",
       "      <td>Inter American University of Puerto Rico: Ponc...</td>\n",
       "      <td>NaN</td>\n",
       "      <td>PR</td>\n",
       "      <td>Private</td>\n",
       "      <td>4 Year</td>\n",
       "      <td>NaN</td>\n",
       "      <td>5220</td>\n",
       "      <td>5220</td>\n",
       "      <td>5220</td>\n",
       "      <td>5220</td>\n",
       "    </tr>\n",
       "    <tr>\n",
       "      <th>1111</th>\n",
       "      <td>Inter American University of Puerto Rico: San ...</td>\n",
       "      <td>NaN</td>\n",
       "      <td>PR</td>\n",
       "      <td>Private</td>\n",
       "      <td>4 Year</td>\n",
       "      <td>3900.0</td>\n",
       "      <td>5976</td>\n",
       "      <td>9876</td>\n",
       "      <td>5976</td>\n",
       "      <td>9876</td>\n",
       "    </tr>\n",
       "    <tr>\n",
       "      <th>1915</th>\n",
       "      <td>Pontifical Catholic University of Puerto Rico</td>\n",
       "      <td>NaN</td>\n",
       "      <td>PR</td>\n",
       "      <td>Private</td>\n",
       "      <td>4 Year</td>\n",
       "      <td>1374.0</td>\n",
       "      <td>5490</td>\n",
       "      <td>6864</td>\n",
       "      <td>5490</td>\n",
       "      <td>6864</td>\n",
       "    </tr>\n",
       "    <tr>\n",
       "      <th>2445</th>\n",
       "      <td>Trinity Washington University</td>\n",
       "      <td>NaN</td>\n",
       "      <td>DC</td>\n",
       "      <td>Private</td>\n",
       "      <td>4 Year</td>\n",
       "      <td>11160.0</td>\n",
       "      <td>24150</td>\n",
       "      <td>35310</td>\n",
       "      <td>24150</td>\n",
       "      <td>35310</td>\n",
       "    </tr>\n",
       "    <tr>\n",
       "      <th>2456</th>\n",
       "      <td>Turabo University</td>\n",
       "      <td>NaN</td>\n",
       "      <td>PR</td>\n",
       "      <td>Private</td>\n",
       "      <td>4 Year</td>\n",
       "      <td>NaN</td>\n",
       "      <td>7050</td>\n",
       "      <td>7050</td>\n",
       "      <td>7050</td>\n",
       "      <td>7050</td>\n",
       "    </tr>\n",
       "    <tr>\n",
       "      <th>2473</th>\n",
       "      <td>Universal Technology College of Puerto Rico</td>\n",
       "      <td>NaN</td>\n",
       "      <td>PR</td>\n",
       "      <td>Private</td>\n",
       "      <td>2 Year</td>\n",
       "      <td>NaN</td>\n",
       "      <td>18000</td>\n",
       "      <td>18000</td>\n",
       "      <td>18000</td>\n",
       "      <td>18000</td>\n",
       "    </tr>\n",
       "    <tr>\n",
       "      <th>2474</th>\n",
       "      <td>Universidad Adventista de las Antillas</td>\n",
       "      <td>NaN</td>\n",
       "      <td>PR</td>\n",
       "      <td>Private</td>\n",
       "      <td>4 Year</td>\n",
       "      <td>6400.0</td>\n",
       "      <td>6570</td>\n",
       "      <td>12970</td>\n",
       "      <td>6570</td>\n",
       "      <td>12970</td>\n",
       "    </tr>\n",
       "    <tr>\n",
       "      <th>2475</th>\n",
       "      <td>Universidad del Este</td>\n",
       "      <td>NaN</td>\n",
       "      <td>PR</td>\n",
       "      <td>Private</td>\n",
       "      <td>4 Year</td>\n",
       "      <td>NaN</td>\n",
       "      <td>6330</td>\n",
       "      <td>6330</td>\n",
       "      <td>6330</td>\n",
       "      <td>6330</td>\n",
       "    </tr>\n",
       "    <tr>\n",
       "      <th>2476</th>\n",
       "      <td>Universidad Metropolitana</td>\n",
       "      <td>NaN</td>\n",
       "      <td>PR</td>\n",
       "      <td>Private</td>\n",
       "      <td>4 Year</td>\n",
       "      <td>NaN</td>\n",
       "      <td>7050</td>\n",
       "      <td>7050</td>\n",
       "      <td>7050</td>\n",
       "      <td>7050</td>\n",
       "    </tr>\n",
       "    <tr>\n",
       "      <th>2477</th>\n",
       "      <td>Universidad Pentecostal Mizpa</td>\n",
       "      <td>NaN</td>\n",
       "      <td>PR</td>\n",
       "      <td>Private</td>\n",
       "      <td>4 Year</td>\n",
       "      <td>3760.0</td>\n",
       "      <td>4120</td>\n",
       "      <td>7880</td>\n",
       "      <td>4120</td>\n",
       "      <td>7880</td>\n",
       "    </tr>\n",
       "    <tr>\n",
       "      <th>2478</th>\n",
       "      <td>Universidad Politecnica de Puerto Rico</td>\n",
       "      <td>NaN</td>\n",
       "      <td>PR</td>\n",
       "      <td>Private</td>\n",
       "      <td>4 Year</td>\n",
       "      <td>4950.0</td>\n",
       "      <td>8610</td>\n",
       "      <td>13560</td>\n",
       "      <td>8610</td>\n",
       "      <td>13560</td>\n",
       "    </tr>\n",
       "    <tr>\n",
       "      <th>2479</th>\n",
       "      <td>University College of San Juan</td>\n",
       "      <td>NaN</td>\n",
       "      <td>PR</td>\n",
       "      <td>Public</td>\n",
       "      <td>4 Year</td>\n",
       "      <td>NaN</td>\n",
       "      <td>2370</td>\n",
       "      <td>2370</td>\n",
       "      <td>2370</td>\n",
       "      <td>2370</td>\n",
       "    </tr>\n",
       "    <tr>\n",
       "      <th>2647</th>\n",
       "      <td>University of Puerto Rico: Aguadilla</td>\n",
       "      <td>NaN</td>\n",
       "      <td>PR</td>\n",
       "      <td>Public</td>\n",
       "      <td>4 Year</td>\n",
       "      <td>NaN</td>\n",
       "      <td>3594</td>\n",
       "      <td>3594</td>\n",
       "      <td>3594</td>\n",
       "      <td>3594</td>\n",
       "    </tr>\n",
       "    <tr>\n",
       "      <th>2648</th>\n",
       "      <td>University of Puerto Rico: Arecibo</td>\n",
       "      <td>NaN</td>\n",
       "      <td>PR</td>\n",
       "      <td>Public</td>\n",
       "      <td>4 Year</td>\n",
       "      <td>NaN</td>\n",
       "      <td>1769</td>\n",
       "      <td>1769</td>\n",
       "      <td>1987</td>\n",
       "      <td>1987</td>\n",
       "    </tr>\n",
       "    <tr>\n",
       "      <th>2649</th>\n",
       "      <td>University of Puerto Rico: Bayamon University ...</td>\n",
       "      <td>NaN</td>\n",
       "      <td>PR</td>\n",
       "      <td>Public</td>\n",
       "      <td>4 Year</td>\n",
       "      <td>NaN</td>\n",
       "      <td>2022</td>\n",
       "      <td>2022</td>\n",
       "      <td>2022</td>\n",
       "      <td>2022</td>\n",
       "    </tr>\n",
       "    <tr>\n",
       "      <th>2650</th>\n",
       "      <td>University of Puerto Rico: Carolina Regional C...</td>\n",
       "      <td>NaN</td>\n",
       "      <td>PR</td>\n",
       "      <td>Public</td>\n",
       "      <td>4 Year</td>\n",
       "      <td>NaN</td>\n",
       "      <td>6116</td>\n",
       "      <td>6116</td>\n",
       "      <td>6116</td>\n",
       "      <td>6116</td>\n",
       "    </tr>\n",
       "    <tr>\n",
       "      <th>2651</th>\n",
       "      <td>University of Puerto Rico: Humacao</td>\n",
       "      <td>NaN</td>\n",
       "      <td>PR</td>\n",
       "      <td>Public</td>\n",
       "      <td>4 Year</td>\n",
       "      <td>NaN</td>\n",
       "      <td>1794</td>\n",
       "      <td>1794</td>\n",
       "      <td>1794</td>\n",
       "      <td>1794</td>\n",
       "    </tr>\n",
       "    <tr>\n",
       "      <th>2652</th>\n",
       "      <td>University of Puerto Rico: Mayaguez</td>\n",
       "      <td>NaN</td>\n",
       "      <td>PR</td>\n",
       "      <td>Public</td>\n",
       "      <td>4 Year</td>\n",
       "      <td>NaN</td>\n",
       "      <td>2083</td>\n",
       "      <td>2083</td>\n",
       "      <td>4105</td>\n",
       "      <td>4105</td>\n",
       "    </tr>\n",
       "    <tr>\n",
       "      <th>2653</th>\n",
       "      <td>University of Puerto Rico: Medical Sciences</td>\n",
       "      <td>NaN</td>\n",
       "      <td>PR</td>\n",
       "      <td>Public</td>\n",
       "      <td>4 Year</td>\n",
       "      <td>NaN</td>\n",
       "      <td>2196</td>\n",
       "      <td>2196</td>\n",
       "      <td>2196</td>\n",
       "      <td>2196</td>\n",
       "    </tr>\n",
       "    <tr>\n",
       "      <th>2654</th>\n",
       "      <td>University of Puerto Rico: Ponce</td>\n",
       "      <td>NaN</td>\n",
       "      <td>PR</td>\n",
       "      <td>Public</td>\n",
       "      <td>4 Year</td>\n",
       "      <td>NaN</td>\n",
       "      <td>2261</td>\n",
       "      <td>2261</td>\n",
       "      <td>2261</td>\n",
       "      <td>2261</td>\n",
       "    </tr>\n",
       "    <tr>\n",
       "      <th>2655</th>\n",
       "      <td>University of Puerto Rico: Rio Piedras</td>\n",
       "      <td>NaN</td>\n",
       "      <td>PR</td>\n",
       "      <td>Public</td>\n",
       "      <td>4 Year</td>\n",
       "      <td>8751.0</td>\n",
       "      <td>3624</td>\n",
       "      <td>12375</td>\n",
       "      <td>5349</td>\n",
       "      <td>14100</td>\n",
       "    </tr>\n",
       "    <tr>\n",
       "      <th>2656</th>\n",
       "      <td>University of Puerto Rico: Utuado</td>\n",
       "      <td>NaN</td>\n",
       "      <td>PR</td>\n",
       "      <td>Public</td>\n",
       "      <td>4 Year</td>\n",
       "      <td>NaN</td>\n",
       "      <td>2266</td>\n",
       "      <td>2266</td>\n",
       "      <td>4287</td>\n",
       "      <td>4287</td>\n",
       "    </tr>\n",
       "    <tr>\n",
       "      <th>2707</th>\n",
       "      <td>University of the District of Columbia</td>\n",
       "      <td>NaN</td>\n",
       "      <td>DC</td>\n",
       "      <td>Public</td>\n",
       "      <td>4 Year</td>\n",
       "      <td>16425.0</td>\n",
       "      <td>8252</td>\n",
       "      <td>24677</td>\n",
       "      <td>16388</td>\n",
       "      <td>32813</td>\n",
       "    </tr>\n",
       "    <tr>\n",
       "      <th>2713</th>\n",
       "      <td>University of the Virgin Islands</td>\n",
       "      <td>NaN</td>\n",
       "      <td>VI</td>\n",
       "      <td>Public</td>\n",
       "      <td>4 Year</td>\n",
       "      <td>9900.0</td>\n",
       "      <td>5235</td>\n",
       "      <td>15135</td>\n",
       "      <td>14496</td>\n",
       "      <td>24396</td>\n",
       "    </tr>\n",
       "  </tbody>\n",
       "</table>\n",
       "</div>"
      ],
      "text/plain": [
       "                                                   name state state_code  \\\n",
       "61                     American Samoa Community College   NaN         AS   \n",
       "62                                  American University   NaN         DC   \n",
       "63                   American University of Puerto Rico   NaN         PR   \n",
       "124                         Atlantic University College   NaN         PR   \n",
       "169                          Bayamon Central University   NaN         PR   \n",
       "349                                Caribbean University   NaN         PR   \n",
       "354                  Carlos Albizu University: San Juan   NaN         PR   \n",
       "372                      Catholic University of America   NaN         DC   \n",
       "576                  Columbia Central University: Yauco   NaN         PR   \n",
       "618                Conservatory of Music of Puerto Rico   NaN         PR   \n",
       "764                                        EDIC College   NaN         PR   \n",
       "768        EDP University of Puerto Rico: San Sebastian   NaN         PR   \n",
       "799           Escuela de Artes Plasticas de Puerto Rico   NaN         PR   \n",
       "882                                Gallaudet University   NaN         DC   \n",
       "900                        George Washington University   NaN         DC   \n",
       "902                               Georgetown University   NaN         DC   \n",
       "964                              Guam Community College   NaN         GU   \n",
       "1056                                  Howard University   NaN         DC   \n",
       "1059                                    Huertas College   NaN         PR   \n",
       "1061                          Humacao Community College   NaN         PR   \n",
       "1073                                ICPR Junior College   NaN         PR   \n",
       "1103  Inter American University of Puerto Rico: Agua...   NaN         PR   \n",
       "1104  Inter American University of Puerto Rico: Arec...   NaN         PR   \n",
       "1105  Inter American University of Puerto Rico: Barr...   NaN         PR   \n",
       "1106  Inter American University of Puerto Rico: Baya...   NaN         PR   \n",
       "1107  Inter American University of Puerto Rico: Faja...   NaN         PR   \n",
       "1108  Inter American University of Puerto Rico: Guay...   NaN         PR   \n",
       "1109  Inter American University of Puerto Rico: Metr...   NaN         PR   \n",
       "1110  Inter American University of Puerto Rico: Ponc...   NaN         PR   \n",
       "1111  Inter American University of Puerto Rico: San ...   NaN         PR   \n",
       "1915      Pontifical Catholic University of Puerto Rico   NaN         PR   \n",
       "2445                      Trinity Washington University   NaN         DC   \n",
       "2456                                  Turabo University   NaN         PR   \n",
       "2473        Universal Technology College of Puerto Rico   NaN         PR   \n",
       "2474             Universidad Adventista de las Antillas   NaN         PR   \n",
       "2475                               Universidad del Este   NaN         PR   \n",
       "2476                          Universidad Metropolitana   NaN         PR   \n",
       "2477                      Universidad Pentecostal Mizpa   NaN         PR   \n",
       "2478             Universidad Politecnica de Puerto Rico   NaN         PR   \n",
       "2479                     University College of San Juan   NaN         PR   \n",
       "2647               University of Puerto Rico: Aguadilla   NaN         PR   \n",
       "2648                 University of Puerto Rico: Arecibo   NaN         PR   \n",
       "2649  University of Puerto Rico: Bayamon University ...   NaN         PR   \n",
       "2650  University of Puerto Rico: Carolina Regional C...   NaN         PR   \n",
       "2651                 University of Puerto Rico: Humacao   NaN         PR   \n",
       "2652                University of Puerto Rico: Mayaguez   NaN         PR   \n",
       "2653        University of Puerto Rico: Medical Sciences   NaN         PR   \n",
       "2654                   University of Puerto Rico: Ponce   NaN         PR   \n",
       "2655             University of Puerto Rico: Rio Piedras   NaN         PR   \n",
       "2656                  University of Puerto Rico: Utuado   NaN         PR   \n",
       "2707             University of the District of Columbia   NaN         DC   \n",
       "2713                   University of the Virgin Islands   NaN         VI   \n",
       "\n",
       "            type degree_length  room_and_board  in_state_tuition  \\\n",
       "61        Public        2 Year             NaN              3700   \n",
       "62       Private        4 Year         14880.0             48459   \n",
       "63       Private        4 Year             NaN              6946   \n",
       "124      Private        4 Year             NaN              4525   \n",
       "169      Private        4 Year             NaN              5775   \n",
       "349      Private        4 Year             NaN              6570   \n",
       "354      Private        4 Year             NaN              5912   \n",
       "372      Private        4 Year         14650.0             45804   \n",
       "576   For Profit        2 Year             NaN              6420   \n",
       "618       Public        4 Year             NaN              4000   \n",
       "764   For Profit        2 Year             NaN              7065   \n",
       "768   For Profit        4 Year             NaN              5940   \n",
       "799       Public        4 Year             NaN              4002   \n",
       "882      Private        4 Year         14100.0             17038   \n",
       "900      Private        4 Year         13850.0             55230   \n",
       "902      Private        4 Year         16509.0             54104   \n",
       "964       Public        2 Year             NaN              4194   \n",
       "1056     Private        4 Year         13895.0             27056   \n",
       "1059  For Profit        2 Year             NaN              6635   \n",
       "1061     Private        2 Year          3000.0              5382   \n",
       "1073  For Profit        2 Year          4000.0              7010   \n",
       "1103     Private        4 Year             NaN              6262   \n",
       "1104     Private        4 Year             NaN              6452   \n",
       "1105     Private        4 Year             NaN              6262   \n",
       "1106     Private        4 Year          7993.0              5898   \n",
       "1107     Private        4 Year             NaN              5898   \n",
       "1108     Private        4 Year             NaN              6452   \n",
       "1109     Private        4 Year             NaN              7476   \n",
       "1110     Private        4 Year             NaN              5220   \n",
       "1111     Private        4 Year          3900.0              5976   \n",
       "1915     Private        4 Year          1374.0              5490   \n",
       "2445     Private        4 Year         11160.0             24150   \n",
       "2456     Private        4 Year             NaN              7050   \n",
       "2473     Private        2 Year             NaN             18000   \n",
       "2474     Private        4 Year          6400.0              6570   \n",
       "2475     Private        4 Year             NaN              6330   \n",
       "2476     Private        4 Year             NaN              7050   \n",
       "2477     Private        4 Year          3760.0              4120   \n",
       "2478     Private        4 Year          4950.0              8610   \n",
       "2479      Public        4 Year             NaN              2370   \n",
       "2647      Public        4 Year             NaN              3594   \n",
       "2648      Public        4 Year             NaN              1769   \n",
       "2649      Public        4 Year             NaN              2022   \n",
       "2650      Public        4 Year             NaN              6116   \n",
       "2651      Public        4 Year             NaN              1794   \n",
       "2652      Public        4 Year             NaN              2083   \n",
       "2653      Public        4 Year             NaN              2196   \n",
       "2654      Public        4 Year             NaN              2261   \n",
       "2655      Public        4 Year          8751.0              3624   \n",
       "2656      Public        4 Year             NaN              2266   \n",
       "2707      Public        4 Year         16425.0              8252   \n",
       "2713      Public        4 Year          9900.0              5235   \n",
       "\n",
       "      in_state_total  out_of_state_tuition  out_of_state_total  \n",
       "61              3700                  3700                3700  \n",
       "62             63339                 48459               63339  \n",
       "63              6946                  6946                6946  \n",
       "124             4525                  4525                4525  \n",
       "169             5775                  5775                5775  \n",
       "349             6570                  6570                6570  \n",
       "354             5912                  5912                5912  \n",
       "372            60454                 45804               60454  \n",
       "576             6420                  6420                6420  \n",
       "618             4000                  4000                4000  \n",
       "764             7065                  7065                7065  \n",
       "768             5940                  5940                5940  \n",
       "799             4002                  6702                6702  \n",
       "882            31138                 17038               31138  \n",
       "900            69080                 55230               69080  \n",
       "902            70613                 54104               70613  \n",
       "964             4194                  4944                4944  \n",
       "1056           40951                 27056               40951  \n",
       "1059            6635                  6635                6635  \n",
       "1061            8382                  5382                8382  \n",
       "1073           11010                  7010               11010  \n",
       "1103            6262                  6262                6262  \n",
       "1104            6452                  6452                6452  \n",
       "1105            6262                  6262                6262  \n",
       "1106           13891                  5898               13891  \n",
       "1107            5898                  5898                5898  \n",
       "1108            6452                  6452                6452  \n",
       "1109            7476                  7476                7476  \n",
       "1110            5220                  5220                5220  \n",
       "1111            9876                  5976                9876  \n",
       "1915            6864                  5490                6864  \n",
       "2445           35310                 24150               35310  \n",
       "2456            7050                  7050                7050  \n",
       "2473           18000                 18000               18000  \n",
       "2474           12970                  6570               12970  \n",
       "2475            6330                  6330                6330  \n",
       "2476            7050                  7050                7050  \n",
       "2477            7880                  4120                7880  \n",
       "2478           13560                  8610               13560  \n",
       "2479            2370                  2370                2370  \n",
       "2647            3594                  3594                3594  \n",
       "2648            1769                  1987                1987  \n",
       "2649            2022                  2022                2022  \n",
       "2650            6116                  6116                6116  \n",
       "2651            1794                  1794                1794  \n",
       "2652            2083                  4105                4105  \n",
       "2653            2196                  2196                2196  \n",
       "2654            2261                  2261                2261  \n",
       "2655           12375                  5349               14100  \n",
       "2656            2266                  4287                4287  \n",
       "2707           24677                 16388               32813  \n",
       "2713           15135                 14496               24396  "
      ]
     },
     "execution_count": 9,
     "metadata": {
     },
     "output_type": "execute_result"
    }
   ],
   "source": [
    "tuition[tuition['state'].isnull()] # null is the value for an empty variable"
   ]
  },
  {
   "cell_type": "code",
   "execution_count": 9,
   "metadata": {
    "collapsed": false
   },
   "outputs": [
    {
     "data": {
      "text/html": [
       "<div>\n",
       "<style scoped>\n",
       "    .dataframe tbody tr th:only-of-type {\n",
       "        vertical-align: middle;\n",
       "    }\n",
       "\n",
       "    .dataframe tbody tr th {\n",
       "        vertical-align: top;\n",
       "    }\n",
       "\n",
       "    .dataframe thead th {\n",
       "        text-align: right;\n",
       "    }\n",
       "</style>\n",
       "<table border=\"1\" class=\"dataframe\">\n",
       "  <thead>\n",
       "    <tr style=\"text-align: right;\">\n",
       "      <th></th>\n",
       "      <th>age</th>\n",
       "      <th>sex</th>\n",
       "      <th>cp</th>\n",
       "      <th>trtbps</th>\n",
       "      <th>chol</th>\n",
       "      <th>fbs</th>\n",
       "      <th>restecg</th>\n",
       "      <th>thalachh</th>\n",
       "      <th>exng</th>\n",
       "      <th>oldpeak</th>\n",
       "      <th>slp</th>\n",
       "      <th>caa</th>\n",
       "      <th>thall</th>\n",
       "      <th>output</th>\n",
       "    </tr>\n",
       "  </thead>\n",
       "  <tbody>\n",
       "  </tbody>\n",
       "</table>\n",
       "</div>"
      ],
      "text/plain": [
       "Empty DataFrame\n",
       "Columns: [age, sex, cp, trtbps, chol, fbs, restecg, thalachh, exng, oldpeak, slp, caa, thall, output]\n",
       "Index: []"
      ]
     },
     "execution_count": 9,
     "metadata": {
     },
     "output_type": "execute_result"
    }
   ],
   "source": [
    "heart[heart['age'].isnull()]"
   ]
  },
  {
   "cell_type": "markdown",
   "metadata": {
    "collapsed": false
   },
   "source": [
    "We can see that there are a few state_codes that don't have state names, we can manually add those.\n",
    "<br>We'll make a function for this and add it to the top."
   ]
  },
  {
   "cell_type": "code",
   "execution_count": 11,
   "metadata": {
    "collapsed": false
   },
   "outputs": [
   ],
   "source": [
    "def fill_state(row):\n",
    "    if row['state_code'] == 'AS':\n",
    "        return 'American Samoa'\n",
    "    elif row['state_code'] == 'DC':\n",
    "        return 'District of Columbia'\n",
    "    elif row['state_code'] == 'PR':\n",
    "        return 'Puerto Rico'\n",
    "    elif row['state_code'] == 'GU':\n",
    "        return 'Guam'\n",
    "    elif row['state_code'] == 'VI':\n",
    "        return 'Virgin Islands'\n",
    "    else:\n",
    "        return row['state']\n",
    "\n",
    "# axis = 1 means do it to the columns (0 is the rows)\n",
    "tuition['state'] = tuition.apply(lambda row : fill_state(row), axis=1) "
   ]
  },
  {
   "cell_type": "markdown",
   "metadata": {
    "collapsed": false
   },
   "source": [
    "Now we check and see there are no more null values!"
   ]
  },
  {
   "cell_type": "code",
   "execution_count": 7,
   "metadata": {
    "collapsed": false,
    "scrolled": true
   },
   "outputs": [
    {
     "ename": "NameError",
     "evalue": "name 'heart' is not defined",
     "output_type": "error",
     "traceback": [
      "\u001b[0;31m---------------------------------------------------------------------------\u001b[0m",
      "\u001b[0;31mNameError\u001b[0m                                 Traceback (most recent call last)",
      "Input \u001b[0;32mIn [7]\u001b[0m, in \u001b[0;36m<cell line: 1>\u001b[0;34m()\u001b[0m\n\u001b[0;32m----> 1\u001b[0m \u001b[43mheart\u001b[49m[heart[\u001b[38;5;124m'\u001b[39m\u001b[38;5;124mage\u001b[39m\u001b[38;5;124m'\u001b[39m]\u001b[38;5;241m.\u001b[39misnull()]\n",
      "\u001b[0;31mNameError\u001b[0m: name 'heart' is not defined"
     ]
    }
   ],
   "source": [
    "heart[heart['age'].isnull()]"
   ]
  },
  {
   "cell_type": "markdown",
   "metadata": {
    "collapsed": false
   },
   "source": [
    "We still have a lot of missing data in the column 'room_and_board' and some in the 'make_world_better_place'\n",
    "<br><br>\n",
    "Since we don't care too much about room_and_board, we'll just drop that column as a whole, but for the other, we will just drop the rows that are missing that data since it is only ~3% of our dataset."
   ]
  },
  {
   "cell_type": "code",
   "execution_count": 13,
   "metadata": {
    "collapsed": false
   },
   "outputs": [
   ],
   "source": [
    "# drop room and board (axis = 1 --> column)\n",
    "tuition = tuition.drop('room_and_board', axis=1)\n",
    "# drop rows with empty make world better place (axis = 0 --> row)\n",
    "salary_potential = salary_potential.dropna(subset=['make_world_better_percent'])"
   ]
  },
  {
   "cell_type": "code",
   "execution_count": 14,
   "metadata": {
    "collapsed": false
   },
   "outputs": [
    {
     "name": "stdout",
     "output_type": "stream",
     "text": [
      "0 0\n"
     ]
    }
   ],
   "source": [
    "# confirm there are no null values in either dataframe, rows or columns (.sum().sum() condences it into 1 value)\n",
    "print(tuition.isnull().sum().sum(), salary_potential.isnull().sum().sum())"
   ]
  },
  {
   "cell_type": "markdown",
   "metadata": {
    "collapsed": false
   },
   "source": [
    "##### Merging our Dataframe\n",
    "To merge our dataframes we need to identify which columns we want to merge on. There's many ways to combine data, you can dive deeper here: <br>https://realpython.com/pandas-merge-join-and-concat/<br> We will be focusing on a simple merge. <br><br> For a simple merge, we want to have two dataframes that have a column by the same name we want to merge on. <br>In our case we want to merge using the 'name' column. We will only have the data of schools that appear identically in both dataframes.<br> One thing to keep in mind, you must merge on a column with the same name so often will need to rename a column from one dataframe."
   ]
  },
  {
   "cell_type": "code",
   "execution_count": 15,
   "metadata": {
    "collapsed": false
   },
   "outputs": [
   ],
   "source": [
    "# check here to find how to rename - https://pandas.pydata.org/docs/reference/api/pandas.DataFrame.rename.html\n",
    "# we create a new dataframe called merged_df that is the combined one\n",
    "merged_df = pd.merge(tuition, salary_potential, on='name')"
   ]
  },
  {
   "cell_type": "code",
   "execution_count": 16,
   "metadata": {
    "collapsed": false
   },
   "outputs": [
    {
     "data": {
      "text/html": [
       "<div>\n",
       "<style scoped>\n",
       "    .dataframe tbody tr th:only-of-type {\n",
       "        vertical-align: middle;\n",
       "    }\n",
       "\n",
       "    .dataframe tbody tr th {\n",
       "        vertical-align: top;\n",
       "    }\n",
       "\n",
       "    .dataframe thead th {\n",
       "        text-align: right;\n",
       "    }\n",
       "</style>\n",
       "<table border=\"1\" class=\"dataframe\">\n",
       "  <thead>\n",
       "    <tr style=\"text-align: right;\">\n",
       "      <th></th>\n",
       "      <th>name</th>\n",
       "      <th>state</th>\n",
       "      <th>state_code</th>\n",
       "      <th>type</th>\n",
       "      <th>degree_length</th>\n",
       "      <th>in_state_tuition</th>\n",
       "      <th>in_state_total</th>\n",
       "      <th>out_of_state_tuition</th>\n",
       "      <th>out_of_state_total</th>\n",
       "      <th>rank</th>\n",
       "      <th>state_name</th>\n",
       "      <th>early_career_pay</th>\n",
       "      <th>mid_career_pay</th>\n",
       "      <th>make_world_better_percent</th>\n",
       "      <th>stem_percent</th>\n",
       "    </tr>\n",
       "  </thead>\n",
       "  <tbody>\n",
       "    <tr>\n",
       "      <th>0</th>\n",
       "      <td>Adams State University</td>\n",
       "      <td>Colorado</td>\n",
       "      <td>CO</td>\n",
       "      <td>Public</td>\n",
       "      <td>4 Year</td>\n",
       "      <td>9440</td>\n",
       "      <td>18222</td>\n",
       "      <td>20456</td>\n",
       "      <td>29238</td>\n",
       "      <td>16</td>\n",
       "      <td>Colorado</td>\n",
       "      <td>44400</td>\n",
       "      <td>81400</td>\n",
       "      <td>56.0</td>\n",
       "      <td>3</td>\n",
       "    </tr>\n",
       "    <tr>\n",
       "      <th>1</th>\n",
       "      <td>Adventist University of Health Sciences</td>\n",
       "      <td>Florida</td>\n",
       "      <td>FL</td>\n",
       "      <td>Private</td>\n",
       "      <td>4 Year</td>\n",
       "      <td>15150</td>\n",
       "      <td>19350</td>\n",
       "      <td>15150</td>\n",
       "      <td>19350</td>\n",
       "      <td>14</td>\n",
       "      <td>Florida</td>\n",
       "      <td>51600</td>\n",
       "      <td>89800</td>\n",
       "      <td>88.0</td>\n",
       "      <td>5</td>\n",
       "    </tr>\n",
       "    <tr>\n",
       "      <th>2</th>\n",
       "      <td>Agnes Scott College</td>\n",
       "      <td>Georgia</td>\n",
       "      <td>GA</td>\n",
       "      <td>Private</td>\n",
       "      <td>4 Year</td>\n",
       "      <td>41160</td>\n",
       "      <td>53490</td>\n",
       "      <td>41160</td>\n",
       "      <td>53490</td>\n",
       "      <td>14</td>\n",
       "      <td>Georgia</td>\n",
       "      <td>46000</td>\n",
       "      <td>83600</td>\n",
       "      <td>57.0</td>\n",
       "      <td>26</td>\n",
       "    </tr>\n",
       "    <tr>\n",
       "      <th>3</th>\n",
       "      <td>Alabama State University</td>\n",
       "      <td>Alabama</td>\n",
       "      <td>AL</td>\n",
       "      <td>Public</td>\n",
       "      <td>4 Year</td>\n",
       "      <td>11068</td>\n",
       "      <td>16490</td>\n",
       "      <td>19396</td>\n",
       "      <td>24818</td>\n",
       "      <td>20</td>\n",
       "      <td>Alabama</td>\n",
       "      <td>39800</td>\n",
       "      <td>71500</td>\n",
       "      <td>61.0</td>\n",
       "      <td>16</td>\n",
       "    </tr>\n",
       "    <tr>\n",
       "      <th>4</th>\n",
       "      <td>Alaska Pacific University</td>\n",
       "      <td>Alaska</td>\n",
       "      <td>AK</td>\n",
       "      <td>Private</td>\n",
       "      <td>4 Year</td>\n",
       "      <td>20830</td>\n",
       "      <td>28130</td>\n",
       "      <td>20830</td>\n",
       "      <td>28130</td>\n",
       "      <td>3</td>\n",
       "      <td>Alaska</td>\n",
       "      <td>50300</td>\n",
       "      <td>90000</td>\n",
       "      <td>67.0</td>\n",
       "      <td>6</td>\n",
       "    </tr>\n",
       "  </tbody>\n",
       "</table>\n",
       "</div>"
      ],
      "text/plain": [
       "                                      name     state state_code     type  \\\n",
       "0                   Adams State University  Colorado         CO   Public   \n",
       "1  Adventist University of Health Sciences   Florida         FL  Private   \n",
       "2                      Agnes Scott College   Georgia         GA  Private   \n",
       "3                 Alabama State University   Alabama         AL   Public   \n",
       "4                Alaska Pacific University    Alaska         AK  Private   \n",
       "\n",
       "  degree_length  in_state_tuition  in_state_total  out_of_state_tuition  \\\n",
       "0        4 Year              9440           18222                 20456   \n",
       "1        4 Year             15150           19350                 15150   \n",
       "2        4 Year             41160           53490                 41160   \n",
       "3        4 Year             11068           16490                 19396   \n",
       "4        4 Year             20830           28130                 20830   \n",
       "\n",
       "   out_of_state_total  rank state_name  early_career_pay  mid_career_pay  \\\n",
       "0               29238    16   Colorado             44400           81400   \n",
       "1               19350    14    Florida             51600           89800   \n",
       "2               53490    14    Georgia             46000           83600   \n",
       "3               24818    20    Alabama             39800           71500   \n",
       "4               28130     3     Alaska             50300           90000   \n",
       "\n",
       "   make_world_better_percent  stem_percent  \n",
       "0                       56.0             3  \n",
       "1                       88.0             5  \n",
       "2                       57.0            26  \n",
       "3                       61.0            16  \n",
       "4                       67.0             6  "
      ]
     },
     "execution_count": 16,
     "metadata": {
     },
     "output_type": "execute_result"
    }
   ],
   "source": [
    "merged_df.head()"
   ]
  },
  {
   "cell_type": "markdown",
   "metadata": {
    "collapsed": false
   },
   "source": [
    "Now we have a 'state' and 'state_name' column that look duplicative, lets check."
   ]
  },
  {
   "cell_type": "code",
   "execution_count": 17,
   "metadata": {
    "collapsed": false
   },
   "outputs": [
    {
     "data": {
      "text/plain": [
       "False"
      ]
     },
     "execution_count": 17,
     "metadata": {
     },
     "output_type": "execute_result"
    }
   ],
   "source": [
    "merged_df['state'].equals(merged_df['state_name'])"
   ]
  },
  {
   "cell_type": "markdown",
   "metadata": {
    "collapsed": false
   },
   "source": [
    "Lets look at the differences, get all the unique 'state' and 'state_names' from all rows where they are not identical"
   ]
  },
  {
   "cell_type": "code",
   "execution_count": 18,
   "metadata": {
    "collapsed": false,
    "scrolled": true
   },
   "outputs": [
    {
     "data": {
      "text/plain": [
       "array(['New York', 'North Carolina', 'South Dakota', 'South Carolina',\n",
       "       'New Jersey', 'West Virginia', 'Rhode Island', 'New Hampshire',\n",
       "       'North Dakota', 'New Mexico', 'Illinois', 'Vermont'], dtype=object)"
      ]
     },
     "execution_count": 18,
     "metadata": {
     },
     "output_type": "execute_result"
    }
   ],
   "source": [
    "merged_df.loc[~(merged_df['state'] == merged_df['state_name'])]['state'].unique()"
   ]
  },
  {
   "cell_type": "code",
   "execution_count": 19,
   "metadata": {
    "collapsed": false
   },
   "outputs": [
    {
     "data": {
      "text/plain": [
       "array(['New-York', 'North-Carolina', 'South-Dakota', 'South-Carolina',\n",
       "       'New-Jersey', 'West-Virginia', 'Rhode-Island', 'New-Hampshire',\n",
       "       'North-Dakota', 'New-Mexico', 'Iowa', 'Kansas'], dtype=object)"
      ]
     },
     "execution_count": 19,
     "metadata": {
     },
     "output_type": "execute_result"
    }
   ],
   "source": [
    "merged_df.loc[~(merged_df['state'] == merged_df['state_name'])]['state_name'].unique()"
   ]
  },
  {
   "cell_type": "markdown",
   "metadata": {
    "collapsed": false
   },
   "source": [
    "Many are issues with hyphens, some are not, let's fix the hyphen problem and look at the rest."
   ]
  },
  {
   "cell_type": "code",
   "execution_count": 20,
   "metadata": {
    "collapsed": false
   },
   "outputs": [
    {
     "data": {
      "text/html": [
       "<div>\n",
       "<style scoped>\n",
       "    .dataframe tbody tr th:only-of-type {\n",
       "        vertical-align: middle;\n",
       "    }\n",
       "\n",
       "    .dataframe tbody tr th {\n",
       "        vertical-align: top;\n",
       "    }\n",
       "\n",
       "    .dataframe thead th {\n",
       "        text-align: right;\n",
       "    }\n",
       "</style>\n",
       "<table border=\"1\" class=\"dataframe\">\n",
       "  <thead>\n",
       "    <tr style=\"text-align: right;\">\n",
       "      <th></th>\n",
       "      <th>name</th>\n",
       "      <th>state</th>\n",
       "      <th>state_code</th>\n",
       "      <th>type</th>\n",
       "      <th>degree_length</th>\n",
       "      <th>in_state_tuition</th>\n",
       "      <th>in_state_total</th>\n",
       "      <th>out_of_state_tuition</th>\n",
       "      <th>out_of_state_total</th>\n",
       "      <th>rank</th>\n",
       "      <th>state_name</th>\n",
       "      <th>early_career_pay</th>\n",
       "      <th>mid_career_pay</th>\n",
       "      <th>make_world_better_percent</th>\n",
       "      <th>stem_percent</th>\n",
       "    </tr>\n",
       "  </thead>\n",
       "  <tbody>\n",
       "    <tr>\n",
       "      <th>365</th>\n",
       "      <td>Northwestern College</td>\n",
       "      <td>Illinois</td>\n",
       "      <td>IL</td>\n",
       "      <td>For Profit</td>\n",
       "      <td>2 Year</td>\n",
       "      <td>18485</td>\n",
       "      <td>30887</td>\n",
       "      <td>18485</td>\n",
       "      <td>30887</td>\n",
       "      <td>18</td>\n",
       "      <td>Iowa</td>\n",
       "      <td>44800</td>\n",
       "      <td>82400</td>\n",
       "      <td>42.0</td>\n",
       "      <td>11</td>\n",
       "    </tr>\n",
       "    <tr>\n",
       "      <th>481</th>\n",
       "      <td>Sterling College</td>\n",
       "      <td>Vermont</td>\n",
       "      <td>VT</td>\n",
       "      <td>Private</td>\n",
       "      <td>4 Year</td>\n",
       "      <td>38800</td>\n",
       "      <td>48700</td>\n",
       "      <td>38800</td>\n",
       "      <td>48700</td>\n",
       "      <td>17</td>\n",
       "      <td>Kansas</td>\n",
       "      <td>42700</td>\n",
       "      <td>79100</td>\n",
       "      <td>73.0</td>\n",
       "      <td>7</td>\n",
       "    </tr>\n",
       "  </tbody>\n",
       "</table>\n",
       "</div>"
      ],
      "text/plain": [
       "                     name     state state_code        type degree_length  \\\n",
       "365  Northwestern College  Illinois         IL  For Profit        2 Year   \n",
       "481      Sterling College   Vermont         VT     Private        4 Year   \n",
       "\n",
       "     in_state_tuition  in_state_total  out_of_state_tuition  \\\n",
       "365             18485           30887                 18485   \n",
       "481             38800           48700                 38800   \n",
       "\n",
       "     out_of_state_total  rank state_name  early_career_pay  mid_career_pay  \\\n",
       "365               30887    18       Iowa             44800           82400   \n",
       "481               48700    17     Kansas             42700           79100   \n",
       "\n",
       "     make_world_better_percent  stem_percent  \n",
       "365                       42.0            11  \n",
       "481                       73.0             7  "
      ]
     },
     "execution_count": 20,
     "metadata": {
     },
     "output_type": "execute_result"
    }
   ],
   "source": [
    "to_replace = ['New-York', 'North-Carolina', 'South-Dakota', 'South-Carolina',\n",
    "       'New-Jersey', 'West-Virginia', 'Rhode-Island', 'New-Hampshire',\n",
    "       'North-Dakota', 'New-Mexico']\n",
    "replace_with = ['New York', 'North Carolina', 'South Dakota', 'South Carolina',\n",
    "       'New Jersey', 'West Virginia', 'Rhode Island', 'New Hampshire',\n",
    "       'North Dakota', 'New Mexico']\n",
    "for i in range(len(to_replace)):\n",
    "    merged_df[\"state_name\"].replace({to_replace[i]: replace_with[i]}, inplace=True)\n",
    "merged_df.loc[~(merged_df['state'] == merged_df['state_name'])]"
   ]
  },
  {
   "cell_type": "markdown",
   "metadata": {
    "collapsed": false
   },
   "source": [
    "After searching Manually, Northwestern College is in Iowa & Sterling College is in Kansas. <br> This shows the importance of double checking your data. <br> I will drop the 'state column' as the 'state_name' column is the accurate one and state_code is unnecessary."
   ]
  },
  {
   "cell_type": "code",
   "execution_count": 21,
   "metadata": {
    "collapsed": false
   },
   "outputs": [
    {
     "data": {
      "text/html": [
       "<div>\n",
       "<style scoped>\n",
       "    .dataframe tbody tr th:only-of-type {\n",
       "        vertical-align: middle;\n",
       "    }\n",
       "\n",
       "    .dataframe tbody tr th {\n",
       "        vertical-align: top;\n",
       "    }\n",
       "\n",
       "    .dataframe thead th {\n",
       "        text-align: right;\n",
       "    }\n",
       "</style>\n",
       "<table border=\"1\" class=\"dataframe\">\n",
       "  <thead>\n",
       "    <tr style=\"text-align: right;\">\n",
       "      <th></th>\n",
       "      <th>name</th>\n",
       "      <th>type</th>\n",
       "      <th>degree_length</th>\n",
       "      <th>in_state_tuition</th>\n",
       "      <th>in_state_total</th>\n",
       "      <th>out_of_state_tuition</th>\n",
       "      <th>out_of_state_total</th>\n",
       "      <th>rank</th>\n",
       "      <th>state_name</th>\n",
       "      <th>early_career_pay</th>\n",
       "      <th>mid_career_pay</th>\n",
       "      <th>make_world_better_percent</th>\n",
       "      <th>stem_percent</th>\n",
       "    </tr>\n",
       "  </thead>\n",
       "  <tbody>\n",
       "    <tr>\n",
       "      <th>0</th>\n",
       "      <td>Adams State University</td>\n",
       "      <td>Public</td>\n",
       "      <td>4 Year</td>\n",
       "      <td>9440</td>\n",
       "      <td>18222</td>\n",
       "      <td>20456</td>\n",
       "      <td>29238</td>\n",
       "      <td>16</td>\n",
       "      <td>Colorado</td>\n",
       "      <td>44400</td>\n",
       "      <td>81400</td>\n",
       "      <td>56.0</td>\n",
       "      <td>3</td>\n",
       "    </tr>\n",
       "    <tr>\n",
       "      <th>1</th>\n",
       "      <td>Adventist University of Health Sciences</td>\n",
       "      <td>Private</td>\n",
       "      <td>4 Year</td>\n",
       "      <td>15150</td>\n",
       "      <td>19350</td>\n",
       "      <td>15150</td>\n",
       "      <td>19350</td>\n",
       "      <td>14</td>\n",
       "      <td>Florida</td>\n",
       "      <td>51600</td>\n",
       "      <td>89800</td>\n",
       "      <td>88.0</td>\n",
       "      <td>5</td>\n",
       "    </tr>\n",
       "    <tr>\n",
       "      <th>2</th>\n",
       "      <td>Agnes Scott College</td>\n",
       "      <td>Private</td>\n",
       "      <td>4 Year</td>\n",
       "      <td>41160</td>\n",
       "      <td>53490</td>\n",
       "      <td>41160</td>\n",
       "      <td>53490</td>\n",
       "      <td>14</td>\n",
       "      <td>Georgia</td>\n",
       "      <td>46000</td>\n",
       "      <td>83600</td>\n",
       "      <td>57.0</td>\n",
       "      <td>26</td>\n",
       "    </tr>\n",
       "    <tr>\n",
       "      <th>3</th>\n",
       "      <td>Alabama State University</td>\n",
       "      <td>Public</td>\n",
       "      <td>4 Year</td>\n",
       "      <td>11068</td>\n",
       "      <td>16490</td>\n",
       "      <td>19396</td>\n",
       "      <td>24818</td>\n",
       "      <td>20</td>\n",
       "      <td>Alabama</td>\n",
       "      <td>39800</td>\n",
       "      <td>71500</td>\n",
       "      <td>61.0</td>\n",
       "      <td>16</td>\n",
       "    </tr>\n",
       "    <tr>\n",
       "      <th>4</th>\n",
       "      <td>Alaska Pacific University</td>\n",
       "      <td>Private</td>\n",
       "      <td>4 Year</td>\n",
       "      <td>20830</td>\n",
       "      <td>28130</td>\n",
       "      <td>20830</td>\n",
       "      <td>28130</td>\n",
       "      <td>3</td>\n",
       "      <td>Alaska</td>\n",
       "      <td>50300</td>\n",
       "      <td>90000</td>\n",
       "      <td>67.0</td>\n",
       "      <td>6</td>\n",
       "    </tr>\n",
       "  </tbody>\n",
       "</table>\n",
       "</div>"
      ],
      "text/plain": [
       "                                      name     type degree_length  \\\n",
       "0                   Adams State University   Public        4 Year   \n",
       "1  Adventist University of Health Sciences  Private        4 Year   \n",
       "2                      Agnes Scott College  Private        4 Year   \n",
       "3                 Alabama State University   Public        4 Year   \n",
       "4                Alaska Pacific University  Private        4 Year   \n",
       "\n",
       "   in_state_tuition  in_state_total  out_of_state_tuition  out_of_state_total  \\\n",
       "0              9440           18222                 20456               29238   \n",
       "1             15150           19350                 15150               19350   \n",
       "2             41160           53490                 41160               53490   \n",
       "3             11068           16490                 19396               24818   \n",
       "4             20830           28130                 20830               28130   \n",
       "\n",
       "   rank state_name  early_career_pay  mid_career_pay  \\\n",
       "0    16   Colorado             44400           81400   \n",
       "1    14    Florida             51600           89800   \n",
       "2    14    Georgia             46000           83600   \n",
       "3    20    Alabama             39800           71500   \n",
       "4     3     Alaska             50300           90000   \n",
       "\n",
       "   make_world_better_percent  stem_percent  \n",
       "0                       56.0             3  \n",
       "1                       88.0             5  \n",
       "2                       57.0            26  \n",
       "3                       61.0            16  \n",
       "4                       67.0             6  "
      ]
     },
     "execution_count": 21,
     "metadata": {
     },
     "output_type": "execute_result"
    }
   ],
   "source": [
    "# inplace = True means that we want the rename to occur in existing dataframe, not return a new one\n",
    "merged_df.drop(['state','state_code'], axis=1, inplace=True)\n",
    "merged_df.head()"
   ]
  },
  {
   "cell_type": "code",
   "execution_count": 22,
   "metadata": {
    "collapsed": false
   },
   "outputs": [
    {
     "data": {
      "text/plain": [
       "(702, 13)"
      ]
     },
     "execution_count": 22,
     "metadata": {
     },
     "output_type": "execute_result"
    }
   ],
   "source": [
    "merged_df.shape"
   ]
  },
  {
   "cell_type": "markdown",
   "metadata": {
    "collapsed": false
   },
   "source": [
    "Now that we're done cleaning and merging our data, let's turn that into a function, and add it to the top as well to keep our notebook organized."
   ]
  },
  {
   "cell_type": "code",
   "execution_count": 23,
   "metadata": {
    "collapsed": false
   },
   "outputs": [
   ],
   "source": [
    "# this function cleans and merges our two dataframes, returns one merged_df\n",
    "def clean_and_merge_dfs(tuition, salary_potential):\n",
    "    # drop room and board (axis = 1 --> column)\n",
    "    tuition = tuition.drop('room_and_board', axis=1)\n",
    "    # drop rows with empty make world better place (axis = 0 --> row)\n",
    "    salary_potential = salary_potential.dropna(subset=['make_world_better_percent'])\n",
    "    # we create a new dataframe called merged_df that is the combined one\n",
    "    merged_df = pd.merge(tuition, salary_potential, on='name')\n",
    "    # replace mismatched rows\n",
    "    to_replace = ['New-York', 'North-Carolina', 'South-Dakota', 'South-Carolina',\n",
    "       'New-Jersey', 'West-Virginia', 'Rhode-Island', 'New-Hampshire',\n",
    "       'North-Dakota', 'New-Mexico']\n",
    "    replace_with = ['New York', 'North Carolina', 'South Dakota', 'South Carolina',\n",
    "           'New Jersey', 'West Virginia', 'Rhode Island', 'New Hampshire',\n",
    "           'North Dakota', 'New Mexico']\n",
    "    for i in range(len(to_replace)):\n",
    "        merged_df[\"state_name\"].replace({to_replace[i]: replace_with[i]}, inplace=True)\n",
    "    # drop the duplicative (and slightly incorrect) column 'state'\n",
    "    merged_df.drop(['state','state_code'], axis=1, inplace=True)\n",
    "    # return the merged dataframe\n",
    "    return merged_df"
   ]
  },
  {
   "cell_type": "markdown",
   "metadata": {
    "collapsed": false
   },
   "source": [
    "## Analyzing Our Data <a class=\"anchor\" id=\"Analyze\"></a>\n",
    "Here we want to start looking at our data in the context of our original goal. <br> \"Are There Associations With University Tuition & Professional Pay on a State-by-State Basis?\"<br> To do this I'm going to manually create a dataset, getting first the number of schools in that state, and then the average of statistics I am investigating."
   ]
  },
  {
   "cell_type": "code",
   "execution_count": 24,
   "metadata": {
    "collapsed": false
   },
   "outputs": [
    {
     "data": {
      "text/html": [
       "<div>\n",
       "<style scoped>\n",
       "    .dataframe tbody tr th:only-of-type {\n",
       "        vertical-align: middle;\n",
       "    }\n",
       "\n",
       "    .dataframe tbody tr th {\n",
       "        vertical-align: top;\n",
       "    }\n",
       "\n",
       "    .dataframe thead th {\n",
       "        text-align: right;\n",
       "    }\n",
       "</style>\n",
       "<table border=\"1\" class=\"dataframe\">\n",
       "  <thead>\n",
       "    <tr style=\"text-align: right;\">\n",
       "      <th></th>\n",
       "      <th>number of schools</th>\n",
       "      <th>average early_career_pay</th>\n",
       "      <th>average mid_career_pay</th>\n",
       "      <th>average make_world_better_percent</th>\n",
       "      <th>average stem_percent</th>\n",
       "      <th>average in_state_tuition</th>\n",
       "      <th>average out_of_state_tuition</th>\n",
       "    </tr>\n",
       "  </thead>\n",
       "  <tbody>\n",
       "    <tr>\n",
       "      <th>Alabama</th>\n",
       "      <td>21</td>\n",
       "      <td>44714.285714</td>\n",
       "      <td>81176.190476</td>\n",
       "      <td>60.047619</td>\n",
       "      <td>14.047619</td>\n",
       "      <td>16134.238095</td>\n",
       "      <td>22360.380952</td>\n",
       "    </tr>\n",
       "    <tr>\n",
       "      <th>Alaska</th>\n",
       "      <td>3</td>\n",
       "      <td>55133.333333</td>\n",
       "      <td>97600.0</td>\n",
       "      <td>59.333333</td>\n",
       "      <td>12.0</td>\n",
       "      <td>12201.666667</td>\n",
       "      <td>22981.666667</td>\n",
       "    </tr>\n",
       "    <tr>\n",
       "      <th>Arizona</th>\n",
       "      <td>3</td>\n",
       "      <td>48966.666667</td>\n",
       "      <td>88166.666667</td>\n",
       "      <td>58.666667</td>\n",
       "      <td>11.666667</td>\n",
       "      <td>18512.0</td>\n",
       "      <td>31233.0</td>\n",
       "    </tr>\n",
       "    <tr>\n",
       "      <th>Arkansas</th>\n",
       "      <td>14</td>\n",
       "      <td>45607.142857</td>\n",
       "      <td>81700.0</td>\n",
       "      <td>57.571429</td>\n",
       "      <td>14.071429</td>\n",
       "      <td>17196.357143</td>\n",
       "      <td>21704.142857</td>\n",
       "    </tr>\n",
       "    <tr>\n",
       "      <th>California</th>\n",
       "      <td>13</td>\n",
       "      <td>67800.0</td>\n",
       "      <td>124876.923077</td>\n",
       "      <td>49.769231</td>\n",
       "      <td>30.615385</td>\n",
       "      <td>47656.538462</td>\n",
       "      <td>48387.615385</td>\n",
       "    </tr>\n",
       "  </tbody>\n",
       "</table>\n",
       "</div>"
      ],
      "text/plain": [
       "           number of schools average early_career_pay average mid_career_pay  \\\n",
       "Alabama                   21             44714.285714           81176.190476   \n",
       "Alaska                     3             55133.333333                97600.0   \n",
       "Arizona                    3             48966.666667           88166.666667   \n",
       "Arkansas                  14             45607.142857                81700.0   \n",
       "California                13                  67800.0          124876.923077   \n",
       "\n",
       "           average make_world_better_percent average stem_percent  \\\n",
       "Alabama                            60.047619            14.047619   \n",
       "Alaska                             59.333333                 12.0   \n",
       "Arizona                            58.666667            11.666667   \n",
       "Arkansas                           57.571429            14.071429   \n",
       "California                         49.769231            30.615385   \n",
       "\n",
       "           average in_state_tuition average out_of_state_tuition  \n",
       "Alabama                16134.238095                 22360.380952  \n",
       "Alaska                 12201.666667                 22981.666667  \n",
       "Arizona                     18512.0                      31233.0  \n",
       "Arkansas               17196.357143                 21704.142857  \n",
       "California             47656.538462                 48387.615385  "
      ]
     },
     "execution_count": 24,
     "metadata": {
     },
     "output_type": "execute_result"
    }
   ],
   "source": [
    "def state_stats_df(merged_df):\n",
    "    # get a list of all state_name's\n",
    "    states = merged_df.state_name.unique()\n",
    "\n",
    "    # Create a column in a new dataframe for each stat I want\n",
    "    state_stats = pd.DataFrame(index=states, columns=['number of schools','average early_career_pay',\n",
    "                                                      'average mid_career_pay','average make_world_better_percent',\n",
    "                                                      'average stem_percent','average in_state_tuition','average out_of_state_tuition'])\n",
    "    # Fill in the columns for each state\n",
    "    for state in states:\n",
    "        state_stats.loc[state, 'number of schools'] = len(merged_df[merged_df.state_name == state])\n",
    "        state_stats.loc[state, 'average early_career_pay'] = merged_df[merged_df.state_name == state]['early_career_pay'].mean()\n",
    "        state_stats.loc[state, 'average mid_career_pay'] = merged_df[merged_df.state_name == state]['mid_career_pay'].mean()\n",
    "        state_stats.loc[state, 'average make_world_better_percent'] = merged_df[merged_df.state_name == state]['make_world_better_percent'].mean()\n",
    "        state_stats.loc[state, 'average stem_percent'] = merged_df[merged_df.state_name == state]['stem_percent'].mean()\n",
    "        state_stats.loc[state, 'average in_state_tuition'] = merged_df[merged_df.state_name == state]['in_state_tuition'].mean()\n",
    "        state_stats.loc[state, 'average out_of_state_tuition'] = merged_df[merged_df.state_name == state]['out_of_state_tuition'].mean()\n",
    "    # sort alphabetically by state\n",
    "    state_stats.sort_index(inplace = True)\n",
    "    return state_stats\n",
    "\n",
    "state_stats = state_stats_df(merged_df)\n",
    "state_stats.head()"
   ]
  },
  {
   "cell_type": "markdown",
   "metadata": {
    "collapsed": false
   },
   "source": [
    "We don't need to stay with just the data we have been given, we can combine columns or do additional calculations on them. <br> One example is say we want to get the average 4 year cost of tuition, we can create those columns as well (and a few others)"
   ]
  },
  {
   "cell_type": "code",
   "execution_count": 25,
   "metadata": {
    "collapsed": false
   },
   "outputs": [
   ],
   "source": [
    "def add_details(state_stats):\n",
    "    # convert all columns to numeric\n",
    "    state_stats = state_stats.apply(pd.to_numeric)\n",
    "    # make columns for four year average out of state and in state total\n",
    "    state_stats['four year average out of state tuition'] = state_stats['average out_of_state_tuition'] * 4\n",
    "    state_stats['four year average in state tuition'] = state_stats['average in_state_tuition'] * 4\n",
    "    # make column calculating how many years on average to repay four year average in and our of state based on average early career pay in index 0\n",
    "    state_stats['years to repay in state 4 year uni based on early career pay'] =  state_stats['four year average in state tuition'] / state_stats['average early_career_pay']\n",
    "    state_stats['years to repay out of state 4 year uni based on early career pay'] = state_stats['four year average out of state tuition'] / state_stats['average early_career_pay'] \n",
    "    # make column calculating how many years on average to repay four year average in and our of state based on average mid career pay in index 0\n",
    "    state_stats['years to repay in state 4 year uni based on mid career pay'] =  state_stats['four year average in state tuition'] / state_stats['average mid_career_pay']\n",
    "    state_stats['years to repay out of state 4 year uni based on mid career pay'] = state_stats['four year average out of state tuition'] / state_stats['average mid_career_pay'] \n",
    "    # move 'years to repay out of state 4 year uni based on early career pay' to the front of the dataframe\n",
    "    state_stats = state_stats.reindex(columns=['four year average in state tuition', 'four year average out of state tuition', 'years to repay in state 4 year uni based on early career pay', 'years to repay out of state 4 year uni based on early career pay',\n",
    "    'years to repay in state 4 year uni based on mid career pay', 'years to repay out of state 4 year uni based on mid career pay',\n",
    "    'number of schools', 'average early_career_pay', 'average mid_career_pay', 'average make_world_better_percent', 'average stem_percent',\n",
    "    'average in_state_tuition','average out_of_state_tuition'])\n",
    "    return state_stats"
   ]
  },
  {
   "cell_type": "code",
   "execution_count": 26,
   "metadata": {
    "collapsed": false
   },
   "outputs": [
    {
     "data": {
      "text/html": [
       "<div>\n",
       "<style scoped>\n",
       "    .dataframe tbody tr th:only-of-type {\n",
       "        vertical-align: middle;\n",
       "    }\n",
       "\n",
       "    .dataframe tbody tr th {\n",
       "        vertical-align: top;\n",
       "    }\n",
       "\n",
       "    .dataframe thead th {\n",
       "        text-align: right;\n",
       "    }\n",
       "</style>\n",
       "<table border=\"1\" class=\"dataframe\">\n",
       "  <thead>\n",
       "    <tr style=\"text-align: right;\">\n",
       "      <th></th>\n",
       "      <th>four year average in state tuition</th>\n",
       "      <th>four year average out of state tuition</th>\n",
       "      <th>years to repay in state 4 year uni based on early career pay</th>\n",
       "      <th>years to repay out of state 4 year uni based on early career pay</th>\n",
       "      <th>years to repay in state 4 year uni based on mid career pay</th>\n",
       "      <th>years to repay out of state 4 year uni based on mid career pay</th>\n",
       "      <th>number of schools</th>\n",
       "      <th>average early_career_pay</th>\n",
       "      <th>average mid_career_pay</th>\n",
       "      <th>average make_world_better_percent</th>\n",
       "      <th>average stem_percent</th>\n",
       "      <th>average in_state_tuition</th>\n",
       "      <th>average out_of_state_tuition</th>\n",
       "    </tr>\n",
       "  </thead>\n",
       "  <tbody>\n",
       "    <tr>\n",
       "      <th>Alabama</th>\n",
       "      <td>64536.952381</td>\n",
       "      <td>89441.523810</td>\n",
       "      <td>1.443318</td>\n",
       "      <td>2.000290</td>\n",
       "      <td>0.795023</td>\n",
       "      <td>1.101820</td>\n",
       "      <td>21</td>\n",
       "      <td>44714.285714</td>\n",
       "      <td>81176.190476</td>\n",
       "      <td>60.047619</td>\n",
       "      <td>14.047619</td>\n",
       "      <td>16134.238095</td>\n",
       "      <td>22360.380952</td>\n",
       "    </tr>\n",
       "    <tr>\n",
       "      <th>Alaska</th>\n",
       "      <td>48806.666667</td>\n",
       "      <td>91926.666667</td>\n",
       "      <td>0.885248</td>\n",
       "      <td>1.667352</td>\n",
       "      <td>0.500068</td>\n",
       "      <td>0.941872</td>\n",
       "      <td>3</td>\n",
       "      <td>55133.333333</td>\n",
       "      <td>97600.000000</td>\n",
       "      <td>59.333333</td>\n",
       "      <td>12.000000</td>\n",
       "      <td>12201.666667</td>\n",
       "      <td>22981.666667</td>\n",
       "    </tr>\n",
       "    <tr>\n",
       "      <th>Arizona</th>\n",
       "      <td>74048.000000</td>\n",
       "      <td>124932.000000</td>\n",
       "      <td>1.512212</td>\n",
       "      <td>2.551368</td>\n",
       "      <td>0.839864</td>\n",
       "      <td>1.416998</td>\n",
       "      <td>3</td>\n",
       "      <td>48966.666667</td>\n",
       "      <td>88166.666667</td>\n",
       "      <td>58.666667</td>\n",
       "      <td>11.666667</td>\n",
       "      <td>18512.000000</td>\n",
       "      <td>31233.000000</td>\n",
       "    </tr>\n",
       "    <tr>\n",
       "      <th>Arkansas</th>\n",
       "      <td>68785.428571</td>\n",
       "      <td>86816.571429</td>\n",
       "      <td>1.508216</td>\n",
       "      <td>1.903574</td>\n",
       "      <td>0.841927</td>\n",
       "      <td>1.062626</td>\n",
       "      <td>14</td>\n",
       "      <td>45607.142857</td>\n",
       "      <td>81700.000000</td>\n",
       "      <td>57.571429</td>\n",
       "      <td>14.071429</td>\n",
       "      <td>17196.357143</td>\n",
       "      <td>21704.142857</td>\n",
       "    </tr>\n",
       "    <tr>\n",
       "      <th>California</th>\n",
       "      <td>190626.153846</td>\n",
       "      <td>193550.461538</td>\n",
       "      <td>2.811595</td>\n",
       "      <td>2.854727</td>\n",
       "      <td>1.526512</td>\n",
       "      <td>1.549930</td>\n",
       "      <td>13</td>\n",
       "      <td>67800.000000</td>\n",
       "      <td>124876.923077</td>\n",
       "      <td>49.769231</td>\n",
       "      <td>30.615385</td>\n",
       "      <td>47656.538462</td>\n",
       "      <td>48387.615385</td>\n",
       "    </tr>\n",
       "  </tbody>\n",
       "</table>\n",
       "</div>"
      ],
      "text/plain": [
       "            four year average in state tuition  \\\n",
       "Alabama                           64536.952381   \n",
       "Alaska                            48806.666667   \n",
       "Arizona                           74048.000000   \n",
       "Arkansas                          68785.428571   \n",
       "California                       190626.153846   \n",
       "\n",
       "            four year average out of state tuition  \\\n",
       "Alabama                               89441.523810   \n",
       "Alaska                                91926.666667   \n",
       "Arizona                              124932.000000   \n",
       "Arkansas                              86816.571429   \n",
       "California                           193550.461538   \n",
       "\n",
       "            years to repay in state 4 year uni based on early career pay  \\\n",
       "Alabama                                              1.443318              \n",
       "Alaska                                               0.885248              \n",
       "Arizona                                              1.512212              \n",
       "Arkansas                                             1.508216              \n",
       "California                                           2.811595              \n",
       "\n",
       "            years to repay out of state 4 year uni based on early career pay  \\\n",
       "Alabama                                              2.000290                  \n",
       "Alaska                                               1.667352                  \n",
       "Arizona                                              2.551368                  \n",
       "Arkansas                                             1.903574                  \n",
       "California                                           2.854727                  \n",
       "\n",
       "            years to repay in state 4 year uni based on mid career pay  \\\n",
       "Alabama                                              0.795023            \n",
       "Alaska                                               0.500068            \n",
       "Arizona                                              0.839864            \n",
       "Arkansas                                             0.841927            \n",
       "California                                           1.526512            \n",
       "\n",
       "            years to repay out of state 4 year uni based on mid career pay  \\\n",
       "Alabama                                              1.101820                \n",
       "Alaska                                               0.941872                \n",
       "Arizona                                              1.416998                \n",
       "Arkansas                                             1.062626                \n",
       "California                                           1.549930                \n",
       "\n",
       "            number of schools  average early_career_pay  \\\n",
       "Alabama                    21              44714.285714   \n",
       "Alaska                      3              55133.333333   \n",
       "Arizona                     3              48966.666667   \n",
       "Arkansas                   14              45607.142857   \n",
       "California                 13              67800.000000   \n",
       "\n",
       "            average mid_career_pay  average make_world_better_percent  \\\n",
       "Alabama               81176.190476                          60.047619   \n",
       "Alaska                97600.000000                          59.333333   \n",
       "Arizona               88166.666667                          58.666667   \n",
       "Arkansas              81700.000000                          57.571429   \n",
       "California           124876.923077                          49.769231   \n",
       "\n",
       "            average stem_percent  average in_state_tuition  \\\n",
       "Alabama                14.047619              16134.238095   \n",
       "Alaska                 12.000000              12201.666667   \n",
       "Arizona                11.666667              18512.000000   \n",
       "Arkansas               14.071429              17196.357143   \n",
       "California             30.615385              47656.538462   \n",
       "\n",
       "            average out_of_state_tuition  \n",
       "Alabama                     22360.380952  \n",
       "Alaska                      22981.666667  \n",
       "Arizona                     31233.000000  \n",
       "Arkansas                    21704.142857  \n",
       "California                  48387.615385  "
      ]
     },
     "execution_count": 26,
     "metadata": {
     },
     "output_type": "execute_result"
    }
   ],
   "source": [
    "state_stats = add_details(state_stats)\n",
    "state_stats.head()"
   ]
  },
  {
   "cell_type": "markdown",
   "metadata": {
    "collapsed": false
   },
   "source": [
    "Notice: This assumes you divert your entire paycheck to student loans and there is no interest. While this gives a guidline, that does hurt the usefullness, as different areas may allow to divert different amounts. Look out for this type of error in your own work"
   ]
  },
  {
   "cell_type": "markdown",
   "metadata": {
    "collapsed": false
   },
   "source": [
    "One of my favorite ways to investigate a dataframe is by using highlighting. <br> Here is a quick example of how to highlight based on how the value compares to the average. <br>\n",
    "These functions are a bit confusing because they are meant to be used by the pandas Apply function. <br> Read more here: https://www.datacamp.com/community/tutorials/pandas-apply <br> It is a way to check each row and do 'something' based on some values."
   ]
  },
  {
   "cell_type": "markdown",
   "metadata": {
    "collapsed": false
   },
   "source": [
    "This uses python's \"list comprehension\", which you can find more on here - https://www.w3schools.com/python/python_lists_comprehension.asp"
   ]
  },
  {
   "cell_type": "code",
   "execution_count": 27,
   "metadata": {
    "collapsed": false
   },
   "outputs": [
   ],
   "source": [
    "# Highlighting functions for our dataframe\n",
    "def highlight_above_avg(state):\n",
    "    # state_TF will check every row (state) and give a True/False value depending on the condition asked\n",
    "    # e.g. if the value is >.50 quantile (average value) for the column\n",
    "    state_TF = state >= state.quantile(.50)\n",
    "    return ['background: lightgreen' if state else '' for state in state_TF]\n",
    "def highlight_top(s):   \n",
    "    state_TF = s > s.quantile(0.90)\n",
    "    return ['color: blue' if state else '' for state in state_TF]\n",
    "\n",
    "def return_highlighted_df(state_stats):\n",
    "    return state_stats.style.apply(highlight_above_avg).apply(highlight_top)"
   ]
  },
  {
   "cell_type": "markdown",
   "metadata": {
    "collapsed": false
   },
   "source": [
    "Add any other filters you can think of to the filters"
   ]
  },
  {
   "cell_type": "markdown",
   "metadata": {
    "collapsed": false
   },
   "source": [
    "Something to note aboout the below table, some green / blue values could be 'good' while others could be 'bad'. <br>\n",
    "E.g. Having a top 10% in 'average_early_career_pay' could be good, but having a top 10% 'years to repay out of state 4 year uni based on early career pay' would be less awesome."
   ]
  },
  {
   "cell_type": "code",
   "execution_count": 28,
   "metadata": {
    "collapsed": false
   },
   "outputs": [
    {
     "data": {
      "text/html": [
       "<style type=\"text/css\">\n",
       "#T_12b3d_row0_col6, #T_12b3d_row1_col7, #T_12b3d_row1_col8, #T_12b3d_row1_col9, #T_12b3d_row2_col1, #T_12b3d_row2_col3, #T_12b3d_row2_col5, #T_12b3d_row2_col9, #T_12b3d_row2_col12, #T_12b3d_row3_col9, #T_12b3d_row4_col5, #T_12b3d_row5_col1, #T_12b3d_row5_col7, #T_12b3d_row5_col8, #T_12b3d_row5_col9, #T_12b3d_row5_col10, #T_12b3d_row5_col12, #T_12b3d_row6_col0, #T_12b3d_row6_col1, #T_12b3d_row6_col2, #T_12b3d_row6_col3, #T_12b3d_row6_col4, #T_12b3d_row6_col5, #T_12b3d_row6_col6, #T_12b3d_row6_col7, #T_12b3d_row6_col8, #T_12b3d_row6_col10, #T_12b3d_row6_col11, #T_12b3d_row6_col12, #T_12b3d_row8_col0, #T_12b3d_row8_col1, #T_12b3d_row8_col2, #T_12b3d_row8_col3, #T_12b3d_row8_col4, #T_12b3d_row8_col5, #T_12b3d_row8_col6, #T_12b3d_row8_col8, #T_12b3d_row8_col9, #T_12b3d_row8_col11, #T_12b3d_row8_col12, #T_12b3d_row10_col9, #T_12b3d_row12_col0, #T_12b3d_row12_col1, #T_12b3d_row12_col2, #T_12b3d_row12_col3, #T_12b3d_row12_col4, #T_12b3d_row12_col5, #T_12b3d_row12_col6, #T_12b3d_row12_col7, #T_12b3d_row12_col8, #T_12b3d_row12_col10, #T_12b3d_row12_col11, #T_12b3d_row12_col12, #T_12b3d_row13_col0, #T_12b3d_row13_col1, #T_12b3d_row13_col3, #T_12b3d_row13_col5, #T_12b3d_row13_col6, #T_12b3d_row13_col7, #T_12b3d_row13_col8, #T_12b3d_row13_col10, #T_12b3d_row13_col11, #T_12b3d_row13_col12, #T_12b3d_row14_col0, #T_12b3d_row14_col1, #T_12b3d_row14_col2, #T_12b3d_row14_col3, #T_12b3d_row14_col4, #T_12b3d_row14_col6, #T_12b3d_row14_col10, #T_12b3d_row14_col11, #T_12b3d_row14_col12, #T_12b3d_row15_col6, #T_12b3d_row16_col2, #T_12b3d_row16_col3, #T_12b3d_row16_col4, #T_12b3d_row16_col5, #T_12b3d_row16_col9, #T_12b3d_row17_col9, #T_12b3d_row18_col0, #T_12b3d_row18_col1, #T_12b3d_row18_col2, #T_12b3d_row18_col3, #T_12b3d_row18_col4, #T_12b3d_row18_col5, #T_12b3d_row18_col6, #T_12b3d_row18_col9, #T_12b3d_row18_col11, #T_12b3d_row18_col12, #T_12b3d_row19_col0, #T_12b3d_row19_col1, #T_12b3d_row19_col2, #T_12b3d_row19_col3, #T_12b3d_row19_col4, #T_12b3d_row19_col5, #T_12b3d_row19_col6, #T_12b3d_row19_col7, #T_12b3d_row19_col8, #T_12b3d_row19_col10, #T_12b3d_row19_col11, #T_12b3d_row19_col12, #T_12b3d_row20_col6, #T_12b3d_row20_col10, #T_12b3d_row21_col0, #T_12b3d_row21_col2, #T_12b3d_row21_col4, #T_12b3d_row21_col7, #T_12b3d_row21_col8, #T_12b3d_row21_col10, #T_12b3d_row21_col11, #T_12b3d_row22_col0, #T_12b3d_row22_col1, #T_12b3d_row22_col2, #T_12b3d_row22_col3, #T_12b3d_row22_col4, #T_12b3d_row22_col5, #T_12b3d_row22_col7, #T_12b3d_row22_col8, #T_12b3d_row22_col10, #T_12b3d_row22_col11, #T_12b3d_row22_col12, #T_12b3d_row24_col6, #T_12b3d_row24_col10, #T_12b3d_row25_col7, #T_12b3d_row25_col8, #T_12b3d_row25_col9, #T_12b3d_row26_col9, #T_12b3d_row27_col0, #T_12b3d_row27_col1, #T_12b3d_row27_col2, #T_12b3d_row27_col3, #T_12b3d_row27_col4, #T_12b3d_row27_col5, #T_12b3d_row27_col7, #T_12b3d_row27_col8, #T_12b3d_row27_col11, #T_12b3d_row27_col12, #T_12b3d_row28_col0, #T_12b3d_row28_col1, #T_12b3d_row28_col2, #T_12b3d_row28_col3, #T_12b3d_row28_col4, #T_12b3d_row28_col5, #T_12b3d_row28_col7, #T_12b3d_row28_col10, #T_12b3d_row28_col11, #T_12b3d_row28_col12, #T_12b3d_row29_col0, #T_12b3d_row29_col1, #T_12b3d_row29_col2, #T_12b3d_row29_col6, #T_12b3d_row29_col7, #T_12b3d_row29_col8, #T_12b3d_row29_col10, #T_12b3d_row29_col11, #T_12b3d_row29_col12, #T_12b3d_row31_col2, #T_12b3d_row31_col3, #T_12b3d_row31_col4, #T_12b3d_row31_col5, #T_12b3d_row31_col6, #T_12b3d_row32_col0, #T_12b3d_row32_col1, #T_12b3d_row32_col2, #T_12b3d_row32_col3, #T_12b3d_row32_col4, #T_12b3d_row32_col5, #T_12b3d_row32_col6, #T_12b3d_row32_col11, #T_12b3d_row32_col12, #T_12b3d_row33_col9, #T_12b3d_row34_col1, #T_12b3d_row34_col3, #T_12b3d_row34_col5, #T_12b3d_row34_col7, #T_12b3d_row34_col8, #T_12b3d_row34_col10, #T_12b3d_row34_col12, #T_12b3d_row35_col6, #T_12b3d_row35_col9, #T_12b3d_row36_col0, #T_12b3d_row36_col1, #T_12b3d_row36_col2, #T_12b3d_row36_col3, #T_12b3d_row36_col4, #T_12b3d_row36_col5, #T_12b3d_row36_col6, #T_12b3d_row36_col7, #T_12b3d_row36_col8, #T_12b3d_row36_col9, #T_12b3d_row36_col11, #T_12b3d_row36_col12, #T_12b3d_row37_col6, #T_12b3d_row38_col0, #T_12b3d_row38_col2, #T_12b3d_row38_col4, #T_12b3d_row38_col7, #T_12b3d_row38_col8, #T_12b3d_row38_col11, #T_12b3d_row39_col2, #T_12b3d_row39_col3, #T_12b3d_row39_col4, #T_12b3d_row39_col5, #T_12b3d_row39_col6, #T_12b3d_row39_col9, #T_12b3d_row39_col10, #T_12b3d_row40_col9, #T_12b3d_row40_col10, #T_12b3d_row41_col0, #T_12b3d_row41_col2, #T_12b3d_row41_col3, #T_12b3d_row41_col4, #T_12b3d_row41_col5, #T_12b3d_row41_col6, #T_12b3d_row41_col9, #T_12b3d_row41_col11, #T_12b3d_row42_col0, #T_12b3d_row42_col1, #T_12b3d_row42_col6, #T_12b3d_row42_col10, #T_12b3d_row42_col11, #T_12b3d_row42_col12, #T_12b3d_row43_col7, #T_12b3d_row43_col8, #T_12b3d_row43_col9, #T_12b3d_row44_col0, #T_12b3d_row44_col1, #T_12b3d_row44_col2, #T_12b3d_row44_col4, #T_12b3d_row44_col11, #T_12b3d_row44_col12, #T_12b3d_row45_col0, #T_12b3d_row45_col1, #T_12b3d_row45_col3, #T_12b3d_row45_col5, #T_12b3d_row45_col7, #T_12b3d_row45_col8, #T_12b3d_row45_col10, #T_12b3d_row45_col11, #T_12b3d_row45_col12, #T_12b3d_row46_col0, #T_12b3d_row46_col1, #T_12b3d_row46_col2, #T_12b3d_row46_col3, #T_12b3d_row46_col4, #T_12b3d_row46_col5, #T_12b3d_row46_col6, #T_12b3d_row46_col7, #T_12b3d_row46_col8, #T_12b3d_row46_col10, #T_12b3d_row46_col11, #T_12b3d_row46_col12, #T_12b3d_row47_col9, #T_12b3d_row48_col4, #T_12b3d_row48_col7, #T_12b3d_row48_col8, #T_12b3d_row48_col10, #T_12b3d_row49_col7, #T_12b3d_row49_col8, #T_12b3d_row49_col9, #T_12b3d_row49_col10 {\n",
       "  background: lightgreen;\n",
       "}\n",
       "#T_12b3d_row0_col7, #T_12b3d_row1_col2, #T_12b3d_row1_col4, #T_12b3d_row1_col6, #T_12b3d_row2_col6, #T_12b3d_row11_col0, #T_12b3d_row11_col2, #T_12b3d_row11_col4, #T_12b3d_row11_col11, #T_12b3d_row15_col10, #T_12b3d_row16_col7, #T_12b3d_row16_col8, #T_12b3d_row20_col9, #T_12b3d_row23_col1, #T_12b3d_row23_col3, #T_12b3d_row23_col5, #T_12b3d_row23_col7, #T_12b3d_row23_col8, #T_12b3d_row23_col12, #T_12b3d_row26_col10, #T_12b3d_row27_col6, #T_12b3d_row27_col9, #T_12b3d_row27_col10, #T_12b3d_row29_col9, #T_12b3d_row30_col0, #T_12b3d_row30_col1, #T_12b3d_row30_col2, #T_12b3d_row30_col3, #T_12b3d_row30_col4, #T_12b3d_row30_col5, #T_12b3d_row30_col6, #T_12b3d_row30_col11, #T_12b3d_row30_col12, #T_12b3d_row33_col0, #T_12b3d_row33_col1, #T_12b3d_row33_col3, #T_12b3d_row33_col5, #T_12b3d_row33_col8, #T_12b3d_row33_col10, #T_12b3d_row33_col11, #T_12b3d_row33_col12, #T_12b3d_row37_col9, #T_12b3d_row38_col9, #T_12b3d_row39_col7, #T_12b3d_row39_col8, #T_12b3d_row40_col1, #T_12b3d_row40_col12, #T_12b3d_row43_col0, #T_12b3d_row43_col2, #T_12b3d_row43_col3, #T_12b3d_row43_col4, #T_12b3d_row43_col5, #T_12b3d_row43_col11, #T_12b3d_row47_col7, #T_12b3d_row47_col8, #T_12b3d_row47_col10, #T_12b3d_row49_col0, #T_12b3d_row49_col1, #T_12b3d_row49_col2, #T_12b3d_row49_col3, #T_12b3d_row49_col4, #T_12b3d_row49_col5, #T_12b3d_row49_col6, #T_12b3d_row49_col11, #T_12b3d_row49_col12 {\n",
       "  background: red;\n",
       "}\n",
       "#T_12b3d_row0_col9, #T_12b3d_row4_col0, #T_12b3d_row4_col1, #T_12b3d_row4_col2, #T_12b3d_row4_col3, #T_12b3d_row4_col4, #T_12b3d_row4_col7, #T_12b3d_row4_col8, #T_12b3d_row4_col10, #T_12b3d_row4_col11, #T_12b3d_row4_col12, #T_12b3d_row9_col6, #T_12b3d_row11_col9, #T_12b3d_row13_col2, #T_12b3d_row13_col4, #T_12b3d_row14_col5, #T_12b3d_row15_col9, #T_12b3d_row16_col6, #T_12b3d_row20_col0, #T_12b3d_row20_col1, #T_12b3d_row20_col2, #T_12b3d_row20_col3, #T_12b3d_row20_col4, #T_12b3d_row20_col5, #T_12b3d_row20_col7, #T_12b3d_row20_col8, #T_12b3d_row20_col11, #T_12b3d_row20_col12, #T_12b3d_row21_col6, #T_12b3d_row23_col9, #T_12b3d_row25_col10, #T_12b3d_row30_col9, #T_12b3d_row30_col10, #T_12b3d_row31_col0, #T_12b3d_row31_col1, #T_12b3d_row31_col7, #T_12b3d_row31_col8, #T_12b3d_row31_col10, #T_12b3d_row31_col11, #T_12b3d_row31_col12, #T_12b3d_row34_col0, #T_12b3d_row34_col2, #T_12b3d_row34_col4, #T_12b3d_row34_col11, #T_12b3d_row37_col0, #T_12b3d_row37_col1, #T_12b3d_row37_col2, #T_12b3d_row37_col3, #T_12b3d_row37_col4, #T_12b3d_row37_col5, #T_12b3d_row37_col7, #T_12b3d_row37_col8, #T_12b3d_row37_col10, #T_12b3d_row37_col11, #T_12b3d_row37_col12, #T_12b3d_row38_col1, #T_12b3d_row38_col3, #T_12b3d_row38_col5, #T_12b3d_row38_col12, #T_12b3d_row42_col7, #T_12b3d_row42_col8, #T_12b3d_row44_col3, #T_12b3d_row44_col5, #T_12b3d_row45_col6, #T_12b3d_row48_col6 {\n",
       "  background: lightgreen;\n",
       "  color: blue;\n",
       "}\n",
       "</style>\n",
       "<table id=\"T_12b3d_\">\n",
       "  <thead>\n",
       "    <tr>\n",
       "      <th class=\"blank level0\" >&nbsp;</th>\n",
       "      <th class=\"col_heading level0 col0\" >four year average in state tuition</th>\n",
       "      <th class=\"col_heading level0 col1\" >four year average out of state tuition</th>\n",
       "      <th class=\"col_heading level0 col2\" >years to repay in state 4 year uni based on early career pay</th>\n",
       "      <th class=\"col_heading level0 col3\" >years to repay out of state 4 year uni based on early career pay</th>\n",
       "      <th class=\"col_heading level0 col4\" >years to repay in state 4 year uni based on mid career pay</th>\n",
       "      <th class=\"col_heading level0 col5\" >years to repay out of state 4 year uni based on mid career pay</th>\n",
       "      <th class=\"col_heading level0 col6\" >number of schools</th>\n",
       "      <th class=\"col_heading level0 col7\" >average early_career_pay</th>\n",
       "      <th class=\"col_heading level0 col8\" >average mid_career_pay</th>\n",
       "      <th class=\"col_heading level0 col9\" >average make_world_better_percent</th>\n",
       "      <th class=\"col_heading level0 col10\" >average stem_percent</th>\n",
       "      <th class=\"col_heading level0 col11\" >average in_state_tuition</th>\n",
       "      <th class=\"col_heading level0 col12\" >average out_of_state_tuition</th>\n",
       "    </tr>\n",
       "  </thead>\n",
       "  <tbody>\n",
       "    <tr>\n",
       "      <th id=\"T_12b3d_level0_row0\" class=\"row_heading level0 row0\" >Alabama</th>\n",
       "      <td id=\"T_12b3d_row0_col0\" class=\"data row0 col0\" >64536.952381</td>\n",
       "      <td id=\"T_12b3d_row0_col1\" class=\"data row0 col1\" >89441.523810</td>\n",
       "      <td id=\"T_12b3d_row0_col2\" class=\"data row0 col2\" >1.443318</td>\n",
       "      <td id=\"T_12b3d_row0_col3\" class=\"data row0 col3\" >2.000290</td>\n",
       "      <td id=\"T_12b3d_row0_col4\" class=\"data row0 col4\" >0.795023</td>\n",
       "      <td id=\"T_12b3d_row0_col5\" class=\"data row0 col5\" >1.101820</td>\n",
       "      <td id=\"T_12b3d_row0_col6\" class=\"data row0 col6\" >21</td>\n",
       "      <td id=\"T_12b3d_row0_col7\" class=\"data row0 col7\" >44714.285714</td>\n",
       "      <td id=\"T_12b3d_row0_col8\" class=\"data row0 col8\" >81176.190476</td>\n",
       "      <td id=\"T_12b3d_row0_col9\" class=\"data row0 col9\" >60.047619</td>\n",
       "      <td id=\"T_12b3d_row0_col10\" class=\"data row0 col10\" >14.047619</td>\n",
       "      <td id=\"T_12b3d_row0_col11\" class=\"data row0 col11\" >16134.238095</td>\n",
       "      <td id=\"T_12b3d_row0_col12\" class=\"data row0 col12\" >22360.380952</td>\n",
       "    </tr>\n",
       "    <tr>\n",
       "      <th id=\"T_12b3d_level0_row1\" class=\"row_heading level0 row1\" >Alaska</th>\n",
       "      <td id=\"T_12b3d_row1_col0\" class=\"data row1 col0\" >48806.666667</td>\n",
       "      <td id=\"T_12b3d_row1_col1\" class=\"data row1 col1\" >91926.666667</td>\n",
       "      <td id=\"T_12b3d_row1_col2\" class=\"data row1 col2\" >0.885248</td>\n",
       "      <td id=\"T_12b3d_row1_col3\" class=\"data row1 col3\" >1.667352</td>\n",
       "      <td id=\"T_12b3d_row1_col4\" class=\"data row1 col4\" >0.500068</td>\n",
       "      <td id=\"T_12b3d_row1_col5\" class=\"data row1 col5\" >0.941872</td>\n",
       "      <td id=\"T_12b3d_row1_col6\" class=\"data row1 col6\" >3</td>\n",
       "      <td id=\"T_12b3d_row1_col7\" class=\"data row1 col7\" >55133.333333</td>\n",
       "      <td id=\"T_12b3d_row1_col8\" class=\"data row1 col8\" >97600.000000</td>\n",
       "      <td id=\"T_12b3d_row1_col9\" class=\"data row1 col9\" >59.333333</td>\n",
       "      <td id=\"T_12b3d_row1_col10\" class=\"data row1 col10\" >12.000000</td>\n",
       "      <td id=\"T_12b3d_row1_col11\" class=\"data row1 col11\" >12201.666667</td>\n",
       "      <td id=\"T_12b3d_row1_col12\" class=\"data row1 col12\" >22981.666667</td>\n",
       "    </tr>\n",
       "    <tr>\n",
       "      <th id=\"T_12b3d_level0_row2\" class=\"row_heading level0 row2\" >Arizona</th>\n",
       "      <td id=\"T_12b3d_row2_col0\" class=\"data row2 col0\" >74048.000000</td>\n",
       "      <td id=\"T_12b3d_row2_col1\" class=\"data row2 col1\" >124932.000000</td>\n",
       "      <td id=\"T_12b3d_row2_col2\" class=\"data row2 col2\" >1.512212</td>\n",
       "      <td id=\"T_12b3d_row2_col3\" class=\"data row2 col3\" >2.551368</td>\n",
       "      <td id=\"T_12b3d_row2_col4\" class=\"data row2 col4\" >0.839864</td>\n",
       "      <td id=\"T_12b3d_row2_col5\" class=\"data row2 col5\" >1.416998</td>\n",
       "      <td id=\"T_12b3d_row2_col6\" class=\"data row2 col6\" >3</td>\n",
       "      <td id=\"T_12b3d_row2_col7\" class=\"data row2 col7\" >48966.666667</td>\n",
       "      <td id=\"T_12b3d_row2_col8\" class=\"data row2 col8\" >88166.666667</td>\n",
       "      <td id=\"T_12b3d_row2_col9\" class=\"data row2 col9\" >58.666667</td>\n",
       "      <td id=\"T_12b3d_row2_col10\" class=\"data row2 col10\" >11.666667</td>\n",
       "      <td id=\"T_12b3d_row2_col11\" class=\"data row2 col11\" >18512.000000</td>\n",
       "      <td id=\"T_12b3d_row2_col12\" class=\"data row2 col12\" >31233.000000</td>\n",
       "    </tr>\n",
       "    <tr>\n",
       "      <th id=\"T_12b3d_level0_row3\" class=\"row_heading level0 row3\" >Arkansas</th>\n",
       "      <td id=\"T_12b3d_row3_col0\" class=\"data row3 col0\" >68785.428571</td>\n",
       "      <td id=\"T_12b3d_row3_col1\" class=\"data row3 col1\" >86816.571429</td>\n",
       "      <td id=\"T_12b3d_row3_col2\" class=\"data row3 col2\" >1.508216</td>\n",
       "      <td id=\"T_12b3d_row3_col3\" class=\"data row3 col3\" >1.903574</td>\n",
       "      <td id=\"T_12b3d_row3_col4\" class=\"data row3 col4\" >0.841927</td>\n",
       "      <td id=\"T_12b3d_row3_col5\" class=\"data row3 col5\" >1.062626</td>\n",
       "      <td id=\"T_12b3d_row3_col6\" class=\"data row3 col6\" >14</td>\n",
       "      <td id=\"T_12b3d_row3_col7\" class=\"data row3 col7\" >45607.142857</td>\n",
       "      <td id=\"T_12b3d_row3_col8\" class=\"data row3 col8\" >81700.000000</td>\n",
       "      <td id=\"T_12b3d_row3_col9\" class=\"data row3 col9\" >57.571429</td>\n",
       "      <td id=\"T_12b3d_row3_col10\" class=\"data row3 col10\" >14.071429</td>\n",
       "      <td id=\"T_12b3d_row3_col11\" class=\"data row3 col11\" >17196.357143</td>\n",
       "      <td id=\"T_12b3d_row3_col12\" class=\"data row3 col12\" >21704.142857</td>\n",
       "    </tr>\n",
       "    <tr>\n",
       "      <th id=\"T_12b3d_level0_row4\" class=\"row_heading level0 row4\" >California</th>\n",
       "      <td id=\"T_12b3d_row4_col0\" class=\"data row4 col0\" >190626.153846</td>\n",
       "      <td id=\"T_12b3d_row4_col1\" class=\"data row4 col1\" >193550.461538</td>\n",
       "      <td id=\"T_12b3d_row4_col2\" class=\"data row4 col2\" >2.811595</td>\n",
       "      <td id=\"T_12b3d_row4_col3\" class=\"data row4 col3\" >2.854727</td>\n",
       "      <td id=\"T_12b3d_row4_col4\" class=\"data row4 col4\" >1.526512</td>\n",
       "      <td id=\"T_12b3d_row4_col5\" class=\"data row4 col5\" >1.549930</td>\n",
       "      <td id=\"T_12b3d_row4_col6\" class=\"data row4 col6\" >13</td>\n",
       "      <td id=\"T_12b3d_row4_col7\" class=\"data row4 col7\" >67800.000000</td>\n",
       "      <td id=\"T_12b3d_row4_col8\" class=\"data row4 col8\" >124876.923077</td>\n",
       "      <td id=\"T_12b3d_row4_col9\" class=\"data row4 col9\" >49.769231</td>\n",
       "      <td id=\"T_12b3d_row4_col10\" class=\"data row4 col10\" >30.615385</td>\n",
       "      <td id=\"T_12b3d_row4_col11\" class=\"data row4 col11\" >47656.538462</td>\n",
       "      <td id=\"T_12b3d_row4_col12\" class=\"data row4 col12\" >48387.615385</td>\n",
       "    </tr>\n",
       "    <tr>\n",
       "      <th id=\"T_12b3d_level0_row5\" class=\"row_heading level0 row5\" >Colorado</th>\n",
       "      <td id=\"T_12b3d_row5_col0\" class=\"data row5 col0\" >83676.615385</td>\n",
       "      <td id=\"T_12b3d_row5_col1\" class=\"data row5 col1\" >123681.230769</td>\n",
       "      <td id=\"T_12b3d_row5_col2\" class=\"data row5 col2\" >1.601820</td>\n",
       "      <td id=\"T_12b3d_row5_col3\" class=\"data row5 col3\" >2.367628</td>\n",
       "      <td id=\"T_12b3d_row5_col4\" class=\"data row5 col4\" >0.891929</td>\n",
       "      <td id=\"T_12b3d_row5_col5\" class=\"data row5 col5\" >1.318347</td>\n",
       "      <td id=\"T_12b3d_row5_col6\" class=\"data row5 col6\" >13</td>\n",
       "      <td id=\"T_12b3d_row5_col7\" class=\"data row5 col7\" >52238.461538</td>\n",
       "      <td id=\"T_12b3d_row5_col8\" class=\"data row5 col8\" >93815.384615</td>\n",
       "      <td id=\"T_12b3d_row5_col9\" class=\"data row5 col9\" >53.923077</td>\n",
       "      <td id=\"T_12b3d_row5_col10\" class=\"data row5 col10\" >20.692308</td>\n",
       "      <td id=\"T_12b3d_row5_col11\" class=\"data row5 col11\" >20919.153846</td>\n",
       "      <td id=\"T_12b3d_row5_col12\" class=\"data row5 col12\" >30920.307692</td>\n",
       "    </tr>\n",
       "    <tr>\n",
       "      <th id=\"T_12b3d_level0_row6\" class=\"row_heading level0 row6\" >Connecticut</th>\n",
       "      <td id=\"T_12b3d_row6_col0\" class=\"data row6 col0\" >135868.444444</td>\n",
       "      <td id=\"T_12b3d_row6_col1\" class=\"data row6 col1\" >151483.555556</td>\n",
       "      <td id=\"T_12b3d_row6_col2\" class=\"data row6 col2\" >2.469587</td>\n",
       "      <td id=\"T_12b3d_row6_col3\" class=\"data row6 col3\" >2.753412</td>\n",
       "      <td id=\"T_12b3d_row6_col4\" class=\"data row6 col4\" >1.365436</td>\n",
       "      <td id=\"T_12b3d_row6_col5\" class=\"data row6 col5\" >1.522363</td>\n",
       "      <td id=\"T_12b3d_row6_col6\" class=\"data row6 col6\" >18</td>\n",
       "      <td id=\"T_12b3d_row6_col7\" class=\"data row6 col7\" >55016.666667</td>\n",
       "      <td id=\"T_12b3d_row6_col8\" class=\"data row6 col8\" >99505.555556</td>\n",
       "      <td id=\"T_12b3d_row6_col9\" class=\"data row6 col9\" >51.000000</td>\n",
       "      <td id=\"T_12b3d_row6_col10\" class=\"data row6 col10\" >15.888889</td>\n",
       "      <td id=\"T_12b3d_row6_col11\" class=\"data row6 col11\" >33967.111111</td>\n",
       "      <td id=\"T_12b3d_row6_col12\" class=\"data row6 col12\" >37870.888889</td>\n",
       "    </tr>\n",
       "    <tr>\n",
       "      <th id=\"T_12b3d_level0_row7\" class=\"row_heading level0 row7\" >Delaware</th>\n",
       "      <td id=\"T_12b3d_row7_col0\" class=\"data row7 col0\" >66771.200000</td>\n",
       "      <td id=\"T_12b3d_row7_col1\" class=\"data row7 col1\" >90504.000000</td>\n",
       "      <td id=\"T_12b3d_row7_col2\" class=\"data row7 col2\" >1.361566</td>\n",
       "      <td id=\"T_12b3d_row7_col3\" class=\"data row7 col3\" >1.845514</td>\n",
       "      <td id=\"T_12b3d_row7_col4\" class=\"data row7 col4\" >0.779855</td>\n",
       "      <td id=\"T_12b3d_row7_col5\" class=\"data row7 col5\" >1.057043</td>\n",
       "      <td id=\"T_12b3d_row7_col6\" class=\"data row7 col6\" >5</td>\n",
       "      <td id=\"T_12b3d_row7_col7\" class=\"data row7 col7\" >49040.000000</td>\n",
       "      <td id=\"T_12b3d_row7_col8\" class=\"data row7 col8\" >85620.000000</td>\n",
       "      <td id=\"T_12b3d_row7_col9\" class=\"data row7 col9\" >49.400000</td>\n",
       "      <td id=\"T_12b3d_row7_col10\" class=\"data row7 col10\" >12.600000</td>\n",
       "      <td id=\"T_12b3d_row7_col11\" class=\"data row7 col11\" >16692.800000</td>\n",
       "      <td id=\"T_12b3d_row7_col12\" class=\"data row7 col12\" >22626.000000</td>\n",
       "    </tr>\n",
       "    <tr>\n",
       "      <th id=\"T_12b3d_level0_row8\" class=\"row_heading level0 row8\" >Florida</th>\n",
       "      <td id=\"T_12b3d_row8_col0\" class=\"data row8 col0\" >96486.222222</td>\n",
       "      <td id=\"T_12b3d_row8_col1\" class=\"data row8 col1\" >125415.333333</td>\n",
       "      <td id=\"T_12b3d_row8_col2\" class=\"data row8 col2\" >1.920124</td>\n",
       "      <td id=\"T_12b3d_row8_col3\" class=\"data row8 col3\" >2.495828</td>\n",
       "      <td id=\"T_12b3d_row8_col4\" class=\"data row8 col4\" >1.066670</td>\n",
       "      <td id=\"T_12b3d_row8_col5\" class=\"data row8 col5\" >1.386486</td>\n",
       "      <td id=\"T_12b3d_row8_col6\" class=\"data row8 col6\" >18</td>\n",
       "      <td id=\"T_12b3d_row8_col7\" class=\"data row8 col7\" >50250.000000</td>\n",
       "      <td id=\"T_12b3d_row8_col8\" class=\"data row8 col8\" >90455.555556</td>\n",
       "      <td id=\"T_12b3d_row8_col9\" class=\"data row8 col9\" >54.500000</td>\n",
       "      <td id=\"T_12b3d_row8_col10\" class=\"data row8 col10\" >14.388889</td>\n",
       "      <td id=\"T_12b3d_row8_col11\" class=\"data row8 col11\" >24121.555556</td>\n",
       "      <td id=\"T_12b3d_row8_col12\" class=\"data row8 col12\" >31353.833333</td>\n",
       "    </tr>\n",
       "    <tr>\n",
       "      <th id=\"T_12b3d_level0_row9\" class=\"row_heading level0 row9\" >Georgia</th>\n",
       "      <td id=\"T_12b3d_row9_col0\" class=\"data row9 col0\" >84775.636364</td>\n",
       "      <td id=\"T_12b3d_row9_col1\" class=\"data row9 col1\" >113883.636364</td>\n",
       "      <td id=\"T_12b3d_row9_col2\" class=\"data row9 col2\" >1.746969</td>\n",
       "      <td id=\"T_12b3d_row9_col3\" class=\"data row9 col3\" >2.346797</td>\n",
       "      <td id=\"T_12b3d_row9_col4\" class=\"data row9 col4\" >0.977804</td>\n",
       "      <td id=\"T_12b3d_row9_col5\" class=\"data row9 col5\" >1.313537</td>\n",
       "      <td id=\"T_12b3d_row9_col6\" class=\"data row9 col6\" >22</td>\n",
       "      <td id=\"T_12b3d_row9_col7\" class=\"data row9 col7\" >48527.272727</td>\n",
       "      <td id=\"T_12b3d_row9_col8\" class=\"data row9 col8\" >86700.000000</td>\n",
       "      <td id=\"T_12b3d_row9_col9\" class=\"data row9 col9\" >52.863636</td>\n",
       "      <td id=\"T_12b3d_row9_col10\" class=\"data row9 col10\" >14.636364</td>\n",
       "      <td id=\"T_12b3d_row9_col11\" class=\"data row9 col11\" >21193.909091</td>\n",
       "      <td id=\"T_12b3d_row9_col12\" class=\"data row9 col12\" >28470.909091</td>\n",
       "    </tr>\n",
       "    <tr>\n",
       "      <th id=\"T_12b3d_level0_row10\" class=\"row_heading level0 row10\" >Hawaii</th>\n",
       "      <td id=\"T_12b3d_row10_col0\" class=\"data row10 col0\" >61283.200000</td>\n",
       "      <td id=\"T_12b3d_row10_col1\" class=\"data row10 col1\" >89276.800000</td>\n",
       "      <td id=\"T_12b3d_row10_col2\" class=\"data row10 col2\" >1.251188</td>\n",
       "      <td id=\"T_12b3d_row10_col3\" class=\"data row10 col3\" >1.822719</td>\n",
       "      <td id=\"T_12b3d_row10_col4\" class=\"data row10 col4\" >0.696084</td>\n",
       "      <td id=\"T_12b3d_row10_col5\" class=\"data row10 col5\" >1.014048</td>\n",
       "      <td id=\"T_12b3d_row10_col6\" class=\"data row10 col6\" >5</td>\n",
       "      <td id=\"T_12b3d_row10_col7\" class=\"data row10 col7\" >48980.000000</td>\n",
       "      <td id=\"T_12b3d_row10_col8\" class=\"data row10 col8\" >88040.000000</td>\n",
       "      <td id=\"T_12b3d_row10_col9\" class=\"data row10 col9\" >56.600000</td>\n",
       "      <td id=\"T_12b3d_row10_col10\" class=\"data row10 col10\" >12.400000</td>\n",
       "      <td id=\"T_12b3d_row10_col11\" class=\"data row10 col11\" >15320.800000</td>\n",
       "      <td id=\"T_12b3d_row10_col12\" class=\"data row10 col12\" >22319.200000</td>\n",
       "    </tr>\n",
       "    <tr>\n",
       "      <th id=\"T_12b3d_level0_row11\" class=\"row_heading level0 row11\" >Idaho</th>\n",
       "      <td id=\"T_12b3d_row11_col0\" class=\"data row11 col0\" >42009.333333</td>\n",
       "      <td id=\"T_12b3d_row11_col1\" class=\"data row11 col1\" >83246.666667</td>\n",
       "      <td id=\"T_12b3d_row11_col2\" class=\"data row11 col2\" >0.845826</td>\n",
       "      <td id=\"T_12b3d_row11_col3\" class=\"data row11 col3\" >1.676107</td>\n",
       "      <td id=\"T_12b3d_row11_col4\" class=\"data row11 col4\" >0.477741</td>\n",
       "      <td id=\"T_12b3d_row11_col5\" class=\"data row11 col5\" >0.946702</td>\n",
       "      <td id=\"T_12b3d_row11_col6\" class=\"data row11 col6\" >6</td>\n",
       "      <td id=\"T_12b3d_row11_col7\" class=\"data row11 col7\" >49666.666667</td>\n",
       "      <td id=\"T_12b3d_row11_col8\" class=\"data row11 col8\" >87933.333333</td>\n",
       "      <td id=\"T_12b3d_row11_col9\" class=\"data row11 col9\" >60.000000</td>\n",
       "      <td id=\"T_12b3d_row11_col10\" class=\"data row11 col10\" >12.333333</td>\n",
       "      <td id=\"T_12b3d_row11_col11\" class=\"data row11 col11\" >10502.333333</td>\n",
       "      <td id=\"T_12b3d_row11_col12\" class=\"data row11 col12\" >20811.666667</td>\n",
       "    </tr>\n",
       "    <tr>\n",
       "      <th id=\"T_12b3d_level0_row12\" class=\"row_heading level0 row12\" >Illinois</th>\n",
       "      <td id=\"T_12b3d_row12_col0\" class=\"data row12 col0\" >136982.315789</td>\n",
       "      <td id=\"T_12b3d_row12_col1\" class=\"data row12 col1\" >145679.157895</td>\n",
       "      <td id=\"T_12b3d_row12_col2\" class=\"data row12 col2\" >2.456502</td>\n",
       "      <td id=\"T_12b3d_row12_col3\" class=\"data row12 col3\" >2.612462</td>\n",
       "      <td id=\"T_12b3d_row12_col4\" class=\"data row12 col4\" >1.351331</td>\n",
       "      <td id=\"T_12b3d_row12_col5\" class=\"data row12 col5\" >1.437126</td>\n",
       "      <td id=\"T_12b3d_row12_col6\" class=\"data row12 col6\" >19</td>\n",
       "      <td id=\"T_12b3d_row12_col7\" class=\"data row12 col7\" >55763.157895</td>\n",
       "      <td id=\"T_12b3d_row12_col8\" class=\"data row12 col8\" >101368.421053</td>\n",
       "      <td id=\"T_12b3d_row12_col9\" class=\"data row12 col9\" >51.263158</td>\n",
       "      <td id=\"T_12b3d_row12_col10\" class=\"data row12 col10\" >20.631579</td>\n",
       "      <td id=\"T_12b3d_row12_col11\" class=\"data row12 col11\" >34245.578947</td>\n",
       "      <td id=\"T_12b3d_row12_col12\" class=\"data row12 col12\" >36419.789474</td>\n",
       "    </tr>\n",
       "    <tr>\n",
       "      <th id=\"T_12b3d_level0_row13\" class=\"row_heading level0 row13\" >Indiana</th>\n",
       "      <td id=\"T_12b3d_row13_col0\" class=\"data row13 col0\" >143818.444444</td>\n",
       "      <td id=\"T_12b3d_row13_col1\" class=\"data row13 col1\" >149889.111111</td>\n",
       "      <td id=\"T_12b3d_row13_col2\" class=\"data row13 col2\" >2.716688</td>\n",
       "      <td id=\"T_12b3d_row13_col3\" class=\"data row13 col3\" >2.831361</td>\n",
       "      <td id=\"T_12b3d_row13_col4\" class=\"data row13 col4\" >1.494476</td>\n",
       "      <td id=\"T_12b3d_row13_col5\" class=\"data row13 col5\" >1.557559</td>\n",
       "      <td id=\"T_12b3d_row13_col6\" class=\"data row13 col6\" >18</td>\n",
       "      <td id=\"T_12b3d_row13_col7\" class=\"data row13 col7\" >52938.888889</td>\n",
       "      <td id=\"T_12b3d_row13_col8\" class=\"data row13 col8\" >96233.333333</td>\n",
       "      <td id=\"T_12b3d_row13_col9\" class=\"data row13 col9\" >51.444444</td>\n",
       "      <td id=\"T_12b3d_row13_col10\" class=\"data row13 col10\" >22.944444</td>\n",
       "      <td id=\"T_12b3d_row13_col11\" class=\"data row13 col11\" >35954.611111</td>\n",
       "      <td id=\"T_12b3d_row13_col12\" class=\"data row13 col12\" >37472.277778</td>\n",
       "    </tr>\n",
       "    <tr>\n",
       "      <th id=\"T_12b3d_level0_row14\" class=\"row_heading level0 row14\" >Iowa</th>\n",
       "      <td id=\"T_12b3d_row14_col0\" class=\"data row14 col0\" >127574.476190</td>\n",
       "      <td id=\"T_12b3d_row14_col1\" class=\"data row14 col1\" >136510.095238</td>\n",
       "      <td id=\"T_12b3d_row14_col2\" class=\"data row14 col2\" >2.640513</td>\n",
       "      <td id=\"T_12b3d_row14_col3\" class=\"data row14 col3\" >2.825460</td>\n",
       "      <td id=\"T_12b3d_row14_col4\" class=\"data row14 col4\" >1.461573</td>\n",
       "      <td id=\"T_12b3d_row14_col5\" class=\"data row14 col5\" >1.563945</td>\n",
       "      <td id=\"T_12b3d_row14_col6\" class=\"data row14 col6\" >21</td>\n",
       "      <td id=\"T_12b3d_row14_col7\" class=\"data row14 col7\" >48314.285714</td>\n",
       "      <td id=\"T_12b3d_row14_col8\" class=\"data row14 col8\" >87285.714286</td>\n",
       "      <td id=\"T_12b3d_row14_col9\" class=\"data row14 col9\" >50.047619</td>\n",
       "      <td id=\"T_12b3d_row14_col10\" class=\"data row14 col10\" >16.333333</td>\n",
       "      <td id=\"T_12b3d_row14_col11\" class=\"data row14 col11\" >31893.619048</td>\n",
       "      <td id=\"T_12b3d_row14_col12\" class=\"data row14 col12\" >34127.523810</td>\n",
       "    </tr>\n",
       "    <tr>\n",
       "      <th id=\"T_12b3d_level0_row15\" class=\"row_heading level0 row15\" >Kansas</th>\n",
       "      <td id=\"T_12b3d_row15_col0\" class=\"data row15 col0\" >84346.352941</td>\n",
       "      <td id=\"T_12b3d_row15_col1\" class=\"data row15 col1\" >104886.117647</td>\n",
       "      <td id=\"T_12b3d_row15_col2\" class=\"data row15 col2\" >1.814589</td>\n",
       "      <td id=\"T_12b3d_row15_col3\" class=\"data row15 col3\" >2.256472</td>\n",
       "      <td id=\"T_12b3d_row15_col4\" class=\"data row15 col4\" >1.007085</td>\n",
       "      <td id=\"T_12b3d_row15_col5\" class=\"data row15 col5\" >1.252328</td>\n",
       "      <td id=\"T_12b3d_row15_col6\" class=\"data row15 col6\" >17</td>\n",
       "      <td id=\"T_12b3d_row15_col7\" class=\"data row15 col7\" >46482.352941</td>\n",
       "      <td id=\"T_12b3d_row15_col8\" class=\"data row15 col8\" >83752.941176</td>\n",
       "      <td id=\"T_12b3d_row15_col9\" class=\"data row15 col9\" >60.352941</td>\n",
       "      <td id=\"T_12b3d_row15_col10\" class=\"data row15 col10\" >9.764706</td>\n",
       "      <td id=\"T_12b3d_row15_col11\" class=\"data row15 col11\" >21086.588235</td>\n",
       "      <td id=\"T_12b3d_row15_col12\" class=\"data row15 col12\" >26221.529412</td>\n",
       "    </tr>\n",
       "    <tr>\n",
       "      <th id=\"T_12b3d_level0_row16\" class=\"row_heading level0 row16\" >Kentucky</th>\n",
       "      <td id=\"T_12b3d_row16_col0\" class=\"data row16 col0\" >92465.500000</td>\n",
       "      <td id=\"T_12b3d_row16_col1\" class=\"data row16 col1\" >108970.166667</td>\n",
       "      <td id=\"T_12b3d_row16_col2\" class=\"data row16 col2\" >2.113296</td>\n",
       "      <td id=\"T_12b3d_row16_col3\" class=\"data row16 col3\" >2.490509</td>\n",
       "      <td id=\"T_12b3d_row16_col4\" class=\"data row16 col4\" >1.170264</td>\n",
       "      <td id=\"T_12b3d_row16_col5\" class=\"data row16 col5\" >1.379151</td>\n",
       "      <td id=\"T_12b3d_row16_col6\" class=\"data row16 col6\" >24</td>\n",
       "      <td id=\"T_12b3d_row16_col7\" class=\"data row16 col7\" >43754.166667</td>\n",
       "      <td id=\"T_12b3d_row16_col8\" class=\"data row16 col8\" >79012.500000</td>\n",
       "      <td id=\"T_12b3d_row16_col9\" class=\"data row16 col9\" >56.083333</td>\n",
       "      <td id=\"T_12b3d_row16_col10\" class=\"data row16 col10\" >10.708333</td>\n",
       "      <td id=\"T_12b3d_row16_col11\" class=\"data row16 col11\" >23116.375000</td>\n",
       "      <td id=\"T_12b3d_row16_col12\" class=\"data row16 col12\" >27242.541667</td>\n",
       "    </tr>\n",
       "    <tr>\n",
       "      <th id=\"T_12b3d_level0_row17\" class=\"row_heading level0 row17\" >Louisiana</th>\n",
       "      <td id=\"T_12b3d_row17_col0\" class=\"data row17 col0\" >61872.000000</td>\n",
       "      <td id=\"T_12b3d_row17_col1\" class=\"data row17 col1\" >81881.333333</td>\n",
       "      <td id=\"T_12b3d_row17_col2\" class=\"data row17 col2\" >1.318670</td>\n",
       "      <td id=\"T_12b3d_row17_col3\" class=\"data row17 col3\" >1.745126</td>\n",
       "      <td id=\"T_12b3d_row17_col4\" class=\"data row17 col4\" >0.720056</td>\n",
       "      <td id=\"T_12b3d_row17_col5\" class=\"data row17 col5\" >0.952921</td>\n",
       "      <td id=\"T_12b3d_row17_col6\" class=\"data row17 col6\" >15</td>\n",
       "      <td id=\"T_12b3d_row17_col7\" class=\"data row17 col7\" >46920.000000</td>\n",
       "      <td id=\"T_12b3d_row17_col8\" class=\"data row17 col8\" >85926.666667</td>\n",
       "      <td id=\"T_12b3d_row17_col9\" class=\"data row17 col9\" >58.666667</td>\n",
       "      <td id=\"T_12b3d_row17_col10\" class=\"data row17 col10\" >14.266667</td>\n",
       "      <td id=\"T_12b3d_row17_col11\" class=\"data row17 col11\" >15468.000000</td>\n",
       "      <td id=\"T_12b3d_row17_col12\" class=\"data row17 col12\" >20470.333333</td>\n",
       "    </tr>\n",
       "    <tr>\n",
       "      <th id=\"T_12b3d_level0_row18\" class=\"row_heading level0 row18\" >Maine</th>\n",
       "      <td id=\"T_12b3d_row18_col0\" class=\"data row18 col0\" >98022.000000</td>\n",
       "      <td id=\"T_12b3d_row18_col1\" class=\"data row18 col1\" >118617.500000</td>\n",
       "      <td id=\"T_12b3d_row18_col2\" class=\"data row18 col2\" >2.034443</td>\n",
       "      <td id=\"T_12b3d_row18_col3\" class=\"data row18 col3\" >2.461902</td>\n",
       "      <td id=\"T_12b3d_row18_col4\" class=\"data row18 col4\" >1.134186</td>\n",
       "      <td id=\"T_12b3d_row18_col5\" class=\"data row18 col5\" >1.372491</td>\n",
       "      <td id=\"T_12b3d_row18_col6\" class=\"data row18 col6\" >16</td>\n",
       "      <td id=\"T_12b3d_row18_col7\" class=\"data row18 col7\" >48181.250000</td>\n",
       "      <td id=\"T_12b3d_row18_col8\" class=\"data row18 col8\" >86425.000000</td>\n",
       "      <td id=\"T_12b3d_row18_col9\" class=\"data row18 col9\" >55.875000</td>\n",
       "      <td id=\"T_12b3d_row18_col10\" class=\"data row18 col10\" >13.375000</td>\n",
       "      <td id=\"T_12b3d_row18_col11\" class=\"data row18 col11\" >24505.500000</td>\n",
       "      <td id=\"T_12b3d_row18_col12\" class=\"data row18 col12\" >29654.375000</td>\n",
       "    </tr>\n",
       "    <tr>\n",
       "      <th id=\"T_12b3d_level0_row19\" class=\"row_heading level0 row19\" >Maryland</th>\n",
       "      <td id=\"T_12b3d_row19_col0\" class=\"data row19 col0\" >126087.529412</td>\n",
       "      <td id=\"T_12b3d_row19_col1\" class=\"data row19 col1\" >140075.294118</td>\n",
       "      <td id=\"T_12b3d_row19_col2\" class=\"data row19 col2\" >2.377163</td>\n",
       "      <td id=\"T_12b3d_row19_col3\" class=\"data row19 col3\" >2.640878</td>\n",
       "      <td id=\"T_12b3d_row19_col4\" class=\"data row19 col4\" >1.331607</td>\n",
       "      <td id=\"T_12b3d_row19_col5\" class=\"data row19 col5\" >1.479332</td>\n",
       "      <td id=\"T_12b3d_row19_col6\" class=\"data row19 col6\" >17</td>\n",
       "      <td id=\"T_12b3d_row19_col7\" class=\"data row19 col7\" >53041.176471</td>\n",
       "      <td id=\"T_12b3d_row19_col8\" class=\"data row19 col8\" >94688.235294</td>\n",
       "      <td id=\"T_12b3d_row19_col9\" class=\"data row19 col9\" >52.294118</td>\n",
       "      <td id=\"T_12b3d_row19_col10\" class=\"data row19 col10\" >17.294118</td>\n",
       "      <td id=\"T_12b3d_row19_col11\" class=\"data row19 col11\" >31521.882353</td>\n",
       "      <td id=\"T_12b3d_row19_col12\" class=\"data row19 col12\" >35018.823529</td>\n",
       "    </tr>\n",
       "    <tr>\n",
       "      <th id=\"T_12b3d_level0_row20\" class=\"row_heading level0 row20\" >Massachusetts</th>\n",
       "      <td id=\"T_12b3d_row20_col0\" class=\"data row20 col0\" >188594.857143</td>\n",
       "      <td id=\"T_12b3d_row20_col1\" class=\"data row20 col1\" >191714.476190</td>\n",
       "      <td id=\"T_12b3d_row20_col2\" class=\"data row20 col2\" >2.969107</td>\n",
       "      <td id=\"T_12b3d_row20_col3\" class=\"data row20 col3\" >3.018220</td>\n",
       "      <td id=\"T_12b3d_row20_col4\" class=\"data row20 col4\" >1.625684</td>\n",
       "      <td id=\"T_12b3d_row20_col5\" class=\"data row20 col5\" >1.652575</td>\n",
       "      <td id=\"T_12b3d_row20_col6\" class=\"data row20 col6\" >21</td>\n",
       "      <td id=\"T_12b3d_row20_col7\" class=\"data row20 col7\" >63519.047619</td>\n",
       "      <td id=\"T_12b3d_row20_col8\" class=\"data row20 col8\" >116009.523810</td>\n",
       "      <td id=\"T_12b3d_row20_col9\" class=\"data row20 col9\" >47.523810</td>\n",
       "      <td id=\"T_12b3d_row20_col10\" class=\"data row20 col10\" >28.380952</td>\n",
       "      <td id=\"T_12b3d_row20_col11\" class=\"data row20 col11\" >47148.714286</td>\n",
       "      <td id=\"T_12b3d_row20_col12\" class=\"data row20 col12\" >47928.619048</td>\n",
       "    </tr>\n",
       "    <tr>\n",
       "      <th id=\"T_12b3d_level0_row21\" class=\"row_heading level0 row21\" >Michigan</th>\n",
       "      <td id=\"T_12b3d_row21_col0\" class=\"data row21 col0\" >99996.545455</td>\n",
       "      <td id=\"T_12b3d_row21_col1\" class=\"data row21 col1\" >115760.181818</td>\n",
       "      <td id=\"T_12b3d_row21_col2\" class=\"data row21 col2\" >1.934339</td>\n",
       "      <td id=\"T_12b3d_row21_col3\" class=\"data row21 col3\" >2.239272</td>\n",
       "      <td id=\"T_12b3d_row21_col4\" class=\"data row21 col4\" >1.069898</td>\n",
       "      <td id=\"T_12b3d_row21_col5\" class=\"data row21 col5\" >1.238559</td>\n",
       "      <td id=\"T_12b3d_row21_col6\" class=\"data row21 col6\" >22</td>\n",
       "      <td id=\"T_12b3d_row21_col7\" class=\"data row21 col7\" >51695.454545</td>\n",
       "      <td id=\"T_12b3d_row21_col8\" class=\"data row21 col8\" >93463.636364</td>\n",
       "      <td id=\"T_12b3d_row21_col9\" class=\"data row21 col9\" >48.909091</td>\n",
       "      <td id=\"T_12b3d_row21_col10\" class=\"data row21 col10\" >21.772727</td>\n",
       "      <td id=\"T_12b3d_row21_col11\" class=\"data row21 col11\" >24999.136364</td>\n",
       "      <td id=\"T_12b3d_row21_col12\" class=\"data row21 col12\" >28940.045455</td>\n",
       "    </tr>\n",
       "    <tr>\n",
       "      <th id=\"T_12b3d_level0_row22\" class=\"row_heading level0 row22\" >Minnesota</th>\n",
       "      <td id=\"T_12b3d_row22_col0\" class=\"data row22 col0\" >133345.333333</td>\n",
       "      <td id=\"T_12b3d_row22_col1\" class=\"data row22 col1\" >142793.333333</td>\n",
       "      <td id=\"T_12b3d_row22_col2\" class=\"data row22 col2\" >2.602707</td>\n",
       "      <td id=\"T_12b3d_row22_col3\" class=\"data row22 col3\" >2.787118</td>\n",
       "      <td id=\"T_12b3d_row22_col4\" class=\"data row22 col4\" >1.432965</td>\n",
       "      <td id=\"T_12b3d_row22_col5\" class=\"data row22 col5\" >1.534496</td>\n",
       "      <td id=\"T_12b3d_row22_col6\" class=\"data row22 col6\" >9</td>\n",
       "      <td id=\"T_12b3d_row22_col7\" class=\"data row22 col7\" >51233.333333</td>\n",
       "      <td id=\"T_12b3d_row22_col8\" class=\"data row22 col8\" >93055.555556</td>\n",
       "      <td id=\"T_12b3d_row22_col9\" class=\"data row22 col9\" >49.111111</td>\n",
       "      <td id=\"T_12b3d_row22_col10\" class=\"data row22 col10\" >16.666667</td>\n",
       "      <td id=\"T_12b3d_row22_col11\" class=\"data row22 col11\" >33336.333333</td>\n",
       "      <td id=\"T_12b3d_row22_col12\" class=\"data row22 col12\" >35698.333333</td>\n",
       "    </tr>\n",
       "    <tr>\n",
       "      <th id=\"T_12b3d_level0_row23\" class=\"row_heading level0 row23\" >Mississippi</th>\n",
       "      <td id=\"T_12b3d_row23_col0\" class=\"data row23 col0\" >51116.000000</td>\n",
       "      <td id=\"T_12b3d_row23_col1\" class=\"data row23 col1\" >63625.142857</td>\n",
       "      <td id=\"T_12b3d_row23_col2\" class=\"data row23 col2\" >1.215807</td>\n",
       "      <td id=\"T_12b3d_row23_col3\" class=\"data row23 col3\" >1.513340</td>\n",
       "      <td id=\"T_12b3d_row23_col4\" class=\"data row23 col4\" >0.675181</td>\n",
       "      <td id=\"T_12b3d_row23_col5\" class=\"data row23 col5\" >0.840411</td>\n",
       "      <td id=\"T_12b3d_row23_col6\" class=\"data row23 col6\" >14</td>\n",
       "      <td id=\"T_12b3d_row23_col7\" class=\"data row23 col7\" >42042.857143</td>\n",
       "      <td id=\"T_12b3d_row23_col8\" class=\"data row23 col8\" >75707.142857</td>\n",
       "      <td id=\"T_12b3d_row23_col9\" class=\"data row23 col9\" >62.642857</td>\n",
       "      <td id=\"T_12b3d_row23_col10\" class=\"data row23 col10\" >14.642857</td>\n",
       "      <td id=\"T_12b3d_row23_col11\" class=\"data row23 col11\" >12779.000000</td>\n",
       "      <td id=\"T_12b3d_row23_col12\" class=\"data row23 col12\" >15906.285714</td>\n",
       "    </tr>\n",
       "    <tr>\n",
       "      <th id=\"T_12b3d_level0_row24\" class=\"row_heading level0 row24\" >Missouri</th>\n",
       "      <td id=\"T_12b3d_row24_col0\" class=\"data row24 col0\" >86910.352941</td>\n",
       "      <td id=\"T_12b3d_row24_col1\" class=\"data row24 col1\" >99148.235294</td>\n",
       "      <td id=\"T_12b3d_row24_col2\" class=\"data row24 col2\" >1.809745</td>\n",
       "      <td id=\"T_12b3d_row24_col3\" class=\"data row24 col3\" >2.064576</td>\n",
       "      <td id=\"T_12b3d_row24_col4\" class=\"data row24 col4\" >1.013011</td>\n",
       "      <td id=\"T_12b3d_row24_col5\" class=\"data row24 col5\" >1.155653</td>\n",
       "      <td id=\"T_12b3d_row24_col6\" class=\"data row24 col6\" >17</td>\n",
       "      <td id=\"T_12b3d_row24_col7\" class=\"data row24 col7\" >48023.529412</td>\n",
       "      <td id=\"T_12b3d_row24_col8\" class=\"data row24 col8\" >85794.117647</td>\n",
       "      <td id=\"T_12b3d_row24_col9\" class=\"data row24 col9\" >53.000000</td>\n",
       "      <td id=\"T_12b3d_row24_col10\" class=\"data row24 col10\" >15.705882</td>\n",
       "      <td id=\"T_12b3d_row24_col11\" class=\"data row24 col11\" >21727.588235</td>\n",
       "      <td id=\"T_12b3d_row24_col12\" class=\"data row24 col12\" >24787.058824</td>\n",
       "    </tr>\n",
       "    <tr>\n",
       "      <th id=\"T_12b3d_level0_row25\" class=\"row_heading level0 row25\" >Montana</th>\n",
       "      <td id=\"T_12b3d_row25_col0\" class=\"data row25 col0\" >78830.000000</td>\n",
       "      <td id=\"T_12b3d_row25_col1\" class=\"data row25 col1\" >111421.000000</td>\n",
       "      <td id=\"T_12b3d_row25_col2\" class=\"data row25 col2\" >1.507987</td>\n",
       "      <td id=\"T_12b3d_row25_col3\" class=\"data row25 col3\" >2.131440</td>\n",
       "      <td id=\"T_12b3d_row25_col4\" class=\"data row25 col4\" >0.823075</td>\n",
       "      <td id=\"T_12b3d_row25_col5\" class=\"data row25 col5\" >1.163362</td>\n",
       "      <td id=\"T_12b3d_row25_col6\" class=\"data row25 col6\" >4</td>\n",
       "      <td id=\"T_12b3d_row25_col7\" class=\"data row25 col7\" >52275.000000</td>\n",
       "      <td id=\"T_12b3d_row25_col8\" class=\"data row25 col8\" >95775.000000</td>\n",
       "      <td id=\"T_12b3d_row25_col9\" class=\"data row25 col9\" >58.000000</td>\n",
       "      <td id=\"T_12b3d_row25_col10\" class=\"data row25 col10\" >32.250000</td>\n",
       "      <td id=\"T_12b3d_row25_col11\" class=\"data row25 col11\" >19707.500000</td>\n",
       "      <td id=\"T_12b3d_row25_col12\" class=\"data row25 col12\" >27855.250000</td>\n",
       "    </tr>\n",
       "    <tr>\n",
       "      <th id=\"T_12b3d_level0_row26\" class=\"row_heading level0 row26\" >Nebraska</th>\n",
       "      <td id=\"T_12b3d_row26_col0\" class=\"data row26 col0\" >78756.727273</td>\n",
       "      <td id=\"T_12b3d_row26_col1\" class=\"data row26 col1\" >87004.000000</td>\n",
       "      <td id=\"T_12b3d_row26_col2\" class=\"data row26 col2\" >1.683163</td>\n",
       "      <td id=\"T_12b3d_row26_col3\" class=\"data row26 col3\" >1.859421</td>\n",
       "      <td id=\"T_12b3d_row26_col4\" class=\"data row26 col4\" >0.948461</td>\n",
       "      <td id=\"T_12b3d_row26_col5\" class=\"data row26 col5\" >1.047782</td>\n",
       "      <td id=\"T_12b3d_row26_col6\" class=\"data row26 col6\" >11</td>\n",
       "      <td id=\"T_12b3d_row26_col7\" class=\"data row26 col7\" >46790.909091</td>\n",
       "      <td id=\"T_12b3d_row26_col8\" class=\"data row26 col8\" >83036.363636</td>\n",
       "      <td id=\"T_12b3d_row26_col9\" class=\"data row26 col9\" >59.636364</td>\n",
       "      <td id=\"T_12b3d_row26_col10\" class=\"data row26 col10\" >8.727273</td>\n",
       "      <td id=\"T_12b3d_row26_col11\" class=\"data row26 col11\" >19689.181818</td>\n",
       "      <td id=\"T_12b3d_row26_col12\" class=\"data row26 col12\" >21751.000000</td>\n",
       "    </tr>\n",
       "    <tr>\n",
       "      <th id=\"T_12b3d_level0_row27\" class=\"row_heading level0 row27\" >Nevada</th>\n",
       "      <td id=\"T_12b3d_row27_col0\" class=\"data row27 col0\" >136964.000000</td>\n",
       "      <td id=\"T_12b3d_row27_col1\" class=\"data row27 col1\" >136964.000000</td>\n",
       "      <td id=\"T_12b3d_row27_col2\" class=\"data row27 col2\" >2.536370</td>\n",
       "      <td id=\"T_12b3d_row27_col3\" class=\"data row27 col3\" >2.536370</td>\n",
       "      <td id=\"T_12b3d_row27_col4\" class=\"data row27 col4\" >1.434178</td>\n",
       "      <td id=\"T_12b3d_row27_col5\" class=\"data row27 col5\" >1.434178</td>\n",
       "      <td id=\"T_12b3d_row27_col6\" class=\"data row27 col6\" >1</td>\n",
       "      <td id=\"T_12b3d_row27_col7\" class=\"data row27 col7\" >54000.000000</td>\n",
       "      <td id=\"T_12b3d_row27_col8\" class=\"data row27 col8\" >95500.000000</td>\n",
       "      <td id=\"T_12b3d_row27_col9\" class=\"data row27 col9\" >39.000000</td>\n",
       "      <td id=\"T_12b3d_row27_col10\" class=\"data row27 col10\" >2.000000</td>\n",
       "      <td id=\"T_12b3d_row27_col11\" class=\"data row27 col11\" >34241.000000</td>\n",
       "      <td id=\"T_12b3d_row27_col12\" class=\"data row27 col12\" >34241.000000</td>\n",
       "    </tr>\n",
       "    <tr>\n",
       "      <th id=\"T_12b3d_level0_row28\" class=\"row_heading level0 row28\" >New Hampshire</th>\n",
       "      <td id=\"T_12b3d_row28_col0\" class=\"data row28 col0\" >120004.363636</td>\n",
       "      <td id=\"T_12b3d_row28_col1\" class=\"data row28 col1\" >132453.090909</td>\n",
       "      <td id=\"T_12b3d_row28_col2\" class=\"data row28 col2\" >2.374187</td>\n",
       "      <td id=\"T_12b3d_row28_col3\" class=\"data row28 col3\" >2.620475</td>\n",
       "      <td id=\"T_12b3d_row28_col4\" class=\"data row28 col4\" >1.334730</td>\n",
       "      <td id=\"T_12b3d_row28_col5\" class=\"data row28 col5\" >1.473189</td>\n",
       "      <td id=\"T_12b3d_row28_col6\" class=\"data row28 col6\" >11</td>\n",
       "      <td id=\"T_12b3d_row28_col7\" class=\"data row28 col7\" >50545.454545</td>\n",
       "      <td id=\"T_12b3d_row28_col8\" class=\"data row28 col8\" >89909.090909</td>\n",
       "      <td id=\"T_12b3d_row28_col9\" class=\"data row28 col9\" >51.272727</td>\n",
       "      <td id=\"T_12b3d_row28_col10\" class=\"data row28 col10\" >16.181818</td>\n",
       "      <td id=\"T_12b3d_row28_col11\" class=\"data row28 col11\" >30001.090909</td>\n",
       "      <td id=\"T_12b3d_row28_col12\" class=\"data row28 col12\" >33113.272727</td>\n",
       "    </tr>\n",
       "    <tr>\n",
       "      <th id=\"T_12b3d_level0_row29\" class=\"row_heading level0 row29\" >New Jersey</th>\n",
       "      <td id=\"T_12b3d_row29_col0\" class=\"data row29 col0\" >104793.263158</td>\n",
       "      <td id=\"T_12b3d_row29_col1\" class=\"data row29 col1\" >123157.473684</td>\n",
       "      <td id=\"T_12b3d_row29_col2\" class=\"data row29 col2\" >1.910634</td>\n",
       "      <td id=\"T_12b3d_row29_col3\" class=\"data row29 col3\" >2.245458</td>\n",
       "      <td id=\"T_12b3d_row29_col4\" class=\"data row29 col4\" >1.043758</td>\n",
       "      <td id=\"T_12b3d_row29_col5\" class=\"data row29 col5\" >1.226668</td>\n",
       "      <td id=\"T_12b3d_row29_col6\" class=\"data row29 col6\" >19</td>\n",
       "      <td id=\"T_12b3d_row29_col7\" class=\"data row29 col7\" >54847.368421</td>\n",
       "      <td id=\"T_12b3d_row29_col8\" class=\"data row29 col8\" >100400.000000</td>\n",
       "      <td id=\"T_12b3d_row29_col9\" class=\"data row29 col9\" >46.473684</td>\n",
       "      <td id=\"T_12b3d_row29_col10\" class=\"data row29 col10\" >20.263158</td>\n",
       "      <td id=\"T_12b3d_row29_col11\" class=\"data row29 col11\" >26198.315789</td>\n",
       "      <td id=\"T_12b3d_row29_col12\" class=\"data row29 col12\" >30789.368421</td>\n",
       "    </tr>\n",
       "    <tr>\n",
       "      <th id=\"T_12b3d_level0_row30\" class=\"row_heading level0 row30\" >New Mexico</th>\n",
       "      <td id=\"T_12b3d_row30_col0\" class=\"data row30 col0\" >27658.666667</td>\n",
       "      <td id=\"T_12b3d_row30_col1\" class=\"data row30 col1\" >63734.666667</td>\n",
       "      <td id=\"T_12b3d_row30_col2\" class=\"data row30 col2\" >0.565232</td>\n",
       "      <td id=\"T_12b3d_row30_col3\" class=\"data row30 col3\" >1.302480</td>\n",
       "      <td id=\"T_12b3d_row30_col4\" class=\"data row30 col4\" >0.306298</td>\n",
       "      <td id=\"T_12b3d_row30_col5\" class=\"data row30 col5\" >0.705810</td>\n",
       "      <td id=\"T_12b3d_row30_col6\" class=\"data row30 col6\" >3</td>\n",
       "      <td id=\"T_12b3d_row30_col7\" class=\"data row30 col7\" >48933.333333</td>\n",
       "      <td id=\"T_12b3d_row30_col8\" class=\"data row30 col8\" >90300.000000</td>\n",
       "      <td id=\"T_12b3d_row30_col9\" class=\"data row30 col9\" >66.333333</td>\n",
       "      <td id=\"T_12b3d_row30_col10\" class=\"data row30 col10\" >33.000000</td>\n",
       "      <td id=\"T_12b3d_row30_col11\" class=\"data row30 col11\" >6914.666667</td>\n",
       "      <td id=\"T_12b3d_row30_col12\" class=\"data row30 col12\" >15933.666667</td>\n",
       "    </tr>\n",
       "    <tr>\n",
       "      <th id=\"T_12b3d_level0_row31\" class=\"row_heading level0 row31\" >New York</th>\n",
       "      <td id=\"T_12b3d_row31_col0\" class=\"data row31 col0\" >178446.000000</td>\n",
       "      <td id=\"T_12b3d_row31_col1\" class=\"data row31 col1\" >183253.500000</td>\n",
       "      <td id=\"T_12b3d_row31_col2\" class=\"data row31 col2\" >2.708601</td>\n",
       "      <td id=\"T_12b3d_row31_col3\" class=\"data row31 col3\" >2.781573</td>\n",
       "      <td id=\"T_12b3d_row31_col4\" class=\"data row31 col4\" >1.461399</td>\n",
       "      <td id=\"T_12b3d_row31_col5\" class=\"data row31 col5\" >1.500771</td>\n",
       "      <td id=\"T_12b3d_row31_col6\" class=\"data row31 col6\" >16</td>\n",
       "      <td id=\"T_12b3d_row31_col7\" class=\"data row31 col7\" >65881.250000</td>\n",
       "      <td id=\"T_12b3d_row31_col8\" class=\"data row31 col8\" >122106.250000</td>\n",
       "      <td id=\"T_12b3d_row31_col9\" class=\"data row31 col9\" >50.812500</td>\n",
       "      <td id=\"T_12b3d_row31_col10\" class=\"data row31 col10\" >28.562500</td>\n",
       "      <td id=\"T_12b3d_row31_col11\" class=\"data row31 col11\" >44611.500000</td>\n",
       "      <td id=\"T_12b3d_row31_col12\" class=\"data row31 col12\" >45813.375000</td>\n",
       "    </tr>\n",
       "    <tr>\n",
       "      <th id=\"T_12b3d_level0_row32\" class=\"row_heading level0 row32\" >North Carolina</th>\n",
       "      <td id=\"T_12b3d_row32_col0\" class=\"data row32 col0\" >110695.200000</td>\n",
       "      <td id=\"T_12b3d_row32_col1\" class=\"data row32 col1\" >128864.000000</td>\n",
       "      <td id=\"T_12b3d_row32_col2\" class=\"data row32 col2\" >2.227492</td>\n",
       "      <td id=\"T_12b3d_row32_col3\" class=\"data row32 col3\" >2.593098</td>\n",
       "      <td id=\"T_12b3d_row32_col4\" class=\"data row32 col4\" >1.240352</td>\n",
       "      <td id=\"T_12b3d_row32_col5\" class=\"data row32 col5\" >1.443935</td>\n",
       "      <td id=\"T_12b3d_row32_col6\" class=\"data row32 col6\" >20</td>\n",
       "      <td id=\"T_12b3d_row32_col7\" class=\"data row32 col7\" >49695.000000</td>\n",
       "      <td id=\"T_12b3d_row32_col8\" class=\"data row32 col8\" >89245.000000</td>\n",
       "      <td id=\"T_12b3d_row32_col9\" class=\"data row32 col9\" >51.850000</td>\n",
       "      <td id=\"T_12b3d_row32_col10\" class=\"data row32 col10\" >11.150000</td>\n",
       "      <td id=\"T_12b3d_row32_col11\" class=\"data row32 col11\" >27673.800000</td>\n",
       "      <td id=\"T_12b3d_row32_col12\" class=\"data row32 col12\" >32216.000000</td>\n",
       "    </tr>\n",
       "    <tr>\n",
       "      <th id=\"T_12b3d_level0_row33\" class=\"row_heading level0 row33\" >North Dakota</th>\n",
       "      <td id=\"T_12b3d_row33_col0\" class=\"data row33 col0\" >44292.571429</td>\n",
       "      <td id=\"T_12b3d_row33_col1\" class=\"data row33 col1\" >59787.428571</td>\n",
       "      <td id=\"T_12b3d_row33_col2\" class=\"data row33 col2\" >0.961986</td>\n",
       "      <td id=\"T_12b3d_row33_col3\" class=\"data row33 col3\" >1.298517</td>\n",
       "      <td id=\"T_12b3d_row33_col4\" class=\"data row33 col4\" >0.548078</td>\n",
       "      <td id=\"T_12b3d_row33_col5\" class=\"data row33 col5\" >0.739813</td>\n",
       "      <td id=\"T_12b3d_row33_col6\" class=\"data row33 col6\" >7</td>\n",
       "      <td id=\"T_12b3d_row33_col7\" class=\"data row33 col7\" >46042.857143</td>\n",
       "      <td id=\"T_12b3d_row33_col8\" class=\"data row33 col8\" >80814.285714</td>\n",
       "      <td id=\"T_12b3d_row33_col9\" class=\"data row33 col9\" >56.000000</td>\n",
       "      <td id=\"T_12b3d_row33_col10\" class=\"data row33 col10\" >8.285714</td>\n",
       "      <td id=\"T_12b3d_row33_col11\" class=\"data row33 col11\" >11073.142857</td>\n",
       "      <td id=\"T_12b3d_row33_col12\" class=\"data row33 col12\" >14946.857143</td>\n",
       "    </tr>\n",
       "    <tr>\n",
       "      <th id=\"T_12b3d_level0_row34\" class=\"row_heading level0 row34\" >Ohio</th>\n",
       "      <td id=\"T_12b3d_row34_col0\" class=\"data row34 col0\" >147707.466667</td>\n",
       "      <td id=\"T_12b3d_row34_col1\" class=\"data row34 col1\" >151362.133333</td>\n",
       "      <td id=\"T_12b3d_row34_col2\" class=\"data row34 col2\" >2.755051</td>\n",
       "      <td id=\"T_12b3d_row34_col3\" class=\"data row34 col3\" >2.823218</td>\n",
       "      <td id=\"T_12b3d_row34_col4\" class=\"data row34 col4\" >1.485393</td>\n",
       "      <td id=\"T_12b3d_row34_col5\" class=\"data row34 col5\" >1.522145</td>\n",
       "      <td id=\"T_12b3d_row34_col6\" class=\"data row34 col6\" >15</td>\n",
       "      <td id=\"T_12b3d_row34_col7\" class=\"data row34 col7\" >53613.333333</td>\n",
       "      <td id=\"T_12b3d_row34_col8\" class=\"data row34 col8\" >99440.000000</td>\n",
       "      <td id=\"T_12b3d_row34_col9\" class=\"data row34 col9\" >50.000000</td>\n",
       "      <td id=\"T_12b3d_row34_col10\" class=\"data row34 col10\" >21.533333</td>\n",
       "      <td id=\"T_12b3d_row34_col11\" class=\"data row34 col11\" >36926.866667</td>\n",
       "      <td id=\"T_12b3d_row34_col12\" class=\"data row34 col12\" >37840.533333</td>\n",
       "    </tr>\n",
       "    <tr>\n",
       "      <th id=\"T_12b3d_level0_row35\" class=\"row_heading level0 row35\" >Oklahoma</th>\n",
       "      <td id=\"T_12b3d_row35_col0\" class=\"data row35 col0\" >62780.421053</td>\n",
       "      <td id=\"T_12b3d_row35_col1\" class=\"data row35 col1\" >81497.052632</td>\n",
       "      <td id=\"T_12b3d_row35_col2\" class=\"data row35 col2\" >1.391865</td>\n",
       "      <td id=\"T_12b3d_row35_col3\" class=\"data row35 col3\" >1.806819</td>\n",
       "      <td id=\"T_12b3d_row35_col4\" class=\"data row35 col4\" >0.772957</td>\n",
       "      <td id=\"T_12b3d_row35_col5\" class=\"data row35 col5\" >1.003398</td>\n",
       "      <td id=\"T_12b3d_row35_col6\" class=\"data row35 col6\" >19</td>\n",
       "      <td id=\"T_12b3d_row35_col7\" class=\"data row35 col7\" >45105.263158</td>\n",
       "      <td id=\"T_12b3d_row35_col8\" class=\"data row35 col8\" >81221.052632</td>\n",
       "      <td id=\"T_12b3d_row35_col9\" class=\"data row35 col9\" >57.631579</td>\n",
       "      <td id=\"T_12b3d_row35_col10\" class=\"data row35 col10\" >11.421053</td>\n",
       "      <td id=\"T_12b3d_row35_col11\" class=\"data row35 col11\" >15695.105263</td>\n",
       "      <td id=\"T_12b3d_row35_col12\" class=\"data row35 col12\" >20374.263158</td>\n",
       "    </tr>\n",
       "    <tr>\n",
       "      <th id=\"T_12b3d_level0_row36\" class=\"row_heading level0 row36\" >Oregon</th>\n",
       "      <td id=\"T_12b3d_row36_col0\" class=\"data row36 col0\" >107244.444444</td>\n",
       "      <td id=\"T_12b3d_row36_col1\" class=\"data row36 col1\" >137896.444444</td>\n",
       "      <td id=\"T_12b3d_row36_col2\" class=\"data row36 col2\" >2.115507</td>\n",
       "      <td id=\"T_12b3d_row36_col3\" class=\"data row36 col3\" >2.720149</td>\n",
       "      <td id=\"T_12b3d_row36_col4\" class=\"data row36 col4\" >1.177432</td>\n",
       "      <td id=\"T_12b3d_row36_col5\" class=\"data row36 col5\" >1.513959</td>\n",
       "      <td id=\"T_12b3d_row36_col6\" class=\"data row36 col6\" >18</td>\n",
       "      <td id=\"T_12b3d_row36_col7\" class=\"data row36 col7\" >50694.444444</td>\n",
       "      <td id=\"T_12b3d_row36_col8\" class=\"data row36 col8\" >91083.333333</td>\n",
       "      <td id=\"T_12b3d_row36_col9\" class=\"data row36 col9\" >57.222222</td>\n",
       "      <td id=\"T_12b3d_row36_col10\" class=\"data row36 col10\" >12.111111</td>\n",
       "      <td id=\"T_12b3d_row36_col11\" class=\"data row36 col11\" >26811.111111</td>\n",
       "      <td id=\"T_12b3d_row36_col12\" class=\"data row36 col12\" >34474.111111</td>\n",
       "    </tr>\n",
       "    <tr>\n",
       "      <th id=\"T_12b3d_level0_row37\" class=\"row_heading level0 row37\" >Pennsylvania</th>\n",
       "      <td id=\"T_12b3d_row37_col0\" class=\"data row37 col0\" >191462.526316</td>\n",
       "      <td id=\"T_12b3d_row37_col1\" class=\"data row37 col1\" >191462.526316</td>\n",
       "      <td id=\"T_12b3d_row37_col2\" class=\"data row37 col2\" >3.116412</td>\n",
       "      <td id=\"T_12b3d_row37_col3\" class=\"data row37 col3\" >3.116412</td>\n",
       "      <td id=\"T_12b3d_row37_col4\" class=\"data row37 col4\" >1.687521</td>\n",
       "      <td id=\"T_12b3d_row37_col5\" class=\"data row37 col5\" >1.687521</td>\n",
       "      <td id=\"T_12b3d_row37_col6\" class=\"data row37 col6\" >19</td>\n",
       "      <td id=\"T_12b3d_row37_col7\" class=\"data row37 col7\" >61436.842105</td>\n",
       "      <td id=\"T_12b3d_row37_col8\" class=\"data row37 col8\" >113457.894737</td>\n",
       "      <td id=\"T_12b3d_row37_col9\" class=\"data row37 col9\" >45.368421</td>\n",
       "      <td id=\"T_12b3d_row37_col10\" class=\"data row37 col10\" >28.631579</td>\n",
       "      <td id=\"T_12b3d_row37_col11\" class=\"data row37 col11\" >47865.631579</td>\n",
       "      <td id=\"T_12b3d_row37_col12\" class=\"data row37 col12\" >47865.631579</td>\n",
       "    </tr>\n",
       "    <tr>\n",
       "      <th id=\"T_12b3d_level0_row38\" class=\"row_heading level0 row38\" >Rhode Island</th>\n",
       "      <td id=\"T_12b3d_row38_col0\" class=\"data row38 col0\" >146248.000000</td>\n",
       "      <td id=\"T_12b3d_row38_col1\" class=\"data row38 col1\" >159353.333333</td>\n",
       "      <td id=\"T_12b3d_row38_col2\" class=\"data row38 col2\" >2.619889</td>\n",
       "      <td id=\"T_12b3d_row38_col3\" class=\"data row38 col3\" >2.854658</td>\n",
       "      <td id=\"T_12b3d_row38_col4\" class=\"data row38 col4\" >1.451673</td>\n",
       "      <td id=\"T_12b3d_row38_col5\" class=\"data row38 col5\" >1.581758</td>\n",
       "      <td id=\"T_12b3d_row38_col6\" class=\"data row38 col6\" >9</td>\n",
       "      <td id=\"T_12b3d_row38_col7\" class=\"data row38 col7\" >55822.222222</td>\n",
       "      <td id=\"T_12b3d_row38_col8\" class=\"data row38 col8\" >100744.444444</td>\n",
       "      <td id=\"T_12b3d_row38_col9\" class=\"data row38 col9\" >45.444444</td>\n",
       "      <td id=\"T_12b3d_row38_col10\" class=\"data row38 col10\" >13.000000</td>\n",
       "      <td id=\"T_12b3d_row38_col11\" class=\"data row38 col11\" >36562.000000</td>\n",
       "      <td id=\"T_12b3d_row38_col12\" class=\"data row38 col12\" >39838.333333</td>\n",
       "    </tr>\n",
       "    <tr>\n",
       "      <th id=\"T_12b3d_level0_row39\" class=\"row_heading level0 row39\" >South Carolina</th>\n",
       "      <td id=\"T_12b3d_row39_col0\" class=\"data row39 col0\" >87783.333333</td>\n",
       "      <td id=\"T_12b3d_row39_col1\" class=\"data row39 col1\" >110222.888889</td>\n",
       "      <td id=\"T_12b3d_row39_col2\" class=\"data row39 col2\" >1.963101</td>\n",
       "      <td id=\"T_12b3d_row39_col3\" class=\"data row39 col3\" >2.464917</td>\n",
       "      <td id=\"T_12b3d_row39_col4\" class=\"data row39 col4\" >1.090777</td>\n",
       "      <td id=\"T_12b3d_row39_col5\" class=\"data row39 col5\" >1.369607</td>\n",
       "      <td id=\"T_12b3d_row39_col6\" class=\"data row39 col6\" >18</td>\n",
       "      <td id=\"T_12b3d_row39_col7\" class=\"data row39 col7\" >44716.666667</td>\n",
       "      <td id=\"T_12b3d_row39_col8\" class=\"data row39 col8\" >80477.777778</td>\n",
       "      <td id=\"T_12b3d_row39_col9\" class=\"data row39 col9\" >57.666667</td>\n",
       "      <td id=\"T_12b3d_row39_col10\" class=\"data row39 col10\" >14.777778</td>\n",
       "      <td id=\"T_12b3d_row39_col11\" class=\"data row39 col11\" >21945.833333</td>\n",
       "      <td id=\"T_12b3d_row39_col12\" class=\"data row39 col12\" >27555.722222</td>\n",
       "    </tr>\n",
       "    <tr>\n",
       "      <th id=\"T_12b3d_level0_row40\" class=\"row_heading level0 row40\" >South Dakota</th>\n",
       "      <td id=\"T_12b3d_row40_col0\" class=\"data row40 col0\" >63994.000000</td>\n",
       "      <td id=\"T_12b3d_row40_col1\" class=\"data row40 col1\" >71978.400000</td>\n",
       "      <td id=\"T_12b3d_row40_col2\" class=\"data row40 col2\" >1.358395</td>\n",
       "      <td id=\"T_12b3d_row40_col3\" class=\"data row40 col3\" >1.527879</td>\n",
       "      <td id=\"T_12b3d_row40_col4\" class=\"data row40 col4\" >0.751368</td>\n",
       "      <td id=\"T_12b3d_row40_col5\" class=\"data row40 col5\" >0.845114</td>\n",
       "      <td id=\"T_12b3d_row40_col6\" class=\"data row40 col6\" >10</td>\n",
       "      <td id=\"T_12b3d_row40_col7\" class=\"data row40 col7\" >47110.000000</td>\n",
       "      <td id=\"T_12b3d_row40_col8\" class=\"data row40 col8\" >85170.000000</td>\n",
       "      <td id=\"T_12b3d_row40_col9\" class=\"data row40 col9\" >56.500000</td>\n",
       "      <td id=\"T_12b3d_row40_col10\" class=\"data row40 col10\" >22.800000</td>\n",
       "      <td id=\"T_12b3d_row40_col11\" class=\"data row40 col11\" >15998.500000</td>\n",
       "      <td id=\"T_12b3d_row40_col12\" class=\"data row40 col12\" >17994.600000</td>\n",
       "    </tr>\n",
       "    <tr>\n",
       "      <th id=\"T_12b3d_level0_row41\" class=\"row_heading level0 row41\" >Tennessee</th>\n",
       "      <td id=\"T_12b3d_row41_col0\" class=\"data row41 col0\" >98784.800000</td>\n",
       "      <td id=\"T_12b3d_row41_col1\" class=\"data row41 col1\" >118008.800000</td>\n",
       "      <td id=\"T_12b3d_row41_col2\" class=\"data row41 col2\" >2.085387</td>\n",
       "      <td id=\"T_12b3d_row41_col3\" class=\"data row41 col3\" >2.491214</td>\n",
       "      <td id=\"T_12b3d_row41_col4\" class=\"data row41 col4\" >1.166841</td>\n",
       "      <td id=\"T_12b3d_row41_col5\" class=\"data row41 col5\" >1.393914</td>\n",
       "      <td id=\"T_12b3d_row41_col6\" class=\"data row41 col6\" >20</td>\n",
       "      <td id=\"T_12b3d_row41_col7\" class=\"data row41 col7\" >47370.000000</td>\n",
       "      <td id=\"T_12b3d_row41_col8\" class=\"data row41 col8\" >84660.000000</td>\n",
       "      <td id=\"T_12b3d_row41_col9\" class=\"data row41 col9\" >57.700000</td>\n",
       "      <td id=\"T_12b3d_row41_col10\" class=\"data row41 col10\" >12.750000</td>\n",
       "      <td id=\"T_12b3d_row41_col11\" class=\"data row41 col11\" >24696.200000</td>\n",
       "      <td id=\"T_12b3d_row41_col12\" class=\"data row41 col12\" >29502.200000</td>\n",
       "    </tr>\n",
       "    <tr>\n",
       "      <th id=\"T_12b3d_level0_row42\" class=\"row_heading level0 row42\" >Texas</th>\n",
       "      <td id=\"T_12b3d_row42_col0\" class=\"data row42 col0\" >106221.555556</td>\n",
       "      <td id=\"T_12b3d_row42_col1\" class=\"data row42 col1\" >127508.444444</td>\n",
       "      <td id=\"T_12b3d_row42_col2\" class=\"data row42 col2\" >1.880028</td>\n",
       "      <td id=\"T_12b3d_row42_col3\" class=\"data row42 col3\" >2.256787</td>\n",
       "      <td id=\"T_12b3d_row42_col4\" class=\"data row42 col4\" >1.036139</td>\n",
       "      <td id=\"T_12b3d_row42_col5\" class=\"data row42 col5\" >1.243783</td>\n",
       "      <td id=\"T_12b3d_row42_col6\" class=\"data row42 col6\" >18</td>\n",
       "      <td id=\"T_12b3d_row42_col7\" class=\"data row42 col7\" >56500.000000</td>\n",
       "      <td id=\"T_12b3d_row42_col8\" class=\"data row42 col8\" >102516.666667</td>\n",
       "      <td id=\"T_12b3d_row42_col9\" class=\"data row42 col9\" >53.833333</td>\n",
       "      <td id=\"T_12b3d_row42_col10\" class=\"data row42 col10\" >20.055556</td>\n",
       "      <td id=\"T_12b3d_row42_col11\" class=\"data row42 col11\" >26555.388889</td>\n",
       "      <td id=\"T_12b3d_row42_col12\" class=\"data row42 col12\" >31877.111111</td>\n",
       "    </tr>\n",
       "    <tr>\n",
       "      <th id=\"T_12b3d_level0_row43\" class=\"row_heading level0 row43\" >Utah</th>\n",
       "      <td id=\"T_12b3d_row43_col0\" class=\"data row43 col0\" >27761.333333</td>\n",
       "      <td id=\"T_12b3d_row43_col1\" class=\"data row43 col1\" >73904.000000</td>\n",
       "      <td id=\"T_12b3d_row43_col2\" class=\"data row43 col2\" >0.531996</td>\n",
       "      <td id=\"T_12b3d_row43_col3\" class=\"data row43 col3\" >1.416238</td>\n",
       "      <td id=\"T_12b3d_row43_col4\" class=\"data row43 col4\" >0.299045</td>\n",
       "      <td id=\"T_12b3d_row43_col5\" class=\"data row43 col5\" >0.796093</td>\n",
       "      <td id=\"T_12b3d_row43_col6\" class=\"data row43 col6\" >6</td>\n",
       "      <td id=\"T_12b3d_row43_col7\" class=\"data row43 col7\" >52183.333333</td>\n",
       "      <td id=\"T_12b3d_row43_col8\" class=\"data row43 col8\" >92833.333333</td>\n",
       "      <td id=\"T_12b3d_row43_col9\" class=\"data row43 col9\" >59.500000</td>\n",
       "      <td id=\"T_12b3d_row43_col10\" class=\"data row43 col10\" >12.000000</td>\n",
       "      <td id=\"T_12b3d_row43_col11\" class=\"data row43 col11\" >6940.333333</td>\n",
       "      <td id=\"T_12b3d_row43_col12\" class=\"data row43 col12\" >18476.000000</td>\n",
       "    </tr>\n",
       "    <tr>\n",
       "      <th id=\"T_12b3d_level0_row44\" class=\"row_heading level0 row44\" >Vermont</th>\n",
       "      <td id=\"T_12b3d_row44_col0\" class=\"data row44 col0\" >129271.272727</td>\n",
       "      <td id=\"T_12b3d_row44_col1\" class=\"data row44 col1\" >153358.545455</td>\n",
       "      <td id=\"T_12b3d_row44_col2\" class=\"data row44 col2\" >2.614422</td>\n",
       "      <td id=\"T_12b3d_row44_col3\" class=\"data row44 col3\" >3.101570</td>\n",
       "      <td id=\"T_12b3d_row44_col4\" class=\"data row44 col4\" >1.444665</td>\n",
       "      <td id=\"T_12b3d_row44_col5\" class=\"data row44 col5\" >1.713851</td>\n",
       "      <td id=\"T_12b3d_row44_col6\" class=\"data row44 col6\" >11</td>\n",
       "      <td id=\"T_12b3d_row44_col7\" class=\"data row44 col7\" >49445.454545</td>\n",
       "      <td id=\"T_12b3d_row44_col8\" class=\"data row44 col8\" >89481.818182</td>\n",
       "      <td id=\"T_12b3d_row44_col9\" class=\"data row44 col9\" >49.636364</td>\n",
       "      <td id=\"T_12b3d_row44_col10\" class=\"data row44 col10\" >12.272727</td>\n",
       "      <td id=\"T_12b3d_row44_col11\" class=\"data row44 col11\" >32317.818182</td>\n",
       "      <td id=\"T_12b3d_row44_col12\" class=\"data row44 col12\" >38339.636364</td>\n",
       "    </tr>\n",
       "    <tr>\n",
       "      <th id=\"T_12b3d_level0_row45\" class=\"row_heading level0 row45\" >Virginia</th>\n",
       "      <td id=\"T_12b3d_row45_col0\" class=\"data row45 col0\" >100446.363636</td>\n",
       "      <td id=\"T_12b3d_row45_col1\" class=\"data row45 col1\" >138821.636364</td>\n",
       "      <td id=\"T_12b3d_row45_col2\" class=\"data row45 col2\" >1.869876</td>\n",
       "      <td id=\"T_12b3d_row45_col3\" class=\"data row45 col3\" >2.584258</td>\n",
       "      <td id=\"T_12b3d_row45_col4\" class=\"data row45 col4\" >1.040258</td>\n",
       "      <td id=\"T_12b3d_row45_col5\" class=\"data row45 col5\" >1.437686</td>\n",
       "      <td id=\"T_12b3d_row45_col6\" class=\"data row45 col6\" >22</td>\n",
       "      <td id=\"T_12b3d_row45_col7\" class=\"data row45 col7\" >53718.181818</td>\n",
       "      <td id=\"T_12b3d_row45_col8\" class=\"data row45 col8\" >96559.090909</td>\n",
       "      <td id=\"T_12b3d_row45_col9\" class=\"data row45 col9\" >53.136364</td>\n",
       "      <td id=\"T_12b3d_row45_col10\" class=\"data row45 col10\" >17.727273</td>\n",
       "      <td id=\"T_12b3d_row45_col11\" class=\"data row45 col11\" >25111.590909</td>\n",
       "      <td id=\"T_12b3d_row45_col12\" class=\"data row45 col12\" >34705.409091</td>\n",
       "    </tr>\n",
       "    <tr>\n",
       "      <th id=\"T_12b3d_level0_row46\" class=\"row_heading level0 row46\" >Washington</th>\n",
       "      <td id=\"T_12b3d_row46_col0\" class=\"data row46 col0\" >123986.000000</td>\n",
       "      <td id=\"T_12b3d_row46_col1\" class=\"data row46 col1\" >140918.250000</td>\n",
       "      <td id=\"T_12b3d_row46_col2\" class=\"data row46 col2\" >2.319663</td>\n",
       "      <td id=\"T_12b3d_row46_col3\" class=\"data row46 col3\" >2.636450</td>\n",
       "      <td id=\"T_12b3d_row46_col4\" class=\"data row46 col4\" >1.277630</td>\n",
       "      <td id=\"T_12b3d_row46_col5\" class=\"data row46 col5\" >1.452111</td>\n",
       "      <td id=\"T_12b3d_row46_col6\" class=\"data row46 col6\" >16</td>\n",
       "      <td id=\"T_12b3d_row46_col7\" class=\"data row46 col7\" >53450.000000</td>\n",
       "      <td id=\"T_12b3d_row46_col8\" class=\"data row46 col8\" >97043.750000</td>\n",
       "      <td id=\"T_12b3d_row46_col9\" class=\"data row46 col9\" >51.187500</td>\n",
       "      <td id=\"T_12b3d_row46_col10\" class=\"data row46 col10\" >16.625000</td>\n",
       "      <td id=\"T_12b3d_row46_col11\" class=\"data row46 col11\" >30996.500000</td>\n",
       "      <td id=\"T_12b3d_row46_col12\" class=\"data row46 col12\" >35229.562500</td>\n",
       "    </tr>\n",
       "    <tr>\n",
       "      <th id=\"T_12b3d_level0_row47\" class=\"row_heading level0 row47\" >West Virginia</th>\n",
       "      <td id=\"T_12b3d_row47_col0\" class=\"data row47 col0\" >53202.666667</td>\n",
       "      <td id=\"T_12b3d_row47_col1\" class=\"data row47 col1\" >81008.266667</td>\n",
       "      <td id=\"T_12b3d_row47_col2\" class=\"data row47 col2\" >1.200060</td>\n",
       "      <td id=\"T_12b3d_row47_col3\" class=\"data row47 col3\" >1.827254</td>\n",
       "      <td id=\"T_12b3d_row47_col4\" class=\"data row47 col4\" >0.664701</td>\n",
       "      <td id=\"T_12b3d_row47_col5\" class=\"data row47 col5\" >1.012097</td>\n",
       "      <td id=\"T_12b3d_row47_col6\" class=\"data row47 col6\" >15</td>\n",
       "      <td id=\"T_12b3d_row47_col7\" class=\"data row47 col7\" >44333.333333</td>\n",
       "      <td id=\"T_12b3d_row47_col8\" class=\"data row47 col8\" >80040.000000</td>\n",
       "      <td id=\"T_12b3d_row47_col9\" class=\"data row47 col9\" >55.866667</td>\n",
       "      <td id=\"T_12b3d_row47_col10\" class=\"data row47 col10\" >10.400000</td>\n",
       "      <td id=\"T_12b3d_row47_col11\" class=\"data row47 col11\" >13300.666667</td>\n",
       "      <td id=\"T_12b3d_row47_col12\" class=\"data row47 col12\" >20252.066667</td>\n",
       "    </tr>\n",
       "    <tr>\n",
       "      <th id=\"T_12b3d_level0_row48\" class=\"row_heading level0 row48\" >Wisconsin</th>\n",
       "      <td id=\"T_12b3d_row48_col0\" class=\"data row48 col0\" >95868.545455</td>\n",
       "      <td id=\"T_12b3d_row48_col1\" class=\"data row48 col1\" >114440.909091</td>\n",
       "      <td id=\"T_12b3d_row48_col2\" class=\"data row48 col2\" >1.891577</td>\n",
       "      <td id=\"T_12b3d_row48_col3\" class=\"data row48 col3\" >2.258027</td>\n",
       "      <td id=\"T_12b3d_row48_col4\" class=\"data row48 col4\" >1.052344</td>\n",
       "      <td id=\"T_12b3d_row48_col5\" class=\"data row48 col5\" >1.256212</td>\n",
       "      <td id=\"T_12b3d_row48_col6\" class=\"data row48 col6\" >22</td>\n",
       "      <td id=\"T_12b3d_row48_col7\" class=\"data row48 col7\" >50681.818182</td>\n",
       "      <td id=\"T_12b3d_row48_col8\" class=\"data row48 col8\" >91100.000000</td>\n",
       "      <td id=\"T_12b3d_row48_col9\" class=\"data row48 col9\" >53.227273</td>\n",
       "      <td id=\"T_12b3d_row48_col10\" class=\"data row48 col10\" >18.363636</td>\n",
       "      <td id=\"T_12b3d_row48_col11\" class=\"data row48 col11\" >23967.136364</td>\n",
       "      <td id=\"T_12b3d_row48_col12\" class=\"data row48 col12\" >28610.227273</td>\n",
       "    </tr>\n",
       "    <tr>\n",
       "      <th id=\"T_12b3d_level0_row49\" class=\"row_heading level0 row49\" >Wyoming</th>\n",
       "      <td id=\"T_12b3d_row49_col0\" class=\"data row49 col0\" >21600.000000</td>\n",
       "      <td id=\"T_12b3d_row49_col1\" class=\"data row49 col1\" >69960.000000</td>\n",
       "      <td id=\"T_12b3d_row49_col2\" class=\"data row49 col2\" >0.412214</td>\n",
       "      <td id=\"T_12b3d_row49_col3\" class=\"data row49 col3\" >1.335115</td>\n",
       "      <td id=\"T_12b3d_row49_col4\" class=\"data row49 col4\" >0.218623</td>\n",
       "      <td id=\"T_12b3d_row49_col5\" class=\"data row49 col5\" >0.708097</td>\n",
       "      <td id=\"T_12b3d_row49_col6\" class=\"data row49 col6\" >1</td>\n",
       "      <td id=\"T_12b3d_row49_col7\" class=\"data row49 col7\" >52400.000000</td>\n",
       "      <td id=\"T_12b3d_row49_col8\" class=\"data row49 col8\" >98800.000000</td>\n",
       "      <td id=\"T_12b3d_row49_col9\" class=\"data row49 col9\" >58.000000</td>\n",
       "      <td id=\"T_12b3d_row49_col10\" class=\"data row49 col10\" >25.000000</td>\n",
       "      <td id=\"T_12b3d_row49_col11\" class=\"data row49 col11\" >5400.000000</td>\n",
       "      <td id=\"T_12b3d_row49_col12\" class=\"data row49 col12\" >17490.000000</td>\n",
       "    </tr>\n",
       "  </tbody>\n",
       "</table>\n"
      ],
      "text/plain": [
       "<pandas.io.formats.style.Styler at 0x2905bb7d190>"
      ]
     },
     "execution_count": 28,
     "metadata": {
     },
     "output_type": "execute_result"
    }
   ],
   "source": [
    "return_highlighted_df(state_stats)"
   ]
  },
  {
   "cell_type": "code",
   "execution_count": 25,
   "metadata": {
    "collapsed": false
   },
   "outputs": [
   ],
   "source": [
    "\n",
    "import pandas as pd\n",
    "heart = pd.read_csv(\"./Data/heart (1).csv\")\n",
    "o2Saturation = pd.read_csv(\"./Data/o2Saturation.csv\")"
   ]
  },
  {
   "cell_type": "code",
   "execution_count": 11,
   "metadata": {
    "collapsed": false
   },
   "outputs": [
    {
     "data": {
      "text/html": [
       "<div>\n",
       "<style scoped>\n",
       "    .dataframe tbody tr th:only-of-type {\n",
       "        vertical-align: middle;\n",
       "    }\n",
       "\n",
       "    .dataframe tbody tr th {\n",
       "        vertical-align: top;\n",
       "    }\n",
       "\n",
       "    .dataframe thead th {\n",
       "        text-align: right;\n",
       "    }\n",
       "</style>\n",
       "<table border=\"1\" class=\"dataframe\">\n",
       "  <thead>\n",
       "    <tr style=\"text-align: right;\">\n",
       "      <th></th>\n",
       "      <th>GENDER</th>\n",
       "      <th>AGE</th>\n",
       "      <th>SMOKING</th>\n",
       "      <th>YELLOW_FINGERS</th>\n",
       "      <th>ANXIETY</th>\n",
       "      <th>PEER_PRESSURE</th>\n",
       "      <th>CHRONIC DISEASE</th>\n",
       "      <th>FATIGUE</th>\n",
       "      <th>ALLERGY</th>\n",
       "      <th>WHEEZING</th>\n",
       "      <th>ALCOHOL CONSUMING</th>\n",
       "      <th>COUGHING</th>\n",
       "      <th>SHORTNESS OF BREATH</th>\n",
       "      <th>SWALLOWING DIFFICULTY</th>\n",
       "      <th>CHEST PAIN</th>\n",
       "      <th>LUNG_CANCER</th>\n",
       "    </tr>\n",
       "  </thead>\n",
       "  <tbody>\n",
       "    <tr>\n",
       "      <th>0</th>\n",
       "      <td>M</td>\n",
       "      <td>69</td>\n",
       "      <td>1</td>\n",
       "      <td>2</td>\n",
       "      <td>2</td>\n",
       "      <td>1</td>\n",
       "      <td>1</td>\n",
       "      <td>2</td>\n",
       "      <td>1</td>\n",
       "      <td>2</td>\n",
       "      <td>2</td>\n",
       "      <td>2</td>\n",
       "      <td>2</td>\n",
       "      <td>2</td>\n",
       "      <td>2</td>\n",
       "      <td>YES</td>\n",
       "    </tr>\n",
       "    <tr>\n",
       "      <th>1</th>\n",
       "      <td>M</td>\n",
       "      <td>74</td>\n",
       "      <td>2</td>\n",
       "      <td>1</td>\n",
       "      <td>1</td>\n",
       "      <td>1</td>\n",
       "      <td>2</td>\n",
       "      <td>2</td>\n",
       "      <td>2</td>\n",
       "      <td>1</td>\n",
       "      <td>1</td>\n",
       "      <td>1</td>\n",
       "      <td>2</td>\n",
       "      <td>2</td>\n",
       "      <td>2</td>\n",
       "      <td>YES</td>\n",
       "    </tr>\n",
       "    <tr>\n",
       "      <th>2</th>\n",
       "      <td>F</td>\n",
       "      <td>59</td>\n",
       "      <td>1</td>\n",
       "      <td>1</td>\n",
       "      <td>1</td>\n",
       "      <td>2</td>\n",
       "      <td>1</td>\n",
       "      <td>2</td>\n",
       "      <td>1</td>\n",
       "      <td>2</td>\n",
       "      <td>1</td>\n",
       "      <td>2</td>\n",
       "      <td>2</td>\n",
       "      <td>1</td>\n",
       "      <td>2</td>\n",
       "      <td>NO</td>\n",
       "    </tr>\n",
       "    <tr>\n",
       "      <th>3</th>\n",
       "      <td>M</td>\n",
       "      <td>63</td>\n",
       "      <td>2</td>\n",
       "      <td>2</td>\n",
       "      <td>2</td>\n",
       "      <td>1</td>\n",
       "      <td>1</td>\n",
       "      <td>1</td>\n",
       "      <td>1</td>\n",
       "      <td>1</td>\n",
       "      <td>2</td>\n",
       "      <td>1</td>\n",
       "      <td>1</td>\n",
       "      <td>2</td>\n",
       "      <td>2</td>\n",
       "      <td>NO</td>\n",
       "    </tr>\n",
       "    <tr>\n",
       "      <th>4</th>\n",
       "      <td>F</td>\n",
       "      <td>63</td>\n",
       "      <td>1</td>\n",
       "      <td>2</td>\n",
       "      <td>1</td>\n",
       "      <td>1</td>\n",
       "      <td>1</td>\n",
       "      <td>1</td>\n",
       "      <td>1</td>\n",
       "      <td>2</td>\n",
       "      <td>1</td>\n",
       "      <td>2</td>\n",
       "      <td>2</td>\n",
       "      <td>1</td>\n",
       "      <td>1</td>\n",
       "      <td>NO</td>\n",
       "    </tr>\n",
       "    <tr>\n",
       "      <th>5</th>\n",
       "      <td>F</td>\n",
       "      <td>75</td>\n",
       "      <td>1</td>\n",
       "      <td>2</td>\n",
       "      <td>1</td>\n",
       "      <td>1</td>\n",
       "      <td>2</td>\n",
       "      <td>2</td>\n",
       "      <td>2</td>\n",
       "      <td>2</td>\n",
       "      <td>1</td>\n",
       "      <td>2</td>\n",
       "      <td>2</td>\n",
       "      <td>1</td>\n",
       "      <td>1</td>\n",
       "      <td>YES</td>\n",
       "    </tr>\n",
       "    <tr>\n",
       "      <th>6</th>\n",
       "      <td>M</td>\n",
       "      <td>52</td>\n",
       "      <td>2</td>\n",
       "      <td>1</td>\n",
       "      <td>1</td>\n",
       "      <td>1</td>\n",
       "      <td>1</td>\n",
       "      <td>2</td>\n",
       "      <td>1</td>\n",
       "      <td>2</td>\n",
       "      <td>2</td>\n",
       "      <td>2</td>\n",
       "      <td>2</td>\n",
       "      <td>1</td>\n",
       "      <td>2</td>\n",
       "      <td>YES</td>\n",
       "    </tr>\n",
       "    <tr>\n",
       "      <th>7</th>\n",
       "      <td>F</td>\n",
       "      <td>51</td>\n",
       "      <td>2</td>\n",
       "      <td>2</td>\n",
       "      <td>2</td>\n",
       "      <td>2</td>\n",
       "      <td>1</td>\n",
       "      <td>2</td>\n",
       "      <td>2</td>\n",
       "      <td>1</td>\n",
       "      <td>1</td>\n",
       "      <td>1</td>\n",
       "      <td>2</td>\n",
       "      <td>2</td>\n",
       "      <td>1</td>\n",
       "      <td>YES</td>\n",
       "    </tr>\n",
       "    <tr>\n",
       "      <th>8</th>\n",
       "      <td>F</td>\n",
       "      <td>68</td>\n",
       "      <td>2</td>\n",
       "      <td>1</td>\n",
       "      <td>2</td>\n",
       "      <td>1</td>\n",
       "      <td>1</td>\n",
       "      <td>2</td>\n",
       "      <td>1</td>\n",
       "      <td>1</td>\n",
       "      <td>1</td>\n",
       "      <td>1</td>\n",
       "      <td>1</td>\n",
       "      <td>1</td>\n",
       "      <td>1</td>\n",
       "      <td>NO</td>\n",
       "    </tr>\n",
       "    <tr>\n",
       "      <th>9</th>\n",
       "      <td>M</td>\n",
       "      <td>53</td>\n",
       "      <td>2</td>\n",
       "      <td>2</td>\n",
       "      <td>2</td>\n",
       "      <td>2</td>\n",
       "      <td>2</td>\n",
       "      <td>1</td>\n",
       "      <td>2</td>\n",
       "      <td>1</td>\n",
       "      <td>2</td>\n",
       "      <td>1</td>\n",
       "      <td>1</td>\n",
       "      <td>2</td>\n",
       "      <td>2</td>\n",
       "      <td>YES</td>\n",
       "    </tr>\n",
       "    <tr>\n",
       "      <th>10</th>\n",
       "      <td>F</td>\n",
       "      <td>61</td>\n",
       "      <td>2</td>\n",
       "      <td>2</td>\n",
       "      <td>2</td>\n",
       "      <td>2</td>\n",
       "      <td>2</td>\n",
       "      <td>2</td>\n",
       "      <td>1</td>\n",
       "      <td>2</td>\n",
       "      <td>1</td>\n",
       "      <td>2</td>\n",
       "      <td>2</td>\n",
       "      <td>2</td>\n",
       "      <td>1</td>\n",
       "      <td>YES</td>\n",
       "    </tr>\n",
       "    <tr>\n",
       "      <th>11</th>\n",
       "      <td>M</td>\n",
       "      <td>72</td>\n",
       "      <td>1</td>\n",
       "      <td>1</td>\n",
       "      <td>1</td>\n",
       "      <td>1</td>\n",
       "      <td>2</td>\n",
       "      <td>2</td>\n",
       "      <td>2</td>\n",
       "      <td>2</td>\n",
       "      <td>2</td>\n",
       "      <td>2</td>\n",
       "      <td>2</td>\n",
       "      <td>1</td>\n",
       "      <td>2</td>\n",
       "      <td>YES</td>\n",
       "    </tr>\n",
       "    <tr>\n",
       "      <th>12</th>\n",
       "      <td>F</td>\n",
       "      <td>60</td>\n",
       "      <td>2</td>\n",
       "      <td>1</td>\n",
       "      <td>1</td>\n",
       "      <td>1</td>\n",
       "      <td>1</td>\n",
       "      <td>2</td>\n",
       "      <td>1</td>\n",
       "      <td>1</td>\n",
       "      <td>1</td>\n",
       "      <td>1</td>\n",
       "      <td>2</td>\n",
       "      <td>1</td>\n",
       "      <td>1</td>\n",
       "      <td>NO</td>\n",
       "    </tr>\n",
       "    <tr>\n",
       "      <th>13</th>\n",
       "      <td>M</td>\n",
       "      <td>58</td>\n",
       "      <td>2</td>\n",
       "      <td>1</td>\n",
       "      <td>1</td>\n",
       "      <td>1</td>\n",
       "      <td>1</td>\n",
       "      <td>2</td>\n",
       "      <td>2</td>\n",
       "      <td>2</td>\n",
       "      <td>2</td>\n",
       "      <td>2</td>\n",
       "      <td>2</td>\n",
       "      <td>1</td>\n",
       "      <td>2</td>\n",
       "      <td>YES</td>\n",
       "    </tr>\n",
       "    <tr>\n",
       "      <th>14</th>\n",
       "      <td>M</td>\n",
       "      <td>69</td>\n",
       "      <td>2</td>\n",
       "      <td>1</td>\n",
       "      <td>1</td>\n",
       "      <td>1</td>\n",
       "      <td>1</td>\n",
       "      <td>1</td>\n",
       "      <td>2</td>\n",
       "      <td>2</td>\n",
       "      <td>2</td>\n",
       "      <td>2</td>\n",
       "      <td>1</td>\n",
       "      <td>1</td>\n",
       "      <td>2</td>\n",
       "      <td>NO</td>\n",
       "    </tr>\n",
       "    <tr>\n",
       "      <th>15</th>\n",
       "      <td>F</td>\n",
       "      <td>48</td>\n",
       "      <td>1</td>\n",
       "      <td>2</td>\n",
       "      <td>2</td>\n",
       "      <td>2</td>\n",
       "      <td>2</td>\n",
       "      <td>2</td>\n",
       "      <td>2</td>\n",
       "      <td>2</td>\n",
       "      <td>1</td>\n",
       "      <td>2</td>\n",
       "      <td>2</td>\n",
       "      <td>2</td>\n",
       "      <td>1</td>\n",
       "      <td>YES</td>\n",
       "    </tr>\n",
       "    <tr>\n",
       "      <th>16</th>\n",
       "      <td>M</td>\n",
       "      <td>75</td>\n",
       "      <td>2</td>\n",
       "      <td>1</td>\n",
       "      <td>1</td>\n",
       "      <td>1</td>\n",
       "      <td>2</td>\n",
       "      <td>1</td>\n",
       "      <td>2</td>\n",
       "      <td>2</td>\n",
       "      <td>2</td>\n",
       "      <td>2</td>\n",
       "      <td>2</td>\n",
       "      <td>1</td>\n",
       "      <td>2</td>\n",
       "      <td>YES</td>\n",
       "    </tr>\n",
       "    <tr>\n",
       "      <th>17</th>\n",
       "      <td>M</td>\n",
       "      <td>57</td>\n",
       "      <td>2</td>\n",
       "      <td>2</td>\n",
       "      <td>2</td>\n",
       "      <td>2</td>\n",
       "      <td>2</td>\n",
       "      <td>1</td>\n",
       "      <td>1</td>\n",
       "      <td>1</td>\n",
       "      <td>2</td>\n",
       "      <td>1</td>\n",
       "      <td>1</td>\n",
       "      <td>2</td>\n",
       "      <td>2</td>\n",
       "      <td>YES</td>\n",
       "    </tr>\n",
       "    <tr>\n",
       "      <th>18</th>\n",
       "      <td>F</td>\n",
       "      <td>68</td>\n",
       "      <td>2</td>\n",
       "      <td>2</td>\n",
       "      <td>2</td>\n",
       "      <td>2</td>\n",
       "      <td>2</td>\n",
       "      <td>2</td>\n",
       "      <td>1</td>\n",
       "      <td>1</td>\n",
       "      <td>1</td>\n",
       "      <td>2</td>\n",
       "      <td>2</td>\n",
       "      <td>1</td>\n",
       "      <td>1</td>\n",
       "      <td>YES</td>\n",
       "    </tr>\n",
       "    <tr>\n",
       "      <th>19</th>\n",
       "      <td>F</td>\n",
       "      <td>61</td>\n",
       "      <td>1</td>\n",
       "      <td>1</td>\n",
       "      <td>1</td>\n",
       "      <td>1</td>\n",
       "      <td>2</td>\n",
       "      <td>2</td>\n",
       "      <td>1</td>\n",
       "      <td>1</td>\n",
       "      <td>1</td>\n",
       "      <td>1</td>\n",
       "      <td>2</td>\n",
       "      <td>1</td>\n",
       "      <td>1</td>\n",
       "      <td>NO</td>\n",
       "    </tr>\n",
       "  </tbody>\n",
       "</table>\n",
       "</div>"
      ],
      "text/plain": [
       "   GENDER  AGE  SMOKING  YELLOW_FINGERS  ANXIETY  PEER_PRESSURE  \\\n",
       "0       M   69        1               2        2              1   \n",
       "1       M   74        2               1        1              1   \n",
       "2       F   59        1               1        1              2   \n",
       "3       M   63        2               2        2              1   \n",
       "4       F   63        1               2        1              1   \n",
       "5       F   75        1               2        1              1   \n",
       "6       M   52        2               1        1              1   \n",
       "7       F   51        2               2        2              2   \n",
       "8       F   68        2               1        2              1   \n",
       "9       M   53        2               2        2              2   \n",
       "10      F   61        2               2        2              2   \n",
       "11      M   72        1               1        1              1   \n",
       "12      F   60        2               1        1              1   \n",
       "13      M   58        2               1        1              1   \n",
       "14      M   69        2               1        1              1   \n",
       "15      F   48        1               2        2              2   \n",
       "16      M   75        2               1        1              1   \n",
       "17      M   57        2               2        2              2   \n",
       "18      F   68        2               2        2              2   \n",
       "19      F   61        1               1        1              1   \n",
       "\n",
       "    CHRONIC DISEASE  FATIGUE   ALLERGY   WHEEZING  ALCOHOL CONSUMING  \\\n",
       "0                 1         2         1         2                  2   \n",
       "1                 2         2         2         1                  1   \n",
       "2                 1         2         1         2                  1   \n",
       "3                 1         1         1         1                  2   \n",
       "4                 1         1         1         2                  1   \n",
       "5                 2         2         2         2                  1   \n",
       "6                 1         2         1         2                  2   \n",
       "7                 1         2         2         1                  1   \n",
       "8                 1         2         1         1                  1   \n",
       "9                 2         1         2         1                  2   \n",
       "10                2         2         1         2                  1   \n",
       "11                2         2         2         2                  2   \n",
       "12                1         2         1         1                  1   \n",
       "13                1         2         2         2                  2   \n",
       "14                1         1         2         2                  2   \n",
       "15                2         2         2         2                  1   \n",
       "16                2         1         2         2                  2   \n",
       "17                2         1         1         1                  2   \n",
       "18                2         2         1         1                  1   \n",
       "19                2         2         1         1                  1   \n",
       "\n",
       "    COUGHING  SHORTNESS OF BREATH  SWALLOWING DIFFICULTY  CHEST PAIN  \\\n",
       "0          2                    2                      2           2   \n",
       "1          1                    2                      2           2   \n",
       "2          2                    2                      1           2   \n",
       "3          1                    1                      2           2   \n",
       "4          2                    2                      1           1   \n",
       "5          2                    2                      1           1   \n",
       "6          2                    2                      1           2   \n",
       "7          1                    2                      2           1   \n",
       "8          1                    1                      1           1   \n",
       "9          1                    1                      2           2   \n",
       "10         2                    2                      2           1   \n",
       "11         2                    2                      1           2   \n",
       "12         1                    2                      1           1   \n",
       "13         2                    2                      1           2   \n",
       "14         2                    1                      1           2   \n",
       "15         2                    2                      2           1   \n",
       "16         2                    2                      1           2   \n",
       "17         1                    1                      2           2   \n",
       "18         2                    2                      1           1   \n",
       "19         1                    2                      1           1   \n",
       "\n",
       "   LUNG_CANCER  \n",
       "0          YES  \n",
       "1          YES  \n",
       "2           NO  \n",
       "3           NO  \n",
       "4           NO  \n",
       "5          YES  \n",
       "6          YES  \n",
       "7          YES  \n",
       "8           NO  \n",
       "9          YES  \n",
       "10         YES  \n",
       "11         YES  \n",
       "12          NO  \n",
       "13         YES  \n",
       "14          NO  \n",
       "15         YES  \n",
       "16         YES  \n",
       "17         YES  \n",
       "18         YES  \n",
       "19          NO  "
      ]
     },
     "execution_count": 11,
     "metadata": {
     },
     "output_type": "execute_result"
    }
   ],
   "source": [
    "import pandas as pd\n",
    "lung = pd.read_csv(\"./Data/survey lung cancer.csv\")\n",
    "lung.head(20)"
   ]
  },
  {
   "cell_type": "code",
   "execution_count": 16,
   "metadata": {
    "collapsed": false
   },
   "outputs": [
    {
     "data": {
      "text/html": "<html>\n<head><meta charset=\"utf-8\" /></head>\n<body>\n    <div>            <script src=\"https://cdnjs.cloudflare.com/ajax/libs/mathjax/2.7.5/MathJax.js?config=TeX-AMS-MML_SVG\"></script><script type=\"text/javascript\">if (window.MathJax && window.MathJax.Hub && && window.MathJax.Hub.Config) {window.MathJax.Hub.Config({SVG: {font: \"STIX-Web\"}});}</script>                <script type=\"text/javascript\">window.PlotlyConfig = {MathJaxConfig: 'local'};</script>\n        <script src=\"https://cdn.plot.ly/plotly-2.12.1.min.js\"></script>                <div id=\"99f708e0-88b4-4648-bd84-61e001b8c951\" class=\"plotly-graph-div\" style=\"height:525px; width:100%;\"></div>            <script type=\"text/javascript\">                                    window.PLOTLYENV=window.PLOTLYENV || {};                                    if (document.getElementById(\"99f708e0-88b4-4648-bd84-61e001b8c951\")) {                    Plotly.newPlot(                        \"99f708e0-88b4-4648-bd84-61e001b8c951\",                        [{\"hovertemplate\":\"AGE=%{x}<br>CHRONIC DISEASE=%{y}<br>SMOKING=%{marker.color}<extra></extra>\",\"legendgroup\":\"\",\"marker\":{\"color\":[1,2,1,2,1,1,2,2,2,2,2,1,2,2,2,1,2,2,2,1,2,1,2,2,2,1,2,1,2,1,2,2,2,2,1,2,1,1,2,2,2,1,1,2,2,2,2,2,1,1,1,2,2,2,1,1,1,1,1,2,1,1,1,1,1,2,1,2,2,2,2,2,1,2,2,2,1,2,2,2,1,2,2,1,1,1,1,1,2,2,1,1,2,1,2,1,2,2,1,2,2,1,2,2,2,1,2,2,1,1,1,2,1,2,1,1,2,2,2,1,2,1,2,2,2,1,2,2,2,1,2,1,2,2,2,1,2,1,2,1,2,2,2,2,1,2,1,1,2,2,2,1,1,2,2,2,2,2,1,1,1,2,2,2,1,1,1,1,1,2,1,1,1,1,1,2,1,2,2,2,2,2,1,2,2,2,1,2,2,2,1,2,2,1,1,1,1,1,2,2,1,1,2,1,2,1,2,2,1,2,2,1,2,2,2,1,2,2,1,1,1,1,1,2,2,2,1,1,1,1,1,2,1,1,1,1,1,2,1,1,2,2,2,1,2,1,2,1,2,2,2,2,1,2,1,1,2,2,2,1,1,2,1,1,2,2,2,2,2,1,2,2,2,1,2,2,2,1,2,1,2,2,1,1,2,2,1,2,1,2,2,2,1,2,1,2,1,2,2,2,2,1,2,1,1,2,2,2,1],\"coloraxis\":\"coloraxis\",\"symbol\":\"circle\"},\"mode\":\"markers\",\"name\":\"\",\"orientation\":\"v\",\"showlegend\":false,\"x\":[69,74,59,63,63,75,52,51,68,53,61,72,60,58,69,48,75,57,68,61,44,64,21,60,72,65,61,69,53,55,57,62,56,67,59,59,60,56,56,60,68,63,77,52,70,72,62,64,70,60,56,63,54,49,57,52,63,73,47,69,70,60,70,68,74,71,56,66,76,78,68,66,67,60,61,58,76,56,67,73,58,54,62,81,56,60,66,62,62,55,62,71,52,59,48,60,61,59,64,56,58,81,64,62,72,60,61,60,49,53,58,61,68,60,72,72,57,51,54,56,77,64,57,66,70,53,51,58,58,63,51,61,61,76,71,69,56,67,54,63,47,62,65,63,64,65,51,56,70,58,67,62,74,69,64,75,47,57,56,68,55,62,73,68,75,63,61,62,44,56,54,57,56,69,72,59,70,64,61,72,63,74,71,71,72,77,72,55,65,67,69,55,51,64,63,69,64,59,73,55,63,60,74,65,79,62,71,63,67,55,54,77,58,64,61,62,67,56,70,70,57,61,77,63,62,59,70,71,56,57,78,64,62,49,77,64,63,54,38,75,70,59,77,61,64,59,71,67,64,68,69,64,59,67,74,77,60,64,70,58,59,39,67,71,70,60,55,60,55,55,70,63,64,59,56,64,62,87,77,59,59,55,46,60,58,58,63,51,61,61,76,71,69,56,67,54,63,47,62,65,63,64,65,51,56,70,58,67,62],\"xaxis\":\"x\",\"y\":[1,2,1,1,1,2,1,1,1,2,2,2,1,1,1,2,2,2,2,2,2,1,2,1,2,1,1,1,2,1,1,1,1,2,1,2,2,2,2,2,1,1,2,1,2,2,2,1,2,2,2,2,1,2,2,2,1,2,2,1,2,1,1,2,1,2,2,1,1,1,1,1,2,2,1,1,2,1,2,1,1,2,2,2,2,1,2,1,2,2,1,2,2,2,2,1,1,1,1,1,1,2,1,2,1,2,2,2,2,2,1,1,1,1,1,2,1,1,1,1,1,2,2,2,1,2,1,2,1,2,1,1,2,1,2,1,1,1,2,1,2,1,1,2,1,1,2,2,1,1,1,1,2,1,2,2,2,1,2,2,2,2,1,2,2,2,1,2,2,1,2,1,1,2,1,2,2,1,1,1,1,1,2,2,1,1,2,1,2,1,2,2,2,2,2,1,2,1,2,2,1,2,2,2,2,1,1,1,1,1,1,2,1,2,1,2,2,2,2,2,2,2,2,2,1,2,2,2,1,2,2,1,2,1,1,2,1,2,2,1,2,1,2,2,1,1,2,1,2,1,1,2,2,1,2,2,1,1,1,1,2,1,1,2,1,1,1,2,2,2,1,1,1,2,2,2,2,2,2,1,2,1,1,1,2,1,2,1,1,2,1,2,1,1,1,2,1,2,1,1,2,1,1,2,2,1,1,1,1],\"yaxis\":\"y\",\"type\":\"scatter\"}],                        {\"template\":{\"data\":{\"histogram2dcontour\":[{\"type\":\"histogram2dcontour\",\"colorbar\":{\"outlinewidth\":0,\"ticks\":\"\"},\"colorscale\":[[0.0,\"#0d0887\"],[0.1111111111111111,\"#46039f\"],[0.2222222222222222,\"#7201a8\"],[0.3333333333333333,\"#9c179e\"],[0.4444444444444444,\"#bd3786\"],[0.5555555555555556,\"#d8576b\"],[0.6666666666666666,\"#ed7953\"],[0.7777777777777778,\"#fb9f3a\"],[0.8888888888888888,\"#fdca26\"],[1.0,\"#f0f921\"]]}],\"choropleth\":[{\"type\":\"choropleth\",\"colorbar\":{\"outlinewidth\":0,\"ticks\":\"\"}}],\"histogram2d\":[{\"type\":\"histogram2d\",\"colorbar\":{\"outlinewidth\":0,\"ticks\":\"\"},\"colorscale\":[[0.0,\"#0d0887\"],[0.1111111111111111,\"#46039f\"],[0.2222222222222222,\"#7201a8\"],[0.3333333333333333,\"#9c179e\"],[0.4444444444444444,\"#bd3786\"],[0.5555555555555556,\"#d8576b\"],[0.6666666666666666,\"#ed7953\"],[0.7777777777777778,\"#fb9f3a\"],[0.8888888888888888,\"#fdca26\"],[1.0,\"#f0f921\"]]}],\"heatmap\":[{\"type\":\"heatmap\",\"colorbar\":{\"outlinewidth\":0,\"ticks\":\"\"},\"colorscale\":[[0.0,\"#0d0887\"],[0.1111111111111111,\"#46039f\"],[0.2222222222222222,\"#7201a8\"],[0.3333333333333333,\"#9c179e\"],[0.4444444444444444,\"#bd3786\"],[0.5555555555555556,\"#d8576b\"],[0.6666666666666666,\"#ed7953\"],[0.7777777777777778,\"#fb9f3a\"],[0.8888888888888888,\"#fdca26\"],[1.0,\"#f0f921\"]]}],\"heatmapgl\":[{\"type\":\"heatmapgl\",\"colorbar\":{\"outlinewidth\":0,\"ticks\":\"\"},\"colorscale\":[[0.0,\"#0d0887\"],[0.1111111111111111,\"#46039f\"],[0.2222222222222222,\"#7201a8\"],[0.3333333333333333,\"#9c179e\"],[0.4444444444444444,\"#bd3786\"],[0.5555555555555556,\"#d8576b\"],[0.6666666666666666,\"#ed7953\"],[0.7777777777777778,\"#fb9f3a\"],[0.8888888888888888,\"#fdca26\"],[1.0,\"#f0f921\"]]}],\"contourcarpet\":[{\"type\":\"contourcarpet\",\"colorbar\":{\"outlinewidth\":0,\"ticks\":\"\"}}],\"contour\":[{\"type\":\"contour\",\"colorbar\":{\"outlinewidth\":0,\"ticks\":\"\"},\"colorscale\":[[0.0,\"#0d0887\"],[0.1111111111111111,\"#46039f\"],[0.2222222222222222,\"#7201a8\"],[0.3333333333333333,\"#9c179e\"],[0.4444444444444444,\"#bd3786\"],[0.5555555555555556,\"#d8576b\"],[0.6666666666666666,\"#ed7953\"],[0.7777777777777778,\"#fb9f3a\"],[0.8888888888888888,\"#fdca26\"],[1.0,\"#f0f921\"]]}],\"surface\":[{\"type\":\"surface\",\"colorbar\":{\"outlinewidth\":0,\"ticks\":\"\"},\"colorscale\":[[0.0,\"#0d0887\"],[0.1111111111111111,\"#46039f\"],[0.2222222222222222,\"#7201a8\"],[0.3333333333333333,\"#9c179e\"],[0.4444444444444444,\"#bd3786\"],[0.5555555555555556,\"#d8576b\"],[0.6666666666666666,\"#ed7953\"],[0.7777777777777778,\"#fb9f3a\"],[0.8888888888888888,\"#fdca26\"],[1.0,\"#f0f921\"]]}],\"mesh3d\":[{\"type\":\"mesh3d\",\"colorbar\":{\"outlinewidth\":0,\"ticks\":\"\"}}],\"scatter\":[{\"fillpattern\":{\"fillmode\":\"overlay\",\"size\":10,\"solidity\":0.2},\"type\":\"scatter\"}],\"parcoords\":[{\"type\":\"parcoords\",\"line\":{\"colorbar\":{\"outlinewidth\":0,\"ticks\":\"\"}}}],\"scatterpolargl\":[{\"type\":\"scatterpolargl\",\"marker\":{\"colorbar\":{\"outlinewidth\":0,\"ticks\":\"\"}}}],\"bar\":[{\"error_x\":{\"color\":\"#2a3f5f\"},\"error_y\":{\"color\":\"#2a3f5f\"},\"marker\":{\"line\":{\"color\":\"#E5ECF6\",\"width\":0.5},\"pattern\":{\"fillmode\":\"overlay\",\"size\":10,\"solidity\":0.2}},\"type\":\"bar\"}],\"scattergeo\":[{\"type\":\"scattergeo\",\"marker\":{\"colorbar\":{\"outlinewidth\":0,\"ticks\":\"\"}}}],\"scatterpolar\":[{\"type\":\"scatterpolar\",\"marker\":{\"colorbar\":{\"outlinewidth\":0,\"ticks\":\"\"}}}],\"histogram\":[{\"marker\":{\"pattern\":{\"fillmode\":\"overlay\",\"size\":10,\"solidity\":0.2}},\"type\":\"histogram\"}],\"scattergl\":[{\"type\":\"scattergl\",\"marker\":{\"colorbar\":{\"outlinewidth\":0,\"ticks\":\"\"}}}],\"scatter3d\":[{\"type\":\"scatter3d\",\"line\":{\"colorbar\":{\"outlinewidth\":0,\"ticks\":\"\"}},\"marker\":{\"colorbar\":{\"outlinewidth\":0,\"ticks\":\"\"}}}],\"scattermapbox\":[{\"type\":\"scattermapbox\",\"marker\":{\"colorbar\":{\"outlinewidth\":0,\"ticks\":\"\"}}}],\"scatterternary\":[{\"type\":\"scatterternary\",\"marker\":{\"colorbar\":{\"outlinewidth\":0,\"ticks\":\"\"}}}],\"scattercarpet\":[{\"type\":\"scattercarpet\",\"marker\":{\"colorbar\":{\"outlinewidth\":0,\"ticks\":\"\"}}}],\"carpet\":[{\"aaxis\":{\"endlinecolor\":\"#2a3f5f\",\"gridcolor\":\"white\",\"linecolor\":\"white\",\"minorgridcolor\":\"white\",\"startlinecolor\":\"#2a3f5f\"},\"baxis\":{\"endlinecolor\":\"#2a3f5f\",\"gridcolor\":\"white\",\"linecolor\":\"white\",\"minorgridcolor\":\"white\",\"startlinecolor\":\"#2a3f5f\"},\"type\":\"carpet\"}],\"table\":[{\"cells\":{\"fill\":{\"color\":\"#EBF0F8\"},\"line\":{\"color\":\"white\"}},\"header\":{\"fill\":{\"color\":\"#C8D4E3\"},\"line\":{\"color\":\"white\"}},\"type\":\"table\"}],\"barpolar\":[{\"marker\":{\"line\":{\"color\":\"#E5ECF6\",\"width\":0.5},\"pattern\":{\"fillmode\":\"overlay\",\"size\":10,\"solidity\":0.2}},\"type\":\"barpolar\"}],\"pie\":[{\"automargin\":true,\"type\":\"pie\"}]},\"layout\":{\"autotypenumbers\":\"strict\",\"colorway\":[\"#636efa\",\"#EF553B\",\"#00cc96\",\"#ab63fa\",\"#FFA15A\",\"#19d3f3\",\"#FF6692\",\"#B6E880\",\"#FF97FF\",\"#FECB52\"],\"font\":{\"color\":\"#2a3f5f\"},\"hovermode\":\"closest\",\"hoverlabel\":{\"align\":\"left\"},\"paper_bgcolor\":\"white\",\"plot_bgcolor\":\"#E5ECF6\",\"polar\":{\"bgcolor\":\"#E5ECF6\",\"angularaxis\":{\"gridcolor\":\"white\",\"linecolor\":\"white\",\"ticks\":\"\"},\"radialaxis\":{\"gridcolor\":\"white\",\"linecolor\":\"white\",\"ticks\":\"\"}},\"ternary\":{\"bgcolor\":\"#E5ECF6\",\"aaxis\":{\"gridcolor\":\"white\",\"linecolor\":\"white\",\"ticks\":\"\"},\"baxis\":{\"gridcolor\":\"white\",\"linecolor\":\"white\",\"ticks\":\"\"},\"caxis\":{\"gridcolor\":\"white\",\"linecolor\":\"white\",\"ticks\":\"\"}},\"coloraxis\":{\"colorbar\":{\"outlinewidth\":0,\"ticks\":\"\"}},\"colorscale\":{\"sequential\":[[0.0,\"#0d0887\"],[0.1111111111111111,\"#46039f\"],[0.2222222222222222,\"#7201a8\"],[0.3333333333333333,\"#9c179e\"],[0.4444444444444444,\"#bd3786\"],[0.5555555555555556,\"#d8576b\"],[0.6666666666666666,\"#ed7953\"],[0.7777777777777778,\"#fb9f3a\"],[0.8888888888888888,\"#fdca26\"],[1.0,\"#f0f921\"]],\"sequentialminus\":[[0.0,\"#0d0887\"],[0.1111111111111111,\"#46039f\"],[0.2222222222222222,\"#7201a8\"],[0.3333333333333333,\"#9c179e\"],[0.4444444444444444,\"#bd3786\"],[0.5555555555555556,\"#d8576b\"],[0.6666666666666666,\"#ed7953\"],[0.7777777777777778,\"#fb9f3a\"],[0.8888888888888888,\"#fdca26\"],[1.0,\"#f0f921\"]],\"diverging\":[[0,\"#8e0152\"],[0.1,\"#c51b7d\"],[0.2,\"#de77ae\"],[0.3,\"#f1b6da\"],[0.4,\"#fde0ef\"],[0.5,\"#f7f7f7\"],[0.6,\"#e6f5d0\"],[0.7,\"#b8e186\"],[0.8,\"#7fbc41\"],[0.9,\"#4d9221\"],[1,\"#276419\"]]},\"xaxis\":{\"gridcolor\":\"white\",\"linecolor\":\"white\",\"ticks\":\"\",\"title\":{\"standoff\":15},\"zerolinecolor\":\"white\",\"automargin\":true,\"zerolinewidth\":2},\"yaxis\":{\"gridcolor\":\"white\",\"linecolor\":\"white\",\"ticks\":\"\",\"title\":{\"standoff\":15},\"zerolinecolor\":\"white\",\"automargin\":true,\"zerolinewidth\":2},\"scene\":{\"xaxis\":{\"backgroundcolor\":\"#E5ECF6\",\"gridcolor\":\"white\",\"linecolor\":\"white\",\"showbackground\":true,\"ticks\":\"\",\"zerolinecolor\":\"white\",\"gridwidth\":2},\"yaxis\":{\"backgroundcolor\":\"#E5ECF6\",\"gridcolor\":\"white\",\"linecolor\":\"white\",\"showbackground\":true,\"ticks\":\"\",\"zerolinecolor\":\"white\",\"gridwidth\":2},\"zaxis\":{\"backgroundcolor\":\"#E5ECF6\",\"gridcolor\":\"white\",\"linecolor\":\"white\",\"showbackground\":true,\"ticks\":\"\",\"zerolinecolor\":\"white\",\"gridwidth\":2}},\"shapedefaults\":{\"line\":{\"color\":\"#2a3f5f\"}},\"annotationdefaults\":{\"arrowcolor\":\"#2a3f5f\",\"arrowhead\":0,\"arrowwidth\":1},\"geo\":{\"bgcolor\":\"white\",\"landcolor\":\"#E5ECF6\",\"subunitcolor\":\"white\",\"showland\":true,\"showlakes\":true,\"lakecolor\":\"white\"},\"title\":{\"x\":0.05},\"mapbox\":{\"style\":\"light\"}}},\"xaxis\":{\"anchor\":\"y\",\"domain\":[0.0,1.0],\"title\":{\"text\":\"AGE\"}},\"yaxis\":{\"anchor\":\"x\",\"domain\":[0.0,1.0],\"title\":{\"text\":\"CHRONIC DISEASE\"}},\"coloraxis\":{\"colorbar\":{\"title\":{\"text\":\"SMOKING\"}},\"colorscale\":[[0.0,\"#0d0887\"],[0.1111111111111111,\"#46039f\"],[0.2222222222222222,\"#7201a8\"],[0.3333333333333333,\"#9c179e\"],[0.4444444444444444,\"#bd3786\"],[0.5555555555555556,\"#d8576b\"],[0.6666666666666666,\"#ed7953\"],[0.7777777777777778,\"#fb9f3a\"],[0.8888888888888888,\"#fdca26\"],[1.0,\"#f0f921\"]]},\"legend\":{\"tracegroupgap\":0},\"margin\":{\"t\":60}},                        {\"responsive\": true}                    ).then(function(){\n                            \nvar gd = document.getElementById('99f708e0-88b4-4648-bd84-61e001b8c951');\nvar x = new MutationObserver(function (mutations, observer) {{\n        var display = window.getComputedStyle(gd).display;\n        if (!display || display === 'none') {{\n            console.log([gd, 'removed!']);\n            Plotly.purge(gd);\n            observer.disconnect();\n        }}\n}});\n\n// Listen for the removal of the full notebook cells\nvar notebookContainer = gd.closest('#notebook-container');\nif (notebookContainer) {{\n    x.observe(notebookContainer, {childList: true});\n}}\n\n// Listen for the clearing of the current output cell\nvar outputEl = gd.closest('.output');\nif (outputEl) {{\n    x.observe(outputEl, {childList: true});\n}}\n\n                        })                };                            </script>        </div>\n</body>\n</html>"
     },
     "execution_count": 16,
     "metadata": {
     },
     "output_type": "execute_result"
    }
   ],
   "source": [
    "\n",
    "import plotly.express as px\n",
    "fig = px.scatter(lung, x=\"AGE\", y=\"CHRONIC DISEASE\", color=\"GENDER\")\n",
    "fig.show()"
   ]
  },
  {
   "cell_type": "code",
   "execution_count": 23,
   "metadata": {
    "collapsed": false
   },
   "outputs": [
    {
     "data": {
      "text/html": [
       "<div>\n",
       "<style scoped>\n",
       "    .dataframe tbody tr th:only-of-type {\n",
       "        vertical-align: middle;\n",
       "    }\n",
       "\n",
       "    .dataframe tbody tr th {\n",
       "        vertical-align: top;\n",
       "    }\n",
       "\n",
       "    .dataframe thead th {\n",
       "        text-align: right;\n",
       "    }\n",
       "</style>\n",
       "<table border=\"1\" class=\"dataframe\">\n",
       "  <thead>\n",
       "    <tr style=\"text-align: right;\">\n",
       "      <th></th>\n",
       "      <th>Pregnancies</th>\n",
       "      <th>Glucose</th>\n",
       "      <th>BloodPressure</th>\n",
       "      <th>SkinThickness</th>\n",
       "      <th>Insulin</th>\n",
       "      <th>BMI</th>\n",
       "      <th>DiabetesPedigreeFunction</th>\n",
       "      <th>Age</th>\n",
       "      <th>Outcome</th>\n",
       "    </tr>\n",
       "  </thead>\n",
       "  <tbody>\n",
       "    <tr>\n",
       "      <th>0</th>\n",
       "      <td>6</td>\n",
       "      <td>148</td>\n",
       "      <td>72</td>\n",
       "      <td>35</td>\n",
       "      <td>0</td>\n",
       "      <td>33.6</td>\n",
       "      <td>0.627</td>\n",
       "      <td>50</td>\n",
       "      <td>1</td>\n",
       "    </tr>\n",
       "  </tbody>\n",
       "</table>\n",
       "</div>"
      ],
      "text/plain": [
       "   Pregnancies  Glucose  BloodPressure  SkinThickness  Insulin   BMI  \\\n",
       "0            6      148             72             35        0  33.6   \n",
       "\n",
       "   DiabetesPedigreeFunction  Age  Outcome  \n",
       "0                     0.627   50        1  "
      ]
     },
     "execution_count": 23,
     "metadata": {
     },
     "output_type": "execute_result"
    }
   ],
   "source": [
    "import pandas as pd\n",
    "diabetes = pd.read_csv(\"./Data/diabetes.csv\")\n",
    "diabetes.head(1)"
   ]
  },
  {
   "cell_type": "code",
   "execution_count": 25,
   "metadata": {
    "collapsed": false
   },
   "outputs": [
    {
     "ename": "ValueError",
     "evalue": "Value of 'x' is not the name of a column in 'data_frame'. Expected one of ['Pregnancies', 'Glucose', 'BloodPressure', 'SkinThickness', 'Insulin', 'BMI', 'DiabetesPedigreeFunction', 'Age', 'Outcome'] but received:  Pregnacies",
     "output_type": "error",
     "traceback": [
      "\u001b[0;31m---------------------------------------------------------------------------\u001b[0m",
      "\u001b[0;31mValueError\u001b[0m                                Traceback (most recent call last)",
      "Input \u001b[0;32mIn [25]\u001b[0m, in \u001b[0;36m<cell line: 2>\u001b[0;34m()\u001b[0m\n\u001b[1;32m      1\u001b[0m \u001b[38;5;28;01mimport\u001b[39;00m \u001b[38;5;21;01mplotly\u001b[39;00m\u001b[38;5;21;01m.\u001b[39;00m\u001b[38;5;21;01mexpress\u001b[39;00m \u001b[38;5;28;01mas\u001b[39;00m \u001b[38;5;21;01mpx\u001b[39;00m\n\u001b[0;32m----> 2\u001b[0m fig \u001b[38;5;241m=\u001b[39m \u001b[43mpx\u001b[49m\u001b[38;5;241;43m.\u001b[39;49m\u001b[43mscatter\u001b[49m\u001b[43m(\u001b[49m\u001b[43mdiabetes\u001b[49m\u001b[43m,\u001b[49m\u001b[43m \u001b[49m\u001b[43mx\u001b[49m\u001b[38;5;241;43m=\u001b[39;49m\u001b[38;5;124;43m\"\u001b[39;49m\u001b[38;5;124;43m Pregnacies\u001b[39;49m\u001b[38;5;124;43m\"\u001b[39;49m\u001b[43m,\u001b[49m\u001b[43m \u001b[49m\u001b[43my\u001b[49m\u001b[38;5;241;43m=\u001b[39;49m\u001b[38;5;124;43m\"\u001b[39;49m\u001b[38;5;124;43m Glucose\u001b[39;49m\u001b[38;5;124;43m\"\u001b[39;49m\u001b[43m,\u001b[49m\u001b[43m \u001b[49m\u001b[43mcolor\u001b[49m\u001b[43m \u001b[49m\u001b[38;5;241;43m=\u001b[39;49m\u001b[43m \u001b[49m\u001b[38;5;124;43m\"\u001b[39;49m\u001b[38;5;124;43m Outcome\u001b[39;49m\u001b[38;5;124;43m\"\u001b[39;49m\u001b[43m)\u001b[49m\n\u001b[1;32m      3\u001b[0m fig\u001b[38;5;241m.\u001b[39mshow()\n",
      "File \u001b[0;32m~/miniconda3/lib/python3.9/site-packages/plotly/express/_chart_types.py:66\u001b[0m, in \u001b[0;36mscatter\u001b[0;34m(data_frame, x, y, color, symbol, size, hover_name, hover_data, custom_data, text, facet_row, facet_col, facet_col_wrap, facet_row_spacing, facet_col_spacing, error_x, error_x_minus, error_y, error_y_minus, animation_frame, animation_group, category_orders, labels, orientation, color_discrete_sequence, color_discrete_map, color_continuous_scale, range_color, color_continuous_midpoint, symbol_sequence, symbol_map, opacity, size_max, marginal_x, marginal_y, trendline, trendline_options, trendline_color_override, trendline_scope, log_x, log_y, range_x, range_y, render_mode, title, template, width, height)\u001b[0m\n\u001b[1;32m     12\u001b[0m \u001b[38;5;28;01mdef\u001b[39;00m \u001b[38;5;21mscatter\u001b[39m(\n\u001b[1;32m     13\u001b[0m     data_frame\u001b[38;5;241m=\u001b[39m\u001b[38;5;28;01mNone\u001b[39;00m,\n\u001b[1;32m     14\u001b[0m     x\u001b[38;5;241m=\u001b[39m\u001b[38;5;28;01mNone\u001b[39;00m,\n\u001b[0;32m   (...)\u001b[0m\n\u001b[1;32m     60\u001b[0m     height\u001b[38;5;241m=\u001b[39m\u001b[38;5;28;01mNone\u001b[39;00m,\n\u001b[1;32m     61\u001b[0m ) \u001b[38;5;241m-\u001b[39m\u001b[38;5;241m>\u001b[39m go\u001b[38;5;241m.\u001b[39mFigure:\n\u001b[1;32m     62\u001b[0m     \u001b[38;5;124;03m\"\"\"\u001b[39;00m\n\u001b[1;32m     63\u001b[0m \u001b[38;5;124;03m    In a scatter plot, each row of `data_frame` is represented by a symbol\u001b[39;00m\n\u001b[1;32m     64\u001b[0m \u001b[38;5;124;03m    mark in 2D space.\u001b[39;00m\n\u001b[1;32m     65\u001b[0m \u001b[38;5;124;03m    \"\"\"\u001b[39;00m\n\u001b[0;32m---> 66\u001b[0m     \u001b[38;5;28;01mreturn\u001b[39;00m \u001b[43mmake_figure\u001b[49m\u001b[43m(\u001b[49m\u001b[43margs\u001b[49m\u001b[38;5;241;43m=\u001b[39;49m\u001b[38;5;28;43mlocals\u001b[39;49m\u001b[43m(\u001b[49m\u001b[43m)\u001b[49m\u001b[43m,\u001b[49m\u001b[43m \u001b[49m\u001b[43mconstructor\u001b[49m\u001b[38;5;241;43m=\u001b[39;49m\u001b[43mgo\u001b[49m\u001b[38;5;241;43m.\u001b[39;49m\u001b[43mScatter\u001b[49m\u001b[43m)\u001b[49m\n",
      "File \u001b[0;32m~/miniconda3/lib/python3.9/site-packages/plotly/express/_core.py:1948\u001b[0m, in \u001b[0;36mmake_figure\u001b[0;34m(args, constructor, trace_patch, layout_patch)\u001b[0m\n\u001b[1;32m   1945\u001b[0m layout_patch \u001b[38;5;241m=\u001b[39m layout_patch \u001b[38;5;129;01mor\u001b[39;00m {}\n\u001b[1;32m   1946\u001b[0m apply_default_cascade(args)\n\u001b[0;32m-> 1948\u001b[0m args \u001b[38;5;241m=\u001b[39m \u001b[43mbuild_dataframe\u001b[49m\u001b[43m(\u001b[49m\u001b[43margs\u001b[49m\u001b[43m,\u001b[49m\u001b[43m \u001b[49m\u001b[43mconstructor\u001b[49m\u001b[43m)\u001b[49m\n\u001b[1;32m   1949\u001b[0m \u001b[38;5;28;01mif\u001b[39;00m constructor \u001b[38;5;129;01min\u001b[39;00m [go\u001b[38;5;241m.\u001b[39mTreemap, go\u001b[38;5;241m.\u001b[39mSunburst, go\u001b[38;5;241m.\u001b[39mIcicle] \u001b[38;5;129;01mand\u001b[39;00m args[\u001b[38;5;124m\"\u001b[39m\u001b[38;5;124mpath\u001b[39m\u001b[38;5;124m\"\u001b[39m] \u001b[38;5;129;01mis\u001b[39;00m \u001b[38;5;129;01mnot\u001b[39;00m \u001b[38;5;28;01mNone\u001b[39;00m:\n\u001b[1;32m   1950\u001b[0m     args \u001b[38;5;241m=\u001b[39m process_dataframe_hierarchy(args)\n",
      "File \u001b[0;32m~/miniconda3/lib/python3.9/site-packages/plotly/express/_core.py:1405\u001b[0m, in \u001b[0;36mbuild_dataframe\u001b[0;34m(args, constructor)\u001b[0m\n\u001b[1;32m   1402\u001b[0m     args[\u001b[38;5;124m\"\u001b[39m\u001b[38;5;124mcolor\u001b[39m\u001b[38;5;124m\"\u001b[39m] \u001b[38;5;241m=\u001b[39m \u001b[38;5;28;01mNone\u001b[39;00m\n\u001b[1;32m   1403\u001b[0m \u001b[38;5;66;03m# now that things have been prepped, we do the systematic rewriting of `args`\u001b[39;00m\n\u001b[0;32m-> 1405\u001b[0m df_output, wide_id_vars \u001b[38;5;241m=\u001b[39m \u001b[43mprocess_args_into_dataframe\u001b[49m\u001b[43m(\u001b[49m\n\u001b[1;32m   1406\u001b[0m \u001b[43m    \u001b[49m\u001b[43margs\u001b[49m\u001b[43m,\u001b[49m\u001b[43m \u001b[49m\u001b[43mwide_mode\u001b[49m\u001b[43m,\u001b[49m\u001b[43m \u001b[49m\u001b[43mvar_name\u001b[49m\u001b[43m,\u001b[49m\u001b[43m \u001b[49m\u001b[43mvalue_name\u001b[49m\n\u001b[1;32m   1407\u001b[0m \u001b[43m\u001b[49m\u001b[43m)\u001b[49m\n\u001b[1;32m   1409\u001b[0m \u001b[38;5;66;03m# now that `df_output` exists and `args` contains only references, we complete\u001b[39;00m\n\u001b[1;32m   1410\u001b[0m \u001b[38;5;66;03m# the special-case and wide-mode handling by further rewriting args and/or mutating\u001b[39;00m\n\u001b[1;32m   1411\u001b[0m \u001b[38;5;66;03m# df_output\u001b[39;00m\n\u001b[1;32m   1413\u001b[0m count_name \u001b[38;5;241m=\u001b[39m _escape_col_name(df_output, \u001b[38;5;124m\"\u001b[39m\u001b[38;5;124mcount\u001b[39m\u001b[38;5;124m\"\u001b[39m, [var_name, value_name])\n",
      "File \u001b[0;32m~/miniconda3/lib/python3.9/site-packages/plotly/express/_core.py:1207\u001b[0m, in \u001b[0;36mprocess_args_into_dataframe\u001b[0;34m(args, wide_mode, var_name, value_name)\u001b[0m\n\u001b[1;32m   1205\u001b[0m         \u001b[38;5;28;01mif\u001b[39;00m argument \u001b[38;5;241m==\u001b[39m \u001b[38;5;124m\"\u001b[39m\u001b[38;5;124mindex\u001b[39m\u001b[38;5;124m\"\u001b[39m:\n\u001b[1;32m   1206\u001b[0m             err_msg \u001b[38;5;241m+\u001b[39m\u001b[38;5;241m=\u001b[39m \u001b[38;5;124m\"\u001b[39m\u001b[38;5;130;01m\\n\u001b[39;00m\u001b[38;5;124m To use the index, pass it in directly as `df.index`.\u001b[39m\u001b[38;5;124m\"\u001b[39m\n\u001b[0;32m-> 1207\u001b[0m         \u001b[38;5;28;01mraise\u001b[39;00m \u001b[38;5;167;01mValueError\u001b[39;00m(err_msg)\n\u001b[1;32m   1208\u001b[0m \u001b[38;5;28;01melif\u001b[39;00m length \u001b[38;5;129;01mand\u001b[39;00m \u001b[38;5;28mlen\u001b[39m(df_input[argument]) \u001b[38;5;241m!=\u001b[39m length:\n\u001b[1;32m   1209\u001b[0m     \u001b[38;5;28;01mraise\u001b[39;00m \u001b[38;5;167;01mValueError\u001b[39;00m(\n\u001b[1;32m   1210\u001b[0m         \u001b[38;5;124m\"\u001b[39m\u001b[38;5;124mAll arguments should have the same length. \u001b[39m\u001b[38;5;124m\"\u001b[39m\n\u001b[1;32m   1211\u001b[0m         \u001b[38;5;124m\"\u001b[39m\u001b[38;5;124mThe length of column argument `df[\u001b[39m\u001b[38;5;132;01m%s\u001b[39;00m\u001b[38;5;124m]` is \u001b[39m\u001b[38;5;132;01m%d\u001b[39;00m\u001b[38;5;124m, whereas the \u001b[39m\u001b[38;5;124m\"\u001b[39m\n\u001b[0;32m   (...)\u001b[0m\n\u001b[1;32m   1218\u001b[0m         )\n\u001b[1;32m   1219\u001b[0m     )\n",
      "\u001b[0;31mValueError\u001b[0m: Value of 'x' is not the name of a column in 'data_frame'. Expected one of ['Pregnancies', 'Glucose', 'BloodPressure', 'SkinThickness', 'Insulin', 'BMI', 'DiabetesPedigreeFunction', 'Age', 'Outcome'] but received:  Pregnacies"
     ]
    }
   ],
   "source": [
    "\n",
    "import plotly.express as px\n",
    "fig = px.scatter(diabetes, x=\" Pregnacies\", y=\" Glucose\", color = \" Outcome\")\n",
    "fig.show()"
   ]
  },
  {
   "cell_type": "code",
   "execution_count": 26,
   "metadata": {
    "collapsed": false
   },
   "outputs": [
    {
     "data": {
      "text/html": "<html>\n<head><meta charset=\"utf-8\" /></head>\n<body>\n    <div>            <script src=\"https://cdnjs.cloudflare.com/ajax/libs/mathjax/2.7.5/MathJax.js?config=TeX-AMS-MML_SVG\"></script><script type=\"text/javascript\">if (window.MathJax && window.MathJax.Hub && && window.MathJax.Hub.Config) {window.MathJax.Hub.Config({SVG: {font: \"STIX-Web\"}});}</script>                <script type=\"text/javascript\">window.PlotlyConfig = {MathJaxConfig: 'local'};</script>\n        <script src=\"https://cdn.plot.ly/plotly-2.12.1.min.js\"></script>                <div id=\"5f23248a-9e07-4be5-8dab-76edb09d91d2\" class=\"plotly-graph-div\" style=\"height:525px; width:100%;\"></div>            <script type=\"text/javascript\">                                    window.PLOTLYENV=window.PLOTLYENV || {};                                    if (document.getElementById(\"5f23248a-9e07-4be5-8dab-76edb09d91d2\")) {                    Plotly.newPlot(                        \"5f23248a-9e07-4be5-8dab-76edb09d91d2\",                        [{\"alignmentgroup\":\"True\",\"hovertemplate\":\"Glucose=%{x}<br>BloodPressure=%{y}<extra></extra>\",\"legendgroup\":\"\",\"marker\":{\"color\":\"#636efa\",\"pattern\":{\"shape\":\"\"}},\"name\":\"\",\"offsetgroup\":\"\",\"orientation\":\"v\",\"showlegend\":false,\"textposition\":\"auto\",\"x\":[148,85,183,89,137,116,78,115,197,125,110,168,139,189,166,100,118,107,103,115,126,99,196,119,143,125,147,97,145,117,109,158,88,92,122,103,138,102,90,111,180,133,106,171,159,180,146,71,103,105,103,101,88,176,150,73,187,100,146,105,84,133,44,141,114,99,109,109,95,146,100,139,126,129,79,0,62,95,131,112,113,74,83,101,137,110,106,100,136,107,80,123,81,134,142,144,92,71,93,122,163,151,125,81,85,126,96,144,83,95,171,155,89,76,160,146,124,78,97,99,162,111,107,132,113,88,120,118,117,105,173,122,170,84,96,125,100,93,129,105,128,106,108,108,154,102,57,106,147,90,136,114,156,153,188,152,99,109,88,163,151,102,114,100,131,104,148,120,110,111,102,134,87,79,75,179,85,129,143,130,87,119,0,73,141,194,181,128,109,139,111,123,159,135,85,158,105,107,109,148,113,138,108,99,103,111,196,162,96,184,81,147,179,140,112,151,109,125,85,112,177,158,119,142,100,87,101,162,197,117,142,134,79,122,74,171,181,179,164,104,91,91,139,119,146,184,122,165,124,111,106,129,90,86,92,113,111,114,193,155,191,141,95,142,123,96,138,128,102,146,101,108,122,71,106,100,106,104,114,108,146,129,133,161,108,136,155,119,96,108,78,107,128,128,161,151,146,126,100,112,167,144,77,115,150,120,161,137,128,124,80,106,155,113,109,112,99,182,115,194,129,112,124,152,112,157,122,179,102,105,118,87,180,106,95,165,117,115,152,178,130,95,0,122,95,126,139,116,99,0,92,137,61,90,90,165,125,129,88,196,189,158,103,146,147,99,124,101,81,133,173,118,84,105,122,140,98,87,156,93,107,105,109,90,125,119,116,105,144,100,100,166,131,116,158,127,96,131,82,193,95,137,136,72,168,123,115,101,197,172,102,112,143,143,138,173,97,144,83,129,119,94,102,115,151,184,94,181,135,95,99,89,80,139,90,141,140,147,97,107,189,83,117,108,117,180,100,95,104,120,82,134,91,119,100,175,135,86,148,134,120,71,74,88,115,124,74,97,120,154,144,137,119,136,114,137,105,114,126,132,158,123,85,84,145,135,139,173,99,194,83,89,99,125,80,166,110,81,195,154,117,84,0,94,96,75,180,130,84,120,84,139,91,91,99,163,145,125,76,129,68,124,114,130,125,87,97,116,117,111,122,107,86,91,77,132,105,57,127,129,100,128,90,84,88,186,187,131,164,189,116,84,114,88,84,124,97,110,103,85,125,198,87,99,91,95,99,92,154,121,78,130,111,98,143,119,108,118,133,197,151,109,121,100,124,93,143,103,176,73,111,112,132,82,123,188,67,89,173,109,108,96,124,150,183,124,181,92,152,111,106,174,168,105,138,106,117,68,112,119,112,92,183,94,108,90,125,132,128,94,114,102,111,128,92,104,104,94,97,100,102,128,147,90,103,157,167,179,136,107,91,117,123,120,106,155,101,120,127,80,162,199,167,145,115,112,145,111,98,154,165,99,68,123,91,195,156,93,121,101,56,162,95,125,136,129,130,107,140,144,107,158,121,129,90,142,169,99,127,118,122,125,168,129,110,80,115,127,164,93,158,126,129,134,102,187,173,94,108,97,83,114,149,117,111,112,116,141,175,92,130,120,174,106,105,95,126,65,99,102,120,102,109,140,153,100,147,81,187,162,136,121,108,181,154,128,137,123,106,190,88,170,89,101,122,121,126,93],\"xaxis\":\"x\",\"y\":[72,66,64,66,40,74,50,0,70,96,92,74,80,60,72,0,84,74,30,70,88,84,90,80,94,70,76,66,82,92,75,76,58,92,78,60,76,76,68,72,64,84,92,110,64,66,56,70,66,0,80,50,66,90,66,50,68,88,82,64,0,72,62,58,66,74,88,92,66,85,66,64,90,86,75,48,78,72,0,66,44,0,78,65,108,74,72,68,70,68,55,80,78,72,82,72,62,48,50,90,72,60,96,72,65,56,122,58,58,85,72,62,76,62,54,92,74,48,60,76,76,64,74,80,76,30,70,58,88,84,70,56,64,74,68,60,70,60,80,72,78,82,52,66,62,75,80,64,78,70,74,65,86,82,78,88,52,56,74,72,90,74,80,64,88,74,66,68,66,90,82,70,0,60,64,72,78,110,78,82,80,64,74,60,74,68,68,98,76,80,62,70,66,0,55,84,58,62,64,60,80,82,68,70,72,72,76,104,64,84,60,85,95,65,82,70,62,68,74,66,60,90,0,60,66,78,76,52,70,80,86,80,80,68,68,72,84,90,84,76,64,70,54,50,76,85,68,90,70,86,52,84,80,68,62,64,56,68,50,76,68,0,70,80,62,74,0,64,52,0,86,62,78,78,70,70,60,64,74,62,70,76,88,86,80,74,84,86,56,72,88,62,78,48,50,62,70,84,78,72,0,58,82,98,76,76,68,68,68,68,66,70,74,50,80,68,80,74,66,78,60,74,70,90,75,72,64,70,86,70,72,58,0,80,60,76,0,76,78,84,70,74,68,86,72,88,46,0,62,80,80,84,82,62,78,88,50,0,74,76,64,70,108,78,74,54,72,64,86,102,82,64,64,58,52,82,82,60,75,100,72,68,60,62,70,54,74,100,82,68,66,76,64,72,78,58,56,66,70,70,64,61,84,78,64,48,72,62,74,68,90,72,84,74,60,84,68,82,68,64,88,68,64,64,78,78,0,64,94,82,0,74,74,75,68,0,85,75,70,88,104,66,64,70,62,78,72,80,64,74,64,70,68,0,54,62,54,68,84,74,72,62,70,78,98,56,52,64,0,78,82,70,66,90,64,84,80,76,74,86,70,88,58,82,0,68,62,78,72,80,65,90,68,70,0,74,68,72,70,74,90,72,68,64,78,82,90,60,50,78,72,62,68,62,54,70,88,86,60,90,70,80,0,70,58,60,64,74,66,65,60,76,66,0,56,0,90,60,80,92,74,72,85,90,78,90,76,68,82,110,70,68,88,62,64,70,70,76,68,74,76,66,68,60,80,54,72,62,72,66,70,96,58,60,86,44,44,80,68,70,90,60,78,76,76,56,66,66,86,0,84,78,80,52,72,82,76,24,74,38,88,0,74,78,0,60,78,62,82,62,54,58,88,80,74,72,96,62,82,0,86,76,94,70,64,88,68,78,80,65,64,78,60,82,62,72,74,76,76,74,86,70,80,0,72,74,74,50,84,60,54,60,74,54,70,52,58,80,106,82,84,76,106,80,60,80,82,70,58,78,68,58,106,100,82,70,86,60,52,58,56,76,64,80,82,74,64,50,74,82,80,114,70,68,60,90,74,0,88,70,76,78,88,0,76,80,0,46,78,64,64,78,62,58,74,50,78,72,60,76,86,66,68,86,94,78,78,84,88,52,78,86,88,56,75,60,86,72,60,74,80,44,58,94,88,84,94,74,70,62,70,78,62,88,78,88,90,72,76,92,58,74,62,76,70,72,60,70],\"yaxis\":\"y\",\"type\":\"bar\"}],                        {\"template\":{\"data\":{\"histogram2dcontour\":[{\"type\":\"histogram2dcontour\",\"colorbar\":{\"outlinewidth\":0,\"ticks\":\"\"},\"colorscale\":[[0.0,\"#0d0887\"],[0.1111111111111111,\"#46039f\"],[0.2222222222222222,\"#7201a8\"],[0.3333333333333333,\"#9c179e\"],[0.4444444444444444,\"#bd3786\"],[0.5555555555555556,\"#d8576b\"],[0.6666666666666666,\"#ed7953\"],[0.7777777777777778,\"#fb9f3a\"],[0.8888888888888888,\"#fdca26\"],[1.0,\"#f0f921\"]]}],\"choropleth\":[{\"type\":\"choropleth\",\"colorbar\":{\"outlinewidth\":0,\"ticks\":\"\"}}],\"histogram2d\":[{\"type\":\"histogram2d\",\"colorbar\":{\"outlinewidth\":0,\"ticks\":\"\"},\"colorscale\":[[0.0,\"#0d0887\"],[0.1111111111111111,\"#46039f\"],[0.2222222222222222,\"#7201a8\"],[0.3333333333333333,\"#9c179e\"],[0.4444444444444444,\"#bd3786\"],[0.5555555555555556,\"#d8576b\"],[0.6666666666666666,\"#ed7953\"],[0.7777777777777778,\"#fb9f3a\"],[0.8888888888888888,\"#fdca26\"],[1.0,\"#f0f921\"]]}],\"heatmap\":[{\"type\":\"heatmap\",\"colorbar\":{\"outlinewidth\":0,\"ticks\":\"\"},\"colorscale\":[[0.0,\"#0d0887\"],[0.1111111111111111,\"#46039f\"],[0.2222222222222222,\"#7201a8\"],[0.3333333333333333,\"#9c179e\"],[0.4444444444444444,\"#bd3786\"],[0.5555555555555556,\"#d8576b\"],[0.6666666666666666,\"#ed7953\"],[0.7777777777777778,\"#fb9f3a\"],[0.8888888888888888,\"#fdca26\"],[1.0,\"#f0f921\"]]}],\"heatmapgl\":[{\"type\":\"heatmapgl\",\"colorbar\":{\"outlinewidth\":0,\"ticks\":\"\"},\"colorscale\":[[0.0,\"#0d0887\"],[0.1111111111111111,\"#46039f\"],[0.2222222222222222,\"#7201a8\"],[0.3333333333333333,\"#9c179e\"],[0.4444444444444444,\"#bd3786\"],[0.5555555555555556,\"#d8576b\"],[0.6666666666666666,\"#ed7953\"],[0.7777777777777778,\"#fb9f3a\"],[0.8888888888888888,\"#fdca26\"],[1.0,\"#f0f921\"]]}],\"contourcarpet\":[{\"type\":\"contourcarpet\",\"colorbar\":{\"outlinewidth\":0,\"ticks\":\"\"}}],\"contour\":[{\"type\":\"contour\",\"colorbar\":{\"outlinewidth\":0,\"ticks\":\"\"},\"colorscale\":[[0.0,\"#0d0887\"],[0.1111111111111111,\"#46039f\"],[0.2222222222222222,\"#7201a8\"],[0.3333333333333333,\"#9c179e\"],[0.4444444444444444,\"#bd3786\"],[0.5555555555555556,\"#d8576b\"],[0.6666666666666666,\"#ed7953\"],[0.7777777777777778,\"#fb9f3a\"],[0.8888888888888888,\"#fdca26\"],[1.0,\"#f0f921\"]]}],\"surface\":[{\"type\":\"surface\",\"colorbar\":{\"outlinewidth\":0,\"ticks\":\"\"},\"colorscale\":[[0.0,\"#0d0887\"],[0.1111111111111111,\"#46039f\"],[0.2222222222222222,\"#7201a8\"],[0.3333333333333333,\"#9c179e\"],[0.4444444444444444,\"#bd3786\"],[0.5555555555555556,\"#d8576b\"],[0.6666666666666666,\"#ed7953\"],[0.7777777777777778,\"#fb9f3a\"],[0.8888888888888888,\"#fdca26\"],[1.0,\"#f0f921\"]]}],\"mesh3d\":[{\"type\":\"mesh3d\",\"colorbar\":{\"outlinewidth\":0,\"ticks\":\"\"}}],\"scatter\":[{\"fillpattern\":{\"fillmode\":\"overlay\",\"size\":10,\"solidity\":0.2},\"type\":\"scatter\"}],\"parcoords\":[{\"type\":\"parcoords\",\"line\":{\"colorbar\":{\"outlinewidth\":0,\"ticks\":\"\"}}}],\"scatterpolargl\":[{\"type\":\"scatterpolargl\",\"marker\":{\"colorbar\":{\"outlinewidth\":0,\"ticks\":\"\"}}}],\"bar\":[{\"error_x\":{\"color\":\"#2a3f5f\"},\"error_y\":{\"color\":\"#2a3f5f\"},\"marker\":{\"line\":{\"color\":\"#E5ECF6\",\"width\":0.5},\"pattern\":{\"fillmode\":\"overlay\",\"size\":10,\"solidity\":0.2}},\"type\":\"bar\"}],\"scattergeo\":[{\"type\":\"scattergeo\",\"marker\":{\"colorbar\":{\"outlinewidth\":0,\"ticks\":\"\"}}}],\"scatterpolar\":[{\"type\":\"scatterpolar\",\"marker\":{\"colorbar\":{\"outlinewidth\":0,\"ticks\":\"\"}}}],\"histogram\":[{\"marker\":{\"pattern\":{\"fillmode\":\"overlay\",\"size\":10,\"solidity\":0.2}},\"type\":\"histogram\"}],\"scattergl\":[{\"type\":\"scattergl\",\"marker\":{\"colorbar\":{\"outlinewidth\":0,\"ticks\":\"\"}}}],\"scatter3d\":[{\"type\":\"scatter3d\",\"line\":{\"colorbar\":{\"outlinewidth\":0,\"ticks\":\"\"}},\"marker\":{\"colorbar\":{\"outlinewidth\":0,\"ticks\":\"\"}}}],\"scattermapbox\":[{\"type\":\"scattermapbox\",\"marker\":{\"colorbar\":{\"outlinewidth\":0,\"ticks\":\"\"}}}],\"scatterternary\":[{\"type\":\"scatterternary\",\"marker\":{\"colorbar\":{\"outlinewidth\":0,\"ticks\":\"\"}}}],\"scattercarpet\":[{\"type\":\"scattercarpet\",\"marker\":{\"colorbar\":{\"outlinewidth\":0,\"ticks\":\"\"}}}],\"carpet\":[{\"aaxis\":{\"endlinecolor\":\"#2a3f5f\",\"gridcolor\":\"white\",\"linecolor\":\"white\",\"minorgridcolor\":\"white\",\"startlinecolor\":\"#2a3f5f\"},\"baxis\":{\"endlinecolor\":\"#2a3f5f\",\"gridcolor\":\"white\",\"linecolor\":\"white\",\"minorgridcolor\":\"white\",\"startlinecolor\":\"#2a3f5f\"},\"type\":\"carpet\"}],\"table\":[{\"cells\":{\"fill\":{\"color\":\"#EBF0F8\"},\"line\":{\"color\":\"white\"}},\"header\":{\"fill\":{\"color\":\"#C8D4E3\"},\"line\":{\"color\":\"white\"}},\"type\":\"table\"}],\"barpolar\":[{\"marker\":{\"line\":{\"color\":\"#E5ECF6\",\"width\":0.5},\"pattern\":{\"fillmode\":\"overlay\",\"size\":10,\"solidity\":0.2}},\"type\":\"barpolar\"}],\"pie\":[{\"automargin\":true,\"type\":\"pie\"}]},\"layout\":{\"autotypenumbers\":\"strict\",\"colorway\":[\"#636efa\",\"#EF553B\",\"#00cc96\",\"#ab63fa\",\"#FFA15A\",\"#19d3f3\",\"#FF6692\",\"#B6E880\",\"#FF97FF\",\"#FECB52\"],\"font\":{\"color\":\"#2a3f5f\"},\"hovermode\":\"closest\",\"hoverlabel\":{\"align\":\"left\"},\"paper_bgcolor\":\"white\",\"plot_bgcolor\":\"#E5ECF6\",\"polar\":{\"bgcolor\":\"#E5ECF6\",\"angularaxis\":{\"gridcolor\":\"white\",\"linecolor\":\"white\",\"ticks\":\"\"},\"radialaxis\":{\"gridcolor\":\"white\",\"linecolor\":\"white\",\"ticks\":\"\"}},\"ternary\":{\"bgcolor\":\"#E5ECF6\",\"aaxis\":{\"gridcolor\":\"white\",\"linecolor\":\"white\",\"ticks\":\"\"},\"baxis\":{\"gridcolor\":\"white\",\"linecolor\":\"white\",\"ticks\":\"\"},\"caxis\":{\"gridcolor\":\"white\",\"linecolor\":\"white\",\"ticks\":\"\"}},\"coloraxis\":{\"colorbar\":{\"outlinewidth\":0,\"ticks\":\"\"}},\"colorscale\":{\"sequential\":[[0.0,\"#0d0887\"],[0.1111111111111111,\"#46039f\"],[0.2222222222222222,\"#7201a8\"],[0.3333333333333333,\"#9c179e\"],[0.4444444444444444,\"#bd3786\"],[0.5555555555555556,\"#d8576b\"],[0.6666666666666666,\"#ed7953\"],[0.7777777777777778,\"#fb9f3a\"],[0.8888888888888888,\"#fdca26\"],[1.0,\"#f0f921\"]],\"sequentialminus\":[[0.0,\"#0d0887\"],[0.1111111111111111,\"#46039f\"],[0.2222222222222222,\"#7201a8\"],[0.3333333333333333,\"#9c179e\"],[0.4444444444444444,\"#bd3786\"],[0.5555555555555556,\"#d8576b\"],[0.6666666666666666,\"#ed7953\"],[0.7777777777777778,\"#fb9f3a\"],[0.8888888888888888,\"#fdca26\"],[1.0,\"#f0f921\"]],\"diverging\":[[0,\"#8e0152\"],[0.1,\"#c51b7d\"],[0.2,\"#de77ae\"],[0.3,\"#f1b6da\"],[0.4,\"#fde0ef\"],[0.5,\"#f7f7f7\"],[0.6,\"#e6f5d0\"],[0.7,\"#b8e186\"],[0.8,\"#7fbc41\"],[0.9,\"#4d9221\"],[1,\"#276419\"]]},\"xaxis\":{\"gridcolor\":\"white\",\"linecolor\":\"white\",\"ticks\":\"\",\"title\":{\"standoff\":15},\"zerolinecolor\":\"white\",\"automargin\":true,\"zerolinewidth\":2},\"yaxis\":{\"gridcolor\":\"white\",\"linecolor\":\"white\",\"ticks\":\"\",\"title\":{\"standoff\":15},\"zerolinecolor\":\"white\",\"automargin\":true,\"zerolinewidth\":2},\"scene\":{\"xaxis\":{\"backgroundcolor\":\"#E5ECF6\",\"gridcolor\":\"white\",\"linecolor\":\"white\",\"showbackground\":true,\"ticks\":\"\",\"zerolinecolor\":\"white\",\"gridwidth\":2},\"yaxis\":{\"backgroundcolor\":\"#E5ECF6\",\"gridcolor\":\"white\",\"linecolor\":\"white\",\"showbackground\":true,\"ticks\":\"\",\"zerolinecolor\":\"white\",\"gridwidth\":2},\"zaxis\":{\"backgroundcolor\":\"#E5ECF6\",\"gridcolor\":\"white\",\"linecolor\":\"white\",\"showbackground\":true,\"ticks\":\"\",\"zerolinecolor\":\"white\",\"gridwidth\":2}},\"shapedefaults\":{\"line\":{\"color\":\"#2a3f5f\"}},\"annotationdefaults\":{\"arrowcolor\":\"#2a3f5f\",\"arrowhead\":0,\"arrowwidth\":1},\"geo\":{\"bgcolor\":\"white\",\"landcolor\":\"#E5ECF6\",\"subunitcolor\":\"white\",\"showland\":true,\"showlakes\":true,\"lakecolor\":\"white\"},\"title\":{\"x\":0.05},\"mapbox\":{\"style\":\"light\"}}},\"xaxis\":{\"anchor\":\"y\",\"domain\":[0.0,1.0],\"title\":{\"text\":\"Glucose\"}},\"yaxis\":{\"anchor\":\"x\",\"domain\":[0.0,1.0],\"title\":{\"text\":\"BloodPressure\"}},\"legend\":{\"tracegroupgap\":0},\"margin\":{\"t\":60},\"barmode\":\"relative\"},                        {\"responsive\": true}                    ).then(function(){\n                            \nvar gd = document.getElementById('5f23248a-9e07-4be5-8dab-76edb09d91d2');\nvar x = new MutationObserver(function (mutations, observer) {{\n        var display = window.getComputedStyle(gd).display;\n        if (!display || display === 'none') {{\n            console.log([gd, 'removed!']);\n            Plotly.purge(gd);\n            observer.disconnect();\n        }}\n}});\n\n// Listen for the removal of the full notebook cells\nvar notebookContainer = gd.closest('#notebook-container');\nif (notebookContainer) {{\n    x.observe(notebookContainer, {childList: true});\n}}\n\n// Listen for the clearing of the current output cell\nvar outputEl = gd.closest('.output');\nif (outputEl) {{\n    x.observe(outputEl, {childList: true});\n}}\n\n                        })                };                            </script>        </div>\n</body>\n</html>"
     },
     "execution_count": 26,
     "metadata": {
     },
     "output_type": "execute_result"
    }
   ],
   "source": [
    "import plotly.express as px\n",
    "fig = px.bar(diabetes, x='Glucose', y='BloodPressure')\n",
    "fig.show()"
   ]
  },
  {
   "cell_type": "code",
   "execution_count": 0,
   "metadata": {
    "collapsed": false
   },
   "outputs": [
   ],
   "source": [
    "df = px.data.gapminder().query(\"country=='Canada'\")\n",
    "fig = px.line(, x=\"year\", y=\"lifeExp\", title='Life expectancy in Canada')\n",
    "fig.show()"
   ]
  },
  {
   "cell_type": "code",
   "execution_count": 8,
   "metadata": {
    "collapsed": false
   },
   "outputs": [
    {
     "ename": "ValueError",
     "evalue": "\n    Invalid value of type 'builtins.str' received for the 'orientation' property of bar\n        Received value: 'type'\n\n    The 'orientation' property is an enumeration that may be specified as:\n      - One of the following enumeration values:\n            ['v', 'h']",
     "output_type": "error",
     "traceback": [
      "\u001b[0;31m---------------------------------------------------------------------------\u001b[0m",
      "\u001b[0;31mValueError\u001b[0m                                Traceback (most recent call last)",
      "Input \u001b[0;32mIn [8]\u001b[0m, in \u001b[0;36m<cell line: 2>\u001b[0;34m()\u001b[0m\n\u001b[1;32m      1\u001b[0m \u001b[38;5;28;01mimport\u001b[39;00m \u001b[38;5;21;01mplotly\u001b[39;00m\u001b[38;5;21;01m.\u001b[39;00m\u001b[38;5;21;01mexpress\u001b[39;00m \u001b[38;5;28;01mas\u001b[39;00m \u001b[38;5;21;01mpx\u001b[39;00m\n\u001b[0;32m----> 2\u001b[0m fig \u001b[38;5;241m=\u001b[39m \u001b[43mpx\u001b[49m\u001b[38;5;241;43m.\u001b[39;49m\u001b[43mbar\u001b[49m\u001b[43m(\u001b[49m\u001b[43mnetflix_titles\u001b[49m\u001b[43m,\u001b[49m\u001b[43m \u001b[49m\u001b[43mx\u001b[49m\u001b[38;5;241;43m=\u001b[39;49m\u001b[38;5;124;43m\"\u001b[39;49m\u001b[38;5;124;43mcountry\u001b[39;49m\u001b[38;5;124;43m\"\u001b[39;49m\u001b[43m,\u001b[49m\u001b[43m \u001b[49m\u001b[43my\u001b[49m\u001b[38;5;241;43m=\u001b[39;49m\u001b[38;5;124;43m\"\u001b[39;49m\u001b[38;5;124;43mrating\u001b[39;49m\u001b[38;5;124;43m\"\u001b[39;49m\u001b[43m,\u001b[49m\u001b[43m \u001b[49m\u001b[43morientation\u001b[49m\u001b[38;5;241;43m=\u001b[39;49m\u001b[38;5;124;43m'\u001b[39;49m\u001b[38;5;124;43mtype\u001b[39;49m\u001b[38;5;124;43m'\u001b[39;49m\u001b[43m)\u001b[49m\n\u001b[1;32m      3\u001b[0m fig\u001b[38;5;241m.\u001b[39mshow()\n",
      "File \u001b[0;32m~/miniconda3/lib/python3.9/site-packages/plotly/express/_chart_types.py:373\u001b[0m, in \u001b[0;36mbar\u001b[0;34m(data_frame, x, y, color, pattern_shape, facet_row, facet_col, facet_col_wrap, facet_row_spacing, facet_col_spacing, hover_name, hover_data, custom_data, text, base, error_x, error_x_minus, error_y, error_y_minus, animation_frame, animation_group, category_orders, labels, color_discrete_sequence, color_discrete_map, color_continuous_scale, pattern_shape_sequence, pattern_shape_map, range_color, color_continuous_midpoint, opacity, orientation, barmode, log_x, log_y, range_x, range_y, text_auto, title, template, width, height)\u001b[0m\n\u001b[1;32m    325\u001b[0m \u001b[38;5;28;01mdef\u001b[39;00m \u001b[38;5;21mbar\u001b[39m(\n\u001b[1;32m    326\u001b[0m     data_frame\u001b[38;5;241m=\u001b[39m\u001b[38;5;28;01mNone\u001b[39;00m,\n\u001b[1;32m    327\u001b[0m     x\u001b[38;5;241m=\u001b[39m\u001b[38;5;28;01mNone\u001b[39;00m,\n\u001b[0;32m   (...)\u001b[0m\n\u001b[1;32m    367\u001b[0m     height\u001b[38;5;241m=\u001b[39m\u001b[38;5;28;01mNone\u001b[39;00m,\n\u001b[1;32m    368\u001b[0m ) \u001b[38;5;241m-\u001b[39m\u001b[38;5;241m>\u001b[39m go\u001b[38;5;241m.\u001b[39mFigure:\n\u001b[1;32m    369\u001b[0m     \u001b[38;5;124;03m\"\"\"\u001b[39;00m\n\u001b[1;32m    370\u001b[0m \u001b[38;5;124;03m    In a bar plot, each row of `data_frame` is represented as a rectangular\u001b[39;00m\n\u001b[1;32m    371\u001b[0m \u001b[38;5;124;03m    mark.\u001b[39;00m\n\u001b[1;32m    372\u001b[0m \u001b[38;5;124;03m    \"\"\"\u001b[39;00m\n\u001b[0;32m--> 373\u001b[0m     \u001b[38;5;28;01mreturn\u001b[39;00m \u001b[43mmake_figure\u001b[49m\u001b[43m(\u001b[49m\n\u001b[1;32m    374\u001b[0m \u001b[43m        \u001b[49m\u001b[43margs\u001b[49m\u001b[38;5;241;43m=\u001b[39;49m\u001b[38;5;28;43mlocals\u001b[39;49m\u001b[43m(\u001b[49m\u001b[43m)\u001b[49m\u001b[43m,\u001b[49m\n\u001b[1;32m    375\u001b[0m \u001b[43m        \u001b[49m\u001b[43mconstructor\u001b[49m\u001b[38;5;241;43m=\u001b[39;49m\u001b[43mgo\u001b[49m\u001b[38;5;241;43m.\u001b[39;49m\u001b[43mBar\u001b[49m\u001b[43m,\u001b[49m\n\u001b[1;32m    376\u001b[0m \u001b[43m        \u001b[49m\u001b[43mtrace_patch\u001b[49m\u001b[38;5;241;43m=\u001b[39;49m\u001b[38;5;28;43mdict\u001b[39;49m\u001b[43m(\u001b[49m\u001b[43mtextposition\u001b[49m\u001b[38;5;241;43m=\u001b[39;49m\u001b[38;5;124;43m\"\u001b[39;49m\u001b[38;5;124;43mauto\u001b[39;49m\u001b[38;5;124;43m\"\u001b[39;49m\u001b[43m)\u001b[49m\u001b[43m,\u001b[49m\n\u001b[1;32m    377\u001b[0m \u001b[43m        \u001b[49m\u001b[43mlayout_patch\u001b[49m\u001b[38;5;241;43m=\u001b[39;49m\u001b[38;5;28;43mdict\u001b[39;49m\u001b[43m(\u001b[49m\u001b[43mbarmode\u001b[49m\u001b[38;5;241;43m=\u001b[39;49m\u001b[43mbarmode\u001b[49m\u001b[43m)\u001b[49m\u001b[43m,\u001b[49m\n\u001b[1;32m    378\u001b[0m \u001b[43m    \u001b[49m\u001b[43m)\u001b[49m\n",
      "File \u001b[0;32m~/miniconda3/lib/python3.9/site-packages/plotly/express/_core.py:2129\u001b[0m, in \u001b[0;36mmake_figure\u001b[0;34m(args, constructor, trace_patch, layout_patch)\u001b[0m\n\u001b[1;32m   2124\u001b[0m         group[var] \u001b[38;5;241m=\u001b[39m \u001b[38;5;241m100.0\u001b[39m \u001b[38;5;241m*\u001b[39m group[var] \u001b[38;5;241m/\u001b[39m group_sum\n\u001b[1;32m   2126\u001b[0m patch, fit_results \u001b[38;5;241m=\u001b[39m make_trace_kwargs(\n\u001b[1;32m   2127\u001b[0m     args, trace_spec, group, mapping_labels\u001b[38;5;241m.\u001b[39mcopy(), sizeref\n\u001b[1;32m   2128\u001b[0m )\n\u001b[0;32m-> 2129\u001b[0m \u001b[43mtrace\u001b[49m\u001b[38;5;241;43m.\u001b[39;49m\u001b[43mupdate\u001b[49m\u001b[43m(\u001b[49m\u001b[43mpatch\u001b[49m\u001b[43m)\u001b[49m\n\u001b[1;32m   2130\u001b[0m \u001b[38;5;28;01mif\u001b[39;00m fit_results \u001b[38;5;129;01mis\u001b[39;00m \u001b[38;5;129;01mnot\u001b[39;00m \u001b[38;5;28;01mNone\u001b[39;00m:\n\u001b[1;32m   2131\u001b[0m     trendline_rows\u001b[38;5;241m.\u001b[39mappend(mapping_labels\u001b[38;5;241m.\u001b[39mcopy())\n",
      "File \u001b[0;32m~/miniconda3/lib/python3.9/site-packages/plotly/basedatatypes.py:5124\u001b[0m, in \u001b[0;36mBasePlotlyType.update\u001b[0;34m(self, dict1, overwrite, **kwargs)\u001b[0m\n\u001b[1;32m   5122\u001b[0m         BaseFigure\u001b[38;5;241m.\u001b[39m_perform_update(\u001b[38;5;28mself\u001b[39m, kwargs, overwrite\u001b[38;5;241m=\u001b[39moverwrite)\n\u001b[1;32m   5123\u001b[0m \u001b[38;5;28;01melse\u001b[39;00m:\n\u001b[0;32m-> 5124\u001b[0m     \u001b[43mBaseFigure\u001b[49m\u001b[38;5;241;43m.\u001b[39;49m\u001b[43m_perform_update\u001b[49m\u001b[43m(\u001b[49m\u001b[38;5;28;43mself\u001b[39;49m\u001b[43m,\u001b[49m\u001b[43m \u001b[49m\u001b[43mdict1\u001b[49m\u001b[43m,\u001b[49m\u001b[43m \u001b[49m\u001b[43moverwrite\u001b[49m\u001b[38;5;241;43m=\u001b[39;49m\u001b[43moverwrite\u001b[49m\u001b[43m)\u001b[49m\n\u001b[1;32m   5125\u001b[0m     BaseFigure\u001b[38;5;241m.\u001b[39m_perform_update(\u001b[38;5;28mself\u001b[39m, kwargs, overwrite\u001b[38;5;241m=\u001b[39moverwrite)\n\u001b[1;32m   5127\u001b[0m \u001b[38;5;28;01mreturn\u001b[39;00m \u001b[38;5;28mself\u001b[39m\n",
      "File \u001b[0;32m~/miniconda3/lib/python3.9/site-packages/plotly/basedatatypes.py:3929\u001b[0m, in \u001b[0;36mBaseFigure._perform_update\u001b[0;34m(plotly_obj, update_obj, overwrite)\u001b[0m\n\u001b[1;32m   3926\u001b[0m                 plotly_obj[key] \u001b[38;5;241m=\u001b[39m val\n\u001b[1;32m   3927\u001b[0m         \u001b[38;5;28;01melse\u001b[39;00m:\n\u001b[1;32m   3928\u001b[0m             \u001b[38;5;66;03m# Assign non-compound value\u001b[39;00m\n\u001b[0;32m-> 3929\u001b[0m             plotly_obj[key] \u001b[38;5;241m=\u001b[39m val\n\u001b[1;32m   3931\u001b[0m \u001b[38;5;28;01melif\u001b[39;00m \u001b[38;5;28misinstance\u001b[39m(plotly_obj, \u001b[38;5;28mtuple\u001b[39m):\n\u001b[1;32m   3933\u001b[0m     \u001b[38;5;28;01mif\u001b[39;00m \u001b[38;5;28mlen\u001b[39m(update_obj) \u001b[38;5;241m==\u001b[39m \u001b[38;5;241m0\u001b[39m:\n\u001b[1;32m   3934\u001b[0m         \u001b[38;5;66;03m# Nothing to do\u001b[39;00m\n",
      "File \u001b[0;32m~/miniconda3/lib/python3.9/site-packages/plotly/basedatatypes.py:4859\u001b[0m, in \u001b[0;36mBasePlotlyType.__setitem__\u001b[0;34m(self, prop, value)\u001b[0m\n\u001b[1;32m   4855\u001b[0m         \u001b[38;5;28mself\u001b[39m\u001b[38;5;241m.\u001b[39m_set_array_prop(prop, value)\n\u001b[1;32m   4857\u001b[0m     \u001b[38;5;66;03m# ### Handle simple property ###\u001b[39;00m\n\u001b[1;32m   4858\u001b[0m     \u001b[38;5;28;01melse\u001b[39;00m:\n\u001b[0;32m-> 4859\u001b[0m         \u001b[38;5;28;43mself\u001b[39;49m\u001b[38;5;241;43m.\u001b[39;49m\u001b[43m_set_prop\u001b[49m\u001b[43m(\u001b[49m\u001b[43mprop\u001b[49m\u001b[43m,\u001b[49m\u001b[43m \u001b[49m\u001b[43mvalue\u001b[49m\u001b[43m)\u001b[49m\n\u001b[1;32m   4860\u001b[0m \u001b[38;5;28;01melse\u001b[39;00m:\n\u001b[1;32m   4861\u001b[0m     \u001b[38;5;66;03m# Make sure properties dict is initialized\u001b[39;00m\n\u001b[1;32m   4862\u001b[0m     \u001b[38;5;28mself\u001b[39m\u001b[38;5;241m.\u001b[39m_init_props()\n",
      "File \u001b[0;32m~/miniconda3/lib/python3.9/site-packages/plotly/basedatatypes.py:5203\u001b[0m, in \u001b[0;36mBasePlotlyType._set_prop\u001b[0;34m(self, prop, val)\u001b[0m\n\u001b[1;32m   5201\u001b[0m         \u001b[38;5;28;01mreturn\u001b[39;00m\n\u001b[1;32m   5202\u001b[0m     \u001b[38;5;28;01melse\u001b[39;00m:\n\u001b[0;32m-> 5203\u001b[0m         \u001b[38;5;28;01mraise\u001b[39;00m err\n\u001b[1;32m   5205\u001b[0m \u001b[38;5;66;03m# val is None\u001b[39;00m\n\u001b[1;32m   5206\u001b[0m \u001b[38;5;66;03m# -----------\u001b[39;00m\n\u001b[1;32m   5207\u001b[0m \u001b[38;5;28;01mif\u001b[39;00m val \u001b[38;5;129;01mis\u001b[39;00m \u001b[38;5;28;01mNone\u001b[39;00m:\n\u001b[1;32m   5208\u001b[0m     \u001b[38;5;66;03m# Check if we should send null update\u001b[39;00m\n",
      "File \u001b[0;32m~/miniconda3/lib/python3.9/site-packages/plotly/basedatatypes.py:5198\u001b[0m, in \u001b[0;36mBasePlotlyType._set_prop\u001b[0;34m(self, prop, val)\u001b[0m\n\u001b[1;32m   5195\u001b[0m validator \u001b[38;5;241m=\u001b[39m \u001b[38;5;28mself\u001b[39m\u001b[38;5;241m.\u001b[39m_get_validator(prop)\n\u001b[1;32m   5197\u001b[0m \u001b[38;5;28;01mtry\u001b[39;00m:\n\u001b[0;32m-> 5198\u001b[0m     val \u001b[38;5;241m=\u001b[39m \u001b[43mvalidator\u001b[49m\u001b[38;5;241;43m.\u001b[39;49m\u001b[43mvalidate_coerce\u001b[49m\u001b[43m(\u001b[49m\u001b[43mval\u001b[49m\u001b[43m)\u001b[49m\n\u001b[1;32m   5199\u001b[0m \u001b[38;5;28;01mexcept\u001b[39;00m \u001b[38;5;167;01mValueError\u001b[39;00m \u001b[38;5;28;01mas\u001b[39;00m err:\n\u001b[1;32m   5200\u001b[0m     \u001b[38;5;28;01mif\u001b[39;00m \u001b[38;5;28mself\u001b[39m\u001b[38;5;241m.\u001b[39m_skip_invalid:\n",
      "File \u001b[0;32m~/miniconda3/lib/python3.9/site-packages/_plotly_utils/basevalidators.py:611\u001b[0m, in \u001b[0;36mEnumeratedValidator.validate_coerce\u001b[0;34m(self, v)\u001b[0m\n\u001b[1;32m    609\u001b[0m     v \u001b[38;5;241m=\u001b[39m \u001b[38;5;28mself\u001b[39m\u001b[38;5;241m.\u001b[39mperform_replacemenet(v)\n\u001b[1;32m    610\u001b[0m     \u001b[38;5;28;01mif\u001b[39;00m \u001b[38;5;129;01mnot\u001b[39;00m \u001b[38;5;28mself\u001b[39m\u001b[38;5;241m.\u001b[39min_values(v):\n\u001b[0;32m--> 611\u001b[0m         \u001b[38;5;28;43mself\u001b[39;49m\u001b[38;5;241;43m.\u001b[39;49m\u001b[43mraise_invalid_val\u001b[49m\u001b[43m(\u001b[49m\u001b[43mv\u001b[49m\u001b[43m)\u001b[49m\n\u001b[1;32m    612\u001b[0m \u001b[38;5;28;01mreturn\u001b[39;00m v\n",
      "File \u001b[0;32m~/miniconda3/lib/python3.9/site-packages/_plotly_utils/basevalidators.py:288\u001b[0m, in \u001b[0;36mBaseValidator.raise_invalid_val\u001b[0;34m(self, v, inds)\u001b[0m\n\u001b[1;32m    285\u001b[0m             \u001b[38;5;28;01mfor\u001b[39;00m i \u001b[38;5;129;01min\u001b[39;00m inds:\n\u001b[1;32m    286\u001b[0m                 name \u001b[38;5;241m+\u001b[39m\u001b[38;5;241m=\u001b[39m \u001b[38;5;124m\"\u001b[39m\u001b[38;5;124m[\u001b[39m\u001b[38;5;124m\"\u001b[39m \u001b[38;5;241m+\u001b[39m \u001b[38;5;28mstr\u001b[39m(i) \u001b[38;5;241m+\u001b[39m \u001b[38;5;124m\"\u001b[39m\u001b[38;5;124m]\u001b[39m\u001b[38;5;124m\"\u001b[39m\n\u001b[0;32m--> 288\u001b[0m         \u001b[38;5;28;01mraise\u001b[39;00m \u001b[38;5;167;01mValueError\u001b[39;00m(\n\u001b[1;32m    289\u001b[0m             \u001b[38;5;124;03m\"\"\"\u001b[39;00m\n\u001b[1;32m    290\u001b[0m \u001b[38;5;124;03m    Invalid value of type {typ} received for the '{name}' property of {pname}\u001b[39;00m\n\u001b[1;32m    291\u001b[0m \u001b[38;5;124;03m        Received value: {v}\u001b[39;00m\n\u001b[1;32m    292\u001b[0m \n\u001b[1;32m    293\u001b[0m \u001b[38;5;124;03m{valid_clr_desc}\"\"\"\u001b[39;00m\u001b[38;5;241m.\u001b[39mformat(\n\u001b[1;32m    294\u001b[0m                 name\u001b[38;5;241m=\u001b[39mname,\n\u001b[1;32m    295\u001b[0m                 pname\u001b[38;5;241m=\u001b[39m\u001b[38;5;28mself\u001b[39m\u001b[38;5;241m.\u001b[39mparent_name,\n\u001b[1;32m    296\u001b[0m                 typ\u001b[38;5;241m=\u001b[39mtype_str(v),\n\u001b[1;32m    297\u001b[0m                 v\u001b[38;5;241m=\u001b[39m\u001b[38;5;28mrepr\u001b[39m(v),\n\u001b[1;32m    298\u001b[0m                 valid_clr_desc\u001b[38;5;241m=\u001b[39m\u001b[38;5;28mself\u001b[39m\u001b[38;5;241m.\u001b[39mdescription(),\n\u001b[1;32m    299\u001b[0m             )\n\u001b[1;32m    300\u001b[0m         )\n",
      "\u001b[0;31mValueError\u001b[0m: \n    Invalid value of type 'builtins.str' received for the 'orientation' property of bar\n        Received value: 'type'\n\n    The 'orientation' property is an enumeration that may be specified as:\n      - One of the following enumeration values:\n            ['v', 'h']"
     ]
    }
   ],
   "source": [
    "import plotly.express as px\n",
    "fig = px.bar(netflix_titles, x=\"BloodPressure\", y=\"Glucose\", orientation='Outcome')\n",
    "fig.show()"
   ]
  },
  {
   "cell_type": "code",
   "execution_count": 35,
   "metadata": {
    "collapsed": false
   },
   "outputs": [
    {
     "data": {
      "text/html": "<html>\n<head><meta charset=\"utf-8\" /></head>\n<body>\n    <div>            <script src=\"https://cdnjs.cloudflare.com/ajax/libs/mathjax/2.7.5/MathJax.js?config=TeX-AMS-MML_SVG\"></script><script type=\"text/javascript\">if (window.MathJax && window.MathJax.Hub && && window.MathJax.Hub.Config) {window.MathJax.Hub.Config({SVG: {font: \"STIX-Web\"}});}</script>                <script type=\"text/javascript\">window.PlotlyConfig = {MathJaxConfig: 'local'};</script>\n        <script src=\"https://cdn.plot.ly/plotly-2.12.1.min.js\"></script>                <div id=\"d5cc3c3e-4225-4193-9516-00428f893918\" class=\"plotly-graph-div\" style=\"height:525px; width:100%;\"></div>            <script type=\"text/javascript\">                                    window.PLOTLYENV=window.PLOTLYENV || {};                                    if (document.getElementById(\"d5cc3c3e-4225-4193-9516-00428f893918\")) {                    Plotly.newPlot(                        \"d5cc3c3e-4225-4193-9516-00428f893918\",                        [{\"hovertemplate\":\"thalachh=150<br>chol=%{x}<br>age=%{y}<br>sex=%{marker.color}<extra></extra>\",\"legendgroup\":\"150\",\"marker\":{\"color\":[1,1,1,1,1,0,1],\"coloraxis\":\"coloraxis\",\"symbol\":\"circle\",\"size\":10},\"mode\":\"markers\",\"name\":\"150\",\"orientation\":\"v\",\"showlegend\":true,\"x\":[233,180,274,229,256,409,212],\"xaxis\":\"x\",\"y\":[63,42,68,57,48,56,67],\"yaxis\":\"y\",\"type\":\"scatter\"},{\"hovertemplate\":\"thalachh=187<br>chol=%{x}<br>age=%{y}<br>sex=%{marker.color}<extra></extra>\",\"legendgroup\":\"187\",\"marker\":{\"color\":[1],\"coloraxis\":\"coloraxis\",\"symbol\":\"diamond\",\"size\":10},\"mode\":\"markers\",\"name\":\"187\",\"orientation\":\"v\",\"showlegend\":true,\"x\":[250],\"xaxis\":\"x\",\"y\":[37],\"yaxis\":\"y\",\"type\":\"scatter\"},{\"hovertemplate\":\"thalachh=172<br>chol=%{x}<br>age=%{y}<br>sex=%{marker.color}<extra></extra>\",\"legendgroup\":\"172\",\"marker\":{\"color\":[0,0,1,0,0,0,0],\"coloraxis\":\"coloraxis\",\"symbol\":\"square\",\"size\":10},\"mode\":\"markers\",\"name\":\"172\",\"orientation\":\"v\",\"showlegend\":true,\"x\":[204,340,325,252,204,268,277],\"xaxis\":\"x\",\"y\":[41,58,52,63,46,41,67],\"yaxis\":\"y\",\"type\":\"scatter\"},{\"hovertemplate\":\"thalachh=178<br>chol=%{x}<br>age=%{y}<br>sex=%{marker.color}<extra></extra>\",\"legendgroup\":\"178\",\"marker\":{\"color\":[1,1,1,1,1],\"coloraxis\":\"coloraxis\",\"symbol\":\"x\",\"size\":10},\"mode\":\"markers\",\"name\":\"178\",\"orientation\":\"v\",\"showlegend\":true,\"x\":[236,226,199,298,244],\"xaxis\":\"x\",\"y\":[56,42,40,52,42],\"yaxis\":\"y\",\"type\":\"scatter\"},{\"hovertemplate\":\"thalachh=163<br>chol=%{x}<br>age=%{y}<br>sex=%{marker.color}<extra></extra>\",\"legendgroup\":\"163\",\"marker\":{\"color\":[0,0,1,0,0,0,1,1,1],\"coloraxis\":\"coloraxis\",\"symbol\":\"cross\",\"size\":10},\"mode\":\"markers\",\"name\":\"163\",\"orientation\":\"v\",\"showlegend\":true,\"x\":[354,209,196,201,306,269,221,233,254],\"xaxis\":\"x\",\"y\":[57,62,50,54,41,49,56,50,67],\"yaxis\":\"y\",\"type\":\"scatter\"},{\"hovertemplate\":\"thalachh=148<br>chol=%{x}<br>age=%{y}<br>sex=%{marker.color}<extra></extra>\",\"legendgroup\":\"148\",\"marker\":{\"color\":[1,0,1],\"coloraxis\":\"coloraxis\",\"symbol\":\"circle\",\"size\":10},\"mode\":\"markers\",\"name\":\"148\",\"orientation\":\"v\",\"showlegend\":true,\"x\":[192,269,208],\"xaxis\":\"x\",\"y\":[57,65,45],\"yaxis\":\"y\",\"type\":\"scatter\"},{\"hovertemplate\":\"thalachh=153<br>chol=%{x}<br>age=%{y}<br>sex=%{marker.color}<extra></extra>\",\"legendgroup\":\"153\",\"marker\":{\"color\":[0,1,1],\"coloraxis\":\"coloraxis\",\"symbol\":\"diamond\",\"size\":10},\"mode\":\"markers\",\"name\":\"153\",\"orientation\":\"v\",\"showlegend\":true,\"x\":[294,235,290],\"xaxis\":\"x\",\"y\":[56,41,44],\"yaxis\":\"y\",\"type\":\"scatter\"},{\"hovertemplate\":\"thalachh=173<br>chol=%{x}<br>age=%{y}<br>sex=%{marker.color}<extra></extra>\",\"legendgroup\":\"173\",\"marker\":{\"color\":[1,1,1,0,1,1,1,1],\"coloraxis\":\"coloraxis\",\"symbol\":\"square\",\"size\":10},\"mode\":\"markers\",\"name\":\"173\",\"orientation\":\"v\",\"showlegend\":true,\"x\":[263,246,126,209,175,175,224,299],\"xaxis\":\"x\",\"y\":[44,53,57,42,38,38,58,51],\"yaxis\":\"y\",\"type\":\"scatter\"},{\"hovertemplate\":\"thalachh=162<br>chol=%{x}<br>age=%{y}<br>sex=%{marker.color}<extra></extra>\",\"legendgroup\":\"162\",\"marker\":{\"color\":[1,0,0,1,0,1,0,1,1,1,1],\"coloraxis\":\"coloraxis\",\"symbol\":\"x\",\"size\":10},\"mode\":\"markers\",\"name\":\"162\",\"orientation\":\"v\",\"showlegend\":true,\"x\":[199,283,302,315,244,193,271,295,177,304,204],\"xaxis\":\"x\",\"y\":[52,58,71,43,50,56,49,42,59,77,59],\"yaxis\":\"y\",\"type\":\"scatter\"},{\"hovertemplate\":\"thalachh=174<br>chol=%{x}<br>age=%{y}<br>sex=%{marker.color}<extra></extra>\",\"legendgroup\":\"174\",\"marker\":{\"color\":[1,1,1,1,0],\"coloraxis\":\"coloraxis\",\"symbol\":\"cross\",\"size\":10},\"mode\":\"markers\",\"name\":\"174\",\"orientation\":\"v\",\"showlegend\":true,\"x\":[168,182,192,282,236],\"xaxis\":\"x\",\"y\":[57,34,35,65,57],\"yaxis\":\"y\",\"type\":\"scatter\"},{\"hovertemplate\":\"thalachh=160<br>chol=%{x}<br>age=%{y}<br>sex=%{marker.color}<extra></extra>\",\"legendgroup\":\"160\",\"marker\":{\"color\":[1,0,0,0,0,0,1,1,1],\"coloraxis\":\"coloraxis\",\"symbol\":\"circle\",\"size\":10},\"mode\":\"markers\",\"name\":\"160\",\"orientation\":\"v\",\"showlegend\":true,\"x\":[239,177,234,318,564,268,284,230,230],\"xaxis\":\"x\",\"y\":[54,46,53,60,67,62,58,60,52],\"yaxis\":\"y\",\"type\":\"scatter\"},{\"hovertemplate\":\"thalachh=139<br>chol=%{x}<br>age=%{y}<br>sex=%{marker.color}<extra></extra>\",\"legendgroup\":\"139\",\"marker\":{\"color\":[0,1],\"coloraxis\":\"coloraxis\",\"symbol\":\"diamond\",\"size\":10},\"mode\":\"markers\",\"name\":\"139\",\"orientation\":\"v\",\"showlegend\":true,\"x\":[275,188],\"xaxis\":\"x\",\"y\":[48,49],\"yaxis\":\"y\",\"type\":\"scatter\"},{\"hovertemplate\":\"thalachh=171<br>chol=%{x}<br>age=%{y}<br>sex=%{marker.color}<extra></extra>\",\"legendgroup\":\"171\",\"marker\":{\"color\":[1,1,0,1],\"coloraxis\":\"coloraxis\",\"symbol\":\"square\",\"size\":10},\"mode\":\"markers\",\"name\":\"171\",\"orientation\":\"v\",\"showlegend\":true,\"x\":[266,247,240,300],\"xaxis\":\"x\",\"y\":[49,43,60,58],\"yaxis\":\"y\",\"type\":\"scatter\"},{\"hovertemplate\":\"thalachh=144<br>chol=%{x}<br>age=%{y}<br>sex=%{marker.color}<extra></extra>\",\"legendgroup\":\"144\",\"marker\":{\"color\":[1,1,1,1,1,1,1],\"coloraxis\":\"coloraxis\",\"symbol\":\"x\",\"size\":10},\"mode\":\"markers\",\"name\":\"144\",\"orientation\":\"v\",\"showlegend\":true,\"x\":[211,220,253,249,249,169,187],\"xaxis\":\"x\",\"y\":[64,58,60,56,46,44,63],\"yaxis\":\"y\",\"type\":\"scatter\"},{\"hovertemplate\":\"thalachh=158<br>chol=%{x}<br>age=%{y}<br>sex=%{marker.color}<extra></extra>\",\"legendgroup\":\"158\",\"marker\":{\"color\":[0,1,0,1,1,1],\"coloraxis\":\"coloraxis\",\"symbol\":\"cross\",\"size\":10},\"mode\":\"markers\",\"name\":\"158\",\"orientation\":\"v\",\"showlegend\":true,\"x\":[219,201,214,335,172,248],\"xaxis\":\"x\",\"y\":[50,52,54,64,41,65],\"yaxis\":\"y\",\"type\":\"scatter\"},{\"hovertemplate\":\"thalachh=114<br>chol=%{x}<br>age=%{y}<br>sex=%{marker.color}<extra></extra>\",\"legendgroup\":\"114\",\"marker\":{\"color\":[0,1,0],\"coloraxis\":\"coloraxis\",\"symbol\":\"circle\",\"size\":10},\"mode\":\"markers\",\"name\":\"114\",\"orientation\":\"v\",\"showlegend\":true,\"x\":[226,167,225],\"xaxis\":\"x\",\"y\":[66,40,65],\"yaxis\":\"y\",\"type\":\"scatter\"},{\"hovertemplate\":\"thalachh=151<br>chol=%{x}<br>age=%{y}<br>sex=%{marker.color}<extra></extra>\",\"legendgroup\":\"151\",\"marker\":{\"color\":[0,0,1,1],\"coloraxis\":\"coloraxis\",\"symbol\":\"diamond\",\"size\":10},\"mode\":\"markers\",\"name\":\"151\",\"orientation\":\"v\",\"showlegend\":true,\"x\":[239,360,302,277],\"xaxis\":\"x\",\"y\":[69,65,66,68],\"yaxis\":\"y\",\"type\":\"scatter\"},{\"hovertemplate\":\"thalachh=161<br>chol=%{x}<br>age=%{y}<br>sex=%{marker.color}<extra></extra>\",\"legendgroup\":\"161\",\"marker\":{\"color\":[1,0,1,1,1],\"coloraxis\":\"coloraxis\",\"symbol\":\"square\",\"size\":10},\"mode\":\"markers\",\"name\":\"161\",\"orientation\":\"v\",\"showlegend\":true,\"x\":[234,250,211,255,203],\"xaxis\":\"x\",\"y\":[59,55,43,52,61],\"yaxis\":\"y\",\"type\":\"scatter\"},{\"hovertemplate\":\"thalachh=179<br>chol=%{x}<br>age=%{y}<br>sex=%{marker.color}<extra></extra>\",\"legendgroup\":\"179\",\"marker\":{\"color\":[1,1,0,0,1],\"coloraxis\":\"coloraxis\",\"symbol\":\"x\",\"size\":10},\"mode\":\"markers\",\"name\":\"179\",\"orientation\":\"v\",\"showlegend\":true,\"x\":[233,250,195,199,253],\"xaxis\":\"x\",\"y\":[44,41,63,39,47],\"yaxis\":\"y\",\"type\":\"scatter\"},{\"hovertemplate\":\"thalachh=137<br>chol=%{x}<br>age=%{y}<br>sex=%{marker.color}<extra></extra>\",\"legendgroup\":\"137\",\"marker\":{\"color\":[1],\"coloraxis\":\"coloraxis\",\"symbol\":\"cross\",\"size\":10},\"mode\":\"markers\",\"name\":\"137\",\"orientation\":\"v\",\"showlegend\":true,\"x\":[243],\"xaxis\":\"x\",\"y\":[61],\"yaxis\":\"y\",\"type\":\"scatter\"},{\"hovertemplate\":\"thalachh=157<br>chol=%{x}<br>age=%{y}<br>sex=%{marker.color}<extra></extra>\",\"legendgroup\":\"157\",\"marker\":{\"color\":[1,0,0,0,0],\"coloraxis\":\"coloraxis\",\"symbol\":\"circle\",\"size\":10},\"mode\":\"markers\",\"name\":\"157\",\"orientation\":\"v\",\"showlegend\":true,\"x\":[212,417,394,295,258],\"xaxis\":\"x\",\"y\":[59,65,62,51,60],\"yaxis\":\"y\",\"type\":\"scatter\"},{\"hovertemplate\":\"thalachh=123<br>chol=%{x}<br>age=%{y}<br>sex=%{marker.color}<extra></extra>\",\"legendgroup\":\"123\",\"marker\":{\"color\":[1,0],\"coloraxis\":\"coloraxis\",\"symbol\":\"diamond\",\"size\":10},\"mode\":\"markers\",\"name\":\"123\",\"orientation\":\"v\",\"showlegend\":true,\"x\":[175,241],\"xaxis\":\"x\",\"y\":[51,57],\"yaxis\":\"y\",\"type\":\"scatter\"},{\"hovertemplate\":\"thalachh=152<br>chol=%{x}<br>age=%{y}<br>sex=%{marker.color}<extra></extra>\",\"legendgroup\":\"152\",\"marker\":{\"color\":[1,1,0,0,0,0,1,0],\"coloraxis\":\"coloraxis\",\"symbol\":\"square\",\"size\":10},\"mode\":\"markers\",\"name\":\"152\",\"orientation\":\"v\",\"showlegend\":true,\"x\":[197,273,236,243,278,220,243,319],\"xaxis\":\"x\",\"y\":[53,54,45,46,66,39,47,58],\"yaxis\":\"y\",\"type\":\"scatter\"},{\"hovertemplate\":\"thalachh=168<br>chol=%{x}<br>age=%{y}<br>sex=%{marker.color}<extra></extra>\",\"legendgroup\":\"168\",\"marker\":{\"color\":[0,1,1,1,1],\"coloraxis\":\"coloraxis\",\"symbol\":\"x\",\"size\":10},\"mode\":\"markers\",\"name\":\"168\",\"orientation\":\"v\",\"showlegend\":true,\"x\":[198,207,214,229,212],\"xaxis\":\"x\",\"y\":[41,57,41,48,52],\"yaxis\":\"y\",\"type\":\"scatter\"},{\"hovertemplate\":\"thalachh=140<br>chol=%{x}<br>age=%{y}<br>sex=%{marker.color}<extra></extra>\",\"legendgroup\":\"140\",\"marker\":{\"color\":[1,1,1,1,1,1],\"coloraxis\":\"coloraxis\",\"symbol\":\"cross\",\"size\":10},\"mode\":\"markers\",\"name\":\"140\",\"orientation\":\"v\",\"showlegend\":true,\"x\":[177,208,326,260,219,318],\"xaxis\":\"x\",\"y\":[65,62,59,61,39,58],\"yaxis\":\"y\",\"type\":\"scatter\"},{\"hovertemplate\":\"thalachh=188<br>chol=%{x}<br>age=%{y}<br>sex=%{marker.color}<extra></extra>\",\"legendgroup\":\"188\",\"marker\":{\"color\":[1],\"coloraxis\":\"coloraxis\",\"symbol\":\"circle\",\"size\":10},\"mode\":\"markers\",\"name\":\"188\",\"orientation\":\"v\",\"showlegend\":true,\"x\":[219],\"xaxis\":\"x\",\"y\":[44],\"yaxis\":\"y\",\"type\":\"scatter\"},{\"hovertemplate\":\"thalachh=125<br>chol=%{x}<br>age=%{y}<br>sex=%{marker.color}<extra></extra>\",\"legendgroup\":\"125\",\"marker\":{\"color\":[1,0,1,1,1,1,1],\"coloraxis\":\"coloraxis\",\"symbol\":\"diamond\",\"size\":10},\"mode\":\"markers\",\"name\":\"125\",\"orientation\":\"v\",\"showlegend\":true,\"x\":[213,149,174,299,273,166,315],\"xaxis\":\"x\",\"y\":[51,71,70,67,59,61,42],\"yaxis\":\"y\",\"type\":\"scatter\"},{\"hovertemplate\":\"thalachh=170<br>chol=%{x}<br>age=%{y}<br>sex=%{marker.color}<extra></extra>\",\"legendgroup\":\"170\",\"marker\":{\"color\":[0,1,1,0,1],\"coloraxis\":\"coloraxis\",\"symbol\":\"square\",\"size\":10},\"mode\":\"markers\",\"name\":\"170\",\"orientation\":\"v\",\"showlegend\":true,\"x\":[304,220,308,215,293],\"xaxis\":\"x\",\"y\":[54,44,45,37,60],\"yaxis\":\"y\",\"type\":\"scatter\"},{\"hovertemplate\":\"thalachh=165<br>chol=%{x}<br>age=%{y}<br>sex=%{marker.color}<extra></extra>\",\"legendgroup\":\"165\",\"marker\":{\"color\":[1,1,0,1,0],\"coloraxis\":\"coloraxis\",\"symbol\":\"x\",\"size\":10},\"mode\":\"markers\",\"name\":\"165\",\"orientation\":\"v\",\"showlegend\":true,\"x\":[232,211,213,230,228],\"xaxis\":\"x\",\"y\":[54,58,43,58,66],\"yaxis\":\"y\",\"type\":\"scatter\"},{\"hovertemplate\":\"thalachh=142<br>chol=%{x}<br>age=%{y}<br>sex=%{marker.color}<extra></extra>\",\"legendgroup\":\"142\",\"marker\":{\"color\":[0,0,1,0,1,1],\"coloraxis\":\"coloraxis\",\"symbol\":\"cross\",\"size\":10},\"mode\":\"markers\",\"name\":\"142\",\"orientation\":\"v\",\"showlegend\":true,\"x\":[308,223,256,305,282,239],\"xaxis\":\"x\",\"y\":[51,67,56,51,60,59],\"yaxis\":\"y\",\"type\":\"scatter\"},{\"hovertemplate\":\"thalachh=180<br>chol=%{x}<br>age=%{y}<br>sex=%{marker.color}<extra></extra>\",\"legendgroup\":\"180\",\"marker\":{\"color\":[1,1],\"coloraxis\":\"coloraxis\",\"symbol\":\"circle\",\"size\":10},\"mode\":\"markers\",\"name\":\"180\",\"orientation\":\"v\",\"showlegend\":true,\"x\":[245,235],\"xaxis\":\"x\",\"y\":[48,44],\"yaxis\":\"y\",\"type\":\"scatter\"},{\"hovertemplate\":\"thalachh=143<br>chol=%{x}<br>age=%{y}<br>sex=%{marker.color}<extra></extra>\",\"legendgroup\":\"143\",\"marker\":{\"color\":[0,1,1,1,0,1,1],\"coloraxis\":\"coloraxis\",\"symbol\":\"diamond\",\"size\":10},\"mode\":\"markers\",\"name\":\"143\",\"orientation\":\"v\",\"showlegend\":true,\"x\":[264,222,204,245,249,247,335],\"xaxis\":\"x\",\"y\":[53,51,47,70,59,43,57],\"yaxis\":\"y\",\"type\":\"scatter\"},{\"hovertemplate\":\"thalachh=182<br>chol=%{x}<br>age=%{y}<br>sex=%{marker.color}<extra></extra>\",\"legendgroup\":\"182\",\"marker\":{\"color\":[1,0,1,1,1],\"coloraxis\":\"coloraxis\",\"symbol\":\"square\",\"size\":10},\"mode\":\"markers\",\"name\":\"182\",\"orientation\":\"v\",\"showlegend\":true,\"x\":[321,183,271,157,231],\"xaxis\":\"x\",\"y\":[39,35,59,41,38],\"yaxis\":\"y\",\"type\":\"scatter\"},{\"hovertemplate\":\"thalachh=156<br>chol=%{x}<br>age=%{y}<br>sex=%{marker.color}<extra></extra>\",\"legendgroup\":\"156\",\"marker\":{\"color\":[1,1,1,1,1,1],\"coloraxis\":\"coloraxis\",\"symbol\":\"x\",\"size\":10},\"mode\":\"markers\",\"name\":\"156\",\"orientation\":\"v\",\"showlegend\":true,\"x\":[257,309,197,282,234,204],\"xaxis\":\"x\",\"y\":[47,54,46,35,58,52],\"yaxis\":\"y\",\"type\":\"scatter\"},{\"hovertemplate\":\"thalachh=115<br>chol=%{x}<br>age=%{y}<br>sex=%{marker.color}<extra></extra>\",\"legendgroup\":\"115\",\"marker\":{\"color\":[0,0,1],\"coloraxis\":\"coloraxis\",\"symbol\":\"cross\",\"size\":10},\"mode\":\"markers\",\"name\":\"115\",\"orientation\":\"v\",\"showlegend\":true,\"x\":[216,211,131],\"xaxis\":\"x\",\"y\":[53,68,57],\"yaxis\":\"y\",\"type\":\"scatter\"},{\"hovertemplate\":\"thalachh=149<br>chol=%{x}<br>age=%{y}<br>sex=%{marker.color}<extra></extra>\",\"legendgroup\":\"149\",\"marker\":{\"color\":[0,0],\"coloraxis\":\"coloraxis\",\"symbol\":\"circle\",\"size\":10},\"mode\":\"markers\",\"name\":\"149\",\"orientation\":\"v\",\"showlegend\":true,\"x\":[256,242],\"xaxis\":\"x\",\"y\":[51,44],\"yaxis\":\"y\",\"type\":\"scatter\"},{\"hovertemplate\":\"thalachh=146<br>chol=%{x}<br>age=%{y}<br>sex=%{marker.color}<extra></extra>\",\"legendgroup\":\"146\",\"marker\":{\"color\":[1,0,1,0],\"coloraxis\":\"coloraxis\",\"symbol\":\"diamond\",\"size\":10},\"mode\":\"markers\",\"name\":\"146\",\"orientation\":\"v\",\"showlegend\":true,\"x\":[231,307,254,225],\"xaxis\":\"x\",\"y\":[62,61,69,58],\"yaxis\":\"y\",\"type\":\"scatter\"},{\"hovertemplate\":\"thalachh=175<br>chol=%{x}<br>age=%{y}<br>sex=%{marker.color}<extra></extra>\",\"legendgroup\":\"175\",\"marker\":{\"color\":[0,0,1],\"coloraxis\":\"coloraxis\",\"symbol\":\"square\",\"size\":10},\"mode\":\"markers\",\"name\":\"175\",\"orientation\":\"v\",\"showlegend\":true,\"x\":[141,234,255],\"xaxis\":\"x\",\"y\":[44,45,48],\"yaxis\":\"y\",\"type\":\"scatter\"},{\"hovertemplate\":\"thalachh=186<br>chol=%{x}<br>age=%{y}<br>sex=%{marker.color}<extra></extra>\",\"legendgroup\":\"186\",\"marker\":{\"color\":[1,1],\"coloraxis\":\"coloraxis\",\"symbol\":\"x\",\"size\":10},\"mode\":\"markers\",\"name\":\"186\",\"orientation\":\"v\",\"showlegend\":true,\"x\":[222,261],\"xaxis\":\"x\",\"y\":[48,51],\"yaxis\":\"y\",\"type\":\"scatter\"},{\"hovertemplate\":\"thalachh=185<br>chol=%{x}<br>age=%{y}<br>sex=%{marker.color}<extra></extra>\",\"legendgroup\":\"185\",\"marker\":{\"color\":[1],\"coloraxis\":\"coloraxis\",\"symbol\":\"cross\",\"size\":10},\"mode\":\"markers\",\"name\":\"185\",\"orientation\":\"v\",\"showlegend\":true,\"x\":[260],\"xaxis\":\"x\",\"y\":[45],\"yaxis\":\"y\",\"type\":\"scatter\"},{\"hovertemplate\":\"thalachh=159<br>chol=%{x}<br>age=%{y}<br>sex=%{marker.color}<extra></extra>\",\"legendgroup\":\"159\",\"marker\":{\"color\":[0,0,0,1],\"coloraxis\":\"coloraxis\",\"symbol\":\"circle\",\"size\":10},\"mode\":\"markers\",\"name\":\"159\",\"orientation\":\"v\",\"showlegend\":true,\"x\":[303,288,254,288],\"xaxis\":\"x\",\"y\":[57,54,50,59],\"yaxis\":\"y\",\"type\":\"scatter\"},{\"hovertemplate\":\"thalachh=130<br>chol=%{x}<br>age=%{y}<br>sex=%{marker.color}<extra></extra>\",\"legendgroup\":\"130\",\"marker\":{\"color\":[0,1,1,0],\"coloraxis\":\"coloraxis\",\"symbol\":\"diamond\",\"size\":10},\"mode\":\"markers\",\"name\":\"130\",\"orientation\":\"v\",\"showlegend\":true,\"x\":[265,198,259,205],\"xaxis\":\"x\",\"y\":[71,35,58,55],\"yaxis\":\"y\",\"type\":\"scatter\"},{\"hovertemplate\":\"thalachh=190<br>chol=%{x}<br>age=%{y}<br>sex=%{marker.color}<extra></extra>\",\"legendgroup\":\"190\",\"marker\":{\"color\":[1],\"coloraxis\":\"coloraxis\",\"symbol\":\"square\",\"size\":10},\"mode\":\"markers\",\"name\":\"190\",\"orientation\":\"v\",\"showlegend\":true,\"x\":[186],\"xaxis\":\"x\",\"y\":[52],\"yaxis\":\"y\",\"type\":\"scatter\"},{\"hovertemplate\":\"thalachh=132<br>chol=%{x}<br>age=%{y}<br>sex=%{marker.color}<extra></extra>\",\"legendgroup\":\"132\",\"marker\":{\"color\":[1,1,1,1,1,1,1],\"coloraxis\":\"coloraxis\",\"symbol\":\"x\",\"size\":10},\"mode\":\"markers\",\"name\":\"132\",\"orientation\":\"v\",\"showlegend\":true,\"x\":[203,206,353,330,212,212,264],\"xaxis\":\"x\",\"y\":[41,60,55,63,64,66,45],\"yaxis\":\"y\",\"type\":\"scatter\"},{\"hovertemplate\":\"thalachh=147<br>chol=%{x}<br>age=%{y}<br>sex=%{marker.color}<extra></extra>\",\"legendgroup\":\"147\",\"marker\":{\"color\":[1,1,1,1,1],\"coloraxis\":\"coloraxis\",\"symbol\":\"cross\",\"size\":10},\"mode\":\"markers\",\"name\":\"147\",\"orientation\":\"v\",\"showlegend\":true,\"x\":[258,233,254,231,309],\"xaxis\":\"x\",\"y\":[54,52,63,46,45],\"yaxis\":\"y\",\"type\":\"scatter\"},{\"hovertemplate\":\"thalachh=154<br>chol=%{x}<br>age=%{y}<br>sex=%{marker.color}<extra></extra>\",\"legendgroup\":\"154\",\"marker\":{\"color\":[1,1,0,0,0],\"coloraxis\":\"coloraxis\",\"symbol\":\"circle\",\"size\":10},\"mode\":\"markers\",\"name\":\"154\",\"orientation\":\"v\",\"showlegend\":true,\"x\":[227,240,325,407,244],\"xaxis\":\"x\",\"y\":[51,58,64,63,62],\"yaxis\":\"y\",\"type\":\"scatter\"},{\"hovertemplate\":\"thalachh=202<br>chol=%{x}<br>age=%{y}<br>sex=%{marker.color}<extra></extra>\",\"legendgroup\":\"202\",\"marker\":{\"color\":[1],\"coloraxis\":\"coloraxis\",\"symbol\":\"diamond\",\"size\":10},\"mode\":\"markers\",\"name\":\"202\",\"orientation\":\"v\",\"showlegend\":true,\"x\":[204],\"xaxis\":\"x\",\"y\":[29],\"yaxis\":\"y\",\"type\":\"scatter\"},{\"hovertemplate\":\"thalachh=166<br>chol=%{x}<br>age=%{y}<br>sex=%{marker.color}<extra></extra>\",\"legendgroup\":\"166\",\"marker\":{\"color\":[1,0,1],\"coloraxis\":\"coloraxis\",\"symbol\":\"square\",\"size\":10},\"mode\":\"markers\",\"name\":\"166\",\"orientation\":\"v\",\"showlegend\":true,\"x\":[245,342,274],\"xaxis\":\"x\",\"y\":[51,55,48],\"yaxis\":\"y\",\"type\":\"scatter\"},{\"hovertemplate\":\"thalachh=164<br>chol=%{x}<br>age=%{y}<br>sex=%{marker.color}<extra></extra>\",\"legendgroup\":\"164\",\"marker\":{\"color\":[1,1],\"coloraxis\":\"coloraxis\",\"symbol\":\"x\",\"size\":10},\"mode\":\"markers\",\"name\":\"164\",\"orientation\":\"v\",\"showlegend\":true,\"x\":[221,232],\"xaxis\":\"x\",\"y\":[59,57],\"yaxis\":\"y\",\"type\":\"scatter\"},{\"hovertemplate\":\"thalachh=184<br>chol=%{x}<br>age=%{y}<br>sex=%{marker.color}<extra></extra>\",\"legendgroup\":\"184\",\"marker\":{\"color\":[1],\"coloraxis\":\"coloraxis\",\"symbol\":\"cross\",\"size\":10},\"mode\":\"markers\",\"name\":\"184\",\"orientation\":\"v\",\"showlegend\":true,\"x\":[205],\"xaxis\":\"x\",\"y\":[52],\"yaxis\":\"y\",\"type\":\"scatter\"},{\"hovertemplate\":\"thalachh=122<br>chol=%{x}<br>age=%{y}<br>sex=%{marker.color}<extra></extra>\",\"legendgroup\":\"122\",\"marker\":{\"color\":[0,0,0,1],\"coloraxis\":\"coloraxis\",\"symbol\":\"circle\",\"size\":10},\"mode\":\"markers\",\"name\":\"122\",\"orientation\":\"v\",\"showlegend\":true,\"x\":[265,248,303,298],\"xaxis\":\"x\",\"y\":[42,58,64,51],\"yaxis\":\"y\",\"type\":\"scatter\"},{\"hovertemplate\":\"thalachh=169<br>chol=%{x}<br>age=%{y}<br>sex=%{marker.color}<extra></extra>\",\"legendgroup\":\"169\",\"marker\":{\"color\":[1,0,1,1,0,0],\"coloraxis\":\"coloraxis\",\"symbol\":\"diamond\",\"size\":10},\"mode\":\"markers\",\"name\":\"169\",\"orientation\":\"v\",\"showlegend\":true,\"x\":[223,196,226,240,330,269],\"xaxis\":\"x\",\"y\":[52,52,44,56,61,63],\"yaxis\":\"y\",\"type\":\"scatter\"},{\"hovertemplate\":\"thalachh=138<br>chol=%{x}<br>age=%{y}<br>sex=%{marker.color}<extra></extra>\",\"legendgroup\":\"138\",\"marker\":{\"color\":[0,1,1],\"coloraxis\":\"coloraxis\",\"symbol\":\"square\",\"size\":10},\"mode\":\"markers\",\"name\":\"138\",\"orientation\":\"v\",\"showlegend\":true,\"x\":[160,228,207],\"xaxis\":\"x\",\"y\":[45,66,61],\"yaxis\":\"y\",\"type\":\"scatter\"},{\"hovertemplate\":\"thalachh=111<br>chol=%{x}<br>age=%{y}<br>sex=%{marker.color}<extra></extra>\",\"legendgroup\":\"111\",\"marker\":{\"color\":[1,1,1],\"coloraxis\":\"coloraxis\",\"symbol\":\"x\",\"size\":10},\"mode\":\"markers\",\"name\":\"111\",\"orientation\":\"v\",\"showlegend\":true,\"x\":[226,270,217],\"xaxis\":\"x\",\"y\":[53,58,55],\"yaxis\":\"y\",\"type\":\"scatter\"},{\"hovertemplate\":\"thalachh=145<br>chol=%{x}<br>age=%{y}<br>sex=%{marker.color}<extra></extra>\",\"legendgroup\":\"145\",\"marker\":{\"color\":[1,0,1,1],\"coloraxis\":\"coloraxis\",\"symbol\":\"cross\",\"size\":10},\"mode\":\"markers\",\"name\":\"145\",\"orientation\":\"v\",\"showlegend\":true,\"x\":[270,164,289,234],\"xaxis\":\"x\",\"y\":[59,62,55,61],\"yaxis\":\"y\",\"type\":\"scatter\"},{\"hovertemplate\":\"thalachh=194<br>chol=%{x}<br>age=%{y}<br>sex=%{marker.color}<extra></extra>\",\"legendgroup\":\"194\",\"marker\":{\"color\":[1],\"coloraxis\":\"coloraxis\",\"symbol\":\"circle\",\"size\":10},\"mode\":\"markers\",\"name\":\"194\",\"orientation\":\"v\",\"showlegend\":true,\"x\":[240],\"xaxis\":\"x\",\"y\":[42],\"yaxis\":\"y\",\"type\":\"scatter\"},{\"hovertemplate\":\"thalachh=131<br>chol=%{x}<br>age=%{y}<br>sex=%{marker.color}<extra></extra>\",\"legendgroup\":\"131\",\"marker\":{\"color\":[1,0,1,1],\"coloraxis\":\"coloraxis\",\"symbol\":\"diamond\",\"size\":10},\"mode\":\"markers\",\"name\":\"131\",\"orientation\":\"v\",\"showlegend\":true,\"x\":[234,197,216,309],\"xaxis\":\"x\",\"y\":[69,58,58,64],\"yaxis\":\"y\",\"type\":\"scatter\"},{\"hovertemplate\":\"thalachh=133<br>chol=%{x}<br>age=%{y}<br>sex=%{marker.color}<extra></extra>\",\"legendgroup\":\"133\",\"marker\":{\"color\":[0,0],\"coloraxis\":\"coloraxis\",\"symbol\":\"square\",\"size\":10},\"mode\":\"markers\",\"name\":\"133\",\"orientation\":\"v\",\"showlegend\":true,\"x\":[313,288],\"xaxis\":\"x\",\"y\":[64,56],\"yaxis\":\"y\",\"type\":\"scatter\"},{\"hovertemplate\":\"thalachh=155<br>chol=%{x}<br>age=%{y}<br>sex=%{marker.color}<extra></extra>\",\"legendgroup\":\"155\",\"marker\":{\"color\":[1,1,1,1],\"coloraxis\":\"coloraxis\",\"symbol\":\"x\",\"size\":10},\"mode\":\"markers\",\"name\":\"155\",\"orientation\":\"v\",\"showlegend\":true,\"x\":[262,227,203,185],\"xaxis\":\"x\",\"y\":[55,64,53,60],\"yaxis\":\"y\",\"type\":\"scatter\"},{\"hovertemplate\":\"thalachh=167<br>chol=%{x}<br>age=%{y}<br>sex=%{marker.color}<extra></extra>\",\"legendgroup\":\"167\",\"marker\":{\"color\":[0],\"coloraxis\":\"coloraxis\",\"symbol\":\"cross\",\"size\":10},\"mode\":\"markers\",\"name\":\"167\",\"orientation\":\"v\",\"showlegend\":true,\"x\":[267],\"xaxis\":\"x\",\"y\":[54],\"yaxis\":\"y\",\"type\":\"scatter\"},{\"hovertemplate\":\"thalachh=192<br>chol=%{x}<br>age=%{y}<br>sex=%{marker.color}<extra></extra>\",\"legendgroup\":\"192\",\"marker\":{\"color\":[0],\"coloraxis\":\"coloraxis\",\"symbol\":\"circle\",\"size\":10},\"mode\":\"markers\",\"name\":\"192\",\"orientation\":\"v\",\"showlegend\":true,\"x\":[210],\"xaxis\":\"x\",\"y\":[34],\"yaxis\":\"y\",\"type\":\"scatter\"},{\"hovertemplate\":\"thalachh=121<br>chol=%{x}<br>age=%{y}<br>sex=%{marker.color}<extra></extra>\",\"legendgroup\":\"121\",\"marker\":{\"color\":[0],\"coloraxis\":\"coloraxis\",\"symbol\":\"diamond\",\"size\":10},\"mode\":\"markers\",\"name\":\"121\",\"orientation\":\"v\",\"showlegend\":true,\"x\":[269],\"xaxis\":\"x\",\"y\":[74],\"yaxis\":\"y\",\"type\":\"scatter\"},{\"hovertemplate\":\"thalachh=96<br>chol=%{x}<br>age=%{y}<br>sex=%{marker.color}<extra></extra>\",\"legendgroup\":\"96\",\"marker\":{\"color\":[0,1],\"coloraxis\":\"coloraxis\",\"symbol\":\"square\",\"size\":10},\"mode\":\"markers\",\"name\":\"96\",\"orientation\":\"v\",\"showlegend\":true,\"x\":[178,246],\"xaxis\":\"x\",\"y\":[60,64],\"yaxis\":\"y\",\"type\":\"scatter\"},{\"hovertemplate\":\"thalachh=126<br>chol=%{x}<br>age=%{y}<br>sex=%{marker.color}<extra></extra>\",\"legendgroup\":\"126\",\"marker\":{\"color\":[1,1,1,1],\"coloraxis\":\"coloraxis\",\"symbol\":\"x\",\"size\":10},\"mode\":\"markers\",\"name\":\"126\",\"orientation\":\"v\",\"showlegend\":true,\"x\":[201,239,200,149],\"xaxis\":\"x\",\"y\":[57,54,50,49],\"yaxis\":\"y\",\"type\":\"scatter\"},{\"hovertemplate\":\"thalachh=105<br>chol=%{x}<br>age=%{y}<br>sex=%{marker.color}<extra></extra>\",\"legendgroup\":\"105\",\"marker\":{\"color\":[1,1,1],\"coloraxis\":\"coloraxis\",\"symbol\":\"cross\",\"size\":10},\"mode\":\"markers\",\"name\":\"105\",\"orientation\":\"v\",\"showlegend\":true,\"x\":[263,184,218],\"xaxis\":\"x\",\"y\":[64,56,58],\"yaxis\":\"y\",\"type\":\"scatter\"},{\"hovertemplate\":\"thalachh=181<br>chol=%{x}<br>age=%{y}<br>sex=%{marker.color}<extra></extra>\",\"legendgroup\":\"181\",\"marker\":{\"color\":[1,1],\"coloraxis\":\"coloraxis\",\"symbol\":\"circle\",\"size\":10},\"mode\":\"markers\",\"name\":\"181\",\"orientation\":\"v\",\"showlegend\":true,\"x\":[303,223],\"xaxis\":\"x\",\"y\":[43,40],\"yaxis\":\"y\",\"type\":\"scatter\"},{\"hovertemplate\":\"thalachh=116<br>chol=%{x}<br>age=%{y}<br>sex=%{marker.color}<extra></extra>\",\"legendgroup\":\"116\",\"marker\":{\"color\":[0,1],\"coloraxis\":\"coloraxis\",\"symbol\":\"diamond\",\"size\":10},\"mode\":\"markers\",\"name\":\"116\",\"orientation\":\"v\",\"showlegend\":true,\"x\":[197,286],\"xaxis\":\"x\",\"y\":[76,54],\"yaxis\":\"y\",\"type\":\"scatter\"},{\"hovertemplate\":\"thalachh=108<br>chol=%{x}<br>age=%{y}<br>sex=%{marker.color}<extra></extra>\",\"legendgroup\":\"108\",\"marker\":{\"color\":[1,1],\"coloraxis\":\"coloraxis\",\"symbol\":\"square\",\"size\":10},\"mode\":\"markers\",\"name\":\"108\",\"orientation\":\"v\",\"showlegend\":true,\"x\":[286,206],\"xaxis\":\"x\",\"y\":[67,54],\"yaxis\":\"y\",\"type\":\"scatter\"},{\"hovertemplate\":\"thalachh=129<br>chol=%{x}<br>age=%{y}<br>sex=%{marker.color}<extra></extra>\",\"legendgroup\":\"129\",\"marker\":{\"color\":[1],\"coloraxis\":\"coloraxis\",\"symbol\":\"x\",\"size\":10},\"mode\":\"markers\",\"name\":\"129\",\"orientation\":\"v\",\"showlegend\":true,\"x\":[229],\"xaxis\":\"x\",\"y\":[67],\"yaxis\":\"y\",\"type\":\"scatter\"},{\"hovertemplate\":\"thalachh=120<br>chol=%{x}<br>age=%{y}<br>sex=%{marker.color}<extra></extra>\",\"legendgroup\":\"120\",\"marker\":{\"color\":[1,1,1],\"coloraxis\":\"coloraxis\",\"symbol\":\"cross\",\"size\":10},\"mode\":\"markers\",\"name\":\"120\",\"orientation\":\"v\",\"showlegend\":true,\"x\":[177,246,311],\"xaxis\":\"x\",\"y\":[43,66,46],\"yaxis\":\"y\",\"type\":\"scatter\"},{\"hovertemplate\":\"thalachh=112<br>chol=%{x}<br>age=%{y}<br>sex=%{marker.color}<extra></extra>\",\"legendgroup\":\"112\",\"marker\":{\"color\":[1,1],\"coloraxis\":\"coloraxis\",\"symbol\":\"circle\",\"size\":10},\"mode\":\"markers\",\"name\":\"112\",\"orientation\":\"v\",\"showlegend\":true,\"x\":[276,269],\"xaxis\":\"x\",\"y\":[57,70],\"yaxis\":\"y\",\"type\":\"scatter\"},{\"hovertemplate\":\"thalachh=128<br>chol=%{x}<br>age=%{y}<br>sex=%{marker.color}<extra></extra>\",\"legendgroup\":\"128\",\"marker\":{\"color\":[1],\"coloraxis\":\"coloraxis\",\"symbol\":\"diamond\",\"size\":10},\"mode\":\"markers\",\"name\":\"128\",\"orientation\":\"v\",\"showlegend\":true,\"x\":[243],\"xaxis\":\"x\",\"y\":[50],\"yaxis\":\"y\",\"type\":\"scatter\"},{\"hovertemplate\":\"thalachh=109<br>chol=%{x}<br>age=%{y}<br>sex=%{marker.color}<extra></extra>\",\"legendgroup\":\"109\",\"marker\":{\"color\":[1,1],\"coloraxis\":\"coloraxis\",\"symbol\":\"square\",\"size\":10},\"mode\":\"markers\",\"name\":\"109\",\"orientation\":\"v\",\"showlegend\":true,\"x\":[266,322],\"xaxis\":\"x\",\"y\":[54,70],\"yaxis\":\"y\",\"type\":\"scatter\"},{\"hovertemplate\":\"thalachh=113<br>chol=%{x}<br>age=%{y}<br>sex=%{marker.color}<extra></extra>\",\"legendgroup\":\"113\",\"marker\":{\"color\":[1],\"coloraxis\":\"coloraxis\",\"symbol\":\"x\",\"size\":10},\"mode\":\"markers\",\"name\":\"113\",\"orientation\":\"v\",\"showlegend\":true,\"x\":[188],\"xaxis\":\"x\",\"y\":[54],\"yaxis\":\"y\",\"type\":\"scatter\"},{\"hovertemplate\":\"thalachh=99<br>chol=%{x}<br>age=%{y}<br>sex=%{marker.color}<extra></extra>\",\"legendgroup\":\"99\",\"marker\":{\"color\":[1],\"coloraxis\":\"coloraxis\",\"symbol\":\"cross\",\"size\":10},\"mode\":\"markers\",\"name\":\"99\",\"orientation\":\"v\",\"showlegend\":true,\"x\":[267],\"xaxis\":\"x\",\"y\":[62],\"yaxis\":\"y\",\"type\":\"scatter\"},{\"hovertemplate\":\"thalachh=177<br>chol=%{x}<br>age=%{y}<br>sex=%{marker.color}<extra></extra>\",\"legendgroup\":\"177\",\"marker\":{\"color\":[1],\"coloraxis\":\"coloraxis\",\"symbol\":\"circle\",\"size\":10},\"mode\":\"markers\",\"name\":\"177\",\"orientation\":\"v\",\"showlegend\":true,\"x\":[197],\"xaxis\":\"x\",\"y\":[44],\"yaxis\":\"y\",\"type\":\"scatter\"},{\"hovertemplate\":\"thalachh=141<br>chol=%{x}<br>age=%{y}<br>sex=%{marker.color}<extra></extra>\",\"legendgroup\":\"141\",\"marker\":{\"color\":[1,1,1],\"coloraxis\":\"coloraxis\",\"symbol\":\"diamond\",\"size\":10},\"mode\":\"markers\",\"name\":\"141\",\"orientation\":\"v\",\"showlegend\":true,\"x\":[258,261,193],\"xaxis\":\"x\",\"y\":[60,57,68],\"yaxis\":\"y\",\"type\":\"scatter\"},{\"hovertemplate\":\"thalachh=136<br>chol=%{x}<br>age=%{y}<br>sex=%{marker.color}<extra></extra>\",\"legendgroup\":\"136\",\"marker\":{\"color\":[0,0],\"coloraxis\":\"coloraxis\",\"symbol\":\"square\",\"size\":10},\"mode\":\"markers\",\"name\":\"136\",\"orientation\":\"v\",\"showlegend\":true,\"x\":[341,197],\"xaxis\":\"x\",\"y\":[43,63],\"yaxis\":\"y\",\"type\":\"scatter\"},{\"hovertemplate\":\"thalachh=97<br>chol=%{x}<br>age=%{y}<br>sex=%{marker.color}<extra></extra>\",\"legendgroup\":\"97\",\"marker\":{\"color\":[0],\"coloraxis\":\"coloraxis\",\"symbol\":\"x\",\"size\":10},\"mode\":\"markers\",\"name\":\"97\",\"orientation\":\"v\",\"showlegend\":true,\"x\":[263],\"xaxis\":\"x\",\"y\":[62],\"yaxis\":\"y\",\"type\":\"scatter\"},{\"hovertemplate\":\"thalachh=127<br>chol=%{x}<br>age=%{y}<br>sex=%{marker.color}<extra></extra>\",\"legendgroup\":\"127\",\"marker\":{\"color\":[1],\"coloraxis\":\"coloraxis\",\"symbol\":\"cross\",\"size\":10},\"mode\":\"markers\",\"name\":\"127\",\"orientation\":\"v\",\"showlegend\":true,\"x\":[254],\"xaxis\":\"x\",\"y\":[65],\"yaxis\":\"y\",\"type\":\"scatter\"},{\"hovertemplate\":\"thalachh=103<br>chol=%{x}<br>age=%{y}<br>sex=%{marker.color}<extra></extra>\",\"legendgroup\":\"103\",\"marker\":{\"color\":[1,1],\"coloraxis\":\"coloraxis\",\"symbol\":\"circle\",\"size\":10},\"mode\":\"markers\",\"name\":\"103\",\"orientation\":\"v\",\"showlegend\":true,\"x\":[281,283],\"xaxis\":\"x\",\"y\":[62,56],\"yaxis\":\"y\",\"type\":\"scatter\"},{\"hovertemplate\":\"thalachh=124<br>chol=%{x}<br>age=%{y}<br>sex=%{marker.color}<extra></extra>\",\"legendgroup\":\"124\",\"marker\":{\"color\":[1],\"coloraxis\":\"coloraxis\",\"symbol\":\"diamond\",\"size\":10},\"mode\":\"markers\",\"name\":\"124\",\"orientation\":\"v\",\"showlegend\":true,\"x\":[289],\"xaxis\":\"x\",\"y\":[57],\"yaxis\":\"y\",\"type\":\"scatter\"},{\"hovertemplate\":\"thalachh=88<br>chol=%{x}<br>age=%{y}<br>sex=%{marker.color}<extra></extra>\",\"legendgroup\":\"88\",\"marker\":{\"color\":[1],\"coloraxis\":\"coloraxis\",\"symbol\":\"square\",\"size\":10},\"mode\":\"markers\",\"name\":\"88\",\"orientation\":\"v\",\"showlegend\":true,\"x\":[274],\"xaxis\":\"x\",\"y\":[57],\"yaxis\":\"y\",\"type\":\"scatter\"},{\"hovertemplate\":\"thalachh=195<br>chol=%{x}<br>age=%{y}<br>sex=%{marker.color}<extra></extra>\",\"legendgroup\":\"195\",\"marker\":{\"color\":[1],\"coloraxis\":\"coloraxis\",\"symbol\":\"x\",\"size\":10},\"mode\":\"markers\",\"name\":\"195\",\"orientation\":\"v\",\"showlegend\":true,\"x\":[283],\"xaxis\":\"x\",\"y\":[54],\"yaxis\":\"y\",\"type\":\"scatter\"},{\"hovertemplate\":\"thalachh=106<br>chol=%{x}<br>age=%{y}<br>sex=%{marker.color}<extra></extra>\",\"legendgroup\":\"106\",\"marker\":{\"color\":[0],\"coloraxis\":\"coloraxis\",\"symbol\":\"cross\",\"size\":10},\"mode\":\"markers\",\"name\":\"106\",\"orientation\":\"v\",\"showlegend\":true,\"x\":[294],\"xaxis\":\"x\",\"y\":[62],\"yaxis\":\"y\",\"type\":\"scatter\"},{\"hovertemplate\":\"thalachh=95<br>chol=%{x}<br>age=%{y}<br>sex=%{marker.color}<extra></extra>\",\"legendgroup\":\"95\",\"marker\":{\"color\":[1],\"coloraxis\":\"coloraxis\",\"symbol\":\"circle\",\"size\":10},\"mode\":\"markers\",\"name\":\"95\",\"orientation\":\"v\",\"showlegend\":true,\"x\":[282],\"xaxis\":\"x\",\"y\":[53],\"yaxis\":\"y\",\"type\":\"scatter\"},{\"hovertemplate\":\"thalachh=117<br>chol=%{x}<br>age=%{y}<br>sex=%{marker.color}<extra></extra>\",\"legendgroup\":\"117\",\"marker\":{\"color\":[0],\"coloraxis\":\"coloraxis\",\"symbol\":\"diamond\",\"size\":10},\"mode\":\"markers\",\"name\":\"117\",\"orientation\":\"v\",\"showlegend\":true,\"x\":[327],\"xaxis\":\"x\",\"y\":[55],\"yaxis\":\"y\",\"type\":\"scatter\"},{\"hovertemplate\":\"thalachh=71<br>chol=%{x}<br>age=%{y}<br>sex=%{marker.color}<extra></extra>\",\"legendgroup\":\"71\",\"marker\":{\"color\":[1],\"coloraxis\":\"coloraxis\",\"symbol\":\"square\",\"size\":10},\"mode\":\"markers\",\"name\":\"71\",\"orientation\":\"v\",\"showlegend\":true,\"x\":[237],\"xaxis\":\"x\",\"y\":[67],\"yaxis\":\"y\",\"type\":\"scatter\"},{\"hovertemplate\":\"thalachh=118<br>chol=%{x}<br>age=%{y}<br>sex=%{marker.color}<extra></extra>\",\"legendgroup\":\"118\",\"marker\":{\"color\":[1],\"coloraxis\":\"coloraxis\",\"symbol\":\"x\",\"size\":10},\"mode\":\"markers\",\"name\":\"118\",\"orientation\":\"v\",\"showlegend\":true,\"x\":[275],\"xaxis\":\"x\",\"y\":[47],\"yaxis\":\"y\",\"type\":\"scatter\"},{\"hovertemplate\":\"thalachh=134<br>chol=%{x}<br>age=%{y}<br>sex=%{marker.color}<extra></extra>\",\"legendgroup\":\"134\",\"marker\":{\"color\":[1],\"coloraxis\":\"coloraxis\",\"symbol\":\"cross\",\"size\":10},\"mode\":\"markers\",\"name\":\"134\",\"orientation\":\"v\",\"showlegend\":true,\"x\":[218],\"xaxis\":\"x\",\"y\":[59],\"yaxis\":\"y\",\"type\":\"scatter\"},{\"hovertemplate\":\"thalachh=90<br>chol=%{x}<br>age=%{y}<br>sex=%{marker.color}<extra></extra>\",\"legendgroup\":\"90\",\"marker\":{\"color\":[1],\"coloraxis\":\"coloraxis\",\"symbol\":\"circle\",\"size\":10},\"mode\":\"markers\",\"name\":\"90\",\"orientation\":\"v\",\"showlegend\":true,\"x\":[176],\"xaxis\":\"x\",\"y\":[59],\"yaxis\":\"y\",\"type\":\"scatter\"}],                        {\"template\":{\"data\":{\"histogram2dcontour\":[{\"type\":\"histogram2dcontour\",\"colorbar\":{\"outlinewidth\":0,\"ticks\":\"\"},\"colorscale\":[[0.0,\"#0d0887\"],[0.1111111111111111,\"#46039f\"],[0.2222222222222222,\"#7201a8\"],[0.3333333333333333,\"#9c179e\"],[0.4444444444444444,\"#bd3786\"],[0.5555555555555556,\"#d8576b\"],[0.6666666666666666,\"#ed7953\"],[0.7777777777777778,\"#fb9f3a\"],[0.8888888888888888,\"#fdca26\"],[1.0,\"#f0f921\"]]}],\"choropleth\":[{\"type\":\"choropleth\",\"colorbar\":{\"outlinewidth\":0,\"ticks\":\"\"}}],\"histogram2d\":[{\"type\":\"histogram2d\",\"colorbar\":{\"outlinewidth\":0,\"ticks\":\"\"},\"colorscale\":[[0.0,\"#0d0887\"],[0.1111111111111111,\"#46039f\"],[0.2222222222222222,\"#7201a8\"],[0.3333333333333333,\"#9c179e\"],[0.4444444444444444,\"#bd3786\"],[0.5555555555555556,\"#d8576b\"],[0.6666666666666666,\"#ed7953\"],[0.7777777777777778,\"#fb9f3a\"],[0.8888888888888888,\"#fdca26\"],[1.0,\"#f0f921\"]]}],\"heatmap\":[{\"type\":\"heatmap\",\"colorbar\":{\"outlinewidth\":0,\"ticks\":\"\"},\"colorscale\":[[0.0,\"#0d0887\"],[0.1111111111111111,\"#46039f\"],[0.2222222222222222,\"#7201a8\"],[0.3333333333333333,\"#9c179e\"],[0.4444444444444444,\"#bd3786\"],[0.5555555555555556,\"#d8576b\"],[0.6666666666666666,\"#ed7953\"],[0.7777777777777778,\"#fb9f3a\"],[0.8888888888888888,\"#fdca26\"],[1.0,\"#f0f921\"]]}],\"heatmapgl\":[{\"type\":\"heatmapgl\",\"colorbar\":{\"outlinewidth\":0,\"ticks\":\"\"},\"colorscale\":[[0.0,\"#0d0887\"],[0.1111111111111111,\"#46039f\"],[0.2222222222222222,\"#7201a8\"],[0.3333333333333333,\"#9c179e\"],[0.4444444444444444,\"#bd3786\"],[0.5555555555555556,\"#d8576b\"],[0.6666666666666666,\"#ed7953\"],[0.7777777777777778,\"#fb9f3a\"],[0.8888888888888888,\"#fdca26\"],[1.0,\"#f0f921\"]]}],\"contourcarpet\":[{\"type\":\"contourcarpet\",\"colorbar\":{\"outlinewidth\":0,\"ticks\":\"\"}}],\"contour\":[{\"type\":\"contour\",\"colorbar\":{\"outlinewidth\":0,\"ticks\":\"\"},\"colorscale\":[[0.0,\"#0d0887\"],[0.1111111111111111,\"#46039f\"],[0.2222222222222222,\"#7201a8\"],[0.3333333333333333,\"#9c179e\"],[0.4444444444444444,\"#bd3786\"],[0.5555555555555556,\"#d8576b\"],[0.6666666666666666,\"#ed7953\"],[0.7777777777777778,\"#fb9f3a\"],[0.8888888888888888,\"#fdca26\"],[1.0,\"#f0f921\"]]}],\"surface\":[{\"type\":\"surface\",\"colorbar\":{\"outlinewidth\":0,\"ticks\":\"\"},\"colorscale\":[[0.0,\"#0d0887\"],[0.1111111111111111,\"#46039f\"],[0.2222222222222222,\"#7201a8\"],[0.3333333333333333,\"#9c179e\"],[0.4444444444444444,\"#bd3786\"],[0.5555555555555556,\"#d8576b\"],[0.6666666666666666,\"#ed7953\"],[0.7777777777777778,\"#fb9f3a\"],[0.8888888888888888,\"#fdca26\"],[1.0,\"#f0f921\"]]}],\"mesh3d\":[{\"type\":\"mesh3d\",\"colorbar\":{\"outlinewidth\":0,\"ticks\":\"\"}}],\"scatter\":[{\"fillpattern\":{\"fillmode\":\"overlay\",\"size\":10,\"solidity\":0.2},\"type\":\"scatter\"}],\"parcoords\":[{\"type\":\"parcoords\",\"line\":{\"colorbar\":{\"outlinewidth\":0,\"ticks\":\"\"}}}],\"scatterpolargl\":[{\"type\":\"scatterpolargl\",\"marker\":{\"colorbar\":{\"outlinewidth\":0,\"ticks\":\"\"}}}],\"bar\":[{\"error_x\":{\"color\":\"#2a3f5f\"},\"error_y\":{\"color\":\"#2a3f5f\"},\"marker\":{\"line\":{\"color\":\"#E5ECF6\",\"width\":0.5},\"pattern\":{\"fillmode\":\"overlay\",\"size\":10,\"solidity\":0.2}},\"type\":\"bar\"}],\"scattergeo\":[{\"type\":\"scattergeo\",\"marker\":{\"colorbar\":{\"outlinewidth\":0,\"ticks\":\"\"}}}],\"scatterpolar\":[{\"type\":\"scatterpolar\",\"marker\":{\"colorbar\":{\"outlinewidth\":0,\"ticks\":\"\"}}}],\"histogram\":[{\"marker\":{\"pattern\":{\"fillmode\":\"overlay\",\"size\":10,\"solidity\":0.2}},\"type\":\"histogram\"}],\"scattergl\":[{\"type\":\"scattergl\",\"marker\":{\"colorbar\":{\"outlinewidth\":0,\"ticks\":\"\"}}}],\"scatter3d\":[{\"type\":\"scatter3d\",\"line\":{\"colorbar\":{\"outlinewidth\":0,\"ticks\":\"\"}},\"marker\":{\"colorbar\":{\"outlinewidth\":0,\"ticks\":\"\"}}}],\"scattermapbox\":[{\"type\":\"scattermapbox\",\"marker\":{\"colorbar\":{\"outlinewidth\":0,\"ticks\":\"\"}}}],\"scatterternary\":[{\"type\":\"scatterternary\",\"marker\":{\"colorbar\":{\"outlinewidth\":0,\"ticks\":\"\"}}}],\"scattercarpet\":[{\"type\":\"scattercarpet\",\"marker\":{\"colorbar\":{\"outlinewidth\":0,\"ticks\":\"\"}}}],\"carpet\":[{\"aaxis\":{\"endlinecolor\":\"#2a3f5f\",\"gridcolor\":\"white\",\"linecolor\":\"white\",\"minorgridcolor\":\"white\",\"startlinecolor\":\"#2a3f5f\"},\"baxis\":{\"endlinecolor\":\"#2a3f5f\",\"gridcolor\":\"white\",\"linecolor\":\"white\",\"minorgridcolor\":\"white\",\"startlinecolor\":\"#2a3f5f\"},\"type\":\"carpet\"}],\"table\":[{\"cells\":{\"fill\":{\"color\":\"#EBF0F8\"},\"line\":{\"color\":\"white\"}},\"header\":{\"fill\":{\"color\":\"#C8D4E3\"},\"line\":{\"color\":\"white\"}},\"type\":\"table\"}],\"barpolar\":[{\"marker\":{\"line\":{\"color\":\"#E5ECF6\",\"width\":0.5},\"pattern\":{\"fillmode\":\"overlay\",\"size\":10,\"solidity\":0.2}},\"type\":\"barpolar\"}],\"pie\":[{\"automargin\":true,\"type\":\"pie\"}]},\"layout\":{\"autotypenumbers\":\"strict\",\"colorway\":[\"#636efa\",\"#EF553B\",\"#00cc96\",\"#ab63fa\",\"#FFA15A\",\"#19d3f3\",\"#FF6692\",\"#B6E880\",\"#FF97FF\",\"#FECB52\"],\"font\":{\"color\":\"#2a3f5f\"},\"hovermode\":\"closest\",\"hoverlabel\":{\"align\":\"left\"},\"paper_bgcolor\":\"white\",\"plot_bgcolor\":\"#E5ECF6\",\"polar\":{\"bgcolor\":\"#E5ECF6\",\"angularaxis\":{\"gridcolor\":\"white\",\"linecolor\":\"white\",\"ticks\":\"\"},\"radialaxis\":{\"gridcolor\":\"white\",\"linecolor\":\"white\",\"ticks\":\"\"}},\"ternary\":{\"bgcolor\":\"#E5ECF6\",\"aaxis\":{\"gridcolor\":\"white\",\"linecolor\":\"white\",\"ticks\":\"\"},\"baxis\":{\"gridcolor\":\"white\",\"linecolor\":\"white\",\"ticks\":\"\"},\"caxis\":{\"gridcolor\":\"white\",\"linecolor\":\"white\",\"ticks\":\"\"}},\"coloraxis\":{\"colorbar\":{\"outlinewidth\":0,\"ticks\":\"\"}},\"colorscale\":{\"sequential\":[[0.0,\"#0d0887\"],[0.1111111111111111,\"#46039f\"],[0.2222222222222222,\"#7201a8\"],[0.3333333333333333,\"#9c179e\"],[0.4444444444444444,\"#bd3786\"],[0.5555555555555556,\"#d8576b\"],[0.6666666666666666,\"#ed7953\"],[0.7777777777777778,\"#fb9f3a\"],[0.8888888888888888,\"#fdca26\"],[1.0,\"#f0f921\"]],\"sequentialminus\":[[0.0,\"#0d0887\"],[0.1111111111111111,\"#46039f\"],[0.2222222222222222,\"#7201a8\"],[0.3333333333333333,\"#9c179e\"],[0.4444444444444444,\"#bd3786\"],[0.5555555555555556,\"#d8576b\"],[0.6666666666666666,\"#ed7953\"],[0.7777777777777778,\"#fb9f3a\"],[0.8888888888888888,\"#fdca26\"],[1.0,\"#f0f921\"]],\"diverging\":[[0,\"#8e0152\"],[0.1,\"#c51b7d\"],[0.2,\"#de77ae\"],[0.3,\"#f1b6da\"],[0.4,\"#fde0ef\"],[0.5,\"#f7f7f7\"],[0.6,\"#e6f5d0\"],[0.7,\"#b8e186\"],[0.8,\"#7fbc41\"],[0.9,\"#4d9221\"],[1,\"#276419\"]]},\"xaxis\":{\"gridcolor\":\"white\",\"linecolor\":\"white\",\"ticks\":\"\",\"title\":{\"standoff\":15},\"zerolinecolor\":\"white\",\"automargin\":true,\"zerolinewidth\":2},\"yaxis\":{\"gridcolor\":\"white\",\"linecolor\":\"white\",\"ticks\":\"\",\"title\":{\"standoff\":15},\"zerolinecolor\":\"white\",\"automargin\":true,\"zerolinewidth\":2},\"scene\":{\"xaxis\":{\"backgroundcolor\":\"#E5ECF6\",\"gridcolor\":\"white\",\"linecolor\":\"white\",\"showbackground\":true,\"ticks\":\"\",\"zerolinecolor\":\"white\",\"gridwidth\":2},\"yaxis\":{\"backgroundcolor\":\"#E5ECF6\",\"gridcolor\":\"white\",\"linecolor\":\"white\",\"showbackground\":true,\"ticks\":\"\",\"zerolinecolor\":\"white\",\"gridwidth\":2},\"zaxis\":{\"backgroundcolor\":\"#E5ECF6\",\"gridcolor\":\"white\",\"linecolor\":\"white\",\"showbackground\":true,\"ticks\":\"\",\"zerolinecolor\":\"white\",\"gridwidth\":2}},\"shapedefaults\":{\"line\":{\"color\":\"#2a3f5f\"}},\"annotationdefaults\":{\"arrowcolor\":\"#2a3f5f\",\"arrowhead\":0,\"arrowwidth\":1},\"geo\":{\"bgcolor\":\"white\",\"landcolor\":\"#E5ECF6\",\"subunitcolor\":\"white\",\"showland\":true,\"showlakes\":true,\"lakecolor\":\"white\"},\"title\":{\"x\":0.05},\"mapbox\":{\"style\":\"light\"}}},\"xaxis\":{\"anchor\":\"y\",\"domain\":[0.0,1.0],\"title\":{\"text\":\"chol\"}},\"yaxis\":{\"anchor\":\"x\",\"domain\":[0.0,1.0],\"title\":{\"text\":\"age\"}},\"coloraxis\":{\"colorbar\":{\"title\":{\"text\":\"sex\"}},\"colorscale\":[[0.0,\"#0d0887\"],[0.1111111111111111,\"#46039f\"],[0.2222222222222222,\"#7201a8\"],[0.3333333333333333,\"#9c179e\"],[0.4444444444444444,\"#bd3786\"],[0.5555555555555556,\"#d8576b\"],[0.6666666666666666,\"#ed7953\"],[0.7777777777777778,\"#fb9f3a\"],[0.8888888888888888,\"#fdca26\"],[1.0,\"#f0f921\"]]},\"legend\":{\"title\":{\"text\":\"thalachh\"},\"tracegroupgap\":0},\"margin\":{\"t\":60}},                        {\"responsive\": true}                    ).then(function(){\n                            \nvar gd = document.getElementById('d5cc3c3e-4225-4193-9516-00428f893918');\nvar x = new MutationObserver(function (mutations, observer) {{\n        var display = window.getComputedStyle(gd).display;\n        if (!display || display === 'none') {{\n            console.log([gd, 'removed!']);\n            Plotly.purge(gd);\n            observer.disconnect();\n        }}\n}});\n\n// Listen for the removal of the full notebook cells\nvar notebookContainer = gd.closest('#notebook-container');\nif (notebookContainer) {{\n    x.observe(notebookContainer, {childList: true});\n}}\n\n// Listen for the clearing of the current output cell\nvar outputEl = gd.closest('.output');\nif (outputEl) {{\n    x.observe(outputEl, {childList: true});\n}}\n\n                        })                };                            </script>        </div>\n</body>\n</html>"
     },
     "execution_count": 35,
     "metadata": {
     },
     "output_type": "execute_result"
    }
   ],
   "source": [
    "import plotly.express as px\n",
    "fig = px.scatter(heart, y=\"age\", x=\"chol\", color=\"sex\", symbol=\"thalachh\")\n",
    "fig.update_traces(marker_size=10)\n",
    "fig.show()"
   ]
  },
  {
   "cell_type": "markdown",
   "metadata": {
    "collapsed": false
   },
   "source": [
    "## Visualizing Our Data <a class=\"anchor\" id=\"Visual\"></a>\n",
    "Last but not least we want to visualize our data, you can see different Python visualization libraries compared here:https://towardsdatascience.com/top-6-python-libraries-for-visualization-which-one-to-use-fe43381cd658 <br> We are using Plotly, as it is the most powerful and simple out of the box. <br> You can see some of the capabilities of Plotly in their documentation here: https://plotly.com/python/ <br> Note: if while running this you get an error 'PX IS NOT DEFINED' you did not import plotly.express (replace plotly with plotly.express in the import)."
   ]
  },
  {
   "cell_type": "markdown",
   "metadata": {
    "collapsed": false
   },
   "source": [
    "First things first, now that we have completed our calculations we will turn the index into a named column for ease of graphing and we need to include state code if we want to graph on a map.\n"
   ]
  },
  {
   "cell_type": "code",
   "execution_count": 29,
   "metadata": {
    "collapsed": false
   },
   "outputs": [
    {
     "data": {
      "text/html": [
       "<div>\n",
       "<style scoped>\n",
       "    .dataframe tbody tr th:only-of-type {\n",
       "        vertical-align: middle;\n",
       "    }\n",
       "\n",
       "    .dataframe tbody tr th {\n",
       "        vertical-align: top;\n",
       "    }\n",
       "\n",
       "    .dataframe thead th {\n",
       "        text-align: right;\n",
       "    }\n",
       "</style>\n",
       "<table border=\"1\" class=\"dataframe\">\n",
       "  <thead>\n",
       "    <tr style=\"text-align: right;\">\n",
       "      <th></th>\n",
       "      <th>state</th>\n",
       "      <th>four year average in state tuition</th>\n",
       "      <th>four year average out of state tuition</th>\n",
       "      <th>years to repay in state 4 year uni based on early career pay</th>\n",
       "      <th>years to repay out of state 4 year uni based on early career pay</th>\n",
       "      <th>years to repay in state 4 year uni based on mid career pay</th>\n",
       "      <th>years to repay out of state 4 year uni based on mid career pay</th>\n",
       "      <th>number of schools</th>\n",
       "      <th>average early_career_pay</th>\n",
       "      <th>average mid_career_pay</th>\n",
       "      <th>average make_world_better_percent</th>\n",
       "      <th>average stem_percent</th>\n",
       "      <th>average in_state_tuition</th>\n",
       "      <th>average out_of_state_tuition</th>\n",
       "      <th>state_code</th>\n",
       "    </tr>\n",
       "  </thead>\n",
       "  <tbody>\n",
       "    <tr>\n",
       "      <th>0</th>\n",
       "      <td>Alabama</td>\n",
       "      <td>64536.952381</td>\n",
       "      <td>89441.523810</td>\n",
       "      <td>1.443318</td>\n",
       "      <td>2.000290</td>\n",
       "      <td>0.795023</td>\n",
       "      <td>1.101820</td>\n",
       "      <td>21</td>\n",
       "      <td>44714.285714</td>\n",
       "      <td>81176.190476</td>\n",
       "      <td>60.047619</td>\n",
       "      <td>14.047619</td>\n",
       "      <td>16134.238095</td>\n",
       "      <td>22360.380952</td>\n",
       "      <td>AL</td>\n",
       "    </tr>\n",
       "    <tr>\n",
       "      <th>1</th>\n",
       "      <td>Alaska</td>\n",
       "      <td>48806.666667</td>\n",
       "      <td>91926.666667</td>\n",
       "      <td>0.885248</td>\n",
       "      <td>1.667352</td>\n",
       "      <td>0.500068</td>\n",
       "      <td>0.941872</td>\n",
       "      <td>3</td>\n",
       "      <td>55133.333333</td>\n",
       "      <td>97600.000000</td>\n",
       "      <td>59.333333</td>\n",
       "      <td>12.000000</td>\n",
       "      <td>12201.666667</td>\n",
       "      <td>22981.666667</td>\n",
       "      <td>AK</td>\n",
       "    </tr>\n",
       "    <tr>\n",
       "      <th>2</th>\n",
       "      <td>Arizona</td>\n",
       "      <td>74048.000000</td>\n",
       "      <td>124932.000000</td>\n",
       "      <td>1.512212</td>\n",
       "      <td>2.551368</td>\n",
       "      <td>0.839864</td>\n",
       "      <td>1.416998</td>\n",
       "      <td>3</td>\n",
       "      <td>48966.666667</td>\n",
       "      <td>88166.666667</td>\n",
       "      <td>58.666667</td>\n",
       "      <td>11.666667</td>\n",
       "      <td>18512.000000</td>\n",
       "      <td>31233.000000</td>\n",
       "      <td>AZ</td>\n",
       "    </tr>\n",
       "    <tr>\n",
       "      <th>3</th>\n",
       "      <td>Arkansas</td>\n",
       "      <td>68785.428571</td>\n",
       "      <td>86816.571429</td>\n",
       "      <td>1.508216</td>\n",
       "      <td>1.903574</td>\n",
       "      <td>0.841927</td>\n",
       "      <td>1.062626</td>\n",
       "      <td>14</td>\n",
       "      <td>45607.142857</td>\n",
       "      <td>81700.000000</td>\n",
       "      <td>57.571429</td>\n",
       "      <td>14.071429</td>\n",
       "      <td>17196.357143</td>\n",
       "      <td>21704.142857</td>\n",
       "      <td>AR</td>\n",
       "    </tr>\n",
       "    <tr>\n",
       "      <th>4</th>\n",
       "      <td>California</td>\n",
       "      <td>190626.153846</td>\n",
       "      <td>193550.461538</td>\n",
       "      <td>2.811595</td>\n",
       "      <td>2.854727</td>\n",
       "      <td>1.526512</td>\n",
       "      <td>1.549930</td>\n",
       "      <td>13</td>\n",
       "      <td>67800.000000</td>\n",
       "      <td>124876.923077</td>\n",
       "      <td>49.769231</td>\n",
       "      <td>30.615385</td>\n",
       "      <td>47656.538462</td>\n",
       "      <td>48387.615385</td>\n",
       "      <td>CA</td>\n",
       "    </tr>\n",
       "  </tbody>\n",
       "</table>\n",
       "</div>"
      ],
      "text/plain": [
       "        state  four year average in state tuition  \\\n",
       "0     Alabama                        64536.952381   \n",
       "1      Alaska                        48806.666667   \n",
       "2     Arizona                        74048.000000   \n",
       "3    Arkansas                        68785.428571   \n",
       "4  California                       190626.153846   \n",
       "\n",
       "   four year average out of state tuition  \\\n",
       "0                            89441.523810   \n",
       "1                            91926.666667   \n",
       "2                           124932.000000   \n",
       "3                            86816.571429   \n",
       "4                           193550.461538   \n",
       "\n",
       "   years to repay in state 4 year uni based on early career pay  \\\n",
       "0                                           1.443318              \n",
       "1                                           0.885248              \n",
       "2                                           1.512212              \n",
       "3                                           1.508216              \n",
       "4                                           2.811595              \n",
       "\n",
       "   years to repay out of state 4 year uni based on early career pay  \\\n",
       "0                                           2.000290                  \n",
       "1                                           1.667352                  \n",
       "2                                           2.551368                  \n",
       "3                                           1.903574                  \n",
       "4                                           2.854727                  \n",
       "\n",
       "   years to repay in state 4 year uni based on mid career pay  \\\n",
       "0                                           0.795023            \n",
       "1                                           0.500068            \n",
       "2                                           0.839864            \n",
       "3                                           0.841927            \n",
       "4                                           1.526512            \n",
       "\n",
       "   years to repay out of state 4 year uni based on mid career pay  \\\n",
       "0                                           1.101820                \n",
       "1                                           0.941872                \n",
       "2                                           1.416998                \n",
       "3                                           1.062626                \n",
       "4                                           1.549930                \n",
       "\n",
       "   number of schools  average early_career_pay  average mid_career_pay  \\\n",
       "0                 21              44714.285714            81176.190476   \n",
       "1                  3              55133.333333            97600.000000   \n",
       "2                  3              48966.666667            88166.666667   \n",
       "3                 14              45607.142857            81700.000000   \n",
       "4                 13              67800.000000           124876.923077   \n",
       "\n",
       "   average make_world_better_percent  average stem_percent  \\\n",
       "0                          60.047619             14.047619   \n",
       "1                          59.333333             12.000000   \n",
       "2                          58.666667             11.666667   \n",
       "3                          57.571429             14.071429   \n",
       "4                          49.769231             30.615385   \n",
       "\n",
       "   average in_state_tuition  average out_of_state_tuition state_code  \n",
       "0              16134.238095                  22360.380952         AL  \n",
       "1              12201.666667                  22981.666667         AK  \n",
       "2              18512.000000                  31233.000000         AZ  \n",
       "3              17196.357143                  21704.142857         AR  \n",
       "4              47656.538462                  48387.615385         CA  "
      ]
     },
     "execution_count": 29,
     "metadata": {
     },
     "output_type": "execute_result"
    }
   ],
   "source": [
    "# turn the index into a column\n",
    "state_stats_extras = state_stats.reset_index(level=0)\n",
    "# rename index to state\n",
    "state_stats_extras.rename({'index': 'state'}, axis=1, inplace=True)\n",
    "# finds each state and adds the code\n",
    "state_stats_extras = state_stats_extras.merge(tuition[['state','state_code']], on='state').drop_duplicates().reset_index(drop=True)\n",
    "state_stats_extras.head()"
   ]
  },
  {
   "cell_type": "code",
   "execution_count": 30,
   "metadata": {
    "collapsed": false
   },
   "outputs": [
   ],
   "source": [
    "# Define a function to add these last extras that need to be applied after our numerical calculations (highlighting for example)\n",
    "# Don't forget to pass in tuition as a parameter because you merge with it\n",
    "def add_extras(state_stats,tuition):\n",
    "    # turn the index into a column\n",
    "    state_stats_extras = state_stats.reset_index(level=0)\n",
    "    # rename index to state\n",
    "    state_stats_extras.rename({'index': 'state'}, axis=1, inplace=True)\n",
    "    # add the state_code column\n",
    "    state_stats_extras = state_stats_extras.merge(tuition[['state','state_code']], on='state').drop_duplicates().reset_index(drop=True)\n",
    "    return state_stats_extras"
   ]
  },
  {
   "cell_type": "code",
   "execution_count": 31,
   "metadata": {
    "collapsed": false
   },
   "outputs": [
    {
     "name": "stderr",
     "output_type": "stream",
     "text": [
      "WARNING: 1 intermediate output message was discarded.\n"
     ]
    },
    {
     "data": {
      "application/vnd.plotly.v1+json": {
       "config": {
        "plotlyServerURL": "https://plot.ly"
       },
       "data": [
        {
         "hovertemplate": "state=Alabama<br>four year average in state tuition=%{x}<br>average mid_career_pay=%{y}<br>average make_world_better_percent=%{marker.size}<extra></extra>",
         "legendgroup": "Alabama",
         "marker": {
          "color": "#636efa",
          "size": [
           60.04761904761905
          ],
          "sizemode": "area",
          "sizeref": 0.16583333333333333,
          "symbol": "circle"
         },
         "mode": "markers",
         "name": "Alabama",
         "orientation": "v",
         "showlegend": true,
         "type": "scatter",
         "x": [
          64536.95238095238
         ],
         "xaxis": "x",
         "y": [
          81176.19047619047
         ],
         "yaxis": "y"
        },
        {
         "hovertemplate": "state=Alaska<br>four year average in state tuition=%{x}<br>average mid_career_pay=%{y}<br>average make_world_better_percent=%{marker.size}<extra></extra>",
         "legendgroup": "Alaska",
         "marker": {
          "color": "#EF553B",
          "size": [
           59.333333333333336
          ],
          "sizemode": "area",
          "sizeref": 0.16583333333333333,
          "symbol": "circle"
         },
         "mode": "markers",
         "name": "Alaska",
         "orientation": "v",
         "showlegend": true,
         "type": "scatter",
         "x": [
          48806.666666666664
         ],
         "xaxis": "x",
         "y": [
          97600
         ],
         "yaxis": "y"
        },
        {
         "hovertemplate": "state=Arizona<br>four year average in state tuition=%{x}<br>average mid_career_pay=%{y}<br>average make_world_better_percent=%{marker.size}<extra></extra>",
         "legendgroup": "Arizona",
         "marker": {
          "color": "#00cc96",
          "size": [
           58.666666666666664
          ],
          "sizemode": "area",
          "sizeref": 0.16583333333333333,
          "symbol": "circle"
         },
         "mode": "markers",
         "name": "Arizona",
         "orientation": "v",
         "showlegend": true,
         "type": "scatter",
         "x": [
          74048
         ],
         "xaxis": "x",
         "y": [
          88166.66666666667
         ],
         "yaxis": "y"
        },
        {
         "hovertemplate": "state=Arkansas<br>four year average in state tuition=%{x}<br>average mid_career_pay=%{y}<br>average make_world_better_percent=%{marker.size}<extra></extra>",
         "legendgroup": "Arkansas",
         "marker": {
          "color": "#ab63fa",
          "size": [
           57.57142857142857
          ],
          "sizemode": "area",
          "sizeref": 0.16583333333333333,
          "symbol": "circle"
         },
         "mode": "markers",
         "name": "Arkansas",
         "orientation": "v",
         "showlegend": true,
         "type": "scatter",
         "x": [
          68785.42857142857
         ],
         "xaxis": "x",
         "y": [
          81700
         ],
         "yaxis": "y"
        },
        {
         "hovertemplate": "state=California<br>four year average in state tuition=%{x}<br>average mid_career_pay=%{y}<br>average make_world_better_percent=%{marker.size}<extra></extra>",
         "legendgroup": "California",
         "marker": {
          "color": "#FFA15A",
          "size": [
           49.76923076923077
          ],
          "sizemode": "area",
          "sizeref": 0.16583333333333333,
          "symbol": "circle"
         },
         "mode": "markers",
         "name": "California",
         "orientation": "v",
         "showlegend": true,
         "type": "scatter",
         "x": [
          190626.15384615384
         ],
         "xaxis": "x",
         "y": [
          124876.92307692308
         ],
         "yaxis": "y"
        },
        {
         "hovertemplate": "state=Colorado<br>four year average in state tuition=%{x}<br>average mid_career_pay=%{y}<br>average make_world_better_percent=%{marker.size}<extra></extra>",
         "legendgroup": "Colorado",
         "marker": {
          "color": "#19d3f3",
          "size": [
           53.92307692307692
          ],
          "sizemode": "area",
          "sizeref": 0.16583333333333333,
          "symbol": "circle"
         },
         "mode": "markers",
         "name": "Colorado",
         "orientation": "v",
         "showlegend": true,
         "type": "scatter",
         "x": [
          83676.61538461539
         ],
         "xaxis": "x",
         "y": [
          93815.38461538461
         ],
         "yaxis": "y"
        },
        {
         "hovertemplate": "state=Connecticut<br>four year average in state tuition=%{x}<br>average mid_career_pay=%{y}<br>average make_world_better_percent=%{marker.size}<extra></extra>",
         "legendgroup": "Connecticut",
         "marker": {
          "color": "#FF6692",
          "size": [
           51
          ],
          "sizemode": "area",
          "sizeref": 0.16583333333333333,
          "symbol": "circle"
         },
         "mode": "markers",
         "name": "Connecticut",
         "orientation": "v",
         "showlegend": true,
         "type": "scatter",
         "x": [
          135868.44444444444
         ],
         "xaxis": "x",
         "y": [
          99505.55555555556
         ],
         "yaxis": "y"
        },
        {
         "hovertemplate": "state=Delaware<br>four year average in state tuition=%{x}<br>average mid_career_pay=%{y}<br>average make_world_better_percent=%{marker.size}<extra></extra>",
         "legendgroup": "Delaware",
         "marker": {
          "color": "#B6E880",
          "size": [
           49.4
          ],
          "sizemode": "area",
          "sizeref": 0.16583333333333333,
          "symbol": "circle"
         },
         "mode": "markers",
         "name": "Delaware",
         "orientation": "v",
         "showlegend": true,
         "type": "scatter",
         "x": [
          66771.2
         ],
         "xaxis": "x",
         "y": [
          85620
         ],
         "yaxis": "y"
        },
        {
         "hovertemplate": "state=Florida<br>four year average in state tuition=%{x}<br>average mid_career_pay=%{y}<br>average make_world_better_percent=%{marker.size}<extra></extra>",
         "legendgroup": "Florida",
         "marker": {
          "color": "#FF97FF",
          "size": [
           54.5
          ],
          "sizemode": "area",
          "sizeref": 0.16583333333333333,
          "symbol": "circle"
         },
         "mode": "markers",
         "name": "Florida",
         "orientation": "v",
         "showlegend": true,
         "type": "scatter",
         "x": [
          96486.22222222222
         ],
         "xaxis": "x",
         "y": [
          90455.55555555556
         ],
         "yaxis": "y"
        },
        {
         "hovertemplate": "state=Georgia<br>four year average in state tuition=%{x}<br>average mid_career_pay=%{y}<br>average make_world_better_percent=%{marker.size}<extra></extra>",
         "legendgroup": "Georgia",
         "marker": {
          "color": "#FECB52",
          "size": [
           52.86363636363637
          ],
          "sizemode": "area",
          "sizeref": 0.16583333333333333,
          "symbol": "circle"
         },
         "mode": "markers",
         "name": "Georgia",
         "orientation": "v",
         "showlegend": true,
         "type": "scatter",
         "x": [
          84775.63636363637
         ],
         "xaxis": "x",
         "y": [
          86700
         ],
         "yaxis": "y"
        },
        {
         "hovertemplate": "state=Hawaii<br>four year average in state tuition=%{x}<br>average mid_career_pay=%{y}<br>average make_world_better_percent=%{marker.size}<extra></extra>",
         "legendgroup": "Hawaii",
         "marker": {
          "color": "#636efa",
          "size": [
           56.6
          ],
          "sizemode": "area",
          "sizeref": 0.16583333333333333,
          "symbol": "circle"
         },
         "mode": "markers",
         "name": "Hawaii",
         "orientation": "v",
         "showlegend": true,
         "type": "scatter",
         "x": [
          61283.2
         ],
         "xaxis": "x",
         "y": [
          88040
         ],
         "yaxis": "y"
        },
        {
         "hovertemplate": "state=Idaho<br>four year average in state tuition=%{x}<br>average mid_career_pay=%{y}<br>average make_world_better_percent=%{marker.size}<extra></extra>",
         "legendgroup": "Idaho",
         "marker": {
          "color": "#EF553B",
          "size": [
           60
          ],
          "sizemode": "area",
          "sizeref": 0.16583333333333333,
          "symbol": "circle"
         },
         "mode": "markers",
         "name": "Idaho",
         "orientation": "v",
         "showlegend": true,
         "type": "scatter",
         "x": [
          42009.333333333336
         ],
         "xaxis": "x",
         "y": [
          87933.33333333333
         ],
         "yaxis": "y"
        },
        {
         "hovertemplate": "state=Illinois<br>four year average in state tuition=%{x}<br>average mid_career_pay=%{y}<br>average make_world_better_percent=%{marker.size}<extra></extra>",
         "legendgroup": "Illinois",
         "marker": {
          "color": "#00cc96",
          "size": [
           51.26315789473684
          ],
          "sizemode": "area",
          "sizeref": 0.16583333333333333,
          "symbol": "circle"
         },
         "mode": "markers",
         "name": "Illinois",
         "orientation": "v",
         "showlegend": true,
         "type": "scatter",
         "x": [
          136982.31578947368
         ],
         "xaxis": "x",
         "y": [
          101368.42105263157
         ],
         "yaxis": "y"
        },
        {
         "hovertemplate": "state=Indiana<br>four year average in state tuition=%{x}<br>average mid_career_pay=%{y}<br>average make_world_better_percent=%{marker.size}<extra></extra>",
         "legendgroup": "Indiana",
         "marker": {
          "color": "#ab63fa",
          "size": [
           51.44444444444444
          ],
          "sizemode": "area",
          "sizeref": 0.16583333333333333,
          "symbol": "circle"
         },
         "mode": "markers",
         "name": "Indiana",
         "orientation": "v",
         "showlegend": true,
         "type": "scatter",
         "x": [
          143818.44444444444
         ],
         "xaxis": "x",
         "y": [
          96233.33333333333
         ],
         "yaxis": "y"
        },
        {
         "hovertemplate": "state=Iowa<br>four year average in state tuition=%{x}<br>average mid_career_pay=%{y}<br>average make_world_better_percent=%{marker.size}<extra></extra>",
         "legendgroup": "Iowa",
         "marker": {
          "color": "#FFA15A",
          "size": [
           50.04761904761905
          ],
          "sizemode": "area",
          "sizeref": 0.16583333333333333,
          "symbol": "circle"
         },
         "mode": "markers",
         "name": "Iowa",
         "orientation": "v",
         "showlegend": true,
         "type": "scatter",
         "x": [
          127574.47619047618
         ],
         "xaxis": "x",
         "y": [
          87285.71428571429
         ],
         "yaxis": "y"
        },
        {
         "hovertemplate": "state=Kansas<br>four year average in state tuition=%{x}<br>average mid_career_pay=%{y}<br>average make_world_better_percent=%{marker.size}<extra></extra>",
         "legendgroup": "Kansas",
         "marker": {
          "color": "#19d3f3",
          "size": [
           60.35294117647059
          ],
          "sizemode": "area",
          "sizeref": 0.16583333333333333,
          "symbol": "circle"
         },
         "mode": "markers",
         "name": "Kansas",
         "orientation": "v",
         "showlegend": true,
         "type": "scatter",
         "x": [
          84346.35294117648
         ],
         "xaxis": "x",
         "y": [
          83752.94117647059
         ],
         "yaxis": "y"
        },
        {
         "hovertemplate": "state=Kentucky<br>four year average in state tuition=%{x}<br>average mid_career_pay=%{y}<br>average make_world_better_percent=%{marker.size}<extra></extra>",
         "legendgroup": "Kentucky",
         "marker": {
          "color": "#FF6692",
          "size": [
           56.083333333333336
          ],
          "sizemode": "area",
          "sizeref": 0.16583333333333333,
          "symbol": "circle"
         },
         "mode": "markers",
         "name": "Kentucky",
         "orientation": "v",
         "showlegend": true,
         "type": "scatter",
         "x": [
          92465.5
         ],
         "xaxis": "x",
         "y": [
          79012.5
         ],
         "yaxis": "y"
        },
        {
         "hovertemplate": "state=Louisiana<br>four year average in state tuition=%{x}<br>average mid_career_pay=%{y}<br>average make_world_better_percent=%{marker.size}<extra></extra>",
         "legendgroup": "Louisiana",
         "marker": {
          "color": "#B6E880",
          "size": [
           58.666666666666664
          ],
          "sizemode": "area",
          "sizeref": 0.16583333333333333,
          "symbol": "circle"
         },
         "mode": "markers",
         "name": "Louisiana",
         "orientation": "v",
         "showlegend": true,
         "type": "scatter",
         "x": [
          61872
         ],
         "xaxis": "x",
         "y": [
          85926.66666666667
         ],
         "yaxis": "y"
        },
        {
         "hovertemplate": "state=Maine<br>four year average in state tuition=%{x}<br>average mid_career_pay=%{y}<br>average make_world_better_percent=%{marker.size}<extra></extra>",
         "legendgroup": "Maine",
         "marker": {
          "color": "#FF97FF",
          "size": [
           55.875
          ],
          "sizemode": "area",
          "sizeref": 0.16583333333333333,
          "symbol": "circle"
         },
         "mode": "markers",
         "name": "Maine",
         "orientation": "v",
         "showlegend": true,
         "type": "scatter",
         "x": [
          98022
         ],
         "xaxis": "x",
         "y": [
          86425
         ],
         "yaxis": "y"
        },
        {
         "hovertemplate": "state=Maryland<br>four year average in state tuition=%{x}<br>average mid_career_pay=%{y}<br>average make_world_better_percent=%{marker.size}<extra></extra>",
         "legendgroup": "Maryland",
         "marker": {
          "color": "#FECB52",
          "size": [
           52.294117647058826
          ],
          "sizemode": "area",
          "sizeref": 0.16583333333333333,
          "symbol": "circle"
         },
         "mode": "markers",
         "name": "Maryland",
         "orientation": "v",
         "showlegend": true,
         "type": "scatter",
         "x": [
          126087.5294117647
         ],
         "xaxis": "x",
         "y": [
          94688.23529411765
         ],
         "yaxis": "y"
        },
        {
         "hovertemplate": "state=Massachusetts<br>four year average in state tuition=%{x}<br>average mid_career_pay=%{y}<br>average make_world_better_percent=%{marker.size}<extra></extra>",
         "legendgroup": "Massachusetts",
         "marker": {
          "color": "#636efa",
          "size": [
           47.523809523809526
          ],
          "sizemode": "area",
          "sizeref": 0.16583333333333333,
          "symbol": "circle"
         },
         "mode": "markers",
         "name": "Massachusetts",
         "orientation": "v",
         "showlegend": true,
         "type": "scatter",
         "x": [
          188594.85714285713
         ],
         "xaxis": "x",
         "y": [
          116009.52380952382
         ],
         "yaxis": "y"
        },
        {
         "hovertemplate": "state=Michigan<br>four year average in state tuition=%{x}<br>average mid_career_pay=%{y}<br>average make_world_better_percent=%{marker.size}<extra></extra>",
         "legendgroup": "Michigan",
         "marker": {
          "color": "#EF553B",
          "size": [
           48.90909090909091
          ],
          "sizemode": "area",
          "sizeref": 0.16583333333333333,
          "symbol": "circle"
         },
         "mode": "markers",
         "name": "Michigan",
         "orientation": "v",
         "showlegend": true,
         "type": "scatter",
         "x": [
          99996.54545454546
         ],
         "xaxis": "x",
         "y": [
          93463.63636363637
         ],
         "yaxis": "y"
        },
        {
         "hovertemplate": "state=Minnesota<br>four year average in state tuition=%{x}<br>average mid_career_pay=%{y}<br>average make_world_better_percent=%{marker.size}<extra></extra>",
         "legendgroup": "Minnesota",
         "marker": {
          "color": "#00cc96",
          "size": [
           49.111111111111114
          ],
          "sizemode": "area",
          "sizeref": 0.16583333333333333,
          "symbol": "circle"
         },
         "mode": "markers",
         "name": "Minnesota",
         "orientation": "v",
         "showlegend": true,
         "type": "scatter",
         "x": [
          133345.33333333334
         ],
         "xaxis": "x",
         "y": [
          93055.55555555556
         ],
         "yaxis": "y"
        },
        {
         "hovertemplate": "state=Mississippi<br>four year average in state tuition=%{x}<br>average mid_career_pay=%{y}<br>average make_world_better_percent=%{marker.size}<extra></extra>",
         "legendgroup": "Mississippi",
         "marker": {
          "color": "#ab63fa",
          "size": [
           62.642857142857146
          ],
          "sizemode": "area",
          "sizeref": 0.16583333333333333,
          "symbol": "circle"
         },
         "mode": "markers",
         "name": "Mississippi",
         "orientation": "v",
         "showlegend": true,
         "type": "scatter",
         "x": [
          51116
         ],
         "xaxis": "x",
         "y": [
          75707.14285714286
         ],
         "yaxis": "y"
        },
        {
         "hovertemplate": "state=Missouri<br>four year average in state tuition=%{x}<br>average mid_career_pay=%{y}<br>average make_world_better_percent=%{marker.size}<extra></extra>",
         "legendgroup": "Missouri",
         "marker": {
          "color": "#FFA15A",
          "size": [
           53
          ],
          "sizemode": "area",
          "sizeref": 0.16583333333333333,
          "symbol": "circle"
         },
         "mode": "markers",
         "name": "Missouri",
         "orientation": "v",
         "showlegend": true,
         "type": "scatter",
         "x": [
          86910.35294117648
         ],
         "xaxis": "x",
         "y": [
          85794.11764705883
         ],
         "yaxis": "y"
        },
        {
         "hovertemplate": "state=Montana<br>four year average in state tuition=%{x}<br>average mid_career_pay=%{y}<br>average make_world_better_percent=%{marker.size}<extra></extra>",
         "legendgroup": "Montana",
         "marker": {
          "color": "#19d3f3",
          "size": [
           58
          ],
          "sizemode": "area",
          "sizeref": 0.16583333333333333,
          "symbol": "circle"
         },
         "mode": "markers",
         "name": "Montana",
         "orientation": "v",
         "showlegend": true,
         "type": "scatter",
         "x": [
          78830
         ],
         "xaxis": "x",
         "y": [
          95775
         ],
         "yaxis": "y"
        },
        {
         "hovertemplate": "state=Nebraska<br>four year average in state tuition=%{x}<br>average mid_career_pay=%{y}<br>average make_world_better_percent=%{marker.size}<extra></extra>",
         "legendgroup": "Nebraska",
         "marker": {
          "color": "#FF6692",
          "size": [
           59.63636363636363
          ],
          "sizemode": "area",
          "sizeref": 0.16583333333333333,
          "symbol": "circle"
         },
         "mode": "markers",
         "name": "Nebraska",
         "orientation": "v",
         "showlegend": true,
         "type": "scatter",
         "x": [
          78756.72727272728
         ],
         "xaxis": "x",
         "y": [
          83036.36363636363
         ],
         "yaxis": "y"
        },
        {
         "hovertemplate": "state=Nevada<br>four year average in state tuition=%{x}<br>average mid_career_pay=%{y}<br>average make_world_better_percent=%{marker.size}<extra></extra>",
         "legendgroup": "Nevada",
         "marker": {
          "color": "#B6E880",
          "size": [
           39
          ],
          "sizemode": "area",
          "sizeref": 0.16583333333333333,
          "symbol": "circle"
         },
         "mode": "markers",
         "name": "Nevada",
         "orientation": "v",
         "showlegend": true,
         "type": "scatter",
         "x": [
          136964
         ],
         "xaxis": "x",
         "y": [
          95500
         ],
         "yaxis": "y"
        },
        {
         "hovertemplate": "state=New Hampshire<br>four year average in state tuition=%{x}<br>average mid_career_pay=%{y}<br>average make_world_better_percent=%{marker.size}<extra></extra>",
         "legendgroup": "New Hampshire",
         "marker": {
          "color": "#FF97FF",
          "size": [
           51.27272727272727
          ],
          "sizemode": "area",
          "sizeref": 0.16583333333333333,
          "symbol": "circle"
         },
         "mode": "markers",
         "name": "New Hampshire",
         "orientation": "v",
         "showlegend": true,
         "type": "scatter",
         "x": [
          120004.36363636363
         ],
         "xaxis": "x",
         "y": [
          89909.09090909091
         ],
         "yaxis": "y"
        },
        {
         "hovertemplate": "state=New Jersey<br>four year average in state tuition=%{x}<br>average mid_career_pay=%{y}<br>average make_world_better_percent=%{marker.size}<extra></extra>",
         "legendgroup": "New Jersey",
         "marker": {
          "color": "#FECB52",
          "size": [
           46.473684210526315
          ],
          "sizemode": "area",
          "sizeref": 0.16583333333333333,
          "symbol": "circle"
         },
         "mode": "markers",
         "name": "New Jersey",
         "orientation": "v",
         "showlegend": true,
         "type": "scatter",
         "x": [
          104793.26315789473
         ],
         "xaxis": "x",
         "y": [
          100400
         ],
         "yaxis": "y"
        },
        {
         "hovertemplate": "state=New Mexico<br>four year average in state tuition=%{x}<br>average mid_career_pay=%{y}<br>average make_world_better_percent=%{marker.size}<extra></extra>",
         "legendgroup": "New Mexico",
         "marker": {
          "color": "#636efa",
          "size": [
           66.33333333333333
          ],
          "sizemode": "area",
          "sizeref": 0.16583333333333333,
          "symbol": "circle"
         },
         "mode": "markers",
         "name": "New Mexico",
         "orientation": "v",
         "showlegend": true,
         "type": "scatter",
         "x": [
          27658.666666666668
         ],
         "xaxis": "x",
         "y": [
          90300
         ],
         "yaxis": "y"
        },
        {
         "hovertemplate": "state=New York<br>four year average in state tuition=%{x}<br>average mid_career_pay=%{y}<br>average make_world_better_percent=%{marker.size}<extra></extra>",
         "legendgroup": "New York",
         "marker": {
          "color": "#EF553B",
          "size": [
           50.8125
          ],
          "sizemode": "area",
          "sizeref": 0.16583333333333333,
          "symbol": "circle"
         },
         "mode": "markers",
         "name": "New York",
         "orientation": "v",
         "showlegend": true,
         "type": "scatter",
         "x": [
          178446
         ],
         "xaxis": "x",
         "y": [
          122106.25
         ],
         "yaxis": "y"
        },
        {
         "hovertemplate": "state=North Carolina<br>four year average in state tuition=%{x}<br>average mid_career_pay=%{y}<br>average make_world_better_percent=%{marker.size}<extra></extra>",
         "legendgroup": "North Carolina",
         "marker": {
          "color": "#00cc96",
          "size": [
           51.85
          ],
          "sizemode": "area",
          "sizeref": 0.16583333333333333,
          "symbol": "circle"
         },
         "mode": "markers",
         "name": "North Carolina",
         "orientation": "v",
         "showlegend": true,
         "type": "scatter",
         "x": [
          110695.2
         ],
         "xaxis": "x",
         "y": [
          89245
         ],
         "yaxis": "y"
        },
        {
         "hovertemplate": "state=North Dakota<br>four year average in state tuition=%{x}<br>average mid_career_pay=%{y}<br>average make_world_better_percent=%{marker.size}<extra></extra>",
         "legendgroup": "North Dakota",
         "marker": {
          "color": "#ab63fa",
          "size": [
           56
          ],
          "sizemode": "area",
          "sizeref": 0.16583333333333333,
          "symbol": "circle"
         },
         "mode": "markers",
         "name": "North Dakota",
         "orientation": "v",
         "showlegend": true,
         "type": "scatter",
         "x": [
          44292.57142857143
         ],
         "xaxis": "x",
         "y": [
          80814.28571428571
         ],
         "yaxis": "y"
        },
        {
         "hovertemplate": "state=Ohio<br>four year average in state tuition=%{x}<br>average mid_career_pay=%{y}<br>average make_world_better_percent=%{marker.size}<extra></extra>",
         "legendgroup": "Ohio",
         "marker": {
          "color": "#FFA15A",
          "size": [
           50
          ],
          "sizemode": "area",
          "sizeref": 0.16583333333333333,
          "symbol": "circle"
         },
         "mode": "markers",
         "name": "Ohio",
         "orientation": "v",
         "showlegend": true,
         "type": "scatter",
         "x": [
          147707.46666666667
         ],
         "xaxis": "x",
         "y": [
          99440
         ],
         "yaxis": "y"
        },
        {
         "hovertemplate": "state=Oklahoma<br>four year average in state tuition=%{x}<br>average mid_career_pay=%{y}<br>average make_world_better_percent=%{marker.size}<extra></extra>",
         "legendgroup": "Oklahoma",
         "marker": {
          "color": "#19d3f3",
          "size": [
           57.63157894736842
          ],
          "sizemode": "area",
          "sizeref": 0.16583333333333333,
          "symbol": "circle"
         },
         "mode": "markers",
         "name": "Oklahoma",
         "orientation": "v",
         "showlegend": true,
         "type": "scatter",
         "x": [
          62780.42105263158
         ],
         "xaxis": "x",
         "y": [
          81221.05263157895
         ],
         "yaxis": "y"
        },
        {
         "hovertemplate": "state=Oregon<br>four year average in state tuition=%{x}<br>average mid_career_pay=%{y}<br>average make_world_better_percent=%{marker.size}<extra></extra>",
         "legendgroup": "Oregon",
         "marker": {
          "color": "#FF6692",
          "size": [
           57.22222222222222
          ],
          "sizemode": "area",
          "sizeref": 0.16583333333333333,
          "symbol": "circle"
         },
         "mode": "markers",
         "name": "Oregon",
         "orientation": "v",
         "showlegend": true,
         "type": "scatter",
         "x": [
          107244.44444444444
         ],
         "xaxis": "x",
         "y": [
          91083.33333333333
         ],
         "yaxis": "y"
        },
        {
         "hovertemplate": "state=Pennsylvania<br>four year average in state tuition=%{x}<br>average mid_career_pay=%{y}<br>average make_world_better_percent=%{marker.size}<extra></extra>",
         "legendgroup": "Pennsylvania",
         "marker": {
          "color": "#B6E880",
          "size": [
           45.36842105263158
          ],
          "sizemode": "area",
          "sizeref": 0.16583333333333333,
          "symbol": "circle"
         },
         "mode": "markers",
         "name": "Pennsylvania",
         "orientation": "v",
         "showlegend": true,
         "type": "scatter",
         "x": [
          191462.52631578947
         ],
         "xaxis": "x",
         "y": [
          113457.8947368421
         ],
         "yaxis": "y"
        },
        {
         "hovertemplate": "state=Rhode Island<br>four year average in state tuition=%{x}<br>average mid_career_pay=%{y}<br>average make_world_better_percent=%{marker.size}<extra></extra>",
         "legendgroup": "Rhode Island",
         "marker": {
          "color": "#FF97FF",
          "size": [
           45.44444444444444
          ],
          "sizemode": "area",
          "sizeref": 0.16583333333333333,
          "symbol": "circle"
         },
         "mode": "markers",
         "name": "Rhode Island",
         "orientation": "v",
         "showlegend": true,
         "type": "scatter",
         "x": [
          146248
         ],
         "xaxis": "x",
         "y": [
          100744.44444444444
         ],
         "yaxis": "y"
        },
        {
         "hovertemplate": "state=South Carolina<br>four year average in state tuition=%{x}<br>average mid_career_pay=%{y}<br>average make_world_better_percent=%{marker.size}<extra></extra>",
         "legendgroup": "South Carolina",
         "marker": {
          "color": "#FECB52",
          "size": [
           57.666666666666664
          ],
          "sizemode": "area",
          "sizeref": 0.16583333333333333,
          "symbol": "circle"
         },
         "mode": "markers",
         "name": "South Carolina",
         "orientation": "v",
         "showlegend": true,
         "type": "scatter",
         "x": [
          87783.33333333333
         ],
         "xaxis": "x",
         "y": [
          80477.77777777778
         ],
         "yaxis": "y"
        },
        {
         "hovertemplate": "state=South Dakota<br>four year average in state tuition=%{x}<br>average mid_career_pay=%{y}<br>average make_world_better_percent=%{marker.size}<extra></extra>",
         "legendgroup": "South Dakota",
         "marker": {
          "color": "#636efa",
          "size": [
           56.5
          ],
          "sizemode": "area",
          "sizeref": 0.16583333333333333,
          "symbol": "circle"
         },
         "mode": "markers",
         "name": "South Dakota",
         "orientation": "v",
         "showlegend": true,
         "type": "scatter",
         "x": [
          63994
         ],
         "xaxis": "x",
         "y": [
          85170
         ],
         "yaxis": "y"
        },
        {
         "hovertemplate": "state=Tennessee<br>four year average in state tuition=%{x}<br>average mid_career_pay=%{y}<br>average make_world_better_percent=%{marker.size}<extra></extra>",
         "legendgroup": "Tennessee",
         "marker": {
          "color": "#EF553B",
          "size": [
           57.7
          ],
          "sizemode": "area",
          "sizeref": 0.16583333333333333,
          "symbol": "circle"
         },
         "mode": "markers",
         "name": "Tennessee",
         "orientation": "v",
         "showlegend": true,
         "type": "scatter",
         "x": [
          98784.8
         ],
         "xaxis": "x",
         "y": [
          84660
         ],
         "yaxis": "y"
        },
        {
         "hovertemplate": "state=Texas<br>four year average in state tuition=%{x}<br>average mid_career_pay=%{y}<br>average make_world_better_percent=%{marker.size}<extra></extra>",
         "legendgroup": "Texas",
         "marker": {
          "color": "#00cc96",
          "size": [
           53.833333333333336
          ],
          "sizemode": "area",
          "sizeref": 0.16583333333333333,
          "symbol": "circle"
         },
         "mode": "markers",
         "name": "Texas",
         "orientation": "v",
         "showlegend": true,
         "type": "scatter",
         "x": [
          106221.55555555556
         ],
         "xaxis": "x",
         "y": [
          102516.66666666667
         ],
         "yaxis": "y"
        },
        {
         "hovertemplate": "state=Utah<br>four year average in state tuition=%{x}<br>average mid_career_pay=%{y}<br>average make_world_better_percent=%{marker.size}<extra></extra>",
         "legendgroup": "Utah",
         "marker": {
          "color": "#ab63fa",
          "size": [
           59.5
          ],
          "sizemode": "area",
          "sizeref": 0.16583333333333333,
          "symbol": "circle"
         },
         "mode": "markers",
         "name": "Utah",
         "orientation": "v",
         "showlegend": true,
         "type": "scatter",
         "x": [
          27761.333333333332
         ],
         "xaxis": "x",
         "y": [
          92833.33333333333
         ],
         "yaxis": "y"
        },
        {
         "hovertemplate": "state=Vermont<br>four year average in state tuition=%{x}<br>average mid_career_pay=%{y}<br>average make_world_better_percent=%{marker.size}<extra></extra>",
         "legendgroup": "Vermont",
         "marker": {
          "color": "#FFA15A",
          "size": [
           49.63636363636363
          ],
          "sizemode": "area",
          "sizeref": 0.16583333333333333,
          "symbol": "circle"
         },
         "mode": "markers",
         "name": "Vermont",
         "orientation": "v",
         "showlegend": true,
         "type": "scatter",
         "x": [
          129271.27272727272
         ],
         "xaxis": "x",
         "y": [
          89481.81818181818
         ],
         "yaxis": "y"
        },
        {
         "hovertemplate": "state=Virginia<br>four year average in state tuition=%{x}<br>average mid_career_pay=%{y}<br>average make_world_better_percent=%{marker.size}<extra></extra>",
         "legendgroup": "Virginia",
         "marker": {
          "color": "#19d3f3",
          "size": [
           53.13636363636363
          ],
          "sizemode": "area",
          "sizeref": 0.16583333333333333,
          "symbol": "circle"
         },
         "mode": "markers",
         "name": "Virginia",
         "orientation": "v",
         "showlegend": true,
         "type": "scatter",
         "x": [
          100446.36363636363
         ],
         "xaxis": "x",
         "y": [
          96559.09090909091
         ],
         "yaxis": "y"
        },
        {
         "hovertemplate": "state=Washington<br>four year average in state tuition=%{x}<br>average mid_career_pay=%{y}<br>average make_world_better_percent=%{marker.size}<extra></extra>",
         "legendgroup": "Washington",
         "marker": {
          "color": "#FF6692",
          "size": [
           51.1875
          ],
          "sizemode": "area",
          "sizeref": 0.16583333333333333,
          "symbol": "circle"
         },
         "mode": "markers",
         "name": "Washington",
         "orientation": "v",
         "showlegend": true,
         "type": "scatter",
         "x": [
          123986
         ],
         "xaxis": "x",
         "y": [
          97043.75
         ],
         "yaxis": "y"
        },
        {
         "hovertemplate": "state=West Virginia<br>four year average in state tuition=%{x}<br>average mid_career_pay=%{y}<br>average make_world_better_percent=%{marker.size}<extra></extra>",
         "legendgroup": "West Virginia",
         "marker": {
          "color": "#B6E880",
          "size": [
           55.86666666666667
          ],
          "sizemode": "area",
          "sizeref": 0.16583333333333333,
          "symbol": "circle"
         },
         "mode": "markers",
         "name": "West Virginia",
         "orientation": "v",
         "showlegend": true,
         "type": "scatter",
         "x": [
          53202.666666666664
         ],
         "xaxis": "x",
         "y": [
          80040
         ],
         "yaxis": "y"
        },
        {
         "hovertemplate": "state=Wisconsin<br>four year average in state tuition=%{x}<br>average mid_career_pay=%{y}<br>average make_world_better_percent=%{marker.size}<extra></extra>",
         "legendgroup": "Wisconsin",
         "marker": {
          "color": "#FF97FF",
          "size": [
           53.22727272727273
          ],
          "sizemode": "area",
          "sizeref": 0.16583333333333333,
          "symbol": "circle"
         },
         "mode": "markers",
         "name": "Wisconsin",
         "orientation": "v",
         "showlegend": true,
         "type": "scatter",
         "x": [
          95868.54545454546
         ],
         "xaxis": "x",
         "y": [
          91100
         ],
         "yaxis": "y"
        },
        {
         "hovertemplate": "state=Wyoming<br>four year average in state tuition=%{x}<br>average mid_career_pay=%{y}<br>average make_world_better_percent=%{marker.size}<extra></extra>",
         "legendgroup": "Wyoming",
         "marker": {
          "color": "#FECB52",
          "size": [
           58
          ],
          "sizemode": "area",
          "sizeref": 0.16583333333333333,
          "symbol": "circle"
         },
         "mode": "markers",
         "name": "Wyoming",
         "orientation": "v",
         "showlegend": true,
         "type": "scatter",
         "x": [
          21600
         ],
         "xaxis": "x",
         "y": [
          98800
         ],
         "yaxis": "y"
        },
        {
         "hovertemplate": "<b>OLS trendline</b><br>average mid_career_pay = 0.175898 * four year average in state tuition + 75105<br>R<sup>2</sup>=0.504633<br><br>four year average in state tuition=%{x}<br>average mid_career_pay=%{y} <b>(trend)</b><extra></extra>",
         "legendgroup": "Overall Trendline",
         "line": {
          "color": "#636efa"
         },
         "mode": "lines",
         "name": "Overall Trendline",
         "showlegend": true,
         "type": "scatter",
         "x": [
          21600,
          27658.666666666668,
          27761.333333333332,
          42009.333333333336,
          44292.57142857143,
          48806.666666666664,
          51116,
          53202.666666666664,
          61283.2,
          61872,
          62780.42105263158,
          63994,
          64536.95238095238,
          66771.2,
          68785.42857142857,
          74048,
          78756.72727272728,
          78830,
          83676.61538461539,
          84346.35294117648,
          84775.63636363637,
          86910.35294117648,
          87783.33333333333,
          92465.5,
          95868.54545454546,
          96486.22222222222,
          98022,
          98784.8,
          99996.54545454546,
          100446.36363636363,
          104793.26315789473,
          106221.55555555556,
          107244.44444444444,
          110695.2,
          120004.36363636363,
          123986,
          126087.5294117647,
          127574.47619047618,
          129271.27272727272,
          133345.33333333334,
          135868.44444444444,
          136964,
          136982.31578947368,
          143818.44444444444,
          146248,
          147707.46666666667,
          178446,
          188594.85714285713,
          190626.15384615384,
          191462.52631578947
         ],
         "xaxis": "x",
         "y": [
          78904.39341150041,
          79970.10341185667,
          79988.1623181127,
          82494.36325645054,
          82895.98126997765,
          83690.00356935023,
          84096.21169448603,
          84463.25310085874,
          85884.6062888339,
          85988.17528886852,
          86147.96513267193,
          86361.4317733683,
          86456.93624884666,
          86849.9369141566,
          87204.23657275719,
          88129.9146645845,
          88958.17243474776,
          88971.0609929907,
          89823.573066593,
          89941.37885636654,
          90016.88913964713,
          90392.38245026732,
          90545.93833726717,
          91369.52413832376,
          91968.11451671988,
          92076.7628950706,
          92346.90380661924,
          92481.07913478909,
          92694.22326696262,
          92773.34558232999,
          93537.95841639242,
          93789.19281751807,
          93969.11737486988,
          94576.09988548947,
          96213.56722410505,
          96913.93083939601,
          97283.58657940928,
          97545.13819451773,
          97843.60205419542,
          98560.22294932137,
          99004.03425155306,
          99196.74076203414,
          99199.96248078522,
          100402.42683014554,
          100829.78185633008,
          101086.4997626659,
          106493.35974884841,
          108278.52786328449,
          108635.82977961272,
          108782.94639023882
         ],
         "yaxis": "y"
        }
       ],
       "layout": {
        "legend": {
         "itemsizing": "constant",
         "title": {
          "text": "state"
         },
         "tracegroupgap": 0
        },
        "template": {
         "data": {
          "bar": [
           {
            "error_x": {
             "color": "#2a3f5f"
            },
            "error_y": {
             "color": "#2a3f5f"
            },
            "marker": {
             "line": {
              "color": "#E5ECF6",
              "width": 0.5
             },
             "pattern": {
              "fillmode": "overlay",
              "size": 10,
              "solidity": 0.2
             }
            },
            "type": "bar"
           }
          ],
          "barpolar": [
           {
            "marker": {
             "line": {
              "color": "#E5ECF6",
              "width": 0.5
             },
             "pattern": {
              "fillmode": "overlay",
              "size": 10,
              "solidity": 0.2
             }
            },
            "type": "barpolar"
           }
          ],
          "carpet": [
           {
            "aaxis": {
             "endlinecolor": "#2a3f5f",
             "gridcolor": "white",
             "linecolor": "white",
             "minorgridcolor": "white",
             "startlinecolor": "#2a3f5f"
            },
            "baxis": {
             "endlinecolor": "#2a3f5f",
             "gridcolor": "white",
             "linecolor": "white",
             "minorgridcolor": "white",
             "startlinecolor": "#2a3f5f"
            },
            "type": "carpet"
           }
          ],
          "choropleth": [
           {
            "colorbar": {
             "outlinewidth": 0,
             "ticks": ""
            },
            "type": "choropleth"
           }
          ],
          "contour": [
           {
            "colorbar": {
             "outlinewidth": 0,
             "ticks": ""
            },
            "colorscale": [
             [
              0,
              "#0d0887"
             ],
             [
              0.1111111111111111,
              "#46039f"
             ],
             [
              0.2222222222222222,
              "#7201a8"
             ],
             [
              0.3333333333333333,
              "#9c179e"
             ],
             [
              0.4444444444444444,
              "#bd3786"
             ],
             [
              0.5555555555555556,
              "#d8576b"
             ],
             [
              0.6666666666666666,
              "#ed7953"
             ],
             [
              0.7777777777777778,
              "#fb9f3a"
             ],
             [
              0.8888888888888888,
              "#fdca26"
             ],
             [
              1,
              "#f0f921"
             ]
            ],
            "type": "contour"
           }
          ],
          "contourcarpet": [
           {
            "colorbar": {
             "outlinewidth": 0,
             "ticks": ""
            },
            "type": "contourcarpet"
           }
          ],
          "heatmap": [
           {
            "colorbar": {
             "outlinewidth": 0,
             "ticks": ""
            },
            "colorscale": [
             [
              0,
              "#0d0887"
             ],
             [
              0.1111111111111111,
              "#46039f"
             ],
             [
              0.2222222222222222,
              "#7201a8"
             ],
             [
              0.3333333333333333,
              "#9c179e"
             ],
             [
              0.4444444444444444,
              "#bd3786"
             ],
             [
              0.5555555555555556,
              "#d8576b"
             ],
             [
              0.6666666666666666,
              "#ed7953"
             ],
             [
              0.7777777777777778,
              "#fb9f3a"
             ],
             [
              0.8888888888888888,
              "#fdca26"
             ],
             [
              1,
              "#f0f921"
             ]
            ],
            "type": "heatmap"
           }
          ],
          "heatmapgl": [
           {
            "colorbar": {
             "outlinewidth": 0,
             "ticks": ""
            },
            "colorscale": [
             [
              0,
              "#0d0887"
             ],
             [
              0.1111111111111111,
              "#46039f"
             ],
             [
              0.2222222222222222,
              "#7201a8"
             ],
             [
              0.3333333333333333,
              "#9c179e"
             ],
             [
              0.4444444444444444,
              "#bd3786"
             ],
             [
              0.5555555555555556,
              "#d8576b"
             ],
             [
              0.6666666666666666,
              "#ed7953"
             ],
             [
              0.7777777777777778,
              "#fb9f3a"
             ],
             [
              0.8888888888888888,
              "#fdca26"
             ],
             [
              1,
              "#f0f921"
             ]
            ],
            "type": "heatmapgl"
           }
          ],
          "histogram": [
           {
            "marker": {
             "pattern": {
              "fillmode": "overlay",
              "size": 10,
              "solidity": 0.2
             }
            },
            "type": "histogram"
           }
          ],
          "histogram2d": [
           {
            "colorbar": {
             "outlinewidth": 0,
             "ticks": ""
            },
            "colorscale": [
             [
              0,
              "#0d0887"
             ],
             [
              0.1111111111111111,
              "#46039f"
             ],
             [
              0.2222222222222222,
              "#7201a8"
             ],
             [
              0.3333333333333333,
              "#9c179e"
             ],
             [
              0.4444444444444444,
              "#bd3786"
             ],
             [
              0.5555555555555556,
              "#d8576b"
             ],
             [
              0.6666666666666666,
              "#ed7953"
             ],
             [
              0.7777777777777778,
              "#fb9f3a"
             ],
             [
              0.8888888888888888,
              "#fdca26"
             ],
             [
              1,
              "#f0f921"
             ]
            ],
            "type": "histogram2d"
           }
          ],
          "histogram2dcontour": [
           {
            "colorbar": {
             "outlinewidth": 0,
             "ticks": ""
            },
            "colorscale": [
             [
              0,
              "#0d0887"
             ],
             [
              0.1111111111111111,
              "#46039f"
             ],
             [
              0.2222222222222222,
              "#7201a8"
             ],
             [
              0.3333333333333333,
              "#9c179e"
             ],
             [
              0.4444444444444444,
              "#bd3786"
             ],
             [
              0.5555555555555556,
              "#d8576b"
             ],
             [
              0.6666666666666666,
              "#ed7953"
             ],
             [
              0.7777777777777778,
              "#fb9f3a"
             ],
             [
              0.8888888888888888,
              "#fdca26"
             ],
             [
              1,
              "#f0f921"
             ]
            ],
            "type": "histogram2dcontour"
           }
          ],
          "mesh3d": [
           {
            "colorbar": {
             "outlinewidth": 0,
             "ticks": ""
            },
            "type": "mesh3d"
           }
          ],
          "parcoords": [
           {
            "line": {
             "colorbar": {
              "outlinewidth": 0,
              "ticks": ""
             }
            },
            "type": "parcoords"
           }
          ],
          "pie": [
           {
            "automargin": true,
            "type": "pie"
           }
          ],
          "scatter": [
           {
            "marker": {
             "colorbar": {
              "outlinewidth": 0,
              "ticks": ""
             }
            },
            "type": "scatter"
           }
          ],
          "scatter3d": [
           {
            "line": {
             "colorbar": {
              "outlinewidth": 0,
              "ticks": ""
             }
            },
            "marker": {
             "colorbar": {
              "outlinewidth": 0,
              "ticks": ""
             }
            },
            "type": "scatter3d"
           }
          ],
          "scattercarpet": [
           {
            "marker": {
             "colorbar": {
              "outlinewidth": 0,
              "ticks": ""
             }
            },
            "type": "scattercarpet"
           }
          ],
          "scattergeo": [
           {
            "marker": {
             "colorbar": {
              "outlinewidth": 0,
              "ticks": ""
             }
            },
            "type": "scattergeo"
           }
          ],
          "scattergl": [
           {
            "marker": {
             "colorbar": {
              "outlinewidth": 0,
              "ticks": ""
             }
            },
            "type": "scattergl"
           }
          ],
          "scattermapbox": [
           {
            "marker": {
             "colorbar": {
              "outlinewidth": 0,
              "ticks": ""
             }
            },
            "type": "scattermapbox"
           }
          ],
          "scatterpolar": [
           {
            "marker": {
             "colorbar": {
              "outlinewidth": 0,
              "ticks": ""
             }
            },
            "type": "scatterpolar"
           }
          ],
          "scatterpolargl": [
           {
            "marker": {
             "colorbar": {
              "outlinewidth": 0,
              "ticks": ""
             }
            },
            "type": "scatterpolargl"
           }
          ],
          "scatterternary": [
           {
            "marker": {
             "colorbar": {
              "outlinewidth": 0,
              "ticks": ""
             }
            },
            "type": "scatterternary"
           }
          ],
          "surface": [
           {
            "colorbar": {
             "outlinewidth": 0,
             "ticks": ""
            },
            "colorscale": [
             [
              0,
              "#0d0887"
             ],
             [
              0.1111111111111111,
              "#46039f"
             ],
             [
              0.2222222222222222,
              "#7201a8"
             ],
             [
              0.3333333333333333,
              "#9c179e"
             ],
             [
              0.4444444444444444,
              "#bd3786"
             ],
             [
              0.5555555555555556,
              "#d8576b"
             ],
             [
              0.6666666666666666,
              "#ed7953"
             ],
             [
              0.7777777777777778,
              "#fb9f3a"
             ],
             [
              0.8888888888888888,
              "#fdca26"
             ],
             [
              1,
              "#f0f921"
             ]
            ],
            "type": "surface"
           }
          ],
          "table": [
           {
            "cells": {
             "fill": {
              "color": "#EBF0F8"
             },
             "line": {
              "color": "white"
             }
            },
            "header": {
             "fill": {
              "color": "#C8D4E3"
             },
             "line": {
              "color": "white"
             }
            },
            "type": "table"
           }
          ]
         },
         "layout": {
          "annotationdefaults": {
           "arrowcolor": "#2a3f5f",
           "arrowhead": 0,
           "arrowwidth": 1
          },
          "autotypenumbers": "strict",
          "coloraxis": {
           "colorbar": {
            "outlinewidth": 0,
            "ticks": ""
           }
          },
          "colorscale": {
           "diverging": [
            [
             0,
             "#8e0152"
            ],
            [
             0.1,
             "#c51b7d"
            ],
            [
             0.2,
             "#de77ae"
            ],
            [
             0.3,
             "#f1b6da"
            ],
            [
             0.4,
             "#fde0ef"
            ],
            [
             0.5,
             "#f7f7f7"
            ],
            [
             0.6,
             "#e6f5d0"
            ],
            [
             0.7,
             "#b8e186"
            ],
            [
             0.8,
             "#7fbc41"
            ],
            [
             0.9,
             "#4d9221"
            ],
            [
             1,
             "#276419"
            ]
           ],
           "sequential": [
            [
             0,
             "#0d0887"
            ],
            [
             0.1111111111111111,
             "#46039f"
            ],
            [
             0.2222222222222222,
             "#7201a8"
            ],
            [
             0.3333333333333333,
             "#9c179e"
            ],
            [
             0.4444444444444444,
             "#bd3786"
            ],
            [
             0.5555555555555556,
             "#d8576b"
            ],
            [
             0.6666666666666666,
             "#ed7953"
            ],
            [
             0.7777777777777778,
             "#fb9f3a"
            ],
            [
             0.8888888888888888,
             "#fdca26"
            ],
            [
             1,
             "#f0f921"
            ]
           ],
           "sequentialminus": [
            [
             0,
             "#0d0887"
            ],
            [
             0.1111111111111111,
             "#46039f"
            ],
            [
             0.2222222222222222,
             "#7201a8"
            ],
            [
             0.3333333333333333,
             "#9c179e"
            ],
            [
             0.4444444444444444,
             "#bd3786"
            ],
            [
             0.5555555555555556,
             "#d8576b"
            ],
            [
             0.6666666666666666,
             "#ed7953"
            ],
            [
             0.7777777777777778,
             "#fb9f3a"
            ],
            [
             0.8888888888888888,
             "#fdca26"
            ],
            [
             1,
             "#f0f921"
            ]
           ]
          },
          "colorway": [
           "#636efa",
           "#EF553B",
           "#00cc96",
           "#ab63fa",
           "#FFA15A",
           "#19d3f3",
           "#FF6692",
           "#B6E880",
           "#FF97FF",
           "#FECB52"
          ],
          "font": {
           "color": "#2a3f5f"
          },
          "geo": {
           "bgcolor": "white",
           "lakecolor": "white",
           "landcolor": "#E5ECF6",
           "showlakes": true,
           "showland": true,
           "subunitcolor": "white"
          },
          "hoverlabel": {
           "align": "left"
          },
          "hovermode": "closest",
          "mapbox": {
           "style": "light"
          },
          "paper_bgcolor": "white",
          "plot_bgcolor": "#E5ECF6",
          "polar": {
           "angularaxis": {
            "gridcolor": "white",
            "linecolor": "white",
            "ticks": ""
           },
           "bgcolor": "#E5ECF6",
           "radialaxis": {
            "gridcolor": "white",
            "linecolor": "white",
            "ticks": ""
           }
          },
          "scene": {
           "xaxis": {
            "backgroundcolor": "#E5ECF6",
            "gridcolor": "white",
            "gridwidth": 2,
            "linecolor": "white",
            "showbackground": true,
            "ticks": "",
            "zerolinecolor": "white"
           },
           "yaxis": {
            "backgroundcolor": "#E5ECF6",
            "gridcolor": "white",
            "gridwidth": 2,
            "linecolor": "white",
            "showbackground": true,
            "ticks": "",
            "zerolinecolor": "white"
           },
           "zaxis": {
            "backgroundcolor": "#E5ECF6",
            "gridcolor": "white",
            "gridwidth": 2,
            "linecolor": "white",
            "showbackground": true,
            "ticks": "",
            "zerolinecolor": "white"
           }
          },
          "shapedefaults": {
           "line": {
            "color": "#2a3f5f"
           }
          },
          "ternary": {
           "aaxis": {
            "gridcolor": "white",
            "linecolor": "white",
            "ticks": ""
           },
           "baxis": {
            "gridcolor": "white",
            "linecolor": "white",
            "ticks": ""
           },
           "bgcolor": "#E5ECF6",
           "caxis": {
            "gridcolor": "white",
            "linecolor": "white",
            "ticks": ""
           }
          },
          "title": {
           "x": 0.05
          },
          "xaxis": {
           "automargin": true,
           "gridcolor": "white",
           "linecolor": "white",
           "ticks": "",
           "title": {
            "standoff": 15
           },
           "zerolinecolor": "white",
           "zerolinewidth": 2
          },
          "yaxis": {
           "automargin": true,
           "gridcolor": "white",
           "linecolor": "white",
           "ticks": "",
           "title": {
            "standoff": 15
           },
           "zerolinecolor": "white",
           "zerolinewidth": 2
          }
         }
        },
        "title": {
         "text": "Average In State Tuition vs Average % of Students Graduating with STEM Degrees"
        },
        "xaxis": {
         "anchor": "y",
         "domain": [
          0,
          1
         ],
         "title": {
          "text": "four year average in state tuition"
         }
        },
        "yaxis": {
         "anchor": "x",
         "domain": [
          0,
          1
         ],
         "title": {
          "text": "average mid_career_pay"
         }
        }
       }
      },
      "text/html": [
       "<div>                            <div id=\"c26159d1-21a9-4225-b7ce-be869c125be5\" class=\"plotly-graph-div\" style=\"height:525px; width:100%;\"></div>            <script type=\"text/javascript\">                require([\"plotly\"], function(Plotly) {                    window.PLOTLYENV=window.PLOTLYENV || {};                                    if (document.getElementById(\"c26159d1-21a9-4225-b7ce-be869c125be5\")) {                    Plotly.newPlot(                        \"c26159d1-21a9-4225-b7ce-be869c125be5\",                        [{\"hovertemplate\":\"state=Alabama<br>four year average in state tuition=%{x}<br>average mid_career_pay=%{y}<br>average make_world_better_percent=%{marker.size}<extra></extra>\",\"legendgroup\":\"Alabama\",\"marker\":{\"color\":\"#636efa\",\"size\":[60.04761904761905],\"sizemode\":\"area\",\"sizeref\":0.16583333333333333,\"symbol\":\"circle\"},\"mode\":\"markers\",\"name\":\"Alabama\",\"orientation\":\"v\",\"showlegend\":true,\"x\":[64536.95238095238],\"xaxis\":\"x\",\"y\":[81176.19047619047],\"yaxis\":\"y\",\"type\":\"scatter\"},{\"hovertemplate\":\"state=Alaska<br>four year average in state tuition=%{x}<br>average mid_career_pay=%{y}<br>average make_world_better_percent=%{marker.size}<extra></extra>\",\"legendgroup\":\"Alaska\",\"marker\":{\"color\":\"#EF553B\",\"size\":[59.333333333333336],\"sizemode\":\"area\",\"sizeref\":0.16583333333333333,\"symbol\":\"circle\"},\"mode\":\"markers\",\"name\":\"Alaska\",\"orientation\":\"v\",\"showlegend\":true,\"x\":[48806.666666666664],\"xaxis\":\"x\",\"y\":[97600.0],\"yaxis\":\"y\",\"type\":\"scatter\"},{\"hovertemplate\":\"state=Arizona<br>four year average in state tuition=%{x}<br>average mid_career_pay=%{y}<br>average make_world_better_percent=%{marker.size}<extra></extra>\",\"legendgroup\":\"Arizona\",\"marker\":{\"color\":\"#00cc96\",\"size\":[58.666666666666664],\"sizemode\":\"area\",\"sizeref\":0.16583333333333333,\"symbol\":\"circle\"},\"mode\":\"markers\",\"name\":\"Arizona\",\"orientation\":\"v\",\"showlegend\":true,\"x\":[74048.0],\"xaxis\":\"x\",\"y\":[88166.66666666667],\"yaxis\":\"y\",\"type\":\"scatter\"},{\"hovertemplate\":\"state=Arkansas<br>four year average in state tuition=%{x}<br>average mid_career_pay=%{y}<br>average make_world_better_percent=%{marker.size}<extra></extra>\",\"legendgroup\":\"Arkansas\",\"marker\":{\"color\":\"#ab63fa\",\"size\":[57.57142857142857],\"sizemode\":\"area\",\"sizeref\":0.16583333333333333,\"symbol\":\"circle\"},\"mode\":\"markers\",\"name\":\"Arkansas\",\"orientation\":\"v\",\"showlegend\":true,\"x\":[68785.42857142857],\"xaxis\":\"x\",\"y\":[81700.0],\"yaxis\":\"y\",\"type\":\"scatter\"},{\"hovertemplate\":\"state=California<br>four year average in state tuition=%{x}<br>average mid_career_pay=%{y}<br>average make_world_better_percent=%{marker.size}<extra></extra>\",\"legendgroup\":\"California\",\"marker\":{\"color\":\"#FFA15A\",\"size\":[49.76923076923077],\"sizemode\":\"area\",\"sizeref\":0.16583333333333333,\"symbol\":\"circle\"},\"mode\":\"markers\",\"name\":\"California\",\"orientation\":\"v\",\"showlegend\":true,\"x\":[190626.15384615384],\"xaxis\":\"x\",\"y\":[124876.92307692308],\"yaxis\":\"y\",\"type\":\"scatter\"},{\"hovertemplate\":\"state=Colorado<br>four year average in state tuition=%{x}<br>average mid_career_pay=%{y}<br>average make_world_better_percent=%{marker.size}<extra></extra>\",\"legendgroup\":\"Colorado\",\"marker\":{\"color\":\"#19d3f3\",\"size\":[53.92307692307692],\"sizemode\":\"area\",\"sizeref\":0.16583333333333333,\"symbol\":\"circle\"},\"mode\":\"markers\",\"name\":\"Colorado\",\"orientation\":\"v\",\"showlegend\":true,\"x\":[83676.61538461539],\"xaxis\":\"x\",\"y\":[93815.38461538461],\"yaxis\":\"y\",\"type\":\"scatter\"},{\"hovertemplate\":\"state=Connecticut<br>four year average in state tuition=%{x}<br>average mid_career_pay=%{y}<br>average make_world_better_percent=%{marker.size}<extra></extra>\",\"legendgroup\":\"Connecticut\",\"marker\":{\"color\":\"#FF6692\",\"size\":[51.0],\"sizemode\":\"area\",\"sizeref\":0.16583333333333333,\"symbol\":\"circle\"},\"mode\":\"markers\",\"name\":\"Connecticut\",\"orientation\":\"v\",\"showlegend\":true,\"x\":[135868.44444444444],\"xaxis\":\"x\",\"y\":[99505.55555555556],\"yaxis\":\"y\",\"type\":\"scatter\"},{\"hovertemplate\":\"state=Delaware<br>four year average in state tuition=%{x}<br>average mid_career_pay=%{y}<br>average make_world_better_percent=%{marker.size}<extra></extra>\",\"legendgroup\":\"Delaware\",\"marker\":{\"color\":\"#B6E880\",\"size\":[49.4],\"sizemode\":\"area\",\"sizeref\":0.16583333333333333,\"symbol\":\"circle\"},\"mode\":\"markers\",\"name\":\"Delaware\",\"orientation\":\"v\",\"showlegend\":true,\"x\":[66771.2],\"xaxis\":\"x\",\"y\":[85620.0],\"yaxis\":\"y\",\"type\":\"scatter\"},{\"hovertemplate\":\"state=Florida<br>four year average in state tuition=%{x}<br>average mid_career_pay=%{y}<br>average make_world_better_percent=%{marker.size}<extra></extra>\",\"legendgroup\":\"Florida\",\"marker\":{\"color\":\"#FF97FF\",\"size\":[54.5],\"sizemode\":\"area\",\"sizeref\":0.16583333333333333,\"symbol\":\"circle\"},\"mode\":\"markers\",\"name\":\"Florida\",\"orientation\":\"v\",\"showlegend\":true,\"x\":[96486.22222222222],\"xaxis\":\"x\",\"y\":[90455.55555555556],\"yaxis\":\"y\",\"type\":\"scatter\"},{\"hovertemplate\":\"state=Georgia<br>four year average in state tuition=%{x}<br>average mid_career_pay=%{y}<br>average make_world_better_percent=%{marker.size}<extra></extra>\",\"legendgroup\":\"Georgia\",\"marker\":{\"color\":\"#FECB52\",\"size\":[52.86363636363637],\"sizemode\":\"area\",\"sizeref\":0.16583333333333333,\"symbol\":\"circle\"},\"mode\":\"markers\",\"name\":\"Georgia\",\"orientation\":\"v\",\"showlegend\":true,\"x\":[84775.63636363637],\"xaxis\":\"x\",\"y\":[86700.0],\"yaxis\":\"y\",\"type\":\"scatter\"},{\"hovertemplate\":\"state=Hawaii<br>four year average in state tuition=%{x}<br>average mid_career_pay=%{y}<br>average make_world_better_percent=%{marker.size}<extra></extra>\",\"legendgroup\":\"Hawaii\",\"marker\":{\"color\":\"#636efa\",\"size\":[56.6],\"sizemode\":\"area\",\"sizeref\":0.16583333333333333,\"symbol\":\"circle\"},\"mode\":\"markers\",\"name\":\"Hawaii\",\"orientation\":\"v\",\"showlegend\":true,\"x\":[61283.2],\"xaxis\":\"x\",\"y\":[88040.0],\"yaxis\":\"y\",\"type\":\"scatter\"},{\"hovertemplate\":\"state=Idaho<br>four year average in state tuition=%{x}<br>average mid_career_pay=%{y}<br>average make_world_better_percent=%{marker.size}<extra></extra>\",\"legendgroup\":\"Idaho\",\"marker\":{\"color\":\"#EF553B\",\"size\":[60.0],\"sizemode\":\"area\",\"sizeref\":0.16583333333333333,\"symbol\":\"circle\"},\"mode\":\"markers\",\"name\":\"Idaho\",\"orientation\":\"v\",\"showlegend\":true,\"x\":[42009.333333333336],\"xaxis\":\"x\",\"y\":[87933.33333333333],\"yaxis\":\"y\",\"type\":\"scatter\"},{\"hovertemplate\":\"state=Illinois<br>four year average in state tuition=%{x}<br>average mid_career_pay=%{y}<br>average make_world_better_percent=%{marker.size}<extra></extra>\",\"legendgroup\":\"Illinois\",\"marker\":{\"color\":\"#00cc96\",\"size\":[51.26315789473684],\"sizemode\":\"area\",\"sizeref\":0.16583333333333333,\"symbol\":\"circle\"},\"mode\":\"markers\",\"name\":\"Illinois\",\"orientation\":\"v\",\"showlegend\":true,\"x\":[136982.31578947368],\"xaxis\":\"x\",\"y\":[101368.42105263157],\"yaxis\":\"y\",\"type\":\"scatter\"},{\"hovertemplate\":\"state=Indiana<br>four year average in state tuition=%{x}<br>average mid_career_pay=%{y}<br>average make_world_better_percent=%{marker.size}<extra></extra>\",\"legendgroup\":\"Indiana\",\"marker\":{\"color\":\"#ab63fa\",\"size\":[51.44444444444444],\"sizemode\":\"area\",\"sizeref\":0.16583333333333333,\"symbol\":\"circle\"},\"mode\":\"markers\",\"name\":\"Indiana\",\"orientation\":\"v\",\"showlegend\":true,\"x\":[143818.44444444444],\"xaxis\":\"x\",\"y\":[96233.33333333333],\"yaxis\":\"y\",\"type\":\"scatter\"},{\"hovertemplate\":\"state=Iowa<br>four year average in state tuition=%{x}<br>average mid_career_pay=%{y}<br>average make_world_better_percent=%{marker.size}<extra></extra>\",\"legendgroup\":\"Iowa\",\"marker\":{\"color\":\"#FFA15A\",\"size\":[50.04761904761905],\"sizemode\":\"area\",\"sizeref\":0.16583333333333333,\"symbol\":\"circle\"},\"mode\":\"markers\",\"name\":\"Iowa\",\"orientation\":\"v\",\"showlegend\":true,\"x\":[127574.47619047618],\"xaxis\":\"x\",\"y\":[87285.71428571429],\"yaxis\":\"y\",\"type\":\"scatter\"},{\"hovertemplate\":\"state=Kansas<br>four year average in state tuition=%{x}<br>average mid_career_pay=%{y}<br>average make_world_better_percent=%{marker.size}<extra></extra>\",\"legendgroup\":\"Kansas\",\"marker\":{\"color\":\"#19d3f3\",\"size\":[60.35294117647059],\"sizemode\":\"area\",\"sizeref\":0.16583333333333333,\"symbol\":\"circle\"},\"mode\":\"markers\",\"name\":\"Kansas\",\"orientation\":\"v\",\"showlegend\":true,\"x\":[84346.35294117648],\"xaxis\":\"x\",\"y\":[83752.94117647059],\"yaxis\":\"y\",\"type\":\"scatter\"},{\"hovertemplate\":\"state=Kentucky<br>four year average in state tuition=%{x}<br>average mid_career_pay=%{y}<br>average make_world_better_percent=%{marker.size}<extra></extra>\",\"legendgroup\":\"Kentucky\",\"marker\":{\"color\":\"#FF6692\",\"size\":[56.083333333333336],\"sizemode\":\"area\",\"sizeref\":0.16583333333333333,\"symbol\":\"circle\"},\"mode\":\"markers\",\"name\":\"Kentucky\",\"orientation\":\"v\",\"showlegend\":true,\"x\":[92465.5],\"xaxis\":\"x\",\"y\":[79012.5],\"yaxis\":\"y\",\"type\":\"scatter\"},{\"hovertemplate\":\"state=Louisiana<br>four year average in state tuition=%{x}<br>average mid_career_pay=%{y}<br>average make_world_better_percent=%{marker.size}<extra></extra>\",\"legendgroup\":\"Louisiana\",\"marker\":{\"color\":\"#B6E880\",\"size\":[58.666666666666664],\"sizemode\":\"area\",\"sizeref\":0.16583333333333333,\"symbol\":\"circle\"},\"mode\":\"markers\",\"name\":\"Louisiana\",\"orientation\":\"v\",\"showlegend\":true,\"x\":[61872.0],\"xaxis\":\"x\",\"y\":[85926.66666666667],\"yaxis\":\"y\",\"type\":\"scatter\"},{\"hovertemplate\":\"state=Maine<br>four year average in state tuition=%{x}<br>average mid_career_pay=%{y}<br>average make_world_better_percent=%{marker.size}<extra></extra>\",\"legendgroup\":\"Maine\",\"marker\":{\"color\":\"#FF97FF\",\"size\":[55.875],\"sizemode\":\"area\",\"sizeref\":0.16583333333333333,\"symbol\":\"circle\"},\"mode\":\"markers\",\"name\":\"Maine\",\"orientation\":\"v\",\"showlegend\":true,\"x\":[98022.0],\"xaxis\":\"x\",\"y\":[86425.0],\"yaxis\":\"y\",\"type\":\"scatter\"},{\"hovertemplate\":\"state=Maryland<br>four year average in state tuition=%{x}<br>average mid_career_pay=%{y}<br>average make_world_better_percent=%{marker.size}<extra></extra>\",\"legendgroup\":\"Maryland\",\"marker\":{\"color\":\"#FECB52\",\"size\":[52.294117647058826],\"sizemode\":\"area\",\"sizeref\":0.16583333333333333,\"symbol\":\"circle\"},\"mode\":\"markers\",\"name\":\"Maryland\",\"orientation\":\"v\",\"showlegend\":true,\"x\":[126087.5294117647],\"xaxis\":\"x\",\"y\":[94688.23529411765],\"yaxis\":\"y\",\"type\":\"scatter\"},{\"hovertemplate\":\"state=Massachusetts<br>four year average in state tuition=%{x}<br>average mid_career_pay=%{y}<br>average make_world_better_percent=%{marker.size}<extra></extra>\",\"legendgroup\":\"Massachusetts\",\"marker\":{\"color\":\"#636efa\",\"size\":[47.523809523809526],\"sizemode\":\"area\",\"sizeref\":0.16583333333333333,\"symbol\":\"circle\"},\"mode\":\"markers\",\"name\":\"Massachusetts\",\"orientation\":\"v\",\"showlegend\":true,\"x\":[188594.85714285713],\"xaxis\":\"x\",\"y\":[116009.52380952382],\"yaxis\":\"y\",\"type\":\"scatter\"},{\"hovertemplate\":\"state=Michigan<br>four year average in state tuition=%{x}<br>average mid_career_pay=%{y}<br>average make_world_better_percent=%{marker.size}<extra></extra>\",\"legendgroup\":\"Michigan\",\"marker\":{\"color\":\"#EF553B\",\"size\":[48.90909090909091],\"sizemode\":\"area\",\"sizeref\":0.16583333333333333,\"symbol\":\"circle\"},\"mode\":\"markers\",\"name\":\"Michigan\",\"orientation\":\"v\",\"showlegend\":true,\"x\":[99996.54545454546],\"xaxis\":\"x\",\"y\":[93463.63636363637],\"yaxis\":\"y\",\"type\":\"scatter\"},{\"hovertemplate\":\"state=Minnesota<br>four year average in state tuition=%{x}<br>average mid_career_pay=%{y}<br>average make_world_better_percent=%{marker.size}<extra></extra>\",\"legendgroup\":\"Minnesota\",\"marker\":{\"color\":\"#00cc96\",\"size\":[49.111111111111114],\"sizemode\":\"area\",\"sizeref\":0.16583333333333333,\"symbol\":\"circle\"},\"mode\":\"markers\",\"name\":\"Minnesota\",\"orientation\":\"v\",\"showlegend\":true,\"x\":[133345.33333333334],\"xaxis\":\"x\",\"y\":[93055.55555555556],\"yaxis\":\"y\",\"type\":\"scatter\"},{\"hovertemplate\":\"state=Mississippi<br>four year average in state tuition=%{x}<br>average mid_career_pay=%{y}<br>average make_world_better_percent=%{marker.size}<extra></extra>\",\"legendgroup\":\"Mississippi\",\"marker\":{\"color\":\"#ab63fa\",\"size\":[62.642857142857146],\"sizemode\":\"area\",\"sizeref\":0.16583333333333333,\"symbol\":\"circle\"},\"mode\":\"markers\",\"name\":\"Mississippi\",\"orientation\":\"v\",\"showlegend\":true,\"x\":[51116.0],\"xaxis\":\"x\",\"y\":[75707.14285714286],\"yaxis\":\"y\",\"type\":\"scatter\"},{\"hovertemplate\":\"state=Missouri<br>four year average in state tuition=%{x}<br>average mid_career_pay=%{y}<br>average make_world_better_percent=%{marker.size}<extra></extra>\",\"legendgroup\":\"Missouri\",\"marker\":{\"color\":\"#FFA15A\",\"size\":[53.0],\"sizemode\":\"area\",\"sizeref\":0.16583333333333333,\"symbol\":\"circle\"},\"mode\":\"markers\",\"name\":\"Missouri\",\"orientation\":\"v\",\"showlegend\":true,\"x\":[86910.35294117648],\"xaxis\":\"x\",\"y\":[85794.11764705883],\"yaxis\":\"y\",\"type\":\"scatter\"},{\"hovertemplate\":\"state=Montana<br>four year average in state tuition=%{x}<br>average mid_career_pay=%{y}<br>average make_world_better_percent=%{marker.size}<extra></extra>\",\"legendgroup\":\"Montana\",\"marker\":{\"color\":\"#19d3f3\",\"size\":[58.0],\"sizemode\":\"area\",\"sizeref\":0.16583333333333333,\"symbol\":\"circle\"},\"mode\":\"markers\",\"name\":\"Montana\",\"orientation\":\"v\",\"showlegend\":true,\"x\":[78830.0],\"xaxis\":\"x\",\"y\":[95775.0],\"yaxis\":\"y\",\"type\":\"scatter\"},{\"hovertemplate\":\"state=Nebraska<br>four year average in state tuition=%{x}<br>average mid_career_pay=%{y}<br>average make_world_better_percent=%{marker.size}<extra></extra>\",\"legendgroup\":\"Nebraska\",\"marker\":{\"color\":\"#FF6692\",\"size\":[59.63636363636363],\"sizemode\":\"area\",\"sizeref\":0.16583333333333333,\"symbol\":\"circle\"},\"mode\":\"markers\",\"name\":\"Nebraska\",\"orientation\":\"v\",\"showlegend\":true,\"x\":[78756.72727272728],\"xaxis\":\"x\",\"y\":[83036.36363636363],\"yaxis\":\"y\",\"type\":\"scatter\"},{\"hovertemplate\":\"state=Nevada<br>four year average in state tuition=%{x}<br>average mid_career_pay=%{y}<br>average make_world_better_percent=%{marker.size}<extra></extra>\",\"legendgroup\":\"Nevada\",\"marker\":{\"color\":\"#B6E880\",\"size\":[39.0],\"sizemode\":\"area\",\"sizeref\":0.16583333333333333,\"symbol\":\"circle\"},\"mode\":\"markers\",\"name\":\"Nevada\",\"orientation\":\"v\",\"showlegend\":true,\"x\":[136964.0],\"xaxis\":\"x\",\"y\":[95500.0],\"yaxis\":\"y\",\"type\":\"scatter\"},{\"hovertemplate\":\"state=New Hampshire<br>four year average in state tuition=%{x}<br>average mid_career_pay=%{y}<br>average make_world_better_percent=%{marker.size}<extra></extra>\",\"legendgroup\":\"New Hampshire\",\"marker\":{\"color\":\"#FF97FF\",\"size\":[51.27272727272727],\"sizemode\":\"area\",\"sizeref\":0.16583333333333333,\"symbol\":\"circle\"},\"mode\":\"markers\",\"name\":\"New Hampshire\",\"orientation\":\"v\",\"showlegend\":true,\"x\":[120004.36363636363],\"xaxis\":\"x\",\"y\":[89909.09090909091],\"yaxis\":\"y\",\"type\":\"scatter\"},{\"hovertemplate\":\"state=New Jersey<br>four year average in state tuition=%{x}<br>average mid_career_pay=%{y}<br>average make_world_better_percent=%{marker.size}<extra></extra>\",\"legendgroup\":\"New Jersey\",\"marker\":{\"color\":\"#FECB52\",\"size\":[46.473684210526315],\"sizemode\":\"area\",\"sizeref\":0.16583333333333333,\"symbol\":\"circle\"},\"mode\":\"markers\",\"name\":\"New Jersey\",\"orientation\":\"v\",\"showlegend\":true,\"x\":[104793.26315789473],\"xaxis\":\"x\",\"y\":[100400.0],\"yaxis\":\"y\",\"type\":\"scatter\"},{\"hovertemplate\":\"state=New Mexico<br>four year average in state tuition=%{x}<br>average mid_career_pay=%{y}<br>average make_world_better_percent=%{marker.size}<extra></extra>\",\"legendgroup\":\"New Mexico\",\"marker\":{\"color\":\"#636efa\",\"size\":[66.33333333333333],\"sizemode\":\"area\",\"sizeref\":0.16583333333333333,\"symbol\":\"circle\"},\"mode\":\"markers\",\"name\":\"New Mexico\",\"orientation\":\"v\",\"showlegend\":true,\"x\":[27658.666666666668],\"xaxis\":\"x\",\"y\":[90300.0],\"yaxis\":\"y\",\"type\":\"scatter\"},{\"hovertemplate\":\"state=New York<br>four year average in state tuition=%{x}<br>average mid_career_pay=%{y}<br>average make_world_better_percent=%{marker.size}<extra></extra>\",\"legendgroup\":\"New York\",\"marker\":{\"color\":\"#EF553B\",\"size\":[50.8125],\"sizemode\":\"area\",\"sizeref\":0.16583333333333333,\"symbol\":\"circle\"},\"mode\":\"markers\",\"name\":\"New York\",\"orientation\":\"v\",\"showlegend\":true,\"x\":[178446.0],\"xaxis\":\"x\",\"y\":[122106.25],\"yaxis\":\"y\",\"type\":\"scatter\"},{\"hovertemplate\":\"state=North Carolina<br>four year average in state tuition=%{x}<br>average mid_career_pay=%{y}<br>average make_world_better_percent=%{marker.size}<extra></extra>\",\"legendgroup\":\"North Carolina\",\"marker\":{\"color\":\"#00cc96\",\"size\":[51.85],\"sizemode\":\"area\",\"sizeref\":0.16583333333333333,\"symbol\":\"circle\"},\"mode\":\"markers\",\"name\":\"North Carolina\",\"orientation\":\"v\",\"showlegend\":true,\"x\":[110695.2],\"xaxis\":\"x\",\"y\":[89245.0],\"yaxis\":\"y\",\"type\":\"scatter\"},{\"hovertemplate\":\"state=North Dakota<br>four year average in state tuition=%{x}<br>average mid_career_pay=%{y}<br>average make_world_better_percent=%{marker.size}<extra></extra>\",\"legendgroup\":\"North Dakota\",\"marker\":{\"color\":\"#ab63fa\",\"size\":[56.0],\"sizemode\":\"area\",\"sizeref\":0.16583333333333333,\"symbol\":\"circle\"},\"mode\":\"markers\",\"name\":\"North Dakota\",\"orientation\":\"v\",\"showlegend\":true,\"x\":[44292.57142857143],\"xaxis\":\"x\",\"y\":[80814.28571428571],\"yaxis\":\"y\",\"type\":\"scatter\"},{\"hovertemplate\":\"state=Ohio<br>four year average in state tuition=%{x}<br>average mid_career_pay=%{y}<br>average make_world_better_percent=%{marker.size}<extra></extra>\",\"legendgroup\":\"Ohio\",\"marker\":{\"color\":\"#FFA15A\",\"size\":[50.0],\"sizemode\":\"area\",\"sizeref\":0.16583333333333333,\"symbol\":\"circle\"},\"mode\":\"markers\",\"name\":\"Ohio\",\"orientation\":\"v\",\"showlegend\":true,\"x\":[147707.46666666667],\"xaxis\":\"x\",\"y\":[99440.0],\"yaxis\":\"y\",\"type\":\"scatter\"},{\"hovertemplate\":\"state=Oklahoma<br>four year average in state tuition=%{x}<br>average mid_career_pay=%{y}<br>average make_world_better_percent=%{marker.size}<extra></extra>\",\"legendgroup\":\"Oklahoma\",\"marker\":{\"color\":\"#19d3f3\",\"size\":[57.63157894736842],\"sizemode\":\"area\",\"sizeref\":0.16583333333333333,\"symbol\":\"circle\"},\"mode\":\"markers\",\"name\":\"Oklahoma\",\"orientation\":\"v\",\"showlegend\":true,\"x\":[62780.42105263158],\"xaxis\":\"x\",\"y\":[81221.05263157895],\"yaxis\":\"y\",\"type\":\"scatter\"},{\"hovertemplate\":\"state=Oregon<br>four year average in state tuition=%{x}<br>average mid_career_pay=%{y}<br>average make_world_better_percent=%{marker.size}<extra></extra>\",\"legendgroup\":\"Oregon\",\"marker\":{\"color\":\"#FF6692\",\"size\":[57.22222222222222],\"sizemode\":\"area\",\"sizeref\":0.16583333333333333,\"symbol\":\"circle\"},\"mode\":\"markers\",\"name\":\"Oregon\",\"orientation\":\"v\",\"showlegend\":true,\"x\":[107244.44444444444],\"xaxis\":\"x\",\"y\":[91083.33333333333],\"yaxis\":\"y\",\"type\":\"scatter\"},{\"hovertemplate\":\"state=Pennsylvania<br>four year average in state tuition=%{x}<br>average mid_career_pay=%{y}<br>average make_world_better_percent=%{marker.size}<extra></extra>\",\"legendgroup\":\"Pennsylvania\",\"marker\":{\"color\":\"#B6E880\",\"size\":[45.36842105263158],\"sizemode\":\"area\",\"sizeref\":0.16583333333333333,\"symbol\":\"circle\"},\"mode\":\"markers\",\"name\":\"Pennsylvania\",\"orientation\":\"v\",\"showlegend\":true,\"x\":[191462.52631578947],\"xaxis\":\"x\",\"y\":[113457.8947368421],\"yaxis\":\"y\",\"type\":\"scatter\"},{\"hovertemplate\":\"state=Rhode Island<br>four year average in state tuition=%{x}<br>average mid_career_pay=%{y}<br>average make_world_better_percent=%{marker.size}<extra></extra>\",\"legendgroup\":\"Rhode Island\",\"marker\":{\"color\":\"#FF97FF\",\"size\":[45.44444444444444],\"sizemode\":\"area\",\"sizeref\":0.16583333333333333,\"symbol\":\"circle\"},\"mode\":\"markers\",\"name\":\"Rhode Island\",\"orientation\":\"v\",\"showlegend\":true,\"x\":[146248.0],\"xaxis\":\"x\",\"y\":[100744.44444444444],\"yaxis\":\"y\",\"type\":\"scatter\"},{\"hovertemplate\":\"state=South Carolina<br>four year average in state tuition=%{x}<br>average mid_career_pay=%{y}<br>average make_world_better_percent=%{marker.size}<extra></extra>\",\"legendgroup\":\"South Carolina\",\"marker\":{\"color\":\"#FECB52\",\"size\":[57.666666666666664],\"sizemode\":\"area\",\"sizeref\":0.16583333333333333,\"symbol\":\"circle\"},\"mode\":\"markers\",\"name\":\"South Carolina\",\"orientation\":\"v\",\"showlegend\":true,\"x\":[87783.33333333333],\"xaxis\":\"x\",\"y\":[80477.77777777778],\"yaxis\":\"y\",\"type\":\"scatter\"},{\"hovertemplate\":\"state=South Dakota<br>four year average in state tuition=%{x}<br>average mid_career_pay=%{y}<br>average make_world_better_percent=%{marker.size}<extra></extra>\",\"legendgroup\":\"South Dakota\",\"marker\":{\"color\":\"#636efa\",\"size\":[56.5],\"sizemode\":\"area\",\"sizeref\":0.16583333333333333,\"symbol\":\"circle\"},\"mode\":\"markers\",\"name\":\"South Dakota\",\"orientation\":\"v\",\"showlegend\":true,\"x\":[63994.0],\"xaxis\":\"x\",\"y\":[85170.0],\"yaxis\":\"y\",\"type\":\"scatter\"},{\"hovertemplate\":\"state=Tennessee<br>four year average in state tuition=%{x}<br>average mid_career_pay=%{y}<br>average make_world_better_percent=%{marker.size}<extra></extra>\",\"legendgroup\":\"Tennessee\",\"marker\":{\"color\":\"#EF553B\",\"size\":[57.7],\"sizemode\":\"area\",\"sizeref\":0.16583333333333333,\"symbol\":\"circle\"},\"mode\":\"markers\",\"name\":\"Tennessee\",\"orientation\":\"v\",\"showlegend\":true,\"x\":[98784.8],\"xaxis\":\"x\",\"y\":[84660.0],\"yaxis\":\"y\",\"type\":\"scatter\"},{\"hovertemplate\":\"state=Texas<br>four year average in state tuition=%{x}<br>average mid_career_pay=%{y}<br>average make_world_better_percent=%{marker.size}<extra></extra>\",\"legendgroup\":\"Texas\",\"marker\":{\"color\":\"#00cc96\",\"size\":[53.833333333333336],\"sizemode\":\"area\",\"sizeref\":0.16583333333333333,\"symbol\":\"circle\"},\"mode\":\"markers\",\"name\":\"Texas\",\"orientation\":\"v\",\"showlegend\":true,\"x\":[106221.55555555556],\"xaxis\":\"x\",\"y\":[102516.66666666667],\"yaxis\":\"y\",\"type\":\"scatter\"},{\"hovertemplate\":\"state=Utah<br>four year average in state tuition=%{x}<br>average mid_career_pay=%{y}<br>average make_world_better_percent=%{marker.size}<extra></extra>\",\"legendgroup\":\"Utah\",\"marker\":{\"color\":\"#ab63fa\",\"size\":[59.5],\"sizemode\":\"area\",\"sizeref\":0.16583333333333333,\"symbol\":\"circle\"},\"mode\":\"markers\",\"name\":\"Utah\",\"orientation\":\"v\",\"showlegend\":true,\"x\":[27761.333333333332],\"xaxis\":\"x\",\"y\":[92833.33333333333],\"yaxis\":\"y\",\"type\":\"scatter\"},{\"hovertemplate\":\"state=Vermont<br>four year average in state tuition=%{x}<br>average mid_career_pay=%{y}<br>average make_world_better_percent=%{marker.size}<extra></extra>\",\"legendgroup\":\"Vermont\",\"marker\":{\"color\":\"#FFA15A\",\"size\":[49.63636363636363],\"sizemode\":\"area\",\"sizeref\":0.16583333333333333,\"symbol\":\"circle\"},\"mode\":\"markers\",\"name\":\"Vermont\",\"orientation\":\"v\",\"showlegend\":true,\"x\":[129271.27272727272],\"xaxis\":\"x\",\"y\":[89481.81818181818],\"yaxis\":\"y\",\"type\":\"scatter\"},{\"hovertemplate\":\"state=Virginia<br>four year average in state tuition=%{x}<br>average mid_career_pay=%{y}<br>average make_world_better_percent=%{marker.size}<extra></extra>\",\"legendgroup\":\"Virginia\",\"marker\":{\"color\":\"#19d3f3\",\"size\":[53.13636363636363],\"sizemode\":\"area\",\"sizeref\":0.16583333333333333,\"symbol\":\"circle\"},\"mode\":\"markers\",\"name\":\"Virginia\",\"orientation\":\"v\",\"showlegend\":true,\"x\":[100446.36363636363],\"xaxis\":\"x\",\"y\":[96559.09090909091],\"yaxis\":\"y\",\"type\":\"scatter\"},{\"hovertemplate\":\"state=Washington<br>four year average in state tuition=%{x}<br>average mid_career_pay=%{y}<br>average make_world_better_percent=%{marker.size}<extra></extra>\",\"legendgroup\":\"Washington\",\"marker\":{\"color\":\"#FF6692\",\"size\":[51.1875],\"sizemode\":\"area\",\"sizeref\":0.16583333333333333,\"symbol\":\"circle\"},\"mode\":\"markers\",\"name\":\"Washington\",\"orientation\":\"v\",\"showlegend\":true,\"x\":[123986.0],\"xaxis\":\"x\",\"y\":[97043.75],\"yaxis\":\"y\",\"type\":\"scatter\"},{\"hovertemplate\":\"state=West Virginia<br>four year average in state tuition=%{x}<br>average mid_career_pay=%{y}<br>average make_world_better_percent=%{marker.size}<extra></extra>\",\"legendgroup\":\"West Virginia\",\"marker\":{\"color\":\"#B6E880\",\"size\":[55.86666666666667],\"sizemode\":\"area\",\"sizeref\":0.16583333333333333,\"symbol\":\"circle\"},\"mode\":\"markers\",\"name\":\"West Virginia\",\"orientation\":\"v\",\"showlegend\":true,\"x\":[53202.666666666664],\"xaxis\":\"x\",\"y\":[80040.0],\"yaxis\":\"y\",\"type\":\"scatter\"},{\"hovertemplate\":\"state=Wisconsin<br>four year average in state tuition=%{x}<br>average mid_career_pay=%{y}<br>average make_world_better_percent=%{marker.size}<extra></extra>\",\"legendgroup\":\"Wisconsin\",\"marker\":{\"color\":\"#FF97FF\",\"size\":[53.22727272727273],\"sizemode\":\"area\",\"sizeref\":0.16583333333333333,\"symbol\":\"circle\"},\"mode\":\"markers\",\"name\":\"Wisconsin\",\"orientation\":\"v\",\"showlegend\":true,\"x\":[95868.54545454546],\"xaxis\":\"x\",\"y\":[91100.0],\"yaxis\":\"y\",\"type\":\"scatter\"},{\"hovertemplate\":\"state=Wyoming<br>four year average in state tuition=%{x}<br>average mid_career_pay=%{y}<br>average make_world_better_percent=%{marker.size}<extra></extra>\",\"legendgroup\":\"Wyoming\",\"marker\":{\"color\":\"#FECB52\",\"size\":[58.0],\"sizemode\":\"area\",\"sizeref\":0.16583333333333333,\"symbol\":\"circle\"},\"mode\":\"markers\",\"name\":\"Wyoming\",\"orientation\":\"v\",\"showlegend\":true,\"x\":[21600.0],\"xaxis\":\"x\",\"y\":[98800.0],\"yaxis\":\"y\",\"type\":\"scatter\"},{\"hovertemplate\":\"<b>OLS trendline</b><br>average mid_career_pay = 0.175898 * four year average in state tuition + 75105<br>R<sup>2</sup>=0.504633<br><br>four year average in state tuition=%{x}<br>average mid_career_pay=%{y} <b>(trend)</b><extra></extra>\",\"legendgroup\":\"Overall Trendline\",\"line\":{\"color\":\"#636efa\"},\"mode\":\"lines\",\"name\":\"Overall Trendline\",\"showlegend\":true,\"x\":[21600.0,27658.666666666668,27761.333333333332,42009.333333333336,44292.57142857143,48806.666666666664,51116.0,53202.666666666664,61283.2,61872.0,62780.42105263158,63994.0,64536.95238095238,66771.2,68785.42857142857,74048.0,78756.72727272728,78830.0,83676.61538461539,84346.35294117648,84775.63636363637,86910.35294117648,87783.33333333333,92465.5,95868.54545454546,96486.22222222222,98022.0,98784.8,99996.54545454546,100446.36363636363,104793.26315789473,106221.55555555556,107244.44444444444,110695.2,120004.36363636363,123986.0,126087.5294117647,127574.47619047618,129271.27272727272,133345.33333333334,135868.44444444444,136964.0,136982.31578947368,143818.44444444444,146248.0,147707.46666666667,178446.0,188594.85714285713,190626.15384615384,191462.52631578947],\"y\":[78904.39341150041,79970.10341185667,79988.1623181127,82494.36325645054,82895.98126997765,83690.00356935023,84096.21169448603,84463.25310085874,85884.6062888339,85988.17528886852,86147.96513267193,86361.4317733683,86456.93624884666,86849.9369141566,87204.23657275719,88129.9146645845,88958.17243474776,88971.0609929907,89823.573066593,89941.37885636654,90016.88913964713,90392.38245026732,90545.93833726717,91369.52413832376,91968.11451671988,92076.7628950706,92346.90380661924,92481.07913478909,92694.22326696262,92773.34558232999,93537.95841639242,93789.19281751807,93969.11737486988,94576.09988548947,96213.56722410505,96913.93083939601,97283.58657940928,97545.13819451773,97843.60205419542,98560.22294932137,99004.03425155306,99196.74076203414,99199.96248078522,100402.42683014554,100829.78185633008,101086.4997626659,106493.35974884841,108278.52786328449,108635.82977961272,108782.94639023882],\"type\":\"scatter\",\"xaxis\":\"x\",\"yaxis\":\"y\"}],                        {\"template\":{\"data\":{\"bar\":[{\"error_x\":{\"color\":\"#2a3f5f\"},\"error_y\":{\"color\":\"#2a3f5f\"},\"marker\":{\"line\":{\"color\":\"#E5ECF6\",\"width\":0.5},\"pattern\":{\"fillmode\":\"overlay\",\"size\":10,\"solidity\":0.2}},\"type\":\"bar\"}],\"barpolar\":[{\"marker\":{\"line\":{\"color\":\"#E5ECF6\",\"width\":0.5},\"pattern\":{\"fillmode\":\"overlay\",\"size\":10,\"solidity\":0.2}},\"type\":\"barpolar\"}],\"carpet\":[{\"aaxis\":{\"endlinecolor\":\"#2a3f5f\",\"gridcolor\":\"white\",\"linecolor\":\"white\",\"minorgridcolor\":\"white\",\"startlinecolor\":\"#2a3f5f\"},\"baxis\":{\"endlinecolor\":\"#2a3f5f\",\"gridcolor\":\"white\",\"linecolor\":\"white\",\"minorgridcolor\":\"white\",\"startlinecolor\":\"#2a3f5f\"},\"type\":\"carpet\"}],\"choropleth\":[{\"colorbar\":{\"outlinewidth\":0,\"ticks\":\"\"},\"type\":\"choropleth\"}],\"contour\":[{\"colorbar\":{\"outlinewidth\":0,\"ticks\":\"\"},\"colorscale\":[[0.0,\"#0d0887\"],[0.1111111111111111,\"#46039f\"],[0.2222222222222222,\"#7201a8\"],[0.3333333333333333,\"#9c179e\"],[0.4444444444444444,\"#bd3786\"],[0.5555555555555556,\"#d8576b\"],[0.6666666666666666,\"#ed7953\"],[0.7777777777777778,\"#fb9f3a\"],[0.8888888888888888,\"#fdca26\"],[1.0,\"#f0f921\"]],\"type\":\"contour\"}],\"contourcarpet\":[{\"colorbar\":{\"outlinewidth\":0,\"ticks\":\"\"},\"type\":\"contourcarpet\"}],\"heatmap\":[{\"colorbar\":{\"outlinewidth\":0,\"ticks\":\"\"},\"colorscale\":[[0.0,\"#0d0887\"],[0.1111111111111111,\"#46039f\"],[0.2222222222222222,\"#7201a8\"],[0.3333333333333333,\"#9c179e\"],[0.4444444444444444,\"#bd3786\"],[0.5555555555555556,\"#d8576b\"],[0.6666666666666666,\"#ed7953\"],[0.7777777777777778,\"#fb9f3a\"],[0.8888888888888888,\"#fdca26\"],[1.0,\"#f0f921\"]],\"type\":\"heatmap\"}],\"heatmapgl\":[{\"colorbar\":{\"outlinewidth\":0,\"ticks\":\"\"},\"colorscale\":[[0.0,\"#0d0887\"],[0.1111111111111111,\"#46039f\"],[0.2222222222222222,\"#7201a8\"],[0.3333333333333333,\"#9c179e\"],[0.4444444444444444,\"#bd3786\"],[0.5555555555555556,\"#d8576b\"],[0.6666666666666666,\"#ed7953\"],[0.7777777777777778,\"#fb9f3a\"],[0.8888888888888888,\"#fdca26\"],[1.0,\"#f0f921\"]],\"type\":\"heatmapgl\"}],\"histogram\":[{\"marker\":{\"pattern\":{\"fillmode\":\"overlay\",\"size\":10,\"solidity\":0.2}},\"type\":\"histogram\"}],\"histogram2d\":[{\"colorbar\":{\"outlinewidth\":0,\"ticks\":\"\"},\"colorscale\":[[0.0,\"#0d0887\"],[0.1111111111111111,\"#46039f\"],[0.2222222222222222,\"#7201a8\"],[0.3333333333333333,\"#9c179e\"],[0.4444444444444444,\"#bd3786\"],[0.5555555555555556,\"#d8576b\"],[0.6666666666666666,\"#ed7953\"],[0.7777777777777778,\"#fb9f3a\"],[0.8888888888888888,\"#fdca26\"],[1.0,\"#f0f921\"]],\"type\":\"histogram2d\"}],\"histogram2dcontour\":[{\"colorbar\":{\"outlinewidth\":0,\"ticks\":\"\"},\"colorscale\":[[0.0,\"#0d0887\"],[0.1111111111111111,\"#46039f\"],[0.2222222222222222,\"#7201a8\"],[0.3333333333333333,\"#9c179e\"],[0.4444444444444444,\"#bd3786\"],[0.5555555555555556,\"#d8576b\"],[0.6666666666666666,\"#ed7953\"],[0.7777777777777778,\"#fb9f3a\"],[0.8888888888888888,\"#fdca26\"],[1.0,\"#f0f921\"]],\"type\":\"histogram2dcontour\"}],\"mesh3d\":[{\"colorbar\":{\"outlinewidth\":0,\"ticks\":\"\"},\"type\":\"mesh3d\"}],\"parcoords\":[{\"line\":{\"colorbar\":{\"outlinewidth\":0,\"ticks\":\"\"}},\"type\":\"parcoords\"}],\"pie\":[{\"automargin\":true,\"type\":\"pie\"}],\"scatter\":[{\"marker\":{\"colorbar\":{\"outlinewidth\":0,\"ticks\":\"\"}},\"type\":\"scatter\"}],\"scatter3d\":[{\"line\":{\"colorbar\":{\"outlinewidth\":0,\"ticks\":\"\"}},\"marker\":{\"colorbar\":{\"outlinewidth\":0,\"ticks\":\"\"}},\"type\":\"scatter3d\"}],\"scattercarpet\":[{\"marker\":{\"colorbar\":{\"outlinewidth\":0,\"ticks\":\"\"}},\"type\":\"scattercarpet\"}],\"scattergeo\":[{\"marker\":{\"colorbar\":{\"outlinewidth\":0,\"ticks\":\"\"}},\"type\":\"scattergeo\"}],\"scattergl\":[{\"marker\":{\"colorbar\":{\"outlinewidth\":0,\"ticks\":\"\"}},\"type\":\"scattergl\"}],\"scattermapbox\":[{\"marker\":{\"colorbar\":{\"outlinewidth\":0,\"ticks\":\"\"}},\"type\":\"scattermapbox\"}],\"scatterpolar\":[{\"marker\":{\"colorbar\":{\"outlinewidth\":0,\"ticks\":\"\"}},\"type\":\"scatterpolar\"}],\"scatterpolargl\":[{\"marker\":{\"colorbar\":{\"outlinewidth\":0,\"ticks\":\"\"}},\"type\":\"scatterpolargl\"}],\"scatterternary\":[{\"marker\":{\"colorbar\":{\"outlinewidth\":0,\"ticks\":\"\"}},\"type\":\"scatterternary\"}],\"surface\":[{\"colorbar\":{\"outlinewidth\":0,\"ticks\":\"\"},\"colorscale\":[[0.0,\"#0d0887\"],[0.1111111111111111,\"#46039f\"],[0.2222222222222222,\"#7201a8\"],[0.3333333333333333,\"#9c179e\"],[0.4444444444444444,\"#bd3786\"],[0.5555555555555556,\"#d8576b\"],[0.6666666666666666,\"#ed7953\"],[0.7777777777777778,\"#fb9f3a\"],[0.8888888888888888,\"#fdca26\"],[1.0,\"#f0f921\"]],\"type\":\"surface\"}],\"table\":[{\"cells\":{\"fill\":{\"color\":\"#EBF0F8\"},\"line\":{\"color\":\"white\"}},\"header\":{\"fill\":{\"color\":\"#C8D4E3\"},\"line\":{\"color\":\"white\"}},\"type\":\"table\"}]},\"layout\":{\"annotationdefaults\":{\"arrowcolor\":\"#2a3f5f\",\"arrowhead\":0,\"arrowwidth\":1},\"autotypenumbers\":\"strict\",\"coloraxis\":{\"colorbar\":{\"outlinewidth\":0,\"ticks\":\"\"}},\"colorscale\":{\"diverging\":[[0,\"#8e0152\"],[0.1,\"#c51b7d\"],[0.2,\"#de77ae\"],[0.3,\"#f1b6da\"],[0.4,\"#fde0ef\"],[0.5,\"#f7f7f7\"],[0.6,\"#e6f5d0\"],[0.7,\"#b8e186\"],[0.8,\"#7fbc41\"],[0.9,\"#4d9221\"],[1,\"#276419\"]],\"sequential\":[[0.0,\"#0d0887\"],[0.1111111111111111,\"#46039f\"],[0.2222222222222222,\"#7201a8\"],[0.3333333333333333,\"#9c179e\"],[0.4444444444444444,\"#bd3786\"],[0.5555555555555556,\"#d8576b\"],[0.6666666666666666,\"#ed7953\"],[0.7777777777777778,\"#fb9f3a\"],[0.8888888888888888,\"#fdca26\"],[1.0,\"#f0f921\"]],\"sequentialminus\":[[0.0,\"#0d0887\"],[0.1111111111111111,\"#46039f\"],[0.2222222222222222,\"#7201a8\"],[0.3333333333333333,\"#9c179e\"],[0.4444444444444444,\"#bd3786\"],[0.5555555555555556,\"#d8576b\"],[0.6666666666666666,\"#ed7953\"],[0.7777777777777778,\"#fb9f3a\"],[0.8888888888888888,\"#fdca26\"],[1.0,\"#f0f921\"]]},\"colorway\":[\"#636efa\",\"#EF553B\",\"#00cc96\",\"#ab63fa\",\"#FFA15A\",\"#19d3f3\",\"#FF6692\",\"#B6E880\",\"#FF97FF\",\"#FECB52\"],\"font\":{\"color\":\"#2a3f5f\"},\"geo\":{\"bgcolor\":\"white\",\"lakecolor\":\"white\",\"landcolor\":\"#E5ECF6\",\"showlakes\":true,\"showland\":true,\"subunitcolor\":\"white\"},\"hoverlabel\":{\"align\":\"left\"},\"hovermode\":\"closest\",\"mapbox\":{\"style\":\"light\"},\"paper_bgcolor\":\"white\",\"plot_bgcolor\":\"#E5ECF6\",\"polar\":{\"angularaxis\":{\"gridcolor\":\"white\",\"linecolor\":\"white\",\"ticks\":\"\"},\"bgcolor\":\"#E5ECF6\",\"radialaxis\":{\"gridcolor\":\"white\",\"linecolor\":\"white\",\"ticks\":\"\"}},\"scene\":{\"xaxis\":{\"backgroundcolor\":\"#E5ECF6\",\"gridcolor\":\"white\",\"gridwidth\":2,\"linecolor\":\"white\",\"showbackground\":true,\"ticks\":\"\",\"zerolinecolor\":\"white\"},\"yaxis\":{\"backgroundcolor\":\"#E5ECF6\",\"gridcolor\":\"white\",\"gridwidth\":2,\"linecolor\":\"white\",\"showbackground\":true,\"ticks\":\"\",\"zerolinecolor\":\"white\"},\"zaxis\":{\"backgroundcolor\":\"#E5ECF6\",\"gridcolor\":\"white\",\"gridwidth\":2,\"linecolor\":\"white\",\"showbackground\":true,\"ticks\":\"\",\"zerolinecolor\":\"white\"}},\"shapedefaults\":{\"line\":{\"color\":\"#2a3f5f\"}},\"ternary\":{\"aaxis\":{\"gridcolor\":\"white\",\"linecolor\":\"white\",\"ticks\":\"\"},\"baxis\":{\"gridcolor\":\"white\",\"linecolor\":\"white\",\"ticks\":\"\"},\"bgcolor\":\"#E5ECF6\",\"caxis\":{\"gridcolor\":\"white\",\"linecolor\":\"white\",\"ticks\":\"\"}},\"title\":{\"x\":0.05},\"xaxis\":{\"automargin\":true,\"gridcolor\":\"white\",\"linecolor\":\"white\",\"ticks\":\"\",\"title\":{\"standoff\":15},\"zerolinecolor\":\"white\",\"zerolinewidth\":2},\"yaxis\":{\"automargin\":true,\"gridcolor\":\"white\",\"linecolor\":\"white\",\"ticks\":\"\",\"title\":{\"standoff\":15},\"zerolinecolor\":\"white\",\"zerolinewidth\":2}}},\"xaxis\":{\"anchor\":\"y\",\"domain\":[0.0,1.0],\"title\":{\"text\":\"four year average in state tuition\"}},\"yaxis\":{\"anchor\":\"x\",\"domain\":[0.0,1.0],\"title\":{\"text\":\"average mid_career_pay\"}},\"legend\":{\"title\":{\"text\":\"state\"},\"tracegroupgap\":0,\"itemsizing\":\"constant\"},\"title\":{\"text\":\"Average In State Tuition vs Average % of Students Graduating with STEM Degrees\"}},                        {\"responsive\": true}                    ).then(function(){\n",
       "                            \n",
       "var gd = document.getElementById('c26159d1-21a9-4225-b7ce-be869c125be5');\n",
       "var x = new MutationObserver(function (mutations, observer) {{\n",
       "        var display = window.getComputedStyle(gd).display;\n",
       "        if (!display || display === 'none') {{\n",
       "            console.log([gd, 'removed!']);\n",
       "            Plotly.purge(gd);\n",
       "            observer.disconnect();\n",
       "        }}\n",
       "}});\n",
       "\n",
       "// Listen for the removal of the full notebook cells\n",
       "var notebookContainer = gd.closest('#notebook-container');\n",
       "if (notebookContainer) {{\n",
       "    x.observe(notebookContainer, {childList: true});\n",
       "}}\n",
       "\n",
       "// Listen for the clearing of the current output cell\n",
       "var outputEl = gd.closest('.output');\n",
       "if (outputEl) {{\n",
       "    x.observe(outputEl, {childList: true});\n",
       "}}\n",
       "\n",
       "                        })                };                });            </script>        </div>"
      ]
     },
     "execution_count": 31,
     "metadata": {
     },
     "output_type": "execute_result"
    },
    {
     "name": "stderr",
     "output_type": "stream",
     "text": [
      "WARNING: 1 intermediate output message was discarded.\n"
     ]
    }
   ],
   "source": [
    "fig = px.scatter(state_stats_extras, x='four year average in state tuition', y='average mid_career_pay',\n",
    "                 color='state',size='average make_world_better_percent',\n",
    "                 trendline=\"ols\", trendline_scope = 'overall',\n",
    "                 title= 'Average In State Tuition vs Average % of Students Graduating with STEM Degrees')\n",
    "\n",
    "fig.show()"
   ]
  },
  {
   "cell_type": "code",
   "execution_count": 32,
   "metadata": {
    "collapsed": false
   },
   "outputs": [
    {
     "data": {
      "application/vnd.plotly.v1+json": {
       "config": {
        "plotlyServerURL": "https://plot.ly"
       },
       "data": [
        {
         "hovertemplate": "state=Alabama<br>average stem_percent=%{x}<br>average early_career_pay=%{y}<extra></extra>",
         "legendgroup": "Alabama",
         "marker": {
          "color": "#636efa",
          "symbol": "circle"
         },
         "mode": "markers",
         "name": "Alabama",
         "orientation": "v",
         "showlegend": true,
         "type": "scatter",
         "x": [
          14.047619047619047
         ],
         "xaxis": "x",
         "y": [
          44714.28571428572
         ],
         "yaxis": "y"
        },
        {
         "hovertemplate": "state=Alaska<br>average stem_percent=%{x}<br>average early_career_pay=%{y}<extra></extra>",
         "legendgroup": "Alaska",
         "marker": {
          "color": "#EF553B",
          "symbol": "circle"
         },
         "mode": "markers",
         "name": "Alaska",
         "orientation": "v",
         "showlegend": true,
         "type": "scatter",
         "x": [
          12
         ],
         "xaxis": "x",
         "y": [
          55133.333333333336
         ],
         "yaxis": "y"
        },
        {
         "hovertemplate": "state=Arizona<br>average stem_percent=%{x}<br>average early_career_pay=%{y}<extra></extra>",
         "legendgroup": "Arizona",
         "marker": {
          "color": "#00cc96",
          "symbol": "circle"
         },
         "mode": "markers",
         "name": "Arizona",
         "orientation": "v",
         "showlegend": true,
         "type": "scatter",
         "x": [
          11.666666666666666
         ],
         "xaxis": "x",
         "y": [
          48966.666666666664
         ],
         "yaxis": "y"
        },
        {
         "hovertemplate": "state=Arkansas<br>average stem_percent=%{x}<br>average early_career_pay=%{y}<extra></extra>",
         "legendgroup": "Arkansas",
         "marker": {
          "color": "#ab63fa",
          "symbol": "circle"
         },
         "mode": "markers",
         "name": "Arkansas",
         "orientation": "v",
         "showlegend": true,
         "type": "scatter",
         "x": [
          14.071428571428571
         ],
         "xaxis": "x",
         "y": [
          45607.142857142855
         ],
         "yaxis": "y"
        },
        {
         "hovertemplate": "state=California<br>average stem_percent=%{x}<br>average early_career_pay=%{y}<extra></extra>",
         "legendgroup": "California",
         "marker": {
          "color": "#FFA15A",
          "symbol": "circle"
         },
         "mode": "markers",
         "name": "California",
         "orientation": "v",
         "showlegend": true,
         "type": "scatter",
         "x": [
          30.615384615384617
         ],
         "xaxis": "x",
         "y": [
          67800
         ],
         "yaxis": "y"
        },
        {
         "hovertemplate": "state=Colorado<br>average stem_percent=%{x}<br>average early_career_pay=%{y}<extra></extra>",
         "legendgroup": "Colorado",
         "marker": {
          "color": "#19d3f3",
          "symbol": "circle"
         },
         "mode": "markers",
         "name": "Colorado",
         "orientation": "v",
         "showlegend": true,
         "type": "scatter",
         "x": [
          20.692307692307693
         ],
         "xaxis": "x",
         "y": [
          52238.46153846154
         ],
         "yaxis": "y"
        },
        {
         "hovertemplate": "state=Connecticut<br>average stem_percent=%{x}<br>average early_career_pay=%{y}<extra></extra>",
         "legendgroup": "Connecticut",
         "marker": {
          "color": "#FF6692",
          "symbol": "circle"
         },
         "mode": "markers",
         "name": "Connecticut",
         "orientation": "v",
         "showlegend": true,
         "type": "scatter",
         "x": [
          15.88888888888889
         ],
         "xaxis": "x",
         "y": [
          55016.666666666664
         ],
         "yaxis": "y"
        },
        {
         "hovertemplate": "state=Delaware<br>average stem_percent=%{x}<br>average early_career_pay=%{y}<extra></extra>",
         "legendgroup": "Delaware",
         "marker": {
          "color": "#B6E880",
          "symbol": "circle"
         },
         "mode": "markers",
         "name": "Delaware",
         "orientation": "v",
         "showlegend": true,
         "type": "scatter",
         "x": [
          12.6
         ],
         "xaxis": "x",
         "y": [
          49040
         ],
         "yaxis": "y"
        },
        {
         "hovertemplate": "state=Florida<br>average stem_percent=%{x}<br>average early_career_pay=%{y}<extra></extra>",
         "legendgroup": "Florida",
         "marker": {
          "color": "#FF97FF",
          "symbol": "circle"
         },
         "mode": "markers",
         "name": "Florida",
         "orientation": "v",
         "showlegend": true,
         "type": "scatter",
         "x": [
          14.38888888888889
         ],
         "xaxis": "x",
         "y": [
          50250
         ],
         "yaxis": "y"
        },
        {
         "hovertemplate": "state=Georgia<br>average stem_percent=%{x}<br>average early_career_pay=%{y}<extra></extra>",
         "legendgroup": "Georgia",
         "marker": {
          "color": "#FECB52",
          "symbol": "circle"
         },
         "mode": "markers",
         "name": "Georgia",
         "orientation": "v",
         "showlegend": true,
         "type": "scatter",
         "x": [
          14.636363636363637
         ],
         "xaxis": "x",
         "y": [
          48527.27272727273
         ],
         "yaxis": "y"
        },
        {
         "hovertemplate": "state=Hawaii<br>average stem_percent=%{x}<br>average early_career_pay=%{y}<extra></extra>",
         "legendgroup": "Hawaii",
         "marker": {
          "color": "#636efa",
          "symbol": "circle"
         },
         "mode": "markers",
         "name": "Hawaii",
         "orientation": "v",
         "showlegend": true,
         "type": "scatter",
         "x": [
          12.4
         ],
         "xaxis": "x",
         "y": [
          48980
         ],
         "yaxis": "y"
        },
        {
         "hovertemplate": "state=Idaho<br>average stem_percent=%{x}<br>average early_career_pay=%{y}<extra></extra>",
         "legendgroup": "Idaho",
         "marker": {
          "color": "#EF553B",
          "symbol": "circle"
         },
         "mode": "markers",
         "name": "Idaho",
         "orientation": "v",
         "showlegend": true,
         "type": "scatter",
         "x": [
          12.333333333333334
         ],
         "xaxis": "x",
         "y": [
          49666.666666666664
         ],
         "yaxis": "y"
        },
        {
         "hovertemplate": "state=Illinois<br>average stem_percent=%{x}<br>average early_career_pay=%{y}<extra></extra>",
         "legendgroup": "Illinois",
         "marker": {
          "color": "#00cc96",
          "symbol": "circle"
         },
         "mode": "markers",
         "name": "Illinois",
         "orientation": "v",
         "showlegend": true,
         "type": "scatter",
         "x": [
          20.63157894736842
         ],
         "xaxis": "x",
         "y": [
          55763.15789473684
         ],
         "yaxis": "y"
        },
        {
         "hovertemplate": "state=Indiana<br>average stem_percent=%{x}<br>average early_career_pay=%{y}<extra></extra>",
         "legendgroup": "Indiana",
         "marker": {
          "color": "#ab63fa",
          "symbol": "circle"
         },
         "mode": "markers",
         "name": "Indiana",
         "orientation": "v",
         "showlegend": true,
         "type": "scatter",
         "x": [
          22.944444444444443
         ],
         "xaxis": "x",
         "y": [
          52938.88888888889
         ],
         "yaxis": "y"
        },
        {
         "hovertemplate": "state=Iowa<br>average stem_percent=%{x}<br>average early_career_pay=%{y}<extra></extra>",
         "legendgroup": "Iowa",
         "marker": {
          "color": "#FFA15A",
          "symbol": "circle"
         },
         "mode": "markers",
         "name": "Iowa",
         "orientation": "v",
         "showlegend": true,
         "type": "scatter",
         "x": [
          16.333333333333332
         ],
         "xaxis": "x",
         "y": [
          48314.28571428572
         ],
         "yaxis": "y"
        },
        {
         "hovertemplate": "state=Kansas<br>average stem_percent=%{x}<br>average early_career_pay=%{y}<extra></extra>",
         "legendgroup": "Kansas",
         "marker": {
          "color": "#19d3f3",
          "symbol": "circle"
         },
         "mode": "markers",
         "name": "Kansas",
         "orientation": "v",
         "showlegend": true,
         "type": "scatter",
         "x": [
          9.764705882352942
         ],
         "xaxis": "x",
         "y": [
          46482.35294117647
         ],
         "yaxis": "y"
        },
        {
         "hovertemplate": "state=Kentucky<br>average stem_percent=%{x}<br>average early_career_pay=%{y}<extra></extra>",
         "legendgroup": "Kentucky",
         "marker": {
          "color": "#FF6692",
          "symbol": "circle"
         },
         "mode": "markers",
         "name": "Kentucky",
         "orientation": "v",
         "showlegend": true,
         "type": "scatter",
         "x": [
          10.708333333333334
         ],
         "xaxis": "x",
         "y": [
          43754.166666666664
         ],
         "yaxis": "y"
        },
        {
         "hovertemplate": "state=Louisiana<br>average stem_percent=%{x}<br>average early_career_pay=%{y}<extra></extra>",
         "legendgroup": "Louisiana",
         "marker": {
          "color": "#B6E880",
          "symbol": "circle"
         },
         "mode": "markers",
         "name": "Louisiana",
         "orientation": "v",
         "showlegend": true,
         "type": "scatter",
         "x": [
          14.266666666666667
         ],
         "xaxis": "x",
         "y": [
          46920
         ],
         "yaxis": "y"
        },
        {
         "hovertemplate": "state=Maine<br>average stem_percent=%{x}<br>average early_career_pay=%{y}<extra></extra>",
         "legendgroup": "Maine",
         "marker": {
          "color": "#FF97FF",
          "symbol": "circle"
         },
         "mode": "markers",
         "name": "Maine",
         "orientation": "v",
         "showlegend": true,
         "type": "scatter",
         "x": [
          13.375
         ],
         "xaxis": "x",
         "y": [
          48181.25
         ],
         "yaxis": "y"
        },
        {
         "hovertemplate": "state=Maryland<br>average stem_percent=%{x}<br>average early_career_pay=%{y}<extra></extra>",
         "legendgroup": "Maryland",
         "marker": {
          "color": "#FECB52",
          "symbol": "circle"
         },
         "mode": "markers",
         "name": "Maryland",
         "orientation": "v",
         "showlegend": true,
         "type": "scatter",
         "x": [
          17.294117647058822
         ],
         "xaxis": "x",
         "y": [
          53041.17647058824
         ],
         "yaxis": "y"
        },
        {
         "hovertemplate": "state=Massachusetts<br>average stem_percent=%{x}<br>average early_career_pay=%{y}<extra></extra>",
         "legendgroup": "Massachusetts",
         "marker": {
          "color": "#636efa",
          "symbol": "circle"
         },
         "mode": "markers",
         "name": "Massachusetts",
         "orientation": "v",
         "showlegend": true,
         "type": "scatter",
         "x": [
          28.38095238095238
         ],
         "xaxis": "x",
         "y": [
          63519.04761904762
         ],
         "yaxis": "y"
        },
        {
         "hovertemplate": "state=Michigan<br>average stem_percent=%{x}<br>average early_career_pay=%{y}<extra></extra>",
         "legendgroup": "Michigan",
         "marker": {
          "color": "#EF553B",
          "symbol": "circle"
         },
         "mode": "markers",
         "name": "Michigan",
         "orientation": "v",
         "showlegend": true,
         "type": "scatter",
         "x": [
          21.772727272727273
         ],
         "xaxis": "x",
         "y": [
          51695.454545454544
         ],
         "yaxis": "y"
        },
        {
         "hovertemplate": "state=Minnesota<br>average stem_percent=%{x}<br>average early_career_pay=%{y}<extra></extra>",
         "legendgroup": "Minnesota",
         "marker": {
          "color": "#00cc96",
          "symbol": "circle"
         },
         "mode": "markers",
         "name": "Minnesota",
         "orientation": "v",
         "showlegend": true,
         "type": "scatter",
         "x": [
          16.666666666666668
         ],
         "xaxis": "x",
         "y": [
          51233.333333333336
         ],
         "yaxis": "y"
        },
        {
         "hovertemplate": "state=Mississippi<br>average stem_percent=%{x}<br>average early_career_pay=%{y}<extra></extra>",
         "legendgroup": "Mississippi",
         "marker": {
          "color": "#ab63fa",
          "symbol": "circle"
         },
         "mode": "markers",
         "name": "Mississippi",
         "orientation": "v",
         "showlegend": true,
         "type": "scatter",
         "x": [
          14.642857142857142
         ],
         "xaxis": "x",
         "y": [
          42042.857142857145
         ],
         "yaxis": "y"
        },
        {
         "hovertemplate": "state=Missouri<br>average stem_percent=%{x}<br>average early_career_pay=%{y}<extra></extra>",
         "legendgroup": "Missouri",
         "marker": {
          "color": "#FFA15A",
          "symbol": "circle"
         },
         "mode": "markers",
         "name": "Missouri",
         "orientation": "v",
         "showlegend": true,
         "type": "scatter",
         "x": [
          15.705882352941176
         ],
         "xaxis": "x",
         "y": [
          48023.529411764706
         ],
         "yaxis": "y"
        },
        {
         "hovertemplate": "state=Montana<br>average stem_percent=%{x}<br>average early_career_pay=%{y}<extra></extra>",
         "legendgroup": "Montana",
         "marker": {
          "color": "#19d3f3",
          "symbol": "circle"
         },
         "mode": "markers",
         "name": "Montana",
         "orientation": "v",
         "showlegend": true,
         "type": "scatter",
         "x": [
          32.25
         ],
         "xaxis": "x",
         "y": [
          52275
         ],
         "yaxis": "y"
        },
        {
         "hovertemplate": "state=Nebraska<br>average stem_percent=%{x}<br>average early_career_pay=%{y}<extra></extra>",
         "legendgroup": "Nebraska",
         "marker": {
          "color": "#FF6692",
          "symbol": "circle"
         },
         "mode": "markers",
         "name": "Nebraska",
         "orientation": "v",
         "showlegend": true,
         "type": "scatter",
         "x": [
          8.727272727272727
         ],
         "xaxis": "x",
         "y": [
          46790.90909090909
         ],
         "yaxis": "y"
        },
        {
         "hovertemplate": "state=Nevada<br>average stem_percent=%{x}<br>average early_career_pay=%{y}<extra></extra>",
         "legendgroup": "Nevada",
         "marker": {
          "color": "#B6E880",
          "symbol": "circle"
         },
         "mode": "markers",
         "name": "Nevada",
         "orientation": "v",
         "showlegend": true,
         "type": "scatter",
         "x": [
          2
         ],
         "xaxis": "x",
         "y": [
          54000
         ],
         "yaxis": "y"
        },
        {
         "hovertemplate": "state=New Hampshire<br>average stem_percent=%{x}<br>average early_career_pay=%{y}<extra></extra>",
         "legendgroup": "New Hampshire",
         "marker": {
          "color": "#FF97FF",
          "symbol": "circle"
         },
         "mode": "markers",
         "name": "New Hampshire",
         "orientation": "v",
         "showlegend": true,
         "type": "scatter",
         "x": [
          16.181818181818183
         ],
         "xaxis": "x",
         "y": [
          50545.454545454544
         ],
         "yaxis": "y"
        },
        {
         "hovertemplate": "state=New Jersey<br>average stem_percent=%{x}<br>average early_career_pay=%{y}<extra></extra>",
         "legendgroup": "New Jersey",
         "marker": {
          "color": "#FECB52",
          "symbol": "circle"
         },
         "mode": "markers",
         "name": "New Jersey",
         "orientation": "v",
         "showlegend": true,
         "type": "scatter",
         "x": [
          20.263157894736842
         ],
         "xaxis": "x",
         "y": [
          54847.36842105263
         ],
         "yaxis": "y"
        },
        {
         "hovertemplate": "state=New Mexico<br>average stem_percent=%{x}<br>average early_career_pay=%{y}<extra></extra>",
         "legendgroup": "New Mexico",
         "marker": {
          "color": "#636efa",
          "symbol": "circle"
         },
         "mode": "markers",
         "name": "New Mexico",
         "orientation": "v",
         "showlegend": true,
         "type": "scatter",
         "x": [
          33
         ],
         "xaxis": "x",
         "y": [
          48933.333333333336
         ],
         "yaxis": "y"
        },
        {
         "hovertemplate": "state=New York<br>average stem_percent=%{x}<br>average early_career_pay=%{y}<extra></extra>",
         "legendgroup": "New York",
         "marker": {
          "color": "#EF553B",
          "symbol": "circle"
         },
         "mode": "markers",
         "name": "New York",
         "orientation": "v",
         "showlegend": true,
         "type": "scatter",
         "x": [
          28.5625
         ],
         "xaxis": "x",
         "y": [
          65881.25
         ],
         "yaxis": "y"
        },
        {
         "hovertemplate": "state=North Carolina<br>average stem_percent=%{x}<br>average early_career_pay=%{y}<extra></extra>",
         "legendgroup": "North Carolina",
         "marker": {
          "color": "#00cc96",
          "symbol": "circle"
         },
         "mode": "markers",
         "name": "North Carolina",
         "orientation": "v",
         "showlegend": true,
         "type": "scatter",
         "x": [
          11.15
         ],
         "xaxis": "x",
         "y": [
          49695
         ],
         "yaxis": "y"
        },
        {
         "hovertemplate": "state=North Dakota<br>average stem_percent=%{x}<br>average early_career_pay=%{y}<extra></extra>",
         "legendgroup": "North Dakota",
         "marker": {
          "color": "#ab63fa",
          "symbol": "circle"
         },
         "mode": "markers",
         "name": "North Dakota",
         "orientation": "v",
         "showlegend": true,
         "type": "scatter",
         "x": [
          8.285714285714286
         ],
         "xaxis": "x",
         "y": [
          46042.857142857145
         ],
         "yaxis": "y"
        },
        {
         "hovertemplate": "state=Ohio<br>average stem_percent=%{x}<br>average early_career_pay=%{y}<extra></extra>",
         "legendgroup": "Ohio",
         "marker": {
          "color": "#FFA15A",
          "symbol": "circle"
         },
         "mode": "markers",
         "name": "Ohio",
         "orientation": "v",
         "showlegend": true,
         "type": "scatter",
         "x": [
          21.533333333333335
         ],
         "xaxis": "x",
         "y": [
          53613.333333333336
         ],
         "yaxis": "y"
        },
        {
         "hovertemplate": "state=Oklahoma<br>average stem_percent=%{x}<br>average early_career_pay=%{y}<extra></extra>",
         "legendgroup": "Oklahoma",
         "marker": {
          "color": "#19d3f3",
          "symbol": "circle"
         },
         "mode": "markers",
         "name": "Oklahoma",
         "orientation": "v",
         "showlegend": true,
         "type": "scatter",
         "x": [
          11.421052631578947
         ],
         "xaxis": "x",
         "y": [
          45105.26315789474
         ],
         "yaxis": "y"
        },
        {
         "hovertemplate": "state=Oregon<br>average stem_percent=%{x}<br>average early_career_pay=%{y}<extra></extra>",
         "legendgroup": "Oregon",
         "marker": {
          "color": "#FF6692",
          "symbol": "circle"
         },
         "mode": "markers",
         "name": "Oregon",
         "orientation": "v",
         "showlegend": true,
         "type": "scatter",
         "x": [
          12.11111111111111
         ],
         "xaxis": "x",
         "y": [
          50694.444444444445
         ],
         "yaxis": "y"
        },
        {
         "hovertemplate": "state=Pennsylvania<br>average stem_percent=%{x}<br>average early_career_pay=%{y}<extra></extra>",
         "legendgroup": "Pennsylvania",
         "marker": {
          "color": "#B6E880",
          "symbol": "circle"
         },
         "mode": "markers",
         "name": "Pennsylvania",
         "orientation": "v",
         "showlegend": true,
         "type": "scatter",
         "x": [
          28.63157894736842
         ],
         "xaxis": "x",
         "y": [
          61436.84210526316
         ],
         "yaxis": "y"
        },
        {
         "hovertemplate": "state=Rhode Island<br>average stem_percent=%{x}<br>average early_career_pay=%{y}<extra></extra>",
         "legendgroup": "Rhode Island",
         "marker": {
          "color": "#FF97FF",
          "symbol": "circle"
         },
         "mode": "markers",
         "name": "Rhode Island",
         "orientation": "v",
         "showlegend": true,
         "type": "scatter",
         "x": [
          13
         ],
         "xaxis": "x",
         "y": [
          55822.22222222222
         ],
         "yaxis": "y"
        },
        {
         "hovertemplate": "state=South Carolina<br>average stem_percent=%{x}<br>average early_career_pay=%{y}<extra></extra>",
         "legendgroup": "South Carolina",
         "marker": {
          "color": "#FECB52",
          "symbol": "circle"
         },
         "mode": "markers",
         "name": "South Carolina",
         "orientation": "v",
         "showlegend": true,
         "type": "scatter",
         "x": [
          14.777777777777779
         ],
         "xaxis": "x",
         "y": [
          44716.666666666664
         ],
         "yaxis": "y"
        },
        {
         "hovertemplate": "state=South Dakota<br>average stem_percent=%{x}<br>average early_career_pay=%{y}<extra></extra>",
         "legendgroup": "South Dakota",
         "marker": {
          "color": "#636efa",
          "symbol": "circle"
         },
         "mode": "markers",
         "name": "South Dakota",
         "orientation": "v",
         "showlegend": true,
         "type": "scatter",
         "x": [
          22.8
         ],
         "xaxis": "x",
         "y": [
          47110
         ],
         "yaxis": "y"
        },
        {
         "hovertemplate": "state=Tennessee<br>average stem_percent=%{x}<br>average early_career_pay=%{y}<extra></extra>",
         "legendgroup": "Tennessee",
         "marker": {
          "color": "#EF553B",
          "symbol": "circle"
         },
         "mode": "markers",
         "name": "Tennessee",
         "orientation": "v",
         "showlegend": true,
         "type": "scatter",
         "x": [
          12.75
         ],
         "xaxis": "x",
         "y": [
          47370
         ],
         "yaxis": "y"
        },
        {
         "hovertemplate": "state=Texas<br>average stem_percent=%{x}<br>average early_career_pay=%{y}<extra></extra>",
         "legendgroup": "Texas",
         "marker": {
          "color": "#00cc96",
          "symbol": "circle"
         },
         "mode": "markers",
         "name": "Texas",
         "orientation": "v",
         "showlegend": true,
         "type": "scatter",
         "x": [
          20.055555555555557
         ],
         "xaxis": "x",
         "y": [
          56500
         ],
         "yaxis": "y"
        },
        {
         "hovertemplate": "state=Utah<br>average stem_percent=%{x}<br>average early_career_pay=%{y}<extra></extra>",
         "legendgroup": "Utah",
         "marker": {
          "color": "#ab63fa",
          "symbol": "circle"
         },
         "mode": "markers",
         "name": "Utah",
         "orientation": "v",
         "showlegend": true,
         "type": "scatter",
         "x": [
          12
         ],
         "xaxis": "x",
         "y": [
          52183.333333333336
         ],
         "yaxis": "y"
        },
        {
         "hovertemplate": "state=Vermont<br>average stem_percent=%{x}<br>average early_career_pay=%{y}<extra></extra>",
         "legendgroup": "Vermont",
         "marker": {
          "color": "#FFA15A",
          "symbol": "circle"
         },
         "mode": "markers",
         "name": "Vermont",
         "orientation": "v",
         "showlegend": true,
         "type": "scatter",
         "x": [
          12.272727272727273
         ],
         "xaxis": "x",
         "y": [
          49445.454545454544
         ],
         "yaxis": "y"
        },
        {
         "hovertemplate": "state=Virginia<br>average stem_percent=%{x}<br>average early_career_pay=%{y}<extra></extra>",
         "legendgroup": "Virginia",
         "marker": {
          "color": "#19d3f3",
          "symbol": "circle"
         },
         "mode": "markers",
         "name": "Virginia",
         "orientation": "v",
         "showlegend": true,
         "type": "scatter",
         "x": [
          17.727272727272727
         ],
         "xaxis": "x",
         "y": [
          53718.181818181816
         ],
         "yaxis": "y"
        },
        {
         "hovertemplate": "state=Washington<br>average stem_percent=%{x}<br>average early_career_pay=%{y}<extra></extra>",
         "legendgroup": "Washington",
         "marker": {
          "color": "#FF6692",
          "symbol": "circle"
         },
         "mode": "markers",
         "name": "Washington",
         "orientation": "v",
         "showlegend": true,
         "type": "scatter",
         "x": [
          16.625
         ],
         "xaxis": "x",
         "y": [
          53450
         ],
         "yaxis": "y"
        },
        {
         "hovertemplate": "state=West Virginia<br>average stem_percent=%{x}<br>average early_career_pay=%{y}<extra></extra>",
         "legendgroup": "West Virginia",
         "marker": {
          "color": "#B6E880",
          "symbol": "circle"
         },
         "mode": "markers",
         "name": "West Virginia",
         "orientation": "v",
         "showlegend": true,
         "type": "scatter",
         "x": [
          10.4
         ],
         "xaxis": "x",
         "y": [
          44333.333333333336
         ],
         "yaxis": "y"
        },
        {
         "hovertemplate": "state=Wisconsin<br>average stem_percent=%{x}<br>average early_career_pay=%{y}<extra></extra>",
         "legendgroup": "Wisconsin",
         "marker": {
          "color": "#FF97FF",
          "symbol": "circle"
         },
         "mode": "markers",
         "name": "Wisconsin",
         "orientation": "v",
         "showlegend": true,
         "type": "scatter",
         "x": [
          18.363636363636363
         ],
         "xaxis": "x",
         "y": [
          50681.818181818184
         ],
         "yaxis": "y"
        },
        {
         "hovertemplate": "state=Wyoming<br>average stem_percent=%{x}<br>average early_career_pay=%{y}<extra></extra>",
         "legendgroup": "Wyoming",
         "marker": {
          "color": "#FECB52",
          "symbol": "circle"
         },
         "mode": "markers",
         "name": "Wyoming",
         "orientation": "v",
         "showlegend": true,
         "type": "scatter",
         "x": [
          25
         ],
         "xaxis": "x",
         "y": [
          52400
         ],
         "yaxis": "y"
        },
        {
         "hovertemplate": "<b>OLS trendline</b><br>average early_career_pay = 478.507 * average stem_percent + 43091.8<br>R<sup>2</sup>=0.347354<br><br>average stem_percent=%{x}<br>average early_career_pay=%{y} <b>(trend)</b><extra></extra>",
         "legendgroup": "Overall Trendline",
         "line": {
          "color": "#636efa"
         },
         "mode": "lines",
         "name": "Overall Trendline",
         "showlegend": true,
         "type": "scatter",
         "x": [
          2,
          8.285714285714286,
          8.727272727272727,
          9.764705882352942,
          10.4,
          10.708333333333334,
          11.15,
          11.421052631578947,
          11.666666666666666,
          12,
          12,
          12.11111111111111,
          12.272727272727273,
          12.333333333333334,
          12.4,
          12.6,
          12.75,
          13,
          13.375,
          14.047619047619047,
          14.071428571428571,
          14.266666666666667,
          14.38888888888889,
          14.636363636363637,
          14.642857142857142,
          14.777777777777779,
          15.705882352941176,
          15.88888888888889,
          16.181818181818183,
          16.333333333333332,
          16.625,
          16.666666666666668,
          17.294117647058822,
          17.727272727272727,
          18.363636363636363,
          20.055555555555557,
          20.263157894736842,
          20.63157894736842,
          20.692307692307693,
          21.533333333333335,
          21.772727272727273,
          22.8,
          22.944444444444443,
          25,
          28.38095238095238,
          28.5625,
          28.63157894736842,
          30.615384615384617,
          32.25,
          33
         ],
         "xaxis": "x",
         "y": [
          44048.785584220146,
          47056.541490488235,
          47267.83012853186,
          47764.24876255132,
          48068.24120441477,
          48215.780746029064,
          48427.12117050358,
          48556.82164947603,
          48674.34959158698,
          48833.85179873756,
          48833.85179873756,
          48887.01920112108,
          48964.35360458803,
          48993.35400588814,
          49025.25444731826,
          49120.955771608606,
          49192.73176482636,
          49312.358420189295,
          49491.798403233704,
          49813.65107123398,
          49825.04408603045,
          49918.4668073615,
          49976.95094998338,
          50095.36925529215,
          50098.47644114573,
          50163.03685832573,
          50607.14104294107,
          50694.710882160995,
          50834.87948844484,
          50907.380491695105,
          51046.94492295186,
          51066.882698845686,
          51367.122147599715,
          51574.38972159753,
          51878.893935248634,
          52688.48847154325,
          52787.82756547036,
          52964.1194786368,
          52993.178585202695,
          53395.61492324415,
          53510.166508379574,
          54001.72331041636,
          54070.84093351495,
          55054.43787761019,
          56672.24597870893,
          56759.11771653202,
          56792.17245025072,
          57741.436598069966,
          58523.61088313531,
          58882.490849224116
         ],
         "yaxis": "y"
        }
       ],
       "layout": {
        "legend": {
         "title": {
          "text": "state"
         },
         "tracegroupgap": 0
        },
        "template": {
         "data": {
          "bar": [
           {
            "error_x": {
             "color": "#2a3f5f"
            },
            "error_y": {
             "color": "#2a3f5f"
            },
            "marker": {
             "line": {
              "color": "#E5ECF6",
              "width": 0.5
             },
             "pattern": {
              "fillmode": "overlay",
              "size": 10,
              "solidity": 0.2
             }
            },
            "type": "bar"
           }
          ],
          "barpolar": [
           {
            "marker": {
             "line": {
              "color": "#E5ECF6",
              "width": 0.5
             },
             "pattern": {
              "fillmode": "overlay",
              "size": 10,
              "solidity": 0.2
             }
            },
            "type": "barpolar"
           }
          ],
          "carpet": [
           {
            "aaxis": {
             "endlinecolor": "#2a3f5f",
             "gridcolor": "white",
             "linecolor": "white",
             "minorgridcolor": "white",
             "startlinecolor": "#2a3f5f"
            },
            "baxis": {
             "endlinecolor": "#2a3f5f",
             "gridcolor": "white",
             "linecolor": "white",
             "minorgridcolor": "white",
             "startlinecolor": "#2a3f5f"
            },
            "type": "carpet"
           }
          ],
          "choropleth": [
           {
            "colorbar": {
             "outlinewidth": 0,
             "ticks": ""
            },
            "type": "choropleth"
           }
          ],
          "contour": [
           {
            "colorbar": {
             "outlinewidth": 0,
             "ticks": ""
            },
            "colorscale": [
             [
              0,
              "#0d0887"
             ],
             [
              0.1111111111111111,
              "#46039f"
             ],
             [
              0.2222222222222222,
              "#7201a8"
             ],
             [
              0.3333333333333333,
              "#9c179e"
             ],
             [
              0.4444444444444444,
              "#bd3786"
             ],
             [
              0.5555555555555556,
              "#d8576b"
             ],
             [
              0.6666666666666666,
              "#ed7953"
             ],
             [
              0.7777777777777778,
              "#fb9f3a"
             ],
             [
              0.8888888888888888,
              "#fdca26"
             ],
             [
              1,
              "#f0f921"
             ]
            ],
            "type": "contour"
           }
          ],
          "contourcarpet": [
           {
            "colorbar": {
             "outlinewidth": 0,
             "ticks": ""
            },
            "type": "contourcarpet"
           }
          ],
          "heatmap": [
           {
            "colorbar": {
             "outlinewidth": 0,
             "ticks": ""
            },
            "colorscale": [
             [
              0,
              "#0d0887"
             ],
             [
              0.1111111111111111,
              "#46039f"
             ],
             [
              0.2222222222222222,
              "#7201a8"
             ],
             [
              0.3333333333333333,
              "#9c179e"
             ],
             [
              0.4444444444444444,
              "#bd3786"
             ],
             [
              0.5555555555555556,
              "#d8576b"
             ],
             [
              0.6666666666666666,
              "#ed7953"
             ],
             [
              0.7777777777777778,
              "#fb9f3a"
             ],
             [
              0.8888888888888888,
              "#fdca26"
             ],
             [
              1,
              "#f0f921"
             ]
            ],
            "type": "heatmap"
           }
          ],
          "heatmapgl": [
           {
            "colorbar": {
             "outlinewidth": 0,
             "ticks": ""
            },
            "colorscale": [
             [
              0,
              "#0d0887"
             ],
             [
              0.1111111111111111,
              "#46039f"
             ],
             [
              0.2222222222222222,
              "#7201a8"
             ],
             [
              0.3333333333333333,
              "#9c179e"
             ],
             [
              0.4444444444444444,
              "#bd3786"
             ],
             [
              0.5555555555555556,
              "#d8576b"
             ],
             [
              0.6666666666666666,
              "#ed7953"
             ],
             [
              0.7777777777777778,
              "#fb9f3a"
             ],
             [
              0.8888888888888888,
              "#fdca26"
             ],
             [
              1,
              "#f0f921"
             ]
            ],
            "type": "heatmapgl"
           }
          ],
          "histogram": [
           {
            "marker": {
             "pattern": {
              "fillmode": "overlay",
              "size": 10,
              "solidity": 0.2
             }
            },
            "type": "histogram"
           }
          ],
          "histogram2d": [
           {
            "colorbar": {
             "outlinewidth": 0,
             "ticks": ""
            },
            "colorscale": [
             [
              0,
              "#0d0887"
             ],
             [
              0.1111111111111111,
              "#46039f"
             ],
             [
              0.2222222222222222,
              "#7201a8"
             ],
             [
              0.3333333333333333,
              "#9c179e"
             ],
             [
              0.4444444444444444,
              "#bd3786"
             ],
             [
              0.5555555555555556,
              "#d8576b"
             ],
             [
              0.6666666666666666,
              "#ed7953"
             ],
             [
              0.7777777777777778,
              "#fb9f3a"
             ],
             [
              0.8888888888888888,
              "#fdca26"
             ],
             [
              1,
              "#f0f921"
             ]
            ],
            "type": "histogram2d"
           }
          ],
          "histogram2dcontour": [
           {
            "colorbar": {
             "outlinewidth": 0,
             "ticks": ""
            },
            "colorscale": [
             [
              0,
              "#0d0887"
             ],
             [
              0.1111111111111111,
              "#46039f"
             ],
             [
              0.2222222222222222,
              "#7201a8"
             ],
             [
              0.3333333333333333,
              "#9c179e"
             ],
             [
              0.4444444444444444,
              "#bd3786"
             ],
             [
              0.5555555555555556,
              "#d8576b"
             ],
             [
              0.6666666666666666,
              "#ed7953"
             ],
             [
              0.7777777777777778,
              "#fb9f3a"
             ],
             [
              0.8888888888888888,
              "#fdca26"
             ],
             [
              1,
              "#f0f921"
             ]
            ],
            "type": "histogram2dcontour"
           }
          ],
          "mesh3d": [
           {
            "colorbar": {
             "outlinewidth": 0,
             "ticks": ""
            },
            "type": "mesh3d"
           }
          ],
          "parcoords": [
           {
            "line": {
             "colorbar": {
              "outlinewidth": 0,
              "ticks": ""
             }
            },
            "type": "parcoords"
           }
          ],
          "pie": [
           {
            "automargin": true,
            "type": "pie"
           }
          ],
          "scatter": [
           {
            "marker": {
             "colorbar": {
              "outlinewidth": 0,
              "ticks": ""
             }
            },
            "type": "scatter"
           }
          ],
          "scatter3d": [
           {
            "line": {
             "colorbar": {
              "outlinewidth": 0,
              "ticks": ""
             }
            },
            "marker": {
             "colorbar": {
              "outlinewidth": 0,
              "ticks": ""
             }
            },
            "type": "scatter3d"
           }
          ],
          "scattercarpet": [
           {
            "marker": {
             "colorbar": {
              "outlinewidth": 0,
              "ticks": ""
             }
            },
            "type": "scattercarpet"
           }
          ],
          "scattergeo": [
           {
            "marker": {
             "colorbar": {
              "outlinewidth": 0,
              "ticks": ""
             }
            },
            "type": "scattergeo"
           }
          ],
          "scattergl": [
           {
            "marker": {
             "colorbar": {
              "outlinewidth": 0,
              "ticks": ""
             }
            },
            "type": "scattergl"
           }
          ],
          "scattermapbox": [
           {
            "marker": {
             "colorbar": {
              "outlinewidth": 0,
              "ticks": ""
             }
            },
            "type": "scattermapbox"
           }
          ],
          "scatterpolar": [
           {
            "marker": {
             "colorbar": {
              "outlinewidth": 0,
              "ticks": ""
             }
            },
            "type": "scatterpolar"
           }
          ],
          "scatterpolargl": [
           {
            "marker": {
             "colorbar": {
              "outlinewidth": 0,
              "ticks": ""
             }
            },
            "type": "scatterpolargl"
           }
          ],
          "scatterternary": [
           {
            "marker": {
             "colorbar": {
              "outlinewidth": 0,
              "ticks": ""
             }
            },
            "type": "scatterternary"
           }
          ],
          "surface": [
           {
            "colorbar": {
             "outlinewidth": 0,
             "ticks": ""
            },
            "colorscale": [
             [
              0,
              "#0d0887"
             ],
             [
              0.1111111111111111,
              "#46039f"
             ],
             [
              0.2222222222222222,
              "#7201a8"
             ],
             [
              0.3333333333333333,
              "#9c179e"
             ],
             [
              0.4444444444444444,
              "#bd3786"
             ],
             [
              0.5555555555555556,
              "#d8576b"
             ],
             [
              0.6666666666666666,
              "#ed7953"
             ],
             [
              0.7777777777777778,
              "#fb9f3a"
             ],
             [
              0.8888888888888888,
              "#fdca26"
             ],
             [
              1,
              "#f0f921"
             ]
            ],
            "type": "surface"
           }
          ],
          "table": [
           {
            "cells": {
             "fill": {
              "color": "#EBF0F8"
             },
             "line": {
              "color": "white"
             }
            },
            "header": {
             "fill": {
              "color": "#C8D4E3"
             },
             "line": {
              "color": "white"
             }
            },
            "type": "table"
           }
          ]
         },
         "layout": {
          "annotationdefaults": {
           "arrowcolor": "#2a3f5f",
           "arrowhead": 0,
           "arrowwidth": 1
          },
          "autotypenumbers": "strict",
          "coloraxis": {
           "colorbar": {
            "outlinewidth": 0,
            "ticks": ""
           }
          },
          "colorscale": {
           "diverging": [
            [
             0,
             "#8e0152"
            ],
            [
             0.1,
             "#c51b7d"
            ],
            [
             0.2,
             "#de77ae"
            ],
            [
             0.3,
             "#f1b6da"
            ],
            [
             0.4,
             "#fde0ef"
            ],
            [
             0.5,
             "#f7f7f7"
            ],
            [
             0.6,
             "#e6f5d0"
            ],
            [
             0.7,
             "#b8e186"
            ],
            [
             0.8,
             "#7fbc41"
            ],
            [
             0.9,
             "#4d9221"
            ],
            [
             1,
             "#276419"
            ]
           ],
           "sequential": [
            [
             0,
             "#0d0887"
            ],
            [
             0.1111111111111111,
             "#46039f"
            ],
            [
             0.2222222222222222,
             "#7201a8"
            ],
            [
             0.3333333333333333,
             "#9c179e"
            ],
            [
             0.4444444444444444,
             "#bd3786"
            ],
            [
             0.5555555555555556,
             "#d8576b"
            ],
            [
             0.6666666666666666,
             "#ed7953"
            ],
            [
             0.7777777777777778,
             "#fb9f3a"
            ],
            [
             0.8888888888888888,
             "#fdca26"
            ],
            [
             1,
             "#f0f921"
            ]
           ],
           "sequentialminus": [
            [
             0,
             "#0d0887"
            ],
            [
             0.1111111111111111,
             "#46039f"
            ],
            [
             0.2222222222222222,
             "#7201a8"
            ],
            [
             0.3333333333333333,
             "#9c179e"
            ],
            [
             0.4444444444444444,
             "#bd3786"
            ],
            [
             0.5555555555555556,
             "#d8576b"
            ],
            [
             0.6666666666666666,
             "#ed7953"
            ],
            [
             0.7777777777777778,
             "#fb9f3a"
            ],
            [
             0.8888888888888888,
             "#fdca26"
            ],
            [
             1,
             "#f0f921"
            ]
           ]
          },
          "colorway": [
           "#636efa",
           "#EF553B",
           "#00cc96",
           "#ab63fa",
           "#FFA15A",
           "#19d3f3",
           "#FF6692",
           "#B6E880",
           "#FF97FF",
           "#FECB52"
          ],
          "font": {
           "color": "#2a3f5f"
          },
          "geo": {
           "bgcolor": "white",
           "lakecolor": "white",
           "landcolor": "#E5ECF6",
           "showlakes": true,
           "showland": true,
           "subunitcolor": "white"
          },
          "hoverlabel": {
           "align": "left"
          },
          "hovermode": "closest",
          "mapbox": {
           "style": "light"
          },
          "paper_bgcolor": "white",
          "plot_bgcolor": "#E5ECF6",
          "polar": {
           "angularaxis": {
            "gridcolor": "white",
            "linecolor": "white",
            "ticks": ""
           },
           "bgcolor": "#E5ECF6",
           "radialaxis": {
            "gridcolor": "white",
            "linecolor": "white",
            "ticks": ""
           }
          },
          "scene": {
           "xaxis": {
            "backgroundcolor": "#E5ECF6",
            "gridcolor": "white",
            "gridwidth": 2,
            "linecolor": "white",
            "showbackground": true,
            "ticks": "",
            "zerolinecolor": "white"
           },
           "yaxis": {
            "backgroundcolor": "#E5ECF6",
            "gridcolor": "white",
            "gridwidth": 2,
            "linecolor": "white",
            "showbackground": true,
            "ticks": "",
            "zerolinecolor": "white"
           },
           "zaxis": {
            "backgroundcolor": "#E5ECF6",
            "gridcolor": "white",
            "gridwidth": 2,
            "linecolor": "white",
            "showbackground": true,
            "ticks": "",
            "zerolinecolor": "white"
           }
          },
          "shapedefaults": {
           "line": {
            "color": "#2a3f5f"
           }
          },
          "ternary": {
           "aaxis": {
            "gridcolor": "white",
            "linecolor": "white",
            "ticks": ""
           },
           "baxis": {
            "gridcolor": "white",
            "linecolor": "white",
            "ticks": ""
           },
           "bgcolor": "#E5ECF6",
           "caxis": {
            "gridcolor": "white",
            "linecolor": "white",
            "ticks": ""
           }
          },
          "title": {
           "x": 0.05
          },
          "xaxis": {
           "automargin": true,
           "gridcolor": "white",
           "linecolor": "white",
           "ticks": "",
           "title": {
            "standoff": 15
           },
           "zerolinecolor": "white",
           "zerolinewidth": 2
          },
          "yaxis": {
           "automargin": true,
           "gridcolor": "white",
           "linecolor": "white",
           "ticks": "",
           "title": {
            "standoff": 15
           },
           "zerolinecolor": "white",
           "zerolinewidth": 2
          }
         }
        },
        "title": {
         "text": "Average In State Tuition vs Average % of Students Graduating with STEM Degrees"
        },
        "xaxis": {
         "anchor": "y",
         "domain": [
          0,
          1
         ],
         "title": {
          "text": "average stem_percent"
         }
        },
        "yaxis": {
         "anchor": "x",
         "domain": [
          0,
          1
         ],
         "title": {
          "text": "average early_career_pay"
         }
        }
       }
      },
      "text/html": [
       "<div>                            <div id=\"cf250939-581c-4579-bc9e-bbd126521b1c\" class=\"plotly-graph-div\" style=\"height:525px; width:100%;\"></div>            <script type=\"text/javascript\">                require([\"plotly\"], function(Plotly) {                    window.PLOTLYENV=window.PLOTLYENV || {};                                    if (document.getElementById(\"cf250939-581c-4579-bc9e-bbd126521b1c\")) {                    Plotly.newPlot(                        \"cf250939-581c-4579-bc9e-bbd126521b1c\",                        [{\"hovertemplate\":\"state=Alabama<br>average stem_percent=%{x}<br>average early_career_pay=%{y}<extra></extra>\",\"legendgroup\":\"Alabama\",\"marker\":{\"color\":\"#636efa\",\"symbol\":\"circle\"},\"mode\":\"markers\",\"name\":\"Alabama\",\"orientation\":\"v\",\"showlegend\":true,\"x\":[14.047619047619047],\"xaxis\":\"x\",\"y\":[44714.28571428572],\"yaxis\":\"y\",\"type\":\"scatter\"},{\"hovertemplate\":\"state=Alaska<br>average stem_percent=%{x}<br>average early_career_pay=%{y}<extra></extra>\",\"legendgroup\":\"Alaska\",\"marker\":{\"color\":\"#EF553B\",\"symbol\":\"circle\"},\"mode\":\"markers\",\"name\":\"Alaska\",\"orientation\":\"v\",\"showlegend\":true,\"x\":[12.0],\"xaxis\":\"x\",\"y\":[55133.333333333336],\"yaxis\":\"y\",\"type\":\"scatter\"},{\"hovertemplate\":\"state=Arizona<br>average stem_percent=%{x}<br>average early_career_pay=%{y}<extra></extra>\",\"legendgroup\":\"Arizona\",\"marker\":{\"color\":\"#00cc96\",\"symbol\":\"circle\"},\"mode\":\"markers\",\"name\":\"Arizona\",\"orientation\":\"v\",\"showlegend\":true,\"x\":[11.666666666666666],\"xaxis\":\"x\",\"y\":[48966.666666666664],\"yaxis\":\"y\",\"type\":\"scatter\"},{\"hovertemplate\":\"state=Arkansas<br>average stem_percent=%{x}<br>average early_career_pay=%{y}<extra></extra>\",\"legendgroup\":\"Arkansas\",\"marker\":{\"color\":\"#ab63fa\",\"symbol\":\"circle\"},\"mode\":\"markers\",\"name\":\"Arkansas\",\"orientation\":\"v\",\"showlegend\":true,\"x\":[14.071428571428571],\"xaxis\":\"x\",\"y\":[45607.142857142855],\"yaxis\":\"y\",\"type\":\"scatter\"},{\"hovertemplate\":\"state=California<br>average stem_percent=%{x}<br>average early_career_pay=%{y}<extra></extra>\",\"legendgroup\":\"California\",\"marker\":{\"color\":\"#FFA15A\",\"symbol\":\"circle\"},\"mode\":\"markers\",\"name\":\"California\",\"orientation\":\"v\",\"showlegend\":true,\"x\":[30.615384615384617],\"xaxis\":\"x\",\"y\":[67800.0],\"yaxis\":\"y\",\"type\":\"scatter\"},{\"hovertemplate\":\"state=Colorado<br>average stem_percent=%{x}<br>average early_career_pay=%{y}<extra></extra>\",\"legendgroup\":\"Colorado\",\"marker\":{\"color\":\"#19d3f3\",\"symbol\":\"circle\"},\"mode\":\"markers\",\"name\":\"Colorado\",\"orientation\":\"v\",\"showlegend\":true,\"x\":[20.692307692307693],\"xaxis\":\"x\",\"y\":[52238.46153846154],\"yaxis\":\"y\",\"type\":\"scatter\"},{\"hovertemplate\":\"state=Connecticut<br>average stem_percent=%{x}<br>average early_career_pay=%{y}<extra></extra>\",\"legendgroup\":\"Connecticut\",\"marker\":{\"color\":\"#FF6692\",\"symbol\":\"circle\"},\"mode\":\"markers\",\"name\":\"Connecticut\",\"orientation\":\"v\",\"showlegend\":true,\"x\":[15.88888888888889],\"xaxis\":\"x\",\"y\":[55016.666666666664],\"yaxis\":\"y\",\"type\":\"scatter\"},{\"hovertemplate\":\"state=Delaware<br>average stem_percent=%{x}<br>average early_career_pay=%{y}<extra></extra>\",\"legendgroup\":\"Delaware\",\"marker\":{\"color\":\"#B6E880\",\"symbol\":\"circle\"},\"mode\":\"markers\",\"name\":\"Delaware\",\"orientation\":\"v\",\"showlegend\":true,\"x\":[12.6],\"xaxis\":\"x\",\"y\":[49040.0],\"yaxis\":\"y\",\"type\":\"scatter\"},{\"hovertemplate\":\"state=Florida<br>average stem_percent=%{x}<br>average early_career_pay=%{y}<extra></extra>\",\"legendgroup\":\"Florida\",\"marker\":{\"color\":\"#FF97FF\",\"symbol\":\"circle\"},\"mode\":\"markers\",\"name\":\"Florida\",\"orientation\":\"v\",\"showlegend\":true,\"x\":[14.38888888888889],\"xaxis\":\"x\",\"y\":[50250.0],\"yaxis\":\"y\",\"type\":\"scatter\"},{\"hovertemplate\":\"state=Georgia<br>average stem_percent=%{x}<br>average early_career_pay=%{y}<extra></extra>\",\"legendgroup\":\"Georgia\",\"marker\":{\"color\":\"#FECB52\",\"symbol\":\"circle\"},\"mode\":\"markers\",\"name\":\"Georgia\",\"orientation\":\"v\",\"showlegend\":true,\"x\":[14.636363636363637],\"xaxis\":\"x\",\"y\":[48527.27272727273],\"yaxis\":\"y\",\"type\":\"scatter\"},{\"hovertemplate\":\"state=Hawaii<br>average stem_percent=%{x}<br>average early_career_pay=%{y}<extra></extra>\",\"legendgroup\":\"Hawaii\",\"marker\":{\"color\":\"#636efa\",\"symbol\":\"circle\"},\"mode\":\"markers\",\"name\":\"Hawaii\",\"orientation\":\"v\",\"showlegend\":true,\"x\":[12.4],\"xaxis\":\"x\",\"y\":[48980.0],\"yaxis\":\"y\",\"type\":\"scatter\"},{\"hovertemplate\":\"state=Idaho<br>average stem_percent=%{x}<br>average early_career_pay=%{y}<extra></extra>\",\"legendgroup\":\"Idaho\",\"marker\":{\"color\":\"#EF553B\",\"symbol\":\"circle\"},\"mode\":\"markers\",\"name\":\"Idaho\",\"orientation\":\"v\",\"showlegend\":true,\"x\":[12.333333333333334],\"xaxis\":\"x\",\"y\":[49666.666666666664],\"yaxis\":\"y\",\"type\":\"scatter\"},{\"hovertemplate\":\"state=Illinois<br>average stem_percent=%{x}<br>average early_career_pay=%{y}<extra></extra>\",\"legendgroup\":\"Illinois\",\"marker\":{\"color\":\"#00cc96\",\"symbol\":\"circle\"},\"mode\":\"markers\",\"name\":\"Illinois\",\"orientation\":\"v\",\"showlegend\":true,\"x\":[20.63157894736842],\"xaxis\":\"x\",\"y\":[55763.15789473684],\"yaxis\":\"y\",\"type\":\"scatter\"},{\"hovertemplate\":\"state=Indiana<br>average stem_percent=%{x}<br>average early_career_pay=%{y}<extra></extra>\",\"legendgroup\":\"Indiana\",\"marker\":{\"color\":\"#ab63fa\",\"symbol\":\"circle\"},\"mode\":\"markers\",\"name\":\"Indiana\",\"orientation\":\"v\",\"showlegend\":true,\"x\":[22.944444444444443],\"xaxis\":\"x\",\"y\":[52938.88888888889],\"yaxis\":\"y\",\"type\":\"scatter\"},{\"hovertemplate\":\"state=Iowa<br>average stem_percent=%{x}<br>average early_career_pay=%{y}<extra></extra>\",\"legendgroup\":\"Iowa\",\"marker\":{\"color\":\"#FFA15A\",\"symbol\":\"circle\"},\"mode\":\"markers\",\"name\":\"Iowa\",\"orientation\":\"v\",\"showlegend\":true,\"x\":[16.333333333333332],\"xaxis\":\"x\",\"y\":[48314.28571428572],\"yaxis\":\"y\",\"type\":\"scatter\"},{\"hovertemplate\":\"state=Kansas<br>average stem_percent=%{x}<br>average early_career_pay=%{y}<extra></extra>\",\"legendgroup\":\"Kansas\",\"marker\":{\"color\":\"#19d3f3\",\"symbol\":\"circle\"},\"mode\":\"markers\",\"name\":\"Kansas\",\"orientation\":\"v\",\"showlegend\":true,\"x\":[9.764705882352942],\"xaxis\":\"x\",\"y\":[46482.35294117647],\"yaxis\":\"y\",\"type\":\"scatter\"},{\"hovertemplate\":\"state=Kentucky<br>average stem_percent=%{x}<br>average early_career_pay=%{y}<extra></extra>\",\"legendgroup\":\"Kentucky\",\"marker\":{\"color\":\"#FF6692\",\"symbol\":\"circle\"},\"mode\":\"markers\",\"name\":\"Kentucky\",\"orientation\":\"v\",\"showlegend\":true,\"x\":[10.708333333333334],\"xaxis\":\"x\",\"y\":[43754.166666666664],\"yaxis\":\"y\",\"type\":\"scatter\"},{\"hovertemplate\":\"state=Louisiana<br>average stem_percent=%{x}<br>average early_career_pay=%{y}<extra></extra>\",\"legendgroup\":\"Louisiana\",\"marker\":{\"color\":\"#B6E880\",\"symbol\":\"circle\"},\"mode\":\"markers\",\"name\":\"Louisiana\",\"orientation\":\"v\",\"showlegend\":true,\"x\":[14.266666666666667],\"xaxis\":\"x\",\"y\":[46920.0],\"yaxis\":\"y\",\"type\":\"scatter\"},{\"hovertemplate\":\"state=Maine<br>average stem_percent=%{x}<br>average early_career_pay=%{y}<extra></extra>\",\"legendgroup\":\"Maine\",\"marker\":{\"color\":\"#FF97FF\",\"symbol\":\"circle\"},\"mode\":\"markers\",\"name\":\"Maine\",\"orientation\":\"v\",\"showlegend\":true,\"x\":[13.375],\"xaxis\":\"x\",\"y\":[48181.25],\"yaxis\":\"y\",\"type\":\"scatter\"},{\"hovertemplate\":\"state=Maryland<br>average stem_percent=%{x}<br>average early_career_pay=%{y}<extra></extra>\",\"legendgroup\":\"Maryland\",\"marker\":{\"color\":\"#FECB52\",\"symbol\":\"circle\"},\"mode\":\"markers\",\"name\":\"Maryland\",\"orientation\":\"v\",\"showlegend\":true,\"x\":[17.294117647058822],\"xaxis\":\"x\",\"y\":[53041.17647058824],\"yaxis\":\"y\",\"type\":\"scatter\"},{\"hovertemplate\":\"state=Massachusetts<br>average stem_percent=%{x}<br>average early_career_pay=%{y}<extra></extra>\",\"legendgroup\":\"Massachusetts\",\"marker\":{\"color\":\"#636efa\",\"symbol\":\"circle\"},\"mode\":\"markers\",\"name\":\"Massachusetts\",\"orientation\":\"v\",\"showlegend\":true,\"x\":[28.38095238095238],\"xaxis\":\"x\",\"y\":[63519.04761904762],\"yaxis\":\"y\",\"type\":\"scatter\"},{\"hovertemplate\":\"state=Michigan<br>average stem_percent=%{x}<br>average early_career_pay=%{y}<extra></extra>\",\"legendgroup\":\"Michigan\",\"marker\":{\"color\":\"#EF553B\",\"symbol\":\"circle\"},\"mode\":\"markers\",\"name\":\"Michigan\",\"orientation\":\"v\",\"showlegend\":true,\"x\":[21.772727272727273],\"xaxis\":\"x\",\"y\":[51695.454545454544],\"yaxis\":\"y\",\"type\":\"scatter\"},{\"hovertemplate\":\"state=Minnesota<br>average stem_percent=%{x}<br>average early_career_pay=%{y}<extra></extra>\",\"legendgroup\":\"Minnesota\",\"marker\":{\"color\":\"#00cc96\",\"symbol\":\"circle\"},\"mode\":\"markers\",\"name\":\"Minnesota\",\"orientation\":\"v\",\"showlegend\":true,\"x\":[16.666666666666668],\"xaxis\":\"x\",\"y\":[51233.333333333336],\"yaxis\":\"y\",\"type\":\"scatter\"},{\"hovertemplate\":\"state=Mississippi<br>average stem_percent=%{x}<br>average early_career_pay=%{y}<extra></extra>\",\"legendgroup\":\"Mississippi\",\"marker\":{\"color\":\"#ab63fa\",\"symbol\":\"circle\"},\"mode\":\"markers\",\"name\":\"Mississippi\",\"orientation\":\"v\",\"showlegend\":true,\"x\":[14.642857142857142],\"xaxis\":\"x\",\"y\":[42042.857142857145],\"yaxis\":\"y\",\"type\":\"scatter\"},{\"hovertemplate\":\"state=Missouri<br>average stem_percent=%{x}<br>average early_career_pay=%{y}<extra></extra>\",\"legendgroup\":\"Missouri\",\"marker\":{\"color\":\"#FFA15A\",\"symbol\":\"circle\"},\"mode\":\"markers\",\"name\":\"Missouri\",\"orientation\":\"v\",\"showlegend\":true,\"x\":[15.705882352941176],\"xaxis\":\"x\",\"y\":[48023.529411764706],\"yaxis\":\"y\",\"type\":\"scatter\"},{\"hovertemplate\":\"state=Montana<br>average stem_percent=%{x}<br>average early_career_pay=%{y}<extra></extra>\",\"legendgroup\":\"Montana\",\"marker\":{\"color\":\"#19d3f3\",\"symbol\":\"circle\"},\"mode\":\"markers\",\"name\":\"Montana\",\"orientation\":\"v\",\"showlegend\":true,\"x\":[32.25],\"xaxis\":\"x\",\"y\":[52275.0],\"yaxis\":\"y\",\"type\":\"scatter\"},{\"hovertemplate\":\"state=Nebraska<br>average stem_percent=%{x}<br>average early_career_pay=%{y}<extra></extra>\",\"legendgroup\":\"Nebraska\",\"marker\":{\"color\":\"#FF6692\",\"symbol\":\"circle\"},\"mode\":\"markers\",\"name\":\"Nebraska\",\"orientation\":\"v\",\"showlegend\":true,\"x\":[8.727272727272727],\"xaxis\":\"x\",\"y\":[46790.90909090909],\"yaxis\":\"y\",\"type\":\"scatter\"},{\"hovertemplate\":\"state=Nevada<br>average stem_percent=%{x}<br>average early_career_pay=%{y}<extra></extra>\",\"legendgroup\":\"Nevada\",\"marker\":{\"color\":\"#B6E880\",\"symbol\":\"circle\"},\"mode\":\"markers\",\"name\":\"Nevada\",\"orientation\":\"v\",\"showlegend\":true,\"x\":[2.0],\"xaxis\":\"x\",\"y\":[54000.0],\"yaxis\":\"y\",\"type\":\"scatter\"},{\"hovertemplate\":\"state=New Hampshire<br>average stem_percent=%{x}<br>average early_career_pay=%{y}<extra></extra>\",\"legendgroup\":\"New Hampshire\",\"marker\":{\"color\":\"#FF97FF\",\"symbol\":\"circle\"},\"mode\":\"markers\",\"name\":\"New Hampshire\",\"orientation\":\"v\",\"showlegend\":true,\"x\":[16.181818181818183],\"xaxis\":\"x\",\"y\":[50545.454545454544],\"yaxis\":\"y\",\"type\":\"scatter\"},{\"hovertemplate\":\"state=New Jersey<br>average stem_percent=%{x}<br>average early_career_pay=%{y}<extra></extra>\",\"legendgroup\":\"New Jersey\",\"marker\":{\"color\":\"#FECB52\",\"symbol\":\"circle\"},\"mode\":\"markers\",\"name\":\"New Jersey\",\"orientation\":\"v\",\"showlegend\":true,\"x\":[20.263157894736842],\"xaxis\":\"x\",\"y\":[54847.36842105263],\"yaxis\":\"y\",\"type\":\"scatter\"},{\"hovertemplate\":\"state=New Mexico<br>average stem_percent=%{x}<br>average early_career_pay=%{y}<extra></extra>\",\"legendgroup\":\"New Mexico\",\"marker\":{\"color\":\"#636efa\",\"symbol\":\"circle\"},\"mode\":\"markers\",\"name\":\"New Mexico\",\"orientation\":\"v\",\"showlegend\":true,\"x\":[33.0],\"xaxis\":\"x\",\"y\":[48933.333333333336],\"yaxis\":\"y\",\"type\":\"scatter\"},{\"hovertemplate\":\"state=New York<br>average stem_percent=%{x}<br>average early_career_pay=%{y}<extra></extra>\",\"legendgroup\":\"New York\",\"marker\":{\"color\":\"#EF553B\",\"symbol\":\"circle\"},\"mode\":\"markers\",\"name\":\"New York\",\"orientation\":\"v\",\"showlegend\":true,\"x\":[28.5625],\"xaxis\":\"x\",\"y\":[65881.25],\"yaxis\":\"y\",\"type\":\"scatter\"},{\"hovertemplate\":\"state=North Carolina<br>average stem_percent=%{x}<br>average early_career_pay=%{y}<extra></extra>\",\"legendgroup\":\"North Carolina\",\"marker\":{\"color\":\"#00cc96\",\"symbol\":\"circle\"},\"mode\":\"markers\",\"name\":\"North Carolina\",\"orientation\":\"v\",\"showlegend\":true,\"x\":[11.15],\"xaxis\":\"x\",\"y\":[49695.0],\"yaxis\":\"y\",\"type\":\"scatter\"},{\"hovertemplate\":\"state=North Dakota<br>average stem_percent=%{x}<br>average early_career_pay=%{y}<extra></extra>\",\"legendgroup\":\"North Dakota\",\"marker\":{\"color\":\"#ab63fa\",\"symbol\":\"circle\"},\"mode\":\"markers\",\"name\":\"North Dakota\",\"orientation\":\"v\",\"showlegend\":true,\"x\":[8.285714285714286],\"xaxis\":\"x\",\"y\":[46042.857142857145],\"yaxis\":\"y\",\"type\":\"scatter\"},{\"hovertemplate\":\"state=Ohio<br>average stem_percent=%{x}<br>average early_career_pay=%{y}<extra></extra>\",\"legendgroup\":\"Ohio\",\"marker\":{\"color\":\"#FFA15A\",\"symbol\":\"circle\"},\"mode\":\"markers\",\"name\":\"Ohio\",\"orientation\":\"v\",\"showlegend\":true,\"x\":[21.533333333333335],\"xaxis\":\"x\",\"y\":[53613.333333333336],\"yaxis\":\"y\",\"type\":\"scatter\"},{\"hovertemplate\":\"state=Oklahoma<br>average stem_percent=%{x}<br>average early_career_pay=%{y}<extra></extra>\",\"legendgroup\":\"Oklahoma\",\"marker\":{\"color\":\"#19d3f3\",\"symbol\":\"circle\"},\"mode\":\"markers\",\"name\":\"Oklahoma\",\"orientation\":\"v\",\"showlegend\":true,\"x\":[11.421052631578947],\"xaxis\":\"x\",\"y\":[45105.26315789474],\"yaxis\":\"y\",\"type\":\"scatter\"},{\"hovertemplate\":\"state=Oregon<br>average stem_percent=%{x}<br>average early_career_pay=%{y}<extra></extra>\",\"legendgroup\":\"Oregon\",\"marker\":{\"color\":\"#FF6692\",\"symbol\":\"circle\"},\"mode\":\"markers\",\"name\":\"Oregon\",\"orientation\":\"v\",\"showlegend\":true,\"x\":[12.11111111111111],\"xaxis\":\"x\",\"y\":[50694.444444444445],\"yaxis\":\"y\",\"type\":\"scatter\"},{\"hovertemplate\":\"state=Pennsylvania<br>average stem_percent=%{x}<br>average early_career_pay=%{y}<extra></extra>\",\"legendgroup\":\"Pennsylvania\",\"marker\":{\"color\":\"#B6E880\",\"symbol\":\"circle\"},\"mode\":\"markers\",\"name\":\"Pennsylvania\",\"orientation\":\"v\",\"showlegend\":true,\"x\":[28.63157894736842],\"xaxis\":\"x\",\"y\":[61436.84210526316],\"yaxis\":\"y\",\"type\":\"scatter\"},{\"hovertemplate\":\"state=Rhode Island<br>average stem_percent=%{x}<br>average early_career_pay=%{y}<extra></extra>\",\"legendgroup\":\"Rhode Island\",\"marker\":{\"color\":\"#FF97FF\",\"symbol\":\"circle\"},\"mode\":\"markers\",\"name\":\"Rhode Island\",\"orientation\":\"v\",\"showlegend\":true,\"x\":[13.0],\"xaxis\":\"x\",\"y\":[55822.22222222222],\"yaxis\":\"y\",\"type\":\"scatter\"},{\"hovertemplate\":\"state=South Carolina<br>average stem_percent=%{x}<br>average early_career_pay=%{y}<extra></extra>\",\"legendgroup\":\"South Carolina\",\"marker\":{\"color\":\"#FECB52\",\"symbol\":\"circle\"},\"mode\":\"markers\",\"name\":\"South Carolina\",\"orientation\":\"v\",\"showlegend\":true,\"x\":[14.777777777777779],\"xaxis\":\"x\",\"y\":[44716.666666666664],\"yaxis\":\"y\",\"type\":\"scatter\"},{\"hovertemplate\":\"state=South Dakota<br>average stem_percent=%{x}<br>average early_career_pay=%{y}<extra></extra>\",\"legendgroup\":\"South Dakota\",\"marker\":{\"color\":\"#636efa\",\"symbol\":\"circle\"},\"mode\":\"markers\",\"name\":\"South Dakota\",\"orientation\":\"v\",\"showlegend\":true,\"x\":[22.8],\"xaxis\":\"x\",\"y\":[47110.0],\"yaxis\":\"y\",\"type\":\"scatter\"},{\"hovertemplate\":\"state=Tennessee<br>average stem_percent=%{x}<br>average early_career_pay=%{y}<extra></extra>\",\"legendgroup\":\"Tennessee\",\"marker\":{\"color\":\"#EF553B\",\"symbol\":\"circle\"},\"mode\":\"markers\",\"name\":\"Tennessee\",\"orientation\":\"v\",\"showlegend\":true,\"x\":[12.75],\"xaxis\":\"x\",\"y\":[47370.0],\"yaxis\":\"y\",\"type\":\"scatter\"},{\"hovertemplate\":\"state=Texas<br>average stem_percent=%{x}<br>average early_career_pay=%{y}<extra></extra>\",\"legendgroup\":\"Texas\",\"marker\":{\"color\":\"#00cc96\",\"symbol\":\"circle\"},\"mode\":\"markers\",\"name\":\"Texas\",\"orientation\":\"v\",\"showlegend\":true,\"x\":[20.055555555555557],\"xaxis\":\"x\",\"y\":[56500.0],\"yaxis\":\"y\",\"type\":\"scatter\"},{\"hovertemplate\":\"state=Utah<br>average stem_percent=%{x}<br>average early_career_pay=%{y}<extra></extra>\",\"legendgroup\":\"Utah\",\"marker\":{\"color\":\"#ab63fa\",\"symbol\":\"circle\"},\"mode\":\"markers\",\"name\":\"Utah\",\"orientation\":\"v\",\"showlegend\":true,\"x\":[12.0],\"xaxis\":\"x\",\"y\":[52183.333333333336],\"yaxis\":\"y\",\"type\":\"scatter\"},{\"hovertemplate\":\"state=Vermont<br>average stem_percent=%{x}<br>average early_career_pay=%{y}<extra></extra>\",\"legendgroup\":\"Vermont\",\"marker\":{\"color\":\"#FFA15A\",\"symbol\":\"circle\"},\"mode\":\"markers\",\"name\":\"Vermont\",\"orientation\":\"v\",\"showlegend\":true,\"x\":[12.272727272727273],\"xaxis\":\"x\",\"y\":[49445.454545454544],\"yaxis\":\"y\",\"type\":\"scatter\"},{\"hovertemplate\":\"state=Virginia<br>average stem_percent=%{x}<br>average early_career_pay=%{y}<extra></extra>\",\"legendgroup\":\"Virginia\",\"marker\":{\"color\":\"#19d3f3\",\"symbol\":\"circle\"},\"mode\":\"markers\",\"name\":\"Virginia\",\"orientation\":\"v\",\"showlegend\":true,\"x\":[17.727272727272727],\"xaxis\":\"x\",\"y\":[53718.181818181816],\"yaxis\":\"y\",\"type\":\"scatter\"},{\"hovertemplate\":\"state=Washington<br>average stem_percent=%{x}<br>average early_career_pay=%{y}<extra></extra>\",\"legendgroup\":\"Washington\",\"marker\":{\"color\":\"#FF6692\",\"symbol\":\"circle\"},\"mode\":\"markers\",\"name\":\"Washington\",\"orientation\":\"v\",\"showlegend\":true,\"x\":[16.625],\"xaxis\":\"x\",\"y\":[53450.0],\"yaxis\":\"y\",\"type\":\"scatter\"},{\"hovertemplate\":\"state=West Virginia<br>average stem_percent=%{x}<br>average early_career_pay=%{y}<extra></extra>\",\"legendgroup\":\"West Virginia\",\"marker\":{\"color\":\"#B6E880\",\"symbol\":\"circle\"},\"mode\":\"markers\",\"name\":\"West Virginia\",\"orientation\":\"v\",\"showlegend\":true,\"x\":[10.4],\"xaxis\":\"x\",\"y\":[44333.333333333336],\"yaxis\":\"y\",\"type\":\"scatter\"},{\"hovertemplate\":\"state=Wisconsin<br>average stem_percent=%{x}<br>average early_career_pay=%{y}<extra></extra>\",\"legendgroup\":\"Wisconsin\",\"marker\":{\"color\":\"#FF97FF\",\"symbol\":\"circle\"},\"mode\":\"markers\",\"name\":\"Wisconsin\",\"orientation\":\"v\",\"showlegend\":true,\"x\":[18.363636363636363],\"xaxis\":\"x\",\"y\":[50681.818181818184],\"yaxis\":\"y\",\"type\":\"scatter\"},{\"hovertemplate\":\"state=Wyoming<br>average stem_percent=%{x}<br>average early_career_pay=%{y}<extra></extra>\",\"legendgroup\":\"Wyoming\",\"marker\":{\"color\":\"#FECB52\",\"symbol\":\"circle\"},\"mode\":\"markers\",\"name\":\"Wyoming\",\"orientation\":\"v\",\"showlegend\":true,\"x\":[25.0],\"xaxis\":\"x\",\"y\":[52400.0],\"yaxis\":\"y\",\"type\":\"scatter\"},{\"hovertemplate\":\"<b>OLS trendline</b><br>average early_career_pay = 478.507 * average stem_percent + 43091.8<br>R<sup>2</sup>=0.347354<br><br>average stem_percent=%{x}<br>average early_career_pay=%{y} <b>(trend)</b><extra></extra>\",\"legendgroup\":\"Overall Trendline\",\"line\":{\"color\":\"#636efa\"},\"mode\":\"lines\",\"name\":\"Overall Trendline\",\"showlegend\":true,\"x\":[2.0,8.285714285714286,8.727272727272727,9.764705882352942,10.4,10.708333333333334,11.15,11.421052631578947,11.666666666666666,12.0,12.0,12.11111111111111,12.272727272727273,12.333333333333334,12.4,12.6,12.75,13.0,13.375,14.047619047619047,14.071428571428571,14.266666666666667,14.38888888888889,14.636363636363637,14.642857142857142,14.777777777777779,15.705882352941176,15.88888888888889,16.181818181818183,16.333333333333332,16.625,16.666666666666668,17.294117647058822,17.727272727272727,18.363636363636363,20.055555555555557,20.263157894736842,20.63157894736842,20.692307692307693,21.533333333333335,21.772727272727273,22.8,22.944444444444443,25.0,28.38095238095238,28.5625,28.63157894736842,30.615384615384617,32.25,33.0],\"y\":[44048.785584220146,47056.541490488235,47267.83012853186,47764.24876255132,48068.24120441477,48215.780746029064,48427.12117050358,48556.82164947603,48674.34959158698,48833.85179873756,48833.85179873756,48887.01920112108,48964.35360458803,48993.35400588814,49025.25444731826,49120.955771608606,49192.73176482636,49312.358420189295,49491.798403233704,49813.65107123398,49825.04408603045,49918.4668073615,49976.95094998338,50095.36925529215,50098.47644114573,50163.03685832573,50607.14104294107,50694.710882160995,50834.87948844484,50907.380491695105,51046.94492295186,51066.882698845686,51367.122147599715,51574.38972159753,51878.893935248634,52688.48847154325,52787.82756547036,52964.1194786368,52993.178585202695,53395.61492324415,53510.166508379574,54001.72331041636,54070.84093351495,55054.43787761019,56672.24597870893,56759.11771653202,56792.17245025072,57741.436598069966,58523.61088313531,58882.490849224116],\"type\":\"scatter\",\"xaxis\":\"x\",\"yaxis\":\"y\"}],                        {\"template\":{\"data\":{\"bar\":[{\"error_x\":{\"color\":\"#2a3f5f\"},\"error_y\":{\"color\":\"#2a3f5f\"},\"marker\":{\"line\":{\"color\":\"#E5ECF6\",\"width\":0.5},\"pattern\":{\"fillmode\":\"overlay\",\"size\":10,\"solidity\":0.2}},\"type\":\"bar\"}],\"barpolar\":[{\"marker\":{\"line\":{\"color\":\"#E5ECF6\",\"width\":0.5},\"pattern\":{\"fillmode\":\"overlay\",\"size\":10,\"solidity\":0.2}},\"type\":\"barpolar\"}],\"carpet\":[{\"aaxis\":{\"endlinecolor\":\"#2a3f5f\",\"gridcolor\":\"white\",\"linecolor\":\"white\",\"minorgridcolor\":\"white\",\"startlinecolor\":\"#2a3f5f\"},\"baxis\":{\"endlinecolor\":\"#2a3f5f\",\"gridcolor\":\"white\",\"linecolor\":\"white\",\"minorgridcolor\":\"white\",\"startlinecolor\":\"#2a3f5f\"},\"type\":\"carpet\"}],\"choropleth\":[{\"colorbar\":{\"outlinewidth\":0,\"ticks\":\"\"},\"type\":\"choropleth\"}],\"contour\":[{\"colorbar\":{\"outlinewidth\":0,\"ticks\":\"\"},\"colorscale\":[[0.0,\"#0d0887\"],[0.1111111111111111,\"#46039f\"],[0.2222222222222222,\"#7201a8\"],[0.3333333333333333,\"#9c179e\"],[0.4444444444444444,\"#bd3786\"],[0.5555555555555556,\"#d8576b\"],[0.6666666666666666,\"#ed7953\"],[0.7777777777777778,\"#fb9f3a\"],[0.8888888888888888,\"#fdca26\"],[1.0,\"#f0f921\"]],\"type\":\"contour\"}],\"contourcarpet\":[{\"colorbar\":{\"outlinewidth\":0,\"ticks\":\"\"},\"type\":\"contourcarpet\"}],\"heatmap\":[{\"colorbar\":{\"outlinewidth\":0,\"ticks\":\"\"},\"colorscale\":[[0.0,\"#0d0887\"],[0.1111111111111111,\"#46039f\"],[0.2222222222222222,\"#7201a8\"],[0.3333333333333333,\"#9c179e\"],[0.4444444444444444,\"#bd3786\"],[0.5555555555555556,\"#d8576b\"],[0.6666666666666666,\"#ed7953\"],[0.7777777777777778,\"#fb9f3a\"],[0.8888888888888888,\"#fdca26\"],[1.0,\"#f0f921\"]],\"type\":\"heatmap\"}],\"heatmapgl\":[{\"colorbar\":{\"outlinewidth\":0,\"ticks\":\"\"},\"colorscale\":[[0.0,\"#0d0887\"],[0.1111111111111111,\"#46039f\"],[0.2222222222222222,\"#7201a8\"],[0.3333333333333333,\"#9c179e\"],[0.4444444444444444,\"#bd3786\"],[0.5555555555555556,\"#d8576b\"],[0.6666666666666666,\"#ed7953\"],[0.7777777777777778,\"#fb9f3a\"],[0.8888888888888888,\"#fdca26\"],[1.0,\"#f0f921\"]],\"type\":\"heatmapgl\"}],\"histogram\":[{\"marker\":{\"pattern\":{\"fillmode\":\"overlay\",\"size\":10,\"solidity\":0.2}},\"type\":\"histogram\"}],\"histogram2d\":[{\"colorbar\":{\"outlinewidth\":0,\"ticks\":\"\"},\"colorscale\":[[0.0,\"#0d0887\"],[0.1111111111111111,\"#46039f\"],[0.2222222222222222,\"#7201a8\"],[0.3333333333333333,\"#9c179e\"],[0.4444444444444444,\"#bd3786\"],[0.5555555555555556,\"#d8576b\"],[0.6666666666666666,\"#ed7953\"],[0.7777777777777778,\"#fb9f3a\"],[0.8888888888888888,\"#fdca26\"],[1.0,\"#f0f921\"]],\"type\":\"histogram2d\"}],\"histogram2dcontour\":[{\"colorbar\":{\"outlinewidth\":0,\"ticks\":\"\"},\"colorscale\":[[0.0,\"#0d0887\"],[0.1111111111111111,\"#46039f\"],[0.2222222222222222,\"#7201a8\"],[0.3333333333333333,\"#9c179e\"],[0.4444444444444444,\"#bd3786\"],[0.5555555555555556,\"#d8576b\"],[0.6666666666666666,\"#ed7953\"],[0.7777777777777778,\"#fb9f3a\"],[0.8888888888888888,\"#fdca26\"],[1.0,\"#f0f921\"]],\"type\":\"histogram2dcontour\"}],\"mesh3d\":[{\"colorbar\":{\"outlinewidth\":0,\"ticks\":\"\"},\"type\":\"mesh3d\"}],\"parcoords\":[{\"line\":{\"colorbar\":{\"outlinewidth\":0,\"ticks\":\"\"}},\"type\":\"parcoords\"}],\"pie\":[{\"automargin\":true,\"type\":\"pie\"}],\"scatter\":[{\"marker\":{\"colorbar\":{\"outlinewidth\":0,\"ticks\":\"\"}},\"type\":\"scatter\"}],\"scatter3d\":[{\"line\":{\"colorbar\":{\"outlinewidth\":0,\"ticks\":\"\"}},\"marker\":{\"colorbar\":{\"outlinewidth\":0,\"ticks\":\"\"}},\"type\":\"scatter3d\"}],\"scattercarpet\":[{\"marker\":{\"colorbar\":{\"outlinewidth\":0,\"ticks\":\"\"}},\"type\":\"scattercarpet\"}],\"scattergeo\":[{\"marker\":{\"colorbar\":{\"outlinewidth\":0,\"ticks\":\"\"}},\"type\":\"scattergeo\"}],\"scattergl\":[{\"marker\":{\"colorbar\":{\"outlinewidth\":0,\"ticks\":\"\"}},\"type\":\"scattergl\"}],\"scattermapbox\":[{\"marker\":{\"colorbar\":{\"outlinewidth\":0,\"ticks\":\"\"}},\"type\":\"scattermapbox\"}],\"scatterpolar\":[{\"marker\":{\"colorbar\":{\"outlinewidth\":0,\"ticks\":\"\"}},\"type\":\"scatterpolar\"}],\"scatterpolargl\":[{\"marker\":{\"colorbar\":{\"outlinewidth\":0,\"ticks\":\"\"}},\"type\":\"scatterpolargl\"}],\"scatterternary\":[{\"marker\":{\"colorbar\":{\"outlinewidth\":0,\"ticks\":\"\"}},\"type\":\"scatterternary\"}],\"surface\":[{\"colorbar\":{\"outlinewidth\":0,\"ticks\":\"\"},\"colorscale\":[[0.0,\"#0d0887\"],[0.1111111111111111,\"#46039f\"],[0.2222222222222222,\"#7201a8\"],[0.3333333333333333,\"#9c179e\"],[0.4444444444444444,\"#bd3786\"],[0.5555555555555556,\"#d8576b\"],[0.6666666666666666,\"#ed7953\"],[0.7777777777777778,\"#fb9f3a\"],[0.8888888888888888,\"#fdca26\"],[1.0,\"#f0f921\"]],\"type\":\"surface\"}],\"table\":[{\"cells\":{\"fill\":{\"color\":\"#EBF0F8\"},\"line\":{\"color\":\"white\"}},\"header\":{\"fill\":{\"color\":\"#C8D4E3\"},\"line\":{\"color\":\"white\"}},\"type\":\"table\"}]},\"layout\":{\"annotationdefaults\":{\"arrowcolor\":\"#2a3f5f\",\"arrowhead\":0,\"arrowwidth\":1},\"autotypenumbers\":\"strict\",\"coloraxis\":{\"colorbar\":{\"outlinewidth\":0,\"ticks\":\"\"}},\"colorscale\":{\"diverging\":[[0,\"#8e0152\"],[0.1,\"#c51b7d\"],[0.2,\"#de77ae\"],[0.3,\"#f1b6da\"],[0.4,\"#fde0ef\"],[0.5,\"#f7f7f7\"],[0.6,\"#e6f5d0\"],[0.7,\"#b8e186\"],[0.8,\"#7fbc41\"],[0.9,\"#4d9221\"],[1,\"#276419\"]],\"sequential\":[[0.0,\"#0d0887\"],[0.1111111111111111,\"#46039f\"],[0.2222222222222222,\"#7201a8\"],[0.3333333333333333,\"#9c179e\"],[0.4444444444444444,\"#bd3786\"],[0.5555555555555556,\"#d8576b\"],[0.6666666666666666,\"#ed7953\"],[0.7777777777777778,\"#fb9f3a\"],[0.8888888888888888,\"#fdca26\"],[1.0,\"#f0f921\"]],\"sequentialminus\":[[0.0,\"#0d0887\"],[0.1111111111111111,\"#46039f\"],[0.2222222222222222,\"#7201a8\"],[0.3333333333333333,\"#9c179e\"],[0.4444444444444444,\"#bd3786\"],[0.5555555555555556,\"#d8576b\"],[0.6666666666666666,\"#ed7953\"],[0.7777777777777778,\"#fb9f3a\"],[0.8888888888888888,\"#fdca26\"],[1.0,\"#f0f921\"]]},\"colorway\":[\"#636efa\",\"#EF553B\",\"#00cc96\",\"#ab63fa\",\"#FFA15A\",\"#19d3f3\",\"#FF6692\",\"#B6E880\",\"#FF97FF\",\"#FECB52\"],\"font\":{\"color\":\"#2a3f5f\"},\"geo\":{\"bgcolor\":\"white\",\"lakecolor\":\"white\",\"landcolor\":\"#E5ECF6\",\"showlakes\":true,\"showland\":true,\"subunitcolor\":\"white\"},\"hoverlabel\":{\"align\":\"left\"},\"hovermode\":\"closest\",\"mapbox\":{\"style\":\"light\"},\"paper_bgcolor\":\"white\",\"plot_bgcolor\":\"#E5ECF6\",\"polar\":{\"angularaxis\":{\"gridcolor\":\"white\",\"linecolor\":\"white\",\"ticks\":\"\"},\"bgcolor\":\"#E5ECF6\",\"radialaxis\":{\"gridcolor\":\"white\",\"linecolor\":\"white\",\"ticks\":\"\"}},\"scene\":{\"xaxis\":{\"backgroundcolor\":\"#E5ECF6\",\"gridcolor\":\"white\",\"gridwidth\":2,\"linecolor\":\"white\",\"showbackground\":true,\"ticks\":\"\",\"zerolinecolor\":\"white\"},\"yaxis\":{\"backgroundcolor\":\"#E5ECF6\",\"gridcolor\":\"white\",\"gridwidth\":2,\"linecolor\":\"white\",\"showbackground\":true,\"ticks\":\"\",\"zerolinecolor\":\"white\"},\"zaxis\":{\"backgroundcolor\":\"#E5ECF6\",\"gridcolor\":\"white\",\"gridwidth\":2,\"linecolor\":\"white\",\"showbackground\":true,\"ticks\":\"\",\"zerolinecolor\":\"white\"}},\"shapedefaults\":{\"line\":{\"color\":\"#2a3f5f\"}},\"ternary\":{\"aaxis\":{\"gridcolor\":\"white\",\"linecolor\":\"white\",\"ticks\":\"\"},\"baxis\":{\"gridcolor\":\"white\",\"linecolor\":\"white\",\"ticks\":\"\"},\"bgcolor\":\"#E5ECF6\",\"caxis\":{\"gridcolor\":\"white\",\"linecolor\":\"white\",\"ticks\":\"\"}},\"title\":{\"x\":0.05},\"xaxis\":{\"automargin\":true,\"gridcolor\":\"white\",\"linecolor\":\"white\",\"ticks\":\"\",\"title\":{\"standoff\":15},\"zerolinecolor\":\"white\",\"zerolinewidth\":2},\"yaxis\":{\"automargin\":true,\"gridcolor\":\"white\",\"linecolor\":\"white\",\"ticks\":\"\",\"title\":{\"standoff\":15},\"zerolinecolor\":\"white\",\"zerolinewidth\":2}}},\"xaxis\":{\"anchor\":\"y\",\"domain\":[0.0,1.0],\"title\":{\"text\":\"average stem_percent\"}},\"yaxis\":{\"anchor\":\"x\",\"domain\":[0.0,1.0],\"title\":{\"text\":\"average early_career_pay\"}},\"legend\":{\"title\":{\"text\":\"state\"},\"tracegroupgap\":0},\"title\":{\"text\":\"Average In State Tuition vs Average % of Students Graduating with STEM Degrees\"}},                        {\"responsive\": true}                    ).then(function(){\n",
       "                            \n",
       "var gd = document.getElementById('cf250939-581c-4579-bc9e-bbd126521b1c');\n",
       "var x = new MutationObserver(function (mutations, observer) {{\n",
       "        var display = window.getComputedStyle(gd).display;\n",
       "        if (!display || display === 'none') {{\n",
       "            console.log([gd, 'removed!']);\n",
       "            Plotly.purge(gd);\n",
       "            observer.disconnect();\n",
       "        }}\n",
       "}});\n",
       "\n",
       "// Listen for the removal of the full notebook cells\n",
       "var notebookContainer = gd.closest('#notebook-container');\n",
       "if (notebookContainer) {{\n",
       "    x.observe(notebookContainer, {childList: true});\n",
       "}}\n",
       "\n",
       "// Listen for the clearing of the current output cell\n",
       "var outputEl = gd.closest('.output');\n",
       "if (outputEl) {{\n",
       "    x.observe(outputEl, {childList: true});\n",
       "}}\n",
       "\n",
       "                        })                };                });            </script>        </div>"
      ]
     },
     "execution_count": 32,
     "metadata": {
     },
     "output_type": "execute_result"
    }
   ],
   "source": [
    "fig = px.scatter(state_stats_extras, x='average stem_percent', y='average early_career_pay',color='state',\n",
    "                 trendline=\"ols\", trendline_scope = 'overall',\n",
    "                 title= 'Average In State Tuition vs Average % of Students Graduating with STEM Degrees')\n",
    "\n",
    "fig.show()"
   ]
  },
  {
   "cell_type": "code",
   "execution_count": 33,
   "metadata": {
    "collapsed": false
   },
   "outputs": [
    {
     "data": {
      "application/vnd.plotly.v1+json": {
       "config": {
        "plotlyServerURL": "https://plot.ly"
       },
       "data": [
        {
         "coloraxis": "coloraxis",
         "geo": "geo",
         "hovertemplate": "state_code=%{location}<br>four year average in state tuition=%{z}<extra></extra>",
         "locationmode": "USA-states",
         "locations": [
          "AL",
          "AK",
          "AZ",
          "AR",
          "CA",
          "CO",
          "CT",
          "DE",
          "FL",
          "GA",
          "HI",
          "ID",
          "IL",
          "IN",
          "IA",
          "KS",
          "KY",
          "LA",
          "ME",
          "MD",
          "MA",
          "MI",
          "MN",
          "MS",
          "MO",
          "MT",
          "NE",
          "NV",
          "NH",
          "NJ",
          "NM",
          "NY",
          "NC",
          "ND",
          "OH",
          "OK",
          "OR",
          "PA",
          "RI",
          "SC",
          "SD",
          "TN",
          "TX",
          "UT",
          "VT",
          "VA",
          "WA",
          "WV",
          "WI",
          "WY"
         ],
         "name": "",
         "type": "choropleth",
         "z": [
          64536.95238095238,
          48806.666666666664,
          74048,
          68785.42857142857,
          190626.15384615384,
          83676.61538461539,
          135868.44444444444,
          66771.2,
          96486.22222222222,
          84775.63636363637,
          61283.2,
          42009.333333333336,
          136982.31578947368,
          143818.44444444444,
          127574.47619047618,
          84346.35294117648,
          92465.5,
          61872,
          98022,
          126087.5294117647,
          188594.85714285713,
          99996.54545454546,
          133345.33333333334,
          51116,
          86910.35294117648,
          78830,
          78756.72727272728,
          136964,
          120004.36363636363,
          104793.26315789473,
          27658.666666666668,
          178446,
          110695.2,
          44292.57142857143,
          147707.46666666667,
          62780.42105263158,
          107244.44444444444,
          191462.52631578947,
          146248,
          87783.33333333333,
          63994,
          98784.8,
          106221.55555555556,
          27761.333333333332,
          129271.27272727272,
          100446.36363636363,
          123986,
          53202.666666666664,
          95868.54545454546,
          21600
         ]
        }
       ],
       "layout": {
        "coloraxis": {
         "colorbar": {
          "title": {
           "text": "four year average in state tuition"
          }
         },
         "colorscale": [
          [
           0,
           "#0d0887"
          ],
          [
           0.1111111111111111,
           "#46039f"
          ],
          [
           0.2222222222222222,
           "#7201a8"
          ],
          [
           0.3333333333333333,
           "#9c179e"
          ],
          [
           0.4444444444444444,
           "#bd3786"
          ],
          [
           0.5555555555555556,
           "#d8576b"
          ],
          [
           0.6666666666666666,
           "#ed7953"
          ],
          [
           0.7777777777777778,
           "#fb9f3a"
          ],
          [
           0.8888888888888888,
           "#fdca26"
          ],
          [
           1,
           "#f0f921"
          ]
         ]
        },
        "geo": {
         "center": {
         },
         "domain": {
          "x": [
           0,
           1
          ],
          "y": [
           0,
           1
          ]
         },
         "scope": "usa"
        },
        "legend": {
         "tracegroupgap": 0
        },
        "margin": {
         "t": 60
        },
        "template": {
         "data": {
          "bar": [
           {
            "error_x": {
             "color": "#2a3f5f"
            },
            "error_y": {
             "color": "#2a3f5f"
            },
            "marker": {
             "line": {
              "color": "#E5ECF6",
              "width": 0.5
             },
             "pattern": {
              "fillmode": "overlay",
              "size": 10,
              "solidity": 0.2
             }
            },
            "type": "bar"
           }
          ],
          "barpolar": [
           {
            "marker": {
             "line": {
              "color": "#E5ECF6",
              "width": 0.5
             },
             "pattern": {
              "fillmode": "overlay",
              "size": 10,
              "solidity": 0.2
             }
            },
            "type": "barpolar"
           }
          ],
          "carpet": [
           {
            "aaxis": {
             "endlinecolor": "#2a3f5f",
             "gridcolor": "white",
             "linecolor": "white",
             "minorgridcolor": "white",
             "startlinecolor": "#2a3f5f"
            },
            "baxis": {
             "endlinecolor": "#2a3f5f",
             "gridcolor": "white",
             "linecolor": "white",
             "minorgridcolor": "white",
             "startlinecolor": "#2a3f5f"
            },
            "type": "carpet"
           }
          ],
          "choropleth": [
           {
            "colorbar": {
             "outlinewidth": 0,
             "ticks": ""
            },
            "type": "choropleth"
           }
          ],
          "contour": [
           {
            "colorbar": {
             "outlinewidth": 0,
             "ticks": ""
            },
            "colorscale": [
             [
              0,
              "#0d0887"
             ],
             [
              0.1111111111111111,
              "#46039f"
             ],
             [
              0.2222222222222222,
              "#7201a8"
             ],
             [
              0.3333333333333333,
              "#9c179e"
             ],
             [
              0.4444444444444444,
              "#bd3786"
             ],
             [
              0.5555555555555556,
              "#d8576b"
             ],
             [
              0.6666666666666666,
              "#ed7953"
             ],
             [
              0.7777777777777778,
              "#fb9f3a"
             ],
             [
              0.8888888888888888,
              "#fdca26"
             ],
             [
              1,
              "#f0f921"
             ]
            ],
            "type": "contour"
           }
          ],
          "contourcarpet": [
           {
            "colorbar": {
             "outlinewidth": 0,
             "ticks": ""
            },
            "type": "contourcarpet"
           }
          ],
          "heatmap": [
           {
            "colorbar": {
             "outlinewidth": 0,
             "ticks": ""
            },
            "colorscale": [
             [
              0,
              "#0d0887"
             ],
             [
              0.1111111111111111,
              "#46039f"
             ],
             [
              0.2222222222222222,
              "#7201a8"
             ],
             [
              0.3333333333333333,
              "#9c179e"
             ],
             [
              0.4444444444444444,
              "#bd3786"
             ],
             [
              0.5555555555555556,
              "#d8576b"
             ],
             [
              0.6666666666666666,
              "#ed7953"
             ],
             [
              0.7777777777777778,
              "#fb9f3a"
             ],
             [
              0.8888888888888888,
              "#fdca26"
             ],
             [
              1,
              "#f0f921"
             ]
            ],
            "type": "heatmap"
           }
          ],
          "heatmapgl": [
           {
            "colorbar": {
             "outlinewidth": 0,
             "ticks": ""
            },
            "colorscale": [
             [
              0,
              "#0d0887"
             ],
             [
              0.1111111111111111,
              "#46039f"
             ],
             [
              0.2222222222222222,
              "#7201a8"
             ],
             [
              0.3333333333333333,
              "#9c179e"
             ],
             [
              0.4444444444444444,
              "#bd3786"
             ],
             [
              0.5555555555555556,
              "#d8576b"
             ],
             [
              0.6666666666666666,
              "#ed7953"
             ],
             [
              0.7777777777777778,
              "#fb9f3a"
             ],
             [
              0.8888888888888888,
              "#fdca26"
             ],
             [
              1,
              "#f0f921"
             ]
            ],
            "type": "heatmapgl"
           }
          ],
          "histogram": [
           {
            "marker": {
             "pattern": {
              "fillmode": "overlay",
              "size": 10,
              "solidity": 0.2
             }
            },
            "type": "histogram"
           }
          ],
          "histogram2d": [
           {
            "colorbar": {
             "outlinewidth": 0,
             "ticks": ""
            },
            "colorscale": [
             [
              0,
              "#0d0887"
             ],
             [
              0.1111111111111111,
              "#46039f"
             ],
             [
              0.2222222222222222,
              "#7201a8"
             ],
             [
              0.3333333333333333,
              "#9c179e"
             ],
             [
              0.4444444444444444,
              "#bd3786"
             ],
             [
              0.5555555555555556,
              "#d8576b"
             ],
             [
              0.6666666666666666,
              "#ed7953"
             ],
             [
              0.7777777777777778,
              "#fb9f3a"
             ],
             [
              0.8888888888888888,
              "#fdca26"
             ],
             [
              1,
              "#f0f921"
             ]
            ],
            "type": "histogram2d"
           }
          ],
          "histogram2dcontour": [
           {
            "colorbar": {
             "outlinewidth": 0,
             "ticks": ""
            },
            "colorscale": [
             [
              0,
              "#0d0887"
             ],
             [
              0.1111111111111111,
              "#46039f"
             ],
             [
              0.2222222222222222,
              "#7201a8"
             ],
             [
              0.3333333333333333,
              "#9c179e"
             ],
             [
              0.4444444444444444,
              "#bd3786"
             ],
             [
              0.5555555555555556,
              "#d8576b"
             ],
             [
              0.6666666666666666,
              "#ed7953"
             ],
             [
              0.7777777777777778,
              "#fb9f3a"
             ],
             [
              0.8888888888888888,
              "#fdca26"
             ],
             [
              1,
              "#f0f921"
             ]
            ],
            "type": "histogram2dcontour"
           }
          ],
          "mesh3d": [
           {
            "colorbar": {
             "outlinewidth": 0,
             "ticks": ""
            },
            "type": "mesh3d"
           }
          ],
          "parcoords": [
           {
            "line": {
             "colorbar": {
              "outlinewidth": 0,
              "ticks": ""
             }
            },
            "type": "parcoords"
           }
          ],
          "pie": [
           {
            "automargin": true,
            "type": "pie"
           }
          ],
          "scatter": [
           {
            "marker": {
             "colorbar": {
              "outlinewidth": 0,
              "ticks": ""
             }
            },
            "type": "scatter"
           }
          ],
          "scatter3d": [
           {
            "line": {
             "colorbar": {
              "outlinewidth": 0,
              "ticks": ""
             }
            },
            "marker": {
             "colorbar": {
              "outlinewidth": 0,
              "ticks": ""
             }
            },
            "type": "scatter3d"
           }
          ],
          "scattercarpet": [
           {
            "marker": {
             "colorbar": {
              "outlinewidth": 0,
              "ticks": ""
             }
            },
            "type": "scattercarpet"
           }
          ],
          "scattergeo": [
           {
            "marker": {
             "colorbar": {
              "outlinewidth": 0,
              "ticks": ""
             }
            },
            "type": "scattergeo"
           }
          ],
          "scattergl": [
           {
            "marker": {
             "colorbar": {
              "outlinewidth": 0,
              "ticks": ""
             }
            },
            "type": "scattergl"
           }
          ],
          "scattermapbox": [
           {
            "marker": {
             "colorbar": {
              "outlinewidth": 0,
              "ticks": ""
             }
            },
            "type": "scattermapbox"
           }
          ],
          "scatterpolar": [
           {
            "marker": {
             "colorbar": {
              "outlinewidth": 0,
              "ticks": ""
             }
            },
            "type": "scatterpolar"
           }
          ],
          "scatterpolargl": [
           {
            "marker": {
             "colorbar": {
              "outlinewidth": 0,
              "ticks": ""
             }
            },
            "type": "scatterpolargl"
           }
          ],
          "scatterternary": [
           {
            "marker": {
             "colorbar": {
              "outlinewidth": 0,
              "ticks": ""
             }
            },
            "type": "scatterternary"
           }
          ],
          "surface": [
           {
            "colorbar": {
             "outlinewidth": 0,
             "ticks": ""
            },
            "colorscale": [
             [
              0,
              "#0d0887"
             ],
             [
              0.1111111111111111,
              "#46039f"
             ],
             [
              0.2222222222222222,
              "#7201a8"
             ],
             [
              0.3333333333333333,
              "#9c179e"
             ],
             [
              0.4444444444444444,
              "#bd3786"
             ],
             [
              0.5555555555555556,
              "#d8576b"
             ],
             [
              0.6666666666666666,
              "#ed7953"
             ],
             [
              0.7777777777777778,
              "#fb9f3a"
             ],
             [
              0.8888888888888888,
              "#fdca26"
             ],
             [
              1,
              "#f0f921"
             ]
            ],
            "type": "surface"
           }
          ],
          "table": [
           {
            "cells": {
             "fill": {
              "color": "#EBF0F8"
             },
             "line": {
              "color": "white"
             }
            },
            "header": {
             "fill": {
              "color": "#C8D4E3"
             },
             "line": {
              "color": "white"
             }
            },
            "type": "table"
           }
          ]
         },
         "layout": {
          "annotationdefaults": {
           "arrowcolor": "#2a3f5f",
           "arrowhead": 0,
           "arrowwidth": 1
          },
          "autotypenumbers": "strict",
          "coloraxis": {
           "colorbar": {
            "outlinewidth": 0,
            "ticks": ""
           }
          },
          "colorscale": {
           "diverging": [
            [
             0,
             "#8e0152"
            ],
            [
             0.1,
             "#c51b7d"
            ],
            [
             0.2,
             "#de77ae"
            ],
            [
             0.3,
             "#f1b6da"
            ],
            [
             0.4,
             "#fde0ef"
            ],
            [
             0.5,
             "#f7f7f7"
            ],
            [
             0.6,
             "#e6f5d0"
            ],
            [
             0.7,
             "#b8e186"
            ],
            [
             0.8,
             "#7fbc41"
            ],
            [
             0.9,
             "#4d9221"
            ],
            [
             1,
             "#276419"
            ]
           ],
           "sequential": [
            [
             0,
             "#0d0887"
            ],
            [
             0.1111111111111111,
             "#46039f"
            ],
            [
             0.2222222222222222,
             "#7201a8"
            ],
            [
             0.3333333333333333,
             "#9c179e"
            ],
            [
             0.4444444444444444,
             "#bd3786"
            ],
            [
             0.5555555555555556,
             "#d8576b"
            ],
            [
             0.6666666666666666,
             "#ed7953"
            ],
            [
             0.7777777777777778,
             "#fb9f3a"
            ],
            [
             0.8888888888888888,
             "#fdca26"
            ],
            [
             1,
             "#f0f921"
            ]
           ],
           "sequentialminus": [
            [
             0,
             "#0d0887"
            ],
            [
             0.1111111111111111,
             "#46039f"
            ],
            [
             0.2222222222222222,
             "#7201a8"
            ],
            [
             0.3333333333333333,
             "#9c179e"
            ],
            [
             0.4444444444444444,
             "#bd3786"
            ],
            [
             0.5555555555555556,
             "#d8576b"
            ],
            [
             0.6666666666666666,
             "#ed7953"
            ],
            [
             0.7777777777777778,
             "#fb9f3a"
            ],
            [
             0.8888888888888888,
             "#fdca26"
            ],
            [
             1,
             "#f0f921"
            ]
           ]
          },
          "colorway": [
           "#636efa",
           "#EF553B",
           "#00cc96",
           "#ab63fa",
           "#FFA15A",
           "#19d3f3",
           "#FF6692",
           "#B6E880",
           "#FF97FF",
           "#FECB52"
          ],
          "font": {
           "color": "#2a3f5f"
          },
          "geo": {
           "bgcolor": "white",
           "lakecolor": "white",
           "landcolor": "#E5ECF6",
           "showlakes": true,
           "showland": true,
           "subunitcolor": "white"
          },
          "hoverlabel": {
           "align": "left"
          },
          "hovermode": "closest",
          "mapbox": {
           "style": "light"
          },
          "paper_bgcolor": "white",
          "plot_bgcolor": "#E5ECF6",
          "polar": {
           "angularaxis": {
            "gridcolor": "white",
            "linecolor": "white",
            "ticks": ""
           },
           "bgcolor": "#E5ECF6",
           "radialaxis": {
            "gridcolor": "white",
            "linecolor": "white",
            "ticks": ""
           }
          },
          "scene": {
           "xaxis": {
            "backgroundcolor": "#E5ECF6",
            "gridcolor": "white",
            "gridwidth": 2,
            "linecolor": "white",
            "showbackground": true,
            "ticks": "",
            "zerolinecolor": "white"
           },
           "yaxis": {
            "backgroundcolor": "#E5ECF6",
            "gridcolor": "white",
            "gridwidth": 2,
            "linecolor": "white",
            "showbackground": true,
            "ticks": "",
            "zerolinecolor": "white"
           },
           "zaxis": {
            "backgroundcolor": "#E5ECF6",
            "gridcolor": "white",
            "gridwidth": 2,
            "linecolor": "white",
            "showbackground": true,
            "ticks": "",
            "zerolinecolor": "white"
           }
          },
          "shapedefaults": {
           "line": {
            "color": "#2a3f5f"
           }
          },
          "ternary": {
           "aaxis": {
            "gridcolor": "white",
            "linecolor": "white",
            "ticks": ""
           },
           "baxis": {
            "gridcolor": "white",
            "linecolor": "white",
            "ticks": ""
           },
           "bgcolor": "#E5ECF6",
           "caxis": {
            "gridcolor": "white",
            "linecolor": "white",
            "ticks": ""
           }
          },
          "title": {
           "x": 0.05
          },
          "xaxis": {
           "automargin": true,
           "gridcolor": "white",
           "linecolor": "white",
           "ticks": "",
           "title": {
            "standoff": 15
           },
           "zerolinecolor": "white",
           "zerolinewidth": 2
          },
          "yaxis": {
           "automargin": true,
           "gridcolor": "white",
           "linecolor": "white",
           "ticks": "",
           "title": {
            "standoff": 15
           },
           "zerolinecolor": "white",
           "zerolinewidth": 2
          }
         }
        }
       }
      },
      "text/html": [
       "<div>                            <div id=\"002a9196-2732-4069-891f-895fd04f939e\" class=\"plotly-graph-div\" style=\"height:525px; width:100%;\"></div>            <script type=\"text/javascript\">                require([\"plotly\"], function(Plotly) {                    window.PLOTLYENV=window.PLOTLYENV || {};                                    if (document.getElementById(\"002a9196-2732-4069-891f-895fd04f939e\")) {                    Plotly.newPlot(                        \"002a9196-2732-4069-891f-895fd04f939e\",                        [{\"coloraxis\":\"coloraxis\",\"geo\":\"geo\",\"hovertemplate\":\"state_code=%{location}<br>four year average in state tuition=%{z}<extra></extra>\",\"locationmode\":\"USA-states\",\"locations\":[\"AL\",\"AK\",\"AZ\",\"AR\",\"CA\",\"CO\",\"CT\",\"DE\",\"FL\",\"GA\",\"HI\",\"ID\",\"IL\",\"IN\",\"IA\",\"KS\",\"KY\",\"LA\",\"ME\",\"MD\",\"MA\",\"MI\",\"MN\",\"MS\",\"MO\",\"MT\",\"NE\",\"NV\",\"NH\",\"NJ\",\"NM\",\"NY\",\"NC\",\"ND\",\"OH\",\"OK\",\"OR\",\"PA\",\"RI\",\"SC\",\"SD\",\"TN\",\"TX\",\"UT\",\"VT\",\"VA\",\"WA\",\"WV\",\"WI\",\"WY\"],\"name\":\"\",\"z\":[64536.95238095238,48806.666666666664,74048.0,68785.42857142857,190626.15384615384,83676.61538461539,135868.44444444444,66771.2,96486.22222222222,84775.63636363637,61283.2,42009.333333333336,136982.31578947368,143818.44444444444,127574.47619047618,84346.35294117648,92465.5,61872.0,98022.0,126087.5294117647,188594.85714285713,99996.54545454546,133345.33333333334,51116.0,86910.35294117648,78830.0,78756.72727272728,136964.0,120004.36363636363,104793.26315789473,27658.666666666668,178446.0,110695.2,44292.57142857143,147707.46666666667,62780.42105263158,107244.44444444444,191462.52631578947,146248.0,87783.33333333333,63994.0,98784.8,106221.55555555556,27761.333333333332,129271.27272727272,100446.36363636363,123986.0,53202.666666666664,95868.54545454546,21600.0],\"type\":\"choropleth\"}],                        {\"template\":{\"data\":{\"bar\":[{\"error_x\":{\"color\":\"#2a3f5f\"},\"error_y\":{\"color\":\"#2a3f5f\"},\"marker\":{\"line\":{\"color\":\"#E5ECF6\",\"width\":0.5},\"pattern\":{\"fillmode\":\"overlay\",\"size\":10,\"solidity\":0.2}},\"type\":\"bar\"}],\"barpolar\":[{\"marker\":{\"line\":{\"color\":\"#E5ECF6\",\"width\":0.5},\"pattern\":{\"fillmode\":\"overlay\",\"size\":10,\"solidity\":0.2}},\"type\":\"barpolar\"}],\"carpet\":[{\"aaxis\":{\"endlinecolor\":\"#2a3f5f\",\"gridcolor\":\"white\",\"linecolor\":\"white\",\"minorgridcolor\":\"white\",\"startlinecolor\":\"#2a3f5f\"},\"baxis\":{\"endlinecolor\":\"#2a3f5f\",\"gridcolor\":\"white\",\"linecolor\":\"white\",\"minorgridcolor\":\"white\",\"startlinecolor\":\"#2a3f5f\"},\"type\":\"carpet\"}],\"choropleth\":[{\"colorbar\":{\"outlinewidth\":0,\"ticks\":\"\"},\"type\":\"choropleth\"}],\"contour\":[{\"colorbar\":{\"outlinewidth\":0,\"ticks\":\"\"},\"colorscale\":[[0.0,\"#0d0887\"],[0.1111111111111111,\"#46039f\"],[0.2222222222222222,\"#7201a8\"],[0.3333333333333333,\"#9c179e\"],[0.4444444444444444,\"#bd3786\"],[0.5555555555555556,\"#d8576b\"],[0.6666666666666666,\"#ed7953\"],[0.7777777777777778,\"#fb9f3a\"],[0.8888888888888888,\"#fdca26\"],[1.0,\"#f0f921\"]],\"type\":\"contour\"}],\"contourcarpet\":[{\"colorbar\":{\"outlinewidth\":0,\"ticks\":\"\"},\"type\":\"contourcarpet\"}],\"heatmap\":[{\"colorbar\":{\"outlinewidth\":0,\"ticks\":\"\"},\"colorscale\":[[0.0,\"#0d0887\"],[0.1111111111111111,\"#46039f\"],[0.2222222222222222,\"#7201a8\"],[0.3333333333333333,\"#9c179e\"],[0.4444444444444444,\"#bd3786\"],[0.5555555555555556,\"#d8576b\"],[0.6666666666666666,\"#ed7953\"],[0.7777777777777778,\"#fb9f3a\"],[0.8888888888888888,\"#fdca26\"],[1.0,\"#f0f921\"]],\"type\":\"heatmap\"}],\"heatmapgl\":[{\"colorbar\":{\"outlinewidth\":0,\"ticks\":\"\"},\"colorscale\":[[0.0,\"#0d0887\"],[0.1111111111111111,\"#46039f\"],[0.2222222222222222,\"#7201a8\"],[0.3333333333333333,\"#9c179e\"],[0.4444444444444444,\"#bd3786\"],[0.5555555555555556,\"#d8576b\"],[0.6666666666666666,\"#ed7953\"],[0.7777777777777778,\"#fb9f3a\"],[0.8888888888888888,\"#fdca26\"],[1.0,\"#f0f921\"]],\"type\":\"heatmapgl\"}],\"histogram\":[{\"marker\":{\"pattern\":{\"fillmode\":\"overlay\",\"size\":10,\"solidity\":0.2}},\"type\":\"histogram\"}],\"histogram2d\":[{\"colorbar\":{\"outlinewidth\":0,\"ticks\":\"\"},\"colorscale\":[[0.0,\"#0d0887\"],[0.1111111111111111,\"#46039f\"],[0.2222222222222222,\"#7201a8\"],[0.3333333333333333,\"#9c179e\"],[0.4444444444444444,\"#bd3786\"],[0.5555555555555556,\"#d8576b\"],[0.6666666666666666,\"#ed7953\"],[0.7777777777777778,\"#fb9f3a\"],[0.8888888888888888,\"#fdca26\"],[1.0,\"#f0f921\"]],\"type\":\"histogram2d\"}],\"histogram2dcontour\":[{\"colorbar\":{\"outlinewidth\":0,\"ticks\":\"\"},\"colorscale\":[[0.0,\"#0d0887\"],[0.1111111111111111,\"#46039f\"],[0.2222222222222222,\"#7201a8\"],[0.3333333333333333,\"#9c179e\"],[0.4444444444444444,\"#bd3786\"],[0.5555555555555556,\"#d8576b\"],[0.6666666666666666,\"#ed7953\"],[0.7777777777777778,\"#fb9f3a\"],[0.8888888888888888,\"#fdca26\"],[1.0,\"#f0f921\"]],\"type\":\"histogram2dcontour\"}],\"mesh3d\":[{\"colorbar\":{\"outlinewidth\":0,\"ticks\":\"\"},\"type\":\"mesh3d\"}],\"parcoords\":[{\"line\":{\"colorbar\":{\"outlinewidth\":0,\"ticks\":\"\"}},\"type\":\"parcoords\"}],\"pie\":[{\"automargin\":true,\"type\":\"pie\"}],\"scatter\":[{\"marker\":{\"colorbar\":{\"outlinewidth\":0,\"ticks\":\"\"}},\"type\":\"scatter\"}],\"scatter3d\":[{\"line\":{\"colorbar\":{\"outlinewidth\":0,\"ticks\":\"\"}},\"marker\":{\"colorbar\":{\"outlinewidth\":0,\"ticks\":\"\"}},\"type\":\"scatter3d\"}],\"scattercarpet\":[{\"marker\":{\"colorbar\":{\"outlinewidth\":0,\"ticks\":\"\"}},\"type\":\"scattercarpet\"}],\"scattergeo\":[{\"marker\":{\"colorbar\":{\"outlinewidth\":0,\"ticks\":\"\"}},\"type\":\"scattergeo\"}],\"scattergl\":[{\"marker\":{\"colorbar\":{\"outlinewidth\":0,\"ticks\":\"\"}},\"type\":\"scattergl\"}],\"scattermapbox\":[{\"marker\":{\"colorbar\":{\"outlinewidth\":0,\"ticks\":\"\"}},\"type\":\"scattermapbox\"}],\"scatterpolar\":[{\"marker\":{\"colorbar\":{\"outlinewidth\":0,\"ticks\":\"\"}},\"type\":\"scatterpolar\"}],\"scatterpolargl\":[{\"marker\":{\"colorbar\":{\"outlinewidth\":0,\"ticks\":\"\"}},\"type\":\"scatterpolargl\"}],\"scatterternary\":[{\"marker\":{\"colorbar\":{\"outlinewidth\":0,\"ticks\":\"\"}},\"type\":\"scatterternary\"}],\"surface\":[{\"colorbar\":{\"outlinewidth\":0,\"ticks\":\"\"},\"colorscale\":[[0.0,\"#0d0887\"],[0.1111111111111111,\"#46039f\"],[0.2222222222222222,\"#7201a8\"],[0.3333333333333333,\"#9c179e\"],[0.4444444444444444,\"#bd3786\"],[0.5555555555555556,\"#d8576b\"],[0.6666666666666666,\"#ed7953\"],[0.7777777777777778,\"#fb9f3a\"],[0.8888888888888888,\"#fdca26\"],[1.0,\"#f0f921\"]],\"type\":\"surface\"}],\"table\":[{\"cells\":{\"fill\":{\"color\":\"#EBF0F8\"},\"line\":{\"color\":\"white\"}},\"header\":{\"fill\":{\"color\":\"#C8D4E3\"},\"line\":{\"color\":\"white\"}},\"type\":\"table\"}]},\"layout\":{\"annotationdefaults\":{\"arrowcolor\":\"#2a3f5f\",\"arrowhead\":0,\"arrowwidth\":1},\"autotypenumbers\":\"strict\",\"coloraxis\":{\"colorbar\":{\"outlinewidth\":0,\"ticks\":\"\"}},\"colorscale\":{\"diverging\":[[0,\"#8e0152\"],[0.1,\"#c51b7d\"],[0.2,\"#de77ae\"],[0.3,\"#f1b6da\"],[0.4,\"#fde0ef\"],[0.5,\"#f7f7f7\"],[0.6,\"#e6f5d0\"],[0.7,\"#b8e186\"],[0.8,\"#7fbc41\"],[0.9,\"#4d9221\"],[1,\"#276419\"]],\"sequential\":[[0.0,\"#0d0887\"],[0.1111111111111111,\"#46039f\"],[0.2222222222222222,\"#7201a8\"],[0.3333333333333333,\"#9c179e\"],[0.4444444444444444,\"#bd3786\"],[0.5555555555555556,\"#d8576b\"],[0.6666666666666666,\"#ed7953\"],[0.7777777777777778,\"#fb9f3a\"],[0.8888888888888888,\"#fdca26\"],[1.0,\"#f0f921\"]],\"sequentialminus\":[[0.0,\"#0d0887\"],[0.1111111111111111,\"#46039f\"],[0.2222222222222222,\"#7201a8\"],[0.3333333333333333,\"#9c179e\"],[0.4444444444444444,\"#bd3786\"],[0.5555555555555556,\"#d8576b\"],[0.6666666666666666,\"#ed7953\"],[0.7777777777777778,\"#fb9f3a\"],[0.8888888888888888,\"#fdca26\"],[1.0,\"#f0f921\"]]},\"colorway\":[\"#636efa\",\"#EF553B\",\"#00cc96\",\"#ab63fa\",\"#FFA15A\",\"#19d3f3\",\"#FF6692\",\"#B6E880\",\"#FF97FF\",\"#FECB52\"],\"font\":{\"color\":\"#2a3f5f\"},\"geo\":{\"bgcolor\":\"white\",\"lakecolor\":\"white\",\"landcolor\":\"#E5ECF6\",\"showlakes\":true,\"showland\":true,\"subunitcolor\":\"white\"},\"hoverlabel\":{\"align\":\"left\"},\"hovermode\":\"closest\",\"mapbox\":{\"style\":\"light\"},\"paper_bgcolor\":\"white\",\"plot_bgcolor\":\"#E5ECF6\",\"polar\":{\"angularaxis\":{\"gridcolor\":\"white\",\"linecolor\":\"white\",\"ticks\":\"\"},\"bgcolor\":\"#E5ECF6\",\"radialaxis\":{\"gridcolor\":\"white\",\"linecolor\":\"white\",\"ticks\":\"\"}},\"scene\":{\"xaxis\":{\"backgroundcolor\":\"#E5ECF6\",\"gridcolor\":\"white\",\"gridwidth\":2,\"linecolor\":\"white\",\"showbackground\":true,\"ticks\":\"\",\"zerolinecolor\":\"white\"},\"yaxis\":{\"backgroundcolor\":\"#E5ECF6\",\"gridcolor\":\"white\",\"gridwidth\":2,\"linecolor\":\"white\",\"showbackground\":true,\"ticks\":\"\",\"zerolinecolor\":\"white\"},\"zaxis\":{\"backgroundcolor\":\"#E5ECF6\",\"gridcolor\":\"white\",\"gridwidth\":2,\"linecolor\":\"white\",\"showbackground\":true,\"ticks\":\"\",\"zerolinecolor\":\"white\"}},\"shapedefaults\":{\"line\":{\"color\":\"#2a3f5f\"}},\"ternary\":{\"aaxis\":{\"gridcolor\":\"white\",\"linecolor\":\"white\",\"ticks\":\"\"},\"baxis\":{\"gridcolor\":\"white\",\"linecolor\":\"white\",\"ticks\":\"\"},\"bgcolor\":\"#E5ECF6\",\"caxis\":{\"gridcolor\":\"white\",\"linecolor\":\"white\",\"ticks\":\"\"}},\"title\":{\"x\":0.05},\"xaxis\":{\"automargin\":true,\"gridcolor\":\"white\",\"linecolor\":\"white\",\"ticks\":\"\",\"title\":{\"standoff\":15},\"zerolinecolor\":\"white\",\"zerolinewidth\":2},\"yaxis\":{\"automargin\":true,\"gridcolor\":\"white\",\"linecolor\":\"white\",\"ticks\":\"\",\"title\":{\"standoff\":15},\"zerolinecolor\":\"white\",\"zerolinewidth\":2}}},\"geo\":{\"domain\":{\"x\":[0.0,1.0],\"y\":[0.0,1.0]},\"center\":{},\"scope\":\"usa\"},\"coloraxis\":{\"colorbar\":{\"title\":{\"text\":\"four year average in state tuition\"}},\"colorscale\":[[0.0,\"#0d0887\"],[0.1111111111111111,\"#46039f\"],[0.2222222222222222,\"#7201a8\"],[0.3333333333333333,\"#9c179e\"],[0.4444444444444444,\"#bd3786\"],[0.5555555555555556,\"#d8576b\"],[0.6666666666666666,\"#ed7953\"],[0.7777777777777778,\"#fb9f3a\"],[0.8888888888888888,\"#fdca26\"],[1.0,\"#f0f921\"]]},\"legend\":{\"tracegroupgap\":0},\"margin\":{\"t\":60}},                        {\"responsive\": true}                    ).then(function(){\n",
       "                            \n",
       "var gd = document.getElementById('002a9196-2732-4069-891f-895fd04f939e');\n",
       "var x = new MutationObserver(function (mutations, observer) {{\n",
       "        var display = window.getComputedStyle(gd).display;\n",
       "        if (!display || display === 'none') {{\n",
       "            console.log([gd, 'removed!']);\n",
       "            Plotly.purge(gd);\n",
       "            observer.disconnect();\n",
       "        }}\n",
       "}});\n",
       "\n",
       "// Listen for the removal of the full notebook cells\n",
       "var notebookContainer = gd.closest('#notebook-container');\n",
       "if (notebookContainer) {{\n",
       "    x.observe(notebookContainer, {childList: true});\n",
       "}}\n",
       "\n",
       "// Listen for the clearing of the current output cell\n",
       "var outputEl = gd.closest('.output');\n",
       "if (outputEl) {{\n",
       "    x.observe(outputEl, {childList: true});\n",
       "}}\n",
       "\n",
       "                        })                };                });            </script>        </div>"
      ]
     },
     "execution_count": 33,
     "metadata": {
     },
     "output_type": "execute_result"
    }
   ],
   "source": [
    "fig = px.choropleth(state_stats_extras, locations='state_code', locationmode=\"USA-states\", color=\"four year average in state tuition\", scope=\"usa\")\n",
    "fig.show()"
   ]
  },
  {
   "cell_type": "code",
   "execution_count": 34,
   "metadata": {
    "collapsed": false
   },
   "outputs": [
    {
     "data": {
      "application/vnd.plotly.v1+json": {
       "config": {
        "plotlyServerURL": "https://plot.ly"
       },
       "data": [
        {
         "coloraxis": "coloraxis",
         "geo": "geo",
         "hovertemplate": "state_code=%{location}<br>average early_career_pay=%{z}<extra></extra>",
         "locationmode": "USA-states",
         "locations": [
          "AL",
          "AK",
          "AZ",
          "AR",
          "CA",
          "CO",
          "CT",
          "DE",
          "FL",
          "GA",
          "HI",
          "ID",
          "IL",
          "IN",
          "IA",
          "KS",
          "KY",
          "LA",
          "ME",
          "MD",
          "MA",
          "MI",
          "MN",
          "MS",
          "MO",
          "MT",
          "NE",
          "NV",
          "NH",
          "NJ",
          "NM",
          "NY",
          "NC",
          "ND",
          "OH",
          "OK",
          "OR",
          "PA",
          "RI",
          "SC",
          "SD",
          "TN",
          "TX",
          "UT",
          "VT",
          "VA",
          "WA",
          "WV",
          "WI",
          "WY"
         ],
         "name": "",
         "type": "choropleth",
         "z": [
          44714.28571428572,
          55133.333333333336,
          48966.666666666664,
          45607.142857142855,
          67800,
          52238.46153846154,
          55016.666666666664,
          49040,
          50250,
          48527.27272727273,
          48980,
          49666.666666666664,
          55763.15789473684,
          52938.88888888889,
          48314.28571428572,
          46482.35294117647,
          43754.166666666664,
          46920,
          48181.25,
          53041.17647058824,
          63519.04761904762,
          51695.454545454544,
          51233.333333333336,
          42042.857142857145,
          48023.529411764706,
          52275,
          46790.90909090909,
          54000,
          50545.454545454544,
          54847.36842105263,
          48933.333333333336,
          65881.25,
          49695,
          46042.857142857145,
          53613.333333333336,
          45105.26315789474,
          50694.444444444445,
          61436.84210526316,
          55822.22222222222,
          44716.666666666664,
          47110,
          47370,
          56500,
          52183.333333333336,
          49445.454545454544,
          53718.181818181816,
          53450,
          44333.333333333336,
          50681.818181818184,
          52400
         ]
        }
       ],
       "layout": {
        "coloraxis": {
         "colorbar": {
          "title": {
           "text": "average early_career_pay"
          }
         },
         "colorscale": [
          [
           0,
           "#0d0887"
          ],
          [
           0.1111111111111111,
           "#46039f"
          ],
          [
           0.2222222222222222,
           "#7201a8"
          ],
          [
           0.3333333333333333,
           "#9c179e"
          ],
          [
           0.4444444444444444,
           "#bd3786"
          ],
          [
           0.5555555555555556,
           "#d8576b"
          ],
          [
           0.6666666666666666,
           "#ed7953"
          ],
          [
           0.7777777777777778,
           "#fb9f3a"
          ],
          [
           0.8888888888888888,
           "#fdca26"
          ],
          [
           1,
           "#f0f921"
          ]
         ]
        },
        "geo": {
         "center": {
         },
         "domain": {
          "x": [
           0,
           1
          ],
          "y": [
           0,
           1
          ]
         },
         "scope": "usa"
        },
        "legend": {
         "tracegroupgap": 0
        },
        "margin": {
         "t": 60
        },
        "template": {
         "data": {
          "bar": [
           {
            "error_x": {
             "color": "#2a3f5f"
            },
            "error_y": {
             "color": "#2a3f5f"
            },
            "marker": {
             "line": {
              "color": "#E5ECF6",
              "width": 0.5
             },
             "pattern": {
              "fillmode": "overlay",
              "size": 10,
              "solidity": 0.2
             }
            },
            "type": "bar"
           }
          ],
          "barpolar": [
           {
            "marker": {
             "line": {
              "color": "#E5ECF6",
              "width": 0.5
             },
             "pattern": {
              "fillmode": "overlay",
              "size": 10,
              "solidity": 0.2
             }
            },
            "type": "barpolar"
           }
          ],
          "carpet": [
           {
            "aaxis": {
             "endlinecolor": "#2a3f5f",
             "gridcolor": "white",
             "linecolor": "white",
             "minorgridcolor": "white",
             "startlinecolor": "#2a3f5f"
            },
            "baxis": {
             "endlinecolor": "#2a3f5f",
             "gridcolor": "white",
             "linecolor": "white",
             "minorgridcolor": "white",
             "startlinecolor": "#2a3f5f"
            },
            "type": "carpet"
           }
          ],
          "choropleth": [
           {
            "colorbar": {
             "outlinewidth": 0,
             "ticks": ""
            },
            "type": "choropleth"
           }
          ],
          "contour": [
           {
            "colorbar": {
             "outlinewidth": 0,
             "ticks": ""
            },
            "colorscale": [
             [
              0,
              "#0d0887"
             ],
             [
              0.1111111111111111,
              "#46039f"
             ],
             [
              0.2222222222222222,
              "#7201a8"
             ],
             [
              0.3333333333333333,
              "#9c179e"
             ],
             [
              0.4444444444444444,
              "#bd3786"
             ],
             [
              0.5555555555555556,
              "#d8576b"
             ],
             [
              0.6666666666666666,
              "#ed7953"
             ],
             [
              0.7777777777777778,
              "#fb9f3a"
             ],
             [
              0.8888888888888888,
              "#fdca26"
             ],
             [
              1,
              "#f0f921"
             ]
            ],
            "type": "contour"
           }
          ],
          "contourcarpet": [
           {
            "colorbar": {
             "outlinewidth": 0,
             "ticks": ""
            },
            "type": "contourcarpet"
           }
          ],
          "heatmap": [
           {
            "colorbar": {
             "outlinewidth": 0,
             "ticks": ""
            },
            "colorscale": [
             [
              0,
              "#0d0887"
             ],
             [
              0.1111111111111111,
              "#46039f"
             ],
             [
              0.2222222222222222,
              "#7201a8"
             ],
             [
              0.3333333333333333,
              "#9c179e"
             ],
             [
              0.4444444444444444,
              "#bd3786"
             ],
             [
              0.5555555555555556,
              "#d8576b"
             ],
             [
              0.6666666666666666,
              "#ed7953"
             ],
             [
              0.7777777777777778,
              "#fb9f3a"
             ],
             [
              0.8888888888888888,
              "#fdca26"
             ],
             [
              1,
              "#f0f921"
             ]
            ],
            "type": "heatmap"
           }
          ],
          "heatmapgl": [
           {
            "colorbar": {
             "outlinewidth": 0,
             "ticks": ""
            },
            "colorscale": [
             [
              0,
              "#0d0887"
             ],
             [
              0.1111111111111111,
              "#46039f"
             ],
             [
              0.2222222222222222,
              "#7201a8"
             ],
             [
              0.3333333333333333,
              "#9c179e"
             ],
             [
              0.4444444444444444,
              "#bd3786"
             ],
             [
              0.5555555555555556,
              "#d8576b"
             ],
             [
              0.6666666666666666,
              "#ed7953"
             ],
             [
              0.7777777777777778,
              "#fb9f3a"
             ],
             [
              0.8888888888888888,
              "#fdca26"
             ],
             [
              1,
              "#f0f921"
             ]
            ],
            "type": "heatmapgl"
           }
          ],
          "histogram": [
           {
            "marker": {
             "pattern": {
              "fillmode": "overlay",
              "size": 10,
              "solidity": 0.2
             }
            },
            "type": "histogram"
           }
          ],
          "histogram2d": [
           {
            "colorbar": {
             "outlinewidth": 0,
             "ticks": ""
            },
            "colorscale": [
             [
              0,
              "#0d0887"
             ],
             [
              0.1111111111111111,
              "#46039f"
             ],
             [
              0.2222222222222222,
              "#7201a8"
             ],
             [
              0.3333333333333333,
              "#9c179e"
             ],
             [
              0.4444444444444444,
              "#bd3786"
             ],
             [
              0.5555555555555556,
              "#d8576b"
             ],
             [
              0.6666666666666666,
              "#ed7953"
             ],
             [
              0.7777777777777778,
              "#fb9f3a"
             ],
             [
              0.8888888888888888,
              "#fdca26"
             ],
             [
              1,
              "#f0f921"
             ]
            ],
            "type": "histogram2d"
           }
          ],
          "histogram2dcontour": [
           {
            "colorbar": {
             "outlinewidth": 0,
             "ticks": ""
            },
            "colorscale": [
             [
              0,
              "#0d0887"
             ],
             [
              0.1111111111111111,
              "#46039f"
             ],
             [
              0.2222222222222222,
              "#7201a8"
             ],
             [
              0.3333333333333333,
              "#9c179e"
             ],
             [
              0.4444444444444444,
              "#bd3786"
             ],
             [
              0.5555555555555556,
              "#d8576b"
             ],
             [
              0.6666666666666666,
              "#ed7953"
             ],
             [
              0.7777777777777778,
              "#fb9f3a"
             ],
             [
              0.8888888888888888,
              "#fdca26"
             ],
             [
              1,
              "#f0f921"
             ]
            ],
            "type": "histogram2dcontour"
           }
          ],
          "mesh3d": [
           {
            "colorbar": {
             "outlinewidth": 0,
             "ticks": ""
            },
            "type": "mesh3d"
           }
          ],
          "parcoords": [
           {
            "line": {
             "colorbar": {
              "outlinewidth": 0,
              "ticks": ""
             }
            },
            "type": "parcoords"
           }
          ],
          "pie": [
           {
            "automargin": true,
            "type": "pie"
           }
          ],
          "scatter": [
           {
            "marker": {
             "colorbar": {
              "outlinewidth": 0,
              "ticks": ""
             }
            },
            "type": "scatter"
           }
          ],
          "scatter3d": [
           {
            "line": {
             "colorbar": {
              "outlinewidth": 0,
              "ticks": ""
             }
            },
            "marker": {
             "colorbar": {
              "outlinewidth": 0,
              "ticks": ""
             }
            },
            "type": "scatter3d"
           }
          ],
          "scattercarpet": [
           {
            "marker": {
             "colorbar": {
              "outlinewidth": 0,
              "ticks": ""
             }
            },
            "type": "scattercarpet"
           }
          ],
          "scattergeo": [
           {
            "marker": {
             "colorbar": {
              "outlinewidth": 0,
              "ticks": ""
             }
            },
            "type": "scattergeo"
           }
          ],
          "scattergl": [
           {
            "marker": {
             "colorbar": {
              "outlinewidth": 0,
              "ticks": ""
             }
            },
            "type": "scattergl"
           }
          ],
          "scattermapbox": [
           {
            "marker": {
             "colorbar": {
              "outlinewidth": 0,
              "ticks": ""
             }
            },
            "type": "scattermapbox"
           }
          ],
          "scatterpolar": [
           {
            "marker": {
             "colorbar": {
              "outlinewidth": 0,
              "ticks": ""
             }
            },
            "type": "scatterpolar"
           }
          ],
          "scatterpolargl": [
           {
            "marker": {
             "colorbar": {
              "outlinewidth": 0,
              "ticks": ""
             }
            },
            "type": "scatterpolargl"
           }
          ],
          "scatterternary": [
           {
            "marker": {
             "colorbar": {
              "outlinewidth": 0,
              "ticks": ""
             }
            },
            "type": "scatterternary"
           }
          ],
          "surface": [
           {
            "colorbar": {
             "outlinewidth": 0,
             "ticks": ""
            },
            "colorscale": [
             [
              0,
              "#0d0887"
             ],
             [
              0.1111111111111111,
              "#46039f"
             ],
             [
              0.2222222222222222,
              "#7201a8"
             ],
             [
              0.3333333333333333,
              "#9c179e"
             ],
             [
              0.4444444444444444,
              "#bd3786"
             ],
             [
              0.5555555555555556,
              "#d8576b"
             ],
             [
              0.6666666666666666,
              "#ed7953"
             ],
             [
              0.7777777777777778,
              "#fb9f3a"
             ],
             [
              0.8888888888888888,
              "#fdca26"
             ],
             [
              1,
              "#f0f921"
             ]
            ],
            "type": "surface"
           }
          ],
          "table": [
           {
            "cells": {
             "fill": {
              "color": "#EBF0F8"
             },
             "line": {
              "color": "white"
             }
            },
            "header": {
             "fill": {
              "color": "#C8D4E3"
             },
             "line": {
              "color": "white"
             }
            },
            "type": "table"
           }
          ]
         },
         "layout": {
          "annotationdefaults": {
           "arrowcolor": "#2a3f5f",
           "arrowhead": 0,
           "arrowwidth": 1
          },
          "autotypenumbers": "strict",
          "coloraxis": {
           "colorbar": {
            "outlinewidth": 0,
            "ticks": ""
           }
          },
          "colorscale": {
           "diverging": [
            [
             0,
             "#8e0152"
            ],
            [
             0.1,
             "#c51b7d"
            ],
            [
             0.2,
             "#de77ae"
            ],
            [
             0.3,
             "#f1b6da"
            ],
            [
             0.4,
             "#fde0ef"
            ],
            [
             0.5,
             "#f7f7f7"
            ],
            [
             0.6,
             "#e6f5d0"
            ],
            [
             0.7,
             "#b8e186"
            ],
            [
             0.8,
             "#7fbc41"
            ],
            [
             0.9,
             "#4d9221"
            ],
            [
             1,
             "#276419"
            ]
           ],
           "sequential": [
            [
             0,
             "#0d0887"
            ],
            [
             0.1111111111111111,
             "#46039f"
            ],
            [
             0.2222222222222222,
             "#7201a8"
            ],
            [
             0.3333333333333333,
             "#9c179e"
            ],
            [
             0.4444444444444444,
             "#bd3786"
            ],
            [
             0.5555555555555556,
             "#d8576b"
            ],
            [
             0.6666666666666666,
             "#ed7953"
            ],
            [
             0.7777777777777778,
             "#fb9f3a"
            ],
            [
             0.8888888888888888,
             "#fdca26"
            ],
            [
             1,
             "#f0f921"
            ]
           ],
           "sequentialminus": [
            [
             0,
             "#0d0887"
            ],
            [
             0.1111111111111111,
             "#46039f"
            ],
            [
             0.2222222222222222,
             "#7201a8"
            ],
            [
             0.3333333333333333,
             "#9c179e"
            ],
            [
             0.4444444444444444,
             "#bd3786"
            ],
            [
             0.5555555555555556,
             "#d8576b"
            ],
            [
             0.6666666666666666,
             "#ed7953"
            ],
            [
             0.7777777777777778,
             "#fb9f3a"
            ],
            [
             0.8888888888888888,
             "#fdca26"
            ],
            [
             1,
             "#f0f921"
            ]
           ]
          },
          "colorway": [
           "#636efa",
           "#EF553B",
           "#00cc96",
           "#ab63fa",
           "#FFA15A",
           "#19d3f3",
           "#FF6692",
           "#B6E880",
           "#FF97FF",
           "#FECB52"
          ],
          "font": {
           "color": "#2a3f5f"
          },
          "geo": {
           "bgcolor": "white",
           "lakecolor": "white",
           "landcolor": "#E5ECF6",
           "showlakes": true,
           "showland": true,
           "subunitcolor": "white"
          },
          "hoverlabel": {
           "align": "left"
          },
          "hovermode": "closest",
          "mapbox": {
           "style": "light"
          },
          "paper_bgcolor": "white",
          "plot_bgcolor": "#E5ECF6",
          "polar": {
           "angularaxis": {
            "gridcolor": "white",
            "linecolor": "white",
            "ticks": ""
           },
           "bgcolor": "#E5ECF6",
           "radialaxis": {
            "gridcolor": "white",
            "linecolor": "white",
            "ticks": ""
           }
          },
          "scene": {
           "xaxis": {
            "backgroundcolor": "#E5ECF6",
            "gridcolor": "white",
            "gridwidth": 2,
            "linecolor": "white",
            "showbackground": true,
            "ticks": "",
            "zerolinecolor": "white"
           },
           "yaxis": {
            "backgroundcolor": "#E5ECF6",
            "gridcolor": "white",
            "gridwidth": 2,
            "linecolor": "white",
            "showbackground": true,
            "ticks": "",
            "zerolinecolor": "white"
           },
           "zaxis": {
            "backgroundcolor": "#E5ECF6",
            "gridcolor": "white",
            "gridwidth": 2,
            "linecolor": "white",
            "showbackground": true,
            "ticks": "",
            "zerolinecolor": "white"
           }
          },
          "shapedefaults": {
           "line": {
            "color": "#2a3f5f"
           }
          },
          "ternary": {
           "aaxis": {
            "gridcolor": "white",
            "linecolor": "white",
            "ticks": ""
           },
           "baxis": {
            "gridcolor": "white",
            "linecolor": "white",
            "ticks": ""
           },
           "bgcolor": "#E5ECF6",
           "caxis": {
            "gridcolor": "white",
            "linecolor": "white",
            "ticks": ""
           }
          },
          "title": {
           "x": 0.05
          },
          "xaxis": {
           "automargin": true,
           "gridcolor": "white",
           "linecolor": "white",
           "ticks": "",
           "title": {
            "standoff": 15
           },
           "zerolinecolor": "white",
           "zerolinewidth": 2
          },
          "yaxis": {
           "automargin": true,
           "gridcolor": "white",
           "linecolor": "white",
           "ticks": "",
           "title": {
            "standoff": 15
           },
           "zerolinecolor": "white",
           "zerolinewidth": 2
          }
         }
        }
       }
      },
      "text/html": [
       "<div>                            <div id=\"0eff3a40-5ada-42b1-98e6-36fa75813f24\" class=\"plotly-graph-div\" style=\"height:525px; width:100%;\"></div>            <script type=\"text/javascript\">                require([\"plotly\"], function(Plotly) {                    window.PLOTLYENV=window.PLOTLYENV || {};                                    if (document.getElementById(\"0eff3a40-5ada-42b1-98e6-36fa75813f24\")) {                    Plotly.newPlot(                        \"0eff3a40-5ada-42b1-98e6-36fa75813f24\",                        [{\"coloraxis\":\"coloraxis\",\"geo\":\"geo\",\"hovertemplate\":\"state_code=%{location}<br>average early_career_pay=%{z}<extra></extra>\",\"locationmode\":\"USA-states\",\"locations\":[\"AL\",\"AK\",\"AZ\",\"AR\",\"CA\",\"CO\",\"CT\",\"DE\",\"FL\",\"GA\",\"HI\",\"ID\",\"IL\",\"IN\",\"IA\",\"KS\",\"KY\",\"LA\",\"ME\",\"MD\",\"MA\",\"MI\",\"MN\",\"MS\",\"MO\",\"MT\",\"NE\",\"NV\",\"NH\",\"NJ\",\"NM\",\"NY\",\"NC\",\"ND\",\"OH\",\"OK\",\"OR\",\"PA\",\"RI\",\"SC\",\"SD\",\"TN\",\"TX\",\"UT\",\"VT\",\"VA\",\"WA\",\"WV\",\"WI\",\"WY\"],\"name\":\"\",\"z\":[44714.28571428572,55133.333333333336,48966.666666666664,45607.142857142855,67800.0,52238.46153846154,55016.666666666664,49040.0,50250.0,48527.27272727273,48980.0,49666.666666666664,55763.15789473684,52938.88888888889,48314.28571428572,46482.35294117647,43754.166666666664,46920.0,48181.25,53041.17647058824,63519.04761904762,51695.454545454544,51233.333333333336,42042.857142857145,48023.529411764706,52275.0,46790.90909090909,54000.0,50545.454545454544,54847.36842105263,48933.333333333336,65881.25,49695.0,46042.857142857145,53613.333333333336,45105.26315789474,50694.444444444445,61436.84210526316,55822.22222222222,44716.666666666664,47110.0,47370.0,56500.0,52183.333333333336,49445.454545454544,53718.181818181816,53450.0,44333.333333333336,50681.818181818184,52400.0],\"type\":\"choropleth\"}],                        {\"template\":{\"data\":{\"bar\":[{\"error_x\":{\"color\":\"#2a3f5f\"},\"error_y\":{\"color\":\"#2a3f5f\"},\"marker\":{\"line\":{\"color\":\"#E5ECF6\",\"width\":0.5},\"pattern\":{\"fillmode\":\"overlay\",\"size\":10,\"solidity\":0.2}},\"type\":\"bar\"}],\"barpolar\":[{\"marker\":{\"line\":{\"color\":\"#E5ECF6\",\"width\":0.5},\"pattern\":{\"fillmode\":\"overlay\",\"size\":10,\"solidity\":0.2}},\"type\":\"barpolar\"}],\"carpet\":[{\"aaxis\":{\"endlinecolor\":\"#2a3f5f\",\"gridcolor\":\"white\",\"linecolor\":\"white\",\"minorgridcolor\":\"white\",\"startlinecolor\":\"#2a3f5f\"},\"baxis\":{\"endlinecolor\":\"#2a3f5f\",\"gridcolor\":\"white\",\"linecolor\":\"white\",\"minorgridcolor\":\"white\",\"startlinecolor\":\"#2a3f5f\"},\"type\":\"carpet\"}],\"choropleth\":[{\"colorbar\":{\"outlinewidth\":0,\"ticks\":\"\"},\"type\":\"choropleth\"}],\"contour\":[{\"colorbar\":{\"outlinewidth\":0,\"ticks\":\"\"},\"colorscale\":[[0.0,\"#0d0887\"],[0.1111111111111111,\"#46039f\"],[0.2222222222222222,\"#7201a8\"],[0.3333333333333333,\"#9c179e\"],[0.4444444444444444,\"#bd3786\"],[0.5555555555555556,\"#d8576b\"],[0.6666666666666666,\"#ed7953\"],[0.7777777777777778,\"#fb9f3a\"],[0.8888888888888888,\"#fdca26\"],[1.0,\"#f0f921\"]],\"type\":\"contour\"}],\"contourcarpet\":[{\"colorbar\":{\"outlinewidth\":0,\"ticks\":\"\"},\"type\":\"contourcarpet\"}],\"heatmap\":[{\"colorbar\":{\"outlinewidth\":0,\"ticks\":\"\"},\"colorscale\":[[0.0,\"#0d0887\"],[0.1111111111111111,\"#46039f\"],[0.2222222222222222,\"#7201a8\"],[0.3333333333333333,\"#9c179e\"],[0.4444444444444444,\"#bd3786\"],[0.5555555555555556,\"#d8576b\"],[0.6666666666666666,\"#ed7953\"],[0.7777777777777778,\"#fb9f3a\"],[0.8888888888888888,\"#fdca26\"],[1.0,\"#f0f921\"]],\"type\":\"heatmap\"}],\"heatmapgl\":[{\"colorbar\":{\"outlinewidth\":0,\"ticks\":\"\"},\"colorscale\":[[0.0,\"#0d0887\"],[0.1111111111111111,\"#46039f\"],[0.2222222222222222,\"#7201a8\"],[0.3333333333333333,\"#9c179e\"],[0.4444444444444444,\"#bd3786\"],[0.5555555555555556,\"#d8576b\"],[0.6666666666666666,\"#ed7953\"],[0.7777777777777778,\"#fb9f3a\"],[0.8888888888888888,\"#fdca26\"],[1.0,\"#f0f921\"]],\"type\":\"heatmapgl\"}],\"histogram\":[{\"marker\":{\"pattern\":{\"fillmode\":\"overlay\",\"size\":10,\"solidity\":0.2}},\"type\":\"histogram\"}],\"histogram2d\":[{\"colorbar\":{\"outlinewidth\":0,\"ticks\":\"\"},\"colorscale\":[[0.0,\"#0d0887\"],[0.1111111111111111,\"#46039f\"],[0.2222222222222222,\"#7201a8\"],[0.3333333333333333,\"#9c179e\"],[0.4444444444444444,\"#bd3786\"],[0.5555555555555556,\"#d8576b\"],[0.6666666666666666,\"#ed7953\"],[0.7777777777777778,\"#fb9f3a\"],[0.8888888888888888,\"#fdca26\"],[1.0,\"#f0f921\"]],\"type\":\"histogram2d\"}],\"histogram2dcontour\":[{\"colorbar\":{\"outlinewidth\":0,\"ticks\":\"\"},\"colorscale\":[[0.0,\"#0d0887\"],[0.1111111111111111,\"#46039f\"],[0.2222222222222222,\"#7201a8\"],[0.3333333333333333,\"#9c179e\"],[0.4444444444444444,\"#bd3786\"],[0.5555555555555556,\"#d8576b\"],[0.6666666666666666,\"#ed7953\"],[0.7777777777777778,\"#fb9f3a\"],[0.8888888888888888,\"#fdca26\"],[1.0,\"#f0f921\"]],\"type\":\"histogram2dcontour\"}],\"mesh3d\":[{\"colorbar\":{\"outlinewidth\":0,\"ticks\":\"\"},\"type\":\"mesh3d\"}],\"parcoords\":[{\"line\":{\"colorbar\":{\"outlinewidth\":0,\"ticks\":\"\"}},\"type\":\"parcoords\"}],\"pie\":[{\"automargin\":true,\"type\":\"pie\"}],\"scatter\":[{\"marker\":{\"colorbar\":{\"outlinewidth\":0,\"ticks\":\"\"}},\"type\":\"scatter\"}],\"scatter3d\":[{\"line\":{\"colorbar\":{\"outlinewidth\":0,\"ticks\":\"\"}},\"marker\":{\"colorbar\":{\"outlinewidth\":0,\"ticks\":\"\"}},\"type\":\"scatter3d\"}],\"scattercarpet\":[{\"marker\":{\"colorbar\":{\"outlinewidth\":0,\"ticks\":\"\"}},\"type\":\"scattercarpet\"}],\"scattergeo\":[{\"marker\":{\"colorbar\":{\"outlinewidth\":0,\"ticks\":\"\"}},\"type\":\"scattergeo\"}],\"scattergl\":[{\"marker\":{\"colorbar\":{\"outlinewidth\":0,\"ticks\":\"\"}},\"type\":\"scattergl\"}],\"scattermapbox\":[{\"marker\":{\"colorbar\":{\"outlinewidth\":0,\"ticks\":\"\"}},\"type\":\"scattermapbox\"}],\"scatterpolar\":[{\"marker\":{\"colorbar\":{\"outlinewidth\":0,\"ticks\":\"\"}},\"type\":\"scatterpolar\"}],\"scatterpolargl\":[{\"marker\":{\"colorbar\":{\"outlinewidth\":0,\"ticks\":\"\"}},\"type\":\"scatterpolargl\"}],\"scatterternary\":[{\"marker\":{\"colorbar\":{\"outlinewidth\":0,\"ticks\":\"\"}},\"type\":\"scatterternary\"}],\"surface\":[{\"colorbar\":{\"outlinewidth\":0,\"ticks\":\"\"},\"colorscale\":[[0.0,\"#0d0887\"],[0.1111111111111111,\"#46039f\"],[0.2222222222222222,\"#7201a8\"],[0.3333333333333333,\"#9c179e\"],[0.4444444444444444,\"#bd3786\"],[0.5555555555555556,\"#d8576b\"],[0.6666666666666666,\"#ed7953\"],[0.7777777777777778,\"#fb9f3a\"],[0.8888888888888888,\"#fdca26\"],[1.0,\"#f0f921\"]],\"type\":\"surface\"}],\"table\":[{\"cells\":{\"fill\":{\"color\":\"#EBF0F8\"},\"line\":{\"color\":\"white\"}},\"header\":{\"fill\":{\"color\":\"#C8D4E3\"},\"line\":{\"color\":\"white\"}},\"type\":\"table\"}]},\"layout\":{\"annotationdefaults\":{\"arrowcolor\":\"#2a3f5f\",\"arrowhead\":0,\"arrowwidth\":1},\"autotypenumbers\":\"strict\",\"coloraxis\":{\"colorbar\":{\"outlinewidth\":0,\"ticks\":\"\"}},\"colorscale\":{\"diverging\":[[0,\"#8e0152\"],[0.1,\"#c51b7d\"],[0.2,\"#de77ae\"],[0.3,\"#f1b6da\"],[0.4,\"#fde0ef\"],[0.5,\"#f7f7f7\"],[0.6,\"#e6f5d0\"],[0.7,\"#b8e186\"],[0.8,\"#7fbc41\"],[0.9,\"#4d9221\"],[1,\"#276419\"]],\"sequential\":[[0.0,\"#0d0887\"],[0.1111111111111111,\"#46039f\"],[0.2222222222222222,\"#7201a8\"],[0.3333333333333333,\"#9c179e\"],[0.4444444444444444,\"#bd3786\"],[0.5555555555555556,\"#d8576b\"],[0.6666666666666666,\"#ed7953\"],[0.7777777777777778,\"#fb9f3a\"],[0.8888888888888888,\"#fdca26\"],[1.0,\"#f0f921\"]],\"sequentialminus\":[[0.0,\"#0d0887\"],[0.1111111111111111,\"#46039f\"],[0.2222222222222222,\"#7201a8\"],[0.3333333333333333,\"#9c179e\"],[0.4444444444444444,\"#bd3786\"],[0.5555555555555556,\"#d8576b\"],[0.6666666666666666,\"#ed7953\"],[0.7777777777777778,\"#fb9f3a\"],[0.8888888888888888,\"#fdca26\"],[1.0,\"#f0f921\"]]},\"colorway\":[\"#636efa\",\"#EF553B\",\"#00cc96\",\"#ab63fa\",\"#FFA15A\",\"#19d3f3\",\"#FF6692\",\"#B6E880\",\"#FF97FF\",\"#FECB52\"],\"font\":{\"color\":\"#2a3f5f\"},\"geo\":{\"bgcolor\":\"white\",\"lakecolor\":\"white\",\"landcolor\":\"#E5ECF6\",\"showlakes\":true,\"showland\":true,\"subunitcolor\":\"white\"},\"hoverlabel\":{\"align\":\"left\"},\"hovermode\":\"closest\",\"mapbox\":{\"style\":\"light\"},\"paper_bgcolor\":\"white\",\"plot_bgcolor\":\"#E5ECF6\",\"polar\":{\"angularaxis\":{\"gridcolor\":\"white\",\"linecolor\":\"white\",\"ticks\":\"\"},\"bgcolor\":\"#E5ECF6\",\"radialaxis\":{\"gridcolor\":\"white\",\"linecolor\":\"white\",\"ticks\":\"\"}},\"scene\":{\"xaxis\":{\"backgroundcolor\":\"#E5ECF6\",\"gridcolor\":\"white\",\"gridwidth\":2,\"linecolor\":\"white\",\"showbackground\":true,\"ticks\":\"\",\"zerolinecolor\":\"white\"},\"yaxis\":{\"backgroundcolor\":\"#E5ECF6\",\"gridcolor\":\"white\",\"gridwidth\":2,\"linecolor\":\"white\",\"showbackground\":true,\"ticks\":\"\",\"zerolinecolor\":\"white\"},\"zaxis\":{\"backgroundcolor\":\"#E5ECF6\",\"gridcolor\":\"white\",\"gridwidth\":2,\"linecolor\":\"white\",\"showbackground\":true,\"ticks\":\"\",\"zerolinecolor\":\"white\"}},\"shapedefaults\":{\"line\":{\"color\":\"#2a3f5f\"}},\"ternary\":{\"aaxis\":{\"gridcolor\":\"white\",\"linecolor\":\"white\",\"ticks\":\"\"},\"baxis\":{\"gridcolor\":\"white\",\"linecolor\":\"white\",\"ticks\":\"\"},\"bgcolor\":\"#E5ECF6\",\"caxis\":{\"gridcolor\":\"white\",\"linecolor\":\"white\",\"ticks\":\"\"}},\"title\":{\"x\":0.05},\"xaxis\":{\"automargin\":true,\"gridcolor\":\"white\",\"linecolor\":\"white\",\"ticks\":\"\",\"title\":{\"standoff\":15},\"zerolinecolor\":\"white\",\"zerolinewidth\":2},\"yaxis\":{\"automargin\":true,\"gridcolor\":\"white\",\"linecolor\":\"white\",\"ticks\":\"\",\"title\":{\"standoff\":15},\"zerolinecolor\":\"white\",\"zerolinewidth\":2}}},\"geo\":{\"domain\":{\"x\":[0.0,1.0],\"y\":[0.0,1.0]},\"center\":{},\"scope\":\"usa\"},\"coloraxis\":{\"colorbar\":{\"title\":{\"text\":\"average early_career_pay\"}},\"colorscale\":[[0.0,\"#0d0887\"],[0.1111111111111111,\"#46039f\"],[0.2222222222222222,\"#7201a8\"],[0.3333333333333333,\"#9c179e\"],[0.4444444444444444,\"#bd3786\"],[0.5555555555555556,\"#d8576b\"],[0.6666666666666666,\"#ed7953\"],[0.7777777777777778,\"#fb9f3a\"],[0.8888888888888888,\"#fdca26\"],[1.0,\"#f0f921\"]]},\"legend\":{\"tracegroupgap\":0},\"margin\":{\"t\":60}},                        {\"responsive\": true}                    ).then(function(){\n",
       "                            \n",
       "var gd = document.getElementById('0eff3a40-5ada-42b1-98e6-36fa75813f24');\n",
       "var x = new MutationObserver(function (mutations, observer) {{\n",
       "        var display = window.getComputedStyle(gd).display;\n",
       "        if (!display || display === 'none') {{\n",
       "            console.log([gd, 'removed!']);\n",
       "            Plotly.purge(gd);\n",
       "            observer.disconnect();\n",
       "        }}\n",
       "}});\n",
       "\n",
       "// Listen for the removal of the full notebook cells\n",
       "var notebookContainer = gd.closest('#notebook-container');\n",
       "if (notebookContainer) {{\n",
       "    x.observe(notebookContainer, {childList: true});\n",
       "}}\n",
       "\n",
       "// Listen for the clearing of the current output cell\n",
       "var outputEl = gd.closest('.output');\n",
       "if (outputEl) {{\n",
       "    x.observe(outputEl, {childList: true});\n",
       "}}\n",
       "\n",
       "                        })                };                });            </script>        </div>"
      ]
     },
     "execution_count": 34,
     "metadata": {
     },
     "output_type": "execute_result"
    }
   ],
   "source": [
    "fig = px.choropleth(state_stats_extras, locations='state_code', locationmode=\"USA-states\", color=\"average early_career_pay\", scope=\"usa\")\n",
    "fig.show()"
   ]
  },
  {
   "cell_type": "markdown",
   "metadata": {
    "collapsed": false
   },
   "source": [
    "Add any more ideas you have here:"
   ]
  },
  {
   "cell_type": "code",
   "execution_count": 0,
   "metadata": {
    "collapsed": false
   },
   "outputs": [
   ],
   "source": [
   ]
  }
 ],
 "metadata": {
  "kernelspec": {
   "display_name": "Python (elastic-searchers)",
   "language": "python",
   "metadata": {
    "debugger": true
   },
   "name": "elastic-searchers",
   "resource_dir": "/projects/05f9739e-2d87-475f-8959-182c2b9b5192/.local/share/jupyter/kernels/elastic-searchers"
  },
  "language_info": {
   "codemirror_mode": {
    "name": "ipython",
    "version": 3
   },
   "file_extension": ".py",
   "mimetype": "text/x-python",
   "name": "python",
   "nbconvert_exporter": "python",
   "pygments_lexer": "ipython3",
   "version": "3.9.12"
  }
 },
 "nbformat": 4,
 "nbformat_minor": 4
}